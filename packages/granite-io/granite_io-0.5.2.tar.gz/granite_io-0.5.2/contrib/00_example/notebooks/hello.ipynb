{
 "cells": [
  {
   "cell_type": "markdown",
   "id": "b97f9209-37c0-4322-b32a-6181ea110103",
   "metadata": {},
   "source": [
    "# Placeholder example of a notebook which CI will try to run successfully"
   ]
  },
  {
   "cell_type": "code",
   "execution_count": null,
   "id": "a979e1a9-17f7-4375-9560-6c12a0f30593",
   "metadata": {},
   "outputs": [],
   "source": [
    "print(\"Hello today!\")"
   ]
  }
 ],
 "metadata": {
  "kernelspec": {
   "display_name": "Python 3 (ipykernel)",
   "language": "python",
   "name": "python3"
  },
  "language_info": {
   "codemirror_mode": {
    "name": "ipython",
    "version": 3
   },
   "file_extension": ".py",
   "mimetype": "text/x-python",
   "name": "python",
   "nbconvert_exporter": "python",
   "pygments_lexer": "ipython3",
   "version": "3.11.8"
  }
 },
 "nbformat": 4,
 "nbformat_minor": 5
}
