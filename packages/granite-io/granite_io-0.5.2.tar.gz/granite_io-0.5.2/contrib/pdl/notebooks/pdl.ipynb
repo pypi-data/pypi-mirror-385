{
 "cells": [
  {
   "cell_type": "code",
   "execution_count": null,
   "metadata": {},
   "outputs": [],
   "source": [
    "from granite_io_pdl.pdl_io import PdlInputOutputProcessor\n",
    "from granite_io.io.base import ChatCompletionInputs"
   ]
  },
  {
   "cell_type": "code",
   "execution_count": null,
   "metadata": {},
   "outputs": [],
   "source": [
    "pdl_processor = \"\"\"\n",
    "function:\n",
    "  inputs: object\n",
    "return:\n",
    "  lastOf:\n",
    "  - processor:\n",
    "      model: \"granite3.3:2b\"\n",
    "      backend: openai\n",
    "    input: ${ inputs.messages }\n",
    "    modelResponse: results\n",
    "  - ${ results }\n",
    "\"\"\"\n",
    "processor = PdlInputOutputProcessor(pdl=pdl_processor)"
   ]
  },
  {
   "cell_type": "code",
   "execution_count": null,
   "metadata": {},
   "outputs": [],
   "source": [
    "completion_inputs = ChatCompletionInputs(\n",
    "    messages=[\n",
    "        {\n",
    "            \"role\": \"user\",\n",
    "            \"content\": \"How to write a Rust program that reverse a list?\",\n",
    "        }\n",
    "    ],\n",
    ")\n",
    "completion_inputs"
   ]
  },
  {
   "cell_type": "code",
   "execution_count": null,
   "metadata": {},
   "outputs": [],
   "source": [
    "results = processor.create_chat_completion(completion_inputs)\n",
    "for r in results.results:\n",
    "    print(r.next_message.content)"
   ]
  }
 ],
 "metadata": {
  "kernelspec": {
   "display_name": "granite-io-3.11",
   "language": "python",
   "name": "python3"
  },
  "language_info": {
   "codemirror_mode": {
    "name": "ipython",
    "version": 3
   },
   "file_extension": ".py",
   "mimetype": "text/x-python",
   "name": "python",
   "nbconvert_exporter": "python",
   "pygments_lexer": "ipython3",
   "version": "3.11.4"
  }
 },
 "nbformat": 4,
 "nbformat_minor": 4
}
