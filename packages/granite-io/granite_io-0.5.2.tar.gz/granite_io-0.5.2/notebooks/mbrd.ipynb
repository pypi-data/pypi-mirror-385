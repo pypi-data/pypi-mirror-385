{
 "cells": [
  {
   "cell_type": "code",
   "execution_count": null,
   "id": "2d7e779d-22e2-4f3a-a81d-f7a2d982fe6b",
   "metadata": {},
   "outputs": [],
   "source": [
    "from granite_io import make_backend\n",
    "from granite_io.io import make_io_processor\n",
    "from granite_io.io.base import ChatCompletionInputs\n",
    "from granite_io.io.voting import MBRDMajorityVotingProcessor"
   ]
  },
  {
   "cell_type": "code",
   "execution_count": null,
   "id": "38102752-c4ff-4aef-8b35-9171638572d6",
   "metadata": {},
   "outputs": [],
   "source": [
    "# Connect to a backend running on localhost.\n",
    "port = 11434\n",
    "url = f\"http://localhost:{port}/v1\"\n",
    "model_name = \"granite3.3:8b\"\n",
    "backend = make_backend(\n",
    "    \"openai\",\n",
    "    {\n",
    "        \"model_name\": model_name,\n",
    "        \"openai_base_url\": url,\n",
    "    },\n",
    ")"
   ]
  },
  {
   "cell_type": "code",
   "execution_count": null,
   "id": "ea6bbac9-cc4f-4abb-8ee0-276ddeec571b",
   "metadata": {},
   "outputs": [],
   "source": [
    "# Ask a question with an integral answer\n",
    "# question = \"If 4 daps = 7 yaps, and 5 yaps = 3 baps, how many daps equal 42 baps?\"\n",
    "#             # gt: 40\n",
    "# question = \"How many ways are there to put 5 balls in 2 boxes if the balls are not\n",
    "#             distinguishable and neither are the boxes?\" # gt: 3\n",
    "question = (\n",
    "    \"Paul and Jesse each choose a number at random from the first six primes. \"\n",
    "    \"What is the probability that the sum of the numbers they choose is even?\"\n",
    "    # gt: \\frac{13}{18}\n",
    ")\n",
    "completion_inputs = ChatCompletionInputs(\n",
    "    messages=[\n",
    "        {\n",
    "            \"role\": \"user\",\n",
    "            \"content\": f\"{question}\\nPlease reason step by step, and put your final \"\n",
    "            \"answer within \\\\boxed{{}}\",\n",
    "        }\n",
    "    ],\n",
    "    thinking=True,\n",
    "    generate_inputs={\"n\": 4, \"temperature\": 1.0, \"max_tokens\": 2048},\n",
    ")\n",
    "completion_inputs"
   ]
  },
  {
   "cell_type": "code",
   "execution_count": null,
   "id": "2a041363-e236-417b-89de-d634e30f86a8",
   "metadata": {},
   "outputs": [],
   "source": [
    "# Run the question through the base model\n",
    "base_processor = make_io_processor(\"Granite 3.3\", backend=backend)\n",
    "results = base_processor.create_chat_completion(completion_inputs)\n",
    "print(\"*** Output from base model ***\\n\")\n",
    "print(results.results[0].next_message.content)"
   ]
  },
  {
   "cell_type": "code",
   "execution_count": null,
   "id": "54efcf12-bde4-4457-9ed9-281d4c40d411",
   "metadata": {},
   "outputs": [],
   "source": [
    "# Wrap the base model's I/O processor in an MBRD I/O processor.\n",
    "voting_processor = MBRDMajorityVotingProcessor(base_processor)\n",
    "results = voting_processor.create_chat_completion(\n",
    "    completion_inputs.with_addl_generate_params({\"n\": 10})\n",
    ")\n",
    "print(\"*** Top 1 output from base model selected using MBRD ***\\n\")\n",
    "print(results.results[0].next_message.content)\n",
    "# What's the actual answer?\n",
    "print(\"---------\\nThe actual answer is: \\\\frac{{13}}{{18}}\")"
   ]
  },
  {
   "cell_type": "code",
   "execution_count": null,
   "id": "006d7376-a3a9-44d0-b3e7-10a4d610ae47",
   "metadata": {},
   "outputs": [],
   "source": []
  }
 ],
 "metadata": {
  "kernelspec": {
   "display_name": "Python 3",
   "language": "python",
   "name": "python3"
  },
  "language_info": {
   "codemirror_mode": {
    "name": "ipython",
    "version": 3
   },
   "file_extension": ".py",
   "mimetype": "text/x-python",
   "name": "python",
   "nbconvert_exporter": "python",
   "pygments_lexer": "ipython3",
   "version": "3.11.13"
  }
 },
 "nbformat": 4,
 "nbformat_minor": 5
}
