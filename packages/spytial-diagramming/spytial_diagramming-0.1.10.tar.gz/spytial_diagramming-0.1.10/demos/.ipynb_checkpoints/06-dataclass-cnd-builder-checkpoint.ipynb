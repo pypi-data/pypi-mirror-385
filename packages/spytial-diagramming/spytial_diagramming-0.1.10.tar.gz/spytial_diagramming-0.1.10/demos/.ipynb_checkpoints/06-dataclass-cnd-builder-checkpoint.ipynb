{
 "cells": [
  {
   "cell_type": "markdown",
   "id": "4e9ebc02",
   "metadata": {},
   "source": [
    "# Dataclass Builder Demo\n",
    "\n",
    "Interactive visual dataclass construction with sPyTial and CnD-core."
   ]
  },
  {
   "cell_type": "code",
   "execution_count": null,
   "id": "5e5d17c7",
   "metadata": {},
   "outputs": [],
   "source": [
    "from dataclasses import dataclass\n",
    "import spytial\n",
    "from spytial import attribute"
   ]
  },
  {
   "cell_type": "markdown",
   "id": "6f713673",
   "metadata": {},
   "source": [
    "This demo shows how to create interactive visual builders for Python dataclasses using sPyTial. \n",
    "\n",
    "Features:\n",
    "- Visual construction of dataclass instances\n",
    "- Real-time updates via Export button\n",
    "- Support for spatial annotations\n",
    "- Works with any dataclass structure"
   ]
  },
  {
   "cell_type": "code",
   "execution_count": null,
   "id": "e1f55a3c",
   "metadata": {},
   "outputs": [],
   "source": [
    "@dataclass\n",
    "@attribute(field='value')\n",
    "class TreeNode:\n",
    "    value: int = 0\n",
    "    left: 'TreeNode' = None\n",
    "    right: 'TreeNode' = None"
   ]
  },
  {
   "cell_type": "code",
   "execution_count": null,
   "id": "d3aaa56b",
   "metadata": {},
   "outputs": [],
   "source": [
    "tree_widget = spytial.dataclass_builder(TreeNode)\n",
    "tree_widget"
   ]
  },
  {
   "cell_type": "code",
   "execution_count": null,
   "id": "9d8eccb6",
   "metadata": {},
   "outputs": [],
   "source": [
    "# The widget respects spatial annotations from decorators\n",
    "tree = tree_widget.value\n",
    "print(f\"Built tree: {tree}\")\n",
    "if tree:\n",
    "    print(f\"Root value: {tree.value}\")\n",
    "    print(f\"Has left child: {tree.left is not None}\")\n",
    "    print(f\"Has right child: {tree.right is not None}\")"
   ]
  }
 ],
 "metadata": {
  "kernelspec": {
   "display_name": "z3env",
   "language": "python",
   "name": "python3"
  },
  "language_info": {
   "codemirror_mode": {
    "name": "ipython",
    "version": 3
   },
   "file_extension": ".py",
   "mimetype": "text/x-python",
   "name": "python",
   "nbconvert_exporter": "python",
   "pygments_lexer": "ipython3",
   "version": "3.12.10"
  }
 },
 "nbformat": 4,
 "nbformat_minor": 5
}
