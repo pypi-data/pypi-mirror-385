{
 "cells": [
  {
   "cell_type": "markdown",
   "metadata": {},
   "source": [
    "# Few-Shot Prompts\n",
    "\n",
    "This tutorial shows how to build few-shot prompts using dynamic format specs and list interpolation.\n",
    "\n",
    "Few-shot prompts provide examples to guide model behavior. With t-prompts, you can:\n",
    "- Generate keys programmatically (e.g., `example_0`, `example_1`)\n",
    "- Interpolate lists of examples with custom separators\n",
    "- Navigate and inspect the structured examples"
   ]
  },
  {
   "cell_type": "code",
   "execution_count": null,
   "metadata": {},
   "outputs": [],
   "source": [
    "from t_prompts import dedent, prompt"
   ]
  },
  {
   "cell_type": "markdown",
   "metadata": {},
   "source": [
    "## Dynamic Format Specs\n",
    "\n",
    "Format specs can contain interpolated expressions just like f-strings. This lets you create keys programmatically."
   ]
  },
  {
   "cell_type": "code",
   "execution_count": null,
   "metadata": {},
   "outputs": [],
   "source": [
    "# Use interpolated values in format specs to create dynamic keys\n",
    "task_type = \"translation\"\n",
    "field_name = \"user_input\"\n",
    "user_message = \"Translate this to French\"\n",
    "\n",
    "# The format spec {task_type}_{field_name} evaluates to \"translation_user_input\"\n",
    "p = prompt(t\"{user_message: {task_type}_{field_name} }\")\n",
    "\n",
    "print(f\"Rendered text: {str(p)}\")\n",
    "print(f\"Generated key: {list(p.keys())[0]}\")\n",
    "print(f\"Value: {p['translation_user_input']}\")"
   ]
  },
  {
   "cell_type": "markdown",
   "metadata": {},
   "source": [
    "## Creating Numbered Example Keys\n",
    "\n",
    "Dynamic format specs are perfect for creating numbered examples like `example_0`, `example_1`, etc."
   ]
  },
  {
   "cell_type": "code",
   "execution_count": null,
   "metadata": {},
   "outputs": [],
   "source": [
    "# Sample sentences for examples\n",
    "sentences = [\n",
    "    \"The cat sat on the mat.\",\n",
    "    \"Python is a programming language.\",\n",
    "    \"Machine learning is fascinating.\"\n",
    "]\n",
    "\n",
    "# Create prompts with numbered keys: example_0, example_1, example_2\n",
    "example_prompts = []\n",
    "for i, sentence in enumerate(sentences):\n",
    "    # Convert i to string since only strings can be interpolated\n",
    "    p = prompt(t\"{sentence: example_{str(i)} }\")\n",
    "    example_prompts.append(p)\n",
    "    print(f\"Created key: {list(p.keys())[0]}\")\n",
    "\n",
    "# Verify we created 3 prompts\n",
    "print(f\"\\nTotal examples: {len(example_prompts)}\")"
   ]
  },
  {
   "cell_type": "markdown",
   "metadata": {},
   "source": [
    "## List Interpolation with Default Separator\n",
    "\n",
    "You can interpolate a list of `StructuredPrompt` objects. By default, they're joined with newlines."
   ]
  },
  {
   "cell_type": "code",
   "execution_count": null,
   "metadata": {},
   "outputs": [],
   "source": [
    "# Interpolate the list of example prompts\n",
    "few_shot = prompt(t\"Examples:\\n{example_prompts:examples}\")\n",
    "\n",
    "print(\"Rendered output (default newline separator):\")\n",
    "print(str(few_shot))\n",
    "print(f\"\\nThe 'examples' key contains {len(few_shot['examples'])} items\")"
   ]
  },
  {
   "cell_type": "markdown",
   "metadata": {},
   "source": [
    "## Custom Separators\n",
    "\n",
    "Use `sep=<value>` in the format spec to specify a custom separator between list items."
   ]
  },
  {
   "cell_type": "code",
   "execution_count": null,
   "metadata": {},
   "outputs": [],
   "source": [
    "# Create fresh examples for different separator tests\n",
    "examples_for_pipe = [\n",
    "    prompt(t\"{sentences[i]: ex_{str(i)} }\")\n",
    "    for i in range(len(sentences))\n",
    "]\n",
    "\n",
    "examples_for_comma = [\n",
    "    prompt(t\"{sentences[i]: ex_{str(i)} }\")\n",
    "    for i in range(len(sentences))\n",
    "]\n",
    "\n",
    "# Pipe separator\n",
    "with_pipes = prompt(t\"Examples: {examples_for_pipe:examples:sep= | }\")\n",
    "print(\"With ' | ' separator:\")\n",
    "print(str(with_pipes))\n",
    "\n",
    "# Comma separator\n",
    "with_commas = prompt(t\"Examples: {examples_for_comma:examples:sep=, }\")\n",
    "print(\"\\nWith ', ' separator:\")\n",
    "print(str(with_commas))"
   ]
  },
  {
   "cell_type": "markdown",
   "metadata": {},
   "source": [
    "## Navigating List Items\n",
    "\n",
    "You can navigate into list interpolations and access individual items by index."
   ]
  },
  {
   "cell_type": "code",
   "execution_count": null,
   "metadata": {},
   "outputs": [],
   "source": [
    "# Access the list node\n",
    "examples_list = few_shot['examples']\n",
    "print(f\"List contains {len(examples_list)} items\")\n",
    "\n",
    "# Access the first item in the list\n",
    "first_item = examples_list[0]\n",
    "print(f\"\\nFirst item type: {type(first_item).__name__}\")\n",
    "print(f\"First item key: {list(first_item.keys())[0]}\")\n",
    "print(f\"First item value: {first_item['example_0']}\")\n",
    "\n",
    "# Access the second item\n",
    "second_item = examples_list[1]\n",
    "print(f\"\\nSecond item key: {list(second_item.keys())[0]}\")\n",
    "print(f\"Second item value: {second_item['example_1']}\")"
   ]
  },
  {
   "cell_type": "markdown",
   "metadata": {},
   "source": [
    "## Complete Few-Shot Prompt Example\n",
    "\n",
    "Let's build a realistic few-shot prompt for a question-answering task."
   ]
  },
  {
   "cell_type": "code",
   "execution_count": null,
   "metadata": {},
   "outputs": [],
   "source": [
    "# Question-answer pairs for few-shot examples\n",
    "qa_pairs = [\n",
    "    (\"What is 2+2?\", \"4\"),\n",
    "    (\"What is the capital of France?\", \"Paris\"),\n",
    "    (\"What is Python?\", \"A programming language\"),\n",
    "]\n",
    "\n",
    "# Build structured examples with Q: and A: format\n",
    "structured_examples = []\n",
    "for i, (question, answer) in enumerate(qa_pairs):\n",
    "    # Each example has two interpolations: question and answer\n",
    "    ex = prompt(t\"Q: {question: q_{str(i)} }\\nA: {answer: a_{str(i)} }\")\n",
    "    structured_examples.append(ex)\n",
    "\n",
    "# Build the complete few-shot prompt\n",
    "instruction = \"Answer the following question based on these examples:\"\n",
    "new_question = \"What is 5+3?\"\n",
    "\n",
    "full_prompt = prompt(\n",
    "    t\"{instruction:instruction}\\n\\n{structured_examples:examples:sep=\\n\\n}\\n\\nQ: {new_question:new_q}\\nA:\"\n",
    ")\n",
    "\n",
    "print(\"Complete few-shot prompt:\")\n",
    "print(str(full_prompt))\n",
    "\n",
    "# Inspect the structure\n",
    "print(\"\\n--- Structure ---\")\n",
    "print(f\"Top-level keys: {list(full_prompt.keys())}\")\n",
    "print(f\"Number of examples: {len(full_prompt['examples'])}\")\n",
    "print(f\"First example keys: {list(full_prompt['examples'][0].keys())}\")"
   ]
  },
  {
   "cell_type": "markdown",
   "metadata": {},
   "source": [
    "## Advanced: Mixing Static and Dynamic Keys\n",
    "\n",
    "You can combine static keys with dynamically generated keys in the same prompt."
   ]
  },
  {
   "cell_type": "code",
   "execution_count": null,
   "metadata": {},
   "outputs": [],
   "source": [
    "# System prompt with static key\n",
    "system_msg = \"You are a helpful math tutor.\"\n",
    "\n",
    "# Dynamic examples\n",
    "math_examples = [\n",
    "    (\"10 + 15\", \"25\"),\n",
    "    (\"7 * 8\", \"56\"),\n",
    "]\n",
    "\n",
    "example_list = [\n",
    "    prompt(t\"Problem: {prob: prob_{str(i)} } = {ans: ans_{str(i)} }\")\n",
    "    for i, (prob, ans) in enumerate(math_examples)\n",
    "]\n",
    "\n",
    "# User query with static key\n",
    "user_problem = \"12 * 12\"\n",
    "\n",
    "# Combine everything\n",
    "final_prompt = dedent(t\"\"\"\n",
    "    {system_msg:system}\n",
    "\n",
    "    Here are some examples:\n",
    "    {example_list:examples:sep=\\n}\n",
    "\n",
    "    Now solve:\n",
    "    Problem: {user_problem:user_input} =\n",
    "    \"\"\")\n",
    "\n",
    "print(str(final_prompt))\n",
    "\n",
    "# Show the mixed key structure\n",
    "print(f\"\\nAll top-level keys: {list(final_prompt.keys())}\")\n",
    "print(\"Static keys: system, user_input\")\n",
    "print(f\"Dynamic keys in examples: {list(final_prompt['examples'][0].keys())}\")"
   ]
  },
  {
   "cell_type": "markdown",
   "metadata": {},
   "source": [
    "## Summary\n",
    "\n",
    "You've learned how to:\n",
    "- Use dynamic format specs to generate keys programmatically\n",
    "- Create numbered examples with `{value: key_{str(i)} }`\n",
    "- Interpolate lists of prompts with custom separators\n",
    "- Navigate into list structures to access individual items\n",
    "- Build complete few-shot prompts for real-world tasks\n",
    "\n",
    "This pattern is essential for building flexible, reusable prompt templates where the number and content of examples can vary."
   ]
  }
 ],
 "metadata": {
  "kernelspec": {
   "display_name": "Python 3",
   "language": "python",
   "name": "python3"
  },
  "language_info": {
   "codemirror_mode": {
    "name": "ipython",
    "version": 3
   },
   "file_extension": ".py",
   "mimetype": "text/x-python",
   "name": "python",
   "nbconvert_exporter": "python",
   "pygments_lexer": "ipython3",
   "version": "3.14.0"
  }
 },
 "nbformat": 4,
 "nbformat_minor": 2
}
