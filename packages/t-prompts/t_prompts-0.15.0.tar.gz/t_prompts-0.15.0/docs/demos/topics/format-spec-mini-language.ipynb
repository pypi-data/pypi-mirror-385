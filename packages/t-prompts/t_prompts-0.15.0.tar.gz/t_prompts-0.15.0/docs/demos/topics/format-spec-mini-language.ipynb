{
 "cells": [
  {
   "cell_type": "markdown",
   "metadata": {},
   "source": [
    "# Format Spec Mini-Language\n",
    "\n",
    "This tutorial provides a deep dive into the format spec syntax for t-prompts.\n",
    "\n",
    "The format spec follows the pattern:\n",
    "```\n",
    "{expression:key:render_hints}\n",
    "```\n",
    "\n",
    "Where:\n",
    "- **expression**: The Python expression to interpolate\n",
    "- **key**: The key for accessing this interpolation (defaults to expression name)\n",
    "- **render_hints**: Optional metadata for custom rendering (everything after the second `:`)"
   ]
  },
  {
   "cell_type": "code",
   "execution_count": null,
   "metadata": {},
   "outputs": [],
   "source": [
    "from t_prompts import prompt"
   ]
  },
  {
   "cell_type": "markdown",
   "metadata": {},
   "source": [
    "## Basic Format Spec: Key Only\n",
    "\n",
    "The simplest format spec just specifies a key."
   ]
  },
  {
   "cell_type": "code",
   "execution_count": null,
   "metadata": {},
   "outputs": [],
   "source": [
    "# No format spec: key defaults to the expression\n",
    "user_query = \"What is Python?\"\n",
    "p1 = prompt(t\"{user_query}\")\n",
    "print(f\"No format spec - Key: {list(p1.keys())[0]}\")\n",
    "print(f\"Has 'user_query' key: {'user_query' in p1}\")\n",
    "\n",
    "# With custom key\n",
    "p2 = prompt(t\"{user_query:query}\")\n",
    "print(f\"\\nWith key - Key: {list(p2.keys())[0]}\")\n",
    "print(f\"Has 'query' key: {'query' in p2}\")\n",
    "print(f\"Has 'user_query' key: {'user_query' in p2}\")"
   ]
  },
  {
   "cell_type": "markdown",
   "metadata": {},
   "source": [
    "## Format Spec with Render Hints\n",
    "\n",
    "Add render hints after the key to provide metadata for custom renderers."
   ]
  },
  {
   "cell_type": "code",
   "execution_count": null,
   "metadata": {},
   "outputs": [],
   "source": [
    "# With key and render hints\n",
    "user_query = \"What is Python?\"\n",
    "p3 = prompt(t\"{user_query:query:format=json}\")\n",
    "\n",
    "print(f\"Key: {list(p3.keys())[0]}\")\n",
    "print(f\"Render hints: {p3['query'].render_hints}\")\n",
    "print(f\"Value: {p3['query']}\")"
   ]
  },
  {
   "cell_type": "markdown",
   "metadata": {},
   "source": [
    "## Render Hints Are Strings\n",
    "\n",
    "Render hints are stored as strings and you can parse them however you like."
   ]
  },
  {
   "cell_type": "code",
   "execution_count": null,
   "metadata": {},
   "outputs": [],
   "source": [
    "# Multiple render hints separated by commas\n",
    "data = '{\"name\": \"Alice\"}'\n",
    "p = prompt(t\"{data:user_data:format=json,indent=2}\")\n",
    "\n",
    "node = p['user_data']\n",
    "print(f\"Key: {node.key}\")\n",
    "print(f\"Render hints (raw): {node.render_hints!r}\")\n",
    "print(f\"Value: {node}\")"
   ]
  },
  {
   "cell_type": "markdown",
   "metadata": {},
   "source": [
    "## Parsing Render Hints\n",
    "\n",
    "You can implement custom parsers for render hints based on your needs."
   ]
  },
  {
   "cell_type": "code",
   "execution_count": null,
   "metadata": {},
   "outputs": [],
   "source": [
    "def parse_hints(hints_str):\n",
    "    \"\"\"Parse render hints as comma-separated key=value pairs.\"\"\"\n",
    "    if not hints_str:\n",
    "        return {}\n",
    "    result = {}\n",
    "    for pair in hints_str.split(','):\n",
    "        if '=' in pair:\n",
    "            key, value = pair.split('=', 1)\n",
    "            result[key.strip()] = value.strip()\n",
    "        else:\n",
    "            # Handle flags without values\n",
    "            result[pair.strip()] = True\n",
    "    return result\n",
    "\n",
    "# Example with multiple hints\n",
    "content = \"<html><body>Hello</body></html>\"\n",
    "p = prompt(t\"{content:html:format=xml,indent=4,preserve_whitespace=true}\")\n",
    "\n",
    "hints = parse_hints(p['html'].render_hints)\n",
    "print(\"Parsed hints:\")\n",
    "for key, value in hints.items():\n",
    "    print(f\"  {key}: {value}\")"
   ]
  },
  {
   "cell_type": "markdown",
   "metadata": {},
   "source": [
    "## Built-in Render Hints: sep\n",
    "\n",
    "The `sep=<value>` render hint is recognized by the default renderer for list interpolations."
   ]
  },
  {
   "cell_type": "code",
   "execution_count": null,
   "metadata": {},
   "outputs": [],
   "source": [
    "# Create list items\n",
    "item_names = [\"apple\", \"banana\", \"cherry\"]\n",
    "items = [\n",
    "    prompt(t\"{item_names[i]:item}\")\n",
    "    for i in range(len(item_names))\n",
    "]\n",
    "\n",
    "# Default separator (newline)\n",
    "p1 = prompt(t\"{items:items}\")\n",
    "print(\"Default separator (newline):\")\n",
    "print(str(p1))\n",
    "\n",
    "# Custom separator\n",
    "items2 = [\n",
    "    prompt(t\"{item_names[i]:item}\")\n",
    "    for i in range(len(item_names))\n",
    "]\n",
    "p2 = prompt(t\"{items2:items:sep=, }\")\n",
    "print(\"\\nCustom separator ', ':\")\n",
    "print(str(p2))"
   ]
  },
  {
   "cell_type": "markdown",
   "metadata": {},
   "source": [
    "## Built-in Render Hints: xml\n",
    "\n",
    "The `xml=<tag>` render hint wraps content in XML tags."
   ]
  },
  {
   "cell_type": "code",
   "execution_count": null,
   "metadata": {},
   "outputs": [],
   "source": [
    "content = \"This is my reasoning process.\"\n",
    "p = prompt(t\"{content:reasoning:xml=thinking}\")\n",
    "\n",
    "print(\"With xml=thinking hint:\")\n",
    "print(str(p))\n",
    "print(f\"\\nRender hints: {p['reasoning'].render_hints}\")"
   ]
  },
  {
   "cell_type": "markdown",
   "metadata": {},
   "source": [
    "## Built-in Render Hints: header\n",
    "\n",
    "The `header=<text>` or `header` render hint adds Markdown headers."
   ]
  },
  {
   "cell_type": "code",
   "execution_count": null,
   "metadata": {},
   "outputs": [],
   "source": [
    "task = \"Translate the following text\"\n",
    "\n",
    "# Header with explicit text\n",
    "p1 = prompt(t\"{task:t:header=Task Description}\")\n",
    "print(\"With header=Task Description:\")\n",
    "print(str(p1))\n",
    "\n",
    "# Header using key as text\n",
    "p2 = prompt(t\"{task:Instructions:header}\")\n",
    "print(\"\\nWith header (using key):\")\n",
    "print(str(p2))"
   ]
  },
  {
   "cell_type": "markdown",
   "metadata": {},
   "source": [
    "## Combining Multiple Render Hints\n",
    "\n",
    "You can combine multiple built-in hints together."
   ]
  },
  {
   "cell_type": "code",
   "execution_count": null,
   "metadata": {},
   "outputs": [],
   "source": [
    "reasoning = \"First, I'll analyze. Then, I'll conclude.\"\n",
    "p = prompt(t\"{reasoning:r:header=Analysis:xml=thinking}\")\n",
    "\n",
    "print(\"Combined header and xml hints:\")\n",
    "print(str(p))\n",
    "print(f\"\\nRender hints: {p['r'].render_hints}\")"
   ]
  },
  {
   "cell_type": "markdown",
   "metadata": {},
   "source": [
    "## Dynamic Format Specs\n",
    "\n",
    "Format specs can contain interpolated values to generate keys programmatically."
   ]
  },
  {
   "cell_type": "code",
   "execution_count": null,
   "metadata": {},
   "outputs": [],
   "source": [
    "# Generate keys programmatically\n",
    "prefix = \"config\"\n",
    "section = \"database\"\n",
    "value = \"postgresql://localhost\"\n",
    "\n",
    "p = prompt(t\"{value: {prefix}_{section} }\")\n",
    "print(f\"Generated key: {list(p.keys())[0]}\")\n",
    "print(f\"Value: {p['config_database']}\")"
   ]
  },
  {
   "cell_type": "markdown",
   "metadata": {},
   "source": [
    "## Dynamic Keys with Render Hints\n",
    "\n",
    "Combine dynamic keys with render hints for maximum flexibility."
   ]
  },
  {
   "cell_type": "code",
   "execution_count": null,
   "metadata": {},
   "outputs": [],
   "source": [
    "# Build a prompt with dynamic keys and custom render hints\n",
    "section = \"user_profile\"\n",
    "field = \"bio\"\n",
    "content = \"Software engineer interested in AI.\"\n",
    "\n",
    "p = prompt(t\"{content: {section}_{field} :max_length=100,truncate=true}\")\n",
    "\n",
    "node = p['user_profile_bio']\n",
    "print(f\"Key: {node.key}\")\n",
    "print(f\"Render hints: {node.render_hints}\")\n",
    "print(f\"Value: {node}\")\n",
    "\n",
    "# Parse the hints\n",
    "hints = parse_hints(node.render_hints)\n",
    "print(\"\\nParsed hints:\")\n",
    "for k, v in hints.items():\n",
    "    print(f\"  {k}: {v}\")"
   ]
  },
  {
   "cell_type": "markdown",
   "metadata": {},
   "source": [
    "## Numbered Keys for Lists\n",
    "\n",
    "Use dynamic keys to create numbered example keys programmatically."
   ]
  },
  {
   "cell_type": "code",
   "execution_count": null,
   "metadata": {},
   "outputs": [],
   "source": [
    "# Create numbered keys\n",
    "examples = [\"First example\", \"Second example\", \"Third example\"]\n",
    "\n",
    "example_prompts = [\n",
    "    prompt(t\"{examples[i]: example_{str(i)} }\")\n",
    "    for i in range(len(examples))\n",
    "]\n",
    "\n",
    "# List all the keys\n",
    "print(\"Generated keys:\")\n",
    "for ep in example_prompts:\n",
    "    print(f\"  {list(ep.keys())[0]}\")"
   ]
  },
  {
   "cell_type": "markdown",
   "metadata": {},
   "source": [
    "## Accessing Render Hints Programmatically\n",
    "\n",
    "Build custom tools that leverage render hints for specialized behavior."
   ]
  },
  {
   "cell_type": "code",
   "execution_count": null,
   "metadata": {},
   "outputs": [],
   "source": [
    "def apply_truncation(value, max_length):\n",
    "    \"\"\"Truncate a value if it exceeds max_length.\"\"\"\n",
    "    if len(value) <= max_length:\n",
    "        return value\n",
    "    return value[:max_length-3] + \"...\"\n",
    "\n",
    "def custom_renderer(p):\n",
    "    \"\"\"Custom renderer that respects truncate hints.\"\"\"\n",
    "    parts = []\n",
    "    for key in p.keys():\n",
    "        node = p[key]\n",
    "        value = str(node)\n",
    "\n",
    "        # Check for truncate hint\n",
    "        if node.render_hints:\n",
    "            hints = parse_hints(node.render_hints)\n",
    "            if 'truncate' in hints and 'max_length' in hints:\n",
    "                max_len = int(hints['max_length'])\n",
    "                value = apply_truncation(value, max_len)\n",
    "\n",
    "        parts.append(value)\n",
    "\n",
    "    return \" \".join(parts)\n",
    "\n",
    "# Example usage\n",
    "long_text = \"This is a very long piece of text that should be truncated according to the max_length hint.\"\n",
    "short_text = \"Short.\"\n",
    "\n",
    "p = prompt(t\"{long_text:long:max_length=30,truncate=true} {short_text:short}\")\n",
    "\n",
    "print(\"Default rendering:\")\n",
    "print(str(p))\n",
    "print(\"\\nCustom rendering with truncation:\")\n",
    "print(custom_renderer(p))"
   ]
  },
  {
   "cell_type": "markdown",
   "metadata": {},
   "source": [
    "## Complex Example: Structured Configuration\n",
    "\n",
    "Use format specs to build structured, self-documenting configurations."
   ]
  },
  {
   "cell_type": "code",
   "execution_count": null,
   "metadata": {},
   "outputs": [],
   "source": [
    "# Configuration values\n",
    "app_name = \"MyApp\"\n",
    "db_host = \"localhost\"\n",
    "db_port = \"5432\"\n",
    "api_key = \"sk-abc123def456\"\n",
    "\n",
    "# Build configuration with metadata\n",
    "config = prompt(t\"\"\"\n",
    "Application: {app_name:app_name:type=string,required=true}\n",
    "Database Host: {db_host:db_host:type=string,default=localhost}\n",
    "Database Port: {db_port:db_port:type=int,default=5432}\n",
    "API Key: {api_key:api_key:type=secret,mask=true}\n",
    "\"\"\")\n",
    "\n",
    "# Display configuration\n",
    "print(\"Configuration:\")\n",
    "print(str(config))\n",
    "\n",
    "# Inspect metadata\n",
    "print(\"\\nMetadata for each field:\")\n",
    "for key in config.keys():\n",
    "    node = config[key]\n",
    "    hints = parse_hints(node.render_hints) if node.render_hints else {}\n",
    "    print(f\"  {key}: {hints}\")"
   ]
  },
  {
   "cell_type": "markdown",
   "metadata": {},
   "source": [
    "## Summary\n",
    "\n",
    "The format spec mini-language provides powerful control over prompt structure:\n",
    "\n",
    "✅ **Key specification** - Custom keys for accessing interpolations  \n",
    "✅ **Render hints** - Metadata for custom rendering behavior  \n",
    "✅ **Built-in hints** - `sep=`, `xml=`, `header=` recognized by default renderer  \n",
    "✅ **Custom hints** - Parse render hints however you need  \n",
    "✅ **Dynamic keys** - Generate keys programmatically with interpolation  \n",
    "✅ **Flexibility** - Combine all features for complex use cases  \n",
    "\n",
    "**Pattern:**\n",
    "```python\n",
    "{expression:key:render_hints}\n",
    "```\n",
    "\n",
    "**Examples:**\n",
    "- `{value:key}` - Basic key\n",
    "- `{value:key:xml=tag}` - XML wrapper\n",
    "- `{value:key:header=Title}` - Markdown header\n",
    "- `{value:key:custom=hint,other=hint}` - Custom hints\n",
    "- `{value:{prefix}_{suffix}}` - Dynamic key"
   ]
  }
 ],
 "metadata": {
  "kernelspec": {
   "display_name": "Python 3",
   "language": "python",
   "name": "python3"
  },
  "language_info": {
   "codemirror_mode": {
    "name": "ipython",
    "version": 3
   },
   "file_extension": ".py",
   "mimetype": "text/x-python",
   "name": "python",
   "nbconvert_exporter": "python",
   "pygments_lexer": "ipython3",
   "version": "3.14.0"
  }
 },
 "nbformat": 4,
 "nbformat_minor": 2
}
