{
 "cells": [
  {
   "cell_type": "markdown",
   "metadata": {},
   "source": [
    "# Intermediate Tutorial: Composition and Navigation\n",
    "\n",
    "This tutorial covers composing prompts from smaller pieces, navigating nested structures, and exporting data."
   ]
  },
  {
   "cell_type": "code",
   "execution_count": null,
   "metadata": {},
   "outputs": [],
   "source": [
    "from t_prompts import prompt"
   ]
  },
  {
   "cell_type": "markdown",
   "metadata": {},
   "source": [
    "## Nested Prompts\n",
    "\n",
    "You can build larger prompts by composing smaller `StructuredPrompt` objects together."
   ]
  },
  {
   "cell_type": "code",
   "execution_count": null,
   "metadata": {},
   "outputs": [],
   "source": [
    "# Build prompts from smaller pieces\n",
    "system_msg = \"You are a helpful assistant.\"\n",
    "user_query = \"What is Python?\"\n",
    "\n",
    "p_system = prompt(t\"{system_msg:system}\")\n",
    "p_user = prompt(t\"User: {user_query:query}\")\n",
    "\n",
    "# Compose into larger prompt\n",
    "p_full = prompt(t\"{p_system:sys} {p_user:usr}\")\n",
    "\n",
    "# Renders correctly\n",
    "print(str(p_full))"
   ]
  },
  {
   "cell_type": "markdown",
   "metadata": {},
   "source": [
    "## Navigating Nested Structures\n",
    "\n",
    "Access nested interpolations using chained subscript operations."
   ]
  },
  {
   "cell_type": "code",
   "execution_count": null,
   "metadata": {},
   "outputs": [],
   "source": [
    "# Navigate the tree\n",
    "print(f\"System message: {p_full['sys']['system'].value}\")\n",
    "print(f\"User query: {p_full['usr']['query'].value}\")\n",
    "\n",
    "# When accessing a nested prompt node, it returns a StructuredPrompt\n",
    "nested_node = p_full[\"sys\"]\n",
    "print(f\"\\nNested node type: {type(nested_node).__name__}\")\n",
    "print(f\"Has 'system' key: {'system' in nested_node}\")\n",
    "print(f\"Rendered: {str(nested_node)}\")"
   ]
  },
  {
   "cell_type": "markdown",
   "metadata": {},
   "source": [
    "## Conversions: !s, !r, !a\n",
    "\n",
    "t-strings support conversion flags from Python's string formatting."
   ]
  },
  {
   "cell_type": "code",
   "execution_count": null,
   "metadata": {},
   "outputs": [],
   "source": [
    "text = \"Hello\\nWorld\"\n",
    "\n",
    "# !s: str() conversion (default)\n",
    "p_s = prompt(t\"{text!s:s}\")\n",
    "print(f\"!s: {str(p_s)}\")\n",
    "\n",
    "# !r: repr() conversion\n",
    "p_r = prompt(t\"{text!r:r}\")\n",
    "print(f\"!r: {str(p_r)}\")\n",
    "\n",
    "# !a: ascii() conversion\n",
    "emoji = \"Hello 👋\"\n",
    "p_a = prompt(t\"{emoji!a:a}\")\n",
    "print(f\"!a: {str(p_a)}\")\n",
    "\n",
    "# Conversion is preserved in metadata\n",
    "print(f\"\\nConversion for 'r': {p_r['r'].conversion}\")"
   ]
  },
  {
   "cell_type": "markdown",
   "metadata": {},
   "source": [
    "## Mapping Protocol\n",
    "\n",
    "`StructuredPrompt` implements the mapping protocol: `keys()`, `values()`, `items()`, `get()`, etc."
   ]
  },
  {
   "cell_type": "code",
   "execution_count": null,
   "metadata": {},
   "outputs": [],
   "source": [
    "name = \"Alice\"\n",
    "age = \"30\"\n",
    "city = \"NYC\"\n",
    "\n",
    "p = prompt(t\"Name: {name:n}, Age: {age:a}, City: {city:c}\")\n",
    "\n",
    "# Keys\n",
    "print(f\"Keys: {list(p.keys())}\")\n",
    "\n",
    "# Values (returns interpolation nodes)\n",
    "print(\"\\nValues:\")\n",
    "for node in p.values():\n",
    "    print(f\"  {node.key}: {node.value}\")\n",
    "\n",
    "# Items\n",
    "print(\"\\nItems:\")\n",
    "for key, node in p.items():\n",
    "    print(f\"  {key} -> {node.expression} = {node.value}\")\n",
    "\n",
    "# get() with default\n",
    "print(f\"\\nget('n'): {p.get('n').value}\")\n",
    "print(f\"get('missing'): {p.get('missing')}\")"
   ]
  },
  {
   "cell_type": "markdown",
   "metadata": {},
   "source": [
    "## Exporting to JSON\n",
    "\n",
    "Use `toJSON()` to export the prompt structure as JSON."
   ]
  },
  {
   "cell_type": "code",
   "execution_count": null,
   "metadata": {},
   "outputs": [],
   "source": [
    "import json\n",
    "\n",
    "context = \"User is Alice\"\n",
    "instructions = \"Be concise\"\n",
    "\n",
    "p = prompt(t\"Context: {context:ctx}. {instructions:inst}\")\n",
    "\n",
    "# Export to JSON\n",
    "json_data = p.toJSON()\n",
    "print(json.dumps(json_data, indent=2))"
   ]
  },
  {
   "cell_type": "markdown",
   "metadata": {},
   "source": [
    "## Nested JSON Export\n",
    "\n",
    "JSON export works recursively for nested prompts."
   ]
  },
  {
   "cell_type": "code",
   "execution_count": null,
   "metadata": {},
   "outputs": [],
   "source": [
    "# Create nested structure\n",
    "inner = prompt(t\"{context:ctx}\")\n",
    "outer = prompt(t\"Outer: {inner:in}. {instructions:inst}\")\n",
    "\n",
    "# Export nested structure\n",
    "nested_json = outer.toJSON()\n",
    "print(json.dumps(nested_json, indent=2))"
   ]
  },
  {
   "cell_type": "markdown",
   "metadata": {},
   "source": [
    "## Inspecting Prompt Structure\n",
    "\n",
    "You can recursively inspect nested prompt structures."
   ]
  },
  {
   "cell_type": "code",
   "execution_count": null,
   "metadata": {},
   "outputs": [],
   "source": [
    "from t_prompts import StructuredPrompt\n",
    "\n",
    "\n",
    "def inspect_prompt(p, indent=0):\n",
    "    \"\"\"Recursively inspect a structured prompt.\"\"\"\n",
    "    prefix = \"  \" * indent\n",
    "    for key, node in p.items():\n",
    "        if isinstance(node, StructuredPrompt):\n",
    "            # Node is a nested prompt\n",
    "            print(f\"{prefix}{key}: (nested prompt)\")\n",
    "            inspect_prompt(node, indent + 1)\n",
    "        else:\n",
    "            # Node is an interpolation with a string value\n",
    "            print(f'{prefix}{key}: {node.expression} = \"{node.value}\"')\n",
    "\n",
    "\n",
    "inspect_prompt(outer)"
   ]
  },
  {
   "cell_type": "markdown",
   "metadata": {},
   "source": [
    "## Next Steps\n",
    "\n",
    "Continue learning:\n",
    "\n",
    "- **03-ir-visualization.ipynb**: See the widget visualization for IntermediateRepresentation\n",
    "- **topics/few-shot-prompts.ipynb**: Build few-shot prompts with dynamic keys and lists\n",
    "- **topics/source-mapping.ipynb**: Bidirectional text ↔ structure mapping\n",
    "- **topics/dedenting.ipynb**: Write readable multi-line prompts"
   ]
  }
 ],
 "metadata": {
  "kernelspec": {
   "display_name": "Python 3",
   "language": "python",
   "name": "python3"
  },
  "language_info": {
   "codemirror_mode": {
    "name": "ipython",
    "version": 3
   },
   "file_extension": ".py",
   "mimetype": "text/x-python",
   "name": "python",
   "nbconvert_exporter": "python",
   "pygments_lexer": "ipython3",
   "version": "3.14.0"
  }
 },
 "nbformat": 4,
 "nbformat_minor": 4
}
