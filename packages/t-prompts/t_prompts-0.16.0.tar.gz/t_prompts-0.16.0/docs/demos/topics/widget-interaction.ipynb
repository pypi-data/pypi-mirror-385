{
 "cells": [
  {
   "cell_type": "markdown",
   "metadata": {},
   "source": [
    "# Widget Interaction\n",
    "\n",
    "This tutorial demonstrates the interactive widget that visualizes structured prompts. The widget allows you to explore the structure of your prompts and collapse/expand sections to focus on specific parts."
   ]
  },
  {
   "cell_type": "markdown",
   "metadata": {},
   "source": [
    "## Creating a Structured Prompt\n",
    "\n",
    "Let's create a simple structured prompt using t-strings:"
   ]
  },
  {
   "cell_type": "code",
   "execution_count": null,
   "metadata": {},
   "outputs": [],
   "source": [
    "from t_prompts import prompt\n",
    "\n",
    "instructions = \"Always answer politely.\"\n",
    "p = prompt(t\"Obey {instructions:inst}\")\n",
    "\n",
    "# Display the prompt in the widget\n",
    "p"
   ]
  },
  {
   "cell_type": "markdown",
   "metadata": {},
   "source": [
    "## Interacting with the Widget\n",
    "\n",
    "The widget above shows a visual representation of your prompt with semantic coloring:\n",
    "\n",
    "- **Static text** appears in default styling\n",
    "- **Interpolations** are highlighted to show where values are inserted\n",
    "- **Boundaries** mark the edges of different components\n",
    "\n",
    "### Selecting and Collapsing\n",
    "\n",
    "You can interact with the widget to collapse parts of the prompt:\n",
    "\n",
    "1. **Select text**: Click and drag to select one or more chunks of text in the widget\n",
    "2. **Collapse**: Press the **spacebar** to collapse the selected chunks into a `[X chars]` pill\n",
    "3. **Expand**: Double-click on any `[X chars]` pill to expand it back to full text\n",
    "4. **Repeat**: You can select and collapse/expand as many times as needed\n",
    "\n",
    "This is useful when working with large prompts - you can collapse sections you're not currently focused on to reduce visual clutter."
   ]
  },
  {
   "cell_type": "markdown",
   "metadata": {},
   "source": [
    "## A More Complex Example\n",
    "\n",
    "Let's try a more complex prompt with multiple interpolations:"
   ]
  },
  {
   "cell_type": "code",
   "execution_count": null,
   "metadata": {},
   "outputs": [],
   "source": [
    "from t_prompts import dedent\n",
    "\n",
    "system = \"You are a helpful AI assistant.\"\n",
    "context = \"User is Alice, a software engineer.\"\n",
    "task = \"Explain what Python t-strings are and how they differ from f-strings.\"\n",
    "\n",
    "p = dedent(t\"\"\"\n",
    "    System: {system:sys}\n",
    "\n",
    "    Context: {context:ctx}\n",
    "\n",
    "    Task: {task:t}\n",
    "\n",
    "    Please provide a clear and detailed explanation.\n",
    "    \"\"\")\n",
    "\n",
    "p"
   ]
  },
  {
   "cell_type": "markdown",
   "metadata": {},
   "source": [
    "### Try It Out\n",
    "\n",
    "In the widget above:\n",
    "\n",
    "1. Try selecting just the system message and collapsing it\n",
    "2. Select the context and task together, then collapse both\n",
    "3. Double-click to expand them back\n",
    "4. Experiment with different combinations!\n",
    "\n",
    "Notice how the widget maintains the structure of your prompt even when sections are collapsed."
   ]
  },
  {
   "cell_type": "markdown",
   "metadata": {},
   "source": [
    "## Next Steps\n",
    "\n",
    "Now that you understand how to interact with the widget, explore:\n",
    "\n",
    "- **few-shot-prompts.ipynb**: Build prompts with example lists\n",
    "- **source-mapping.ipynb**: Track where text comes from\n",
    "- **advanced-composition.ipynb**: Complex nested prompt structures"
   ]
  }
 ],
 "metadata": {
  "kernelspec": {
   "display_name": "Python 3",
   "language": "python",
   "name": "python3"
  },
  "language_info": {
   "codemirror_mode": {
    "name": "ipython",
    "version": 3
   },
   "file_extension": ".py",
   "mimetype": "text/x-python",
   "name": "python",
   "nbconvert_exporter": "python",
   "pygments_lexer": "ipython3",
   "version": "3.14.0"
  }
 },
 "nbformat": 4,
 "nbformat_minor": 4
}
