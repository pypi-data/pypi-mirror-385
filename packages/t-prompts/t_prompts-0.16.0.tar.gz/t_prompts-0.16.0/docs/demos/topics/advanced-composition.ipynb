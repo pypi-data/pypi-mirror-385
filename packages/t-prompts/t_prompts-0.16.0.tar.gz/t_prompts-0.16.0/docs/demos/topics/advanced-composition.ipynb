{
 "cells": [
  {
   "cell_type": "markdown",
   "metadata": {},
   "source": [
    "# Advanced Composition\n",
    "\n",
    "This tutorial demonstrates advanced patterns for composing complex prompts from modular pieces.\n",
    "\n",
    "Learn how to:\n",
    "- Build reusable prompt libraries\n",
    "- Create deeply nested structures\n",
    "- Compose prompts conditionally\n",
    "- Design flexible prompt templates"
   ]
  },
  {
   "cell_type": "code",
   "execution_count": null,
   "metadata": {},
   "outputs": [],
   "source": [
    "import json\n",
    "\n",
    "from t_prompts import prompt"
   ]
  },
  {
   "cell_type": "markdown",
   "metadata": {},
   "source": [
    "## Building Prompt Libraries\n",
    "\n",
    "Create reusable prompt components that can be composed together."
   ]
  },
  {
   "cell_type": "code",
   "execution_count": null,
   "metadata": {},
   "outputs": [],
   "source": [
    "# Create a library of system prompts\n",
    "SYSTEM_PROMPTS = {\n",
    "    \"helpful\": prompt(t\"{'You are a helpful assistant.':system}\"),\n",
    "    \"concise\": prompt(t\"{'Be concise and direct.':system}\"),\n",
    "    \"polite\": prompt(t\"{'Always be polite and respectful.':system}\"),\n",
    "}\n",
    "\n",
    "# Use them in different contexts\n",
    "query = \"What is Python?\"\n",
    "full = prompt(t\"{SYSTEM_PROMPTS['helpful']:sys}\\n\\nUser: {query:q}\")\n",
    "print(str(full))"
   ]
  },
  {
   "cell_type": "markdown",
   "metadata": {},
   "source": [
    "## Multi-Level Nesting\n",
    "\n",
    "Build deeply nested structures for organizing complex prompts."
   ]
  },
  {
   "cell_type": "code",
   "execution_count": null,
   "metadata": {},
   "outputs": [],
   "source": [
    "# Level 1: Basic facts\n",
    "name = \"Alice\"\n",
    "age = \"30\"\n",
    "person = prompt(t\"Name: {name:n}, Age: {age:a}\")\n",
    "\n",
    "# Level 2: Context\n",
    "city = \"Paris\"\n",
    "context = prompt(t\"{person:person} lives in {city:c}\")\n",
    "\n",
    "# Level 3: Full prompt\n",
    "task = \"Write a short bio\"\n",
    "full = prompt(t\"Task: {task:t}\\nContext: {context:ctx}\")\n",
    "\n",
    "print(str(full))\n",
    "print(\"\\nNavigate nested structure:\")\n",
    "print(f\"  Name: {full['ctx']['person']['n']}\")\n",
    "print(f\"  Age: {full['ctx']['person']['a']}\")\n",
    "print(f\"  City: {full['ctx']['c']}\")"
   ]
  },
  {
   "cell_type": "markdown",
   "metadata": {},
   "source": [
    "## Conditional Composition\n",
    "\n",
    "Build prompts conditionally based on runtime data."
   ]
  },
  {
   "cell_type": "code",
   "execution_count": null,
   "metadata": {},
   "outputs": [],
   "source": [
    "def build_prompt_with_context(query, include_examples=False, include_constraints=False):\n",
    "    \"\"\"Build a prompt with optional sections.\"\"\"\n",
    "    parts = []\n",
    "\n",
    "    # Always include the query\n",
    "    parts.append(prompt(t\"Query: {query:q}\"))\n",
    "\n",
    "    # Optionally include examples\n",
    "    if include_examples:\n",
    "        examples = \"Example: 2+2=4\"\n",
    "        parts.append(prompt(t\"\\n{examples:ex}\"))\n",
    "\n",
    "    # Optionally include constraints\n",
    "    if include_constraints:\n",
    "        constraints = \"Keep response under 50 words\"\n",
    "        parts.append(prompt(t\"\\n{constraints:constraints}\"))\n",
    "\n",
    "    # Combine all parts\n",
    "    return prompt(t\"{parts:parts:sep=}\")\n",
    "\n",
    "\n",
    "# Try different combinations\n",
    "p1 = build_prompt_with_context(\"What is 5+3?\")\n",
    "print(\"Minimal:\")\n",
    "print(str(p1))\n",
    "\n",
    "p2 = build_prompt_with_context(\"What is 5+3?\", include_examples=True, include_constraints=True)\n",
    "print(\"\\nWith everything:\")\n",
    "print(str(p2))"
   ]
  },
  {
   "cell_type": "markdown",
   "metadata": {},
   "source": [
    "## Prompt Templates with Slots\n",
    "\n",
    "Create reusable templates that can be filled in with specific values."
   ]
  },
  {
   "cell_type": "code",
   "execution_count": null,
   "metadata": {},
   "outputs": [],
   "source": [
    "def create_translation_prompt(text, target_lang, include_context=True):\n",
    "    \"\"\"Template for translation prompts.\"\"\"\n",
    "    task = f\"Translate to {target_lang}\"\n",
    "    p_task = prompt(t\"{task:task}\")\n",
    "    p_text = prompt(t\"Text: {text:text}\")\n",
    "\n",
    "    if include_context:\n",
    "        context = \"Maintain the original tone and style.\"\n",
    "        p_context = prompt(t\"Context: {context:ctx}\")\n",
    "        return prompt(t\"{p_task:t}\\n{p_context:c}\\n{p_text:txt}\")\n",
    "    else:\n",
    "        return prompt(t\"{p_task:t}\\n{p_text:txt}\")\n",
    "\n",
    "\n",
    "# Use the template\n",
    "p = create_translation_prompt(\"Hello, world!\", \"French\")\n",
    "print(str(p))\n",
    "print(f\"\\nKeys: {list(p.keys())}\")"
   ]
  },
  {
   "cell_type": "markdown",
   "metadata": {},
   "source": [
    "## Combining Lists and Nesting\n",
    "\n",
    "Use lists within nested prompts for maximum flexibility."
   ]
  },
  {
   "cell_type": "code",
   "execution_count": null,
   "metadata": {},
   "outputs": [],
   "source": [
    "# Create a list of examples\n",
    "example_texts = [\"Python is a language\", \"JavaScript runs in browsers\", \"Rust is memory-safe\"]\n",
    "examples = [prompt(t\"{example_texts[i]:ex}\") for i in range(len(example_texts))]\n",
    "\n",
    "# Wrap the examples in a section\n",
    "examples_section = prompt(t\"Examples:\\n{examples:examples}\")\n",
    "\n",
    "# Create the full prompt with the nested section\n",
    "instruction = \"Based on these examples, describe programming languages briefly.\"\n",
    "full = prompt(t\"{instruction:inst}\\n\\n{examples_section:ex_section}\")\n",
    "\n",
    "print(str(full))\n",
    "print(\"\\nAccess nested list:\")\n",
    "examples_node = full[\"ex_section\"][\"examples\"]\n",
    "print(f\"Number of examples: {len(examples_node)}\")\n",
    "print(f\"First example: {examples_node[0]['ex']}\")"
   ]
  },
  {
   "cell_type": "markdown",
   "metadata": {},
   "source": [
    "## Exporting Complex Structures\n",
    "\n",
    "Export the full structure as JSON for analysis or storage."
   ]
  },
  {
   "cell_type": "code",
   "execution_count": null,
   "metadata": {},
   "outputs": [],
   "source": [
    "# Export the complex structure\n",
    "json_data = full.toJSON()\n",
    "\n",
    "# Pretty print\n",
    "print(\"JSON export (truncated):\")\n",
    "print(json.dumps(json_data, indent=2)[:500] + \"...\")\n",
    "\n",
    "print(f\"\\nPrompt ID: {json_data['prompt_id']}\")\n",
    "print(f\"Number of children: {len(json_data['children'])}\")"
   ]
  },
  {
   "cell_type": "markdown",
   "metadata": {},
   "source": [
    "## Building Conversations\n",
    "\n",
    "Create conversation prompts from structured message data."
   ]
  },
  {
   "cell_type": "code",
   "execution_count": null,
   "metadata": {},
   "outputs": [],
   "source": [
    "def build_conversation(messages):\n",
    "    \"\"\"Build a conversation prompt from a list of (role, content) tuples.\"\"\"\n",
    "    message_prompts = [prompt(t\"{messages[i][0]}: {messages[i][1]: msg_{str(i)} }\") for i in range(len(messages))]\n",
    "\n",
    "    return prompt(t\"{message_prompts:messages:sep=\\n}\")\n",
    "\n",
    "\n",
    "# Build a conversation\n",
    "conversation = build_conversation(\n",
    "    [\n",
    "        (\"User\", \"Hello!\"),\n",
    "        (\"Assistant\", \"Hi! How can I help?\"),\n",
    "        (\"User\", \"What is Python?\"),\n",
    "        (\"Assistant\", \"Python is a programming language.\"),\n",
    "    ]\n",
    ")\n",
    "\n",
    "print(str(conversation))\n",
    "print(f\"\\nMessage count: {len(conversation['messages'])}\")"
   ]
  },
  {
   "cell_type": "markdown",
   "metadata": {},
   "source": [
    "## Factory Functions for Prompts\n",
    "\n",
    "Use factory functions to create consistent prompt structures."
   ]
  },
  {
   "cell_type": "code",
   "execution_count": null,
   "metadata": {},
   "outputs": [],
   "source": [
    "def create_qa_prompt(question, context=None, examples=None):\n",
    "    \"\"\"Factory for question-answering prompts.\"\"\"\n",
    "    parts = []\n",
    "\n",
    "    # Add context if provided\n",
    "    if context:\n",
    "        parts.append(prompt(t\"Context: {context:ctx}\"))\n",
    "\n",
    "    # Add examples if provided\n",
    "    if examples:\n",
    "        example_prompts = [prompt(t\"Q: {examples[i][0]:q}\\nA: {examples[i][1]:a}\") for i in range(len(examples))]\n",
    "        parts.append(prompt(t\"\\nExamples:\\n{example_prompts:examples:sep=\\n\\n}\"))\n",
    "\n",
    "    # Add the question\n",
    "    parts.append(prompt(t\"\\nQuestion: {question:question}\"))\n",
    "\n",
    "    return prompt(t\"{parts:parts:sep=}\")\n",
    "\n",
    "\n",
    "# Use the factory\n",
    "p = create_qa_prompt(\n",
    "    question=\"What is 10+15?\", context=\"Basic arithmetic\", examples=[(\"What is 2+2?\", \"4\"), (\"What is 5+3?\", \"8\")]\n",
    ")\n",
    "\n",
    "print(str(p))"
   ]
  },
  {
   "cell_type": "markdown",
   "metadata": {},
   "source": [
    "## Hierarchical Prompt Structures\n",
    "\n",
    "Build hierarchical structures that mirror your domain model."
   ]
  },
  {
   "cell_type": "code",
   "execution_count": null,
   "metadata": {},
   "outputs": [],
   "source": [
    "class PromptBuilder:\n",
    "    \"\"\"Builder for hierarchical prompts.\"\"\"\n",
    "\n",
    "    def __init__(self):\n",
    "        self.sections = []\n",
    "\n",
    "    def add_section(self, title, content):\n",
    "        \"\"\"Add a titled section.\"\"\"\n",
    "        section = prompt(t\"{content:content:header={title}}\")\n",
    "        self.sections.append(section)\n",
    "        return self\n",
    "\n",
    "    def build(self):\n",
    "        \"\"\"Build the final prompt.\"\"\"\n",
    "        # Create separate section list for each build\n",
    "        section_prompts = [prompt(t\"{self.sections[i]:section_{str(i)}}\") for i in range(len(self.sections))]\n",
    "        return prompt(t\"{section_prompts:sections:sep=\\n\\n}\")\n",
    "\n",
    "\n",
    "# Use the builder\n",
    "builder = PromptBuilder()\n",
    "builder.add_section(\"Overview\", \"This is an overview section.\")\n",
    "builder.add_section(\"Details\", \"Here are the details.\")\n",
    "builder.add_section(\"Conclusion\", \"This is the conclusion.\")\n",
    "\n",
    "p = builder.build()\n",
    "print(str(p))"
   ]
  },
  {
   "cell_type": "markdown",
   "metadata": {},
   "source": [
    "## Dynamic Prompt Assembly\n",
    "\n",
    "Assemble prompts from configuration data."
   ]
  },
  {
   "cell_type": "code",
   "execution_count": null,
   "metadata": {},
   "outputs": [],
   "source": [
    "def assemble_from_config(config):\n",
    "    \"\"\"Assemble a prompt from a configuration dictionary.\"\"\"\n",
    "    parts = []\n",
    "\n",
    "    # Process each section in order\n",
    "    for section in config[\"sections\"]:\n",
    "        section_type = section[\"type\"]\n",
    "\n",
    "        if section_type == \"text\":\n",
    "            key = section.get(\"key\", \"text\")\n",
    "            content = section[\"content\"]\n",
    "            parts.append(prompt(t\"{content:{key}}\"))\n",
    "\n",
    "        elif section_type == \"header\":\n",
    "            title = section[\"title\"]\n",
    "            content = section[\"content\"]\n",
    "            key = section.get(\"key\", \"section\")\n",
    "            parts.append(prompt(t\"{content:{key}:header={title}}\"))\n",
    "\n",
    "    return prompt(t\"{parts:parts:sep=\\n\\n}\")\n",
    "\n",
    "\n",
    "# Example configuration\n",
    "config = {\n",
    "    \"sections\": [\n",
    "        {\"type\": \"text\", \"key\": \"intro\", \"content\": \"Introduction to the topic.\"},\n",
    "        {\"type\": \"header\", \"key\": \"main\", \"title\": \"Main Content\", \"content\": \"This is the main content section.\"},\n",
    "    ]\n",
    "}\n",
    "\n",
    "p = assemble_from_config(config)\n",
    "print(str(p))"
   ]
  },
  {
   "cell_type": "markdown",
   "metadata": {},
   "source": [
    "## Summary\n",
    "\n",
    "Advanced composition patterns enable powerful prompt engineering:\n",
    "\n",
    "✅ **Reusable libraries** - Build collections of prompt components  \n",
    "✅ **Deep nesting** - Create complex hierarchical structures  \n",
    "✅ **Conditional composition** - Assemble prompts based on runtime data  \n",
    "✅ **Templates** - Design flexible, reusable prompt patterns  \n",
    "✅ **Lists and nesting** - Combine lists with nested structures  \n",
    "✅ **Factory functions** - Encapsulate prompt creation logic  \n",
    "✅ **Builders** - Use builder patterns for step-by-step construction  \n",
    "✅ **Configuration-driven** - Assemble from data structures  \n",
    "\n",
    "These patterns let you build sophisticated, maintainable prompt systems that scale with your application's complexity."
   ]
  }
 ],
 "metadata": {
  "kernelspec": {
   "display_name": "Python 3",
   "language": "python",
   "name": "python3"
  },
  "language_info": {
   "codemirror_mode": {
    "name": "ipython",
    "version": 3
   },
   "file_extension": ".py",
   "mimetype": "text/x-python",
   "name": "python",
   "nbconvert_exporter": "python",
   "pygments_lexer": "ipython3",
   "version": "3.14.0"
  }
 },
 "nbformat": 4,
 "nbformat_minor": 2
}
