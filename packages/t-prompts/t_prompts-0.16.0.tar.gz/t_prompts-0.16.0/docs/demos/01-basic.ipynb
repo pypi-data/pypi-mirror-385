{
 "cells": [
  {
   "cell_type": "markdown",
   "metadata": {},
   "source": [
    "# Basic Tutorial: Getting Started with t-prompts\n",
    "\n",
    "This tutorial introduces the core concepts of `t-prompts`: creating structured prompts using Python 3.14's t-strings that preserve provenance while rendering to plain text."
   ]
  },
  {
   "cell_type": "markdown",
   "metadata": {},
   "source": [
    "## What are t-strings?\n",
    "\n",
    "Python 3.14 introduced **template strings** (t-strings), which look like f-strings but preserve information about interpolations instead of immediately evaluating to a string.\n",
    "\n",
    "Unlike f-strings that give you `\"Hello Alice\"`, t-strings give you a `Template` object that remembers the expression `name` and its value `\"Alice\"`."
   ]
  },
  {
   "cell_type": "code",
   "execution_count": null,
   "metadata": {},
   "outputs": [],
   "source": [
    "# Compare f-strings vs t-strings\n",
    "name = \"Alice\"\n",
    "\n",
    "# f-string: immediately evaluates to a string\n",
    "f_result = f\"Hello {name}\"\n",
    "print(f\"f-string type: {type(f_result)}\")\n",
    "print(f\"f-string value: {f_result}\")\n",
    "\n",
    "# t-string: returns a Template object with metadata\n",
    "t_result = t\"Hello {name}\"\n",
    "print(f\"\\nt-string type: {type(t_result)}\")\n",
    "print(f\"t-string: {t_result}\")\n",
    "print(f\"Expression preserved: {t_result.interpolations[0].expression}\")"
   ]
  },
  {
   "cell_type": "markdown",
   "metadata": {},
   "source": [
    "## Creating Your First Structured Prompt\n",
    "\n",
    "The `prompt()` function wraps a t-string into a `StructuredPrompt` that acts like both a string and a navigable tree."
   ]
  },
  {
   "cell_type": "code",
   "execution_count": null,
   "metadata": {},
   "outputs": [],
   "source": [
    "from t_prompts import prompt\n",
    "\n",
    "instructions = \"Always answer politely.\"\n",
    "p = prompt(t\"Obey {instructions:inst}\")\n",
    "\n",
    "# Renders like an f-string\n",
    "print(f\"Rendered: {str(p)}\")\n",
    "\n",
    "# But preserves provenance\n",
    "node = p[\"inst\"]\n",
    "print(f\"\\nExpression: {node.expression}\")\n",
    "print(f\"Value: {node.value}\")"
   ]
  },
  {
   "cell_type": "markdown",
   "metadata": {},
   "source": [
    "## Format Specs as Keys\n",
    "\n",
    "The format spec (the part after `:`) becomes the **key** for accessing interpolations. Without a format spec, the expression itself is used as the key."
   ]
  },
  {
   "cell_type": "code",
   "execution_count": null,
   "metadata": {},
   "outputs": [],
   "source": [
    "# No format spec: key is the expression\n",
    "user_query = \"What is Python?\"\n",
    "p1 = prompt(t\"Question: {user_query}\")\n",
    "print(f\"No format spec - Key: {list(p1.keys())[0]}\")\n",
    "print(f\"Value: {p1['user_query'].value}\")\n",
    "\n",
    "# With format spec: key is the format spec\n",
    "p2 = prompt(t\"Question: {user_query:query}\")\n",
    "print(f\"\\nWith format spec - Key: {list(p2.keys())[0]}\")\n",
    "print(f\"Value: {p2['query'].value}\")"
   ]
  },
  {
   "cell_type": "markdown",
   "metadata": {},
   "source": [
    "## Accessing Interpolations\n",
    "\n",
    "You can access interpolations like a dictionary and iterate over them."
   ]
  },
  {
   "cell_type": "code",
   "execution_count": null,
   "metadata": {},
   "outputs": [],
   "source": [
    "context = \"User is Alice\"\n",
    "task = \"Translate to French\"\n",
    "p = prompt(t\"Context: {context:ctx}. Task: {task:t}\")\n",
    "\n",
    "# Check if key exists\n",
    "print(f\"Has 'ctx': {'ctx' in p}\")\n",
    "\n",
    "# Get all keys\n",
    "print(f\"Keys: {list(p.keys())}\")\n",
    "\n",
    "# Iterate over interpolations\n",
    "for key, node in p.items():\n",
    "    print(f\"{key}: {node.value}\")"
   ]
  },
  {
   "cell_type": "markdown",
   "metadata": {},
   "source": [
    "## Rendering to Text\n",
    "\n",
    "The `str()` function converts a `StructuredPrompt` to text, just like an f-string would."
   ]
  },
  {
   "cell_type": "code",
   "execution_count": null,
   "metadata": {},
   "outputs": [],
   "source": [
    "name = \"Bob\"\n",
    "greeting = \"Hello\"\n",
    "p = prompt(t\"{greeting:g}, {name:n}!\")\n",
    "\n",
    "# Convert to string\n",
    "text = str(p)\n",
    "print(f\"Rendered text: {text}\")\n",
    "print(f\"Type: {type(text)}\")"
   ]
  },
  {
   "cell_type": "markdown",
   "metadata": {},
   "source": [
    "## Type Safety\n",
    "\n",
    "Only strings and nested `StructuredPrompt` objects are allowed as values. This prevents accidental `str(obj)` conversions."
   ]
  },
  {
   "cell_type": "code",
   "execution_count": null,
   "metadata": {},
   "outputs": [],
   "source": [
    "# This works: string values\n",
    "msg = \"Hello\"\n",
    "p1 = prompt(t\"{msg:message}\")\n",
    "print(f\"String value: {str(p1)}\")\n",
    "\n",
    "# This works: nested StructuredPrompt\n",
    "p2 = prompt(t\"{p1:nested}\")\n",
    "print(f\"Nested prompt: {str(p2)}\")\n",
    "\n",
    "# This fails: non-string, non-prompt objects\n",
    "try:\n",
    "    number = 42\n",
    "    p3 = prompt(t\"{number:num}\")\n",
    "except Exception as e:\n",
    "    print(f\"\\nError (expected): {type(e).__name__}\")\n",
    "    print(f\"Message: {str(e)[:80]}...\")"
   ]
  },
  {
   "cell_type": "markdown",
   "metadata": {},
   "source": [
    "## Next Steps\n",
    "\n",
    "You've learned the basics! Continue to:\n",
    "\n",
    "- **02-intermediate.ipynb**: Learn about nested prompts, navigation, and conversions\n",
    "- **03-ir-visualization.ipynb**: See the widget visualization in action\n",
    "- **topics/**: Deep dives into specific features (few-shot prompts, source mapping, dedenting, etc.)"
   ]
  }
 ],
 "metadata": {
  "kernelspec": {
   "display_name": "Python 3",
   "language": "python",
   "name": "python3"
  },
  "language_info": {
   "codemirror_mode": {
    "name": "ipython",
    "version": 3
   },
   "file_extension": ".py",
   "mimetype": "text/x-python",
   "name": "python",
   "nbconvert_exporter": "python",
   "pygments_lexer": "ipython3",
   "version": "3.14.0"
  }
 },
 "nbformat": 4,
 "nbformat_minor": 4
}
