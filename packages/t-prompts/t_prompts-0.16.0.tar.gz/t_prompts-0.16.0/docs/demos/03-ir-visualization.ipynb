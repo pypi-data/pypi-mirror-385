{
 "cells": [
  {
   "cell_type": "markdown",
   "metadata": {},
   "source": [
    "# IntermediateRepresentation Visualization Demo\n",
    "\n",
    "This notebook demonstrates the widget visualization of `StructuredPrompt` and `IntermediateRepresentation` objects in Jupyter notebooks.\n",
    "\n",
    "The widget provides a visual representation showing:\n",
    "- Color-coded element types (static, interpolation, nested prompts, lists)\n",
    "- Element boundaries\n",
    "- Source location on hover\n",
    "- Wrap indicators for long lines"
   ]
  },
  {
   "cell_type": "code",
   "execution_count": null,
   "metadata": {},
   "outputs": [],
   "source": [
    "from t_prompts import prompt"
   ]
  },
  {
   "cell_type": "markdown",
   "metadata": {},
   "source": [
    "## Example 1: Simple Text Prompt\n",
    "\n",
    "A basic prompt with two interpolations."
   ]
  },
  {
   "cell_type": "code",
   "execution_count": null,
   "metadata": {},
   "outputs": [],
   "source": [
    "task = \"translate to French\"\n",
    "context = \"User is a beginner\"\n",
    "\n",
    "p1 = prompt(t\"Task: {task:t}\\nContext: {context:c}\")\n",
    "\n",
    "# Display the widget\n",
    "p1"
   ]
  },
  {
   "cell_type": "markdown",
   "metadata": {},
   "source": [
    "## Example 2: Nested Prompts\n",
    "\n",
    "Building a conversation with nested prompts."
   ]
  },
  {
   "cell_type": "code",
   "execution_count": null,
   "metadata": {},
   "outputs": [],
   "source": [
    "system = \"You are a helpful assistant\"\n",
    "user_query = \"What is Python?\"\n",
    "assistant_response = \"Python is a high-level programming language.\"\n",
    "\n",
    "p_system = prompt(t\"{system:sys}\")\n",
    "p_user = prompt(t\"User: {user_query:query}\")\n",
    "p_assistant = prompt(t\"Assistant: {assistant_response:response}\")\n",
    "\n",
    "p2 = prompt(t\"{p_system:system}\\n\\n{p_user:user}\\n\\n{p_assistant:assistant}\")\n",
    "\n",
    "# Display the widget\n",
    "p2"
   ]
  },
  {
   "cell_type": "markdown",
   "metadata": {},
   "source": [
    "## Example 3: Dedented Multi-line Prompt\n",
    "\n",
    "Using dedenting for readable source code."
   ]
  },
  {
   "cell_type": "code",
   "execution_count": null,
   "metadata": {},
   "outputs": [],
   "source": [
    "from t_prompts import dedent\n",
    "\n",
    "instructions = \"Be concise and clear\"\n",
    "examples = \"Example 1: Hello -> Bonjour\\nExample 2: Goodbye -> Au revoir\"\n",
    "question = \"How do you say 'Good morning' in French?\"\n",
    "\n",
    "p3 = dedent(t\"\"\"\n",
    "    Instructions: {instructions:inst}\n",
    "\n",
    "    Examples:\n",
    "    {examples:ex}\n",
    "\n",
    "    Question: {question:q}\n",
    "    \"\"\")\n",
    "\n",
    "# Display the widget\n",
    "p3"
   ]
  },
  {
   "cell_type": "markdown",
   "metadata": {},
   "source": [
    "## Example 4: List of Prompts\n",
    "\n",
    "Demonstrating list interpolation with custom separators."
   ]
  },
  {
   "cell_type": "code",
   "execution_count": null,
   "metadata": {},
   "outputs": [],
   "source": [
    "# Create a list of example prompts\n",
    "examples = [\n",
    "    prompt(t\"English: {eng:eng} -> French: {fr:fr}\")\n",
    "    for eng, fr in [(\"hello\", \"bonjour\"), (\"goodbye\", \"au revoir\"), (\"thank you\", \"merci\")]\n",
    "]\n",
    "\n",
    "p4 = dedent(t\"\"\"\n",
    "    Translation Examples:\n",
    "    {examples:examples}\n",
    "\n",
    "    Now translate:\n",
    "    \"\"\")\n",
    "\n",
    "# Display the widget\n",
    "p4"
   ]
  },
  {
   "cell_type": "markdown",
   "metadata": {},
   "source": [
    "## Example 5: Complex Nested Structure\n",
    "\n",
    "A more complex example with multiple levels of nesting."
   ]
  },
  {
   "cell_type": "code",
   "execution_count": null,
   "metadata": {},
   "outputs": [],
   "source": [
    "# Build a complex prompt structure\n",
    "role = \"expert translator\"\n",
    "language_pair = \"English to French\"\n",
    "task_type = \"technical translation\"\n",
    "\n",
    "# Metadata section\n",
    "p_metadata = dedent(t\"\"\"\n",
    "    Role: {role:role}\n",
    "    Language Pair: {language_pair:lang_pair}\n",
    "    Task Type: {task_type:task_type}\n",
    "    \"\"\")\n",
    "\n",
    "# Instructions section\n",
    "instruction_text = \"Translate the following technical document while preserving technical terms.\"\n",
    "p_instructions = prompt(t\"{instruction_text:text}\")\n",
    "\n",
    "# Document to translate\n",
    "doc_text = \"The algorithm utilizes a binary search tree to optimize query performance.\"\n",
    "p_document = prompt(t\"Document:\\n{doc_text:doc}\")\n",
    "\n",
    "# Combine everything\n",
    "p5 = dedent(t\"\"\"\n",
    "    === Translation Task ===\n",
    "\n",
    "    {p_metadata:metadata}\n",
    "\n",
    "    Instructions:\n",
    "    {p_instructions:instructions}\n",
    "\n",
    "    {p_document:document}\n",
    "    \"\"\")\n",
    "\n",
    "print(\"Complex nested structure created successfully\")\n",
    "print(f\"Total keys in outer prompt: {len(list(p5.keys()))}\")\n",
    "\n",
    "# Display the widget\n",
    "p5"
   ]
  },
  {
   "cell_type": "markdown",
   "metadata": {},
   "source": [
    "## Example 6: Images in Prompts\n",
    "\n",
    "Multi-modal prompts with images. Note that prompts with images can be visualized but cannot be rendered to plain text."
   ]
  },
  {
   "cell_type": "code",
   "execution_count": null,
   "metadata": {},
   "outputs": [],
   "source": [
    "from PIL import Image\n",
    "\n",
    "# Create test images\n",
    "img_red = Image.new(\"RGB\", (100, 100), color=\"red\")\n",
    "img_blue = Image.new(\"RGB\", (100, 100), color=\"blue\")\n",
    "\n",
    "description = \"Here are two colored squares for demonstration\"\n",
    "\n",
    "# Create a prompt with images\n",
    "p6 = dedent(t\"\"\"\n",
    "    {description:desc}\n",
    "\n",
    "    Red square: {img_red:red_img}\n",
    "    Blue square: {img_blue:blue_img}\n",
    "    \"\"\")\n",
    "\n",
    "print(\"Multi-modal prompt created\")\n",
    "print(f\"Total interpolations: {len(list(p6.keys()))}\")\n",
    "print(f\"Image interpolations: {[k for k, v in p6.items() if 'img' in k]}\")\n",
    "\n",
    "# Display the widget\n",
    "p6"
   ]
  },
  {
   "cell_type": "markdown",
   "metadata": {},
   "source": [
    "## Widget Features\n",
    "\n",
    "The widget visualization shows:\n",
    "\n",
    "1. **Color coding**: Different colors for different element types\n",
    "   - Static text: minimal styling (baseline)\n",
    "   - Interpolations: blue\n",
    "   - Nested prompts: purple  \n",
    "   - Lists: teal\n",
    "   - Images: orange\n",
    "\n",
    "2. **Element boundaries**: Vertical bars at the start and end of non-static elements\n",
    "\n",
    "3. **Source location**: Hover over elements to see where they were defined in your code\n",
    "\n",
    "4. **Wrap indicators**: Down-right arrows (↘) show where lines wrap\n",
    "\n",
    "5. **Image previews**: Hover over image placeholders to see a preview"
   ]
  }
 ],
 "metadata": {
  "kernelspec": {
   "display_name": "Python 3",
   "language": "python",
   "name": "python3"
  },
  "language_info": {
   "codemirror_mode": {
    "name": "ipython",
    "version": 3
   },
   "file_extension": ".py",
   "mimetype": "text/x-python",
   "name": "python",
   "nbconvert_exporter": "python",
   "pygments_lexer": "ipython3",
   "version": "3.14.0"
  }
 },
 "nbformat": 4,
 "nbformat_minor": 4
}
