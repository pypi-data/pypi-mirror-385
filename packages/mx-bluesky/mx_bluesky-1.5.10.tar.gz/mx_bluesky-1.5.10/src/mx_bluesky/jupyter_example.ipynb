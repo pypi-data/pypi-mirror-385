{
 "cells": [
  {
   "cell_type": "markdown",
   "id": "b712b364-878d-49c2-96d7-9269c0cb4317",
   "metadata": {},
   "source": [
    "Setup for bluesky (see https://nsls-ii.github.io/bluesky/tutorial.html)"
   ]
  },
  {
   "cell_type": "code",
   "execution_count": null,
   "id": "8bb8afd0-a6cb-40fd-8a88-fe99a5eba55c",
   "metadata": {},
   "outputs": [],
   "source": [
    "from bluesky import RunEngine\n",
    "from bluesky.callbacks.best_effort import BestEffortCallback\n",
    "\n",
    "RE = RunEngine({})\n",
    "\n",
    "bec = BestEffortCallback()\n",
    "\n",
    "# Send all metadata/data captured to the BestEffortCallback.\n",
    "RE.subscribe(bec)"
   ]
  },
  {
   "cell_type": "markdown",
   "id": "16ff289d-3ae5-4834-8d3c-a3be871473b0",
   "metadata": {},
   "source": [
    "Run a scan against a sim detector"
   ]
  },
  {
   "cell_type": "code",
   "execution_count": null,
   "id": "4b56ec8e-9bc2-4b6e-8652-4f49cd8c5d93",
   "metadata": {},
   "outputs": [],
   "source": [
    "from bluesky.plans import scan\n",
    "from ophyd.sim import det, motor\n",
    "\n",
    "dets = [det]  # just one in this case, but it could be more than one\n",
    "\n",
    "RE(scan(dets, motor, -1, 1, 10))"
   ]
  }
 ],
 "metadata": {
  "kernelspec": {
   "display_name": "Python 3 (ipykernel)",
   "language": "python",
   "name": "python3"
  },
  "language_info": {
   "codemirror_mode": {
    "name": "ipython",
    "version": 3
   },
   "file_extension": ".py",
   "mimetype": "text/x-python",
   "name": "python",
   "nbconvert_exporter": "python",
   "pygments_lexer": "ipython3",
   "version": "3.10.4"
  }
 },
 "nbformat": 4,
 "nbformat_minor": 5
}
