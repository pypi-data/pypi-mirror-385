{
 "cells": [
  {
   "cell_type": "markdown",
   "id": "eee95664-88f5-41fc-bc81-f066e5aa7189",
   "metadata": {},
   "source": [
    "# Basic use\n",
    "\n",
    "`efts-io` is primarily about creating, handling and saving and loading ensemble forecast time series to files on disk in [netCDF STF 2.0 compliant format](https://csiro-hydroinformatics.github.io/efts-io/netcdf_for_water_forecasting/), from Python. \n",
    "\n",
    "While most similar implementations in e.g. R, Matlab so var have been closely related to netCDF file handling, in Python [`xarray`](https://docs.xarray.dev/en/stable) is a de facto standard for the high level manipulation of tensor-like, multidimensional data. There is a partial mismatch between the STF netCDF conventions devised ten years ago and limited by the capabilities of Fortran netCDF libraries at the time, and the best practices for `xarray` in-memory representations. `efts-io` is a package bridging the technical gap between these two representations, and reducing the risk of data handling bugs by users when trying to reconcile this technical gap."
   ]
  },
  {
   "cell_type": "markdown",
   "id": "9",
   "metadata": {},
   "source": [
    "## Reading from file\n",
    "\n",
    "The package includes small, sample data files. We will start with a file storing a single rainfall time series\n"
   ]
  },
  {
   "cell_type": "code",
   "execution_count": 1,
   "id": "10",
   "metadata": {},
   "outputs": [],
   "source": [
    "import efts_io.helpers as hlp"
   ]
  },
  {
   "cell_type": "code",
   "execution_count": 2,
   "id": "11",
   "metadata": {},
   "outputs": [],
   "source": [
    "fn = hlp.derived_rainfall_tas()"
   ]
  },
  {
   "cell_type": "code",
   "execution_count": 3,
   "id": "40762baf-3da9-4f0a-ba77-f021c415af1a",
   "metadata": {},
   "outputs": [
    {
     "name": "stdout",
     "output_type": "stream",
     "text": [
      "/your_home_path/src/efts-io/src/efts_io/data/derived_rainfall_tas.nc\n"
     ]
    }
   ],
   "source": [
    "# The path to the sample file will depend on your operating system, environment setup etc.\n",
    "from pathlib import Path\n",
    "homepath = str(Path.home())\n",
    "print(fn.replace(homepath, '/your_home_path'))"
   ]
  },
  {
   "cell_type": "code",
   "execution_count": 4,
   "id": "c563cefd-bcd8-4b86-9dea-608bc2d9d639",
   "metadata": {},
   "outputs": [
    {
     "data": {
      "text/plain": [
       "True"
      ]
     },
     "execution_count": 4,
     "metadata": {},
     "output_type": "execute_result"
    }
   ],
   "source": [
    "Path(fn).exists()"
   ]
  },
  {
   "cell_type": "markdown",
   "id": "0306cc7f-7333-4a4a-829b-b5752484d352",
   "metadata": {},
   "source": [
    "### Validating compliance of a file before loading\n",
    "\n",
    "The package includes facilities to check the structure of a file on disk and its level of compliance with the STF conventions:"
   ]
  },
  {
   "cell_type": "code",
   "execution_count": 5,
   "id": "5ef1cc82-f614-42ee-a889-b30676afd208",
   "metadata": {},
   "outputs": [],
   "source": [
    "from efts_io.conventions import check_stf_compliance, check_hydrologic_variables"
   ]
  },
  {
   "cell_type": "code",
   "execution_count": 6,
   "id": "a2f4c864-4507-415a-9e93-edbb7c12d766",
   "metadata": {},
   "outputs": [
    {
     "name": "stdout",
     "output_type": "stream",
     "text": [
      "compliance_report is a dictionary with keys ['INFO', 'WARNING', 'ERROR']\n"
     ]
    }
   ],
   "source": [
    "compliance_report = check_stf_compliance(fn)\n",
    "print(f\"compliance_report is a dictionary with keys {list(compliance_report.keys())}\")\n",
    "      "
   ]
  },
  {
   "cell_type": "markdown",
   "id": "da82ea48-ffe8-4c7d-9315-e6caa617fe76",
   "metadata": {},
   "source": [
    "There is no error nor warnings in this sample file:"
   ]
  },
  {
   "cell_type": "code",
   "execution_count": 7,
   "id": "c08c24ce-5c5a-44db-b9d7-e7d39bb672ac",
   "metadata": {},
   "outputs": [
    {
     "name": "stdout",
     "output_type": "stream",
     "text": [
      "WARNING: []\n",
      "ERROR: []\n"
     ]
    }
   ],
   "source": [
    "print(\"WARNING:\", compliance_report[\"WARNING\"])\n",
    "print(\"ERROR:\", compliance_report[\"ERROR\"])"
   ]
  },
  {
   "cell_type": "markdown",
   "id": "691689db-b720-4756-88b0-8ea02f7e771b",
   "metadata": {},
   "source": [
    "To get a detail of what was checked in the file structure:"
   ]
  },
  {
   "cell_type": "code",
   "execution_count": 8,
   "id": "c3258ea9-950d-4cb0-810e-dcb2520266c7",
   "metadata": {},
   "outputs": [
    {
     "name": "stdout",
     "output_type": "stream",
     "text": [
      "INFO: [\"Dimension 'time' is present.\", \"Dimension 'station' is present.\", \"Dimension 'lead_time' is present.\", \"Dimension 'ens_member' is present.\", \"Dimension 'strLen' is present.\", \"Global attribute 'title' is present.\", \"Global attribute 'institution' is present.\", \"Global attribute 'source' is present.\", \"Global attribute 'catchment' is present.\", \"Global attribute 'STF_convention_version' is present.\", \"Global attribute 'STF_nc_spec' is present.\", \"Global attribute 'comment' is present.\", \"Global attribute 'history' is present.\", \"Mandatory variable 'time' is present.\", \"Attribute 'standard_name' for variable 'time' is present.\", \"Attribute 'long_name' for variable 'time' is present.\", \"Attribute 'units' for variable 'time' is present.\", \"Attribute 'time_standard' for variable 'time' is present.\", \"Attribute 'axis' for variable 'time' is present.\", \"Mandatory variable 'station_id' is present.\", \"Attribute 'long_name' for variable 'station_id' is present.\", \"Mandatory variable 'station_name' is present.\", \"Attribute 'long_name' for variable 'station_name' is present.\", \"Mandatory variable 'ens_member' is present.\", \"Attribute 'standard_name' for variable 'ens_member' is present.\", \"Attribute 'long_name' for variable 'ens_member' is present.\", \"Attribute 'units' for variable 'ens_member' is present.\", \"Attribute 'axis' for variable 'ens_member' is present.\", \"Mandatory variable 'lead_time' is present.\", \"Attribute 'standard_name' for variable 'lead_time' is present.\", \"Attribute 'long_name' for variable 'lead_time' is present.\", \"Attribute 'units' for variable 'lead_time' is present.\", \"Attribute 'axis' for variable 'lead_time' is present.\", \"Mandatory variable 'lat' is present.\", \"Attribute 'long_name' for variable 'lat' is present.\", \"Attribute 'units' for variable 'lat' is present.\", \"Attribute 'axis' for variable 'lat' is present.\", \"Mandatory variable 'lon' is present.\", \"Attribute 'long_name' for variable 'lon' is present.\", \"Attribute 'units' for variable 'lon' is present.\", \"Attribute 'axis' for variable 'lon' is present.\"]\n"
     ]
    }
   ],
   "source": [
    "print(\"INFO:\", compliance_report[\"INFO\"])"
   ]
  },
  {
   "cell_type": "markdown",
   "id": "294c6381-10b2-43d6-bd46-9587e5361d23",
   "metadata": {},
   "source": [
    "If we use the venerable `ncdump` command line tool, (just to give a low-level overview of the file):"
   ]
  },
  {
   "cell_type": "code",
   "execution_count": 9,
   "id": "410a0112-da08-4a89-b5d2-05b21569dccf",
   "metadata": {},
   "outputs": [
    {
     "name": "stdout",
     "output_type": "stream",
     "text": [
      "netcdf derived_rainfall_tas {\n",
      "dimensions:\n",
      "\tstation = 3 ;\n",
      "\tens_member = 1 ;\n",
      "\tlead_time = 1 ;\n",
      "\ttime = UNLIMITED ; // (7 currently)\n",
      "\tstrLen = 30 ;\n",
      "variables:\n",
      "\tfloat area(station) ;\n",
      "\t\tarea:units = \"sqkm\" ;\n",
      "\t\tarea:_FillValue = -1. ;\n",
      "\t\tarea:standard_name = \"area\" ;\n",
      "\t\tarea:long_name = \"station area\" ;\n",
      "\tint ens_member(ens_member) ;\n",
      "\t\tens_member:standard_name = \"ens_member\" ;\n",
      "\t\tens_member:long_name = \"ensemble member\" ;\n",
      "\t\tens_member:units = \"member id\" ;\n",
      "\t\tens_member:axis = \"u\" ;\n",
      "\tfloat lat(station) ;\n",
      "\t\tlat:long_name = \"latitude\" ;\n",
      "\t\tlat:units = \"degrees_north\" ;\n",
      "\t\tlat:axis = \"y\" ;\n",
      "\tint lead_time(lead_time) ;\n",
      "\t\tlead_time:standard_name = \"lead time\" ;\n",
      "\t\tlead_time:long_name = \"forecast lead time\" ;\n",
      "\t\tlead_time:axis = \"v\" ;\n",
      "\t\tlead_time:units = \"days since time\" ;\n",
      "\tfloat lon(station) ;\n",
      "\t\tlon:long_name = \"longitude\" ;\n",
      "\t\tlon:units = \"degrees_east\" ;\n",
      "\t\tlon:axis = \"x\" ;\n",
      "\tfloat rain_obs(time, ens_member, station, lead_time) ;\n",
      "\t\train_obs:standard_name = \"rain_obs\" ;\n",
      "\t\train_obs:long_name = \"observed rainfall\" ;\n",
      "\t\train_obs:units = \"mm\" ;\n",
      "\t\train_obs:_FillValue = -9999.f ;\n",
      "\t\train_obs:type = 2. ;\n",
      "\t\train_obs:type_description = \"accumulated over the preceding interval\" ;\n",
      "\t\train_obs:dat_type = \"der\" ;\n",
      "\t\train_obs:dat_type_description = \"derived (from observations)\" ;\n",
      "\t\train_obs:location_type = \"area\" ;\n",
      "\tint station(station) ;\n",
      "\tint station_id(station) ;\n",
      "\t\tstation_id:long_name = \"station or node identification code\" ;\n",
      "\tchar station_name(station, strLen) ;\n",
      "\t\tstation_name:long_name = \"station or node name\" ;\n",
      "\tint time(time) ;\n",
      "\t\ttime:standard_name = \"time\" ;\n",
      "\t\ttime:long_name = \"time\" ;\n",
      "\t\ttime:time_standard = \"UTC\" ;\n",
      "\t\ttime:axis = \"t\" ;\n",
      "\t\ttime:units = \"days since 2000-11-14 23:00:00.0 +0000\" ;\n",
      "\n",
      "// global attributes:\n",
      "\t\t:title = \"Precip from Hydro Tasmania\\'s observation network areally averaged with inverse distance squared weighting\" ;\n",
      "\t\t:institution = \"CSIRO Land & Water\" ;\n",
      "\t\t:source = \"\" ;\n",
      "\t\t:catchment = \"Hydro Tas\" ;\n",
      "\t\t:STF_convention_version = 2. ;\n",
      "\t\t:STF_nc_spec = \"https://wiki.csiro.au/display/wirada/NetCDF+for+SWIFT\" ;\n",
      "\t\t:comment = \"\" ;\n",
      "\t\t:history = \"Thu Jul 17 16:29:16 2025: ncks -d time,8389, -d station,560, HT_swiftRain_daily_stfv2_2000111523+0000-2023111023+0000.nc -O test_output.nc\\n\",\n",
      "\t\t\t\"2024-07-25 15:28:34 +10.0 - File created\" ;\n",
      "\t\t:NCO = \"netCDF Operators version 5.1.4 (Homepage = http://nco.sf.net, Code = http://github.com/nco/nco)\" ;\n",
      "}\n"
     ]
    }
   ],
   "source": [
    "!ncdump -h {fn}"
   ]
  },
  {
   "cell_type": "markdown",
   "id": "6ef56420-551c-4596-bebf-482416f6d9b6",
   "metadata": {},
   "source": [
    "### Checking variables\n",
    "\n",
    "`check_hydrologic_variables` looks into more details at the variables present in the netcdf file. The STF convention suggests naming conventions, as well as the expectation of certain variable attributes. "
   ]
  },
  {
   "cell_type": "code",
   "execution_count": 10,
   "id": "3f96be30-dc86-4e3a-8189-373d67f3e075",
   "metadata": {},
   "outputs": [],
   "source": [
    "compliance_report = check_hydrologic_variables(fn)"
   ]
  },
  {
   "cell_type": "code",
   "execution_count": 11,
   "id": "23523ebb-b87e-417b-aa17-d3c55fb4deb5",
   "metadata": {},
   "outputs": [
    {
     "data": {
      "text/plain": [
       "{'INFO': [\"Hydrologic variable 'rain_obs' follows the recommended naming convention.\"],\n",
       " 'WARNING': [\"Attribute '_FillValue' for variable 'rain_obs' has an unexpected type 'float32'. Expected type: 'float'.\",\n",
       "  \"Attribute 'type' for variable 'rain_obs' has an unexpected type 'float64'. Expected type: 'int'.\"],\n",
       " 'ERROR': []}"
      ]
     },
     "execution_count": 11,
     "metadata": {},
     "output_type": "execute_result"
    }
   ],
   "source": [
    "compliance_report"
   ]
  },
  {
   "cell_type": "code",
   "execution_count": 12,
   "id": "4ad1b07b-2a5f-4153-9f84-373884a4d1e6",
   "metadata": {},
   "outputs": [
    {
     "name": "stdout",
     "output_type": "stream",
     "text": [
      "INFO: [\"Hydrologic variable 'rain_obs' follows the recommended naming convention.\"]\n",
      "WARNING: [\"Attribute '_FillValue' for variable 'rain_obs' has an unexpected type 'float32'. Expected type: 'float'.\", \"Attribute 'type' for variable 'rain_obs' has an unexpected type 'float64'. Expected type: 'int'.\"]\n",
      "ERROR: []\n"
     ]
    }
   ],
   "source": [
    "print(\"INFO:\", compliance_report[\"INFO\"])\n",
    "print(\"WARNING:\", compliance_report[\"WARNING\"])\n",
    "print(\"ERROR:\", compliance_report[\"ERROR\"])"
   ]
  },
  {
   "cell_type": "markdown",
   "id": "9b661327-ff72-4ee0-acc5-f0e792955f4c",
   "metadata": {},
   "source": [
    "Two of the variable attributes in the file happen to not quite follow strictly the STF conventions, but in this case this is not a blocking incompatibility."
   ]
  },
  {
   "cell_type": "markdown",
   "id": "a0ad8d59-4469-4c12-a40c-c2adb8a7926e",
   "metadata": {},
   "source": [
    "### Loading data\n",
    "\n",
    "We recommend loading the files using a thin wrapper around an `xarray` object called `EftsDataSet`.\n",
    "\n",
    "If you were to open the file directly using `xarray`, you would encounter an error"
   ]
  },
  {
   "cell_type": "code",
   "execution_count": 13,
   "id": "3f817bcf-79f8-4052-b485-db0872d7bb43",
   "metadata": {},
   "outputs": [
    {
     "name": "stdout",
     "output_type": "stream",
     "text": [
      "Failed to decode variable 'lead_time': unable to decode time units 'days since time' with 'the default calendar'. Try opening your dataset with decode_times=False or installing cftime if it is not installed.\n"
     ]
    }
   ],
   "source": [
    "try:\n",
    "    import xarray as xr\n",
    "    xr.open_dataset(fn)\n",
    "except ValueError as e:\n",
    "    print(e)"
   ]
  },
  {
   "cell_type": "markdown",
   "id": "54e90735-5cf3-46ac-9825-d9c4cc334de5",
   "metadata": {},
   "source": [
    "`EftsDataSet` takes care of the low-level acrobatics required to read STF files, which was designed before `xarray` emerged and gained popularity. "
   ]
  },
  {
   "cell_type": "code",
   "execution_count": 14,
   "id": "12",
   "metadata": {},
   "outputs": [],
   "source": [
    "from efts_io.wrapper import EftsDataSet\n",
    "rain_stf = EftsDataSet(fn)"
   ]
  },
  {
   "cell_type": "markdown",
   "id": "0f416723-415e-434d-8b5d-22e5883d6cf1",
   "metadata": {},
   "source": [
    "There are helper methods on `EftsDataSet` objects, but most add little value so far to the inner `xarray` object. Note that the in-memory `xarray` structure has a coordinate in a form of a string for `station_id`, rather than an integer as is specified in the STF 2.0 convention for on-disk netCDF storage. This is a deliberate choice, as we envisage that ulterior versions of the conventions will feature strings for station identifiers. Limiting station identifiers to integers is in part a legacy of using the Fortran programming language in the past.\n",
    "\n",
    "Details of a conversation about data design can be found in [this thread](https://github.com/csiro-hydroinformatics/efts-io/issues/2)."
   ]
  },
  {
   "cell_type": "code",
   "execution_count": 15,
   "id": "13",
   "metadata": {},
   "outputs": [
    {
     "name": "stdout",
     "output_type": "stream",
     "text": [
      "<xarray.Dataset> Size: 676B\n",
      "Dimensions:       (realisation: 1, lead_time: 1, station_id: 3, time: 7)\n",
      "Coordinates:\n",
      "  * realisation   (realisation) int32 4B 1\n",
      "  * lead_time     (lead_time) int32 4B 0\n",
      "  * station_id    (station_id) <U11 132B '28286670' '28294676' '28294677'\n",
      "  * time          (time) object 56B 2023-11-04T23:00:00+00:00 ... 2023-11-10T...\n",
      "Data variables:\n",
      "    area          (station_id) float32 12B 3.353 1.76 4.988\n",
      "    lat           (station_id) float32 12B -41.85 -41.82 -41.85\n",
      "    lon           (station_id) float32 12B 145.6 145.6 145.6\n",
      "    rain_obs      (time, realisation, station_id, lead_time) float32 84B 0.09...\n",
      "    station_name  (station_id) <U30 360B '28286670' '28294676' '28294677'\n",
      "Attributes:\n",
      "    title:                   Precip from Hydro Tasmania's observation network...\n",
      "    institution:             CSIRO Land & Water\n",
      "    source:                  \n",
      "    catchment:               Hydro Tas\n",
      "    STF_convention_version:  2.0\n",
      "    STF_nc_spec:             https://wiki.csiro.au/display/wirada/NetCDF+for+...\n",
      "    comment:                 \n",
      "    history:                 Thu Jul 17 16:29:16 2025: ncks -d time,8389, -d ...\n",
      "    NCO:                     netCDF Operators version 5.1.4 (Homepage = http:...\n"
     ]
    }
   ],
   "source": [
    "print(rain_stf.data)"
   ]
  },
  {
   "cell_type": "markdown",
   "id": "0debdf2d-cd85-476e-9d82-daf29554b4ee",
   "metadata": {},
   "source": [
    "## Saving a STF 2.0 file\n",
    "\n",
    "Since the data was loaded from an STF 2.0 file, one would hope we can round trip and save to disk. The method `writeable_to_stf2` performs checks on the in-memory representation, to determine if it has the information to create a compliant netCDF file. In this case, unsurprisingly:\n"
   ]
  },
  {
   "cell_type": "code",
   "execution_count": 16,
   "id": "9ae686d1-b34c-4bb0-ab65-901189d42f5c",
   "metadata": {},
   "outputs": [
    {
     "data": {
      "text/plain": [
       "True"
      ]
     },
     "execution_count": 16,
     "metadata": {},
     "output_type": "execute_result"
    }
   ],
   "source": [
    "rain_stf.writeable_to_stf2()"
   ]
  },
  {
   "cell_type": "code",
   "execution_count": 17,
   "id": "b57d721b-0eb5-4f1a-a0fe-4859d9bdfecc",
   "metadata": {},
   "outputs": [],
   "source": [
    "import tempfile"
   ]
  },
  {
   "cell_type": "code",
   "execution_count": 18,
   "id": "04c41f67-4b3f-43a0-82d4-64e96d63cd90",
   "metadata": {},
   "outputs": [],
   "source": [
    "out_fn = tempfile.NamedTemporaryFile().name"
   ]
  },
  {
   "cell_type": "code",
   "execution_count": 19,
   "id": "d157ac41-f78c-42fa-a1ba-7e6c621f910b",
   "metadata": {},
   "outputs": [
    {
     "data": {
      "text/plain": [
       "'/tmp/tmpa78r0nyz'"
      ]
     },
     "execution_count": 19,
     "metadata": {},
     "output_type": "execute_result"
    }
   ],
   "source": [
    "out_fn"
   ]
  },
  {
   "cell_type": "code",
   "execution_count": 20,
   "id": "7bedd518-0deb-4255-9bd5-0379e247a63e",
   "metadata": {},
   "outputs": [
    {
     "data": {
      "text/plain": [
       "False"
      ]
     },
     "execution_count": 20,
     "metadata": {},
     "output_type": "execute_result"
    }
   ],
   "source": [
    "Path(out_fn).exists()"
   ]
  },
  {
   "cell_type": "code",
   "execution_count": 21,
   "id": "84517097-292a-4a93-bae1-8520a71f11c0",
   "metadata": {},
   "outputs": [],
   "source": [
    "from efts_io.wrapper import StfVariable, StfDataType"
   ]
  },
  {
   "cell_type": "code",
   "execution_count": 22,
   "id": "a71d0912-cafb-4bde-8e9b-ea548733aa77",
   "metadata": {},
   "outputs": [],
   "source": [
    "rain_stf.save_to_stf2(\n",
    "    path=out_fn,\n",
    "    variable_name=\"rain_obs\",\n",
    "    var_type=StfVariable.RAINFALL,\n",
    "    data_type=StfDataType.DERIVED_FROM_OBSERVATIONS,\n",
    "    ens=True,\n",
    "    timestep=\"days\",\n",
    "    data_qual=None,\n",
    ")"
   ]
  },
  {
   "cell_type": "code",
   "execution_count": 26,
   "id": "383eff45-8056-4458-8576-fd9d12a7b80a",
   "metadata": {},
   "outputs": [],
   "source": [
    "compliance_report = check_stf_compliance(out_fn)"
   ]
  },
  {
   "cell_type": "markdown",
   "id": "f01136f7-07e0-4e66-a48c-d49ea02b057d",
   "metadata": {},
   "source": [
    "One would hope that what the package writes out passes the low-level checks:"
   ]
  },
  {
   "cell_type": "code",
   "execution_count": 27,
   "id": "7df6604d-1e73-4607-8a48-adee80daaf2f",
   "metadata": {},
   "outputs": [
    {
     "name": "stdout",
     "output_type": "stream",
     "text": [
      "WARNING: []\n",
      "ERROR: []\n"
     ]
    }
   ],
   "source": [
    "print(\"WARNING:\", compliance_report[\"WARNING\"])\n",
    "print(\"ERROR:\", compliance_report[\"ERROR\"])"
   ]
  },
  {
   "cell_type": "code",
   "execution_count": 28,
   "id": "f38aa509-bfcf-48c0-b6da-729cef19c01b",
   "metadata": {},
   "outputs": [
    {
     "name": "stdout",
     "output_type": "stream",
     "text": [
      "INFO: [\"Dimension 'time' is present.\", \"Dimension 'station' is present.\", \"Dimension 'lead_time' is present.\", \"Dimension 'ens_member' is present.\", \"Dimension 'strLen' is present.\", \"Global attribute 'title' is present.\", \"Global attribute 'institution' is present.\", \"Global attribute 'source' is present.\", \"Global attribute 'catchment' is present.\", \"Global attribute 'STF_convention_version' is present.\", \"Global attribute 'STF_nc_spec' is present.\", \"Global attribute 'comment' is present.\", \"Global attribute 'history' is present.\", \"Mandatory variable 'time' is present.\", \"Attribute 'standard_name' for variable 'time' is present.\", \"Attribute 'long_name' for variable 'time' is present.\", \"Attribute 'units' for variable 'time' is present.\", \"Attribute 'time_standard' for variable 'time' is present.\", \"Attribute 'axis' for variable 'time' is present.\", \"Mandatory variable 'station_id' is present.\", \"Attribute 'long_name' for variable 'station_id' is present.\", \"Mandatory variable 'station_name' is present.\", \"Attribute 'long_name' for variable 'station_name' is present.\", \"Mandatory variable 'ens_member' is present.\", \"Attribute 'standard_name' for variable 'ens_member' is present.\", \"Attribute 'long_name' for variable 'ens_member' is present.\", \"Attribute 'units' for variable 'ens_member' is present.\", \"Attribute 'axis' for variable 'ens_member' is present.\", \"Mandatory variable 'lead_time' is present.\", \"Attribute 'standard_name' for variable 'lead_time' is present.\", \"Attribute 'long_name' for variable 'lead_time' is present.\", \"Attribute 'units' for variable 'lead_time' is present.\", \"Attribute 'axis' for variable 'lead_time' is present.\", \"Mandatory variable 'lat' is present.\", \"Attribute 'long_name' for variable 'lat' is present.\", \"Attribute 'units' for variable 'lat' is present.\", \"Attribute 'axis' for variable 'lat' is present.\", \"Mandatory variable 'lon' is present.\", \"Attribute 'long_name' for variable 'lon' is present.\", \"Attribute 'units' for variable 'lon' is present.\", \"Attribute 'axis' for variable 'lon' is present.\"]\n"
     ]
    }
   ],
   "source": [
    "print(\"INFO:\", compliance_report[\"INFO\"])"
   ]
  },
  {
   "cell_type": "markdown",
   "id": "d0b173d4-8324-42c8-96e6-c76bc5e12a99",
   "metadata": {},
   "source": [
    "Let's clean up the temporary file, in case the operating system does not later on."
   ]
  },
  {
   "cell_type": "code",
   "execution_count": 34,
   "id": "2a126ac7-de0e-408d-a745-cfc674c531ca",
   "metadata": {},
   "outputs": [],
   "source": [
    "import os, time\n",
    "\n",
    "time.sleep(1) # limit the risk of file lock on the output file.\n",
    "if Path(out_fn).exists():\n",
    "    os.remove(out_fn)"
   ]
  },
  {
   "cell_type": "markdown",
   "id": "9d52acf4-4298-4a45-b669-631b147e09d7",
   "metadata": {},
   "source": [
    "## Creating a new STF xarray dataset\n",
    "\n",
    "**UNDER CONSTRUCTION**. This will probably be revised.\n",
    "\n",
    "There are several ways to create a dataset for ensemble forecast time series with `efts-io`. One helper function to create a data set is [`xr_efts`](https://csiro-hydroinformatics.github.io/efts-io/reference/efts_io/wrapper/?h=xr_efts#efts_io.wrapper.xr_efts), particularly if you know upfront the geometry (dimensions) of your dataset:"
   ]
  },
  {
   "cell_type": "code",
   "execution_count": 12,
   "id": "1",
   "metadata": {},
   "outputs": [],
   "source": [
    "import pandas as pd\n",
    "import numpy as np"
   ]
  },
  {
   "cell_type": "code",
   "execution_count": 13,
   "id": "2",
   "metadata": {},
   "outputs": [],
   "source": [
    "from efts_io import wrapper as w"
   ]
  },
  {
   "cell_type": "code",
   "execution_count": 14,
   "id": "3",
   "metadata": {},
   "outputs": [],
   "source": [
    "issue_times = pd.date_range(\"2010-01-01\", periods=31, freq=\"D\")\n",
    "station_ids = [\"410088\",\"410776\"]\n",
    "lead_times = np.arange(start=1, stop=4, step=1)\n",
    "lead_time_tstep = \"hours\"\n",
    "ensemble_size = 10\n",
    "station_names= [\"GOODRADIGBEE B/BELLA\", \"Licking Hole Ck\"]# None\n",
    "nc_attributes = None\n",
    "latitudes = None\n",
    "longitudes = None\n",
    "areas = None\n",
    "\n",
    "d = w.xr_efts(\n",
    "    issue_times,\n",
    "    station_ids,\n",
    "    lead_times,\n",
    "    lead_time_tstep,\n",
    "    ensemble_size,\n",
    "    station_names,\n",
    "    latitudes,\n",
    "    longitudes,\n",
    "    areas,\n",
    "    nc_attributes,\n",
    ")\n"
   ]
  },
  {
   "cell_type": "markdown",
   "id": "35074a42-39f2-4be0-9bfc-4f7126758bad",
   "metadata": {},
   "source": [
    "Let us have a look at the created Dataset:"
   ]
  },
  {
   "cell_type": "code",
   "execution_count": 15,
   "id": "5",
   "metadata": {},
   "outputs": [
    {
     "data": {
      "text/html": [
       "<div><svg style=\"position: absolute; width: 0; height: 0; overflow: hidden\">\n",
       "<defs>\n",
       "<symbol id=\"icon-database\" viewBox=\"0 0 32 32\">\n",
       "<path d=\"M16 0c-8.837 0-16 2.239-16 5v4c0 2.761 7.163 5 16 5s16-2.239 16-5v-4c0-2.761-7.163-5-16-5z\"></path>\n",
       "<path d=\"M16 17c-8.837 0-16-2.239-16-5v6c0 2.761 7.163 5 16 5s16-2.239 16-5v-6c0 2.761-7.163 5-16 5z\"></path>\n",
       "<path d=\"M16 26c-8.837 0-16-2.239-16-5v6c0 2.761 7.163 5 16 5s16-2.239 16-5v-6c0 2.761-7.163 5-16 5z\"></path>\n",
       "</symbol>\n",
       "<symbol id=\"icon-file-text2\" viewBox=\"0 0 32 32\">\n",
       "<path d=\"M28.681 7.159c-0.694-0.947-1.662-2.053-2.724-3.116s-2.169-2.030-3.116-2.724c-1.612-1.182-2.393-1.319-2.841-1.319h-15.5c-1.378 0-2.5 1.121-2.5 2.5v27c0 1.378 1.122 2.5 2.5 2.5h23c1.378 0 2.5-1.122 2.5-2.5v-19.5c0-0.448-0.137-1.23-1.319-2.841zM24.543 5.457c0.959 0.959 1.712 1.825 2.268 2.543h-4.811v-4.811c0.718 0.556 1.584 1.309 2.543 2.268zM28 29.5c0 0.271-0.229 0.5-0.5 0.5h-23c-0.271 0-0.5-0.229-0.5-0.5v-27c0-0.271 0.229-0.5 0.5-0.5 0 0 15.499-0 15.5 0v7c0 0.552 0.448 1 1 1h7v19.5z\"></path>\n",
       "<path d=\"M23 26h-14c-0.552 0-1-0.448-1-1s0.448-1 1-1h14c0.552 0 1 0.448 1 1s-0.448 1-1 1z\"></path>\n",
       "<path d=\"M23 22h-14c-0.552 0-1-0.448-1-1s0.448-1 1-1h14c0.552 0 1 0.448 1 1s-0.448 1-1 1z\"></path>\n",
       "<path d=\"M23 18h-14c-0.552 0-1-0.448-1-1s0.448-1 1-1h14c0.552 0 1 0.448 1 1s-0.448 1-1 1z\"></path>\n",
       "</symbol>\n",
       "</defs>\n",
       "</svg>\n",
       "<style>/* CSS stylesheet for displaying xarray objects in jupyterlab.\n",
       " *\n",
       " */\n",
       "\n",
       ":root {\n",
       "  --xr-font-color0: var(--jp-content-font-color0, rgba(0, 0, 0, 1));\n",
       "  --xr-font-color2: var(--jp-content-font-color2, rgba(0, 0, 0, 0.54));\n",
       "  --xr-font-color3: var(--jp-content-font-color3, rgba(0, 0, 0, 0.38));\n",
       "  --xr-border-color: var(--jp-border-color2, #e0e0e0);\n",
       "  --xr-disabled-color: var(--jp-layout-color3, #bdbdbd);\n",
       "  --xr-background-color: var(--jp-layout-color0, white);\n",
       "  --xr-background-color-row-even: var(--jp-layout-color1, white);\n",
       "  --xr-background-color-row-odd: var(--jp-layout-color2, #eeeeee);\n",
       "}\n",
       "\n",
       "html[theme=dark],\n",
       "html[data-theme=dark],\n",
       "body[data-theme=dark],\n",
       "body.vscode-dark {\n",
       "  --xr-font-color0: rgba(255, 255, 255, 1);\n",
       "  --xr-font-color2: rgba(255, 255, 255, 0.54);\n",
       "  --xr-font-color3: rgba(255, 255, 255, 0.38);\n",
       "  --xr-border-color: #1F1F1F;\n",
       "  --xr-disabled-color: #515151;\n",
       "  --xr-background-color: #111111;\n",
       "  --xr-background-color-row-even: #111111;\n",
       "  --xr-background-color-row-odd: #313131;\n",
       "}\n",
       "\n",
       ".xr-wrap {\n",
       "  display: block !important;\n",
       "  min-width: 300px;\n",
       "  max-width: 700px;\n",
       "}\n",
       "\n",
       ".xr-text-repr-fallback {\n",
       "  /* fallback to plain text repr when CSS is not injected (untrusted notebook) */\n",
       "  display: none;\n",
       "}\n",
       "\n",
       ".xr-header {\n",
       "  padding-top: 6px;\n",
       "  padding-bottom: 6px;\n",
       "  margin-bottom: 4px;\n",
       "  border-bottom: solid 1px var(--xr-border-color);\n",
       "}\n",
       "\n",
       ".xr-header > div,\n",
       ".xr-header > ul {\n",
       "  display: inline;\n",
       "  margin-top: 0;\n",
       "  margin-bottom: 0;\n",
       "}\n",
       "\n",
       ".xr-obj-type,\n",
       ".xr-array-name {\n",
       "  margin-left: 2px;\n",
       "  margin-right: 10px;\n",
       "}\n",
       "\n",
       ".xr-obj-type {\n",
       "  color: var(--xr-font-color2);\n",
       "}\n",
       "\n",
       ".xr-sections {\n",
       "  padding-left: 0 !important;\n",
       "  display: grid;\n",
       "  grid-template-columns: 150px auto auto 1fr 20px 20px;\n",
       "}\n",
       "\n",
       ".xr-section-item {\n",
       "  display: contents;\n",
       "}\n",
       "\n",
       ".xr-section-item input {\n",
       "  display: none;\n",
       "}\n",
       "\n",
       ".xr-section-item input + label {\n",
       "  color: var(--xr-disabled-color);\n",
       "}\n",
       "\n",
       ".xr-section-item input:enabled + label {\n",
       "  cursor: pointer;\n",
       "  color: var(--xr-font-color2);\n",
       "}\n",
       "\n",
       ".xr-section-item input:enabled + label:hover {\n",
       "  color: var(--xr-font-color0);\n",
       "}\n",
       "\n",
       ".xr-section-summary {\n",
       "  grid-column: 1;\n",
       "  color: var(--xr-font-color2);\n",
       "  font-weight: 500;\n",
       "}\n",
       "\n",
       ".xr-section-summary > span {\n",
       "  display: inline-block;\n",
       "  padding-left: 0.5em;\n",
       "}\n",
       "\n",
       ".xr-section-summary-in:disabled + label {\n",
       "  color: var(--xr-font-color2);\n",
       "}\n",
       "\n",
       ".xr-section-summary-in + label:before {\n",
       "  display: inline-block;\n",
       "  content: '►';\n",
       "  font-size: 11px;\n",
       "  width: 15px;\n",
       "  text-align: center;\n",
       "}\n",
       "\n",
       ".xr-section-summary-in:disabled + label:before {\n",
       "  color: var(--xr-disabled-color);\n",
       "}\n",
       "\n",
       ".xr-section-summary-in:checked + label:before {\n",
       "  content: '▼';\n",
       "}\n",
       "\n",
       ".xr-section-summary-in:checked + label > span {\n",
       "  display: none;\n",
       "}\n",
       "\n",
       ".xr-section-summary,\n",
       ".xr-section-inline-details {\n",
       "  padding-top: 4px;\n",
       "  padding-bottom: 4px;\n",
       "}\n",
       "\n",
       ".xr-section-inline-details {\n",
       "  grid-column: 2 / -1;\n",
       "}\n",
       "\n",
       ".xr-section-details {\n",
       "  display: none;\n",
       "  grid-column: 1 / -1;\n",
       "  margin-bottom: 5px;\n",
       "}\n",
       "\n",
       ".xr-section-summary-in:checked ~ .xr-section-details {\n",
       "  display: contents;\n",
       "}\n",
       "\n",
       ".xr-array-wrap {\n",
       "  grid-column: 1 / -1;\n",
       "  display: grid;\n",
       "  grid-template-columns: 20px auto;\n",
       "}\n",
       "\n",
       ".xr-array-wrap > label {\n",
       "  grid-column: 1;\n",
       "  vertical-align: top;\n",
       "}\n",
       "\n",
       ".xr-preview {\n",
       "  color: var(--xr-font-color3);\n",
       "}\n",
       "\n",
       ".xr-array-preview,\n",
       ".xr-array-data {\n",
       "  padding: 0 5px !important;\n",
       "  grid-column: 2;\n",
       "}\n",
       "\n",
       ".xr-array-data,\n",
       ".xr-array-in:checked ~ .xr-array-preview {\n",
       "  display: none;\n",
       "}\n",
       "\n",
       ".xr-array-in:checked ~ .xr-array-data,\n",
       ".xr-array-preview {\n",
       "  display: inline-block;\n",
       "}\n",
       "\n",
       ".xr-dim-list {\n",
       "  display: inline-block !important;\n",
       "  list-style: none;\n",
       "  padding: 0 !important;\n",
       "  margin: 0;\n",
       "}\n",
       "\n",
       ".xr-dim-list li {\n",
       "  display: inline-block;\n",
       "  padding: 0;\n",
       "  margin: 0;\n",
       "}\n",
       "\n",
       ".xr-dim-list:before {\n",
       "  content: '(';\n",
       "}\n",
       "\n",
       ".xr-dim-list:after {\n",
       "  content: ')';\n",
       "}\n",
       "\n",
       ".xr-dim-list li:not(:last-child):after {\n",
       "  content: ',';\n",
       "  padding-right: 5px;\n",
       "}\n",
       "\n",
       ".xr-has-index {\n",
       "  font-weight: bold;\n",
       "}\n",
       "\n",
       ".xr-var-list,\n",
       ".xr-var-item {\n",
       "  display: contents;\n",
       "}\n",
       "\n",
       ".xr-var-item > div,\n",
       ".xr-var-item label,\n",
       ".xr-var-item > .xr-var-name span {\n",
       "  background-color: var(--xr-background-color-row-even);\n",
       "  margin-bottom: 0;\n",
       "}\n",
       "\n",
       ".xr-var-item > .xr-var-name:hover span {\n",
       "  padding-right: 5px;\n",
       "}\n",
       "\n",
       ".xr-var-list > li:nth-child(odd) > div,\n",
       ".xr-var-list > li:nth-child(odd) > label,\n",
       ".xr-var-list > li:nth-child(odd) > .xr-var-name span {\n",
       "  background-color: var(--xr-background-color-row-odd);\n",
       "}\n",
       "\n",
       ".xr-var-name {\n",
       "  grid-column: 1;\n",
       "}\n",
       "\n",
       ".xr-var-dims {\n",
       "  grid-column: 2;\n",
       "}\n",
       "\n",
       ".xr-var-dtype {\n",
       "  grid-column: 3;\n",
       "  text-align: right;\n",
       "  color: var(--xr-font-color2);\n",
       "}\n",
       "\n",
       ".xr-var-preview {\n",
       "  grid-column: 4;\n",
       "}\n",
       "\n",
       ".xr-index-preview {\n",
       "  grid-column: 2 / 5;\n",
       "  color: var(--xr-font-color2);\n",
       "}\n",
       "\n",
       ".xr-var-name,\n",
       ".xr-var-dims,\n",
       ".xr-var-dtype,\n",
       ".xr-preview,\n",
       ".xr-attrs dt {\n",
       "  white-space: nowrap;\n",
       "  overflow: hidden;\n",
       "  text-overflow: ellipsis;\n",
       "  padding-right: 10px;\n",
       "}\n",
       "\n",
       ".xr-var-name:hover,\n",
       ".xr-var-dims:hover,\n",
       ".xr-var-dtype:hover,\n",
       ".xr-attrs dt:hover {\n",
       "  overflow: visible;\n",
       "  width: auto;\n",
       "  z-index: 1;\n",
       "}\n",
       "\n",
       ".xr-var-attrs,\n",
       ".xr-var-data,\n",
       ".xr-index-data {\n",
       "  display: none;\n",
       "  background-color: var(--xr-background-color) !important;\n",
       "  padding-bottom: 5px !important;\n",
       "}\n",
       "\n",
       ".xr-var-attrs-in:checked ~ .xr-var-attrs,\n",
       ".xr-var-data-in:checked ~ .xr-var-data,\n",
       ".xr-index-data-in:checked ~ .xr-index-data {\n",
       "  display: block;\n",
       "}\n",
       "\n",
       ".xr-var-data > table {\n",
       "  float: right;\n",
       "}\n",
       "\n",
       ".xr-var-name span,\n",
       ".xr-var-data,\n",
       ".xr-index-name div,\n",
       ".xr-index-data,\n",
       ".xr-attrs {\n",
       "  padding-left: 25px !important;\n",
       "}\n",
       "\n",
       ".xr-attrs,\n",
       ".xr-var-attrs,\n",
       ".xr-var-data,\n",
       ".xr-index-data {\n",
       "  grid-column: 1 / -1;\n",
       "}\n",
       "\n",
       "dl.xr-attrs {\n",
       "  padding: 0;\n",
       "  margin: 0;\n",
       "  display: grid;\n",
       "  grid-template-columns: 125px auto;\n",
       "}\n",
       "\n",
       ".xr-attrs dt,\n",
       ".xr-attrs dd {\n",
       "  padding: 0;\n",
       "  margin: 0;\n",
       "  float: left;\n",
       "  padding-right: 10px;\n",
       "  width: auto;\n",
       "}\n",
       "\n",
       ".xr-attrs dt {\n",
       "  font-weight: normal;\n",
       "  grid-column: 1;\n",
       "}\n",
       "\n",
       ".xr-attrs dt:hover span {\n",
       "  display: inline-block;\n",
       "  background: var(--xr-background-color);\n",
       "  padding-right: 10px;\n",
       "}\n",
       "\n",
       ".xr-attrs dd {\n",
       "  grid-column: 2;\n",
       "  white-space: pre-wrap;\n",
       "  word-break: break-all;\n",
       "}\n",
       "\n",
       ".xr-icon-database,\n",
       ".xr-icon-file-text2,\n",
       ".xr-no-icon {\n",
       "  display: inline-block;\n",
       "  vertical-align: middle;\n",
       "  width: 1em;\n",
       "  height: 1.5em !important;\n",
       "  stroke-width: 0;\n",
       "  stroke: currentColor;\n",
       "  fill: currentColor;\n",
       "}\n",
       "</style><pre class='xr-text-repr-fallback'>&lt;xarray.Dataset&gt; Size: 624B\n",
       "Dimensions:       (station: 2, time: 31, ens_member: 10, lead_time: 3)\n",
       "Coordinates:\n",
       "  * time          (time) datetime64[ns] 248B 2010-01-01 ... 2010-01-31\n",
       "  * station       (station) int64 16B 1 2\n",
       "  * ens_member    (ens_member) int64 80B 1 2 3 4 5 6 7 8 9 10\n",
       "  * lead_time     (lead_time) int64 24B 1 2 3\n",
       "  * station_id    (station) &lt;U6 48B &#x27;410088&#x27; &#x27;410776&#x27;\n",
       "Data variables:\n",
       "    station_name  (station) &lt;U20 160B &#x27;GOODRADIGBEE B/BELLA&#x27; &#x27;Licking Hole Ck&#x27;\n",
       "    lat           (station) float64 16B nan nan\n",
       "    lon           (station) float64 16B nan nan\n",
       "    area          (station) float64 16B nan nan\n",
       "Attributes:\n",
       "    title:                   not provided\n",
       "    institution:             not provided\n",
       "    catchment:               not provided\n",
       "    source:                  not provided\n",
       "    comment:                 not provided\n",
       "    history:                 not provided\n",
       "    STF_convention_version:  2.0\n",
       "    STF_nc_spec:             https://github.com/csiro-hydroinformatics/efts-i...</pre><div class='xr-wrap' style='display:none'><div class='xr-header'><div class='xr-obj-type'>xarray.Dataset</div></div><ul class='xr-sections'><li class='xr-section-item'><input id='section-63959cf4-8ea9-43c7-b08f-0091f4ea346d' class='xr-section-summary-in' type='checkbox' disabled ><label for='section-63959cf4-8ea9-43c7-b08f-0091f4ea346d' class='xr-section-summary'  title='Expand/collapse section'>Dimensions:</label><div class='xr-section-inline-details'><ul class='xr-dim-list'><li><span class='xr-has-index'>station</span>: 2</li><li><span class='xr-has-index'>time</span>: 31</li><li><span class='xr-has-index'>ens_member</span>: 10</li><li><span class='xr-has-index'>lead_time</span>: 3</li></ul></div><div class='xr-section-details'></div></li><li class='xr-section-item'><input id='section-a35d03f1-c79e-457e-9974-9919b876579c' class='xr-section-summary-in' type='checkbox'  checked><label for='section-a35d03f1-c79e-457e-9974-9919b876579c' class='xr-section-summary' >Coordinates: <span>(5)</span></label><div class='xr-section-inline-details'></div><div class='xr-section-details'><ul class='xr-var-list'><li class='xr-var-item'><div class='xr-var-name'><span class='xr-has-index'>time</span></div><div class='xr-var-dims'>(time)</div><div class='xr-var-dtype'>datetime64[ns]</div><div class='xr-var-preview xr-preview'>2010-01-01 ... 2010-01-31</div><input id='attrs-c278722e-86d8-49cb-b895-e815ca83d29b' class='xr-var-attrs-in' type='checkbox' ><label for='attrs-c278722e-86d8-49cb-b895-e815ca83d29b' title='Show/Hide attributes'><svg class='icon xr-icon-file-text2'><use xlink:href='#icon-file-text2'></use></svg></label><input id='data-2bcc3123-f804-4b6d-ae8b-ef2ef63ab9d9' class='xr-var-data-in' type='checkbox'><label for='data-2bcc3123-f804-4b6d-ae8b-ef2ef63ab9d9' title='Show/Hide data repr'><svg class='icon xr-icon-database'><use xlink:href='#icon-database'></use></svg></label><div class='xr-var-attrs'><dl class='xr-attrs'><dt><span>standard_name :</span></dt><dd>time</dd><dt><span>long_name :</span></dt><dd>time</dd><dt><span>axis :</span></dt><dd>t</dd></dl></div><div class='xr-var-data'><pre>array([&#x27;2010-01-01T00:00:00.000000000&#x27;, &#x27;2010-01-02T00:00:00.000000000&#x27;,\n",
       "       &#x27;2010-01-03T00:00:00.000000000&#x27;, &#x27;2010-01-04T00:00:00.000000000&#x27;,\n",
       "       &#x27;2010-01-05T00:00:00.000000000&#x27;, &#x27;2010-01-06T00:00:00.000000000&#x27;,\n",
       "       &#x27;2010-01-07T00:00:00.000000000&#x27;, &#x27;2010-01-08T00:00:00.000000000&#x27;,\n",
       "       &#x27;2010-01-09T00:00:00.000000000&#x27;, &#x27;2010-01-10T00:00:00.000000000&#x27;,\n",
       "       &#x27;2010-01-11T00:00:00.000000000&#x27;, &#x27;2010-01-12T00:00:00.000000000&#x27;,\n",
       "       &#x27;2010-01-13T00:00:00.000000000&#x27;, &#x27;2010-01-14T00:00:00.000000000&#x27;,\n",
       "       &#x27;2010-01-15T00:00:00.000000000&#x27;, &#x27;2010-01-16T00:00:00.000000000&#x27;,\n",
       "       &#x27;2010-01-17T00:00:00.000000000&#x27;, &#x27;2010-01-18T00:00:00.000000000&#x27;,\n",
       "       &#x27;2010-01-19T00:00:00.000000000&#x27;, &#x27;2010-01-20T00:00:00.000000000&#x27;,\n",
       "       &#x27;2010-01-21T00:00:00.000000000&#x27;, &#x27;2010-01-22T00:00:00.000000000&#x27;,\n",
       "       &#x27;2010-01-23T00:00:00.000000000&#x27;, &#x27;2010-01-24T00:00:00.000000000&#x27;,\n",
       "       &#x27;2010-01-25T00:00:00.000000000&#x27;, &#x27;2010-01-26T00:00:00.000000000&#x27;,\n",
       "       &#x27;2010-01-27T00:00:00.000000000&#x27;, &#x27;2010-01-28T00:00:00.000000000&#x27;,\n",
       "       &#x27;2010-01-29T00:00:00.000000000&#x27;, &#x27;2010-01-30T00:00:00.000000000&#x27;,\n",
       "       &#x27;2010-01-31T00:00:00.000000000&#x27;], dtype=&#x27;datetime64[ns]&#x27;)</pre></div></li><li class='xr-var-item'><div class='xr-var-name'><span class='xr-has-index'>station</span></div><div class='xr-var-dims'>(station)</div><div class='xr-var-dtype'>int64</div><div class='xr-var-preview xr-preview'>1 2</div><input id='attrs-6f9dfd67-7445-4dc1-94b7-5954b93c93c0' class='xr-var-attrs-in' type='checkbox' disabled><label for='attrs-6f9dfd67-7445-4dc1-94b7-5954b93c93c0' title='Show/Hide attributes'><svg class='icon xr-icon-file-text2'><use xlink:href='#icon-file-text2'></use></svg></label><input id='data-d7401ce4-ad36-466a-a691-a6f2c4bf368d' class='xr-var-data-in' type='checkbox'><label for='data-d7401ce4-ad36-466a-a691-a6f2c4bf368d' title='Show/Hide data repr'><svg class='icon xr-icon-database'><use xlink:href='#icon-database'></use></svg></label><div class='xr-var-attrs'><dl class='xr-attrs'></dl></div><div class='xr-var-data'><pre>array([1, 2])</pre></div></li><li class='xr-var-item'><div class='xr-var-name'><span class='xr-has-index'>ens_member</span></div><div class='xr-var-dims'>(ens_member)</div><div class='xr-var-dtype'>int64</div><div class='xr-var-preview xr-preview'>1 2 3 4 5 6 7 8 9 10</div><input id='attrs-01c96e70-ea71-4591-be0c-d0f2a0427b7f' class='xr-var-attrs-in' type='checkbox' ><label for='attrs-01c96e70-ea71-4591-be0c-d0f2a0427b7f' title='Show/Hide attributes'><svg class='icon xr-icon-file-text2'><use xlink:href='#icon-file-text2'></use></svg></label><input id='data-0700762a-0010-4ddd-bc0d-0b22c41653a6' class='xr-var-data-in' type='checkbox'><label for='data-0700762a-0010-4ddd-bc0d-0b22c41653a6' title='Show/Hide data repr'><svg class='icon xr-icon-database'><use xlink:href='#icon-database'></use></svg></label><div class='xr-var-attrs'><dl class='xr-attrs'><dt><span>standard_name :</span></dt><dd>ens_member</dd><dt><span>long_name :</span></dt><dd>ensemble member</dd><dt><span>units :</span></dt><dd>member id</dd><dt><span>axis :</span></dt><dd>u</dd></dl></div><div class='xr-var-data'><pre>array([ 1,  2,  3,  4,  5,  6,  7,  8,  9, 10])</pre></div></li><li class='xr-var-item'><div class='xr-var-name'><span class='xr-has-index'>lead_time</span></div><div class='xr-var-dims'>(lead_time)</div><div class='xr-var-dtype'>int64</div><div class='xr-var-preview xr-preview'>1 2 3</div><input id='attrs-913fa15e-891b-4de6-9256-f6743b91994b' class='xr-var-attrs-in' type='checkbox' ><label for='attrs-913fa15e-891b-4de6-9256-f6743b91994b' title='Show/Hide attributes'><svg class='icon xr-icon-file-text2'><use xlink:href='#icon-file-text2'></use></svg></label><input id='data-e6c72abb-2bc0-462b-bea5-2aa2736f23ab' class='xr-var-data-in' type='checkbox'><label for='data-e6c72abb-2bc0-462b-bea5-2aa2736f23ab' title='Show/Hide data repr'><svg class='icon xr-icon-database'><use xlink:href='#icon-database'></use></svg></label><div class='xr-var-attrs'><dl class='xr-attrs'><dt><span>standard_name :</span></dt><dd>lead time</dd><dt><span>long_name :</span></dt><dd>forecast lead time</dd><dt><span>axis :</span></dt><dd>v</dd><dt><span>units :</span></dt><dd>hours since time</dd></dl></div><div class='xr-var-data'><pre>array([1, 2, 3])</pre></div></li><li class='xr-var-item'><div class='xr-var-name'><span class='xr-has-index'>station_id</span></div><div class='xr-var-dims'>(station)</div><div class='xr-var-dtype'>&lt;U6</div><div class='xr-var-preview xr-preview'>&#x27;410088&#x27; &#x27;410776&#x27;</div><input id='attrs-179912d0-c265-484b-8f65-d36eef6a089e' class='xr-var-attrs-in' type='checkbox' ><label for='attrs-179912d0-c265-484b-8f65-d36eef6a089e' title='Show/Hide attributes'><svg class='icon xr-icon-file-text2'><use xlink:href='#icon-file-text2'></use></svg></label><input id='data-0f88018e-16f4-47bf-b921-97380c797d4b' class='xr-var-data-in' type='checkbox'><label for='data-0f88018e-16f4-47bf-b921-97380c797d4b' title='Show/Hide data repr'><svg class='icon xr-icon-database'><use xlink:href='#icon-database'></use></svg></label><div class='xr-var-attrs'><dl class='xr-attrs'><dt><span>long_name :</span></dt><dd>station or node identification code</dd></dl></div><div class='xr-var-data'><pre>array([&#x27;410088&#x27;, &#x27;410776&#x27;], dtype=&#x27;&lt;U6&#x27;)</pre></div></li></ul></div></li><li class='xr-section-item'><input id='section-346680f7-1476-45b8-a59c-1aeb2d0eb8dc' class='xr-section-summary-in' type='checkbox'  checked><label for='section-346680f7-1476-45b8-a59c-1aeb2d0eb8dc' class='xr-section-summary' >Data variables: <span>(4)</span></label><div class='xr-section-inline-details'></div><div class='xr-section-details'><ul class='xr-var-list'><li class='xr-var-item'><div class='xr-var-name'><span>station_name</span></div><div class='xr-var-dims'>(station)</div><div class='xr-var-dtype'>&lt;U20</div><div class='xr-var-preview xr-preview'>&#x27;GOODRADIGBEE B/BELLA&#x27; &#x27;Licking ...</div><input id='attrs-bb943af2-0d06-4fff-910c-f4fe6004999a' class='xr-var-attrs-in' type='checkbox' ><label for='attrs-bb943af2-0d06-4fff-910c-f4fe6004999a' title='Show/Hide attributes'><svg class='icon xr-icon-file-text2'><use xlink:href='#icon-file-text2'></use></svg></label><input id='data-ba3dd456-3654-4e54-b359-4b16481c1a22' class='xr-var-data-in' type='checkbox'><label for='data-ba3dd456-3654-4e54-b359-4b16481c1a22' title='Show/Hide data repr'><svg class='icon xr-icon-database'><use xlink:href='#icon-database'></use></svg></label><div class='xr-var-attrs'><dl class='xr-attrs'><dt><span>long_name :</span></dt><dd>station or node name</dd></dl></div><div class='xr-var-data'><pre>array([&#x27;GOODRADIGBEE B/BELLA&#x27;, &#x27;Licking Hole Ck&#x27;], dtype=&#x27;&lt;U20&#x27;)</pre></div></li><li class='xr-var-item'><div class='xr-var-name'><span>lat</span></div><div class='xr-var-dims'>(station)</div><div class='xr-var-dtype'>float64</div><div class='xr-var-preview xr-preview'>nan nan</div><input id='attrs-d008df56-ddcc-432c-9c78-d34c0280643c' class='xr-var-attrs-in' type='checkbox' ><label for='attrs-d008df56-ddcc-432c-9c78-d34c0280643c' title='Show/Hide attributes'><svg class='icon xr-icon-file-text2'><use xlink:href='#icon-file-text2'></use></svg></label><input id='data-2aef1670-ee10-4d79-b883-80e00d7266ee' class='xr-var-data-in' type='checkbox'><label for='data-2aef1670-ee10-4d79-b883-80e00d7266ee' title='Show/Hide data repr'><svg class='icon xr-icon-database'><use xlink:href='#icon-database'></use></svg></label><div class='xr-var-attrs'><dl class='xr-attrs'><dt><span>long_name :</span></dt><dd>latitude</dd><dt><span>units :</span></dt><dd>degrees_north</dd><dt><span>axis :</span></dt><dd>y</dd></dl></div><div class='xr-var-data'><pre>array([nan, nan])</pre></div></li><li class='xr-var-item'><div class='xr-var-name'><span>lon</span></div><div class='xr-var-dims'>(station)</div><div class='xr-var-dtype'>float64</div><div class='xr-var-preview xr-preview'>nan nan</div><input id='attrs-3b295cba-a5e5-447c-9300-22812e07e5ec' class='xr-var-attrs-in' type='checkbox' ><label for='attrs-3b295cba-a5e5-447c-9300-22812e07e5ec' title='Show/Hide attributes'><svg class='icon xr-icon-file-text2'><use xlink:href='#icon-file-text2'></use></svg></label><input id='data-5a287933-78c5-4def-86b0-65718419102c' class='xr-var-data-in' type='checkbox'><label for='data-5a287933-78c5-4def-86b0-65718419102c' title='Show/Hide data repr'><svg class='icon xr-icon-database'><use xlink:href='#icon-database'></use></svg></label><div class='xr-var-attrs'><dl class='xr-attrs'><dt><span>long_name :</span></dt><dd>longitude</dd><dt><span>units :</span></dt><dd>degrees_east</dd><dt><span>axis :</span></dt><dd>x</dd></dl></div><div class='xr-var-data'><pre>array([nan, nan])</pre></div></li><li class='xr-var-item'><div class='xr-var-name'><span>area</span></div><div class='xr-var-dims'>(station)</div><div class='xr-var-dtype'>float64</div><div class='xr-var-preview xr-preview'>nan nan</div><input id='attrs-436d5ecb-6148-4834-a87d-a258f3bb5a49' class='xr-var-attrs-in' type='checkbox' ><label for='attrs-436d5ecb-6148-4834-a87d-a258f3bb5a49' title='Show/Hide attributes'><svg class='icon xr-icon-file-text2'><use xlink:href='#icon-file-text2'></use></svg></label><input id='data-028fe314-6498-49d7-9e98-aa5f81df921e' class='xr-var-data-in' type='checkbox'><label for='data-028fe314-6498-49d7-9e98-aa5f81df921e' title='Show/Hide data repr'><svg class='icon xr-icon-database'><use xlink:href='#icon-database'></use></svg></label><div class='xr-var-attrs'><dl class='xr-attrs'><dt><span>long_name :</span></dt><dd>station area</dd><dt><span>units :</span></dt><dd>km^2</dd><dt><span>standard_name :</span></dt><dd>area</dd></dl></div><div class='xr-var-data'><pre>array([nan, nan])</pre></div></li></ul></div></li><li class='xr-section-item'><input id='section-0f3a7620-2b4d-48dd-9fd9-04f97ceade7d' class='xr-section-summary-in' type='checkbox'  ><label for='section-0f3a7620-2b4d-48dd-9fd9-04f97ceade7d' class='xr-section-summary' >Indexes: <span>(5)</span></label><div class='xr-section-inline-details'></div><div class='xr-section-details'><ul class='xr-var-list'><li class='xr-var-item'><div class='xr-index-name'><div>time</div></div><div class='xr-index-preview'>PandasIndex</div><div></div><input id='index-fc55a400-f0ea-4a13-b95e-19684e72f5c9' class='xr-index-data-in' type='checkbox'/><label for='index-fc55a400-f0ea-4a13-b95e-19684e72f5c9' title='Show/Hide index repr'><svg class='icon xr-icon-database'><use xlink:href='#icon-database'></use></svg></label><div class='xr-index-data'><pre>PandasIndex(DatetimeIndex([&#x27;2010-01-01&#x27;, &#x27;2010-01-02&#x27;, &#x27;2010-01-03&#x27;, &#x27;2010-01-04&#x27;,\n",
       "               &#x27;2010-01-05&#x27;, &#x27;2010-01-06&#x27;, &#x27;2010-01-07&#x27;, &#x27;2010-01-08&#x27;,\n",
       "               &#x27;2010-01-09&#x27;, &#x27;2010-01-10&#x27;, &#x27;2010-01-11&#x27;, &#x27;2010-01-12&#x27;,\n",
       "               &#x27;2010-01-13&#x27;, &#x27;2010-01-14&#x27;, &#x27;2010-01-15&#x27;, &#x27;2010-01-16&#x27;,\n",
       "               &#x27;2010-01-17&#x27;, &#x27;2010-01-18&#x27;, &#x27;2010-01-19&#x27;, &#x27;2010-01-20&#x27;,\n",
       "               &#x27;2010-01-21&#x27;, &#x27;2010-01-22&#x27;, &#x27;2010-01-23&#x27;, &#x27;2010-01-24&#x27;,\n",
       "               &#x27;2010-01-25&#x27;, &#x27;2010-01-26&#x27;, &#x27;2010-01-27&#x27;, &#x27;2010-01-28&#x27;,\n",
       "               &#x27;2010-01-29&#x27;, &#x27;2010-01-30&#x27;, &#x27;2010-01-31&#x27;],\n",
       "              dtype=&#x27;datetime64[ns]&#x27;, name=&#x27;time&#x27;, freq=&#x27;D&#x27;))</pre></div></li><li class='xr-var-item'><div class='xr-index-name'><div>station</div></div><div class='xr-index-preview'>PandasIndex</div><div></div><input id='index-6415845c-e8c3-4627-aef7-d1c332fafad9' class='xr-index-data-in' type='checkbox'/><label for='index-6415845c-e8c3-4627-aef7-d1c332fafad9' title='Show/Hide index repr'><svg class='icon xr-icon-database'><use xlink:href='#icon-database'></use></svg></label><div class='xr-index-data'><pre>PandasIndex(Index([1, 2], dtype=&#x27;int64&#x27;, name=&#x27;station&#x27;))</pre></div></li><li class='xr-var-item'><div class='xr-index-name'><div>ens_member</div></div><div class='xr-index-preview'>PandasIndex</div><div></div><input id='index-638f04c0-c397-415b-aa65-3b60e4757ab6' class='xr-index-data-in' type='checkbox'/><label for='index-638f04c0-c397-415b-aa65-3b60e4757ab6' title='Show/Hide index repr'><svg class='icon xr-icon-database'><use xlink:href='#icon-database'></use></svg></label><div class='xr-index-data'><pre>PandasIndex(Index([1, 2, 3, 4, 5, 6, 7, 8, 9, 10], dtype=&#x27;int64&#x27;, name=&#x27;ens_member&#x27;))</pre></div></li><li class='xr-var-item'><div class='xr-index-name'><div>lead_time</div></div><div class='xr-index-preview'>PandasIndex</div><div></div><input id='index-0dbba93f-b691-4428-8e1c-febb51330ae1' class='xr-index-data-in' type='checkbox'/><label for='index-0dbba93f-b691-4428-8e1c-febb51330ae1' title='Show/Hide index repr'><svg class='icon xr-icon-database'><use xlink:href='#icon-database'></use></svg></label><div class='xr-index-data'><pre>PandasIndex(Index([1, 2, 3], dtype=&#x27;int64&#x27;, name=&#x27;lead_time&#x27;))</pre></div></li><li class='xr-var-item'><div class='xr-index-name'><div>station_id</div></div><div class='xr-index-preview'>PandasIndex</div><div></div><input id='index-c74411b1-9f19-41eb-8e66-4d053b77487b' class='xr-index-data-in' type='checkbox'/><label for='index-c74411b1-9f19-41eb-8e66-4d053b77487b' title='Show/Hide index repr'><svg class='icon xr-icon-database'><use xlink:href='#icon-database'></use></svg></label><div class='xr-index-data'><pre>PandasIndex(Index([&#x27;410088&#x27;, &#x27;410776&#x27;], dtype=&#x27;object&#x27;, name=&#x27;station_id&#x27;))</pre></div></li></ul></div></li><li class='xr-section-item'><input id='section-63bc5ce3-a04f-4115-951b-23d077f3fc62' class='xr-section-summary-in' type='checkbox'  checked><label for='section-63bc5ce3-a04f-4115-951b-23d077f3fc62' class='xr-section-summary' >Attributes: <span>(8)</span></label><div class='xr-section-inline-details'></div><div class='xr-section-details'><dl class='xr-attrs'><dt><span>title :</span></dt><dd>not provided</dd><dt><span>institution :</span></dt><dd>not provided</dd><dt><span>catchment :</span></dt><dd>not provided</dd><dt><span>source :</span></dt><dd>not provided</dd><dt><span>comment :</span></dt><dd>not provided</dd><dt><span>history :</span></dt><dd>not provided</dd><dt><span>STF_convention_version :</span></dt><dd>2.0</dd><dt><span>STF_nc_spec :</span></dt><dd>https://github.com/csiro-hydroinformatics/efts-io/blob/42ee35f0f019e9bad48b94914429476a7e8278dc/docs/netcdf_for_water_forecasting.md</dd></dl></div></li></ul></div></div>"
      ],
      "text/plain": [
       "<xarray.Dataset> Size: 624B\n",
       "Dimensions:       (station: 2, time: 31, ens_member: 10, lead_time: 3)\n",
       "Coordinates:\n",
       "  * time          (time) datetime64[ns] 248B 2010-01-01 ... 2010-01-31\n",
       "  * station       (station) int64 16B 1 2\n",
       "  * ens_member    (ens_member) int64 80B 1 2 3 4 5 6 7 8 9 10\n",
       "  * lead_time     (lead_time) int64 24B 1 2 3\n",
       "  * station_id    (station) <U6 48B '410088' '410776'\n",
       "Data variables:\n",
       "    station_name  (station) <U20 160B 'GOODRADIGBEE B/BELLA' 'Licking Hole Ck'\n",
       "    lat           (station) float64 16B nan nan\n",
       "    lon           (station) float64 16B nan nan\n",
       "    area          (station) float64 16B nan nan\n",
       "Attributes:\n",
       "    title:                   not provided\n",
       "    institution:             not provided\n",
       "    catchment:               not provided\n",
       "    source:                  not provided\n",
       "    comment:                 not provided\n",
       "    history:                 not provided\n",
       "    STF_convention_version:  2.0\n",
       "    STF_nc_spec:             https://github.com/csiro-hydroinformatics/efts-i..."
      ]
     },
     "execution_count": 15,
     "metadata": {},
     "output_type": "execute_result"
    }
   ],
   "source": [
    "d"
   ]
  },
  {
   "cell_type": "markdown",
   "id": "7d2746c5-cc53-4579-b4e3-46e1a18689e4",
   "metadata": {},
   "source": [
    "We did not provide custom global attributes to the functions. Defaults were created to be compliant but you should populate it with better values via the `nc_attributes` dictionary.\n",
    "\n",
    "**Note** that while the intent is that the on-disk netCDF file created later will comply with the STF specs, but this is debatable whether the \"in memory\" data set just created should advertise the STF related attributes like `STF_convention_version`. If saved by the user with `to_netcdf` rather than via `efts-io`, it is a tad confusing."
   ]
  },
  {
   "cell_type": "code",
   "execution_count": 16,
   "id": "7",
   "metadata": {},
   "outputs": [
    {
     "data": {
      "text/plain": [
       "{'title': 'not provided',\n",
       " 'institution': 'not provided',\n",
       " 'catchment': 'not provided',\n",
       " 'source': 'not provided',\n",
       " 'comment': 'not provided',\n",
       " 'history': 'not provided',\n",
       " 'STF_convention_version': '2.0',\n",
       " 'STF_nc_spec': 'https://github.com/csiro-hydroinformatics/efts-io/blob/42ee35f0f019e9bad48b94914429476a7e8278dc/docs/netcdf_for_water_forecasting.md'}"
      ]
     },
     "execution_count": 16,
     "metadata": {},
     "output_type": "execute_result"
    }
   ],
   "source": [
    "d.attrs"
   ]
  },
  {
   "cell_type": "code",
   "execution_count": 17,
   "id": "8",
   "metadata": {},
   "outputs": [
    {
     "data": {
      "text/plain": [
       "{'standard_name': 'time', 'long_name': 'time', 'axis': 't'}"
      ]
     },
     "execution_count": 17,
     "metadata": {},
     "output_type": "execute_result"
    }
   ],
   "source": [
    "d.time.attrs"
   ]
  }
 ],
 "metadata": {
  "kernelspec": {
   "display_name": "EFTS-IO",
   "language": "python",
   "name": "efts_io"
  },
  "language_info": {
   "codemirror_mode": {
    "name": "ipython",
    "version": 3
   },
   "file_extension": ".py",
   "mimetype": "text/x-python",
   "name": "python",
   "nbconvert_exporter": "python",
   "pygments_lexer": "ipython3",
   "version": "3.12.5"
  }
 },
 "nbformat": 4,
 "nbformat_minor": 5
}
