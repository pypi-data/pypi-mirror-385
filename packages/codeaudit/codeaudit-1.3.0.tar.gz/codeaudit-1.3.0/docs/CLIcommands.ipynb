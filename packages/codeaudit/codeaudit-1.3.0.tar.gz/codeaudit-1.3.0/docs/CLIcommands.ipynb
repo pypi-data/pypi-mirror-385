{
 "cells": [
  {
   "cell_type": "markdown",
   "id": "6e4cc5f7-58db-4fc9-a5be-b5c75db9b2c1",
   "metadata": {},
   "source": [
    "# Codeaudit CLI Commands\n",
    "\n",
    "Generated overview of codeaudit implemented commands.\n",
    "So always up-to-date with the code!"
   ]
  },
  {
   "cell_type": "code",
   "execution_count": 9,
   "id": "923aba22-7103-4431-8545-ee5596efa371",
   "metadata": {},
   "outputs": [],
   "source": [
    "from codeaudit import codeaudit"
   ]
  },
  {
   "cell_type": "code",
   "execution_count": 10,
   "id": "057c9730-7b09-49a8-82f1-bc681d880c96",
   "metadata": {},
   "outputs": [],
   "source": [
    "output = ''"
   ]
  },
  {
   "cell_type": "code",
   "execution_count": 11,
   "id": "67576531-b66f-42a3-b6e4-460423ca28e0",
   "metadata": {},
   "outputs": [],
   "source": [
    "%%capture version --no-display\n",
    "codeaudit.display_version()"
   ]
  },
  {
   "cell_type": "code",
   "execution_count": 12,
   "id": "2717fe66-9e66-4fcc-ae82-0d1ba26892c4",
   "metadata": {},
   "outputs": [],
   "source": [
    "version_id = version.stdout"
   ]
  },
  {
   "cell_type": "code",
   "execution_count": 13,
   "id": "3f286724-0a8f-45b2-80fe-d6d061fe440a",
   "metadata": {},
   "outputs": [],
   "source": [
    "output += '% THIS FILE IS GENERATED! - Use CLIcommands.ipynb to make it better!\\n'\n",
    "output += '# Commands Overview\\n'\n",
    "output += f'Python Code Audit commands for: {version_id}'"
   ]
  },
  {
   "cell_type": "code",
   "execution_count": 14,
   "id": "693c3354-530b-4a40-a561-ed722d9bb1fa",
   "metadata": {},
   "outputs": [],
   "source": [
    "%%capture helpoutput --no-display\n",
    "codeaudit.display_help()"
   ]
  },
  {
   "cell_type": "code",
   "execution_count": 15,
   "id": "5fa9a420-bd9a-4641-99c9-de0bcf448dbc",
   "metadata": {},
   "outputs": [],
   "source": [
    "output += '```' # raw display\n",
    "output += helpoutput.stdout\n",
    "output += '```' # end raw display\n",
    "output += '\\n' # newlines matter when creating markdown"
   ]
  },
  {
   "cell_type": "code",
   "execution_count": 16,
   "id": "bf6afe56-e0f7-4fa2-a3a5-968bad11bf9c",
   "metadata": {},
   "outputs": [],
   "source": [
    "commands = {  \"overview\": 'overview_report',               \n",
    "                \"modulescan\": 'report_module_information',\n",
    "                \"filescan\" : 'scan_report',                \n",
    "                \"checks\" : 'report_implemented_tests',\n",
    "               \"version\" : 'display_version'} \n",
    "for key, value in commands.items():    \n",
    "    output += f'## Code Audit {key}\\n' # newlines matter when creating markdown\n",
    "    output += '```text\\n' # raw display    \n",
    "    func_name = value\n",
    "    output += getattr(codeaudit, func_name).__doc__\n",
    "    #print(func_name.__doc__)    \n",
    "    output += func_name.__doc__    \n",
    "    output += '\\n' # newlines matter when creating markdown\n",
    "    output += '```\\n' "
   ]
  },
  {
   "cell_type": "code",
   "execution_count": 17,
   "id": "0335783c-7676-4099-94c5-c98cc8f2f205",
   "metadata": {
    "editable": true,
    "slideshow": {
     "slide_type": ""
    },
    "tags": []
   },
   "outputs": [],
   "source": [
    "def create_documentation_file(output):\n",
    "    \"\"\"Creates a MyST file for the documentation\"\"\"\n",
    "    outputfile= \"codeauditcommands.md\"\n",
    "    with open(outputfile, 'w') as f:\n",
    "        f.write(output)    \n",
    "    "
   ]
  },
  {
   "cell_type": "code",
   "execution_count": 18,
   "id": "4667d7ec-3727-4e2d-97b5-6f597c697ec7",
   "metadata": {},
   "outputs": [],
   "source": [
    "create_documentation_file(output)"
   ]
  },
  {
   "cell_type": "markdown",
   "id": "fd67a8f6-ed99-4f69-ab55-aad6103c7b5c",
   "metadata": {},
   "source": [
    "## Create overview of validation commands for in documentation"
   ]
  }
 ],
 "metadata": {
  "kernelspec": {
   "display_name": "Python 3 (ipykernel)",
   "language": "python",
   "name": "python3"
  },
  "language_info": {
   "codemirror_mode": {
    "name": "ipython",
    "version": 3
   },
   "file_extension": ".py",
   "mimetype": "text/x-python",
   "name": "python",
   "nbconvert_exporter": "python",
   "pygments_lexer": "ipython3",
   "version": "3.13.5"
  }
 },
 "nbformat": 4,
 "nbformat_minor": 5
}
