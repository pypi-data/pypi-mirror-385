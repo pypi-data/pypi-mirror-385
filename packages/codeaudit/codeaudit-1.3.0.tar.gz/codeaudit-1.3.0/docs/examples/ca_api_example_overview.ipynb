{
 "cells": [
  {
   "cell_type": "markdown",
   "id": "a7c7195e-93bf-40c3-88b1-61b7601fad2d",
   "metadata": {},
   "source": [
    "# Example:Security Weaknesses Overview\n",
    "\n",
    "This notebook demonstrates how to use the Python Code Audit APIs to generate a visual overview of all detected weaknesses in a file or package.\n",
    "\n",
    "The identified security weaknesses are displayed using an [Altair](https://altair-viz.github.io/index.html) radial chart.\n"
   ]
  },
  {
   "cell_type": "code",
   "execution_count": 6,
   "id": "09e351e8-5a8e-4365-b94a-8f61703ecd04",
   "metadata": {},
   "outputs": [],
   "source": [
    "from codeaudit.api_interfaces import filescan , get_construct_counts\n",
    "from codeaudit.altairplots import issue_plot"
   ]
  },
  {
   "cell_type": "code",
   "execution_count": 3,
   "id": "b532b94a-c19c-4203-8eac-dfa04c0f52cf",
   "metadata": {},
   "outputs": [],
   "source": [
    "demo_file = 'demofile.py'  #Instead of using a single file, you can also use a directory. The file or directory gets scanned on security weaknesses."
   ]
  },
  {
   "cell_type": "code",
   "execution_count": 5,
   "id": "44016841-cf88-4e72-82ed-b57f4cc79a04",
   "metadata": {},
   "outputs": [],
   "source": [
    "result = get_construct_counts(demo_file) #The `get_constructs_counts` API call, scans the file or directory and returns a Python dict."
   ]
  },
  {
   "cell_type": "code",
   "execution_count": 7,
   "id": "88bb7d58-b242-43a7-9e87-06d163302bee",
   "metadata": {},
   "outputs": [
    {
     "data": {
      "text/html": [
       "\n",
       "<style>\n",
       "  #altair-viz-ddeedddf9a44455db9e7a2ac0e32aa43.vega-embed {\n",
       "    width: 100%;\n",
       "    display: flex;\n",
       "  }\n",
       "\n",
       "  #altair-viz-ddeedddf9a44455db9e7a2ac0e32aa43.vega-embed details,\n",
       "  #altair-viz-ddeedddf9a44455db9e7a2ac0e32aa43.vega-embed details summary {\n",
       "    position: relative;\n",
       "  }\n",
       "</style>\n",
       "<div id=\"altair-viz-ddeedddf9a44455db9e7a2ac0e32aa43\"></div>\n",
       "<script type=\"text/javascript\">\n",
       "  var VEGA_DEBUG = (typeof VEGA_DEBUG == \"undefined\") ? {} : VEGA_DEBUG;\n",
       "  (function(spec, embedOpt){\n",
       "    let outputDiv = document.currentScript.previousElementSibling;\n",
       "    if (outputDiv.id !== \"altair-viz-ddeedddf9a44455db9e7a2ac0e32aa43\") {\n",
       "      outputDiv = document.getElementById(\"altair-viz-ddeedddf9a44455db9e7a2ac0e32aa43\");\n",
       "    }\n",
       "\n",
       "    const paths = {\n",
       "      \"vega\": \"https://cdn.jsdelivr.net/npm/vega@5?noext\",\n",
       "      \"vega-lib\": \"https://cdn.jsdelivr.net/npm/vega-lib?noext\",\n",
       "      \"vega-lite\": \"https://cdn.jsdelivr.net/npm/vega-lite@5.20.1?noext\",\n",
       "      \"vega-embed\": \"https://cdn.jsdelivr.net/npm/vega-embed@6?noext\",\n",
       "    };\n",
       "\n",
       "    function maybeLoadScript(lib, version) {\n",
       "      var key = `${lib.replace(\"-\", \"\")}_version`;\n",
       "      return (VEGA_DEBUG[key] == version) ?\n",
       "        Promise.resolve(paths[lib]) :\n",
       "        new Promise(function(resolve, reject) {\n",
       "          var s = document.createElement('script');\n",
       "          document.getElementsByTagName(\"head\")[0].appendChild(s);\n",
       "          s.async = true;\n",
       "          s.onload = () => {\n",
       "            VEGA_DEBUG[key] = version;\n",
       "            return resolve(paths[lib]);\n",
       "          };\n",
       "          s.onerror = () => reject(`Error loading script: ${paths[lib]}`);\n",
       "          s.src = paths[lib];\n",
       "        });\n",
       "    }\n",
       "\n",
       "    function showError(err) {\n",
       "      outputDiv.innerHTML = `<div class=\"error\" style=\"color:red;\">${err}</div>`;\n",
       "      throw err;\n",
       "    }\n",
       "\n",
       "    function displayChart(vegaEmbed) {\n",
       "      vegaEmbed(outputDiv, spec, embedOpt)\n",
       "        .catch(err => showError(`Javascript Error: ${err.message}<br>This usually means there's a typo in your chart specification. See the javascript console for the full traceback.`));\n",
       "    }\n",
       "\n",
       "    if(typeof define === \"function\" && define.amd) {\n",
       "      requirejs.config({paths});\n",
       "      let deps = [\"vega-embed\"];\n",
       "      require(deps, displayChart, err => showError(`Error loading script: ${err.message}`));\n",
       "    } else {\n",
       "      maybeLoadScript(\"vega\", \"5\")\n",
       "        .then(() => maybeLoadScript(\"vega-lite\", \"5.20.1\"))\n",
       "        .then(() => maybeLoadScript(\"vega-embed\", \"6\"))\n",
       "        .catch(showError)\n",
       "        .then(() => displayChart(vegaEmbed));\n",
       "    }\n",
       "  })({\"config\": {\"view\": {\"continuousWidth\": 300, \"continuousHeight\": 300}}, \"data\": {\"name\": \"data-4b0e95bbc5603fd13e7b50f912f80d74\"}, \"mark\": {\"type\": \"arc\", \"innerRadius\": 20}, \"encoding\": {\"color\": {\"field\": \"legend_label\", \"legend\": {\"title\": \"Weaknesses (Count)\"}, \"scale\": {\"scheme\": \"category20\"}, \"type\": \"nominal\"}, \"radius\": {\"field\": \"count\", \"scale\": {\"type\": \"sqrt\"}, \"type\": \"quantitative\"}, \"theta\": {\"field\": \"theta1\", \"stack\": null, \"title\": null, \"type\": \"quantitative\"}, \"theta2\": {\"field\": \"theta0\"}, \"tooltip\": [{\"field\": \"construct\", \"type\": \"nominal\"}, {\"field\": \"count\", \"type\": \"quantitative\"}]}, \"height\": 600, \"title\": \"Overview of Security Weaknesses\", \"width\": 600, \"$schema\": \"https://vega.github.io/schema/vega-lite/v5.20.1.json\", \"datasets\": {\"data-4b0e95bbc5603fd13e7b50f912f80d74\": [{\"construct\": \"assert\", \"count\": 2, \"legend_label\": \"assert (2)\", \"fraction\": 0.03076923076923077, \"theta0\": 0.0, \"theta1\": 0.03076923076923077}, {\"construct\": \"base64\", \"count\": 2, \"legend_label\": \"base64 (2)\", \"fraction\": 0.03076923076923077, \"theta0\": 0.03076923076923077, \"theta1\": 0.06153846153846154}, {\"construct\": \"bz2.BZ2File\", \"count\": 1, \"legend_label\": \"bz2.BZ2File (1)\", \"fraction\": 0.015384615384615385, \"theta0\": 0.06153846153846154, \"theta1\": 0.07692307692307693}, {\"construct\": \"bz2.open\", \"count\": 1, \"legend_label\": \"bz2.open (1)\", \"fraction\": 0.015384615384615385, \"theta0\": 0.07692307692307693, \"theta1\": 0.09230769230769231}, {\"construct\": \"compile\", \"count\": 1, \"legend_label\": \"compile (1)\", \"fraction\": 0.015384615384615385, \"theta0\": 0.09230769230769231, \"theta1\": 0.1076923076923077}, {\"construct\": \"connection.recv\", \"count\": 1, \"legend_label\": \"connection.recv (1)\", \"fraction\": 0.015384615384615385, \"theta0\": 0.1076923076923077, \"theta1\": 0.12307692307692308}, {\"construct\": \"continue\", \"count\": 1, \"legend_label\": \"continue (1)\", \"fraction\": 0.015384615384615385, \"theta0\": 0.12307692307692308, \"theta1\": 0.13846153846153847}, {\"construct\": \"eval\", \"count\": 1, \"legend_label\": \"eval (1)\", \"fraction\": 0.015384615384615385, \"theta0\": 0.13846153846153847, \"theta1\": 0.15384615384615385}, {\"construct\": \"exec\", \"count\": 2, \"legend_label\": \"exec (2)\", \"fraction\": 0.03076923076923077, \"theta0\": 0.15384615384615385, \"theta1\": 0.18461538461538463}, {\"construct\": \"gzip.open\", \"count\": 1, \"legend_label\": \"gzip.open (1)\", \"fraction\": 0.015384615384615385, \"theta0\": 0.18461538461538463, \"theta1\": 0.2}, {\"construct\": \"hashlib.md5\", \"count\": 1, \"legend_label\": \"hashlib.md5 (1)\", \"fraction\": 0.015384615384615385, \"theta0\": 0.2, \"theta1\": 0.2153846153846154}, {\"construct\": \"hashlib.sha1\", \"count\": 2, \"legend_label\": \"hashlib.sha1 (2)\", \"fraction\": 0.03076923076923077, \"theta0\": 0.2153846153846154, \"theta1\": 0.24615384615384617}, {\"construct\": \"http.server.BaseHTTPRequestHandler\", \"count\": 2, \"legend_label\": \"http.server.BaseHTTPRequestHandler (2)\", \"fraction\": 0.03076923076923077, \"theta0\": 0.24615384615384617, \"theta1\": 0.27692307692307694}, {\"construct\": \"http.server.HTTPServer\", \"count\": 1, \"legend_label\": \"http.server.HTTPServer (1)\", \"fraction\": 0.015384615384615385, \"theta0\": 0.27692307692307694, \"theta1\": 0.2923076923076923}, {\"construct\": \"logging.config\", \"count\": 2, \"legend_label\": \"logging.config (2)\", \"fraction\": 0.03076923076923077, \"theta0\": 0.2923076923076923, \"theta1\": 0.3230769230769231}, {\"construct\": \"lzma.LZMAFile\", \"count\": 1, \"legend_label\": \"lzma.LZMAFile (1)\", \"fraction\": 0.015384615384615385, \"theta0\": 0.3230769230769231, \"theta1\": 0.3384615384615385}, {\"construct\": \"lzma.open\", \"count\": 2, \"legend_label\": \"lzma.open (2)\", \"fraction\": 0.03076923076923077, \"theta0\": 0.3384615384615385, \"theta1\": 0.36923076923076925}, {\"construct\": \"marshal.load\", \"count\": 1, \"legend_label\": \"marshal.load (1)\", \"fraction\": 0.015384615384615385, \"theta0\": 0.36923076923076925, \"theta1\": 0.38461538461538464}, {\"construct\": \"marshal.loads\", \"count\": 1, \"legend_label\": \"marshal.loads (1)\", \"fraction\": 0.015384615384615385, \"theta0\": 0.38461538461538464, \"theta1\": 0.4}, {\"construct\": \"os.access\", \"count\": 2, \"legend_label\": \"os.access (2)\", \"fraction\": 0.03076923076923077, \"theta0\": 0.4, \"theta1\": 0.4307692307692308}, {\"construct\": \"os.chmod\", \"count\": 1, \"legend_label\": \"os.chmod (1)\", \"fraction\": 0.015384615384615385, \"theta0\": 0.4307692307692308, \"theta1\": 0.4461538461538462}, {\"construct\": \"os.fork\", \"count\": 3, \"legend_label\": \"os.fork (3)\", \"fraction\": 0.046153846153846156, \"theta0\": 0.4461538461538462, \"theta1\": 0.49230769230769234}, {\"construct\": \"os.forkpty\", \"count\": 1, \"legend_label\": \"os.forkpty (1)\", \"fraction\": 0.015384615384615385, \"theta0\": 0.4923076923076923, \"theta1\": 0.5076923076923077}, {\"construct\": \"os.makedirs\", \"count\": 1, \"legend_label\": \"os.makedirs (1)\", \"fraction\": 0.015384615384615385, \"theta0\": 0.5076923076923077, \"theta1\": 0.523076923076923}, {\"construct\": \"os.popen\", \"count\": 1, \"legend_label\": \"os.popen (1)\", \"fraction\": 0.015384615384615385, \"theta0\": 0.523076923076923, \"theta1\": 0.5384615384615383}, {\"construct\": \"os.system\", \"count\": 1, \"legend_label\": \"os.system (1)\", \"fraction\": 0.015384615384615385, \"theta0\": 0.5384615384615383, \"theta1\": 0.5538461538461537}, {\"construct\": \"os.write\", \"count\": 1, \"legend_label\": \"os.write (1)\", \"fraction\": 0.015384615384615385, \"theta0\": 0.5538461538461537, \"theta1\": 0.569230769230769}, {\"construct\": \"os.writev\", \"count\": 1, \"legend_label\": \"os.writev (1)\", \"fraction\": 0.015384615384615385, \"theta0\": 0.569230769230769, \"theta1\": 0.5846153846153843}, {\"construct\": \"pass\", \"count\": 2, \"legend_label\": \"pass (2)\", \"fraction\": 0.03076923076923077, \"theta0\": 0.5846153846153843, \"theta1\": 0.6153846153846151}, {\"construct\": \"pickle.load\", \"count\": 1, \"legend_label\": \"pickle.load (1)\", \"fraction\": 0.015384615384615385, \"theta0\": 0.6153846153846152, \"theta1\": 0.6307692307692305}, {\"construct\": \"pickle.loads\", \"count\": 2, \"legend_label\": \"pickle.loads (2)\", \"fraction\": 0.03076923076923077, \"theta0\": 0.6307692307692305, \"theta1\": 0.6615384615384613}, {\"construct\": \"random.random\", \"count\": 1, \"legend_label\": \"random.random (1)\", \"fraction\": 0.015384615384615385, \"theta0\": 0.6615384615384614, \"theta1\": 0.6769230769230767}, {\"construct\": \"random.seed\", \"count\": 1, \"legend_label\": \"random.seed (1)\", \"fraction\": 0.015384615384615385, \"theta0\": 0.6769230769230767, \"theta1\": 0.6923076923076921}, {\"construct\": \"s.bind\", \"count\": 2, \"legend_label\": \"s.bind (2)\", \"fraction\": 0.03076923076923077, \"theta0\": 0.6923076923076921, \"theta1\": 0.7230769230769228}, {\"construct\": \"shelve.open\", \"count\": 1, \"legend_label\": \"shelve.open (1)\", \"fraction\": 0.015384615384615385, \"theta0\": 0.723076923076923, \"theta1\": 0.7384615384615383}, {\"construct\": \"shutil.copy\", \"count\": 1, \"legend_label\": \"shutil.copy (1)\", \"fraction\": 0.015384615384615385, \"theta0\": 0.7384615384615383, \"theta1\": 0.7538461538461536}, {\"construct\": \"shutil.rmtree\", \"count\": 1, \"legend_label\": \"shutil.rmtree (1)\", \"fraction\": 0.015384615384615385, \"theta0\": 0.7538461538461536, \"theta1\": 0.7692307692307689}, {\"construct\": \"shutil.unpack_archive\", \"count\": 1, \"legend_label\": \"shutil.unpack_archive (1)\", \"fraction\": 0.015384615384615385, \"theta0\": 0.7692307692307689, \"theta1\": 0.7846153846153843}, {\"construct\": \"sys.setprofile\", \"count\": 2, \"legend_label\": \"sys.setprofile (2)\", \"fraction\": 0.03076923076923077, \"theta0\": 0.7846153846153843, \"theta1\": 0.815384615384615}, {\"construct\": \"sys.settrace\", \"count\": 2, \"legend_label\": \"sys.settrace (2)\", \"fraction\": 0.03076923076923077, \"theta0\": 0.815384615384615, \"theta1\": 0.8461538461538458}, {\"construct\": \"tarfile.TarFile\", \"count\": 6, \"legend_label\": \"tarfile.TarFile (6)\", \"fraction\": 0.09230769230769231, \"theta0\": 0.8461538461538458, \"theta1\": 0.9384615384615381}, {\"construct\": \"tempfile.mktemp\", \"count\": 1, \"legend_label\": \"tempfile.mktemp (1)\", \"fraction\": 0.015384615384615385, \"theta0\": 0.9384615384615382, \"theta1\": 0.9538461538461536}, {\"construct\": \"xmlrpc.client\", \"count\": 1, \"legend_label\": \"xmlrpc.client (1)\", \"fraction\": 0.015384615384615385, \"theta0\": 0.9538461538461536, \"theta1\": 0.9692307692307689}, {\"construct\": \"xmlrpc.server.SimpleXMLRPCServer\", \"count\": 1, \"legend_label\": \"xmlrpc.server.SimpleXMLRPCServer (1)\", \"fraction\": 0.015384615384615385, \"theta0\": 0.9692307692307689, \"theta1\": 0.9846153846153842}, {\"construct\": \"zipfile.ZipFile\", \"count\": 1, \"legend_label\": \"zipfile.ZipFile (1)\", \"fraction\": 0.015384615384615385, \"theta0\": 0.9846153846153842, \"theta1\": 0.9999999999999996}]}}, {\"mode\": \"vega-lite\"});\n",
       "</script>"
      ],
      "text/plain": [
       "alt.Chart(...)"
      ]
     },
     "execution_count": 7,
     "metadata": {},
     "output_type": "execute_result"
    }
   ],
   "source": [
    "chart = issue_plot(result) \n",
    "chart"
   ]
  }
 ],
 "metadata": {
  "kernelspec": {
   "display_name": "Python 3 (ipykernel)",
   "language": "python",
   "name": "python3"
  },
  "language_info": {
   "codemirror_mode": {
    "name": "ipython",
    "version": 3
   },
   "file_extension": ".py",
   "mimetype": "text/x-python",
   "name": "python",
   "nbconvert_exporter": "python",
   "pygments_lexer": "ipython3",
   "version": "3.13.7"
  }
 },
 "nbformat": 4,
 "nbformat_minor": 5
}
