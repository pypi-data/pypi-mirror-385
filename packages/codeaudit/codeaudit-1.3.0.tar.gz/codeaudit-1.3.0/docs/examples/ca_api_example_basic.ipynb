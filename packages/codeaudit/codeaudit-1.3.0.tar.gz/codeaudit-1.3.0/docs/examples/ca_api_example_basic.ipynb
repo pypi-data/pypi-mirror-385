{
 "cells": [
  {
   "cell_type": "markdown",
   "id": "75cc2707-bfcf-47f2-8e88-c0439925d089",
   "metadata": {},
   "source": [
    "# Example:API functions usage\n",
    "\n",
    "Using the Python Code Audit APIs is simple and straightforward!\n",
    "\n",
    "If you have any questions, feel free to [get in touch!](../CONTRIBUTE)\n",
    "\n",
    "To use the Python Code Audit functions, simply import the desired function into your notebook or Python script.\n"
   ]
  },
  {
   "cell_type": "markdown",
   "id": "58e7c8f7-c5b5-422d-a5a7-5e0c072924f4",
   "metadata": {},
   "source": [
    "To use the **Python Code Audit** functions import the function you want to use in a notebook or in a Python file."
   ]
  },
  {
   "cell_type": "markdown",
   "id": "6f7bfa6f-7f17-4dfc-a083-437d896e7f7b",
   "metadata": {},
   "source": [
    "## Platform information\n",
    "\n",
    "The `platform_info()` function provides detailed information about the runtime environment.\n",
    "\n",
    "This information is essential for both security purposes and handling edge cases that may affect the behavior of the APIs.\n"
   ]
  },
  {
   "cell_type": "code",
   "execution_count": 25,
   "id": "ce7f815a-92f0-4bcb-abf1-526e31115ec7",
   "metadata": {},
   "outputs": [],
   "source": [
    "from codeaudit.api_interfaces import platform_info"
   ]
  },
  {
   "cell_type": "code",
   "execution_count": 26,
   "id": "2b6fd416-4756-4b9b-89d2-587b7805d9a9",
   "metadata": {},
   "outputs": [
    {
     "data": {
      "text/plain": [
       "{'python_version': '3.13.7', 'python_implementation': 'CPython'}"
      ]
     },
     "execution_count": 26,
     "metadata": {},
     "output_type": "execute_result"
    }
   ],
   "source": [
    "platform_info()"
   ]
  },
  {
   "cell_type": "markdown",
   "id": "6e4e3edb-9983-42af-aa91-c2ce3af689d8",
   "metadata": {},
   "source": [
    "## Python Code Audit version information\n",
    "\n",
    "Good security validation starts with knowing which tools — and which versions — you have used.\n",
    "\n",
    "When you build your own APIs using this framework, all critical scanning API calls automatically include a version identifier.\n",
    "\n",
    "However, if you need to **retrieve the version information**  using a script (for example, when creating CI/CD scripts), you can easily do so using the following command:\n"
   ]
  },
  {
   "cell_type": "code",
   "execution_count": 30,
   "id": "7c3df6ef-1bbf-400b-8b4e-4e5bd0700471",
   "metadata": {},
   "outputs": [],
   "source": [
    "from codeaudit.api_interfaces import version"
   ]
  },
  {
   "cell_type": "code",
   "execution_count": 31,
   "id": "6258c5f0-4002-425d-b643-c6d491eb1335",
   "metadata": {},
   "outputs": [
    {
     "data": {
      "text/plain": [
       "{'name': 'Python_Code_Audit', 'version': '1.1.0'}"
      ]
     },
     "execution_count": 31,
     "metadata": {},
     "output_type": "execute_result"
    }
   ],
   "source": [
    "version()"
   ]
  },
  {
   "cell_type": "markdown",
   "id": "98422d63-ec29-49b2-bb4c-3912288cb584",
   "metadata": {},
   "source": [
    "## Overview of vulnerability of a module"
   ]
  },
  {
   "cell_type": "code",
   "execution_count": 27,
   "id": "1e5c0e2d-67f4-4188-ab1f-c7ca3e232f0d",
   "metadata": {},
   "outputs": [],
   "source": [
    "from codeaudit.api_interfaces import get_module_vulnerability_info"
   ]
  },
  {
   "cell_type": "code",
   "execution_count": 28,
   "id": "fcd4390b-842b-436e-b1a8-5eb3c98a9cbb",
   "metadata": {},
   "outputs": [],
   "source": [
    "vulnerability_info = get_module_vulnerability_info(\"pandas\")  #now the vulnerabilty information , if available, is retrieved "
   ]
  },
  {
   "cell_type": "code",
   "execution_count": 29,
   "id": "de511475-53b0-4a1c-83e0-f20118ccb39a",
   "metadata": {},
   "outputs": [
    {
     "data": {
      "text/plain": [
       "{'name': 'Python_Code_Audit',\n",
       " 'version': '1.1.0',\n",
       " 'generated_on': '2025-10-10 19:13',\n",
       " 'pandas_vulnerability_info': [{'id': 'PYSEC-2020-73',\n",
       "   'summary': '',\n",
       "   'details': \"** DISPUTED ** pandas through 1.0.3 can unserialize and execute commands from an untrusted file that is passed to the read_pickle() function, if __reduce__ makes an os.system call. NOTE: third parties dispute this issue because the read_pickle() function is documented as unsafe and it is the user's responsibility to use the function in a secure manner.\",\n",
       "   'aliases': ['CVE-2020-13091'],\n",
       "   'severity': []}]}"
      ]
     },
     "execution_count": 29,
     "metadata": {},
     "output_type": "execute_result"
    }
   ],
   "source": [
    "vulnerability_info  #shows retrieved vulnerability information for external modules."
   ]
  }
 ],
 "metadata": {
  "kernelspec": {
   "display_name": "Python 3 (ipykernel)",
   "language": "python",
   "name": "python3"
  },
  "language_info": {
   "codemirror_mode": {
    "name": "ipython",
    "version": 3
   },
   "file_extension": ".py",
   "mimetype": "text/x-python",
   "name": "python",
   "nbconvert_exporter": "python",
   "pygments_lexer": "ipython3",
   "version": "3.13.7"
  }
 },
 "nbformat": 4,
 "nbformat_minor": 5
}
