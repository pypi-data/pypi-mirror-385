{
 "cells": [
  {
   "cell_type": "markdown",
   "id": "8e0b1191-83d1-4a10-9199-289307163f5a",
   "metadata": {},
   "source": [
    "# Example:Save scan as JSON\n",
    "\n",
    "This notebook demonstrates how to use the Python Code Audit APIs to scan a Python file or package for security weaknesses and save the results to a JSON file.\n",
    "\n",
    "Generated JSON files can be used, for example, to create custom reports.\n",
    "\n",
    "By collecting and processing multiple JSON files, you can easily perform statistical analyses on Python security weaknesses across different projects or packages.\n"
   ]
  },
  {
   "cell_type": "code",
   "execution_count": 1,
   "id": "115d6717-9e72-471a-a06d-a38a393262c5",
   "metadata": {},
   "outputs": [],
   "source": [
    "from codeaudit.api_interfaces import filescan , save_to_json"
   ]
  },
  {
   "cell_type": "code",
   "execution_count": 2,
   "id": "0292a861-81a7-4a53-8d52-839c2743eef6",
   "metadata": {},
   "outputs": [],
   "source": [
    "demo_file = 'demofile.py'  #Instead of using a single file, you can also use a directory. The file or directory gets scanned on security weaknesses."
   ]
  },
  {
   "cell_type": "code",
   "execution_count": 3,
   "id": "87621f17-e71d-41a2-a302-5589e1eee1d2",
   "metadata": {},
   "outputs": [],
   "source": [
    "scan_result = filescan(demo_file) #API call to scans the file or directory and returns a Python dict"
   ]
  },
  {
   "cell_type": "code",
   "execution_count": 4,
   "id": "24dfec52-5298-423a-9826-6e68282e1432",
   "metadata": {},
   "outputs": [
    {
     "data": {
      "text/plain": [
       "{'name': 'Python_Code_Audit',\n",
       " 'version': '1.1.0',\n",
       " 'generated_on': '2025-10-10 18:43',\n",
       " 'file_security_info': {0: {'FileName': 'demofile.py',\n",
       "   'FilePath': 'demofile.py',\n",
       "   'Number_Of_Lines': 480,\n",
       "   'AST_Nodes': 253,\n",
       "   'Std-Modules': 21,\n",
       "   'External-Modules': 2,\n",
       "   'Functions': 23,\n",
       "   'Classes': 3,\n",
       "   'Comment_Lines': 88,\n",
       "   'Complexity_Score': 41,\n",
       "   'warnings': 0,\n",
       "   'core_modules': ['base64',\n",
       "    'bz2',\n",
       "    'gzip',\n",
       "    'hashlib',\n",
       "    'http.server',\n",
       "    'logging.config',\n",
       "    'lzma',\n",
       "    'multiprocessing',\n",
       "    'os',\n",
       "    'pickle',\n",
       "    'random',\n",
       "    'shelve',\n",
       "    'shutil',\n",
       "    'socket',\n",
       "    'sys',\n",
       "    'tarfile',\n",
       "    'tempfile',\n",
       "    'time',\n",
       "    'xmlrpc.client',\n",
       "    'xmlrpc.server',\n",
       "    'zipfile'],\n",
       "   'imported_modules': ['linkaudit', 'pandas'],\n",
       "   'file_name': 'demofile.py',\n",
       "   'sast_result': {'assert': [6, 42],\n",
       "    'base64': [238, 239],\n",
       "    'bz2.BZ2File': [447],\n",
       "    'bz2.open': [440],\n",
       "    'compile': [235],\n",
       "    'connection.recv': [299],\n",
       "    'continue': [52],\n",
       "    'eval': [119],\n",
       "    'exec': [28, 120],\n",
       "    'gzip.open': [434],\n",
       "    'hashlib.md5': [73],\n",
       "    'hashlib.sha1': [74, 102],\n",
       "    'http.server.BaseHTTPRequestHandler': [244, 263],\n",
       "    'http.server.HTTPServer': [263],\n",
       "    'logging.config': [163, 166],\n",
       "    'lzma.LZMAFile': [476],\n",
       "    'lzma.open': [460, 466],\n",
       "    'marshal.load': [393],\n",
       "    'marshal.loads': [387],\n",
       "    'os.access': [116, 123],\n",
       "    'os.chmod': [126],\n",
       "    'os.fork': [223, 226, 232],\n",
       "    'os.forkpty': [225],\n",
       "    'os.makedirs': [351],\n",
       "    'os.popen': [158],\n",
       "    'os.system': [154],\n",
       "    'os.write': [159],\n",
       "    'os.writev': [160],\n",
       "    'pass': [46, 141],\n",
       "    'pickle.load': [316],\n",
       "    'pickle.loads': [312, 320],\n",
       "    'random.random': [335],\n",
       "    'random.seed': [334],\n",
       "    's.bind': [32, 33],\n",
       "    'shelve.open': [339],\n",
       "    'shutil.copy': [372],\n",
       "    'shutil.rmtree': [368],\n",
       "    'shutil.unpack_archive': [363],\n",
       "    'sys.setprofile': [416, 418],\n",
       "    'sys.settrace': [422, 424],\n",
       "    'tarfile.TarFile': [174, 178, 183, 185, 193, 354],\n",
       "    'tempfile.mktemp': [428],\n",
       "    'xmlrpc.client': [217],\n",
       "    'xmlrpc.server.SimpleXMLRPCServer': [210],\n",
       "    'zipfile.ZipFile': [352]}}}}"
      ]
     },
     "execution_count": 4,
     "metadata": {},
     "output_type": "execute_result"
    }
   ],
   "source": [
    "scan_result"
   ]
  },
  {
   "cell_type": "markdown",
   "id": "d3630419-d9e2-4141-8f94-ad3a6ebfb156",
   "metadata": {},
   "source": [
    "## Saving as JSON"
   ]
  },
  {
   "cell_type": "code",
   "execution_count": 5,
   "id": "cfe4e61e-244b-47cb-a230-17c8d4fcbb68",
   "metadata": {},
   "outputs": [],
   "source": [
    "save_to_json(scan_result,'demoscan.json') #When no file name is submitted, the default `codeaudit_output.json` name will be used."
   ]
  },
  {
   "cell_type": "code",
   "execution_count": null,
   "id": "36269ee6-beab-4c63-b5da-f87904af4756",
   "metadata": {},
   "outputs": [],
   "source": []
  }
 ],
 "metadata": {
  "kernelspec": {
   "display_name": "Python 3 (ipykernel)",
   "language": "python",
   "name": "python3"
  },
  "language_info": {
   "codemirror_mode": {
    "name": "ipython",
    "version": 3
   },
   "file_extension": ".py",
   "mimetype": "text/x-python",
   "name": "python",
   "nbconvert_exporter": "python",
   "pygments_lexer": "ipython3",
   "version": "3.13.7"
  }
 },
 "nbformat": 4,
 "nbformat_minor": 5
}
