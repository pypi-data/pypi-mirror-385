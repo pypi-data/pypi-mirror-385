{
 "cells": [
  {
   "cell_type": "code",
   "execution_count": 1,
   "id": "0bca506b",
   "metadata": {},
   "outputs": [
    {
     "name": "stderr",
     "output_type": "stream",
     "text": [
      "c:\\Users\\eudald\\Desktop\\doctorat\\codi\\mmsbm\\.venv\\Lib\\site-packages\\tqdm\\auto.py:21: TqdmWarning: IProgress not found. Please update jupyter and ipywidgets. See https://ipywidgets.readthedocs.io/en/stable/user_install.html\n",
      "  from .autonotebook import tqdm as notebook_tqdm\n"
     ]
    }
   ],
   "source": [
    "from pathlib import Path\n",
    "\n",
    "import pandas as pd\n",
    "\n",
    "from mmsbm import MMSBM"
   ]
  },
  {
   "cell_type": "code",
   "execution_count": 5,
   "id": "16c0ceee",
   "metadata": {},
   "outputs": [],
   "source": [
    "train_path = Path(\"tests/train.csv\")\n",
    "test_path = Path(\"tests/test.csv\")\n",
    "\n",
    "# Read raw CSVs skipping the first **column**\n",
    "train_raw = pd.read_csv(train_path, usecols=[\"users\", \"items\", \"ratings\"])\n",
    "test_raw = pd.read_csv(test_path, usecols=[\"users\", \"items\", \"ratings\"])"
   ]
  },
  {
   "cell_type": "code",
   "execution_count": 6,
   "id": "bbef21fd",
   "metadata": {},
   "outputs": [
    {
     "name": "stderr",
     "output_type": "stream",
     "text": [
      "2025-10-20 17:50:21,084 INFO Running 1 runs of 1 iterations.\n",
      "2025-10-20 17:50:21,084 INFO Running 1 runs of 1 iterations.\n"
     ]
    },
    {
     "name": "stdout",
     "output_type": "stream",
     "text": [
      "Fitting model...\n",
      "Using cupy backend\n"
     ]
    }
   ],
   "source": [
    "model = MMSBM(\n",
    "user_groups=2,\n",
    "item_groups=2,\n",
    "iterations=1,\n",
    "sampling=1,\n",
    "seed=1714,\n",
    "debug=True\n",
    ")\n",
    "print(\"Fitting model...\")\n",
    "model.fit(train_raw)"
   ]
  },
  {
   "cell_type": "code",
   "execution_count": 7,
   "id": "e3431fe4",
   "metadata": {},
   "outputs": [
    {
     "ename": "KeyError",
     "evalue": "'3F3E1EEEA10947A5B6A983AAEF54A522'",
     "output_type": "error",
     "traceback": [
      "\u001b[31m---------------------------------------------------------------------------\u001b[39m",
      "\u001b[31mKeyError\u001b[39m                                  Traceback (most recent call last)",
      "\u001b[36mCell\u001b[39m\u001b[36m \u001b[39m\u001b[32mIn[7]\u001b[39m\u001b[32m, line 1\u001b[39m\n\u001b[32m----> \u001b[39m\u001b[32m1\u001b[39m \u001b[43mmodel\u001b[49m\u001b[43m.\u001b[49m\u001b[43mpredict\u001b[49m\u001b[43m(\u001b[49m\u001b[43mtest_raw\u001b[49m\u001b[43m)\u001b[49m\n",
      "\u001b[36mFile \u001b[39m\u001b[32m~\\Desktop\\doctorat\\codi\\mmsbm\\src\\mmsbm.py:293\u001b[39m, in \u001b[36mMMSBM.predict\u001b[39m\u001b[34m(self, data)\u001b[39m\n\u001b[32m    280\u001b[39m \u001b[38;5;250m\u001b[39m\u001b[33;03m\"\"\"Predicts ratings for new user-item pairs.\u001b[39;00m\n\u001b[32m    281\u001b[39m \n\u001b[32m    282\u001b[39m \u001b[33;03mUses the best model from all sampling runs to make predictions.\u001b[39;00m\n\u001b[32m   (...)\u001b[39m\u001b[32m    288\u001b[39m \u001b[33;03m    Array with rating probabilities for each possible rating value\u001b[39;00m\n\u001b[32m    289\u001b[39m \u001b[33;03m\"\"\"\u001b[39;00m\n\u001b[32m    291\u001b[39m \u001b[38;5;28mself\u001b[39m._check_is_fitted()\n\u001b[32m--> \u001b[39m\u001b[32m293\u001b[39m test = \u001b[38;5;28;43mself\u001b[39;49m\u001b[43m.\u001b[49m\u001b[43mdata_handler\u001b[49m\u001b[43m.\u001b[49m\u001b[43mformat_test_data\u001b[49m\u001b[43m(\u001b[49m\u001b[43mdata\u001b[49m\u001b[43m)\u001b[49m\n\u001b[32m    294\u001b[39m \u001b[38;5;28mself\u001b[39m.test = test\n\u001b[32m    296\u001b[39m \u001b[38;5;66;03m# Get the info for all the runs\u001b[39;00m\n",
      "\u001b[36mFile \u001b[39m\u001b[32m~\\Desktop\\doctorat\\codi\\mmsbm\\src\\data_handler.py:127\u001b[39m, in \u001b[36mDataHandler.format_test_data\u001b[39m\u001b[34m(self, data)\u001b[39m\n\u001b[32m    124\u001b[39m \u001b[38;5;66;03m# Check that all test \"users\" were also in train\u001b[39;00m\n\u001b[32m    125\u001b[39m data = \u001b[38;5;28mself\u001b[39m._check_test_in_train(data)\n\u001b[32m--> \u001b[39m\u001b[32m127\u001b[39m \u001b[38;5;28;01mreturn\u001b[39;00m \u001b[38;5;28;43mself\u001b[39;49m\u001b[43m.\u001b[49m\u001b[43mparse_test_data\u001b[49m\u001b[43m(\u001b[49m\u001b[43mdata\u001b[49m\u001b[43m)\u001b[49m\n",
      "\u001b[36mFile \u001b[39m\u001b[32m~\\Desktop\\doctorat\\codi\\mmsbm\\src\\data_handler.py:57\u001b[39m, in \u001b[36mDataHandler.parse_test_data\u001b[39m\u001b[34m(self, df)\u001b[39m\n\u001b[32m     55\u001b[39m \u001b[38;5;28;01mdef\u001b[39;00m\u001b[38;5;250m \u001b[39m\u001b[34mparse_test_data\u001b[39m(\u001b[38;5;28mself\u001b[39m, df):\n\u001b[32m     56\u001b[39m     df.iloc[:, \u001b[32m0\u001b[39m] = [\u001b[38;5;28mself\u001b[39m.obs_dict[\u001b[38;5;28mstr\u001b[39m(a)] \u001b[38;5;28;01mfor\u001b[39;00m a \u001b[38;5;129;01min\u001b[39;00m df.iloc[:, \u001b[32m0\u001b[39m]]\n\u001b[32m---> \u001b[39m\u001b[32m57\u001b[39m     df.iloc[:, \u001b[32m1\u001b[39m] = [\u001b[38;5;28;43mself\u001b[39;49m\u001b[43m.\u001b[49m\u001b[43mitems_dict\u001b[49m\u001b[43m[\u001b[49m\u001b[38;5;28;43mstr\u001b[39;49m\u001b[43m(\u001b[49m\u001b[43ma\u001b[49m\u001b[43m)\u001b[49m\u001b[43m]\u001b[49m \u001b[38;5;28;01mfor\u001b[39;00m a \u001b[38;5;129;01min\u001b[39;00m df.iloc[:, \u001b[32m1\u001b[39m]]\n\u001b[32m     58\u001b[39m     df.iloc[:, \u001b[32m2\u001b[39m] = [\u001b[38;5;28mself\u001b[39m.ratings_dict[\u001b[38;5;28mstr\u001b[39m(a)] \u001b[38;5;28;01mfor\u001b[39;00m a \u001b[38;5;129;01min\u001b[39;00m df.iloc[:, \u001b[32m2\u001b[39m]]\n\u001b[32m     60\u001b[39m     \u001b[38;5;66;03m# Convert to int to guarantee correct dtype for numpy indexing\u001b[39;00m\n",
      "\u001b[31mKeyError\u001b[39m: '3F3E1EEEA10947A5B6A983AAEF54A522'"
     ]
    }
   ],
   "source": [
    "model.predict(test_raw)"
   ]
  },
  {
   "cell_type": "code",
   "execution_count": 8,
   "id": "46791a6f",
   "metadata": {},
   "outputs": [
    {
     "name": "stdout",
     "output_type": "stream",
     "text": [
      "Unknown items in test: 6 -> ['265CA184ACE6457C856A7B657633501A', '3F3E1EEEA10947A5B6A983AAEF54A522', '44C95B2AFA484FCDB55597B6807C2743', '4920719BC6514F8181ED317C95EE893C', '6596AE452CB94877966420D25ACE946E']\n",
      "Unknown ratings in test: 0 -> []\n"
     ]
    }
   ],
   "source": [
    "train_items = set(train_raw[\"items\"].astype(str))\n",
    "test_items = set(test_raw[\"items\"].astype(str))\n",
    "missing_items = sorted(test_items - train_items)\n",
    "\n",
    "train_ratings = set(train_raw[\"ratings\"].astype(str))\n",
    "test_ratings = set(test_raw[\"ratings\"].astype(str))\n",
    "missing_ratings = sorted(test_ratings - train_ratings)\n",
    "\n",
    "print(f\"Unknown items in test: {len(missing_items)} -> {missing_items[:5]}\")\n",
    "print(f\"Unknown ratings in test: {len(missing_ratings)} -> {missing_ratings[:5]}\")"
   ]
  },
  {
   "cell_type": "code",
   "execution_count": null,
   "id": "3c87fb5f",
   "metadata": {},
   "outputs": [],
   "source": []
  }
 ],
 "metadata": {
  "kernelspec": {
   "display_name": ".venv",
   "language": "python",
   "name": "python3"
  },
  "language_info": {
   "codemirror_mode": {
    "name": "ipython",
    "version": 3
   },
   "file_extension": ".py",
   "mimetype": "text/x-python",
   "name": "python",
   "nbconvert_exporter": "python",
   "pygments_lexer": "ipython3",
   "version": "3.12.6"
  }
 },
 "nbformat": 4,
 "nbformat_minor": 5
}
