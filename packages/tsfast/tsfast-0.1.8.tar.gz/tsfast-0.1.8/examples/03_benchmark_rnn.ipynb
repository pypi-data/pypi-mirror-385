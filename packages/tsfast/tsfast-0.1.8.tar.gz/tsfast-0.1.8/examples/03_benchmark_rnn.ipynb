{
 "cells": [
  {
   "cell_type": "code",
   "execution_count": 1,
   "id": "41d299c9-e6e0-42f5-81e5-5a8d8ff674dc",
   "metadata": {},
   "outputs": [],
   "source": [
    "from tsfast.basics import *\n",
    "import identibench as idb"
   ]
  },
  {
   "cell_type": "code",
   "execution_count": 2,
   "id": "89fc05ff",
   "metadata": {},
   "outputs": [],
   "source": [
    "#build_model function using the IdentiBench API\n",
    "def build_model(context: idb.TrainingContext):\n",
    "    #dataloader from benchmark speciication\n",
    "    dls = create_dls_from_spec(context.spec)\n",
    "    #RNN Learner with provided configuration\n",
    "    lrn = RNNLearner(dls, \n",
    "                     rnn_type=context.hyperparameters['model_type'], \n",
    "                     num_layers=context.hyperparameters['num_layers'], \n",
    "                     n_skip=context.spec.init_window)\n",
    "    #training with \n",
    "    lrn.fit_flat_cos(n_epoch=1)\n",
    "    model = InferenceWrapper(lrn)\n",
    "    return model"
   ]
  },
  {
   "cell_type": "code",
   "execution_count": 5,
   "id": "942e4c8d",
   "metadata": {},
   "outputs": [
    {
     "name": "stdout",
     "output_type": "stream",
     "text": [
      "--- Starting benchmark run for 4 specifications, repeating each 1 times ---\n",
      "\n",
      "-- Repetition 1/1 --\n",
      "\n",
      "[1/4] Running: BenchmarkWH_Simulation (Rep 1)\n"
     ]
    },
    {
     "data": {
      "text/html": [
       "\n",
       "<style>\n",
       "    /* Turns off some styling */\n",
       "    progress {\n",
       "        /* gets rid of default border in Firefox and Opera. */\n",
       "        border: none;\n",
       "        /* Needs to be in here for Safari polyfill so background images work as expected. */\n",
       "        background-size: auto;\n",
       "    }\n",
       "    progress:not([value]), progress:not([value])::-webkit-progress-bar {\n",
       "        background: repeating-linear-gradient(45deg, #7e7e7e, #7e7e7e 10px, #5c5c5c 10px, #5c5c5c 20px);\n",
       "    }\n",
       "    .progress-bar-interrupted, .progress-bar-interrupted::-webkit-progress-bar {\n",
       "        background: #F44336;\n",
       "    }\n",
       "</style>\n"
      ],
      "text/plain": [
       "<IPython.core.display.HTML object>"
      ]
     },
     "metadata": {},
     "output_type": "display_data"
    },
    {
     "data": {
      "text/html": [
       "<table border=\"1\" class=\"dataframe\">\n",
       "  <thead>\n",
       "    <tr style=\"text-align: left;\">\n",
       "      <th>epoch</th>\n",
       "      <th>train_loss</th>\n",
       "      <th>valid_loss</th>\n",
       "      <th>fun_rmse</th>\n",
       "      <th>time</th>\n",
       "    </tr>\n",
       "  </thead>\n",
       "  <tbody>\n",
       "    <tr>\n",
       "      <td>0</td>\n",
       "      <td>0.003188</td>\n",
       "      <td>0.002675</td>\n",
       "      <td>0.003905</td>\n",
       "      <td>00:21</td>\n",
       "    </tr>\n",
       "  </tbody>\n",
       "</table>"
      ],
      "text/plain": [
       "<IPython.core.display.HTML object>"
      ]
     },
     "metadata": {},
     "output_type": "display_data"
    },
    {
     "name": "stdout",
     "output_type": "stream",
     "text": [
      "  -> Success: BenchmarkWH_Simulation (Rep 1) completed.\n",
      "\n",
      "[2/4] Running: BenchmarkSilverbox_Simulation (Rep 1)\n"
     ]
    },
    {
     "data": {
      "text/html": [
       "\n",
       "<style>\n",
       "    /* Turns off some styling */\n",
       "    progress {\n",
       "        /* gets rid of default border in Firefox and Opera. */\n",
       "        border: none;\n",
       "        /* Needs to be in here for Safari polyfill so background images work as expected. */\n",
       "        background-size: auto;\n",
       "    }\n",
       "    progress:not([value]), progress:not([value])::-webkit-progress-bar {\n",
       "        background: repeating-linear-gradient(45deg, #7e7e7e, #7e7e7e 10px, #5c5c5c 10px, #5c5c5c 20px);\n",
       "    }\n",
       "    .progress-bar-interrupted, .progress-bar-interrupted::-webkit-progress-bar {\n",
       "        background: #F44336;\n",
       "    }\n",
       "</style>\n"
      ],
      "text/plain": [
       "<IPython.core.display.HTML object>"
      ]
     },
     "metadata": {},
     "output_type": "display_data"
    },
    {
     "data": {
      "text/html": [
       "<table border=\"1\" class=\"dataframe\">\n",
       "  <thead>\n",
       "    <tr style=\"text-align: left;\">\n",
       "      <th>epoch</th>\n",
       "      <th>train_loss</th>\n",
       "      <th>valid_loss</th>\n",
       "      <th>fun_rmse</th>\n",
       "      <th>time</th>\n",
       "    </tr>\n",
       "  </thead>\n",
       "  <tbody>\n",
       "    <tr>\n",
       "      <td>0</td>\n",
       "      <td>0.002129</td>\n",
       "      <td>0.001915</td>\n",
       "      <td>0.003455</td>\n",
       "      <td>00:16</td>\n",
       "    </tr>\n",
       "  </tbody>\n",
       "</table>"
      ],
      "text/plain": [
       "<IPython.core.display.HTML object>"
      ]
     },
     "metadata": {},
     "output_type": "display_data"
    },
    {
     "name": "stdout",
     "output_type": "stream",
     "text": [
      "  -> Success: BenchmarkSilverbox_Simulation (Rep 1) completed.\n",
      "\n",
      "[3/4] Running: BenchmarkEMPS_Simulation (Rep 1)\n"
     ]
    },
    {
     "data": {
      "text/html": [
       "\n",
       "<style>\n",
       "    /* Turns off some styling */\n",
       "    progress {\n",
       "        /* gets rid of default border in Firefox and Opera. */\n",
       "        border: none;\n",
       "        /* Needs to be in here for Safari polyfill so background images work as expected. */\n",
       "        background-size: auto;\n",
       "    }\n",
       "    progress:not([value]), progress:not([value])::-webkit-progress-bar {\n",
       "        background: repeating-linear-gradient(45deg, #7e7e7e, #7e7e7e 10px, #5c5c5c 10px, #5c5c5c 20px);\n",
       "    }\n",
       "    .progress-bar-interrupted, .progress-bar-interrupted::-webkit-progress-bar {\n",
       "        background: #F44336;\n",
       "    }\n",
       "</style>\n"
      ],
      "text/plain": [
       "<IPython.core.display.HTML object>"
      ]
     },
     "metadata": {},
     "output_type": "display_data"
    },
    {
     "data": {
      "text/html": [
       "<table border=\"1\" class=\"dataframe\">\n",
       "  <thead>\n",
       "    <tr style=\"text-align: left;\">\n",
       "      <th>epoch</th>\n",
       "      <th>train_loss</th>\n",
       "      <th>valid_loss</th>\n",
       "      <th>fun_rmse</th>\n",
       "      <th>time</th>\n",
       "    </tr>\n",
       "  </thead>\n",
       "  <tbody>\n",
       "    <tr>\n",
       "      <td>0</td>\n",
       "      <td>0.069078</td>\n",
       "      <td>0.071505</td>\n",
       "      <td>0.082748</td>\n",
       "      <td>00:12</td>\n",
       "    </tr>\n",
       "  </tbody>\n",
       "</table>"
      ],
      "text/plain": [
       "<IPython.core.display.HTML object>"
      ]
     },
     "metadata": {},
     "output_type": "display_data"
    },
    {
     "name": "stdout",
     "output_type": "stream",
     "text": [
      "  -> Success: BenchmarkEMPS_Simulation (Rep 1) completed.\n",
      "\n",
      "[4/4] Running: BenchmarkCED_Simulation (Rep 1)\n"
     ]
    },
    {
     "data": {
      "text/html": [
       "\n",
       "<style>\n",
       "    /* Turns off some styling */\n",
       "    progress {\n",
       "        /* gets rid of default border in Firefox and Opera. */\n",
       "        border: none;\n",
       "        /* Needs to be in here for Safari polyfill so background images work as expected. */\n",
       "        background-size: auto;\n",
       "    }\n",
       "    progress:not([value]), progress:not([value])::-webkit-progress-bar {\n",
       "        background: repeating-linear-gradient(45deg, #7e7e7e, #7e7e7e 10px, #5c5c5c 10px, #5c5c5c 20px);\n",
       "    }\n",
       "    .progress-bar-interrupted, .progress-bar-interrupted::-webkit-progress-bar {\n",
       "        background: #F44336;\n",
       "    }\n",
       "</style>\n"
      ],
      "text/plain": [
       "<IPython.core.display.HTML object>"
      ]
     },
     "metadata": {},
     "output_type": "display_data"
    },
    {
     "data": {
      "text/html": [
       "<table border=\"1\" class=\"dataframe\">\n",
       "  <thead>\n",
       "    <tr style=\"text-align: left;\">\n",
       "      <th>epoch</th>\n",
       "      <th>train_loss</th>\n",
       "      <th>valid_loss</th>\n",
       "      <th>fun_rmse</th>\n",
       "      <th>time</th>\n",
       "    </tr>\n",
       "  </thead>\n",
       "  <tbody>\n",
       "    <tr>\n",
       "      <td>0</td>\n",
       "      <td>0.460042</td>\n",
       "      <td>0.381914</td>\n",
       "      <td>0.512348</td>\n",
       "      <td>00:00</td>\n",
       "    </tr>\n",
       "  </tbody>\n",
       "</table>"
      ],
      "text/plain": [
       "<IPython.core.display.HTML object>"
      ]
     },
     "metadata": {},
     "output_type": "display_data"
    },
    {
     "name": "stdout",
     "output_type": "stream",
     "text": [
      "  -> Success: BenchmarkCED_Simulation (Rep 1) completed.\n",
      "\n",
      "--- Benchmark run finished. 4/4 individual runs completed successfully. ---\n"
     ]
    }
   ],
   "source": [
    "# configure model and benchmarks\n",
    "model_config = {'model_type':'lstm','num_layers':1}\n",
    "benchmarks = idb.workshop_benchmarks.values()\n",
    "# test identification method on all provided benchmark datasets\n",
    "results = idb.run_benchmarks(benchmarks,build_model,model_config)"
   ]
  },
  {
   "cell_type": "code",
   "execution_count": 6,
   "id": "95c58e58",
   "metadata": {},
   "outputs": [
    {
     "data": {
      "text/html": [
       "<div>\n",
       "<style scoped>\n",
       "    .dataframe tbody tr th:only-of-type {\n",
       "        vertical-align: middle;\n",
       "    }\n",
       "\n",
       "    .dataframe tbody tr th {\n",
       "        vertical-align: top;\n",
       "    }\n",
       "\n",
       "    .dataframe thead th {\n",
       "        text-align: right;\n",
       "    }\n",
       "</style>\n",
       "<table border=\"1\" class=\"dataframe\">\n",
       "  <thead>\n",
       "    <tr style=\"text-align: right;\">\n",
       "      <th></th>\n",
       "      <th>benchmark_name</th>\n",
       "      <th>dataset_id</th>\n",
       "      <th>hyperparameters</th>\n",
       "      <th>seed</th>\n",
       "      <th>training_time_seconds</th>\n",
       "      <th>test_time_seconds</th>\n",
       "      <th>benchmark_type</th>\n",
       "      <th>metric_name</th>\n",
       "      <th>metric_score</th>\n",
       "      <th>cs_multisine_rmse</th>\n",
       "      <th>cs_arrow_full_rmse</th>\n",
       "      <th>cs_arrow_no_extrapolation_rmse</th>\n",
       "      <th>cs_test_1_rmse</th>\n",
       "      <th>cs_test_2_rmse</th>\n",
       "    </tr>\n",
       "  </thead>\n",
       "  <tbody>\n",
       "    <tr>\n",
       "      <th>0</th>\n",
       "      <td>BenchmarkWH_Simulation</td>\n",
       "      <td>wh</td>\n",
       "      <td>{'model_type': 'lstm', 'num_layers': 1}</td>\n",
       "      <td>3835511531</td>\n",
       "      <td>21.524264</td>\n",
       "      <td>0.766287</td>\n",
       "      <td>BenchmarkSpecSimulation</td>\n",
       "      <td>rmse_mV</td>\n",
       "      <td>3.834340</td>\n",
       "      <td>NaN</td>\n",
       "      <td>NaN</td>\n",
       "      <td>NaN</td>\n",
       "      <td>NaN</td>\n",
       "      <td>NaN</td>\n",
       "    </tr>\n",
       "    <tr>\n",
       "      <th>1</th>\n",
       "      <td>BenchmarkSilverbox_Simulation</td>\n",
       "      <td>silverbox</td>\n",
       "      <td>{'model_type': 'lstm', 'num_layers': 1}</td>\n",
       "      <td>4049061813</td>\n",
       "      <td>16.950369</td>\n",
       "      <td>0.931476</td>\n",
       "      <td>BenchmarkSpecSimulation</td>\n",
       "      <td>rmse_mV</td>\n",
       "      <td>2.004279</td>\n",
       "      <td>1.128523</td>\n",
       "      <td>3.854297</td>\n",
       "      <td>1.030017</td>\n",
       "      <td>NaN</td>\n",
       "      <td>NaN</td>\n",
       "    </tr>\n",
       "    <tr>\n",
       "      <th>2</th>\n",
       "      <td>BenchmarkEMPS_Simulation</td>\n",
       "      <td>emps</td>\n",
       "      <td>{'model_type': 'lstm', 'num_layers': 1}</td>\n",
       "      <td>2250718486</td>\n",
       "      <td>13.015072</td>\n",
       "      <td>0.240143</td>\n",
       "      <td>BenchmarkSpecSimulation</td>\n",
       "      <td>rmse_mV</td>\n",
       "      <td>83.749496</td>\n",
       "      <td>NaN</td>\n",
       "      <td>NaN</td>\n",
       "      <td>NaN</td>\n",
       "      <td>NaN</td>\n",
       "      <td>NaN</td>\n",
       "    </tr>\n",
       "    <tr>\n",
       "      <th>3</th>\n",
       "      <td>BenchmarkCED_Simulation</td>\n",
       "      <td>ced</td>\n",
       "      <td>{'model_type': 'lstm', 'num_layers': 1}</td>\n",
       "      <td>871297468</td>\n",
       "      <td>0.188902</td>\n",
       "      <td>0.002734</td>\n",
       "      <td>BenchmarkSpecSimulation</td>\n",
       "      <td>rmse</td>\n",
       "      <td>0.299750</td>\n",
       "      <td>NaN</td>\n",
       "      <td>NaN</td>\n",
       "      <td>NaN</td>\n",
       "      <td>0.290932</td>\n",
       "      <td>0.308569</td>\n",
       "    </tr>\n",
       "  </tbody>\n",
       "</table>\n",
       "</div>"
      ],
      "text/plain": [
       "                  benchmark_name dataset_id  \\\n",
       "0         BenchmarkWH_Simulation         wh   \n",
       "1  BenchmarkSilverbox_Simulation  silverbox   \n",
       "2       BenchmarkEMPS_Simulation       emps   \n",
       "3        BenchmarkCED_Simulation        ced   \n",
       "\n",
       "                           hyperparameters        seed  training_time_seconds  \\\n",
       "0  {'model_type': 'lstm', 'num_layers': 1}  3835511531              21.524264   \n",
       "1  {'model_type': 'lstm', 'num_layers': 1}  4049061813              16.950369   \n",
       "2  {'model_type': 'lstm', 'num_layers': 1}  2250718486              13.015072   \n",
       "3  {'model_type': 'lstm', 'num_layers': 1}   871297468               0.188902   \n",
       "\n",
       "   test_time_seconds           benchmark_type metric_name  metric_score  \\\n",
       "0           0.766287  BenchmarkSpecSimulation     rmse_mV      3.834340   \n",
       "1           0.931476  BenchmarkSpecSimulation     rmse_mV      2.004279   \n",
       "2           0.240143  BenchmarkSpecSimulation     rmse_mV     83.749496   \n",
       "3           0.002734  BenchmarkSpecSimulation        rmse      0.299750   \n",
       "\n",
       "   cs_multisine_rmse  cs_arrow_full_rmse  cs_arrow_no_extrapolation_rmse  \\\n",
       "0                NaN                 NaN                             NaN   \n",
       "1           1.128523            3.854297                        1.030017   \n",
       "2                NaN                 NaN                             NaN   \n",
       "3                NaN                 NaN                             NaN   \n",
       "\n",
       "   cs_test_1_rmse  cs_test_2_rmse  \n",
       "0             NaN             NaN  \n",
       "1             NaN             NaN  \n",
       "2             NaN             NaN  \n",
       "3        0.290932        0.308569  "
      ]
     },
     "execution_count": 6,
     "metadata": {},
     "output_type": "execute_result"
    }
   ],
   "source": [
    "results"
   ]
  },
  {
   "cell_type": "code",
   "execution_count": null,
   "id": "626442a7",
   "metadata": {},
   "outputs": [],
   "source": []
  }
 ],
 "metadata": {
  "kernelspec": {
   "display_name": ".venv",
   "language": "python",
   "name": "python3"
  },
  "language_info": {
   "codemirror_mode": {
    "name": "ipython",
    "version": 3
   },
   "file_extension": ".py",
   "mimetype": "text/x-python",
   "name": "python",
   "nbconvert_exporter": "python",
   "pygments_lexer": "ipython3",
   "version": "3.10.16"
  }
 },
 "nbformat": 4,
 "nbformat_minor": 5
}
