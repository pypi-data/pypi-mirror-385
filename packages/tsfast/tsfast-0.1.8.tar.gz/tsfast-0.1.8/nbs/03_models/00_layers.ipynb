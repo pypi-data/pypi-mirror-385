{
 "cells": [
  {
   "cell_type": "raw",
   "metadata": {},
   "source": [
    "---\n",
    "description: Pytorch Models for Sequential Data\n",
    "output-file: models.html\n",
    "title: Models\n",
    "\n",
    "---\n",
    "\n"
   ]
  },
  {
   "cell_type": "code",
   "execution_count": null,
   "metadata": {},
   "outputs": [],
   "source": [
    "#| default_exp models.layers\n",
    "#| default_cls_lvl 3"
   ]
  },
  {
   "cell_type": "code",
   "execution_count": null,
   "metadata": {},
   "outputs": [],
   "source": [
    "#| export\n",
    "from tsfast.data import *\n",
    "from fastai.basics import *\n",
    "\n",
    "from fastai.callback.progress import * #import activate learning progress bar\n",
    "from torch.nn import Parameter"
   ]
  },
  {
   "cell_type": "code",
   "execution_count": null,
   "metadata": {},
   "outputs": [],
   "source": [
    "from tsfast.datasets import create_dls_test"
   ]
  },
  {
   "cell_type": "code",
   "execution_count": null,
   "metadata": {},
   "outputs": [],
   "source": [
    "dls = create_dls_test()"
   ]
  },
  {
   "attachments": {},
   "cell_type": "markdown",
   "metadata": {},
   "source": [
    "## Batchnorm"
   ]
  },
  {
   "cell_type": "code",
   "execution_count": null,
   "metadata": {},
   "outputs": [],
   "source": [
    "#| export\n",
    "class BatchNorm_1D_Stateful(nn.Module):\n",
    "    '''Batchnorm for stateful models. Stores batch statistics for for every timestep seperately to mitigate transient effects.'''\n",
    "    __constants__ = ['track_running_stats', 'momentum', 'eps', 'weight', 'bias',\n",
    "                     'running_mean', 'running_var', 'num_batches_tracked']\n",
    "\n",
    "    def __init__(self, hidden_size, seq_len=None,stateful=False,batch_first=True, eps=1e-7, momentum=0.1, affine=True,\n",
    "                 track_running_stats=True):#num_features\n",
    "        super().__init__()\n",
    "        channel_d=hidden_size\n",
    "        self.seq_len = seq_len\n",
    "        self.stateful = stateful\n",
    "        self.batch_first = batch_first\n",
    "        self.eps = eps\n",
    "        self.momentum = momentum\n",
    "        self.affine = affine\n",
    "        self.track_running_stats = track_running_stats\n",
    "        self.axes=(1,)\n",
    "        if self.affine:\n",
    "            self.weight = Parameter(torch.Tensor(channel_d))\n",
    "            self.bias = Parameter(torch.Tensor(channel_d))\n",
    "            self.register_parameter('weight', self.weight)\n",
    "            self.register_parameter('bias', self.bias)\n",
    "        else:\n",
    "            self.register_parameter('weight', None)\n",
    "            self.register_parameter('bias', None)\n",
    "        if self.track_running_stats:\n",
    "            if seq_len is not None:\n",
    "                self.register_buffer('running_mean', torch.zeros(seq_len,channel_d))\n",
    "                self.register_buffer('running_var', torch.ones(seq_len,channel_d))\n",
    "            self.register_buffer('num_batches_tracked', torch.tensor(0, dtype=torch.long))\n",
    "        else:\n",
    "            self.register_parameter('running_mean', None)\n",
    "            self.register_parameter('running_var', None)\n",
    "            self.register_parameter('num_batches_tracked', None)\n",
    "        self.reset_parameters()\n",
    "        self.reset_state()\n",
    "        \n",
    "    def reset_state(self):\n",
    "        self.seq_idx = 0\n",
    "\n",
    "    def reset_parameters(self):\n",
    "        if self.track_running_stats and self.seq_len is not None:\n",
    "            self.running_mean.zero_()\n",
    "            self.running_var.fill_(1)\n",
    "            self.num_batches_tracked.zero_()\n",
    "        if self.affine:\n",
    "            self.weight.data.fill_(1.0)\n",
    "            self.bias.data.fill_(0.0)\n",
    "            \n",
    "    def forward(self, input, BN_start=None):\n",
    "        if input.dim() != 3:\n",
    "            raise ValueError('expected 3D input (got {}D input)'.format(input.dim()))\n",
    "        if self.batch_first: input = input.transpose(0,1)\n",
    "            \n",
    "        input_t,n_batch,hidden_size =input.size()\n",
    "        \n",
    "        if self.track_running_stats and self.seq_len is None:\n",
    "            self.seq_len = input_t\n",
    "            self.register_buffer('running_mean', torch.zeros((input_t,hidden_size),device=input.device))\n",
    "            self.register_buffer('running_var', torch.ones((input_t,hidden_size),device=input.device))\n",
    "            \n",
    "        if BN_start is None:\n",
    "            if self.stateful:\n",
    "                BN_start = self.seq_idx\n",
    "            else:\n",
    "                BN_start = 0\n",
    "\n",
    "        exponential_average_factor = 0.0\n",
    "        if self.training and self.track_running_stats:\n",
    "            if self.num_batches_tracked is not None:\n",
    "                self.num_batches_tracked += 1\n",
    "                if self.momentum is None:  # use cumulative moving average\n",
    "                    exponential_average_factor = 1.0 / float(self.num_batches_tracked)\n",
    "                else:  # use exponential moving average\n",
    "                    exponential_average_factor = self.momentum\n",
    "\n",
    "        BN_stop = BN_start+input_t\n",
    "        self.seq_idx = BN_stop #new starting point for next forward call \n",
    "        \n",
    "        \n",
    "        if self.training:\n",
    "            mean = input.mean(1)\n",
    "            var = input.var(1, unbiased=False)# use biased var in train\n",
    "            \n",
    "            if self.seq_len-BN_start > 0: #frame has to be in statistics window for updates\n",
    "                with torch.no_grad():\n",
    "                    self.running_mean[BN_start:BN_stop] = exponential_average_factor * mean[:self.seq_len-BN_start] + (1 - exponential_average_factor) * self.running_mean[BN_start:BN_stop]\n",
    "                    self.running_var[BN_start:BN_stop] = exponential_average_factor * var[:self.seq_len-BN_start] * n_batch / (n_batch - 1)  + (1 - exponential_average_factor) * self.running_var[BN_start:BN_stop] # update running_var with unbiased var\n",
    "        else:        \n",
    "            mean = self.running_mean[BN_start:BN_stop]\n",
    "            var = self.running_var[BN_start:BN_stop]\n",
    "            \n",
    "            #if elements outside of the statistics are requested, append the last element repeatedly\n",
    "#             import pdb;pdb.set_trace()\n",
    "            if BN_stop >= self.seq_len:\n",
    "                cat_len = input_t - max(self.seq_len-BN_start,0)  # min(BN_stop-self.seq_len,self.seq_len) \n",
    "                mean = torch.cat((mean,self.running_mean[-1:].repeat(cat_len,1)))\n",
    "                var = torch.cat((var,self.running_var[-1:].repeat(cat_len,1)))\n",
    "\n",
    "        output = (input - mean[:, None, :]) / (torch.sqrt(var[:, None, :] + self.eps))\n",
    "        if self.affine:\n",
    "            output = output * self.weight[None, None, :] + self.bias[None, None, :]#[None, :, None, None]\n",
    "            \n",
    "\n",
    "        if self.batch_first: output = output.transpose(0,1)\n",
    "            \n",
    "        return output"
   ]
  },
  {
   "attachments": {},
   "cell_type": "markdown",
   "metadata": {},
   "source": [
    "## Linear"
   ]
  },
  {
   "cell_type": "code",
   "execution_count": null,
   "metadata": {},
   "outputs": [],
   "source": [
    "#| export\n",
    "class SeqLinear(nn.Module):\n",
    "    \n",
    "    def __init__(self,input_size,output_size,hidden_size=100,hidden_layer=1,act=Mish,batch_first=True):\n",
    "        super().__init__()\n",
    "        self.batch_first = batch_first\n",
    "        def conv_act(inp,out): return nn.Sequential(nn.Conv1d(inp,out,1),act())\n",
    "        \n",
    "        if hidden_layer < 1:\n",
    "            self.lin = nn.Conv1d(input_size,output_size,1)\n",
    "        else:\n",
    "            self.lin = nn.Sequential(conv_act(input_size,hidden_size),\n",
    "                                     *[conv_act(hidden_size,hidden_size) for _ in range(hidden_layer-1)],\n",
    "                                    nn.Conv1d(hidden_size,output_size,1))\n",
    "            \n",
    "    def forward(self, x):\n",
    "        if not self.batch_first: x = x.transpose(0,1)\n",
    "        out = self.lin(x.transpose(1,2)).transpose(1,2)\n",
    "        \n",
    "        if not self.batch_first: out = out.transpose(0,1)\n",
    "        return out"
   ]
  },
  {
   "attachments": {},
   "cell_type": "markdown",
   "metadata": {},
   "source": [
    "## Autoregressive Models"
   ]
  },
  {
   "cell_type": "code",
   "execution_count": null,
   "metadata": {},
   "outputs": [],
   "source": [
    "#| export\n",
    "class Normalizer1D(nn.Module):\n",
    "    _epsilon = 1e-16\n",
    "\n",
    "    def __init__(self, mean, std):\n",
    "        super(Normalizer1D, self).__init__()\n",
    "        self.register_buffer('std', std.clone().detach() + self._epsilon)\n",
    "        self.register_buffer('mean', mean.clone().detach())\n",
    "\n",
    "    def normalize(self, x):\n",
    "        if x.device != self.mean.device:\n",
    "            self.mean = self.mean.to(x.device)\n",
    "            self.std = self.std.to(x.device)\n",
    "        return (x-self.mean)/self.std\n",
    "\n",
    "    def unnormalize(self, x):\n",
    "        if x.device != self.mean.device:\n",
    "            self.mean = self.mean.to(x.device)\n",
    "            self.std = self.std.to(x.device)\n",
    "        return x*self.std + self.mean"
   ]
  },
  {
   "cell_type": "code",
   "execution_count": null,
   "metadata": {},
   "outputs": [],
   "source": [
    "#| export\n",
    "class AR_Model(nn.Module):\n",
    "    '''\n",
    "    Autoregressive model container which work autoregressively if the sequence y is not provided, otherwise it works as a normal model.\n",
    "    This way it can be trained either with teacher forcing or with autoregression \n",
    "    '''\n",
    "    def __init__(self,model,ar=True,stateful=False,model_has_state=False,return_state=False,out_sz=None):\n",
    "        super().__init__()\n",
    "        store_attr()\n",
    "        if return_state and not model_has_state: raise ValueError('return_state=True requires model_has_state=True')\n",
    "        self.norm = None\n",
    "        self.y_init = None\n",
    "    \n",
    "    def init_normalize(self, batch,axes = [0,1]):\n",
    "        x = batch[1]\n",
    "        mean = x.mean(axes, keepdim=True)\n",
    "        std = x.std(axes, keepdim=True)\n",
    "        self.init_normalize_values(mean,std)\n",
    "        \n",
    "    def init_normalize_values(self, mean, std):\n",
    "        self.norm = Normalizer1D(mean,std)\n",
    "        \n",
    "    def forward(self, u,y=None,h_init=None,ar=None):\n",
    "        if ar is None: ar = self.ar\n",
    "\n",
    "        if ar: #autoregressive mode\n",
    "            y_e = []\n",
    "            \n",
    "            y_next = self.y_init if self.y_init is not None else torch.zeros(u.shape[0],1,self.out_sz).to(u.device)\n",
    "\n",
    "            #two loops in the if clause to avoid the if inside the loop\n",
    "            if self.model_has_state:\n",
    "                h0 = h_init\n",
    "                for u_in in u.split(1,dim=1):\n",
    "                    x = torch.cat((u_in, y_next), dim=2)\n",
    "                    y_next,h0 = self.model(x,h0)\n",
    "                    y_e.append(y_next)\n",
    "            else:\n",
    "                for u_in in u.split(1,dim=1):\n",
    "                    x = torch.cat((u_in, y_next), dim=2)\n",
    "                    y_next = self.model(x)\n",
    "                    y_e.append(y_next)\n",
    "                    \n",
    "            y_e = torch.cat(y_e,dim=1)\n",
    "            \n",
    "        else: #teacherforcing mode\n",
    "            if y is None: raise ValueError('y must be provided in teacher forcing mode')\n",
    "\n",
    "            x = torch.cat([u,y],dim=2)\n",
    "\n",
    "            if self.model_has_state:\n",
    "                y_e,h0 = self.model(x,h_init)\n",
    "            else:\n",
    "                y_e = self.model(x)\n",
    "                \n",
    "        if self.stateful:\n",
    "            self.y_init = to_detach(y_e[:,-1:], cpu=False, gather=False) \n",
    "\n",
    "        if self.norm is not None: y_e = self.norm.unnormalize(y_e)\n",
    "        return y_e if not self.return_state else (y_e,h0)\n",
    "    \n",
    "    def reset_state(self):\n",
    "        self.y_init = None"
   ]
  },
  {
   "cell_type": "code",
   "execution_count": null,
   "metadata": {},
   "outputs": [
    {
     "data": {
      "text/html": [
       "\n",
       "<style>\n",
       "    /* Turns off some styling */\n",
       "    progress {\n",
       "        /* gets rid of default border in Firefox and Opera. */\n",
       "        border: none;\n",
       "        /* Needs to be in here for Safari polyfill so background images work as expected. */\n",
       "        background-size: auto;\n",
       "    }\n",
       "    progress:not([value]), progress:not([value])::-webkit-progress-bar {\n",
       "        background: repeating-linear-gradient(45deg, #7e7e7e, #7e7e7e 10px, #5c5c5c 10px, #5c5c5c 20px);\n",
       "    }\n",
       "    .progress-bar-interrupted, .progress-bar-interrupted::-webkit-progress-bar {\n",
       "        background: #F44336;\n",
       "    }\n",
       "</style>\n"
      ],
      "text/plain": [
       "<IPython.core.display.HTML object>"
      ]
     },
     "metadata": {},
     "output_type": "display_data"
    },
    {
     "data": {
      "text/html": [
       "<table border=\"1\" class=\"dataframe\">\n",
       "  <thead>\n",
       "    <tr style=\"text-align: left;\">\n",
       "      <th>epoch</th>\n",
       "      <th>train_loss</th>\n",
       "      <th>valid_loss</th>\n",
       "      <th>time</th>\n",
       "    </tr>\n",
       "  </thead>\n",
       "  <tbody>\n",
       "    <tr>\n",
       "      <td>0</td>\n",
       "      <td>0.056075</td>\n",
       "      <td>0.060914</td>\n",
       "      <td>00:01</td>\n",
       "    </tr>\n",
       "  </tbody>\n",
       "</table>"
      ],
      "text/plain": [
       "<IPython.core.display.HTML object>"
      ]
     },
     "metadata": {},
     "output_type": "display_data"
    }
   ],
   "source": [
    "model = AR_Model(SeqLinear(2,1),model_has_state=False,ar=True,out_sz=1)\n",
    "model.init_normalize(dls.one_batch())\n",
    "lrn = Learner(dls,model,loss_func=nn.MSELoss()).fit(1)"
   ]
  },
  {
   "cell_type": "markdown",
   "metadata": {},
   "source": [
    "# Normalization Model\n",
    "When we want to use a trained model in an environment without a dataloader the data given to the model has to be normalized by the model's normalization layer."
   ]
  },
  {
   "cell_type": "code",
   "execution_count": null,
   "metadata": {},
   "outputs": [],
   "source": [
    "#| export\n",
    "from tsfast.datasets.core import  extract_mean_std_from_dls\n",
    "class NormalizedModel(nn.Module):\n",
    "    def __init__(self, model, mean, std):\n",
    "        super().__init__()\n",
    "        self.model = model\n",
    "        self.register_buffer('mean', torch.clone(mean))\n",
    "        self.register_buffer('std', torch.clone(std))\n",
    "\n",
    "    @classmethod\n",
    "    def from_dls(cls,model,dls):\n",
    "        mean, std = extract_mean_std_from_dls(dls)\n",
    "        return cls(model,mean,std)\n",
    "\n",
    "    def forward(self, xb):\n",
    "        # Normalize x and then pass it through the model\n",
    "        xb = (xb - self.mean) / self.std\n",
    "        return self.model(xb)"
   ]
  },
  {
   "cell_type": "code",
   "execution_count": null,
   "metadata": {},
   "outputs": [
    {
     "data": {
      "text/html": [
       "\n",
       "<style>\n",
       "    /* Turns off some styling */\n",
       "    progress {\n",
       "        /* gets rid of default border in Firefox and Opera. */\n",
       "        border: none;\n",
       "        /* Needs to be in here for Safari polyfill so background images work as expected. */\n",
       "        background-size: auto;\n",
       "    }\n",
       "    progress:not([value]), progress:not([value])::-webkit-progress-bar {\n",
       "        background: repeating-linear-gradient(45deg, #7e7e7e, #7e7e7e 10px, #5c5c5c 10px, #5c5c5c 20px);\n",
       "    }\n",
       "    .progress-bar-interrupted, .progress-bar-interrupted::-webkit-progress-bar {\n",
       "        background: #F44336;\n",
       "    }\n",
       "</style>\n"
      ],
      "text/plain": [
       "<IPython.core.display.HTML object>"
      ]
     },
     "metadata": {},
     "output_type": "display_data"
    },
    {
     "data": {
      "text/html": [
       "<table border=\"1\" class=\"dataframe\">\n",
       "  <thead>\n",
       "    <tr style=\"text-align: left;\">\n",
       "      <th>epoch</th>\n",
       "      <th>train_loss</th>\n",
       "      <th>valid_loss</th>\n",
       "      <th>time</th>\n",
       "    </tr>\n",
       "  </thead>\n",
       "  <tbody>\n",
       "    <tr>\n",
       "      <td>0</td>\n",
       "      <td>0.063482</td>\n",
       "      <td>0.065372</td>\n",
       "      <td>00:00</td>\n",
       "    </tr>\n",
       "  </tbody>\n",
       "</table>"
      ],
      "text/plain": [
       "<IPython.core.display.HTML object>"
      ]
     },
     "metadata": {},
     "output_type": "display_data"
    }
   ],
   "source": [
    "model = SeqLinear(1,1)\n",
    "model_norm = NormalizedModel.from_dls(model,dls)\n",
    "lrn = Learner(dls,model_norm,loss_func=nn.MSELoss()).fit(1)"
   ]
  },
  {
   "cell_type": "markdown",
   "metadata": {},
   "source": [
    "## Aggregation Model\n",
    "A model that aggregates the output along specified axes. Typically used to estimate scalar values from time series."
   ]
  },
  {
   "cell_type": "code",
   "execution_count": null,
   "metadata": {},
   "outputs": [],
   "source": [
    "#| export\n",
    "class SeqAggregation(nn.Module):\n",
    "    \"Creates an aggregation layer for a sequence, reducing the sequence dimension.\"\n",
    "    def __init__(self, \n",
    "                 func:callable=lambda x, dim: x.select(dim, -1), # Aggregation function\n",
    "                 dim:int=1): # The sequence dimension to aggregate over\n",
    "        super().__init__()\n",
    "        self.func = func\n",
    "        self.dim = dim\n",
    "\n",
    "    def forward(self, x:torch.Tensor) -> torch.Tensor:\n",
    "        \"Apply the aggregation function to the input tensor.\"\n",
    "        return self.func(x, dim=self.dim)"
   ]
  },
  {
   "cell_type": "code",
   "execution_count": null,
   "metadata": {},
   "outputs": [
    {
     "data": {
      "text/plain": [
       "torch.Size([64, 100, 1])"
      ]
     },
     "execution_count": null,
     "metadata": {},
     "output_type": "execute_result"
    }
   ],
   "source": [
    "xb,_ = dls.one_batch()\n",
    "xb.shape"
   ]
  },
  {
   "cell_type": "code",
   "execution_count": null,
   "metadata": {},
   "outputs": [
    {
     "data": {
      "text/plain": [
       "torch.Size([64, 1])"
      ]
     },
     "execution_count": null,
     "metadata": {},
     "output_type": "execute_result"
    }
   ],
   "source": [
    "model = nn.Sequential(\n",
    "    SeqLinear(1,1),\n",
    "    SeqAggregation(), # Takes the last value by default\n",
    ")\n",
    "model(xb.cpu()).shape"
   ]
  },
  {
   "cell_type": "code",
   "execution_count": null,
   "metadata": {},
   "outputs": [
    {
     "data": {
      "text/plain": [
       "torch.Size([64, 1])"
      ]
     },
     "execution_count": null,
     "metadata": {},
     "output_type": "execute_result"
    }
   ],
   "source": [
    "model = nn.Sequential(\n",
    "    SeqLinear(1,1),\n",
    "    SeqAggregation(func=torch.mean), # aggregate by mean\n",
    ")\n",
    "model(xb.cpu()).shape"
   ]
  },
  {
   "cell_type": "code",
   "execution_count": null,
   "metadata": {},
   "outputs": [
    {
     "data": {
      "text/plain": [
       "torch.Size([64, 1])"
      ]
     },
     "execution_count": null,
     "metadata": {},
     "output_type": "execute_result"
    }
   ],
   "source": [
    "model = nn.Sequential(\n",
    "    SeqLinear(1,1),\n",
    "    Lambda(lambda x: x.select(1, -1)), # select the last value using the lambda layer\n",
    ")\n",
    "model(xb.cpu()).shape"
   ]
  },
  {
   "cell_type": "code",
   "execution_count": null,
   "metadata": {},
   "outputs": [],
   "source": [
    "#| include: false\n",
    "import nbdev; nbdev.nbdev_export()"
   ]
  },
  {
   "cell_type": "code",
   "execution_count": null,
   "metadata": {},
   "outputs": [],
   "source": []
  }
 ],
 "metadata": {
  "kernelspec": {
   "display_name": "python3",
   "language": "python",
   "name": "python3"
  }
 },
 "nbformat": 4,
 "nbformat_minor": 4
}
