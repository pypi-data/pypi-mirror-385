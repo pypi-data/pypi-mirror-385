{
 "cells": [
  {
   "cell_type": "raw",
   "metadata": {},
   "source": [
    "---\n",
    "description: Pytorch Models for Sequential Data\n",
    "output-file: models.html\n",
    "title: Models\n",
    "\n",
    "---\n",
    "\n"
   ]
  },
  {
   "cell_type": "code",
   "execution_count": null,
   "metadata": {},
   "outputs": [],
   "source": [
    "#| default_exp models.rnn\n",
    "#| default_cls_lvl 3"
   ]
  },
  {
   "cell_type": "code",
   "execution_count": null,
   "metadata": {},
   "outputs": [],
   "source": [
    "#| export\n",
    "from tsfast.data import *\n",
    "from tsfast.models.layers import *\n",
    "from tsfast.learner.callbacks import *\n",
    "from tsfast.learner.losses import *\n",
    "\n",
    "from fastai.basics import *"
   ]
  },
  {
   "cell_type": "code",
   "execution_count": null,
   "metadata": {},
   "outputs": [],
   "source": [
    "from nbdev.config import get_config"
   ]
  },
  {
   "cell_type": "code",
   "execution_count": null,
   "metadata": {},
   "outputs": [],
   "source": [
    "project_root = get_config().config_file.parent\n",
    "f_path = project_root / 'test_data/WienerHammerstein'"
   ]
  },
  {
   "cell_type": "code",
   "execution_count": null,
   "metadata": {},
   "outputs": [],
   "source": [
    "seq = DataBlock(blocks=(SequenceBlock.from_hdf(['u','y'],TensorSequencesInput,clm_shift=[0,-1]),\n",
    "                        SequenceBlock.from_hdf(['y'],TensorSequencesOutput,clm_shift=[-1])),\n",
    "                 get_items=CreateDict([DfHDFCreateWindows(win_sz=100+1,stp_sz=100,clm='u')]),\n",
    "                 splitter=ApplyToDict(ParentSplitter()))\n",
    "db = seq.dataloaders(get_hdf_files(f_path))"
   ]
  },
  {
   "attachments": {},
   "cell_type": "markdown",
   "metadata": {},
   "source": [
    "## RNNs"
   ]
  },
  {
   "attachments": {},
   "cell_type": "markdown",
   "metadata": {},
   "source": [
    "### Basic RNN"
   ]
  },
  {
   "cell_type": "code",
   "execution_count": null,
   "metadata": {},
   "outputs": [],
   "source": [
    "#| export\n",
    "from fastai.text.models.awdlstm import RNNDropout,WeightDropout\n",
    "\n",
    "class RNN(nn.Module):\n",
    "    \"inspired by https://arxiv.org/abs/1708.02182\"\n",
    "\n",
    "    def __init__(self, input_size,hidden_size, num_layers, \n",
    "                 hidden_p=0.0, input_p=0.0, weight_p=0.0,\n",
    "                 rnn_type='gru',ret_full_hidden=False,stateful=False,\n",
    "                 normalization='',**kwargs):\n",
    "        super().__init__()\n",
    "        store_attr()\n",
    "        self.bs = 1\n",
    "        \n",
    "        self.rnns = nn.ModuleList([self._one_rnn(input_size if l == 0 else hidden_size,\n",
    "                                                 hidden_size,weight_p,rnn_type,**kwargs) for l in range(num_layers)])\n",
    "        \n",
    "        self.input_dp = RNNDropout(input_p)\n",
    "        self.hidden_dps = nn.ModuleList([RNNDropout(hidden_p) for l in range(num_layers)])\n",
    "        \n",
    "        if normalization == '':\n",
    "            self.norm_layers = [None]*num_layers\n",
    "        elif normalization == 'layernorm':\n",
    "            self.norm_layers = nn.ModuleList([nn.LayerNorm(hidden_size,elementwise_affine=False) for l in range(num_layers)])\n",
    "        elif normalization == 'batchnorm':\n",
    "            self.norm_layers = nn.ModuleList([(BatchNorm_1D_Stateful(hidden_size,stateful=stateful,batch_first=True,affine=False)) for i in range(num_layers)])  \n",
    "        else:\n",
    "            raise ValueError('Invalid value for normalization')\n",
    "        self.reset_state()\n",
    "\n",
    "    def forward(self, inp, h_init=None):\n",
    "        bs,seq_len,_ = inp.shape\n",
    "        if h_init is None and self.stateful: h_init = self._get_hidden(bs)\n",
    "                \n",
    "        r_input = self.input_dp(inp) if self.input_p > 0 else inp\n",
    "        full_hid,new_hidden = [],[]\n",
    "#         import pdb; pdb.set_trace()\n",
    "        for l, (rnn,hid_dp,nrm) in enumerate(zip(self.rnns,self.hidden_dps,self.norm_layers)):\n",
    "            r_output, h = rnn(r_input.contiguous(),h_init[l] if h_init is not None else None)\n",
    "            \n",
    "            if self.normalization != '':\n",
    "                r_output = nrm(r_output)\n",
    "                \n",
    "            if l != self.num_layers - 1: \n",
    "                r_output = hid_dp(r_output)\n",
    "            \n",
    "            full_hid.append(r_output)\n",
    "            new_hidden.append(h)\n",
    "            r_input = r_output\n",
    "\n",
    "        if self.stateful:\n",
    "            self.hidden =  to_detach(new_hidden, cpu=False, gather=False)\n",
    "            self.bs = bs\n",
    "        output = r_output if not self.ret_full_hidden else torch.stack(full_hid, 0)\n",
    "        \n",
    "        return output, new_hidden\n",
    "\n",
    "    def _get_hidden(self,bs):\n",
    "        '''retrieve internal hidden state, check if model device has changed'''\n",
    "        if self.hidden is None: return None\n",
    "        if bs!=self.bs: return None\n",
    "        if self.hidden[0][0].device != one_param(self).device: return None\n",
    "#         import pdb; pdb.set_trace()\n",
    "        return self.hidden\n",
    "    \n",
    "    def _one_rnn(self, n_in, n_out, weight_p, rnn_type,**kwargs):\n",
    "        \"Return one of the inner rnn\"\n",
    "        if rnn_type == 'gru':\n",
    "            rnn = nn.GRU(n_in, n_out,1,batch_first=True,**kwargs)\n",
    "            if weight_p > 0: \n",
    "                rnn = WeightDropout(rnn,weight_p)\n",
    "        elif rnn_type == 'lstm':\n",
    "            rnn = nn.LSTM(n_in, n_out,1,batch_first=True,**kwargs)\n",
    "            if weight_p > 0: \n",
    "                rnn = WeightDropout(rnn,weight_p)\n",
    "        elif rnn_type == 'rnn':\n",
    "            rnn = nn.RNN(n_in, n_out,1,batch_first=True,**kwargs)\n",
    "            if weight_p > 0: \n",
    "                rnn = WeightDropout(rnn,weight_p)\n",
    "        else:\n",
    "            raise Exception\n",
    "        return rnn\n",
    "    \n",
    "    def reset_state(self):\n",
    "        self.hidden = None"
   ]
  },
  {
   "cell_type": "code",
   "execution_count": null,
   "metadata": {},
   "outputs": [],
   "source": [
    "#| export\n",
    "class Sequential_RNN(RNN):\n",
    "    '''RNN Variant for Sequential Modules'''\n",
    "    def forward(self, inp, h_init=None):\n",
    "        return super().forward(inp, h_init)[0]"
   ]
  },
  {
   "cell_type": "code",
   "execution_count": null,
   "metadata": {},
   "outputs": [],
   "source": [
    "#| export\n",
    "class SimpleRNN(nn.Module):\n",
    "    \n",
    "    @delegates(RNN, keep=True)\n",
    "    def __init__(self,input_size,output_size,num_layers=1,hidden_size=100,linear_layers=0,return_state=False,**kwargs):\n",
    "        super().__init__()\n",
    "        self.return_state = return_state\n",
    "        self.rnn = RNN(input_size=input_size,hidden_size=hidden_size,num_layers=num_layers,**kwargs)\n",
    "        self.final = SeqLinear(hidden_size,output_size,hidden_size=hidden_size,hidden_layer=linear_layers,act=nn.LeakyReLU)\n",
    "    def forward(self, x, h_init=None):\n",
    "        out,h = self.rnn(x,h_init)\n",
    "        out = self.final(out)\n",
    "        return out if not self.return_state else (out,h)"
   ]
  },
  {
   "cell_type": "code",
   "execution_count": null,
   "metadata": {},
   "outputs": [],
   "source": [
    "model = SimpleRNN(2,1,2,stateful=False,normalization='batchnorm')\n",
    "lrn = Learner(db,model,loss_func=nn.MSELoss())#.fit(10)"
   ]
  },
  {
   "cell_type": "code",
   "execution_count": null,
   "metadata": {},
   "outputs": [
    {
     "data": {
      "text/html": [
       "\n",
       "<style>\n",
       "    /* Turns off some styling */\n",
       "    progress {\n",
       "        /* gets rid of default border in Firefox and Opera. */\n",
       "        border: none;\n",
       "        /* Needs to be in here for Safari polyfill so background images work as expected. */\n",
       "        background-size: auto;\n",
       "    }\n",
       "    progress:not([value]), progress:not([value])::-webkit-progress-bar {\n",
       "        background: repeating-linear-gradient(45deg, #7e7e7e, #7e7e7e 10px, #5c5c5c 10px, #5c5c5c 20px);\n",
       "    }\n",
       "    .progress-bar-interrupted, .progress-bar-interrupted::-webkit-progress-bar {\n",
       "        background: #F44336;\n",
       "    }\n",
       "</style>\n"
      ],
      "text/plain": [
       "<IPython.core.display.HTML object>"
      ]
     },
     "metadata": {},
     "output_type": "display_data"
    },
    {
     "data": {
      "text/html": [
       "<table border=\"1\" class=\"dataframe\">\n",
       "  <thead>\n",
       "    <tr style=\"text-align: left;\">\n",
       "      <th>epoch</th>\n",
       "      <th>train_loss</th>\n",
       "      <th>valid_loss</th>\n",
       "      <th>time</th>\n",
       "    </tr>\n",
       "  </thead>\n",
       "  <tbody>\n",
       "    <tr>\n",
       "      <td>0</td>\n",
       "      <td>0.032483</td>\n",
       "      <td>0.012665</td>\n",
       "      <td>00:00</td>\n",
       "    </tr>\n",
       "  </tbody>\n",
       "</table>"
      ],
      "text/plain": [
       "<IPython.core.display.HTML object>"
      ]
     },
     "metadata": {},
     "output_type": "display_data"
    }
   ],
   "source": [
    "model = SimpleRNN(2,1,2,rnn_type='lstm')\n",
    "lrn = Learner(db,model,loss_func=nn.MSELoss()).fit(1)"
   ]
  },
  {
   "cell_type": "code",
   "execution_count": null,
   "metadata": {},
   "outputs": [
    {
     "data": {
      "text/html": [
       "\n",
       "<style>\n",
       "    /* Turns off some styling */\n",
       "    progress {\n",
       "        /* gets rid of default border in Firefox and Opera. */\n",
       "        border: none;\n",
       "        /* Needs to be in here for Safari polyfill so background images work as expected. */\n",
       "        background-size: auto;\n",
       "    }\n",
       "    progress:not([value]), progress:not([value])::-webkit-progress-bar {\n",
       "        background: repeating-linear-gradient(45deg, #7e7e7e, #7e7e7e 10px, #5c5c5c 10px, #5c5c5c 20px);\n",
       "    }\n",
       "    .progress-bar-interrupted, .progress-bar-interrupted::-webkit-progress-bar {\n",
       "        background: #F44336;\n",
       "    }\n",
       "</style>\n"
      ],
      "text/plain": [
       "<IPython.core.display.HTML object>"
      ]
     },
     "metadata": {},
     "output_type": "display_data"
    },
    {
     "data": {
      "text/html": [
       "<table border=\"1\" class=\"dataframe\">\n",
       "  <thead>\n",
       "    <tr style=\"text-align: left;\">\n",
       "      <th>epoch</th>\n",
       "      <th>train_loss</th>\n",
       "      <th>valid_loss</th>\n",
       "      <th>time</th>\n",
       "    </tr>\n",
       "  </thead>\n",
       "  <tbody>\n",
       "    <tr>\n",
       "      <td>0</td>\n",
       "      <td>0.018673</td>\n",
       "      <td>0.005693</td>\n",
       "      <td>00:02</td>\n",
       "    </tr>\n",
       "    <tr>\n",
       "      <td>1</td>\n",
       "      <td>0.010276</td>\n",
       "      <td>0.002584</td>\n",
       "      <td>00:02</td>\n",
       "    </tr>\n",
       "  </tbody>\n",
       "</table>"
      ],
      "text/plain": [
       "<IPython.core.display.HTML object>"
      ]
     },
     "metadata": {},
     "output_type": "display_data"
    }
   ],
   "source": [
    "model = SimpleRNN(2,1,2,rnn_type='gru')\n",
    "lrn = Learner(db,model,loss_func=nn.MSELoss()).fit(2)"
   ]
  },
  {
   "cell_type": "markdown",
   "metadata": {},
   "source": [
    "### RNN Learner\n",
    "The Learner includes model specific optimizations. Removing the first n_skip samples of the loss function of transient time, greatly improves training stability.\n"
   ]
  },
  {
   "cell_type": "code",
   "execution_count": null,
   "metadata": {},
   "outputs": [],
   "source": [
    "#| export\n",
    "from tsfast.data.loader import get_inp_out_size\n"
   ]
  },
  {
   "cell_type": "code",
   "execution_count": null,
   "metadata": {},
   "outputs": [],
   "source": [
    "#| export\n",
    "@delegates(SimpleRNN, keep=True)\n",
    "def RNNLearner(dls,loss_func=nn.L1Loss(),metrics=[fun_rmse],n_skip=0,num_layers=1,hidden_size=100,stateful=False,opt_func=Adam,cbs=None,**kwargs):\n",
    "    if cbs is None: cbs = []\n",
    "\n",
    "    inp,out = get_inp_out_size(dls)\n",
    "    model = SimpleRNN(inp,out,num_layers,hidden_size,stateful=stateful,**kwargs)\n",
    "  \n",
    "    skip = partial(SkipNLoss,n_skip=n_skip)\n",
    "        \n",
    "    metrics= [skip(f) for f in metrics]\n",
    "\n",
    "    if stateful: \n",
    "        cbs.append(TbpttResetCB())\n",
    "        # if stateful apply n_skip with a callback for the first minibatch of a tbptt sequence\n",
    "        cbs.append(SkipFirstNCallback(n_skip))\n",
    "    else:\n",
    "        loss_func = skip(loss_func)\n",
    "        \n",
    "    lrn = Learner(dls,model,loss_func=loss_func,opt_func=opt_func,metrics=metrics,cbs=cbs,lr=3e-3)\n",
    "    return lrn\n"
   ]
  },
  {
   "cell_type": "code",
   "execution_count": null,
   "metadata": {},
   "outputs": [
    {
     "data": {
      "text/html": [
       "\n",
       "<style>\n",
       "    /* Turns off some styling */\n",
       "    progress {\n",
       "        /* gets rid of default border in Firefox and Opera. */\n",
       "        border: none;\n",
       "        /* Needs to be in here for Safari polyfill so background images work as expected. */\n",
       "        background-size: auto;\n",
       "    }\n",
       "    progress:not([value]), progress:not([value])::-webkit-progress-bar {\n",
       "        background: repeating-linear-gradient(45deg, #7e7e7e, #7e7e7e 10px, #5c5c5c 10px, #5c5c5c 20px);\n",
       "    }\n",
       "    .progress-bar-interrupted, .progress-bar-interrupted::-webkit-progress-bar {\n",
       "        background: #F44336;\n",
       "    }\n",
       "</style>\n"
      ],
      "text/plain": [
       "<IPython.core.display.HTML object>"
      ]
     },
     "metadata": {},
     "output_type": "display_data"
    },
    {
     "data": {
      "text/html": [
       "<table border=\"1\" class=\"dataframe\">\n",
       "  <thead>\n",
       "    <tr style=\"text-align: left;\">\n",
       "      <th>epoch</th>\n",
       "      <th>train_loss</th>\n",
       "      <th>valid_loss</th>\n",
       "      <th>fun_rmse</th>\n",
       "      <th>time</th>\n",
       "    </tr>\n",
       "  </thead>\n",
       "  <tbody>\n",
       "    <tr>\n",
       "      <td>0</td>\n",
       "      <td>0.185556</td>\n",
       "      <td>0.186565</td>\n",
       "      <td>0.231737</td>\n",
       "      <td>00:00</td>\n",
       "    </tr>\n",
       "  </tbody>\n",
       "</table>"
      ],
      "text/plain": [
       "<IPython.core.display.HTML object>"
      ]
     },
     "metadata": {},
     "output_type": "display_data"
    }
   ],
   "source": [
    "from tsfast.datasets.core import create_dls_test\n",
    "dls = create_dls_test(prediction=True).cpu()\n",
    "RNNLearner(dls,rnn_type='gru').fit(1,1e-4)\n"
   ]
  },
  {
   "cell_type": "markdown",
   "metadata": {},
   "source": [
    "### Autoregressive RNN Learner\n"
   ]
  },
  {
   "cell_type": "code",
   "execution_count": null,
   "metadata": {},
   "outputs": [],
   "source": [
    "#| export\n",
    "@delegates(SimpleRNN, keep=True)\n",
    "def AR_RNNLearner(dls,alpha=0,beta=0,early_stop=0,metrics=None,n_skip=0,opt_func=Adam,**kwargs):\n",
    "    skip = partial(SkipNLoss,n_skip=n_skip)\n",
    "    \n",
    "    inp,out = get_inp_out_size(dls)\n",
    "    model = AR_Model(SimpleRNN(inp+out,out,**kwargs),ar=False)\n",
    "    model.init_normalize(dls.one_batch())\n",
    "    \n",
    "    cbs=[ARInitCB(),TimeSeriesRegularizer(alpha=alpha,beta=beta,modules=[model.model.rnn])]#SaveModelCallback()\n",
    "    if early_stop > 0:\n",
    "        cbs += [EarlyStoppingCallback(patience=early_stop)]\n",
    "        \n",
    "    if metrics is None: metrics=SkipNLoss(fun_rmse,n_skip)\n",
    "        \n",
    "    lrn = Learner(dls,model,loss_func=nn.L1Loss(),opt_func=opt_func,metrics=metrics,cbs=cbs,lr=3e-3)\n",
    "    return lrn\n"
   ]
  },
  {
   "cell_type": "code",
   "execution_count": null,
   "metadata": {},
   "outputs": [
    {
     "data": {
      "text/html": [
       "\n",
       "<style>\n",
       "    /* Turns off some styling */\n",
       "    progress {\n",
       "        /* gets rid of default border in Firefox and Opera. */\n",
       "        border: none;\n",
       "        /* Needs to be in here for Safari polyfill so background images work as expected. */\n",
       "        background-size: auto;\n",
       "    }\n",
       "    progress:not([value]), progress:not([value])::-webkit-progress-bar {\n",
       "        background: repeating-linear-gradient(45deg, #7e7e7e, #7e7e7e 10px, #5c5c5c 10px, #5c5c5c 20px);\n",
       "    }\n",
       "    .progress-bar-interrupted, .progress-bar-interrupted::-webkit-progress-bar {\n",
       "        background: #F44336;\n",
       "    }\n",
       "</style>\n"
      ],
      "text/plain": [
       "<IPython.core.display.HTML object>"
      ]
     },
     "metadata": {},
     "output_type": "display_data"
    },
    {
     "data": {
      "text/html": [
       "<table border=\"1\" class=\"dataframe\">\n",
       "  <thead>\n",
       "    <tr style=\"text-align: left;\">\n",
       "      <th>epoch</th>\n",
       "      <th>train_loss</th>\n",
       "      <th>valid_loss</th>\n",
       "      <th>fun_rmse</th>\n",
       "      <th>time</th>\n",
       "    </tr>\n",
       "  </thead>\n",
       "  <tbody>\n",
       "    <tr>\n",
       "      <td>0</td>\n",
       "      <td>0.121968</td>\n",
       "      <td>0.071209</td>\n",
       "      <td>0.089933</td>\n",
       "      <td>00:00</td>\n",
       "    </tr>\n",
       "  </tbody>\n",
       "</table>"
      ],
      "text/plain": [
       "<IPython.core.display.HTML object>"
      ]
     },
     "metadata": {},
     "output_type": "display_data"
    }
   ],
   "source": [
    "AR_RNNLearner(dls).fit(1)\n"
   ]
  },
  {
   "attachments": {},
   "cell_type": "markdown",
   "metadata": {},
   "source": [
    "### Residual RNN"
   ]
  },
  {
   "cell_type": "code",
   "execution_count": null,
   "metadata": {},
   "outputs": [],
   "source": [
    "#| export\n",
    "class ResidualBlock_RNN(nn.Module):\n",
    "    \n",
    "    @delegates(RNN, keep=True)\n",
    "    def __init__(self, input_size,hidden_size,**kwargs):\n",
    "        super().__init__()\n",
    "        self.rnn1 = RNN(input_size,hidden_size,num_layers=1,**kwargs)\n",
    "        self.rnn2 = RNN(hidden_size,hidden_size,num_layers=1,**kwargs)\n",
    "        self.residual = SeqLinear(input_size,hidden_size,hidden_layer=0) if hidden_size!=input_size else noop\n",
    "\n",
    "    def forward(self, x):\n",
    "        out,_ = self.rnn1(x)\n",
    "        out,_ = self.rnn2(out)\n",
    "        return out+self.residual(x)"
   ]
  },
  {
   "cell_type": "code",
   "execution_count": null,
   "metadata": {},
   "outputs": [],
   "source": [
    "#| export\n",
    "class SimpleResidualRNN(nn.Sequential):\n",
    "    \n",
    "    @delegates(ResidualBlock_RNN, keep=True)\n",
    "    def __init__(self, input_size,output_size,num_blocks=1,hidden_size=100,**kwargs):\n",
    "        super().__init__()\n",
    "        for i in range(num_blocks):\n",
    "            self.add_module('rnn%d'%i, ResidualBlock_RNN(input_size if i==0 else hidden_size,hidden_size,**kwargs))\n",
    "\n",
    "        self.add_module('linear', SeqLinear(hidden_size,output_size,hidden_size,hidden_layer=1))"
   ]
  },
  {
   "cell_type": "code",
   "execution_count": null,
   "metadata": {},
   "outputs": [
    {
     "data": {
      "text/html": [
       "\n",
       "<style>\n",
       "    /* Turns off some styling */\n",
       "    progress {\n",
       "        /* gets rid of default border in Firefox and Opera. */\n",
       "        border: none;\n",
       "        /* Needs to be in here for Safari polyfill so background images work as expected. */\n",
       "        background-size: auto;\n",
       "    }\n",
       "    progress:not([value]), progress:not([value])::-webkit-progress-bar {\n",
       "        background: repeating-linear-gradient(45deg, #7e7e7e, #7e7e7e 10px, #5c5c5c 10px, #5c5c5c 20px);\n",
       "    }\n",
       "    .progress-bar-interrupted, .progress-bar-interrupted::-webkit-progress-bar {\n",
       "        background: #F44336;\n",
       "    }\n",
       "</style>\n"
      ],
      "text/plain": [
       "<IPython.core.display.HTML object>"
      ]
     },
     "metadata": {},
     "output_type": "display_data"
    },
    {
     "data": {
      "text/html": [
       "<table border=\"1\" class=\"dataframe\">\n",
       "  <thead>\n",
       "    <tr style=\"text-align: left;\">\n",
       "      <th>epoch</th>\n",
       "      <th>train_loss</th>\n",
       "      <th>valid_loss</th>\n",
       "      <th>time</th>\n",
       "    </tr>\n",
       "  </thead>\n",
       "  <tbody>\n",
       "    <tr>\n",
       "      <td>0</td>\n",
       "      <td>0.020712</td>\n",
       "      <td>0.000780</td>\n",
       "      <td>00:02</td>\n",
       "    </tr>\n",
       "  </tbody>\n",
       "</table>"
      ],
      "text/plain": [
       "<IPython.core.display.HTML object>"
      ]
     },
     "metadata": {},
     "output_type": "display_data"
    }
   ],
   "source": [
    "model = SimpleResidualRNN(2,1,1,stateful=False,normalization='')\n",
    "lrn = Learner(db,model,loss_func=nn.MSELoss()).fit(1)"
   ]
  },
  {
   "attachments": {},
   "cell_type": "markdown",
   "metadata": {},
   "source": [
    "### Dense RNN"
   ]
  },
  {
   "cell_type": "code",
   "execution_count": null,
   "metadata": {},
   "outputs": [],
   "source": [
    "#| export\n",
    "class DenseLayer_RNN(nn.Module):\n",
    "    \n",
    "    @delegates(RNN, keep=True)\n",
    "    def __init__(self, input_size,hidden_size,**kwargs):\n",
    "        super().__init__()\n",
    "        self.rnn1 = RNN(input_size,hidden_size,num_layers=1,**kwargs)\n",
    "        self.rnn2 = RNN(hidden_size,hidden_size,num_layers=1,**kwargs)\n",
    "\n",
    "    def forward(self, x):\n",
    "        out,_ = self.rnn1(x)\n",
    "        out,_ = self.rnn2(out)\n",
    "        return torch.cat([x, out], 2) \n",
    "    \n",
    "class DenseBlock_RNN(nn.Sequential):\n",
    "    @delegates(DenseLayer_RNN, keep=True)\n",
    "    def __init__(self, num_layers, num_input_features,growth_rate,**kwargs):\n",
    "        super().__init__()\n",
    "        for i in range(num_layers):\n",
    "            self.add_module('denselayer%d' % i, DenseLayer_RNN(num_input_features + i * growth_rate,growth_rate,**kwargs))\n",
    "            "
   ]
  },
  {
   "cell_type": "code",
   "execution_count": null,
   "metadata": {},
   "outputs": [],
   "source": [
    "#| export\n",
    "class DenseNet_RNN(nn.Sequential):\n",
    "    \n",
    "    @delegates(RNN, keep=True)\n",
    "    def __init__(self, input_size, output_size, growth_rate=32, block_config=(3,3),\n",
    "                 num_init_features=32,**kwargs):\n",
    "\n",
    "        super().__init__()\n",
    "        self.add_module('rnn0', Sequential_RNN(input_size, num_init_features,1,**kwargs))      \n",
    "\n",
    "        # Each denseblock\n",
    "        num_features = num_init_features  \n",
    "        for i, num_layers in enumerate(block_config):\n",
    "            self.add_module('denseblock%d' % i, DenseBlock_RNN(num_layers, num_features,growth_rate=growth_rate,**kwargs))\n",
    "            num_features=num_features + num_layers * growth_rate\n",
    "            \n",
    "            self.add_module('transition%d' % i,  Sequential_RNN(num_features, num_features // 2,1,**kwargs))\n",
    "            num_features = num_features // 2\n",
    "        self.add_module('final',  SeqLinear(num_features, output_size ,hidden_layer=0))"
   ]
  },
  {
   "cell_type": "code",
   "execution_count": null,
   "metadata": {},
   "outputs": [
    {
     "data": {
      "text/html": [
       "\n",
       "<style>\n",
       "    /* Turns off some styling */\n",
       "    progress {\n",
       "        /* gets rid of default border in Firefox and Opera. */\n",
       "        border: none;\n",
       "        /* Needs to be in here for Safari polyfill so background images work as expected. */\n",
       "        background-size: auto;\n",
       "    }\n",
       "    progress:not([value]), progress:not([value])::-webkit-progress-bar {\n",
       "        background: repeating-linear-gradient(45deg, #7e7e7e, #7e7e7e 10px, #5c5c5c 10px, #5c5c5c 20px);\n",
       "    }\n",
       "    .progress-bar-interrupted, .progress-bar-interrupted::-webkit-progress-bar {\n",
       "        background: #F44336;\n",
       "    }\n",
       "</style>\n"
      ],
      "text/plain": [
       "<IPython.core.display.HTML object>"
      ]
     },
     "metadata": {},
     "output_type": "display_data"
    },
    {
     "data": {
      "text/html": [
       "<table border=\"1\" class=\"dataframe\">\n",
       "  <thead>\n",
       "    <tr style=\"text-align: left;\">\n",
       "      <th>epoch</th>\n",
       "      <th>train_loss</th>\n",
       "      <th>valid_loss</th>\n",
       "      <th>time</th>\n",
       "    </tr>\n",
       "  </thead>\n",
       "  <tbody>\n",
       "    <tr>\n",
       "      <td>0</td>\n",
       "      <td>0.051308</td>\n",
       "      <td>0.047723</td>\n",
       "      <td>00:07</td>\n",
       "    </tr>\n",
       "  </tbody>\n",
       "</table>"
      ],
      "text/plain": [
       "<IPython.core.display.HTML object>"
      ]
     },
     "metadata": {},
     "output_type": "display_data"
    }
   ],
   "source": [
    "model = DenseNet_RNN(2,1,growth_rate=10,block_config=(1,1),num_init_features=2)\n",
    "lrn = Learner(db,model,loss_func=nn.MSELoss()).fit(1)"
   ]
  },
  {
   "attachments": {},
   "cell_type": "markdown",
   "metadata": {},
   "source": [
    "### Seperate RNN"
   ]
  },
  {
   "cell_type": "code",
   "execution_count": null,
   "metadata": {},
   "outputs": [],
   "source": [
    "#| export\n",
    "class SeperateRNN(nn.Module):\n",
    "    \n",
    "    @delegates(RNN, keep=True)\n",
    "    def __init__(self,input_list,output_size,num_layers=1,hidden_size=100,linear_layers=1,**kwargs):\n",
    "        super().__init__()\n",
    "        self.input_list = input_list\n",
    "        \n",
    "        rnn_width = hidden_size//len(input_list)\n",
    "        \n",
    "        self.rnns =nn.ModuleList([ RNN(input_size=len(n),hidden_size=rnn_width,num_layers=1,**kwargs)\n",
    "                        for n in input_list])\n",
    "        \n",
    "        self.rnn =RNN(input_size=rnn_width*len(input_list),hidden_size=hidden_size,\n",
    "                      num_layers=num_layers,**kwargs)\n",
    "        self.final = SeqLinear(hidden_size,output_size,hidden_size=hidden_size,hidden_layer=linear_layers)\n",
    "\n",
    "    def forward(self, x):      \n",
    "        rnn_out = [rnn(x[...,group])[0] for rnn,group in zip(self.rnns,self.input_list)]\n",
    "        out = torch.cat(rnn_out,dim=-1)\n",
    "        out,_ = self.rnn(out)\n",
    "        out = self.final(out)\n",
    "        return out"
   ]
  },
  {
   "cell_type": "code",
   "execution_count": null,
   "metadata": {},
   "outputs": [],
   "source": [
    "#| include: false\n",
    "import nbdev; nbdev.nbdev_export()"
   ]
  }
 ],
 "metadata": {
  "kernelspec": {
   "display_name": "python3",
   "language": "python",
   "name": "python3"
  }
 },
 "nbformat": 4,
 "nbformat_minor": 4
}
