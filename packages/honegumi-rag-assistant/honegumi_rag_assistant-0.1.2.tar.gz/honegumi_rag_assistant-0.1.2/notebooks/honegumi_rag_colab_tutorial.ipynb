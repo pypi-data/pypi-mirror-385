{
 "cells": [
  {
   "cell_type": "markdown",
   "id": "b8fbe6a2",
   "metadata": {},
   "source": [
    "# **Honegumi RAG Assistant: A Google Colab Tutorial**\n",
    "**Agentic Code Generation for Bayesian Optimization**\n",
    "\n",
    "### **Purpose of This Tutorial**\n",
    "This tutorial demonstrates how to use [**Honegumi RAG Assistant**](https://github.com/hasan-sayeed/honegumi_rag_assistant), an intelligent agentic AI system that automatically generates high-quality, executable Python code for Bayesian optimization experiments. With just a natural language problem description, Honegumi RAG Assistant can:\n",
    "\n",
    "- Interpret your optimization problem and extract parameters automatically\n",
    "- Generate deterministic code skeletons using [Honegumi](https://honegumi.readthedocs.io)\n",
    "- Retrieve relevant [Ax Platform](https://ax.dev/) documentation to enhance code generation\n",
    "- Produce complete, ready-to-run Python code tailored to your specific requirements\n",
    "- Stream code generation in real-time so you can see progress\n",
    "- Optionally review and refine the generated code\n",
    "\n",
    "By following this tutorial, you'll learn how to set up Honegumi RAG Assistant in Google Colab, describe your optimization problem, build a vector store for documentation retrieval, and execute the agentic pipeline to generate production-ready Bayesian optimization code.\n",
    "\n",
    "> This automation offers a powerful **starting point for optimization engineers and researchers**—helping them **move faster**, explore ideas more effectively, and focus on science rather than boilerplate code."
   ]
  },
  {
   "cell_type": "markdown",
   "id": "3da99556",
   "metadata": {},
   "source": [
    "## **Step 1. Install Required Packages**\n",
    "\n",
    "Installs the `honegumi-rag-assistant` package. Output is suppressed for a cleaner notebook experience."
   ]
  },
  {
   "cell_type": "code",
   "execution_count": null,
   "id": "746e530e",
   "metadata": {},
   "outputs": [],
   "source": [
    "!pip install honegumi-rag-assistant"
   ]
  },
  {
   "cell_type": "markdown",
   "id": "77f9b12e",
   "metadata": {},
   "source": [
    "## **Step 2. Mount Google Drive**\n",
    "Allows the notebook to save the vector store and generated code to your Google Drive."
   ]
  },
  {
   "cell_type": "code",
   "execution_count": null,
   "id": "ef75f66e",
   "metadata": {},
   "outputs": [],
   "source": [
    "from google.colab import drive\n",
    "drive.mount('/content/drive')"
   ]
  },
  {
   "cell_type": "markdown",
   "id": "6e4034da",
   "metadata": {},
   "source": [
    "## **Step 3. Set Your API Keys**\n",
    "Honegumi RAG Assistant requires two API keys:\n",
    "\n",
    "- `OPENAI_API_KEY` – for accessing GPT models (e.g., GPT-5, GPT-4o)\n",
    "- `LANGCHAIN_API_KEY` – for logging execution traces to LangSmith (optional but recommended)\n",
    "\n",
    "Choose one of the following methods:\n",
    "\n",
    "### **Option A: Set Environment Variables Directly**\n",
    "Replace the placeholders with your actual keys."
   ]
  },
  {
   "cell_type": "code",
   "execution_count": null,
   "id": "38ad8e3a",
   "metadata": {},
   "outputs": [],
   "source": [
    "%env OPENAI_API_KEY=sk-...\n",
    "%env LANGCHAIN_API_KEY=lsv2_..."
   ]
  },
  {
   "cell_type": "markdown",
   "id": "486c88e0",
   "metadata": {},
   "source": [
    "### **Option B: Use the Colab Secrets Sidebar**\n",
    "1. In the left Secrets tab (🔑), add two secrets with exact names:\n",
    "   - `OPENAI_API_KEY`\n",
    "   - `LANGCHAIN_API_KEY`\n",
    "\n",
    "2. Then run the following to inject them into your environment:"
   ]
  },
  {
   "cell_type": "code",
   "execution_count": null,
   "id": "17b550d4",
   "metadata": {},
   "outputs": [],
   "source": [
    "from google.colab import userdata\n",
    "import os\n",
    "\n",
    "# List whatever secrets you've added in the UI\n",
    "for key in (\"OPENAI_API_KEY\", \"LANGCHAIN_API_KEY\"):\n",
    "    val = userdata.get(key)  # Grabs the secret by name\n",
    "    if val is not None:\n",
    "        os.environ[key] = val  # Inject into the process env"
   ]
  },
  {
   "cell_type": "markdown",
   "id": "36effd28",
   "metadata": {},
   "source": [
    "This makes your API keys available to Honegumi RAG Assistant without hardcoding them into the notebook."
   ]
  },
  {
   "cell_type": "markdown",
   "id": "c36f8a44",
   "metadata": {},
   "source": [
    "## **Step 4. Build Vector Store (One-Time Setup)**\n",
    "\n",
    "The vector store contains embeddings of Ax Platform documentation, enabling the assistant to retrieve relevant context when generating code.\n",
    "\n",
    "**Note:** This step takes 5-10 minutes but only needs to be done once. The vector store will be saved to your Google Drive and reused in future sessions."
   ]
  },
  {
   "cell_type": "code",
   "execution_count": null,
   "id": "429bff4a",
   "metadata": {},
   "outputs": [],
   "source": [
    "# Set the path where the vector store will be saved\n",
    "VECTORSTORE_PATH = \"/content/drive/MyDrive/honegumi_data/ax_docs_vectorstore\"\n",
    "\n",
    "# Build the vector store using the installed package\n",
    "from honegumi_rag_assistant.build_vector_store import main\n",
    "import sys\n",
    "\n",
    "# Pass arguments to the build script\n",
    "sys.argv = ['build_vector_store.py', '--output', VECTORSTORE_PATH]\n",
    "main()"
   ]
  },
  {
   "cell_type": "code",
   "execution_count": null,
   "id": "7f96053e",
   "metadata": {},
   "outputs": [],
   "source": [
    "import os\n",
    "\n",
    "# Set the vector store path for retrieval\n",
    "os.environ['AX_DOCS_VECTORSTORE_PATH'] = \"/content/drive/MyDrive/honegumi_data/ax_docs_vectorstore\"\n",
    "\n",
    "# Optional: Set output directory for saving generated code\n",
    "OUTPUT_DIR = \"/content/drive/MyDrive/honegumi_outputs\"\n",
    "os.environ['OUTPUT_DIR'] = OUTPUT_DIR"
   ]
  },
  {
   "cell_type": "markdown",
   "id": "f41796a8",
   "metadata": {},
   "source": [
    "## **Step 6. Run Honegumi RAG Assistant**\n",
    "\n",
    "Now you can describe your optimization problem and let the assistant generate code!\n",
    "\n",
    "Use the Python API directly within the notebook:"
   ]
  },
  {
   "cell_type": "code",
   "execution_count": null,
   "id": "d7364986",
   "metadata": {},
   "outputs": [],
   "source": [
    "from honegumi_rag_assistant.orchestrator import run_from_text\n",
    "\n",
    "# Describe your optimization problem\n",
    "problem = \"\"\"\n",
    "Optimize temperature (50-200°C) and pressure (1-10 bar) for maximum yield \n",
    "in a chemical reaction.\n",
    "\"\"\"\n",
    "\n",
    "# Generate code (streaming enabled by default)\n",
    "code = run_from_text(\n",
    "    problem,\n",
    "    output_dir=\"/content/drive/MyDrive/honegumi_outputs\",  # Set to None to skip saving\n",
    "    debug=False,  # Set to True for detailed logging\n",
    "    enable_review=False  # Set to True for code review (slower but more accurate)\n",
    ")\n",
    "\n",
    "print(\"\\n\" + \"=\"*80)\n",
    "print(\"GENERATED CODE\")\n",
    "print(\"=\"*80)\n",
    "print(code)"
   ]
  },
  {
   "cell_type": "markdown",
   "id": "0791703b",
   "metadata": {},
   "source": [
    "## **Step 7. Explore Advanced Options**\n",
    "\n",
    "You can customize the code generation process with different parameters:"
   ]
  },
  {
   "cell_type": "code",
   "execution_count": null,
   "id": "680744d3",
   "metadata": {},
   "outputs": [],
   "source": [
    "# Enable debug mode for detailed logging\n",
    "code = run_from_text(\n",
    "    problem,\n",
    "    output_dir=\"/content/drive/MyDrive/honegumi_outputs\",\n",
    "    debug=True,  # Shows all agent decisions and timing\n",
    "    enable_review=False\n",
    ")"
   ]
  },
  {
   "cell_type": "code",
   "execution_count": null,
   "id": "92245581",
   "metadata": {},
   "outputs": [],
   "source": [
    "# Enable code review (slower but more accurate)\n",
    "code = run_from_text(\n",
    "    problem,\n",
    "    output_dir=\"/content/drive/MyDrive/honegumi_outputs\",\n",
    "    debug=False,\n",
    "    enable_review=True  # Adds quality assessment step\n",
    ")"
   ]
  },
  {
   "cell_type": "markdown",
   "id": "68b6d61b",
   "metadata": {},
   "source": [
    "## **Step 8. View Generated Code**\n",
    "\n",
    "If you specified `--output-dir`, navigate to your Google Drive folder to find:\n",
    "- `honegumi_generated_<hash>.py` - The complete Python script for your optimization problem\n",
    "\n",
    "You can also trace the assistant's reasoning in your [LangSmith dashboard](https://smith.langchain.com/)."
   ]
  },
  {
   "cell_type": "markdown",
   "id": "31b12988",
   "metadata": {},
   "source": [
    "## **Example Problems to Try**\n",
    "\n",
    "Here are some example optimization problems you can try:\n",
    "\n",
    "### **1. Chemical Process Optimization**\n",
    "```\n",
    "Optimize temperature (100-300°C), pressure (1-5 bar), and catalyst concentration (0.1-1.0 M) \n",
    "to maximize conversion rate in a catalytic reaction.\n",
    "```\n",
    "\n",
    "### **2. Materials Design**\n",
    "```\n",
    "Optimize composition of a polymer blend: Component A (0-100%), Component B (0-100%), \n",
    "and curing temperature (80-150°C) to maximize tensile strength while minimizing cost.\n",
    "```\n",
    "\n",
    "### **3. Machine Learning Hyperparameters**\n",
    "```\n",
    "Optimize neural network hyperparameters: learning rate (1e-5 to 1e-1), \n",
    "batch size (16 to 256), and dropout rate (0.1 to 0.5) to maximize validation accuracy.\n",
    "```\n",
    "\n",
    "### **4. Pharmaceutical Formulation**\n",
    "```\n",
    "Optimize drug formulation: API concentration (5-20 mg/mL), pH (4-8), \n",
    "and excipient ratio (0.5-2.0) to maximize bioavailability and minimize side effects.\n",
    "```"
   ]
  },
  {
   "cell_type": "markdown",
   "id": "3448390a",
   "metadata": {},
   "source": [
    "# **Beyond This Tutorial**\n",
    "\n",
    "This tutorial demonstrates a **proof of concept** of what's possible with an agentic system for Bayesian optimization code generation. While **Honegumi RAG Assistant** is designed to work out-of-the-box for many common scenarios, your real-world problems might be more complex, involve custom constraints, or require specific features.\n",
    "\n",
    "Have something bigger in mind? Want **Honegumi RAG Assistant** to handle multi-objective optimization, custom acquisition functions, constraint handling, or integrate with your existing workflow?\n",
    "\n",
    "> **We'd love to hear from you.**\n",
    ">\n",
    "> Submit a feature request, share feedback, or get in touch to help shape the future of agentic systems in optimization.\n",
    "\n",
    "- Open a [GitHub issue](https://github.com/hasan-sayeed/honegumi_rag_assistant/issues)\n",
    "- Start a [discussion](https://github.com/hasan-sayeed/honegumi_rag_assistant/discussions)\n",
    "- Or reach out directly at hasan.sayeed.71.93@gmail.com"
   ]
  }
 ],
 "metadata": {
  "language_info": {
   "name": "python"
  }
 },
 "nbformat": 4,
 "nbformat_minor": 5
}
