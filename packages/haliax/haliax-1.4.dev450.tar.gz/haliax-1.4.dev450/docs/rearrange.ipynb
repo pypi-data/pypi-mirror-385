{
 "cells": [
  {
   "cell_type": "code",
   "execution_count": 1,
   "id": "initial_id",
   "metadata": {
    "collapsed": true,
    "ExecuteTime": {
     "end_time": "2023-10-24T19:27:47.968939Z",
     "start_time": "2023-10-24T19:27:47.349182Z"
    }
   },
   "outputs": [
    {
     "name": "stderr",
     "output_type": "stream",
     "text": [
      "WARNING: All log messages before absl::InitializeLog() is called are written to STDERR\n",
      "I0000 00:00:1698175667.814623       1 tfrt_cpu_pjrt_client.cc:349] TfrtCpuClient created.\n"
     ]
    }
   ],
   "source": [
    "import haliax as hax\n",
    "from jax.random import PRNGKey\n",
    "\n",
    "N = hax.Axis(\"N\", 8)\n",
    "C = hax.Axis(\"C\", 3)\n",
    "H = hax.Axis(\"H\", 64)\n",
    "W = hax.Axis(\"W\", 64)\n",
    "\n",
    "x = hax.random.uniform(PRNGKey(0), (N, C, H, W))\n",
    "\n"
   ]
  },
  {
   "cell_type": "code",
   "execution_count": 9,
   "outputs": [
    {
     "data": {
      "text/plain": "{'N': 8, 'C': 3, 'P': 64, 'H': 8, 'W': 8}"
     },
     "execution_count": 9,
     "metadata": {},
     "output_type": "execute_result"
    }
   ],
   "source": [
    "# split into patches\n",
    "hax.rearrange(x, \"N C (ph H) (pw W) -> N C (P: ph pw) H W\", ph=8, pw=8)\n",
    "# order agnostic\n",
    "hax.rearrange(x, \"{(H: ph H) (W: pw W)} -> ... (P: ph pw) H W\", ph=8, pw=8)"
   ],
   "metadata": {
    "collapsed": false,
    "ExecuteTime": {
     "end_time": "2023-10-24T19:30:14.757668Z",
     "start_time": "2023-10-24T19:30:14.753994Z"
    }
   },
   "id": "f0178b7a92a41783"
  }
 ],
 "metadata": {
  "kernelspec": {
   "display_name": "Python 3",
   "language": "python",
   "name": "python3"
  },
  "language_info": {
   "codemirror_mode": {
    "name": "ipython",
    "version": 2
   },
   "file_extension": ".py",
   "mimetype": "text/x-python",
   "name": "python",
   "nbconvert_exporter": "python",
   "pygments_lexer": "ipython2",
   "version": "2.7.6"
  }
 },
 "nbformat": 4,
 "nbformat_minor": 5
}
