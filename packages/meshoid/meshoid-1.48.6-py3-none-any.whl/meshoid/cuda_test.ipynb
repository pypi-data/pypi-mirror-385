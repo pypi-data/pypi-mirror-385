{
 "cells": [
  {
   "cell_type": "code",
   "execution_count": 1,
   "metadata": {},
   "outputs": [
    {
     "name": "stdout",
     "output_type": "stream",
     "text": [
      "Using matplotlib backend: <object object at 0x7fee42d90350>\n",
      "%pylab is deprecated, use %matplotlib inline and import the required libraries.\n",
      "Populating the interactive namespace from numpy and matplotlib\n",
      "Found 1 CUDA devices\n",
      "id 0         b'NVIDIA T1000'                              [SUPPORTED]\n",
      "                      Compute Capability: 7.5\n",
      "                           PCI Device ID: 0\n",
      "                              PCI Bus ID: 101\n",
      "                                    UUID: GPU-b303fbe2-bd8d-69ed-9a8c-01198eed12ed\n",
      "                                Watchdog: Enabled\n",
      "             FP32/FP64 Performance Ratio: 32\n",
      "Summary:\n",
      "\t1/1 devices are supported\n"
     ]
    }
   ],
   "source": [
    "%pylab\n",
    "from numba import (\n",
    "    jit,\n",
    "    vectorize,\n",
    "    float32,\n",
    "    float64,\n",
    "    cfunc,\n",
    "    njit,\n",
    "    prange,\n",
    "    get_num_threads,\n",
    "    set_num_threads,\n",
    ")\n",
    "import numpy as np\n",
    "from math import sqrt\n",
    "from scipy.special import comb\n",
    "from scipy.interpolate import interp2d, RectBivariateSpline\n",
    "from numba import cuda\n",
    "from numpy import float64, float32, int32, ndarray\n",
    "\n",
    "cuda.detect()\n",
    "\n",
    "\n",
    "# Controls threads per block and shared memory usage.\n",
    "# The computation will be done on blocks of TPBxTPB elements.\n",
    "TPB = 16\n",
    "\n",
    "@cuda.jit(\"void(float32[:], float32[:,:], float32[:], float32[:,:], float32)\",fastmath=True)\n",
    "def GridSurfaceDensity_core_cuda(f, x2d, h, grid, size):\n",
    "    res = np.int32(grid.shape[0])\n",
    "    dx = np.float32(size / (res - 1))\n",
    "\n",
    "    # numba provides this function for working out which element you're\n",
    "    # supposed to be accessing\n",
    "    i = cuda.grid(1)\n",
    "    if i<f.shape[0]: # and j<n3.shape[1]: # check we're in range\n",
    "       # print(i)\n",
    "        # do work on a single element\n",
    "        xs = x2d[i]\n",
    "        hs = h[i]\n",
    "        hs_sqr = hs*hs\n",
    "        hinv = 1 / hs\n",
    "        mh2 = f[i] * hinv * hinv * 1.8189136353359467\n",
    "\n",
    "        gxmin = max(int((xs[0] - hs) / dx + 1), 0)\n",
    "        gxmax = min(int((xs[0] + hs) / dx), res - 1)\n",
    "        gymin = max(int((xs[1] - hs) / dx +   1), 0)\n",
    "        gymax = min(int((xs[1] + hs) / dx), res - 1)\n",
    "\n",
    "        for gx in range(gxmin, gxmax + 1):\n",
    "            delta_x_Sqr = xs[0] - gx * dx\n",
    "            delta_x_Sqr *= delta_x_Sqr\n",
    "            for gy in range(gymin, gymax + 1):\n",
    "                delta_y_Sqr = xs[1] - gy * dx\n",
    "                delta_y_Sqr *= delta_y_Sqr\n",
    "                r = delta_x_Sqr + delta_y_Sqr\n",
    "                if r > hs_sqr:\n",
    "                    continue\n",
    "                r = sqrt(r)\n",
    "                q = r * hinv\n",
    "                if q <= 0.5:\n",
    "                    kernel = 1 - 6 * q * q * (1 - q)\n",
    "                else: # q <= 1.0:\n",
    "                    a = 1 - q\n",
    "                    kernel = 2 * a * a * a\n",
    "                cuda.atomic.add(grid, (gx,gy), kernel * mh2)\n",
    "       #cuda.syncthreads()\n",
    "                \n"
   ]
  },
  {
   "cell_type": "code",
   "execution_count": 9,
   "metadata": {},
   "outputs": [
    {
     "name": "stdout",
     "output_type": "stream",
     "text": [
      "CPU times: user 10.6 s, sys: 76.1 ms, total: 10.7 s\n",
      "Wall time: 7.37 s\n"
     ]
    },
    {
     "data": {
      "text/plain": [
       "(None,\n",
       " array([[0.30436262, 0.3243586 , 0.3440726 , ..., 0.31730238, 0.30075228,\n",
       "         0.28387037],\n",
       "        [0.32386306, 0.34512836, 0.36608908, ..., 0.3391451 , 0.3214441 ,\n",
       "         0.30338868],\n",
       "        [0.34302232, 0.36553156, 0.3877163 , ..., 0.36100018, 0.34214982,\n",
       "         0.32292193],\n",
       "        ...,\n",
       "        [0.28866827, 0.3068082 , 0.3246588 , ..., 0.32269472, 0.30338594,\n",
       "         0.28401226],\n",
       "        [0.27150697, 0.28856844, 0.30535436, ..., 0.30480537, 0.28652766,\n",
       "         0.26819173],\n",
       "        [0.25427198, 0.27025187, 0.28597048, ..., 0.28670752, 0.269474  ,\n",
       "         0.25218907]], dtype=float32))"
      ]
     },
     "execution_count": 9,
     "metadata": {},
     "output_type": "execute_result"
    }
   ],
   "source": [
    "TPB = 16\n",
    "import math\n",
    "N = 2048\n",
    "grid = cuda.device_array((N, N), dtype=np.float32)\n",
    "#grid = np.zeros((N,N))\n",
    "#grid[:] = 0\n",
    "\n",
    "Np = 10**6\n",
    "x = np.float32(np.random.rand(Np,3))\n",
    "x = x[x[:,0].argsort()]\n",
    "x = x[x[:,1].argsort()]\n",
    "m = np.float32(np.repeat(1./Np,Np))\n",
    "h = np.float32(np.repeat(Np**(-1./3),Np))*2\n",
    "center = np.float32([0.5,0.5,0.5])\n",
    "size = np.float32(1.)\n",
    "\n",
    "threadsperblock = 16\n",
    "blockspergrid = int(ceil(Np // threadsperblock))\n",
    "md = cuda.to_device(m)\n",
    "xd = cuda.to_device(x - center + size / 2)\n",
    "hd = cuda.to_device(h)\n",
    "%time GridSurfaceDensity_core_cuda[blockspergrid,threadsperblock](md,xd,hd,grid,size), grid.copy_to_host()"
   ]
  },
  {
   "cell_type": "code",
   "execution_count": 4,
   "metadata": {},
   "outputs": [
    {
     "name": "stdout",
     "output_type": "stream",
     "text": [
      "5.81 s ± 409 ms per loop (mean ± std. dev. of 7 runs, 1 loop each)\n"
     ]
    }
   ],
   "source": [
    "from meshoid import Meshoid\n",
    "from meshoid.backend import GridSurfaceDensity\n",
    "#GridSurfaceDensity()\n",
    "\n",
    "%timeit Meshoid(x,m,h).SurfaceDensity(m,center=np.array([0.5,0.5,0.5]),size=1.,res=1024)"
   ]
  },
  {
   "cell_type": "code",
   "execution_count": null,
   "metadata": {},
   "outputs": [
    {
     "name": "stdout",
     "output_type": "stream",
     "text": [
      "Using matplotlib backend: <object object at 0x7fa1c93f8170>\n",
      "%pylab is deprecated, use %matplotlib inline and import the required libraries.\n",
      "Populating the interactive namespace from numpy and matplotlib\n"
     ]
    }
   ],
   "source": [
    "%pylab\n",
    "Np = 10**6\n",
    "x = np.float32(np.random.rand(Np,3))\n",
    "x = x[x[:,0].argsort()]\n",
    "x = x[x[:,1].argsort()]\n",
    "m = np.float32(np.repeat(1./Np,Np))\n",
    "h = np.float32(np.repeat(Np**(-1./3),Np))*2\n",
    "center = np.float32([0.5,0.5,0.5])\n",
    "size = np.float32(1.)\n",
    "\n",
    "from meshoid import Meshoid\n",
    "\n",
    "M = Meshoid(np.float64(x))\n",
    "plt.imshow(M.Slice(m))"
   ]
  },
  {
   "cell_type": "code",
   "execution_count": 3,
   "metadata": {},
   "outputs": [
    {
     "name": "stdout",
     "output_type": "stream",
     "text": [
      "40.5 ms ± 2.21 ms per loop (mean ± std. dev. of 7 runs, 10 loops each)\n"
     ]
    }
   ],
   "source": [
    "\n",
    "N = 2048 \n",
    "A = np.random.rand(N,N)\n",
    "%timeit A @ A\n",
    "\n",
    "import cupy"
   ]
  },
  {
   "cell_type": "code",
   "execution_count": null,
   "metadata": {},
   "outputs": [],
   "source": []
  }
 ],
 "metadata": {
  "kernelspec": {
   "display_name": "Python 3 (ipykernel)",
   "language": "python",
   "name": "python3"
  },
  "language_info": {
   "codemirror_mode": {
    "name": "ipython",
    "version": 3
   },
   "file_extension": ".py",
   "mimetype": "text/x-python",
   "name": "python",
   "nbconvert_exporter": "python",
   "pygments_lexer": "ipython3",
   "version": "3.9.16"
  }
 },
 "nbformat": 4,
 "nbformat_minor": 4
}
