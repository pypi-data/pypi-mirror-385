{
 "cells": [
  {
   "cell_type": "markdown",
   "id": "1a1ef11f-7032-410f-aa15-ce6075a3700c",
   "metadata": {},
   "source": [
    "# How to make your own benchmark?\n",
    "This notebook shows an example of how to use the benchmark defition to write a new benchmark class.\n",
    "\n",
    "Here we make a simple benchmark that creates two circuits, one that prepares all the qubits in the ground state and another one that prepares them in the excited state."
   ]
  },
  {
   "cell_type": "code",
   "execution_count": 1,
   "id": "c49a76e6-b368-421f-a76e-ed79e78a85fa",
   "metadata": {},
   "outputs": [],
   "source": [
    "# Define a new benchmark here.\n",
    "import iqm.benchmarks as qcvv\n",
    "from iqm.benchmarks import Benchmark\n",
    "import xarray as xr\n",
    "from iqm.benchmarks.benchmark_definition import add_counts_to_dataset\n",
    "from qiskit import QuantumCircuit, transpile\n",
    "import matplotlib.pyplot as plt\n",
    "\n",
    "def generate_readout_test_circuit(backend, N_qubits):\n",
    "    circuits=[]\n",
    "    qb_to_measure = range(N_qubits)\n",
    "\n",
    "    qc = QuantumCircuit(N_qubits,N_qubits)\n",
    "    for qubit in range(N_qubits):\n",
    "        pass\n",
    "    qc.barrier()\n",
    "    qc.measure(qb_to_measure,qb_to_measure)\n",
    "    circuits.append(qc)\n",
    "\n",
    "    qc = QuantumCircuit(N_qubits,N_qubits)\n",
    "    for qubit in range(N_qubits):\n",
    "        qc.x(qubit)\n",
    "    qc.barrier()\n",
    "    qc.measure(qb_to_measure,qb_to_measure)\n",
    "    circuits.append(qc)\n",
    "    qc_transpiled = transpile(circuits, backend, optimization_level=0)\n",
    "    return qc_transpiled\n",
    "\n",
    "\n",
    "def plot_histogram(\n",
    "    dataset: xr.Dataset,\n",
    "):\n",
    "    fig = plt.figure()\n",
    "    for ii in range(50):\n",
    "        try:\n",
    "            plt.bar(dataset[f\"state_{ii}\"], dataset[f\"counts_{ii}\"], label=f\"circuit={ii}\")\n",
    "        except:\n",
    "           break\n",
    "    plt.xticks(rotation=90)\n",
    "    plt.legend()\n",
    "    plt.close()\n",
    "    return fig\n",
    "\n",
    "\n",
    "def readout_analysis(run):\n",
    "    dataset = run.dataset\n",
    "    plots={}\n",
    "    plots[\"histogram\"] = plot_histogram(dataset)\n",
    "    return qcvv.AnalysisResult(dataset=dataset, plots=plots)\n",
    "\n",
    "class ReadoutTest(Benchmark):\n",
    "    default_options = dict(N_shots=2048)\n",
    "    analysis_function = staticmethod(readout_analysis)\n",
    "    name: str = \"readout_test\"\n",
    "\n",
    "    def execute(self, backend)->xr.Dataset:\n",
    "        \"\"\"\n",
    "        Executes the benchmark.\n",
    "        \"\"\"\n",
    "        dataset = xr.Dataset()\n",
    "        circuits = generate_readout_test_circuit(backend, self.options[\"N_qubits\"])\n",
    "        job = backend.run(circuits, shots=self.options[\"N_shots\"])\n",
    "        add_counts_to_dataset(job.result(), dataset)\n",
    "        return dataset"
   ]
  },
  {
   "cell_type": "code",
   "execution_count": 41,
   "id": "6889ae19-d6e1-45d2-9556-7018d01d3401",
   "metadata": {
    "collapsed": true,
    "jupyter": {
     "outputs_hidden": true
    },
    "scrolled": true
   },
   "outputs": [
    {
     "data": {
      "text/plain": [
       "RunResult(dataset=<xarray.Dataset> Size: 480B\n",
       "Dimensions:   (state_0: 9, state_1: 11)\n",
       "Coordinates:\n",
       "  * state_0   (state_0) <U4 144B '0000' '0001' '0010' ... '1000' '1010' '1100'\n",
       "  * state_1   (state_1) <U4 176B '0011' '0101' '0110' ... '1101' '1110' '1111'\n",
       "Data variables:\n",
       "    counts_0  (state_0) int64 72B 1924 26 39 1 20 2 34 1 1\n",
       "    counts_1  (state_1) int64 88B 2 3 2 72 1 1 48 4 78 36 1801)"
      ]
     },
     "execution_count": 41,
     "metadata": {},
     "output_type": "execute_result"
    }
   ],
   "source": [
    "from iqm.qiskit_iqm import IQMProvider\n",
    "\n",
    "iqm_server_url =\"https://example-station.qc.iqm.fi/cocos/\"\n",
    "\n",
    "benchmark = ReadoutTest(N_qubits=4)\n",
    "provider = IQMProvider(iqm_server_url)\n",
    "backend = provider.get_backend()\n",
    "benchmark.run(backend)"
   ]
  },
  {
   "cell_type": "code",
   "execution_count": 42,
   "id": "6adefb24-5dc0-40e1-bc1c-099214eecce5",
   "metadata": {
    "execution": {
     "iopub.execute_input": "2024-09-02T17:02:56.494934Z",
     "iopub.status.busy": "2024-09-02T17:02:56.494736Z",
     "iopub.status.idle": "2024-09-02T17:02:56.673772Z",
     "shell.execute_reply": "2024-09-02T17:02:56.673260Z",
     "shell.execute_reply.started": "2024-09-02T17:02:56.494916Z"
    }
   },
   "outputs": [
    {
     "data": {
      "image/png": "[encoded data removed]",
      "text/plain": [
       "<Figure size 640x480 with 1 Axes>"
      ]
     },
     "metadata": {},
     "output_type": "display_data"
    }
   ],
   "source": [
    "result = benchmark.analyze()\n",
    "result.plot_all()"
   ]
  }
 ],
 "metadata": {
  "kernelspec": {
   "display_name": "Python 3 (ipykernel)",
   "language": "python",
   "name": "python3"
  },
  "language_info": {
   "codemirror_mode": {
    "name": "ipython",
    "version": 3
   },
   "file_extension": ".py",
   "mimetype": "text/x-python",
   "name": "python",
   "nbconvert_exporter": "python",
   "pygments_lexer": "ipython3",
   "version": "3.11.10"
  }
 },
 "nbformat": 4,
 "nbformat_minor": 5
}
