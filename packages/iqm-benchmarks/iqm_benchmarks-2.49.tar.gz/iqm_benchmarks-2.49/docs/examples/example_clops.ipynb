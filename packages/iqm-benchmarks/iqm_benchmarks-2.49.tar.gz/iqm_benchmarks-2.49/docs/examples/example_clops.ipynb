{
 "cells": [
  {
   "cell_type": "markdown",
   "id": "c7042cce",
   "metadata": {},
   "source": [
    "# Circuit Layer Operations Per Second (CLOPS)"
   ]
  },
  {
   "cell_type": "code",
   "execution_count": null,
   "id": "initial_id",
   "metadata": {
    "ExecuteTime": {
     "end_time": "2025-03-31T13:33:55.898569Z",
     "start_time": "2025-03-31T13:33:55.751952Z"
    }
   },
   "outputs": [],
   "source": [
    "%load_ext autoreload\n",
    "%autoreload 2"
   ]
  },
  {
   "cell_type": "markdown",
   "id": "c49c1c8b9953e94b",
   "metadata": {},
   "source": [
    "## Set IQM Token if using Resonance"
   ]
  },
  {
   "cell_type": "code",
   "execution_count": null,
   "id": "727b628b003eb025",
   "metadata": {
    "ExecuteTime": {
     "end_time": "2025-03-31T13:33:56.038479Z",
     "start_time": "2025-03-31T13:33:55.904577Z"
    }
   },
   "outputs": [],
   "source": [
    "# import os\n",
    "# os.environ[\"IQM_TOKEN\"] = \"xxxxxxxxxxxxxxx\""
   ]
  },
  {
   "cell_type": "markdown",
   "id": "65b98c60877cf03f",
   "metadata": {},
   "source": [
    "## Choose (or define) a backend"
   ]
  },
  {
   "cell_type": "code",
   "execution_count": null,
   "id": "d3a3be5b1960d3b9",
   "metadata": {
    "ExecuteTime": {
     "end_time": "2025-03-31T13:33:56.261663Z",
     "start_time": "2025-03-31T13:33:56.047442Z"
    }
   },
   "outputs": [],
   "source": [
    "#backend = \"fakeadonis\"\n",
    "#backend = \"fakeapollo\"\n",
    "backend = \"garnet\"\n",
    "#backend = \"deneb\""
   ]
  },
  {
   "cell_type": "markdown",
   "id": "11f4816cf86a142a",
   "metadata": {},
   "source": [
    "## CLOPS Configuration"
   ]
  },
  {
   "cell_type": "code",
   "execution_count": null,
   "id": "236a67324f5f554f",
   "metadata": {
    "ExecuteTime": {
     "end_time": "2025-03-31T13:33:56.445788Z",
     "start_time": "2025-03-31T13:33:56.271956Z"
    }
   },
   "outputs": [],
   "source": [
    "from iqm.benchmarks.quantum_volume.clops import *"
   ]
  },
  {
   "cell_type": "code",
   "execution_count": null,
   "id": "9df606975f35561e",
   "metadata": {
    "ExecuteTime": {
     "end_time": "2025-03-31T13:33:56.615574Z",
     "start_time": "2025-03-31T13:33:56.459871Z"
    }
   },
   "outputs": [],
   "source": [
    "EXAMPLE_CLOPS = CLOPSConfiguration(\n",
    "    qubits=[9, 14, 15, 17, 18, 19],\n",
    "    num_circuits=100, # By definition set to 100\n",
    "    num_updates=10, # By definition set to 10\n",
    "    num_shots=100, # By definition set to 100\n",
    "    calset_id=None,\n",
    ")"
   ]
  },
  {
   "cell_type": "markdown",
   "id": "387dff4c99d48389",
   "metadata": {},
   "source": [
    "## Run the experiment"
   ]
  },
  {
   "cell_type": "code",
   "execution_count": null,
   "id": "248c9b2867f5c7b2",
   "metadata": {
    "ExecuteTime": {
     "end_time": "2025-03-31T13:37:01.358888Z",
     "start_time": "2025-03-31T13:33:56.626276Z"
    },
    "scrolled": true
   },
   "outputs": [],
   "source": [
    "benchmark_clops = CLOPSBenchmark(backend, EXAMPLE_CLOPS)\n",
    "run_clops = benchmark_clops.run()"
   ]
  },
  {
   "cell_type": "markdown",
   "id": "5337ca4c261471f2",
   "metadata": {},
   "source": [
    "## Perform Analysis"
   ]
  },
  {
   "cell_type": "code",
   "execution_count": null,
   "id": "a8f00319edb44e82",
   "metadata": {
    "ExecuteTime": {
     "end_time": "2025-03-31T14:19:37.280785Z",
     "start_time": "2025-03-31T14:19:37.120122Z"
    }
   },
   "outputs": [],
   "source": [
    "result_clops = benchmark_clops.analyze()"
   ]
  },
  {
   "cell_type": "markdown",
   "id": "edc44f28",
   "metadata": {},
   "source": [
    "### List all the keys in the attributes of the dataset"
   ]
  },
  {
   "cell_type": "code",
   "execution_count": null,
   "id": "99df6217",
   "metadata": {
    "ExecuteTime": {
     "end_time": "2025-03-31T14:19:37.595025Z",
     "start_time": "2025-03-31T14:19:37.476648Z"
    }
   },
   "outputs": [],
   "source": [
    "for k in run_clops.dataset.attrs.keys():\n",
    "    print(k)"
   ]
  },
  {
   "cell_type": "code",
   "execution_count": null,
   "id": "acf10f20",
   "metadata": {
    "ExecuteTime": {
     "end_time": "2025-03-31T14:19:37.857033Z",
     "start_time": "2025-03-31T14:19:37.702494Z"
    }
   },
   "outputs": [],
   "source": [
    "run_clops.dataset.attrs[\"operation_counts\"]"
   ]
  },
  {
   "cell_type": "markdown",
   "id": "d273c3f0",
   "metadata": {},
   "source": [
    "### The observation object contains the benchmark results"
   ]
  },
  {
   "cell_type": "code",
   "execution_count": null,
   "id": "352897190f3b3c5",
   "metadata": {
    "ExecuteTime": {
     "end_time": "2025-03-31T14:19:38.357657Z",
     "start_time": "2025-03-31T14:19:38.241572Z"
    }
   },
   "outputs": [],
   "source": [
    "result_clops.observations"
   ]
  },
  {
   "cell_type": "markdown",
   "id": "583e5e62",
   "metadata": {},
   "source": [
    "### Generate plots"
   ]
  },
  {
   "cell_type": "markdown",
   "id": "48a89e78cb90ed9b",
   "metadata": {},
   "source": [
    "The plot generated by the CLOPS analysis is a bar plot that shows a breakdown of elapsed times in the experiment in units of seconds.\n",
    "\n",
    "The bars labeled as \"Remote\" refer to time spent in the remote components of the experiment, as reported by the backend.\n",
    "- Remote (components) shows the values of the time spent in compilation, submission and execution of the jobs.\n",
    "- Remote (total) shows the total time spent in the remote components of the experiment.\n",
    "\n",
    "NB: the difference between the Remote \"total\" and \"components\" elapsed times may be due to other aspects like loading and storing jobs and IDs, etc.\n",
    "\n",
    "The \"Wall-time\" bars show time spent in the experiment as experienced by the user. NB: The time spent in assigning parameters is not included in the CLOPS value, since this is done offline in your (the user's) hardware.\n",
    "- Wall-time (CLOPS) encompasses the time related to the CLOPS value, i.e., comprising only of submitting jobs per template and retrieving the results, without time spent in transpilation or parameter assignment, which are both done offline.\n",
    "- Wall-time (total) shows a breakdown of the total wall-time of the experiment, with the added offline times of transpilation of circuit templates and assignment of parameters.\n",
    "\n",
    "NB: The difference between the \"user retrieve\" time and the Remote \"total\" time can be assigned as a latency time, and may vary significantly depending on external circumstances. This latency is the aggregated time between when a job is finished and when the results are received (which may be due to several external factors)."
   ]
  },
  {
   "cell_type": "code",
   "execution_count": null,
   "id": "1b9de8da9d22251d",
   "metadata": {
    "ExecuteTime": {
     "end_time": "2025-03-31T14:25:46.536071Z",
     "start_time": "2025-03-31T14:25:46.175822Z"
    }
   },
   "outputs": [],
   "source": [
    "result_clops.plot_all()"
   ]
  }
 ],
 "metadata": {
  "kernelspec": {
   "display_name": "iqm-benchmarks",
   "language": "python",
   "name": "python3"
  },
  "language_info": {
   "codemirror_mode": {
    "name": "ipython",
    "version": 3
   },
   "file_extension": ".py",
   "mimetype": "text/x-python",
   "name": "python",
   "nbconvert_exporter": "python",
   "pygments_lexer": "ipython3",
   "version": "3.11.11"
  }
 },
 "nbformat": 4,
 "nbformat_minor": 5
}
