{
 "cells": [
  {
   "cell_type": "markdown",
   "id": "f2fac03c",
   "metadata": {},
   "source": [
    "# Q-Score"
   ]
  },
  {
   "cell_type": "code",
   "execution_count": null,
   "id": "c296eaea",
   "metadata": {
    "ExecuteTime": {
     "end_time": "2025-01-08T19:52:55.760827Z",
     "start_time": "2025-01-08T19:52:53.764833Z"
    }
   },
   "outputs": [],
   "source": [
    "%load_ext autoreload\n",
    "%autoreload 2\n",
    "\n",
    "from iqm.benchmarks.optimization.qscore import *\n",
    "import random"
   ]
  },
  {
   "cell_type": "markdown",
   "id": "61b1a1228ac49ff3",
   "metadata": {},
   "source": [
    "## Choose (or define) a backend"
   ]
  },
  {
   "cell_type": "code",
   "execution_count": null,
   "id": "1f6d224149d3c5dc",
   "metadata": {
    "ExecuteTime": {
     "end_time": "2025-01-08T19:52:55.775970Z",
     "start_time": "2025-01-08T19:52:55.761778Z"
    }
   },
   "outputs": [],
   "source": [
    "backend = \"fakeadonis\"\n",
    "#backend = \"fakeapollo\"\n",
    "#backend = \"garnet\"\n",
    "#backend = \"deneb\"\n",
    "#backend = \"pyrite\""
   ]
  },
  {
   "cell_type": "markdown",
   "id": "c5e8e58810f038b7",
   "metadata": {},
   "source": [
    "## Set IQM Token if using Resonance."
   ]
  },
  {
   "cell_type": "code",
   "execution_count": null,
   "id": "d27a0f6a5b492fc8",
   "metadata": {
    "ExecuteTime": {
     "end_time": "2025-01-08T19:52:55.789229Z",
     "start_time": "2025-01-08T19:52:55.776713Z"
    }
   },
   "outputs": [],
   "source": [
    "import os\n",
    "os.environ[\"IQM_TOKEN\"] = \"XXXXXXXXXXXXXX\""
   ]
  },
  {
   "cell_type": "markdown",
   "id": "c226dc19a01a4f5d",
   "metadata": {},
   "source": [
    "## Qscore Configuration"
   ]
  },
  {
   "cell_type": "code",
   "execution_count": null,
   "id": "621ab4f000bbdea4",
   "metadata": {
    "ExecuteTime": {
     "end_time": "2025-01-08T19:52:55.805146Z",
     "start_time": "2025-01-08T19:52:55.790263Z"
    }
   },
   "outputs": [],
   "source": [
    "EXAMPLE_QSCORE = QScoreConfiguration(\n",
    "    num_instances = 100,\n",
    "    num_qaoa_layers= 1,\n",
    "    shots = 10000,\n",
    "    calset_id=None, # calibration set ID, default is None\n",
    "    min_num_nodes =  2,\n",
    "    max_num_nodes= None, # put it to run for all the node sizes\n",
    "    use_virtual_node = True,\n",
    "    use_classically_optimized_angles = True,\n",
    "    choose_qubits_routine = \"custom\",\n",
    "    custom_qubits_array=[\n",
    "                    [2],\n",
    "                    [2, 0],\n",
    "                    [2, 0, 1],\n",
    "                    [2, 0, 1, 3],\n",
    "                    [2, 0, 1, 3, 4]],\n",
    "    seed = random.randint(1, 999999),\n",
    "    REM = True,\n",
    "    mit_shots=1000,\n",
    "    )"
   ]
  },
  {
   "cell_type": "markdown",
   "id": "4c35fd87cd148c90",
   "metadata": {},
   "source": [
    "## Run the experiment"
   ]
  },
  {
   "cell_type": "code",
   "execution_count": null,
   "id": "29b927c5bd0a3aaa",
   "metadata": {
    "ExecuteTime": {
     "end_time": "2025-01-08T20:48:28.702427Z",
     "start_time": "2025-01-08T19:52:55.805620Z"
    }
   },
   "outputs": [],
   "source": [
    "benchmark_qscore = QScoreBenchmark(backend, EXAMPLE_QSCORE)\n",
    "run0_qscore = benchmark_qscore.run()"
   ]
  },
  {
   "cell_type": "markdown",
   "id": "68324f814315f4c5",
   "metadata": {},
   "source": [
    "## Perform Analysis"
   ]
  },
  {
   "cell_type": "code",
   "execution_count": null,
   "id": "71b17c5fef6cb333",
   "metadata": {
    "ExecuteTime": {
     "end_time": "2025-01-08T20:48:31.818124Z",
     "start_time": "2025-01-08T20:48:28.704865Z"
    }
   },
   "outputs": [],
   "source": [
    "result0_qscore = benchmark_qscore.analyze()"
   ]
  },
  {
   "cell_type": "code",
   "execution_count": null,
   "id": "3c03d2e6a47bc5b5",
   "metadata": {
    "ExecuteTime": {
     "end_time": "2025-01-08T20:48:31.833603Z",
     "start_time": "2025-01-08T20:48:31.818662Z"
    }
   },
   "outputs": [],
   "source": [
    "result0_qscore.observations"
   ]
  },
  {
   "cell_type": "code",
   "execution_count": null,
   "id": "7e6318c5c82890be",
   "metadata": {
    "ExecuteTime": {
     "end_time": "2025-01-08T20:48:32.027042Z",
     "start_time": "2025-01-08T20:48:31.834592Z"
    }
   },
   "outputs": [],
   "source": [
    "result0_qscore.plot_all()"
   ]
  },
  {
   "cell_type": "code",
   "execution_count": null,
   "id": "9cd8581a",
   "metadata": {},
   "outputs": [],
   "source": []
  }
 ],
 "metadata": {
  "kernelspec": {
   "display_name": "env-iqm-benchmarks",
   "language": "python",
   "name": "python3"
  },
  "language_info": {
   "codemirror_mode": {
    "name": "ipython",
    "version": 3
   },
   "file_extension": ".py",
   "mimetype": "text/x-python",
   "name": "python",
   "nbconvert_exporter": "python",
   "pygments_lexer": "ipython3",
   "version": "3.11.11"
  }
 },
 "nbformat": 4,
 "nbformat_minor": 5
}
