{
 "cells": [
  {
   "cell_type": "markdown",
   "id": "republican-wedding",
   "metadata": {},
   "source": [
    "### Commodplot"
   ]
  },
  {
   "cell_type": "markdown",
   "id": "backed-generation",
   "metadata": {},
   "source": [
    "This library is used to to produce seasonal and reindex charts commonly used for commodities trading."
   ]
  },
  {
   "cell_type": "code",
   "execution_count": null,
   "id": "fourth-livestock",
   "metadata": {},
   "outputs": [],
   "source": [
    "from commodplot import commodplot\n",
    "from commodutil import forwards\n",
    "from commodutil.forward.util import convert_contract_to_date\n",
    "import os\n",
    "import pandas as pd\n",
    "import numpy as np\n",
    "pd.options.plotting.backend = \"plotly\""
   ]
  },
  {
   "cell_type": "code",
   "execution_count": null,
   "id": "c3c6f127-080b-497c-a9b2-fd8fa22d05e2",
   "metadata": {},
   "outputs": [],
   "source": []
  },
  {
   "cell_type": "markdown",
   "id": "premium-palestinian",
   "metadata": {},
   "source": [
    "### Seasonal Chart"
   ]
  },
  {
   "cell_type": "code",
   "execution_count": null,
   "id": "oriented-witch",
   "metadata": {},
   "outputs": [],
   "source": [
    "# read in some data\n",
    "cl = pd.read_csv(os.path.join('test', 'test_cl.csv'), index_col=0, parse_dates=True, dayfirst=True, date_format='%Y-%m-%d')\n",
    "cl = cl.dropna(how='all', axis=1)\n",
    "fwd = pd.DataFrame([65 for x in range(12)], index=pd.date_range('2025-01-01', periods=12, freq='MS'))"
   ]
  },
  {
   "cell_type": "code",
   "execution_count": null,
   "id": "czech-tobacco",
   "metadata": {},
   "outputs": [],
   "source": [
    "commodplot.seas_line_plot(cl[cl.columns[-1]], fwd=fwd, shaded_range=5, title='WTI', visible_line_years=3, average_line=5)       "
   ]
  },
  {
   "cell_type": "markdown",
   "id": "unlimited-layer",
   "metadata": {},
   "source": [
    "### ReIndex Chart"
   ]
  },
  {
   "cell_type": "code",
   "execution_count": null,
   "id": "adult-membership",
   "metadata": {},
   "outputs": [],
   "source": [
    "clc = cl.copy()\n",
    "clc = clc.dropna(how='all', axis=1)\n",
    "clc = clc.rename(columns={x: pd.to_datetime(convert_contract_to_date(x)) for x in cl.columns})\n",
    "\n",
    "sp = forwards.time_spreads(clc, 12, 12)\n",
    "sp = sp[sp.columns[-7:]]"
   ]
  },
  {
   "cell_type": "code",
   "execution_count": null,
   "id": "incorrect-volleyball",
   "metadata": {},
   "outputs": [],
   "source": [
    "commodplot.reindex_year_line_plot(sp, title='WTI December Contracts')"
   ]
  },
  {
   "cell_type": "markdown",
   "id": "vocal-forest",
   "metadata": {},
   "source": [
    "The chart above reindexes the individual December contracts to the current year. \n",
    "Without reindexing it would appear as the following:"
   ]
  },
  {
   "cell_type": "code",
   "execution_count": null,
   "id": "indoor-decade",
   "metadata": {},
   "outputs": [],
   "source": [
    "sp.plot(title='WTI December Contracts')"
   ]
  },
  {
   "cell_type": "markdown",
   "id": "happy-commitment",
   "metadata": {},
   "source": [
    "### Line Plot"
   ]
  },
  {
   "cell_type": "markdown",
   "id": "operating-treat",
   "metadata": {},
   "source": [
    "It is also possible to do a simple line plot with consistent colors for years."
   ]
  },
  {
   "cell_type": "code",
   "execution_count": null,
   "id": "latter-ministry",
   "metadata": {},
   "outputs": [],
   "source": [
    "commodplot.line_plot(sp, title='WTI December Contracts')"
   ]
  },
  {
   "cell_type": "markdown",
   "id": "polyphonic-block",
   "metadata": {},
   "source": [
    "Otherwise normal colours are used"
   ]
  },
  {
   "cell_type": "code",
   "execution_count": null,
   "id": "serious-driver",
   "metadata": {},
   "outputs": [],
   "source": [
    "fwd = pd.DataFrame(np.random.randint(150,250,size=(12, 2)) , columns=list('AB'), index=pd.date_range('2020-11-01', periods=12, freq='MS'))/100\n",
    "spn = sp[[2020, 2021]].rename(columns={2020: 'A', 2021 : 'B'})\n",
    "commodplot.line_plot(spn, fwd=fwd, title='WTI December Contracts')"
   ]
  },
  {
   "cell_type": "markdown",
   "id": "coordinate-carry",
   "metadata": {},
   "source": [
    "### Forward History Plot"
   ]
  },
  {
   "cell_type": "code",
   "execution_count": null,
   "id": "conditional-calgary",
   "metadata": {},
   "outputs": [],
   "source": [
    "clf = pd.read_csv(os.path.join('test', 'test_cl_fwd.csv'), index_col=0, parse_dates=True, dayfirst=True)\n",
    "commodplot.forward_history_plot(clf, 'CL Cruve over time')"
   ]
  },
  {
   "cell_type": "code",
   "execution_count": null,
   "id": "incredible-machinery",
   "metadata": {},
   "outputs": [],
   "source": []
  },
  {
   "cell_type": "code",
   "execution_count": null,
   "id": "public-lender",
   "metadata": {},
   "outputs": [],
   "source": []
  }
 ],
 "metadata": {
  "kernelspec": {
   "display_name": "Python 3 (ipykernel)",
   "language": "python",
   "name": "python3"
  },
  "language_info": {
   "codemirror_mode": {
    "name": "ipython",
    "version": 3
   },
   "file_extension": ".py",
   "mimetype": "text/x-python",
   "name": "python",
   "nbconvert_exporter": "python",
   "pygments_lexer": "ipython3",
   "version": "3.12.10"
  }
 },
 "nbformat": 4,
 "nbformat_minor": 5
}
