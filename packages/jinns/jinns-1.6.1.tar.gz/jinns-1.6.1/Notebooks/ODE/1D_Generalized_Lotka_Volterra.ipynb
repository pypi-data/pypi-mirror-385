{
 "cells": [
  {
   "cell_type": "markdown",
   "id": "40925fec",
   "metadata": {},
   "source": [
    "# Generalized Lotka Volterra"
   ]
  },
  {
   "cell_type": "markdown",
   "id": "b825efcb",
   "metadata": {},
   "source": [
    "We consider a Generalized Lotka Volterra system with $3$ populations\n",
    "$$\n",
    "\\frac{\\partial}{\\partial t}u_i(t) = \\alpha_iu_i(t)\n",
    "-\\sum_j\\gamma_{j,i}u_j(t) - \\beta_i\\sum_{i'}u_{i'}(t), i\\in\\{1, 2, 3\\}\n",
    "$$\n",
    "where $\\alpha$ are the growth rates, $\\gamma$ are the interactions terms and $\\beta$ and the capacity terms."
   ]
  },
  {
   "cell_type": "markdown",
   "id": "f337b94d",
   "metadata": {},
   "source": [
    "More information on this ODE system can be found at [https://stefanoallesina.github.io/Sao_Paulo_School/intro.html#basic-formulation](https://stefanoallesina.github.io/Sao_Paulo_School/intro.html#basic-formulation)"
   ]
  },
  {
   "cell_type": "code",
   "execution_count": 1,
   "id": "8bf8bebc-b311-4eb4-ad63-11447f62b280",
   "metadata": {},
   "outputs": [],
   "source": [
    "%load_ext autoreload\n",
    "%autoreload 2\n",
    "%matplotlib inline"
   ]
  },
  {
   "cell_type": "markdown",
   "id": "a933fc3a-ced5-418f-bf96-13fe8aa9232c",
   "metadata": {},
   "source": [
    "Optionnally force CPU"
   ]
  },
  {
   "cell_type": "code",
   "execution_count": 2,
   "id": "2c255899-92e1-4196-ba45-4e4d38331121",
   "metadata": {},
   "outputs": [],
   "source": [
    "# import os\n",
    "# os.environ[\"JAX_PLATFORMS\"] = \"cpu\""
   ]
  },
  {
   "cell_type": "markdown",
   "id": "e42b1b48",
   "metadata": {},
   "source": [
    "Import our package"
   ]
  },
  {
   "cell_type": "code",
   "execution_count": 3,
   "id": "fbdd16f7",
   "metadata": {
    "scrolled": true
   },
   "outputs": [],
   "source": [
    "import jinns"
   ]
  },
  {
   "cell_type": "markdown",
   "id": "09955058",
   "metadata": {},
   "source": [
    "Import other dependencies"
   ]
  },
  {
   "cell_type": "code",
   "execution_count": 4,
   "id": "3abe5254-7556-424e-a57e-d364d67244a1",
   "metadata": {},
   "outputs": [],
   "source": [
    "import jax\n",
    "from jax import random, vmap\n",
    "import jax.numpy as jnp\n",
    "import equinox as eqx\n",
    "\n",
    "import matplotlib.pyplot as plt\n",
    "\n",
    "key = random.PRNGKey(2)\n",
    "key, subkey = random.split(key)"
   ]
  },
  {
   "cell_type": "markdown",
   "id": "2bfbd766",
   "metadata": {},
   "source": [
    "Create the neural network architecture for the PINN with `equinox`. Note that the output is 3, for the 3 populations."
   ]
  },
  {
   "cell_type": "code",
   "execution_count": 5,
   "id": "9396d007-04f1-4893-a3c8-c58c36845ee0",
   "metadata": {},
   "outputs": [],
   "source": [
    "eqx_list = (\n",
    "    (eqx.nn.Linear, 1, 64),\n",
    "    (jax.nn.tanh,),\n",
    "    (eqx.nn.Linear, 64, 64),\n",
    "    (jax.nn.tanh,),\n",
    "    (eqx.nn.Linear, 64, 64),\n",
    "    (jax.nn.tanh,),\n",
    "    (eqx.nn.Linear, 64, 64),\n",
    "    (jax.nn.tanh,),\n",
    "    (eqx.nn.Linear, 64, 64),\n",
    "    (jax.nn.tanh,),\n",
    "    (eqx.nn.Linear, 64, 3),\n",
    "    (jnp.exp,),\n",
    ")\n",
    "key, subkey = random.split(key)"
   ]
  },
  {
   "cell_type": "markdown",
   "id": "0a5d567b",
   "metadata": {},
   "source": [
    "Create a DataGenerator object"
   ]
  },
  {
   "cell_type": "code",
   "execution_count": 6,
   "id": "15088440",
   "metadata": {},
   "outputs": [],
   "source": [
    "nt = 5000\n",
    "method = \"uniform\"\n",
    "tmin = 0\n",
    "tmax = 1\n",
    "\n",
    "Tmax = 30\n",
    "key, subkey = random.split(key)\n",
    "train_data = jinns.data.DataGeneratorODE(\n",
    "    key=subkey, nt=nt, tmin=tmin, tmax=tmax, temporal_batch_size=512, method=method\n",
    ")"
   ]
  },
  {
   "cell_type": "markdown",
   "id": "4f1ac783",
   "metadata": {},
   "source": [
    "Initialize a **jinns** neural network"
   ]
  },
  {
   "cell_type": "code",
   "execution_count": 7,
   "id": "4fec8c54",
   "metadata": {},
   "outputs": [],
   "source": [
    "u, init_nn_params = jinns.nn.PINN_MLP.create(\n",
    "    key=subkey, eqx_list=eqx_list, eq_type=\"ODE\"\n",
    ")"
   ]
  },
  {
   "cell_type": "markdown",
   "id": "83b7faef",
   "metadata": {},
   "source": [
    "### Model parameters\n",
    "\n",
    "\n"
   ]
  },
  {
   "cell_type": "code",
   "execution_count": 8,
   "id": "2f6b6656",
   "metadata": {},
   "outputs": [],
   "source": [
    "# initial conditions for each species\n",
    "import numpy as onp\n",
    "\n",
    "N_0 = onp.array([10.0, 7.0, 4.0])\n",
    "# growth rates for each species\n",
    "growth_rates = jnp.array([0.1, 0.5, 0.8])\n",
    "# carrying capacity for each species\n",
    "carrying_capacities = jnp.array([0.04, 0.02, 0.02])\n",
    "# interactions\n",
    "# NOTE that interaction with oneself is 0\n",
    "# NOTE minus sign\n",
    "interactions = (\n",
    "    -jnp.array([0, 0.001, 0.001]),\n",
    "    -jnp.array([0.001, 0, 0.001]),\n",
    "    -jnp.array([0.001, 0.001, 0]),\n",
    ")"
   ]
  },
  {
   "cell_type": "markdown",
   "id": "a5a5ecb8",
   "metadata": {},
   "source": [
    "Then, we proceed to define the set of parameters as required by the losses' `equation(self, ...)` methods. This is a `jinns.paramaters.Params` object, with two fields for\n",
    " 1. `nn_params`: the neural network parameters \n",
    " 2. `eq_params`: the equation parameters"
   ]
  },
  {
   "cell_type": "code",
   "execution_count": 9,
   "id": "7946039f",
   "metadata": {},
   "outputs": [],
   "source": [
    "init_params = jinns.parameters.Params(\n",
    "    nn_params=init_nn_params,\n",
    "    eq_params={\n",
    "        \"carrying_capacities\": carrying_capacities,\n",
    "        \"growth_rates\": growth_rates,\n",
    "        \"interactions\": interactions,\n",
    "    },\n",
    ")"
   ]
  },
  {
   "cell_type": "markdown",
   "id": "e595cbcd",
   "metadata": {},
   "source": [
    "Visualize the output of the neural networks with the random initialization."
   ]
  },
  {
   "cell_type": "code",
   "execution_count": 10,
   "id": "d18c73d2-ff23-4019-a7a1-40cc023dbf53",
   "metadata": {},
   "outputs": [
    {
     "data": {
      "text/plain": [
       "<matplotlib.legend.Legend at 0x7e4db69abcd0>"
      ]
     },
     "execution_count": 10,
     "metadata": {},
     "output_type": "execute_result"
    },
    {
     "data": {
      "image/png": "[encoded data removed]",
      "text/plain": [
       "<Figure size 640x480 with 1 Axes>"
      ]
     },
     "metadata": {},
     "output_type": "display_data"
    }
   ],
   "source": [
    "vectorized_u_init = vmap(lambda t: u(t, init_params), (0), 0)\n",
    "\n",
    "plt.plot(\n",
    "    train_data.times.sort(axis=0) * Tmax,\n",
    "    vectorized_u_init(train_data.times.sort(axis=0))[:, 0],\n",
    "    label=\"N1\",\n",
    ")\n",
    "plt.plot(\n",
    "    train_data.times.sort(axis=0) * Tmax,\n",
    "    vectorized_u_init(train_data.times.sort(axis=0))[:, 1],\n",
    "    label=\"N2\",\n",
    ")\n",
    "plt.plot(\n",
    "    train_data.times.sort(axis=0) * Tmax,\n",
    "    vectorized_u_init(train_data.times.sort(axis=0))[:, 2],\n",
    "    label=\"N3\",\n",
    ")\n",
    "\n",
    "plt.legend()"
   ]
  },
  {
   "cell_type": "markdown",
   "id": "bbe7f24b",
   "metadata": {},
   "source": [
    "## Loss construction"
   ]
  },
  {
   "cell_type": "markdown",
   "id": "aa14a602-1b0e-4582-876e-99d0322c57a0",
   "metadata": {},
   "source": [
    "We construct a LossODE for GeneralizedLotkaVolterra"
   ]
  },
  {
   "cell_type": "code",
   "execution_count": 11,
   "id": "b6a65062",
   "metadata": {},
   "outputs": [],
   "source": [
    "dynamic_loss = jinns.loss.GeneralizedLotkaVolterra(Tmax=Tmax)"
   ]
  },
  {
   "cell_type": "code",
   "execution_count": 12,
   "id": "22b2647f",
   "metadata": {},
   "outputs": [],
   "source": [
    "loss_weights = jinns.loss.LossWeightsODE(dyn_loss=1, initial_condition=1 * Tmax)\n",
    "\n",
    "loss = jinns.loss.LossODE(\n",
    "    u=u,\n",
    "    loss_weights=loss_weights,\n",
    "    dynamic_loss=dynamic_loss,\n",
    "    initial_condition=(float(tmin), jnp.array([N_0[0], N_0[1], N_0[2]])),\n",
    "    params=init_params,\n",
    ")"
   ]
  },
  {
   "cell_type": "code",
   "execution_count": 13,
   "id": "5f5418d5-629f-4745-ad0f-3778020cc635",
   "metadata": {},
   "outputs": [
    {
     "name": "stdout",
     "output_type": "stream",
     "text": [
      "total loss: 4466.4443359375\n",
      "Individual losses: {'dyn_loss': '667.46', 'initial_condition': '126.63'}\n"
     ]
    }
   ],
   "source": [
    "# Testing the loss function\n",
    "train_data, batch = train_data.get_batch()\n",
    "\n",
    "losses_and_grad = jax.value_and_grad(loss.evaluate, 0, has_aux=True)\n",
    "losses, grads = losses_and_grad(init_params, batch)\n",
    "l_tot, d = losses\n",
    "print(f\"total loss: {l_tot}\")\n",
    "print(f\"Individual losses: { {key: f'{val:.2f}' for key, val in d.items()} }\")"
   ]
  },
  {
   "cell_type": "markdown",
   "id": "64835b79-0bce-4f06-bd57-5ee051796663",
   "metadata": {},
   "source": [
    "## Learning the neural network parameters\n",
    "\n",
    "The learning process here considers known equation parameters `eq_params`. We thus only update `nn_params`.\n",
    "\n",
    "In the following cells, we define the necessary object for optimization of the \n",
    "`loss` we just defined. Namely, an `optax.GradientTransformation` which is the optimizer we'll use for \n",
    "updating `params` throughout. Here it is simply Adam with an exponential weight decay.\n"
   ]
  },
  {
   "cell_type": "code",
   "execution_count": 14,
   "id": "4e2c75a4-e3de-4d10-9424-4ee4ae206da3",
   "metadata": {},
   "outputs": [],
   "source": [
    "params = init_params"
   ]
  },
  {
   "cell_type": "code",
   "execution_count": 15,
   "id": "8d0106ad-d1e4-4fa8-958d-c8ebd4572d76",
   "metadata": {},
   "outputs": [],
   "source": [
    "# Optimizer\n",
    "import optax\n",
    "\n",
    "start_learning_rate = 1e-3\n",
    "# Exponential decay of the learning rate.\n",
    "scheduler = optax.exponential_decay(\n",
    "    init_value=start_learning_rate,\n",
    "    transition_begin=5000,\n",
    "    transition_steps=100,\n",
    "    decay_rate=0.99,\n",
    ")\n",
    "\n",
    "tx = optax.chain(\n",
    "    optax.scale_by_adam(),  # Use the updates from adam.\n",
    "    optax.scale_by_schedule(scheduler),  # Use the learning rate from the scheduler.\n",
    "    # Scale updates by -1 since optax.apply_updates is additive and we want to descend on the loss.\n",
    "    optax.scale(-1.0),\n",
    ")"
   ]
  },
  {
   "cell_type": "code",
   "execution_count": 16,
   "id": "055a7e63-4d0e-4246-b792-2007a0deeaab",
   "metadata": {},
   "outputs": [],
   "source": [
    "n_iter = int(25000)"
   ]
  },
  {
   "cell_type": "code",
   "execution_count": 17,
   "id": "9284d4ed",
   "metadata": {},
   "outputs": [],
   "source": [
    "key, subkey = random.split(key)"
   ]
  },
  {
   "cell_type": "code",
   "execution_count": 18,
   "id": "df0ab21d-bfc1-4e81-8708-df8b30d0173b",
   "metadata": {},
   "outputs": [
    {
     "name": "stdout",
     "output_type": "stream",
     "text": [
      "Initialization time: 2.264939069747925\n",
      "\n",
      "Compilation took\n",
      " 5.612658262252808 \n",
      "\n",
      "[train] Iteration 0: loss value = 4466.54931640625\n",
      "[train] Iteration 1000: loss value = 237.7439727783203\n",
      "[train] Iteration 2000: loss value = 137.75143432617188\n",
      "[train] Iteration 3000: loss value = 93.12828063964844\n",
      "[train] Iteration 4000: loss value = 50.614898681640625\n",
      "[train] Iteration 5000: loss value = 31.16500473022461\n",
      "[train] Iteration 6000: loss value = 19.59442710876465\n",
      "[train] Iteration 7000: loss value = 12.085222244262695\n",
      "[train] Iteration 8000: loss value = 7.334090232849121\n",
      "[train] Iteration 9000: loss value = 6.363088130950928\n",
      "[train] Iteration 10000: loss value = 3.878598928451538\n",
      "[train] Iteration 11000: loss value = 2.159217596054077\n",
      "[train] Iteration 12000: loss value = 1.4222497940063477\n",
      "[train] Iteration 13000: loss value = 2.4902212619781494\n",
      "[train] Iteration 14000: loss value = 0.9382096529006958\n",
      "[train] Iteration 15000: loss value = 0.34892794489860535\n",
      "[train] Iteration 16000: loss value = 0.12134893983602524\n",
      "[train] Iteration 17000: loss value = 0.8341091275215149\n",
      "[train] Iteration 18000: loss value = 0.44106370210647583\n",
      "[train] Iteration 19000: loss value = 0.05247867852449417\n",
      "[train] Iteration 20000: loss value = 0.03282078355550766\n",
      "[train] Iteration 21000: loss value = 0.01538669504225254\n",
      "[train] Iteration 22000: loss value = 0.004614260047674179\n",
      "[train] Iteration 23000: loss value = 0.00442978460341692\n",
      "[train] Iteration 24000: loss value = 0.0018984810449182987\n",
      "\n",
      "Stopping main optimization loop, cause: max iteration is reached\n",
      "\n",
      "Training took\n",
      " 36.406750440597534 \n",
      "\n",
      "\n",
      "Final iteration 25000: train loss value = 0.0023585441522300243\n"
     ]
    }
   ],
   "source": [
    "params, total_loss_list, loss_by_term_dict, data, loss, _, _, _, _, _ = jinns.solve(\n",
    "    init_params=params, data=train_data, optimizer=tx, loss=loss, n_iter=n_iter\n",
    ")"
   ]
  },
  {
   "cell_type": "markdown",
   "id": "1d0a1757",
   "metadata": {},
   "source": [
    "## Results"
   ]
  },
  {
   "cell_type": "markdown",
   "id": "64c794ff",
   "metadata": {},
   "source": [
    "Plot the loss values"
   ]
  },
  {
   "cell_type": "code",
   "execution_count": 19,
   "id": "2cd778b4-d9d9-4f69-ad02-2a3f7eacf59d",
   "metadata": {
    "scrolled": true
   },
   "outputs": [
    {
     "data": {
      "image/png": "[encoded data removed]",
      "text/plain": [
       "<Figure size 640x480 with 1 Axes>"
      ]
     },
     "metadata": {},
     "output_type": "display_data"
    }
   ],
   "source": [
    "for loss_name, loss_values in loss_by_term_dict.items():\n",
    "    plt.plot(jnp.log10(loss_values), label=loss_name)\n",
    "plt.plot(jnp.log10(total_loss_list), label=\"total loss\")\n",
    "plt.legend()\n",
    "plt.show()"
   ]
  },
  {
   "cell_type": "markdown",
   "id": "a6247171",
   "metadata": {},
   "source": [
    "Plot the ODE solutions learned by the PINN"
   ]
  },
  {
   "cell_type": "code",
   "execution_count": 20,
   "id": "6d473743-c9a8-4406-b18c-256496cfde59",
   "metadata": {},
   "outputs": [
    {
     "data": {
      "text/plain": [
       "<Axes: xlabel='t'>"
      ]
     },
     "execution_count": 20,
     "metadata": {},
     "output_type": "execute_result"
    },
    {
     "data": {
      "image/png": "[encoded data removed]",
      "text/plain": [
       "<Figure size 640x480 with 1 Axes>"
      ]
     },
     "metadata": {},
     "output_type": "display_data"
    }
   ],
   "source": [
    "import pandas as pd\n",
    "\n",
    "u_est = vmap(lambda t: u(t, params), (0), 0)\n",
    "\n",
    "key, subkey = random.split(key, 2)\n",
    "val_data = jinns.data.DataGeneratorODE(\n",
    "    key=subkey, nt=nt, tmin=tmin, tmax=tmax, method=method\n",
    ")\n",
    "\n",
    "ts = val_data.times.sort(axis=0).squeeze()\n",
    "df = pd.DataFrame(\n",
    "    {\n",
    "        \"t\": ts * Tmax,  # rescale time for plotting\n",
    "        \"N1\": u_est(ts)[:, 0],\n",
    "        \"N2\": u_est(ts)[:, 1],\n",
    "        \"N3\": u_est(ts)[:, 2],\n",
    "        \"Method\": \"PINN\",\n",
    "    },\n",
    ")\n",
    "df.plot(x=\"t\")"
   ]
  },
  {
   "cell_type": "markdown",
   "id": "aed49c41",
   "metadata": {},
   "source": [
    "## Compare with the scipy solver\n",
    "Code from Lorenzo Sala"
   ]
  },
  {
   "cell_type": "code",
   "execution_count": 21,
   "id": "484380a5",
   "metadata": {},
   "outputs": [],
   "source": [
    "import numpy as np\n",
    "from scipy.integrate import odeint\n",
    "\n",
    "# NOTE the following line is not accurate as it skips one batch\n",
    "\n",
    "\n",
    "def lotka_volterra_log(y_log, t, eq_params):\n",
    "    \"\"\"\n",
    "    Generalized Lotka-Volterra model for N bacterial species, with logarithmic transformation for stability.\n",
    "\n",
    "    Parameters:\n",
    "        y_log (array): Array of log-transformed bacterial populations.\n",
    "        t (float): Time.\n",
    "        params (tuple): Tuple of model parameters.\n",
    "\n",
    "    Returns:\n",
    "        dydt (array): Array of derivative of log-transformed bacterial populations with respect to time.\n",
    "    \"\"\"\n",
    "    alpha, beta, gamma, _ = eq_params\n",
    "    N = len(y_log)\n",
    "    y = np.exp(y_log)\n",
    "    dydt = np.zeros(N)\n",
    "\n",
    "    for i in range(N):\n",
    "        dydt[i] = y[i] * (\n",
    "            alpha[i]\n",
    "            - beta[i] * np.sum(y)\n",
    "            - np.sum([gamma[j][i] * y[j] for j in range(N)])\n",
    "        )\n",
    "\n",
    "    dydt_log = dydt / y\n",
    "\n",
    "    return dydt_log\n",
    "\n",
    "\n",
    "# Define name bacteria\n",
    "names = [\"N1\", \"N2\", \"N3\"]\n",
    "N = len(names)\n",
    "\n",
    "# Define model parameters\n",
    "death_rates = None\n",
    "eq_params = (growth_rates, carrying_capacities, interactions, death_rates)\n",
    "\n",
    "# Define initial bacterial populations\n",
    "y0 = [10, 7, 4]\n",
    "\n",
    "# Define time points\n",
    "Tmax = 30\n",
    "t = ts * Tmax\n",
    "\n",
    "############################\n",
    "\n",
    "y0_log = np.log(y0)\n",
    "y_log = odeint(lotka_volterra_log, y0_log, t, args=(eq_params,))\n",
    "y = np.exp(y_log)"
   ]
  },
  {
   "cell_type": "code",
   "execution_count": 22,
   "id": "69d5f147",
   "metadata": {},
   "outputs": [],
   "source": [
    "# comparative plots\n",
    "df_scipy = pd.DataFrame(\n",
    "    {\n",
    "        \"t\": ts * Tmax,  # rescale time for plotting\n",
    "        \"Method\": \"Scipy solver\",\n",
    "    }\n",
    "    | {f\"N{i + 1}\": y[:, i] for i in range(3)},\n",
    ")"
   ]
  },
  {
   "cell_type": "code",
   "execution_count": 23,
   "id": "692d66b9",
   "metadata": {},
   "outputs": [
    {
     "data": {
      "text/plain": [
       "<seaborn.axisgrid.FacetGrid at 0x7e4c6c75b810>"
      ]
     },
     "execution_count": 23,
     "metadata": {},
     "output_type": "execute_result"
    },
    {
     "data": {
      "image/png": "[encoded data removed]",
      "text/plain": [
       "<Figure size 933.75x400 with 1 Axes>"
      ]
     },
     "metadata": {},
     "output_type": "display_data"
    }
   ],
   "source": [
    "import seaborn as sns\n",
    "\n",
    "df_plot = pd.concat((df, df_scipy)).melt(\n",
    "    id_vars=[\"Method\", \"t\"], var_name=\"Population\", value_name=\"Solution\"\n",
    ")\n",
    "sns.relplot(\n",
    "    df_plot,\n",
    "    kind=\"line\",\n",
    "    x=\"t\",\n",
    "    y=\"Solution\",\n",
    "    hue=\"Population\",\n",
    "    style=\"Method\",\n",
    "    height=4,\n",
    "    aspect=2,\n",
    ")"
   ]
  },
  {
   "cell_type": "markdown",
   "id": "94a9d06f",
   "metadata": {},
   "source": [
    "# Conclusion\n",
    "\n",
    "We have shown how to use `LossODE` for system of ODEs. The results are satisfying although they could be improved by tweaking the network's architecture, learning rate and optimizers. Obviously, in the simple *forward problem* setting, the approach is not competitive compared to more standard and basic approaches. However, it paves the way for using PINN in an *inverse problem* when we have partial observation of the solution and wish to learn `params.eq_params`."
   ]
  },
  {
   "cell_type": "code",
   "execution_count": null,
   "id": "647e98b2-7c55-420f-ac07-c28e4d85c1c7",
   "metadata": {},
   "outputs": [],
   "source": []
  }
 ],
 "metadata": {
  "kernelspec": {
   "display_name": "Python 3 (ipykernel)",
   "language": "python",
   "name": "python3"
  },
  "language_info": {
   "codemirror_mode": {
    "name": "ipython",
    "version": 3
   },
   "file_extension": ".py",
   "mimetype": "text/x-python",
   "name": "python",
   "nbconvert_exporter": "python",
   "pygments_lexer": "ipython3",
   "version": "3.11.11"
  },
  "vscode": {
   "interpreter": {
    "hash": "991718e94fb5d91fa62c7598521d2199c208ff1ff700f1ac060f334be0bee194"
   }
  }
 },
 "nbformat": 4,
 "nbformat_minor": 5
}
