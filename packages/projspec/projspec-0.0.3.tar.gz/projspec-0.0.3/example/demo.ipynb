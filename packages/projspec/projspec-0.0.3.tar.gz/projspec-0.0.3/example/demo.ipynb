{
 "cells": [
  {
   "cell_type": "markdown",
   "id": "51b2d2b0-517a-46df-93ce-10b0ef2156c5",
   "metadata": {},
   "source": [
    "### Usage"
   ]
  },
  {
   "cell_type": "code",
   "execution_count": null,
   "id": "f121a1cd-3b62-4f1c-9515-8e91609d08a8",
   "metadata": {},
   "outputs": [],
   "source": [
    "import projspec\n",
    "proj = projspec.Project(\"/Users/mdurant/code/projspec\", walk=True)"
   ]
  },
  {
   "cell_type": "code",
   "execution_count": null,
   "id": "1f56a354-e774-466e-8c03-3bba590038b6",
   "metadata": {},
   "outputs": [],
   "source": [
    "proj"
   ]
  },
  {
   "cell_type": "code",
   "execution_count": null,
   "id": "336edf1b-ccba-4952-aecb-55ed11d1a356",
   "metadata": {},
   "outputs": [],
   "source": [
    "\"uv\" in proj"
   ]
  },
  {
   "cell_type": "code",
   "execution_count": null,
   "id": "4e186aca-de0f-4b82-ad97-39b7213f9cf4",
   "metadata": {},
   "outputs": [],
   "source": [
    "proj.all_artifacts()"
   ]
  },
  {
   "cell_type": "code",
   "execution_count": null,
   "id": "7d002294-8234-4fa8-aaad-92504d9ebb8b",
   "metadata": {},
   "outputs": [],
   "source": [
    "proj.all_artifacts(\"wheel\")"
   ]
  },
  {
   "cell_type": "code",
   "execution_count": null,
   "id": "333d9714-1ebb-408b-985d-23e0bf10db98",
   "metadata": {},
   "outputs": [],
   "source": [
    "proj.all_artifacts(\"wheel\")[0].to_dict(False)"
   ]
  },
  {
   "cell_type": "code",
   "execution_count": null,
   "id": "878e033c-7b19-46d8-8b74-3fb2fd13711d",
   "metadata": {},
   "outputs": [],
   "source": [
    "proj.all_artifacts(\"wheel\")[1].make()"
   ]
  },
  {
   "cell_type": "markdown",
   "id": "ebe14f5c-1381-4f62-abf2-c861471cfb32",
   "metadata": {},
   "source": [
    "### Dev"
   ]
  },
  {
   "cell_type": "code",
   "execution_count": null,
   "id": "1169c46b-0672-4e47-8538-171c75cf9eda",
   "metadata": {},
   "outputs": [],
   "source": [
    "from projspec.proj.base import ProjectSpec, ProjectExtra\n",
    "from projspec.proj import PythonLibrary\n",
    "from projspec.content import BaseContent\n",
    "from projspec.artifact import BaseArtifact\n",
    "from projspec.utils import PickleableTomlDecoder\n",
    "import toml"
   ]
  },
  {
   "cell_type": "code",
   "execution_count": null,
   "id": "0035b5ad-021a-44b2-9c5f-be117b131f41",
   "metadata": {},
   "outputs": [],
   "source": [
    "# projspec.spec.rust\n",
    "\n",
    "class Rust(ProjectSpec):\n",
    "    \"\"\"A directory, which can build a binary executable or library with Cargo.\"\"\"\n",
    "\n",
    "    spec_doc = \"https://doc.rust-lang.org/cargo/reference/manifest.html\"\n",
    "\n",
    "    def match(self) -> bool:\n",
    "        return \"Cargo.toml\" in self.proj.basenames\n",
    "\n",
    "    def parse(self):\n",
    "        pass\n",
    "\n",
    "\n",
    "class RustPython(Rust, PythonLibrary):\n",
    "    \"\"\"A maturin project designed for importing with python, perhaps with mixed rust/python code trees.\n",
    "    \"\"\"\n",
    "\n",
    "    spec_doc = \"https://www.maturin.rs/config.html\"\n",
    "\n",
    "    def match(self) -> bool:\n",
    "        # You can also have metadata.maturin in the Cargo.toml\n",
    "        return (\n",
    "            Rust.match(self)\n",
    "            and (\"maturin\" in self.proj.pyproject.get(\"tool\", {})\n",
    "            or self.proj.pyproject.get(\"build-backend\", \"\") == \"maturin\")\n",
    "        )\n"
   ]
  },
  {
   "cell_type": "code",
   "execution_count": null,
   "id": "bcd33989-2da5-4dd5-bf73-4ced9e388dc8",
   "metadata": {},
   "outputs": [],
   "source": [
    "example = \"/Users/mdurant/code/cramjam//\"\n",
    "proj = projspec.Project(example, walk=True)\n",
    "proj"
   ]
  },
  {
   "cell_type": "code",
   "execution_count": null,
   "id": "e901806e-01f1-4e2f-a9bc-d9a250c9fb54",
   "metadata": {},
   "outputs": [],
   "source": [
    "proj = projspec.Project(example, types=[\"rust\", \"rust_python\"])\n",
    "proj"
   ]
  },
  {
   "cell_type": "markdown",
   "id": "2ca78c2a-ddf7-4415-9b23-797a801adc1f",
   "metadata": {},
   "source": [
    "Should include:\n",
    "- artifacts\n",
    "    - .so, .a, .dll library (cargo)\n",
    "    - executable (cargo, optional)\n",
    "    - wheel & source dist (maturin)\n",
    "- usual python stuff\n",
    "- rust dependnency environment\n",
    "- cargo metadata/options"
   ]
  },
  {
   "cell_type": "code",
   "execution_count": null,
   "id": "1fabae4a-eece-4897-b34c-c619c814ac79",
   "metadata": {},
   "outputs": [],
   "source": [
    "class Rust(ProjectSpec):\n",
    "    \"\"\"A directory, which can build a binary executable or library with Cargo.\"\"\"\n",
    "\n",
    "    spec_doc = \"https://doc.rust-lang.org/cargo/reference/manifest.html\"\n",
    "\n",
    "    def match(self) -> bool:\n",
    "        return \"Cargo.toml\" in self.proj.basenames\n",
    "\n",
    "    # this builds a (static) library or an executable, or both.\n",
    "    def parse(self):\n",
    "        from projspec.content.metadata import DescriptiveMetadata\n",
    "        with self.proj.fs.open(f\"{self.proj.url}/Cargo.toml\", \"rt\") as f:\n",
    "            meta = toml.load(f, decoder=PickleableTomlDecoder())\n",
    "        self.contents[\"desciptive_metadata\"] = DescriptiveMetadata(proj=self.proj, meta=meta[\"package\"],\n",
    "                                                                  artifacts=set())\n"
   ]
  },
  {
   "cell_type": "code",
   "execution_count": null,
   "id": "622315a4-144b-42da-a94c-a569994fea78",
   "metadata": {},
   "outputs": [],
   "source": [
    "print(projspec.Project(example, types=[\"rust\", \"rust_python\"]))"
   ]
  },
  {
   "cell_type": "code",
   "execution_count": null,
   "id": "9adc8d82-7e76-4ad6-9a67-760948173658",
   "metadata": {},
   "outputs": [],
   "source": [
    "class DynamicLibrary(projspec.artifact.FileArtifact):\n",
    "    ...\n",
    "\n",
    "from dataclasses import dataclass, field\n",
    "from projspec.utils import Enum\n",
    "from enum import auto\n",
    "# projspec.content.environment\n",
    "class Stack(Enum):\n",
    "    \"\"\"The type of environment by packaging tech\"\"\"\n",
    "\n",
    "    PIP = auto()\n",
    "    CONDA = auto()\n",
    "    NPM = auto()\n",
    "    CARGO = auto()  # new"
   ]
  },
  {
   "cell_type": "code",
   "execution_count": null,
   "id": "e0c36883-5376-4c24-925d-70135e01af66",
   "metadata": {},
   "outputs": [],
   "source": [
    "def dictify(x):\n",
    "    return {k: dict(v) if isinstance(v, dict) else v for k, v in x.items()}\n",
    "\n",
    "class Rust(ProjectSpec):\n",
    "    \"\"\"A directory, which can build a binary executable or library with Cargo.\"\"\"\n",
    "\n",
    "    spec_doc = \"https://doc.rust-lang.org/cargo/reference/manifest.html\"\n",
    "\n",
    "    def match(self) -> bool:\n",
    "        return \"Cargo.toml\" in self.proj.basenames\n",
    "\n",
    "    # this builds a (static) library or an executable, or both.\n",
    "    def parse(self):\n",
    "        from projspec.content.metadata import DescriptiveMetadata\n",
    "        from projspec.content.environment import Environment, Precision\n",
    "        with self.proj.fs.open(f\"{self.proj.url}/Cargo.toml\", \"rt\") as f:\n",
    "            meta = toml.load(f)\n",
    "        self.contents[\"desciptive_metadata\"] = DescriptiveMetadata(proj=self.proj, meta=meta[\"package\"],\n",
    "                                                                  artifacts=set())\n",
    "        self.contents[\"environment\"] = {\n",
    "            \"default\": Environment(proj=self.proj, packages=dictify(meta[\"dependencies\"]), artifacts=set(),\n",
    "                                  stack=Stack.CARGO, precision=Precision.SPEC),\n",
    "            \"dev\": Environment(proj=self.proj, packages=dictify(meta[\"build-dependencies\"]), artifacts=set(),\n",
    "                              stack=Stack.CARGO, precision=Precision.SPEC)\n",
    "        }\n",
    "        if meta.get(\"lib\"):\n",
    "            ext = \".dylib\" # depends on lib type and platform, this is for simplicity\n",
    "            profile = \"debug\"\n",
    "            cmd = [\"cargo\", \"build\"]\n",
    "            # TODO: one for each mata[profile.*], usually debug and release\n",
    "            self.artifacts[\"dynamic_library\"] = DynamicLibrary(\n",
    "                proj=self.proj,\n",
    "                cmd=[\"cargo\", \"build\", f\"--{profile}\"],\n",
    "                fn=f'{self.proj.url}/target/{profile}/{meta[\"lib\"][\"name\"]}-{meta[\"package\"][\"version\"]}.{ext}'\n",
    "            )\n",
    "        if meta.get(\"bin\"):\n",
    "            # exeuctable binary artifact\n",
    "            pass\n",
    "        # example executable and libraries\n",
    "        # executable tests"
   ]
  },
  {
   "cell_type": "code",
   "execution_count": null,
   "id": "ae2840bf-9f0b-4146-94fa-7f79b776025c",
   "metadata": {},
   "outputs": [],
   "source": [
    "print(projspec.Project(example, types=[\"rust\", \"rust_python\"]))"
   ]
  },
  {
   "cell_type": "code",
   "execution_count": null,
   "id": "0b949940-4edf-45c5-ad26-ed812327ff63",
   "metadata": {},
   "outputs": [],
   "source": [
    "from projspec.artifact.installable import Wheel\n",
    "\n",
    "class RustPython(Rust, PythonLibrary):\n",
    "    \"\"\"A maturin project designed for importing with python, perhaps with mixed rust/python code trees.\n",
    "    \"\"\"\n",
    "\n",
    "    spec_doc = \"https://www.maturin.rs/config.html\"\n",
    "\n",
    "    def match(self) -> bool:\n",
    "        # You can also have metadata.maturin in the Cargo.toml\n",
    "        return (\n",
    "            Rust.match(self)\n",
    "            and (\"maturin\" in self.proj.pyproject.get(\"tool\", {})\n",
    "            or self.proj.pyproject.get(\"build-backend\", \"\") == \"maturin\")\n",
    "        )\n",
    "\n",
    "    def parse(self):\n",
    "        PythonLibrary.parse(self)\n",
    "        # debug and release\n",
    "        self.artifacts[\"wheel\"] = Wheel(proj=self.proj, cmd=[\"maturin\", \"build\"],\n",
    "                                       fn=f\"{self.proj.url}/target/wheels/*.whl\")\n",
    "        "
   ]
  },
  {
   "cell_type": "code",
   "execution_count": null,
   "id": "c4323f01-16a2-48f2-97db-3582305bffbe",
   "metadata": {},
   "outputs": [],
   "source": [
    "proj = projspec.Project(example, types=[\"rust\", \"rust_python\"])\n",
    "print(proj)"
   ]
  },
  {
   "cell_type": "code",
   "execution_count": null,
   "id": "34878a5b-5d37-449e-baff-3fd080eae935",
   "metadata": {},
   "outputs": [],
   "source": [
    "wheel = proj.all_artifacts(\"wheel\")[0]\n",
    "wheel.clean()\n",
    "wheel"
   ]
  },
  {
   "cell_type": "code",
   "execution_count": null,
   "id": "ff920349-66fc-4f47-8d51-a131851ec040",
   "metadata": {},
   "outputs": [],
   "source": [
    "wheel.make()\n",
    "wheel"
   ]
  },
  {
   "cell_type": "code",
   "execution_count": null,
   "id": "a23960a5-9260-4c5b-86b7-d74cdd809553",
   "metadata": {},
   "outputs": [],
   "source": []
  }
 ],
 "metadata": {
  "kernelspec": {
   "display_name": "Python 3 (ipykernel)",
   "language": "python",
   "name": "python3"
  },
  "language_info": {
   "codemirror_mode": {
    "name": "ipython",
    "version": 3
   },
   "file_extension": ".py",
   "mimetype": "text/x-python",
   "name": "python",
   "nbconvert_exporter": "python",
   "pygments_lexer": "ipython3",
   "version": "3.12.11"
  }
 },
 "nbformat": 4,
 "nbformat_minor": 5
}
