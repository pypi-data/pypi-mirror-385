{
 "cells": [
  {
   "cell_type": "markdown",
   "metadata": {
    "id": "IWlQQcC-rvBs"
   },
   "source": [
    "### A simple REPL\n",
    "\n",
    "This is an example for a simple REPL:\n",
    "1) Run a command (add text to a file)\n",
    "2) Receive current diagnostics (whole file), goal and term goal"
   ]
  },
  {
   "cell_type": "code",
   "execution_count": 1,
   "metadata": {},
   "outputs": [],
   "source": [
    "# Setup a new lean project in the following folder:\n",
    "LEAN_FOLDER = (\n",
    "    \"AnalyseMathlib\"  # Using the same folder from mathlib_warning_analysis.ipynb\n",
    ")"
   ]
  },
  {
   "cell_type": "code",
   "execution_count": null,
   "metadata": {
    "colab": {
     "base_uri": "https://localhost:8080/"
    },
    "collapsed": true,
    "id": "LzCRGnimkjiO",
    "outputId": "57b6c525-4e29-46f0-c19d-3ca8ee3c9b1f"
   },
   "outputs": [],
   "source": [
    "# Install leanclient\n",
    "!pip install leanclient"
   ]
  },
  {
   "cell_type": "code",
   "execution_count": 3,
   "metadata": {},
   "outputs": [],
   "source": [
    "import leanclient as lc\n",
    "\n",
    "\n",
    "class REPL:\n",
    "    \"\"\"Simple file-based REPL for lean.\n",
    "\n",
    "    For serious tasks extend this or consider using proper REPLs like:\n",
    "    - LeanDojo\n",
    "    - Pantograph\n",
    "    \"\"\"\n",
    "\n",
    "    def __init__(self, lean_folder):\n",
    "        # Write a temporary file as the basis for the REPL\n",
    "        self.temp_file = lean_folder + \"/temp_repl.lean\"\n",
    "        with open(lean_folder + \"/\" + self.temp_file, \"w\") as f:\n",
    "            f.write(\"\\n\")\n",
    "\n",
    "        self.lsp_client = lc.LeanLSPClient(lean_folder)\n",
    "        self.client = self.lsp_client.create_file_client(self.temp_file)\n",
    "        self.client.open_file()\n",
    "\n",
    "        self.current_coords = (0, 0)\n",
    "\n",
    "    def run_command(self, command: str) -> list:\n",
    "        \"\"\"Run a command in the REPL (add to the file).\n",
    "\n",
    "        Args:\n",
    "            command (str): The command to run.\n",
    "\n",
    "        Returns:\n",
    "            list: A list of diagnostics, goal, and term_goal after running the command.\n",
    "        \"\"\"\n",
    "        diagnostics = self.client.update_file(\n",
    "            [\n",
    "                lc.DocumentContentChange(\n",
    "                    command, self.current_coords, self.current_coords\n",
    "                )\n",
    "            ]\n",
    "        )\n",
    "\n",
    "        # Update the current coordinates\n",
    "        split_command = command.split(\"\\n\")\n",
    "        num_lines = len(split_command)\n",
    "        num_chars = (\n",
    "            len(split_command[-1])\n",
    "            if num_lines > 1\n",
    "            else len(command) + self.current_coords[1]\n",
    "        )\n",
    "        self.current_coords = (self.current_coords[0] + num_lines - 1, num_chars)\n",
    "\n",
    "        goal = self.client.get_goal(*self.current_coords)\n",
    "        term_goal = self.client.get_term_goal(*self.current_coords)\n",
    "\n",
    "        goal = goal[\"goals\"] if goal is not None else None\n",
    "        term_goal = term_goal[\"goal\"] if term_goal is not None else None\n",
    "\n",
    "        return [diagnostics, goal, term_goal]"
   ]
  },
  {
   "cell_type": "code",
   "execution_count": 4,
   "metadata": {},
   "outputs": [
    {
     "name": "stdout",
     "output_type": "stream",
     "text": [
      "Split AnalyseMathlib/.lake/packages/mathlib/Mathlib/FieldTheory/AbelRuffini.lean into 18 commands.\n"
     ]
    }
   ],
   "source": [
    "import random\n",
    "import time\n",
    "\n",
    "# We test the REPL by running sections of a valid mathlib file\n",
    "path = f\"{LEAN_FOLDER}/.lake/packages/mathlib/Mathlib/FieldTheory/AbelRuffini.lean\"\n",
    "\n",
    "with open(path, \"r\") as f:\n",
    "    content = f.read()\n",
    "\n",
    "commands = []\n",
    "while content:\n",
    "    num_chars = random.randint(10, 1500)\n",
    "    command, content = content[:num_chars], content[num_chars:]\n",
    "    commands.append(command)\n",
    "\n",
    "print(f\"Split {path} into {len(commands)} commands.\")"
   ]
  },
  {
   "cell_type": "code",
   "execution_count": 5,
   "metadata": {},
   "outputs": [
    {
     "name": "stdout",
     "output_type": "stream",
     "text": [
      "Build completed successfully.\n",
      "Ran 18 commands: 1.62 commands per second.\n",
      "Final diagnostics after running all commands: []\n",
      "Intermediate goals:\n",
      "Command 1: None\n",
      "Command 2: None\n",
      "Command 3: None\n",
      "Command 4: []\n",
      "Command 5: []\n",
      "Command 6: [\"case neg\\nF : Type u_1\\ninst✝ : Field F\\nn : ℕ\\na : F\\nh : Splits (RingHom.id F) (X ^ n - 1)\\nha : ¬a = 0\\nha' : (algebraMap F (X ^ n - C a).SplittingField) a ≠ 0\\nhn : ¬n = 0\\nhn' : 0 < n\\nhn'' : sorry\\n⊢ IsSolvable (X ^ n - C a).Gal\"]\n",
      "Command 7: [\"case neg\\nF : Type u_1\\ninst✝ : Field F\\nn : ℕ\\na : F\\nh : Splits (RingHom.id F) (X ^ n - 1)\\nha : ¬a = 0\\nha' : (algebraMap F (X ^ n - C a).SplittingField) a ≠ 0\\nhn : ¬n = 0\\nhn' : 0 < n\\nhn'' : X ^ n - C a ≠ 0\\nhn''' : X ^ n - 1 ≠ 0\\nmem_range : ∀ {c : (X ^ n - C a).SplittingField}, c ^ n = 1 → ∃ d, (algebraMap F (X ^ n - C a).SplittingField) d = c\\n⊢ IsSolvable (X ^ n - C a).Gal\"]\n",
      "Command 8: [\"F : Type u_3\\ninst✝¹ : Field F\\nE : Type u_4\\ninst✝ : Field E\\ni : F →+* E\\nn : ℕ\\na : F\\nha : a ≠ 0\\nh : Splits i (X ^ n - C a)\\nha' : i a ≠ 0\\nhn : ¬n = 0\\nhn' : 0 < n\\nhn'' : (X ^ n - C a).degree ≠ 0\\nb : E\\nhb : b ^ n = i a\\n⊢ b ≠ 0\"]\n",
      "Command 9: [\"case neg.intro\\nF : Type u_3\\ninst✝¹ : Field F\\nE : Type u_4\\ninst✝ : Field E\\ni : F →+* E\\nn : ℕ\\na : F\\nha : a ≠ 0\\nh : Splits i (X ^ n - C a)\\nha' : i a ≠ 0\\nhn : ¬n = 0\\nhn' : 0 < n\\nhn'' : (X ^ n - C a).degree ≠ 0\\nb : E\\nhb : b ^ n = i a\\nhb' : b ≠ 0\\ns : Multiset E := (Polynomial.map i (X ^ n - C a)).roots\\nhs : Polynomial.map i (X ^ n - C a) = (Multiset.map (fun a ↦ X - C a) s).prod\\nhs' : s.card = n\\n⊢ Polynomial.map i (X ^ n - 1) = (Multiset.map (fun a ↦ X - C a) (Multiset.map (fun c ↦ c / b) s)).prod\"]\n",
      "Command 10: ['case neg.hq\\nF : Type u_1\\ninst✝ : Field F\\nn : ℕ\\nx : F\\nhx : ¬x = 0\\n⊢ IsSolvable (Polynomial.map (algebraMap F (X ^ n - 1).SplittingField) (X ^ n - C x)).Gal']\n",
      "Command 11: None\n",
      "Command 12: []\n",
      "Command 13: None\n",
      "Command 14: []\n",
      "Command 15: ['F : Type u_1\\ninst✝² : Field F\\nE : Type u_2\\ninst✝¹ : Field E\\ninst✝ : Algebra F E\\nα β γ : ↥(solvableByRad F E)\\nhγ : γ ∈ F⟮α, β⟯\\nhα : P α\\nhβ : P β\\np : F[X] := minpoly F α\\nq : F[X] := minpoly F β\\nhpq :\\n  Splits (algebraMap F (p * q).SplittingField) (minpoly F α) ∧ Splits (algebraMap F (p * q).SplittingField) (minpoly F β)\\nx : ↥(solvableByRad F E)\\nhx : x = α ∨ x = β\\nx✝ : ?m.153019\\n⊢ IsIntegral F x ∧ Splits (algebraMap F (p * q).SplittingField) (minpoly F x)']\n",
      "Command 16: []\n",
      "Command 17: None\n",
      "Command 18: None\n"
     ]
    }
   ],
   "source": [
    "# Run all commands\n",
    "repl = REPL(LEAN_FOLDER)\n",
    "\n",
    "t0 = time.time()\n",
    "intermediate_goals = []\n",
    "for i, command in enumerate(commands):\n",
    "    diag, goal, term_goal = repl.run_command(command)\n",
    "    intermediate_goals.append(goal)\n",
    "\n",
    "print(\n",
    "    f\"Ran {len(commands)} commands: {len(commands) / (time.time() - t0):.2f} commands per second.\"\n",
    ")\n",
    "print(\"Final diagnostics after running all commands:\", diag)\n",
    "print(\"Intermediate goals:\")\n",
    "for i, goal in enumerate(intermediate_goals):\n",
    "    print(f\"Command {i + 1}: {goal}\")"
   ]
  }
 ],
 "metadata": {
  "colab": {
   "provenance": []
  },
  "kernelspec": {
   "display_name": "leanclient-rszrQX1B-py3.10",
   "language": "python",
   "name": "python3"
  },
  "language_info": {
   "codemirror_mode": {
    "name": "ipython",
    "version": 3
   },
   "file_extension": ".py",
   "mimetype": "text/x-python",
   "name": "python",
   "nbconvert_exporter": "python",
   "pygments_lexer": "ipython3",
   "version": "3.10.12"
  }
 },
 "nbformat": 4,
 "nbformat_minor": 0
}
