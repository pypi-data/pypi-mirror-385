{
 "cells": [
  {
   "cell_type": "markdown",
   "metadata": {
    "id": "IWlQQcC-rvBs"
   },
   "source": [
    "### Analyse Warnings in Mathlib/Geometry/"
   ]
  },
  {
   "cell_type": "code",
   "execution_count": 1,
   "metadata": {
    "id": "rBHyfKpYsipG"
   },
   "outputs": [],
   "source": [
    "PROJECT_NAME = \"AnalyseMathlib\"\n",
    "LEAN_VERSION = \"v4.15.0\""
   ]
  },
  {
   "cell_type": "code",
   "execution_count": 2,
   "metadata": {
    "colab": {
     "base_uri": "https://localhost:8080/"
    },
    "collapsed": true,
    "id": "4oYR0BAPWBs1",
    "outputId": "34a5ed66-7cf5-4681-e7ca-5aa6e855022f"
   },
   "outputs": [],
   "source": [
    "# Setup a Lean environment in AnalyseMathlib/ manually:\n",
    "\n",
    "# Automatic is broken due to v4.16.0-rc1 at the time of writing\n",
    "\n",
    "# lake +leanprover-community/mathlib4:lean-toolchain new AnalyseMathlib math\n",
    "# cd AnalyseMathlib\n",
    "# Alter manually: rev = \"v4.15.0\" in lakefile.toml (mathlib) and set lean-toolchain to same version\n",
    "# lake update"
   ]
  },
  {
   "cell_type": "code",
   "execution_count": null,
   "metadata": {
    "colab": {
     "base_uri": "https://localhost:8080/"
    },
    "collapsed": true,
    "id": "LzCRGnimkjiO",
    "outputId": "57b6c525-4e29-46f0-c19d-3ca8ee3c9b1f"
   },
   "outputs": [],
   "source": [
    "# Install leanclient\n",
    "!pip install leanclient"
   ]
  },
  {
   "cell_type": "code",
   "execution_count": 4,
   "metadata": {},
   "outputs": [
    {
     "name": "stdout",
     "output_type": "stream",
     "text": [
      "Found 84 lean files in .lake/packages/mathlib/Mathlib/Geometry\n"
     ]
    }
   ],
   "source": [
    "import leanclient as lc\n",
    "import os\n",
    "\n",
    "ANALYSIS_FOLDER = \".lake/packages/mathlib/Mathlib/Geometry\"\n",
    "\n",
    "# Find all .lean files in the folder and its subfolders\n",
    "lean_files = []\n",
    "for root, dirs, files in os.walk(f\"{PROJECT_NAME}/{ANALYSIS_FOLDER}\"):\n",
    "    root_relative = root[len(f\"{PROJECT_NAME}/\") :]\n",
    "    for file in files:\n",
    "        if file.endswith(\".lean\"):\n",
    "            lean_files.append(os.path.join(root_relative, file))\n",
    "\n",
    "print(f\"Found {len(lean_files)} lean files in {ANALYSIS_FOLDER}\")"
   ]
  },
  {
   "cell_type": "code",
   "execution_count": 5,
   "metadata": {},
   "outputs": [
    {
     "name": "stderr",
     "output_type": "stream",
     "text": [
      "Processing files: 100%|██████████| 84/84 [02:31<00:00,  1.80s/it]"
     ]
    },
    {
     "name": "stdout",
     "output_type": "stream",
     "text": [
      "Extracted 60 diagnostic messages\n"
     ]
    },
    {
     "name": "stderr",
     "output_type": "stream",
     "text": [
      "\n"
     ]
    }
   ],
   "source": [
    "# Extract all diagnostics from the lean files\n",
    "def extract_diagnostics(sfc: lc.SingleFileClient):\n",
    "    return sfc.get_diagnostics()\n",
    "\n",
    "\n",
    "pool = lc.LeanClientPool(f\"{PROJECT_NAME}\", num_workers=4)\n",
    "with pool:\n",
    "    diagnostics = pool.map(extract_diagnostics, lean_files, batch_size=4, verbose=True)\n",
    "\n",
    "print(f\"Extracted {sum(len(d) for d in diagnostics)} diagnostic messages\")"
   ]
  },
  {
   "cell_type": "code",
   "execution_count": 6,
   "metadata": {},
   "outputs": [
    {
     "name": "stdout",
     "output_type": "stream",
     "text": [
      "Files with warnings:\n",
      "Manifold/SmoothManifoldWithCorners.lean: 19 warnings\n",
      "Manifold/Algebra/Monoid.lean: 4 warnings\n",
      "Euclidean/Sphere/Basic.lean: 3 warnings\n",
      "Euclidean/Inversion/Basic.lean: 3 warnings\n",
      "Manifold/LocalInvariantProperties.lean: 3 warnings\n",
      "Manifold/MFDeriv/Basic.lean: 3 warnings\n",
      "Manifold/ContMDiff/Defs.lean: 3 warnings\n",
      "Manifold/Algebra/SmoothFunctions.lean: 3 warnings\n",
      "RingedSpace/OpenImmersion.lean: 3 warnings\n",
      "Manifold/ChartedSpace.lean: 2 warnings\n",
      "Manifold/MFDeriv/SpecificFunctions.lean: 2 warnings\n",
      "Euclidean/PerpBisector.lean: 1 warnings\n",
      "Manifold/PartitionOfUnity.lean: 1 warnings\n",
      "Manifold/Diffeomorph.lean: 1 warnings\n",
      "Manifold/ContMDiffMFDeriv.lean: 1 warnings\n",
      "Manifold/VectorBundle/SmoothSection.lean: 1 warnings\n",
      "Manifold/MFDeriv/Defs.lean: 1 warnings\n",
      "Manifold/ContMDiff/Product.lean: 1 warnings\n",
      "Manifold/ContMDiff/Atlas.lean: 1 warnings\n",
      "Manifold/Instances/Sphere.lean: 1 warnings\n",
      "RingedSpace/LocallyRingedSpace.lean: 1 warnings\n",
      "RingedSpace/SheafedSpace.lean: 1 warnings\n",
      "RingedSpace/PresheafedSpace/Gluing.lean: 1 warnings\n",
      "All 60 warnings are unique.\n",
      "\n",
      "Example warning:\n",
      "`AlgebraicGeometry.PresheafedSpace.GlueData.opensImagePreimageMap_app'` is missing a doc-string, please add one.\n",
      "Declarations whose name ends with a `'` are expected to contain an explanation for the presence of a `'` in their doc-string. This may consist of discussion of the difference relative to the unprimed version, or an explanation as to why no better naming scheme is possible.\n",
      "note: this linter can be disabled with `set_option linter.docPrime false`\n"
     ]
    }
   ],
   "source": [
    "# Simple statistics\n",
    "diag_per_file = [f for f in zip(lean_files, diagnostics) if len(f[1]) > 0]\n",
    "diag_per_file = sorted(diag_per_file, key=lambda x: len(x[1]), reverse=True)\n",
    "\n",
    "errors = sum(1 for d in diagnostics for diag in d if diag[\"severity\"] == 1)\n",
    "if errors > 0:\n",
    "    print(f\"Found {errors} errors\")\n",
    "\n",
    "l_folder = len(ANALYSIS_FOLDER) + 1\n",
    "print(\"Files with warnings:\")\n",
    "for file, diags in diag_per_file:\n",
    "    warnings = sum(1 for d in diags if d[\"severity\"] == 2)\n",
    "    print(f\"{file[l_folder:]}: {warnings} warnings\")\n",
    "\n",
    "warnings = [m[\"message\"] for m in sum(diagnostics, []) if m[\"severity\"] == 2]\n",
    "if len(warnings) == len(set(warnings)):\n",
    "    print(f\"All {len(warnings)} warnings are unique.\")\n",
    "\n",
    "print(\"\\nExample warning:\")\n",
    "print(warnings[-1])"
   ]
  }
 ],
 "metadata": {
  "colab": {
   "provenance": []
  },
  "kernelspec": {
   "display_name": "leanclient-rszrQX1B-py3.10",
   "language": "python",
   "name": "python3"
  },
  "language_info": {
   "codemirror_mode": {
    "name": "ipython",
    "version": 3
   },
   "file_extension": ".py",
   "mimetype": "text/x-python",
   "name": "python",
   "nbconvert_exporter": "python",
   "pygments_lexer": "ipython3",
   "version": "3.10.12"
  }
 },
 "nbformat": 4,
 "nbformat_minor": 0
}
