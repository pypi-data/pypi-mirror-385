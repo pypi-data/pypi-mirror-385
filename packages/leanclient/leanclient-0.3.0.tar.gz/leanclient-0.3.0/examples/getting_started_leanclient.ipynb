{
 "cells": [
  {
   "cell_type": "markdown",
   "metadata": {
    "id": "IWlQQcC-rvBs"
   },
   "source": [
    "### Getting started with leanclient\n",
    "\n",
    "leanclient allows for easy interaction with the [lean4 theorem prover](https://github.com/leanprover/lean4) using the [Language Server Protocol](https://microsoft.github.io/language-server-protocol/specifications/lsp/3.17/specification/).\n",
    "\n",
    "This notebook shows a minimal example for how to setup and use leanclient.\n",
    "\n",
    "- leanclient does **not create/manage lean projects**. You should create your own project, e.g. in vscode, and then point leanclient at the root folder (where lakefile.toml is located). See below for an example setup.\n",
    "\n",
    "- Running this on Google Colab is **slow for larger projects** (e.g. including mathlib). In general, performance is reduced in notebooks.\n",
    "\n",
    "Check out the [documentation](https://leanclient.readthedocs.io/en/latest/) and the [github repository](https://github.com/oOo0oOo/leanclient) for more information."
   ]
  },
  {
   "cell_type": "code",
   "execution_count": 1,
   "metadata": {
    "id": "rBHyfKpYsipG"
   },
   "outputs": [],
   "source": [
    "PROJECT_NAME = \"LeanProject\"\n",
    "PROJECT_PATH = PROJECT_NAME + \"/\"\n",
    "LEAN_VERSION = \"stable\""
   ]
  },
  {
   "cell_type": "code",
   "execution_count": null,
   "metadata": {
    "colab": {
     "base_uri": "https://localhost:8080/"
    },
    "collapsed": true,
    "id": "4oYR0BAPWBs1",
    "outputId": "34a5ed66-7cf5-4681-e7ca-5aa6e855022f"
   },
   "outputs": [],
   "source": [
    "# Setup elan, lean, and a new project\n",
    "!curl https://raw.githubusercontent.com/leanprover/elan/master/elan-init.sh -sSf | sh -s -- -y\n",
    "\n",
    "import os\n",
    "\n",
    "os.environ[\"PATH\"] = os.path.expanduser(\"~/.elan/bin\") + \":\" + os.environ[\"PATH\"]\n",
    "\n",
    "!elan toolchain install leanprover/lean4:{LEAN_VERSION}\n",
    "!elan default leanprover/lean4:{LEAN_VERSION}\n",
    "\n",
    "!lake new {PROJECT_NAME}\n",
    "%cd {PROJECT_NAME}\n",
    "!lake build\n",
    "%cd .."
   ]
  },
  {
   "cell_type": "code",
   "execution_count": null,
   "metadata": {
    "colab": {
     "base_uri": "https://localhost:8080/"
    },
    "collapsed": true,
    "id": "LzCRGnimkjiO",
    "outputId": "57b6c525-4e29-46f0-c19d-3ca8ee3c9b1f"
   },
   "outputs": [],
   "source": [
    "# Install leanclient\n",
    "!pip install leanclient"
   ]
  },
  {
   "cell_type": "code",
   "execution_count": 4,
   "metadata": {
    "colab": {
     "base_uri": "https://localhost:8080/"
    },
    "id": "PXaxbpHkGbfZ",
    "outputId": "87c18901-bb47-4dcb-dc8e-8f789e52089d"
   },
   "outputs": [
    {
     "name": "stdout",
     "output_type": "stream",
     "text": [
      "Build completed successfully.\n",
      "Symbols:\n",
      "[{'kind': 6,\n",
      "  'name': 'hello',\n",
      "  'range': {'end': {'character': 20, 'line': 0},\n",
      "            'start': {'character': 0, 'line': 0}},\n",
      "  'selectionRange': {'end': {'character': 9, 'line': 0},\n",
      "                     'start': {'character': 4, 'line': 0}}}]\n",
      "\n",
      "Semantic tokens:\n",
      "[[0, 0, 3, 'keyword']]\n",
      "\n",
      "Term goal:\n",
      "{'goal': '⊢ String',\n",
      " 'range': {'end': {'character': 20, 'line': 0},\n",
      "           'start': {'character': 13, 'line': 0}}}\n"
     ]
    }
   ],
   "source": [
    "from pprint import pprint\n",
    "import leanclient as lc\n",
    "\n",
    "# Create client and point it to the root folder of the project.\n",
    "# This is where lakefile.toml is located.\n",
    "client = lc.LeanLSPClient(PROJECT_PATH)\n",
    "\n",
    "# Use a SingleFileClient for simple interactions with a file.\n",
    "# This file is a very simple template created during project init.\n",
    "sfc = client.create_file_client(\"LeanProject/Basic.lean\")\n",
    "\n",
    "# Query the language server!\n",
    "symbols = sfc.get_document_symbols()\n",
    "tokens = sfc.get_semantic_tokens()\n",
    "term_goal = sfc.get_term_goal(0, 20)\n",
    "\n",
    "print(\"Symbols:\")\n",
    "pprint(symbols)\n",
    "\n",
    "print(\"\\nSemantic tokens:\")\n",
    "pprint(tokens)\n",
    "\n",
    "print(\"\\nTerm goal:\")\n",
    "pprint(term_goal)\n",
    "\n",
    "# Always close the client when you're done.\n",
    "client.close()"
   ]
  },
  {
   "cell_type": "code",
   "execution_count": 5,
   "metadata": {
    "colab": {
     "base_uri": "https://localhost:8080/"
    },
    "id": "GRgRpPy401Si",
    "outputId": "88133fbf-5fbc-43cc-bf6a-60c1870bd11f"
   },
   "outputs": [
    {
     "name": "stdout",
     "output_type": "stream",
     "text": [
      "Number of tokens in each file:\n",
      "[1, 3]\n"
     ]
    }
   ],
   "source": [
    "# Batch processing of files in parallel (multiprocessing) is easy using the LeanClientPool.\n",
    "\n",
    "files = [\"LeanProject/Basic.lean\", \"Main.lean\"]\n",
    "\n",
    "\n",
    "# Define a function which accepts a SingleFileClient as its only parameter.\n",
    "def count_tokens(client: lc.SingleFileClient):\n",
    "    return len(client.get_semantic_tokens())\n",
    "\n",
    "\n",
    "with lc.LeanClientPool(PROJECT_PATH, num_workers=2) as pool:\n",
    "    results = pool.map(count_tokens, files)\n",
    "\n",
    "    # You can also use pool.submit() for increased control\n",
    "    futures = [pool.submit(count_tokens, path) for path in files]\n",
    "    fut_res = [f.get() for f in futures]\n",
    "\n",
    "print(\"Number of tokens in each file:\")\n",
    "pprint(results)"
   ]
  },
  {
   "cell_type": "markdown",
   "metadata": {
    "id": "hOPWQet6iUvx"
   },
   "source": [
    "### All done!\n",
    "\n",
    "Change the contents of the file (click the folder on the left) `LeanProject/LeanProject/Basic.lean` and rerun the code above.\n",
    "\n",
    "For example, you could add this theorem:\n",
    "\n",
    "```lean\n",
    "-- Define a simple theorem: for any natural number n, n + 0 = n\n",
    "theorem add_zero_custom (n : Nat) : n + 0 = n := by\n",
    "  -- Use induction on n\n",
    "  induction n with\n",
    "  | zero =>\n",
    "    -- Base case: 0 + 0 = 0\n",
    "    rfl\n",
    "  | succ n' ih =>\n",
    "    -- Inductive step: assume n' + 0 = n', prove (n' + 1) + 0 = (n' + 1)\n",
    "    rw [Nat.add_succ, ih]\n",
    "```\n",
    "\n",
    "### Next\n",
    "\n",
    "Check out the [documentation](https://leanclient.readthedocs.io/en/latest/) for more information on leanclient!"
   ]
  }
 ],
 "metadata": {
  "colab": {
   "provenance": []
  },
  "kernelspec": {
   "display_name": "leanclient-rszrQX1B-py3.10",
   "language": "python",
   "name": "python3"
  },
  "language_info": {
   "codemirror_mode": {
    "name": "ipython",
    "version": 3
   },
   "file_extension": ".py",
   "mimetype": "text/x-python",
   "name": "python",
   "nbconvert_exporter": "python",
   "pygments_lexer": "ipython3",
   "version": "3.10.12"
  }
 },
 "nbformat": 4,
 "nbformat_minor": 0
}
