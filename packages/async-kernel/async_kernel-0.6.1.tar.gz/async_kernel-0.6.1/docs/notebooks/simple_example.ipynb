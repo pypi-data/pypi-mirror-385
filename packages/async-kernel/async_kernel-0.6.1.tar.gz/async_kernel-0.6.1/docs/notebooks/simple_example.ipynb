{
 "cells": [
  {
   "cell_type": "markdown",
   "id": "0",
   "metadata": {
    "editable": true,
    "slideshow": {
     "slide_type": ""
    },
    "tags": []
   },
   "source": [
    "### Overview\n",
    "\n",
    "This example demonstrates different ways that the same code can be executed. This is an overview of the \n",
    "four cells shown in the animation below.\n",
    "\n",
    "1. Define the coroutine function. \n",
    "    1. Cell 'magic' `%callers` prints a list of [Caller](https://fleming79.github.io/async-kernel/api/#async_kernel.caller.Caller) instances and the thread in which it is executing.\n",
    "    2. A button is created and and it runs a loop twice:\n",
    "        1. Creates any anyio event.\n",
    "        2. Prints a statement.\n",
    "        3. Waits for the button click to set the event.\n",
    "2. Execute `demo` normally.\n",
    "3. Execute `demo` concurrently in a task.\n",
    "4. Execute `demo` in a thread.\n",
    "\n",
    "![Simple demo](https://github.com/user-attachments/assets/9a4935ba-6af8-4c9f-bc67-b256be368811)"
   ]
  },
  {
   "cell_type": "code",
   "execution_count": null,
   "id": "1",
   "metadata": {
    "editable": true,
    "slideshow": {
     "slide_type": ""
    },
    "tags": []
   },
   "outputs": [],
   "source": [
    "import ipywidgets as ipw\n",
    "\n",
    "from async_kernel import AsyncEvent, Caller, utils\n",
    "\n",
    "\n",
    "async def demo():\n",
    "    %callers\n",
    "    caller = Caller()  # Use caller set the event in the waiting thread\n",
    "    b = ipw.Button(description=\"Continue\")\n",
    "    display(b)\n",
    "    for i in range(1, 3):\n",
    "        b.description = f\"Continue {i}\"\n",
    "        event = AsyncEvent()\n",
    "        b.on_click(lambda _: caller.call_soon(event.set))  # noqa: B023\n",
    "        print(f\"Waiting {i}\", end=\"\\r\")\n",
    "        await event.wait()\n",
    "    b.close()\n",
    "    print(\"\\nDone!\")"
   ]
  },
  {
   "cell_type": "code",
   "execution_count": null,
   "id": "2",
   "metadata": {
    "editable": true,
    "slideshow": {
     "slide_type": ""
    },
    "tags": [
     "suppress-error"
    ]
   },
   "outputs": [],
   "source": [
    "print(utils.get_tags())\n",
    "await demo()"
   ]
  },
  {
   "cell_type": "code",
   "execution_count": null,
   "id": "3",
   "metadata": {
    "editable": true,
    "slideshow": {
     "slide_type": ""
    },
    "tags": [
     "suppress-error"
    ]
   },
   "outputs": [],
   "source": [
    "##task\n",
    "await demo()"
   ]
  },
  {
   "cell_type": "code",
   "execution_count": null,
   "id": "4",
   "metadata": {
    "editable": true,
    "slideshow": {
     "slide_type": ""
    },
    "tags": [
     "suppress-error"
    ]
   },
   "outputs": [],
   "source": [
    "##thread\n",
    "await demo()"
   ]
  },
  {
   "cell_type": "markdown",
   "id": "5",
   "metadata": {
    "editable": true,
    "slideshow": {
     "slide_type": ""
    },
    "tags": []
   },
   "source": [
    "## Caller.as_completed\n",
    "\n",
    "See also: the [caller](https://fleming79.github.io/async-kernel/caller/) notebook."
   ]
  },
  {
   "cell_type": "code",
   "execution_count": null,
   "id": "6",
   "metadata": {
    "editable": true,
    "slideshow": {
     "slide_type": ""
    },
    "tags": [
     "suppress-error"
    ]
   },
   "outputs": [],
   "source": [
    "async for _ in Caller.as_completed(Caller().call_soon(demo) for _ in range(2)):\n",
    "    pass"
   ]
  }
 ],
 "metadata": {
  "kernelspec": {
   "display_name": "Python (async)",
   "language": "python",
   "name": "async"
  },
  "language_info": {
   "codemirror_mode": {
    "name": "ipython",
    "version": 3
   },
   "file_extension": ".py",
   "mimetype": "text/x-python",
   "name": "python",
   "nbconvert_exporter": "python",
   "pygments_lexer": "ipython3",
   "version": "3.13.6"
  }
 },
 "nbformat": 4,
 "nbformat_minor": 5
}
