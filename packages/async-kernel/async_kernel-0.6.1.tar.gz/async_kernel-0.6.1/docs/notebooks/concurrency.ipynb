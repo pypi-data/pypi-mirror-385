{
 "cells": [
  {
   "cell_type": "markdown",
   "id": "0",
   "metadata": {
    "editable": true,
    "slideshow": {
     "slide_type": ""
    },
    "tags": []
   },
   "source": [
    "# Concurrency\n",
    "\n",
    "Async kernel runs [message request](https://jupyter-client.readthedocs.io/en/stable/messaging.html#messaging-in-jupyter) with one of the following `RunModes`.\n",
    "\n",
    "- blocking: Run the handler directly blocking the message loop\n",
    "- queue: Run in a queue\n",
    "- task: Run in a task\n",
    "- thread: Run in a Caller thread\n",
    "\n",
    "The kernel decides the run mode dynamically with the method [get_run_mode][async_kernel.kernel.Kernel.get_run_mode]."
   ]
  },
  {
   "cell_type": "code",
   "execution_count": null,
   "id": "1",
   "metadata": {
    "editable": true,
    "slideshow": {
     "slide_type": ""
    },
    "tags": []
   },
   "outputs": [],
   "source": [
    "from async_kernel import utils\n",
    "from async_kernel.typing import KernelConcurrencyMode, MsgType, RunMode\n",
    "\n",
    "kernel = utils.get_kernel()\n",
    "\n",
    "kernel.get_run_mode(MsgType.comm_msg)"
   ]
  },
  {
   "cell_type": "markdown",
   "id": "2",
   "metadata": {
    "editable": true,
    "slideshow": {
     "slide_type": ""
    },
    "tags": []
   },
   "source": [
    "The `kernel.concurrency_mode` will also change the `RunMode` that is returned by `kernel.get_run_mode`."
   ]
  },
  {
   "cell_type": "code",
   "execution_count": null,
   "id": "3",
   "metadata": {
    "editable": true,
    "slideshow": {
     "slide_type": ""
    },
    "tags": []
   },
   "outputs": [],
   "source": [
    "kernel.concurrency_mode = KernelConcurrencyMode.blocking\n",
    "print(f\"\"\"\n",
    "kernel.concurrency_mode: {kernel.concurrency_mode!s}    \n",
    "kernel.get_run_mode:     {kernel.get_run_mode(MsgType.comm_msg).name}\"\"\")\n",
    "\n",
    "kernel.concurrency_mode = KernelConcurrencyMode.default\n",
    "print(f\"\"\"\n",
    "kernel.concurrency_mode: {kernel.concurrency_mode!s}    \n",
    "kernel.get_run_mode:     {kernel.get_run_mode(MsgType.comm_msg).name}\"\"\")"
   ]
  },
  {
   "cell_type": "markdown",
   "id": "4",
   "metadata": {
    "editable": true,
    "slideshow": {
     "slide_type": ""
    },
    "tags": []
   },
   "source": [
    "Below is a list of the run modes for the currently available concurrency modes.\n",
    "\n",
    "<div class=\"admonition note\">\n",
    "    <p class=\"admonition-title\">Note</p>\n",
    "    <p>\n",
    "    `blocking` mode is roughly equivalent to how IpyKernel < 7.0 operates. \n",
    "    </p>\n",
    "</div>\n"
   ]
  },
  {
   "cell_type": "code",
   "execution_count": null,
   "id": "5",
   "metadata": {
    "editable": true,
    "slideshow": {
     "slide_type": ""
    },
    "tags": []
   },
   "outputs": [],
   "source": [
    "data = kernel.all_concurrency_run_modes()\n",
    "try:\n",
    "    import pandas as pd\n",
    "except ImportError:\n",
    "    print(data)\n",
    "else:\n",
    "    data = pd.DataFrame(data)\n",
    "    data[\"RunMode\"] = data.RunMode.str.replace(\"##\", \"\")\n",
    "    data = data.pivot(index=\"MsgType\", columns=[\"SocketID\", \"KernelConcurrencyMode\"], values=\"RunMode\")  # noqa: PD010\n",
    "    display(data)"
   ]
  },
  {
   "cell_type": "markdown",
   "id": "6",
   "metadata": {
    "editable": true,
    "slideshow": {
     "slide_type": ""
    },
    "tags": []
   },
   "source": [
    "## Execute request run mode\n",
    "\n",
    "There are a few options to modify how code cells are run.\n",
    "\n",
    "- Metadata\n",
    "- Directly in code\n",
    "- tags\n",
    "- Message header (in custom messages)\n",
    "\n",
    "\n",
    "<div class=\"admonition warning\">\n",
    "    <p class=\"admonition-title\">Warning</p>\n",
    "    <p>Only Jupyter lab is known to allow concurrent execution of cells.</p>\n",
    "</div>\n",
    "\n",
    "\n",
    "### Code for example\n",
    "\n",
    "- **This example requires ipywidgets**\n",
    "- **Ensure you are running an async kernel**\n",
    "\n",
    "Lets define a function that we'll reuse for the remainder of the notebook."
   ]
  },
  {
   "cell_type": "code",
   "execution_count": null,
   "id": "7",
   "metadata": {
    "editable": true,
    "slideshow": {
     "slide_type": ""
    },
    "tags": []
   },
   "outputs": [],
   "source": [
    "async def demo():\n",
    "    import threading\n",
    "\n",
    "    from ipywidgets import Button\n",
    "\n",
    "    from async_kernel import AsyncEvent, Caller, utils\n",
    "\n",
    "    print(\"Run mode:\", utils.get_job()[\"run_mode\"])\n",
    "\n",
    "    print(f\"Thread name: '{threading.current_thread().name}'\")\n",
    "    button = Button(description=\"Finish\")\n",
    "    event = AsyncEvent()\n",
    "    caller = Caller()  # Use caller so the `##thread` example works.\n",
    "    # This is because widget messages are received by the shell in the main thread. The event is being waited in this thread.\n",
    "    button.on_click(lambda _: caller.call_direct(event.set))\n",
    "    display(button)\n",
    "    await event.wait()\n",
    "    button.close()\n",
    "    print(f\"Finished ... thread name: '{threading.current_thread().name}'\")\n",
    "    return \"Finished\""
   ]
  },
  {
   "cell_type": "markdown",
   "id": "8",
   "metadata": {
    "editable": true,
    "slideshow": {
     "slide_type": ""
    },
    "tags": []
   },
   "source": [
    "Lets run it normally (queue)"
   ]
  },
  {
   "cell_type": "code",
   "execution_count": null,
   "id": "9",
   "metadata": {
    "editable": true,
    "slideshow": {
     "slide_type": ""
    },
    "tags": [
     "suppress-error"
    ]
   },
   "outputs": [],
   "source": [
    "await demo()"
   ]
  },
  {
   "cell_type": "code",
   "execution_count": null,
   "id": "10",
   "metadata": {
    "editable": true,
    "slideshow": {
     "slide_type": ""
    },
    "tags": [
     "suppress-error"
    ]
   },
   "outputs": [],
   "source": [
    "##queue\n",
    "# Tip: try running this cell while the previous cell is still busy.\n",
    "await demo()"
   ]
  },
  {
   "cell_type": "markdown",
   "id": "11",
   "metadata": {
    "editable": true,
    "slideshow": {
     "slide_type": ""
    },
    "tags": []
   },
   "source": [
    "### Run mode: task\n",
    "\n",
    "The `task` mode instructs the kernel to execute the code in a task separate to the queue, Both `task` and `thread` execute modes can be started when the kernel is *busy executing*. There is no imposed limitation on the number of tasks (or threads) that can be run concurrently.\n",
    "\n",
    "See also the [Caller](caller.ipynb#caller) example on how to call directly."
   ]
  },
  {
   "cell_type": "code",
   "execution_count": null,
   "id": "12",
   "metadata": {
    "editable": true,
    "slideshow": {
     "slide_type": ""
    },
    "tags": [
     "suppress-error"
    ]
   },
   "outputs": [],
   "source": [
    "RunMode.task  # noqa: B018  # Using the literal `RunMode` values directly is also possible. Though it may show up as a [Flake8 B018 issue](https://docs.astral.sh/ruff/rules/useless-expression/)\n",
    "await demo()"
   ]
  },
  {
   "cell_type": "markdown",
   "id": "13",
   "metadata": {
    "editable": true,
    "slideshow": {
     "slide_type": ""
    },
    "tags": []
   },
   "source": [
    "### Run mode: thread"
   ]
  },
  {
   "cell_type": "code",
   "execution_count": null,
   "id": "14",
   "metadata": {
    "editable": true,
    "slideshow": {
     "slide_type": ""
    },
    "tags": [
     "thread",
     "suppress-error"
    ]
   },
   "outputs": [],
   "source": [
    "# This time we'll use the tag to run the cell in a Thread\n",
    "await demo()"
   ]
  },
  {
   "cell_type": "code",
   "execution_count": null,
   "id": "15",
   "metadata": {
    "editable": true,
    "slideshow": {
     "slide_type": ""
    },
    "tags": []
   },
   "outputs": [],
   "source": [
    "##thread\n",
    "%callers # magic provided by async kernel"
   ]
  }
 ],
 "metadata": {
  "kernelspec": {
   "display_name": "Python (async)",
   "language": "python",
   "name": "async"
  },
  "language_info": {
   "codemirror_mode": {
    "name": "ipython",
    "version": 3
   },
   "file_extension": ".py",
   "mimetype": "text/x-python",
   "name": "python",
   "nbconvert_exporter": "python",
   "pygments_lexer": "ipython3",
   "version": "3.13.6"
  }
 },
 "nbformat": 4,
 "nbformat_minor": 5
}
