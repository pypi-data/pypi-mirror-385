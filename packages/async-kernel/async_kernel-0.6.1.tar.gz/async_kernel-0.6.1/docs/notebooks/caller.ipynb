{
 "cells": [
  {
   "cell_type": "markdown",
   "id": "0",
   "metadata": {
    "editable": true,
    "slideshow": {
     "slide_type": ""
    },
    "tags": []
   },
   "source": [
    "# Caller\n",
    "\n",
    "`Caller` is a class that makes it easy to call code in different threads/tasks. \n",
    "\n",
    "One caller instance is created per thread, and each of those instances can be retrieved by name using the `Caller.get_instance` class method or in the thread in which it is running simply by `Caller()`. \n",
    "\n",
    "`Caller` is used by the [kernel](#usage-by-the-kernel) internally for running code, but can also be used directly by the user. Each caller starts its own iopub zmq socket.\n",
    "\n",
    "## Threads\n",
    "\n",
    "The caller manages a pool of worker threads (not related to anyio worker threads) or you can specify the name of a new thread which you can manage yourself. Each thread has its own anyio event loop in which the code will be called.\n",
    "\n",
    "Most methods that perform execution return an `async_kernel.Future`.\n",
    "\n",
    "## Usage by the kernel\n",
    "\n",
    "The kernel runs two threads; one each for the shell and control. The thread names are 'MainThread' and 'ControlThread' respectively. You can easily get the main thread caller by using the classmethod `Caller.get_instance()`.\n",
    "\n",
    "kernel uses one of `Caller().call_soon` `Caller.to_thread` depending on the [header directive](kernel_directive.ipynb#Kernel-directive)\n",
    "\n",
    "## Caller of the current thread\n",
    "\n",
    "To get the caller for the current thread use Caller(). It will raise a Runtime error if the thread doesn't have a running instance. "
   ]
  },
  {
   "cell_type": "markdown",
   "id": "1",
   "metadata": {
    "editable": true,
    "slideshow": {
     "slide_type": ""
    },
    "tags": []
   },
   "source": [
    "To get the caller for the main thread.\n",
    "\n",
    "Ensure you're running an **async kernel**."
   ]
  },
  {
   "cell_type": "code",
   "execution_count": null,
   "id": "2",
   "metadata": {
    "editable": true,
    "slideshow": {
     "slide_type": ""
    },
    "tags": []
   },
   "outputs": [],
   "source": [
    "%callers"
   ]
  },
  {
   "cell_type": "markdown",
   "id": "3",
   "metadata": {
    "editable": true,
    "slideshow": {
     "slide_type": ""
    },
    "tags": []
   },
   "source": [
    "## Example\n",
    "**This example requires ipywidgets!**"
   ]
  },
  {
   "cell_type": "code",
   "execution_count": null,
   "id": "4",
   "metadata": {
    "editable": true,
    "slideshow": {
     "slide_type": ""
    },
    "tags": [
     "suppress-error"
    ]
   },
   "outputs": [],
   "source": [
    "import random\n",
    "import time\n",
    "\n",
    "import ipywidgets as ipw\n",
    "\n",
    "from async_kernel import Caller\n",
    "\n",
    "outputs = {}\n",
    "\n",
    "\n",
    "def my_func(n):\n",
    "    caller = Caller()\n",
    "    if not (out := outputs.get(caller)):\n",
    "        outputs[caller] = out = ipw.HTML(description=str(caller))\n",
    "        out.style.description_width = \"220px\"\n",
    "        display(out)\n",
    "    sleep_time = random.random() / 4\n",
    "    out.value = f\"{n=:04d} sleeping {sleep_time * 1000:03.0f} ms\"\n",
    "    time.sleep(sleep_time)\n",
    "    return n\n",
    "\n",
    "\n",
    "async def run_forever():\n",
    "    n = 0\n",
    "    while True:\n",
    "        n += 1\n",
    "        yield Caller.to_thread(my_func, n)\n",
    "\n",
    "\n",
    "async for fut in Caller.as_completed(run_forever()):\n",
    "    result = await fut\n",
    "    print(f\"Finished: {result}\", end=\"\\r\")"
   ]
  },
  {
   "cell_type": "code",
   "execution_count": null,
   "id": "5",
   "metadata": {
    "editable": true,
    "slideshow": {
     "slide_type": ""
    },
    "tags": []
   },
   "outputs": [],
   "source": [
    "%callers"
   ]
  }
 ],
 "metadata": {
  "kernelspec": {
   "display_name": "Python (async)",
   "language": "python",
   "name": "async"
  },
  "language_info": {
   "codemirror_mode": {
    "name": "ipython",
    "version": 3
   },
   "file_extension": ".py",
   "mimetype": "text/x-python",
   "name": "python",
   "nbconvert_exporter": "python",
   "pygments_lexer": "ipython3",
   "version": "3.11.13.final.0"
  }
 },
 "nbformat": 4,
 "nbformat_minor": 5
}
