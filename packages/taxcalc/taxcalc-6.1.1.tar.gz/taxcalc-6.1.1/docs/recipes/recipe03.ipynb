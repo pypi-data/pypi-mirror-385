{
 "cells": [
  {
   "cell_type": "markdown",
   "metadata": {},
   "source": [
    "# Recipe 3: Creating a Custom Table\n",
    "\n",
    "This is an advanced recipe that should be followed only after mastering the basic recipe.\n",
    "This recipe shows how to prepare a custom table."
   ]
  },
  {
   "cell_type": "code",
   "execution_count": 1,
   "metadata": {
    "tags": [
     "remove-cell"
    ]
   },
   "outputs": [
    {
     "name": "stdout",
     "output_type": "stream",
     "text": [
      "Note: you may need to restart the kernel to use updated packages.\n"
     ]
    }
   ],
   "source": [
    "# Install taxcalc if not already installed\n",
    "import sys\n",
    "if 'taxcalc' not in sys.modules:\n",
    "    %pip install taxcalc &> /dev/null  # dev/null suppresses output"
   ]
  },
  {
   "cell_type": "code",
   "execution_count": 2,
   "metadata": {
    "hide-output": false
   },
   "outputs": [
    {
     "name": "stderr",
     "output_type": "stream",
     "text": [
      "/Users/jason.debacker/Library/Python/3.9/lib/python/site-packages/urllib3/__init__.py:34: NotOpenSSLWarning: urllib3 v2.0 only supports OpenSSL 1.1.1+, currently the 'ssl' module is compiled with 'LibreSSL 2.8.3'. See: https://github.com/urllib3/urllib3/issues/3020\n",
      "  warnings.warn(\n",
      "/var/folders/bw/1cvntf9x02b49nfwgy_qnfn00000gp/T/ipykernel_23337/2301227557.py:21: FutureWarning: The default of observed=False is deprecated and will be changed to True in a future version of pandas. Pass observed=False to retain current behavior or observed=True to adopt the future default and silence this warning.\n",
      "  gbydf = vardf.groupby('table_row', as_index=False)\n"
     ]
    }
   ],
   "source": [
    "import taxcalc as tc\n",
    "import numpy as np\n",
    "\n",
    "# use publicly-available CPS input file\n",
    "recs = tc.Records.cps_constructor()\n",
    "\n",
    "# specify Calculator object for static analysis of current-law policy\n",
    "pol = tc.Policy()\n",
    "calc = tc.Calculator(policy=pol, records=recs)\n",
    "\n",
    "CYR = 2020\n",
    "\n",
    "# calculate aggregate current-law income tax liabilities for cyr\n",
    "calc.advance_to_year(CYR)\n",
    "calc.calc_all()\n",
    "\n",
    "# tabulate custom table showing number of filing units receiving EITC\n",
    "# and the average positive EITC amount by IRS-SOI AGI categories\n",
    "vardf = calc.dataframe(['s006', 'c00100', 'eitc'])\n",
    "vardf = tc.add_income_table_row_variable(vardf, 'c00100', tc.SOI_AGI_BINS)\n",
    "gbydf = vardf.groupby('table_row', as_index=False)"
   ]
  },
  {
   "cell_type": "markdown",
   "metadata": {},
   "source": [
    "Filing Units Receiving EITC and Average Positive EITC by AGI Category"
   ]
  },
  {
   "cell_type": "code",
   "execution_count": 3,
   "metadata": {
    "hide-output": false
   },
   "outputs": [
    {
     "name": "stdout",
     "output_type": "stream",
     "text": [
      "AGI Category           \t Num(#M)\t Avg($K)\n",
      "[-9e+99, 1)            \t   0.077\t   0.306\n",
      "[1, 5000)              \t   3.177\t   0.548\n",
      "[5000, 10000)          \t   4.808\t   1.343\n",
      "[10000, 15000)         \t   5.338\t   1.878\n",
      "[15000, 20000)         \t   3.159\t   3.613\n",
      "[20000, 25000)         \t   2.578\t   4.326\n",
      "[25000, 30000)         \t   2.303\t   3.867\n",
      "[30000, 40000)         \t   4.457\t   2.660\n",
      "[40000, 50000)         \t   2.644\t   1.384\n",
      "[50000, 75000)         \t   0.536\t   0.547\n",
      "[75000, 100000)        \t   0.000\t     nan\n",
      "[100000, 200000)       \t   0.000\t     nan\n",
      "[200000, 500000)       \t   0.000\t     nan\n",
      "[500000, 1000000)      \t   0.000\t     nan\n",
      "[1000000, 1500000)     \t   0.000\t     nan\n",
      "[1500000, 2000000)     \t   0.000\t     nan\n",
      "[2000000, 5000000)     \t   0.000\t     nan\n",
      "[5000000, 10000000)    \t   0.000\t     nan\n",
      "[10000000, 9e+99)      \t   0.000\t     nan\n",
      "ALL                    \t  29.077\t   2.254\n"
     ]
    }
   ],
   "source": [
    "# print AGI table with ALL row at bottom\n",
    "results = '{:23s}\\t{:8.3f}\\t{:8.3f}'\n",
    "colhead = '{:23s}\\t{:>8s}\\t{:>8s}'\n",
    "print(colhead.format('AGI Category', 'Num(#M)', 'Avg($K)'))\n",
    "tot_recips = 0.\n",
    "tot_amount = 0.\n",
    "idx = 0\n",
    "for grp_interval, grp in gbydf:\n",
    "    recips = grp[grp['eitc'] > 0]['s006'].sum() * 1e-6\n",
    "    tot_recips += recips\n",
    "    amount = (grp['eitc'] * grp['s006']).sum() * 1e-9\n",
    "    tot_amount += amount\n",
    "    if recips > 0:\n",
    "        avg = amount / recips\n",
    "    else:\n",
    "        avg = np.nan\n",
    "    glabel = '[{:.8g}, {:.8g})'.format(grp_interval.left, grp_interval.right)\n",
    "    print(results.format(glabel, recips, avg))\n",
    "    idx += 1\n",
    "avg = tot_amount / tot_recips\n",
    "print(results.format('ALL', tot_recips, avg))"
   ]
  }
 ],
 "metadata": {
  "celltoolbar": "Tags",
  "date": 1592702193.292495,
  "download_nb": false,
  "filename": "recipe03.rst",
  "filename_with_path": "recipe03",
  "kernelspec": {
   "display_name": "Python 3",
   "language": "python",
   "name": "python3"
  },
  "language_info": {
   "codemirror_mode": {
    "name": "ipython",
    "version": 3
   },
   "file_extension": ".py",
   "mimetype": "text/x-python",
   "name": "python",
   "nbconvert_exporter": "python",
   "pygments_lexer": "ipython3",
   "version": "3.9.6"
  },
  "title": "Recipe 3: Creating a Custom Table"
 },
 "nbformat": 4,
 "nbformat_minor": 4
}
