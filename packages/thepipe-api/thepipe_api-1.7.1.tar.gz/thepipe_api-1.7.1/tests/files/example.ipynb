{
 "cells": [
  {
   "cell_type": "markdown",
   "id": "ff774e22",
   "metadata": {},
   "source": [
    "**Hello**"
   ]
  },
  {
   "cell_type": "code",
   "execution_count": null,
   "id": "3e261faf",
   "metadata": {},
   "outputs": [
    {
     "data": {
      "image/png": "[encoded data removed]",
      "text/plain": [
       "out"
      ]
     },
     "metadata": {},
     "output_type": "display_data"
    }
   ],
   "source": [
    "print('X')"
   ]
  }
 ],
 "metadata": {},
 "nbformat": 4,
 "nbformat_minor": 5
}
