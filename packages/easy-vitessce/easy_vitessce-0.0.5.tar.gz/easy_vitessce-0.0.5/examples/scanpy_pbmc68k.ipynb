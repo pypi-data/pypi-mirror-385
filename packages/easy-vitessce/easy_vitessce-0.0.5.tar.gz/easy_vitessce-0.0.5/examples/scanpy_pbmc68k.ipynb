{
 "cells": [
  {
   "cell_type": "markdown",
   "id": "f0f3e184",
   "metadata": {},
   "source": [
    "# EasyVitessce Example: Scanpy Plotting API"
   ]
  },
  {
   "cell_type": "markdown",
   "id": "8cd4937c",
   "metadata": {},
   "source": [
    "## Downloading and importing necessary packages"
   ]
  },
  {
   "cell_type": "markdown",
   "id": "f4ef15d3",
   "metadata": {},
   "source": [
    "By default, interactive plots are enabled upon importing easy_vitessce. This notebook aims to demonstrate the transition between static and interactive plots, so the interactive plots are initially turned off."
   ]
  },
  {
   "cell_type": "code",
   "execution_count": null,
   "id": "0448ec29",
   "metadata": {},
   "outputs": [],
   "source": [
    "!pip install easy_vitessce\n",
    "!pip install scanpy"
   ]
  },
  {
   "cell_type": "code",
   "execution_count": null,
   "id": "031a203a",
   "metadata": {},
   "outputs": [],
   "source": [
    "import easy_vitessce as ev \n",
    "import scanpy as sc"
   ]
  },
  {
   "cell_type": "code",
   "execution_count": null,
   "id": "435eb226",
   "metadata": {},
   "outputs": [],
   "source": [
    "# Disable interactive plots\n",
    "ev.configure_plots(disable_plots=[\"pca\", \"embedding\", \"dotplot\", \"violin\"])"
   ]
  },
  {
   "cell_type": "markdown",
   "id": "34735f0a",
   "metadata": {},
   "source": [
    "## Reading the data"
   ]
  },
  {
   "cell_type": "code",
   "execution_count": null,
   "id": "03be7200",
   "metadata": {},
   "outputs": [],
   "source": [
    "adata = sc.datasets.pbmc68k_reduced()\n",
    "\n",
    "# Run t-SNE to be able to demonstrate sc.pl.tsne.\n",
    "sc.tl.tsne(adata)\n",
    "\n",
    "# Begin Colab-specific lines. Not required when running locally.\n",
    "# Reference: https://vitessce.github.io/easy_vitessce/customization.html\n",
    "adata_path = \"pbmc68k.adata.zarr\"\n",
    "adata.write_zarr(adata_path)\n",
    "ev.register_data_path(adata, adata_path)\n",
    "ev.config.set({ 'data.wrapper_param_suffix': '_store' })\n",
    "# End Colab-specific lines.\n",
    "\n",
    "adata"
   ]
  },
  {
   "cell_type": "markdown",
   "id": "adde91a5",
   "metadata": {},
   "source": [
    "## Static plotting"
   ]
  },
  {
   "cell_type": "code",
   "execution_count": null,
   "id": "469809c7-8428-4510-95fb-b4befd155909",
   "metadata": {},
   "outputs": [],
   "source": [
    "sc.pl.pca(adata, color=\"louvain\")"
   ]
  },
  {
   "cell_type": "code",
   "execution_count": null,
   "id": "532420ff-e028-4020-8771-bb300491b632",
   "metadata": {},
   "outputs": [],
   "source": [
    "sc.pl.embedding(adata, basis=\"umap\", color=\"CD79A\")"
   ]
  },
  {
   "cell_type": "code",
   "execution_count": null,
   "id": "8eef4dba-7039-45c0-93ed-eac5deb57abc",
   "metadata": {},
   "outputs": [],
   "source": [
    "sc.pl.embedding(adata, basis=\"pca\", color=[\"CD79A\", \"CD53\", \"CLIC1\", \"ANXA1\"], ncols=2)"
   ]
  },
  {
   "cell_type": "code",
   "execution_count": null,
   "id": "5b7935ef-1ff5-48db-bb36-995c57b74ba2",
   "metadata": {},
   "outputs": [],
   "source": [
    "sc.pl.embedding(adata, basis=\"tsne\", color=[\"bulk_labels\", \"louvain\", \"phase\"])"
   ]
  },
  {
   "cell_type": "code",
   "execution_count": null,
   "id": "a9488278-f268-4540-b3bb-b154a11fd241",
   "metadata": {},
   "outputs": [],
   "source": [
    "sc.pl.dotplot(adata, var_names = [\"C1QA\", \"PSAP\", \"CD79A\", \"CD79B\", \"CST3\", \"LYZ\"], groupby=\"bulk_labels\")"
   ]
  },
  {
   "cell_type": "code",
   "execution_count": null,
   "id": "5ddc0ee4-7595-4fd2-ad02-4dfcbf7277f1",
   "metadata": {},
   "outputs": [],
   "source": [
    "sc.pl.violin(adata, keys = \"AP2S1\", groupby = \"bulk_labels\")"
   ]
  },
  {
   "cell_type": "markdown",
   "id": "3f21e34e",
   "metadata": {},
   "source": [
    "## Activating interactive plots"
   ]
  },
  {
   "cell_type": "code",
   "execution_count": null,
   "id": "1f0bb6cb",
   "metadata": {},
   "outputs": [],
   "source": [
    "# Enable interactive plots\n",
    "ev.configure_plots(enable_plots=[\"pca\", \"embedding\", \"dotplot\", \"violin\"])"
   ]
  },
  {
   "cell_type": "code",
   "execution_count": null,
   "id": "95afa65b-5454-444d-8457-293f06dcfc1d",
   "metadata": {},
   "outputs": [],
   "source": [
    "sc.pl.pca(adata, color=\"louvain\")"
   ]
  },
  {
   "cell_type": "code",
   "execution_count": null,
   "id": "bb228d03-12e4-475b-b910-a195c66f15bc",
   "metadata": {},
   "outputs": [],
   "source": [
    "sc.pl.embedding(adata, basis=\"umap\", color=\"CD79A\")"
   ]
  },
  {
   "cell_type": "code",
   "execution_count": null,
   "id": "1bc07976-0ae7-4559-b04b-25813b9aac39",
   "metadata": {},
   "outputs": [],
   "source": [
    "sc.pl.embedding(adata, basis=\"pca\", color=[\"CD79A\", \"CD53\", \"CLIC1\", \"ANXA1\"], ncols=2)"
   ]
  },
  {
   "cell_type": "code",
   "execution_count": null,
   "id": "9278a7d0-efb8-4fa2-90a1-9be838b4b700",
   "metadata": {},
   "outputs": [],
   "source": [
    "sc.pl.embedding(adata, basis=\"tsne\", color=[\"bulk_labels\", \"louvain\", \"phase\"])"
   ]
  },
  {
   "cell_type": "code",
   "execution_count": null,
   "id": "0bad9446-a63a-4e32-94c2-ec360da2fd46",
   "metadata": {},
   "outputs": [],
   "source": [
    "sc.pl.dotplot(adata, var_names = [\"C1QA\", \"PSAP\", \"CD79A\", \"CD79B\", \"CST3\", \"LYZ\"], groupby=\"bulk_labels\")"
   ]
  },
  {
   "cell_type": "code",
   "execution_count": null,
   "id": "642592a7-2bd9-4408-955e-d835f017a615",
   "metadata": {},
   "outputs": [],
   "source": [
    "sc.pl.violin(adata, keys = \"AP2S1\", groupby = \"bulk_labels\")"
   ]
  },
  {
   "cell_type": "code",
   "execution_count": null,
   "id": "5074437c-35d8-4299-b8c2-d24f1f440d45",
   "metadata": {},
   "outputs": [],
   "source": []
  }
 ],
 "metadata": {
  "kernelspec": {
   "display_name": "Python 3 (ipykernel)",
   "language": "python",
   "name": "python3"
  },
  "language_info": {
   "codemirror_mode": {
    "name": "ipython",
    "version": 3
   },
   "file_extension": ".py",
   "mimetype": "text/x-python",
   "name": "python",
   "nbconvert_exporter": "python",
   "pygments_lexer": "ipython3",
   "version": "3.12.5"
  }
 },
 "nbformat": 4,
 "nbformat_minor": 5
}
