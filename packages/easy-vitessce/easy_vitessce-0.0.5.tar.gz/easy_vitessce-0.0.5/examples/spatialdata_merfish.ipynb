{
 "cells": [
  {
   "cell_type": "markdown",
   "id": "013a95d1",
   "metadata": {},
   "source": [
    "# EasyVitessce Example: SpatialData-Plot with MERFISH dataset"
   ]
  },
  {
   "cell_type": "markdown",
   "id": "40c9b340",
   "metadata": {},
   "source": [
    "## Downloading and importing necessary packages"
   ]
  },
  {
   "cell_type": "markdown",
   "id": "846b644c",
   "metadata": {},
   "source": [
    "By default, interactive plots are enabled upon importing easy_vitessce. This notebook aims to demonstrate the transition between static and interactive plots, so the interactive plots are initially turned off."
   ]
  },
  {
   "cell_type": "code",
   "execution_count": null,
   "id": "1b9e634a",
   "metadata": {},
   "outputs": [],
   "source": [
    "!pip install easy_vitessce\n",
    "!pip install spatialdata\n",
    "!pip install spatialdata_plot"
   ]
  },
  {
   "cell_type": "code",
   "execution_count": null,
   "id": "05991a70",
   "metadata": {},
   "outputs": [],
   "source": [
    "import easy_vitessce as ev \n",
    "import spatialdata as sd\n",
    "import spatialdata_plot\n",
    "from os.path import join "
   ]
  },
  {
   "cell_type": "code",
   "execution_count": null,
   "id": "594003c7",
   "metadata": {},
   "outputs": [],
   "source": [
    "# Disable interactive plots\n",
    "ev.configure_plots(disable_plots=[\"spatialdata-plot\"])"
   ]
  },
  {
   "cell_type": "markdown",
   "id": "b0fec04c-68a2-4df6-8ec5-093812c98a6d",
   "metadata": {},
   "source": [
    "## Download the data"
   ]
  },
  {
   "cell_type": "code",
   "execution_count": null,
   "id": "7a7f7f9a-2529-41bb-98c5-bbde65867356",
   "metadata": {},
   "outputs": [],
   "source": [
    "import os\n",
    "from os.path import join, isfile, isdir\n",
    "from urllib.request import urlretrieve\n",
    "import zipfile"
   ]
  },
  {
   "cell_type": "code",
   "execution_count": null,
   "id": "3016ea87-6388-4f43-8b92-6244d284b4e0",
   "metadata": {},
   "outputs": [],
   "source": [
    "data_dir = \"data\"\n",
    "zip_path = join(data_dir, \"merfish.spatialdata.zarr.zip\")\n",
    "sdata_path = join(data_dir, \"merfish.spatialdata.zarr\")"
   ]
  },
  {
   "cell_type": "code",
   "execution_count": null,
   "id": "b70f4ee6-f6da-49f0-8dba-9042259782b3",
   "metadata": {},
   "outputs": [],
   "source": [
    "if not isdir(sdata_path):\n",
    "    if not isfile(zip_path):\n",
    "        os.makedirs(data_dir, exist_ok=True)\n",
    "        urlretrieve('https://s3.embl.de/spatialdata/spatialdata-sandbox/merfish.zip', zip_path)\n",
    "    with zipfile.ZipFile(zip_path,\"r\") as zip_ref:\n",
    "        zip_ref.extractall(data_dir)\n",
    "        os.rename(join(data_dir, \"data.zarr\"), sdata_path)"
   ]
  },
  {
   "cell_type": "markdown",
   "id": "f7bebbc5",
   "metadata": {},
   "source": [
    "## Read the data"
   ]
  },
  {
   "cell_type": "code",
   "execution_count": null,
   "id": "4e946174",
   "metadata": {},
   "outputs": [],
   "source": [
    "sdata = sd.read_zarr(sdata_path)\n",
    "sdata"
   ]
  },
  {
   "cell_type": "markdown",
   "id": "140217fb",
   "metadata": {},
   "source": [
    "## Static plotting"
   ]
  },
  {
   "cell_type": "code",
   "execution_count": null,
   "id": "2035d286",
   "metadata": {},
   "outputs": [],
   "source": [
    "sdata.pl.render_images(element=\"rasterized\").pl.render_shapes(element=\"cells\", color=\"Acta2\").pl.show()"
   ]
  },
  {
   "cell_type": "code",
   "execution_count": null,
   "id": "9d69cdee",
   "metadata": {},
   "outputs": [],
   "source": [
    "# add another code block for the mouse liver dataset? "
   ]
  },
  {
   "cell_type": "markdown",
   "id": "27b04c12",
   "metadata": {},
   "source": [
    "## Activating interactive plots"
   ]
  },
  {
   "cell_type": "code",
   "execution_count": null,
   "id": "ddf74968",
   "metadata": {},
   "outputs": [],
   "source": [
    "# Enable interactive plots\n",
    "ev.configure_plots(enable_plots=[\"spatialdata-plot\"])"
   ]
  },
  {
   "cell_type": "markdown",
   "id": "23ffc21d-92ac-4066-b09a-b7a10307cbe6",
   "metadata": {},
   "source": [
    "## Interactive plotting"
   ]
  },
  {
   "cell_type": "code",
   "execution_count": null,
   "id": "63900fe4",
   "metadata": {},
   "outputs": [],
   "source": [
    "sdata.pl.render_images(element=\"rasterized\").pl.render_shapes(element=\"cells\", color=\"Acta2\").pl.show()"
   ]
  },
  {
   "cell_type": "code",
   "execution_count": null,
   "id": "ed91d03f-098b-47b7-a397-4b2003c60a13",
   "metadata": {},
   "outputs": [],
   "source": []
  }
 ],
 "metadata": {
  "kernelspec": {
   "display_name": "Python 3 (ipykernel)",
   "language": "python",
   "name": "python3"
  },
  "language_info": {
   "codemirror_mode": {
    "name": "ipython",
    "version": 3
   },
   "file_extension": ".py",
   "mimetype": "text/x-python",
   "name": "python",
   "nbconvert_exporter": "python",
   "pygments_lexer": "ipython3",
   "version": "3.12.5"
  }
 },
 "nbformat": 4,
 "nbformat_minor": 5
}
