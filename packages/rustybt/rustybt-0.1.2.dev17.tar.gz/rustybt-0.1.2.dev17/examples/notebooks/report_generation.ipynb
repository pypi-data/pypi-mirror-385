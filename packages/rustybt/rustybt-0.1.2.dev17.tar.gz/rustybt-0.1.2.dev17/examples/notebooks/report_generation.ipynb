{
 "cells": [
  {
   "cell_type": "markdown",
   "metadata": {},
   "source": [
    "# Report Generation Example\n",
    "\n",
    "This notebook demonstrates how to generate professional backtest reports using RustyBT's `ReportGenerator` class.\n",
    "\n",
    "## Features\n",
    "- Generate PDF and HTML reports\n",
    "- Customize report sections\n",
    "- Add custom charts\n",
    "- Professional formatting"
   ]
  },
  {
   "cell_type": "markdown",
   "metadata": {},
   "source": [
    "## Setup\n",
    "\n",
    "Import required libraries:"
   ]
  },
  {
   "cell_type": "code",
   "execution_count": null,
   "metadata": {},
   "outputs": [],
   "source": [
    "from pathlib import Path\n",
    "\n",
    "import matplotlib.pyplot as plt\n",
    "import numpy as np\n",
    "import pandas as pd\n",
    "from IPython.display import HTML, display\n",
    "\n",
    "from rustybt.analytics import setup_notebook\n",
    "from rustybt.analytics.reports import ReportConfig, ReportGenerator\n",
    "\n",
    "# Setup notebook environment\n",
    "setup_notebook()"
   ]
  },
  {
   "cell_type": "markdown",
   "metadata": {},
   "source": [
    "## Step 1: Create Sample Backtest Data\n",
    "\n",
    "For this example, we'll create synthetic backtest results:"
   ]
  },
  {
   "cell_type": "code",
   "execution_count": null,
   "metadata": {},
   "outputs": [],
   "source": [
    "# Generate sample data\n",
    "dates = pd.date_range(start=\"2024-01-01\", end=\"2024-12-31\", freq=\"D\")\n",
    "np.random.seed(42)\n",
    "\n",
    "# Simulate returns\n",
    "returns = np.random.normal(0.0008, 0.015, len(dates))\n",
    "\n",
    "# Calculate portfolio values\n",
    "starting_capital = 100000\n",
    "portfolio_values = starting_capital * np.exp(np.cumsum(returns))\n",
    "\n",
    "# Create DataFrame\n",
    "backtest_data = pd.DataFrame(\n",
    "    {\n",
    "        \"portfolio_value\": portfolio_values,\n",
    "        \"returns\": returns,\n",
    "    },\n",
    "    index=dates,\n",
    ")\n",
    "\n",
    "# Display summary\n",
    "\n",
    "# Preview data\n",
    "backtest_data.head()"
   ]
  },
  {
   "cell_type": "markdown",
   "metadata": {},
   "source": [
    "## Step 2: Generate Basic Report\n",
    "\n",
    "Create a report with default settings:"
   ]
  },
  {
   "cell_type": "code",
   "execution_count": null,
   "metadata": {},
   "outputs": [],
   "source": [
    "# Create report generator\n",
    "generator = ReportGenerator(backtest_data)\n",
    "\n",
    "# Generate HTML report\n",
    "html_output = Path(\"basic_report.html\")\n",
    "generator.generate_report(html_output, format=\"html\")"
   ]
  },
  {
   "cell_type": "markdown",
   "metadata": {},
   "source": [
    "### Display Report Inline\n",
    "\n",
    "View the generated HTML report directly in the notebook:"
   ]
  },
  {
   "cell_type": "code",
   "execution_count": null,
   "metadata": {},
   "outputs": [],
   "source": [
    "# Display HTML report inline\n",
    "with open(html_output) as f:\n",
    "    html_content = f.read()\n",
    "\n",
    "display(HTML(html_content))"
   ]
  },
  {
   "cell_type": "markdown",
   "metadata": {},
   "source": [
    "## Step 3: Generate PDF Report\n",
    "\n",
    "Create a print-ready PDF version:"
   ]
  },
  {
   "cell_type": "code",
   "execution_count": null,
   "metadata": {},
   "outputs": [],
   "source": [
    "# Generate PDF report\n",
    "pdf_output = Path(\"basic_report.pdf\")\n",
    "generator.generate_report(pdf_output, format=\"pdf\")"
   ]
  },
  {
   "cell_type": "markdown",
   "metadata": {},
   "source": [
    "## Step 4: Customized Report\n",
    "\n",
    "Create a report with custom configuration:"
   ]
  },
  {
   "cell_type": "code",
   "execution_count": null,
   "metadata": {},
   "outputs": [],
   "source": [
    "# Define custom configuration\n",
    "custom_config = ReportConfig(\n",
    "    title=\"My Trading Strategy\",\n",
    "    subtitle=\"Momentum-Based Approach\",\n",
    "    include_equity_curve=True,\n",
    "    include_drawdown=True,\n",
    "    include_returns_distribution=True,\n",
    "    include_metrics_table=True,\n",
    "    include_trade_statistics=True,\n",
    "    include_position_distribution=False,  # Disable this section\n",
    "    dpi=200,  # Higher resolution\n",
    "    figsize=(12, 7),  # Larger charts\n",
    ")\n",
    "\n",
    "# Create generator with custom config\n",
    "custom_generator = ReportGenerator(backtest_data, custom_config)\n",
    "\n",
    "# Generate customized report\n",
    "custom_output = Path(\"custom_report.html\")\n",
    "custom_generator.generate_report(custom_output, format=\"html\")"
   ]
  },
  {
   "cell_type": "markdown",
   "metadata": {},
   "source": [
    "## Step 5: Add Custom Charts\n",
    "\n",
    "Extend reports with custom analytics:"
   ]
  },
  {
   "cell_type": "code",
   "execution_count": null,
   "metadata": {},
   "outputs": [],
   "source": [
    "def rolling_volatility_chart(data) -> str:\n",
    "    \"\"\"Custom chart: Rolling 30-day volatility.\"\"\"\n",
    "    import base64\n",
    "    from io import BytesIO\n",
    "\n",
    "    fig, ax = plt.subplots(figsize=(10, 6))\n",
    "\n",
    "    returns = data[\"returns\"]\n",
    "    rolling_vol = returns.rolling(window=30).std() * np.sqrt(252) * 100\n",
    "\n",
    "    ax.plot(data.index, rolling_vol, linewidth=2, color=\"#ff9800\")\n",
    "    ax.set_title(\"Rolling 30-Day Volatility\", fontsize=14, fontweight=\"bold\")\n",
    "    ax.set_xlabel(\"Date\")\n",
    "    ax.set_ylabel(\"Annualized Volatility (%)\")\n",
    "    ax.grid(True, alpha=0.3)\n",
    "    plt.xticks(rotation=45)\n",
    "    plt.tight_layout()\n",
    "\n",
    "    # Save as base64\n",
    "    buf = BytesIO()\n",
    "    fig.savefig(buf, format=\"png\", dpi=150, bbox_inches=\"tight\")\n",
    "    buf.seek(0)\n",
    "    img_base64 = base64.b64encode(buf.read()).decode(\"utf-8\")\n",
    "    plt.close(fig)\n",
    "\n",
    "    return f\"data:image/png;base64,{img_base64}\"\n",
    "\n",
    "\n",
    "# Create config with custom chart\n",
    "advanced_config = ReportConfig(\n",
    "    title=\"Advanced Strategy Report\",\n",
    "    subtitle=\"With Custom Analytics\",\n",
    "    custom_charts=[rolling_volatility_chart],\n",
    ")\n",
    "\n",
    "# Generate advanced report\n",
    "advanced_generator = ReportGenerator(backtest_data, advanced_config)\n",
    "advanced_output = Path(\"advanced_report.html\")\n",
    "advanced_generator.generate_report(advanced_output, format=\"html\")"
   ]
  },
  {
   "cell_type": "markdown",
   "metadata": {},
   "source": [
    "## Step 6: Minimal Report\n",
    "\n",
    "Create a focused executive summary:"
   ]
  },
  {
   "cell_type": "code",
   "execution_count": null,
   "metadata": {},
   "outputs": [],
   "source": [
    "# Minimal configuration\n",
    "minimal_config = ReportConfig(\n",
    "    title=\"Executive Summary\",\n",
    "    subtitle=\"Key Performance Metrics\",\n",
    "    include_equity_curve=True,\n",
    "    include_drawdown=False,\n",
    "    include_returns_distribution=False,\n",
    "    include_metrics_table=True,\n",
    "    include_trade_statistics=False,\n",
    "    include_position_distribution=False,\n",
    ")\n",
    "\n",
    "minimal_generator = ReportGenerator(backtest_data, minimal_config)\n",
    "minimal_output = Path(\"minimal_report.html\")\n",
    "minimal_generator.generate_report(minimal_output, format=\"html\")"
   ]
  },
  {
   "cell_type": "markdown",
   "metadata": {},
   "source": [
    "## Summary\n",
    "\n",
    "You've learned how to:\n",
    "1. ✅ Generate basic HTML and PDF reports\n",
    "2. ✅ Customize report configuration\n",
    "3. ✅ Add custom charts and analytics\n",
    "4. ✅ Create focused executive summaries\n",
    "\n",
    "### Generated Files:"
   ]
  },
  {
   "cell_type": "code",
   "execution_count": null,
   "metadata": {},
   "outputs": [],
   "source": [
    "generated_files = [\n",
    "    \"basic_report.html\",\n",
    "    \"basic_report.pdf\",\n",
    "    \"custom_report.html\",\n",
    "    \"advanced_report.html\",\n",
    "    \"minimal_report.html\",\n",
    "]\n",
    "\n",
    "for file in generated_files:\n",
    "    if Path(file).exists():\n",
    "        size = Path(file).stat().st_size\n",
    "    else:\n",
    "        pass"
   ]
  },
  {
   "cell_type": "markdown",
   "metadata": {},
   "source": [
    "## Next Steps\n",
    "\n",
    "- 🔧 Try different `ReportConfig` options\n",
    "- 📊 Create custom chart functions for your specific metrics\n",
    "- 📄 Generate reports for your actual backtest results\n",
    "- 🎨 Customize the HTML template in `rustybt/analytics/templates/report.html`"
   ]
  }
 ],
 "metadata": {
  "kernelspec": {
   "display_name": "Python 3",
   "language": "python",
   "name": "python3"
  },
  "language_info": {
   "codemirror_mode": {
    "name": "ipython",
    "version": 3
   },
   "file_extension": ".py",
   "mimetype": "text/x-python",
   "name": "python",
   "nbconvert_exporter": "python",
   "pygments_lexer": "ipython3",
   "version": "3.12.0"
  }
 },
 "nbformat": 4,
 "nbformat_minor": 4
}
