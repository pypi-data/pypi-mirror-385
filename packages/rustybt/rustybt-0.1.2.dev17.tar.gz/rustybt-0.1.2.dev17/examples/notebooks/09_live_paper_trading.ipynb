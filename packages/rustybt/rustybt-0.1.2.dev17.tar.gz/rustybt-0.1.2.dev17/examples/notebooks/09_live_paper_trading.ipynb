{
 "cells": [
  {
   "cell_type": "markdown",
   "metadata": {},
   "source": [
    "# Live Paper Trading\n",
    "\n",
    "Test strategies in real-time with paper trading."
   ]
  },
  {
   "cell_type": "code",
   "execution_count": null,
   "metadata": {},
   "outputs": [],
   "source": [
    "from rustybt.analytics import setup_notebook\n",
    "\n",
    "setup_notebook()"
   ]
  },
  {
   "cell_type": "markdown",
   "metadata": {},
   "source": [
    "## Paper Trading Setup"
   ]
  },
  {
   "cell_type": "code",
   "execution_count": null,
   "metadata": {},
   "outputs": [],
   "source": [
    "# engine = LiveTradingEngine(\n",
    "#     strategy=MyStrategy,\n",
    "#     broker=PaperBroker(),\n",
    "#     capital_base=100000\n",
    "# )\n",
    "# await engine.start()"
   ]
  }
 ],
 "metadata": {
  "kernelspec": {
   "display_name": "Python 3",
   "language": "python",
   "name": "python3"
  }
 },
 "nbformat": 4,
 "nbformat_minor": 4
}
