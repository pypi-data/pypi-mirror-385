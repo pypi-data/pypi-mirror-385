{
 "cells": [
  {
   "cell_type": "markdown",
   "metadata": {},
   "source": [
    "# Risk Analytics\n",
    "\n",
    "Calculate VaR, CVaR, beta, and other risk metrics."
   ]
  },
  {
   "cell_type": "code",
   "execution_count": null,
   "metadata": {},
   "outputs": [],
   "source": [
    "from rustybt.analytics import setup_notebook\n",
    "\n",
    "setup_notebook()"
   ]
  },
  {
   "cell_type": "markdown",
   "metadata": {},
   "source": [
    "## Risk Metrics\n",
    "\n",
    "- Value at Risk (VaR)\n",
    "- Conditional VaR (CVaR)\n",
    "- Beta to benchmark\n",
    "- Maximum Drawdown\n",
    "- Sortino Ratio"
   ]
  },
  {
   "cell_type": "code",
   "execution_count": null,
   "metadata": {},
   "outputs": [],
   "source": [
    "# Calculate VaR\n",
    "# returns = results['returns']\n",
    "# var_95 = np.percentile(returns, 5)\n",
    "# cvar_95 = returns[returns <= var_95].mean()\n",
    "# print(f'VaR (95%): {var_95:.2%}')\n",
    "# print(f'CVaR (95%): {cvar_95:.2%}')"
   ]
  }
 ],
 "metadata": {
  "kernelspec": {
   "display_name": "Python 3",
   "language": "python",
   "name": "python3"
  }
 },
 "nbformat": 4,
 "nbformat_minor": 4
}
