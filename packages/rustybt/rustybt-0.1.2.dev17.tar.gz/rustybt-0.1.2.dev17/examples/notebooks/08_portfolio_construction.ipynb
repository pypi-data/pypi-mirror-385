{
 "cells": [
  {
   "cell_type": "markdown",
   "metadata": {},
   "source": [
    "# Portfolio Construction\n",
    "\n",
    "Build multi-asset portfolios with rebalancing."
   ]
  },
  {
   "cell_type": "code",
   "execution_count": null,
   "metadata": {},
   "outputs": [],
   "source": [
    "from rustybt import TradingAlgorithm\n",
    "from rustybt.analytics import setup_notebook\n",
    "from rustybt.api import order_target_percent, symbol\n",
    "\n",
    "setup_notebook()"
   ]
  },
  {
   "cell_type": "markdown",
   "metadata": {},
   "source": [
    "## Equal-Weight Portfolio"
   ]
  },
  {
   "cell_type": "code",
   "execution_count": null,
   "metadata": {},
   "outputs": [],
   "source": [
    "class EqualWeightPortfolio(TradingAlgorithm):\n",
    "    def initialize(self, context) -> None:\n",
    "        context.assets = [symbol(s) for s in [\"SPY\", \"TLT\", \"GLD\", \"VNQ\"]]\n",
    "        context.target_weight = 1.0 / len(context.assets)\n",
    "\n",
    "    def rebalance(self, context, data) -> None:\n",
    "        for asset in context.assets:\n",
    "            order_target_percent(asset, context.target_weight)"
   ]
  }
 ],
 "metadata": {
  "kernelspec": {
   "display_name": "Python 3",
   "language": "python",
   "name": "python3"
  }
 },
 "nbformat": 4,
 "nbformat_minor": 4
}
