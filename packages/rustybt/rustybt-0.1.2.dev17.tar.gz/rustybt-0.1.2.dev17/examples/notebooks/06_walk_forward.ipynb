{
 "cells": [
  {
   "cell_type": "markdown",
   "metadata": {},
   "source": [
    "# Walk-Forward Optimization\n",
    "\n",
    "Validate strategy robustness using walk-forward analysis."
   ]
  },
  {
   "cell_type": "code",
   "execution_count": null,
   "metadata": {},
   "outputs": [],
   "source": [
    "from rustybt.analytics import setup_notebook\n",
    "\n",
    "setup_notebook()"
   ]
  },
  {
   "cell_type": "markdown",
   "metadata": {},
   "source": [
    "## Walk-Forward Testing\n",
    "\n",
    "Prevents overfitting by testing on unseen data."
   ]
  },
  {
   "cell_type": "code",
   "execution_count": null,
   "metadata": {},
   "outputs": [],
   "source": [
    "# wf = WalkForwardOptimizer(\n",
    "#     strategy=MyStrategy,\n",
    "#     param_grid=params,\n",
    "#     train_period='6M',\n",
    "#     test_period='3M'\n",
    "# )\n",
    "# results = wf.run(start, end, capital_base=100000)"
   ]
  }
 ],
 "metadata": {
  "kernelspec": {
   "display_name": "Python 3",
   "language": "python",
   "name": "python3"
  }
 },
 "nbformat": 4,
 "nbformat_minor": 4
}
