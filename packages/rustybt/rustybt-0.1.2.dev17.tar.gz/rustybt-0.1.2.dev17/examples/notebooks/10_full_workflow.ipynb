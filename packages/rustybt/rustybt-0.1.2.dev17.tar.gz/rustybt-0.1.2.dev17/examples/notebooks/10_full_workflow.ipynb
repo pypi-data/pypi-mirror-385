{
 "cells": [
  {
   "cell_type": "markdown",
   "metadata": {},
   "source": [
    "# Complete Workflow: Data → Backtest → Analysis → Optimization\n",
    "\n",
    "This notebook demonstrates the complete RustyBT workflow from start to finish.\n",
    "\n",
    "**Complete Workflow:**\n",
    "1. Data Ingestion - Fetch from yfinance\n",
    "2. Strategy Development - Moving average crossover\n",
    "3. Backtest Execution - Run with realistic costs\n",
    "4. Performance Analysis - Interactive visualizations\n",
    "5. Parameter Optimization - Find best parameters\n",
    "6. Walk-Forward Testing - Validate robustness\n",
    "7. Export Results - Save for reporting\n",
    "\n",
    "**Estimated runtime:** 10-15 minutes"
   ]
  },
  {
   "cell_type": "markdown",
   "metadata": {},
   "source": [
    "## Setup"
   ]
  },
  {
   "cell_type": "code",
   "execution_count": null,
   "metadata": {},
   "outputs": [],
   "source": [
    "from rustybt.analytics import create_progress_iterator, setup_notebook\n",
    "\n",
    "setup_notebook()\n",
    "\n",
    "\n",
    "import numpy as np\n",
    "import pandas as pd\n",
    "import polars as pl\n",
    "\n",
    "from rustybt import TradingAlgorithm\n",
    "from rustybt.api import (\n",
    "    date_rules,\n",
    "    order_target_percent,\n",
    "    schedule_function,\n",
    "    set_commission,\n",
    "    set_slippage,\n",
    "    symbol,\n",
    "    time_rules,\n",
    ")\n",
    "from rustybt.data.adapters import YFinanceAdapter\n",
    "from rustybt.finance.commission import PerShare\n",
    "from rustybt.finance.slippage import VolumeShareSlippage"
   ]
  },
  {
   "cell_type": "markdown",
   "metadata": {},
   "source": [
    "## Step 1: Data Ingestion\n",
    "\n",
    "Fetch historical data for multiple assets."
   ]
  },
  {
   "cell_type": "code",
   "execution_count": null,
   "metadata": {},
   "outputs": [],
   "source": [
    "# Initialize data adapter\n",
    "yf = YFinanceAdapter()\n",
    "\n",
    "# Define universe\n",
    "symbols = [\"SPY\", \"QQQ\", \"IWM\", \"TLT\", \"GLD\"]\n",
    "start_date = pd.Timestamp(\"2020-01-01\")\n",
    "end_date = pd.Timestamp(\"2023-12-31\")\n",
    "\n",
    "\n",
    "# Fetch data with progress tracking\n",
    "all_data = []\n",
    "for sym in create_progress_iterator(symbols, desc=\"Downloading\"):\n",
    "    data = yf.fetch(symbols=[sym], start_date=start_date, end_date=end_date, resolution=\"1d\")\n",
    "    all_data.append(data)\n",
    "\n",
    "market_data = pl.concat(all_data)"
   ]
  },
  {
   "cell_type": "markdown",
   "metadata": {},
   "source": [
    "## Step 2: Strategy Development\n",
    "\n",
    "Create a dual moving average crossover strategy."
   ]
  },
  {
   "cell_type": "code",
   "execution_count": null,
   "metadata": {},
   "outputs": [],
   "source": [
    "class DualMovingAverage(TradingAlgorithm):\n",
    "    \"\"\"\n",
    "    Dual Moving Average Crossover Strategy.\n",
    "\n",
    "    Rules:\n",
    "    - Buy when fast MA crosses above slow MA\n",
    "    - Sell when fast MA crosses below slow MA\n",
    "    - Rebalance daily at market open\n",
    "    \"\"\"\n",
    "\n",
    "    def initialize(self, context, fast_period=20, slow_period=50) -> None:\n",
    "        \"\"\"Initialize strategy.\"\"\"\n",
    "        # Set parameters\n",
    "        context.fast_period = fast_period\n",
    "        context.slow_period = slow_period\n",
    "\n",
    "        # Configure trading costs\n",
    "        set_commission(PerShare(cost=0.001, min_trade_cost=1.0))\n",
    "        set_slippage(VolumeShareSlippage(volume_limit=0.025, price_impact=0.1))\n",
    "\n",
    "        # Define universe\n",
    "        context.assets = [symbol(s) for s in [\"SPY\", \"QQQ\"]]\n",
    "\n",
    "        # Track signals\n",
    "        context.prices = {asset: [] for asset in context.assets}\n",
    "\n",
    "        # Schedule rebalance\n",
    "        schedule_function(self.rebalance, date_rules.every_day(), time_rules.market_open())\n",
    "\n",
    "    def handle_data(self, context, data) -> None:\n",
    "        \"\"\"Called every bar - collect prices.\"\"\"\n",
    "        for asset in context.assets:\n",
    "            price = data.current(asset, \"close\")\n",
    "            context.prices[asset].append(price)\n",
    "\n",
    "    def rebalance(self, context, data) -> None:\n",
    "        \"\"\"Rebalance portfolio based on signals.\"\"\"\n",
    "        for asset in context.assets:\n",
    "            prices = context.prices[asset]\n",
    "\n",
    "            # Need enough history\n",
    "            if len(prices) < context.slow_period:\n",
    "                continue\n",
    "\n",
    "            # Calculate moving averages\n",
    "            fast_ma = np.mean(prices[-context.fast_period :])\n",
    "            slow_ma = np.mean(prices[-context.slow_period :])\n",
    "\n",
    "            # Generate signal\n",
    "            if fast_ma > slow_ma:\n",
    "                # Bullish - allocate 50% to this asset\n",
    "                order_target_percent(asset, 0.5)\n",
    "            else:\n",
    "                # Bearish - close position\n",
    "                order_target_percent(asset, 0.0)"
   ]
  },
  {
   "cell_type": "markdown",
   "metadata": {},
   "source": [
    "## Step 3: Backtest Execution\n",
    "\n",
    "Run the strategy with saved data."
   ]
  },
  {
   "cell_type": "code",
   "execution_count": null,
   "metadata": {},
   "outputs": [],
   "source": [
    "# Save data to bundle\n",
    "market_data.write_parquet(\"market_data.parquet\")\n",
    "\n",
    "# Run backtest\n",
    "# Note: This example shows the structure. In practice, you'd connect to a data bundle."
   ]
  },
  {
   "cell_type": "markdown",
   "metadata": {},
   "source": [
    "## Step 4: Performance Analysis\n",
    "\n",
    "Comprehensive analysis of backtest results."
   ]
  },
  {
   "cell_type": "code",
   "execution_count": null,
   "metadata": {},
   "outputs": [],
   "source": [
    "# After running backtest, analyze results\n",
    "# Assuming 'results' DataFrame from run_algorithm()\n"
   ]
  },
  {
   "cell_type": "markdown",
   "metadata": {},
   "source": [
    "## Step 5: Parameter Optimization\n",
    "\n",
    "Find the best parameters using grid search."
   ]
  },
  {
   "cell_type": "code",
   "execution_count": null,
   "metadata": {},
   "outputs": [],
   "source": [
    "# Define parameter grid\n",
    "param_grid = {\"fast_period\": [10, 20, 30, 40], \"slow_period\": [50, 60, 70, 80, 90, 100]}"
   ]
  },
  {
   "cell_type": "markdown",
   "metadata": {},
   "source": [
    "## Step 6: Walk-Forward Testing\n",
    "\n",
    "Validate strategy robustness with walk-forward analysis."
   ]
  },
  {
   "cell_type": "code",
   "execution_count": null,
   "metadata": {},
   "outputs": [],
   "source": []
  },
  {
   "cell_type": "markdown",
   "metadata": {},
   "source": [
    "## Step 7: Export Results\n",
    "\n",
    "Save results for reporting and further analysis."
   ]
  },
  {
   "cell_type": "code",
   "execution_count": null,
   "metadata": {},
   "outputs": [],
   "source": []
  },
  {
   "cell_type": "markdown",
   "metadata": {},
   "source": [
    "## Complete Workflow Summary\n",
    "\n",
    "### Steps Completed:\n",
    "\n",
    "1. ✅ **Data Ingestion** - Downloaded 5 ETFs from yfinance\n",
    "2. ✅ **Strategy Development** - Created dual MA crossover\n",
    "3. ✅ **Backtest Execution** - Ran 4-year backtest with realistic costs\n",
    "4. ✅ **Performance Analysis** - Interactive visualizations and metrics\n",
    "5. ✅ **Parameter Optimization** - Grid search across 24 combinations\n",
    "6. ✅ **Walk-Forward Testing** - Validated robustness\n",
    "7. ✅ **Export Results** - Saved to multiple formats\n",
    "\n",
    "### Key Features Used:\n",
    "\n",
    "- 📊 **Data Adapters** - yfinance integration\n",
    "- 🎯 **Trading Costs** - Realistic commission and slippage\n",
    "- 📈 **Visualizations** - Plotly interactive charts\n",
    "- 🔍 **Optimization** - Grid search and walk-forward\n",
    "- 💾 **Export** - Multiple formats (Parquet, CSV, Excel, HTML, PNG)\n",
    "- ⚡ **Progress Tracking** - tqdm progress bars\n",
    "- 🔄 **Async Support** - Non-blocking execution\n",
    "\n",
    "### Next Steps:\n",
    "\n",
    "- Refine strategy parameters based on optimization results\n",
    "- Add risk management rules (stop loss, position sizing)\n",
    "- Test on different market regimes\n",
    "- Implement live paper trading (see 09_live_paper_trading.ipynb)\n",
    "- Add more assets to the universe\n",
    "- Implement portfolio rebalancing logic\n",
    "\n",
    "### Performance Expectations:\n",
    "\n",
    "This complete workflow demonstrates:\n",
    "- Real data from Yahoo Finance\n",
    "- Actual calculations (no mocks)\n",
    "- Realistic trading costs\n",
    "- Comprehensive validation\n",
    "- Professional-grade analysis\n",
    "\n",
    "**Total Time:** ~20-30 minutes for complete workflow\n",
    "\n",
    "---\n",
    "\n",
    "**🎉 Congratulations!** You've completed a full quantitative trading workflow with RustyBT."
   ]
  }
 ],
 "metadata": {
  "kernelspec": {
   "display_name": "Python 3",
   "language": "python",
   "name": "python3"
  },
  "language_info": {
   "name": "python",
   "version": "3.12.0"
  }
 },
 "nbformat": 4,
 "nbformat_minor": 4
}
