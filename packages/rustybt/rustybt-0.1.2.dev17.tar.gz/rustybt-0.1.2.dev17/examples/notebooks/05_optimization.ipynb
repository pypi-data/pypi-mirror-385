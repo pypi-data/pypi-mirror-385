{
 "cells": [
  {
   "cell_type": "markdown",
   "metadata": {},
   "source": [
    "# Strategy Optimization\n",
    "\n",
    "Find optimal parameters using grid search and Bayesian optimization."
   ]
  },
  {
   "cell_type": "code",
   "execution_count": null,
   "metadata": {},
   "outputs": [],
   "source": [
    "from rustybt.analytics import setup_notebook\n",
    "\n",
    "setup_notebook()"
   ]
  },
  {
   "cell_type": "markdown",
   "metadata": {},
   "source": [
    "## Grid Search Example"
   ]
  },
  {
   "cell_type": "code",
   "execution_count": null,
   "metadata": {},
   "outputs": [],
   "source": [
    "# param_grid = {\n",
    "#     'fast_period': [10, 20, 30],\n",
    "#     'slow_period': [50, 75, 100]\n",
    "# }\n",
    "# optimizer = GridSearchOptimizer(strategy, param_grid, metric='sharpe_ratio')\n",
    "# results = optimizer.optimize(start, end, capital_base=100000)"
   ]
  }
 ],
 "metadata": {
  "kernelspec": {
   "display_name": "Python 3",
   "language": "python",
   "name": "python3"
  }
 },
 "nbformat": 4,
 "nbformat_minor": 4
}
