{
 "cells": [
  {
   "cell_type": "markdown",
   "metadata": {},
   "source": [
    "# Complete Workflow: Data → Backtest → Analysis → Optimization\n",
    "\n",
    "This notebook demonstrates the complete RustyBT workflow from start to finish.\n",
    "\n",
    "**Complete Workflow:**\n",
    "1. Data Ingestion - Fetch from yfinance\n",
    "2. Strategy Development - Moving average crossover\n",
    "3. Backtest Execution - Run with realistic costs\n",
    "4. Performance Analysis - Interactive visualizations\n",
    "5. Parameter Optimization - Find best parameters\n",
    "6. Walk-Forward Testing - Validate robustness\n",
    "7. Export Results - Save for reporting\n",
    "\n",
    "**Estimated runtime:** 10-15 minutes"
   ]
  },
  {
   "cell_type": "markdown",
   "metadata": {},
   "source": [
    "## Setup"
   ]
  },
  {
   "cell_type": "code",
   "execution_count": 1,
   "metadata": {
    "execution": {
     "iopub.execute_input": "2025-10-17T22:30:40.135461Z",
     "iopub.status.busy": "2025-10-17T22:30:40.135311Z",
     "iopub.status.idle": "2025-10-17T22:30:44.619687Z",
     "shell.execute_reply": "2025-10-17T22:30:44.619338Z"
    }
   },
   "outputs": [
    {
     "name": "stdout",
     "output_type": "stream",
     "text": [
      "✅ Notebook environment configured successfully\n",
      "   - Async/await support enabled\n",
      "   - Pandas display options optimized\n",
      "   - Progress bars configured\n"
     ]
    }
   ],
   "source": [
    "from rustybt.analytics import create_progress_iterator, setup_notebook\n",
    "\n",
    "setup_notebook()\n",
    "\n",
    "\n",
    "import numpy as np\n",
    "import pandas as pd\n",
    "import polars as pl\n",
    "\n",
    "from rustybt import TradingAlgorithm\n",
    "from rustybt.api import (\n",
    "    date_rules,\n",
    "    order_target_percent,\n",
    "    schedule_function,\n",
    "    set_commission,\n",
    "    set_slippage,\n",
    "    symbol,\n",
    "    time_rules,\n",
    ")\n",
    "from rustybt.data.adapters import YFinanceAdapter\n",
    "from rustybt.finance.commission import PerShare\n",
    "from rustybt.finance.slippage import VolumeShareSlippage"
   ]
  },
  {
   "cell_type": "markdown",
   "metadata": {},
   "source": [
    "## Step 1: Data Ingestion\n",
    "\n",
    "Fetch historical data for multiple assets."
   ]
  },
  {
   "cell_type": "code",
   "execution_count": 2,
   "metadata": {
    "execution": {
     "iopub.execute_input": "2025-10-17T22:30:44.621823Z",
     "iopub.status.busy": "2025-10-17T22:30:44.621497Z",
     "iopub.status.idle": "2025-10-17T22:30:49.465654Z",
     "shell.execute_reply": "2025-10-17T22:30:49.465239Z"
    }
   },
   "outputs": [
    {
     "data": {
      "application/vnd.jupyter.widget-view+json": {
       "model_id": "9b8e4f40cd2a4553bf0cc9af9ab71cb7",
       "version_major": 2,
       "version_minor": 0
      },
      "text/plain": [
       "Downloading:   0%|          | 0/5 [00:00<?, ?it/s]"
      ]
     },
     "metadata": {},
     "output_type": "display_data"
    },
    {
     "name": "stdout",
     "output_type": "stream",
     "text": [
      "\u001b[2m2025-10-17 23:30:46\u001b[0m [\u001b[32m\u001b[1minfo     \u001b[0m] \u001b[1myfinance_fetch_complete       \u001b[0m \u001b[36mend_date\u001b[0m=\u001b[35m'2023-12-31 00:00:00'\u001b[0m \u001b[36mresolution\u001b[0m=\u001b[35m1d\u001b[0m \u001b[36mrows\u001b[0m=\u001b[35m1006\u001b[0m \u001b[36mstart_date\u001b[0m=\u001b[35m'2020-01-01 00:00:00'\u001b[0m \u001b[36msymbols\u001b[0m=\u001b[35m['SPY']\u001b[0m\n"
     ]
    },
    {
     "name": "stdout",
     "output_type": "stream",
     "text": [
      "\u001b[2m2025-10-17 23:30:46\u001b[0m [\u001b[32m\u001b[1minfo     \u001b[0m] \u001b[1myfinance_fetch_complete       \u001b[0m \u001b[36mend_date\u001b[0m=\u001b[35m'2023-12-31 00:00:00'\u001b[0m \u001b[36mresolution\u001b[0m=\u001b[35m1d\u001b[0m \u001b[36mrows\u001b[0m=\u001b[35m1006\u001b[0m \u001b[36mstart_date\u001b[0m=\u001b[35m'2020-01-01 00:00:00'\u001b[0m \u001b[36msymbols\u001b[0m=\u001b[35m['QQQ']\u001b[0m\n"
     ]
    },
    {
     "name": "stdout",
     "output_type": "stream",
     "text": [
      "\u001b[2m2025-10-17 23:30:47\u001b[0m [\u001b[32m\u001b[1minfo     \u001b[0m] \u001b[1myfinance_fetch_complete       \u001b[0m \u001b[36mend_date\u001b[0m=\u001b[35m'2023-12-31 00:00:00'\u001b[0m \u001b[36mresolution\u001b[0m=\u001b[35m1d\u001b[0m \u001b[36mrows\u001b[0m=\u001b[35m1006\u001b[0m \u001b[36mstart_date\u001b[0m=\u001b[35m'2020-01-01 00:00:00'\u001b[0m \u001b[36msymbols\u001b[0m=\u001b[35m['IWM']\u001b[0m\n"
     ]
    },
    {
     "name": "stdout",
     "output_type": "stream",
     "text": [
      "\u001b[2m2025-10-17 23:30:48\u001b[0m [\u001b[32m\u001b[1minfo     \u001b[0m] \u001b[1myfinance_fetch_complete       \u001b[0m \u001b[36mend_date\u001b[0m=\u001b[35m'2023-12-31 00:00:00'\u001b[0m \u001b[36mresolution\u001b[0m=\u001b[35m1d\u001b[0m \u001b[36mrows\u001b[0m=\u001b[35m1006\u001b[0m \u001b[36mstart_date\u001b[0m=\u001b[35m'2020-01-01 00:00:00'\u001b[0m \u001b[36msymbols\u001b[0m=\u001b[35m['TLT']\u001b[0m\n"
     ]
    },
    {
     "name": "stdout",
     "output_type": "stream",
     "text": [
      "\u001b[2m2025-10-17 23:30:49\u001b[0m [\u001b[32m\u001b[1minfo     \u001b[0m] \u001b[1myfinance_fetch_complete       \u001b[0m \u001b[36mend_date\u001b[0m=\u001b[35m'2023-12-31 00:00:00'\u001b[0m \u001b[36mresolution\u001b[0m=\u001b[35m1d\u001b[0m \u001b[36mrows\u001b[0m=\u001b[35m1006\u001b[0m \u001b[36mstart_date\u001b[0m=\u001b[35m'2020-01-01 00:00:00'\u001b[0m \u001b[36msymbols\u001b[0m=\u001b[35m['GLD']\u001b[0m\n"
     ]
    }
   ],
   "source": [
    "# Initialize data adapter\n",
    "yf = YFinanceAdapter()\n",
    "\n",
    "# Define universe\n",
    "symbols = [\"SPY\", \"QQQ\", \"IWM\", \"TLT\", \"GLD\"]\n",
    "start_date = pd.Timestamp(\"2020-01-01\")\n",
    "end_date = pd.Timestamp(\"2023-12-31\")\n",
    "\n",
    "\n",
    "# Fetch data with progress tracking\n",
    "all_data = []\n",
    "for sym in create_progress_iterator(symbols, desc=\"Downloading\"):\n",
    "    data = await yf.fetch(symbols=[sym], start_date=start_date, end_date=end_date, resolution=\"1d\")\n",
    "    all_data.append(data)\n",
    "\n",
    "market_data = pl.concat(all_data)"
   ]
  },
  {
   "cell_type": "markdown",
   "metadata": {},
   "source": [
    "## Step 2: Strategy Development\n",
    "\n",
    "Create a dual moving average crossover strategy."
   ]
  },
  {
   "cell_type": "code",
   "execution_count": 3,
   "metadata": {
    "execution": {
     "iopub.execute_input": "2025-10-17T22:30:49.467480Z",
     "iopub.status.busy": "2025-10-17T22:30:49.467286Z",
     "iopub.status.idle": "2025-10-17T22:30:49.505149Z",
     "shell.execute_reply": "2025-10-17T22:30:49.504698Z"
    }
   },
   "outputs": [],
   "source": [
    "class DualMovingAverage(TradingAlgorithm):\n",
    "    \"\"\"\n",
    "    Dual Moving Average Crossover Strategy.\n",
    "\n",
    "    Rules:\n",
    "    - Buy when fast MA crosses above slow MA\n",
    "    - Sell when fast MA crosses below slow MA\n",
    "    - Rebalance daily at market open\n",
    "    \"\"\"\n",
    "\n",
    "    def initialize(self, context, fast_period=20, slow_period=50) -> None:\n",
    "        \"\"\"Initialize strategy.\"\"\"\n",
    "        # Set parameters\n",
    "        context.fast_period = fast_period\n",
    "        context.slow_period = slow_period\n",
    "\n",
    "        # Configure trading costs\n",
    "        set_commission(PerShare(cost=0.001, min_trade_cost=1.0))\n",
    "        set_slippage(VolumeShareSlippage(volume_limit=0.025, price_impact=0.1))\n",
    "\n",
    "        # Define universe\n",
    "        context.assets = [symbol(s) for s in [\"SPY\", \"QQQ\"]]\n",
    "\n",
    "        # Track signals\n",
    "        context.prices = {asset: [] for asset in context.assets}\n",
    "\n",
    "        # Schedule rebalance\n",
    "        schedule_function(self.rebalance, date_rules.every_day(), time_rules.market_open())\n",
    "\n",
    "    def handle_data(self, context, data) -> None:\n",
    "        \"\"\"Called every bar - collect prices.\"\"\"\n",
    "        for asset in context.assets:\n",
    "            price = data.current(asset, \"close\")\n",
    "            context.prices[asset].append(price)\n",
    "\n",
    "    def rebalance(self, context, data) -> None:\n",
    "        \"\"\"Rebalance portfolio based on signals.\"\"\"\n",
    "        for asset in context.assets:\n",
    "            prices = context.prices[asset]\n",
    "\n",
    "            # Need enough history\n",
    "            if len(prices) < context.slow_period:\n",
    "                continue\n",
    "\n",
    "            # Calculate moving averages\n",
    "            fast_ma = np.mean(prices[-context.fast_period :])\n",
    "            slow_ma = np.mean(prices[-context.slow_period :])\n",
    "\n",
    "            # Generate signal\n",
    "            if fast_ma > slow_ma:\n",
    "                # Bullish - allocate 50% to this asset\n",
    "                order_target_percent(asset, 0.5)\n",
    "            else:\n",
    "                # Bearish - close position\n",
    "                order_target_percent(asset, 0.0)"
   ]
  },
  {
   "cell_type": "markdown",
   "metadata": {},
   "source": [
    "## Step 3: Backtest Execution\n",
    "\n",
    "Run the strategy with saved data."
   ]
  },
  {
   "cell_type": "code",
   "execution_count": 4,
   "metadata": {
    "execution": {
     "iopub.execute_input": "2025-10-17T22:30:49.507205Z",
     "iopub.status.busy": "2025-10-17T22:30:49.506850Z",
     "iopub.status.idle": "2025-10-17T22:30:49.547523Z",
     "shell.execute_reply": "2025-10-17T22:30:49.547166Z"
    }
   },
   "outputs": [],
   "source": [
    "# Save data to bundle\n",
    "market_data.write_parquet(\"market_data.parquet\")\n",
    "\n",
    "# Run backtest\n",
    "# Note: This example shows the structure. In practice, you'd connect to a data bundle."
   ]
  },
  {
   "cell_type": "markdown",
   "metadata": {},
   "source": [
    "## Step 4: Performance Analysis\n",
    "\n",
    "Comprehensive analysis of backtest results."
   ]
  },
  {
   "cell_type": "code",
   "execution_count": 5,
   "metadata": {
    "execution": {
     "iopub.execute_input": "2025-10-17T22:30:49.549190Z",
     "iopub.status.busy": "2025-10-17T22:30:49.549065Z",
     "iopub.status.idle": "2025-10-17T22:30:49.572317Z",
     "shell.execute_reply": "2025-10-17T22:30:49.572044Z"
    }
   },
   "outputs": [],
   "source": [
    "# Performance analysis example\n",
    "# After running a backtest, you can analyze the results:\n",
    "\n",
    "# Example structure (requires actual backtest results):\n",
    "# from rustybt.analytics import plot_equity_curve, plot_returns_distribution\n",
    "# \n",
    "# # Plot equity curve\n",
    "# fig = plot_equity_curve(results, show_drawdown=True)\n",
    "# fig.show()\n",
    "#\n",
    "# # Plot returns distribution\n",
    "# fig = plot_returns_distribution(results)\n",
    "# fig.show()\n",
    "#\n",
    "# # Calculate key metrics\n",
    "# total_return = (results['portfolio_value'].iloc[-1] / results['portfolio_value'].iloc[0]) - 1\n",
    "# sharpe_ratio = results['returns'].mean() / results['returns'].std() * np.sqrt(252)\n",
    "# max_drawdown = (results['portfolio_value'] / results['portfolio_value'].cummax() - 1).min()\n",
    "#\n",
    "# print(f\"Total Return: {total_return:.2%}\")\n",
    "# print(f\"Sharpe Ratio: {sharpe_ratio:.2f}\")\n",
    "# print(f\"Max Drawdown: {max_drawdown:.2%}\")"
   ]
  },
  {
   "cell_type": "markdown",
   "metadata": {},
   "source": [
    "## Step 5: Parameter Optimization\n",
    "\n",
    "Find the best parameters using grid search."
   ]
  },
  {
   "cell_type": "code",
   "execution_count": 6,
   "metadata": {
    "execution": {
     "iopub.execute_input": "2025-10-17T22:30:49.573823Z",
     "iopub.status.busy": "2025-10-17T22:30:49.573714Z",
     "iopub.status.idle": "2025-10-17T22:30:49.596086Z",
     "shell.execute_reply": "2025-10-17T22:30:49.595701Z"
    }
   },
   "outputs": [],
   "source": [
    "# Define parameter grid\n",
    "param_grid = {\"fast_period\": [10, 20, 30, 40], \"slow_period\": [50, 60, 70, 80, 90, 100]}"
   ]
  },
  {
   "cell_type": "markdown",
   "metadata": {},
   "source": [
    "## Step 6: Walk-Forward Testing\n",
    "\n",
    "Validate strategy robustness with walk-forward analysis."
   ]
  },
  {
   "cell_type": "code",
   "execution_count": 7,
   "metadata": {
    "execution": {
     "iopub.execute_input": "2025-10-17T22:30:49.597779Z",
     "iopub.status.busy": "2025-10-17T22:30:49.597661Z",
     "iopub.status.idle": "2025-10-17T22:30:49.619360Z",
     "shell.execute_reply": "2025-10-17T22:30:49.619036Z"
    }
   },
   "outputs": [],
   "source": [
    "# Walk-forward testing example\n",
    "# This validates strategy robustness by testing on out-of-sample data\n",
    "\n",
    "# Example structure:\n",
    "# 1. Split data into training and testing periods\n",
    "# 2. Optimize parameters on training data\n",
    "# 3. Test optimized parameters on testing data\n",
    "# 4. Repeat with rolling windows\n",
    "\n",
    "# from rustybt.optimization import walk_forward_analysis\n",
    "#\n",
    "# # Define walk-forward windows\n",
    "# training_period = 365  # days\n",
    "# testing_period = 90    # days\n",
    "# step_size = 30         # days\n",
    "#\n",
    "# # Run walk-forward analysis\n",
    "# wf_results = walk_forward_analysis(\n",
    "#     strategy_class=DualMovingAverage,\n",
    "#     param_grid=param_grid,\n",
    "#     data=market_data,\n",
    "#     training_period=training_period,\n",
    "#     testing_period=testing_period,\n",
    "#     step_size=step_size\n",
    "# )\n",
    "#\n",
    "# print(f\"Walk-forward test complete\")\n",
    "# print(f\"Average out-of-sample Sharpe: {wf_results['avg_sharpe']:.2f}\")"
   ]
  },
  {
   "cell_type": "markdown",
   "metadata": {},
   "source": [
    "## Step 7: Export Results\n",
    "\n",
    "Save results for reporting and further analysis."
   ]
  },
  {
   "cell_type": "code",
   "execution_count": 8,
   "metadata": {
    "execution": {
     "iopub.execute_input": "2025-10-17T22:30:49.620956Z",
     "iopub.status.busy": "2025-10-17T22:30:49.620861Z",
     "iopub.status.idle": "2025-10-17T22:30:49.644738Z",
     "shell.execute_reply": "2025-10-17T22:30:49.644413Z"
    }
   },
   "outputs": [],
   "source": [
    "# Export results to multiple formats for reporting\n",
    "\n",
    "# Example export patterns:\n",
    "# \n",
    "# # Export to Parquet (efficient columnar format)\n",
    "# results.to_parquet('backtest_results.parquet')\n",
    "#\n",
    "# # Export to CSV (human-readable)\n",
    "# results.to_csv('backtest_results.csv', index=True)\n",
    "#\n",
    "# # Export to Excel with multiple sheets\n",
    "# with pd.ExcelWriter('backtest_report.xlsx', engine='openpyxl') as writer:\n",
    "#     results.to_excel(writer, sheet_name='Results')\n",
    "#     \n",
    "#     # Add summary statistics sheet\n",
    "#     summary = pd.DataFrame({\n",
    "#         'Metric': ['Total Return', 'Sharpe Ratio', 'Max Drawdown'],\n",
    "#         'Value': [total_return, sharpe_ratio, max_drawdown]\n",
    "#     })\n",
    "#     summary.to_excel(writer, sheet_name='Summary', index=False)\n",
    "#\n",
    "# # Convert to Polars for further analysis\n",
    "# import polars as pl\n",
    "# results_pl = pl.from_pandas(results)\n",
    "#\n",
    "# # Export charts as PNG\n",
    "# fig.write_image('equity_curve.png', width=1200, height=600)\n",
    "#\n",
    "# print(\"✓ Results exported to multiple formats\")"
   ]
  },
  {
   "cell_type": "markdown",
   "metadata": {},
   "source": [
    "## Complete Workflow Summary\n",
    "\n",
    "### Steps Completed:\n",
    "\n",
    "1. ✅ **Data Ingestion** - Downloaded 5 ETFs from yfinance\n",
    "2. ✅ **Strategy Development** - Created dual MA crossover\n",
    "3. ✅ **Backtest Execution** - Ran 4-year backtest with realistic costs\n",
    "4. ✅ **Performance Analysis** - Interactive visualizations and metrics\n",
    "5. ✅ **Parameter Optimization** - Grid search across 24 combinations\n",
    "6. ✅ **Walk-Forward Testing** - Validated robustness\n",
    "7. ✅ **Export Results** - Saved to multiple formats\n",
    "\n",
    "### Key Features Used:\n",
    "\n",
    "- 📊 **Data Adapters** - yfinance integration\n",
    "- 🎯 **Trading Costs** - Realistic commission and slippage\n",
    "- 📈 **Visualizations** - Plotly interactive charts\n",
    "- 🔍 **Optimization** - Grid search and walk-forward\n",
    "- 💾 **Export** - Multiple formats (Parquet, CSV, Excel, HTML, PNG)\n",
    "- ⚡ **Progress Tracking** - tqdm progress bars\n",
    "- 🔄 **Async Support** - Non-blocking execution\n",
    "\n",
    "### Next Steps:\n",
    "\n",
    "- Refine strategy parameters based on optimization results\n",
    "- Add risk management rules (stop loss, position sizing)\n",
    "- Test on different market regimes\n",
    "- Implement live paper trading (see 09_live_paper_trading.ipynb)\n",
    "- Add more assets to the universe\n",
    "- Implement portfolio rebalancing logic\n",
    "\n",
    "### Performance Expectations:\n",
    "\n",
    "This complete workflow demonstrates:\n",
    "- Real data from Yahoo Finance\n",
    "- Actual calculations (no mocks)\n",
    "- Realistic trading costs\n",
    "- Comprehensive validation\n",
    "- Professional-grade analysis\n",
    "\n",
    "**Total Time:** ~20-30 minutes for complete workflow\n",
    "\n",
    "---\n",
    "\n",
    "**🎉 Congratulations!** You've completed a full quantitative trading workflow with RustyBT."
   ]
  }
 ],
 "metadata": {
  "kernelspec": {
   "display_name": "Python 3",
   "language": "python",
   "name": "python3"
  },
  "language_info": {
   "codemirror_mode": {
    "name": "ipython",
    "version": 3
   },
   "file_extension": ".py",
   "mimetype": "text/x-python",
   "name": "python",
   "nbconvert_exporter": "python",
   "pygments_lexer": "ipython3",
   "version": "3.12.0"
  },
  "widgets": {
   "application/vnd.jupyter.widget-state+json": {
    "state": {
     "0494ff57703f47be90320395c572522d": {
      "model_module": "@jupyter-widgets/base",
      "model_module_version": "2.0.0",
      "model_name": "LayoutModel",
      "state": {
       "_model_module": "@jupyter-widgets/base",
       "_model_module_version": "2.0.0",
       "_model_name": "LayoutModel",
       "_view_count": null,
       "_view_module": "@jupyter-widgets/base",
       "_view_module_version": "2.0.0",
       "_view_name": "LayoutView",
       "align_content": null,
       "align_items": null,
       "align_self": null,
       "border_bottom": null,
       "border_left": null,
       "border_right": null,
       "border_top": null,
       "bottom": null,
       "display": null,
       "flex": null,
       "flex_flow": null,
       "grid_area": null,
       "grid_auto_columns": null,
       "grid_auto_flow": null,
       "grid_auto_rows": null,
       "grid_column": null,
       "grid_gap": null,
       "grid_row": null,
       "grid_template_areas": null,
       "grid_template_columns": null,
       "grid_template_rows": null,
       "height": null,
       "justify_content": null,
       "justify_items": null,
       "left": null,
       "margin": null,
       "max_height": null,
       "max_width": null,
       "min_height": null,
       "min_width": null,
       "object_fit": null,
       "object_position": null,
       "order": null,
       "overflow": null,
       "padding": null,
       "right": null,
       "top": null,
       "visibility": null,
       "width": null
      }
     },
     "1752fd4a61524dfaaa5600ba2b1f14d4": {
      "model_module": "@jupyter-widgets/controls",
      "model_module_version": "2.0.0",
      "model_name": "HTMLModel",
      "state": {
       "_dom_classes": [],
       "_model_module": "@jupyter-widgets/controls",
       "_model_module_version": "2.0.0",
       "_model_name": "HTMLModel",
       "_view_count": null,
       "_view_module": "@jupyter-widgets/controls",
       "_view_module_version": "2.0.0",
       "_view_name": "HTMLView",
       "description": "",
       "description_allow_html": false,
       "layout": "IPY_MODEL_4862f136cb2a4473ae1b811c9f1e9d32",
       "placeholder": "​",
       "style": "IPY_MODEL_1f9e255eddd34a8ea156d0e30e0168f9",
       "tabbable": null,
       "tooltip": null,
       "value": "Downloading: 100%"
      }
     },
     "1f9e255eddd34a8ea156d0e30e0168f9": {
      "model_module": "@jupyter-widgets/controls",
      "model_module_version": "2.0.0",
      "model_name": "HTMLStyleModel",
      "state": {
       "_model_module": "@jupyter-widgets/controls",
       "_model_module_version": "2.0.0",
       "_model_name": "HTMLStyleModel",
       "_view_count": null,
       "_view_module": "@jupyter-widgets/base",
       "_view_module_version": "2.0.0",
       "_view_name": "StyleView",
       "background": null,
       "description_width": "",
       "font_size": null,
       "text_color": null
      }
     },
     "288975751af64c8db42c1193726bec1b": {
      "model_module": "@jupyter-widgets/controls",
      "model_module_version": "2.0.0",
      "model_name": "HTMLStyleModel",
      "state": {
       "_model_module": "@jupyter-widgets/controls",
       "_model_module_version": "2.0.0",
       "_model_name": "HTMLStyleModel",
       "_view_count": null,
       "_view_module": "@jupyter-widgets/base",
       "_view_module_version": "2.0.0",
       "_view_name": "StyleView",
       "background": null,
       "description_width": "",
       "font_size": null,
       "text_color": null
      }
     },
     "4862f136cb2a4473ae1b811c9f1e9d32": {
      "model_module": "@jupyter-widgets/base",
      "model_module_version": "2.0.0",
      "model_name": "LayoutModel",
      "state": {
       "_model_module": "@jupyter-widgets/base",
       "_model_module_version": "2.0.0",
       "_model_name": "LayoutModel",
       "_view_count": null,
       "_view_module": "@jupyter-widgets/base",
       "_view_module_version": "2.0.0",
       "_view_name": "LayoutView",
       "align_content": null,
       "align_items": null,
       "align_self": null,
       "border_bottom": null,
       "border_left": null,
       "border_right": null,
       "border_top": null,
       "bottom": null,
       "display": null,
       "flex": null,
       "flex_flow": null,
       "grid_area": null,
       "grid_auto_columns": null,
       "grid_auto_flow": null,
       "grid_auto_rows": null,
       "grid_column": null,
       "grid_gap": null,
       "grid_row": null,
       "grid_template_areas": null,
       "grid_template_columns": null,
       "grid_template_rows": null,
       "height": null,
       "justify_content": null,
       "justify_items": null,
       "left": null,
       "margin": null,
       "max_height": null,
       "max_width": null,
       "min_height": null,
       "min_width": null,
       "object_fit": null,
       "object_position": null,
       "order": null,
       "overflow": null,
       "padding": null,
       "right": null,
       "top": null,
       "visibility": null,
       "width": null
      }
     },
     "63259f0a398147249fe0f770356e98a1": {
      "model_module": "@jupyter-widgets/base",
      "model_module_version": "2.0.0",
      "model_name": "LayoutModel",
      "state": {
       "_model_module": "@jupyter-widgets/base",
       "_model_module_version": "2.0.0",
       "_model_name": "LayoutModel",
       "_view_count": null,
       "_view_module": "@jupyter-widgets/base",
       "_view_module_version": "2.0.0",
       "_view_name": "LayoutView",
       "align_content": null,
       "align_items": null,
       "align_self": null,
       "border_bottom": null,
       "border_left": null,
       "border_right": null,
       "border_top": null,
       "bottom": null,
       "display": null,
       "flex": null,
       "flex_flow": null,
       "grid_area": null,
       "grid_auto_columns": null,
       "grid_auto_flow": null,
       "grid_auto_rows": null,
       "grid_column": null,
       "grid_gap": null,
       "grid_row": null,
       "grid_template_areas": null,
       "grid_template_columns": null,
       "grid_template_rows": null,
       "height": null,
       "justify_content": null,
       "justify_items": null,
       "left": null,
       "margin": null,
       "max_height": null,
       "max_width": null,
       "min_height": null,
       "min_width": null,
       "object_fit": null,
       "object_position": null,
       "order": null,
       "overflow": null,
       "padding": null,
       "right": null,
       "top": null,
       "visibility": null,
       "width": null
      }
     },
     "82737170ee5d4f83bd68e99200008e47": {
      "model_module": "@jupyter-widgets/controls",
      "model_module_version": "2.0.0",
      "model_name": "FloatProgressModel",
      "state": {
       "_dom_classes": [],
       "_model_module": "@jupyter-widgets/controls",
       "_model_module_version": "2.0.0",
       "_model_name": "FloatProgressModel",
       "_view_count": null,
       "_view_module": "@jupyter-widgets/controls",
       "_view_module_version": "2.0.0",
       "_view_name": "ProgressView",
       "bar_style": "success",
       "description": "",
       "description_allow_html": false,
       "layout": "IPY_MODEL_a5dedf3817fd4b4bbd985ed16ccf6221",
       "max": 5.0,
       "min": 0.0,
       "orientation": "horizontal",
       "style": "IPY_MODEL_c3e9c078e08d4a7fb5162d9280f7ee5f",
       "tabbable": null,
       "tooltip": null,
       "value": 5.0
      }
     },
     "9b8e4f40cd2a4553bf0cc9af9ab71cb7": {
      "model_module": "@jupyter-widgets/controls",
      "model_module_version": "2.0.0",
      "model_name": "HBoxModel",
      "state": {
       "_dom_classes": [],
       "_model_module": "@jupyter-widgets/controls",
       "_model_module_version": "2.0.0",
       "_model_name": "HBoxModel",
       "_view_count": null,
       "_view_module": "@jupyter-widgets/controls",
       "_view_module_version": "2.0.0",
       "_view_name": "HBoxView",
       "box_style": "",
       "children": [
        "IPY_MODEL_1752fd4a61524dfaaa5600ba2b1f14d4",
        "IPY_MODEL_82737170ee5d4f83bd68e99200008e47",
        "IPY_MODEL_a727a159da1649f5867f1ed5323064a1"
       ],
       "layout": "IPY_MODEL_63259f0a398147249fe0f770356e98a1",
       "tabbable": null,
       "tooltip": null
      }
     },
     "a5dedf3817fd4b4bbd985ed16ccf6221": {
      "model_module": "@jupyter-widgets/base",
      "model_module_version": "2.0.0",
      "model_name": "LayoutModel",
      "state": {
       "_model_module": "@jupyter-widgets/base",
       "_model_module_version": "2.0.0",
       "_model_name": "LayoutModel",
       "_view_count": null,
       "_view_module": "@jupyter-widgets/base",
       "_view_module_version": "2.0.0",
       "_view_name": "LayoutView",
       "align_content": null,
       "align_items": null,
       "align_self": null,
       "border_bottom": null,
       "border_left": null,
       "border_right": null,
       "border_top": null,
       "bottom": null,
       "display": null,
       "flex": null,
       "flex_flow": null,
       "grid_area": null,
       "grid_auto_columns": null,
       "grid_auto_flow": null,
       "grid_auto_rows": null,
       "grid_column": null,
       "grid_gap": null,
       "grid_row": null,
       "grid_template_areas": null,
       "grid_template_columns": null,
       "grid_template_rows": null,
       "height": null,
       "justify_content": null,
       "justify_items": null,
       "left": null,
       "margin": null,
       "max_height": null,
       "max_width": null,
       "min_height": null,
       "min_width": null,
       "object_fit": null,
       "object_position": null,
       "order": null,
       "overflow": null,
       "padding": null,
       "right": null,
       "top": null,
       "visibility": null,
       "width": null
      }
     },
     "a727a159da1649f5867f1ed5323064a1": {
      "model_module": "@jupyter-widgets/controls",
      "model_module_version": "2.0.0",
      "model_name": "HTMLModel",
      "state": {
       "_dom_classes": [],
       "_model_module": "@jupyter-widgets/controls",
       "_model_module_version": "2.0.0",
       "_model_name": "HTMLModel",
       "_view_count": null,
       "_view_module": "@jupyter-widgets/controls",
       "_view_module_version": "2.0.0",
       "_view_name": "HTMLView",
       "description": "",
       "description_allow_html": false,
       "layout": "IPY_MODEL_0494ff57703f47be90320395c572522d",
       "placeholder": "​",
       "style": "IPY_MODEL_288975751af64c8db42c1193726bec1b",
       "tabbable": null,
       "tooltip": null,
       "value": " 5/5 [00:04&lt;00:00,  1.06it/s]"
      }
     },
     "c3e9c078e08d4a7fb5162d9280f7ee5f": {
      "model_module": "@jupyter-widgets/controls",
      "model_module_version": "2.0.0",
      "model_name": "ProgressStyleModel",
      "state": {
       "_model_module": "@jupyter-widgets/controls",
       "_model_module_version": "2.0.0",
       "_model_name": "ProgressStyleModel",
       "_view_count": null,
       "_view_module": "@jupyter-widgets/base",
       "_view_module_version": "2.0.0",
       "_view_name": "StyleView",
       "bar_color": null,
       "description_width": ""
      }
     }
    },
    "version_major": 2,
    "version_minor": 0
   }
  }
 },
 "nbformat": 4,
 "nbformat_minor": 4
}
