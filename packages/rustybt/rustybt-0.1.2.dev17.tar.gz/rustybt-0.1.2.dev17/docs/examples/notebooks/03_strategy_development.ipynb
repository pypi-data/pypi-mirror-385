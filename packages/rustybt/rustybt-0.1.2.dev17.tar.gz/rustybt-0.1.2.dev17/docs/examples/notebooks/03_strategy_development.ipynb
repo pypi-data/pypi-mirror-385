{
 "cells": [
  {
   "cell_type": "markdown",
   "metadata": {},
   "source": [
    "# Strategy Development with RustyBT\n",
    "\n",
    "Learn how to build custom trading strategies from simple to complex.\n",
    "\n",
    "**Strategies Covered:**\n",
    "- Moving Average Crossover\n",
    "- Mean Reversion\n",
    "- Momentum Strategy\n",
    "- Multi-Factor Strategy\n",
    "\n",
    "**Estimated runtime:** 5 minutes"
   ]
  },
  {
   "cell_type": "code",
   "execution_count": 1,
   "metadata": {
    "execution": {
     "iopub.execute_input": "2025-10-17T22:31:56.139852Z",
     "iopub.status.busy": "2025-10-17T22:31:56.139711Z",
     "iopub.status.idle": "2025-10-17T22:32:01.113794Z",
     "shell.execute_reply": "2025-10-17T22:32:01.113322Z"
    }
   },
   "outputs": [
    {
     "name": "stdout",
     "output_type": "stream",
     "text": [
      "✅ Notebook environment configured successfully\n",
      "   - Async/await support enabled\n",
      "   - Pandas display options optimized\n",
      "   - Progress bars configured\n"
     ]
    }
   ],
   "source": [
    "from rustybt.analytics import setup_notebook\n",
    "\n",
    "setup_notebook()\n",
    "\n",
    "import numpy as np\n",
    "\n",
    "from rustybt import TradingAlgorithm\n",
    "from rustybt.api import order_target_percent, symbol"
   ]
  },
  {
   "cell_type": "markdown",
   "metadata": {},
   "source": [
    "## 1. Moving Average Crossover"
   ]
  },
  {
   "cell_type": "code",
   "execution_count": 2,
   "metadata": {
    "execution": {
     "iopub.execute_input": "2025-10-17T22:32:01.116304Z",
     "iopub.status.busy": "2025-10-17T22:32:01.115828Z",
     "iopub.status.idle": "2025-10-17T22:32:01.149403Z",
     "shell.execute_reply": "2025-10-17T22:32:01.149062Z"
    }
   },
   "outputs": [],
   "source": [
    "class MovingAverageCrossover(TradingAlgorithm):\n",
    "    def initialize(self, context) -> None:\n",
    "        context.asset = symbol(\"SPY\")\n",
    "        context.fast_period = 20\n",
    "        context.slow_period = 50\n",
    "        context.prices = []\n",
    "\n",
    "    def handle_data(self, context, data) -> None:\n",
    "        price = data.current(context.asset, \"close\")\n",
    "        context.prices.append(price)\n",
    "\n",
    "        if len(context.prices) < context.slow_period:\n",
    "            return\n",
    "\n",
    "        fast_ma = np.mean(context.prices[-context.fast_period :])\n",
    "        slow_ma = np.mean(context.prices[-context.slow_period :])\n",
    "\n",
    "        current_position = context.portfolio.positions[context.asset].amount\n",
    "\n",
    "        if fast_ma > slow_ma and current_position == 0:\n",
    "            order_target_percent(context.asset, 1.0)\n",
    "        elif fast_ma < slow_ma and current_position > 0:\n",
    "            order_target_percent(context.asset, 0.0)"
   ]
  },
  {
   "cell_type": "markdown",
   "metadata": {},
   "source": [
    "## 2. Mean Reversion Strategy"
   ]
  },
  {
   "cell_type": "code",
   "execution_count": 3,
   "metadata": {
    "execution": {
     "iopub.execute_input": "2025-10-17T22:32:01.151288Z",
     "iopub.status.busy": "2025-10-17T22:32:01.151138Z",
     "iopub.status.idle": "2025-10-17T22:32:01.178285Z",
     "shell.execute_reply": "2025-10-17T22:32:01.177961Z"
    }
   },
   "outputs": [],
   "source": [
    "class MeanReversion(TradingAlgorithm):\n",
    "    def initialize(self, context) -> None:\n",
    "        context.asset = symbol(\"SPY\")\n",
    "        context.lookback = 20\n",
    "        context.z_threshold = 2.0\n",
    "        context.prices = []\n",
    "\n",
    "    def handle_data(self, context, data) -> None:\n",
    "        price = data.current(context.asset, \"close\")\n",
    "        context.prices.append(price)\n",
    "\n",
    "        if len(context.prices) < context.lookback:\n",
    "            return\n",
    "\n",
    "        mean = np.mean(context.prices[-context.lookback :])\n",
    "        std = np.std(context.prices[-context.lookback :])\n",
    "        z_score = (price - mean) / std if std > 0 else 0\n",
    "\n",
    "        if z_score < -context.z_threshold:\n",
    "            order_target_percent(context.asset, 1.0)\n",
    "        elif z_score > context.z_threshold:\n",
    "            order_target_percent(context.asset, 0.0)"
   ]
  },
  {
   "cell_type": "markdown",
   "metadata": {},
   "source": [
    "## Next Steps\n",
    "\n",
    "- Test strategies with real data (02_data_ingestion.ipynb)\n",
    "- Optimize parameters (05_optimization.ipynb)\n",
    "- Analyze performance (04_performance_analysis.ipynb)"
   ]
  }
 ],
 "metadata": {
  "kernelspec": {
   "display_name": "Python 3",
   "language": "python",
   "name": "python3"
  },
  "language_info": {
   "codemirror_mode": {
    "name": "ipython",
    "version": 3
   },
   "file_extension": ".py",
   "mimetype": "text/x-python",
   "name": "python",
   "nbconvert_exporter": "python",
   "pygments_lexer": "ipython3",
   "version": "3.12.0"
  }
 },
 "nbformat": 4,
 "nbformat_minor": 4
}
