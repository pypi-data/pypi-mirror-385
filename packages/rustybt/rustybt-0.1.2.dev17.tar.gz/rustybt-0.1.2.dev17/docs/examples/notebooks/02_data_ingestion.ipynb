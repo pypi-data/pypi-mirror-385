{
 "cells": [
  {
   "cell_type": "markdown",
   "metadata": {},
   "source": [
    "# Data Ingestion with RustyBT\n",
    "\n",
    "This notebook demonstrates how to fetch and prepare data from multiple sources for backtesting.\n",
    "\n",
    "**Data Sources Covered:**\n",
    "- yfinance (Yahoo Finance) - Free stocks, ETFs, forex\n",
    "- CCXT - Cryptocurrency exchanges (100+ exchanges)\n",
    "- CSV files - Custom data\n",
    "- Alpaca - Real-time and historical market data\n",
    "\n",
    "**What you'll learn:**\n",
    "- Fetching data from different providers\n",
    "- Data validation and quality checks\n",
    "- Creating custom data bundles\n",
    "- Caching for performance\n",
    "\n",
    "**Estimated runtime:** 5-10 minutes (depending on data downloads)"
   ]
  },
  {
   "cell_type": "code",
   "execution_count": 1,
   "metadata": {},
   "outputs": [
    {
     "name": "stdout",
     "output_type": "stream",
     "text": [
      "✅ Notebook environment configured successfully\n",
      "   - Async/await support enabled\n",
      "   - Pandas display options optimized\n",
      "   - Progress bars configured\n"
     ]
    }
   ],
   "source": [
    "# Setup\n",
    "from rustybt.analytics import create_progress_iterator, setup_notebook\n",
    "\n",
    "setup_notebook()\n",
    "\n",
    "import contextlib\n",
    "import numpy as np\n",
    "\n",
    "import pandas as pd\n",
    "import polars as pl\n",
    "\n",
    "from rustybt.data.adapters import CCXTAdapter, CSVAdapter, YFinanceAdapter"
   ]
  },
  {
   "cell_type": "markdown",
   "metadata": {},
   "source": [
    "## 1. Yahoo Finance Data (Stocks & ETFs)\n",
    "\n",
    "Yahoo Finance provides free historical data for stocks, ETFs, indices, and forex."
   ]
  },
  {
   "cell_type": "code",
   "execution_count": 2,
   "metadata": {},
   "outputs": [
    {
     "data": {
      "application/vnd.jupyter.widget-view+json": {
       "model_id": "c62679bf844141b194e3b3848889cbc5",
       "version_major": 2,
       "version_minor": 0
      },
      "text/plain": [
       "Downloading:   0%|          | 0/4 [00:00<?, ?it/s]"
      ]
     },
     "metadata": {},
     "output_type": "display_data"
    },
    {
     "name": "stdout",
     "output_type": "stream",
     "text": [
      "\u001b[2m2025-10-17 23:23:54\u001b[0m [\u001b[32m\u001b[1minfo     \u001b[0m] \u001b[1myfinance_fetch_complete       \u001b[0m \u001b[36mend_date\u001b[0m=\u001b[35m'2023-12-31 00:00:00'\u001b[0m \u001b[36mresolution\u001b[0m=\u001b[35m1d\u001b[0m \u001b[36mrows\u001b[0m=\u001b[35m250\u001b[0m \u001b[36mstart_date\u001b[0m=\u001b[35m'2023-01-01 00:00:00'\u001b[0m \u001b[36msymbols\u001b[0m=\u001b[35m['AAPL']\u001b[0m\n",
      "\u001b[2m2025-10-17 23:23:55\u001b[0m [\u001b[32m\u001b[1minfo     \u001b[0m] \u001b[1myfinance_fetch_complete       \u001b[0m \u001b[36mend_date\u001b[0m=\u001b[35m'2023-12-31 00:00:00'\u001b[0m \u001b[36mresolution\u001b[0m=\u001b[35m1d\u001b[0m \u001b[36mrows\u001b[0m=\u001b[35m250\u001b[0m \u001b[36mstart_date\u001b[0m=\u001b[35m'2023-01-01 00:00:00'\u001b[0m \u001b[36msymbols\u001b[0m=\u001b[35m['GOOGL']\u001b[0m\n",
      "\u001b[2m2025-10-17 23:23:56\u001b[0m [\u001b[32m\u001b[1minfo     \u001b[0m] \u001b[1myfinance_fetch_complete       \u001b[0m \u001b[36mend_date\u001b[0m=\u001b[35m'2023-12-31 00:00:00'\u001b[0m \u001b[36mresolution\u001b[0m=\u001b[35m1d\u001b[0m \u001b[36mrows\u001b[0m=\u001b[35m250\u001b[0m \u001b[36mstart_date\u001b[0m=\u001b[35m'2023-01-01 00:00:00'\u001b[0m \u001b[36msymbols\u001b[0m=\u001b[35m['MSFT']\u001b[0m\n",
      "\u001b[2m2025-10-17 23:23:57\u001b[0m [\u001b[32m\u001b[1minfo     \u001b[0m] \u001b[1myfinance_fetch_complete       \u001b[0m \u001b[36mend_date\u001b[0m=\u001b[35m'2023-12-31 00:00:00'\u001b[0m \u001b[36mresolution\u001b[0m=\u001b[35m1d\u001b[0m \u001b[36mrows\u001b[0m=\u001b[35m250\u001b[0m \u001b[36mstart_date\u001b[0m=\u001b[35m'2023-01-01 00:00:00'\u001b[0m \u001b[36msymbols\u001b[0m=\u001b[35m['TSLA']\u001b[0m\n"
     ]
    }
   ],
   "source": [
    "# Initialize yfinance adapter\n",
    "yf_adapter = YFinanceAdapter()\n",
    "\n",
    "# Fetch data for multiple stocks\n",
    "symbols = [\"AAPL\", \"GOOGL\", \"MSFT\", \"TSLA\"]\n",
    "start_date = pd.Timestamp(\"2023-01-01\")\n",
    "end_date = pd.Timestamp(\"2023-12-31\")\n",
    "\n",
    "\n",
    "# Fetch with progress bar\n",
    "all_data = []\n",
    "for symbol in create_progress_iterator(symbols, desc=\"Downloading\"):\n",
    "    data = await yf_adapter.fetch(\n",
    "        symbols=[symbol], start_date=start_date, end_date=end_date, resolution=\"1d\"\n",
    "    )\n",
    "    all_data.append(data)\n",
    "\n",
    "# Combine all data\n",
    "combined = pl.concat(all_data)"
   ]
  },
  {
   "cell_type": "code",
   "execution_count": 3,
   "metadata": {},
   "outputs": [],
   "source": [
    "# Validate data quality\n",
    "with contextlib.suppress(Exception):\n",
    "    yf_adapter.validate(combined)"
   ]
  },
  {
   "cell_type": "markdown",
   "metadata": {},
   "source": [
    "## 2. Cryptocurrency Data (CCXT)\n",
    "\n",
    "CCXT provides unified access to 100+ cryptocurrency exchanges."
   ]
  },
  {
   "cell_type": "code",
   "execution_count": 4,
   "metadata": {},
   "outputs": [
    {
     "name": "stdout",
     "output_type": "stream",
     "text": [
      "\u001b[2m2025-10-17 23:24:27\u001b[0m [\u001b[33m\u001b[1mwarning  \u001b[0m] \u001b[1mccxt_markets_load_failed      \u001b[0m \u001b[36merror\u001b[0m=\u001b[35m'binance GET https://api.binance.com/api/v3/exchangeInfo'\u001b[0m \u001b[36mexchange\u001b[0m=\u001b[35mbinance\u001b[0m \u001b[36mfallback\u001b[0m=\u001b[35m'will attempt to load markets on first fetch'\u001b[0m\n"
     ]
    },
    {
     "ename": "NetworkError",
     "evalue": "Failed to load markets from binance: binance GET https://api.binance.com/api/v3/exchangeInfo",
     "output_type": "error",
     "traceback": [
      "\u001b[31m---------------------------------------------------------------------------\u001b[39m",
      "\u001b[31mgaierror\u001b[39m                                  Traceback (most recent call last)",
      "\u001b[36mFile \u001b[39m\u001b[32m~/Code/bmad-dev/rustybt/.venv/lib/python3.13/site-packages/urllib3/connection.py:198\u001b[39m, in \u001b[36mHTTPConnection._new_conn\u001b[39m\u001b[34m(self)\u001b[39m\n\u001b[32m    197\u001b[39m \u001b[38;5;28;01mtry\u001b[39;00m:\n\u001b[32m--> \u001b[39m\u001b[32m198\u001b[39m     sock = \u001b[43mconnection\u001b[49m\u001b[43m.\u001b[49m\u001b[43mcreate_connection\u001b[49m\u001b[43m(\u001b[49m\n\u001b[32m    199\u001b[39m \u001b[43m        \u001b[49m\u001b[43m(\u001b[49m\u001b[38;5;28;43mself\u001b[39;49m\u001b[43m.\u001b[49m\u001b[43m_dns_host\u001b[49m\u001b[43m,\u001b[49m\u001b[43m \u001b[49m\u001b[38;5;28;43mself\u001b[39;49m\u001b[43m.\u001b[49m\u001b[43mport\u001b[49m\u001b[43m)\u001b[49m\u001b[43m,\u001b[49m\n\u001b[32m    200\u001b[39m \u001b[43m        \u001b[49m\u001b[38;5;28;43mself\u001b[39;49m\u001b[43m.\u001b[49m\u001b[43mtimeout\u001b[49m\u001b[43m,\u001b[49m\n\u001b[32m    201\u001b[39m \u001b[43m        \u001b[49m\u001b[43msource_address\u001b[49m\u001b[43m=\u001b[49m\u001b[38;5;28;43mself\u001b[39;49m\u001b[43m.\u001b[49m\u001b[43msource_address\u001b[49m\u001b[43m,\u001b[49m\n\u001b[32m    202\u001b[39m \u001b[43m        \u001b[49m\u001b[43msocket_options\u001b[49m\u001b[43m=\u001b[49m\u001b[38;5;28;43mself\u001b[39;49m\u001b[43m.\u001b[49m\u001b[43msocket_options\u001b[49m\u001b[43m,\u001b[49m\n\u001b[32m    203\u001b[39m \u001b[43m    \u001b[49m\u001b[43m)\u001b[49m\n\u001b[32m    204\u001b[39m \u001b[38;5;28;01mexcept\u001b[39;00m socket.gaierror \u001b[38;5;28;01mas\u001b[39;00m e:\n",
      "\u001b[36mFile \u001b[39m\u001b[32m~/Code/bmad-dev/rustybt/.venv/lib/python3.13/site-packages/urllib3/util/connection.py:60\u001b[39m, in \u001b[36mcreate_connection\u001b[39m\u001b[34m(address, timeout, source_address, socket_options)\u001b[39m\n\u001b[32m     58\u001b[39m     \u001b[38;5;28;01mraise\u001b[39;00m LocationParseError(\u001b[33mf\u001b[39m\u001b[33m\"\u001b[39m\u001b[33m'\u001b[39m\u001b[38;5;132;01m{\u001b[39;00mhost\u001b[38;5;132;01m}\u001b[39;00m\u001b[33m'\u001b[39m\u001b[33m, label empty or too long\u001b[39m\u001b[33m\"\u001b[39m) \u001b[38;5;28;01mfrom\u001b[39;00m\u001b[38;5;250m \u001b[39m\u001b[38;5;28;01mNone\u001b[39;00m\n\u001b[32m---> \u001b[39m\u001b[32m60\u001b[39m \u001b[38;5;28;01mfor\u001b[39;00m res \u001b[38;5;129;01min\u001b[39;00m \u001b[43msocket\u001b[49m\u001b[43m.\u001b[49m\u001b[43mgetaddrinfo\u001b[49m\u001b[43m(\u001b[49m\u001b[43mhost\u001b[49m\u001b[43m,\u001b[49m\u001b[43m \u001b[49m\u001b[43mport\u001b[49m\u001b[43m,\u001b[49m\u001b[43m \u001b[49m\u001b[43mfamily\u001b[49m\u001b[43m,\u001b[49m\u001b[43m \u001b[49m\u001b[43msocket\u001b[49m\u001b[43m.\u001b[49m\u001b[43mSOCK_STREAM\u001b[49m\u001b[43m)\u001b[49m:\n\u001b[32m     61\u001b[39m     af, socktype, proto, canonname, sa = res\n",
      "\u001b[36mFile \u001b[39m\u001b[32m~/.local/share/uv/python/cpython-3.13.1-macos-aarch64-none/lib/python3.13/socket.py:975\u001b[39m, in \u001b[36mgetaddrinfo\u001b[39m\u001b[34m(host, port, family, type, proto, flags)\u001b[39m\n\u001b[32m    974\u001b[39m addrlist = []\n\u001b[32m--> \u001b[39m\u001b[32m975\u001b[39m \u001b[38;5;28;01mfor\u001b[39;00m res \u001b[38;5;129;01min\u001b[39;00m \u001b[43m_socket\u001b[49m\u001b[43m.\u001b[49m\u001b[43mgetaddrinfo\u001b[49m\u001b[43m(\u001b[49m\u001b[43mhost\u001b[49m\u001b[43m,\u001b[49m\u001b[43m \u001b[49m\u001b[43mport\u001b[49m\u001b[43m,\u001b[49m\u001b[43m \u001b[49m\u001b[43mfamily\u001b[49m\u001b[43m,\u001b[49m\u001b[43m \u001b[49m\u001b[38;5;28;43mtype\u001b[39;49m\u001b[43m,\u001b[49m\u001b[43m \u001b[49m\u001b[43mproto\u001b[49m\u001b[43m,\u001b[49m\u001b[43m \u001b[49m\u001b[43mflags\u001b[49m\u001b[43m)\u001b[49m:\n\u001b[32m    976\u001b[39m     af, socktype, proto, canonname, sa = res\n",
      "\u001b[31mgaierror\u001b[39m: [Errno 8] nodename nor servname provided, or not known",
      "\nThe above exception was the direct cause of the following exception:\n",
      "\u001b[31mNameResolutionError\u001b[39m                       Traceback (most recent call last)",
      "\u001b[36mFile \u001b[39m\u001b[32m~/Code/bmad-dev/rustybt/.venv/lib/python3.13/site-packages/urllib3/connectionpool.py:787\u001b[39m, in \u001b[36mHTTPConnectionPool.urlopen\u001b[39m\u001b[34m(self, method, url, body, headers, retries, redirect, assert_same_host, timeout, pool_timeout, release_conn, chunked, body_pos, preload_content, decode_content, **response_kw)\u001b[39m\n\u001b[32m    786\u001b[39m \u001b[38;5;66;03m# Make the request on the HTTPConnection object\u001b[39;00m\n\u001b[32m--> \u001b[39m\u001b[32m787\u001b[39m response = \u001b[38;5;28;43mself\u001b[39;49m\u001b[43m.\u001b[49m\u001b[43m_make_request\u001b[49m\u001b[43m(\u001b[49m\n\u001b[32m    788\u001b[39m \u001b[43m    \u001b[49m\u001b[43mconn\u001b[49m\u001b[43m,\u001b[49m\n\u001b[32m    789\u001b[39m \u001b[43m    \u001b[49m\u001b[43mmethod\u001b[49m\u001b[43m,\u001b[49m\n\u001b[32m    790\u001b[39m \u001b[43m    \u001b[49m\u001b[43murl\u001b[49m\u001b[43m,\u001b[49m\n\u001b[32m    791\u001b[39m \u001b[43m    \u001b[49m\u001b[43mtimeout\u001b[49m\u001b[43m=\u001b[49m\u001b[43mtimeout_obj\u001b[49m\u001b[43m,\u001b[49m\n\u001b[32m    792\u001b[39m \u001b[43m    \u001b[49m\u001b[43mbody\u001b[49m\u001b[43m=\u001b[49m\u001b[43mbody\u001b[49m\u001b[43m,\u001b[49m\n\u001b[32m    793\u001b[39m \u001b[43m    \u001b[49m\u001b[43mheaders\u001b[49m\u001b[43m=\u001b[49m\u001b[43mheaders\u001b[49m\u001b[43m,\u001b[49m\n\u001b[32m    794\u001b[39m \u001b[43m    \u001b[49m\u001b[43mchunked\u001b[49m\u001b[43m=\u001b[49m\u001b[43mchunked\u001b[49m\u001b[43m,\u001b[49m\n\u001b[32m    795\u001b[39m \u001b[43m    \u001b[49m\u001b[43mretries\u001b[49m\u001b[43m=\u001b[49m\u001b[43mretries\u001b[49m\u001b[43m,\u001b[49m\n\u001b[32m    796\u001b[39m \u001b[43m    \u001b[49m\u001b[43mresponse_conn\u001b[49m\u001b[43m=\u001b[49m\u001b[43mresponse_conn\u001b[49m\u001b[43m,\u001b[49m\n\u001b[32m    797\u001b[39m \u001b[43m    \u001b[49m\u001b[43mpreload_content\u001b[49m\u001b[43m=\u001b[49m\u001b[43mpreload_content\u001b[49m\u001b[43m,\u001b[49m\n\u001b[32m    798\u001b[39m \u001b[43m    \u001b[49m\u001b[43mdecode_content\u001b[49m\u001b[43m=\u001b[49m\u001b[43mdecode_content\u001b[49m\u001b[43m,\u001b[49m\n\u001b[32m    799\u001b[39m \u001b[43m    \u001b[49m\u001b[43m*\u001b[49m\u001b[43m*\u001b[49m\u001b[43mresponse_kw\u001b[49m\u001b[43m,\u001b[49m\n\u001b[32m    800\u001b[39m \u001b[43m\u001b[49m\u001b[43m)\u001b[49m\n\u001b[32m    802\u001b[39m \u001b[38;5;66;03m# Everything went great!\u001b[39;00m\n",
      "\u001b[36mFile \u001b[39m\u001b[32m~/Code/bmad-dev/rustybt/.venv/lib/python3.13/site-packages/urllib3/connectionpool.py:488\u001b[39m, in \u001b[36mHTTPConnectionPool._make_request\u001b[39m\u001b[34m(self, conn, method, url, body, headers, retries, timeout, chunked, response_conn, preload_content, decode_content, enforce_content_length)\u001b[39m\n\u001b[32m    487\u001b[39m         new_e = _wrap_proxy_error(new_e, conn.proxy.scheme)\n\u001b[32m--> \u001b[39m\u001b[32m488\u001b[39m     \u001b[38;5;28;01mraise\u001b[39;00m new_e\n\u001b[32m    490\u001b[39m \u001b[38;5;66;03m# conn.request() calls http.client.*.request, not the method in\u001b[39;00m\n\u001b[32m    491\u001b[39m \u001b[38;5;66;03m# urllib3.request. It also calls makefile (recv) on the socket.\u001b[39;00m\n",
      "\u001b[36mFile \u001b[39m\u001b[32m~/Code/bmad-dev/rustybt/.venv/lib/python3.13/site-packages/urllib3/connectionpool.py:464\u001b[39m, in \u001b[36mHTTPConnectionPool._make_request\u001b[39m\u001b[34m(self, conn, method, url, body, headers, retries, timeout, chunked, response_conn, preload_content, decode_content, enforce_content_length)\u001b[39m\n\u001b[32m    463\u001b[39m \u001b[38;5;28;01mtry\u001b[39;00m:\n\u001b[32m--> \u001b[39m\u001b[32m464\u001b[39m     \u001b[38;5;28;43mself\u001b[39;49m\u001b[43m.\u001b[49m\u001b[43m_validate_conn\u001b[49m\u001b[43m(\u001b[49m\u001b[43mconn\u001b[49m\u001b[43m)\u001b[49m\n\u001b[32m    465\u001b[39m \u001b[38;5;28;01mexcept\u001b[39;00m (SocketTimeout, BaseSSLError) \u001b[38;5;28;01mas\u001b[39;00m e:\n",
      "\u001b[36mFile \u001b[39m\u001b[32m~/Code/bmad-dev/rustybt/.venv/lib/python3.13/site-packages/urllib3/connectionpool.py:1093\u001b[39m, in \u001b[36mHTTPSConnectionPool._validate_conn\u001b[39m\u001b[34m(self, conn)\u001b[39m\n\u001b[32m   1092\u001b[39m \u001b[38;5;28;01mif\u001b[39;00m conn.is_closed:\n\u001b[32m-> \u001b[39m\u001b[32m1093\u001b[39m     \u001b[43mconn\u001b[49m\u001b[43m.\u001b[49m\u001b[43mconnect\u001b[49m\u001b[43m(\u001b[49m\u001b[43m)\u001b[49m\n\u001b[32m   1095\u001b[39m \u001b[38;5;66;03m# TODO revise this, see https://github.com/urllib3/urllib3/issues/2791\u001b[39;00m\n",
      "\u001b[36mFile \u001b[39m\u001b[32m~/Code/bmad-dev/rustybt/.venv/lib/python3.13/site-packages/urllib3/connection.py:753\u001b[39m, in \u001b[36mHTTPSConnection.connect\u001b[39m\u001b[34m(self)\u001b[39m\n\u001b[32m    752\u001b[39m sock: socket.socket | ssl.SSLSocket\n\u001b[32m--> \u001b[39m\u001b[32m753\u001b[39m \u001b[38;5;28mself\u001b[39m.sock = sock = \u001b[38;5;28;43mself\u001b[39;49m\u001b[43m.\u001b[49m\u001b[43m_new_conn\u001b[49m\u001b[43m(\u001b[49m\u001b[43m)\u001b[49m\n\u001b[32m    754\u001b[39m server_hostname: \u001b[38;5;28mstr\u001b[39m = \u001b[38;5;28mself\u001b[39m.host\n",
      "\u001b[36mFile \u001b[39m\u001b[32m~/Code/bmad-dev/rustybt/.venv/lib/python3.13/site-packages/urllib3/connection.py:205\u001b[39m, in \u001b[36mHTTPConnection._new_conn\u001b[39m\u001b[34m(self)\u001b[39m\n\u001b[32m    204\u001b[39m \u001b[38;5;28;01mexcept\u001b[39;00m socket.gaierror \u001b[38;5;28;01mas\u001b[39;00m e:\n\u001b[32m--> \u001b[39m\u001b[32m205\u001b[39m     \u001b[38;5;28;01mraise\u001b[39;00m NameResolutionError(\u001b[38;5;28mself\u001b[39m.host, \u001b[38;5;28mself\u001b[39m, e) \u001b[38;5;28;01mfrom\u001b[39;00m\u001b[38;5;250m \u001b[39m\u001b[34;01me\u001b[39;00m\n\u001b[32m    206\u001b[39m \u001b[38;5;28;01mexcept\u001b[39;00m SocketTimeout \u001b[38;5;28;01mas\u001b[39;00m e:\n",
      "\u001b[31mNameResolutionError\u001b[39m: <urllib3.connection.HTTPSConnection object at 0x12ae55590>: Failed to resolve 'api.binance.com' ([Errno 8] nodename nor servname provided, or not known)",
      "\nThe above exception was the direct cause of the following exception:\n",
      "\u001b[31mMaxRetryError\u001b[39m                             Traceback (most recent call last)",
      "\u001b[36mFile \u001b[39m\u001b[32m~/Code/bmad-dev/rustybt/.venv/lib/python3.13/site-packages/requests/adapters.py:644\u001b[39m, in \u001b[36mHTTPAdapter.send\u001b[39m\u001b[34m(self, request, stream, timeout, verify, cert, proxies)\u001b[39m\n\u001b[32m    643\u001b[39m \u001b[38;5;28;01mtry\u001b[39;00m:\n\u001b[32m--> \u001b[39m\u001b[32m644\u001b[39m     resp = \u001b[43mconn\u001b[49m\u001b[43m.\u001b[49m\u001b[43murlopen\u001b[49m\u001b[43m(\u001b[49m\n\u001b[32m    645\u001b[39m \u001b[43m        \u001b[49m\u001b[43mmethod\u001b[49m\u001b[43m=\u001b[49m\u001b[43mrequest\u001b[49m\u001b[43m.\u001b[49m\u001b[43mmethod\u001b[49m\u001b[43m,\u001b[49m\n\u001b[32m    646\u001b[39m \u001b[43m        \u001b[49m\u001b[43murl\u001b[49m\u001b[43m=\u001b[49m\u001b[43murl\u001b[49m\u001b[43m,\u001b[49m\n\u001b[32m    647\u001b[39m \u001b[43m        \u001b[49m\u001b[43mbody\u001b[49m\u001b[43m=\u001b[49m\u001b[43mrequest\u001b[49m\u001b[43m.\u001b[49m\u001b[43mbody\u001b[49m\u001b[43m,\u001b[49m\n\u001b[32m    648\u001b[39m \u001b[43m        \u001b[49m\u001b[43mheaders\u001b[49m\u001b[43m=\u001b[49m\u001b[43mrequest\u001b[49m\u001b[43m.\u001b[49m\u001b[43mheaders\u001b[49m\u001b[43m,\u001b[49m\n\u001b[32m    649\u001b[39m \u001b[43m        \u001b[49m\u001b[43mredirect\u001b[49m\u001b[43m=\u001b[49m\u001b[38;5;28;43;01mFalse\u001b[39;49;00m\u001b[43m,\u001b[49m\n\u001b[32m    650\u001b[39m \u001b[43m        \u001b[49m\u001b[43massert_same_host\u001b[49m\u001b[43m=\u001b[49m\u001b[38;5;28;43;01mFalse\u001b[39;49;00m\u001b[43m,\u001b[49m\n\u001b[32m    651\u001b[39m \u001b[43m        \u001b[49m\u001b[43mpreload_content\u001b[49m\u001b[43m=\u001b[49m\u001b[38;5;28;43;01mFalse\u001b[39;49;00m\u001b[43m,\u001b[49m\n\u001b[32m    652\u001b[39m \u001b[43m        \u001b[49m\u001b[43mdecode_content\u001b[49m\u001b[43m=\u001b[49m\u001b[38;5;28;43;01mFalse\u001b[39;49;00m\u001b[43m,\u001b[49m\n\u001b[32m    653\u001b[39m \u001b[43m        \u001b[49m\u001b[43mretries\u001b[49m\u001b[43m=\u001b[49m\u001b[38;5;28;43mself\u001b[39;49m\u001b[43m.\u001b[49m\u001b[43mmax_retries\u001b[49m\u001b[43m,\u001b[49m\n\u001b[32m    654\u001b[39m \u001b[43m        \u001b[49m\u001b[43mtimeout\u001b[49m\u001b[43m=\u001b[49m\u001b[43mtimeout\u001b[49m\u001b[43m,\u001b[49m\n\u001b[32m    655\u001b[39m \u001b[43m        \u001b[49m\u001b[43mchunked\u001b[49m\u001b[43m=\u001b[49m\u001b[43mchunked\u001b[49m\u001b[43m,\u001b[49m\n\u001b[32m    656\u001b[39m \u001b[43m    \u001b[49m\u001b[43m)\u001b[49m\n\u001b[32m    658\u001b[39m \u001b[38;5;28;01mexcept\u001b[39;00m (ProtocolError, \u001b[38;5;167;01mOSError\u001b[39;00m) \u001b[38;5;28;01mas\u001b[39;00m err:\n",
      "\u001b[36mFile \u001b[39m\u001b[32m~/Code/bmad-dev/rustybt/.venv/lib/python3.13/site-packages/urllib3/connectionpool.py:841\u001b[39m, in \u001b[36mHTTPConnectionPool.urlopen\u001b[39m\u001b[34m(self, method, url, body, headers, retries, redirect, assert_same_host, timeout, pool_timeout, release_conn, chunked, body_pos, preload_content, decode_content, **response_kw)\u001b[39m\n\u001b[32m    839\u001b[39m     new_e = ProtocolError(\u001b[33m\"\u001b[39m\u001b[33mConnection aborted.\u001b[39m\u001b[33m\"\u001b[39m, new_e)\n\u001b[32m--> \u001b[39m\u001b[32m841\u001b[39m retries = \u001b[43mretries\u001b[49m\u001b[43m.\u001b[49m\u001b[43mincrement\u001b[49m\u001b[43m(\u001b[49m\n\u001b[32m    842\u001b[39m \u001b[43m    \u001b[49m\u001b[43mmethod\u001b[49m\u001b[43m,\u001b[49m\u001b[43m \u001b[49m\u001b[43murl\u001b[49m\u001b[43m,\u001b[49m\u001b[43m \u001b[49m\u001b[43merror\u001b[49m\u001b[43m=\u001b[49m\u001b[43mnew_e\u001b[49m\u001b[43m,\u001b[49m\u001b[43m \u001b[49m\u001b[43m_pool\u001b[49m\u001b[43m=\u001b[49m\u001b[38;5;28;43mself\u001b[39;49m\u001b[43m,\u001b[49m\u001b[43m \u001b[49m\u001b[43m_stacktrace\u001b[49m\u001b[43m=\u001b[49m\u001b[43msys\u001b[49m\u001b[43m.\u001b[49m\u001b[43mexc_info\u001b[49m\u001b[43m(\u001b[49m\u001b[43m)\u001b[49m\u001b[43m[\u001b[49m\u001b[32;43m2\u001b[39;49m\u001b[43m]\u001b[49m\n\u001b[32m    843\u001b[39m \u001b[43m\u001b[49m\u001b[43m)\u001b[49m\n\u001b[32m    844\u001b[39m retries.sleep()\n",
      "\u001b[36mFile \u001b[39m\u001b[32m~/Code/bmad-dev/rustybt/.venv/lib/python3.13/site-packages/urllib3/util/retry.py:519\u001b[39m, in \u001b[36mRetry.increment\u001b[39m\u001b[34m(self, method, url, response, error, _pool, _stacktrace)\u001b[39m\n\u001b[32m    518\u001b[39m     reason = error \u001b[38;5;129;01mor\u001b[39;00m ResponseError(cause)\n\u001b[32m--> \u001b[39m\u001b[32m519\u001b[39m     \u001b[38;5;28;01mraise\u001b[39;00m MaxRetryError(_pool, url, reason) \u001b[38;5;28;01mfrom\u001b[39;00m\u001b[38;5;250m \u001b[39m\u001b[34;01mreason\u001b[39;00m  \u001b[38;5;66;03m# type: ignore[arg-type]\u001b[39;00m\n\u001b[32m    521\u001b[39m log.debug(\u001b[33m\"\u001b[39m\u001b[33mIncremented Retry for (url=\u001b[39m\u001b[33m'\u001b[39m\u001b[38;5;132;01m%s\u001b[39;00m\u001b[33m'\u001b[39m\u001b[33m): \u001b[39m\u001b[38;5;132;01m%r\u001b[39;00m\u001b[33m\"\u001b[39m, url, new_retry)\n",
      "\u001b[31mMaxRetryError\u001b[39m: HTTPSConnectionPool(host='api.binance.com', port=443): Max retries exceeded with url: /api/v3/exchangeInfo (Caused by NameResolutionError(\"<urllib3.connection.HTTPSConnection object at 0x12ae55590>: Failed to resolve 'api.binance.com' ([Errno 8] nodename nor servname provided, or not known)\"))",
      "\nDuring handling of the above exception, another exception occurred:\n",
      "\u001b[31mConnectionError\u001b[39m                           Traceback (most recent call last)",
      "\u001b[36mFile \u001b[39m\u001b[32m~/Code/bmad-dev/rustybt/.venv/lib/python3.13/site-packages/ccxt/base/exchange.py:556\u001b[39m, in \u001b[36mExchange.fetch\u001b[39m\u001b[34m(self, url, method, headers, body)\u001b[39m\n\u001b[32m    555\u001b[39m \u001b[38;5;28;01mtry\u001b[39;00m:\n\u001b[32m--> \u001b[39m\u001b[32m556\u001b[39m     response = \u001b[38;5;28;43mself\u001b[39;49m\u001b[43m.\u001b[49m\u001b[43msession\u001b[49m\u001b[43m.\u001b[49m\u001b[43mrequest\u001b[49m\u001b[43m(\u001b[49m\n\u001b[32m    557\u001b[39m \u001b[43m        \u001b[49m\u001b[43mmethod\u001b[49m\u001b[43m,\u001b[49m\n\u001b[32m    558\u001b[39m \u001b[43m        \u001b[49m\u001b[43murl\u001b[49m\u001b[43m,\u001b[49m\n\u001b[32m    559\u001b[39m \u001b[43m        \u001b[49m\u001b[43mdata\u001b[49m\u001b[43m=\u001b[49m\u001b[43mbody\u001b[49m\u001b[43m,\u001b[49m\n\u001b[32m    560\u001b[39m \u001b[43m        \u001b[49m\u001b[43mheaders\u001b[49m\u001b[43m=\u001b[49m\u001b[43mrequest_headers\u001b[49m\u001b[43m,\u001b[49m\n\u001b[32m    561\u001b[39m \u001b[43m        \u001b[49m\u001b[43mtimeout\u001b[49m\u001b[43m=\u001b[49m\u001b[43m(\u001b[49m\u001b[38;5;28;43mself\u001b[39;49m\u001b[43m.\u001b[49m\u001b[43mtimeout\u001b[49m\u001b[43m \u001b[49m\u001b[43m/\u001b[49m\u001b[43m \u001b[49m\u001b[32;43m1000\u001b[39;49m\u001b[43m)\u001b[49m\u001b[43m,\u001b[49m\n\u001b[32m    562\u001b[39m \u001b[43m        \u001b[49m\u001b[43mproxies\u001b[49m\u001b[43m=\u001b[49m\u001b[43mproxies\u001b[49m\u001b[43m,\u001b[49m\n\u001b[32m    563\u001b[39m \u001b[43m        \u001b[49m\u001b[43mverify\u001b[49m\u001b[43m=\u001b[49m\u001b[38;5;28;43mself\u001b[39;49m\u001b[43m.\u001b[49m\u001b[43mverify\u001b[49m\u001b[43m \u001b[49m\u001b[38;5;129;43;01mand\u001b[39;49;00m\u001b[43m \u001b[49m\u001b[38;5;28;43mself\u001b[39;49m\u001b[43m.\u001b[49m\u001b[43mvalidateServerSsl\u001b[49m\n\u001b[32m    564\u001b[39m \u001b[43m    \u001b[49m\u001b[43m)\u001b[49m\n\u001b[32m    565\u001b[39m     \u001b[38;5;66;03m# does not try to detect encoding\u001b[39;00m\n",
      "\u001b[36mFile \u001b[39m\u001b[32m~/Code/bmad-dev/rustybt/.venv/lib/python3.13/site-packages/requests/sessions.py:589\u001b[39m, in \u001b[36mSession.request\u001b[39m\u001b[34m(self, method, url, params, data, headers, cookies, files, auth, timeout, allow_redirects, proxies, hooks, stream, verify, cert, json)\u001b[39m\n\u001b[32m    588\u001b[39m send_kwargs.update(settings)\n\u001b[32m--> \u001b[39m\u001b[32m589\u001b[39m resp = \u001b[38;5;28;43mself\u001b[39;49m\u001b[43m.\u001b[49m\u001b[43msend\u001b[49m\u001b[43m(\u001b[49m\u001b[43mprep\u001b[49m\u001b[43m,\u001b[49m\u001b[43m \u001b[49m\u001b[43m*\u001b[49m\u001b[43m*\u001b[49m\u001b[43msend_kwargs\u001b[49m\u001b[43m)\u001b[49m\n\u001b[32m    591\u001b[39m \u001b[38;5;28;01mreturn\u001b[39;00m resp\n",
      "\u001b[36mFile \u001b[39m\u001b[32m~/Code/bmad-dev/rustybt/.venv/lib/python3.13/site-packages/requests/sessions.py:703\u001b[39m, in \u001b[36mSession.send\u001b[39m\u001b[34m(self, request, **kwargs)\u001b[39m\n\u001b[32m    702\u001b[39m \u001b[38;5;66;03m# Send the request\u001b[39;00m\n\u001b[32m--> \u001b[39m\u001b[32m703\u001b[39m r = \u001b[43madapter\u001b[49m\u001b[43m.\u001b[49m\u001b[43msend\u001b[49m\u001b[43m(\u001b[49m\u001b[43mrequest\u001b[49m\u001b[43m,\u001b[49m\u001b[43m \u001b[49m\u001b[43m*\u001b[49m\u001b[43m*\u001b[49m\u001b[43mkwargs\u001b[49m\u001b[43m)\u001b[49m\n\u001b[32m    705\u001b[39m \u001b[38;5;66;03m# Total elapsed time of the request (approximately)\u001b[39;00m\n",
      "\u001b[36mFile \u001b[39m\u001b[32m~/Code/bmad-dev/rustybt/.venv/lib/python3.13/site-packages/requests/adapters.py:677\u001b[39m, in \u001b[36mHTTPAdapter.send\u001b[39m\u001b[34m(self, request, stream, timeout, verify, cert, proxies)\u001b[39m\n\u001b[32m    675\u001b[39m         \u001b[38;5;28;01mraise\u001b[39;00m SSLError(e, request=request)\n\u001b[32m--> \u001b[39m\u001b[32m677\u001b[39m     \u001b[38;5;28;01mraise\u001b[39;00m \u001b[38;5;167;01mConnectionError\u001b[39;00m(e, request=request)\n\u001b[32m    679\u001b[39m \u001b[38;5;28;01mexcept\u001b[39;00m ClosedPoolError \u001b[38;5;28;01mas\u001b[39;00m e:\n",
      "\u001b[31mConnectionError\u001b[39m: HTTPSConnectionPool(host='api.binance.com', port=443): Max retries exceeded with url: /api/v3/exchangeInfo (Caused by NameResolutionError(\"<urllib3.connection.HTTPSConnection object at 0x12ae55590>: Failed to resolve 'api.binance.com' ([Errno 8] nodename nor servname provided, or not known)\"))",
      "\nThe above exception was the direct cause of the following exception:\n",
      "\u001b[31mNetworkError\u001b[39m                              Traceback (most recent call last)",
      "\u001b[36mFile \u001b[39m\u001b[32m~/Code/bmad-dev/rustybt/rustybt/data/adapters/ccxt_adapter.py:199\u001b[39m, in \u001b[36mCCXTAdapter.fetch\u001b[39m\u001b[34m(self, symbols, start_date, end_date, resolution)\u001b[39m\n\u001b[32m    198\u001b[39m \u001b[38;5;28;01mtry\u001b[39;00m:\n\u001b[32m--> \u001b[39m\u001b[32m199\u001b[39m     \u001b[38;5;28;43mself\u001b[39;49m\u001b[43m.\u001b[49m\u001b[43mexchange\u001b[49m\u001b[43m.\u001b[49m\u001b[43mload_markets\u001b[49m\u001b[43m(\u001b[49m\u001b[43m)\u001b[49m\n\u001b[32m    200\u001b[39m \u001b[38;5;28;01mexcept\u001b[39;00m \u001b[38;5;167;01mException\u001b[39;00m \u001b[38;5;28;01mas\u001b[39;00m e:\n",
      "\u001b[36mFile \u001b[39m\u001b[32m~/Code/bmad-dev/rustybt/.venv/lib/python3.13/site-packages/ccxt/base/exchange.py:1569\u001b[39m, in \u001b[36mExchange.load_markets\u001b[39m\u001b[34m(self, reload, params)\u001b[39m\n\u001b[32m   1568\u001b[39m     \u001b[38;5;28mself\u001b[39m.options[\u001b[33m'\u001b[39m\u001b[33mcachedCurrencies\u001b[39m\u001b[33m'\u001b[39m] = currencies\n\u001b[32m-> \u001b[39m\u001b[32m1569\u001b[39m markets = \u001b[38;5;28;43mself\u001b[39;49m\u001b[43m.\u001b[49m\u001b[43mfetch_markets\u001b[49m\u001b[43m(\u001b[49m\u001b[43mparams\u001b[49m\u001b[43m)\u001b[49m\n\u001b[32m   1570\u001b[39m \u001b[38;5;28;01mif\u001b[39;00m \u001b[33m'\u001b[39m\u001b[33mcachedCurrencies\u001b[39m\u001b[33m'\u001b[39m \u001b[38;5;129;01min\u001b[39;00m \u001b[38;5;28mself\u001b[39m.options:\n",
      "\u001b[36mFile \u001b[39m\u001b[32m~/Code/bmad-dev/rustybt/.venv/lib/python3.13/site-packages/ccxt/binance.py:3090\u001b[39m, in \u001b[36mbinance.fetch_markets\u001b[39m\u001b[34m(self, params)\u001b[39m\n\u001b[32m   3089\u001b[39m \u001b[38;5;28;01mif\u001b[39;00m marketType == \u001b[33m'\u001b[39m\u001b[33mspot\u001b[39m\u001b[33m'\u001b[39m:\n\u001b[32m-> \u001b[39m\u001b[32m3090\u001b[39m     promisesRaw.append(\u001b[38;5;28;43mself\u001b[39;49m\u001b[43m.\u001b[49m\u001b[43mpublicGetExchangeInfo\u001b[49m\u001b[43m(\u001b[49m\u001b[43mparams\u001b[49m\u001b[43m)\u001b[49m)\n\u001b[32m   3091\u001b[39m     \u001b[38;5;28;01mif\u001b[39;00m fetchMargins \u001b[38;5;129;01mand\u001b[39;00m \u001b[38;5;28mself\u001b[39m.check_required_credentials(\u001b[38;5;28;01mFalse\u001b[39;00m) \u001b[38;5;129;01mand\u001b[39;00m \u001b[38;5;129;01mnot\u001b[39;00m isDemoEnv:\n",
      "\u001b[36mFile \u001b[39m\u001b[32m~/Code/bmad-dev/rustybt/.venv/lib/python3.13/site-packages/ccxt/base/types.py:35\u001b[39m, in \u001b[36mEntry.__init__.<locals>.unbound_method\u001b[39m\u001b[34m(_self, params)\u001b[39m\n\u001b[32m     34\u001b[39m \u001b[38;5;28;01mdef\u001b[39;00m\u001b[38;5;250m \u001b[39m\u001b[34munbound_method\u001b[39m(_self, params={}):\n\u001b[32m---> \u001b[39m\u001b[32m35\u001b[39m     \u001b[38;5;28;01mreturn\u001b[39;00m \u001b[43m_self\u001b[49m\u001b[43m.\u001b[49m\u001b[43mrequest\u001b[49m\u001b[43m(\u001b[49m\u001b[38;5;28;43mself\u001b[39;49m\u001b[43m.\u001b[49m\u001b[43mpath\u001b[49m\u001b[43m,\u001b[49m\u001b[43m \u001b[49m\u001b[38;5;28;43mself\u001b[39;49m\u001b[43m.\u001b[49m\u001b[43mapi\u001b[49m\u001b[43m,\u001b[49m\u001b[43m \u001b[49m\u001b[38;5;28;43mself\u001b[39;49m\u001b[43m.\u001b[49m\u001b[43mmethod\u001b[49m\u001b[43m,\u001b[49m\u001b[43m \u001b[49m\u001b[43mparams\u001b[49m\u001b[43m,\u001b[49m\u001b[43m \u001b[49m\u001b[43mconfig\u001b[49m\u001b[43m=\u001b[49m\u001b[38;5;28;43mself\u001b[39;49m\u001b[43m.\u001b[49m\u001b[43mconfig\u001b[49m\u001b[43m)\u001b[49m\n",
      "\u001b[36mFile \u001b[39m\u001b[32m~/Code/bmad-dev/rustybt/.venv/lib/python3.13/site-packages/ccxt/binance.py:11451\u001b[39m, in \u001b[36mbinance.request\u001b[39m\u001b[34m(self, path, api, method, params, headers, body, config)\u001b[39m\n\u001b[32m  11450\u001b[39m \u001b[38;5;28;01mdef\u001b[39;00m\u001b[38;5;250m \u001b[39m\u001b[34mrequest\u001b[39m(\u001b[38;5;28mself\u001b[39m, path, api=\u001b[33m'\u001b[39m\u001b[33mpublic\u001b[39m\u001b[33m'\u001b[39m, method=\u001b[33m'\u001b[39m\u001b[33mGET\u001b[39m\u001b[33m'\u001b[39m, params={}, headers=\u001b[38;5;28;01mNone\u001b[39;00m, body=\u001b[38;5;28;01mNone\u001b[39;00m, config={}):\n\u001b[32m> \u001b[39m\u001b[32m11451\u001b[39m     response = \u001b[38;5;28;43mself\u001b[39;49m\u001b[43m.\u001b[49m\u001b[43mfetch2\u001b[49m\u001b[43m(\u001b[49m\u001b[43mpath\u001b[49m\u001b[43m,\u001b[49m\u001b[43m \u001b[49m\u001b[43mapi\u001b[49m\u001b[43m,\u001b[49m\u001b[43m \u001b[49m\u001b[43mmethod\u001b[49m\u001b[43m,\u001b[49m\u001b[43m \u001b[49m\u001b[43mparams\u001b[49m\u001b[43m,\u001b[49m\u001b[43m \u001b[49m\u001b[43mheaders\u001b[49m\u001b[43m,\u001b[49m\u001b[43m \u001b[49m\u001b[43mbody\u001b[49m\u001b[43m,\u001b[49m\u001b[43m \u001b[49m\u001b[43mconfig\u001b[49m\u001b[43m)\u001b[49m\n\u001b[32m  11452\u001b[39m     \u001b[38;5;66;03m# a workaround for {\"code\":-2015,\"msg\":\"Invalid API-key, IP, or permissions for action.\"}\u001b[39;00m\n",
      "\u001b[36mFile \u001b[39m\u001b[32m~/Code/bmad-dev/rustybt/.venv/lib/python3.13/site-packages/ccxt/base/exchange.py:4710\u001b[39m, in \u001b[36mExchange.fetch2\u001b[39m\u001b[34m(self, path, api, method, params, headers, body, config)\u001b[39m\n\u001b[32m   4709\u001b[39m     \u001b[38;5;28;01melse\u001b[39;00m:\n\u001b[32m-> \u001b[39m\u001b[32m4710\u001b[39m         \u001b[38;5;28;01mraise\u001b[39;00m e\n\u001b[32m   4711\u001b[39m \u001b[38;5;28;01melse\u001b[39;00m:\n",
      "\u001b[36mFile \u001b[39m\u001b[32m~/Code/bmad-dev/rustybt/.venv/lib/python3.13/site-packages/ccxt/base/exchange.py:4701\u001b[39m, in \u001b[36mExchange.fetch2\u001b[39m\u001b[34m(self, path, api, method, params, headers, body, config)\u001b[39m\n\u001b[32m   4700\u001b[39m \u001b[38;5;28;01mtry\u001b[39;00m:\n\u001b[32m-> \u001b[39m\u001b[32m4701\u001b[39m     \u001b[38;5;28;01mreturn\u001b[39;00m \u001b[38;5;28;43mself\u001b[39;49m\u001b[43m.\u001b[49m\u001b[43mfetch\u001b[49m\u001b[43m(\u001b[49m\u001b[43mrequest\u001b[49m\u001b[43m[\u001b[49m\u001b[33;43m'\u001b[39;49m\u001b[33;43murl\u001b[39;49m\u001b[33;43m'\u001b[39;49m\u001b[43m]\u001b[49m\u001b[43m,\u001b[49m\u001b[43m \u001b[49m\u001b[43mrequest\u001b[49m\u001b[43m[\u001b[49m\u001b[33;43m'\u001b[39;49m\u001b[33;43mmethod\u001b[39;49m\u001b[33;43m'\u001b[39;49m\u001b[43m]\u001b[49m\u001b[43m,\u001b[49m\u001b[43m \u001b[49m\u001b[43mrequest\u001b[49m\u001b[43m[\u001b[49m\u001b[33;43m'\u001b[39;49m\u001b[33;43mheaders\u001b[39;49m\u001b[33;43m'\u001b[39;49m\u001b[43m]\u001b[49m\u001b[43m,\u001b[49m\u001b[43m \u001b[49m\u001b[43mrequest\u001b[49m\u001b[43m[\u001b[49m\u001b[33;43m'\u001b[39;49m\u001b[33;43mbody\u001b[39;49m\u001b[33;43m'\u001b[39;49m\u001b[43m]\u001b[49m\u001b[43m)\u001b[49m\n\u001b[32m   4702\u001b[39m \u001b[38;5;28;01mexcept\u001b[39;00m \u001b[38;5;167;01mException\u001b[39;00m \u001b[38;5;28;01mas\u001b[39;00m e:\n",
      "\u001b[36mFile \u001b[39m\u001b[32m~/Code/bmad-dev/rustybt/.venv/lib/python3.13/site-packages/ccxt/base/exchange.py:611\u001b[39m, in \u001b[36mExchange.fetch\u001b[39m\u001b[34m(self, url, method, headers, body)\u001b[39m\n\u001b[32m    610\u001b[39m     \u001b[38;5;28;01melse\u001b[39;00m:\n\u001b[32m--> \u001b[39m\u001b[32m611\u001b[39m         \u001b[38;5;28;01mraise\u001b[39;00m NetworkError(details) \u001b[38;5;28;01mfrom\u001b[39;00m\u001b[38;5;250m \u001b[39m\u001b[34;01me\u001b[39;00m\n\u001b[32m    613\u001b[39m \u001b[38;5;28;01mexcept\u001b[39;00m \u001b[38;5;167;01mConnectionResetError\u001b[39;00m \u001b[38;5;28;01mas\u001b[39;00m e:\n",
      "\u001b[31mNetworkError\u001b[39m: binance GET https://api.binance.com/api/v3/exchangeInfo",
      "\nThe above exception was the direct cause of the following exception:\n",
      "\u001b[31mNetworkError\u001b[39m                              Traceback (most recent call last)",
      "\u001b[36mCell\u001b[39m\u001b[36m \u001b[39m\u001b[32mIn[4]\u001b[39m\u001b[32m, line 10\u001b[39m\n\u001b[32m      8\u001b[39m crypto_data = []\n\u001b[32m      9\u001b[39m \u001b[38;5;28;01mfor\u001b[39;00m symbol \u001b[38;5;129;01min\u001b[39;00m crypto_symbols:\n\u001b[32m---> \u001b[39m\u001b[32m10\u001b[39m     data = \u001b[38;5;28;01mawait\u001b[39;00m binance.fetch(\n\u001b[32m     11\u001b[39m         symbols=[symbol],\n\u001b[32m     12\u001b[39m         start_date=pd.Timestamp(\u001b[33m\"\u001b[39m\u001b[33m2024-01-01\u001b[39m\u001b[33m\"\u001b[39m),\n\u001b[32m     13\u001b[39m         end_date=pd.Timestamp(\u001b[33m\"\u001b[39m\u001b[33m2024-01-31\u001b[39m\u001b[33m\"\u001b[39m),\n\u001b[32m     14\u001b[39m         resolution=\u001b[33m\"\u001b[39m\u001b[33m1h\u001b[39m\u001b[33m\"\u001b[39m,  \u001b[38;5;66;03m# Hourly data\u001b[39;00m\n\u001b[32m     15\u001b[39m     )\n\u001b[32m     16\u001b[39m     crypto_data.append(data)\n\u001b[32m     18\u001b[39m crypto_combined = pl.concat(crypto_data)\n",
      "\u001b[36mFile \u001b[39m\u001b[32m~/Code/bmad-dev/rustybt/rustybt/data/adapters/ccxt_adapter.py:201\u001b[39m, in \u001b[36mCCXTAdapter.fetch\u001b[39m\u001b[34m(self, symbols, start_date, end_date, resolution)\u001b[39m\n\u001b[32m    199\u001b[39m         \u001b[38;5;28mself\u001b[39m.exchange.load_markets()\n\u001b[32m    200\u001b[39m     \u001b[38;5;28;01mexcept\u001b[39;00m \u001b[38;5;167;01mException\u001b[39;00m \u001b[38;5;28;01mas\u001b[39;00m e:\n\u001b[32m--> \u001b[39m\u001b[32m201\u001b[39m         \u001b[38;5;28;01mraise\u001b[39;00m NetworkError(\n\u001b[32m    202\u001b[39m             \u001b[33mf\u001b[39m\u001b[33m\"\u001b[39m\u001b[33mFailed to load markets from \u001b[39m\u001b[38;5;132;01m{\u001b[39;00m\u001b[38;5;28mself\u001b[39m.exchange_id\u001b[38;5;132;01m}\u001b[39;00m\u001b[33m: \u001b[39m\u001b[38;5;132;01m{\u001b[39;00me\u001b[38;5;132;01m}\u001b[39;00m\u001b[33m\"\u001b[39m\n\u001b[32m    203\u001b[39m         ) \u001b[38;5;28;01mfrom\u001b[39;00m\u001b[38;5;250m \u001b[39m\u001b[34;01me\u001b[39;00m\n\u001b[32m    205\u001b[39m \u001b[38;5;28;01mif\u001b[39;00m normalized_symbol \u001b[38;5;129;01mnot\u001b[39;00m \u001b[38;5;129;01min\u001b[39;00m \u001b[38;5;28mself\u001b[39m.exchange.markets:\n\u001b[32m    206\u001b[39m     \u001b[38;5;28;01mraise\u001b[39;00m InvalidDataError(\n\u001b[32m    207\u001b[39m         \u001b[33mf\u001b[39m\u001b[33m\"\u001b[39m\u001b[33mSymbol \u001b[39m\u001b[38;5;132;01m{\u001b[39;00mnormalized_symbol\u001b[38;5;132;01m}\u001b[39;00m\u001b[33m not found on \u001b[39m\u001b[38;5;132;01m{\u001b[39;00m\u001b[38;5;28mself\u001b[39m.exchange_id\u001b[38;5;132;01m}\u001b[39;00m\u001b[33m. \u001b[39m\u001b[33m\"\u001b[39m\n\u001b[32m    208\u001b[39m         \u001b[33mf\u001b[39m\u001b[33m\"\u001b[39m\u001b[33mAvailable markets: \u001b[39m\u001b[38;5;132;01m{\u001b[39;00m\u001b[38;5;28mlen\u001b[39m(\u001b[38;5;28mself\u001b[39m.exchange.markets)\u001b[38;5;132;01m}\u001b[39;00m\u001b[33m\"\u001b[39m\n\u001b[32m    209\u001b[39m     )\n",
      "\u001b[31mNetworkError\u001b[39m: Failed to load markets from binance: binance GET https://api.binance.com/api/v3/exchangeInfo"
     ]
    }
   ],
   "source": [
    "# Initialize CCXT adapter for Binance\n",
    "binance = CCXTAdapter(exchange_id=\"binance\")\n",
    "\n",
    "# Fetch BTC and ETH data\n",
    "crypto_symbols = [\"BTC/USDT\", \"ETH/USDT\"]\n",
    "\n",
    "\n",
    "crypto_data = []\n",
    "for symbol in crypto_symbols:\n",
    "    data = await binance.fetch(\n",
    "        symbols=[symbol],\n",
    "        start_date=pd.Timestamp(\"2024-01-01\"),\n",
    "        end_date=pd.Timestamp(\"2024-01-31\"),\n",
    "        resolution=\"1h\",  # Hourly data\n",
    "    )\n",
    "    crypto_data.append(data)\n",
    "\n",
    "crypto_combined = pl.concat(crypto_data)"
   ]
  },
  {
   "cell_type": "markdown",
   "metadata": {},
   "source": [
    "## 3. CSV Data Import\n",
    "\n",
    "Import custom data from CSV files."
   ]
  },
  {
   "cell_type": "code",
   "execution_count": null,
   "metadata": {},
   "outputs": [],
   "source": [
    "# Example CSV structure:\n",
    "csv_example = pd.DataFrame(\n",
    "    {\n",
    "        \"timestamp\": pd.date_range(\"2024-01-01\", periods=100, freq=\"D\"),\n",
    "        \"symbol\": \"CUSTOM\",\n",
    "        \"open\": 100 + np.random.randn(100).cumsum(),\n",
    "        \"high\": 105 + np.random.randn(100).cumsum(),\n",
    "        \"low\": 95 + np.random.randn(100).cumsum(),\n",
    "        \"close\": 100 + np.random.randn(100).cumsum(),\n",
    "        \"volume\": np.random.randint(1000000, 10000000, 100),\n",
    "    }\n",
    ")\n",
    "\n",
    "# Save example CSV\n",
    "csv_example.to_csv(\"example_data.csv\", index=False)\n",
    "\n",
    "# Load using CSV adapter\n",
    "csv_adapter = CSVAdapter()\n",
    "csv_data = csv_adapter.load(\"example_data.csv\")"
   ]
  },
  {
   "cell_type": "markdown",
   "metadata": {},
   "source": [
    "## 4. Data Quality Checks\n",
    "\n",
    "Always validate data before using in backtests."
   ]
  },
  {
   "cell_type": "code",
   "execution_count": null,
   "metadata": {},
   "outputs": [],
   "source": [
    "def check_data_quality(df: pl.DataFrame, name: str = \"Data\") -> None:\n",
    "    \"\"\"Comprehensive data quality check.\"\"\"\n",
    "    print(f\"\\n{'='*60}\")\n",
    "    print(f\"Data Quality Check: {name}\")\n",
    "    print(f\"{'='*60}\")\n",
    "    \n",
    "    # Check for nulls\n",
    "    null_counts = df.null_count()\n",
    "    total_nulls = sum(null_counts.to_dicts()[0].values())\n",
    "    if total_nulls > 0:\n",
    "        print(f\"⚠️  Found {total_nulls} null values\")\n",
    "        print(null_counts)\n",
    "    else:\n",
    "        print(\"✅ No null values found\")\n",
    "\n",
    "    # Check OHLC relationships\n",
    "    invalid = df.filter(\n",
    "        (pl.col(\"high\") < pl.col(\"low\"))\n",
    "        | (pl.col(\"high\") < pl.col(\"open\"))\n",
    "        | (pl.col(\"high\") < pl.col(\"close\"))\n",
    "        | (pl.col(\"low\") > pl.col(\"open\"))\n",
    "        | (pl.col(\"low\") > pl.col(\"close\"))\n",
    "    )\n",
    "\n",
    "    if len(invalid) > 0:\n",
    "        print(f\"❌ Found {len(invalid)} rows with invalid OHLC relationships\")\n",
    "        print(invalid.head())\n",
    "    else:\n",
    "        print(\"✅ OHLC relationships are valid\")\n",
    "\n",
    "    # Check for duplicates\n",
    "    duplicates = df.filter(pl.col(\"timestamp\").is_duplicated())\n",
    "    if len(duplicates) > 0:\n",
    "        print(f\"⚠️  Found {len(duplicates)} duplicate timestamps\")\n",
    "    else:\n",
    "        print(\"✅ No duplicate timestamps\")\n",
    "\n",
    "    # Date range\n",
    "    min_date = df.select(pl.col(\"timestamp\").min()).item()\n",
    "    max_date = df.select(pl.col(\"timestamp\").max()).item()\n",
    "    row_count = len(df)\n",
    "    print(f\"\\n📊 Data Summary:\")\n",
    "    print(f\"   Rows: {row_count:,}\")\n",
    "    print(f\"   Date Range: {min_date} to {max_date}\")\n",
    "    print(f\"   Symbols: {df.select(pl.col('symbol').n_unique()).item()}\")\n",
    "    print(f\"{'='*60}\\n\")\n",
    "\n",
    "\n",
    "# Check quality\n",
    "check_data_quality(combined, \"Stock Data\")\n",
    "check_data_quality(crypto_combined, \"Crypto Data\")"
   ]
  },
  {
   "cell_type": "markdown",
   "metadata": {},
   "source": [
    "## 5. Save Data for Backtesting\n",
    "\n",
    "Save data in efficient formats for fast backtesting."
   ]
  },
  {
   "cell_type": "code",
   "execution_count": null,
   "metadata": {},
   "outputs": [],
   "source": [
    "# Save to Parquet (recommended - fast and efficient)\n",
    "combined.write_parquet(\"stocks_2023.parquet\")\n",
    "crypto_combined.write_parquet(\"crypto_2024_01.parquet\")\n",
    "\n",
    "\n",
    "# Can also save to CSV for compatibility\n",
    "# combined.write_csv('stocks_2023.csv')"
   ]
  },
  {
   "cell_type": "markdown",
   "metadata": {},
   "source": [
    "## 6. Data Caching\n",
    "\n",
    "RustyBT supports caching to avoid re-downloading data."
   ]
  },
  {
   "cell_type": "code",
   "execution_count": null,
   "metadata": {},
   "outputs": [],
   "source": [
    "from rustybt.data.catalog import DataCatalog\n",
    "\n",
    "# Initialize catalog with caching\n",
    "catalog = DataCatalog(cache_dir=\"./data_cache\")\n",
    "\n",
    "# Register data source\n",
    "catalog.register(\n",
    "    name=\"stocks_2023\",\n",
    "    adapter=yf_adapter,\n",
    "    symbols=[\"AAPL\", \"GOOGL\", \"MSFT\"],\n",
    "    start_date=pd.Timestamp(\"2023-01-01\"),\n",
    "    end_date=pd.Timestamp(\"2023-12-31\"),\n",
    ")\n",
    "\n",
    "# First call downloads data\n",
    "data1 = catalog.load(\"stocks_2023\")\n",
    "\n",
    "# Second call uses cache\n",
    "data2 = catalog.load(\"stocks_2023\")"
   ]
  },
  {
   "cell_type": "markdown",
   "metadata": {},
   "source": [
    "## Next Steps\n",
    "\n",
    "Now that you have data:\n",
    "\n",
    "1. **03_strategy_development.ipynb** - Build trading strategies with this data\n",
    "2. **10_full_workflow.ipynb** - See complete workflow from data to results\n",
    "\n",
    "## Key Takeaways\n",
    "\n",
    "- ✅ Multiple data sources supported (stocks, crypto, custom)\n",
    "- ✅ Built-in data validation catches errors early\n",
    "- ✅ Efficient Parquet storage for fast backtests\n",
    "- ✅ Caching prevents redundant downloads\n",
    "- ✅ Progress bars for long downloads"
   ]
  }
 ],
 "metadata": {
  "kernelspec": {
   "display_name": "rustybt",
   "language": "python",
   "name": "python3"
  },
  "language_info": {
   "codemirror_mode": {
    "name": "ipython",
    "version": 3
   },
   "file_extension": ".py",
   "mimetype": "text/x-python",
   "name": "python",
   "nbconvert_exporter": "python",
   "pygments_lexer": "ipython3",
   "version": "3.13.1"
  }
 },
 "nbformat": 4,
 "nbformat_minor": 4
}
