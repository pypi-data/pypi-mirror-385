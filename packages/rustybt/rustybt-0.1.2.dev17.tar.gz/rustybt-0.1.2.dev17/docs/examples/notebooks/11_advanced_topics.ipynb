{
 "cells": [
  {
   "cell_type": "markdown",
   "metadata": {},
   "source": [
    "# Advanced Topics\n",
    "\n",
    "Custom indicators, multi-asset strategies, and advanced techniques."
   ]
  },
  {
   "cell_type": "code",
   "execution_count": 1,
   "metadata": {
    "execution": {
     "iopub.execute_input": "2025-10-17T22:31:01.710115Z",
     "iopub.status.busy": "2025-10-17T22:31:01.710003Z",
     "iopub.status.idle": "2025-10-17T22:31:04.566862Z",
     "shell.execute_reply": "2025-10-17T22:31:04.566371Z"
    }
   },
   "outputs": [
    {
     "name": "stdout",
     "output_type": "stream",
     "text": [
      "✅ Notebook environment configured successfully\n",
      "   - Async/await support enabled\n",
      "   - Pandas display options optimized\n",
      "   - Progress bars configured\n"
     ]
    }
   ],
   "source": [
    "from rustybt.analytics import setup_notebook\n",
    "\n",
    "setup_notebook()\n",
    "import numpy as np"
   ]
  },
  {
   "cell_type": "markdown",
   "metadata": {},
   "source": [
    "## Custom Technical Indicators\n",
    "\n",
    "Build your own indicators using numpy/polars."
   ]
  },
  {
   "cell_type": "code",
   "execution_count": 2,
   "metadata": {
    "execution": {
     "iopub.execute_input": "2025-10-17T22:31:04.591574Z",
     "iopub.status.busy": "2025-10-17T22:31:04.591229Z",
     "iopub.status.idle": "2025-10-17T22:31:04.613683Z",
     "shell.execute_reply": "2025-10-17T22:31:04.613314Z"
    }
   },
   "outputs": [],
   "source": [
    "def rsi(prices, period=14):\n",
    "    \"\"\"Calculate RSI indicator.\"\"\"\n",
    "    deltas = np.diff(prices)\n",
    "    gains = np.where(deltas > 0, deltas, 0)\n",
    "    losses = np.where(deltas < 0, -deltas, 0)\n",
    "\n",
    "    avg_gain = np.mean(gains[-period:])\n",
    "    avg_loss = np.mean(losses[-period:])\n",
    "\n",
    "    if avg_loss == 0:\n",
    "        return 100\n",
    "\n",
    "    rs = avg_gain / avg_loss\n",
    "    rsi = 100 - (100 / (1 + rs))\n",
    "    return rsi"
   ]
  },
  {
   "cell_type": "markdown",
   "metadata": {},
   "source": [
    "## Multi-Asset Correlation Analysis"
   ]
  },
  {
   "cell_type": "code",
   "execution_count": 3,
   "metadata": {
    "execution": {
     "iopub.execute_input": "2025-10-17T22:31:04.615652Z",
     "iopub.status.busy": "2025-10-17T22:31:04.615423Z",
     "iopub.status.idle": "2025-10-17T22:31:04.632593Z",
     "shell.execute_reply": "2025-10-17T22:31:04.632243Z"
    }
   },
   "outputs": [],
   "source": [
    "# Example: Calculate correlation matrix for multi-asset portfolio\n",
    "# Uncomment and adapt the following code when you have multiple asset returns:\n",
    "#\n",
    "# import polars as pl\n",
    "# returns_matrix = pl.DataFrame({\n",
    "#     asset: results[asset]['returns'] \n",
    "#     for asset in assets\n",
    "# })\n",
    "# correlation = returns_matrix.corr()\n",
    "# print(correlation)"
   ]
  }
 ],
 "metadata": {
  "kernelspec": {
   "display_name": "Python 3",
   "language": "python",
   "name": "python3"
  },
  "language_info": {
   "codemirror_mode": {
    "name": "ipython",
    "version": 3
   },
   "file_extension": ".py",
   "mimetype": "text/x-python",
   "name": "python",
   "nbconvert_exporter": "python",
   "pygments_lexer": "ipython3",
   "version": "3.12.0"
  }
 },
 "nbformat": 4,
 "nbformat_minor": 4
}
