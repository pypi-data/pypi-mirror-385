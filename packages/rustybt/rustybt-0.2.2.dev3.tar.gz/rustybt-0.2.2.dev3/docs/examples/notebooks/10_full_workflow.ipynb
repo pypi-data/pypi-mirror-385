{
 "cells": [
  {
   "cell_type": "markdown",
   "metadata": {},
   "source": [
    "# Complete Workflow: Data → Backtest → Analysis → Optimization\n",
    "\n",
    "This notebook demonstrates the complete RustyBT workflow from start to finish.\n",
    "\n",
    "**Complete Workflow:**\n",
    "1. Data Ingestion - Fetch from yfinance\n",
    "2. Strategy Development - Moving average crossover\n",
    "3. Backtest Execution - Run with realistic costs\n",
    "4. Performance Analysis - Interactive visualizations\n",
    "5. Parameter Optimization - Find best parameters\n",
    "6. Walk-Forward Testing - Validate robustness\n",
    "7. Export Results - Save for reporting\n",
    "\n",
    "**Estimated runtime:** 10-15 minutes"
   ]
  },
  {
   "cell_type": "markdown",
   "metadata": {},
   "source": [
    "## Setup"
   ]
  },
  {
   "cell_type": "code",
   "execution_count": 1,
   "metadata": {
    "execution": {
     "iopub.execute_input": "2025-10-17T22:30:40.135461Z",
     "iopub.status.busy": "2025-10-17T22:30:40.135311Z",
     "iopub.status.idle": "2025-10-17T22:30:44.619687Z",
     "shell.execute_reply": "2025-10-17T22:30:44.619338Z"
    }
   },
   "outputs": [
    {
     "name": "stdout",
     "output_type": "stream",
     "text": [
      "✅ Notebook environment configured successfully\n",
      "   - Async/await support enabled\n",
      "   - Pandas display options optimized\n",
      "   - Progress bars configured\n"
     ]
    }
   ],
   "source": [
    "from rustybt.analytics import create_progress_iterator, setup_notebook\n",
    "\n",
    "setup_notebook()\n",
    "\n",
    "import os\n",
    "from pathlib import Path\n",
    "\n",
    "import numpy as np\n",
    "import pandas as pd\n",
    "import polars as pl\n",
    "\n",
    "from rustybt import run_algorithm\n",
    "from rustybt.api import (\n",
    "    date_rules,\n",
    "    order_target_percent,\n",
    "    record,\n",
    "    schedule_function,\n",
    "    set_commission,\n",
    "    set_slippage,\n",
    "    symbol,\n",
    "    time_rules,\n",
    ")\n",
    "from rustybt.data import bundles\n",
    "from rustybt.data.adapters import YFinanceAdapter\n",
    "from rustybt.finance.commission import PerShare\n",
    "from rustybt.finance.slippage import VolumeShareSlippage\n",
    "from rustybt.utils.paths import get_bundle_path\n"
   ]
  },
  {
   "cell_type": "markdown",
   "metadata": {},
   "source": [
    "## Step 1: Data Ingestion\n",
    "\n",
    "Fetch historical data for multiple assets."
   ]
  },
  {
   "cell_type": "code",
   "execution_count": 2,
   "metadata": {
    "execution": {
     "iopub.execute_input": "2025-10-17T22:30:44.621823Z",
     "iopub.status.busy": "2025-10-17T22:30:44.621497Z",
     "iopub.status.idle": "2025-10-17T22:30:49.465654Z",
     "shell.execute_reply": "2025-10-17T22:30:49.465239Z"
    }
   },
   "outputs": [
    {
     "name": "stdout",
     "output_type": "stream",
     "text": [
      "📊 Download Parameters:\n",
      "   Symbols: SPY, QQQ\n",
      "   Period: 2022-01-01 to 2023-12-31\n",
      "\n",
      "⏳ Downloading data from Yahoo Finance...\n"
     ]
    },
    {
     "data": {
      "application/vnd.jupyter.widget-view+json": {
       "model_id": "709b93d4e89e4e55ade1800fe442f7f7",
       "version_major": 2,
       "version_minor": 0
      },
      "text/plain": [
       "Downloading:   0%|          | 0/2 [00:00<?, ?it/s]"
      ]
     },
     "metadata": {},
     "output_type": "display_data"
    },
    {
     "name": "stdout",
     "output_type": "stream",
     "text": [
      "\n",
      "✅ Downloaded 1,002 rows\n",
      "   Symbols: 2\n",
      "   Date range: 2022-01-03 to 2023-12-29\n",
      "\n",
      "📁 Saving to CSV for bundle ingestion...\n",
      "   Saved SPY.csv (501 rows)\n",
      "   Saved QQQ.csv (501 rows)\n",
      "\n",
      "📦 Ingesting data into 'csvdir' bundle...\n",
      "Merging daily equity files:\n",
      "Loading custom pricing data: \n"
     ]
    },
    {
     "name": "stderr",
     "output_type": "stream",
     "text": [
      "/Users/jerryinyang/Code/bmad-dev/rustybt/rustybt/assets/asset_writer.py:321: FutureWarning: DataFrameGroupBy.apply operated on the grouping columns. This behavior is deprecated, and in a future version of pandas the grouping columns will be excluded from the operation. Either pass `include_groups=False` to exclude the groupings or explicitly select the grouping columns after groupby to silence this warning.\n",
      "  mappings.groupby([\"symbol\", \"country_code\"], group_keys=False).apply(check_intersections)\n",
      "Failed to record bundle metadata: Parameter `start` parsed as '2022-01-03 05:00:00' although a Date must have a time component of 00:00.\n",
      "Failed to record bundle metadata: Parameter `start` parsed as '2022-01-03 05:00:00' although a Date must have a time component of 00:00.\n"
     ]
    },
    {
     "name": "stdout",
     "output_type": "stream",
     "text": [
      "✅ Bundle 'csvdir' ingested successfully\n"
     ]
    }
   ],
   "source": [
    "# Initialize yfinance adapter\n",
    "yf = YFinanceAdapter()\n",
    "\n",
    "# Define parameters\n",
    "symbols = [\"SPY\", \"QQQ\"]\n",
    "start_date = pd.Timestamp(\"2022-01-01\")\n",
    "end_date = pd.Timestamp(\"2023-12-31\")\n",
    "\n",
    "print(\"📊 Download Parameters:\")\n",
    "print(f\"   Symbols: {', '.join(symbols)}\")\n",
    "print(f\"   Period: {start_date.date()} to {end_date.date()}\")\n",
    "print()\n",
    "\n",
    "# Download data\n",
    "print(\"⏳ Downloading data from Yahoo Finance...\")\n",
    "all_data = []\n",
    "for sym in create_progress_iterator(symbols, desc=\"Downloading\"):\n",
    "    data = await yf.fetch(\n",
    "        symbols=[sym],\n",
    "        start_date=start_date,\n",
    "        end_date=end_date,\n",
    "        resolution=\"1d\"\n",
    "    )\n",
    "    all_data.append(data)\n",
    "\n",
    "market_data = pl.concat(all_data)\n",
    "\n",
    "print(f\"\\n✅ Downloaded {len(market_data):,} rows\")\n",
    "print(f\"   Symbols: {market_data.select(pl.col('symbol').n_unique()).item()}\")\n",
    "print(f\"   Date range: {market_data.select(pl.col('timestamp').min()).item().date()} to {market_data.select(pl.col('timestamp').max()).item().date()}\")\n",
    "\n",
    "# Save to CSV in csvdir bundle format\n",
    "# Use centralized bundle path (not local directory)\n",
    "csvdir = get_bundle_path(\"csvdir\")\n",
    "daily_dir = csvdir / \"daily\"\n",
    "daily_dir.mkdir(parents=True, exist_ok=True)\n",
    "\n",
    "print(f\"\\n📁 Saving to CSV for bundle ingestion...\")\n",
    "for sym in symbols:\n",
    "    sym_data = market_data.filter(pl.col(\"symbol\") == sym)\n",
    "    sym_df = sym_data.to_pandas()\n",
    "    \n",
    "    # Format for csvdir bundle: needs date, open, high, low, close, volume columns\n",
    "    sym_df_formatted = pd.DataFrame({\n",
    "        'date': pd.to_datetime(sym_df['timestamp']).dt.tz_localize(None),\n",
    "        'open': sym_df['open'].astype(float),\n",
    "        'high': sym_df['high'].astype(float),\n",
    "        'low': sym_df['low'].astype(float),\n",
    "        'close': sym_df['close'].astype(float),\n",
    "        'volume': sym_df['volume'].astype(int),\n",
    "    })\n",
    "    \n",
    "    csv_path = daily_dir / f\"{sym}.csv\"\n",
    "    sym_df_formatted.to_csv(csv_path, index=False)\n",
    "    print(f\"   Saved {sym}.csv ({len(sym_df_formatted)} rows)\")\n",
    "\n",
    "# Ingest into bundle\n",
    "print(f\"\\n📦 Ingesting data into 'csvdir' bundle...\")\n",
    "bundle_name = 'csvdir'\n",
    "# Set CSVDIR environment variable for bundle ingestion\n",
    "os.environ['CSVDIR'] = str(csvdir)\n",
    "\n",
    "try:\n",
    "    bundles.ingest(\n",
    "        bundle_name,\n",
    "        environ=os.environ,\n",
    "        show_progress=True\n",
    "    )\n",
    "    print(f\"✅ Bundle '{bundle_name}' ingested successfully\")\n",
    "except Exception as e:\n",
    "    print(f\"⚠️  Bundle ingestion note: {e}\")\n",
    "    print(\"   Continuing with existing bundle data...\")"
   ]
  },
  {
   "cell_type": "markdown",
   "metadata": {},
   "source": [
    "## Step 2: Strategy Development\n",
    "\n",
    "Define strategy functions for dual moving average crossover."
   ]
  },
  {
   "cell_type": "code",
   "execution_count": 3,
   "metadata": {
    "execution": {
     "iopub.execute_input": "2025-10-17T22:30:49.467480Z",
     "iopub.status.busy": "2025-10-17T22:30:49.467286Z",
     "iopub.status.idle": "2025-10-17T22:30:49.505149Z",
     "shell.execute_reply": "2025-10-17T22:30:49.504698Z"
    }
   },
   "outputs": [],
   "source": [
    "# Define strategy functions\n",
    "# These will be passed to run_algorithm()\n",
    "\n",
    "def initialize(context, fast_period=20, slow_period=50):\n",
    "    \"\"\"\n",
    "    Initialize strategy.\n",
    "    \n",
    "    Dual Moving Average Crossover Strategy:\n",
    "    - Buy when fast MA crosses above slow MA\n",
    "    - Sell when fast MA crosses below slow MA\n",
    "    - Rebalance daily at market open\n",
    "    \"\"\"\n",
    "    # Set parameters\n",
    "    context.fast_period = fast_period\n",
    "    context.slow_period = slow_period\n",
    "\n",
    "    # Configure trading costs\n",
    "    set_commission(PerShare(cost=0.001, min_trade_cost=1.0))\n",
    "    set_slippage(VolumeShareSlippage(volume_limit=0.025, price_impact=0.1))\n",
    "\n",
    "    # Define universe\n",
    "    context.assets = [symbol(s) for s in [\"SPY\", \"QQQ\"]]\n",
    "\n",
    "    # Track prices\n",
    "    context.prices = {asset: [] for asset in context.assets}\n",
    "\n",
    "    # Schedule rebalance\n",
    "    schedule_function(rebalance, date_rules.every_day(), time_rules.market_open())\n",
    "\n",
    "\n",
    "def handle_data(context, data):\n",
    "    \"\"\"Called every bar - collect prices.\"\"\"\n",
    "    for asset in context.assets:\n",
    "        price = data.current(asset, \"close\")\n",
    "        context.prices[asset].append(price)\n",
    "\n",
    "\n",
    "def rebalance(context, data):\n",
    "    \"\"\"Rebalance portfolio based on signals.\"\"\"\n",
    "    for asset in context.assets:\n",
    "        prices = context.prices[asset]\n",
    "\n",
    "        # Need enough history\n",
    "        if len(prices) < context.slow_period:\n",
    "            continue\n",
    "\n",
    "        # Calculate moving averages\n",
    "        fast_ma = np.mean(prices[-context.fast_period :])\n",
    "        slow_ma = np.mean(prices[-context.slow_period :])\n",
    "\n",
    "        # Generate signal\n",
    "        if fast_ma > slow_ma:\n",
    "            # Bullish - allocate 50% to this asset\n",
    "            order_target_percent(asset, 0.5)\n",
    "        else:\n",
    "            # Bearish - close position\n",
    "            order_target_percent(asset, 0.0)"
   ]
  },
  {
   "cell_type": "markdown",
   "metadata": {},
   "source": [
    "## Step 3: Backtest Execution\n",
    "\n",
    "Run the strategy with saved data."
   ]
  },
  {
   "cell_type": "code",
   "execution_count": 4,
   "metadata": {
    "execution": {
     "iopub.execute_input": "2025-10-17T22:30:49.507205Z",
     "iopub.status.busy": "2025-10-17T22:30:49.506850Z",
     "iopub.status.idle": "2025-10-17T22:30:49.547523Z",
     "shell.execute_reply": "2025-10-17T22:30:49.547166Z"
    }
   },
   "outputs": [
    {
     "name": "stdout",
     "output_type": "stream",
     "text": [
      "🚀 Running backtest...\n",
      "   Strategy: Dual Moving Average (20/50)\n",
      "   Period: 2022-01-01 to 2023-12-31\n",
      "   Capital: $100,000.00\n",
      "\n"
     ]
    },
    {
     "name": "stderr",
     "output_type": "stream",
     "text": [
      "/Users/jerryinyang/Code/bmad-dev/rustybt/rustybt/finance/metrics/tracker.py:127: FutureWarning: functools.partial will be a method descriptor in future Python versions; wrap it in staticmethod() if you want to preserve the old behavior\n",
      "  registered.append(getattr(metric, hook))\n"
     ]
    },
    {
     "name": "stdout",
     "output_type": "stream",
     "text": [
      "\n",
      "✅ Backtest complete!\n",
      "   Total days: 501\n",
      "   Final portfolio value: $95,894.37\n",
      "   Total return: -4.11%\n"
     ]
    }
   ],
   "source": [
    "# Run backtest using run_algorithm()\n",
    "capital_base = 100000.0\n",
    "\n",
    "print(\"🚀 Running backtest...\")\n",
    "print(f\"   Strategy: Dual Moving Average (20/50)\")\n",
    "print(f\"   Period: {start_date.date()} to {end_date.date()}\")\n",
    "print(f\"   Capital: ${capital_base:,.2f}\")\n",
    "print()\n",
    "\n",
    "results = run_algorithm(\n",
    "    start=start_date,\n",
    "    end=end_date,\n",
    "    initialize=initialize,\n",
    "    handle_data=handle_data,\n",
    "    capital_base=capital_base,\n",
    "    data_frequency=\"daily\",\n",
    "    bundle='csvdir',\n",
    "    trading_calendar=None,\n",
    "    metrics_set=\"default\",\n",
    ")\n",
    "\n",
    "print(f\"\\n✅ Backtest complete!\")\n",
    "print(f\"   Total days: {len(results)}\")\n",
    "print(f\"   Final portfolio value: ${results['portfolio_value'].iloc[-1]:,.2f}\")\n",
    "print(f\"   Total return: {(results['portfolio_value'].iloc[-1] / capital_base - 1) * 100:+.2f}%\")"
   ]
  },
  {
   "cell_type": "markdown",
   "metadata": {},
   "source": [
    "## Step 4: Performance Analysis\n",
    "\n",
    "Comprehensive analysis of backtest results."
   ]
  },
  {
   "cell_type": "code",
   "execution_count": 5,
   "metadata": {
    "execution": {
     "iopub.execute_input": "2025-10-17T22:30:49.549190Z",
     "iopub.status.busy": "2025-10-17T22:30:49.549065Z",
     "iopub.status.idle": "2025-10-17T22:30:49.572317Z",
     "shell.execute_reply": "2025-10-17T22:30:49.572044Z"
    }
   },
   "outputs": [
    {
     "name": "stdout",
     "output_type": "stream",
     "text": [
      "📊 Performance Metrics:\n",
      "============================================================\n",
      "Total Return: -4.11%\n",
      "Annualized Return: -2.09%\n",
      "Sharpe Ratio: -0.10\n",
      "Max Drawdown: -22.53%\n",
      "Win Rate: 26.40%\n",
      "Annualized Volatility: 12.90%\n",
      "============================================================\n"
     ]
    }
   ],
   "source": [
    "# Calculate performance metrics\n",
    "print(\"📊 Performance Metrics:\")\n",
    "print(\"=\" * 60)\n",
    "\n",
    "# Calculate returns\n",
    "results['returns'] = results['portfolio_value'].pct_change()\n",
    "\n",
    "# Total return\n",
    "total_return = (results['portfolio_value'].iloc[-1] / results['portfolio_value'].iloc[0]) - 1\n",
    "print(f\"Total Return: {total_return:.2%}\")\n",
    "\n",
    "# Annualized return (2 years of data)\n",
    "days = len(results)\n",
    "years = days / 252\n",
    "annualized_return = (1 + total_return) ** (1 / years) - 1\n",
    "print(f\"Annualized Return: {annualized_return:.2%}\")\n",
    "\n",
    "# Sharpe ratio\n",
    "sharpe_ratio = results['returns'].mean() / results['returns'].std() * np.sqrt(252)\n",
    "print(f\"Sharpe Ratio: {sharpe_ratio:.2f}\")\n",
    "\n",
    "# Max drawdown\n",
    "cumulative = results['portfolio_value']\n",
    "running_max = cumulative.cummax()\n",
    "drawdown = (cumulative - running_max) / running_max\n",
    "max_drawdown = drawdown.min()\n",
    "print(f\"Max Drawdown: {max_drawdown:.2%}\")\n",
    "\n",
    "# Win rate (percentage of positive return days)\n",
    "positive_days = (results['returns'] > 0).sum()\n",
    "total_days = len(results['returns'].dropna())\n",
    "win_rate = positive_days / total_days\n",
    "print(f\"Win Rate: {win_rate:.2%}\")\n",
    "\n",
    "# Volatility\n",
    "volatility = results['returns'].std() * np.sqrt(252)\n",
    "print(f\"Annualized Volatility: {volatility:.2%}\")\n",
    "\n",
    "print(\"=\" * 60)"
   ]
  },
  {
   "cell_type": "markdown",
   "metadata": {},
   "source": [
    "## Step 5: Parameter Optimization\n",
    "\n",
    "Find the best parameters using grid search."
   ]
  },
  {
   "cell_type": "code",
   "execution_count": 6,
   "metadata": {
    "execution": {
     "iopub.execute_input": "2025-10-17T22:30:49.573823Z",
     "iopub.status.busy": "2025-10-17T22:30:49.573714Z",
     "iopub.status.idle": "2025-10-17T22:30:49.596086Z",
     "shell.execute_reply": "2025-10-17T22:30:49.595701Z"
    }
   },
   "outputs": [
    {
     "name": "stdout",
     "output_type": "stream",
     "text": [
      "🔍 Running parameter optimization...\n",
      "\n",
      "[1/9] Testing fast=10, slow=50...\n"
     ]
    },
    {
     "name": "stderr",
     "output_type": "stream",
     "text": [
      "/Users/jerryinyang/Code/bmad-dev/rustybt/rustybt/finance/metrics/tracker.py:127: FutureWarning: functools.partial will be a method descriptor in future Python versions; wrap it in staticmethod() if you want to preserve the old behavior\n",
      "  registered.append(getattr(metric, hook))\n"
     ]
    },
    {
     "name": "stdout",
     "output_type": "stream",
     "text": [
      "[2/9] Testing fast=10, slow=60...\n"
     ]
    },
    {
     "name": "stderr",
     "output_type": "stream",
     "text": [
      "/Users/jerryinyang/Code/bmad-dev/rustybt/rustybt/finance/metrics/tracker.py:127: FutureWarning: functools.partial will be a method descriptor in future Python versions; wrap it in staticmethod() if you want to preserve the old behavior\n",
      "  registered.append(getattr(metric, hook))\n"
     ]
    },
    {
     "name": "stdout",
     "output_type": "stream",
     "text": [
      "[3/9] Testing fast=10, slow=70...\n"
     ]
    },
    {
     "name": "stderr",
     "output_type": "stream",
     "text": [
      "/Users/jerryinyang/Code/bmad-dev/rustybt/rustybt/finance/metrics/tracker.py:127: FutureWarning: functools.partial will be a method descriptor in future Python versions; wrap it in staticmethod() if you want to preserve the old behavior\n",
      "  registered.append(getattr(metric, hook))\n"
     ]
    },
    {
     "name": "stdout",
     "output_type": "stream",
     "text": [
      "[4/9] Testing fast=20, slow=50...\n"
     ]
    },
    {
     "name": "stderr",
     "output_type": "stream",
     "text": [
      "/Users/jerryinyang/Code/bmad-dev/rustybt/rustybt/finance/metrics/tracker.py:127: FutureWarning: functools.partial will be a method descriptor in future Python versions; wrap it in staticmethod() if you want to preserve the old behavior\n",
      "  registered.append(getattr(metric, hook))\n"
     ]
    },
    {
     "name": "stdout",
     "output_type": "stream",
     "text": [
      "[5/9] Testing fast=20, slow=60...\n"
     ]
    },
    {
     "name": "stderr",
     "output_type": "stream",
     "text": [
      "/Users/jerryinyang/Code/bmad-dev/rustybt/rustybt/finance/metrics/tracker.py:127: FutureWarning: functools.partial will be a method descriptor in future Python versions; wrap it in staticmethod() if you want to preserve the old behavior\n",
      "  registered.append(getattr(metric, hook))\n"
     ]
    },
    {
     "name": "stdout",
     "output_type": "stream",
     "text": [
      "[6/9] Testing fast=20, slow=70...\n"
     ]
    },
    {
     "name": "stderr",
     "output_type": "stream",
     "text": [
      "/Users/jerryinyang/Code/bmad-dev/rustybt/rustybt/finance/metrics/tracker.py:127: FutureWarning: functools.partial will be a method descriptor in future Python versions; wrap it in staticmethod() if you want to preserve the old behavior\n",
      "  registered.append(getattr(metric, hook))\n"
     ]
    },
    {
     "name": "stdout",
     "output_type": "stream",
     "text": [
      "[7/9] Testing fast=30, slow=50...\n"
     ]
    },
    {
     "name": "stderr",
     "output_type": "stream",
     "text": [
      "/Users/jerryinyang/Code/bmad-dev/rustybt/rustybt/finance/metrics/tracker.py:127: FutureWarning: functools.partial will be a method descriptor in future Python versions; wrap it in staticmethod() if you want to preserve the old behavior\n",
      "  registered.append(getattr(metric, hook))\n"
     ]
    },
    {
     "name": "stdout",
     "output_type": "stream",
     "text": [
      "[8/9] Testing fast=30, slow=60...\n"
     ]
    },
    {
     "name": "stderr",
     "output_type": "stream",
     "text": [
      "/Users/jerryinyang/Code/bmad-dev/rustybt/rustybt/finance/metrics/tracker.py:127: FutureWarning: functools.partial will be a method descriptor in future Python versions; wrap it in staticmethod() if you want to preserve the old behavior\n",
      "  registered.append(getattr(metric, hook))\n"
     ]
    },
    {
     "name": "stdout",
     "output_type": "stream",
     "text": [
      "[9/9] Testing fast=30, slow=70...\n"
     ]
    },
    {
     "name": "stderr",
     "output_type": "stream",
     "text": [
      "/Users/jerryinyang/Code/bmad-dev/rustybt/rustybt/finance/metrics/tracker.py:127: FutureWarning: functools.partial will be a method descriptor in future Python versions; wrap it in staticmethod() if you want to preserve the old behavior\n",
      "  registered.append(getattr(metric, hook))\n"
     ]
    },
    {
     "name": "stdout",
     "output_type": "stream",
     "text": [
      "\n",
      "✅ Optimization complete!\n",
      "\n",
      "Best Sharpe Ratio:\n",
      "   Parameters: fast=10, slow=70\n",
      "   Sharpe: 0.57\n",
      "   Return: 12.44%\n",
      "\n",
      "Best Total Return:\n",
      "   Parameters: fast=10, slow=70\n",
      "   Return: 12.44%\n",
      "   Sharpe: 0.57\n"
     ]
    }
   ],
   "source": [
    "# Run parameter optimization\n",
    "print(\"🔍 Running parameter optimization...\")\n",
    "print()\n",
    "\n",
    "# Define parameter grid\n",
    "param_grid = {\n",
    "    \"fast_period\": [10, 20, 30],\n",
    "    \"slow_period\": [50, 60, 70]\n",
    "}\n",
    "\n",
    "# Run grid search\n",
    "optimization_results = []\n",
    "total_combinations = len(param_grid[\"fast_period\"]) * len(param_grid[\"slow_period\"])\n",
    "current = 0\n",
    "\n",
    "for fast in param_grid[\"fast_period\"]:\n",
    "    for slow in param_grid[\"slow_period\"]:\n",
    "        current += 1\n",
    "        print(f\"[{current}/{total_combinations}] Testing fast={fast}, slow={slow}...\")\n",
    "        \n",
    "        # Create parameterized initialize function\n",
    "        def make_initialize(fast_period, slow_period):\n",
    "            def init(context):\n",
    "                context.fast_period = fast_period\n",
    "                context.slow_period = slow_period\n",
    "                set_commission(PerShare(cost=0.001, min_trade_cost=1.0))\n",
    "                set_slippage(VolumeShareSlippage(volume_limit=0.025, price_impact=0.1))\n",
    "                context.assets = [symbol(s) for s in [\"SPY\", \"QQQ\"]]\n",
    "                context.prices = {asset: [] for asset in context.assets}\n",
    "                schedule_function(opt_rebalance, date_rules.every_day(), time_rules.market_open())\n",
    "            return init\n",
    "        \n",
    "        def opt_handle_data(context, data):\n",
    "            for asset in context.assets:\n",
    "                price = data.current(asset, \"close\")\n",
    "                context.prices[asset].append(price)\n",
    "        \n",
    "        def opt_rebalance(context, data):\n",
    "            for asset in context.assets:\n",
    "                prices = context.prices[asset]\n",
    "                if len(prices) < context.slow_period:\n",
    "                    continue\n",
    "                fast_ma = np.mean(prices[-context.fast_period:])\n",
    "                slow_ma = np.mean(prices[-context.slow_period:])\n",
    "                if fast_ma > slow_ma:\n",
    "                    order_target_percent(asset, 0.5)\n",
    "                else:\n",
    "                    order_target_percent(asset, 0.0)\n",
    "        \n",
    "        # Run backtest\n",
    "        perf = run_algorithm(\n",
    "            start=start_date,\n",
    "            end=end_date,\n",
    "            initialize=make_initialize(fast, slow),\n",
    "            handle_data=opt_handle_data,\n",
    "            capital_base=capital_base,\n",
    "            data_frequency=\"daily\",\n",
    "            bundle='csvdir',\n",
    "            trading_calendar=None,\n",
    "            metrics_set=\"default\",\n",
    "        )\n",
    "        \n",
    "        # Calculate metrics\n",
    "        returns = perf['portfolio_value'].pct_change()\n",
    "        total_ret = (perf['portfolio_value'].iloc[-1] / capital_base - 1)\n",
    "        sharpe = returns.mean() / returns.std() * np.sqrt(252)\n",
    "        \n",
    "        optimization_results.append({\n",
    "            'fast_period': fast,\n",
    "            'slow_period': slow,\n",
    "            'total_return': total_ret,\n",
    "            'sharpe_ratio': sharpe,\n",
    "            'final_value': perf['portfolio_value'].iloc[-1]\n",
    "        })\n",
    "\n",
    "# Convert to DataFrame and find best parameters\n",
    "opt_df = pd.DataFrame(optimization_results)\n",
    "best_sharpe = opt_df.loc[opt_df['sharpe_ratio'].idxmax()]\n",
    "best_return = opt_df.loc[opt_df['total_return'].idxmax()]\n",
    "\n",
    "print()\n",
    "print(\"✅ Optimization complete!\")\n",
    "print()\n",
    "print(\"Best Sharpe Ratio:\")\n",
    "print(f\"   Parameters: fast={int(best_sharpe['fast_period'])}, slow={int(best_sharpe['slow_period'])}\")\n",
    "print(f\"   Sharpe: {best_sharpe['sharpe_ratio']:.2f}\")\n",
    "print(f\"   Return: {best_sharpe['total_return']:.2%}\")\n",
    "print()\n",
    "print(\"Best Total Return:\")\n",
    "print(f\"   Parameters: fast={int(best_return['fast_period'])}, slow={int(best_return['slow_period'])}\")\n",
    "print(f\"   Return: {best_return['total_return']:.2%}\")\n",
    "print(f\"   Sharpe: {best_return['sharpe_ratio']:.2f}\")"
   ]
  },
  {
   "cell_type": "markdown",
   "metadata": {},
   "source": [
    "## Step 6: Walk-Forward Testing\n",
    "\n",
    "Validate strategy robustness with walk-forward analysis."
   ]
  },
  {
   "cell_type": "code",
   "execution_count": 7,
   "metadata": {
    "execution": {
     "iopub.execute_input": "2025-10-17T22:30:49.597779Z",
     "iopub.status.busy": "2025-10-17T22:30:49.597661Z",
     "iopub.status.idle": "2025-10-17T22:30:49.619360Z",
     "shell.execute_reply": "2025-10-17T22:30:49.619036Z"
    }
   },
   "outputs": [
    {
     "name": "stdout",
     "output_type": "stream",
     "text": [
      "🔄 Walk-forward validation...\n",
      "\n",
      "Splitting data into training and testing periods:\n",
      "   Training: 2022-01-01 to 2022-12-31\n",
      "   Testing:  2023-01-01 to 2023-12-31\n",
      "\n",
      "Testing parameters: fast=10, slow=70\n",
      "\n"
     ]
    },
    {
     "name": "stderr",
     "output_type": "stream",
     "text": [
      "/Users/jerryinyang/Code/bmad-dev/rustybt/rustybt/finance/metrics/tracker.py:127: FutureWarning: functools.partial will be a method descriptor in future Python versions; wrap it in staticmethod() if you want to preserve the old behavior\n",
      "  registered.append(getattr(metric, hook))\n"
     ]
    },
    {
     "name": "stdout",
     "output_type": "stream",
     "text": [
      "Out-of-Sample Performance (2023):\n",
      "   Total Return: 15.48%\n",
      "   Sharpe Ratio: 1.56\n",
      "   Final Value: $115,476.52\n",
      "\n",
      "✅ Walk-forward validation complete!\n"
     ]
    }
   ],
   "source": [
    "# Walk-forward validation\n",
    "print(\"🔄 Walk-forward validation...\")\n",
    "print()\n",
    "print(\"Splitting data into training and testing periods:\")\n",
    "\n",
    "# Split into 2022 (training) and 2023 (testing)\n",
    "train_start = pd.Timestamp(\"2022-01-01\")\n",
    "train_end = pd.Timestamp(\"2022-12-31\")\n",
    "test_start = pd.Timestamp(\"2023-01-01\")\n",
    "test_end = pd.Timestamp(\"2023-12-31\")\n",
    "\n",
    "print(f\"   Training: {train_start.date()} to {train_end.date()}\")\n",
    "print(f\"   Testing:  {test_start.date()} to {test_end.date()}\")\n",
    "print()\n",
    "\n",
    "# Use best parameters from optimization\n",
    "best_fast = int(best_sharpe['fast_period'])\n",
    "best_slow = int(best_sharpe['slow_period'])\n",
    "\n",
    "print(f\"Testing parameters: fast={best_fast}, slow={best_slow}\")\n",
    "print()\n",
    "\n",
    "# Create walk-forward strategy functions\n",
    "def wf_initialize(context):\n",
    "    context.fast_period = best_fast\n",
    "    context.slow_period = best_slow\n",
    "    set_commission(PerShare(cost=0.001, min_trade_cost=1.0))\n",
    "    set_slippage(VolumeShareSlippage(volume_limit=0.025, price_impact=0.1))\n",
    "    context.assets = [symbol(s) for s in [\"SPY\", \"QQQ\"]]\n",
    "    context.prices = {asset: [] for asset in context.assets}\n",
    "    schedule_function(wf_rebalance, date_rules.every_day(), time_rules.market_open())\n",
    "\n",
    "def wf_handle_data(context, data):\n",
    "    for asset in context.assets:\n",
    "        price = data.current(asset, \"close\")\n",
    "        context.prices[asset].append(price)\n",
    "\n",
    "def wf_rebalance(context, data):\n",
    "    for asset in context.assets:\n",
    "        prices = context.prices[asset]\n",
    "        if len(prices) < context.slow_period:\n",
    "            continue\n",
    "        fast_ma = np.mean(prices[-context.fast_period:])\n",
    "        slow_ma = np.mean(prices[-context.slow_period:])\n",
    "        if fast_ma > slow_ma:\n",
    "            order_target_percent(asset, 0.5)\n",
    "        else:\n",
    "            order_target_percent(asset, 0.0)\n",
    "\n",
    "# Run on test period\n",
    "test_results = run_algorithm(\n",
    "    start=test_start,\n",
    "    end=test_end,\n",
    "    initialize=wf_initialize,\n",
    "    handle_data=wf_handle_data,\n",
    "    capital_base=capital_base,\n",
    "    data_frequency=\"daily\",\n",
    "    bundle='csvdir',\n",
    "    trading_calendar=None,\n",
    "    metrics_set=\"default\",\n",
    ")\n",
    "\n",
    "# Calculate out-of-sample metrics\n",
    "test_returns = test_results['portfolio_value'].pct_change()\n",
    "test_total_return = (test_results['portfolio_value'].iloc[-1] / capital_base - 1)\n",
    "test_sharpe = test_returns.mean() / test_returns.std() * np.sqrt(252)\n",
    "\n",
    "print(\"Out-of-Sample Performance (2023):\")\n",
    "print(f\"   Total Return: {test_total_return:.2%}\")\n",
    "print(f\"   Sharpe Ratio: {test_sharpe:.2f}\")\n",
    "print(f\"   Final Value: ${test_results['portfolio_value'].iloc[-1]:,.2f}\")\n",
    "print()\n",
    "print(\"✅ Walk-forward validation complete!\")"
   ]
  },
  {
   "cell_type": "markdown",
   "metadata": {},
   "source": [
    "## Step 7: Export Results\n",
    "\n",
    "Save results for reporting and further analysis."
   ]
  },
  {
   "cell_type": "code",
   "execution_count": 8,
   "metadata": {
    "execution": {
     "iopub.execute_input": "2025-10-17T22:30:49.620956Z",
     "iopub.status.busy": "2025-10-17T22:30:49.620861Z",
     "iopub.status.idle": "2025-10-17T22:30:49.644738Z",
     "shell.execute_reply": "2025-10-17T22:30:49.644413Z"
    }
   },
   "outputs": [
    {
     "name": "stdout",
     "output_type": "stream",
     "text": [
      "💾 Exporting results...\n",
      "\n",
      "✓ Saved backtest_results.parquet to /Users/jerryinyang/.zipline/backtests/20251019_010958_919/results\n",
      "✓ Saved backtest_results.csv to /Users/jerryinyang/.zipline/backtests/20251019_010958_919/results\n",
      "✓ Saved optimization_results.csv to /Users/jerryinyang/.zipline/backtests/20251019_010958_919/results\n",
      "✓ Saved summary_statistics.csv to /Users/jerryinyang/.zipline/backtests/20251019_010958_919/results\n",
      "\n",
      "📁 All results exported to organized backtest directory!\n",
      "   Output directory: /Users/jerryinyang/.zipline/backtests/20251019_010958_919\n",
      "\n",
      "✅ All results exported successfully!\n"
     ]
    }
   ],
   "source": [
    "# Export results\n",
    "print(\"💾 Exporting results...\")\n",
    "print()\n",
    "\n",
    "from rustybt.utils.export import export_csv, export_parquet\n",
    "\n",
    "# For Parquet export, we need to exclude non-serializable columns (like Equity objects)\n",
    "# Keep only numeric and datetime columns\n",
    "numeric_columns = results.select_dtypes(include=[\"number\", \"datetime64\"]).columns.tolist()\n",
    "results_clean = results[numeric_columns]\n",
    "\n",
    "# Export backtest results to Parquet\n",
    "# These will automatically be saved to backtests/{backtest_id}/results/ if artifact management is enabled\n",
    "# Pass results to auto-detect output_dir from DataFrame attrs\n",
    "path = export_parquet(results_clean, \"backtest_results.parquet\", results=results)\n",
    "print(f\"✓ Saved backtest_results.parquet to {path.parent}\")\n",
    "\n",
    "# Export to CSV for compatibility (pandas will auto-convert objects to strings)\n",
    "path = export_csv(results, \"backtest_results.csv\", index=True)\n",
    "print(f\"✓ Saved backtest_results.csv to {path.parent}\")\n",
    "\n",
    "# Export optimization results\n",
    "path = export_csv(opt_df, \"optimization_results.csv\", index=False, results=results)\n",
    "print(f\"✓ Saved optimization_results.csv to {path.parent}\")\n",
    "\n",
    "# Create summary statistics\n",
    "summary_stats = pd.DataFrame({\n",
    "    \"Metric\": [\n",
    "        \"Total Return\",\n",
    "        \"Annualized Return\",\n",
    "        \"Sharpe Ratio\",\n",
    "        \"Max Drawdown\",\n",
    "        \"Win Rate\",\n",
    "        \"Volatility\",\n",
    "        \"Final Portfolio Value\"\n",
    "    ],\n",
    "    \"Value\": [\n",
    "        f\"{total_return:.2%}\",\n",
    "        f\"{annualized_return:.2%}\",\n",
    "        f\"{sharpe_ratio:.2f}\",\n",
    "        f\"{max_drawdown:.2%}\",\n",
    "        f\"{win_rate:.2%}\",\n",
    "        f\"{volatility:.2%}\",\n",
    "        f\"${results['portfolio_value'].iloc[-1]:,.2f}\"\n",
    "    ]\n",
    "})\n",
    "\n",
    "# Save summary\n",
    "path = export_csv(summary_stats, \"summary_statistics.csv\", index=False, results=results)\n",
    "print(f\"✓ Saved summary_statistics.csv to {path.parent}\")\n",
    "\n",
    "print()\n",
    "print(\"📁 All results exported to organized backtest directory!\")\n",
    "print(f\"   Output directory: {path.parent.parent}\")\n",
    "print()\n",
    "print(\"✅ All results exported successfully!\")"
   ]
  },
  {
   "cell_type": "markdown",
   "metadata": {},
   "source": [
    "## Complete Workflow Summary\n",
    "\n",
    "### Steps Completed:\n",
    "\n",
    "1. ✅ **Data Ingestion** - Downloaded SPY and QQQ from yfinance\n",
    "2. ✅ **Bundle Creation** - Ingested data into csvdir bundle\n",
    "3. ✅ **Strategy Development** - Created dual MA crossover functions\n",
    "4. ✅ **Backtest Execution** - Ran backtest using run_algorithm()\n",
    "5. ✅ **Performance Analysis** - Calculated comprehensive metrics\n",
    "6. ✅ **Parameter Optimization** - Grid search across 9 parameter combinations\n",
    "7. ✅ **Walk-Forward Testing** - Validated on out-of-sample data\n",
    "8. ✅ **Export Results** - Saved to multiple formats\n",
    "\n",
    "### Key Features Demonstrated:\n",
    "\n",
    "- 📊 **Data Adapters** - YFinanceAdapter for real market data\n",
    "- 📦 **Bundle System** - csvdir bundle ingestion workflow\n",
    "- 🎯 **Trading Costs** - Realistic commission and slippage models\n",
    "- 🔍 **Optimization** - Grid search with real backtests\n",
    "- ✅ **Validation** - Walk-forward out-of-sample testing\n",
    "- 💾 **Export** - Parquet and CSV formats\n",
    "- ⚡ **Progress Tracking** - Progress bars for data downloads\n",
    "\n",
    "### Performance Metrics Calculated:\n",
    "\n",
    "- Total Return and Annualized Return\n",
    "- Sharpe Ratio\n",
    "- Maximum Drawdown\n",
    "- Win Rate\n",
    "- Annualized Volatility\n",
    "- Final Portfolio Value\n",
    "\n",
    "### Next Steps:\n",
    "\n",
    "- Refine strategy based on optimization results\n",
    "- Add risk management (stop loss, position sizing)\n",
    "- Test on different market regimes\n",
    "- Implement live paper trading (see 09_live_paper_trading.ipynb)\n",
    "- Expand asset universe\n",
    "- Add portfolio rebalancing logic\n",
    "\n",
    "### Workflow Summary:\n",
    "\n",
    "This notebook demonstrates a complete quantitative trading workflow:\n",
    "- Real data from Yahoo Finance (SPY, QQQ 2022-2023)\n",
    "- Actual backtest execution with run_algorithm()\n",
    "- Realistic trading costs (commission and slippage)\n",
    "- Comprehensive validation (9 parameter combinations tested)\n",
    "- Production-grade implementation\n",
    "\n",
    "**Estimated Runtime:** 15-20 minutes (including optimization)\n",
    "\n",
    "---\n",
    "\n",
    "**🎉 Congratulations!** You've completed a full quantitative trading workflow with RustyBT."
   ]
  }
 ],
 "metadata": {
  "kernelspec": {
   "display_name": "rustybt",
   "language": "python",
   "name": "python3"
  },
  "language_info": {
   "codemirror_mode": {
    "name": "ipython",
    "version": 3
   },
   "file_extension": ".py",
   "mimetype": "text/x-python",
   "name": "python",
   "nbconvert_exporter": "python",
   "pygments_lexer": "ipython3",
   "version": "3.13.1"
  },
  "widgets": {
   "application/vnd.jupyter.widget-state+json": {
    "state": {
     "0494ff57703f47be90320395c572522d": {
      "model_module": "@jupyter-widgets/base",
      "model_module_version": "2.0.0",
      "model_name": "LayoutModel",
      "state": {
       "_model_module": "@jupyter-widgets/base",
       "_model_module_version": "2.0.0",
       "_model_name": "LayoutModel",
       "_view_count": null,
       "_view_module": "@jupyter-widgets/base",
       "_view_module_version": "2.0.0",
       "_view_name": "LayoutView",
       "align_content": null,
       "align_items": null,
       "align_self": null,
       "border_bottom": null,
       "border_left": null,
       "border_right": null,
       "border_top": null,
       "bottom": null,
       "display": null,
       "flex": null,
       "flex_flow": null,
       "grid_area": null,
       "grid_auto_columns": null,
       "grid_auto_flow": null,
       "grid_auto_rows": null,
       "grid_column": null,
       "grid_gap": null,
       "grid_row": null,
       "grid_template_areas": null,
       "grid_template_columns": null,
       "grid_template_rows": null,
       "height": null,
       "justify_content": null,
       "justify_items": null,
       "left": null,
       "margin": null,
       "max_height": null,
       "max_width": null,
       "min_height": null,
       "min_width": null,
       "object_fit": null,
       "object_position": null,
       "order": null,
       "overflow": null,
       "padding": null,
       "right": null,
       "top": null,
       "visibility": null,
       "width": null
      }
     },
     "1752fd4a61524dfaaa5600ba2b1f14d4": {
      "model_module": "@jupyter-widgets/controls",
      "model_module_version": "2.0.0",
      "model_name": "HTMLModel",
      "state": {
       "_dom_classes": [],
       "_model_module": "@jupyter-widgets/controls",
       "_model_module_version": "2.0.0",
       "_model_name": "HTMLModel",
       "_view_count": null,
       "_view_module": "@jupyter-widgets/controls",
       "_view_module_version": "2.0.0",
       "_view_name": "HTMLView",
       "description": "",
       "description_allow_html": false,
       "layout": "IPY_MODEL_4862f136cb2a4473ae1b811c9f1e9d32",
       "placeholder": "​",
       "style": "IPY_MODEL_1f9e255eddd34a8ea156d0e30e0168f9",
       "tabbable": null,
       "tooltip": null,
       "value": "Downloading: 100%"
      }
     },
     "1f9e255eddd34a8ea156d0e30e0168f9": {
      "model_module": "@jupyter-widgets/controls",
      "model_module_version": "2.0.0",
      "model_name": "HTMLStyleModel",
      "state": {
       "_model_module": "@jupyter-widgets/controls",
       "_model_module_version": "2.0.0",
       "_model_name": "HTMLStyleModel",
       "_view_count": null,
       "_view_module": "@jupyter-widgets/base",
       "_view_module_version": "2.0.0",
       "_view_name": "StyleView",
       "background": null,
       "description_width": "",
       "font_size": null,
       "text_color": null
      }
     },
     "288975751af64c8db42c1193726bec1b": {
      "model_module": "@jupyter-widgets/controls",
      "model_module_version": "2.0.0",
      "model_name": "HTMLStyleModel",
      "state": {
       "_model_module": "@jupyter-widgets/controls",
       "_model_module_version": "2.0.0",
       "_model_name": "HTMLStyleModel",
       "_view_count": null,
       "_view_module": "@jupyter-widgets/base",
       "_view_module_version": "2.0.0",
       "_view_name": "StyleView",
       "background": null,
       "description_width": "",
       "font_size": null,
       "text_color": null
      }
     },
     "4862f136cb2a4473ae1b811c9f1e9d32": {
      "model_module": "@jupyter-widgets/base",
      "model_module_version": "2.0.0",
      "model_name": "LayoutModel",
      "state": {
       "_model_module": "@jupyter-widgets/base",
       "_model_module_version": "2.0.0",
       "_model_name": "LayoutModel",
       "_view_count": null,
       "_view_module": "@jupyter-widgets/base",
       "_view_module_version": "2.0.0",
       "_view_name": "LayoutView",
       "align_content": null,
       "align_items": null,
       "align_self": null,
       "border_bottom": null,
       "border_left": null,
       "border_right": null,
       "border_top": null,
       "bottom": null,
       "display": null,
       "flex": null,
       "flex_flow": null,
       "grid_area": null,
       "grid_auto_columns": null,
       "grid_auto_flow": null,
       "grid_auto_rows": null,
       "grid_column": null,
       "grid_gap": null,
       "grid_row": null,
       "grid_template_areas": null,
       "grid_template_columns": null,
       "grid_template_rows": null,
       "height": null,
       "justify_content": null,
       "justify_items": null,
       "left": null,
       "margin": null,
       "max_height": null,
       "max_width": null,
       "min_height": null,
       "min_width": null,
       "object_fit": null,
       "object_position": null,
       "order": null,
       "overflow": null,
       "padding": null,
       "right": null,
       "top": null,
       "visibility": null,
       "width": null
      }
     },
     "63259f0a398147249fe0f770356e98a1": {
      "model_module": "@jupyter-widgets/base",
      "model_module_version": "2.0.0",
      "model_name": "LayoutModel",
      "state": {
       "_model_module": "@jupyter-widgets/base",
       "_model_module_version": "2.0.0",
       "_model_name": "LayoutModel",
       "_view_count": null,
       "_view_module": "@jupyter-widgets/base",
       "_view_module_version": "2.0.0",
       "_view_name": "LayoutView",
       "align_content": null,
       "align_items": null,
       "align_self": null,
       "border_bottom": null,
       "border_left": null,
       "border_right": null,
       "border_top": null,
       "bottom": null,
       "display": null,
       "flex": null,
       "flex_flow": null,
       "grid_area": null,
       "grid_auto_columns": null,
       "grid_auto_flow": null,
       "grid_auto_rows": null,
       "grid_column": null,
       "grid_gap": null,
       "grid_row": null,
       "grid_template_areas": null,
       "grid_template_columns": null,
       "grid_template_rows": null,
       "height": null,
       "justify_content": null,
       "justify_items": null,
       "left": null,
       "margin": null,
       "max_height": null,
       "max_width": null,
       "min_height": null,
       "min_width": null,
       "object_fit": null,
       "object_position": null,
       "order": null,
       "overflow": null,
       "padding": null,
       "right": null,
       "top": null,
       "visibility": null,
       "width": null
      }
     },
     "82737170ee5d4f83bd68e99200008e47": {
      "model_module": "@jupyter-widgets/controls",
      "model_module_version": "2.0.0",
      "model_name": "FloatProgressModel",
      "state": {
       "_dom_classes": [],
       "_model_module": "@jupyter-widgets/controls",
       "_model_module_version": "2.0.0",
       "_model_name": "FloatProgressModel",
       "_view_count": null,
       "_view_module": "@jupyter-widgets/controls",
       "_view_module_version": "2.0.0",
       "_view_name": "ProgressView",
       "bar_style": "success",
       "description": "",
       "description_allow_html": false,
       "layout": "IPY_MODEL_a5dedf3817fd4b4bbd985ed16ccf6221",
       "max": 5,
       "min": 0,
       "orientation": "horizontal",
       "style": "IPY_MODEL_c3e9c078e08d4a7fb5162d9280f7ee5f",
       "tabbable": null,
       "tooltip": null,
       "value": 5
      }
     },
     "9b8e4f40cd2a4553bf0cc9af9ab71cb7": {
      "model_module": "@jupyter-widgets/controls",
      "model_module_version": "2.0.0",
      "model_name": "HBoxModel",
      "state": {
       "_dom_classes": [],
       "_model_module": "@jupyter-widgets/controls",
       "_model_module_version": "2.0.0",
       "_model_name": "HBoxModel",
       "_view_count": null,
       "_view_module": "@jupyter-widgets/controls",
       "_view_module_version": "2.0.0",
       "_view_name": "HBoxView",
       "box_style": "",
       "children": [
        "IPY_MODEL_1752fd4a61524dfaaa5600ba2b1f14d4",
        "IPY_MODEL_82737170ee5d4f83bd68e99200008e47",
        "IPY_MODEL_a727a159da1649f5867f1ed5323064a1"
       ],
       "layout": "IPY_MODEL_63259f0a398147249fe0f770356e98a1",
       "tabbable": null,
       "tooltip": null
      }
     },
     "a5dedf3817fd4b4bbd985ed16ccf6221": {
      "model_module": "@jupyter-widgets/base",
      "model_module_version": "2.0.0",
      "model_name": "LayoutModel",
      "state": {
       "_model_module": "@jupyter-widgets/base",
       "_model_module_version": "2.0.0",
       "_model_name": "LayoutModel",
       "_view_count": null,
       "_view_module": "@jupyter-widgets/base",
       "_view_module_version": "2.0.0",
       "_view_name": "LayoutView",
       "align_content": null,
       "align_items": null,
       "align_self": null,
       "border_bottom": null,
       "border_left": null,
       "border_right": null,
       "border_top": null,
       "bottom": null,
       "display": null,
       "flex": null,
       "flex_flow": null,
       "grid_area": null,
       "grid_auto_columns": null,
       "grid_auto_flow": null,
       "grid_auto_rows": null,
       "grid_column": null,
       "grid_gap": null,
       "grid_row": null,
       "grid_template_areas": null,
       "grid_template_columns": null,
       "grid_template_rows": null,
       "height": null,
       "justify_content": null,
       "justify_items": null,
       "left": null,
       "margin": null,
       "max_height": null,
       "max_width": null,
       "min_height": null,
       "min_width": null,
       "object_fit": null,
       "object_position": null,
       "order": null,
       "overflow": null,
       "padding": null,
       "right": null,
       "top": null,
       "visibility": null,
       "width": null
      }
     },
     "a727a159da1649f5867f1ed5323064a1": {
      "model_module": "@jupyter-widgets/controls",
      "model_module_version": "2.0.0",
      "model_name": "HTMLModel",
      "state": {
       "_dom_classes": [],
       "_model_module": "@jupyter-widgets/controls",
       "_model_module_version": "2.0.0",
       "_model_name": "HTMLModel",
       "_view_count": null,
       "_view_module": "@jupyter-widgets/controls",
       "_view_module_version": "2.0.0",
       "_view_name": "HTMLView",
       "description": "",
       "description_allow_html": false,
       "layout": "IPY_MODEL_0494ff57703f47be90320395c572522d",
       "placeholder": "​",
       "style": "IPY_MODEL_288975751af64c8db42c1193726bec1b",
       "tabbable": null,
       "tooltip": null,
       "value": " 5/5 [00:04&lt;00:00,  1.06it/s]"
      }
     },
     "c3e9c078e08d4a7fb5162d9280f7ee5f": {
      "model_module": "@jupyter-widgets/controls",
      "model_module_version": "2.0.0",
      "model_name": "ProgressStyleModel",
      "state": {
       "_model_module": "@jupyter-widgets/controls",
       "_model_module_version": "2.0.0",
       "_model_name": "ProgressStyleModel",
       "_view_count": null,
       "_view_module": "@jupyter-widgets/base",
       "_view_module_version": "2.0.0",
       "_view_name": "StyleView",
       "bar_color": null,
       "description_width": ""
      }
     }
    },
    "version_major": 2,
    "version_minor": 0
   }
  }
 },
 "nbformat": 4,
 "nbformat_minor": 4
}
