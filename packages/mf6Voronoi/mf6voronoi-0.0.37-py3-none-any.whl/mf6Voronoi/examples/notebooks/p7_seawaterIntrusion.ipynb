{
 "cells": [
  {
   "cell_type": "markdown",
   "metadata": {},
   "source": [
    "### Multilayer and transient model\n",
    "\n",
    "#### Part 2a: generate disv properties"
   ]
  },
  {
   "cell_type": "code",
   "execution_count": null,
   "metadata": {},
   "outputs": [],
   "source": [
    "import sys, json, os ## Org\n",
    "import rasterio, flopy ## Org\n",
    "import numpy as np ## Org\n",
    "import matplotlib.pyplot as plt ## Org\n",
    "import geopandas as gpd ## Org\n",
    "from mf6Voronoi.meshProperties import meshShape ## Org\n",
    "from shapely.geometry import MultiLineString ## Org\n",
    "from mf6Voronoi.tools.cellWork import getLayCellElevTupleFromRaster, getLayCellElevTupleFromElev, getLayCellElevTupleFromObs"
   ]
  },
  {
   "cell_type": "code",
   "execution_count": null,
   "metadata": {},
   "outputs": [],
   "source": [
    "# open the json file\n",
    "with open('../json/disvDict.json') as file: ## Org\n",
    "    gridProps = json.load(file) ## Org"
   ]
  },
  {
   "cell_type": "code",
   "execution_count": null,
   "metadata": {},
   "outputs": [],
   "source": [
    "cell2d = gridProps['cell2d']           #cellid, cell centroid xy, vertex number and vertex id list\n",
    "vertices = gridProps['vertices']       #vertex id and xy coordinates\n",
    "ncpl = gridProps['ncpl']               #number of cells per layer\n",
    "nvert = gridProps['nvert']             #number of verts\n",
    "centroids=gridProps['centroids']       #cell centroids xy "
   ]
  },
  {
   "cell_type": "markdown",
   "metadata": {},
   "source": [
    "#### Part 2b: Model construction and simulation"
   ]
  },
  {
   "cell_type": "code",
   "execution_count": null,
   "metadata": {},
   "outputs": [],
   "source": [
    "#Extract dem values for each centroid of the voronois\n",
    "from shapely.geometry import Point\n",
    "\n",
    "src = rasterio.open('../rst/modelDem.tif')  ## Org\n",
    "seaDf = gpd.read_file('../shp/sea.shp')\n",
    "\n",
    "elevation = [] #initialize list\n",
    "\n",
    "for centroid in centroids: #fix values of raster inside the sea polygon\n",
    "    centPoint = Point(centroid) #get geometry of the cell centroid\n",
    "\n",
    "    if centPoint.within(seaDf.iloc[0].geometry): #if it is inside the sea\n",
    "        elevation.append(0)\n",
    "    else:\n",
    "        elevation += [x[0].item() for x in src.sample([centroid])] #assing raster value\n",
    "elevation[1000:1005]"
   ]
  },
  {
   "cell_type": "code",
   "execution_count": null,
   "metadata": {},
   "outputs": [],
   "source": [
    "nlay = 8 ## Org\n",
    "\n",
    "mtop=np.array(elevation) #[elev[0] for i,elev in enumerate(elevation)]) ## Org\n",
    "zbot=np.zeros((nlay,ncpl)) ## Org\n",
    "\n",
    "\n",
    "AcuifInf_Bottom = -30# ######################### aqui me quede\n",
    "zbot[0,] = AcuifInf_Bottom + (0.875 * (mtop - AcuifInf_Bottom)) ## Org\n",
    "zbot[1,] = AcuifInf_Bottom + (0.75 * (mtop - AcuifInf_Bottom)) ## Org\n",
    "zbot[2,] = AcuifInf_Bottom + (0.625 * (mtop - AcuifInf_Bottom)) ## Org\n",
    "zbot[3,] = AcuifInf_Bottom + (0.5 * (mtop - AcuifInf_Bottom)) ## Org\n",
    "zbot[4,] = AcuifInf_Bottom + (0.375 * (mtop - AcuifInf_Bottom)) ## Org\n",
    "zbot[5,] = AcuifInf_Bottom + (0.25 * (mtop - AcuifInf_Bottom)) ## Org\n",
    "zbot[6,] = AcuifInf_Bottom + (0.125 * (mtop - AcuifInf_Bottom)) ## Org\n",
    "zbot[7,] = AcuifInf_Bottom ## Org"
   ]
  },
  {
   "cell_type": "markdown",
   "metadata": {},
   "source": [
    "#### Create simulation and model"
   ]
  },
  {
   "cell_type": "code",
   "execution_count": null,
   "metadata": {},
   "outputs": [],
   "source": [
    "# create simulation\n",
    "simName = 'mf6Sim' ## Org\n",
    "modelName = 'mf6Model' ## Org\n",
    "modelWs = '../modelFiles' ## Org\n",
    "sim = flopy.mf6.MFSimulation(sim_name=simName, version='mf6', ## Org\n",
    "                             exe_name='../bin/mf6.exe', ## Org\n",
    "                             continue_=True,\n",
    "                             sim_ws=modelWs) ## Org"
   ]
  },
  {
   "cell_type": "code",
   "execution_count": null,
   "metadata": {},
   "outputs": [],
   "source": [
    "# create tdis package\n",
    "tdis_rc = [(86400.0*365*50, 1, 1.0)] + [(86400*365*30, 1, 1.0)] ## 30 years, 15 years, 15 years\n",
    "#tdis_rc = [(86400.0*365*50, 1, 1.0)] + [(86400*365*30, 1, 1.0) for level in range(2)] ## 30 years, 15 years, 15 years\n",
    "print(tdis_rc[:3]) ## Org\n",
    "\n",
    "tdis = flopy.mf6.ModflowTdis(sim, pname='tdis', time_units='SECONDS', ## Org\n",
    "                             perioddata=tdis_rc, ## Org\n",
    "                            nper=2) ## Org\n",
    " "
   ]
  },
  {
   "cell_type": "code",
   "execution_count": null,
   "metadata": {},
   "outputs": [],
   "source": [
    "# create gwf model\n",
    "gwf = flopy.mf6.ModflowGwf(sim, ## Org\n",
    "                           modelname=modelName, ## Org\n",
    "                           save_flows=True, ## Org\n",
    "                           newtonoptions=\"NEWTON UNDER_RELAXATION\") ## Org"
   ]
  },
  {
   "cell_type": "code",
   "execution_count": null,
   "metadata": {},
   "outputs": [],
   "source": [
    "# create iterative model solution and register the gwf model with it\n",
    "imsGwf = flopy.mf6.ModflowIms(sim, ## Org\n",
    "                              pname='ims_gwf',\n",
    "                           complexity='COMPLEX', ## Org\n",
    "                           outer_maximum=150, ## Org\n",
    "                           inner_maximum=50, ## Org\n",
    "                           outer_dvclose=0.1, ## Org\n",
    "                           inner_dvclose=0.0001, ## Org\n",
    "                           backtracking_number=20, ## Org\n",
    "                           linear_acceleration='BICGSTAB') ## Org\n",
    "sim.register_ims_package(imsGwf,[modelName]) ## Org"
   ]
  },
  {
   "cell_type": "code",
   "execution_count": null,
   "metadata": {},
   "outputs": [],
   "source": [
    "# disv\n",
    "disv = flopy.mf6.ModflowGwfdisv(gwf, nlay=nlay, ncpl=ncpl, ## Org\n",
    "                                top=mtop, botm=zbot, ## Org\n",
    "                                nvert=nvert, vertices=vertices, ## Org\n",
    "                                cell2d=cell2d) ## Org"
   ]
  },
  {
   "cell_type": "code",
   "execution_count": null,
   "metadata": {},
   "outputs": [],
   "source": [
    "disv.top.plot(figsize=(12,8), alpha=0.8) ## Org"
   ]
  },
  {
   "cell_type": "code",
   "execution_count": null,
   "metadata": {},
   "outputs": [],
   "source": [
    "crossSection = gpd.read_file('../shp/crossSection.shp') ## Org\n",
    "sectionLine =list(crossSection.iloc[0].geometry.coords) ## Org\n",
    "\n",
    "fig, ax = plt.subplots(figsize=(12,8)) ## Org\n",
    "modelxsect = flopy.plot.PlotCrossSection(model=gwf, line={'Line': sectionLine}) ## Org\n",
    "linecollection = modelxsect.plot_grid(lw=0.5) ## Org\n",
    "ax.grid() ## Org"
   ]
  },
  {
   "cell_type": "code",
   "execution_count": null,
   "metadata": {},
   "outputs": [],
   "source": [
    "# initial conditions\n",
    "ic = flopy.mf6.ModflowGwfic(gwf, strt=np.stack([mtop for i in range(nlay)])) ## Org"
   ]
  },
  {
   "cell_type": "code",
   "execution_count": null,
   "metadata": {},
   "outputs": [],
   "source": [
    "Kx =[7E-4 for x in range(3)] + [3E-4 for x in range(3)] + [1E-4 for x in range(2)] ## Org\n",
    "icelltype = [1 for x in range(5)] + [0 for x in range(nlay - 5)] ## Org\n",
    "\n",
    "# node property flow\n",
    "npf = flopy.mf6.ModflowGwfnpf(gwf, ## Org\n",
    "                              save_specific_discharge=True, ## Org\n",
    "                              icelltype=icelltype, ## Org\n",
    "                              k=Kx, ## Org\n",
    "                              k33=np.array(Kx)/10) ## Org"
   ]
  },
  {
   "cell_type": "code",
   "execution_count": null,
   "metadata": {},
   "outputs": [],
   "source": [
    "# define storage and transient stress periods\n",
    "sto = flopy.mf6.ModflowGwfsto(gwf, ## Org\n",
    "                              iconvert=1, ## Org\n",
    "                              steady_state={ ## Org\n",
    "                                0:True, ## Org\n",
    "                              },\n",
    "                              transient={\n",
    "                                  1:True, ## Org\n",
    "                                  2:True, ## Org\n",
    "                              },\n",
    "                              ss=1e-06,\n",
    "                              sy=0.001,\n",
    "                              ) ## Org"
   ]
  },
  {
   "cell_type": "markdown",
   "metadata": {},
   "source": [
    "#### Working with rechage, evapotranspiration"
   ]
  },
  {
   "cell_type": "code",
   "execution_count": null,
   "metadata": {},
   "outputs": [],
   "source": [
    "rchr = 0.2/365/86400 ## Org\n",
    "rch = flopy.mf6.ModflowGwfrcha(gwf, recharge=rchr) ## Org\n",
    "evtr = 1.2/365/86400 ## Org\n",
    "evt = flopy.mf6.ModflowGwfevta(gwf,ievt=1,surface=mtop,rate=evtr,depth=1.0) ## Org"
   ]
  },
  {
   "cell_type": "markdown",
   "metadata": {},
   "source": [
    "#### Definition of the intersect object\n",
    "For the manipulation of spatial data to determine hydraulic parameters or boundary conditions"
   ]
  },
  {
   "cell_type": "code",
   "execution_count": null,
   "metadata": {},
   "outputs": [],
   "source": [
    "# Define intersection object\n",
    "interIx = flopy.utils.gridintersect.GridIntersect(gwf.modelgrid) ## Org"
   ]
  },
  {
   "cell_type": "code",
   "execution_count": null,
   "metadata": {},
   "outputs": [],
   "source": [
    "#general boundary condition\n",
    "\n",
    "ghbSpd = {} ## # <===== Inserted\n",
    "ghbSpd[0] = [] ## # <===== Inserted\n",
    "\n",
    "#regional flow\n",
    "layCellTupleList, cellElevList = getLayCellElevTupleFromRaster(gwf,\n",
    "                                                               interIx,\n",
    "                                                               '../rst/waterTable.tif',\n",
    "                                                               '../shp/regGhb.shp') ## # <===== Inserted\n",
    "\n",
    "for index, layCellTuple in enumerate(layCellTupleList): ## Org\n",
    "    ghbSpd[0].append([layCellTuple,cellElevList[index],0.01, 0, 'regflow']) # <===== Inserted\n",
    "\n",
    "\n",
    "layCellTupleList = getLayCellElevTupleFromElev(gwf,\n",
    "                                               interIx,\n",
    "                                               0,\n",
    "                                               '../shp/sea.shp',)\n",
    "for layCellTuple in layCellTupleList:\n",
    "    ghbSpd[0].append([layCellTuple, 0, 0.20, 0, 'sea'])"
   ]
  },
  {
   "cell_type": "code",
   "execution_count": null,
   "metadata": {},
   "outputs": [],
   "source": [
    "ghb = flopy.mf6.ModflowGwfghb(gwf, stress_period_data=ghbSpd, auxiliary=['CONCENTRATION'], boundnames=True) ## <==== modified\n",
    "\n",
    "# Observation package for Drain\n",
    "obsDict = { # <===== Inserted \n",
    "    \"{}.ghb.obs.csv\".format(modelName): [ # <===== Inserted \n",
    "        (\"regflow\", \"ghb\", \"regionalFlow\"), # <===== Inserted \n",
    "        (\"sea\", \"ghb\", \"sea\") # <===== Inserted \n",
    "    ] # <===== Inserted \n",
    "} # <===== Inserted \n",
    "\n",
    "# Attach observation package to DRN package\n",
    "ghb.obs.initialize( # <===== Inserted \n",
    "    filename=gwf.name+\".ghb.obs\", # <===== Inserted \n",
    "    digits=10, # <===== Inserted \n",
    "    print_input=True, # <===== Inserted \n",
    "    continuous=obsDict # <===== Inserted \n",
    ") # <===== Inserted"
   ]
  },
  {
   "cell_type": "code",
   "execution_count": null,
   "metadata": {},
   "outputs": [],
   "source": [
    "#define buy package\n",
    "buyModName = 'modelBuy'\n",
    "Csalt = 35.\n",
    "Cfresh = 0.\n",
    "densesalt = 1025.\n",
    "densefresh = 1000.\n",
    "denseslp = (densesalt - densefresh) / (Csalt - Cfresh)\n",
    "\n",
    "pd = [(0, denseslp, 0., buyModName, 'CONCENTRATION')]\n",
    "buy = flopy.mf6.ModflowGwfbuy(gwf, denseref=1000., nrhospecies=1,packagedata=pd)"
   ]
  },
  {
   "cell_type": "code",
   "execution_count": null,
   "metadata": {},
   "outputs": [],
   "source": [
    "#ghb plot\n",
    "ghb.plot(mflay=1, kper=0) # <===== Inserted"
   ]
  },
  {
   "cell_type": "code",
   "execution_count": null,
   "metadata": {},
   "outputs": [],
   "source": [
    "from copy import copy\n",
    "#well bc\n",
    "\n",
    "wellSpd = {} ## # <===== Inserted\n",
    "wellSpd[0] = [] ## # <===== Inserted\n",
    "wellSpd[1] = []\n",
    "\n",
    "#regional flow\n",
    "# from raster\n",
    "# layCellTupleList, cellElevList = getLayCellElevTupleFromRaster(gwf,\n",
    "#                                                                interIx,\n",
    "#                                                                '../rst/modelDemMinus45.tif',\n",
    "#                                                                '../shp/wellsStage1.shp') ## # <===== Inserted\n",
    "\n",
    "# for index, layCellTuple in enumerate(layCellTupleList): ## Org\n",
    "#     wellSpd[1].append([layCellTuple,-0.01,'wellsStage1']) # <===== Inserted\n",
    "\n",
    "# from elevation\n",
    "layCellTupleList = getLayCellElevTupleFromElev(gwf,\n",
    "                                               interIx,\n",
    "                                               -20,\n",
    "                                               '../shp/wellsStage1.shp',)\n",
    "for layCellTuple in layCellTupleList:\n",
    "    wellSpd[1].append([layCellTuple, -0.01, 'wellsStage1'])\n",
    "\n",
    "wellSpd[1][:10]\n"
   ]
  },
  {
   "cell_type": "code",
   "execution_count": null,
   "metadata": {},
   "outputs": [],
   "source": [
    "\n",
    "wel = flopy.mf6.ModflowGwfwel(gwf, stress_period_data=wellSpd, boundnames=True) ## <==== modified\n",
    "\n",
    "# Observation package for Drain\n",
    "obsDict = { # <===== Inserted \n",
    "    \"{}.wel.obs.csv\".format(modelName): [ # <===== Inserted \n",
    "        (\"wellsStage1\", \"wel\", \"wellsStage1\") # <===== Inserted \n",
    "    ] # <===== Inserted \n",
    "} # <===== Inserted \n",
    "\n",
    "# Attach observation package to DRN package\n",
    "wel.obs.initialize( # <===== Inserted \n",
    "    filename=gwf.name+\".wel.obs\", # <===== Inserted \n",
    "    digits=10, # <===== Inserted \n",
    "    print_input=True, # <===== Inserted \n",
    "    continuous=obsDict # <===== Inserted \n",
    ") # <===== Inserted\n",
    "\n",
    "#ghb plot\n",
    "wel.plot(mflay=5, kper=1) # <===== Inserted"
   ]
  },
  {
   "cell_type": "markdown",
   "metadata": {},
   "source": [
    "#### Define transport model"
   ]
  },
  {
   "cell_type": "code",
   "execution_count": null,
   "metadata": {},
   "outputs": [],
   "source": [
    "#create transport package\n",
    "gwt = flopy.mf6.ModflowGwt(sim, modelname=buyModName)\n",
    "\n",
    "#register solver for transport model\n",
    "imsGwt = flopy.mf6.ModflowIms(sim,\n",
    "                              pname='ims_gwt', \n",
    "                              #print_option='SUMMARY', ## Org \n",
    "                              outer_dvclose=2e-4, ## Org\n",
    "                              inner_dvclose=3e-4, ## Org\n",
    "                              linear_acceleration='BICGSTAB') ## Org\n",
    "sim.register_ims_package(imsGwt,[gwt.name])\n",
    "\n",
    "#define spatial discretization\n",
    "gwtDisv = flopy.mf6.ModflowGwtdisv(gwt, nlay=disv.nlay.data,\n",
    "                                   ncpl=disv.ncpl.data,\n",
    "                                   nvert=disv.nvert.data,\n",
    "                                   top=disv.top.data,\n",
    "                                   botm=disv.botm.data,\n",
    "                                   vertices=disv.vertices.array.tolist(),\n",
    "                                   cell2d=disv.cell2d.array.tolist(),\n",
    "                                  )"
   ]
  },
  {
   "cell_type": "code",
   "execution_count": null,
   "metadata": {},
   "outputs": [],
   "source": [
    "## Org\n",
    "\n",
    "sim.register_ims_package(imsGwf,[modelName])\n",
    "\n",
    "\n",
    "#sim.write_simulation()"
   ]
  },
  {
   "cell_type": "code",
   "execution_count": null,
   "metadata": {},
   "outputs": [],
   "source": [
    "#define starting concentrations\n",
    "strtConc = np.zeros((disv.nlay.data, disv.ncpl.data), dtype=np.float32)\n",
    "\n",
    "ghbList = ghb.stress_period_data.array[0].tolist()\n",
    "ghbList[-5:]"
   ]
  },
  {
   "cell_type": "code",
   "execution_count": null,
   "metadata": {},
   "outputs": [],
   "source": [
    "for ghbItem in ghbList:\n",
    "    if ghbItem[4] == 'sea':\n",
    "        strtConc[:,ghbItem[0][1]] = 35 #apply for all layers below the ghb\n",
    "gwtIc = flopy.mf6.ModflowGwtic(gwt, strt=strtConc)"
   ]
  },
  {
   "cell_type": "code",
   "execution_count": null,
   "metadata": {},
   "outputs": [],
   "source": [
    "# create plot of initial concentratios\n",
    "fig = plt.figure(figsize=(12, 12))\n",
    "ax = fig.add_subplot(1, 1, 1, aspect = 'equal')\n",
    "mapview = flopy.plot.PlotMapView(model=gwf,layer = 1)\n",
    "\n",
    "plot_array = mapview.plot_array(strtConc,masked_values=[-1e+30], cmap=plt.cm.summer)\n",
    "plt.colorbar(plot_array, shrink=0.75,orientation='horizontal', pad=0.08, aspect=50)"
   ]
  },
  {
   "cell_type": "code",
   "execution_count": null,
   "metadata": {},
   "outputs": [],
   "source": [
    "#define advection\n",
    "adv = flopy.mf6.ModflowGwtadv(gwt, scheme='UPSTREAM')\n",
    "#define dispersion\n",
    "dsp = flopy.mf6.ModflowGwtdsp(gwt,alh=10,ath1=10)\n",
    "#define mobile storage and transfer\n",
    "porosity = 0.30\n",
    "sto = flopy.mf6.ModflowGwtmst(gwt, porosity=porosity)\n",
    "#define sink and source package\n",
    "sourcerecarray = ['GHB_0','AUX','CONCENTRATION']\n",
    "ssm = flopy.mf6.ModflowGwtssm(gwt, sources=sourcerecarray)"
   ]
  },
  {
   "cell_type": "code",
   "execution_count": null,
   "metadata": {},
   "outputs": [],
   "source": [
    "#define constant concentration package\n",
    "cncSp = []\n",
    "for row in ghb.stress_period_data.array[0]:\n",
    "    if row['boundname'] == 'sea':\n",
    "        cncSp.append([row[0],35])\n",
    "\n",
    "cncSpd = {0:cncSp,1:cncSp}\n",
    "cnc = flopy.mf6.ModflowGwtcnc(gwt,stress_period_data=cncSpd)\n",
    "# cnc.plot(mflay=0, lw=0.1, figsize=(12,12))"
   ]
  },
  {
   "cell_type": "code",
   "execution_count": null,
   "metadata": {},
   "outputs": [],
   "source": [
    "#working with observation points \n",
    "obsList = []\n",
    "nameList, obsLayCellList = getLayCellElevTupleFromObs(gwf, ## Org\n",
    "                  interIx, ## Org\n",
    "                  '../shp/obsPoints.shp', ## Org\n",
    "                  'name', ## Org\n",
    "                  'elev') ## Org\n",
    "\n",
    "for obsName, obsLayCell in zip(nameList, obsLayCellList): ## Org\n",
    "    obsList.append((obsName,'concentration',obsLayCell[0]+1,obsLayCell[1]+1)) ## Org\n",
    "\n",
    "\n",
    "obs = flopy.mf6.ModflowUtlobs( ## Org\n",
    "    gwt,\n",
    "    filename=gwt.name+'.obs', ## Org\n",
    "    digits=10, ## Org\n",
    "    print_input=True, ## Org\n",
    "    continuous={gwt.name+'.obs.csv': obsList} ## Org\n",
    ")"
   ]
  },
  {
   "cell_type": "markdown",
   "metadata": {},
   "source": [
    "#### Set the output control and exchange / run model"
   ]
  },
  {
   "cell_type": "code",
   "execution_count": null,
   "metadata": {},
   "outputs": [],
   "source": [
    "#oc for flow \n",
    "head_filerecord = f\"{gwf.name}.hds\" ## Org\n",
    "budget_filerecord = f\"{gwf.name}.cbc\" ## Org\n",
    "oc = flopy.mf6.ModflowGwfoc(gwf, ## Org\n",
    "                            head_filerecord=head_filerecord, ## Org\n",
    "                            budget_filerecord = budget_filerecord, ## Org\n",
    "                            saverecord=[(\"HEAD\", \"LAST\"),(\"BUDGET\",\"LAST\")]) ## Org\n",
    "\n",
    "#oc for transport\n",
    "oc = flopy.mf6.ModflowGwtoc(gwt,\n",
    "                            concentration_filerecord=buyModName+'.ucn',\n",
    "                            saverecord=[('CONCENTRATION', 'ALL')])\n",
    "\n",
    "#define model flow and transport exchange\n",
    "name = 'modelExchange'\n",
    "gwfgwt = flopy.mf6.ModflowGwfgwt(sim, exgtype='GWF6-GWT6',\n",
    "                                 exgmnamea=gwf.name, exgmnameb=buyModName,\n",
    "                                 filename='{}.gwfgwt'.format(name))"
   ]
  },
  {
   "cell_type": "code",
   "execution_count": null,
   "metadata": {},
   "outputs": [],
   "source": [
    "# Run the simulation\n",
    "sim.write_simulation() ## Org\n"
   ]
  },
  {
   "cell_type": "code",
   "execution_count": null,
   "metadata": {},
   "outputs": [],
   "source": [
    "success, buff = sim.run_simulation() ## Org"
   ]
  },
  {
   "cell_type": "markdown",
   "metadata": {},
   "source": [
    "#### Model output visualization"
   ]
  },
  {
   "cell_type": "code",
   "execution_count": null,
   "metadata": {},
   "outputs": [],
   "source": [
    "headObj = gwf.output.head() ## Org\n",
    "headObj.get_kstpkper() ## Org"
   ]
  },
  {
   "cell_type": "code",
   "execution_count": null,
   "metadata": {},
   "outputs": [],
   "source": [
    "kper = 0 ## Org\n",
    "lay = 0 ## Org"
   ]
  },
  {
   "cell_type": "code",
   "execution_count": null,
   "metadata": {},
   "outputs": [],
   "source": [
    "heads = headObj.get_data(kstpkper=(0,kper)) \n",
    "#heads[lay,0,:5] \n",
    "#heads = headObj.get_data(kstpkper=(0,0)) \n",
    "#np.save('npy/headCalibInitial', heads)"
   ]
  },
  {
   "cell_type": "code",
   "execution_count": null,
   "metadata": {},
   "outputs": [],
   "source": [
    "### Plot the heads for a defined layer and boundary conditions\n",
    "fig = plt.figure(figsize=(12,8)) ## Org\n",
    "ax = fig.add_subplot(1, 1, 1, aspect='equal') ## Org\n",
    "modelmap = flopy.plot.PlotMapView(model=gwf) ## Org\n",
    "\n",
    "####\n",
    "levels = np.linspace(heads[heads>-1e+30].min(),heads[heads>-1e+30].max(),num=50) ## Org\n",
    "contour = modelmap.contour_array(heads[lay],ax=ax,levels=levels,cmap='PuBu') \n",
    "ax.clabel(contour) ## Org\n",
    "\n",
    "\n",
    "quadmesh = modelmap.plot_bc('GHB') ## Org\n",
    "cellhead = modelmap.plot_array(heads[lay],ax=ax, cmap='Blues', alpha=0.8) \n",
    "\n",
    "linecollection = modelmap.plot_grid(linewidth=0.3, alpha=0.5, color='cyan', ax=ax) ## Org\n",
    "\n",
    "plt.colorbar(cellhead, shrink=0.75) ## Org\n",
    "\n",
    "plt.show() ## Org\n"
   ]
  },
  {
   "cell_type": "code",
   "execution_count": null,
   "metadata": {},
   "outputs": [],
   "source": [
    "crossSection = gpd.read_file('../shp/crossSection.shp')\n",
    "sectionLine =list(crossSection.iloc[0].geometry.coords)\n",
    "\n",
    "waterTable = flopy.utils.postprocessing.get_water_table(heads)\n",
    "\n",
    "fig, ax = plt.subplots(figsize=(12,8))\n",
    "xsect = flopy.plot.PlotCrossSection(model=gwf, line={'Line': sectionLine})\n",
    "lc = xsect.plot_grid(lw=0.5)\n",
    "xsect.plot_array(heads, alpha=0.5)\n",
    "xsect.plot_surface(waterTable)\n",
    "xsect.plot_bc('ghb', kper=kper, facecolor='none', edgecolor='teal')\n",
    "plt.show()"
   ]
  },
  {
   "cell_type": "markdown",
   "metadata": {},
   "source": [
    "#### Explore the concentration results"
   ]
  },
  {
   "cell_type": "code",
   "execution_count": null,
   "metadata": {},
   "outputs": [],
   "source": [
    "concObj = gwt.output.concentration() ## Org\n",
    "concObj.get_kstpkper() ## Org"
   ]
  },
  {
   "cell_type": "code",
   "execution_count": null,
   "metadata": {},
   "outputs": [],
   "source": [
    "#define time series and stress period to plot\n",
    "ts = (0,1)\n",
    "\n",
    "#get concentrations for the time step\n",
    "tempConc = concObj.get_data(kstpkper=ts)"
   ]
  },
  {
   "cell_type": "code",
   "execution_count": null,
   "metadata": {},
   "outputs": [],
   "source": [
    "### Review the flow model\n",
    "fig = plt.figure(figsize=(12, 12))\n",
    "ax = fig.add_subplot(1, 1, 1, aspect = 'equal')\n",
    "mapview = flopy.plot.PlotMapView(model=gwf,layer = 4)\n",
    "\n",
    "plot_array = mapview.plot_array(tempConc,masked_values=[-1e+30], cmap=plt.cm.summer)\n",
    "plt.colorbar(plot_array, shrink=0.75,orientation='horizontal', pad=0.08, aspect=50)"
   ]
  },
  {
   "cell_type": "code",
   "execution_count": null,
   "metadata": {},
   "outputs": [],
   "source": [
    "### Zoom to intrusion\n",
    "# fig = plt.figure(figsize=(12, 12))\n",
    "# ax = fig.add_subplot(1, 1, 1, aspect = 'equal')\n",
    "# mapview = flopy.plot.PlotMapView(model=gwf,layer = 4)\n",
    "\n",
    "# plot_array = mapview.plot_array(tempConc,masked_values=[-1e+30], cmap=plt.cm.summer)\n",
    "# plt.colorbar(plot_array, shrink=0.75,orientation='horizontal', pad=0.08, aspect=50)\n",
    "# ax.set_xlim(200000,206000)\n",
    "# ax.set_ylim(8798000,8803000)"
   ]
  },
  {
   "cell_type": "code",
   "execution_count": null,
   "metadata": {},
   "outputs": [],
   "source": [
    "#plot heads on line\n",
    "tempHead = headObj.get_data(kstpkper=ts)\n",
    "fig, ax = plt.subplots(figsize=(18,6))\n",
    "\n",
    "crossSection = gpd.read_file('../shp/crossSection.shp')\n",
    "sectionLine =list(crossSection.iloc[0].geometry.coords)\n",
    "\n",
    "\n",
    "crossview = flopy.plot.PlotCrossSection(model=gwf, line={\"line\": sectionLine})\n",
    "crossview.plot_grid(alpha=0.25)\n",
    "strtArray = crossview.plot_array(tempConc, masked_values=[1e30], cmap=plt.cm.summer)\n",
    "cb = plt.colorbar(strtArray, shrink=0.5)"
   ]
  }
 ],
 "metadata": {
  "kernelspec": {
   "display_name": "base",
   "language": "python",
   "name": "python3"
  },
  "language_info": {
   "codemirror_mode": {
    "name": "ipython",
    "version": 3
   },
   "file_extension": ".py",
   "mimetype": "text/x-python",
   "name": "python",
   "nbconvert_exporter": "python",
   "pygments_lexer": "ipython3",
   "version": "3.12.7"
  }
 },
 "nbformat": 4,
 "nbformat_minor": 4
}
