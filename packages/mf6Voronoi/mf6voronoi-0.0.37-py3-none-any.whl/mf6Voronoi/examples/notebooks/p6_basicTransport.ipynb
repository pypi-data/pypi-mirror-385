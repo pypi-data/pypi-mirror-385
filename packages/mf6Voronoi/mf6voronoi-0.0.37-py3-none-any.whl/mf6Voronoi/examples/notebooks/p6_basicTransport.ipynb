{
 "cells": [
  {
   "cell_type": "markdown",
   "id": "f6a6c289",
   "metadata": {},
   "source": [
    "### Transport modeling based on a flow model"
   ]
  },
  {
   "cell_type": "code",
   "execution_count": null,
   "id": "a15e568c",
   "metadata": {},
   "outputs": [],
   "source": [
    "#Basic lines for transport modeling\n",
    "import flopy ## Org\n",
    "import json, os ## Org\n",
    "import numpy as np ## Org\n",
    "import geopandas as gpd ## Org\n",
    "import matplotlib.pyplot as plt ## Org\n",
    "from mf6Voronoi.tools.cellWork import getLayCellElevTupleFromRaster, getLayCellElevTupleFromObs ## Org"
   ]
  },
  {
   "cell_type": "code",
   "execution_count": null,
   "id": "3ecdae22",
   "metadata": {},
   "outputs": [],
   "source": [
    "# load simulation\n",
    "simName = 'mf6Sim' ## Org\n",
    "modelName = 'mf6Model' ## Org \n",
    "modelWs = os.path.abspath('../modelFiles') ## Org\n",
    "sim = flopy.mf6.MFSimulation.load(sim_name=modelName, version='mf6', ## Org\n",
    "                             exe_name='../../Bin/mf6.exe', ## Org\n",
    "                             sim_ws=modelWs) ## Org\n",
    "transWs  = os.path.abspath('../transFiles') ## Org\n",
    "#change working directory\n",
    "sim.set_sim_path(transWs) ## Org\n",
    "sim.write_simulation(silent=True) ## Org"
   ]
  },
  {
   "cell_type": "code",
   "execution_count": null,
   "id": "40c81954",
   "metadata": {},
   "outputs": [],
   "source": [
    "#list model names\n",
    "sim.model_names ## Org"
   ]
  },
  {
   "cell_type": "code",
   "execution_count": null,
   "id": "f98402b6",
   "metadata": {},
   "outputs": [],
   "source": [
    "#select the flow model\n",
    "gwf = sim.get_model('mf6model') ## Org"
   ]
  },
  {
   "cell_type": "code",
   "execution_count": null,
   "id": "b20fd7ae",
   "metadata": {},
   "outputs": [],
   "source": [
    "# open the json file\n",
    "with open('../json/disvDict.json') as file: ## Org\n",
    "    gridProps = json.load(file) ## Org\n",
    "\n",
    "cell2d = gridProps['cell2d']           #cellid, cell centroid xy, vertex number and vertex id list ## Org\n",
    "vertices = gridProps['vertices']       #vertex id and xy coordinates ## Org\n",
    "ncpl = gridProps['ncpl']               #number of cells per layer ## Org\n",
    "nvert = gridProps['nvert']             #number of verts ## Org\n",
    "centroids=gridProps['centroids']       ## Org"
   ]
  },
  {
   "cell_type": "code",
   "execution_count": null,
   "id": "fb9a9840",
   "metadata": {},
   "outputs": [],
   "source": [
    "#define the transport model ## Org\n",
    "gwt = flopy.mf6.ModflowGwt(sim, ## Org\n",
    "                           modelname='gwtModel', ## Org\n",
    "                           save_flows=True) ## Org"
   ]
  },
  {
   "cell_type": "code",
   "execution_count": null,
   "id": "839b0a46",
   "metadata": {},
   "outputs": [],
   "source": [
    "#register solver for transport model\n",
    "imsGwt = flopy.mf6.ModflowIms(sim, print_option='SUMMARY', ## Org \n",
    "                              outer_dvclose=1e-4, ## Org\n",
    "                              inner_dvclose=1e-4, ## Org\n",
    "                              linear_acceleration='BICGSTAB') ## Org\n",
    "sim.register_ims_package(imsGwt,[gwt.name]) ## Org"
   ]
  },
  {
   "cell_type": "code",
   "execution_count": null,
   "id": "669740d0",
   "metadata": {},
   "outputs": [],
   "source": [
    "# apply discretization to transport model\n",
    "disv = flopy.mf6.ModflowGwtdisv(gwt,  ## Org \n",
    "                                nlay=gwf.modelgrid.nlay,  ## Org \n",
    "                                ncpl=ncpl,  ## Org \n",
    "                                top=gwf.modelgrid.top,  ## Org \n",
    "                                botm=gwf.modelgrid.botm,  ## Org \n",
    "                                nvert=nvert,  ## Org \n",
    "                                vertices=vertices,  ## Org \n",
    "                                cell2d=cell2d)  ## Org "
   ]
  },
  {
   "cell_type": "code",
   "execution_count": null,
   "id": "46d8a78b",
   "metadata": {},
   "outputs": [],
   "source": [
    "#define starting concentrations\n",
    "strtConc = np.zeros((gwf.modelgrid.nlay, ncpl), dtype=np.float32) ## Org \n",
    "\n",
    "interIx = flopy.utils.gridintersect.GridIntersect(gwf.modelgrid) ## Org \n",
    "\n",
    "gwtIc = flopy.mf6.ModflowGwtic(gwt, strt=strtConc) ## Org "
   ]
  },
  {
   "cell_type": "code",
   "execution_count": null,
   "id": "dd2a1a7e",
   "metadata": {},
   "outputs": [],
   "source": [
    "fig = plt.figure(figsize=(12, 12)) ## Org \n",
    "ax = fig.add_subplot(1, 1, 1, aspect = 'equal') ## Org \n",
    "mapview = flopy.plot.PlotMapView(model=gwf,layer = 2) ## Org \n",
    "\n",
    "plot_array = mapview.plot_array(strtConc,masked_values=[-1e+30], cmap=plt.cm.summer) ## Org \n",
    "plt.colorbar(plot_array, shrink=0.75,orientation='horizontal', pad=0.08, aspect=50) ## Org "
   ]
  },
  {
   "cell_type": "code",
   "execution_count": null,
   "id": "57a47110",
   "metadata": {},
   "outputs": [],
   "source": [
    "# set advection, dispersion\n",
    "adv = flopy.mf6.ModflowGwtadv(gwt, scheme='UPSTREAM') ## Org \n",
    "dsp = flopy.mf6.ModflowGwtdsp(gwt, alh=1.0, ath1=0.1) ## Org \n",
    "\n",
    "#define mobile storage and transfer\n",
    "porosity = 0.05 ## Org \n",
    "sto = flopy.mf6.ModflowGwtmst(gwt, porosity=porosity) ## Org "
   ]
  },
  {
   "cell_type": "code",
   "execution_count": null,
   "id": "b149cd18",
   "metadata": {},
   "outputs": [],
   "source": [
    "#define sink and source package\n",
    "sourcerecarray = [()] ## Org \n",
    "ssm = flopy.mf6.ModflowGwtssm(gwt, sources=sourcerecarray) ## Org "
   ]
  },
  {
   "cell_type": "code",
   "execution_count": null,
   "id": "0ad15343",
   "metadata": {},
   "outputs": [],
   "source": [
    "cncSpd = {} ## Org\n",
    "cncSpd[0] = [] ## Org\n",
    "cnc = flopy.mf6.ModflowGwtcnc(gwt,stress_period_data=cncSpd) ## Org\n",
    "cnc.plot(mflay=2) ## Org"
   ]
  },
  {
   "cell_type": "code",
   "execution_count": null,
   "id": "7ec1c5ed",
   "metadata": {},
   "outputs": [],
   "source": [
    "obsList = []\n",
    "nameList, obsLayCellList = getLayCellElevTupleFromObs(gwf, ## Org\n",
    "                  interIx, ## Org\n",
    "                  '../shp/##piezometers##.shp', ## Org\n",
    "                  '##nameField##', ## Org\n",
    "                  '##elevField##') ## Org\n",
    "\n",
    "for obsName, obsLayCell in zip(nameList, obsLayCellList): ## Org\n",
    "    obsList.append((obsName,'concentration',obsLayCell[0]+1,obsLayCell[1]+1)) ## Org\n",
    "\n",
    "\n",
    "obs = flopy.mf6.ModflowUtlobs( ## Org\n",
    "    gwt,\n",
    "    filename=gwt.name+'.obs', ## Org\n",
    "    digits=10, ## Org\n",
    "    print_input=True, ## Org\n",
    "    continuous={gwt.name+'.obs.csv': obsList} ## Org\n",
    ")"
   ]
  },
  {
   "cell_type": "code",
   "execution_count": null,
   "id": "2afd086a",
   "metadata": {},
   "outputs": [],
   "source": [
    "#define output control\n",
    "oc_gwt = flopy.mf6.ModflowGwtoc(gwt, ## Org\n",
    "                                budget_filerecord='%s.cbc'%gwt.name, ## Org\n",
    "                                concentration_filerecord='%s.ucn'%gwt.name, ## Org\n",
    "                                saverecord=[('CONCENTRATION', 'LAST'), ('BUDGET', 'LAST')], ## Org\n",
    "                                printrecord=[('CONCENTRATION', 'LAST'), ('BUDGET', 'LAST')], ## Org\n",
    "                                )"
   ]
  },
  {
   "cell_type": "code",
   "execution_count": null,
   "id": "41baa38e",
   "metadata": {},
   "outputs": [],
   "source": [
    "pd = [ ## Org\n",
    "    (\"GWFHEAD\", \"../modelFiles/##headFile##.hds\"), ## Org\n",
    "    (\"GWFBUDGET\", \"../modelFiles/##budgetFile##.cbc\"), ## Org\n",
    "]\n",
    "\n",
    "fmi = flopy.mf6.ModflowGwtfmi(gwt, ## Org\n",
    "                              flow_imbalance_correction=True, ## Org\n",
    "                              packagedata=pd) ## Org"
   ]
  },
  {
   "cell_type": "code",
   "execution_count": null,
   "id": "3c19368a",
   "metadata": {},
   "outputs": [],
   "source": [
    "sim.write_simulation() ## Org\n",
    "success, buff = sim.run_simulation() ## Org"
   ]
  },
  {
   "cell_type": "code",
   "execution_count": null,
   "id": "5f423e21",
   "metadata": {},
   "outputs": [],
   "source": [
    "concObj = gwt.output.concentration() ## Org\n",
    "concObj.get_times() ## Org"
   ]
  },
  {
   "cell_type": "code",
   "execution_count": null,
   "id": "5b6f6224",
   "metadata": {},
   "outputs": [],
   "source": [
    "conc = concObj.get_data() ## Org\n",
    "conc.shape ## Org"
   ]
  },
  {
   "cell_type": "code",
   "execution_count": null,
   "id": "a3ac3d30",
   "metadata": {},
   "outputs": [],
   "source": [
    "transAoi = gpd.read_file('../shp/##soluteRefinement##.shp') ## Org\n",
    "xMin, yMin, xMax, yMax = transAoi.bounds.iloc[0].values ## Org"
   ]
  },
  {
   "cell_type": "code",
   "execution_count": null,
   "id": "b8e7dda9",
   "metadata": {},
   "outputs": [],
   "source": [
    "mflay = 2 ## Org\n",
    "\n",
    "# Plot the heads for a defined layer and boundary conditions\n",
    "fig = plt.figure(figsize=(12,8))  ## Org\n",
    "ax = fig.add_subplot(1, 1, 1, aspect='equal')  ## Org\n",
    "modelmap = flopy.plot.PlotMapView(model=gwf)  ## Org\n",
    "\n",
    "levels = np.linspace(0,conc.max()/2,num=10)  ## Org\n",
    "quadmesh = modelmap.plot_bc('DRN', color='crimson')  ## Org\n",
    "\n",
    "contour = modelmap.contour_array(conc[mflay],ax=ax,levels=levels,cmap='summer')  ## Org\n",
    "ax.clabel(contour)  ## Org\n",
    "\n",
    "linecollection = modelmap.plot_grid(linewidth=0.1, alpha=0.8, color='cyan', ax=ax)  ## Org\n",
    "\n",
    "cellConc = modelmap.plot_array(conc[mflay],ax=ax,cmap='Blues')  ## Org\n",
    "\n",
    "quadmesh = modelmap.plot_bc('DRN', color='slategrey')  ## Org\n",
    "\n",
    "#dump1 = modelmap.plot_shapefile('../shp/wasteDump1.shp')\n",
    "#piezo = modelmap.plot_shapefile('../shp/piezometers2.shp', radius=10)\n",
    "\n",
    "ax.set_xlim(xMin,xMax)\n",
    "ax.set_ylim(yMin,yMax)\n",
    "\n",
    "plt.colorbar(cellConc, shrink=0.25) \n",
    "\n",
    "plt.show() "
   ]
  }
 ],
 "metadata": {
  "kernelspec": {
   "display_name": "Python 3",
   "language": "python",
   "name": "python3"
  },
  "language_info": {
   "codemirror_mode": {
    "name": "ipython",
    "version": 3
   },
   "file_extension": ".py",
   "mimetype": "text/x-python",
   "name": "python",
   "nbconvert_exporter": "python",
   "pygments_lexer": "ipython3",
   "version": "3.12.3"
  }
 },
 "nbformat": 4,
 "nbformat_minor": 5
}
