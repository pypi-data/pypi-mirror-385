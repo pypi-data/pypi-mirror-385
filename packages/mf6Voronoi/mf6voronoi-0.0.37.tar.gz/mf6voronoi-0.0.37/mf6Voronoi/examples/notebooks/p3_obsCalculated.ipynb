{
 "cells": [
  {
   "cell_type": "markdown",
   "id": "80aad988",
   "metadata": {},
   "source": [
    "### Comparison between observed and calculated"
   ]
  },
  {
   "cell_type": "code",
   "execution_count": null,
   "id": "bc6600e1",
   "metadata": {},
   "outputs": [],
   "source": [
    "#!pip install scikit-learn"
   ]
  },
  {
   "cell_type": "code",
   "execution_count": null,
   "id": "1f8499e1-bbe3-45f5-b872-2ee7736be0f3",
   "metadata": {},
   "outputs": [],
   "source": [
    "#import the require packages\n",
    "import flopy ## Org\n",
    "import geopandas as gpd ## Org\n",
    "import numpy as np ## Org\n",
    "import matplotlib.pyplot as plt ## Org\n",
    "from mf6Voronoi.utils import initiateOutputFolder ## Org\n",
    "from sklearn.metrics import  mean_squared_error, mean_absolute_error, r2_score, mean_squared_error ## Org"
   ]
  },
  {
   "cell_type": "code",
   "execution_count": null,
   "id": "291b0d98-3442-4331-9b59-47969aadb9b4",
   "metadata": {},
   "outputs": [],
   "source": [
    "#define model name and model path\n",
    "simName = 'mf6Sim' ## Org\n",
    "modelName = 'mf6Model' ## Org\n",
    "modelWs = 'modelFiles' ## Org"
   ]
  },
  {
   "cell_type": "code",
   "execution_count": null,
   "id": "7a494bf1-f3ec-4dbd-bca7-71a2d033888f",
   "metadata": {},
   "outputs": [],
   "source": [
    "#open the observation file out heads\n",
    "obsOut = flopy.utils.observationfile.Mf6Obs(modelWs+'/'+modelName+'.ob_gw_out_head',isBinary=False) ## Org"
   ]
  },
  {
   "cell_type": "code",
   "execution_count": null,
   "id": "ecbb89d9-4bfe-4f79-8370-94a6a7a6bb61",
   "metadata": {},
   "outputs": [],
   "source": [
    "#create a dataframe for the observation points\n",
    "totalObsDf = obsOut.get_dataframe().transpose() ## Org\n",
    "totalObsDf = totalObsDf.rename(columns={totalObsDf.keys()[0]:'SimHead'}) ## Org\n",
    "totalObsDf = totalObsDf.drop('totim',axis=0) ## Org\n",
    "totalObsDf['ObsHead'] = 0 ## Org\n",
    "totalObsDf['Easting'] = 0 ## Org\n",
    "totalObsDf['Northing'] = 0 ## Org\n",
    "totalObsDf.head() ## Org"
   ]
  },
  {
   "cell_type": "code",
   "execution_count": null,
   "id": "be21be05-4370-4a93-930f-117805d7339f",
   "metadata": {},
   "outputs": [],
   "source": [
    "#open the observed data file\n",
    "obsDf = gpd.read_file('shp/piezometers.shp') ## Org\n",
    "obsDf.head() ## Org"
   ]
  },
  {
   "cell_type": "code",
   "execution_count": null,
   "id": "b0af11a8-ece6-4c37-bb80-e3af0c62d8ac",
   "metadata": {},
   "outputs": [],
   "source": [
    "#look for the observed elevation and coordinates\n",
    "for index, row in totalObsDf.iterrows(): ## Org\n",
    "    for index2, row2 in obsDf.iterrows(): ## Org\n",
    "        if index.lower() == row2.Name.lower(): ## Org\n",
    "            totalObsDf.loc[index,'ObsHead'] = row2.waterHead ## Org\n",
    "            totalObsDf.loc[index,'Easting'] = float(row2.geometry.x) ## Org\n",
    "            totalObsDf.loc[index,'Northing'] = float(row2.geometry.y) ## Org"
   ]
  },
  {
   "cell_type": "code",
   "execution_count": null,
   "id": "ba260379-5c81-49f4-bc81-c14e93a6ae05",
   "metadata": {},
   "outputs": [],
   "source": [
    "#compute the residual and save csv file\n",
    "#initiateOutputFolder('../Model/output')\n",
    "\n",
    "totalObsDf = totalObsDf[totalObsDf['SimHead']>0] ## Org\n",
    "totalObsDf['Residual'] = totalObsDf['SimHead'] - totalObsDf['ObsHead'] ## Org\n",
    "totalObsDf.to_csv('output/HobDf_Out.csv') ## Org\n",
    "totalObsDf.head() ## Org"
   ]
  },
  {
   "cell_type": "code",
   "execution_count": null,
   "id": "4550a597-3f27-4806-a90c-29051bd9124f",
   "metadata": {},
   "outputs": [],
   "source": [
    "filterObsDf=totalObsDf.dropna() ## Org\n",
    "filterObsDf ## Org"
   ]
  },
  {
   "cell_type": "code",
   "execution_count": null,
   "id": "95d6c504-c74f-43e1-ab26-8998ac5a4ec8",
   "metadata": {},
   "outputs": [],
   "source": [
    "#Create a basic scatter plot with Matplotlib\n",
    "#A identity line was created based on the minumum and maximum observed value\n",
    "#Points markers are colored by the residual and a residual colorbar is added to the figure\n",
    "fig = plt.figure(figsize=(10,8)) ## Org\n",
    "\n",
    "minMin = np.min([filterObsDf['SimHead'].min(),filterObsDf['ObsHead'].min()]) ## Org\n",
    "maxMax = np.max([filterObsDf['SimHead'].max(),filterObsDf['ObsHead'].max()]) ## Org\n",
    "meanSquareError = mean_squared_error(filterObsDf['ObsHead'],filterObsDf['SimHead']) ## Org\n",
    "meanAbsoluteError = mean_absolute_error(filterObsDf['ObsHead'],filterObsDf['SimHead']) ## Org\n",
    "r2score = r2_score(filterObsDf['ObsHead'],filterObsDf['SimHead']) ## Org\n",
    "nrms = (meanSquareError**0.5)/(maxMax-minMin)*100 ## Org\n",
    "\n",
    "x = np.linspace(filterObsDf['SimHead'].min()-5, filterObsDf['SimHead'].max()+5, 100) ## Org\n",
    "plt.plot(x, x, linestyle='dashed') ## Org\n",
    "plt.scatter(filterObsDf['ObsHead'],filterObsDf['SimHead'], marker='o', c=filterObsDf['Residual']) ## Org\n",
    "for index, row in filterObsDf.iterrows(): ## Org\n",
    "    if row['ObsHead'] > 0: ## Org\n",
    "        plt.text(int(row['ObsHead']),int(row['SimHead']),index) ## Org\n",
    "\n",
    "#cbar = plt.colorbar()\n",
    "#cbar.set_label('Residual (m)', fontsize=14)\n",
    "\n",
    "plt.grid() ## Org\n",
    "plt.suptitle('Comparison Observed vs Simulated') ## Org\n",
    "plt.title('''Nro of Points: %d \n",
    "    Mean square error: %.2f\n",
    "    Mean absolute error: %.2f\n",
    "    R2 score: %.2f\n",
    "    NRMS(percentage): %.2f'''%(filterObsDf.shape[0],meanSquareError,meanAbsoluteError,r2score,nrms)) ## Org\n",
    "plt.xlabel('Observed Head (m)', fontsize=14) ## Org\n",
    "plt.ylabel('Simulated Head (m)', fontsize=14) ## Org\n",
    "fig.tight_layout() ## Org"
   ]
  },
  {
   "cell_type": "code",
   "execution_count": null,
   "id": "2358c829",
   "metadata": {},
   "outputs": [],
   "source": []
  }
 ],
 "metadata": {
  "kernelspec": {
   "display_name": "Python 3 (ipykernel)",
   "language": "python",
   "name": "python3"
  },
  "language_info": {
   "codemirror_mode": {
    "name": "ipython",
    "version": 3
   },
   "file_extension": ".py",
   "mimetype": "text/x-python",
   "name": "python",
   "nbconvert_exporter": "python",
   "pygments_lexer": "ipython3",
   "version": "3.10.12"
  }
 },
 "nbformat": 4,
 "nbformat_minor": 5
}
