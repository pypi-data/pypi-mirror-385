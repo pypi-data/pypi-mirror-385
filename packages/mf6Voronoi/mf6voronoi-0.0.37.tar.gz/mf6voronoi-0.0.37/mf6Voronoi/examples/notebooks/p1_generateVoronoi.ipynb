{
 "cells": [
  {
   "cell_type": "markdown",
   "metadata": {},
   "source": [
    "### Mesh generation\n",
    "\n",
    "#### Part 1 : Voronoi mesh generation"
   ]
  },
  {
   "cell_type": "code",
   "execution_count": null,
   "metadata": {},
   "outputs": [],
   "source": [
    "import warnings ## Org\n",
    "warnings.filterwarnings('ignore') ## Org\n",
    "\n",
    "import os, sys ## Org\n",
    "import geopandas as gpd ## Org\n",
    "from mf6Voronoi.geoVoronoi import createVoronoi ## Org\n",
    "from mf6Voronoi.meshProperties import meshShape ## Org\n",
    "from mf6Voronoi.utils import initiateOutputFolder, getVoronoiAsShp ## Org"
   ]
  },
  {
   "cell_type": "code",
   "execution_count": null,
   "metadata": {},
   "outputs": [],
   "source": [
    "#Create mesh object specifying the coarse mesh and the multiplier\n",
    "vorMesh = createVoronoi(meshName='regionalModel',maxRef = 250, multiplier=1) ## Org\n",
    "\n",
    "#Open limit layers and refinement definition layers\n",
    "vorMesh.addLimit('basin','shp/catchment.shp') ## Org\n",
    "vorMesh.addLayer('river','shp/river_basin.shp',100) ## Org"
   ]
  },
  {
   "cell_type": "code",
   "execution_count": null,
   "metadata": {},
   "outputs": [],
   "source": [
    "#Generate point pair array\n",
    "vorMesh.generateOrgDistVertices() ## Org\n",
    "\n",
    "#Generate the point cloud and voronoi\n",
    "vorMesh.createPointCloud() ## Org\n",
    "vorMesh.generateVoronoi() ## Org"
   ]
  },
  {
   "cell_type": "code",
   "execution_count": null,
   "metadata": {},
   "outputs": [],
   "source": [
    "#Uncomment the next two cells if you have strong differences on discretization or you have encounter an FORTRAN error while running MODFLOW6"
   ]
  },
  {
   "cell_type": "code",
   "execution_count": null,
   "metadata": {},
   "outputs": [],
   "source": [
    "#vorMesh.checkVoronoiQuality(threshold=0.01)"
   ]
  },
  {
   "cell_type": "code",
   "execution_count": null,
   "metadata": {},
   "outputs": [],
   "source": [
    "#vorMesh.fixVoronoiShortSides()\n",
    "#vorMesh.generateVoronoi()\n",
    "#vorMesh.checkVoronoiQuality(threshold=0.01)"
   ]
  },
  {
   "cell_type": "code",
   "execution_count": null,
   "metadata": {},
   "outputs": [],
   "source": [
    "#Export generated voronoi mesh\n",
    "initiateOutputFolder('output') ## Org\n",
    "getVoronoiAsShp(vorMesh.modelDis, shapePath='output/'+vorMesh.modelDis['meshName']+'.shp') ## Org"
   ]
  },
  {
   "cell_type": "code",
   "execution_count": null,
   "metadata": {},
   "outputs": [],
   "source": [
    "# Show the resulting voronoi mesh\n",
    "\n",
    "#open the mesh file\n",
    "mesh=gpd.read_file('output/'+vorMesh.modelDis['meshName']+'.shp') ## Org\n",
    "#plot the mesh\n",
    "mesh.plot(figsize=(35,25), fc='crimson', alpha=0.3, ec='teal') ## Org"
   ]
  },
  {
   "cell_type": "markdown",
   "metadata": {},
   "source": [
    "#### Part 2 generate disv properties"
   ]
  },
  {
   "cell_type": "code",
   "execution_count": null,
   "metadata": {},
   "outputs": [],
   "source": [
    "# open the mesh file\n",
    "mesh=meshShape('output/'+vorMesh.modelDis['meshName']+'.shp') ## Org"
   ]
  },
  {
   "cell_type": "code",
   "execution_count": null,
   "metadata": {},
   "outputs": [],
   "source": [
    "# get the list of vertices and cell2d data\n",
    "gridprops=mesh.get_gridprops_disv() ## Org"
   ]
  },
  {
   "cell_type": "code",
   "execution_count": null,
   "metadata": {},
   "outputs": [],
   "source": [
    "#create folder\n",
    "initiateOutputFolder('json') ## Org\n",
    "\n",
    "#export disv\n",
    "mesh.save_properties('json/disvDict.json') ## Org"
   ]
  }
 ],
 "metadata": {
  "kernelspec": {
   "display_name": "Python 3 (ipykernel)",
   "language": "python",
   "name": "python3"
  },
  "language_info": {
   "codemirror_mode": {
    "name": "ipython",
    "version": 3
   },
   "file_extension": ".py",
   "mimetype": "text/x-python",
   "name": "python",
   "nbconvert_exporter": "python",
   "pygments_lexer": "ipython3",
   "version": "3.10.12"
  }
 },
 "nbformat": 4,
 "nbformat_minor": 4
}
