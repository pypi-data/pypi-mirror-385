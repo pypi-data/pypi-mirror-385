{
 "cells": [
  {
   "cell_type": "markdown",
   "metadata": {},
   "source": [
    "### Multilayer and transient model\n",
    "\n",
    "#### Part 2a: generate disv properties"
   ]
  },
  {
   "cell_type": "code",
   "execution_count": null,
   "metadata": {},
   "outputs": [],
   "source": [
    "import sys, json, os ## Org\n",
    "import rasterio, flopy ## Org\n",
    "import numpy as np ## Org\n",
    "import matplotlib.pyplot as plt ## Org\n",
    "import geopandas as gpd ## Org\n",
    "from mf6Voronoi.meshProperties import meshShape ## Org\n",
    "from shapely.geometry import MultiLineString ## Org\n",
    "from mf6Voronoi.tools.cellWork import getLayCellElevTupleFromRaster, getLayCellElevTupleFromElev"
   ]
  },
  {
   "cell_type": "code",
   "execution_count": null,
   "metadata": {},
   "outputs": [],
   "source": [
    "# open the json file\n",
    "with open('json/disvDict.json') as file: ## Org\n",
    "    gridProps = json.load(file) ## Org"
   ]
  },
  {
   "cell_type": "code",
   "execution_count": null,
   "metadata": {},
   "outputs": [],
   "source": [
    "cell2d = gridProps['cell2d']           #cellid, cell centroid xy, vertex number and vertex id list\n",
    "vertices = gridProps['vertices']       #vertex id and xy coordinates\n",
    "ncpl = gridProps['ncpl']               #number of cells per layer\n",
    "nvert = gridProps['nvert']             #number of verts\n",
    "centroids=gridProps['centroids']       #cell centroids xy "
   ]
  },
  {
   "cell_type": "markdown",
   "metadata": {},
   "source": [
    "#### Part 2b: Model construction and simulation"
   ]
  },
  {
   "cell_type": "code",
   "execution_count": null,
   "metadata": {},
   "outputs": [],
   "source": [
    "#Extract dem values for each centroid of the voronois\n",
    "src = rasterio.open('rst/elevWgs18S.tif')  ## Org\n",
    "elevation=[x for x in src.sample(centroids)] ## Org"
   ]
  },
  {
   "cell_type": "code",
   "execution_count": null,
   "metadata": {},
   "outputs": [],
   "source": [
    "nlay = 15 ## Org\n",
    "\n",
    "mtop=np.array([elev[0] for i,elev in enumerate(elevation)]) ## Org\n",
    "zbot=np.zeros((nlay,ncpl)) ## Org\n",
    "\n",
    "\n",
    "AcuifInf_Bottom = 3200 ## Org\n",
    "zbot[0,] = AcuifInf_Bottom + (0.975 * (mtop - AcuifInf_Bottom)) ## Org\n",
    "zbot[1,] = AcuifInf_Bottom + (0.95 * (mtop - AcuifInf_Bottom)) ## Org\n",
    "zbot[2,] = AcuifInf_Bottom + (0.925 * (mtop - AcuifInf_Bottom)) ## Org\n",
    "zbot[3,] = AcuifInf_Bottom + (0.9 * (mtop - AcuifInf_Bottom)) ## Org\n",
    "zbot[4,] = AcuifInf_Bottom + (0.875 * (mtop - AcuifInf_Bottom)) ## Org\n",
    "zbot[5,] = AcuifInf_Bottom + (0.85 * (mtop - AcuifInf_Bottom)) ## Org\n",
    "zbot[6,] = AcuifInf_Bottom + (0.825 * (mtop - AcuifInf_Bottom)) ## Org\n",
    "zbot[7,] = AcuifInf_Bottom + (0.8 * (mtop - AcuifInf_Bottom)) ## Org\n",
    "zbot[8,] = AcuifInf_Bottom + (0.775 * (mtop - AcuifInf_Bottom)) ## Org\n",
    "zbot[9,] = AcuifInf_Bottom + (0.75 * (mtop - AcuifInf_Bottom)) ## Org\n",
    "zbot[10,] = AcuifInf_Bottom + (0.725 * (mtop - AcuifInf_Bottom)) ## Org\n",
    "zbot[11,] = AcuifInf_Bottom + (0.7 * (mtop - AcuifInf_Bottom)) ## Org\n",
    "zbot[12,] = AcuifInf_Bottom + (0.675 * (mtop - AcuifInf_Bottom)) ## Org\n",
    "zbot[13,] = AcuifInf_Bottom + (0.40 * (mtop - AcuifInf_Bottom)) ## Org\n",
    "zbot[14,] = AcuifInf_Bottom ## Org"
   ]
  },
  {
   "cell_type": "markdown",
   "metadata": {},
   "source": [
    "#### Create simulation and model"
   ]
  },
  {
   "cell_type": "code",
   "execution_count": null,
   "metadata": {},
   "outputs": [],
   "source": [
    "# create simulation\n",
    "simName = 'mf6Sim' ## Org\n",
    "modelName = 'mf6Model' ## Org\n",
    "modelWs = 'modelFiles' ## Org\n",
    "sim = flopy.mf6.MFSimulation(sim_name=modelName, version='mf6', ## Org\n",
    "                             exe_name='bin/mf6.exe', ## Org\n",
    "                             sim_ws=modelWs) ## Org"
   ]
  },
  {
   "cell_type": "code",
   "execution_count": null,
   "metadata": {},
   "outputs": [],
   "source": [
    "# create tdis package\n",
    "tdis_rc = [(1.0, 1, 1.0)] + [(86400*365, 1, 1.0) for level in range(5)] ## Org\n",
    "print(tdis_rc[:3]) ## Org\n",
    "\n",
    "tdis = flopy.mf6.ModflowTdis(sim, pname='tdis', time_units='SECONDS', ## Org\n",
    "                             perioddata=tdis_rc, ## Org\n",
    "                            nper=6) ## Org\n",
    " "
   ]
  },
  {
   "cell_type": "code",
   "execution_count": null,
   "metadata": {},
   "outputs": [],
   "source": [
    "# create gwf model\n",
    "gwf = flopy.mf6.ModflowGwf(sim, ## Org\n",
    "                           modelname=modelName, ## Org\n",
    "                           save_flows=True, ## Org\n",
    "                           newtonoptions=\"NEWTON UNDER_RELAXATION\") ## Org"
   ]
  },
  {
   "cell_type": "code",
   "execution_count": null,
   "metadata": {},
   "outputs": [],
   "source": [
    "# create iterative model solution and register the gwf model with it\n",
    "ims = flopy.mf6.ModflowIms(sim, ## Org\n",
    "                           complexity='COMPLEX', ## Org\n",
    "                           outer_maximum=150, ## Org\n",
    "                           inner_maximum=50, ## Org\n",
    "                           outer_dvclose=0.1, ## Org\n",
    "                           inner_dvclose=0.0001, ## Org\n",
    "                           backtracking_number=20, ## Org\n",
    "                           linear_acceleration='BICGSTAB') ## Org\n",
    "sim.register_ims_package(ims,[modelName]) ## Org"
   ]
  },
  {
   "cell_type": "code",
   "execution_count": null,
   "metadata": {},
   "outputs": [],
   "source": [
    "# disv\n",
    "disv = flopy.mf6.ModflowGwfdisv(gwf, nlay=nlay, ncpl=ncpl, ## Org\n",
    "                                top=mtop, botm=zbot, ## Org\n",
    "                                nvert=nvert, vertices=vertices, ## Org\n",
    "                                cell2d=cell2d) ## Org"
   ]
  },
  {
   "cell_type": "code",
   "execution_count": null,
   "metadata": {},
   "outputs": [],
   "source": [
    "disv.top.plot(figsize=(12,8), alpha=0.8) ## Org"
   ]
  },
  {
   "cell_type": "code",
   "execution_count": null,
   "metadata": {},
   "outputs": [],
   "source": [
    "crossSection = gpd.read_file('shp/crossSection.shp') ## Org\n",
    "sectionLine =list(crossSection.iloc[0].geometry.coords) ## Org\n",
    "\n",
    "fig, ax = plt.subplots(figsize=(12,8)) ## Org\n",
    "modelxsect = flopy.plot.PlotCrossSection(model=gwf, line={'Line': sectionLine}) ## Org\n",
    "linecollection = modelxsect.plot_grid(lw=0.5) ## Org\n",
    "ax.grid() ## Org"
   ]
  },
  {
   "cell_type": "code",
   "execution_count": null,
   "metadata": {},
   "outputs": [],
   "source": [
    "# initial conditions\n",
    "\n",
    "ic = flopy.mf6.ModflowGwfic(gwf, strt=np.stack([mtop for i in range(nlay)])) ## Org\n",
    "#headsInitial = np.load('npy/headCalibInitial.npy')\n",
    "#ic = flopy.mf6.ModflowGwfic(gwf, strt=headsInitial)"
   ]
  },
  {
   "cell_type": "code",
   "execution_count": null,
   "metadata": {},
   "outputs": [],
   "source": [
    "Kx =[4E-4] + [7E-7 for x in range(4)] + [3E-7 for x in range(4)] + [1E-7 for x in range(nlay - 9)] ## Org\n",
    "icelltype = [1 for x in range(10)] + [0 for x in range(nlay - 10)] ## Org\n",
    "\n",
    "# node property flow\n",
    "npf = flopy.mf6.ModflowGwfnpf(gwf, ## Org\n",
    "                              save_specific_discharge=True, ## Org\n",
    "                              icelltype=icelltype, ## Org\n",
    "                              k=Kx, ## Org\n",
    "                              k33=np.array(Kx)/10) ## Org"
   ]
  },
  {
   "cell_type": "code",
   "execution_count": null,
   "metadata": {},
   "outputs": [],
   "source": [
    "# define storage and transient stress periods\n",
    "sto = flopy.mf6.ModflowGwfsto(gwf, ## Org\n",
    "                              iconvert=1, ## Org\n",
    "                              steady_state={ ## Org\n",
    "                                0:True, ## Org\n",
    "                              },\n",
    "                              transient={\n",
    "                                  1:True, ## Org\n",
    "                                  2:True, ## Org\n",
    "                                  3:True, ## Org\n",
    "                                  4:True, ## Org\n",
    "                                  5:True, ## Org\n",
    "                              },\n",
    "                              ss=1e-06,\n",
    "                              sy=0.001,\n",
    "                              ) ## Org"
   ]
  },
  {
   "cell_type": "markdown",
   "metadata": {},
   "source": [
    "#### Working with rechage, evapotranspiration"
   ]
  },
  {
   "cell_type": "code",
   "execution_count": null,
   "metadata": {},
   "outputs": [],
   "source": [
    "rchr = 0.2/365/86400 ## Org\n",
    "rch = flopy.mf6.ModflowGwfrcha(gwf, recharge=rchr) ## Org\n",
    "evtr = 1.2/365/86400 ## Org\n",
    "evt = flopy.mf6.ModflowGwfevta(gwf,ievt=1,surface=mtop,rate=evtr,depth=1.0) ## Org"
   ]
  },
  {
   "cell_type": "markdown",
   "metadata": {},
   "source": [
    "#### Definition of the intersect object\n",
    "For the manipulation of spatial data to determine hydraulic parameters or boundary conditions"
   ]
  },
  {
   "cell_type": "code",
   "execution_count": null,
   "metadata": {},
   "outputs": [],
   "source": [
    "# Define intersection object\n",
    "interIx = flopy.utils.gridintersect.GridIntersect(gwf.modelgrid) ## Org"
   ]
  },
  {
   "cell_type": "code",
   "execution_count": null,
   "metadata": {},
   "outputs": [],
   "source": [
    "#river package\n",
    "layCellTupleList, cellElevList = getLayCellElevTupleFromRaster(gwf,interIx,'rst/elevWgs18S.tif','shp/riversSpart.shp') ## Org\n",
    "riverSpd = {} ## Org\n",
    "riverSpd[0] = [] ## Org\n",
    "for index, layCellTuple in enumerate(layCellTupleList): ## Org\n",
    "    riverSpd[0].append([layCellTuple,cellElevList[index],0.01]) ## Org"
   ]
  },
  {
   "cell_type": "code",
   "execution_count": null,
   "metadata": {},
   "outputs": [],
   "source": [
    "riv = flopy.mf6.ModflowGwfdrn(gwf, stress_period_data=riverSpd) ## Org"
   ]
  },
  {
   "cell_type": "code",
   "execution_count": null,
   "metadata": {},
   "outputs": [],
   "source": [
    "#river plot\n",
    "riv.plot(mflay=0, kper=1) ## Org"
   ]
  },
  {
   "cell_type": "code",
   "execution_count": null,
   "metadata": {},
   "outputs": [],
   "source": [
    "crossSection = gpd.read_file('shp/crossSection.shp') ## Org\n",
    "sectionLine =list(crossSection.iloc[0].geometry.coords) ## Org\n",
    "\n",
    "fig, ax = plt.subplots(figsize=(12,8)) ## Org\n",
    "xsect = flopy.plot.PlotCrossSection(model=gwf, line={'Line': sectionLine}) ## Org\n",
    "lc = xsect.plot_grid(lw=0.5) ## Org\n",
    "xsect.plot_bc('DRN',kper=4) ## Org\n",
    "ax.grid() ## Org"
   ]
  },
  {
   "cell_type": "markdown",
   "metadata": {},
   "source": [
    "#### Set the Output Control and run simulation"
   ]
  },
  {
   "cell_type": "code",
   "execution_count": null,
   "metadata": {},
   "outputs": [],
   "source": [
    "#oc\n",
    "head_filerecord = f\"{gwf.name}.hds\" ## Org\n",
    "budget_filerecord = f\"{gwf.name}.cbc\" ## Org\n",
    "oc = flopy.mf6.ModflowGwfoc(gwf, ## Org\n",
    "                            head_filerecord=head_filerecord, ## Org\n",
    "                            budget_filerecord = budget_filerecord, ## Org\n",
    "                            saverecord=[(\"HEAD\", \"LAST\"),(\"BUDGET\",\"LAST\")]) ## Org"
   ]
  },
  {
   "cell_type": "code",
   "execution_count": null,
   "metadata": {},
   "outputs": [],
   "source": [
    "# Run the simulation\n",
    "sim.write_simulation() ## Org\n",
    "success, buff = sim.run_simulation() ## Org"
   ]
  },
  {
   "cell_type": "markdown",
   "metadata": {},
   "source": [
    "#### Model output visualization"
   ]
  },
  {
   "cell_type": "code",
   "execution_count": null,
   "metadata": {},
   "outputs": [],
   "source": [
    "headObj = gwf.output.head() ## Org\n",
    "headObj.get_kstpkper() ## Org"
   ]
  },
  {
   "cell_type": "code",
   "execution_count": null,
   "metadata": {},
   "outputs": [],
   "source": [
    "kper = 1 ## Org\n",
    "lay = 0 ## Org"
   ]
  },
  {
   "cell_type": "code",
   "execution_count": null,
   "metadata": {},
   "outputs": [],
   "source": [
    "heads = headObj.get_data(kstpkper=(0,kper)) \n",
    "#heads[lay,0,:5] \n",
    "#heads = headObj.get_data(kstpkper=(0,0)) \n",
    "#np.save('npy/headCalibInitial', heads)"
   ]
  },
  {
   "cell_type": "code",
   "execution_count": null,
   "metadata": {},
   "outputs": [],
   "source": [
    "### Plot the heads for a defined layer and boundary conditions\n",
    "fig = plt.figure(figsize=(12,8)) ## Org\n",
    "ax = fig.add_subplot(1, 1, 1, aspect='equal') ## Org\n",
    "modelmap = flopy.plot.PlotMapView(model=gwf) ## Org\n",
    "\n",
    "####\n",
    "levels = np.linspace(heads[heads>-1e+30].min(),heads[heads>-1e+30].max(),num=50) ## Org\n",
    "contour = modelmap.contour_array(heads[lay],ax=ax,levels=levels,cmap='PuBu') \n",
    "ax.clabel(contour) ## Org\n",
    "\n",
    "\n",
    "quadmesh = modelmap.plot_bc('DRN') ## Org\n",
    "cellhead = modelmap.plot_array(heads[lay],ax=ax, cmap='Blues', alpha=0.8) \n",
    "\n",
    "linecollection = modelmap.plot_grid(linewidth=0.3, alpha=0.5, color='cyan', ax=ax) ## Org\n",
    "\n",
    "plt.colorbar(cellhead, shrink=0.75) ## Org\n",
    "\n",
    "plt.show() ## Org"
   ]
  },
  {
   "cell_type": "code",
   "execution_count": null,
   "metadata": {},
   "outputs": [],
   "source": [
    "crossSection = gpd.read_file('shp/crossSection.shp')\n",
    "sectionLine =list(crossSection.iloc[0].geometry.coords)\n",
    "\n",
    "waterTable = flopy.utils.postprocessing.get_water_table(heads)\n",
    "waterTable2 = flopy.utils.postprocessing.get_water_table(heads2)\n",
    "\n",
    "fig, ax = plt.subplots(figsize=(12,8))\n",
    "xsect = flopy.plot.PlotCrossSection(model=gwf, line={'Line': sectionLine})\n",
    "lc = modelxsect.plot_grid(lw=0.5)\n",
    "xsect.plot_array(heads, alpha=0.5)\n",
    "xsect.plot_surface(waterTable)\n",
    "xsect.plot_bc('drn', kper=kper, facecolor='none', edgecolor='teal')\n",
    "plt.show()"
   ]
  },
  {
   "cell_type": "code",
   "execution_count": null,
   "metadata": {},
   "outputs": [],
   "source": []
  }
 ],
 "metadata": {
  "kernelspec": {
   "display_name": "Python 3",
   "language": "python",
   "name": "python3"
  },
  "language_info": {
   "codemirror_mode": {
    "name": "ipython",
    "version": 3
   },
   "file_extension": ".py",
   "mimetype": "text/x-python",
   "name": "python",
   "nbconvert_exporter": "python",
   "pygments_lexer": "ipython3",
   "version": "3.12.3"
  }
 },
 "nbformat": 4,
 "nbformat_minor": 4
}
