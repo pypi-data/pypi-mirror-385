{
 "cells": [
  {
   "cell_type": "markdown",
   "id": "0bb53823",
   "metadata": {},
   "source": [
    "### 3d geometry generation on Vtk format"
   ]
  },
  {
   "cell_type": "code",
   "execution_count": null,
   "id": "b5456407-e3fb-4f43-aa78-fb5523ab3b00",
   "metadata": {},
   "outputs": [],
   "source": [
    "#Vtk generation\n",
    "import flopy ## Org\n",
    "from mf6Voronoi.tools.vtkGen import Mf6VtkGenerator ## Org\n",
    "from mf6Voronoi.utils import initiateOutputFolder ## Org"
   ]
  },
  {
   "cell_type": "code",
   "execution_count": null,
   "id": "afdd989d-8049-4003-9a5e-4484d4566b52",
   "metadata": {},
   "outputs": [],
   "source": [
    "# load simulation\n",
    "simName = 'mf6Sim' ## Org\n",
    "modelName = 'mf6Model' ## Org\n",
    "modelWs = 'modelFiles' ## Org\n",
    "sim = flopy.mf6.MFSimulation.load(sim_name=modelName, version='mf6', ## Org\n",
    "                             exe_name='bin/mf6.exe', ## Org\n",
    "                             sim_ws=modelWs) ## Org"
   ]
  },
  {
   "cell_type": "code",
   "execution_count": null,
   "id": "cc644b24-0172-4ae6-890f-0641a1028434",
   "metadata": {},
   "outputs": [],
   "source": [
    "vtkDir = 'vtk' ## Org\n",
    "initiateOutputFolder(vtkDir) ## Org\n",
    "\n",
    "mf6Vtk = Mf6VtkGenerator(sim, vtkDir) ## Org"
   ]
  },
  {
   "cell_type": "code",
   "execution_count": null,
   "id": "d6d77995",
   "metadata": {},
   "outputs": [],
   "source": [
    "#list models on the simulation\n",
    "mf6Vtk.listModels() ## Org"
   ]
  },
  {
   "cell_type": "code",
   "execution_count": null,
   "id": "bb5633e9-e613-4960-b4f7-7bb639e99fa5",
   "metadata": {},
   "outputs": [],
   "source": [
    "mf6Vtk.loadModel(modelName) ## Org"
   ]
  },
  {
   "cell_type": "code",
   "execution_count": null,
   "id": "d91089b0-6a14-439a-882b-e6766a3706c7",
   "metadata": {},
   "outputs": [],
   "source": [
    "#show output data\n",
    "headObj = mf6Vtk.gwf.output.head() ## Org\n",
    "headObj.get_kstpkper() ## Org"
   ]
  },
  {
   "cell_type": "code",
   "execution_count": null,
   "id": "39feff43-c935-42e4-bbd3-7d6b87290562",
   "metadata": {},
   "outputs": [],
   "source": [
    "#generate model geometry as vtk and parameter array\n",
    "mf6Vtk.generateGeometryArrays() ## Org"
   ]
  },
  {
   "cell_type": "code",
   "execution_count": null,
   "id": "3e92a380-268c-4689-b258-ec54e25cb309",
   "metadata": {},
   "outputs": [],
   "source": [
    "#generate parameter vtk\n",
    "mf6Vtk.generateParamVtk() ## Org"
   ]
  },
  {
   "cell_type": "code",
   "execution_count": null,
   "id": "cf02427f-c9e4-4070-b73b-5e059211249e",
   "metadata": {},
   "outputs": [],
   "source": [
    "#generate bc and obs vtk\n",
    "mf6Vtk.generateBcObsVtk(nper=0) ## Org"
   ]
  },
  {
   "cell_type": "code",
   "execution_count": null,
   "id": "ead72765-89c9-4dd0-bb64-04686c7d3197",
   "metadata": {},
   "outputs": [],
   "source": [
    "mf6Vtk.generateHeadVtk(nper=0, crop=True) ## Org"
   ]
  },
  {
   "cell_type": "code",
   "execution_count": null,
   "id": "5f7a8869-81db-459c-abe3-78c17dcc72c9",
   "metadata": {},
   "outputs": [],
   "source": [
    "mf6Vtk.generateWaterTableVtk(nper=0) ## Org"
   ]
  }
 ],
 "metadata": {
  "kernelspec": {
   "display_name": "Python [conda env:base] *",
   "language": "python",
   "name": "conda-base-py"
  },
  "language_info": {
   "codemirror_mode": {
    "name": "ipython",
    "version": 3
   },
   "file_extension": ".py",
   "mimetype": "text/x-python",
   "name": "python",
   "nbconvert_exporter": "python",
   "pygments_lexer": "ipython3",
   "version": "3.12.7"
  }
 },
 "nbformat": 4,
 "nbformat_minor": 5
}
