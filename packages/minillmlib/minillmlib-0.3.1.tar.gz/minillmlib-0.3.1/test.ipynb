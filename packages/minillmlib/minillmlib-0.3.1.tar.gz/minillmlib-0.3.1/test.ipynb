{
 "cells": [
  {
   "cell_type": "code",
   "execution_count": 1,
   "id": "ca83f6bf",
   "metadata": {},
   "outputs": [
    {
     "name": "stderr",
     "output_type": "stream",
     "text": [
      "/home/quentin101010/miniconda3/envs/BET-dev/lib/python3.12/site-packages/tqdm/auto.py:21: TqdmWarning: IProgress not found. Please update jupyter and ipywidgets. See https://ipywidgets.readthedocs.io/en/stable/user_install.html\n",
      "  from .autonotebook import tqdm as notebook_tqdm\n",
      "None of PyTorch, TensorFlow >= 2.0, or Flax have been found. Models won't be available and only tokenizers, configuration and file/data utilities can be used.\n",
      "None of PyTorch, TensorFlow >= 2.0, or Flax have been found. Models won't be available and only tokenizers, configuration and file/data utilities can be used.\n"
     ]
    },
    {
     "name": "stdout",
     "output_type": "stream",
     "text": [
      "The image is a colorful, detailed view of a nebula in space, full of swirling gas and dust and countless stars. The colors range from deep reds and oranges to vibrant blues and whites. The background is a vast, dark expanse, punctuated by the twinkling of stars.\n",
      "\n"
     ]
    }
   ],
   "source": [
    "import minillmlib as mll\n",
    "import os\n",
    "from dotenv import load_dotenv\n",
    "load_dotenv()\n",
    "\n",
    "node = mll.ChatNode(audio_data=mll.AudioData(audio_paths=[\n",
    "  \"./data/test.mp3\"\n",
    "]), image_data=mll.ImageData(images=[\n",
    "  \"./data/test.jpg\"\n",
    "]))\n",
    "\n",
    "gi = mll.GeneratorInfo(\n",
    "  model=\"google/gemini-2.0-flash-lite-001\",\n",
    "  api_url=\"https://openrouter.ai/api/v1/chat/completions\",\n",
    "  api_key=os.getenv(\"OPENROUTER_API_KEY\"),  # Set your OpenRouter API key\n",
    "  _format=\"url\",  # Use URL format for OpenRouter\n",
    "  completion_parameters=mll.GeneratorCompletionParameters(\n",
    "    temperature=0.7,\n",
    "    max_tokens=1024,\n",
    "  )\n",
    ")\n",
    "\n",
    "result = node.complete_one(mll.NodeCompletionParameters(\n",
    "  gi=gi,\n",
    "  exp_back_off=False,\n",
    "  retry=1\n",
    "))\n",
    "print(result.content)"
   ]
  },
  {
   "cell_type": "code",
   "execution_count": null,
   "id": "1a320db3",
   "metadata": {},
   "outputs": [],
   "source": []
  }
 ],
 "metadata": {
  "kernelspec": {
   "display_name": "BET-dev",
   "language": "python",
   "name": "python3"
  },
  "language_info": {
   "codemirror_mode": {
    "name": "ipython",
    "version": 3
   },
   "file_extension": ".py",
   "mimetype": "text/x-python",
   "name": "python",
   "nbconvert_exporter": "python",
   "pygments_lexer": "ipython3",
   "version": "3.12.0"
  }
 },
 "nbformat": 4,
 "nbformat_minor": 5
}
