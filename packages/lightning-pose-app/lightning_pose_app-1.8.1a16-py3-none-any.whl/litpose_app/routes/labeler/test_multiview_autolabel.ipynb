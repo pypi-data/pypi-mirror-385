{
 "cells": [
  {
   "metadata": {
    "ExecuteTime": {
     "end_time": "2025-08-27T03:50:12.766486Z",
     "start_time": "2025-08-27T03:50:10.462363Z"
    }
   },
   "cell_type": "code",
   "source": [
    "from multiview_autolabel import *\n",
    "warm_up_anipose()"
   ],
   "id": "426cdcedf0207a92",
   "outputs": [],
   "execution_count": 1
  },
  {
   "metadata": {
    "ExecuteTime": {
     "end_time": "2025-08-27T03:50:12.782477Z",
     "start_time": "2025-08-27T03:50:12.769868Z"
    }
   },
   "cell_type": "code",
   "source": [
    "\n",
    "request = GetMVAutoLabelsRequest(\n",
    "    sessionKey='05272019_fly1_0_R1C24_rot-ccw-0.06_sec',\n",
    "    keypoints=[KeypointForRequest(keypointName='a', labels=[\n",
    "        KPLabel(view=\"Cam-A\", point=Point2D(x=1, y=2)),\n",
    "        KPLabel(view=\"Cam-B\", point=Point2D(x=1, y=2)),\n",
    "        KPLabel(view=\"Cam-C\", point=Point2D(x=1, y=2)),\n",
    "        KPLabel(view=\"Cam-D\", point=Point2D(x=1, y=2)),\n",
    "    ]),KeypointForRequest(keypointName='b', labels=[\n",
    "        KPLabel(view=\"Cam-A\", point=Point2D(x=1, y=2)),\n",
    "        KPLabel(view=\"Cam-B\", point=Point2D(x=1, y=2)),\n",
    "        KPLabel(view=\"Cam-C\", point=Point2D(x=1, y=2)),\n",
    "        KPLabel(view=\"Cam-D\", point=Point2D(x=1, y=2)),\n",
    "    ]),KeypointForRequest(keypointName='c', labels=[\n",
    "        KPLabel(view=\"Cam-A\", point=Point2D(x=1, y=2)),\n",
    "        KPLabel(view=\"Cam-B\", point=Point2D(x=1, y=2)),\n",
    "        KPLabel(view=\"Cam-C\", point=Point2D(x=1, y=2)),\n",
    "        KPLabel(view=\"Cam-D\", point=Point2D(x=1, y=2)),\n",
    "    ]),KeypointForRequest(keypointName='d', labels=[\n",
    "        KPLabel(view=\"Cam-A\", point=Point2D(x=1, y=2)),\n",
    "        KPLabel(view=\"Cam-B\", point=Point2D(x=1, y=2)),\n",
    "        KPLabel(view=\"Cam-C\", point=Point2D(x=1, y=2)),\n",
    "        KPLabel(view=\"Cam-D\", point=Point2D(x=1, y=2)),\n",
    "    ]),KeypointForRequest(keypointName='e', labels=[\n",
    "        KPLabel(view=\"Cam-A\", point=Point2D(x=1, y=2)),\n",
    "        KPLabel(view=\"Cam-B\", point=Point2D(x=1, y=2)),\n",
    "        KPLabel(view=\"Cam-C\", point=Point2D(x=1, y=2)),\n",
    "        KPLabel(view=\"Cam-D\", point=Point2D(x=1, y=2)),\n",
    "    ]),KeypointForRequest(keypointName='f', labels=[\n",
    "        KPLabel(view=\"Cam-A\", point=Point2D(x=1, y=2)),\n",
    "        KPLabel(view=\"Cam-B\", point=Point2D(x=1, y=2)),\n",
    "        KPLabel(view=\"Cam-C\", point=Point2D(x=1, y=2)),\n",
    "        KPLabel(view=\"Cam-D\", point=Point2D(x=1, y=2)),\n",
    "    ]),KeypointForRequest(keypointName='g', labels=[\n",
    "        KPLabel(view=\"Cam-A\", point=Point2D(x=1, y=2)),\n",
    "        KPLabel(view=\"Cam-B\", point=Point2D(x=1, y=2)),\n",
    "        KPLabel(view=\"Cam-C\", point=Point2D(x=1, y=2)),\n",
    "        KPLabel(view=\"Cam-D\", point=Point2D(x=1, y=2)),\n",
    "    ]),KeypointForRequest(keypointName='h', labels=[\n",
    "        KPLabel(view=\"Cam-A\", point=Point2D(x=1, y=2)),\n",
    "        KPLabel(view=\"Cam-B\", point=Point2D(x=1, y=2)),\n",
    "        KPLabel(view=\"Cam-C\", point=Point2D(x=1, y=2)),\n",
    "        KPLabel(view=\"Cam-D\", point=Point2D(x=1, y=2)),\n",
    "    ]),KeypointForRequest(keypointName='i', labels=[\n",
    "        KPLabel(view=\"Cam-A\", point=Point2D(x=1, y=2)),\n",
    "        KPLabel(view=\"Cam-B\", point=Point2D(x=1, y=2)),\n",
    "        KPLabel(view=\"Cam-C\", point=Point2D(x=1, y=2)),\n",
    "        KPLabel(view=\"Cam-D\", point=Point2D(x=1, y=2)),\n",
    "    ]),KeypointForRequest(keypointName='j', labels=[\n",
    "        KPLabel(view=\"Cam-A\", point=Point2D(x=1, y=2)),\n",
    "        KPLabel(view=\"Cam-B\", point=Point2D(x=1, y=2)),\n",
    "        KPLabel(view=\"Cam-C\", point=Point2D(x=1, y=2)),\n",
    "        KPLabel(view=\"Cam-D\", point=Point2D(x=1, y=2)),\n",
    "    ]),KeypointForRequest(keypointName='k', labels=[\n",
    "        KPLabel(view=\"Cam-A\", point=Point2D(x=1, y=2)),\n",
    "        KPLabel(view=\"Cam-B\", point=Point2D(x=1, y=2)),\n",
    "        KPLabel(view=\"Cam-C\", point=Point2D(x=1, y=2)),\n",
    "        KPLabel(view=\"Cam-D\", point=Point2D(x=1, y=2)),\n",
    "    ])\n",
    "])\n",
    "\n",
    "response = get_mv_auto_labels(request, ProjectInfo(data_dir='/home/ksikka/work/LightningPoseData/fly-anipose'))"
   ],
   "id": "37a1ad52fe6211ac",
   "outputs": [],
   "execution_count": 2
  },
  {
   "metadata": {
    "ExecuteTime": {
     "end_time": "2025-08-27T03:50:12.817731Z",
     "start_time": "2025-08-27T03:50:12.816445Z"
    }
   },
   "cell_type": "code",
   "source": "#print(response.model_dump_json(indent=2))",
   "id": "9dc474f03ffeea4e",
   "outputs": [],
   "execution_count": 3
  }
 ],
 "metadata": {
  "kernelspec": {
   "display_name": "Python 3",
   "language": "python",
   "name": "python3"
  },
  "language_info": {
   "codemirror_mode": {
    "name": "ipython",
    "version": 2
   },
   "file_extension": ".py",
   "mimetype": "text/x-python",
   "name": "python",
   "nbconvert_exporter": "python",
   "pygments_lexer": "ipython2",
   "version": "2.7.6"
  }
 },
 "nbformat": 4,
 "nbformat_minor": 5
}
