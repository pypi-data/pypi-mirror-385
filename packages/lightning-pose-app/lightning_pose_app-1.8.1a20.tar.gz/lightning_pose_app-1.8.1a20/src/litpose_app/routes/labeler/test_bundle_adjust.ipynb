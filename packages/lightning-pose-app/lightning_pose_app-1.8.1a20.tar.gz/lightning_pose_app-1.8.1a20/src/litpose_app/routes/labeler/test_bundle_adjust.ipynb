{
 "cells": [
  {
   "metadata": {
    "ExecuteTime": {
     "end_time": "2025-10-21T18:12:15.867772Z",
     "start_time": "2025-10-21T18:12:12.121614Z"
    }
   },
   "cell_type": "code",
   "source": [
    "import numpy as np\n",
    "\n",
    "from litpose_app.deps import project_info\n",
    "from litpose_app.routes.rglob import rglob, RGlobRequest\n",
    "from multiview_autolabel import *\n",
    "from bundle_adjust import *\n",
    "warm_up_anipose()"
   ],
   "id": "426cdcedf0207a92",
   "outputs": [],
   "execution_count": 2
  },
  {
   "metadata": {
    "ExecuteTime": {
     "end_time": "2025-10-21T18:24:57.793056Z",
     "start_time": "2025-10-21T18:24:57.786487Z"
    }
   },
   "cell_type": "code",
   "source": [
    "import numpy as np\n",
    "# Assuming Camera and CameraGroup are in a file named 'cameras.py'\n",
    "from aniposelib.cameras import CameraGroup, Camera\n",
    "\n",
    "\n",
    "def demonstrate_triangulate():\n",
    "    # --- 1. Create dummy Camera objects ---\n",
    "    # For demonstration, we'll create two cameras with simple parameters.\n",
    "    # In a real scenario, these would come from calibration.\n",
    "\n",
    "    # Camera 1 parameters\n",
    "    camera_matrix_1 = np.array([[1000, 0, 640],\n",
    "                                [0, 1000, 480],\n",
    "                                [0, 0, 1]], dtype=np.float64)\n",
    "    dist_coeffs_1 = np.array([0, 0, 0, 0, 0], dtype=np.float64)  # No distortion for simplicity\n",
    "    rvec_1 = np.array([[0.], [0.], [0.]], dtype=np.float64)  # No rotation\n",
    "    tvec_1 = np.array([[0.], [0.], [0.]], dtype=np.float64)  # Origin at world origin\n",
    "    cam1 = Camera(name='cam1',\n",
    "                  matrix=camera_matrix_1,\n",
    "                  dist=dist_coeffs_1,\n",
    "                  rvec=rvec_1,\n",
    "                  tvec=tvec_1,\n",
    "                  size=(1280, 960))  # Image width, height\n",
    "\n",
    "    # Camera 2 parameters - shifted and slightly rotated relative to Camera 1\n",
    "    camera_matrix_2 = np.array([[1050, 0, 650],\n",
    "                                [0, 1050, 470],\n",
    "                                [0, 0, 1]], dtype=np.float64)\n",
    "    dist_coeffs_2 = np.array([0.01, -0.02, 0, 0, 0], dtype=np.float64)  # Some distortion\n",
    "    rvec_2 = np.array([[0.05], [-0.1], [0.03]], dtype=np.float64)  # Small rotation\n",
    "    tvec_2 = np.array([[0.5], [0.1], [-0.2]], dtype=np.float64)  # Translated from origin\n",
    "    cam2 = Camera(name='cam2',\n",
    "                  matrix=camera_matrix_2,\n",
    "                  dist=dist_coeffs_2,\n",
    "                  rvec=rvec_2,\n",
    "                  tvec=tvec_2,\n",
    "                  size=(1280, 960))\n",
    "\n",
    "    print(\"Cameras initialized.\")\n",
    "    print(f\"Camera 1 name: {cam1.get_name()}\")\n",
    "    print(f\"Camera 2 name: {cam2.get_name()}\")\n",
    "\n",
    "    # --- 2. Create a CameraGroup ---\n",
    "    camera_group = CameraGroup(cameras=[cam1, cam2])\n",
    "    print(\"\\nCameraGroup created with 2 cameras.\")\n",
    "\n",
    "    # --- 3. Define a sample 3D point (world coordinates) ---\n",
    "    # We will try to triangulate this point\n",
    "    true_3d_point = np.array([[1.0, 2.0, 5.0]], dtype=np.float64)  # Shape (1, 3)\n",
    "\n",
    "    print(f\"\\nTrue 3D point in world coordinates: {true_3d_point}\")\n",
    "\n",
    "    # --- 4. Project the 3D point onto each camera to get 2D observations ---\n",
    "    # The 'project' method of CameraGroup expects points for each camera.\n",
    "    # The output of Camera.project is (N, 2) for N points.\n",
    "    points_2d_cam1 = cam1.project(true_3d_point)\n",
    "    points_2d_cam2 = cam2.project(true_3d_point)\n",
    "\n",
    "    # Reshape the points to match expected format (num_cameras, num_points, 2)\n",
    "    points_2d_cam1 = points_2d_cam1.reshape(1, 2)\n",
    "    points_2d_cam2 = points_2d_cam2.reshape(1, 2)\n",
    "\n",
    "    # TEST NAN\n",
    "    #points_2d_cam1[0, 0] = np.nan\n",
    "\n",
    "    points_for_triangulation = np.stack([points_2d_cam1, points_2d_cam2])\n",
    "\n",
    "    print(f\"\\nProjected 2D point for Camera 1:\\n{points_2d_cam1}\")\n",
    "    print(f\"Projected 2D point for Camera 2:\\n{points_2d_cam2}\")\n",
    "    print(f\"Shape of points for triangulation: {points_for_triangulation.shape}\")\n",
    "\n",
    "    # --- 5. Use CameraGroup.triangulate to reconstruct the 3D point ---\n",
    "    # We'll set undistort=True because cam2 has distortion coefficients.\n",
    "    # The triangulate method returns a numpy array of shape (num_points, 3).\n",
    "    triangulated_points = camera_group.triangulate(points_for_triangulation, undistort=True)\n",
    "\n",
    "    print(f\"\\nTriangulated 3D points:\\n{triangulated_points}\")\n",
    "\n",
    "    # Compare the triangulated point with the original 3D point\n",
    "    if triangulated_points.shape[0] > 0:\n",
    "        reconstructed_point = triangulated_points[0]\n",
    "        error = np.linalg.norm(reconstructed_point - true_3d_point[0])\n",
    "        print(f\"\\nOriginal 3D point: {true_3d_point[0]}\")\n",
    "        print(f\"Reconstructed 3D point: {reconstructed_point}\")\n",
    "        print(f\"Reconstruction error (L2 norm): {error:.6f}\")\n"
   ],
   "id": "d57c636c870d94d4",
   "outputs": [
    {
     "name": "stdout",
     "output_type": "stream",
     "text": [
      "Cameras initialized.\n",
      "Camera 1 name: cam1\n",
      "Camera 2 name: cam2\n",
      "\n",
      "CameraGroup created with 2 cameras.\n",
      "\n",
      "True 3D point in world coordinates: [[1. 2. 5.]]\n",
      "\n",
      "Projected 2D point for Camera 1:\n",
      "[[ nan 880.]]\n",
      "Projected 2D point for Camera 2:\n",
      "[[847.82290042 865.22061803]]\n",
      "Shape of points for triangulation: (2, 1, 2)\n",
      "\n",
      "Triangulated 3D points:\n",
      "[[nan nan nan]]\n",
      "\n",
      "Original 3D point: [1. 2. 5.]\n",
      "Reconstructed 3D point: [nan nan nan]\n",
      "Reconstruction error (L2 norm): nan\n"
     ]
    }
   ],
   "execution_count": 10
  },
  {
   "metadata": {
    "ExecuteTime": {
     "end_time": "2025-10-21T18:12:16.051120Z",
     "start_time": "2025-10-21T18:12:15.877447Z"
    }
   },
   "cell_type": "code",
   "source": [
    "\n",
    "from collections import defaultdict\n",
    "from pathlib import Path\n",
    "\n",
    "request = BundleAdjustRequest(sessionKey='05272019_fly1_0_R1C24__rot-ccw-0.06_sec')\n",
    "\n",
    "from litpose_app import deps\n",
    "config = deps.config()\n",
    "project_info = deps.project_info(config)\n",
    "\n",
    "bundle_adjust(request, project_info, config)\n",
    "\n",
    "\n"
   ],
   "id": "37a1ad52fe6211ac",
   "outputs": [
    {
     "ename": "ValidationError",
     "evalue": "1 validation error for BundleAdjustRequest\nmvlabelfile\n  Field required [type=missing, input_value={'sessionKey': '05272019_...1C24__rot-ccw-0.06_sec'}, input_type=dict]\n    For further information visit https://errors.pydantic.dev/2.11/v/missing",
     "output_type": "error",
     "traceback": [
      "\u001B[31m---------------------------------------------------------------------------\u001B[39m",
      "\u001B[31mValidationError\u001B[39m                           Traceback (most recent call last)",
      "\u001B[36mCell\u001B[39m\u001B[36m \u001B[39m\u001B[32mIn[3]\u001B[39m\u001B[32m, line 4\u001B[39m\n\u001B[32m      1\u001B[39m \u001B[38;5;28;01mfrom\u001B[39;00m\u001B[38;5;250m \u001B[39m\u001B[34;01mcollections\u001B[39;00m\u001B[38;5;250m \u001B[39m\u001B[38;5;28;01mimport\u001B[39;00m defaultdict\n\u001B[32m      2\u001B[39m \u001B[38;5;28;01mfrom\u001B[39;00m\u001B[38;5;250m \u001B[39m\u001B[34;01mpathlib\u001B[39;00m\u001B[38;5;250m \u001B[39m\u001B[38;5;28;01mimport\u001B[39;00m Path\n\u001B[32m----> \u001B[39m\u001B[32m4\u001B[39m request = \u001B[43mBundleAdjustRequest\u001B[49m\u001B[43m(\u001B[49m\u001B[43msessionKey\u001B[49m\u001B[43m=\u001B[49m\u001B[33;43m'\u001B[39;49m\u001B[33;43m05272019_fly1_0_R1C24__rot-ccw-0.06_sec\u001B[39;49m\u001B[33;43m'\u001B[39;49m\u001B[43m)\u001B[49m\n\u001B[32m      6\u001B[39m \u001B[38;5;28;01mfrom\u001B[39;00m\u001B[38;5;250m \u001B[39m\u001B[34;01mlitpose_app\u001B[39;00m\u001B[38;5;250m \u001B[39m\u001B[38;5;28;01mimport\u001B[39;00m deps\n\u001B[32m      7\u001B[39m config = deps.config()\n",
      "\u001B[36mFile \u001B[39m\u001B[32m~/miniforge3/envs/lpv/lib/python3.12/site-packages/pydantic/main.py:253\u001B[39m, in \u001B[36mBaseModel.__init__\u001B[39m\u001B[34m(self, **data)\u001B[39m\n\u001B[32m    251\u001B[39m \u001B[38;5;66;03m# `__tracebackhide__` tells pytest and some other tools to omit this function from tracebacks\u001B[39;00m\n\u001B[32m    252\u001B[39m __tracebackhide__ = \u001B[38;5;28;01mTrue\u001B[39;00m\n\u001B[32m--> \u001B[39m\u001B[32m253\u001B[39m validated_self = \u001B[38;5;28;43mself\u001B[39;49m\u001B[43m.\u001B[49m\u001B[43m__pydantic_validator__\u001B[49m\u001B[43m.\u001B[49m\u001B[43mvalidate_python\u001B[49m\u001B[43m(\u001B[49m\u001B[43mdata\u001B[49m\u001B[43m,\u001B[49m\u001B[43m \u001B[49m\u001B[43mself_instance\u001B[49m\u001B[43m=\u001B[49m\u001B[38;5;28;43mself\u001B[39;49m\u001B[43m)\u001B[49m\n\u001B[32m    254\u001B[39m \u001B[38;5;28;01mif\u001B[39;00m \u001B[38;5;28mself\u001B[39m \u001B[38;5;129;01mis\u001B[39;00m \u001B[38;5;129;01mnot\u001B[39;00m validated_self:\n\u001B[32m    255\u001B[39m     warnings.warn(\n\u001B[32m    256\u001B[39m         \u001B[33m'\u001B[39m\u001B[33mA custom validator is returning a value other than `self`.\u001B[39m\u001B[38;5;130;01m\\n\u001B[39;00m\u001B[33m'\u001B[39m\n\u001B[32m    257\u001B[39m         \u001B[33m\"\u001B[39m\u001B[33mReturning anything other than `self` from a top level model validator isn\u001B[39m\u001B[33m'\u001B[39m\u001B[33mt supported when validating via `__init__`.\u001B[39m\u001B[38;5;130;01m\\n\u001B[39;00m\u001B[33m\"\u001B[39m\n\u001B[32m    258\u001B[39m         \u001B[33m'\u001B[39m\u001B[33mSee the `model_validator` docs (https://docs.pydantic.dev/latest/concepts/validators/#model-validators) for more details.\u001B[39m\u001B[33m'\u001B[39m,\n\u001B[32m    259\u001B[39m         stacklevel=\u001B[32m2\u001B[39m,\n\u001B[32m    260\u001B[39m     )\n",
      "\u001B[31mValidationError\u001B[39m: 1 validation error for BundleAdjustRequest\nmvlabelfile\n  Field required [type=missing, input_value={'sessionKey': '05272019_...1C24__rot-ccw-0.06_sec'}, input_type=dict]\n    For further information visit https://errors.pydantic.dev/2.11/v/missing"
     ]
    }
   ],
   "execution_count": 3
  }
 ],
 "metadata": {
  "kernelspec": {
   "display_name": "Python 3",
   "language": "python",
   "name": "python3"
  },
  "language_info": {
   "codemirror_mode": {
    "name": "ipython",
    "version": 2
   },
   "file_extension": ".py",
   "mimetype": "text/x-python",
   "name": "python",
   "nbconvert_exporter": "python",
   "pygments_lexer": "ipython2",
   "version": "2.7.6"
  }
 },
 "nbformat": 4,
 "nbformat_minor": 5
}
