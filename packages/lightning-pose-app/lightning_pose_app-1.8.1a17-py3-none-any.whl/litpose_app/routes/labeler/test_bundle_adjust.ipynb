{
 "cells": [
  {
   "metadata": {
    "ExecuteTime": {
     "end_time": "2025-09-04T22:29:30.548302Z",
     "start_time": "2025-09-04T22:29:28.207273Z"
    }
   },
   "cell_type": "code",
   "source": [
    "import numpy as np\n",
    "\n",
    "from litpose_app.deps import project_info\n",
    "from litpose_app.routes.rglob import rglob, RGlobRequest\n",
    "from multiview_autolabel import *\n",
    "from bundle_adjust import *\n",
    "warm_up_anipose()"
   ],
   "id": "426cdcedf0207a92",
   "outputs": [],
   "execution_count": 1
  },
  {
   "metadata": {
    "ExecuteTime": {
     "end_time": "2025-09-04T22:29:36.203750Z",
     "start_time": "2025-09-04T22:29:30.552170Z"
    }
   },
   "cell_type": "code",
   "source": [
    "\n",
    "from collections import defaultdict\n",
    "from pathlib import Path\n",
    "\n",
    "request = BundleAdjustRequest(sessionKey='05272019_fly1_0_R1C24__rot-ccw-0.06_sec')\n",
    "\n",
    "from litpose_app import deps\n",
    "config = deps.config()\n",
    "project_info = deps.project_info(config)\n",
    "\n",
    "bundle_adjust(request, project_info, config)\n",
    "\n",
    "\n"
   ],
   "id": "37a1ad52fe6211ac",
   "outputs": [
    {
     "name": "stdout",
     "output_type": "stream",
     "text": [
      "Skipping /home/ksikka/work/LightningPoseData/fly-anipose/calibrations.csv because no view name was present.\n",
      "Skipping /home/ksikka/work/LightningPoseData/fly-anipose/calibrations_new.csv because no view name was present.\n",
      "/home/ksikka/work/LightningPoseData/fly-anipose/CollectedData_Cam-A_new.csv\n",
      "/home/ksikka/work/LightningPoseData/fly-anipose/CollectedData_Cam-B_new.csv\n",
      "/home/ksikka/work/LightningPoseData/fly-anipose/CollectedData_Cam-C_new.csv\n",
      "/home/ksikka/work/LightningPoseData/fly-anipose/CollectedData_Cam-D_new.csv\n",
      "/home/ksikka/work/LightningPoseData/fly-anipose/CollectedData_Cam-E_new.csv\n",
      "/home/ksikka/work/LightningPoseData/fly-anipose/CollectedData_Cam-F_new.csv\n",
      "/home/ksikka/work/LightningPoseData/fly-anipose/CollectedData_Cam-A.csv\n",
      "/home/ksikka/work/LightningPoseData/fly-anipose/CollectedData_Cam-B.csv\n",
      "/home/ksikka/work/LightningPoseData/fly-anipose/CollectedData_Cam-C.csv\n",
      "/home/ksikka/work/LightningPoseData/fly-anipose/CollectedData_Cam-D.csv\n",
      "/home/ksikka/work/LightningPoseData/fly-anipose/CollectedData_Cam-E.csv\n",
      "/home/ksikka/work/LightningPoseData/fly-anipose/CollectedData_Cam-F.csv\n"
     ]
    },
    {
     "name": "stderr",
     "output_type": "stream",
     "text": [
      "2025-09-04 18:29:31,194 - INFO - finding looplift candidates\n",
      "2025-09-04 18:29:32,323 - INFO - finding looplift candidates\n",
      "2025-09-04 18:29:32,493 - INFO - finding looplift candidates\n"
     ]
    },
    {
     "data": {
      "text/plain": [
       "'ok'"
      ]
     },
     "execution_count": 2,
     "metadata": {},
     "output_type": "execute_result"
    }
   ],
   "execution_count": 2
  }
 ],
 "metadata": {
  "kernelspec": {
   "display_name": "Python 3",
   "language": "python",
   "name": "python3"
  },
  "language_info": {
   "codemirror_mode": {
    "name": "ipython",
    "version": 2
   },
   "file_extension": ".py",
   "mimetype": "text/x-python",
   "name": "python",
   "nbconvert_exporter": "python",
   "pygments_lexer": "ipython2",
   "version": "2.7.6"
  }
 },
 "nbformat": 4,
 "nbformat_minor": 5
}
