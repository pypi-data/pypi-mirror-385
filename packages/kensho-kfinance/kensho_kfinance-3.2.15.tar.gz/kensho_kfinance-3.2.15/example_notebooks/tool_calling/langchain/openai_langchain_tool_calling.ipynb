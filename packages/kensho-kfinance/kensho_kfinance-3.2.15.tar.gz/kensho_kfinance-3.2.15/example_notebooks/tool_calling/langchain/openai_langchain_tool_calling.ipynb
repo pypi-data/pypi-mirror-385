{
 "cells": [
  {
   "attachments": {},
   "cell_type": "markdown",
   "metadata": {},
   "source": [
    "##### Copyright 2025 Kensho Technologies, LLC"
   ]
  },
  {
   "attachments": {},
   "cell_type": "markdown",
   "metadata": {
    "id": "-zOQ3ZfKSrT2"
   },
   "source": [
    "# LangChain Tool Calling with GPT-4o\n",
    "**_GPT to retrieve data from the LLM-ready API using the kFinance python library!_**\n",
    "\n",
    "What you'll need to run this notebook:\n",
    "\n",
    "1.   kFinance credentials\n",
    "2.   An OpenAI API key\n",
    "\n",
    "<table class=\"tfo-notebook-buttons\" align=\"left\">\n",
    "  <td>\n",
    "    <a target=\"_blank\" href=\"https://colab.research.google.com/github/kensho-technologies/kfinance/blob/main/example_notebooks/tool_calling/langchain/openai_langchain_tool_calling.ipynb\"><img src=\"../../../images/colab_logo_32px.png\" />Run in Google Colab</a>\n",
    "  </td>\n",
    "</table>"
   ]
  },
  {
   "attachments": {},
   "cell_type": "markdown",
   "metadata": {
    "id": "ruP6MHfzR2Y4"
   },
   "source": [
    "## Install dependencies"
   ]
  },
  {
   "cell_type": "code",
   "execution_count": null,
   "metadata": {
    "colab": {
     "base_uri": "https://localhost:8080/"
    },
    "collapsed": true,
    "id": "YAwU0_7TRhV7",
    "jupyter": {
     "outputs_hidden": true
    },
    "outputId": "e6ebf89c-7680-4852-e52b-c99610107cdf"
   },
   "outputs": [],
   "source": [
    "# install the latest version of kFinance package\n",
    "%pip install kensho-kfinance\n",
    "# install langchain and openai\n",
    "%pip install openai\n",
    "%pip install langchain\n",
    "%pip install langchain-openai"
   ]
  },
  {
   "attachments": {},
   "cell_type": "markdown",
   "metadata": {
    "id": "e_G2p3tTSHeo"
   },
   "source": [
    "# Instantiate kFinance Client"
   ]
  },
  {
   "cell_type": "code",
   "execution_count": null,
   "metadata": {
    "id": "7QPnfPuX87rg"
   },
   "outputs": [],
   "source": [
    "# import the kfinance client\n",
    "import sys\n",
    "from kfinance.client.kfinance import Client\n",
    "# check if the current environment is a Google Colab\n",
    "try:\n",
    "    import google.colab\n",
    "    IN_GOOGLE_COLAB = True\n",
    "except:\n",
    "    IN_GOOGLE_COLAB = False\n",
    "\n",
    "# initialize the kfinance client with one of the following:\n",
    "# 1. your kensho refresh token\n",
    "# 2. your kensho client id and kensho private key\n",
    "# 3. automated login (not accessible on Google Collab)\n",
    "if IN_GOOGLE_COLAB:\n",
    "    kensho_refresh_token = \"\"\n",
    "    assert kensho_refresh_token != \"\", \"kensho refresh token is empty! Make sure to enter your kensho refresh token above\"\n",
    "    kfinance_client = Client(refresh_token=kensho_refresh_token)\n",
    "\n",
    "    # kensho_client_id = \"\"\n",
    "    # kensho_private_key = \"\"\n",
    "    # assert kensho_client_id != \"\", \"kensho client id is empty! Make sure to enter your kensho client id above\"\n",
    "    # assert kensho_private_key != \"\", \"kensho private key is empty! Make sure to enter your kensho private key above\"\n",
    "    # kfinance_client = Client(client_id=kensho_client_id, private_key=kensho_private_key)\n",
    "else:\n",
    "    kfinance_client = Client()"
   ]
  },
  {
   "attachments": {},
   "cell_type": "markdown",
   "metadata": {
    "id": "LvQy_66Jioys"
   },
   "source": [
    "# LangChain Tool Calling with OpenAI"
   ]
  },
  {
   "cell_type": "code",
   "execution_count": null,
   "outputs": [],
   "source": [
    "\n",
    "from kfinance.integrations.tool_calling.prompts import BASE_PROMPT\n",
    "from pydantic import SecretStr\n",
    "from langchain.agents import AgentExecutor, create_tool_calling_agent\n",
    "from langchain_core.prompts import ChatPromptTemplate, MessagesPlaceholder\n",
    "from langchain_openai import ChatOpenAI\n",
    "\n",
    "class LangChainOpenAIChat:\n",
    "    def __init__(self, kfinance_client: Client) -> None:\n",
    "        # Initialize OpenAI with your OpenAI API key\n",
    "        openai_api_key = SecretStr(\"\") # replace with your own key\n",
    "        assert openai_api_key != \"\", \"OpenAI API key is empty! Make sure to enter your OpenAI API key above\"\n",
    "        llm = ChatOpenAI(model=\"gpt-4o\", api_key=openai_api_key)\n",
    "   \n",
    "        # Prompt\n",
    "        prompt = ChatPromptTemplate.from_messages(\n",
    "            [\n",
    "                (\"system\", BASE_PROMPT),\n",
    "                MessagesPlaceholder(\"chat_history\", optional=True),\n",
    "                (\"human\", \"{input}\"),\n",
    "                MessagesPlaceholder(\"agent_scratchpad\"),\n",
    "            ]\n",
    "        )\n",
    "        # Construct the tool calling agent\n",
    "        agent = create_tool_calling_agent(llm=llm, tools=kfinance_client.langchain_tools, prompt=prompt)\n",
    "        # Create an agent executor by passing in the agent and tools\n",
    "        self.agent_executor = AgentExecutor(agent=agent, tools=kfinance_client.langchain_tools, verbose=True)\n",
    "\n",
    "\n",
    "    def start_chatting(self) -> None:\n",
    "        \"\"\"Open chat shell\"\"\"\n",
    "        while True:\n",
    "            user_input = input(\"Enter your message and press the [return] key\\n\")\n",
    "            self.agent_executor.invoke({\"input\": user_input})\n",
    "            sys.stdout.write(\"\\n\")\n"
   ],
   "metadata": {
    "collapsed": false
   }
  },
  {
   "cell_type": "code",
   "execution_count": null,
   "metadata": {},
   "outputs": [],
   "source": [
    "# instantiate LangChainOpenAIChat with the kfinance client\n",
    "openai_chat = LangChainOpenAIChat(kfinance_client)\n",
    "# start chatting with LangChainOpenAIChat\n",
    "openai_chat.start_chatting()"
   ]
  }
 ],
 "metadata": {
  "language_info": {
   "name": "python"
  },
  "orig_nbformat": 4,
  "kernelspec": {
   "name": "python3",
   "language": "python",
   "display_name": "Python 3 (ipykernel)"
  }
 },
 "nbformat": 4,
 "nbformat_minor": 2
}
