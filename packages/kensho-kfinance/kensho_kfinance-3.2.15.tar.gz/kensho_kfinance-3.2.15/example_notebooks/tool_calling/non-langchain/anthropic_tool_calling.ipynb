{
 "cells": [
  {
   "attachments": {},
   "cell_type": "markdown",
   "metadata": {},
   "source": [
    "##### Copyright 2025 Kensho Technologies, LLC"
   ]
  },
  {
   "attachments": {},
   "cell_type": "markdown",
   "metadata": {
    "id": "-zOQ3ZfKSrT2"
   },
   "source": [
    "# Anthropic Tool Calling\n",
    "**_Claude to retrieve data from the LLM-ready API using the kFinance python library!_**\n",
    "\n",
    "What you'll need to run this notebook:\n",
    "\n",
    "1.   kFinance credentials\n",
    "2.   An Anthropic API key\n",
    "\n",
    "<table class=\"tfo-notebook-buttons\" align=\"left\">\n",
    "  <td>\n",
    "    <a target=\"_blank\" href=\"https://colab.research.google.com/github/kensho-technologies/kfinance/blob/main/example_notebooks/tool_calling/non-langchain/anthropic_tool_calling.ipynb\"><img src=\"../../../images/colab_logo_32px.png\" />Run in Google Colab</a>\n",
    "  </td>\n",
    "</table>"
   ]
  },
  {
   "attachments": {},
   "cell_type": "markdown",
   "metadata": {
    "id": "ruP6MHfzR2Y4"
   },
   "source": [
    "## Install dependencies"
   ]
  },
  {
   "cell_type": "code",
   "execution_count": null,
   "metadata": {
    "colab": {
     "base_uri": "https://localhost:8080/"
    },
    "collapsed": true,
    "id": "YAwU0_7TRhV7",
    "jupyter": {
     "outputs_hidden": true
    },
    "outputId": "e6ebf89c-7680-4852-e52b-c99610107cdf"
   },
   "outputs": [],
   "source": [
    "# install the latest version of kFinance package\n",
    "%pip install kensho-kfinance\n",
    "# install the LLM Python package\n",
    "%pip install anthropic"
   ]
  },
  {
   "attachments": {},
   "cell_type": "markdown",
   "metadata": {
    "id": "e_G2p3tTSHeo"
   },
   "source": [
    "# Instantiate kFinance Client"
   ]
  },
  {
   "cell_type": "code",
   "execution_count": null,
   "metadata": {
    "id": "7QPnfPuX87rg"
   },
   "outputs": [],
   "source": [
    "import json\n",
    "\n",
    "# import the kfinance client\n",
    "from kfinance.client.kfinance import Client\n",
    "\n",
    "# check if the current environment is a Google Colab\n",
    "try:\n",
    "    import google.colab\n",
    "\n",
    "    IN_GOOGLE_COLAB = True\n",
    "except:\n",
    "    IN_GOOGLE_COLAB = False\n",
    "\n",
    "# initialize the kfinance client with one of the following:\n",
    "# 1. your kensho refresh token\n",
    "# 2. your kensho client id and kensho private key\n",
    "# 3. automated login (not accessible on Google Collab)\n",
    "if IN_GOOGLE_COLAB:\n",
    "    kensho_refresh_token = \"\"\n",
    "    assert kensho_refresh_token != \"\", \"kensho refresh token is empty! Make sure to enter your kensho refresh token above\"\n",
    "    kfinance_client = Client(refresh_token=kensho_refresh_token)\n",
    "\n",
    "    # kensho_client_id = \"\"\n",
    "    # kensho_private_key = \"\"\n",
    "    # assert kensho_client_id != \"\", \"kensho client id is empty! Make sure to enter your kensho client id above\"\n",
    "    # assert kensho_private_key != \"\", \"kensho private key is empty! Make sure to enter your kensho private key above\"\n",
    "    # kfinance_client = Client(client_id=kensho_client_id, private_key=kensho_private_key)\n",
    "else:\n",
    "    kfinance_client = Client()"
   ]
  },
  {
   "attachments": {},
   "cell_type": "markdown",
   "metadata": {
    "id": "SxCRiFSJviXk"
   },
   "source": [
    "# Anthropic Tool Calling"
   ]
  },
  {
   "cell_type": "code",
   "execution_count": null,
   "metadata": {
    "id": "kWubSXhLSYqH"
   },
   "outputs": [],
   "source": [
    "from kfinance.integrations.tool_calling.prompts import BASE_PROMPT\n",
    "from typing import Any, cast\n",
    "\n",
    "# import Anthropic\n",
    "from anthropic import Anthropic\n",
    "from anthropic.types import TextBlock, ToolUseBlock\n",
    "from anthropic.types import ToolParam, Message, MessageParam, ToolResultBlockParam\n",
    "\n",
    "\n",
    "def text_from_response_message(response_message: Any) -> str | None:\n",
    "    if response_message.content is None:\n",
    "        return None\n",
    "    if isinstance(response_message.content, list):\n",
    "        text_blocks = list(filter(lambda c: isinstance(c, TextBlock), response_message.content))\n",
    "        if text_blocks:\n",
    "            return text_blocks[0].text\n",
    "        elif not isinstance(response_message.content, list):\n",
    "            return response_message.content.text  # type: ignore[unreachable]\n",
    "        return None\n",
    "    return None\n",
    "\n",
    "\n",
    "def tool_calls_from_response_message(response_message: Any) -> list:\n",
    "    if not isinstance(response_message.content, list):\n",
    "        return []\n",
    "    return list(filter(lambda c: isinstance(c, ToolUseBlock), response_message.content))\n",
    "\n",
    "\n",
    "class AnthropicChat:\n",
    "    def __init__(self, kfinance_client: Client) -> None:\n",
    "        # initialize Anthropic with your Anthropic API key\n",
    "        anthropic_api_key = \"\"  # replace with your own key\n",
    "        assert anthropic_api_key != \"\", \"Anthropic API key is empty! Make sure to enter your Anthropic API key above\"\n",
    "        self.anthropic = Anthropic(api_key=anthropic_api_key)\n",
    "        # initialize the kFinance client\n",
    "        self.kfinance_client = kfinance_client\n",
    "        # initialize tools and tool descriptions\n",
    "        self.tools = kfinance_client.tools\n",
    "        self.tool_descriptions: list[\n",
    "            ToolParam] = cast(list[ToolParam], kfinance_client.anthropic_tool_descriptions)\n",
    "        self.messages: list[MessageParam] = []\n",
    "\n",
    "    def print_response(self) -> Message:\n",
    "        response = self.anthropic.messages.create(\n",
    "            model=\"claude-3-7-sonnet-20250219\",\n",
    "            # you can use any Anthropic model that supports tool calling\n",
    "            system=BASE_PROMPT,\n",
    "            messages=self.messages,\n",
    "            tools=self.tool_descriptions,\n",
    "            max_tokens=2048,\n",
    "        )\n",
    "        response_message = response\n",
    "        self.messages.append({\"role\": \"assistant\", \"content\": response_message.content})\n",
    "        response_message_text = text_from_response_message(response_message)\n",
    "        if response_message_text is not None:\n",
    "            print(\"\\nAssistant Response:\")\n",
    "            print(response_message_text)\n",
    "        return response_message\n",
    "\n",
    "    def print_responses(self, user_input: str) -> None:\n",
    "        # add user input message\n",
    "        self.messages.append({\"role\": \"user\", \"content\": user_input})\n",
    "        while True:\n",
    "            response = self.anthropic.messages.create(\n",
    "                model=\"claude-3-7-sonnet-20250219\",\n",
    "                system=BASE_PROMPT,\n",
    "                messages=self.messages,\n",
    "                tools=self.tool_descriptions,\n",
    "                max_tokens=2048,\n",
    "            )\n",
    "\n",
    "            tool_calls = tool_calls_from_response_message(response)\n",
    "            if tool_calls:\n",
    "                self.messages.append({\"role\": \"assistant\", \"content\": response.content})\n",
    "\n",
    "                tool_results = []\n",
    "                for tool_call in tool_calls:\n",
    "                    function_name = tool_call.name\n",
    "                    args = tool_call.input\n",
    "                    print(f\"\\nCalling `{function_name}` with:\\n{json.dumps(args, indent=2)}\")\n",
    "                    try:\n",
    "                        result = self.tools[function_name](**args)\n",
    "                        print(f\"Tool `{function_name}` result: {result}\")\n",
    "                        tool_results.append(ToolResultBlockParam(\n",
    "                            type=\"tool_result\",\n",
    "                            tool_use_id=tool_call.id,\n",
    "                            content=str(result)\n",
    "                        ))\n",
    "                    except Exception as e:\n",
    "                        print(f\"Tool `{function_name}` failed: {e}\")\n",
    "                        tool_results.append(ToolResultBlockParam(\n",
    "                            type=\"tool_result\",\n",
    "                            tool_use_id=tool_call.id,\n",
    "                            content=str(e),\n",
    "                            is_error=True\n",
    "                        ))\n",
    "\n",
    "                self.messages.append({\n",
    "                    \"role\": \"user\",\n",
    "                    \"content\": tool_results\n",
    "                })\n",
    "                continue\n",
    "\n",
    "            # append final assistant message\n",
    "            self.messages.append({\n",
    "                \"role\": \"assistant\",\n",
    "                \"content\": response.content\n",
    "            })\n",
    "            response_message_text = text_from_response_message(response)\n",
    "            if response_message_text is not None:\n",
    "                print(\"\\nAssistant Response:\")\n",
    "                print(response_message_text)\n",
    "            break\n",
    "\n",
    "    def start_chatting(self) -> None:\n",
    "        \"\"\"Open chat shell\"\"\"\n",
    "        while True:\n",
    "            user_input = input(\"Enter your message and press the [return] key\\n\")\n",
    "            self.print_responses(user_input)\n",
    "            print()"
   ]
  },
  {
   "cell_type": "code",
   "execution_count": null,
   "metadata": {
    "colab": {
     "base_uri": "https://localhost:8080/",
     "height": 1000
    },
    "id": "SWy-B6jpSik3",
    "outputId": "e3711a34-d385-4bbe-945a-68bee195bd36"
   },
   "outputs": [],
   "source": [
    "# instantiate the AnthropicChat with the kfinance client\n",
    "anthropic_chat = AnthropicChat(kfinance_client)\n",
    "# start chatting with the Anthropic\n",
    "anthropic_chat.start_chatting()"
   ]
  }
 ],
 "metadata": {
  "language_info": {
   "name": "python"
  },
  "orig_nbformat": 4,
  "kernelspec": {
   "name": "python3",
   "language": "python",
   "display_name": "Python 3 (ipykernel)"
  }
 },
 "nbformat": 4,
 "nbformat_minor": 2
}
