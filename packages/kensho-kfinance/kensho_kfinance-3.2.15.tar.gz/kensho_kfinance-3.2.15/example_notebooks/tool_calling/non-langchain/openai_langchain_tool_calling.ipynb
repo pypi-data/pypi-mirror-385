{
 "cells": [
  {
   "attachments": {},
   "cell_type": "markdown",
   "metadata": {},
   "source": [
    "##### Copyright 2025 Kensho Technologies, LLC"
   ]
  },
  {
   "attachments": {},
   "cell_type": "markdown",
   "metadata": {
    "id": "-zOQ3ZfKSrT2"
   },
   "source": [
    "# OpenAI Tool Calling\n",
    "**_GPT to retrieve data from the LLM-ready API using the kFinance python library!_**\n",
    "\n",
    "What you'll need to run this notebook:\n",
    "\n",
    "1.   kFinance credentials\n",
    "2.   An OpenAI API key\n",
    "\n",
    "<table class=\"tfo-notebook-buttons\" align=\"left\">\n",
    "  <td>\n",
    "    <a target=\"_blank\" href=\"https://colab.research.google.com/github/kensho-technologies/kfinance/blob/main/example_notebooks/tool_calling/non-langchain/openai_tool_calling.ipynb\"><img src=\"../../../images/colab_logo_32px.png\" />Run in Google Colab</a>\n",
    "  </td>\n",
    "</table>"
   ]
  },
  {
   "attachments": {},
   "cell_type": "markdown",
   "metadata": {
    "id": "ruP6MHfzR2Y4"
   },
   "source": [
    "## Install dependencies"
   ]
  },
  {
   "cell_type": "code",
   "execution_count": null,
   "metadata": {
    "colab": {
     "base_uri": "https://localhost:8080/"
    },
    "collapsed": true,
    "id": "YAwU0_7TRhV7",
    "jupyter": {
     "outputs_hidden": true
    },
    "outputId": "e6ebf89c-7680-4852-e52b-c99610107cdf"
   },
   "outputs": [],
   "source": [
    "# install the latest version of kFinance package\n",
    "%pip install kensho-kfinance\n",
    "# install the LLM Python package\n",
    "%pip install openai"
   ]
  },
  {
   "attachments": {},
   "cell_type": "markdown",
   "metadata": {
    "id": "e_G2p3tTSHeo"
   },
   "source": [
    "# Instantiate kFinance Client"
   ]
  },
  {
   "cell_type": "code",
   "execution_count": null,
   "metadata": {
    "id": "7QPnfPuX87rg"
   },
   "outputs": [],
   "source": [
    "import json\n",
    "\n",
    "# import the kfinance client\n",
    "from kfinance.client.kfinance import Client\n",
    "\n",
    "# check if the current environment is a Google Colab\n",
    "try:\n",
    "    import google.colab\n",
    "\n",
    "    IN_GOOGLE_COLAB = True\n",
    "except:\n",
    "    IN_GOOGLE_COLAB = False\n",
    "\n",
    "# initialize the kfinance client with one of the following:\n",
    "# 1. your kensho refresh token\n",
    "# 2. your kensho client id and kensho private key\n",
    "# 3. automated login (not accessible on Google Collab)\n",
    "if IN_GOOGLE_COLAB:\n",
    "    kensho_refresh_token = \"\"\n",
    "    assert kensho_refresh_token != \"\", \"kensho refresh token is empty! Make sure to enter your kensho refresh token above\"\n",
    "    kfinance_client = Client(refresh_token=kensho_refresh_token)\n",
    "\n",
    "    # kensho_client_id = \"\"\n",
    "    # kensho_private_key = \"\"\n",
    "    # assert kensho_client_id != \"\", \"kensho client id is empty! Make sure to enter your kensho client id above\"\n",
    "    # assert kensho_private_key != \"\", \"kensho private key is empty! Make sure to enter your kensho private key above\"\n",
    "    # kfinance_client = Client(client_id=kensho_client_id, private_key=kensho_private_key)\n",
    "else:\n",
    "    kfinance_client = Client()"
   ]
  },
  {
   "attachments": {},
   "cell_type": "markdown",
   "metadata": {
    "id": "LvQy_66Jioys"
   },
   "source": [
    "# OpenAI Function Calling"
   ]
  },
  {
   "cell_type": "code",
   "execution_count": null,
   "metadata": {
    "id": "WkoRuipOEQz6"
   },
   "outputs": [],
   "source": [
    "from kfinance.integrations.tool_calling.prompts import BASE_PROMPT\n",
    "from typing import cast\n",
    "from openai.types.chat import ChatCompletionMessage, ChatCompletionMessageParam, \\\n",
    "    ChatCompletionAssistantMessageParam, ChatCompletionSystemMessageParam, ChatCompletionToolParam\n",
    "# import OpenAI\n",
    "from openai import OpenAI\n",
    "\n",
    "\n",
    "\n",
    "# the OpenAIChat class is used to create a chat loop that automatically executes tool calls\n",
    "class OpenAIChat:\n",
    "    def __init__(self, kfinance_client: Client) -> None:\n",
    "        # initialize OpenAI with your OpenAI API key\n",
    "        openai_api_key = \"\"  # replace with your own key\n",
    "        assert openai_api_key != \"\", \"OpenAI API key is empty! Make sure to enter your OpenAI API key above\"\n",
    "        # client config for OpenAI. There are other ways to access OpenAI\n",
    "        self.openai = OpenAI(api_key=openai_api_key)\n",
    "        # initialize the kFinance client\n",
    "        self.kfinance_client = kfinance_client\n",
    "        # initialize tools and tool descriptions\n",
    "        self.tools = kfinance_client.tools\n",
    "        self.tool_descriptions: list[ChatCompletionToolParam] = cast(list[ChatCompletionToolParam], kfinance_client.openai_tool_descriptions)\n",
    "        # set the first message to include the system prompt\n",
    "        self.messages: list[ChatCompletionMessageParam] = [\n",
    "            ChatCompletionSystemMessageParam(role=\"system\", content=BASE_PROMPT),\n",
    "        ]\n",
    "\n",
    "    def print_response(self) -> ChatCompletionMessage:\n",
    "        \"\"\"Print and return response\"\"\"\n",
    "        # try to send the message history to OpenAI and get the response\n",
    "        try:\n",
    "            response = self.openai.chat.completions.create(\n",
    "                model=\"gpt-4o\",  # you can use any OpenAI model that supports tool calling\n",
    "                messages=self.messages,\n",
    "                tools=self.tool_descriptions,\n",
    "            )\n",
    "            response_message = response.choices[0].message\n",
    "            msg_dict: ChatCompletionMessageParam = cast(ChatCompletionMessageParam, response_message.model_dump())\n",
    "            self.messages.append(msg_dict)\n",
    "        # if there's an error, manually create a response with the error\n",
    "        except Exception as e:  # noqa:BLE001\n",
    "            message = ChatCompletionAssistantMessageParam(\n",
    "                role=\"assistant\", content=f\"you had an error: {str(e)}\"\n",
    "            )\n",
    "            self.messages.append(message)\n",
    "            response_message = ChatCompletionMessage.model_validate(message)\n",
    "        if response_message.content is not None:\n",
    "            print(\"\\nAssistant Response:\")\n",
    "            print(response_message.content)\n",
    "\n",
    "        # Print tool calls if any\n",
    "        if response_message.tool_calls:\n",
    "            print(\"\\nTool Calls:\")\n",
    "            for tool_call in response_message.tool_calls:\n",
    "                function = tool_call.function.name\n",
    "                arguments = json.loads(tool_call.function.arguments)\n",
    "                print(f\"- Function: {function}\")\n",
    "                print(f\"  Arguments: {json.dumps(arguments, indent=2)}\")\n",
    "\n",
    "        return response_message\n",
    "\n",
    "    def print_responses(self, user_input: str) -> None:\n",
    "        \"\"\"Print responses and call tools\"\"\"\n",
    "        # append the current user input as a message to the message history\n",
    "        self.messages.append({\"role\": \"user\", \"content\": user_input})\n",
    "        # get the OpenAI response to the message history\n",
    "        response_message = self.print_response()\n",
    "        # while the response has tool calls\n",
    "        \n",
    "        while response_message.tool_calls is not None:\n",
    "            # for each tool call, execute the function and arguments specified in the tool call\n",
    "            # and append the output as a message to the message history\n",
    "            for tool_call in response_message.tool_calls:\n",
    "                function = tool_call.function.name\n",
    "                arguments = json.loads(tool_call.function.arguments)\n",
    "                # try to execute the function and arguments specified in the tool call\n",
    "                try:\n",
    "                    output = self.tools[function](**arguments)\n",
    "                    # append the output as a message to the message history\n",
    "                    self.messages.append(\n",
    "                        {\n",
    "                            \"role\": \"tool\",\n",
    "                            \"content\": json.dumps({\"output\": str(output)}),\n",
    "                            \"tool_call_id\": tool_call.id,\n",
    "                        }\n",
    "                    )\n",
    "                    print(f\"\\nTool `{function}` executed successfully.\")\n",
    "                    print(f\"Output: {output}\")\n",
    "                # if there's an exception thrown while executing the function,\n",
    "                # append the exception as a message to the message history\n",
    "                except Exception as e:\n",
    "                    self.messages.append(\n",
    "                        {\n",
    "                            \"role\": \"tool\",\n",
    "                            \"content\": json.dumps({\"output\": str(e)}),\n",
    "                            \"tool_call_id\": tool_call.id,\n",
    "                        }\n",
    "                    )\n",
    "                    print(f\"\\nError while executing tool `{function}`:\")\n",
    "                    print(e)\n",
    "            # get a new response\n",
    "            response_message = self.print_response()\n",
    "        return None\n",
    "\n",
    "    def start_chatting(self) -> None:\n",
    "        \"\"\"Open chat shell\"\"\"\n",
    "        # prompt for user input and get the OpenAI response in a loop\n",
    "        while True:\n",
    "            user_input = input(\"Enter your message and press the [return] key\\n\")\n",
    "            self.print_responses(user_input)\n",
    "            print(\"\\n\" + \"-\" * 60 + \"\\n\")"
   ]
  },
  {
   "cell_type": "code",
   "execution_count": null,
   "metadata": {
    "colab": {
     "base_uri": "https://localhost:8080/",
     "height": 510
    },
    "id": "t2x5XdwyKYj-",
    "outputId": "ec50e672-55cf-40a8-f96d-2b654e60538a"
   },
   "outputs": [],
   "source": [
    "# instantiate the OpenAIChat with the kfinance client\n",
    "openai_chat = OpenAIChat(kfinance_client)\n",
    "# start chatting with the OpenAIChat\n",
    "openai_chat.start_chatting()"
   ]
  }
 ],
 "metadata": {
  "language_info": {
   "name": "python"
  },
  "orig_nbformat": 4,
  "kernelspec": {
   "name": "python3",
   "language": "python",
   "display_name": "Python 3 (ipykernel)"
  }
 },
 "nbformat": 4,
 "nbformat_minor": 2
}
