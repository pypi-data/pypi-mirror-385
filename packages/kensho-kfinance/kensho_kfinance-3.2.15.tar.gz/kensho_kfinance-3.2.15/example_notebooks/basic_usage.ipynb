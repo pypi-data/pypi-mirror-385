{
 "cells": [
  {
   "attachments": {},
   "cell_type": "markdown",
   "metadata": {},
   "source": [
    "##### Copyright 2025 Kensho Technologies, LLC"
   ]
  },
  {
   "attachments": {},
   "cell_type": "markdown",
   "metadata": {},
   "source": [
    "# LLM-ready API Basic Usage (without a large language model)\n",
    "**_Call the LLM-ready API using the kFinance python library!_**\n",
    "\n",
    "To run this notebook, you'll need kFinance credentials.\n",
    "\n",
    "<table class=\"tfo-notebook-buttons\" align=\"left\">\n",
    "  <td>\n",
    "    <a target=\"_blank\" href=\"https://colab.research.google.com/github/kensho-technologies/kfinance/blob/main/example_notebooks/basic_usage.ipynb\"><img src=\"../images/colab_logo_32px.png\" />Run in Google Colab</a>\n",
    "  </td>\n",
    "</table>"
   ]
  },
  {
   "attachments": {},
   "cell_type": "markdown",
   "metadata": {},
   "source": [
    "# Install Dependencies"
   ]
  },
  {
   "cell_type": "code",
   "execution_count": null,
   "metadata": {},
   "outputs": [],
   "source": [
    "# install the latest version of kFinance package\n",
    "%pip install kensho-kfinance"
   ]
  },
  {
   "attachments": {},
   "cell_type": "markdown",
   "metadata": {},
   "source": [
    "# Instantiate kFinance Client"
   ]
  },
  {
   "cell_type": "code",
   "execution_count": null,
   "metadata": {},
   "outputs": [],
   "source": [
    "# import the kfinance client\n",
    "from kfinance.client.kfinance import Client\n",
    "\n",
    "# import standard libraries\n",
    "import functools\n",
    "import types\n",
    "import json\n",
    "import sys\n",
    "# check if the current environment is a Google Colab\n",
    "try:\n",
    "  import google.colab\n",
    "  IN_GOOGLE_COLAB = True\n",
    "except:\n",
    "  IN_GOOGLE_COLAB = False\n",
    "\n",
    "# initialize the kfinance client with one of the following:\n",
    "# 1. your kensho refresh token\n",
    "# 2. your kensho client id and kensho private key. \n",
    "#       you can fetch your refresh token from https://kfinance.kensho.com/manual_login/\n",
    "# 3. automated login (not accessible on Google Collab)\n",
    "if IN_GOOGLE_COLAB:\n",
    "    kensho_refresh_token = \"\"\n",
    "    assert kensho_refresh_token != \"\", \"kensho refresh token is empty! Make sure to enter your kensho refresh token above\"\n",
    "    kfinance_client = Client(refresh_token=kensho_refresh_token)\n",
    "else:\n",
    "    kfinance_client = Client()"
   ]
  },
  {
   "attachments": {},
   "cell_type": "markdown",
   "metadata": {},
   "source": [
    "## Example functions"
   ]
  },
  {
   "cell_type": "code",
   "execution_count": null,
   "metadata": {},
   "outputs": [],
   "source": [
    "# You can create a Ticker object with client.ticker.\n",
    "# A Ticker has access to a wide variety of attributes, including prices, \n",
    "# market caps, statements, and line items.\n",
    "spgi = kfinance_client.ticker(\"SPGI\")"
   ]
  },
  {
   "cell_type": "code",
   "execution_count": null,
   "outputs": [],
   "source": [
    "# To access some basic information like name, industry type, or number of employees \n",
    "# about the company to which the ticker belongs, you can use the `info` attribute.\n",
    "spgi.info"
   ],
   "metadata": {
    "collapsed": false
   }
  },
  {
   "cell_type": "markdown",
   "source": [
    "### Statements and Line Items"
   ],
   "metadata": {
    "collapsed": false
   }
  },
  {
   "cell_type": "code",
   "execution_count": null,
   "metadata": {},
   "outputs": [],
   "source": [
    "# Kfinance can also provide you with access to statements and line items.\n",
    "# The available statements are:\n",
    "# - balance sheets (`.balance_sheet()`)\n",
    "# - income statement (`.income_statement()`)\n",
    "# - cash flow statement (`.cash_flow()`)\n",
    "# Kfinance function can usually be invoked with no or minimal params. \n",
    "# In those cases, defaults are used. For the statement and line item\n",
    "# functions, for example, ...\n",
    "spgi.balance_sheet()"
   ]
  },
  {
   "cell_type": "code",
   "execution_count": null,
   "outputs": [],
   "source": [
    "from kfinance.client.models.date_and_period_models import PeriodType\n",
    "\n",
    "# However, it's also possible to set parameters to fetch, \n",
    "# for example, annual balance sheets from the 2010s.\n",
    "spgi.balance_sheet(period_type=PeriodType.annual, start_year=2010, end_year=2019)"
   ],
   "metadata": {
    "collapsed": false
   }
  },
  {
   "cell_type": "code",
   "execution_count": null,
   "outputs": [],
   "source": [
    "# Note that the templating for the sheets differs by industry. \n",
    "# For example, JPM's balance sheet will contain different rows\n",
    "# than SPGI's.\n",
    "kfinance_client.ticker(\"JPM\").balance_sheet()"
   ],
   "metadata": {
    "collapsed": false
   }
  },
  {
   "cell_type": "code",
   "execution_count": null,
   "outputs": [],
   "source": [
    "# In addition to full sheets, you can also fetch individual line items \n",
    "# like Cash And Equivalents (`.cash_and_cash_equivalents()`), or\n",
    "# Net Income (`.net_income()). \n",
    "# For a full list of available line items, see the `LINE_ITEMS` list in\n",
    "# constants.py: https://github.com/kensho-technologies/kfinance/blob/9ec83b4fc77386df84de669269b55148fed85b94/kfinance/constants.py#L139\n",
    "spgi.net_income(  # type: ignore[attr-defined]\n",
    "    period_type=PeriodType.annual, \n",
    "    start_year=2010, \n",
    "    end_year=2019\n",
    ")"
   ],
   "metadata": {
    "collapsed": false
   }
  },
  {
   "cell_type": "markdown",
   "source": [
    "### Prices"
   ],
   "metadata": {
    "collapsed": false
   }
  },
  {
   "cell_type": "code",
   "execution_count": null,
   "outputs": [],
   "source": [
    "# To fetch recent spgi prices, you can use the `history` function.\n",
    "# This will return the last year of daily prices as a pandas DataFrame.\n",
    "spgi.history()"
   ],
   "metadata": {
    "collapsed": false,
    "is_executing": true
   }
  },
  {
   "cell_type": "code",
   "execution_count": null,
   "outputs": [],
   "source": [
    "from kfinance.client.models.date_and_period_models import Periodicity\n",
    "\n",
    "# To fetch recent spgi prices, you can use the `history` function.\n",
    "# Without any further configuration `history()` will return adjusted\n",
    "# daily prices for the last year. However, it's possible to configure all \n",
    "# of these params as needed, for example to fetch unadjusted monthly prices \n",
    "# for the 2010s.\n",
    "spgi.history(\n",
    "    periodicity=Periodicity.month,\n",
    "    adjusted=False,\n",
    "    start_date=\"2010-01-01\",\n",
    "    end_date=\"2019-12-31\"\n",
    ")"
   ],
   "metadata": {
    "collapsed": false
   }
  },
  {
   "cell_type": "code",
   "execution_count": null,
   "outputs": [],
   "source": [
    "# In addition to fetching prices as a pandas DataFrame, it's also possible \n",
    "# to fetch prices as a chart with the `price_chart` function, which can take\n",
    "# the same parameters as `history`.\n",
    "spgi.price_chart(\n",
    "    periodicity=Periodicity.month,\n",
    "    adjusted=False,\n",
    "    start_date=\"2010-01-01\",\n",
    "    end_date=\"2019-12-31\"\n",
    ")"
   ],
   "metadata": {
    "collapsed": false,
    "is_executing": true
   }
  },
  {
   "cell_type": "code",
   "execution_count": null,
   "outputs": [],
   "source": [
    "# Beyond stock prices, it's also possible to fetch a company's\n",
    "# market cap (`.market_cap`), total enterprise value (`.tev`), and \n",
    "# number of shares outstanding (`.shares_outstanding`). \n",
    "# Similar to `history`, this will return a DataFrame of daily prices. \n",
    "# spgi.market_cap()"
   ],
   "metadata": {
    "collapsed": false
   }
  }
 ],
 "metadata": {
  "language_info": {
   "name": "python"
  },
  "orig_nbformat": 4
 },
 "nbformat": 4,
 "nbformat_minor": 2
}
