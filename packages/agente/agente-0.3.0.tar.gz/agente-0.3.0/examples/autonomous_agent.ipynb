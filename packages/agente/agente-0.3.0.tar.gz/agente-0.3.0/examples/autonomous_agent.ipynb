{
 "cells": [
  {
   "cell_type": "markdown",
   "metadata": {},
   "source": [
    "# Automomous Agent\n",
    "\n",
    "In this notebook, we will show a simple example of and agent using the \"add_tools\" method of the \"Agent\" class. This method allows the agent to add tools to its own  inventory of tools. The agent can then use these tools to interact with the environment. \n",
    "\n",
    "IMPORTANT: Please note that this feature poses a security risk. The agent can use the tools to interact with the environment in ways that are not intended by the environment creator. Use it at your own risk."
   ]
  },
  {
   "cell_type": "code",
   "execution_count": 1,
   "metadata": {},
   "outputs": [
    {
     "data": {
      "text/plain": [
       "True"
      ]
     },
     "execution_count": 1,
     "metadata": {},
     "output_type": "execute_result"
    }
   ],
   "source": [
    "import json\n",
    "import asyncio\n",
    "from agente.core.base import BaseAgent,BaseTaskAgent\n",
    "from dotenv import load_dotenv\n",
    "load_dotenv()"
   ]
  },
  {
   "cell_type": "markdown",
   "metadata": {},
   "source": [
    "We start by creating an agent from the BaseAgent, but this time we set the `can_add_tools` to True. This will allow the agent to add tools to its inventory. Besides that, we will also reinforce the agent ability to add tools in the system prompt."
   ]
  },
  {
   "cell_type": "code",
   "execution_count": 2,
   "metadata": {},
   "outputs": [],
   "source": [
    "class MainAgent(BaseAgent):\n",
    "    agent_name:str = \"autonomous_agent\"\n",
    "    system_prompt:str = \"\"\"You are an AI assistant and your task is to help the user.\n",
    "\n",
    "You have available tools to help you in your task and you should use them to help the user when necessary.\n",
    "\n",
    "You have access to a special tool called \"add_tool\". This tool adds new tools to your toolbox.\n",
    "\n",
    "You should use \"add_tool\" tool when you need perform a task that you don't have the necessary tools.\n",
    "\"\"\"\n",
    "\n",
    "    completion_kwargs: dict = {\n",
    "        \"model\": \"claude-sonnet-4-20250514\", # atention that models like gpt-4.1 might not work sometimes\n",
    "        \"stream\": False,\n",
    "    }\n",
    "    can_add_tools:bool = True\n"
   ]
  },
  {
   "cell_type": "code",
   "execution_count": 3,
   "metadata": {},
   "outputs": [],
   "source": [
    "auto_agent = MainAgent()\n",
    "auto_agent.add_message(role = \"user\",content= \"\"\"Hello. I need help with the pi number. I want to know the first 50 digits of pi. \n",
    "                       Add a tool to calculate it for me and them show me the result.\"\"\")"
   ]
  },
  {
   "cell_type": "code",
   "execution_count": 4,
   "metadata": {},
   "outputs": [
    {
     "data": {
      "text/plain": [
       "[{'type': 'function',\n",
       "  'function': {'name': 'add_tool',\n",
       "   'description': 'Call this tool to add a new tool (a python function) to the main list of available tools. Example: function_name = \"calculate_circle_area\"\\nfunction_code = \\'\\'\\'\\ndef calculate_circle_area(self, radius: float) -> float:\\n    \"\"\"Calculate the area of a circle given its radius.     Args:\\n        radius: The radius of the circle (must be a positive number).\\n    \"\"\"\\n    import math\\n    return math.pi * radius ** 2\\n\\'\\'\\'',\n",
       "   'parameters': {'properties': {'function_name': {'description': 'The name of the function to be added to the list of tools.',\n",
       "      'title': 'Function Name',\n",
       "      'type': 'string'},\n",
       "     'function_code': {'description': 'The python code of the function to be added to the list of tools, with a docstring',\n",
       "      'title': 'Function Code',\n",
       "      'type': 'string'}},\n",
       "    'required': ['function_name', 'function_code'],\n",
       "    'type': 'object'}}}]"
      ]
     },
     "execution_count": 4,
     "metadata": {},
     "output_type": "execute_result"
    }
   ],
   "source": [
    "auto_agent.tools_schema"
   ]
  },
  {
   "cell_type": "code",
   "execution_count": 5,
   "metadata": {},
   "outputs": [
    {
     "name": "stdout",
     "output_type": "stream",
     "text": [
      "Executing agent: autonomous_agent\n",
      "Executing tool: add_tool (agent: autonomous_agent)\n",
      "Tool get_pi_digits added successfully.\n",
      "Executing agent: autonomous_agent\n",
      "Executing tool: get_pi_digits (agent: autonomous_agent)\n",
      "Executing agent: autonomous_agent\n"
     ]
    }
   ],
   "source": [
    "response = await auto_agent.run()"
   ]
  },
  {
   "cell_type": "code",
   "execution_count": 6,
   "metadata": {},
   "outputs": [
    {
     "data": {
      "text/plain": [
       "[{'type': 'function',\n",
       "  'function': {'name': 'add_tool',\n",
       "   'description': 'Call this tool to add a new tool (a python function) to the main list of available tools. Example: function_name = \"calculate_circle_area\"\\nfunction_code = \\'\\'\\'\\ndef calculate_circle_area(self, radius: float) -> float:\\n    \"\"\"Calculate the area of a circle given its radius.     Args:\\n        radius: The radius of the circle (must be a positive number).\\n    \"\"\"\\n    import math\\n    return math.pi * radius ** 2\\n\\'\\'\\'',\n",
       "   'parameters': {'properties': {'function_name': {'description': 'The name of the function to be added to the list of tools.',\n",
       "      'title': 'Function Name',\n",
       "      'type': 'string'},\n",
       "     'function_code': {'description': 'The python code of the function to be added to the list of tools, with a docstring',\n",
       "      'title': 'Function Code',\n",
       "      'type': 'string'}},\n",
       "    'required': ['function_name', 'function_code'],\n",
       "    'type': 'object'}}},\n",
       " {'type': 'function',\n",
       "  'function': {'name': 'get_pi_digits',\n",
       "   'description': 'Calculate pi to the specified number of digits.',\n",
       "   'parameters': {'properties': {'num_digits': {'description': 'The number of digits of pi to return (including the digit before the decimal point)',\n",
       "      'title': 'Num Digits',\n",
       "      'type': 'integer'}},\n",
       "    'required': ['num_digits'],\n",
       "    'type': 'object'}}}]"
      ]
     },
     "execution_count": 6,
     "metadata": {},
     "output_type": "execute_result"
    }
   ],
   "source": [
    "auto_agent.tools_schema"
   ]
  },
  {
   "cell_type": "markdown",
   "metadata": {},
   "source": [
    "Bellow we can see first the call to the `add_tools` method  that will add a tool to the agent's inventory. Then we can see the agent using the tool to interact with the environment."
   ]
  },
  {
   "cell_type": "code",
   "execution_count": 7,
   "metadata": {},
   "outputs": [
    {
     "name": "stdout",
     "output_type": "stream",
     "text": [
      "role='system' agent_name='autonomous_agent' content=[Content(type='text', text='You are an AI assistant and your task is to help the user.\\n\\nYou have available tools to help you in your task and you should use them to help the user when necessary.\\n\\nYou have access to a special tool called \"add_tool\". This tool adds new tools to your toolbox.\\n\\nYou should use \"add_tool\" tool when you need perform a task that you don\\'t have the necessary tools.\\n')] tool_calls=None tool_call_id=None tool_name=None hidden=False id=None usage=None timestamp=datetime.datetime(2025, 9, 27, 14, 48, 27, 829114)\n",
      "-----------------------\n",
      "role='user' agent_name='autonomous_agent' content=[Content(type='text', text='Hello. I need help with the pi number. I want to know the first 50 digits of pi. \\n                       Add a tool to calculate it for me and them show me the result.')] tool_calls=None tool_call_id=None tool_name=None hidden=False id=None usage=None timestamp=datetime.datetime(2025, 9, 27, 14, 48, 27, 829164)\n",
      "-----------------------\n",
      "role='assistant' agent_name='autonomous_agent' content=[Content(type='text', text=\"I'll help you get the first 50 digits of pi by creating a tool to calculate it with high precision.\")] tool_calls=None tool_call_id=None tool_name=None hidden=False id=None usage=Usage(completion_tokens=641, prompt_tokens=693, total_tokens=1334) timestamp=datetime.datetime(2025, 9, 27, 14, 48, 42, 723476)\n",
      "-----------------------\n",
      "role='assistant' agent_name='autonomous_agent' content=[] tool_calls=[{'index': 1, 'function': {'arguments': '{\"function_name\": \"get_pi_digits\", \"function_code\": \"def get_pi_digits(self, num_digits: int) -> str:\\\\n    \\\\\"\\\\\"\\\\\"Calculate pi to the specified number of digits.\\\\n    \\\\n    Args:\\\\n        num_digits: The number of digits of pi to return (including the digit before the decimal point)\\\\n    \\\\n    Returns:\\\\n        A string representation of pi with the specified number of digits\\\\n    \\\\\"\\\\\"\\\\\"\\\\n    from decimal import Decimal, getcontext\\\\n    \\\\n    # Set precision high enough to calculate the required digits\\\\n    # We need extra precision for intermediate calculations\\\\n    getcontext().prec = num_digits + 10\\\\n    \\\\n    # Use the Machin formula: pi/4 = 4*arctan(1/5) - arctan(1/239)\\\\n    # This is one of the most efficient series for calculating pi\\\\n    \\\\n    def arctan(x, precision):\\\\n        getcontext().prec = precision\\\\n        x = Decimal(x)\\\\n        power = x\\\\n        result = x\\\\n        i = 1\\\\n        \\\\n        while True:\\\\n            power *= -x * x\\\\n            term = power / (2 * i + 1)\\\\n            if abs(term) < Decimal(10) ** -(precision - 5):\\\\n                break\\\\n            result += term\\\\n            i += 1\\\\n        \\\\n        return result\\\\n    \\\\n    # Calculate pi using Machin\\'s formula\\\\n    getcontext().prec = num_digits + 10\\\\n    pi = 4 * (4 * arctan(Decimal(1)/Decimal(5), num_digits + 10) - arctan(Decimal(1)/Decimal(239), num_digits + 10))\\\\n    \\\\n    # Convert to string and format to requested number of digits\\\\n    pi_str = str(pi)\\\\n    \\\\n    # Find the decimal point and extract the required number of digits\\\\n    if \\'.\\' in pi_str:\\\\n        before_decimal = pi_str.split(\\'.\\')[0]\\\\n        after_decimal = pi_str.split(\\'.\\')[1]\\\\n        \\\\n        if num_digits <= len(before_decimal):\\\\n            return before_decimal[:num_digits]\\\\n        else:\\\\n            remaining_digits = num_digits - len(before_decimal)\\\\n            return before_decimal + \\'.\\' + after_decimal[:remaining_digits]\\\\n    else:\\\\n        return pi_str[:num_digits]\"}', 'name': 'add_tool'}, 'id': 'toolu_01DCFcwvvoxjFZdR1Wd88AyG', 'type': 'function'}] tool_call_id=None tool_name=None hidden=False id=None usage=None timestamp=datetime.datetime(2025, 9, 27, 14, 48, 42, 723506)\n",
      "-----------------------\n",
      "role='tool' agent_name='autonomous_agent' content=[Content(type='text', text='\"Tool get_pi_digits added successfully\"')] tool_calls=None tool_call_id='toolu_01DCFcwvvoxjFZdR1Wd88AyG' tool_name=None hidden=False id=None usage=None timestamp=datetime.datetime(2025, 9, 27, 14, 48, 42, 736141)\n",
      "-----------------------\n",
      "role='assistant' agent_name='autonomous_agent' content=[Content(type='text', text=\"Great! I've added a tool to calculate pi with high precision. Now let me use it to get the first 50 digits of pi for you:\")] tool_calls=None tool_call_id=None tool_name=None hidden=False id=None usage=Usage(completion_tokens=90, prompt_tokens=1447, total_tokens=1537) timestamp=datetime.datetime(2025, 9, 27, 14, 48, 44, 844366)\n",
      "-----------------------\n",
      "role='assistant' agent_name='autonomous_agent' content=[] tool_calls=[{'index': 1, 'function': {'arguments': '{\"num_digits\": 50}', 'name': 'get_pi_digits'}, 'id': 'toolu_01KRmETXsBxP8uxnxJ7TwoBa', 'type': 'function'}] tool_call_id=None tool_name=None hidden=False id=None usage=None timestamp=datetime.datetime(2025, 9, 27, 14, 48, 44, 844387)\n",
      "-----------------------\n",
      "role='tool' agent_name='autonomous_agent' content=[Content(type='text', text='\"3.1415926535897932384626433832795028841971693993751\"')] tool_calls=None tool_call_id='toolu_01KRmETXsBxP8uxnxJ7TwoBa' tool_name=None hidden=False id=None usage=None timestamp=datetime.datetime(2025, 9, 27, 14, 48, 44, 846721)\n",
      "-----------------------\n",
      "role='assistant' agent_name='autonomous_agent' content=[Content(type='text', text='Perfect! Here are the first 50 digits of pi:\\n\\n**3.1415926535897932384626433832795028841971693993751**\\n\\nThis includes:\\n- 1 digit before the decimal point (3)\\n- 49 digits after the decimal point\\n\\nThe tool I created uses the highly efficient Machin formula to calculate pi with arbitrary precision, ensuring accurate results for any number of digits you might need in the future.')] tool_calls=None tool_call_id=None tool_name=None hidden=False id=None usage=Usage(completion_tokens=100, prompt_tokens=1569, total_tokens=1669) timestamp=datetime.datetime(2025, 9, 27, 14, 48, 47, 890233)\n",
      "-----------------------\n"
     ]
    }
   ],
   "source": [
    "for m in auto_agent.conv_history.messages:\n",
    "    print(m)\n",
    "    print(\"-----------------------\")"
   ]
  },
  {
   "cell_type": "code",
   "execution_count": 15,
   "metadata": {},
   "outputs": [
    {
     "name": "stdout",
     "output_type": "stream",
     "text": [
      "Perfect! Here are the first 50 digits of pi:\n",
      "\n",
      "**3.1415926535897932384626433832795028841971693993751**\n",
      "\n",
      "This includes:\n",
      "- 1 digit before the decimal point (3)\n",
      "- 49 digits after the decimal point\n",
      "\n",
      "The tool I created uses the highly efficient Machin formula to calculate pi with arbitrary precision, ensuring accurate results for any number of digits you might need in the future.\n"
     ]
    }
   ],
   "source": [
    "print(auto_agent.conv_history.messages[-1].content[0].text)"
   ]
  },
  {
   "cell_type": "markdown",
   "metadata": {},
   "source": [
    "Let's see the added tool"
   ]
  },
  {
   "cell_type": "code",
   "execution_count": 16,
   "metadata": {},
   "outputs": [
    {
     "data": {
      "text/plain": [
       "{'add_tool': <function agente.core.base.BaseAgent.add_tool(self, function_name: typing.Annotated[str, 'The name of the function to be added to the list of tools.'], function_code: typing.Annotated[str, 'The python code of the function to be added to the list of tools, with a docstring']) -> str>,\n",
       " 'get_pi_digits': <function __main__.get_pi_digits(self, num_digits: int) -> str>}"
      ]
     },
     "execution_count": 16,
     "metadata": {},
     "output_type": "execute_result"
    }
   ],
   "source": [
    "auto_agent.tools_functions"
   ]
  },
  {
   "cell_type": "code",
   "execution_count": 21,
   "metadata": {},
   "outputs": [
    {
     "name": "stdout",
     "output_type": "stream",
     "text": [
      "def get_pi_digits(self, num_digits: int) -> str:\n",
      "    \"\"\"Calculate pi to the specified number of digits.\n",
      "    \n",
      "    Args:\n",
      "        num_digits: The number of digits of pi to return (including the digit before the decimal point)\n",
      "    \n",
      "    Returns:\n",
      "        A string representation of pi with the specified number of digits\n",
      "    \"\"\"\n",
      "    from decimal import Decimal, getcontext\n",
      "    \n",
      "    # Set precision high enough to calculate the required digits\n",
      "    # We need extra precision for intermediate calculations\n",
      "    getcontext().prec = num_digits + 10\n",
      "    \n",
      "    # Use the Machin formula: pi/4 = 4*arctan(1/5) - arctan(1/239)\n",
      "    # This is one of the most efficient series for calculating pi\n",
      "    \n",
      "    def arctan(x, precision):\n",
      "        getcontext().prec = precision\n",
      "        x = Decimal(x)\n",
      "        power = x\n",
      "        result = x\n",
      "        i = 1\n",
      "        \n",
      "        while True:\n",
      "            power *= -x * x\n",
      "            term = power / (2 * i + 1)\n",
      "            if abs(term) < Decimal(10) ** -(precision - 5):\n",
      "                break\n",
      "            result += term\n",
      "            i += 1\n",
      "        \n",
      "        return result\n",
      "    \n",
      "    # Calculate pi using Machin's formula\n",
      "    getcontext().prec = num_digits + 10\n",
      "    pi = 4 * (4 * arctan(Decimal(1)/Decimal(5), num_digits + 10) - arctan(Decimal(1)/Decimal(239), num_digits + 10))\n",
      "    \n",
      "    # Convert to string and format to requested number of digits\n",
      "    pi_str = str(pi)\n",
      "    \n",
      "    # Find the decimal point and extract the required number of digits\n",
      "    if '.' in pi_str:\n",
      "        before_decimal = pi_str.split('.')[0]\n",
      "        after_decimal = pi_str.split('.')[1]\n",
      "        \n",
      "        if num_digits <= len(before_decimal):\n",
      "            return before_decimal[:num_digits]\n",
      "        else:\n",
      "            remaining_digits = num_digits - len(before_decimal)\n",
      "            return before_decimal + '.' + after_decimal[:remaining_digits]\n",
      "    else:\n",
      "        return pi_str[:num_digits]\n"
     ]
    }
   ],
   "source": [
    "tool_call = auto_agent.conv_history.messages[3].tool_calls[0]\n",
    "arguments = tool_call['function']['arguments']\n",
    "arguments_json = json.loads(arguments)\n",
    "function_code = arguments_json['function_code']\n",
    "print(function_code)"
   ]
  },
  {
   "cell_type": "markdown",
   "metadata": {},
   "source": [
    "Note that this new tool is now a method available of the agent."
   ]
  },
  {
   "cell_type": "code",
   "execution_count": 23,
   "metadata": {},
   "outputs": [
    {
     "data": {
      "text/plain": [
       "'3.141592653'"
      ]
     },
     "execution_count": 23,
     "metadata": {},
     "output_type": "execute_result"
    }
   ],
   "source": [
    "await auto_agent.get_pi_digits(10)"
   ]
  }
 ],
 "metadata": {
  "kernelspec": {
   "display_name": "agente",
   "language": "python",
   "name": "python3"
  },
  "language_info": {
   "codemirror_mode": {
    "name": "ipython",
    "version": 3
   },
   "file_extension": ".py",
   "mimetype": "text/x-python",
   "name": "python",
   "nbconvert_exporter": "python",
   "pygments_lexer": "ipython3",
   "version": "3.11.13"
  }
 },
 "nbformat": 4,
 "nbformat_minor": 2
}
