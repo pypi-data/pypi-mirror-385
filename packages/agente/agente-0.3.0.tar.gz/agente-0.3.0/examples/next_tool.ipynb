{
 "cells": [
  {
   "cell_type": "markdown",
   "metadata": {},
   "source": [
    "# The `next_tool` and `manual_call`\n",
    "\n",
    "## Overview \n",
    "\n",
    "If you have worked with function calls before, you know that often the model does not call the function you want to call. This poses a knonw problem of AI Agents, because often want a particular flow to be respected. \n",
    "\n",
    "In this notebook, we will see how to use the `next_tool` and `manual_call` to control the flow of the AI Agent, make it more reliable and predictable.\n",
    "\n",
    "#### next_tool\n",
    "\n",
    "The `next_tool` is a parameter that can be used with the `function_tool` or  `agent_tool` to specify the next tool to be called. Behind the scenes, the `next_tool` is just setting the completion parameter `tool_choice` to the name of the next tool to be called. \n",
    "\n",
    "To use it, you just need to pass the name of of the method you want to call next as the value of the `next_tool` parameter. Note that the method must be decored as a tool and must be in the same class as the current tool.\n",
    "\n",
    "\n",
    "#### manual_call\n",
    "\n",
    "The `manual_call` is a parameter that can be used together with the `next_tool` to specify that the next tool call will be inserted \"manually\" in the message history. By manually, we mean that the next tool call will not be done by a new model call, but inserted directly in the message history. This is usefull in the situations where the output of the current tool can be directly used as the input of the next tool, without the need of a new model call.\n",
    "\n",
    "To use it, you need to pass a callable as the value of the `manual_call` parameter, that will receive the output of the current tool and return a dictionay that should match the input of the next tool. In this way you can add some processing to the output of the current tool before passing it to the next tool.\n",
    "\n",
    "---\n",
    "\n",
    "## Let's see how to use these parameters in practice.\n",
    "\n",
    "\n",
    "In the example bellow we have a simple agent that has two tools, one to generate a random topic and another that genrate a joken, given a topic.\n",
    "\n",
    "To show that the `next_tool` is working, we will force the agent to call the `generate_joke` tool after a random topic is generated."
   ]
  },
  {
   "cell_type": "code",
   "execution_count": 3,
   "metadata": {},
   "outputs": [
    {
     "data": {
      "text/plain": [
       "True"
      ]
     },
     "execution_count": 3,
     "metadata": {},
     "output_type": "execute_result"
    }
   ],
   "source": [
    "from agente.core.base import BaseAgent,BaseTaskAgent\n",
    "from agente.core.decorators import function_tool,agent_tool\n",
    "from typing import Annotated\n",
    "import random\n",
    "from dotenv import load_dotenv\n",
    "load_dotenv()"
   ]
  },
  {
   "cell_type": "code",
   "execution_count": 4,
   "metadata": {},
   "outputs": [],
   "source": [
    "\n",
    "class JokeTeller(BaseTaskAgent):\n",
    "    agent_name: str = \"JokeTeller\"\n",
    "    system_prompt:str = \"Your task is to write a funny joke.\"\n",
    "    completion_kwargs: dict = {\n",
    "        \"model\": \"gpt-4.1\",\n",
    "        \"stream\": False,\n",
    "    }\n",
    "\n",
    "    @function_tool\n",
    "    def task_completed(self,joke:str):\n",
    "        \"\"\"To be used as a tool to complete the task.\n",
    "\n",
    "        Args:\n",
    "            joke: The joke to return.\n",
    "        \"\"\"\n",
    "        return joke\n",
    "\n",
    "\n",
    "\n",
    "class MainAgent(BaseAgent):\n",
    "    agent_name: str = \"main_agent\"\n",
    "    \n",
    "    @function_tool(next_tool = \"get_joke\") # To make sure the agent calls the get_joke tool we add the next_tool argument to force it.\n",
    "    def random_topic(self):\n",
    "        \"\"\"Tool to get a random topic.\n",
    "        \"\"\"\n",
    "        topics = [\"programming\",\"science\",\"animals\",\"food\",\"sports\"]\n",
    "        topic = random.choice(topics)\n",
    "\n",
    "        return topic\n",
    "\n",
    "\n",
    "    @agent_tool()\n",
    "    def get_joke(self,joke_topic:Annotated[str, \"The topic of the joke\"]):\n",
    "        \"\"\"Tool to get a joke.\"\"\"\n",
    "\n",
    "        joke_agent = JokeTeller()\n",
    "        joke_agent.add_message(role = \"user\", content = \"Tell me a joke about \" + joke_topic)\n",
    "        return joke_agent"
   ]
  },
  {
   "cell_type": "code",
   "execution_count": 8,
   "metadata": {},
   "outputs": [
    {
     "name": "stdout",
     "output_type": "stream",
     "text": [
      "Executing agent: main_agent\n",
      "Executing tool: random_topic (agent: main_agent)\n",
      "Executing agent: main_agent\n",
      "Executing agent: JokeTeller\n",
      "Executing tool: task_completed (agent: JokeTeller)\n",
      "Executing agent: main_agent\n"
     ]
    }
   ],
   "source": [
    "example_agent = MainAgent()\n",
    "example_agent.add_message(role = \"user\", content = \"Generate a random topic.\")\n",
    "response = await example_agent.run(stream = False)"
   ]
  },
  {
   "cell_type": "code",
   "execution_count": 12,
   "metadata": {},
   "outputs": [
    {
     "name": "stdout",
     "output_type": "stream",
     "text": [
      "The random topic is \"sports.\"\n",
      "\n",
      "Here's a sports joke:\n",
      "Why did the basketball team go to the bank? Because they wanted to get their bounce checks!\n"
     ]
    }
   ],
   "source": [
    "print(example_agent.conv_history.messages[-1].content[0].text)"
   ]
  },
  {
   "cell_type": "code",
   "execution_count": 13,
   "metadata": {},
   "outputs": [
    {
     "name": "stdout",
     "output_type": "stream",
     "text": [
      "role='user' agent_name='main_agent' content=[Content(type='text', text='Generate a random topic.')] tool_calls=None tool_call_id=None tool_name=None hidden=False id=None usage=None timestamp=datetime.datetime(2025, 9, 27, 9, 29, 58, 70890)\n",
      "--------------------------------\n",
      "role='assistant' agent_name='main_agent' content=[] tool_calls=[{'index': 0, 'function': {'arguments': '{}', 'name': 'random_topic'}, 'id': 'call_wqcvAcBqwnbcaS6We1cT0fLR', 'type': 'function'}] tool_call_id=None tool_name=None hidden=False id=None usage=None timestamp=datetime.datetime(2025, 9, 27, 9, 29, 58, 605814)\n",
      "--------------------------------\n",
      "role='tool' agent_name='main_agent' content=[Content(type='text', text='\"sports\"')] tool_calls=None tool_call_id='call_wqcvAcBqwnbcaS6We1cT0fLR' tool_name=None hidden=False id=None usage=None timestamp=datetime.datetime(2025, 9, 27, 9, 29, 58, 606328)\n",
      "--------------------------------\n",
      "role='assistant' agent_name='main_agent' content=[] tool_calls=[{'index': 0, 'function': {'arguments': '{\"joke_topic\":\"sports\"}', 'name': 'get_joke'}, 'id': 'call_vXGyP22zQaP80OK4HTX6W0Bz', 'type': 'function'}] tool_call_id=None tool_name=None hidden=False id=None usage=None timestamp=datetime.datetime(2025, 9, 27, 9, 29, 59, 203965)\n",
      "--------------------------------\n",
      "role='tool' agent_name='main_agent' content=[Content(type='text', text='\"Why did the basketball team go to the bank? Because they wanted to get their bounce checks!\"')] tool_calls=None tool_call_id='call_vXGyP22zQaP80OK4HTX6W0Bz' tool_name=None hidden=False id=None usage=None timestamp=datetime.datetime(2025, 9, 27, 9, 29, 59, 921698)\n",
      "--------------------------------\n",
      "role='assistant' agent_name='main_agent' content=[Content(type='text', text='The random topic is \"sports.\"\\n\\nHere\\'s a sports joke:\\nWhy did the basketball team go to the bank? Because they wanted to get their bounce checks!')] tool_calls=None tool_call_id=None tool_name=None hidden=False id=None usage=Usage(completion_tokens=32, prompt_tokens=144, total_tokens=176) timestamp=datetime.datetime(2025, 9, 27, 9, 30, 0, 853739)\n",
      "--------------------------------\n"
     ]
    }
   ],
   "source": [
    "for m in example_agent.conv_history.messages:\n",
    "    print(m)\n",
    "    print(\"--------------------------------\")"
   ]
  },
  {
   "cell_type": "markdown",
   "metadata": {},
   "source": [
    "An inspection to the full message history will show that the `get_joke` tool was called after the `random_topic` tool."
   ]
  },
  {
   "cell_type": "code",
   "execution_count": 14,
   "metadata": {},
   "outputs": [
    {
     "name": "stdout",
     "output_type": "stream",
     "text": [
      "[{'index': 0, 'function': {'arguments': '{}', 'name': 'random_topic'}, 'id': 'call_wqcvAcBqwnbcaS6We1cT0fLR', 'type': 'function'}]\n",
      "[{'index': 0, 'function': {'arguments': '{\"joke_topic\":\"sports\"}', 'name': 'get_joke'}, 'id': 'call_vXGyP22zQaP80OK4HTX6W0Bz', 'type': 'function'}]\n"
     ]
    }
   ],
   "source": [
    "for m in example_agent.conv_history.messages:\n",
    "    if m.tool_calls:\n",
    "        print(m.tool_calls)"
   ]
  },
  {
   "cell_type": "markdown",
   "metadata": {},
   "source": [
    "And in total we add 3 model calls:"
   ]
  },
  {
   "cell_type": "code",
   "execution_count": 15,
   "metadata": {},
   "outputs": [
    {
     "data": {
      "text/plain": [
       "3"
      ]
     },
     "execution_count": 15,
     "metadata": {},
     "output_type": "execute_result"
    }
   ],
   "source": [
    "len(example_agent.log_calls)"
   ]
  },
  {
   "cell_type": "markdown",
   "metadata": {},
   "source": [
    "Now, let's see how to use the `manual_call` parameter. \n",
    "\n",
    "We just need to add a function that will pass the generated topic to the `get_joke` tool. We will use a simple lambda function to do that."
   ]
  },
  {
   "cell_type": "code",
   "execution_count": 16,
   "metadata": {},
   "outputs": [],
   "source": [
    "class MainAgent(BaseAgent):\n",
    "    agent_name: str = \"main_agent\"\n",
    "    \n",
    "    @function_tool(next_tool = \"get_joke\", manual_call= lambda x: {'joke_topic':x})\n",
    "    def random_topic(self):\n",
    "        \"\"\"Tool to get a random topic.\n",
    "        \"\"\"\n",
    "        topics = [\"programming\",\"science\",\"animals\",\"food\",\"sports\"]\n",
    "        topic = random.choice(topics)\n",
    "\n",
    "        return topic\n",
    "\n",
    "\n",
    "    @agent_tool()\n",
    "    def get_joke(self,joke_topic:str):\n",
    "        \"\"\"Tool to get a joke.\n",
    "\n",
    "        Args:\n",
    "            joke_topic: The topic of the joke.\n",
    "        \"\"\"\n",
    "\n",
    "        joke_agent = JokeTeller()\n",
    "        joke_agent.add_message(role = \"user\", content = \"Tell me a joke about \" + joke_topic)\n",
    "        return joke_agent"
   ]
  },
  {
   "cell_type": "code",
   "execution_count": 17,
   "metadata": {},
   "outputs": [
    {
     "name": "stdout",
     "output_type": "stream",
     "text": [
      "Executing agent: main_agent\n",
      "Executing tool: random_topic (agent: main_agent)\n",
      "Executing agent: JokeTeller\n",
      "Executing tool: task_completed (agent: JokeTeller)\n",
      "Executing agent: main_agent\n"
     ]
    }
   ],
   "source": [
    "example_agent = MainAgent()\n",
    "example_agent.add_message(role = \"user\", content = \"Generate a random topic.\")\n",
    "response = await example_agent.run(stream = False)"
   ]
  },
  {
   "cell_type": "code",
   "execution_count": 19,
   "metadata": {},
   "outputs": [
    {
     "name": "stdout",
     "output_type": "stream",
     "text": [
      "role='user' agent_name='main_agent' content=[Content(type='text', text='Generate a random topic.')] tool_calls=None tool_call_id=None tool_name=None hidden=False id=None usage=None timestamp=datetime.datetime(2025, 9, 27, 9, 31, 14, 443791)\n",
      "--------------------------------\n",
      "role='assistant' agent_name='main_agent' content=[] tool_calls=[{'index': 0, 'function': {'arguments': '{}', 'name': 'random_topic'}, 'id': 'call_ISkA0r4SpJdIs5213YPolBI8', 'type': 'function'}] tool_call_id=None tool_name=None hidden=False id=None usage=None timestamp=datetime.datetime(2025, 9, 27, 9, 31, 15, 288487)\n",
      "--------------------------------\n",
      "role='tool' agent_name='main_agent' content=[Content(type='text', text='\"sports\"')] tool_calls=None tool_call_id='call_ISkA0r4SpJdIs5213YPolBI8' tool_name=None hidden=False id=None usage=None timestamp=datetime.datetime(2025, 9, 27, 9, 31, 15, 289084)\n",
      "--------------------------------\n",
      "role='assistant' agent_name='main_agent' content=[] tool_calls=[{'id': 'manual_QsZW85lA4pfpmz155dpLiYme', 'function': {'name': 'get_joke', 'arguments': '{\"joke_topic\": \"sports\"}'}, 'type': 'function'}] tool_call_id=None tool_name=None hidden=False id=None usage=None timestamp=datetime.datetime(2025, 9, 27, 9, 31, 15, 294872)\n",
      "--------------------------------\n",
      "role='tool' agent_name='main_agent' content=[Content(type='text', text='\"Why did the golfer bring two pairs of pants? In case he got a hole in one!\"')] tool_calls=None tool_call_id='manual_QsZW85lA4pfpmz155dpLiYme' tool_name=None hidden=False id=None usage=None timestamp=datetime.datetime(2025, 9, 27, 9, 31, 16, 206128)\n",
      "--------------------------------\n",
      "role='assistant' agent_name='main_agent' content=[Content(type='text', text=\"Your random topic is: sports.\\n\\nHere's a joke on that topic:\\nWhy did the golfer bring two pairs of pants? In case he got a hole in one!\")] tool_calls=None tool_call_id=None tool_name=None hidden=False id=None usage=Usage(completion_tokens=34, prompt_tokens=144, total_tokens=178) timestamp=datetime.datetime(2025, 9, 27, 9, 31, 17, 342308)\n",
      "--------------------------------\n"
     ]
    }
   ],
   "source": [
    "for m in example_agent.conv_history.messages:\n",
    "    print(m)\n",
    "    print(\"--------------------------------\")"
   ]
  },
  {
   "cell_type": "code",
   "execution_count": 20,
   "metadata": {},
   "outputs": [
    {
     "name": "stdout",
     "output_type": "stream",
     "text": [
      "[{'index': 0, 'function': {'arguments': '{}', 'name': 'random_topic'}, 'id': 'call_ISkA0r4SpJdIs5213YPolBI8', 'type': 'function'}]\n",
      "[{'id': 'manual_QsZW85lA4pfpmz155dpLiYme', 'function': {'name': 'get_joke', 'arguments': '{\"joke_topic\": \"sports\"}'}, 'type': 'function'}]\n"
     ]
    }
   ],
   "source": [
    "for m in example_agent.conv_history.messages:\n",
    "    if m.tool_calls:\n",
    "        print(m.tool_calls)"
   ]
  },
  {
   "cell_type": "markdown",
   "metadata": {},
   "source": [
    "The manual call has the prefix \"man_\" to indicate that the tool call was inserted manually in the message history and not by a new model call.\n",
    "\n",
    "We can see in the call log that we now have only 2 model calls."
   ]
  },
  {
   "cell_type": "code",
   "execution_count": 21,
   "metadata": {},
   "outputs": [
    {
     "data": {
      "text/plain": [
       "2"
      ]
     },
     "execution_count": 21,
     "metadata": {},
     "output_type": "execute_result"
    }
   ],
   "source": [
    "len(example_agent.log_calls)"
   ]
  },
  {
   "cell_type": "code",
   "execution_count": null,
   "metadata": {},
   "outputs": [],
   "source": []
  }
 ],
 "metadata": {
  "kernelspec": {
   "display_name": "agente",
   "language": "python",
   "name": "python3"
  },
  "language_info": {
   "codemirror_mode": {
    "name": "ipython",
    "version": 3
   },
   "file_extension": ".py",
   "mimetype": "text/x-python",
   "name": "python",
   "nbconvert_exporter": "python",
   "pygments_lexer": "ipython3",
   "version": "3.11.13"
  }
 },
 "nbformat": 4,
 "nbformat_minor": 2
}
