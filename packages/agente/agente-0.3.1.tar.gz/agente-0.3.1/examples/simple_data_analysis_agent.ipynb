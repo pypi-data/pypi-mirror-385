{
 "cells": [
  {
   "cell_type": "markdown",
   "metadata": {},
   "source": [
    "# Data Analysis Agent\n",
    "\n",
    "##### In this notebook, we will create an agent that given a dataframe will answer user questions about it. This example is based on the [Simple Data Analysis Agent](https://github.com/NirDiamant/GenAI_Agents/blob/main/all_agents_tutorials/simple_data_analysis_agent_notebook-pydanticai.ipynb) from the [GenAI Agents](https://github.com/NirDiamant/GenAI_Agents) repository."
   ]
  },
  {
   "cell_type": "code",
   "execution_count": 1,
   "metadata": {},
   "outputs": [
    {
     "name": "stderr",
     "output_type": "stream",
     "text": [
      "/Users/miguelwon/opt/miniconda3/envs/agente/lib/python3.11/site-packages/tqdm/auto.py:21: TqdmWarning: IProgress not found. Please update jupyter and ipywidgets. See https://ipywidgets.readthedocs.io/en/stable/user_install.html\n",
      "  from .autonotebook import tqdm as notebook_tqdm\n"
     ]
    },
    {
     "data": {
      "text/plain": [
       "True"
      ]
     },
     "execution_count": 1,
     "metadata": {},
     "output_type": "execute_result"
    }
   ],
   "source": [
    "import numpy as np\n",
    "from datetime import datetime, timedelta\n",
    "import pandas as pd\n",
    "import gradio as gr\n",
    "\n",
    "from typing import List,Annotated\n",
    "from pydantic import Field\n",
    "\n",
    "from agente.core.base import BaseAgent\n",
    "from agente.core.decorators import function_tool\n",
    "\n",
    "from dotenv import load_dotenv\n",
    "## Load and set environment variables from .env file\n",
    "load_dotenv()\n"
   ]
  },
  {
   "cell_type": "markdown",
   "metadata": {},
   "source": [
    "### We start by simulating a dataset of car sales"
   ]
  },
  {
   "cell_type": "code",
   "execution_count": 2,
   "metadata": {},
   "outputs": [
    {
     "data": {
      "text/html": [
       "<div>\n",
       "<style scoped>\n",
       "    .dataframe tbody tr th:only-of-type {\n",
       "        vertical-align: middle;\n",
       "    }\n",
       "\n",
       "    .dataframe tbody tr th {\n",
       "        vertical-align: top;\n",
       "    }\n",
       "\n",
       "    .dataframe thead th {\n",
       "        text-align: right;\n",
       "    }\n",
       "</style>\n",
       "<table border=\"1\" class=\"dataframe\">\n",
       "  <thead>\n",
       "    <tr style=\"text-align: right;\">\n",
       "      <th></th>\n",
       "      <th>Date</th>\n",
       "      <th>Make</th>\n",
       "      <th>Model</th>\n",
       "      <th>Color</th>\n",
       "      <th>Year</th>\n",
       "      <th>Price</th>\n",
       "      <th>Mileage</th>\n",
       "      <th>EngineSize</th>\n",
       "      <th>FuelEfficiency</th>\n",
       "      <th>SalesPerson</th>\n",
       "    </tr>\n",
       "  </thead>\n",
       "  <tbody>\n",
       "    <tr>\n",
       "      <th>0</th>\n",
       "      <td>2022-01-01</td>\n",
       "      <td>Ford</td>\n",
       "      <td>SUV</td>\n",
       "      <td>Gray</td>\n",
       "      <td>2020</td>\n",
       "      <td>23887.50</td>\n",
       "      <td>49176.0</td>\n",
       "      <td>3.0</td>\n",
       "      <td>38.2</td>\n",
       "      <td>Charlie</td>\n",
       "    </tr>\n",
       "    <tr>\n",
       "      <th>1</th>\n",
       "      <td>2022-01-02</td>\n",
       "      <td>Audi</td>\n",
       "      <td>Van</td>\n",
       "      <td>White</td>\n",
       "      <td>2017</td>\n",
       "      <td>28332.15</td>\n",
       "      <td>11629.0</td>\n",
       "      <td>4.0</td>\n",
       "      <td>29.9</td>\n",
       "      <td>Charlie</td>\n",
       "    </tr>\n",
       "    <tr>\n",
       "      <th>2</th>\n",
       "      <td>2022-01-03</td>\n",
       "      <td>Audi</td>\n",
       "      <td>Truck</td>\n",
       "      <td>White</td>\n",
       "      <td>2022</td>\n",
       "      <td>61301.76</td>\n",
       "      <td>63298.0</td>\n",
       "      <td>3.5</td>\n",
       "      <td>37.1</td>\n",
       "      <td>David</td>\n",
       "    </tr>\n",
       "    <tr>\n",
       "      <th>3</th>\n",
       "      <td>2022-01-04</td>\n",
       "      <td>Ford</td>\n",
       "      <td>SUV</td>\n",
       "      <td>White</td>\n",
       "      <td>2016</td>\n",
       "      <td>31821.71</td>\n",
       "      <td>40040.0</td>\n",
       "      <td>4.0</td>\n",
       "      <td>32.9</td>\n",
       "      <td>Bob</td>\n",
       "    </tr>\n",
       "    <tr>\n",
       "      <th>4</th>\n",
       "      <td>2022-01-05</td>\n",
       "      <td>Hyundai</td>\n",
       "      <td>SUV</td>\n",
       "      <td>Silver</td>\n",
       "      <td>2018</td>\n",
       "      <td>38096.93</td>\n",
       "      <td>10091.0</td>\n",
       "      <td>1.6</td>\n",
       "      <td>30.4</td>\n",
       "      <td>Bob</td>\n",
       "    </tr>\n",
       "    <tr>\n",
       "      <th>...</th>\n",
       "      <td>...</td>\n",
       "      <td>...</td>\n",
       "      <td>...</td>\n",
       "      <td>...</td>\n",
       "      <td>...</td>\n",
       "      <td>...</td>\n",
       "      <td>...</td>\n",
       "      <td>...</td>\n",
       "      <td>...</td>\n",
       "      <td>...</td>\n",
       "    </tr>\n",
       "    <tr>\n",
       "      <th>995</th>\n",
       "      <td>2024-09-22</td>\n",
       "      <td>Chevrolet</td>\n",
       "      <td>Van</td>\n",
       "      <td>Blue</td>\n",
       "      <td>2019</td>\n",
       "      <td>31217.87</td>\n",
       "      <td>40317.0</td>\n",
       "      <td>3.0</td>\n",
       "      <td>23.9</td>\n",
       "      <td>Bob</td>\n",
       "    </tr>\n",
       "    <tr>\n",
       "      <th>996</th>\n",
       "      <td>2024-09-23</td>\n",
       "      <td>Toyota</td>\n",
       "      <td>Sedan</td>\n",
       "      <td>Silver</td>\n",
       "      <td>2021</td>\n",
       "      <td>64381.95</td>\n",
       "      <td>48529.0</td>\n",
       "      <td>3.5</td>\n",
       "      <td>30.7</td>\n",
       "      <td>Alice</td>\n",
       "    </tr>\n",
       "    <tr>\n",
       "      <th>997</th>\n",
       "      <td>2024-09-24</td>\n",
       "      <td>Ford</td>\n",
       "      <td>Sedan</td>\n",
       "      <td>Red</td>\n",
       "      <td>2019</td>\n",
       "      <td>45251.72</td>\n",
       "      <td>35962.0</td>\n",
       "      <td>3.5</td>\n",
       "      <td>34.2</td>\n",
       "      <td>David</td>\n",
       "    </tr>\n",
       "    <tr>\n",
       "      <th>998</th>\n",
       "      <td>2024-09-25</td>\n",
       "      <td>Kia</td>\n",
       "      <td>Sedan</td>\n",
       "      <td>Red</td>\n",
       "      <td>2015</td>\n",
       "      <td>62439.69</td>\n",
       "      <td>14491.0</td>\n",
       "      <td>1.6</td>\n",
       "      <td>22.4</td>\n",
       "      <td>Bob</td>\n",
       "    </tr>\n",
       "    <tr>\n",
       "      <th>999</th>\n",
       "      <td>2024-09-26</td>\n",
       "      <td>Nissan</td>\n",
       "      <td>Truck</td>\n",
       "      <td>White</td>\n",
       "      <td>2022</td>\n",
       "      <td>50691.43</td>\n",
       "      <td>50285.0</td>\n",
       "      <td>2.0</td>\n",
       "      <td>34.4</td>\n",
       "      <td>David</td>\n",
       "    </tr>\n",
       "  </tbody>\n",
       "</table>\n",
       "<p>1000 rows × 10 columns</p>\n",
       "</div>"
      ],
      "text/plain": [
       "          Date       Make  Model   Color  Year     Price  Mileage  EngineSize  \\\n",
       "0   2022-01-01       Ford    SUV    Gray  2020  23887.50  49176.0         3.0   \n",
       "1   2022-01-02       Audi    Van   White  2017  28332.15  11629.0         4.0   \n",
       "2   2022-01-03       Audi  Truck   White  2022  61301.76  63298.0         3.5   \n",
       "3   2022-01-04       Ford    SUV   White  2016  31821.71  40040.0         4.0   \n",
       "4   2022-01-05    Hyundai    SUV  Silver  2018  38096.93  10091.0         1.6   \n",
       "..         ...        ...    ...     ...   ...       ...      ...         ...   \n",
       "995 2024-09-22  Chevrolet    Van    Blue  2019  31217.87  40317.0         3.0   \n",
       "996 2024-09-23     Toyota  Sedan  Silver  2021  64381.95  48529.0         3.5   \n",
       "997 2024-09-24       Ford  Sedan     Red  2019  45251.72  35962.0         3.5   \n",
       "998 2024-09-25        Kia  Sedan     Red  2015  62439.69  14491.0         1.6   \n",
       "999 2024-09-26     Nissan  Truck   White  2022  50691.43  50285.0         2.0   \n",
       "\n",
       "     FuelEfficiency SalesPerson  \n",
       "0              38.2     Charlie  \n",
       "1              29.9     Charlie  \n",
       "2              37.1       David  \n",
       "3              32.9         Bob  \n",
       "4              30.4         Bob  \n",
       "..              ...         ...  \n",
       "995            23.9         Bob  \n",
       "996            30.7       Alice  \n",
       "997            34.2       David  \n",
       "998            22.4         Bob  \n",
       "999            34.4       David  \n",
       "\n",
       "[1000 rows x 10 columns]"
      ]
     },
     "execution_count": 2,
     "metadata": {},
     "output_type": "execute_result"
    }
   ],
   "source": [
    "# Generate sample data\n",
    "n_rows = 1000\n",
    "\n",
    "# Generate dates\n",
    "start_date = datetime(2022, 1, 1)\n",
    "dates = [start_date + timedelta(days=i) for i in range(n_rows)]\n",
    "\n",
    "# Define data categories\n",
    "makes = ['Toyota', 'Honda', 'Ford', 'Chevrolet', 'Nissan', 'BMW', 'Mercedes', 'Audi', 'Hyundai', 'Kia']\n",
    "models = ['Sedan', 'SUV', 'Truck', 'Hatchback', 'Coupe', 'Van']\n",
    "colors = ['Red', 'Blue', 'Black', 'White', 'Silver', 'Gray', 'Green']\n",
    "\n",
    "# Create the dataset\n",
    "data = {\n",
    "    'Date': dates,\n",
    "    'Make': np.random.choice(makes, n_rows),\n",
    "    'Model': np.random.choice(models, n_rows),\n",
    "    'Color': np.random.choice(colors, n_rows),\n",
    "    'Year': np.random.randint(2015, 2023, n_rows),\n",
    "    'Price': np.random.uniform(20000, 80000, n_rows).round(2),\n",
    "    'Mileage': np.random.uniform(0, 100000, n_rows).round(0),\n",
    "    'EngineSize': np.random.choice([1.6, 2.0, 2.5, 3.0, 3.5, 4.0], n_rows),\n",
    "    'FuelEfficiency': np.random.uniform(20, 40, n_rows).round(1),\n",
    "    'SalesPerson': np.random.choice(['Alice', 'Bob', 'Charlie', 'David', 'Eva'], n_rows)\n",
    "}\n",
    "\n",
    "# Create DataFrame and sort by date\n",
    "df = pd.DataFrame(data).sort_values('Date')\n",
    "df"
   ]
  },
  {
   "cell_type": "code",
   "execution_count": 3,
   "metadata": {},
   "outputs": [
    {
     "name": "stdout",
     "output_type": "stream",
     "text": [
      "|    | Date                | Make    | Model   | Color   |   Year |   Price |   Mileage |   EngineSize |   FuelEfficiency | SalesPerson   |\n",
      "|---:|:--------------------|:--------|:--------|:--------|-------:|--------:|----------:|-------------:|-----------------:|:--------------|\n",
      "|  0 | 2022-01-01 00:00:00 | Ford    | SUV     | Gray    |   2020 | 23887.5 |     49176 |          3   |             38.2 | Charlie       |\n",
      "|  1 | 2022-01-02 00:00:00 | Audi    | Van     | White   |   2017 | 28332.2 |     11629 |          4   |             29.9 | Charlie       |\n",
      "|  2 | 2022-01-03 00:00:00 | Audi    | Truck   | White   |   2022 | 61301.8 |     63298 |          3.5 |             37.1 | David         |\n",
      "|  3 | 2022-01-04 00:00:00 | Ford    | SUV     | White   |   2016 | 31821.7 |     40040 |          4   |             32.9 | Bob           |\n",
      "|  4 | 2022-01-05 00:00:00 | Hyundai | SUV     | Silver  |   2018 | 38096.9 |     10091 |          1.6 |             30.4 | Bob           |\n"
     ]
    }
   ],
   "source": [
    "print(df.head().to_markdown())"
   ]
  },
  {
   "cell_type": "code",
   "execution_count": 4,
   "metadata": {},
   "outputs": [],
   "source": [
    "SYSTEM_PROMPT=\"\"\"You are an AI assistant that helps extract information from a pandas DataFrame.\n",
    "If asked about columns, be sure to check the column names first.\n",
    "Be concise in your answers.\"\"\"\n",
    "\n",
    "\n",
    "class SimpleAnalysisAgent(BaseAgent):\n",
    "    agent_name: str = \"SimpleAnalysisAgent\"\n",
    "    system_prompt:str = SYSTEM_PROMPT\n",
    "    df: pd.DataFrame = Field(default_factory=pd.DataFrame) \n",
    "\n",
    "    completion_kwargs: dict = {\n",
    "        \"model\": \"claude-sonnet-4-20250514\",\n",
    "        \"stream\": False,\n",
    "    }\n",
    "\n",
    "    @function_tool\n",
    "    async def df_query(self,query: str):\n",
    "        \"\"\"A tool for running queries on the `pandas.DataFrame`. Use this tool to interact with the DataFrame.\n",
    "\n",
    "        `query` will be executed using `pd.eval(query, target=df)`, so it must contain syntax compatible with\n",
    "        `pandas.eval`.\n",
    "\n",
    "        Args:\n",
    "            query: The query to run on the DataFrame.\n",
    "        \"\"\"\n",
    "        # Print the query for debugging purposes and fun :)\n",
    "        print(f'Running query: `{query}`')\n",
    "        return str(pd.eval(query, target=self.df))"
   ]
  },
  {
   "cell_type": "code",
   "execution_count": 5,
   "metadata": {},
   "outputs": [
    {
     "name": "stdout",
     "output_type": "stream",
     "text": [
      "Executing agent: SimpleAnalysisAgent\n",
      "Executing tool: df_query (agent: SimpleAnalysisAgent)\n",
      "Running query: `df.columns.tolist()`\n",
      "Executing agent: SimpleAnalysisAgent\n"
     ]
    }
   ],
   "source": [
    "agent = SimpleAnalysisAgent()\n",
    "agent.add_message( role = \"user\", content = \"What are the column names in this dataset?\")\n",
    "\n",
    "responses = await agent.run()"
   ]
  },
  {
   "cell_type": "code",
   "execution_count": 6,
   "metadata": {},
   "outputs": [
    {
     "name": "stderr",
     "output_type": "stream",
     "text": [
      "/var/folders/zq/0fkhk67d5f94s7fqjygx4xfm0000gn/T/ipykernel_70815/1492498605.py:1: PydanticDeprecatedSince20: The `dict` method is deprecated; use `model_dump` instead. Deprecated in Pydantic V2.0 to be removed in V3.0. See Pydantic V2 Migration Guide at https://errors.pydantic.dev/2.11/migration/\n",
      "  responses[-1].dict()\n"
     ]
    },
    {
     "data": {
      "text/plain": [
       "{'id': 'chatcmpl-051aa54e-869a-42b9-b588-3719ea8bd2df',\n",
       " 'created': 1758962680,\n",
       " 'model': 'claude-sonnet-4-20250514',\n",
       " 'object': 'chat.completion',\n",
       " 'system_fingerprint': None,\n",
       " 'choices': [{'finish_reason': 'stop',\n",
       "   'index': 0,\n",
       "   'message': {'content': 'The dataset contains the following column names:\\n\\n1. Date\\n2. Make\\n3. Model\\n4. Color\\n5. Year\\n6. Price\\n7. Mileage\\n8. EngineSize\\n9. FuelEfficiency\\n10. SalesPerson',\n",
       "    'role': 'assistant',\n",
       "    'tool_calls': None,\n",
       "    'function_call': None}}],\n",
       " 'usage': {'completion_tokens': 63,\n",
       "  'prompt_tokens': 623,\n",
       "  'total_tokens': 686,\n",
       "  'completion_tokens_details': None,\n",
       "  'prompt_tokens_details': {'audio_tokens': None,\n",
       "   'cached_tokens': 0,\n",
       "   'text_tokens': None,\n",
       "   'image_tokens': None},\n",
       "  'cache_creation_input_tokens': 0,\n",
       "  'cache_read_input_tokens': 0}}"
      ]
     },
     "execution_count": 6,
     "metadata": {},
     "output_type": "execute_result"
    }
   ],
   "source": [
    "responses[-1].dict()"
   ]
  },
  {
   "cell_type": "code",
   "execution_count": 7,
   "metadata": {},
   "outputs": [
    {
     "name": "stdout",
     "output_type": "stream",
     "text": [
      "Executing agent: SimpleAnalysisAgent\n",
      "Executing tool: df_query (agent: SimpleAnalysisAgent)\n",
      "Running query: `df['Make'].value_counts().head(1)`\n",
      "Executing agent: SimpleAnalysisAgent\n"
     ]
    }
   ],
   "source": [
    "agent.add_message(\"user\",\"What is the most sold brand?\")\n",
    "responses = await agent.run()"
   ]
  },
  {
   "cell_type": "code",
   "execution_count": 8,
   "metadata": {},
   "outputs": [
    {
     "name": "stdout",
     "output_type": "stream",
     "text": [
      "role='system' agent_name='SimpleAnalysisAgent' content=[Content(type='text', text='You are an AI assistant that helps extract information from a pandas DataFrame.\\nIf asked about columns, be sure to check the column names first.\\nBe concise in your answers.')] tool_calls=None tool_call_id=None tool_name=None hidden=False id=None usage=None timestamp=datetime.datetime(2025, 9, 27, 8, 44, 36, 639493)\n",
      "--------------------------------\n",
      "role='user' agent_name='SimpleAnalysisAgent' content=[Content(type='text', text='What are the column names in this dataset?')] tool_calls=None tool_call_id=None tool_name=None hidden=False id=None usage=None timestamp=datetime.datetime(2025, 9, 27, 8, 44, 36, 639570)\n",
      "--------------------------------\n",
      "role='assistant' agent_name='SimpleAnalysisAgent' content=[Content(type='text', text=\"I'll check the column names in the dataset for you.\")] tool_calls=None tool_call_id=None tool_name=None hidden=False id=None usage=Usage(completion_tokens=72, prompt_tokens=487, total_tokens=559) timestamp=datetime.datetime(2025, 9, 27, 8, 44, 38, 535891)\n",
      "--------------------------------\n",
      "role='assistant' agent_name='SimpleAnalysisAgent' content=[] tool_calls=[{'index': 1, 'function': {'arguments': '{\"query\": \"df.columns.tolist()\"}', 'name': 'df_query'}, 'id': 'toolu_01AZP3BtgJ6xg4c59zSeK1cw', 'type': 'function'}] tool_call_id=None tool_name=None hidden=False id=None usage=None timestamp=datetime.datetime(2025, 9, 27, 8, 44, 38, 535954)\n",
      "--------------------------------\n",
      "role='tool' agent_name='SimpleAnalysisAgent' content=[Content(type='text', text='\"[\\'Date\\', \\'Make\\', \\'Model\\', \\'Color\\', \\'Year\\', \\'Price\\', \\'Mileage\\', \\'EngineSize\\', \\'FuelEfficiency\\', \\'SalesPerson\\']\"')] tool_calls=None tool_call_id='toolu_01AZP3BtgJ6xg4c59zSeK1cw' tool_name=None hidden=False id=None usage=None timestamp=datetime.datetime(2025, 9, 27, 8, 44, 38, 538534)\n",
      "--------------------------------\n",
      "role='assistant' agent_name='SimpleAnalysisAgent' content=[Content(type='text', text='The dataset contains the following column names:\\n\\n1. Date\\n2. Make\\n3. Model\\n4. Color\\n5. Year\\n6. Price\\n7. Mileage\\n8. EngineSize\\n9. FuelEfficiency\\n10. SalesPerson')] tool_calls=None tool_call_id=None tool_name=None hidden=False id=None usage=Usage(completion_tokens=63, prompt_tokens=623, total_tokens=686) timestamp=datetime.datetime(2025, 9, 27, 8, 44, 40, 429663)\n",
      "--------------------------------\n",
      "role='user' agent_name='SimpleAnalysisAgent' content=[Content(type='text', text='What is the most sold brand?')] tool_calls=None tool_call_id=None tool_name=None hidden=False id=None usage=None timestamp=datetime.datetime(2025, 9, 27, 8, 44, 41, 454994)\n",
      "--------------------------------\n",
      "role='assistant' agent_name='SimpleAnalysisAgent' content=[Content(type='text', text=\"I'll find the most sold brand by counting the frequency of each make in the dataset.\")] tool_calls=None tool_call_id=None tool_name=None hidden=False id=None usage=Usage(completion_tokens=82, prompt_tokens=696, total_tokens=778) timestamp=datetime.datetime(2025, 9, 27, 8, 44, 43, 314052)\n",
      "--------------------------------\n",
      "role='assistant' agent_name='SimpleAnalysisAgent' content=[] tool_calls=[{'index': 1, 'function': {'arguments': '{\"query\": \"df[\\'Make\\'].value_counts().head(1)\"}', 'name': 'df_query'}, 'id': 'toolu_01VjKp3TtGgNPJ8pzY5AGUTN', 'type': 'function'}] tool_call_id=None tool_name=None hidden=False id=None usage=None timestamp=datetime.datetime(2025, 9, 27, 8, 44, 43, 314076)\n",
      "--------------------------------\n",
      "role='tool' agent_name='SimpleAnalysisAgent' content=[Content(type='text', text='\"Make\\\\nKia    130\\\\nName: count, dtype: int64\"')] tool_calls=None tool_call_id='toolu_01VjKp3TtGgNPJ8pzY5AGUTN' tool_name=None hidden=False id=None usage=None timestamp=datetime.datetime(2025, 9, 27, 8, 44, 43, 435861)\n",
      "--------------------------------\n",
      "role='assistant' agent_name='SimpleAnalysisAgent' content=[Content(type='text', text='The most sold brand is **Kia** with 130 sales.')] tool_calls=None tool_call_id=None tool_name=None hidden=False id=None usage=Usage(completion_tokens=19, prompt_tokens=808, total_tokens=827) timestamp=datetime.datetime(2025, 9, 27, 8, 44, 45, 621401)\n",
      "--------------------------------\n"
     ]
    }
   ],
   "source": [
    "for m in agent.conv_history.messages:\n",
    "    print(m)\n",
    "    print(\"--------------------------------\")"
   ]
  },
  {
   "cell_type": "code",
   "execution_count": 9,
   "metadata": {},
   "outputs": [
    {
     "name": "stderr",
     "output_type": "stream",
     "text": [
      "/var/folders/zq/0fkhk67d5f94s7fqjygx4xfm0000gn/T/ipykernel_70815/1492498605.py:1: PydanticDeprecatedSince20: The `dict` method is deprecated; use `model_dump` instead. Deprecated in Pydantic V2.0 to be removed in V3.0. See Pydantic V2 Migration Guide at https://errors.pydantic.dev/2.11/migration/\n",
      "  responses[-1].dict()\n"
     ]
    },
    {
     "data": {
      "text/plain": [
       "{'id': 'chatcmpl-04f05b65-8459-48fc-a6de-535904878594',\n",
       " 'created': 1758962685,\n",
       " 'model': 'claude-sonnet-4-20250514',\n",
       " 'object': 'chat.completion',\n",
       " 'system_fingerprint': None,\n",
       " 'choices': [{'finish_reason': 'stop',\n",
       "   'index': 0,\n",
       "   'message': {'content': 'The most sold brand is **Kia** with 130 sales.',\n",
       "    'role': 'assistant',\n",
       "    'tool_calls': None,\n",
       "    'function_call': None}}],\n",
       " 'usage': {'completion_tokens': 19,\n",
       "  'prompt_tokens': 808,\n",
       "  'total_tokens': 827,\n",
       "  'completion_tokens_details': None,\n",
       "  'prompt_tokens_details': {'audio_tokens': None,\n",
       "   'cached_tokens': 0,\n",
       "   'text_tokens': None,\n",
       "   'image_tokens': None},\n",
       "  'cache_creation_input_tokens': 0,\n",
       "  'cache_read_input_tokens': 0}}"
      ]
     },
     "execution_count": 9,
     "metadata": {},
     "output_type": "execute_result"
    }
   ],
   "source": [
    "responses[-1].dict()"
   ]
  },
  {
   "cell_type": "code",
   "execution_count": 10,
   "metadata": {},
   "outputs": [
    {
     "name": "stdout",
     "output_type": "stream",
     "text": [
      "Executing agent: SimpleAnalysisAgent\n",
      "Executing tool: df_query (agent: SimpleAnalysisAgent)\n",
      "Running query: `df['Price'].mean()`\n",
      "Executing agent: SimpleAnalysisAgent\n"
     ]
    }
   ],
   "source": [
    "agent.add_message(\"user\",\"What is the average price of the cars?\")\n",
    "responses = await agent.run()"
   ]
  },
  {
   "cell_type": "code",
   "execution_count": 11,
   "metadata": {},
   "outputs": [
    {
     "name": "stderr",
     "output_type": "stream",
     "text": [
      "/var/folders/zq/0fkhk67d5f94s7fqjygx4xfm0000gn/T/ipykernel_70815/457905648.py:1: PydanticDeprecatedSince20: The `dict` method is deprecated; use `model_dump` instead. Deprecated in Pydantic V2.0 to be removed in V3.0. See Pydantic V2 Migration Guide at https://errors.pydantic.dev/2.11/migration/\n",
      "  agent.conv_history.messages[-1].dict()\n"
     ]
    },
    {
     "data": {
      "text/plain": [
       "{'role': 'assistant',\n",
       " 'agent_name': 'SimpleAnalysisAgent',\n",
       " 'content': [{'type': 'text',\n",
       "   'text': 'The average price of the cars is **$48,983.31**.'}],\n",
       " 'tool_calls': None,\n",
       " 'tool_call_id': None,\n",
       " 'tool_name': None,\n",
       " 'hidden': False,\n",
       " 'id': None,\n",
       " 'usage': {'completion_tokens': 18, 'prompt_tokens': 929, 'total_tokens': 947},\n",
       " 'timestamp': datetime.datetime(2025, 9, 27, 8, 44, 57, 122534)}"
      ]
     },
     "execution_count": 11,
     "metadata": {},
     "output_type": "execute_result"
    }
   ],
   "source": [
    "agent.conv_history.messages[-1].dict()"
   ]
  },
  {
   "cell_type": "markdown",
   "metadata": {},
   "source": [
    "## Streaming\n",
    "\n",
    "### Now the same but with streaming with Gradio"
   ]
  },
  {
   "cell_type": "code",
   "execution_count": 14,
   "metadata": {},
   "outputs": [],
   "source": [
    "import uuid\n",
    "\n",
    "class SimpleAnalysisAgent(BaseAgent):\n",
    "    agent_name: str = \"SimpleAnalysisAgent\"\n",
    "    df: pd.DataFrame = df\n",
    "    completion_kwargs: dict = {\n",
    "        \"model\": \"gpt-4o\",\n",
    "        \"stream\": False,\n",
    "    }\n",
    "\n",
    "    @function_tool\n",
    "    async def df_query(self,query: Annotated[str, \"The query to run on the DataFrame.\"]) -> str:\n",
    "        \"\"\"A tool for running queries on the `pandas.DataFrame`. Use this tool to interact with the DataFrame.\n",
    "\n",
    "        `query` will be executed using `pd.eval(query, target=df)`, so it must contain syntax compatible with\n",
    "        `pandas.eval`.\n",
    "        \"\"\"\n",
    "        # Print the query for debugging purposes and fun :)\n",
    "        print(f'Running query: `{query}`')\n",
    "        return str(pd.eval(query, target=self.df))\n"
   ]
  },
  {
   "cell_type": "code",
   "execution_count": null,
   "metadata": {},
   "outputs": [
    {
     "name": "stdout",
     "output_type": "stream",
     "text": [
      "* Running on local URL:  http://127.0.0.1:7860\n",
      "* To create a public link, set `share=True` in `launch()`.\n"
     ]
    },
    {
     "data": {
      "text/html": [
       "<div><iframe src=\"http://127.0.0.1:7860/\" width=\"100%\" height=\"500\" allow=\"autoplay; camera; microphone; clipboard-read; clipboard-write;\" frameborder=\"0\" allowfullscreen></iframe></div>"
      ],
      "text/plain": [
       "<IPython.core.display.HTML object>"
      ]
     },
     "metadata": {},
     "output_type": "display_data"
    },
    {
     "data": {
      "text/plain": []
     },
     "execution_count": 13,
     "metadata": {},
     "output_type": "execute_result"
    },
    {
     "name": "stdout",
     "output_type": "stream",
     "text": [
      "Executing agent: SimpleAnalysisAgent\n",
      "Executing agent: SimpleAnalysisAgent\n",
      "Executing tool: df_query (agent: SimpleAnalysisAgent)\n",
      "Running query: `columns`\n",
      "Tool error in df_query: Error in tool 'df_query': name 'columns' is not defined\n",
      "Executing agent: SimpleAnalysisAgent\n",
      "Executing tool: df_query (agent: SimpleAnalysisAgent)\n",
      "Running query: `df.columns`\n",
      "Executing agent: SimpleAnalysisAgent\n",
      "Executing tool: df_query (agent: SimpleAnalysisAgent)\n",
      "Running query: `Make.value_counts().idxmax()`\n",
      "Tool error in df_query: Error in tool 'df_query': name 'Make' is not defined\n",
      "Executing agent: SimpleAnalysisAgent\n",
      "Executing tool: df_query (agent: SimpleAnalysisAgent)\n",
      "Running query: `df['Make'].value_counts().idxmax()`\n",
      "Executing agent: SimpleAnalysisAgent\n"
     ]
    }
   ],
   "source": [
    "from litellm import ModelResponseStream\n",
    "from agente.models.schemas import StreamResponse\n",
    "import gradio as gr\n",
    "\n",
    "\n",
    "def get_new_agent():\n",
    "    \"\"\"Create a fresh agent instance\"\"\"\n",
    "    new_agent = SimpleAnalysisAgent()\n",
    "    new_agent.add_message(\"system\", SYSTEM_PROMPT)\n",
    "    return new_agent\n",
    "\n",
    "with gr.Blocks() as demo:\n",
    "    chatbot = gr.Chatbot(type=\"messages\")\n",
    "    msg = gr.Textbox()\n",
    "    clear = gr.Button(\"Clear\")\n",
    "\n",
    "    # Initialize with a function call instead of direct instantiation\n",
    "    agent_state = gr.State(value=None)\n",
    "\n",
    "    def user(user_message, agent):\n",
    "        if agent is None:\n",
    "            agent = get_new_agent()\n",
    "        agent.add_message(\"user\", user_message)\n",
    "        return \"\", [{\"role\": \"user\", \"content\": user_message}], agent\n",
    "\n",
    "    async def bot(history, agent):\n",
    "        if not history:\n",
    "            yield [], agent\n",
    "            return\n",
    "        \n",
    "        history.append({\"role\": \"assistant\", \"content\": \"\"})\n",
    "        \n",
    "        response_generator = await agent.run(stream=True)\n",
    "        async for chunk in response_generator:\n",
    "            #check if chunk is litellm or agente\n",
    "            if isinstance(chunk, ModelResponseStream):\n",
    "                if chunk.choices[0].delta.content:\n",
    "                    history[-1][\"content\"] += chunk.choices[0].delta.content\n",
    "                    yield history, agent\n",
    "            elif isinstance(chunk, StreamResponse):\n",
    "                if chunk.content:\n",
    "                    history[-1][\"content\"] += chunk.content\n",
    "                    yield history, agent\n",
    "            else:\n",
    "                raise ValueError(f\"Unknown chunk type: {type(chunk)}\")\n",
    "\n",
    "\n",
    "    def reset_state():\n",
    "        return None, get_new_agent()\n",
    "\n",
    "    msg.submit(user, [msg, agent_state], [msg, chatbot, agent_state], queue=False).then(\n",
    "        bot, [chatbot, agent_state], [chatbot, agent_state]\n",
    "    )\n",
    "    clear.click(reset_state, None, [chatbot, agent_state], queue=False)\n",
    "\n",
    "demo.launch()"
   ]
  },
  {
   "cell_type": "code",
   "execution_count": null,
   "metadata": {},
   "outputs": [],
   "source": []
  }
 ],
 "metadata": {
  "kernelspec": {
   "display_name": "agente",
   "language": "python",
   "name": "python3"
  },
  "language_info": {
   "codemirror_mode": {
    "name": "ipython",
    "version": 3
   },
   "file_extension": ".py",
   "mimetype": "text/x-python",
   "name": "python",
   "nbconvert_exporter": "python",
   "pygments_lexer": "ipython3",
   "version": "3.11.13"
  }
 },
 "nbformat": 4,
 "nbformat_minor": 2
}
