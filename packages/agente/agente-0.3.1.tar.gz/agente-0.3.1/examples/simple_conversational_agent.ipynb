{
 "cells": [
  {
   "cell_type": "markdown",
   "metadata": {},
   "source": [
    "# Very simple agent\n",
    "\n",
    "This notebook show how to create a very simple conversation agent, with no tools."
   ]
  },
  {
   "cell_type": "markdown",
   "metadata": {},
   "source": [
    "### Let's start by importing the necessary libraries and set the api keys"
   ]
  },
  {
   "cell_type": "code",
   "execution_count": 1,
   "metadata": {},
   "outputs": [
    {
     "data": {
      "text/plain": [
       "True"
      ]
     },
     "execution_count": 1,
     "metadata": {},
     "output_type": "execute_result"
    }
   ],
   "source": [
    "from dotenv import load_dotenv\n",
    "\n",
    "from typing import List\n",
    "from agente.core.base import BaseAgent\n",
    "\n",
    "## Load and set environment variables from .env file\n",
    "load_dotenv()"
   ]
  },
  {
   "cell_type": "markdown",
   "metadata": {},
   "source": [
    "### This first example show how to create an agent without streaming.\n",
    "\n",
    "We note that even the agent is set to run without stream, we need to iterate over agent.run() to get the messages. \n",
    "This allows to stream in case a second agent with stream is called by the first parent agent."
   ]
  },
  {
   "cell_type": "code",
   "execution_count": 2,
   "metadata": {},
   "outputs": [],
   "source": [
    "\n",
    "class SimpleAgent(BaseAgent):\n",
    "    agent_name: str = \"SimpleAgent\"\n",
    "    system_prompt: str = \"You are a helpful AI assistant.\"\n",
    "    completion_kwargs: dict = {\n",
    "        \"model\": \"gpt-4.1\",\n",
    "        \"stream\": False,\n",
    "        \"temperature\": 1.0,\n",
    "        \"max_tokens\": 500,\n",
    "    }\n",
    "\n",
    "# Create agent instance\n",
    "agent = SimpleAgent()\n",
    "\n",
    "# Add a message\n",
    "agent.add_message(role = \"user\", content =  \"Tell me a joke about programming.\")"
   ]
  },
  {
   "cell_type": "code",
   "execution_count": 3,
   "metadata": {},
   "outputs": [
    {
     "name": "stdout",
     "output_type": "stream",
     "text": [
      "Executing agent: SimpleAgent\n"
     ]
    }
   ],
   "source": [
    "responses = await agent.run()"
   ]
  },
  {
   "cell_type": "code",
   "execution_count": 4,
   "metadata": {},
   "outputs": [
    {
     "name": "stderr",
     "output_type": "stream",
     "text": [
      "/var/folders/zq/0fkhk67d5f94s7fqjygx4xfm0000gn/T/ipykernel_71531/632561186.py:1: PydanticDeprecatedSince20: The `dict` method is deprecated; use `model_dump` instead. Deprecated in Pydantic V2.0 to be removed in V3.0. See Pydantic V2 Migration Guide at https://errors.pydantic.dev/2.11/migration/\n",
      "  responses[0].dict()\n"
     ]
    },
    {
     "data": {
      "text/plain": [
       "{'id': 'chatcmpl-CKKr02xxHIkx4KdPQ44WlbroAOvW6',\n",
       " 'created': 1758962758,\n",
       " 'model': 'gpt-4.1-2025-04-14',\n",
       " 'object': 'chat.completion',\n",
       " 'system_fingerprint': 'fp_3502f4eb73',\n",
       " 'choices': [{'finish_reason': 'stop',\n",
       "   'index': 0,\n",
       "   'message': {'content': 'Why do programmers prefer dark mode?\\n\\nBecause light attracts bugs!',\n",
       "    'role': 'assistant',\n",
       "    'tool_calls': None,\n",
       "    'function_call': None,\n",
       "    'annotations': []},\n",
       "   'provider_specific_fields': {}}],\n",
       " 'usage': {'completion_tokens': 12,\n",
       "  'prompt_tokens': 25,\n",
       "  'total_tokens': 37,\n",
       "  'completion_tokens_details': {'accepted_prediction_tokens': 0,\n",
       "   'audio_tokens': 0,\n",
       "   'reasoning_tokens': 0,\n",
       "   'rejected_prediction_tokens': 0,\n",
       "   'text_tokens': None},\n",
       "  'prompt_tokens_details': {'audio_tokens': 0,\n",
       "   'cached_tokens': 0,\n",
       "   'text_tokens': None,\n",
       "   'image_tokens': None}},\n",
       " 'service_tier': 'default'}"
      ]
     },
     "execution_count": 4,
     "metadata": {},
     "output_type": "execute_result"
    }
   ],
   "source": [
    "responses[0].dict()"
   ]
  },
  {
   "cell_type": "markdown",
   "metadata": {},
   "source": [
    "### You can check the conversation history in the conv_history attribute:"
   ]
  },
  {
   "cell_type": "code",
   "execution_count": 5,
   "metadata": {},
   "outputs": [
    {
     "name": "stdout",
     "output_type": "stream",
     "text": [
      "system: You are a helpful AI assistant.\n",
      "user: Tell me a joke about programming.\n",
      "assistant: Why do programmers prefer dark mode?\n",
      "\n",
      "Because light attracts bugs!\n"
     ]
    }
   ],
   "source": [
    "all_messasges = agent.conv_history.messages\n",
    "\n",
    "# Print the last response\n",
    "for m in all_messasges:\n",
    "    print(f\"{m.role}: {m.content[0].text}\")\n",
    "    "
   ]
  },
  {
   "cell_type": "markdown",
   "metadata": {},
   "source": [
    "## Streaming\n",
    "\n",
    "### Now let's create the same agent but with stream. For that we can use Gradio for better visualization"
   ]
  },
  {
   "cell_type": "code",
   "execution_count": null,
   "metadata": {},
   "outputs": [
    {
     "name": "stderr",
     "output_type": "stream",
     "text": [
      "/Users/miguelwon/opt/miniconda3/envs/agente/lib/python3.11/site-packages/tqdm/auto.py:21: TqdmWarning: IProgress not found. Please update jupyter and ipywidgets. See https://ipywidgets.readthedocs.io/en/stable/user_install.html\n",
      "  from .autonotebook import tqdm as notebook_tqdm\n"
     ]
    },
    {
     "name": "stdout",
     "output_type": "stream",
     "text": [
      "* Running on local URL:  http://127.0.0.1:7861\n",
      "* To create a public link, set `share=True` in `launch()`.\n"
     ]
    },
    {
     "data": {
      "text/html": [
       "<div><iframe src=\"http://127.0.0.1:7861/\" width=\"100%\" height=\"500\" allow=\"autoplay; camera; microphone; clipboard-read; clipboard-write;\" frameborder=\"0\" allowfullscreen></iframe></div>"
      ],
      "text/plain": [
       "<IPython.core.display.HTML object>"
      ]
     },
     "metadata": {},
     "output_type": "display_data"
    },
    {
     "data": {
      "text/plain": []
     },
     "execution_count": 6,
     "metadata": {},
     "output_type": "execute_result"
    },
    {
     "name": "stdout",
     "output_type": "stream",
     "text": [
      "Executing agent: VerySimpleAgent\n",
      "Executing agent: VerySimpleAgent\n"
     ]
    }
   ],
   "source": [
    "from litellm import ModelResponseStream\n",
    "from agente.models.schemas import StreamResponse\n",
    "import gradio as gr\n",
    "\n",
    "\n",
    "class VerySimpleAgent(BaseAgent):\n",
    "    agent_name: str = \"VerySimpleAgent\"\n",
    "    completion_kwargs: dict = {\n",
    "        \"model\": \"gpt-4.1\",\n",
    "        \"stream\": True,\n",
    "        \"temperature\": 1.0,\n",
    "        \"max_tokens\": 500,\n",
    "    }\n",
    "\n",
    "\n",
    "def get_new_agent():\n",
    "    \"\"\"Create a fresh agent instance\"\"\"\n",
    "    new_agent = VerySimpleAgent()\n",
    "    return new_agent\n",
    "\n",
    "with gr.Blocks() as demo:\n",
    "    chatbot = gr.Chatbot(type=\"messages\")\n",
    "    msg = gr.Textbox()\n",
    "    clear = gr.Button(\"Clear\")\n",
    "\n",
    "    # Initialize with a function call instead of direct instantiation\n",
    "    main_agent = gr.State(value=None)\n",
    "\n",
    "\n",
    "    def user(user_message, history, agent):\n",
    "        if agent is None:\n",
    "            agent = get_new_agent()\n",
    "        agent.add_message(\"user\", user_message)\n",
    "        # Append to existing history instead of creating new list\n",
    "        history = history or []\n",
    "        history.append({\"role\": \"user\", \"content\": user_message})\n",
    "        return \"\", history, agent\n",
    "\n",
    "    async def bot(history, agent):\n",
    "        if agent is None:\n",
    "            agent = get_new_agent()\n",
    "        if not history:\n",
    "            yield [], agent\n",
    "            return\n",
    "        \n",
    "        history.append({\"role\": \"assistant\", \"content\": \"\"})\n",
    "        response_generator = await agent.run(stream=True)\n",
    "        async for chunk in response_generator:\n",
    "            #check if chunk is litellm or agente\n",
    "            if isinstance(chunk, ModelResponseStream):\n",
    "                if chunk.choices[0].delta.content:\n",
    "                    history[-1][\"content\"] += chunk.choices[0].delta.content\n",
    "                    yield history, agent\n",
    "            elif isinstance(chunk, StreamResponse):\n",
    "                if chunk.content:\n",
    "                    history[-1][\"content\"] += chunk.content\n",
    "                    yield history, agent\n",
    "            else:\n",
    "                raise ValueError(f\"Unknown chunk type: {type(chunk)}\")\n",
    "\n",
    "    def reset_state():\n",
    "        return None, get_new_agent()\n",
    "\n",
    "    msg.submit(user, [msg, chatbot, main_agent], [msg, chatbot, main_agent]).then(\n",
    "        bot, [chatbot, main_agent], [chatbot, main_agent]\n",
    "    )\n",
    "    clear.click(reset_state, None, [chatbot, main_agent])\n",
    "\n",
    "demo.launch()"
   ]
  },
  {
   "cell_type": "markdown",
   "metadata": {},
   "source": [
    "# Now let's check an agent using a tool"
   ]
  },
  {
   "cell_type": "code",
   "execution_count": 7,
   "metadata": {},
   "outputs": [],
   "source": [
    "from agente.core.decorators import function_tool\n",
    "import random"
   ]
  },
  {
   "cell_type": "markdown",
   "metadata": {},
   "source": [
    "##### We create a very simple agent that can call a tool to get a random topic."
   ]
  },
  {
   "cell_type": "code",
   "execution_count": 8,
   "metadata": {},
   "outputs": [],
   "source": [
    "\n",
    "class MainAgent(BaseAgent):\n",
    "    agent_name: str = \"main_agent\"\n",
    "    \n",
    "    @function_tool \n",
    "    def random_topic(self):\n",
    "        \"\"\"Tool to get a random topic.\n",
    "        \"\"\"\n",
    "        topics = [\"programming\",\"science\",\"animals\",\"food\",\"sports\"]\n",
    "        topic = random.choice(topics)\n",
    "\n",
    "        return topic"
   ]
  },
  {
   "cell_type": "markdown",
   "metadata": {},
   "source": [
    "##### We will use claude this time with reasoning enabled."
   ]
  },
  {
   "cell_type": "code",
   "execution_count": 9,
   "metadata": {},
   "outputs": [
    {
     "name": "stdout",
     "output_type": "stream",
     "text": [
      "Executing agent: main_agent\n",
      "Executing tool: random_topic (agent: main_agent)\n",
      "Executing agent: main_agent\n"
     ]
    }
   ],
   "source": [
    "\n",
    "main_agent = MainAgent()\n",
    "main_agent.completion_kwargs[\"model\"] = \"claude-sonnet-4-20250514\"\n",
    "main_agent.completion_kwargs[\"thinking\"] = {\"type\": \"enabled\", \"budget_tokens\": 1024}\n",
    "main_agent.add_message(role = \"user\", content = \"Generate a random topic.\")\n",
    "responses = await main_agent.run()"
   ]
  },
  {
   "cell_type": "markdown",
   "metadata": {},
   "source": [
    "##### The agent ran the first thinking step and then called the tool. The conversation history will all the steps."
   ]
  },
  {
   "cell_type": "code",
   "execution_count": 10,
   "metadata": {},
   "outputs": [
    {
     "name": "stdout",
     "output_type": "stream",
     "text": [
      "role='user' agent_name='main_agent' content=[Content(type='text', text='Generate a random topic.')] tool_calls=None tool_call_id=None tool_name=None hidden=False id=None usage=None timestamp=datetime.datetime(2025, 9, 27, 8, 46, 20, 914144)\n",
      "--------------------------------\n",
      "role='assistant' agent_name='main_agent' content=[ContentThinking(type='thinking', thinking='The user is asking for a random topic. I have a tool called \"random_topic\" that can generate a random topic. Let me check the parameters - it appears to have no required parameters (empty properties object), so I can call it directly.', signature='EpMDCkYICBgCKkBW543Q5L+sqgJ3oAGQQ0ECdTjmWxOh9Z0EFN51676HWooyCYarathRsSeWxNrCiQOc5iVfynaDqQpvQgqnmENbEgxYB3q/d2usi9xFWxsaDKUkwxYAzZlcbQ54sSIwmMNLZ6csoP/oZ5Qhs94CyMEsBSO39qYfY0GG5DpOWJuJtKc0+CYA9dAUd1WY1QcDKvoB8EDURGSalJ8XsZ4kAEfweGo/yybJoIYbqgC/did78EW2zmnBCmHmF7vXh25mA1DZNyqKFnYv3UmGkP+WhpSiIxdWwQSHw/9kaq6yKdPr1ucPJuBS5R+EzsJ5siQPfQC6MDd18aMm6ktdJaQSRCrCLtVec0nBMyhHzUi36GdVz+1FvBirP2vSFJl9SW5EiwLWtvHKfXcyCONLHF5KIlghRcr8JvDlKnbc5ihy2DtXTjd5lIWUedZbKPnGMEiRaE8M/MTQBh/SFQ11S+IiysJKZ3BYtRwZobeWdYQgf2RxIAYVGSTaHe+N+cgGP9NWBIi6CM8CvO+zP2oKMBgB')] tool_calls=None tool_call_id=None tool_name=None hidden=False id=None usage=Usage(completion_tokens=96, prompt_tokens=394, total_tokens=490) timestamp=datetime.datetime(2025, 9, 27, 8, 46, 23, 445152)\n",
      "--------------------------------\n",
      "role='assistant' agent_name='main_agent' content=[] tool_calls=[{'index': 1, 'function': {'arguments': '{}', 'name': 'random_topic'}, 'id': 'toolu_01B4fwgm8QabxfRZugYsneKc', 'type': 'function'}] tool_call_id=None tool_name=None hidden=False id=None usage=None timestamp=datetime.datetime(2025, 9, 27, 8, 46, 23, 445168)\n",
      "--------------------------------\n",
      "role='tool' agent_name='main_agent' content=[Content(type='text', text='\"animals\"')] tool_calls=None tool_call_id='toolu_01B4fwgm8QabxfRZugYsneKc' tool_name=None hidden=False id=None usage=None timestamp=datetime.datetime(2025, 9, 27, 8, 46, 23, 445412)\n",
      "--------------------------------\n",
      "role='assistant' agent_name='main_agent' content=[Content(type='text', text=\"Your random topic is: **Animals**\\n\\nThis is a broad and fascinating topic that could cover anything from wildlife behavior and habitats to pet care, endangered species conservation, animal intelligence, evolution, or the relationship between humans and animals. Is there any particular aspect of animals you'd like to explore or discuss?\")] tool_calls=None tool_call_id=None tool_name=None hidden=False id=None usage=Usage(completion_tokens=65, prompt_tokens=504, total_tokens=569) timestamp=datetime.datetime(2025, 9, 27, 8, 46, 26, 960104)\n",
      "--------------------------------\n"
     ]
    }
   ],
   "source": [
    "for m in main_agent.conv_history.messages:\n",
    "    print(m)\n",
    "    print(\"--------------------------------\")"
   ]
  },
  {
   "cell_type": "code",
   "execution_count": 11,
   "metadata": {},
   "outputs": [
    {
     "name": "stderr",
     "output_type": "stream",
     "text": [
      "/var/folders/zq/0fkhk67d5f94s7fqjygx4xfm0000gn/T/ipykernel_71531/800015913.py:1: PydanticDeprecatedSince20: The `dict` method is deprecated; use `model_dump` instead. Deprecated in Pydantic V2.0 to be removed in V3.0. See Pydantic V2 Migration Guide at https://errors.pydantic.dev/2.11/migration/\n",
      "  main_agent.conv_history.messages[0].dict()\n"
     ]
    },
    {
     "data": {
      "text/plain": [
       "{'role': 'user',\n",
       " 'agent_name': 'main_agent',\n",
       " 'content': [{'type': 'text', 'text': 'Generate a random topic.'}],\n",
       " 'tool_calls': None,\n",
       " 'tool_call_id': None,\n",
       " 'tool_name': None,\n",
       " 'hidden': False,\n",
       " 'id': None,\n",
       " 'usage': None,\n",
       " 'timestamp': datetime.datetime(2025, 9, 27, 8, 46, 20, 914144)}"
      ]
     },
     "execution_count": 11,
     "metadata": {},
     "output_type": "execute_result"
    }
   ],
   "source": [
    "main_agent.conv_history.messages[0].dict()"
   ]
  },
  {
   "cell_type": "code",
   "execution_count": 12,
   "metadata": {},
   "outputs": [
    {
     "name": "stderr",
     "output_type": "stream",
     "text": [
      "/var/folders/zq/0fkhk67d5f94s7fqjygx4xfm0000gn/T/ipykernel_71531/3833547919.py:1: PydanticDeprecatedSince20: The `dict` method is deprecated; use `model_dump` instead. Deprecated in Pydantic V2.0 to be removed in V3.0. See Pydantic V2 Migration Guide at https://errors.pydantic.dev/2.11/migration/\n",
      "  main_agent.conv_history.messages[1].dict()\n"
     ]
    },
    {
     "data": {
      "text/plain": [
       "{'role': 'assistant',\n",
       " 'agent_name': 'main_agent',\n",
       " 'content': [{'type': 'thinking',\n",
       "   'thinking': 'The user is asking for a random topic. I have a tool called \"random_topic\" that can generate a random topic. Let me check the parameters - it appears to have no required parameters (empty properties object), so I can call it directly.',\n",
       "   'signature': 'EpMDCkYICBgCKkBW543Q5L+sqgJ3oAGQQ0ECdTjmWxOh9Z0EFN51676HWooyCYarathRsSeWxNrCiQOc5iVfynaDqQpvQgqnmENbEgxYB3q/d2usi9xFWxsaDKUkwxYAzZlcbQ54sSIwmMNLZ6csoP/oZ5Qhs94CyMEsBSO39qYfY0GG5DpOWJuJtKc0+CYA9dAUd1WY1QcDKvoB8EDURGSalJ8XsZ4kAEfweGo/yybJoIYbqgC/did78EW2zmnBCmHmF7vXh25mA1DZNyqKFnYv3UmGkP+WhpSiIxdWwQSHw/9kaq6yKdPr1ucPJuBS5R+EzsJ5siQPfQC6MDd18aMm6ktdJaQSRCrCLtVec0nBMyhHzUi36GdVz+1FvBirP2vSFJl9SW5EiwLWtvHKfXcyCONLHF5KIlghRcr8JvDlKnbc5ihy2DtXTjd5lIWUedZbKPnGMEiRaE8M/MTQBh/SFQ11S+IiysJKZ3BYtRwZobeWdYQgf2RxIAYVGSTaHe+N+cgGP9NWBIi6CM8CvO+zP2oKMBgB'}],\n",
       " 'tool_calls': None,\n",
       " 'tool_call_id': None,\n",
       " 'tool_name': None,\n",
       " 'hidden': False,\n",
       " 'id': None,\n",
       " 'usage': {'completion_tokens': 96, 'prompt_tokens': 394, 'total_tokens': 490},\n",
       " 'timestamp': datetime.datetime(2025, 9, 27, 8, 46, 23, 445152)}"
      ]
     },
     "execution_count": 12,
     "metadata": {},
     "output_type": "execute_result"
    }
   ],
   "source": [
    "main_agent.conv_history.messages[1].dict()"
   ]
  },
  {
   "cell_type": "markdown",
   "metadata": {},
   "source": [
    "##### If needed, we can call again to continue the conversation."
   ]
  },
  {
   "cell_type": "code",
   "execution_count": 13,
   "metadata": {},
   "outputs": [
    {
     "name": "stdout",
     "output_type": "stream",
     "text": [
      "Executing agent: main_agent\n",
      "Executing tool: random_topic (agent: main_agent)\n",
      "Executing agent: main_agent\n"
     ]
    }
   ],
   "source": [
    "main_agent.add_message(role = \"user\", content = \"Another one.\")\n",
    "responses = await main_agent.run(max_retries=10)"
   ]
  },
  {
   "cell_type": "code",
   "execution_count": 14,
   "metadata": {},
   "outputs": [
    {
     "name": "stderr",
     "output_type": "stream",
     "text": [
      "/var/folders/zq/0fkhk67d5f94s7fqjygx4xfm0000gn/T/ipykernel_71531/1887248032.py:1: PydanticDeprecatedSince20: The `dict` method is deprecated; use `model_dump` instead. Deprecated in Pydantic V2.0 to be removed in V3.0. See Pydantic V2 Migration Guide at https://errors.pydantic.dev/2.11/migration/\n",
      "  main_agent.conv_history.messages[-1].dict()\n"
     ]
    },
    {
     "data": {
      "text/plain": [
       "{'role': 'assistant',\n",
       " 'agent_name': 'main_agent',\n",
       " 'content': [{'type': 'text',\n",
       "   'text': \"Your random topic is: **Programming**\\n\\nThis topic encompasses a vast field including programming languages, software development, algorithms, web development, mobile apps, artificial intelligence, debugging, coding best practices, and much more. Whether you're interested in learning to code, discussing different programming paradigms, or exploring the latest tech trends, there's plenty to dive into with this topic!\"}],\n",
       " 'tool_calls': None,\n",
       " 'tool_call_id': None,\n",
       " 'tool_name': None,\n",
       " 'hidden': False,\n",
       " 'id': None,\n",
       " 'usage': {'completion_tokens': 78, 'prompt_tokens': 593, 'total_tokens': 671},\n",
       " 'timestamp': datetime.datetime(2025, 9, 27, 8, 46, 31, 492988)}"
      ]
     },
     "execution_count": 14,
     "metadata": {},
     "output_type": "execute_result"
    }
   ],
   "source": [
    "main_agent.conv_history.messages[-1].dict()"
   ]
  },
  {
   "cell_type": "code",
   "execution_count": null,
   "metadata": {},
   "outputs": [],
   "source": []
  }
 ],
 "metadata": {
  "kernelspec": {
   "display_name": "agente",
   "language": "python",
   "name": "python3"
  },
  "language_info": {
   "codemirror_mode": {
    "name": "ipython",
    "version": 3
   },
   "file_extension": ".py",
   "mimetype": "text/x-python",
   "name": "python",
   "nbconvert_exporter": "python",
   "pygments_lexer": "ipython3",
   "version": "3.11.13"
  }
 },
 "nbformat": 4,
 "nbformat_minor": 2
}
