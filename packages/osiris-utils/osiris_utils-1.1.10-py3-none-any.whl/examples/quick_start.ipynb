{
 "cells": [
  {
   "cell_type": "code",
   "execution_count": null,
   "id": "a652da90",
   "metadata": {},
   "outputs": [],
   "source": [
    "\"\"\"\n",
    "Quick demonstration of osiris_utils:\n",
    "• opens an OSIRIS simulation directory\n",
    "• plots Ez field at t = 2000\n",
    "Run with:  python examples/quick_start.py  <PATH_TO_RUN>\n",
    "\"\"\""
   ]
  },
  {
   "cell_type": "code",
   "execution_count": null,
   "id": "03f2004e",
   "metadata": {},
   "outputs": [],
   "source": [
    "import sys\n",
    "from pathlib import Path\n",
    "import matplotlib.pyplot as plt\n",
    "import osiris_utils as ou"
   ]
  },
  {
   "cell_type": "code",
   "execution_count": null,
   "id": "f1682a2f",
   "metadata": {},
   "outputs": [],
   "source": [
    "sim_path = Path(sys.argv[1]) if len(sys.argv) > 1 else Path(\"example_data/thermal.1d\")\n",
    "sim = ou.Simulation(sim_path)"
   ]
  },
  {
   "cell_type": "code",
   "execution_count": null,
   "id": "d82e0b9d",
   "metadata": {
    "lines_to_next_cell": 2
   },
   "outputs": [],
   "source": [
    "# grab Ez diagnostic\n",
    "ez = sim[\"e3\"]"
   ]
  },
  {
   "cell_type": "code",
   "execution_count": null,
   "id": "be1db274",
   "metadata": {},
   "outputs": [],
   "source": [
    "# plot Ez field at iteration 220\n",
    "plt.plot(ez.x, ez[220], label=f\"${ez.label}$\")\n",
    "plt.title(rf\"${ez.label}$ at t = {ez.time(220)[0]} $[{ez.time(220)[1]}]$\")\n",
    "plt.xlabel(ez.axis[0][\"plot_label\"])\n",
    "plt.ylabel(f\"${ez.units}$\")\n",
    "plt.legend()\n",
    "plt.tight_layout()\n",
    "plt.show()"
   ]
  }
 ],
 "metadata": {
  "jupytext": {
   "cell_metadata_filter": "-all",
   "formats": "ipynb,py",
   "main_language": "python"
  }
 },
 "nbformat": 4,
 "nbformat_minor": 5
}
