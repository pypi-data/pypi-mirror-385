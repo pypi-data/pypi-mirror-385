{
 "cells": [
  {
   "cell_type": "code",
   "execution_count": null,
   "id": "b1196270",
   "metadata": {},
   "outputs": [],
   "source": [
    "import json\n",
    "\n",
    "file_path = 'naseza.json'\n",
    "with open(file_path, 'r', encoding='utf-8') as file:\n",
    "    data = json.load(file)"
   ]
  },
  {
   "cell_type": "code",
   "execution_count": null,
   "id": "ebe7e053",
   "metadata": {},
   "outputs": [],
   "source": [
    "from sklearn.model_selection import train_test_split\n",
    "from shekar.preprocessing import StopWordRemover\n",
    "\n",
    "stop_word_remover = StopWordRemover()\n",
    "\n",
    "labels = [1 if entry['label'] and entry['label'][0] == 'Offensive' else 0 for entry in data]\n",
    "texts = [stop_word_remover(entry['text']) for entry in data]\n",
    "\n",
    "train_x, test_x, train_y, test_y = train_test_split(texts, labels, test_size=0.15, random_state=42)"
   ]
  },
  {
   "cell_type": "code",
   "execution_count": null,
   "id": "e7a0719c",
   "metadata": {},
   "outputs": [],
   "source": [
    "from sklearn.feature_extraction.text import TfidfVectorizer\n",
    "from sklearn.pipeline import Pipeline\n",
    "from sklearn.linear_model import LogisticRegression\n",
    "from sklearn.metrics import ConfusionMatrixDisplay\n",
    "from sklearn.metrics import classification_report\n",
    "\n",
    "\n",
    "pipeline = Pipeline(steps=[\n",
    "    ('tfidf', TfidfVectorizer(analyzer=\"char\", ngram_range=(2,6))),\n",
    "    ('clf', LogisticRegression())\n",
    "])\n",
    "\n",
    "pipeline.fit(train_x, train_y).score(test_x, test_y)\n",
    "\n",
    "y_pred = pipeline.predict(test_x)\n",
    "ConfusionMatrixDisplay.from_predictions(test_y, y_pred)\n",
    "\n",
    "print(classification_report(test_y, y_pred))\n",
    "\n",
    "sample_text = \"خیلی بی‌شرفی\"\n",
    "sample_text = stop_word_remover(sample_text)\n",
    "print(pipeline.predict([sample_text]))\n",
    "print(pipeline.predict_proba([sample_text]))"
   ]
  },
  {
   "cell_type": "markdown",
   "id": "54d20f35",
   "metadata": {},
   "source": [
    "#### Export to ONNX "
   ]
  },
  {
   "cell_type": "code",
   "execution_count": null,
   "id": "d72307c4",
   "metadata": {},
   "outputs": [],
   "source": [
    "from skl2onnx import convert_sklearn\n",
    "from skl2onnx.common.data_types import StringTensorType\n",
    "\n",
    "initial_types = [(\"input_text\", StringTensorType([None, 1]))]\n",
    "model_name = \"tfidf_logistic_offensive\"\n",
    "onx = convert_sklearn(\n",
    "    pipeline,\n",
    "    initial_types=initial_types,\n",
    "    options={id(pipeline): {\"zipmap\": False}},  # probabilities as ndarray\n",
    "    target_opset=17\n",
    ")\n",
    "\n",
    "with open(f\"{model_name}.onnx\", \"wb\") as f:\n",
    "    f.write(onx.SerializeToString())"
   ]
  },
  {
   "cell_type": "code",
   "execution_count": null,
   "id": "6e76c263",
   "metadata": {},
   "outputs": [],
   "source": [
    "import numpy as np, onnxruntime as ort\n",
    "\n",
    "class2label = {0: \"Neutral\", 1: \"Offensive\"}\n",
    "\n",
    "sample = stop_word_remover(\"خیلی بی‌شرفی\")\n",
    "print(\"sklearn:\", pipeline.predict([sample]), pipeline.predict_proba([sample]))\n",
    "\n",
    "sess = ort.InferenceSession(f\"{model_name}.onnx\", providers=[\"CPUExecutionProvider\"])\n",
    "in_name = sess.get_inputs()[0].name\n",
    "out_names = [o.name for o in sess.get_outputs()]\n",
    "arr = np.array([[sample]], dtype=object)\n",
    "onnx_label, onnx_proba = sess.run(out_names, {in_name: arr})\n",
    "\n",
    "if onnx_proba.ndim != 2:\n",
    "    onnx_label, onnx_proba = onnx_proba, onnx_label\n",
    "\n",
    "print(\"onnx:\", class2label[onnx_label[0]], onnx_proba[0][onnx_label[0]])\n"
   ]
  }
 ],
 "metadata": {
  "kernelspec": {
   "display_name": ".venv",
   "language": "python",
   "name": "python3"
  },
  "language_info": {
   "codemirror_mode": {
    "name": "ipython",
    "version": 3
   },
   "file_extension": ".py",
   "mimetype": "text/x-python",
   "name": "python",
   "nbconvert_exporter": "python",
   "pygments_lexer": "ipython3",
   "version": "3.10.10"
  }
 },
 "nbformat": 4,
 "nbformat_minor": 5
}
