{
 "cells": [
  {
   "cell_type": "code",
   "execution_count": null,
   "id": "cae799c9",
   "metadata": {},
   "outputs": [],
   "source": [
    "!pip install shekar"
   ]
  },
  {
   "cell_type": "code",
   "execution_count": 6,
   "id": "d14df880",
   "metadata": {},
   "outputs": [
    {
     "name": "stdout",
     "output_type": "stream",
     "text": [
      "<!doctype html>\n",
      "<html dir=\"rtl\" lang=\"fa-IR\" class=\"no-js\">\n",
      "<head>\n",
      "<meta charset=\"UTF-8\" />\n",
      "<meta ht\n"
     ]
    }
   ],
   "source": [
    "import requests\n",
    "\n",
    "url = \"https://shortstories.ir/entry/%D9%81%D8%A7%D8%B1%D8%B3%DB%8C-%D8%B4%DA%A9%D8%B1-%D8%A7%D8%B3%D8%AA-%D9%85%D8%AD%D9%85%D8%AF%D8%B9%D9%84%DB%8C-%D8%AC%D9%85%D8%A7%D9%84-%D8%B2%D8%A7%D8%AF%D9%87\"\n",
    "response = requests.get(url)\n",
    "html_content = response.text\n",
    "print(html_content[0:100])"
   ]
  },
  {
   "cell_type": "code",
   "execution_count": 2,
   "id": "e1dfb007",
   "metadata": {},
   "outputs": [],
   "source": [
    "from shekar.preprocessing import (\n",
    "    RemoveHTMLTags,\n",
    "    RemoveDiacritics,\n",
    "    RemoveNonPersianLetters,\n",
    "    NormalizeArabicUnicodes,\n",
    "    NormalizeSpacings,\n",
    ")\n",
    "\n",
    "cleaners = (\n",
    "    RemoveHTMLTags(replace_with=\"\\n\") | RemoveDiacritics() | RemoveNonPersianLetters()\n",
    ")\n",
    "normalizers = NormalizeArabicUnicodes() | NormalizeSpacings()\n",
    "\n",
    "preprocessing_pipeline = cleaners | normalizers"
   ]
  },
  {
   "cell_type": "code",
   "execution_count": 3,
   "id": "63eda552",
   "metadata": {},
   "outputs": [],
   "source": [
    "clean_text = preprocessing_pipeline(html_content)"
   ]
  },
  {
   "cell_type": "code",
   "execution_count": 7,
   "id": "c0ba87d1",
   "metadata": {},
   "outputs": [
    {
     "name": "stdout",
     "output_type": "stream",
     "text": [
      "گیلکی کرجی‌بان‌های\n",
      "یموت هم‌بند\n",
      "فراش سرخ\n",
      "برایم قبایی\n",
      "عجب سوالی\n",
      "پیشانی سفید\n",
      "قوم فراش\n",
      "جسته جسته\n",
      "اظهار حسن\n",
      "نفتی قفقاز\n"
     ]
    }
   ],
   "source": [
    "from shekar import KeywordExtractor\n",
    "\n",
    "extractor = KeywordExtractor(max_length=2, top_n=10)\n",
    "keywords = extractor(clean_text)\n",
    "for kw in keywords:\n",
    "    print(kw)"
   ]
  }
 ],
 "metadata": {
  "kernelspec": {
   "display_name": "shekar",
   "language": "python",
   "name": "python3"
  },
  "language_info": {
   "codemirror_mode": {
    "name": "ipython",
    "version": 3
   },
   "file_extension": ".py",
   "mimetype": "text/x-python",
   "name": "python",
   "nbconvert_exporter": "python",
   "pygments_lexer": "ipython3",
   "version": "3.10.16"
  }
 },
 "nbformat": 4,
 "nbformat_minor": 5
}
