{
 "cells": [
  {
   "cell_type": "code",
   "execution_count": null,
   "id": "752b5183",
   "metadata": {},
   "outputs": [],
   "source": [
    "!pip install shekar"
   ]
  },
  {
   "cell_type": "code",
   "execution_count": 1,
   "id": "f97522ed",
   "metadata": {},
   "outputs": [
    {
     "name": "stdout",
     "output_type": "stream",
     "text": [
      "نوروز: PROPN\n",
      "،: PUNCT\n",
      "جشن: NOUN\n",
      "سال: NOUN\n",
      "نو: ADJ\n",
      "ایرانی: ADJ\n",
      "،: PUNCT\n",
      "بیش: ADJ\n",
      "از: ADP\n",
      "سه: NUM\n",
      "هزار: NUM\n",
      "سال: NOUN\n",
      "قدمت: NOUN\n",
      "دارد: VERB\n",
      "و: CCONJ\n",
      "در: ADP\n",
      "کشورهای: NOUN\n",
      "مختلف: ADJ\n",
      "جشن: NOUN\n",
      "گرفته: VERB\n",
      "می‌شود: VERB\n",
      ".: PUNCT\n"
     ]
    }
   ],
   "source": [
    "from shekar import POSTagger\n",
    "\n",
    "pos_tagger = POSTagger()\n",
    "text = \"نوروز، جشن سال نو ایرانی، بیش از سه هزار سال قدمت دارد و در کشورهای مختلف جشن گرفته می‌شود.\"\n",
    "\n",
    "result = pos_tagger(text)\n",
    "for word, tag in result:\n",
    "    print(f\"{word}: {tag}\")"
   ]
  }
 ],
 "metadata": {
  "kernelspec": {
   "display_name": "shekar",
   "language": "python",
   "name": "python3"
  },
  "language_info": {
   "codemirror_mode": {
    "name": "ipython",
    "version": 3
   },
   "file_extension": ".py",
   "mimetype": "text/x-python",
   "name": "python",
   "nbconvert_exporter": "python",
   "pygments_lexer": "ipython3",
   "version": "3.10.16"
  }
 },
 "nbformat": 4,
 "nbformat_minor": 5
}
