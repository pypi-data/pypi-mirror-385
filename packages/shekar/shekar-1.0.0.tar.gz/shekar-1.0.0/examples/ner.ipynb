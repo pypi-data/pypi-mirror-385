{
 "cells": [
  {
   "cell_type": "code",
   "execution_count": null,
   "id": "871afe9a",
   "metadata": {},
   "outputs": [],
   "source": [
    "!pip install shekar"
   ]
  },
  {
   "cell_type": "markdown",
   "id": "d3fc0a81",
   "metadata": {},
   "source": [
    "### Introduction\n",
    "\n",
    "This notebook showcases the new **Named Entity Recognition (NER)** feature in the `shekar` library. Powered by a quantized ALBERT model fine-tuned for Persian, the NER module accurately extracts and classifies entities such as persons, locations, organizations, and dates from Persian text.\n",
    "\n",
    "For demonstration, we apply the pipeline to a short biographical excerpt of **شاهرخ مسکوب**, sourced from **Wikipedia**. After a light normalization step, the text is passed to the NER module, which outputs a list of identified named entities and their labels all in a few lines of code.\n",
    "\n",
    "This example highlights the simplicity and effectiveness of `shekar.NER` for real-world Persian language applications."
   ]
  },
  {
   "cell_type": "code",
   "execution_count": 1,
   "id": "d1c02805",
   "metadata": {},
   "outputs": [
    {
     "name": "stdout",
     "output_type": "stream",
     "text": [
      "a3d2b1d2c167abd01e6b663279d3f8c3bb1b3d0411f693515cd0b31a5a3d3e80\n",
      "C:\\Users\\amiri\\.shekar\\albert_persian_ner_q8.onnx\n",
      "79716aa7d8aeee80d362835da4f33e2b36b69fe65c257ead32c5ecd850e9ed17\n",
      "C:\\Users\\amiri\\.shekar\\albert_persian_tokenizer.json\n",
      "شاهرخ مسکوب → PER\n",
      "سال ۱۳۰۴ → DAT\n",
      "بابل → LOC\n",
      "دوره ابتدایی → DAT\n",
      "تهران → LOC\n",
      "مدرسه علمیه → LOC\n",
      "مسجد سپهسالار → LOC\n",
      "دبیرستان ادب اصفهان → LOC\n",
      "در سال ۱۳۲۴ → DAT\n",
      "اصفهان → LOC\n",
      "تهران → LOC\n",
      "دانشگاه تهران → ORG\n",
      "فرانسه → LOC\n"
     ]
    }
   ],
   "source": [
    "from shekar import NER\n",
    "from shekar import Normalizer\n",
    "\n",
    "input_text = \"شاهرخ مسکوب به سالِ ۱۳۰۴ در بابل زاده شد و دوره ابتدایی را در تهران و در مدرسه علمیه پشت مسجد سپهسالار گذراند. از کلاس پنجم ابتدایی مطالعه رمان و آثار ادبی را شروع کرد. از همان زمان در دبیرستان ادب اصفهان ادامه تحصیل داد. پس از پایان تحصیلات دبیرستان در سال ۱۳۲۴ از اصفهان به تهران رفت و در رشته حقوق دانشگاه تهران مشغول به تحصیل شد. در همین سال‌ها بود که به روزنامه «قیام ایران» رفت و به تفسیر اخبار خارجی پرداخت. این «اولین کار نویسندگی» او بود. علاوه بر این، مِسکوب در این سال‌ها زبان فرانسه را آموخت. گرایش او به جریانات چپ و اشتیاق فراوانش برای دانستن اطلاعات روز و مطالعه مطبوعات چپ فرانسه، یکی از اصلی‌ترین انگیزه‌های او در این زمینه بود.\"\n",
    "\n",
    "normalizer = Normalizer()\n",
    "normalized_text = normalizer(input_text)\n",
    "\n",
    "albert_ner = NER()\n",
    "entities = albert_ner(normalized_text)\n",
    "\n",
    "for text, label in entities:\n",
    "    print(f\"{text} → {label}\")"
   ]
  },
  {
   "cell_type": "markdown",
   "id": "5c30870d",
   "metadata": {},
   "source": [
    "### Chaining Components\n",
    "\n",
    "Thanks to `shekar`’s modular design, components like the `Normalizer` and `NER` can be **chained using the `|` operator** for cleaner, more intuitive pipelines.\n",
    "This enables streamlined workflows without manual intermediate steps, ideal for building larger NLP pipelines with minimal code."
   ]
  },
  {
   "cell_type": "code",
   "execution_count": 2,
   "id": "4cf1bef7",
   "metadata": {},
   "outputs": [
    {
     "name": "stdout",
     "output_type": "stream",
     "text": [
      "شاهرخ مسکوب → PER\n",
      "سال ۱۳۰۴ → DAT\n",
      "بابل → LOC\n",
      "دوره ابتدایی → DAT\n",
      "تهران → LOC\n",
      "مدرسه علمیه → LOC\n",
      "مسجد سپهسالار → LOC\n",
      "دبیرستان ادب اصفهان → LOC\n",
      "در سال ۱۳۲۴ → DAT\n",
      "اصفهان → LOC\n",
      "تهران → LOC\n",
      "دانشگاه تهران → ORG\n",
      "فرانسه → LOC\n"
     ]
    }
   ],
   "source": [
    "ner_pipeline = normalizer | albert_ner\n",
    "entities = ner_pipeline(input_text)\n",
    "\n",
    "for text, label in entities:\n",
    "    print(f\"{text} → {label}\")"
   ]
  }
 ],
 "metadata": {
  "kernelspec": {
   "display_name": "shekar",
   "language": "python",
   "name": "python3"
  },
  "language_info": {
   "codemirror_mode": {
    "name": "ipython",
    "version": 3
   },
   "file_extension": ".py",
   "mimetype": "text/x-python",
   "name": "python",
   "nbconvert_exporter": "python",
   "pygments_lexer": "ipython3",
   "version": "3.10.16"
  }
 },
 "nbformat": 4,
 "nbformat_minor": 5
}
