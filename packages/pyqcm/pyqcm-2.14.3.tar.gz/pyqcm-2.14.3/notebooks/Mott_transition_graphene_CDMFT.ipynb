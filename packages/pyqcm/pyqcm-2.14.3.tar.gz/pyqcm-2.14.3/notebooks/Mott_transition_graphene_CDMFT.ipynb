{
 "cells": [
  {
   "cell_type": "markdown",
   "metadata": {},
   "source": [
    "# CDMFT and the Mott transition in graphene\n",
    "\n",
    "- Construct a model file (python) that describes graphene, based on a single, two-site cluster with a bath of 4 sites, similar to the one used for the one-dimensional Hubbard model done in the examples provided with the pyqcm distribution.\n",
    "Check that the correct dispersion relation is found at $U=0$ by plotting the spectral function.\n",
    "- At half filling, find de CDMFT solution (normal state) as a function of $U$, from $U=10$ to $U=0$ in steps of $\\Delta U=0.2$. Can you identify the Mott transition? Stay at half-filling, using particle-hole symmetry."
   ]
  },
  {
   "attachments": {},
   "cell_type": "markdown",
   "metadata": {},
   "source": [
    "### Geometry used to model graphene\n",
    "\n",
    "For the lattice to be a Bravais lattice, we can, for example, pair the adjacent carbons two-by-two which will result in a scissorgrid Bravais lattice. In this case, since we are running a CDMFT procedure, we need to define 4 *bath* orbitals around the 2 site cluster and pair them up as to represent the presence of neighbouring clusters. \n",
    "\n",
    "The hopping operators to and from the bath sites are the \"tb1\" and \"tb2\" operators while the respective energy level of the orbitals are \"eb1\" and \"eb2\"."
   ]
  },
  {
   "cell_type": "code",
   "execution_count": null,
   "metadata": {},
   "outputs": [],
   "source": [
    "import pyqcm\n",
    "from pyqcm.cdmft import CDMFT\n",
    "import numpy as np\n",
    "import os\n",
    "\n",
    "# declare a cluster model of 6 sites, named 'clus'\n",
    "ns = 2 # number of physical sites\n",
    "nb = 4 # number of bath sites\n",
    "no = ns+nb # total number of sites\n",
    "CM = pyqcm.cluster_model( ns, nb)\n",
    "\n",
    "# Defining the bath hopping operators\n",
    "CM.new_operator('tb1', 'one-body', [\n",
    "    (1, 3, -1.0),\n",
    "    (2, 4, -1.0),\n",
    "    (1+no, 3+no, -1.0),\n",
    "    (2+no, 4+no, -1.0)\n",
    "]) # note that the last two entries pertain to the SPIN DOWN part of the operator\n",
    "\n",
    "CM.new_operator('tb2', 'one-body', [\n",
    "    (1, 5, -1.0),\n",
    "    (2, 6, -1.0),\n",
    "    (1+no, 5+no, -1.0),\n",
    "    (2+no, 6+no, -1.0)\n",
    "])\n",
    "\n",
    "# Defining the 'orbital energy' of the baths\n",
    "CM.new_operator('eb1', 'one-body', [\n",
    "    (3, 3, 1.0),\n",
    "    (4, 4, 1.0),\n",
    "    (3+no, 3+no, 1.0),\n",
    "    (4+no, 4+no, 1.0)\n",
    "])\n",
    "\n",
    "CM.new_operator('eb2', 'one-body', [\n",
    "    (5, 5, 1.0),\n",
    "    (6, 6, 1.0),\n",
    "    (5+no, 5+no, 1.0),\n",
    "    (6+no, 6+no, 1.0)\n",
    "])\n",
    "\n",
    "# define a physical cluster based on that model, with base position (0,0,0) and site positions\n",
    "clus = pyqcm.cluster(CM, ((0,0,0), (1,0,0))) \n",
    "\n",
    "# define a lattice model named '2x2' made of the cluster(s) clus and superlattice vectors (3,0,0) & (0,3,0)\n",
    "# the lattice vectors are (1,-1,0) and (2,1,0), different from the default ones (1,0,0) & (0,1,0)\n",
    "model = pyqcm.lattice_model('graphene2_4b', clus, ((1,-1,0), (2,1,0)), ((1,-1,0), (2,1,0)))\n",
    "\n",
    "# we define a physical basis (expression of the working basis in terms of physical coordinates), for plotting purposes\n",
    "model.set_basis(((1,0,0), (-0.5,np.sqrt(3)/2,0)))\n",
    "\n",
    "\n",
    "# define a few operators in this model. Since this is a 2-orbital model, one needs to specify the relevant orbitals.\n",
    "model.interaction_operator('U', orbitals=(1,1))\n",
    "model.interaction_operator('U', orbitals=(2,2))\n",
    "model.hopping_operator('t', (1,0,0), -1, orbitals=(1,2))\n",
    "model.hopping_operator('t', (0,1,0), -1, orbitals=(1,2))\n",
    "model.hopping_operator('t', (-1,-1,0), -1, orbitals=(1,2))"
   ]
  },
  {
   "cell_type": "code",
   "execution_count": null,
   "metadata": {},
   "outputs": [],
   "source": [
    "model.set_target_sectors(['R0:N6:S0'])\n",
    "model.set_parameters(\"\"\"\n",
    "    U=4\n",
    "    mu=0.5*U\n",
    "    t=1\n",
    "    tb1_1=0.5\n",
    "    tb2_1=1*tb1_1\n",
    "    eb1_1=1.0\n",
    "    eb2_1=-1.0*eb1_1\n",
    "\"\"\")"
   ]
  },
  {
   "cell_type": "markdown",
   "metadata": {},
   "source": [
    "### Spectral function of graphene (U=0)\n",
    "As can be seen below, the typical graphene spectral function is obtained. "
   ]
  },
  {
   "cell_type": "code",
   "execution_count": null,
   "metadata": {},
   "outputs": [],
   "source": [
    "# Setting a trivially small interaction value and plotting the spectral function\n",
    "model.set_parameter(\"U\", 1e-9)\n",
    "I = pyqcm.model_instance(model)\n",
    "I.spectral_function(path=\"graphene\", orb=1) # Using the built-in graphene path is recommended here\n"
   ]
  },
  {
   "cell_type": "code",
   "execution_count": null,
   "metadata": {},
   "outputs": [],
   "source": [
    "# Setting up the range of values of U over which to loop the CDMFT simulation \n",
    "U_start = 0.2 # starting at U=0.2 because the nearly non-interacting case is too long to calculate and useless\n",
    "U_stop = 10.1\n",
    "U_step = 0.2"
   ]
  },
  {
   "cell_type": "code",
   "execution_count": null,
   "metadata": {},
   "outputs": [],
   "source": [
    "# Removes the default output file for display purposes\n",
    "if os.path.isfile(\"./cdmft.tsv\"):\n",
    "    os.remove(\"./cdmft.tsv\")"
   ]
  },
  {
   "cell_type": "code",
   "execution_count": null,
   "metadata": {},
   "outputs": [],
   "source": [
    "# Defining a function that will run a cdmft procedure within controlled_loop()\n",
    "varia=('tb1_1', 'eb1_1')\n",
    "def run_cdmft():\n",
    "    U = model.parameters()['U']\n",
    "    cdmft_simulation = CDMFT(model, varia=varia, wc=10, grid_type='self', beta=50)\n",
    "    return cdmft_simulation.I\n",
    "\n",
    "# Looping over values of U\n",
    "model.controlled_loop(\n",
    "    task=run_cdmft, \n",
    "    varia=varia, \n",
    "    loop_param='U', \n",
    "    loop_range=(U_start, U_stop, U_step)\n",
    ")"
   ]
  },
  {
   "cell_type": "code",
   "execution_count": null,
   "metadata": {},
   "outputs": [],
   "source": [
    "# plotting the results\n",
    "import matplotlib.pyplot as plt\n",
    "\n",
    "cdmft_data = np.genfromtxt(\"cdmft.tsv\", names=True)\n",
    "\n",
    "# plotting both orbital energies and site<-->bath hopping operator amplitude\n",
    "ax1 = plt.subplot(211)\n",
    "ax1.plot(cdmft_data['U'], cdmft_data['eb1_1'], \"o\", markersize=2, label=\"eb1_1\")\n",
    "ax1.set_ylabel(\"$\\epsilon$\")\n",
    "ax1.legend()\n",
    "\n",
    "ax2 = plt.subplot(212, sharex=ax1)\n",
    "ax2.plot(cdmft_data['U'], cdmft_data['tb1_1'], \"o\", markersize=2, label=\"tb1_1\")\n",
    "ax2.set_xlabel(\"U\")\n",
    "ax2.set_ylabel(\"t\")\n",
    "ax2.legend()\n",
    "\n",
    "plt.show()"
   ]
  },
  {
   "cell_type": "markdown",
   "metadata": {},
   "source": [
    "### Interpretation and Mott transition\n",
    "\n",
    "From the above plots, we can see how the orbital energies and the hopping operators defined for the bath sites seem to change drastically as to indicate a Mott transition at $U\\approx5$. By plotting the spectral function for $U$ values of 4, 5 and 6, we can see how this transition effects the spectral gap. "
   ]
  },
  {
   "cell_type": "code",
   "execution_count": null,
   "metadata": {},
   "outputs": [],
   "source": [
    "index_of_U = np.where(cdmft_data['U'] == 4)[0][0] # Finding the index at which U=4\n",
    "print(index_of_U)\n",
    "model.set_params_from_file('cdmft.tsv', n=index_of_U)\n",
    "I = pyqcm.model_instance(model)\n",
    "I.spectral_function(path=\"graphene\", orb=1) \n",
    "\n",
    "index_of_U = np.where(cdmft_data['U'] == 5)[0][0] # Finding the index at which U=4\n",
    "model.set_params_from_file('cdmft.tsv', n=index_of_U)\n",
    "I = pyqcm.model_instance(model)\n",
    "I.spectral_function(path=\"graphene\", orb=1) \n",
    "\n",
    "index_of_U = np.where(cdmft_data['U'] == 6)[0][0] # Finding the index at which U=4\n",
    "model.set_params_from_file('cdmft.tsv', n=index_of_U)\n",
    "I = pyqcm.model_instance(model)\n",
    "I.spectral_function(path=\"graphene\", orb=1) "
   ]
  }
 ],
 "metadata": {
  "kernelspec": {
   "display_name": "q_env",
   "language": "python",
   "name": "python3"
  },
  "language_info": {
   "codemirror_mode": {
    "name": "ipython",
    "version": 3
   },
   "file_extension": ".py",
   "mimetype": "text/x-python",
   "name": "python",
   "nbconvert_exporter": "python",
   "pygments_lexer": "ipython3",
   "version": "3.11.2"
  },
  "orig_nbformat": 4,
  "vscode": {
   "interpreter": {
    "hash": "9181c3fee36b2a40316c7a7a7190b5ebac7b971b62240dc3c988739896c48274"
   }
  }
 },
 "nbformat": 4,
 "nbformat_minor": 2
}
