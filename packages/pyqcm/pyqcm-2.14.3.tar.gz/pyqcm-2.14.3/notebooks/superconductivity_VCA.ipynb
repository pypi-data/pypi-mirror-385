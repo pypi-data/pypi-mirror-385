{
 "cells": [
  {
   "cell_type": "markdown",
   "metadata": {},
   "source": [
    "# Superconductivity in VCA on a 4-site cluster\n",
    "\n",
    "- Construct a Hubbard model based on a $2\\times2$ cluster where several types of superconductivity are defined:\n",
    "\n",
    "    - On-site, $s$-wave pairing :\n",
    "    $$ \\hat\\Delta = \\sum_\\mathbf{r} ( c_{\\mathbf{r}\\uparrow} c_{\\mathbf{r}\\downarrow} + \\text{H.c})$$\n",
    "\n",
    "    - extended $s$-wave pairing : \n",
    "    $$ \\hat\\Delta = \\sum_\\mathbf{r} \\big[ (c_{\\mathbf{r}\\uparrow} c_{\\mathbf{r}+\\hat{x}\\downarrow} - c_{\\mathbf{r}\\downarrow} c_{\\mathbf{r}+\\hat{x}\\uparrow}) + (c_{\\mathbf{r}\\uparrow} c_{\\mathbf{r}+\\hat{y}\\downarrow} - c_{\\mathbf{r}\\downarrow} c_{\\mathbf{r}+\\hat{y}\\uparrow}) + \\text{H.c}\\big] $$\n",
    "\n",
    "    - singlet, $d_{x^2-y^2}$-wave pairing : \n",
    "    $$ \\hat\\Delta = \\sum_\\mathbf{r} \\big[ (c_{\\mathbf{r}\\uparrow} c_{\\mathbf{r}+\\hat{x}\\downarrow} - c_{\\mathbf{r}\\downarrow} c_{\\mathbf{r}+\\hat{x}\\uparrow}) - (c_{\\mathbf{r}\\uparrow} c_{\\mathbf{r}+\\hat{y}\\downarrow} - c_{\\mathbf{r}\\downarrow} c_{\\mathbf{r}+\\hat{y}\\uparrow}) + \\text{H.c}\\big] $$\n",
    "\n",
    "    - singlet, $d_{xy}$-wave pairing : \n",
    "    $$ \\hat\\Delta = \\sum_\\mathbf{r} \\big[ (c_{\\mathbf{r}\\uparrow} c_{\\mathbf{r}+\\hat{x}+\\hat{y}\\downarrow} - c_{\\mathbf{r}\\downarrow} c_{\\mathbf{r}+\\hat{x}+\\hat{y}\\uparrow}) - (c_{\\mathbf{r}\\uparrow} c_{\\mathbf{r}+\\hat{y}-\\hat{x}\\downarrow} - c_{\\mathbf{r}\\downarrow} c_{\\mathbf{r}+\\hat{y}-\\hat{x}\\uparrow}) + \\text{H.c}\\big] $$\n",
    "\n",
    "    (notation : $\\hat{x}$ and $\\hat{y}$ are the unit lattice vectors in the $x$ and $y$ directions, respectively.)\n",
    "    \n",
    "    \n",
    "- Show how the Potthoff functional $\\Omega$ depends on the superconducting Weiss field for each of the cases defined above.\n",
    "\n",
    "- In the case of $d_{x^2-y^2}$-wave pairing and $U=8$, obtain the VCA solution for a hole-doped system as a function of chemical potential (or doping) for the range of doping where the solution is nontrivial. Plot the superconducting order parameter as a function of doping $x=1-n$, ($n$ begin the electron density).\n",
    "\n"
   ]
  },
  {
   "cell_type": "code",
   "execution_count": null,
   "metadata": {},
   "outputs": [],
   "source": [
    "import pyqcm\n",
    "from pyqcm.vca import VCA\n",
    "import numpy as np\n",
    "\n",
    "# declare a cluster model of 4 sites, named 'clus'\n",
    "CM = pyqcm.cluster_model( 4)\n",
    "\n",
    "# define a physical cluster based on that model, with base position (0,0,0) and site positions\n",
    "clus = pyqcm.cluster(CM, ((0,0,0), (1,0,0), (0,1,0),(1,1,0))) \n",
    "\n",
    "# define a lattice model named '2x2' made of the cluster(s) clus and superlattice vectors (2,0,0) & (0,2,0)\n",
    "model = pyqcm.lattice_model('2x2', clus, ((2,0,0), (0,2,0)))\n",
    "\n",
    "# define a few operators in this model\n",
    "model.interaction_operator('U')\n",
    "model.hopping_operator('t', (1,0,0), -1)\n",
    "model.hopping_operator('t', (0,1,0), -1)\n",
    "model.hopping_operator('tp', (1,1,0), -1)\n",
    "model.hopping_operator('tp', (-1,1,0), -1)\n",
    "\n",
    "# On-site s-wave\n",
    "model.anomalous_operator('S', [0,0,0], 1)\n",
    "\n",
    "# Extended s-wave\n",
    "model.anomalous_operator('xS', [1,0,0], 1)\n",
    "model.anomalous_operator('xS', [0,1,0], 1)\n",
    "\n",
    "# d_{x^2-y^2}-wave\n",
    "model.anomalous_operator('D', [1,0,0], 1)\n",
    "model.anomalous_operator('D', [0,1,0], -1)\n",
    "\n",
    "# d_{xy}-wave, similar as previous wave but defined with \"diagonal\" links\n",
    "model.anomalous_operator('Dxy', [1,1,0], 1)\n",
    "model.anomalous_operator('Dxy', [-1,1,0], -1)"
   ]
  },
  {
   "cell_type": "code",
   "execution_count": null,
   "metadata": {},
   "outputs": [],
   "source": [
    "# Defining the appropriate sector of Hilbert space\n",
    "model.set_target_sectors('R0:S0')\n",
    "\n",
    "# The first three parameters are used for the graph of the Potthoff functionnal\n",
    "model.set_parameters(\"\"\"\n",
    "t=1\n",
    "U=8\n",
    "mu=1.2\n",
    "S_1=1e-9\n",
    "xS_1=1e-9\n",
    "D_1=1e-9\n",
    "Dxy_1=1e-9\n",
    "S=0\n",
    "xS=0\n",
    "D=0\n",
    "Dxy=0\n",
    "\"\"\")"
   ]
  },
  {
   "cell_type": "code",
   "execution_count": null,
   "metadata": {},
   "outputs": [],
   "source": [
    "# Generating a grid for the Potthoff functionnals\n",
    "grid_size = 25\n",
    "Delta_grid = np.linspace(1e-9, 0.3, grid_size)"
   ]
  },
  {
   "cell_type": "code",
   "execution_count": null,
   "metadata": {},
   "outputs": [],
   "source": [
    "# The different types of superconductivity are explored by plotting the Potthoff functionnal for each variety\n",
    "pyqcm.vca.plot_sef(model, 'S_1', Delta_grid)\n",
    "model.set_parameter(\"S_1\", 1e-9)\n",
    "\n",
    "pyqcm.vca.plot_sef(model, 'xS_1', Delta_grid)\n",
    "model.set_parameter('xS_1', 1e-9)\n",
    "\n",
    "pyqcm.vca.plot_sef(model, 'D_1', Delta_grid)\n",
    "model.set_parameter('D_1', 1e-9)\n",
    "\n",
    "pyqcm.vca.plot_sef(model, 'Dxy_1', Delta_grid)\n",
    "model.set_parameter('Dxy_1', 1e-9)"
   ]
  },
  {
   "cell_type": "markdown",
   "metadata": {},
   "source": [
    "### Interpretation of the Potthoff functionnals\n",
    "\n",
    "As seen in the above plot, the only functionnal that admits a minimum is the one related to $d_{x^2 - y^2}$ superconduction. This implies that it's also the \"appropriate\" form of superconduction for the model we have defined."
   ]
  },
  {
   "cell_type": "markdown",
   "metadata": {},
   "source": [
    "### Conclusion\n",
    "\n",
    "We can see that the most superconduction is observed for a hole density of $\\approx0.095$"
   ]
  }
 ],
 "metadata": {
  "interpreter": {
   "hash": "7ebba22d4926039ff239339cf567af8b303e0a244d82717597cfd7af2af74d26"
  },
  "kernelspec": {
   "display_name": "Python 3.8.10 64-bit",
   "language": "python",
   "name": "python3"
  },
  "language_info": {
   "codemirror_mode": {
    "name": "ipython",
    "version": 3
   },
   "file_extension": ".py",
   "mimetype": "text/x-python",
   "name": "python",
   "nbconvert_exporter": "python",
   "pygments_lexer": "ipython3",
   "version": "3.11.2"
  },
  "orig_nbformat": 4
 },
 "nbformat": 4,
 "nbformat_minor": 2
}
