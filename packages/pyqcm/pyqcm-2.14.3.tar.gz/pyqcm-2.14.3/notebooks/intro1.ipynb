{
 "cells": [
  {
   "cell_type": "markdown",
   "metadata": {},
   "source": [
    "## Simple model in d=1 with a cluster of 4 sites\n"
   ]
  },
  {
   "cell_type": "code",
   "execution_count": null,
   "metadata": {},
   "outputs": [],
   "source": [
    "import pyqcm\n",
    "\n",
    "# declare a cluster model of 4 sites, named 'clus'\n",
    "CM = pyqcm.cluster_model( 4)  \n",
    "\n",
    "# define a physical cluster based on that model, with base position (0,0,0) and site positions\n",
    "clus = pyqcm.cluster(CM, ((0,0,0), (1,0,0), (2,0,0),(3,0,0))) \n",
    "\n",
    "# define a lattice model named '1D_4' made of the cluster(s) clus and superlattice vector (4,0,0)\n",
    "model = pyqcm.lattice_model('1D_4', clus, ((4,0,0),))\n",
    "\n",
    "# define a few operators in this model\n",
    "model.interaction_operator('U')\n",
    "model.hopping_operator('t', (1,0,0), -1)\n",
    "\n",
    "# (optional) check the definition of an operator by drawing it on the screen\n",
    "model.draw_operator('t')"
   ]
  },
  {
   "cell_type": "code",
   "execution_count": null,
   "metadata": {},
   "outputs": [],
   "source": [
    "# declare the Hilbert space sectors into which the ground state will be searched\n",
    "model.set_target_sectors('R0:N4:S0')\n",
    "\n",
    "# declare the values of the parameters\n",
    "model.set_parameters(\"\"\"\n",
    "t=1\n",
    "U=2\n",
    "mu=1\n",
    "\"\"\")"
   ]
  },
  {
   "cell_type": "code",
   "execution_count": null,
   "metadata": {},
   "outputs": [],
   "source": [
    "# define an instance of the model with those values\n",
    "I = pyqcm.model_instance(model)\n",
    "\n",
    "# solve for the ground state and prints the ground state averages\n",
    "print('ground_state sector:', I.ground_state())\n",
    "I.cluster_averages(pr=True)\n",
    "\n",
    "# draws the spectral function of the cluster model\n",
    "I.cluster_spectral_function(wmax=6)\n",
    "\n",
    "# draws the spectral function of the lattice model, for wavevectors along a line from -pi to pi\n",
    "I.spectral_function(wmax=6, path='line')\n",
    "\n",
    "# draws the density of states of the lattice model, from w = -6 to 6\n",
    "I.plot_DoS(w = 6)"
   ]
  },
  {
   "cell_type": "markdown",
   "metadata": {},
   "source": []
  }
 ],
 "metadata": {
  "kernelspec": {
   "display_name": "q_env",
   "language": "python",
   "name": "python3"
  },
  "language_info": {
   "codemirror_mode": {
    "name": "ipython",
    "version": 3
   },
   "file_extension": ".py",
   "mimetype": "text/x-python",
   "name": "python",
   "nbconvert_exporter": "python",
   "pygments_lexer": "ipython3",
   "version": "3.11.2"
  },
  "orig_nbformat": 4,
  "vscode": {
   "interpreter": {
    "hash": "9181c3fee36b2a40316c7a7a7190b5ebac7b971b62240dc3c988739896c48274"
   }
  }
 },
 "nbformat": 4,
 "nbformat_minor": 2
}
