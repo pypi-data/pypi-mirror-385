{
 "cells": [
  {
   "cell_type": "markdown",
   "metadata": {},
   "source": [
    "# Periodic cluster\n",
    "\n",
    "Define a simple nearest-neighbor, half-filled Hubbard model with a periodic cluster of length 12 in dimension 1. Make use of translation symmetry. For each value of the 12 possible values of crystal momentum in this system, compute the ground state energy of the cluster for $U=0$ and $U=4$. This problem concerns the cluster only and makes no use of CPT or other quantum cluster methods."
   ]
  },
  {
   "cell_type": "code",
   "execution_count": null,
   "metadata": {},
   "outputs": [],
   "source": [
    "import pyqcm\n",
    "import numpy as np\n",
    "\n",
    "import matplotlib.pyplot as plt\n",
    "import matplotlib as mpl\n",
    "\n",
    "# global option that toggles periodic boundary conditions\n",
    "pyqcm.set_global_parameter(\"periodic\") \n",
    "\n",
    "# defines the cluster with a translation symmetry generator \n",
    "CM = pyqcm.cluster_model(12, generators= ((12, 1, 2, 3, 4, 5, 6, 7, 8, 9, 10, 11),)) \n",
    "\n",
    "# define a physical cluster based on that model, with base position (0,0,0) and site positions\n",
    "clus = pyqcm.cluster(CM,[(i,0,0) for i in range(12)]) \n",
    "\n",
    "# define a lattice model \n",
    "model = pyqcm.lattice_model('periodic12', clus, ((12,0,0),))\n",
    "\n",
    "# define a few operators in this model. Since this is a 2-orbital model, one needs to specify the relevant orbitals.\n",
    "model.interaction_operator('U')\n",
    "model.hopping_operator('t', (1,0,0), -1)"
   ]
  },
  {
   "cell_type": "code",
   "execution_count": null,
   "metadata": {},
   "outputs": [],
   "source": [
    "model.set_parameters(\"\"\"\n",
    "    t=1\n",
    "    U=4\n",
    "    mu=0.5*U\n",
    "\"\"\")"
   ]
  },
  {
   "cell_type": "code",
   "execution_count": null,
   "metadata": {},
   "outputs": [],
   "source": [
    "# loop over the different irreducible representations (number of electrons and wavevectors)\n",
    "\n",
    "for n in range(1,13):\n",
    "    for k in range(12):\n",
    "        model.set_target_sectors([f\"R{k}:N{n}:S{n%2}\"]) \n",
    "        I = pyqcm.model_instance(model)\n",
    "        print(f\"N={n}\\tk={k}\\tE0={I.ground_state(file='GS.tsv')[0][0]}\")"
   ]
  },
  {
   "cell_type": "markdown",
   "metadata": {},
   "source": [
    "### No translation symmetry (calc time ~30sec)\n",
    "\n",
    "U=0 ---> [(-14.592459624117517, 'R0:N12:S0:1')]\n",
    "\n",
    "U=4 ---> [(-30.52624338445453, 'R0:N12:S0:1')]"
   ]
  },
  {
   "cell_type": "markdown",
   "metadata": {},
   "source": [
    "### Translation Symmetry (calc time ~5sec)\n",
    "U=0 ---> [(-14.928203233358845, 'R0:N12:S0:1')]\n",
    "\n",
    "U=4 ---> [(-30.670141145792602, 'R0:N12:S0:1')]"
   ]
  }
 ],
 "metadata": {
  "kernelspec": {
   "display_name": "q_env",
   "language": "python",
   "name": "python3"
  },
  "language_info": {
   "codemirror_mode": {
    "name": "ipython",
    "version": 3
   },
   "file_extension": ".py",
   "mimetype": "text/x-python",
   "name": "python",
   "nbconvert_exporter": "python",
   "pygments_lexer": "ipython3",
   "version": "3.11.2"
  },
  "orig_nbformat": 4,
  "vscode": {
   "interpreter": {
    "hash": "9181c3fee36b2a40316c7a7a7190b5ebac7b971b62240dc3c988739896c48274"
   }
  }
 },
 "nbformat": 4,
 "nbformat_minor": 2
}
