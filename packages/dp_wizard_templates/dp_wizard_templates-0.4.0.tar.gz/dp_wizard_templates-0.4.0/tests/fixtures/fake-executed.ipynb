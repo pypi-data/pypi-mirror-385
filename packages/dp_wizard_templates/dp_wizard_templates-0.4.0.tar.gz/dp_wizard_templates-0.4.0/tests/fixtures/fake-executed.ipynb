{
 "cells": [
  {
   "cell_type": "code",
   "execution_count": 1,
   "id": "12345678",
   "metadata": {},
   "outputs": [],
   "source": [
    "%pip install pytest"
   ]
  },
  {
   "cell_type": "markdown",
   "id": "d68beaaf",
   "metadata": {},
   "source": [
    "Introduction"
   ]
  },
  {
   "cell_type": "code",
   "execution_count": 2,
   "id": "c4a24010",
   "metadata": {
    "execution": {
     "iopub.execute_input": "2024-09-24T22:01:27.184792Z",
     "iopub.status.busy": "2024-09-24T22:01:27.184540Z",
     "iopub.status.idle": "2024-09-24T22:01:27.188766Z",
     "shell.execute_reply": "2024-09-24T22:01:27.188362Z"
    }
   },
   "outputs": [
    {
     "name": "stdout",
     "output_type": "stream",
     "text": [
      "4\n"
     ]
    }
   ],
   "source": [
    "print(2 + 2)"
   ]
  }
 ],
 "metadata": {
  "title": "Title!",
  "jupytext": {
   "cell_metadata_filter": "-all"
  },
  "kernelspec": {
   "display_name": ".venv",
   "language": "python",
   "name": "python3"
  },
  "language_info": {
   "codemirror_mode": {
    "name": "ipython",
    "version": 3
   },
   "file_extension": ".py",
   "mimetype": "text/x-python",
   "name": "python",
   "nbconvert_exporter": "python",
   "pygments_lexer": "ipython3",
   "version": "3.12.3"
  }
 },
 "nbformat": 4,
 "nbformat_minor": 5
}
