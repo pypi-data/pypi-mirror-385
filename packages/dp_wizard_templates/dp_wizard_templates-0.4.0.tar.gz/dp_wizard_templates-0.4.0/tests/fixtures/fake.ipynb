{
 "cells": [
  {
   "cell_type": "code",
   "execution_count": null,
   "id": "12345678",
   "metadata": {},
   "outputs": [],
   "source": [
    "%pip install pytest"
   ]
  },
  {
   "cell_type": "markdown",
   "id": "3cf946cc",
   "metadata": {},
   "source": [
    "Introduction"
   ]
  },
  {
   "cell_type": "code",
   "execution_count": null,
   "id": "d5a25047",
   "metadata": {},
   "outputs": [],
   "source": [
    "print(2 + 2)"
   ]
  }
 ],
 "metadata": {
  "title": "Title!",
  "jupytext": {
   "cell_metadata_filter": "-all",
   "main_language": "python",
   "notebook_metadata_filter": "-all"
  },
  "language_info": {
   "name": "python"
  }
 },
 "nbformat": 4,
 "nbformat_minor": 5
}
