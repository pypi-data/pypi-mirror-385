{
 "cells": [
  {
   "metadata": {},
   "cell_type": "markdown",
   "source": "In this notebook, you will find an example on how to use the enmap_downloader package to automatically download data with user-supplied parameters without cropping the data.",
   "id": "8f99c9c59f8d6810"
  },
  {
   "cell_type": "code",
   "id": "initial_id",
   "metadata": {
    "collapsed": true
   },
   "source": [
    "import os\n",
    "\n",
    "from enmap_downloader.config import loadConfiguration, Config\n",
    "from enmap_downloader.enmap_downloader import enmapDownloader"
   ],
   "execution_count": null,
   "outputs": []
  },
  {
   "metadata": {},
   "cell_type": "markdown",
   "source": [
    "Parse the config, supply the path where you stored it, make sure to adapt all parameters to your needs.\n",
    "In this case we have the parameters:\n",
    "\n",
    "- `geojson`: the path to the geojson file defining the polygon for the download\n",
    "- `start_date`: the start date for the download, in the format YYYY-MM-DD\n",
    "- `end_date`: the end date for the download, in the format YYYY-MM-DD\n",
    "- `crop_value`: the value to crop the downloaded data, can be `default`, bbox` or `precise` (further explained below)\n",
    "- `results_dir`: the directory where the downloaded data will be stored\n",
    "- `result_format`: the format of the downloaded data, can be `tif` or `npy`\n",
    "- `download_data`: whether to download the data or not, can be `True` or `False`\n",
    "- `download_metadata`: whether to download the metadata or not, can be `True` or `False`\n",
    "- `logging_dir`: the directory where the logs will be stored"
   ],
   "id": "4dec5efe7c1dc154"
  },
  {
   "metadata": {},
   "cell_type": "code",
   "source": [
    "config = {\n",
    "    'search_settings': {\n",
    "        'aoi_settings': {\n",
    "            'geojson': 'US-Wi5.geojson',\n",
    "            'start_date': '',\n",
    "            'end_date': ''\n",
    "        }\n",
    "    },\n",
    "    'result_settings':{\n",
    "        'crop_value': 'default',\n",
    "        'results_dir': './downloads',\n",
    "        'result_format': 'tif',\n",
    "        'download_data': True,\n",
    "        'download_metadata': False,\n",
    "        'logging_dir': './logs',\n",
    "        \"logging_level\": \"INFO\",\n",
    "    }\n",
    "}\n",
    "\n",
    "Config(**config)"
   ],
   "id": "6b9715eee1854857",
   "execution_count": null,
   "outputs": []
  },
  {
   "metadata": {},
   "cell_type": "markdown",
   "source": [
    "Run the script to download all .tif files corresponding to the polygon defined in the config.json.\n",
    "You can set `in_parallel=True` to run the downloads in parallel, or `in_parallel=False` to run them sequentially.\n",
    "We also set the `limit` parameter to `10` to only download one file for this example. You can remove the `limit` parameter to download all files for the given configuration.\n",
    "\n",
    "To run the script, you need to provide your username and password. You can register for an account at the EOC website. For more information, please refer to the documentation of the EnMAP Downloader package."
   ],
   "id": "12fb68f9ff5284bb"
  },
  {
   "metadata": {},
   "cell_type": "code",
   "source": "enmapDownloader(config, in_parallel=True, limit=2, username=\"yourusername\", password=\"yourpassword\")",
   "id": "482562ad640a8fd9",
   "execution_count": null,
   "outputs": []
  },
  {
   "metadata": {},
   "cell_type": "markdown",
   "source": [
    "In our provided case, the downloaded data will be stored in the `data` directory, which is defined in the config.json file.\n",
    "\n",
    "We also have the possibility to define the output format of the downloaded data. In this case, we set the `output_format` to `tif`, which is the default format. You can also set it to `npy`."
   ],
   "id": "d64af905fe47fd9f"
  },
  {
   "metadata": {},
   "cell_type": "code",
   "source": [
    "# not needed under normal circumstances, but for the sake of this example we set the variable manually\n",
    "config[\"output_format\"] = \"npy\"\n",
    "enmapDownloader(config, in_parallel=True, limit=2)"
   ],
   "id": "bbc9d7fae37bb344",
   "execution_count": null,
   "outputs": []
  },
  {
   "metadata": {},
   "cell_type": "markdown",
   "source": "Now all downloaded files will be stored in the `data` directory as `.npy` files. ",
   "id": "91a644b89d2b52e"
  }
 ],
 "metadata": {
  "kernelspec": {
   "display_name": "Python 3",
   "language": "python",
   "name": "python3"
  },
  "language_info": {
   "codemirror_mode": {
    "name": "ipython",
    "version": 2
   },
   "file_extension": ".py",
   "mimetype": "text/x-python",
   "name": "python",
   "nbconvert_exporter": "python",
   "pygments_lexer": "ipython2",
   "version": "2.7.6"
  }
 },
 "nbformat": 4,
 "nbformat_minor": 5
}
