{
 "cells": [
  {
   "metadata": {},
   "cell_type": "markdown",
   "source": "You also have the option to filter the metadata of the downloaded files for more precise results, as shown by the following example.",
   "id": "8f99c9c59f8d6810"
  },
  {
   "cell_type": "code",
   "id": "initial_id",
   "metadata": {
    "collapsed": true,
    "ExecuteTime": {
     "end_time": "2025-09-04T11:10:32.272288Z",
     "start_time": "2025-09-04T11:10:32.222312Z"
    }
   },
   "source": [
    "import os\n",
    "\n",
    "from enmap_downloader.config import loadConfiguration, Config\n",
    "from enmap_downloader.enmap_downloader import enmapDownloader"
   ],
   "execution_count": 21,
   "outputs": []
  },
  {
   "metadata": {},
   "cell_type": "markdown",
   "source": [
    "Parse the config, supply the path where you stored it, make sure to adapt all parameters to your needs.\n",
    "In this case we have the parameters:\n",
    "\n",
    "- `geojson`: the path to the geojson file defining the polygon for the download\n",
    "- `start_date`: the start date for the download, in the format YYYY-MM-DD\n",
    "- `end_date`: the end date for the download, in the format YYYY-MM-DD\n",
    "- `crop_value`: the value to crop the downloaded data, can be `default`, bbox` or `precise` (further explained below)\n",
    "- `results_dir`: the directory where the downloaded data will be stored\n",
    "- `result_format`: the format of the downloaded data, can be `tif` or `npy`\n",
    "- `download_data`: whether to download the data or not, can be `True` or `False`\n",
    "- `download_metadata`: whether to download the metadata or not, can be `True` or `False`\n",
    "- `logging_dir`: the directory where the logs will be stored"
   ],
   "id": "4dec5efe7c1dc154"
  },
  {
   "metadata": {
    "ExecuteTime": {
     "end_time": "2025-09-04T11:10:35.746856Z",
     "start_time": "2025-09-04T11:10:35.670469Z"
    }
   },
   "cell_type": "code",
   "source": [
    "config = {\n",
    "    'search_settings': {\n",
    "        \"collections\": [\n",
    "        \"ENMAP_HSI_L2A\"\n",
    "        ],\n",
    "        'aoi_settings': {\n",
    "            'geojson': 'US-Wi5.geojson',\n",
    "            'start_date': '',\n",
    "            'end_date': ''\n",
    "        }\n",
    "    },\n",
    "    'result_settings':{\n",
    "        'crop_value': 'precise',\n",
    "        'results_dir': './downloads',\n",
    "        'result_format': 'tif',\n",
    "        'download_data': True,\n",
    "        'download_metadata': True,\n",
    "        'logging_dir': './logs',\n",
    "        \"logging_level\": \"INFO\",\n",
    "    }\n",
    "}\n",
    "\n",
    "Config(**config)"
   ],
   "id": "6b9715eee1854857",
   "execution_count": 22,
   "outputs": []
  },
  {
   "metadata": {},
   "cell_type": "markdown",
   "source": [
    "We are going to use the `enmapDownloader` function to download the data, in this example we will limit the number of downloaded files to 5, but you can set it to `None` to download all files that match the search criteria.\n",
    "\n",
    "To run the script, you need to provide your username and password. You can register for an account at the EOC website. For more information, please refer to the documentation of the EnMAP Downloader package."
   ],
   "id": "12fb68f9ff5284bb"
  },
  {
   "metadata": {
    "ExecuteTime": {
     "end_time": "2025-09-04T11:24:32.106615Z",
     "start_time": "2025-09-04T11:11:11.888465Z"
    }
   },
   "cell_type": "code",
   "source": "metadata_df = enmapDownloader(config, in_parallel=True, limit=5, username=\"yourusername\", password=\"yourpassword\")",
   "id": "482562ad640a8fd9",
   "execution_count": 23,
   "outputs": []
  },
  {
   "metadata": {},
   "cell_type": "markdown",
   "source": "Now we can use the returned `metadata_df` to filter the metadata of the downloaded files.",
   "id": "d64af905fe47fd9f"
  },
  {
   "metadata": {
    "ExecuteTime": {
     "end_time": "2025-09-04T11:34:17.792194Z",
     "start_time": "2025-09-04T11:34:17.739866Z"
    }
   },
   "cell_type": "code",
   "source": "metadata_df.head(5)",
   "id": "bbc9d7fae37bb344",
   "execution_count": 24,
   "outputs": []
  },
  {
   "metadata": {},
   "cell_type": "markdown",
   "source": "We can print all available columns of the metadata dataframe.",
   "id": "91a644b89d2b52e"
  },
  {
   "metadata": {
    "ExecuteTime": {
     "end_time": "2025-09-04T11:34:22.199124Z",
     "start_time": "2025-09-04T11:34:22.188246Z"
    }
   },
   "cell_type": "code",
   "source": "print(metadata_df.columns)",
   "id": "c65dabdb2ec1a8bb",
   "execution_count": 25,
   "outputs": []
  },
  {
   "metadata": {},
   "cell_type": "markdown",
   "source": "And we can also filter the metadata by a specific column, for example, we can filter by the `enmap:cirrus_cover` column to get only the files with a cirrus cover of \"4\".",
   "id": "c215c1b425e1f3b4"
  },
  {
   "metadata": {
    "ExecuteTime": {
     "end_time": "2025-09-04T11:34:28.647099Z",
     "start_time": "2025-09-04T11:34:28.607936Z"
    }
   },
   "cell_type": "code",
   "source": [
    "filtered_metadata_df = metadata_df[metadata_df['enmap:cirrus_cover'] == \"4\"]\n",
    "filtered_metadata_df.head()"
   ],
   "id": "4697d081acd58b7b",
   "execution_count": 26,
   "outputs": []
  }
 ],
 "metadata": {
  "kernelspec": {
   "display_name": "Python 3",
   "language": "python",
   "name": "python3"
  },
  "language_info": {
   "codemirror_mode": {
    "name": "ipython",
    "version": 2
   },
   "file_extension": ".py",
   "mimetype": "text/x-python",
   "name": "python",
   "nbconvert_exporter": "python",
   "pygments_lexer": "ipython2",
   "version": "2.7.6"
  }
 },
 "nbformat": 4,
 "nbformat_minor": 5
}
