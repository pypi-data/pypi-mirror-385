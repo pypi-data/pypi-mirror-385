{
 "cells": [
  {
   "cell_type": "code",
   "execution_count": 1,
   "metadata": {},
   "outputs": [],
   "source": [
    "import json\n",
    "import onnx\n",
    "import torch\n",
    "import numpy as np\n",
    "import pandas as pd\n",
    "from torch import nn"
   ]
  },
  {
   "cell_type": "code",
   "execution_count": 2,
   "metadata": {},
   "outputs": [],
   "source": [
    "class ExampleModel(nn.Module):\n",
    "\n",
    "    def __init__(self):\n",
    "        super(ExampleModel, self).__init__()\n",
    "\n",
    "    def forward(self, x1, x2, x3):\n",
    "        # Input x1 is a scalar\n",
    "        # Input x2 is a vector with causality 'local' and 4 elements\n",
    "        # Input x3 is a vector with causality 'countinuous' and 5 elements\n",
    "        x4 = x2 + x3[:4]\n",
    "        x5 = x2 - x3[:4]\n",
    "        x6 = x1 * x3[-1]\n",
    "        x7 = x1 / x3[-1]\n",
    "        x = torch.cat([x4, x5, x6, x7])\n",
    "        return x"
   ]
  },
  {
   "cell_type": "code",
   "execution_count": 3,
   "metadata": {},
   "outputs": [
    {
     "name": "stdout",
     "output_type": "stream",
     "text": [
      "torch.Size([1])\n",
      "torch.Size([4])\n",
      "torch.Size([5])\n",
      "tensor([ 1.0795e+00, -3.8908e-01, -5.9069e-01,  3.7054e-01, -1.5823e+00,\n",
      "        -4.8325e-01, -3.1670e-03,  1.1996e+00, -3.0126e-01, -3.3194e+00])\n"
     ]
    }
   ],
   "source": [
    "# Create three tensors\n",
    "x1 = torch.tensor(1.0).unsqueeze(-1)\n",
    "x2 = torch.randn(4)\n",
    "x3 = torch.randn(5)\n",
    "\n",
    "# Print tensors shape\n",
    "print(x1.shape)\n",
    "print(x2.shape)\n",
    "print(x3.shape)\n",
    "\n",
    "# Create the model\n",
    "model = ExampleModel()\n",
    "\n",
    "# Run the model\n",
    "output = model(x1, x2, x3)\n",
    "print(output)\n"
   ]
  },
  {
   "cell_type": "code",
   "execution_count": 4,
   "metadata": {},
   "outputs": [
    {
     "name": "stdout",
     "output_type": "stream",
     "text": [
      "Exported graph: graph(%scalar_input : Float(1, strides=[1], requires_grad=0, device=cpu),\n",
      "      %vector_input : Float(4, strides=[1], requires_grad=0, device=cpu),\n",
      "      %vector_input_discrete : Float(5, strides=[1], requires_grad=0, device=cpu)):\n",
      "  %/Constant_output_0 : Long(1, strides=[1], requires_grad=0, device=cpu) = onnx::Constant[value={0}, onnx_name=\"/Constant\"](), scope: __main__.ExampleModel:: # /tmp/ipykernel_20273/3488084788.py:10:0\n",
      "  %/Constant_1_output_0 : Long(1, strides=[1], requires_grad=0, device=cpu) = onnx::Constant[value={0}, onnx_name=\"/Constant_1\"](), scope: __main__.ExampleModel:: # /tmp/ipykernel_20273/3488084788.py:10:0\n",
      "  %/Constant_2_output_0 : Long(1, strides=[1], requires_grad=0, device=cpu) = onnx::Constant[value={4}, onnx_name=\"/Constant_2\"](), scope: __main__.ExampleModel:: # /tmp/ipykernel_20273/3488084788.py:10:0\n",
      "  %/Constant_3_output_0 : Long(1, strides=[1], requires_grad=0, device=cpu) = onnx::Constant[value={1}, onnx_name=\"/Constant_3\"](), scope: __main__.ExampleModel:: # /tmp/ipykernel_20273/3488084788.py:10:0\n",
      "  %/Slice_output_0 : Float(4, strides=[1], requires_grad=0, device=cpu) = onnx::Slice[onnx_name=\"/Slice\"](%vector_input_discrete, %/Constant_1_output_0, %/Constant_2_output_0, %/Constant_output_0, %/Constant_3_output_0), scope: __main__.ExampleModel:: # /tmp/ipykernel_20273/3488084788.py:10:0\n",
      "  %/Add_output_0 : Float(4, strides=[1], requires_grad=0, device=cpu) = onnx::Add[onnx_name=\"/Add\"](%vector_input, %/Slice_output_0), scope: __main__.ExampleModel:: # /tmp/ipykernel_20273/3488084788.py:10:0\n",
      "  %/Sub_output_0 : Float(4, strides=[1], requires_grad=0, device=cpu) = onnx::Sub[onnx_name=\"/Sub\"](%vector_input, %/Slice_output_0), scope: __main__.ExampleModel:: # /tmp/ipykernel_20273/3488084788.py:11:0\n",
      "  %/Constant_4_output_0 : Long(device=cpu) = onnx::Constant[value={-1}, onnx_name=\"/Constant_4\"](), scope: __main__.ExampleModel::\n",
      "  %/Gather_output_0 : Float(requires_grad=0, device=cpu) = onnx::Gather[axis=0, onnx_name=\"/Gather\"](%vector_input_discrete, %/Constant_4_output_0), scope: __main__.ExampleModel:: # /tmp/ipykernel_20273/3488084788.py:12:0\n",
      "  %/Mul_output_0 : Float(1, strides=[1], requires_grad=0, device=cpu) = onnx::Mul[onnx_name=\"/Mul\"](%scalar_input, %/Gather_output_0), scope: __main__.ExampleModel:: # /tmp/ipykernel_20273/3488084788.py:12:0\n",
      "  %/Div_output_0 : Float(1, strides=[1], requires_grad=0, device=cpu) = onnx::Div[onnx_name=\"/Div\"](%scalar_input, %/Gather_output_0), scope: __main__.ExampleModel:: # /tmp/ipykernel_20273/3488084788.py:13:0\n",
      "  %output : Float(10, strides=[1], requires_grad=0, device=cpu) = onnx::Concat[axis=0, onnx_name=\"/Concat\"](%/Add_output_0, %/Sub_output_0, %/Mul_output_0, %/Div_output_0), scope: __main__.ExampleModel:: # /tmp/ipykernel_20273/3488084788.py:14:0\n",
      "  return (%output)\n",
      "\n"
     ]
    }
   ],
   "source": [
    "# Set the model to evaluation mode\n",
    "model.eval()\n",
    "\n",
    "# Save the model in ONNX format\n",
    "torch.onnx.export(\n",
    "    model,\n",
    "    (x1, x2, x3),\n",
    "    \"example1.onnx\",\n",
    "    verbose=True,\n",
    "    input_names=[\"scalar_input\", \"vector_input\", \"vector_input_discrete\"],\n",
    "    output_names=[\"output\"],\n",
    ")\n",
    "\n",
    "# Load the model\n",
    "model_name = \"example1\"\n",
    "onnx_model = onnx.load(f\"{model_name}.onnx\")\n",
    "\n",
    "# Check the model\n",
    "onnx.checker.check_model(onnx_model)\n",
    "\n",
    "# Add description to the model\n",
    "onnx_model.graph.doc_string = \"Example model with scalar and vector inputs\"\n",
    "\n",
    "# Add descrption to the input\n",
    "onnx_model.graph.input[0].doc_string = \"Scalar input\"\n",
    "onnx_model.graph.input[1].doc_string = \"Vector input with causality local\"\n",
    "onnx_model.graph.input[2].doc_string = \"Vector input with causality continuous\"\n",
    "onnx_model.graph.output[0].doc_string = \"Output\"\n",
    "\n",
    "# Add metadata to the model\n",
    "onnx_model.producer_name = \"ExampleModel\"\n",
    "onnx_model.producer_version = \"0.0.1\"\n",
    "onnx_model.domain = \"example\"\n",
    "onnx_model.model_version = 1\n",
    "\n",
    "# Save the model\n",
    "onnx.save(onnx_model, f\"{model_name}.onnx\")\n"
   ]
  },
  {
   "cell_type": "markdown",
   "metadata": {},
   "source": [
    "## Generating model description\n",
    "\n",
    "Create and save the model description to be provided to ONNX2FMU."
   ]
  },
  {
   "cell_type": "code",
   "execution_count": 5,
   "metadata": {},
   "outputs": [],
   "source": [
    "model_description = {\n",
    "    \"name\": \"example1\",\n",
    "    \"description\": \"The model defines a simple example model with a scalar input and two vector inputs, one with 'local' variability and one with 'continuous' variability.\",\n",
    "    \"FMIVersion\": \"2.0\",\n",
    "    \"inputs\": [\n",
    "        {\n",
    "            \"name\": \"scalar_input\",\n",
    "            \"description\": \"A scalar input to the model.\"\n",
    "        },\n",
    "        {\n",
    "            \"name\": \"vector_input\",\n",
    "            \"description\": \"A vector of input variables with variability discrete.\"\n",
    "        },\n",
    "        {\n",
    "            \"name\": \"vector_input_discrete\",\n",
    "            \"description\": \"Inputs have variability discrete by default.\"\n",
    "        }\n",
    "    ],\n",
    "    \"outputs\": [\n",
    "        {\n",
    "            \"name\": \"output\",\n",
    "            \"description\": \"The output array.\",\n",
    "            \"labels\": [\"Class1\", \"Class2\", \"Class3\", \"Class4\", \"Class5\", \"Class6\", \"Class7\", \"Class8\", \"Class9\", \"Class10\"]\n",
    "        }\n",
    "    ]\n",
    "}\n",
    "\n",
    "# Save model description\n",
    "with open(f\"{model_name}Description.json\", \"w\", encoding=\"utf-8\") as f:\n",
    "    json.dump(model_description, f, indent=4)"
   ]
  },
  {
   "cell_type": "markdown",
   "metadata": {},
   "source": [
    "## Generating input file and output for testing"
   ]
  },
  {
   "cell_type": "code",
   "execution_count": 7,
   "metadata": {},
   "outputs": [
    {
     "name": "stdout",
     "output_type": "stream",
     "text": [
      "Mean squared error 0.0\n"
     ]
    }
   ],
   "source": [
    "time_steps = 100\n",
    "# Create 10 arrays of random numbers\n",
    "data = np.random.random((time_steps, 10))\n",
    "scalar_input = data[:, 0]\n",
    "vector_input_local = data[:, 1:5]\n",
    "vector_input_continuous = data[:, 5:]\n",
    "\n",
    "# Do calculations like in the model\n",
    "out1 = vector_input_local + vector_input_continuous[:, :4]\n",
    "out2 = vector_input_local - vector_input_continuous[:, :4]\n",
    "out3 = scalar_input * vector_input_continuous[:, -1]\n",
    "out4 = scalar_input / vector_input_continuous[:, -1]\n",
    "\n",
    "out = np.hstack([out1, out2, out3[:, None], out4[:, None]])\n",
    "\n",
    "# Compare numpy output with model output\n",
    "scalar_input_tensor = torch.tensor(scalar_input[:, None])\n",
    "vector_input_local_tensor = torch.tensor(vector_input_local)\n",
    "vector_input_continuous_tensor = torch.tensor(vector_input_continuous)\n",
    "\n",
    "y = []\n",
    "\n",
    "for i in range(time_steps):\n",
    "    y.append(\n",
    "        model(\n",
    "            scalar_input_tensor[i],\n",
    "            vector_input_local_tensor[i],\n",
    "            vector_input_continuous_tensor[i]\n",
    "        )\n",
    "    )\n",
    "\n",
    "y = torch.stack(y).numpy()\n",
    "\n",
    "mse = np.sum(np.pow(y - out, 2))\n",
    "\n",
    "print(f\"Mean squared error {mse}\")\n",
    "\n",
    "# Generate time column\n",
    "time = np.arange(time_steps)\n",
    "\n",
    "# Initialize input dataset\n",
    "columns_data = []\n",
    "for i, node in enumerate(onnx_model.graph.input):\n",
    "    description = model_description['inputs'][i]\n",
    "    shape = tuple(\n",
    "        dim.dim_value for dim in node.type.tensor_type.shape.dim\n",
    "    )\n",
    "    # If tensor shape is empty, set it to 1\n",
    "    if not shape:\n",
    "        shape = (1,)\n",
    "    # Define array names\n",
    "    columns_data += [\n",
    "        description['name'] + \"_\" + \"_\".join([str(k) for k in idx])\n",
    "        for idx in np.ndindex(shape)\n",
    "    ]\n",
    "df_data = pd.DataFrame(data, columns=columns_data)\n",
    "df_data['time'] = time\n",
    "df_data.set_index('time', inplace=True)\n",
    "df_data.to_csv('input.csv')\n",
    "\n",
    "# Initialize out\n",
    "df_y = pd.DataFrame(y, columns=[f\"output_{i}\" for i in range(y.shape[1])])\n",
    "df_y['time'] = time\n",
    "df_y.set_index('time', inplace=True)\n",
    "df_y.to_csv('output.csv')\n"
   ]
  }
 ],
 "metadata": {
  "kernelspec": {
   "display_name": "hy2rome",
   "language": "python",
   "name": "python3"
  },
  "language_info": {
   "codemirror_mode": {
    "name": "ipython",
    "version": 3
   },
   "file_extension": ".py",
   "mimetype": "text/x-python",
   "name": "python",
   "nbconvert_exporter": "python",
   "pygments_lexer": "ipython3",
   "version": "3.11.12"
  }
 },
 "nbformat": 4,
 "nbformat_minor": 2
}
