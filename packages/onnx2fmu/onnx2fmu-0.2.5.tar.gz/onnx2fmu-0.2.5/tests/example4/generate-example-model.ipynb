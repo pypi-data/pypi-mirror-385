{
 "cells": [
  {
   "cell_type": "code",
   "execution_count": 1,
   "metadata": {},
   "outputs": [],
   "source": [
    "import json\n",
    "import onnx\n",
    "import torch\n",
    "import numpy as np\n",
    "import pandas as pd\n",
    "from torch import nn"
   ]
  },
  {
   "cell_type": "code",
   "execution_count": 2,
   "metadata": {},
   "outputs": [],
   "source": [
    "class ExampleModel(nn.Module):\n",
    "\n",
    "    def __init__(self):\n",
    "        super(ExampleModel, self).__init__()\n",
    "\n",
    "    def forward(self, u, U, X):\n",
    "        U1 = torch.concat((U[1:, :], u))\n",
    "        x = torch.stack([U1[-3, 0], U1[-2, 1], U1[-1, 2]]).unsqueeze(0)\n",
    "        X1 = torch.concat((X[1:, :], x))\n",
    "        return x, X1, U1"
   ]
  },
  {
   "cell_type": "code",
   "execution_count": 3,
   "metadata": {},
   "outputs": [
    {
     "name": "stdout",
     "output_type": "stream",
     "text": [
      "[torch.Size([1, 3]), torch.Size([10, 3]), torch.Size([9, 5])]\n"
     ]
    }
   ],
   "source": [
    "FEATURES = 5\n",
    "TARGETS = 3\n",
    "T = 10\n",
    "# Create three tensors\n",
    "u = torch.ones((1, FEATURES))\n",
    "U = torch.ones((T - 1, FEATURES)) * torch.arange(T, 1, -1).unsqueeze(1)\n",
    "X = torch.ones(T, TARGETS)\n",
    "\n",
    "# Create the model\n",
    "model = ExampleModel()\n",
    "\n",
    "# Run the model\n",
    "output = model(u, U, X)\n",
    "print([i.shape for i in output])"
   ]
  },
  {
   "cell_type": "code",
   "execution_count": 4,
   "metadata": {},
   "outputs": [],
   "source": [
    "model_name = \"example4\"\n",
    "# Set the model to evaluation mode\n",
    "model.eval()\n",
    "\n",
    "# Save the model in ONNX format\n",
    "torch.onnx.export(\n",
    "    model,\n",
    "    (u, U, X),\n",
    "    f\"{model_name}.onnx\",\n",
    "    verbose=False,\n",
    "    input_names=[\"u\", \"U\", \"X\"],\n",
    "    output_names=[\"x\", \"X1\", \"U1\"],\n",
    ")\n",
    "\n",
    "# Load the model\n",
    "onnx_model = onnx.load(f\"{model_name}.onnx\")\n",
    "\n",
    "# Check the model\n",
    "onnx.checker.check_model(onnx_model)\n",
    "\n",
    "# Add description to the model\n",
    "onnx_model.graph.doc_string = \"Example to test FMU with local variables.\"\n",
    "\n",
    "# Add metadata to the model\n",
    "onnx_model.producer_name = \"ExampleModel\"\n",
    "onnx_model.producer_version = \"0.0.1\"\n",
    "onnx_model.domain = \"example\"\n",
    "onnx_model.model_version = 1\n",
    "\n",
    "# Save the model\n",
    "onnx.save(onnx_model, f\"{model_name}.onnx\")\n"
   ]
  },
  {
   "cell_type": "markdown",
   "metadata": {},
   "source": [
    "## Generating model description\n",
    "\n",
    "Create and save the model description to be provided to ONNX2FMU."
   ]
  },
  {
   "cell_type": "code",
   "execution_count": 5,
   "metadata": {},
   "outputs": [],
   "source": [
    "model_description = {\n",
    "    \"name\": \"example4\",\n",
    "    \"description\": \"Example to test FMU with local variables.\",\n",
    "    \"FMIVersion\": \"2.0\",\n",
    "    \"inputs\": [\n",
    "        {\n",
    "            \"name\": \"u\",\n",
    "            \"description\": \"A vector of control variables at time t.\"\n",
    "        },\n",
    "    ],\n",
    "    \"outputs\": [\n",
    "        {\n",
    "            \"name\": \"x\",\n",
    "            \"description\": \"The state of the system at time t+1.\"\n",
    "        }\n",
    "    ],\n",
    "    \"locals\": [\n",
    "        {\n",
    "            \"nameIn\": \"X\",\n",
    "            \"nameOut\": \"X1\",\n",
    "            \"description\": \"The history of states from t-N to t.\"\n",
    "        },\n",
    "        {\n",
    "            \"nameIn\": \"U\",\n",
    "            \"nameOut\": \"U1\",\n",
    "            \"description\": \"The history of control variables frmo t-N to t-1.\"\n",
    "        }\n",
    "    ]\n",
    "}\n",
    "\n",
    "# Save model description\n",
    "with open(f\"{model_name}Description.json\", \"w\", encoding=\"utf-8\") as f:\n",
    "    json.dump(model_description, f, indent=4)"
   ]
  },
  {
   "cell_type": "markdown",
   "metadata": {},
   "source": [
    "## Generating input file and output for testing"
   ]
  },
  {
   "cell_type": "code",
   "execution_count": 6,
   "metadata": {},
   "outputs": [],
   "source": [
    "time_steps = 100\n",
    "U_hist = np.ones((time_steps, FEATURES)) * np.arange(time_steps)[:, None]\n",
    "columns = [f\"u_0_{i}\" for i in range(FEATURES)]\n",
    "index = pd.Index(data=np.arange(time_steps), name='time')\n",
    "df = pd.DataFrame(\n",
    "    data=U_hist,\n",
    "    columns=columns,\n",
    "    index=index\n",
    ").to_csv(f\"input.csv\")\n",
    "\n",
    "results = torch.empty((time_steps, TARGETS))\n",
    "U = torch.zeros((T - 1, FEATURES))\n",
    "X = torch.zeros((T, TARGETS))\n",
    "for i, u in enumerate(U_hist):\n",
    "    x, X1, U1 = model(\n",
    "        torch.tensor(u).unsqueeze(0), U, X\n",
    "    )\n",
    "    U, X = U1, X1\n",
    "    results[i] = x\n",
    "\n",
    "output = pd.DataFrame(\n",
    "    data=results.detach().numpy(),\n",
    "    columns=[f\"x_0_{i}\" for i in range(results.shape[1])],\n",
    "    index=index\n",
    ")\n",
    "\n",
    "output.to_csv(\"output.csv\")"
   ]
  }
 ],
 "metadata": {
  "kernelspec": {
   "display_name": ".venv-notebooks",
   "language": "python",
   "name": "python3"
  },
  "language_info": {
   "codemirror_mode": {
    "name": "ipython",
    "version": 3
   },
   "file_extension": ".py",
   "mimetype": "text/x-python",
   "name": "python",
   "nbconvert_exporter": "python",
   "pygments_lexer": "ipython3",
   "version": "3.10.18"
  }
 },
 "nbformat": 4,
 "nbformat_minor": 2
}
