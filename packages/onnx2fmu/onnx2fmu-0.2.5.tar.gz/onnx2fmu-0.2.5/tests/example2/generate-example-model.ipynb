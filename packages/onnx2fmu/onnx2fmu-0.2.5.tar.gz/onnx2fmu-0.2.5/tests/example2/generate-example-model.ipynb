{
 "cells": [
  {
   "cell_type": "code",
   "execution_count": 1,
   "metadata": {},
   "outputs": [],
   "source": [
    "import json\n",
    "import onnx\n",
    "import torch\n",
    "import numpy as np\n",
    "import pandas as pd\n",
    "from torch import nn"
   ]
  },
  {
   "cell_type": "code",
   "execution_count": 2,
   "metadata": {},
   "outputs": [],
   "source": [
    "class ExampleModel(nn.Module):\n",
    "\n",
    "    def __init__(self):\n",
    "        super(ExampleModel, self).__init__()\n",
    "\n",
    "    def forward(self, x1, x2, x3):\n",
    "        x4 = x1 + x2\n",
    "        x5 = x2 - x3\n",
    "        x = torch.cat([x4, x5], dim=0)\n",
    "        return x"
   ]
  },
  {
   "cell_type": "code",
   "execution_count": 3,
   "metadata": {},
   "outputs": [
    {
     "name": "stdout",
     "output_type": "stream",
     "text": [
      "tensor([-1.3034,  1.5286])\n"
     ]
    }
   ],
   "source": [
    "# Create three tensors\n",
    "x1 = torch.randn(1)\n",
    "x2 = torch.randn(1)\n",
    "x3 = torch.randn(1)\n",
    "\n",
    "# Create the model\n",
    "model = ExampleModel()\n",
    "\n",
    "# Run the model\n",
    "output = model(x1, x2, x3)\n",
    "print(output)\n"
   ]
  },
  {
   "cell_type": "code",
   "execution_count": 4,
   "metadata": {},
   "outputs": [
    {
     "name": "stdout",
     "output_type": "stream",
     "text": [
      "Exported graph: graph(%x_1 : Float(1, strides=[1], requires_grad=0, device=cpu),\n",
      "      %x_2 : Float(1, strides=[1], requires_grad=0, device=cpu),\n",
      "      %x_3 : Float(1, strides=[1], requires_grad=0, device=cpu)):\n",
      "  %/Add_output_0 : Float(1, strides=[1], requires_grad=0, device=cpu) = onnx::Add[onnx_name=\"/Add\"](%x_1, %x_2), scope: __main__.ExampleModel:: # /tmp/ipykernel_20540/3350249101.py:7:0\n",
      "  %/Sub_output_0 : Float(1, strides=[1], requires_grad=0, device=cpu) = onnx::Sub[onnx_name=\"/Sub\"](%x_2, %x_3), scope: __main__.ExampleModel:: # /tmp/ipykernel_20540/3350249101.py:8:0\n",
      "  %y : Float(2, strides=[1], requires_grad=0, device=cpu) = onnx::Concat[axis=0, onnx_name=\"/Concat\"](%/Add_output_0, %/Sub_output_0), scope: __main__.ExampleModel:: # /tmp/ipykernel_20540/3350249101.py:9:0\n",
      "  return (%y)\n",
      "\n"
     ]
    }
   ],
   "source": [
    "model_name = \"example2\"\n",
    "# Set the model to evaluation mode\n",
    "model.eval()\n",
    "\n",
    "# Save the model in ONNX format\n",
    "torch.onnx.export(\n",
    "    model,\n",
    "    (x1, x2, x3),\n",
    "    f\"{model_name}.onnx\",\n",
    "    verbose=True,\n",
    "    input_names=[\"x_1\", \"x_2\", \"x_3\"],\n",
    "    output_names=[\"y\"],\n",
    ")\n",
    "\n",
    "# Load the model\n",
    "onnx_model = onnx.load(f\"{model_name}.onnx\")\n",
    "\n",
    "# Check the model\n",
    "onnx.checker.check_model(onnx_model)\n",
    "\n",
    "# Add description to the model\n",
    "onnx_model.graph.doc_string = \"Example model with scalar and vector inputs\"\n",
    "\n",
    "# Add metadata to the model\n",
    "onnx_model.producer_name = \"ExampleModel\"\n",
    "onnx_model.producer_version = \"0.0.1\"\n",
    "onnx_model.domain = \"example\"\n",
    "onnx_model.model_version = 1\n",
    "\n",
    "# Save the model\n",
    "onnx.save(onnx_model, f\"{model_name}.onnx\")\n"
   ]
  },
  {
   "cell_type": "markdown",
   "metadata": {},
   "source": [
    "## Generating model description\n",
    "\n",
    "Create and save the model description to be provided to ONNX2FMU."
   ]
  },
  {
   "cell_type": "code",
   "execution_count": 5,
   "metadata": {},
   "outputs": [],
   "source": [
    "model_description = {\n",
    "    \"name\": \"example2\",\n",
    "    \"description\": \"The model defines a simple example model with a scalar input and two vector inputs, one with 'local' variability and one with 'continuous' variability.\",\n",
    "    \"FMIVersion\": \"2.0\",\n",
    "    \"inputs\": [\n",
    "        {\n",
    "            \"name\": \"x_1\",\n",
    "            \"description\": \"A scalar input to the model.\"\n",
    "        },\n",
    "        {\n",
    "            \"name\": \"x_2\",\n",
    "            \"description\": \"A scalar input to the model.\"\n",
    "        },\n",
    "        {\n",
    "            \"name\": \"x_3\",\n",
    "            \"description\": \"A scalar input to the model.\"\n",
    "        }\n",
    "    ],\n",
    "    \"outputs\": [\n",
    "        {\n",
    "            \"name\": \"y\",\n",
    "            \"description\": \"The output array.\"\n",
    "        }\n",
    "    ]\n",
    "}\n",
    "\n",
    "# Save model description\n",
    "with open(f\"{model_name}Description.json\", \"w\", encoding=\"utf-8\") as f:\n",
    "    json.dump(model_description, f, indent=4)"
   ]
  },
  {
   "cell_type": "markdown",
   "metadata": {},
   "source": [
    "## Generating input file and output for testing"
   ]
  },
  {
   "cell_type": "code",
   "execution_count": 6,
   "metadata": {},
   "outputs": [
    {
     "name": "stdout",
     "output_type": "stream",
     "text": [
      "Mean squared error 0.0\n"
     ]
    }
   ],
   "source": [
    "time_steps = 100\n",
    "# Create 10 arrays of random numbers\n",
    "data = np.random.random((time_steps, 3))\n",
    "x1 = data[:, 0]\n",
    "x2 = data[:, 1]\n",
    "x3 = data[:, 2]\n",
    "\n",
    "# Do calculations like in the model\n",
    "out1 = x1 + x2\n",
    "out2 = x2 - x3\n",
    "\n",
    "out = np.vstack([out1, out2]).T\n",
    "\n",
    "# Compare numpy output with model output\n",
    "x1_tensor = torch.tensor(x1)\n",
    "x2_tensor = torch.tensor(x2)\n",
    "x3_tensor = torch.tensor(x3)\n",
    "\n",
    "y = []\n",
    "\n",
    "for i in range(time_steps):\n",
    "    y.append(\n",
    "        model(\n",
    "            x1_tensor[i].unsqueeze(-1),\n",
    "            x2_tensor[i].unsqueeze(-1),\n",
    "            x3_tensor[i].unsqueeze(-1)\n",
    "        )\n",
    "    )\n",
    "\n",
    "y = torch.stack(y).numpy()\n",
    "\n",
    "mse = np.sum(np.pow(y - out, 2))\n",
    "\n",
    "print(f\"Mean squared error {mse}\")\n",
    "\n",
    "# Generate time column\n",
    "time = np.arange(time_steps)\n",
    "\n",
    "# Initialize input dataset\n",
    "columns_data = [\"x_1_0\", \"x_2_0\", \"x_3_0\"]\n",
    "df_data = pd.DataFrame(data, columns=columns_data)\n",
    "df_data['time'] = time\n",
    "df_data.set_index('time', inplace=True)\n",
    "df_data.to_csv('input.csv')\n",
    "\n",
    "# Initialize out\n",
    "df_y = pd.DataFrame(y, columns=[f\"output_{i}\" for i in range(y.shape[1])])\n",
    "df_y['time'] = time\n",
    "df_y.set_index('time', inplace=True)\n",
    "df_y.to_csv('output.csv')\n"
   ]
  }
 ],
 "metadata": {
  "kernelspec": {
   "display_name": "hy2rome",
   "language": "python",
   "name": "python3"
  },
  "language_info": {
   "codemirror_mode": {
    "name": "ipython",
    "version": 3
   },
   "file_extension": ".py",
   "mimetype": "text/x-python",
   "name": "python",
   "nbconvert_exporter": "python",
   "pygments_lexer": "ipython3",
   "version": "3.11.12"
  }
 },
 "nbformat": 4,
 "nbformat_minor": 2
}
