{
 "cells": [
  {
   "cell_type": "code",
   "execution_count": 1,
   "id": "28ad3c26-7111-4052-9add-12db5730e24f",
   "metadata": {},
   "outputs": [],
   "source": [
    "# SPDX-FileCopyrightText: 2024 The eminus developers\n",
    "# SPDX-License-Identifier: Apache-2.0\n",
    "import os\n",
    "\n",
    "import plotly.io as pio\n",
    "\n",
    "from eminus import Cell, SCF\n",
    "from eminus.extras import plot_bandstructure, plot_dos\n",
    "\n",
    "try:\n",
    "    file_path = os.environ[\"PYTEST_TEST_DIR\"]\n",
    "except KeyError:\n",
    "    file_path = \".\"\n",
    "pio.renderers.default = \"notebook_connected\"  # Keep the notebook small for the source distribution"
   ]
  },
  {
   "cell_type": "code",
   "execution_count": 2,
   "id": "e61ccf32-46e9-4bf0-989e-eabea55cfb02",
   "metadata": {},
   "outputs": [
    {
     "name": "stdout",
     "output_type": "stream",
     "text": [
      "WARNING: Reset previously set fillings.\n",
      "Start auto minimization...\n",
      "Method  Iteration  Etot [Eh]    dEtot [Eh]   |Gradient|             \n",
      "pccg           1   -1.452887    \n",
      "pccg           2   -4.882175    -3.4293e+00  [+4.89e+01 +4.17e+01]  \n",
      "pccg           3   -6.225577    -1.3434e+00  [+6.44e+00 +6.05e+00]  \n",
      "pccg           4   -6.768184    -5.4261e-01  [+1.22e+00 +1.12e+00]  \n",
      "pccg           5   -6.988449    -2.2026e-01  [+3.52e-01 +2.84e-01]  \n",
      "pccg           6   -7.084195    -9.5746e-02  [+1.02e-01 +8.99e-02]  \n",
      "pccg           7   -7.134544    -5.0349e-02  [+3.79e-02 +3.83e-02]  \n",
      "pccg           8   -7.173182    -3.8638e-02  [+2.35e-02 +2.53e-02]  \n",
      "pccg           9   -7.197571    -2.4389e-02  [+1.80e-02 +1.41e-02]  \n",
      "pccg          10   -7.210342    -1.2771e-02  [+9.29e-03 +6.84e-03]  \n",
      "pccg          11   -7.216227    -5.8854e-03  [+4.74e-03 +2.85e-03]  \n",
      "pccg          12   -7.219132    -2.9047e-03  [+2.05e-03 +1.63e-03]  \n",
      "pccg          13   -7.220479    -1.3467e-03  [+8.99e-04 +8.87e-04]  \n",
      "pccg          14   -7.221198    -7.1920e-04  [+3.99e-04 +4.83e-04]  \n",
      "SCF converged after 14 iterations.\n",
      "Total SCF time: 0.32172 s\n",
      "<S^2> = 1.125568e-01\n",
      "Etot = -7.221197854 Eh\n",
      "Minimize occupied band energies...\n",
      "Start auto minimization...\n",
      "Method  Iteration  Etot [Eh]    dEtot [Eh]   |Gradient|             \n",
      "pccg           1   +10.612108   \n",
      "pccg           2   +4.424191    -6.1879e+00  [+3.72e+01 +3.55e+01]  \n",
      "pccg           3   +2.643777    -1.7804e+00  [+9.13e+00 +8.81e+00]  \n",
      "pccg           4   +1.840862    -8.0292e-01  [+3.15e+00 +3.15e+00]  \n",
      "pccg           5   +1.484692    -3.5617e-01  [+1.10e+00 +1.15e+00]  \n",
      "pccg           6   +1.307973    -1.7672e-01  [+4.66e-01 +4.55e-01]  \n",
      "pccg           7   +1.206591    -1.0138e-01  [+2.66e-01 +2.42e-01]  \n",
      "pccg           8   +1.134770    -7.1822e-02  [+1.57e-01 +1.60e-01]  \n",
      "pccg           9   +1.080557    -5.4212e-02  [+1.04e-01 +1.32e-01]  \n",
      "pccg          10   +1.044869    -3.5689e-02  [+6.75e-02 +9.55e-02]  \n",
      "pccg          11   +1.026310    -1.8559e-02  [+7.06e-02 +5.22e-02]  \n",
      "pccg          12   +1.013293    -1.3017e-02  [+5.15e-02 +2.62e-02]  \n",
      "pccg          13   +1.005407    -7.8855e-03  [+4.31e-02 +1.43e-02]  \n",
      "pccg          14   +0.999001    -6.4060e-03  [+4.03e-02 +8.34e-03]  \n",
      "pccg          15   +0.993508    -5.4931e-03  [+2.91e-02 +4.78e-03]  \n",
      "pccg          16   +0.989938    -3.5707e-03  [+1.91e-02 +2.46e-03]  \n",
      "pccg          17   +0.987426    -2.5119e-03  [+1.42e-02 +1.38e-03]  \n",
      "pccg          18   +0.986188    -1.2375e-03  [+7.11e-03 +7.20e-04]  \n",
      "pccg          19   +0.985574    -6.1377e-04  [+4.02e-03 +3.67e-04]  \n",
      "Band minimization converged after 19 iterations.\n",
      "Total band minimization time: 5.72160 s\n",
      "Minimize unoccupied band energies...\n",
      "Start auto minimization...\n",
      "Method  Iteration  Etot [Eh]    dEtot [Eh]   |Gradient|             \n",
      "pccg           1   +8.575679    \n",
      "pccg           2   +5.414180    -3.1615e+00  [+2.68e+00 +1.95e+00]  \n",
      "pccg           3   +4.318355    -1.0958e+00  [+3.54e-01 +2.34e-01]  \n",
      "pccg           4   +3.894325    -4.2403e-01  [+6.42e-02 +4.30e-02]  \n",
      "pccg           5   +3.695730    -1.9859e-01  [+1.88e-02 +1.27e-02]  \n",
      "pccg           6   +3.587863    -1.0787e-01  [+7.91e-03 +5.62e-03]  \n",
      "pccg           7   +3.527803    -6.0061e-02  [+3.84e-03 +2.82e-03]  \n",
      "pccg           8   +3.492714    -3.5089e-02  [+1.74e-03 +1.51e-03]  \n",
      "pccg           9   +3.473139    -1.9575e-02  [+8.07e-04 +8.80e-04]  \n",
      "pccg          10   +3.461514    -1.1626e-02  [+4.97e-04 +4.65e-04]  \n",
      "pccg          11   +3.453340    -8.1739e-03  [+3.86e-04 +2.84e-04]  \n",
      "pccg          12   +3.447224    -6.1153e-03  [+2.21e-04 +2.59e-04]  \n",
      "pccg          13   +3.442930    -4.2944e-03  [+1.35e-04 +1.50e-04]  \n",
      "pccg          14   +3.439925    -3.0053e-03  [+8.55e-05 +1.11e-04]  \n",
      "pccg          15   +3.437862    -2.0632e-03  [+4.96e-05 +6.95e-05]  \n",
      "pccg          16   +3.436457    -1.4044e-03  [+3.40e-05 +4.37e-05]  \n",
      "pccg          17   +3.435395    -1.0618e-03  [+1.95e-05 +3.44e-05]  \n",
      "pccg          18   +3.434450    -9.4502e-04  [+1.18e-05 +3.03e-05]  \n",
      "Band minimization converged after 18 iterations.\n",
      "Total band minimization time: 2.67112 s\n"
     ]
    }
   ],
   "source": [
    "cell = Cell(\"Si\", \"diamond\", 5, 10, bands=8)\n",
    "cell.unrestricted = True\n",
    "scf = SCF(cell, etol=1e-3)\n",
    "scf.run()\n",
    "scf.kpts.path = \"LGX\"\n",
    "scf.kpts.Nk = 10\n",
    "scf.converge_bands();"
   ]
  },
  {
   "cell_type": "code",
   "execution_count": 3,
   "id": "9a24225e-f1d5-4407-b166-f047e29f4550",
   "metadata": {},
   "outputs": [
    {
     "data": {
      "text/html": [
       "        <script type=\"text/javascript\">\n",
       "        window.PlotlyConfig = {MathJaxConfig: 'local'};\n",
       "        if (window.MathJax && window.MathJax.Hub && window.MathJax.Hub.Config) {window.MathJax.Hub.Config({SVG: {font: \"STIX-Web\"}});}\n",
       "        </script>\n",
       "        <script type=\"module\">import \"https://cdn.plot.ly/plotly-3.0.1.min\"</script>\n",
       "        "
      ]
     },
     "metadata": {},
     "output_type": "display_data"
    },
    {
     "data": {
      "text/html": [
       "<div>            <script src=\"https://cdnjs.cloudflare.com/ajax/libs/mathjax/2.7.5/MathJax.js?config=TeX-AMS-MML_SVG\"></script><script type=\"text/javascript\">if (window.MathJax && window.MathJax.Hub && window.MathJax.Hub.Config) {window.MathJax.Hub.Config({SVG: {font: \"STIX-Web\"}});}</script>                <script type=\"text/javascript\">window.PlotlyConfig = {MathJaxConfig: 'local'};</script>\n",
       "        <script charset=\"utf-8\" src=\"https://cdn.plot.ly/plotly-3.0.1.min.js\"></script>                <div id=\"a493a681-6819-43f8-9546-552771f7d419\" class=\"plotly-graph-div\" style=\"height:600px; width:800px;\"></div>            <script type=\"text/javascript\">                window.PLOTLYENV=window.PLOTLYENV || {};                                if (document.getElementById(\"a493a681-6819-43f8-9546-552771f7d419\")) {                    Plotly.newPlot(                        \"a493a681-6819-43f8-9546-552771f7d419\",                        [{\"mode\":\"lines+markers\",\"name\":\"Band 1\",\"x\":{\"dtype\":\"f8\",\"bdata\":\"AAAAAAAAAAAYj6jjl2nBPxiPqOOXadE\\u002fpNZ81WMe2j8Yj6jjl2nhP95YLsgHb+U\\u002fpCK0rHd06T9q7DmR53ntPxjb37qrv\\u002fA\\u002f+78irWPC8j8=\"},\"y\":{\"dtype\":\"f8\",\"bdata\":\"XqTV7Cy2I8AFUdwZfk4lwKSI+QUCSCfAtHvmhWOfKMC82bJ3RRYpwJzQLfoAryjAdem\\u002fbu52J8BqA9ix0polwJLkJaSxDCPAPJLKn\\u002fDBH8A=\"},\"type\":\"scatter\"},{\"mode\":\"lines+markers\",\"name\":\"Band 2\",\"x\":{\"dtype\":\"f8\",\"bdata\":\"AAAAAAAAAAAYj6jjl2nBPxiPqOOXadE\\u002fpNZ81WMe2j8Yj6jjl2nhP95YLsgHb+U\\u002fpCK0rHd06T9q7DmR53ntPxjb37qrv\\u002fA\\u002f+78irWPC8j8=\"},\"y\":{\"dtype\":\"f8\",\"bdata\":\"BPQ+mvyaHsDGTdh5980ZwNxrqMxxvxDAZLNqKbo\\u002f+r9AVKbE1+u0P6BegJLTX+e\\u002fOrbNlAwQA8BUPP4UIwARwKkVO5B4lxjAkW0JSdK0H8A=\"},\"type\":\"scatter\"},{\"mode\":\"lines+markers\",\"name\":\"Band 3\",\"x\":{\"dtype\":\"f8\",\"bdata\":\"AAAAAAAAAAAYj6jjl2nBPxiPqOOXadE\\u002fpNZ81WMe2j8Yj6jjl2nhP95YLsgHb+U\\u002fpCK0rHd06T9q7DmR53ntPxjb37qrv\\u002fA\\u002f+78irWPC8j8=\"},\"y\":{\"dtype\":\"f8\",\"bdata\":\"YL6lOIc49b\\u002fIF0G5hlTzvxDGruWMGOu\\u002fQOsbtF0i0r\\u002fAMPJMQRW3P6hucHwoSua\\u002fPHxQMxZ4\\u002fL8uUnIZrgYFwE5LLj5LOQnAhhOdV12XCsA=\"},\"type\":\"scatter\"},{\"mode\":\"lines+markers\",\"name\":\"Band 4\",\"x\":{\"dtype\":\"f8\",\"bdata\":\"AAAAAAAAAAAYj6jjl2nBPxiPqOOXadE\\u002fpNZ81WMe2j8Yj6jjl2nhP95YLsgHb+U\\u002fpCK0rHd06T9q7DmR53ntPxjb37qrv\\u002fA\\u002f+78irWPC8j8=\"},\"y\":{\"dtype\":\"f8\",\"bdata\":\"NA3asvEJ9b+0YjUprSTzvyhgsetrs+q\\u002fID+16TYr0L9AasXnZUG5P4Di5d2CZuW\\u002fGHZGj\\u002fD0+79U814BasMEwJJUQ0Zj9QjAotbolSpMCsA=\"},\"type\":\"scatter\"},{\"line\":{\"dash\":\"dash\"},\"mode\":\"lines+markers\",\"name\":\"Unocc. band 1\",\"x\":{\"dtype\":\"f8\",\"bdata\":\"AAAAAAAAAAAYj6jjl2nBPxiPqOOXadE\\u002fpNZ81WMe2j8Yj6jjl2nhP95YLsgHb+U\\u002fpCK0rHd06T9q7DmR53ntPxjb37qrv\\u002fA\\u002f+78irWPC8j8=\"},\"y\":{\"dtype\":\"f8\",\"bdata\":\"CK1r11Bh\\u002fz8I4f2IfUX+Pxg9XQZSagFAjB70O0HTA0C4mFkCfrcBQOi4Ooy0f\\u002fw\\u002f4GszyYhE7j8g0u4CjqLQP8BpxedlQbm\\u002fgDxctQgppb8=\"},\"type\":\"scatter\"},{\"line\":{\"dash\":\"dash\"},\"mode\":\"lines+markers\",\"name\":\"Unocc. band 2\",\"x\":{\"dtype\":\"f8\",\"bdata\":\"AAAAAAAAAAAYj6jjl2nBPxiPqOOXadE\\u002fpNZ81WMe2j8Yj6jjl2nhP95YLsgHb+U\\u002fpCK0rHd06T9q7DmR53ntPxjb37qrv\\u002fA\\u002f+78irWPC8j8=\"},\"y\":{\"dtype\":\"f8\",\"bdata\":\"NNhRRy+uBkDAmzrFTwwIQPwX6Xfv7glAnCFwzEDzBUC0Eys0l8sBQFDBaQ9IyglAfIbnWZosC0BIl2f0nFz6P7AYzGzNK+E\\u002fAJAsnjkrjD8=\"},\"type\":\"scatter\"},{\"line\":{\"dash\":\"dash\"},\"mode\":\"lines+markers\",\"name\":\"Unocc. band 3\",\"x\":{\"dtype\":\"f8\",\"bdata\":\"AAAAAAAAAAAYj6jjl2nBPxiPqOOXadE\\u002fpNZ81WMe2j8Yj6jjl2nhP95YLsgHb+U\\u002fpCK0rHd06T9q7DmR53ntPxjb37qrv\\u002fA\\u002f+78irWPC8j8=\"},\"y\":{\"dtype\":\"f8\",\"bdata\":\"fMO2+w3CBkBU+kH3ZSEIQAwc\\u002fsVpBQpAbBO3Efz\\u002fBUDwq9mfFdQBQFQ2RlvT+glAWgH2eq7nE0B2\\u002fwAG1qQbQPWNCXTyxiFAZ3kC4LARJUA=\"},\"type\":\"scatter\"},{\"line\":{\"dash\":\"dash\"},\"mode\":\"lines+markers\",\"name\":\"Unocc. band 4\",\"x\":{\"dtype\":\"f8\",\"bdata\":\"AAAAAAAAAAAYj6jjl2nBPxiPqOOXadE\\u002fpNZ81WMe2j8Yj6jjl2nhP95YLsgHb+U\\u002fpCK0rHd06T9q7DmR53ntPxjb37qrv\\u002fA\\u002f+78irWPC8j8=\"},\"y\":{\"dtype\":\"f8\",\"bdata\":\"zhGaiay2GkCKABtgEbsbQM5KwXZh6htAaLwO9A8yFkDGxw84dkESQEqe\\u002fdyWARRATgc1x40AFED2WzkwKgEcQK3KKJ+uzyFAiR6P3xQaJUA=\"},\"type\":\"scatter\"}],                        {\"template\":{\"data\":{\"scatter\":[{\"type\":\"scatter\"}]}},\"font\":{\"size\":20},\"xaxis\":{\"zeroline\":false,\"showline\":true,\"mirror\":true,\"ticks\":\"outside\",\"tickmode\":\"array\",\"tickvals\":{\"dtype\":\"f8\",\"bdata\":\"AAAAAAAAAAAYj6jjl2nhP\\u002fu\\u002fIq1jwvI\\u002f\"},\"ticktext\":[\"L\",\"Γ\",\"X\"],\"gridcolor\":\"grey\",\"gridwidth\":2,\"range\":[0,1.1724583399882238],\"title\":{\"text\":\"k-path\"}},\"yaxis\":{\"zeroline\":false,\"showline\":true,\"mirror\":true,\"ticks\":\"outside\",\"showgrid\":false,\"title\":{\"text\":\"E - E\\u003csub\\u003eF\\u003c\\u002fsub\\u003e [eV]\"}},\"hoverlabel\":{\"bgcolor\":\"black\"},\"width\":800,\"height\":600,\"showlegend\":false},                        {\"responsive\": true}                    ).then(function(){\n",
       "                            \n",
       "var gd = document.getElementById('a493a681-6819-43f8-9546-552771f7d419');\n",
       "var x = new MutationObserver(function (mutations, observer) {{\n",
       "        var display = window.getComputedStyle(gd).display;\n",
       "        if (!display || display === 'none') {{\n",
       "            console.log([gd, 'removed!']);\n",
       "            Plotly.purge(gd);\n",
       "            observer.disconnect();\n",
       "        }}\n",
       "}});\n",
       "\n",
       "// Listen for the removal of the full notebook cells\n",
       "var notebookContainer = gd.closest('#notebook-container');\n",
       "if (notebookContainer) {{\n",
       "    x.observe(notebookContainer, {childList: true});\n",
       "}}\n",
       "\n",
       "// Listen for the clearing of the current output cell\n",
       "var outputEl = gd.closest('.output');\n",
       "if (outputEl) {{\n",
       "    x.observe(outputEl, {childList: true});\n",
       "}}\n",
       "\n",
       "                        })                };            </script>        </div>"
      ]
     },
     "metadata": {},
     "output_type": "display_data"
    }
   ],
   "source": [
    "# Test normal plotting\n",
    "plot_bandstructure(scf)"
   ]
  },
  {
   "cell_type": "code",
   "execution_count": 4,
   "id": "b2e7862b-f556-4ace-a4ed-539163b8608e",
   "metadata": {},
   "outputs": [
    {
     "data": {
      "text/html": [
       "<div>            <script src=\"https://cdnjs.cloudflare.com/ajax/libs/mathjax/2.7.5/MathJax.js?config=TeX-AMS-MML_SVG\"></script><script type=\"text/javascript\">if (window.MathJax && window.MathJax.Hub && window.MathJax.Hub.Config) {window.MathJax.Hub.Config({SVG: {font: \"STIX-Web\"}});}</script>                <script type=\"text/javascript\">window.PlotlyConfig = {MathJaxConfig: 'local'};</script>\n",
       "        <script charset=\"utf-8\" src=\"https://cdn.plot.ly/plotly-3.0.1.min.js\"></script>                <div id=\"147faae7-3fdf-472a-a326-55dfb1585116\" class=\"plotly-graph-div\" style=\"height:600px; width:800px;\"></div>            <script type=\"text/javascript\">                window.PLOTLYENV=window.PLOTLYENV || {};                                if (document.getElementById(\"147faae7-3fdf-472a-a326-55dfb1585116\")) {                    Plotly.newPlot(                        \"147faae7-3fdf-472a-a326-55dfb1585116\",                        [{\"marker\":{\"color\":\"blue\"},\"mode\":\"lines+markers\",\"name\":\"Spin 1\",\"x\":{\"dtype\":\"f8\",\"bdata\":\"vNmyd0UWKsAgoqAXRggqwIRqjrdG+inA6TJ8V0fsKcBN+2n3R94pwLLDV5dI0CnAFoxFN0nCKcB6VDPXSbQpwN4cIXdKpinAQuUOF0uYKcCmrfy2S4opwAt26lZMfCnAbz7Y9kxuKcDUBsaWTWApwDjPszZOUinAnJeh1k5EKcAAYI92TzYpwGQofRZQKCnAyPBqtlAaKcAtuVhWUQwpwJGBRvZR\\u002fijA9kk0llLwKMBaEiI2U+IowL7aD9ZT1CjAIqP9dVTGKMCGa+sVVbgowOsz2bVVqijAT\\u002fzGVVacKMC0xLT1Vo4owBiNopVXgCjAfFWQNVhyKMDgHX7VWGQowETma3VZVijAqK5ZFVpIKMANd0e1WjoowHE\\u002fNVVbLCjA1gcj9VseKMA60BCVXBAowJ6Y\\u002fjRdAijAAmHs1F30J8BmKdp0XuYnwMrxxxRf2CfAL7q1tF\\u002fKJ8CTgqNUYLwnwPhKkfRgrifAXBN\\u002flGGgJ8DA22w0YpInwCSkWtRihCfAiGxIdGN2J8DtNDYUZGgnwFH9I7RkWifAtcURVGVMJ8Aajv\\u002fzZT4nwH5W7ZNmMCfA4h7bM2ciJ8BG58jTZxQnwKuvtnNoBifAD3ikE2n4JsBzQJKzaeomwNgIgFNq3CbAPNFt82rOJsCgmVuTa8AmwARiSTNssibAaCo302ykJsDN8iRzbZYmwDG7EhNuiCbAlYMAs256JsD6S+5Sb2wmwF4U3PJvXibAwtzJknBQJsAmpbcycUImwIptpdJxNCbA7zWTcnImJsBT\\u002foAScxgmwLfGbrJzCibAHI9cUnT8JcCAV0rydO4lwOQfOJJ14CXASOglMnbSJcCtsBPSdsQlwBF5AXJ3tiXAdUHvEXioJcDaCd2xeJolwD7SylF5jCXAopq48Xl+JcAGY6aRenAlwGorlDF7YiXAz\\u002fOB0XtUJcAzvG9xfEYlwJeEXRF9OCXA\\u002fExLsX0qJcBgFTlRfhwlwMTdJvF+DiXAKKYUkX8AJcCMbgIxgPIkwPE28NCA5CTAVf\\u002fdcIHWJMC6x8sQgsgkwB6QubCCuiTAglinUIOsJMDmIJXwg54kwErpgpCEkCTAr7FwMIWCJMATel7QhXQkwHdCTHCGZiTA3Ao6EIdYJMBA0yewh0okwKSbFVCIPCTACGQD8IguJMBsLPGPiSAkwNH03i+KEiTANb3Mz4oEJMCZhbpvi\\u002fYjwP5NqA+M6CPAYhaWr4zaI8DG3oNPjcwjwCqnce+NviPAj29fj46wI8DzN00vj6IjwFcAO8+PlCPAu8gob5CGI8AgkRYPkXgjwIRZBK+RaiPA6CHyTpJcI8BM6t\\u002fukk4jwLGyzY6TQCPAFXu7LpQyI8B5Q6nOlCQjwN4Ll26VFiPAQtSEDpYII8CmnHKulvoiwAplYE6X7CLAbi1O7pfeIsDT9TuOmNAiwDe+KS6ZwiLAm4YXzpm0IsAATwVumqYiwGQX8w2bmCLAyN\\u002fgrZuKIsAsqM5NnHwiwJFwvO2cbiLA9TiqjZ1gIsBZAZgtnlIiwL3Jhc2eRCLAIpJzbZ82IsCGWmENoCgiwOoiT62gGiLATus8TaEMIsCzsyrtof4hwBd8GI2i8CHAe0QGLaPiIcDgDPTMo9QhwETV4WykxiHAqJ3PDKW4IcAMZr2spaohwHEuq0ymnCHA1faY7KaOIcA5v4aMp4AhwJ2HdCyociHAAlBizKhkIcBmGFBsqVYhwMrgPQyqSCHALqkrrKo6IcCTcRlMqywhwPc5B+yrHiHAWwL1i6wQIcC\\u002fyuIrrQIhwCST0Mut9CDAiFu+a67mIMDsI6wLr9ggwFDsmauvyiDAtbSHS7C8IMAZfXXrsK4gwH1FY4uxoCDA4g1RK7KSIMBG1j7LsoQgwKqeLGuzdiDADmcaC7RoIMBzLwirtFogwNf39Uq1TCDAO8Dj6rU+IMCfiNGKtjAgwARRvyq3IiDAaBmtyrcUIMDM4ZpquAYgwGFUERVy8R\\u002fAKeXsVHPVH8DydciUdLkfwLoGpNR1nR\\u002fAg5d\\u002fFHeBH8BLKFtUeGUfwBS5NpR5SR\\u002fA3EkS1HotH8Cl2u0TfBEfwG5ryVN99R7ANvykk37ZHsD\\u002fjIDTf70ewMcdXBOBoR7AkK43U4KFHsBYPxOTg2kewCHQ7tKETR7A6WDKEoYxHsCy8aVShxUewHqCgZKI+R3AQxNd0ondHcALpDgSi8EdwNQ0FFKMpR3AnMXvkY2JHcBlVsvRjm0dwC3nphGQUR3A9neCUZE1HcC+CF6RkhkdwIeZOdGT\\u002fRzAUCoVEZXhHMAYu\\u002fBQlsUcwOBLzJCXqRzAqdyn0JiNHMBybYMQmnEcwDr+XlCbVRzAA486kJw5HMDLHxbQnR0cwJSw8Q+fARzAXEHNT6DlG8Al0qiPockbwO1ihM+irRvAtvNfD6SRG8B+hDtPpXUbwEcVF4+mWRvAD6byzqc9G8DYNs4OqSEbwKDHqU6qBRvAaViFjqvpGsAy6WDOrM0awPp5PA6usRrAwgoYTq+VGsCLm\\u002fONsHkawFQsz82xXRrAHL2qDbNBGsDkTYZNtCUawK3eYY21CRrAdm89zbbtGcA+ABkNuNEZwAeR9Ey5tRnAzyHQjLqZGcCYsqvMu30ZwGBDhwy9YRnAKdRiTL5FGcDxZD6MvykZwLr1GczADRnAgob1C8LxGMBMF9FLw9UYwBSorIvEuRjA3TiIy8WdGMClyWMLx4EYwG5aP0vIZRjANusai8lJGMD\\u002fe\\u002fbKyi0YwMcM0grMERjAkJ2tSs31F8BYLomKztkXwCG\\u002fZMrPvRfA6k9ACtGhF8Cy4BtK0oUXwHpx94nTaRfAQwLTydRNF8AMk64J1jEXwNQjiknXFRfAnLRlidj5FsBlRUHJ2d0WwC7WHAnbwRbA9mb4SNylFsC+99OI3YkWwIeIr8jebRbAUBmLCOBRFsAYqmZI4TUWwOE6QojiGRbAqssdyOP9FcByXPkH5eEVwDrt1EfmxRXAA36wh+epFcDMDozH6I0VwJSfZwfqcRXAXDBDR+tVFcAlwR6H7DkVwO5R+sbtHRXAtuLVBu8BFcB+c7FG8OUUwEcEjYbxyRTAEJVoxvKtFMDYJUQG9JEUwKC2H0b1dRTAaUf7hfZZFMAy2NbF9z0UwPposgX5IRTAwvmNRfoFFMCLimmF++kTwFQbRcX8zRPAHKwgBf6xE8DlPPxE\\u002f5UTwK7N14QAehPAdl6zxAFeE8A+744EA0ITwAeAakQEJhPA0BBGhAUKE8CYoSHEBu4SwGAy\\u002fQMI0hLAKcPYQwm2EsDyU7SDCpoSwLrkj8MLfhLAgnVrAw1iEsBLBkdDDkYSwBSXIoMPKhLA3Cf+whAOEsCkuNkCEvIRwG1JtUIT1hHANtqQghS6EcD+amzCFZ4RwMb7RwIXghHAkIwjQhhmEcBYHf+BGUoRwCCu2sEaLhHA6T62ARwSEcCyz5FBHfYQwHpgbYEe2hDAQvFIwR++EMALgiQBIaIQwNQSAEEihhDAnKPbgCNqEMBkNLfAJE4QwC3FkgAmMhDA9lVuQCcWEMB8zZMAUfQPwA3vSoBTvA\\u002fAnhACAFaED8AvMrl\\u002fWEwPwMBTcP9aFA\\u002fAUnUnf13cDsDilt7+X6QOwHS4lX5ibA7ABNpM\\u002fmQ0DsCW+wN+Z\\u002fwNwCYdu\\u002f1pxA3AuD5yfWyMDcBIYCn9blQNwNqB4HxxHA3AaqOX\\u002fHPkDMD8xE58dqwMwIzmBfx4dAzAHgi9e3s8DMCuKXT7fQQMwEBLK3uAzAvA0mzi+oKUC8Bijpl6hVwLwPSvUPqHJAvAhNEHeorsCsAW8775jLQKwKYUdnmPfArAODYt+ZFECsDIV+R4lAwKwFp5m\\u002fiW1AnA6ppSeJmcCcB8vAn4m2QJwAzewHeeLAnAnv9396D0CMAuIS93o7wIwMBC5valhAjAUGSddqhMCMDihVT2qhQIwHKnC3at3AfABMnC9a+kB8CU6nl1smwHwCYMMfW0NAfAuC3odLf8BsBIT5\\u002f0ucQGwNpwVnS8jAbAapIN9L5UBsD8s8RzwRwGwIzVe\\u002fPD5AXAHvcyc8asBcCuGOryyHQFwEA6oXLLPAXA0FtY8s0EBcBifQ9y0MwEwPKexvHSlATAhMB9cdVcBMAU4jTx1yQEwKYD7HDa7APANiWj8Ny0A8DIRlpw33wDwFhoEfDhRAPA6onIb+QMA8B6q3\\u002fv5tQCwAzNNm\\u002fpnALAnu7t7utkAsAuEKVu7iwCwMAxXO7w9AHAUFMTbvO8AcDidMrt9YQBwHKWgW34TAHABLg47foUAcCU2e9s\\u002fdwAwCb7puz\\u002fpADAthxebAJtAMBIPhXsBDUAwLC\\u002fmNcO+v+\\u002f1AIH1xOK\\u002f7\\u002f0RXXWGBr\\u002fvxiJ49Udqv6\\u002fOMxR1SI6\\u002fr9cD8DUJ8r9v3xSLtQsWv2\\u002foJWc0zHq\\u002fL\\u002fA2ArTNnr8v+QbedI7Cvy\\u002fCF\\u002fn0UCa+78oolXRRSr7v0zlw9BKuvq\\u002fbCgy0E9K+r+Qa6DPVNr5v7CuDs9Zavm\\u002f1PF8zl76+L\\u002f0NOvNY4r4vxh4Wc1oGvi\\u002fOLvHzG2q979c\\u002fjXMcjr3v3xBpMt3yva\\u002foIQSy3xa9r\\u002fAx4DKger1v+QK78mGevW\\u002fBE5dyYsK9b8okcvIkJr0v0jUOciVKvS\\u002fbBeox5q687+MWhbHn0rzv7CdhMak2vK\\u002f0ODyxalq8r\\u002f0I2HFrvrxvxhnz8SzivG\\u002fOKo9xLga8b9c7avDvarwv3wwGsPCOvC\\u002fQOcQhY+V77+Abe2DmbXuv8jzyYKj1e2\\u002fCHqmga317L9QAIOAtxXsv5CGX3\\u002fBNeu\\u002f2Aw8fstV6r8Ykxh91XXpv2AZ9Xvflei\\u002foJ\\u002fReum157\\u002foJa5589Xmvyisinj99eW\\u002fcDJndwcW5b+wuEN2ETbkv\\u002fg+IHUbVuO\\u002fOMX8cyV24r+AS9lyL5bhv8jRtXE5tuC\\u002fELAk4Yas37+gvN3emuzdvyDJltyuLNy\\u002fsNVP2sJs2r8w4gjY1qzYv8DuwdXq7Na\\u002fQPt60\\u002f4s1b\\u002fQBzTREm3Tv1AU7c4mrdG\\u002fwEFMmXXaz7\\u002fAWr6UnVrMv+BzMJDF2si\\u002f4Iyii+1axb8AphSHFdvBvwB+DQV7try\\u002fQLDx+8q2tb+AxKvlNW6tvwBS6Kar3Z6\\u002fANDIE1z3Zr8AHfah1B+ZPwCqMmNKj6o\\u002fACO1OlVHtD\\u002fA8NBDBUe7P0BfdqZaI8E\\u002fQEYEqzKjxD9ALZKvCiPIP0AUILTioss\\u002fAPutuLoizz8A8Z1eSVHRP4Dk5GA1EdM\\u002fANgrYyHR1D9gy3JlDZHWP+C+uWf5UNg\\u002fYLIAauUQ2j\\u002fgpUds0dDbP0CZjm69kN0\\u002fwIzVcKlQ3z8gQI65SojgP+C5sbpAaOE\\u002fkDPVuzZI4j9Qrfi8LCjjPw==\"},\"y\":{\"dtype\":\"f8\",\"bdata\":\"yc0CuboHIy6sENBDWH3SLp9ElcGw8H4vBLU5+\\u002f9KJjDVf2XqG6rLMLBDUgtIkG0xN7Rq99k0CzLzi1ONlY+lMmygNCG+bT0zN0b9HpFL0TOzTIXUj4FhNFBs4F2+hO40LABFjHTodjWX1f5QnZ39NXOJhJNSfIA23aZsBEGc\\u002fzaEjJ4nBxl6N5IGZHkJjvI3ljHjKny4Zjg8XdHEcPXXONCh83alwUU5dz3M\\u002fW0DsTla0qLDB+oWOqDpJpmUk3o6ekIR8VSL2jrMkmljuNQ2O22dKEsX6ZA7zzmjqYyS5Tvc3Tap1rI3PGSQvPJha4Y8AkZGg7ZD0jwlfhN1jaAZPdxUqfoS9149kYHrkSgcoD2SWyX0597cPZcUohkWRxY+Z8NsU1qbTT6gme3aJfGAPg1DK1eCsrA+EpsHXq5X3D5amk4S+7YEP4pEnOVQEyo\\u002fvdyINBVETD+6IfJf12JqP9FYU\\u002fcVNoU\\u002fVWUb1RlenT9yIb9034GxP1lhQBG6+cE\\u002f2OnaB4XJzz\\u002fVE\\u002f+CBjTYPyfnxgFkvd8\\u002fNPsA7wTs4T9GxJ2r3G3hP3AuJcVgMd0\\u002faCCpC70N1T8tAcZDqCbKP5WNAPjr+Ls\\u002f9wxMJCLEqT+APlkzRHCUP7fZcOhB7Hs\\u002fF6D9PPJsYD\\u002fbZ+fNNKRAP2hxICTMCR0\\u002fE90l1DnR9T4ezuNiYDvMPnq4u1zLdZ8+yFJESJcwbj5U6vnkxPI4PgdsjZrWwwE+6QcpgH6zyD0TUhw6UCnWPVqDoYK\\u002f1RA+j1l+SaXBRj75uB8TXn56PraZ\\u002fWbXj6o+9Wr588ju1j6f9TNO5AwBP\\u002fzpbaRX1SU\\u002fEbPXqoETSD+D4MOX89xmP57jPXJSsoI\\u002fCud1mjlVmj8tslEsR\\u002fCvP8+o0znyrcA\\u002fAuLFKzMBzj8tFEUxkj3XPxJ\\u002fCUTsAN8\\u002f28XhUP3O4T+n+TTqMJ7hP5dMB5\\u002fGBN4\\u002f+d6sfOYF1j+XO9ZI1NPLPyiBxkCRR74\\u002f6uY6AX5frD\\u002fXFhY+IeWWPwkvEQqt0X8\\u002fa6cwNWsKYz9DCxdSwZ9DPxnWSF7CaiE\\u002fKetSp7Kf+j4clbAdpYbRPst4taeCGqQ+IIkHs0DYgj5ezAne7BKjPsFuH4Smq9A+Idi7JL1s+T4CuVlg67IgP5XHLTPR40I\\u002fSfdqscRmYj99KA8Ak99+P2dpEiSYTZY\\u002fTQILk+a\\u002fqz8S5JrWd7u9P2rheo\\u002f0bss\\u002fMPeiPjjM1T8cLN0heNTdP3cyqfOzk+E\\u002fE15GIITW4T+EyChRti3fP1SyBvb9dtc\\u002f8r3YQz5qzj8qMEssl\\u002fnAP2rFeB8lUbA\\u002fSkX2R3IDmz9QrzMUl0GDP1e48z8spGc\\u002f1xSiN7P+SD+dgYLlwMEmP42FSTal1wE\\u002fF85gdfkX2D71A\\u002ff0iASsPhXJNPCdDnw+BhwCUQUySD62xACC1vcRPmnuy2NR+9Y9wDAD0hpQmT2soThvaQJYPYyCU\\u002fJunBM9BI0c27KWyzxemNVsF7aAPIf0Od0gbzE8Px+L71ZT3zuSoVFkOjyIOydvEkl9JTA7vfaChgeH0jqsWpQdyE5yOnTSC4pWKA86SUQQYPjUpjk\\u002fgues2dA8OfRqismCUc84zMV39OpPXTg6slzPEKDnN2eE73vUZXA3NuN42iSa8zbV09cd2C10Nt4jB6WD4\\u002fE1O9glmzVQazUia9jpiOMANX+kpEdpZII1Qm6l2hh+Bzb1v+odRNeJNgbgs7Yyegg3bkReV2n3gzfMdNrUCg38NzIq6Tzx93A4J3En7r+t4TiYZkCp87hPOTxaWk1qgrg5335hAKVOIDo\\u002fBCVF1K+COqDSFRLCcOI6zyGsF2NXPzuahvHuj++WO5eeFTl56Ow7nZzBIWZgPzzlk2YXxVONPI8b9RwOm9c8pqbcK7pcID04o5INjIhjPfmYJ2PTFKQ9a6P3NznH4T1ACWIzlRsbPkmNYtAMzFE+fGI4MrwfhD6Q1pQdeZizPsnNfiSGbuA+PDYxkSq7Bz89+isbq4MtP9z625c3nE8\\u002ffNdvCH4nbT8Slt9i1yeHP+Vgb77hrJ8\\u002fa4O25h6osj9tYz9uEO3CP9cbqsmQiNA\\u002fbJfVPzfg2D+ZwpebjB3gPyt88PAn++E\\u002fJ0tJsuxG4T+t49XzXJfcP2SVvWdkX9Q\\u002fnin2b3MAyT9oIMXVKWy6P7n28RT8C6g\\u002ffTyqZ5jYkj+QT5vrS3B5PwiZGAXakV0\\u002fqh4Ln2eZPT+gMhhMz4MZP8ml74228PI+F6TmPRw3yD51uwxAJqmaPs\\u002fkokgNR2k+4oC183KjND7YjX\\u002fyrQX9PZbVZtKMksE9PjEr\\u002fjVTgj2wFzNt3XRAPWLeafK8dvk8My7IbZoJtjy97aLBiTbgPGkvNaQDCyY9XfezWOjtaT16IsYwGUSqPZ3bic+o6eY9hvOxCls2IT4T6zHHA0VWPiCxMljqz4g+6NIet3zOtz636k6glKvjPpeX3xDr\\u002fQs\\u002fB0OZ4M0mMT8omQ6OrhlSP1sKrYYHc3A\\u002fMj1LuyK\\u002fiT8IVQdtCVqhP7BogTwDJLQ\\u002fmxAVMMchxD\\u002fHQjCQQ1TRPxK3q4ndsNk\\u002fqkirV0Vm4D90Pb+xowfiP3KiKNLqEeE\\u002fGlBQVqbV2z9S4gmz8YrTP18rvZa9occ\\u002f5g5AjNCbuD+bRlldWhGmPy41uFekCpE\\u002f3ADNlW+qdj\\u002f4\\u002f4Wc2\\u002fVZP4VJkgb8mjk\\u002f5i2bUqe\\u002fFT+CHGuN19DvPt0StahNCsQ+k4R8Cp69lT54l\\u002fsRhk9kPj+eZ2UOVzA+FtHmYxKk9j2ir8Lp+gO7Pa3qwBh3wns9aJ7Ni02QOD0LoIJLvbfyPAu\\u002fYYO6kKg8v0r0ZG3DWzzqAg54YgULPIhZTS6kpbY7ujBf4HhYYDuYcjzDolEEOyyVRElBwKU68ORnCBUNRDotoewjztXfOX8Q32hsw3U5kDeF692fCTk0wwYVQvuZOIENnDyLryY4+9T0LscOsTdcl3R8Fxc2N9nOqBmkorg28iXTt7SoNzZyjZoVC5GzNQMwUNfR3is1rvVLcxMdoTTejfjJKiuUNMCkawximSA1DwjtDZecpzUkLZApXewsNgySf9usgq429RQXyUa3KzffdlgTea6lN28YhJ1CNh04Pv2LolDykDi4s17un+4AOcUnVGkxI205fgu8CuiW1TlfHyH2Io07OkcSuUkVR546Ws7vbWCn\\u002fDp2glu+FlpXOzW0mU18Y7A7fH8gAjfPAzzeTUXRop5UPOd+odmie6I80Fn4x9eI7Dw34ZWGy\\u002fcyPUQ7Z4tLt3U9oF\\u002fqgf1otT2r7Qj8ey3yPZC1FdSslCo+mhbtbl28YD6oZJOx9SWSPu\\u002fMVSGM8sA+ZWPk6d9B6z7lZE8pR+ASP4RT3YOOgzY\\u002f8EVeMNQfVz\\u002fi50G+GHR0PwAm0WqRKI8\\u002f\\u002fadnnBRwpD8QxtVOwBa3P+AflgNOdsY\\u002fl23iKXjR0j8Au9C4JyfbP2pnXY6e3uA\\u002fN8OGkxIN4j+1nUVuJaLgP4+xd3zYZdo\\u002f3zZYH+oJ0j80qj9n7DrFPyjDo4lXhLU\\u002f3718c5nHoj+6bgzTyjqMP1P1pz19RXI\\u002foHeZHTpeVD99wzmdfo0zP2tfvx\\u002fwKRA\\u002f7puPV5ED5z78Ao6nqje8PrClOw0wy40+0GHd7BIXWz5yuvcfOTYlPvXiTTAWm+w9p5n6h0ScsD1s3Eafn5xwPeceGNnsnCw9Z5u52H445TwV\\u002f74dIxubPPhZgQjv0E080l3Ni1E+\\u002fDtJJard+gmnO\\u002fpl9ociL1A7jt86r56U8zpS0FX5hWaUOpsr1DO3TTI6TFHuvrZIzDmYqby3qtFiOYay1fXMkPU4i9z0syBIhTjcXtOc6BUSONL13iCIeJo3q\\u002f+6kaKuIDeJBD7IZhuiNi+p8Ee87CA2TFCXFws\\u002fmzWvrMmC1eISNcl\\u002f5Wb\\u002fi4Y0vsXj2Qou9zPQMg2Xk4VkMySyayWuSs8yUUH6gl6LNDKgQqGwIjuXMTJvgo8cn\\u002fYwB42+cDH4UjBYFxQElWWrL1TgwoR6CQEvF7WmJUw\\u002fUi4+eI9S0xShLUhBdcJO9\\u002fIt243CrhBAoy4JLuAfG9RQL8VNcrh5V\\u002fkvqVHYyydvoDBRkzPK51tCMdX\\u002fcNw4quExB9J1a7BHfTLYuzAQu+YUM2GTVnzvs6kzXsV7Ja05OzTR11+9CtfING5TFlWjhVM19cBrD5Bu2jWAg0M21tNeNoz6A72w+N42Bw\\u002fNr+nNWjeukMzg1fvTNwzLzsZTq0k4n9fyvaRnvDjrG6x\\u002fEhQrORhWNF0nPZY5\\u002fzF\\u002flWR4\\u002fzkjmZPbDi9jOoR6TWyFJsQ6UC1Lqmw8IjtkkgVET3B8OwplR0ktG9M7ylpR28oeJjzfbh4yIRF2PHGlFnr498I8qxWSI7sZDD3D4AAQn+9RPZCoDQoNu5M9iP8cxky00j2rAnDWkY8OPlpr+a8chEU+0tccWCIcej49ggjNk06rPtNynI4hndg+ia9\\u002fgUMfAz+q0XmD8ZspP1+pklg9kE0\\u002f6mk+jt5rbT+MOSjnHj+JPwCTgIG1r6I\\u002fq94ByfXftz9pLxWdGlzKP7zb6EaoNNk\\u002fh2cnkrv15D9cJdiLKYnuP013+ejNufM\\u002f2c2FMSwH9z\\u002fNIRmqi+D4Pyj02W1Fa\\u002fk\\u002fWZ3WedLH+D8QWSfIz9H2P9mCGdv+aPM\\u002fxU\\u002f+uNnJ7T80zq2pnD\\u002fkP3bwjTcPGdg\\u002f+mOkZWPuyD\\u002fBnl7Mw1W2P+TBgxcdSqE\\u002f7Nxx0U4ahz+wDIbHraBqP+YqaD6cdko\\u002fHI8lDGmsJj\\u002fONoGa8b4AP4bw2KxDUtU+Dv48wwZmpz69KkKduCF2PmbmFOi2CkI+yquOOABaCT6+x2FsUbPOPQc3Aa8ZBZA90CfT7tbQTD3KVc8fVlUGPVo3su7x1L08weu+cy8rcTy6jsSLSQchPHhBeqEoG807wI3YBPVudTtAnu633jIbO68oroj2vL065sy6BqEDXDoHs7bgo7z2OYDS7QApzI85pqxFpNMnIzkgYslHH+KzOKiRhs6yx0E49q7OEdFkyzcjofB05i1SN3YiViYTydQ26sOO5Nl4VDZzDigcfV7RNYVmTi9UY0k1tjaRrh\\u002f3vzTXjfsLcVUxNMFHDwBeMaAzpj1P1zQPCjNAc0eItw9yMqGuCKF\\u002fkNUxcj6bAictNjF\\u002fV+4fjqSTMHO1BQeW+O0vGn0ZVIaxQy+oTvlhXUqWLon1TuLkuuUt2g9jUrM+Mi3QKlV0EWN6LNcSrz0Ub8ArQQZLL0ahASv9MU7y8ElAKsCZuTs\\u002f7HkpumoexNvDsShvLAQIWfjkJzBohjV4URUnzpQ78h2qQiYAUVVtgyVsJY8ynykCR5IkXuEiSl9xtCN+y96p\\u002f7DTIg==\"},\"type\":\"scatter\"}],                        {\"template\":{\"data\":{\"scatter\":[{\"type\":\"scatter\"}]}},\"font\":{\"size\":20},\"xaxis\":{\"zeroline\":false,\"showline\":true,\"mirror\":true,\"ticks\":\"outside\",\"title\":{\"text\":\"E - E\\u003csub\\u003eF\\u003c\\u002fsub\\u003e [eV]\"}},\"yaxis\":{\"showline\":true,\"mirror\":true,\"ticks\":\"outside\",\"title\":{\"text\":\"DOS\"}},\"hoverlabel\":{\"bgcolor\":\"black\"},\"width\":800,\"height\":600},                        {\"responsive\": true}                    ).then(function(){\n",
       "                            \n",
       "var gd = document.getElementById('147faae7-3fdf-472a-a326-55dfb1585116');\n",
       "var x = new MutationObserver(function (mutations, observer) {{\n",
       "        var display = window.getComputedStyle(gd).display;\n",
       "        if (!display || display === 'none') {{\n",
       "            console.log([gd, 'removed!']);\n",
       "            Plotly.purge(gd);\n",
       "            observer.disconnect();\n",
       "        }}\n",
       "}});\n",
       "\n",
       "// Listen for the removal of the full notebook cells\n",
       "var notebookContainer = gd.closest('#notebook-container');\n",
       "if (notebookContainer) {{\n",
       "    x.observe(notebookContainer, {childList: true});\n",
       "}}\n",
       "\n",
       "// Listen for the clearing of the current output cell\n",
       "var outputEl = gd.closest('.output');\n",
       "if (outputEl) {{\n",
       "    x.observe(outputEl, {childList: true});\n",
       "}}\n",
       "\n",
       "                        })                };            </script>        </div>"
      ]
     },
     "metadata": {},
     "output_type": "display_data"
    }
   ],
   "source": [
    "plot_dos(scf)"
   ]
  },
  {
   "cell_type": "code",
   "execution_count": 5,
   "id": "b6aab018-dde1-45aa-85d8-d9d738507960",
   "metadata": {},
   "outputs": [
    {
     "data": {
      "text/html": [
       "<div>            <script src=\"https://cdnjs.cloudflare.com/ajax/libs/mathjax/2.7.5/MathJax.js?config=TeX-AMS-MML_SVG\"></script><script type=\"text/javascript\">if (window.MathJax && window.MathJax.Hub && window.MathJax.Hub.Config) {window.MathJax.Hub.Config({SVG: {font: \"STIX-Web\"}});}</script>                <script type=\"text/javascript\">window.PlotlyConfig = {MathJaxConfig: 'local'};</script>\n",
       "        <script charset=\"utf-8\" src=\"https://cdn.plot.ly/plotly-3.0.1.min.js\"></script>                <div id=\"14dcc0c3-4093-4f25-b96b-7ea3d00013d6\" class=\"plotly-graph-div\" style=\"height:600px; width:800px;\"></div>            <script type=\"text/javascript\">                window.PLOTLYENV=window.PLOTLYENV || {};                                if (document.getElementById(\"14dcc0c3-4093-4f25-b96b-7ea3d00013d6\")) {                    Plotly.newPlot(                        \"14dcc0c3-4093-4f25-b96b-7ea3d00013d6\",                        [{\"mode\":\"lines+markers\",\"name\":\"Band 1\",\"x\":{\"dtype\":\"f8\",\"bdata\":\"AAAAAAAAAAAYj6jjl2nBPxiPqOOXadE\\u002fpNZ81WMe2j8Yj6jjl2nhP95YLsgHb+U\\u002fpCK0rHd06T9q7DmR53ntPxjb37qrv\\u002fA\\u002f+78irWPC8j8=\"},\"y\":{\"dtype\":\"f8\",\"bdata\":\"60A1abi1I8Ahp1VMPU4lwCABJPTWRyfAbrASUfiiKMBWRxlTvBgpwAwyaufgrijA3QA7LMx2J8BUh0VPrpolwMCFOoaIDCPAWQSFotXFH8A=\"},\"type\":\"scatter\"},{\"mode\":\"lines+markers\",\"name\":\"Band 2\",\"x\":{\"dtype\":\"f8\",\"bdata\":\"AAAAAAAAAAAYj6jjl2nBPxiPqOOXadE\\u002fpNZ81WMe2j8Yj6jjl2nhP95YLsgHb+U\\u002fpCK0rHd06T9q7DmR53ntPxjb37qrv\\u002fA\\u002f+78irWPC8j8=\"},\"y\":{\"dtype\":\"f8\",\"bdata\":\"MImepJubHsCXssTcLc4ZwJL+jQtfvxDAwHLp1K+Q+r8A77I5iyS1P8j91hFPWOe\\u002fwh7W\\u002fAwOA8DRpPCJd\\u002f8QwPQc8Zv3lhjAS4M6CSS0H8A=\"},\"type\":\"scatter\"},{\"mode\":\"lines+markers\",\"name\":\"Band 3\",\"x\":{\"dtype\":\"f8\",\"bdata\":\"AAAAAAAAAAAYj6jjl2nBPxiPqOOXadE\\u002fpNZ81WMe2j8Yj6jjl2nhP95YLsgHb+U\\u002fpCK0rHd06T9q7DmR53ntPxjb37qrv\\u002fA\\u002f+78irWPC8j8=\"},\"y\":{\"dtype\":\"f8\",\"bdata\":\"MBEOwcAx9b\\u002fcqIS04k3zvxiFM\\u002fRiCeu\\u002foD22PaQ507\\u002fAMMz+QvK1P8jqZHmluOa\\u002fKBeMR2m7\\u002fL\\u002f+EB2kxCkFwFCVueLGXAnAzsggiiPFCsA=\"},\"type\":\"scatter\"},{\"mode\":\"lines+markers\",\"name\":\"Band 4\",\"x\":{\"dtype\":\"f8\",\"bdata\":\"AAAAAAAAAAAYj6jjl2nBPxiPqOOXadE\\u002fpNZ81WMe2j8Yj6jjl2nhP95YLsgHb+U\\u002fpCK0rHd06T9q7DmR53ntPxjb37qrv\\u002fA\\u002f+78irWPC8j8=\"},\"y\":{\"dtype\":\"f8\",\"bdata\":\"+FtVPikR9b\\u002fcBz76BCzzv6ChFHD4wOq\\u002fIFqQVKad0r8AuVZV7724PxBf3T5a8uS\\u002fEH9D8ryu+7\\u002fo9Gh\\u002f554EwDwk\\u002fL8X0AjAqry5\\u002fQc4CsA=\"},\"type\":\"scatter\"},{\"line\":{\"dash\":\"dash\"},\"mode\":\"lines+markers\",\"name\":\"Unocc. band 1\",\"x\":{\"dtype\":\"f8\",\"bdata\":\"AAAAAAAAAAAYj6jjl2nBPxiPqOOXadE\\u002fpNZ81WMe2j8Yj6jjl2nhP95YLsgHb+U\\u002fpCK0rHd06T9q7DmR53ntPxjb37qrv\\u002fA\\u002f+78irWPC8j8=\"},\"y\":{\"dtype\":\"f8\",\"bdata\":\"ANMXWAlc\\u002fz9Y9EXe9T\\u002f+P8y1nTtdaAFA7GbHuHgPBEDs8L3LIrcBQIBfwRysePw\\u002fQMPtx1Y97j9gB3OdkWDQP0BKBAEXMbm\\u002fADy7yw1ph78=\"},\"type\":\"scatter\"},{\"line\":{\"dash\":\"dash\"},\"mode\":\"lines+markers\",\"name\":\"Unocc. band 2\",\"x\":{\"dtype\":\"f8\",\"bdata\":\"AAAAAAAAAAAYj6jjl2nBPxiPqOOXadE\\u002fpNZ81WMe2j8Yj6jjl2nhP95YLsgHb+U\\u002fpCK0rHd06T9q7DmR53ntPxjb37qrv\\u002fA\\u002f+78irWPC8j8=\"},\"y\":{\"dtype\":\"f8\",\"bdata\":\"pNyE\\u002faW0BkB0DDLWwxIIQKjHhns19glACN29ctUSBkCE2DhASNEBQEBiV78rrwlAdH8YTposC0AYyXEudkr6PwAR8wG2IuE\\u002fAOjZa6N2mT8=\"},\"type\":\"scatter\"},{\"line\":{\"dash\":\"dash\"},\"mode\":\"lines+markers\",\"name\":\"Unocc. band 3\",\"x\":{\"dtype\":\"f8\",\"bdata\":\"AAAAAAAAAAAYj6jjl2nBPxiPqOOXadE\\u002fpNZ81WMe2j8Yj6jjl2nhP95YLsgHb+U\\u002fpCK0rHd06T9q7DmR53ntPxjb37qrv\\u002fA\\u002f+78irWPC8j8=\"},\"y\":{\"dtype\":\"f8\",\"bdata\":\"FI1r9q3DBkC8BaflEiMIQPhfduNqCgpAAB7icGkrBkD0XfgX7dQBQDgEM9oWFgpAbBqeVKXaE0BSW0OlhYkbQKuIhO\\u002fXwiFAmyStFMIjJUA=\"},\"type\":\"scatter\"},{\"line\":{\"dash\":\"dash\"},\"mode\":\"lines+markers\",\"name\":\"Unocc. band 4\",\"x\":{\"dtype\":\"f8\",\"bdata\":\"AAAAAAAAAAAYj6jjl2nBPxiPqOOXadE\\u002fpNZ81WMe2j8Yj6jjl2nhP95YLsgHb+U\\u002fpCK0rHd06T9q7DmR53ntPxjb37qrv\\u002fA\\u002f+78irWPC8j8=\"},\"y\":{\"dtype\":\"f8\",\"bdata\":\"+Dcsvna3GkDwqW\\u002fupbobQNQtUxse\\u002fBtAdGJwjWSxFkCqOnHaoUMSQDQufn+cAhRAvPt6RywOFECMBcfbDbUbQPsNaxro0yFAYQHtmjZxJUA=\"},\"type\":\"scatter\"}],                        {\"template\":{\"data\":{\"scatter\":[{\"type\":\"scatter\"}]}},\"font\":{\"size\":20},\"xaxis\":{\"zeroline\":false,\"showline\":true,\"mirror\":true,\"ticks\":\"outside\",\"tickmode\":\"array\",\"tickvals\":{\"dtype\":\"f8\",\"bdata\":\"AAAAAAAAAAAYj6jjl2nhP\\u002fu\\u002fIq1jwvI\\u002f\"},\"ticktext\":[\"L\",\"Γ\",\"X\"],\"gridcolor\":\"grey\",\"gridwidth\":2,\"range\":[0,1.1724583399882238],\"title\":{\"text\":\"k-path\"}},\"yaxis\":{\"zeroline\":false,\"showline\":true,\"mirror\":true,\"ticks\":\"outside\",\"showgrid\":false,\"title\":{\"text\":\"E - E\\u003csub\\u003eF\\u003c\\u002fsub\\u003e [eV]\"}},\"hoverlabel\":{\"bgcolor\":\"black\"},\"width\":800,\"height\":600,\"showlegend\":false},                        {\"responsive\": true}                    ).then(function(){\n",
       "                            \n",
       "var gd = document.getElementById('14dcc0c3-4093-4f25-b96b-7ea3d00013d6');\n",
       "var x = new MutationObserver(function (mutations, observer) {{\n",
       "        var display = window.getComputedStyle(gd).display;\n",
       "        if (!display || display === 'none') {{\n",
       "            console.log([gd, 'removed!']);\n",
       "            Plotly.purge(gd);\n",
       "            observer.disconnect();\n",
       "        }}\n",
       "}});\n",
       "\n",
       "// Listen for the removal of the full notebook cells\n",
       "var notebookContainer = gd.closest('#notebook-container');\n",
       "if (notebookContainer) {{\n",
       "    x.observe(notebookContainer, {childList: true});\n",
       "}}\n",
       "\n",
       "// Listen for the clearing of the current output cell\n",
       "var outputEl = gd.closest('.output');\n",
       "if (outputEl) {{\n",
       "    x.observe(outputEl, {childList: true});\n",
       "}}\n",
       "\n",
       "                        })                };            </script>        </div>"
      ]
     },
     "metadata": {},
     "output_type": "display_data"
    }
   ],
   "source": [
    "# Test the selection of the spin channel\n",
    "plot_bandstructure(scf, spin=1)"
   ]
  },
  {
   "cell_type": "code",
   "execution_count": 6,
   "id": "7288db28-73a2-4131-998a-20d3d3df20ae",
   "metadata": {},
   "outputs": [
    {
     "data": {
      "text/html": [
       "<div>            <script src=\"https://cdnjs.cloudflare.com/ajax/libs/mathjax/2.7.5/MathJax.js?config=TeX-AMS-MML_SVG\"></script><script type=\"text/javascript\">if (window.MathJax && window.MathJax.Hub && window.MathJax.Hub.Config) {window.MathJax.Hub.Config({SVG: {font: \"STIX-Web\"}});}</script>                <script type=\"text/javascript\">window.PlotlyConfig = {MathJaxConfig: 'local'};</script>\n",
       "        <script charset=\"utf-8\" src=\"https://cdn.plot.ly/plotly-3.0.1.min.js\"></script>                <div id=\"410dd9c6-8ee0-4483-8ab1-672b1f1349e4\" class=\"plotly-graph-div\" style=\"height:600px; width:800px;\"></div>            <script type=\"text/javascript\">                window.PLOTLYENV=window.PLOTLYENV || {};                                if (document.getElementById(\"410dd9c6-8ee0-4483-8ab1-672b1f1349e4\")) {                    Plotly.newPlot(                        \"410dd9c6-8ee0-4483-8ab1-672b1f1349e4\",                        [{\"marker\":{\"color\":\"red\"},\"mode\":\"lines+markers\",\"name\":\"Spin 2\",\"x\":{\"dtype\":\"f8\",\"bdata\":\"VkcZU7wYKsCWAUU2vAoqwNa7cBm8\\u002fCnAFnac\\u002fLvuKcBXMMjfu+ApwJfq88K70inA2KQfprvEKcAYX0uJu7YpwFgZd2y7qCnAmNOiT7uaKcDYjc4yu4wpwBhI+hW7finAWQIm+bpwKcCZvFHcumIpwNp2fb+6VCnAGjGporpGKcBa69SFujgpwJqlAGm6KinA2l8sTLocKcAaGlgvug4pwFvUgxK6ACnAm46v9bnyKMDcSNvYueQowBwDB7y51ijAXL0yn7nIKMCcd16CuboowNwximW5rCjAHOy1SLmeKMBcpuEruZAowJ1gDQ+5gijA3Ro58rh0KMAe1WTVuGYowF6PkLi4WCjAnkm8m7hKKMDeA+h+uDwowB6+E2K4LijAXng\\u002fRbggKMCfMmsouBIowN\\u002fslgu4BCjAIKfC7rf2J8BgYe7Rt+gnwKAbGrW32ifA4NVFmLfMJ8AgkHF7t74nwGBKnV63sCfAoQTJQbeiJ8DhvvQkt5QnwCF5IAi3hifAYjNM67Z4J8Ci7XfOtmonwOKno7G2XCfAImLPlLZOJ8BiHPt3tkAnwKPWJlu2MifA45BSPrYkJ8AjS34hthYnwGQFqgS2CCfApL\\u002fV57X6JsDkeQHLtewmwCQ0La613ibAZO5YkbXQJsClqIR0tcImwOVisFe1tCbAJR3cOrWmJsBm1wcetZgmwKaRMwG1iibA5ktf5LR8JsAmBovHtG4mwGbAtqq0YCbApnrijbRSJsDnNA5xtEQmwCfvOVS0NibAZ6llN7QoJsCoY5EatBomwOgdvf2zDCbAKNjo4LP+JcBokhTEs\\u002fAlwKhMQKez4iXA6QZsirPUJcApwZdts8YlwGl7w1CzuCXAqjXvM7OqJcDq7xoXs5wlwCqqRvqyjiXAamRy3bKAJcCqHp7AsnIlwOvYyaOyZCXAK5P1hrJWJcBrTSFqskglwKwHTU2yOiXA7MF4MLIsJcAsfKQTsh4lwGw20PaxECXArPD72bECJcDsqie9sfQkwC1lU6Cx5iTAbR9\\u002fg7HYJMCt2apmscokwO6T1kmxvCTALk4CLbGuJMBuCC4QsaAkwK7CWfOwkiTA7nyF1rCEJMAvN7G5sHYkwG\\u002fx3JywaCTAr6sIgLBaJMDwZTRjsEwkwDAgYEawPiTAcNqLKbAwJMCwlLcMsCIkwPBO4++vFCTAMQkP068GJMBxwzq2r\\u002fgjwLF9Zpmv6iPA8jeSfK\\u002fcI8Ay8r1fr84jwHKs6UKvwCPAsmYVJq+yI8DyIEEJr6QjwDPbbOyuliPAc5WYz66II8CzT8SyrnojwPMJ8JWubCPANMQbea5eI8B0fkdcrlAjwLQ4cz+uQiPA9PKeIq40I8A0rcoFriYjwHVn9uitGCPAtSEizK0KI8D1202vrfwiwDaWeZKt7iLAdlClda3gIsC2CtFYrdIiwPbE\\u002fDutxCLANn8oH622IsB3OVQCragiwLfzf+WsmiLA962ryKyMIsA3aNerrH4iwHgiA4+scCLAuNwucqxiIsD4llpVrFQiwDhRhjisRiLAeQuyG6w4IsC5xd3+qyoiwPl\\u002fCeKrHCLAOTo1xasOIsB69GCoqwAiwLqujIur8iHA+mi4bqvkIcA6I+RRq9YhwHrdDzWryCHAu5c7GKu6IcD7UWf7qqwhwDsMk96qniHAfMa+waqQIcC8gOqkqoIhwPw6FoiqdCHAPPVBa6pmIcB8r21OqlghwL1pmTGqSiHA\\u002fSPFFKo8IcA93vD3qS4hwH2YHNupICHAvlJIvqkSIcD+DHShqQQhwD7Hn4Sp9iDAfoHLZ6noIMC\\u002fO\\u002fdKqdogwP\\u002f1Ii6pzCDAP7BOEam+IMB\\u002fanr0qLAgwMAkpteooiDAAN\\u002fRuqiUIMBAmf2dqIYgwIBTKYGoeCDAwQ1VZKhqIMAByIBHqFwgwEGCrCqoTiDAgTzYDahAIMDB9gPxpzIgwAKxL9SnJCDAQmtbt6cWIMCCJYeapwggwIW\\u002fZftO9R\\u002fABTS9wU7ZH8CGqBSITr0fwAYdbE5OoR\\u002fAh5HDFE6FH8AHBhvbTWkfwIh6cqFNTR\\u002fACO\\u002fJZ00xH8CJYyEuTRUfwAnYePRM+R7AikzQukzdHsAKwSeBTMEewIs1f0dMpR7AC6rWDUyJHsCMHi7US20ewAyThZpLUR7AjQfdYEs1HsANfDQnSxkewI7wi+1K\\u002fR3ADmXjs0rhHcCO2Tp6SsUdwA9OkkBKqR3Aj8LpBkqNHcAQN0HNSXEdwJCrmJNJVR3AESDwWUk5HcCRlEcgSR0dwBIJn+ZIAR3Akn32rEjlHMAT8k1zSMkcwJNmpTlIrRzAFNv8\\u002f0eRHMCUT1TGR3UcwBXEq4xHWRzAlTgDU0c9HMAWrVoZRyEcwJYhst9GBRzAF5YJpkbpG8CXCmFsRs0bwBh\\u002fuDJGsRvAmPMP+UWVG8AYaGe\\u002fRXkbwJncvoVFXRvAGlEWTEVBG8CaxW0SRSUbwBo6xdhECRvAm64cn0TtGsAcI3RlRNEawJyXyytEtRrAHAwj8kOZGsCdgHq4Q30awB710X5DYRrAnmkpRUNFGsAe3oALQykawJ9S2NFCDRrAH8cvmELxGcCgO4deQtUZwCCw3iRCuRnAoSQ260GdGcAhmY2xQYEZwKIN5XdBZRnAIoI8PkFJGcCj9pMEQS0ZwCNr68pAERnApN9CkUD1GMAkVJpXQNkYwKXI8R1AvRjAJT1J5D+hGMCmsaCqP4UYwCYm+HA\\u002faRjAp5pPNz9NGMAnD6f9PjEYwKiD\\u002fsM+FRjAKPhVij75F8CpbK1QPt0XwCnhBBc+wRfAqlVc3T2lF8AqyrOjPYkXwKo+C2o9bRfAK7NiMD1RF8CsJ7r2PDUXwCycEb08GRfArBBpgzz9FsAthcBJPOEWwK75FxA8xRbALm5v1jupFsCu4sacO40WwC9XHmM7cRbAsMt1KTtVFsAwQM3vOjkWwLC0JLY6HRbAMSl8fDoBFsCyndNCOuUVwDISKwk6yRXAsoaCzzmtFcAz+9mVOZEVwLRvMVw5dRXANOSIIjlZFcC0WODoOD0VwDTNN684IRXAtUGPdTgFFcA2tuY7OOkUwLYqPgI4zRTANp+VyDexFMC3E+2ON5UUwDiIRFU3eRTAuPybGzddFMA4cfPhNkEUwLnlSqg2JRTAOlqibjYJFMC6zvk0Nu0TwDpDUfs10RPAu7eowTW1E8A8LACINZkTwLygV041fRPAPBWvFDVhE8C9iQbbNEUTwD7+XaE0KRPAvnK1ZzQNE8A+5wwuNPESwL9bZPQz1RLAQNC7ujO5EsDARBOBM50SwEC5akczgRLAwC3CDTNlEsBBohnUMkkSwMIWcZoyLRLAQovIYDIREsDC\\u002fx8nMvURwEN0d+0x2RHAxOjOszG9EcBEXSZ6MaERwMTRfUAxhRHARUbVBjFpEcDGuizNME0RwEYvhJMwMRHAxqPbWTAVEcBHGDMgMPkQwMiMiuYv3RDASAHirC\\u002fBEMDIdTlzL6UQwEnqkDkviRDAyl7o\\u002fy5tEMBK0z\\u002fGLlEQwMpHl4wuNRDAS7zuUi4ZEMCXYYwyXPoPwJhKO79bwg\\u002fAmDPqS1uKD8CZHJnYWlIPwJoFSGVaGg\\u002fAnO728VniDsCc16V+WaoOwJ7AVAtZcg7AnqkDmFg6DsCgkrIkWAIOwKB7YbFXyg3AomQQPleSDcCiTb\\u002fKVloNwKQ2bldWIg3ApB8d5FXqDMCkCMxwVbIMwKbxev1UegzAptopilRCDMCow9gWVAoMwKish6NT0gvAqpU2MFOaC8CqfuW8UmILwKxnlElSKgvArFBD1lHyCsCuOfJiUboKwK4ioe9QggrAsAtQfFBKCsCw9P4IUBIKwLLdrZVP2gnAssZcIk+iCcC0rwuvTmoJwLSYujtOMgnAtoFpyE36CMC2ahhVTcIIwLhTx+FMigjAuDx2bkxSCMC6JSX7SxoIwLoO1IdL4gfAvPeCFEuqB8C84DGhSnIHwLzJ4C1KOgfAvrKPukkCB8C+mz5HScoGwMCE7dNIkgbAwG2cYEhaBsDCVkvtRyIGwMI\\u002f+nlH6gXAxCipBkeyBcDEEViTRnoFwMb6BiBGQgXAxuO1rEUKBcDIzGQ5RdIEwMi1E8ZEmgTAyp7CUkRiBMDKh3HfQyoEwMxwIGxD8gPAzFnP+EK6A8DOQn6FQoIDwM4rLRJCSgPA0BTcnkESA8DQ\\u002fYorQdoCwNLmObhAogLA0s\\u002foREBqAsDUuJfRPzICwNShRl4\\u002f+gHA1or16j7CAcDWc6R3PooBwNZcUwQ+UgHA2EUCkT0aAcDYLrEdPeIAwNoXYKo8qgDA2gAPNzxyAMDc6b3DOzoAwNzSbFA7AgDAvHc3unWU\\u002f7+8SZXTdCT\\u002fv8Ab8+xztP6\\u002fwO1QBnNE\\u002fr\\u002fEv64fctT9v8SRDDlxZP2\\u002fyGNqUnD0\\u002fL\\u002fINchrb4T8v8wHJoVuFPy\\u002fzNmDnm2k+7\\u002fQq+G3bDT7v9B9P9FrxPq\\u002f1E+d6mpU+r\\u002fUIfsDauT5v9jzWB1pdPm\\u002f2MW2NmgE+b\\u002fclxRQZ5T4v9xpcmlmJPi\\u002f3DvQgmW097\\u002fgDS6cZET3v+Dfi7Vj1Pa\\u002f5LHpzmJk9r\\u002fkg0foYfT1v+hVpQFhhPW\\u002f6CcDG2AU9b\\u002fs+WA0X6T0v+zLvk1eNPS\\u002f8J0cZ13E87\\u002fwb3qAXFTzv\\u002fRB2Jlb5PK\\u002f9BM2s1p08r\\u002f45ZPMWQTyv\\u002fi38eVYlPG\\u002f\\u002fIlP\\u002f1ck8b\\u002f8W60YV7TwvwAuCzJWRPC\\u002fAADSlqqo778IpI3JqMjuvwhISfym6O2\\u002fEOwEL6UI7b8QkMBhoyjsvxg0fJShSOu\\u002fGNg3x59o6r8YfPP5nYjpvyAgryycqOi\\u002fIMRqX5rI578oaCaSmOjmvygM4sSWCOa\\u002fMLCd95Qo5b8wVFkqk0jkvzj4FF2RaOO\\u002fOJzQj4+I4r9AQIzCjajhv0DkR\\u002fWLyOC\\u002fkBAHUBTR37+QWH61EBHev6Cg9RoNUdy\\u002foOhsgAmR2r+wMOTlBdHYv7B4W0sCEde\\u002fwMDSsP5Q1b\\u002fACEoW+5DTv9BQwXv30NG\\u002f0Jg44fMQ0L\\u002fAwV+N4KHMv8BRTljZIcm\\u002f4OE8I9Khxb\\u002fgcSvuyiHCvwAENHKHQ72\\u002fACQRCHlDtr8AiNw71Yauv4DIlme4hqC\\u002fAESImtw0dL8AbumBAvOWPwB3OhWeeak\\u002fQBvAdN28sz9A++Le67y6P4DtgiR93sA\\u002fgF2UWYRexD+AzaWOi97HP0A9t8OSXss\\u002fQK3I+Jnezj+gDu2WUC\\u002fRP6DGdTFU79I\\u002fgH7+y1ev1D+ANodmW2\\u002fWP4DuDwFfL9g\\u002fgKaYm2Lv2T9gXiE2Zq\\u002fbP2AWqtBpb90\\u002fYM4ya20v3z8ww92CuHfgPyAfIlC6V+E\\u002fIHtmHbw34j8g16rqvRfjPw==\"},\"y\":{\"dtype\":\"f8\",\"bdata\":\"GPn399XwAS638czFvfSxLkRyeIc7814vkOkVJwL4BjBXEyMhIlutMHcGiB1pJ1Ax7wQNXCee7jEarL49WfyIMu6noQy7jiEzOKx4MX4\\u002ftTNx1IcHeiRGNOBYHGCZ3tM03zG1euS0XjX1GNZJdG7kNQQ5XRSiaWc2zGbpkSwa5zatMWf+LKFjN981sTF1udw3BjVZfuwYUjhwlGdT66LDOJC1JDrMWDI5mKONiJ6FnTkC\\u002fVR35nMEOrdsyKciZ2g6fK+do1oSyToo2NMfUS4mO2fGI8jS5YA7vSBW\\u002fXUr1juwdFw25gspPNvBPb62XXg80IhW0l9pxDxHJ57doXINPfzRTkGkSlI9HQmyUz+Rkz17WoujUAbSPcg5NuY8mAw+bvL2P\\u002fWHQz54TcAQifl2PsthHdeORac+RMN1kltM1D5s9Ah1uH3+Pm9+\\u002fbNbuCM\\u002fS24yGAj3RT\\u002fdait0KxFlPz8r6DE2ZoE\\u002fEOadtH+\\u002fmD\\u002fCaF7Zrk+uP20coYzm978\\u002fkKbsEGoIzT9cYJPBXLTWP5jIPh4klN4\\u002fgjhC70m74T\\u002f7IRCmJrXhP51uI+ptdN4\\u002f52RuGyyN1j+wDIu3WcLMP7VeRh7YlL8\\u002fZcKZbgvdrT9aqPc6CFGYP0slMEe4DIE\\u002fZoWB2IeWZD\\u002f0MmKeUGhFP\\u002f\\u002fe3CfuKiM\\u002fHjOgzoqO\\u002fT5SjrdqhZ\\u002fTPsOoiJ7Wb6Y+xJkw7TcXdj7Ir6Z+k7pCPtMovBo2Wgs+u8ip2p4V0j0otEKoFh3NPYM3681yngU+GYNDXXMGPj7yqXu+APZxPsDuaA3tgKI+HtcOTDRq0D48reRMFhT5PleiX\\u002fAQfyA\\u002foK3\\u002fZBOwQj+sSlrq0jpiP39MKgs3oH4\\u002fywKun\\u002fkmlj9nbOBVU5irP4fcHMuwmb0\\u002fnVRgg1NXyz8Ii7zhGL\\u002fVP0ITswPJyd0\\u002fjPwsxGuR4T\\u002fjkPf0\\u002ftfhP13E9mtyNt8\\u002fQn2+hNOB1z+vxRIjVX3OP8Xx2V7LBsE\\u002fCayoHAhgsD+yfRbHTB+bPz\\u002fZHKhtV4M\\u002f9K8gtQvBZz\\u002fMlrnGAh9JP39sc65v4CY\\u002fBBmMX2rwAT9HsXcebTrYPlThD9fFU6w+TuTWGXEqhD5OgmBi1WiaPrx6EfROYcc+iiF\\u002ffHRW8j6Mg5rEd8cYP4cLOUEk1Tw\\u002fwEzEPZrjXD86dI0E0+x4Pxmrf1GZhJI\\u002fKw74Q5axpz\\u002fU8bMk6Rq6P77n+NBTxMg\\u002fHY\\u002fMc8Y71D9cWdBxv3fcP+t3\\u002fGWtPuE\\u002fW05S4p394T8ODZ0KbCngP5Na9z8bAdk\\u002fFFEsh92n0D\\u002f+HlD3axvDP0UnVhrs37I\\u002f\\u002f2dZICcOoD\\u002fMkKmGJYWHP5zLS75zq20\\u002fCRB9akIdUD9QXsvXPSUuP+wqaH7JRwg\\u002fWDLFkw3X4D5j8mvPXR20PpGbEfZbsIQ+P4R+IeFSUj5ScvGrE\\u002fMbPhPmbxvqWuI9ELyO54TCpD1gIxt\\u002f3zdkPWNpsLWq9CA9E0ykizR92DwsRpVO5XSOPHS1bVD6TkA8hAfBNikU7jsbvZi+m+KXOwnP8+4ZVUA7mQbA0L874zo\\u002fu4jT6oCDOpOyi2HLByE6qCObrFScuTkTNNAEA5VQOaov1cF5feI4g6vB4AHBcTgY6caTv1v9N7g6LRf65oQ3As7bZRuhCTewawondw+LNjkO50NSmgg2zqXSY\\u002fBCgzUiFgOhpvICNRNyuJ\\u002f2CHI1xMyGAER89zXYpi3M11V6NkZg8q3ebfk2\\u002f8F53cMkdTfdpbc72UbuN8MTMdCeqmI4i4x5ut3R0zjEXanHCx9COexKbJ+viKw5ZFtFnTFYEzrFn6n7+5V2OsWTZg4ftdY6fLOid6GoMztYTLs9gE+NOzZOi3HF0OI7ZkvHsSTNNDzZ700HcM2DPLmZGYesO9A8ZBmiTN7qFj0ss2gHN9xbPcciy\\u002fkhKp09p42KVBRK2j2E2jKy72cUPqTCFsxER0s+JNC+rnVmfz5wu63H1B+vPlAbCjvPkNo+3LpXF3CGAz\\u002fnZ0cw57YoPyfJGlIQ8Eo\\u002fBAsHX2NIaT8i5ISq9G6EPyIpm8rTcJw\\u002fnm2pWC8LsT+RkPGbFJfBP5TPnt3ZQ88\\u002fzaF3exPt1z8iSErVe4jfPxm74Jmj5OE\\u002fxCxTfmR84T83RsL8yW3dPz59oH0cU9U\\u002f56RSnJycyj8sTZ\\u002fCzJi8P1w9o6ktdqo\\u002fQULnl7AVlT8iqfhQAO98PzkHJdI6GGE\\u002fAy6FVeFkQT9MGl0XEHseP2twL74\\u002f\\u002f\\u002fY+b\\u002fvUa6zhzT4uUWgCibegPl0ZKAMxG3A+ZZVBI4m5Oj6HHT0unRcDPnKMIB1yfcc9xT1JE+\\u002fiiD0MGQcGJLRGPYDnXBzB1gE9GJFMd+KBuzziJmuvWxDWPMmmzUKoaR493Y3BSdk6Yj2dDKcpuNGiPaHwBiWmuuA9OEJ3HGucGT5vn1tFmOFQPnGkQbq9KYM+OHEBOlS7sj4dP6booojfPg1TXuQS2wY\\u002flJN1HqKHLD\\u002fAXH3Jd6pOP7r18o0qYmw\\u002f5P4WWzKfhj8yz41jCQ2fP3sZU1uvWbI\\u002fH2UR+zGtwj\\u002fDDrDCRV7QP9SoPdmStNg\\u002fYPdI7gMO4D+XimZ8zPfhP6RtfhDlUOE\\u002fDexMCFC93D+yzmRDcInUP9zKB\\u002fEeRsk\\u002fWl0KRoXIuj8efY1vvnCoP1nlv2RjNJM\\u002fFT3kziX9eT+yth992UheP2WgGoxyYz4\\u002fV\\u002fy8s9tBGj8Ws76ATYnzPncu3CqOCMk+zGBdliefmz4o6ymWhT5qPrDxtBTOeDU+LH1zvSdB\\u002fj3wHFx9plrCPYE+GzcSLYM9F2gUSIFAQT0I7SX26rr6PEWr60Hb1LE8hNeTYmd8ZDw\\u002f4SknOEQUPIvde6a1Q8E7LprppCNUaTvYmKteg\\u002f8PO+wFeRKHZ7E6avbfpKlNUDoEraw2KE3qOZOnt8q9RII58R2qoF7aFTna3dgphIKmOFDu0rs99zM4l2BSOrZ\\u002fvjdQ52vrCw9ENwIzXpRRuMY2CH56peYoRjZtlfWbepzCNfwau+1r6zo1I2aBnePEsDTt82r\\u002fiX2DNMMYBPpgLBA1F\\u002fNIlI1zlzUVzPo4AUgdNkTtNS1ve5826PeFzJslHTdZYbFnlTyXN7oUVL9J5w84RaIUqPrbgjj2g+dpJDPzOHNmRRrW1GA5Yl5470tpyTnL4iKem4QwOqZS0KPPfZI6t0i0EEnT8Tpv2YiByJdNO94DI\\u002f4GJ6U7zb+eMt8J+jvPVJUs4plLPKzLlu2LMZk8x\\u002fI\\u002fJkTN4zxgxOaw5c0qPX3MTktHPm89VBg\\u002fyeZbrz1czpAybBrrPcAVvbTWKyQ+Sin+BaDaWT49VGE+7oiMPs3lEw+HHrs+fPX2Np8x5j6vlXvGvkcPP3x6tRVG+zI\\u002f6Jqt0ETWUz+GGr3u99lxP81Mc6Oeqos\\u002fH8ZFfwt2oj9bu8WFEDe1P\\u002f1yToFX\\u002fsQ\\u002fvlYJAoLj0T\\u002fvxKP\\u002fZ0DaP30ZPLMmluA\\u002f5keSrGMM4j9cRXyyRengP9JTMgoYSts\\u002ffEgmQ7\\u002f10j844L5qr6\\u002fGPwMS0ODeX7c\\u002fYI3ingW9pD\\u002fge4UOCrCPP4asu5Gm2HQ\\u002fwYHfZVCeVz\\u002fvzpJN1Ao3P5heJoKTWxM\\u002fvUr1EccB7D4wdxUgOXLBPtMgod9at5I+CElAJC9KYT6kKY9MzYErPsY22lF91\\u002fI9u1S+4iA6tj3gUrnRG5R2PeqZEUv0vzM9VbZAHnfA7TwhCqQpAEyjPLJ8q6QGjlU88VkYfIu7BDxHaKS8\\u002fSuxOz7EsJeDflg7F8+NNfwV\\u002fjp8hm7eNNKfOlj74+VF+zw6K1GpbaC61jkMa0hY67JuOTRLecog2gE5Mi0Vv\\u002fXgkTiSJzx\\u002fN9YeOEBwNYA\\u002f5qY3+DIDYEJJLTf6DaBXOyCwNk9OihWWlS42zlAZy3j5qDUtw2A8mo8hNSKxbj8NRJU0Bel+h+EsBjS4bq3da+lzM8IGs8Wwyt4ylwar\\u002flWARDIUIn89\\u002f4GnMXg\\u002f8wsKNgcxEDnPkRq8YzCKCq2Mn+W8L1NN30TANxIv4bfyg6DHYy7x321H44eyLR8soAGsmtct6naakxediC6RjlxpSxs2LzCOwnmdGeEv7PupO8PIhjAnWlAiYCUqMeliQFha18kxa\\u002fJsFjL\\u002fZTLJ3CaWfCAAM72YUTPUXZQzhaJr9SYnJjRZn6\\u002fX+MC0NG1aN+IMv0A15w6yv+tGxzUcAIcEFN5LNuPX2cuFvMw29Vj+SfCFSTeC6jJOmobDN6EZ0WiXuzk4xYoAJfM1rThQs5\\u002f1uI8cOaznXsgGDog5cJwwt11z8Tki3vbvMs9VOmk42MN8erc6R339EJbFFTtk8ML3EGRxO+D+WvCo7sc7I5gO9qNeHDwXizj1IPhsPI8Mxvlqe7k81xci3gJPAz2eciI++DRJPTFt3fLrWIw9eqoHz0l2yz2FPFhOHusGPkqjO4MKekA+U21VzrxodD4kWrWYMcelPrtgLlEaBdQ+YI1nVKW1\\u002fz7ISOSKiaIlPy0gYFl5b0k\\u002fiUUwLy3EaT87Q0ufeH6GP27lOTK67aA\\u002fWIKmqZT6tT\\u002fu4EwZU6TIP1d6IyJx6Nc\\u002faYG7vZ8m5D+v0ssxBrftP9T440rDZPM\\u002fp93y4DrS9j\\u002f10iHe2sr4P7aAngm3b\\u002fk\\u002fZm1JDMvm+D\\u002feb96MpQ\\u002f3P+L\\u002fF8dRw\\u002fM\\u002fDi33m4WZ7j9CRLLI6\\u002f\\u002fkP962Sf+GPNk\\u002fLpRr6Uhcyj9wlPxKr9W3P5YhpbsUnaI\\u002fSrxStnsUiT++zu1DQSJtPzjrytXFKk0\\u002fYQHcSFopKT+kMDZFtbMCP6zfSknZ89c+DEA\\u002fw+Ntqj4G\\u002fywEnB95PlgeKEAUk0Q+1WBo6+oHDT6jghfN\\u002fKTRPbRHEjQZepI9lHuajRWrUD0ZpStpNugJPVYyt+gNWME8thNxeEMBdDy1tgSJhOAjPEbnOdljA9E7rtfgtpgWeTsUO84Vdt4fO0nUsbabb8E6svDOvURvYDoULwAI\\u002fK\\u002f6OSSS2w0tqpI5Sz47LBR9JjlRWEco71a3ON6n6Qpa3UQ45JrHAPEQ0Dc2tUK73E9VN6lKtYTCWdg2yL82VOv2VzavUDZwZFDUNZNIfcHIqU01kAiwBmynwjRWoz2AIDU0NIL2vniv2qIzAqKaM5NNDjMMgovOVvl0MqSRAF2gAdkxDnLYF5KtOTGwilz5rLWWMHqD92RJTPEvauo0OxiyRi8DB7FVY6WZLiVyEDZ39egtR\\u002fMRqWnrNC0UHXsdqjN+LJVdEHulxsIrXgWSnwsbBCvlH8fcqIpCKoKvaCTOc30p4YMv1iwltChhH36PxLvnJ0HCeOB4FBgnkyTX5FcKRSbFfGRHUapvJXZ8jn4vhZQkdOF9mWbntiPzDaiaBATWIg==\"},\"type\":\"scatter\"}],                        {\"template\":{\"data\":{\"scatter\":[{\"type\":\"scatter\"}]}},\"font\":{\"size\":20},\"xaxis\":{\"zeroline\":false,\"showline\":true,\"mirror\":true,\"ticks\":\"outside\",\"title\":{\"text\":\"E - E\\u003csub\\u003eF\\u003c\\u002fsub\\u003e [eV]\"}},\"yaxis\":{\"showline\":true,\"mirror\":true,\"ticks\":\"outside\",\"title\":{\"text\":\"DOS\"}},\"hoverlabel\":{\"bgcolor\":\"black\"},\"width\":800,\"height\":600},                        {\"responsive\": true}                    ).then(function(){\n",
       "                            \n",
       "var gd = document.getElementById('410dd9c6-8ee0-4483-8ab1-672b1f1349e4');\n",
       "var x = new MutationObserver(function (mutations, observer) {{\n",
       "        var display = window.getComputedStyle(gd).display;\n",
       "        if (!display || display === 'none') {{\n",
       "            console.log([gd, 'removed!']);\n",
       "            Plotly.purge(gd);\n",
       "            observer.disconnect();\n",
       "        }}\n",
       "}});\n",
       "\n",
       "// Listen for the removal of the full notebook cells\n",
       "var notebookContainer = gd.closest('#notebook-container');\n",
       "if (notebookContainer) {{\n",
       "    x.observe(notebookContainer, {childList: true});\n",
       "}}\n",
       "\n",
       "// Listen for the clearing of the current output cell\n",
       "var outputEl = gd.closest('.output');\n",
       "if (outputEl) {{\n",
       "    x.observe(outputEl, {childList: true});\n",
       "}}\n",
       "\n",
       "                        })                };            </script>        </div>"
      ]
     },
     "metadata": {},
     "output_type": "display_data"
    }
   ],
   "source": [
    "plot_dos(scf, spin=1)"
   ]
  },
  {
   "cell_type": "code",
   "execution_count": 7,
   "id": "14ff6372-385f-48f2-b275-09285bb13e1b",
   "metadata": {},
   "outputs": [
    {
     "data": {
      "text/html": [
       "<div>            <script src=\"https://cdnjs.cloudflare.com/ajax/libs/mathjax/2.7.5/MathJax.js?config=TeX-AMS-MML_SVG\"></script><script type=\"text/javascript\">if (window.MathJax && window.MathJax.Hub && window.MathJax.Hub.Config) {window.MathJax.Hub.Config({SVG: {font: \"STIX-Web\"}});}</script>                <script type=\"text/javascript\">window.PlotlyConfig = {MathJaxConfig: 'local'};</script>\n",
       "        <script charset=\"utf-8\" src=\"https://cdn.plot.ly/plotly-3.0.1.min.js\"></script>                <div id=\"df99cd00-81a0-4039-88b7-d007270fbe34\" class=\"plotly-graph-div\" style=\"height:600px; width:800px;\"></div>            <script type=\"text/javascript\">                window.PLOTLYENV=window.PLOTLYENV || {};                                if (document.getElementById(\"df99cd00-81a0-4039-88b7-d007270fbe34\")) {                    Plotly.newPlot(                        \"df99cd00-81a0-4039-88b7-d007270fbe34\",                        [{\"marker\":{\"color\":\"blue\"},\"mode\":\"lines+markers\",\"name\":\"Band 1\",\"x\":{\"dtype\":\"f8\",\"bdata\":\"AAAAAAAAAAAYj6jjl2nBPxiPqOOXadE\\u002fpNZ81WMe2j8Yj6jjl2nhP95YLsgHb+U\\u002fpCK0rHd06T9q7DmR53ntPxjb37qrv\\u002fA\\u002f+78irWPC8j8=\"},\"y\":{\"dtype\":\"f8\",\"bdata\":\"XqTV7Cy2I8AFUdwZfk4lwKSI+QUCSCfAtHvmhWOfKMC82bJ3RRYpwJzQLfoAryjAdem\\u002fbu52J8BqA9ix0polwJLkJaSxDCPAPJLKn\\u002fDBH8A=\"},\"type\":\"scatter\"},{\"marker\":{\"color\":\"blue\"},\"mode\":\"lines+markers\",\"name\":\"Band 2\",\"x\":{\"dtype\":\"f8\",\"bdata\":\"AAAAAAAAAAAYj6jjl2nBPxiPqOOXadE\\u002fpNZ81WMe2j8Yj6jjl2nhP95YLsgHb+U\\u002fpCK0rHd06T9q7DmR53ntPxjb37qrv\\u002fA\\u002f+78irWPC8j8=\"},\"y\":{\"dtype\":\"f8\",\"bdata\":\"BPQ+mvyaHsDGTdh5980ZwNxrqMxxvxDAZLNqKbo\\u002f+r9AVKbE1+u0P6BegJLTX+e\\u002fOrbNlAwQA8BUPP4UIwARwKkVO5B4lxjAkW0JSdK0H8A=\"},\"type\":\"scatter\"},{\"marker\":{\"color\":\"blue\"},\"mode\":\"lines+markers\",\"name\":\"Band 3\",\"x\":{\"dtype\":\"f8\",\"bdata\":\"AAAAAAAAAAAYj6jjl2nBPxiPqOOXadE\\u002fpNZ81WMe2j8Yj6jjl2nhP95YLsgHb+U\\u002fpCK0rHd06T9q7DmR53ntPxjb37qrv\\u002fA\\u002f+78irWPC8j8=\"},\"y\":{\"dtype\":\"f8\",\"bdata\":\"YL6lOIc49b\\u002fIF0G5hlTzvxDGruWMGOu\\u002fQOsbtF0i0r\\u002fAMPJMQRW3P6hucHwoSua\\u002fPHxQMxZ4\\u002fL8uUnIZrgYFwE5LLj5LOQnAhhOdV12XCsA=\"},\"type\":\"scatter\"},{\"marker\":{\"color\":\"blue\"},\"mode\":\"lines+markers\",\"name\":\"Band 4\",\"x\":{\"dtype\":\"f8\",\"bdata\":\"AAAAAAAAAAAYj6jjl2nBPxiPqOOXadE\\u002fpNZ81WMe2j8Yj6jjl2nhP95YLsgHb+U\\u002fpCK0rHd06T9q7DmR53ntPxjb37qrv\\u002fA\\u002f+78irWPC8j8=\"},\"y\":{\"dtype\":\"f8\",\"bdata\":\"NA3asvEJ9b+0YjUprSTzvyhgsetrs+q\\u002fID+16TYr0L9AasXnZUG5P4Di5d2CZuW\\u002fGHZGj\\u002fD0+79U814BasMEwJJUQ0Zj9QjAotbolSpMCsA=\"},\"type\":\"scatter\"},{\"line\":{\"dash\":\"dash\"},\"marker\":{\"color\":\"blue\"},\"mode\":\"lines+markers\",\"name\":\"Unocc. band 1\",\"x\":{\"dtype\":\"f8\",\"bdata\":\"AAAAAAAAAAAYj6jjl2nBPxiPqOOXadE\\u002fpNZ81WMe2j8Yj6jjl2nhP95YLsgHb+U\\u002fpCK0rHd06T9q7DmR53ntPxjb37qrv\\u002fA\\u002f+78irWPC8j8=\"},\"y\":{\"dtype\":\"f8\",\"bdata\":\"CK1r11Bh\\u002fz8I4f2IfUX+Pxg9XQZSagFAjB70O0HTA0C4mFkCfrcBQOi4Ooy0f\\u002fw\\u002f4GszyYhE7j8g0u4CjqLQP8BpxedlQbm\\u002fgDxctQgppb8=\"},\"type\":\"scatter\"},{\"line\":{\"dash\":\"dash\"},\"marker\":{\"color\":\"blue\"},\"mode\":\"lines+markers\",\"name\":\"Unocc. band 2\",\"x\":{\"dtype\":\"f8\",\"bdata\":\"AAAAAAAAAAAYj6jjl2nBPxiPqOOXadE\\u002fpNZ81WMe2j8Yj6jjl2nhP95YLsgHb+U\\u002fpCK0rHd06T9q7DmR53ntPxjb37qrv\\u002fA\\u002f+78irWPC8j8=\"},\"y\":{\"dtype\":\"f8\",\"bdata\":\"NNhRRy+uBkDAmzrFTwwIQPwX6Xfv7glAnCFwzEDzBUC0Eys0l8sBQFDBaQ9IyglAfIbnWZosC0BIl2f0nFz6P7AYzGzNK+E\\u002fAJAsnjkrjD8=\"},\"type\":\"scatter\"},{\"line\":{\"dash\":\"dash\"},\"marker\":{\"color\":\"blue\"},\"mode\":\"lines+markers\",\"name\":\"Unocc. band 3\",\"x\":{\"dtype\":\"f8\",\"bdata\":\"AAAAAAAAAAAYj6jjl2nBPxiPqOOXadE\\u002fpNZ81WMe2j8Yj6jjl2nhP95YLsgHb+U\\u002fpCK0rHd06T9q7DmR53ntPxjb37qrv\\u002fA\\u002f+78irWPC8j8=\"},\"y\":{\"dtype\":\"f8\",\"bdata\":\"fMO2+w3CBkBU+kH3ZSEIQAwc\\u002fsVpBQpAbBO3Efz\\u002fBUDwq9mfFdQBQFQ2RlvT+glAWgH2eq7nE0B2\\u002fwAG1qQbQPWNCXTyxiFAZ3kC4LARJUA=\"},\"type\":\"scatter\"},{\"line\":{\"dash\":\"dash\"},\"marker\":{\"color\":\"blue\"},\"mode\":\"lines+markers\",\"name\":\"Unocc. band 4\",\"x\":{\"dtype\":\"f8\",\"bdata\":\"AAAAAAAAAAAYj6jjl2nBPxiPqOOXadE\\u002fpNZ81WMe2j8Yj6jjl2nhP95YLsgHb+U\\u002fpCK0rHd06T9q7DmR53ntPxjb37qrv\\u002fA\\u002f+78irWPC8j8=\"},\"y\":{\"dtype\":\"f8\",\"bdata\":\"zhGaiay2GkCKABtgEbsbQM5KwXZh6htAaLwO9A8yFkDGxw84dkESQEqe\\u002fdyWARRATgc1x40AFED2WzkwKgEcQK3KKJ+uzyFAiR6P3xQaJUA=\"},\"type\":\"scatter\"},{\"marker\":{\"color\":\"red\"},\"mode\":\"lines+markers\",\"name\":\"Band 1\",\"x\":{\"dtype\":\"f8\",\"bdata\":\"AAAAAAAAAAAYj6jjl2nBPxiPqOOXadE\\u002fpNZ81WMe2j8Yj6jjl2nhP95YLsgHb+U\\u002fpCK0rHd06T9q7DmR53ntPxjb37qrv\\u002fA\\u002f+78irWPC8j8=\"},\"y\":{\"dtype\":\"f8\",\"bdata\":\"60A1abi1I8Ahp1VMPU4lwCABJPTWRyfAbrASUfiiKMBWRxlTvBgpwAwyaufgrijA3QA7LMx2J8BUh0VPrpolwMCFOoaIDCPAWQSFotXFH8A=\"},\"type\":\"scatter\"},{\"marker\":{\"color\":\"red\"},\"mode\":\"lines+markers\",\"name\":\"Band 2\",\"x\":{\"dtype\":\"f8\",\"bdata\":\"AAAAAAAAAAAYj6jjl2nBPxiPqOOXadE\\u002fpNZ81WMe2j8Yj6jjl2nhP95YLsgHb+U\\u002fpCK0rHd06T9q7DmR53ntPxjb37qrv\\u002fA\\u002f+78irWPC8j8=\"},\"y\":{\"dtype\":\"f8\",\"bdata\":\"MImepJubHsCXssTcLc4ZwJL+jQtfvxDAwHLp1K+Q+r8A77I5iyS1P8j91hFPWOe\\u002fwh7W\\u002fAwOA8DRpPCJd\\u002f8QwPQc8Zv3lhjAS4M6CSS0H8A=\"},\"type\":\"scatter\"},{\"marker\":{\"color\":\"red\"},\"mode\":\"lines+markers\",\"name\":\"Band 3\",\"x\":{\"dtype\":\"f8\",\"bdata\":\"AAAAAAAAAAAYj6jjl2nBPxiPqOOXadE\\u002fpNZ81WMe2j8Yj6jjl2nhP95YLsgHb+U\\u002fpCK0rHd06T9q7DmR53ntPxjb37qrv\\u002fA\\u002f+78irWPC8j8=\"},\"y\":{\"dtype\":\"f8\",\"bdata\":\"MBEOwcAx9b\\u002fcqIS04k3zvxiFM\\u002fRiCeu\\u002foD22PaQ507\\u002fAMMz+QvK1P8jqZHmluOa\\u002fKBeMR2m7\\u002fL\\u002f+EB2kxCkFwFCVueLGXAnAzsggiiPFCsA=\"},\"type\":\"scatter\"},{\"marker\":{\"color\":\"red\"},\"mode\":\"lines+markers\",\"name\":\"Band 4\",\"x\":{\"dtype\":\"f8\",\"bdata\":\"AAAAAAAAAAAYj6jjl2nBPxiPqOOXadE\\u002fpNZ81WMe2j8Yj6jjl2nhP95YLsgHb+U\\u002fpCK0rHd06T9q7DmR53ntPxjb37qrv\\u002fA\\u002f+78irWPC8j8=\"},\"y\":{\"dtype\":\"f8\",\"bdata\":\"+FtVPikR9b\\u002fcBz76BCzzv6ChFHD4wOq\\u002fIFqQVKad0r8AuVZV7724PxBf3T5a8uS\\u002fEH9D8ryu+7\\u002fo9Gh\\u002f554EwDwk\\u002fL8X0AjAqry5\\u002fQc4CsA=\"},\"type\":\"scatter\"},{\"line\":{\"dash\":\"dash\"},\"marker\":{\"color\":\"red\"},\"mode\":\"lines+markers\",\"name\":\"Unocc. band 1\",\"x\":{\"dtype\":\"f8\",\"bdata\":\"AAAAAAAAAAAYj6jjl2nBPxiPqOOXadE\\u002fpNZ81WMe2j8Yj6jjl2nhP95YLsgHb+U\\u002fpCK0rHd06T9q7DmR53ntPxjb37qrv\\u002fA\\u002f+78irWPC8j8=\"},\"y\":{\"dtype\":\"f8\",\"bdata\":\"ANMXWAlc\\u002fz9Y9EXe9T\\u002f+P8y1nTtdaAFA7GbHuHgPBEDs8L3LIrcBQIBfwRysePw\\u002fQMPtx1Y97j9gB3OdkWDQP0BKBAEXMbm\\u002fADy7yw1ph78=\"},\"type\":\"scatter\"},{\"line\":{\"dash\":\"dash\"},\"marker\":{\"color\":\"red\"},\"mode\":\"lines+markers\",\"name\":\"Unocc. band 2\",\"x\":{\"dtype\":\"f8\",\"bdata\":\"AAAAAAAAAAAYj6jjl2nBPxiPqOOXadE\\u002fpNZ81WMe2j8Yj6jjl2nhP95YLsgHb+U\\u002fpCK0rHd06T9q7DmR53ntPxjb37qrv\\u002fA\\u002f+78irWPC8j8=\"},\"y\":{\"dtype\":\"f8\",\"bdata\":\"pNyE\\u002faW0BkB0DDLWwxIIQKjHhns19glACN29ctUSBkCE2DhASNEBQEBiV78rrwlAdH8YTposC0AYyXEudkr6PwAR8wG2IuE\\u002fAOjZa6N2mT8=\"},\"type\":\"scatter\"},{\"line\":{\"dash\":\"dash\"},\"marker\":{\"color\":\"red\"},\"mode\":\"lines+markers\",\"name\":\"Unocc. band 3\",\"x\":{\"dtype\":\"f8\",\"bdata\":\"AAAAAAAAAAAYj6jjl2nBPxiPqOOXadE\\u002fpNZ81WMe2j8Yj6jjl2nhP95YLsgHb+U\\u002fpCK0rHd06T9q7DmR53ntPxjb37qrv\\u002fA\\u002f+78irWPC8j8=\"},\"y\":{\"dtype\":\"f8\",\"bdata\":\"FI1r9q3DBkC8BaflEiMIQPhfduNqCgpAAB7icGkrBkD0XfgX7dQBQDgEM9oWFgpAbBqeVKXaE0BSW0OlhYkbQKuIhO\\u002fXwiFAmyStFMIjJUA=\"},\"type\":\"scatter\"},{\"line\":{\"dash\":\"dash\"},\"marker\":{\"color\":\"red\"},\"mode\":\"lines+markers\",\"name\":\"Unocc. band 4\",\"x\":{\"dtype\":\"f8\",\"bdata\":\"AAAAAAAAAAAYj6jjl2nBPxiPqOOXadE\\u002fpNZ81WMe2j8Yj6jjl2nhP95YLsgHb+U\\u002fpCK0rHd06T9q7DmR53ntPxjb37qrv\\u002fA\\u002f+78irWPC8j8=\"},\"y\":{\"dtype\":\"f8\",\"bdata\":\"+Dcsvna3GkDwqW\\u002fupbobQNQtUxse\\u002fBtAdGJwjWSxFkCqOnHaoUMSQDQufn+cAhRAvPt6RywOFECMBcfbDbUbQPsNaxro0yFAYQHtmjZxJUA=\"},\"type\":\"scatter\"}],                        {\"template\":{\"data\":{\"scatter\":[{\"type\":\"scatter\"}]}},\"font\":{\"size\":20},\"xaxis\":{\"zeroline\":false,\"showline\":true,\"mirror\":true,\"ticks\":\"outside\",\"tickmode\":\"array\",\"tickvals\":{\"dtype\":\"f8\",\"bdata\":\"AAAAAAAAAAAYj6jjl2nhP\\u002fu\\u002fIq1jwvI\\u002f\"},\"ticktext\":[\"L\",\"Γ\",\"X\"],\"gridcolor\":\"grey\",\"gridwidth\":2,\"range\":[0,1.1724583399882238],\"title\":{\"text\":\"k-path\"}},\"yaxis\":{\"zeroline\":false,\"showline\":true,\"mirror\":true,\"ticks\":\"outside\",\"showgrid\":false,\"title\":{\"text\":\"E - E\\u003csub\\u003eF\\u003c\\u002fsub\\u003e [eV]\"}},\"hoverlabel\":{\"bgcolor\":\"black\"},\"width\":800,\"height\":600,\"showlegend\":false},                        {\"responsive\": true}                    ).then(function(){\n",
       "                            \n",
       "var gd = document.getElementById('df99cd00-81a0-4039-88b7-d007270fbe34');\n",
       "var x = new MutationObserver(function (mutations, observer) {{\n",
       "        var display = window.getComputedStyle(gd).display;\n",
       "        if (!display || display === 'none') {{\n",
       "            console.log([gd, 'removed!']);\n",
       "            Plotly.purge(gd);\n",
       "            observer.disconnect();\n",
       "        }}\n",
       "}});\n",
       "\n",
       "// Listen for the removal of the full notebook cells\n",
       "var notebookContainer = gd.closest('#notebook-container');\n",
       "if (notebookContainer) {{\n",
       "    x.observe(notebookContainer, {childList: true});\n",
       "}}\n",
       "\n",
       "// Listen for the clearing of the current output cell\n",
       "var outputEl = gd.closest('.output');\n",
       "if (outputEl) {{\n",
       "    x.observe(outputEl, {childList: true});\n",
       "}}\n",
       "\n",
       "                        })                };            </script>        </div>"
      ]
     },
     "metadata": {},
     "output_type": "display_data"
    }
   ],
   "source": [
    "# Test the plotting of both spin channels\n",
    "plot_bandstructure(scf, spin=(0, 1))"
   ]
  },
  {
   "cell_type": "code",
   "execution_count": 8,
   "id": "d3762853-b65a-4467-b565-41a99fcf5e3d",
   "metadata": {},
   "outputs": [
    {
     "data": {
      "text/html": [
       "<div>            <script src=\"https://cdnjs.cloudflare.com/ajax/libs/mathjax/2.7.5/MathJax.js?config=TeX-AMS-MML_SVG\"></script><script type=\"text/javascript\">if (window.MathJax && window.MathJax.Hub && window.MathJax.Hub.Config) {window.MathJax.Hub.Config({SVG: {font: \"STIX-Web\"}});}</script>                <script type=\"text/javascript\">window.PlotlyConfig = {MathJaxConfig: 'local'};</script>\n",
       "        <script charset=\"utf-8\" src=\"https://cdn.plot.ly/plotly-3.0.1.min.js\"></script>                <div id=\"7b44fda0-fa73-4b50-a477-b5a72d5e2b02\" class=\"plotly-graph-div\" style=\"height:600px; width:800px;\"></div>            <script type=\"text/javascript\">                window.PLOTLYENV=window.PLOTLYENV || {};                                if (document.getElementById(\"7b44fda0-fa73-4b50-a477-b5a72d5e2b02\")) {                    Plotly.newPlot(                        \"7b44fda0-fa73-4b50-a477-b5a72d5e2b02\",                        [{\"marker\":{\"color\":\"blue\"},\"mode\":\"lines+markers\",\"name\":\"Spin 1\",\"x\":{\"dtype\":\"f8\",\"bdata\":\"vNmyd0UWKsAgoqAXRggqwIRqjrdG+inA6TJ8V0fsKcBN+2n3R94pwLLDV5dI0CnAFoxFN0nCKcB6VDPXSbQpwN4cIXdKpinAQuUOF0uYKcCmrfy2S4opwAt26lZMfCnAbz7Y9kxuKcDUBsaWTWApwDjPszZOUinAnJeh1k5EKcAAYI92TzYpwGQofRZQKCnAyPBqtlAaKcAtuVhWUQwpwJGBRvZR\\u002fijA9kk0llLwKMBaEiI2U+IowL7aD9ZT1CjAIqP9dVTGKMCGa+sVVbgowOsz2bVVqijAT\\u002fzGVVacKMC0xLT1Vo4owBiNopVXgCjAfFWQNVhyKMDgHX7VWGQowETma3VZVijAqK5ZFVpIKMANd0e1WjoowHE\\u002fNVVbLCjA1gcj9VseKMA60BCVXBAowJ6Y\\u002fjRdAijAAmHs1F30J8BmKdp0XuYnwMrxxxRf2CfAL7q1tF\\u002fKJ8CTgqNUYLwnwPhKkfRgrifAXBN\\u002flGGgJ8DA22w0YpInwCSkWtRihCfAiGxIdGN2J8DtNDYUZGgnwFH9I7RkWifAtcURVGVMJ8Aajv\\u002fzZT4nwH5W7ZNmMCfA4h7bM2ciJ8BG58jTZxQnwKuvtnNoBifAD3ikE2n4JsBzQJKzaeomwNgIgFNq3CbAPNFt82rOJsCgmVuTa8AmwARiSTNssibAaCo302ykJsDN8iRzbZYmwDG7EhNuiCbAlYMAs256JsD6S+5Sb2wmwF4U3PJvXibAwtzJknBQJsAmpbcycUImwIptpdJxNCbA7zWTcnImJsBT\\u002foAScxgmwLfGbrJzCibAHI9cUnT8JcCAV0rydO4lwOQfOJJ14CXASOglMnbSJcCtsBPSdsQlwBF5AXJ3tiXAdUHvEXioJcDaCd2xeJolwD7SylF5jCXAopq48Xl+JcAGY6aRenAlwGorlDF7YiXAz\\u002fOB0XtUJcAzvG9xfEYlwJeEXRF9OCXA\\u002fExLsX0qJcBgFTlRfhwlwMTdJvF+DiXAKKYUkX8AJcCMbgIxgPIkwPE28NCA5CTAVf\\u002fdcIHWJMC6x8sQgsgkwB6QubCCuiTAglinUIOsJMDmIJXwg54kwErpgpCEkCTAr7FwMIWCJMATel7QhXQkwHdCTHCGZiTA3Ao6EIdYJMBA0yewh0okwKSbFVCIPCTACGQD8IguJMBsLPGPiSAkwNH03i+KEiTANb3Mz4oEJMCZhbpvi\\u002fYjwP5NqA+M6CPAYhaWr4zaI8DG3oNPjcwjwCqnce+NviPAj29fj46wI8DzN00vj6IjwFcAO8+PlCPAu8gob5CGI8AgkRYPkXgjwIRZBK+RaiPA6CHyTpJcI8BM6t\\u002fukk4jwLGyzY6TQCPAFXu7LpQyI8B5Q6nOlCQjwN4Ll26VFiPAQtSEDpYII8CmnHKulvoiwAplYE6X7CLAbi1O7pfeIsDT9TuOmNAiwDe+KS6ZwiLAm4YXzpm0IsAATwVumqYiwGQX8w2bmCLAyN\\u002fgrZuKIsAsqM5NnHwiwJFwvO2cbiLA9TiqjZ1gIsBZAZgtnlIiwL3Jhc2eRCLAIpJzbZ82IsCGWmENoCgiwOoiT62gGiLATus8TaEMIsCzsyrtof4hwBd8GI2i8CHAe0QGLaPiIcDgDPTMo9QhwETV4WykxiHAqJ3PDKW4IcAMZr2spaohwHEuq0ymnCHA1faY7KaOIcA5v4aMp4AhwJ2HdCyociHAAlBizKhkIcBmGFBsqVYhwMrgPQyqSCHALqkrrKo6IcCTcRlMqywhwPc5B+yrHiHAWwL1i6wQIcC\\u002fyuIrrQIhwCST0Mut9CDAiFu+a67mIMDsI6wLr9ggwFDsmauvyiDAtbSHS7C8IMAZfXXrsK4gwH1FY4uxoCDA4g1RK7KSIMBG1j7LsoQgwKqeLGuzdiDADmcaC7RoIMBzLwirtFogwNf39Uq1TCDAO8Dj6rU+IMCfiNGKtjAgwARRvyq3IiDAaBmtyrcUIMDM4ZpquAYgwGFUERVy8R\\u002fAKeXsVHPVH8DydciUdLkfwLoGpNR1nR\\u002fAg5d\\u002fFHeBH8BLKFtUeGUfwBS5NpR5SR\\u002fA3EkS1HotH8Cl2u0TfBEfwG5ryVN99R7ANvykk37ZHsD\\u002fjIDTf70ewMcdXBOBoR7AkK43U4KFHsBYPxOTg2kewCHQ7tKETR7A6WDKEoYxHsCy8aVShxUewHqCgZKI+R3AQxNd0ondHcALpDgSi8EdwNQ0FFKMpR3AnMXvkY2JHcBlVsvRjm0dwC3nphGQUR3A9neCUZE1HcC+CF6RkhkdwIeZOdGT\\u002fRzAUCoVEZXhHMAYu\\u002fBQlsUcwOBLzJCXqRzAqdyn0JiNHMBybYMQmnEcwDr+XlCbVRzAA486kJw5HMDLHxbQnR0cwJSw8Q+fARzAXEHNT6DlG8Al0qiPockbwO1ihM+irRvAtvNfD6SRG8B+hDtPpXUbwEcVF4+mWRvAD6byzqc9G8DYNs4OqSEbwKDHqU6qBRvAaViFjqvpGsAy6WDOrM0awPp5PA6usRrAwgoYTq+VGsCLm\\u002fONsHkawFQsz82xXRrAHL2qDbNBGsDkTYZNtCUawK3eYY21CRrAdm89zbbtGcA+ABkNuNEZwAeR9Ey5tRnAzyHQjLqZGcCYsqvMu30ZwGBDhwy9YRnAKdRiTL5FGcDxZD6MvykZwLr1GczADRnAgob1C8LxGMBMF9FLw9UYwBSorIvEuRjA3TiIy8WdGMClyWMLx4EYwG5aP0vIZRjANusai8lJGMD\\u002fe\\u002fbKyi0YwMcM0grMERjAkJ2tSs31F8BYLomKztkXwCG\\u002fZMrPvRfA6k9ACtGhF8Cy4BtK0oUXwHpx94nTaRfAQwLTydRNF8AMk64J1jEXwNQjiknXFRfAnLRlidj5FsBlRUHJ2d0WwC7WHAnbwRbA9mb4SNylFsC+99OI3YkWwIeIr8jebRbAUBmLCOBRFsAYqmZI4TUWwOE6QojiGRbAqssdyOP9FcByXPkH5eEVwDrt1EfmxRXAA36wh+epFcDMDozH6I0VwJSfZwfqcRXAXDBDR+tVFcAlwR6H7DkVwO5R+sbtHRXAtuLVBu8BFcB+c7FG8OUUwEcEjYbxyRTAEJVoxvKtFMDYJUQG9JEUwKC2H0b1dRTAaUf7hfZZFMAy2NbF9z0UwPposgX5IRTAwvmNRfoFFMCLimmF++kTwFQbRcX8zRPAHKwgBf6xE8DlPPxE\\u002f5UTwK7N14QAehPAdl6zxAFeE8A+744EA0ITwAeAakQEJhPA0BBGhAUKE8CYoSHEBu4SwGAy\\u002fQMI0hLAKcPYQwm2EsDyU7SDCpoSwLrkj8MLfhLAgnVrAw1iEsBLBkdDDkYSwBSXIoMPKhLA3Cf+whAOEsCkuNkCEvIRwG1JtUIT1hHANtqQghS6EcD+amzCFZ4RwMb7RwIXghHAkIwjQhhmEcBYHf+BGUoRwCCu2sEaLhHA6T62ARwSEcCyz5FBHfYQwHpgbYEe2hDAQvFIwR++EMALgiQBIaIQwNQSAEEihhDAnKPbgCNqEMBkNLfAJE4QwC3FkgAmMhDA9lVuQCcWEMB8zZMAUfQPwA3vSoBTvA\\u002fAnhACAFaED8AvMrl\\u002fWEwPwMBTcP9aFA\\u002fAUnUnf13cDsDilt7+X6QOwHS4lX5ibA7ABNpM\\u002fmQ0DsCW+wN+Z\\u002fwNwCYdu\\u002f1pxA3AuD5yfWyMDcBIYCn9blQNwNqB4HxxHA3AaqOX\\u002fHPkDMD8xE58dqwMwIzmBfx4dAzAHgi9e3s8DMCuKXT7fQQMwEBLK3uAzAvA0mzi+oKUC8Bijpl6hVwLwPSvUPqHJAvAhNEHeorsCsAW8775jLQKwKYUdnmPfArAODYt+ZFECsDIV+R4lAwKwFp5m\\u002fiW1AnA6ppSeJmcCcB8vAn4m2QJwAzewHeeLAnAnv9396D0CMAuIS93o7wIwMBC5valhAjAUGSddqhMCMDihVT2qhQIwHKnC3at3AfABMnC9a+kB8CU6nl1smwHwCYMMfW0NAfAuC3odLf8BsBIT5\\u002f0ucQGwNpwVnS8jAbAapIN9L5UBsD8s8RzwRwGwIzVe\\u002fPD5AXAHvcyc8asBcCuGOryyHQFwEA6oXLLPAXA0FtY8s0EBcBifQ9y0MwEwPKexvHSlATAhMB9cdVcBMAU4jTx1yQEwKYD7HDa7APANiWj8Ny0A8DIRlpw33wDwFhoEfDhRAPA6onIb+QMA8B6q3\\u002fv5tQCwAzNNm\\u002fpnALAnu7t7utkAsAuEKVu7iwCwMAxXO7w9AHAUFMTbvO8AcDidMrt9YQBwHKWgW34TAHABLg47foUAcCU2e9s\\u002fdwAwCb7puz\\u002fpADAthxebAJtAMBIPhXsBDUAwLC\\u002fmNcO+v+\\u002f1AIH1xOK\\u002f7\\u002f0RXXWGBr\\u002fvxiJ49Udqv6\\u002fOMxR1SI6\\u002fr9cD8DUJ8r9v3xSLtQsWv2\\u002foJWc0zHq\\u002fL\\u002fA2ArTNnr8v+QbedI7Cvy\\u002fCF\\u002fn0UCa+78oolXRRSr7v0zlw9BKuvq\\u002fbCgy0E9K+r+Qa6DPVNr5v7CuDs9Zavm\\u002f1PF8zl76+L\\u002f0NOvNY4r4vxh4Wc1oGvi\\u002fOLvHzG2q979c\\u002fjXMcjr3v3xBpMt3yva\\u002foIQSy3xa9r\\u002fAx4DKger1v+QK78mGevW\\u002fBE5dyYsK9b8okcvIkJr0v0jUOciVKvS\\u002fbBeox5q687+MWhbHn0rzv7CdhMak2vK\\u002f0ODyxalq8r\\u002f0I2HFrvrxvxhnz8SzivG\\u002fOKo9xLga8b9c7avDvarwv3wwGsPCOvC\\u002fQOcQhY+V77+Abe2DmbXuv8jzyYKj1e2\\u002fCHqmga317L9QAIOAtxXsv5CGX3\\u002fBNeu\\u002f2Aw8fstV6r8Ykxh91XXpv2AZ9Xvflei\\u002foJ\\u002fReum157\\u002foJa5589Xmvyisinj99eW\\u002fcDJndwcW5b+wuEN2ETbkv\\u002fg+IHUbVuO\\u002fOMX8cyV24r+AS9lyL5bhv8jRtXE5tuC\\u002fELAk4Yas37+gvN3emuzdvyDJltyuLNy\\u002fsNVP2sJs2r8w4gjY1qzYv8DuwdXq7Na\\u002fQPt60\\u002f4s1b\\u002fQBzTREm3Tv1AU7c4mrdG\\u002fwEFMmXXaz7\\u002fAWr6UnVrMv+BzMJDF2si\\u002f4Iyii+1axb8AphSHFdvBvwB+DQV7try\\u002fQLDx+8q2tb+AxKvlNW6tvwBS6Kar3Z6\\u002fANDIE1z3Zr8AHfah1B+ZPwCqMmNKj6o\\u002fACO1OlVHtD\\u002fA8NBDBUe7P0BfdqZaI8E\\u002fQEYEqzKjxD9ALZKvCiPIP0AUILTioss\\u002fAPutuLoizz8A8Z1eSVHRP4Dk5GA1EdM\\u002fANgrYyHR1D9gy3JlDZHWP+C+uWf5UNg\\u002fYLIAauUQ2j\\u002fgpUds0dDbP0CZjm69kN0\\u002fwIzVcKlQ3z8gQI65SojgP+C5sbpAaOE\\u002fkDPVuzZI4j9Qrfi8LCjjPw==\"},\"y\":{\"dtype\":\"f8\",\"bdata\":\"yc0CuboHIy6sENBDWH3SLp9ElcGw8H4vBLU5+\\u002f9KJjDVf2XqG6rLMLBDUgtIkG0xN7Rq99k0CzLzi1ONlY+lMmygNCG+bT0zN0b9HpFL0TOzTIXUj4FhNFBs4F2+hO40LABFjHTodjWX1f5QnZ39NXOJhJNSfIA23aZsBEGc\\u002fzaEjJ4nBxl6N5IGZHkJjvI3ljHjKny4Zjg8XdHEcPXXONCh83alwUU5dz3M\\u002fW0DsTla0qLDB+oWOqDpJpmUk3o6ekIR8VSL2jrMkmljuNQ2O22dKEsX6ZA7zzmjqYyS5Tvc3Tap1rI3PGSQvPJha4Y8AkZGg7ZD0jwlfhN1jaAZPdxUqfoS9149kYHrkSgcoD2SWyX0597cPZcUohkWRxY+Z8NsU1qbTT6gme3aJfGAPg1DK1eCsrA+EpsHXq5X3D5amk4S+7YEP4pEnOVQEyo\\u002fvdyINBVETD+6IfJf12JqP9FYU\\u002fcVNoU\\u002fVWUb1RlenT9yIb9034GxP1lhQBG6+cE\\u002f2OnaB4XJzz\\u002fVE\\u002f+CBjTYPyfnxgFkvd8\\u002fNPsA7wTs4T9GxJ2r3G3hP3AuJcVgMd0\\u002faCCpC70N1T8tAcZDqCbKP5WNAPjr+Ls\\u002f9wxMJCLEqT+APlkzRHCUP7fZcOhB7Hs\\u002fF6D9PPJsYD\\u002fbZ+fNNKRAP2hxICTMCR0\\u002fE90l1DnR9T4ezuNiYDvMPnq4u1zLdZ8+yFJESJcwbj5U6vnkxPI4PgdsjZrWwwE+6QcpgH6zyD0TUhw6UCnWPVqDoYK\\u002f1RA+j1l+SaXBRj75uB8TXn56PraZ\\u002fWbXj6o+9Wr588ju1j6f9TNO5AwBP\\u002fzpbaRX1SU\\u002fEbPXqoETSD+D4MOX89xmP57jPXJSsoI\\u002fCud1mjlVmj8tslEsR\\u002fCvP8+o0znyrcA\\u002fAuLFKzMBzj8tFEUxkj3XPxJ\\u002fCUTsAN8\\u002f28XhUP3O4T+n+TTqMJ7hP5dMB5\\u002fGBN4\\u002f+d6sfOYF1j+XO9ZI1NPLPyiBxkCRR74\\u002f6uY6AX5frD\\u002fXFhY+IeWWPwkvEQqt0X8\\u002fa6cwNWsKYz9DCxdSwZ9DPxnWSF7CaiE\\u002fKetSp7Kf+j4clbAdpYbRPst4taeCGqQ+IIkHs0DYgj5ezAne7BKjPsFuH4Smq9A+Idi7JL1s+T4CuVlg67IgP5XHLTPR40I\\u002fSfdqscRmYj99KA8Ak99+P2dpEiSYTZY\\u002fTQILk+a\\u002fqz8S5JrWd7u9P2rheo\\u002f0bss\\u002fMPeiPjjM1T8cLN0heNTdP3cyqfOzk+E\\u002fE15GIITW4T+EyChRti3fP1SyBvb9dtc\\u002f8r3YQz5qzj8qMEssl\\u002fnAP2rFeB8lUbA\\u002fSkX2R3IDmz9QrzMUl0GDP1e48z8spGc\\u002f1xSiN7P+SD+dgYLlwMEmP42FSTal1wE\\u002fF85gdfkX2D71A\\u002ff0iASsPhXJNPCdDnw+BhwCUQUySD62xACC1vcRPmnuy2NR+9Y9wDAD0hpQmT2soThvaQJYPYyCU\\u002fJunBM9BI0c27KWyzxemNVsF7aAPIf0Od0gbzE8Px+L71ZT3zuSoVFkOjyIOydvEkl9JTA7vfaChgeH0jqsWpQdyE5yOnTSC4pWKA86SUQQYPjUpjk\\u002fgues2dA8OfRqismCUc84zMV39OpPXTg6slzPEKDnN2eE73vUZXA3NuN42iSa8zbV09cd2C10Nt4jB6WD4\\u002fE1O9glmzVQazUia9jpiOMANX+kpEdpZII1Qm6l2hh+Bzb1v+odRNeJNgbgs7Yyegg3bkReV2n3gzfMdNrUCg38NzIq6Tzx93A4J3En7r+t4TiYZkCp87hPOTxaWk1qgrg5335hAKVOIDo\\u002fBCVF1K+COqDSFRLCcOI6zyGsF2NXPzuahvHuj++WO5eeFTl56Ow7nZzBIWZgPzzlk2YXxVONPI8b9RwOm9c8pqbcK7pcID04o5INjIhjPfmYJ2PTFKQ9a6P3NznH4T1ACWIzlRsbPkmNYtAMzFE+fGI4MrwfhD6Q1pQdeZizPsnNfiSGbuA+PDYxkSq7Bz89+isbq4MtP9z625c3nE8\\u002ffNdvCH4nbT8Slt9i1yeHP+Vgb77hrJ8\\u002fa4O25h6osj9tYz9uEO3CP9cbqsmQiNA\\u002fbJfVPzfg2D+ZwpebjB3gPyt88PAn++E\\u002fJ0tJsuxG4T+t49XzXJfcP2SVvWdkX9Q\\u002fnin2b3MAyT9oIMXVKWy6P7n28RT8C6g\\u002ffTyqZ5jYkj+QT5vrS3B5PwiZGAXakV0\\u002fqh4Ln2eZPT+gMhhMz4MZP8ml74228PI+F6TmPRw3yD51uwxAJqmaPs\\u002fkokgNR2k+4oC183KjND7YjX\\u002fyrQX9PZbVZtKMksE9PjEr\\u002fjVTgj2wFzNt3XRAPWLeafK8dvk8My7IbZoJtjy97aLBiTbgPGkvNaQDCyY9XfezWOjtaT16IsYwGUSqPZ3bic+o6eY9hvOxCls2IT4T6zHHA0VWPiCxMljqz4g+6NIet3zOtz636k6glKvjPpeX3xDr\\u002fQs\\u002fB0OZ4M0mMT8omQ6OrhlSP1sKrYYHc3A\\u002fMj1LuyK\\u002fiT8IVQdtCVqhP7BogTwDJLQ\\u002fmxAVMMchxD\\u002fHQjCQQ1TRPxK3q4ndsNk\\u002fqkirV0Vm4D90Pb+xowfiP3KiKNLqEeE\\u002fGlBQVqbV2z9S4gmz8YrTP18rvZa9occ\\u002f5g5AjNCbuD+bRlldWhGmPy41uFekCpE\\u002f3ADNlW+qdj\\u002f4\\u002f4Wc2\\u002fVZP4VJkgb8mjk\\u002f5i2bUqe\\u002fFT+CHGuN19DvPt0StahNCsQ+k4R8Cp69lT54l\\u002fsRhk9kPj+eZ2UOVzA+FtHmYxKk9j2ir8Lp+gO7Pa3qwBh3wns9aJ7Ni02QOD0LoIJLvbfyPAu\\u002fYYO6kKg8v0r0ZG3DWzzqAg54YgULPIhZTS6kpbY7ujBf4HhYYDuYcjzDolEEOyyVRElBwKU68ORnCBUNRDotoewjztXfOX8Q32hsw3U5kDeF692fCTk0wwYVQvuZOIENnDyLryY4+9T0LscOsTdcl3R8Fxc2N9nOqBmkorg28iXTt7SoNzZyjZoVC5GzNQMwUNfR3is1rvVLcxMdoTTejfjJKiuUNMCkawximSA1DwjtDZecpzUkLZApXewsNgySf9usgq429RQXyUa3KzffdlgTea6lN28YhJ1CNh04Pv2LolDykDi4s17un+4AOcUnVGkxI205fgu8CuiW1TlfHyH2Io07OkcSuUkVR546Ws7vbWCn\\u002fDp2glu+FlpXOzW0mU18Y7A7fH8gAjfPAzzeTUXRop5UPOd+odmie6I80Fn4x9eI7Dw34ZWGy\\u002fcyPUQ7Z4tLt3U9oF\\u002fqgf1otT2r7Qj8ey3yPZC1FdSslCo+mhbtbl28YD6oZJOx9SWSPu\\u002fMVSGM8sA+ZWPk6d9B6z7lZE8pR+ASP4RT3YOOgzY\\u002f8EVeMNQfVz\\u002fi50G+GHR0PwAm0WqRKI8\\u002f\\u002fadnnBRwpD8QxtVOwBa3P+AflgNOdsY\\u002fl23iKXjR0j8Au9C4JyfbP2pnXY6e3uA\\u002fN8OGkxIN4j+1nUVuJaLgP4+xd3zYZdo\\u002f3zZYH+oJ0j80qj9n7DrFPyjDo4lXhLU\\u002f3718c5nHoj+6bgzTyjqMP1P1pz19RXI\\u002foHeZHTpeVD99wzmdfo0zP2tfvx\\u002fwKRA\\u002f7puPV5ED5z78Ao6nqje8PrClOw0wy40+0GHd7BIXWz5yuvcfOTYlPvXiTTAWm+w9p5n6h0ScsD1s3Eafn5xwPeceGNnsnCw9Z5u52H445TwV\\u002f74dIxubPPhZgQjv0E080l3Ni1E+\\u002fDtJJard+gmnO\\u002fpl9ociL1A7jt86r56U8zpS0FX5hWaUOpsr1DO3TTI6TFHuvrZIzDmYqby3qtFiOYay1fXMkPU4i9z0syBIhTjcXtOc6BUSONL13iCIeJo3q\\u002f+6kaKuIDeJBD7IZhuiNi+p8Ee87CA2TFCXFws\\u002fmzWvrMmC1eISNcl\\u002f5Wb\\u002fi4Y0vsXj2Qou9zPQMg2Xk4VkMySyayWuSs8yUUH6gl6LNDKgQqGwIjuXMTJvgo8cn\\u002fYwB42+cDH4UjBYFxQElWWrL1TgwoR6CQEvF7WmJUw\\u002fUi4+eI9S0xShLUhBdcJO9\\u002fIt243CrhBAoy4JLuAfG9RQL8VNcrh5V\\u002fkvqVHYyydvoDBRkzPK51tCMdX\\u002fcNw4quExB9J1a7BHfTLYuzAQu+YUM2GTVnzvs6kzXsV7Ja05OzTR11+9CtfING5TFlWjhVM19cBrD5Bu2jWAg0M21tNeNoz6A72w+N42Bw\\u002fNr+nNWjeukMzg1fvTNwzLzsZTq0k4n9fyvaRnvDjrG6x\\u002fEhQrORhWNF0nPZY5\\u002fzF\\u002flWR4\\u002fzkjmZPbDi9jOoR6TWyFJsQ6UC1Lqmw8IjtkkgVET3B8OwplR0ktG9M7ylpR28oeJjzfbh4yIRF2PHGlFnr498I8qxWSI7sZDD3D4AAQn+9RPZCoDQoNu5M9iP8cxky00j2rAnDWkY8OPlpr+a8chEU+0tccWCIcej49ggjNk06rPtNynI4hndg+ia9\\u002fgUMfAz+q0XmD8ZspP1+pklg9kE0\\u002f6mk+jt5rbT+MOSjnHj+JPwCTgIG1r6I\\u002fq94ByfXftz9pLxWdGlzKP7zb6EaoNNk\\u002fh2cnkrv15D9cJdiLKYnuP013+ejNufM\\u002f2c2FMSwH9z\\u002fNIRmqi+D4Pyj02W1Fa\\u002fk\\u002fWZ3WedLH+D8QWSfIz9H2P9mCGdv+aPM\\u002fxU\\u002f+uNnJ7T80zq2pnD\\u002fkP3bwjTcPGdg\\u002f+mOkZWPuyD\\u002fBnl7Mw1W2P+TBgxcdSqE\\u002f7Nxx0U4ahz+wDIbHraBqP+YqaD6cdko\\u002fHI8lDGmsJj\\u002fONoGa8b4AP4bw2KxDUtU+Dv48wwZmpz69KkKduCF2PmbmFOi2CkI+yquOOABaCT6+x2FsUbPOPQc3Aa8ZBZA90CfT7tbQTD3KVc8fVlUGPVo3su7x1L08weu+cy8rcTy6jsSLSQchPHhBeqEoG807wI3YBPVudTtAnu633jIbO68oroj2vL065sy6BqEDXDoHs7bgo7z2OYDS7QApzI85pqxFpNMnIzkgYslHH+KzOKiRhs6yx0E49q7OEdFkyzcjofB05i1SN3YiViYTydQ26sOO5Nl4VDZzDigcfV7RNYVmTi9UY0k1tjaRrh\\u002f3vzTXjfsLcVUxNMFHDwBeMaAzpj1P1zQPCjNAc0eItw9yMqGuCKF\\u002fkNUxcj6bAictNjF\\u002fV+4fjqSTMHO1BQeW+O0vGn0ZVIaxQy+oTvlhXUqWLon1TuLkuuUt2g9jUrM+Mi3QKlV0EWN6LNcSrz0Ub8ArQQZLL0ahASv9MU7y8ElAKsCZuTs\\u002f7HkpumoexNvDsShvLAQIWfjkJzBohjV4URUnzpQ78h2qQiYAUVVtgyVsJY8ynykCR5IkXuEiSl9xtCN+y96p\\u002f7DTIg==\"},\"type\":\"scatter\"},{\"marker\":{\"color\":\"red\"},\"mode\":\"lines+markers\",\"name\":\"Spin 2\",\"x\":{\"dtype\":\"f8\",\"bdata\":\"VkcZU7wYKsCWAUU2vAoqwNa7cBm8\\u002fCnAFnac\\u002fLvuKcBXMMjfu+ApwJfq88K70inA2KQfprvEKcAYX0uJu7YpwFgZd2y7qCnAmNOiT7uaKcDYjc4yu4wpwBhI+hW7finAWQIm+bpwKcCZvFHcumIpwNp2fb+6VCnAGjGporpGKcBa69SFujgpwJqlAGm6KinA2l8sTLocKcAaGlgvug4pwFvUgxK6ACnAm46v9bnyKMDcSNvYueQowBwDB7y51ijAXL0yn7nIKMCcd16CuboowNwximW5rCjAHOy1SLmeKMBcpuEruZAowJ1gDQ+5gijA3Ro58rh0KMAe1WTVuGYowF6PkLi4WCjAnkm8m7hKKMDeA+h+uDwowB6+E2K4LijAXng\\u002fRbggKMCfMmsouBIowN\\u002fslgu4BCjAIKfC7rf2J8BgYe7Rt+gnwKAbGrW32ifA4NVFmLfMJ8AgkHF7t74nwGBKnV63sCfAoQTJQbeiJ8DhvvQkt5QnwCF5IAi3hifAYjNM67Z4J8Ci7XfOtmonwOKno7G2XCfAImLPlLZOJ8BiHPt3tkAnwKPWJlu2MifA45BSPrYkJ8AjS34hthYnwGQFqgS2CCfApL\\u002fV57X6JsDkeQHLtewmwCQ0La613ibAZO5YkbXQJsClqIR0tcImwOVisFe1tCbAJR3cOrWmJsBm1wcetZgmwKaRMwG1iibA5ktf5LR8JsAmBovHtG4mwGbAtqq0YCbApnrijbRSJsDnNA5xtEQmwCfvOVS0NibAZ6llN7QoJsCoY5EatBomwOgdvf2zDCbAKNjo4LP+JcBokhTEs\\u002fAlwKhMQKez4iXA6QZsirPUJcApwZdts8YlwGl7w1CzuCXAqjXvM7OqJcDq7xoXs5wlwCqqRvqyjiXAamRy3bKAJcCqHp7AsnIlwOvYyaOyZCXAK5P1hrJWJcBrTSFqskglwKwHTU2yOiXA7MF4MLIsJcAsfKQTsh4lwGw20PaxECXArPD72bECJcDsqie9sfQkwC1lU6Cx5iTAbR9\\u002fg7HYJMCt2apmscokwO6T1kmxvCTALk4CLbGuJMBuCC4QsaAkwK7CWfOwkiTA7nyF1rCEJMAvN7G5sHYkwG\\u002fx3JywaCTAr6sIgLBaJMDwZTRjsEwkwDAgYEawPiTAcNqLKbAwJMCwlLcMsCIkwPBO4++vFCTAMQkP068GJMBxwzq2r\\u002fgjwLF9Zpmv6iPA8jeSfK\\u002fcI8Ay8r1fr84jwHKs6UKvwCPAsmYVJq+yI8DyIEEJr6QjwDPbbOyuliPAc5WYz66II8CzT8SyrnojwPMJ8JWubCPANMQbea5eI8B0fkdcrlAjwLQ4cz+uQiPA9PKeIq40I8A0rcoFriYjwHVn9uitGCPAtSEizK0KI8D1202vrfwiwDaWeZKt7iLAdlClda3gIsC2CtFYrdIiwPbE\\u002fDutxCLANn8oH622IsB3OVQCragiwLfzf+WsmiLA962ryKyMIsA3aNerrH4iwHgiA4+scCLAuNwucqxiIsD4llpVrFQiwDhRhjisRiLAeQuyG6w4IsC5xd3+qyoiwPl\\u002fCeKrHCLAOTo1xasOIsB69GCoqwAiwLqujIur8iHA+mi4bqvkIcA6I+RRq9YhwHrdDzWryCHAu5c7GKu6IcD7UWf7qqwhwDsMk96qniHAfMa+waqQIcC8gOqkqoIhwPw6FoiqdCHAPPVBa6pmIcB8r21OqlghwL1pmTGqSiHA\\u002fSPFFKo8IcA93vD3qS4hwH2YHNupICHAvlJIvqkSIcD+DHShqQQhwD7Hn4Sp9iDAfoHLZ6noIMC\\u002fO\\u002fdKqdogwP\\u002f1Ii6pzCDAP7BOEam+IMB\\u002fanr0qLAgwMAkpteooiDAAN\\u002fRuqiUIMBAmf2dqIYgwIBTKYGoeCDAwQ1VZKhqIMAByIBHqFwgwEGCrCqoTiDAgTzYDahAIMDB9gPxpzIgwAKxL9SnJCDAQmtbt6cWIMCCJYeapwggwIW\\u002fZftO9R\\u002fABTS9wU7ZH8CGqBSITr0fwAYdbE5OoR\\u002fAh5HDFE6FH8AHBhvbTWkfwIh6cqFNTR\\u002fACO\\u002fJZ00xH8CJYyEuTRUfwAnYePRM+R7AikzQukzdHsAKwSeBTMEewIs1f0dMpR7AC6rWDUyJHsCMHi7US20ewAyThZpLUR7AjQfdYEs1HsANfDQnSxkewI7wi+1K\\u002fR3ADmXjs0rhHcCO2Tp6SsUdwA9OkkBKqR3Aj8LpBkqNHcAQN0HNSXEdwJCrmJNJVR3AESDwWUk5HcCRlEcgSR0dwBIJn+ZIAR3Akn32rEjlHMAT8k1zSMkcwJNmpTlIrRzAFNv8\\u002f0eRHMCUT1TGR3UcwBXEq4xHWRzAlTgDU0c9HMAWrVoZRyEcwJYhst9GBRzAF5YJpkbpG8CXCmFsRs0bwBh\\u002fuDJGsRvAmPMP+UWVG8AYaGe\\u002fRXkbwJncvoVFXRvAGlEWTEVBG8CaxW0SRSUbwBo6xdhECRvAm64cn0TtGsAcI3RlRNEawJyXyytEtRrAHAwj8kOZGsCdgHq4Q30awB710X5DYRrAnmkpRUNFGsAe3oALQykawJ9S2NFCDRrAH8cvmELxGcCgO4deQtUZwCCw3iRCuRnAoSQ260GdGcAhmY2xQYEZwKIN5XdBZRnAIoI8PkFJGcCj9pMEQS0ZwCNr68pAERnApN9CkUD1GMAkVJpXQNkYwKXI8R1AvRjAJT1J5D+hGMCmsaCqP4UYwCYm+HA\\u002faRjAp5pPNz9NGMAnD6f9PjEYwKiD\\u002fsM+FRjAKPhVij75F8CpbK1QPt0XwCnhBBc+wRfAqlVc3T2lF8AqyrOjPYkXwKo+C2o9bRfAK7NiMD1RF8CsJ7r2PDUXwCycEb08GRfArBBpgzz9FsAthcBJPOEWwK75FxA8xRbALm5v1jupFsCu4sacO40WwC9XHmM7cRbAsMt1KTtVFsAwQM3vOjkWwLC0JLY6HRbAMSl8fDoBFsCyndNCOuUVwDISKwk6yRXAsoaCzzmtFcAz+9mVOZEVwLRvMVw5dRXANOSIIjlZFcC0WODoOD0VwDTNN684IRXAtUGPdTgFFcA2tuY7OOkUwLYqPgI4zRTANp+VyDexFMC3E+2ON5UUwDiIRFU3eRTAuPybGzddFMA4cfPhNkEUwLnlSqg2JRTAOlqibjYJFMC6zvk0Nu0TwDpDUfs10RPAu7eowTW1E8A8LACINZkTwLygV041fRPAPBWvFDVhE8C9iQbbNEUTwD7+XaE0KRPAvnK1ZzQNE8A+5wwuNPESwL9bZPQz1RLAQNC7ujO5EsDARBOBM50SwEC5akczgRLAwC3CDTNlEsBBohnUMkkSwMIWcZoyLRLAQovIYDIREsDC\\u002fx8nMvURwEN0d+0x2RHAxOjOszG9EcBEXSZ6MaERwMTRfUAxhRHARUbVBjFpEcDGuizNME0RwEYvhJMwMRHAxqPbWTAVEcBHGDMgMPkQwMiMiuYv3RDASAHirC\\u002fBEMDIdTlzL6UQwEnqkDkviRDAyl7o\\u002fy5tEMBK0z\\u002fGLlEQwMpHl4wuNRDAS7zuUi4ZEMCXYYwyXPoPwJhKO79bwg\\u002fAmDPqS1uKD8CZHJnYWlIPwJoFSGVaGg\\u002fAnO728VniDsCc16V+WaoOwJ7AVAtZcg7AnqkDmFg6DsCgkrIkWAIOwKB7YbFXyg3AomQQPleSDcCiTb\\u002fKVloNwKQ2bldWIg3ApB8d5FXqDMCkCMxwVbIMwKbxev1UegzAptopilRCDMCow9gWVAoMwKish6NT0gvAqpU2MFOaC8CqfuW8UmILwKxnlElSKgvArFBD1lHyCsCuOfJiUboKwK4ioe9QggrAsAtQfFBKCsCw9P4IUBIKwLLdrZVP2gnAssZcIk+iCcC0rwuvTmoJwLSYujtOMgnAtoFpyE36CMC2ahhVTcIIwLhTx+FMigjAuDx2bkxSCMC6JSX7SxoIwLoO1IdL4gfAvPeCFEuqB8C84DGhSnIHwLzJ4C1KOgfAvrKPukkCB8C+mz5HScoGwMCE7dNIkgbAwG2cYEhaBsDCVkvtRyIGwMI\\u002f+nlH6gXAxCipBkeyBcDEEViTRnoFwMb6BiBGQgXAxuO1rEUKBcDIzGQ5RdIEwMi1E8ZEmgTAyp7CUkRiBMDKh3HfQyoEwMxwIGxD8gPAzFnP+EK6A8DOQn6FQoIDwM4rLRJCSgPA0BTcnkESA8DQ\\u002fYorQdoCwNLmObhAogLA0s\\u002foREBqAsDUuJfRPzICwNShRl4\\u002f+gHA1or16j7CAcDWc6R3PooBwNZcUwQ+UgHA2EUCkT0aAcDYLrEdPeIAwNoXYKo8qgDA2gAPNzxyAMDc6b3DOzoAwNzSbFA7AgDAvHc3unWU\\u002f7+8SZXTdCT\\u002fv8Ab8+xztP6\\u002fwO1QBnNE\\u002fr\\u002fEv64fctT9v8SRDDlxZP2\\u002fyGNqUnD0\\u002fL\\u002fINchrb4T8v8wHJoVuFPy\\u002fzNmDnm2k+7\\u002fQq+G3bDT7v9B9P9FrxPq\\u002f1E+d6mpU+r\\u002fUIfsDauT5v9jzWB1pdPm\\u002f2MW2NmgE+b\\u002fclxRQZ5T4v9xpcmlmJPi\\u002f3DvQgmW097\\u002fgDS6cZET3v+Dfi7Vj1Pa\\u002f5LHpzmJk9r\\u002fkg0foYfT1v+hVpQFhhPW\\u002f6CcDG2AU9b\\u002fs+WA0X6T0v+zLvk1eNPS\\u002f8J0cZ13E87\\u002fwb3qAXFTzv\\u002fRB2Jlb5PK\\u002f9BM2s1p08r\\u002f45ZPMWQTyv\\u002fi38eVYlPG\\u002f\\u002fIlP\\u002f1ck8b\\u002f8W60YV7TwvwAuCzJWRPC\\u002fAADSlqqo778IpI3JqMjuvwhISfym6O2\\u002fEOwEL6UI7b8QkMBhoyjsvxg0fJShSOu\\u002fGNg3x59o6r8YfPP5nYjpvyAgryycqOi\\u002fIMRqX5rI578oaCaSmOjmvygM4sSWCOa\\u002fMLCd95Qo5b8wVFkqk0jkvzj4FF2RaOO\\u002fOJzQj4+I4r9AQIzCjajhv0DkR\\u002fWLyOC\\u002fkBAHUBTR37+QWH61EBHev6Cg9RoNUdy\\u002foOhsgAmR2r+wMOTlBdHYv7B4W0sCEde\\u002fwMDSsP5Q1b\\u002fACEoW+5DTv9BQwXv30NG\\u002f0Jg44fMQ0L\\u002fAwV+N4KHMv8BRTljZIcm\\u002f4OE8I9Khxb\\u002fgcSvuyiHCvwAENHKHQ72\\u002fACQRCHlDtr8AiNw71Yauv4DIlme4hqC\\u002fAESImtw0dL8AbumBAvOWPwB3OhWeeak\\u002fQBvAdN28sz9A++Le67y6P4DtgiR93sA\\u002fgF2UWYRexD+AzaWOi97HP0A9t8OSXss\\u002fQK3I+Jnezj+gDu2WUC\\u002fRP6DGdTFU79I\\u002fgH7+y1ev1D+ANodmW2\\u002fWP4DuDwFfL9g\\u002fgKaYm2Lv2T9gXiE2Zq\\u002fbP2AWqtBpb90\\u002fYM4ya20v3z8ww92CuHfgPyAfIlC6V+E\\u002fIHtmHbw34j8g16rqvRfjPw==\"},\"y\":{\"dtype\":\"f8\",\"bdata\":\"GPn399XwAS638czFvfSxLkRyeIc7814vkOkVJwL4BjBXEyMhIlutMHcGiB1pJ1Ax7wQNXCee7jEarL49WfyIMu6noQy7jiEzOKx4MX4\\u002ftTNx1IcHeiRGNOBYHGCZ3tM03zG1euS0XjX1GNZJdG7kNQQ5XRSiaWc2zGbpkSwa5zatMWf+LKFjN981sTF1udw3BjVZfuwYUjhwlGdT66LDOJC1JDrMWDI5mKONiJ6FnTkC\\u002fVR35nMEOrdsyKciZ2g6fK+do1oSyToo2NMfUS4mO2fGI8jS5YA7vSBW\\u002fXUr1juwdFw25gspPNvBPb62XXg80IhW0l9pxDxHJ57doXINPfzRTkGkSlI9HQmyUz+Rkz17WoujUAbSPcg5NuY8mAw+bvL2P\\u002fWHQz54TcAQifl2PsthHdeORac+RMN1kltM1D5s9Ah1uH3+Pm9+\\u002fbNbuCM\\u002fS24yGAj3RT\\u002fdait0KxFlPz8r6DE2ZoE\\u002fEOadtH+\\u002fmD\\u002fCaF7Zrk+uP20coYzm978\\u002fkKbsEGoIzT9cYJPBXLTWP5jIPh4klN4\\u002fgjhC70m74T\\u002f7IRCmJrXhP51uI+ptdN4\\u002f52RuGyyN1j+wDIu3WcLMP7VeRh7YlL8\\u002fZcKZbgvdrT9aqPc6CFGYP0slMEe4DIE\\u002fZoWB2IeWZD\\u002f0MmKeUGhFP\\u002f\\u002fe3CfuKiM\\u002fHjOgzoqO\\u002fT5SjrdqhZ\\u002fTPsOoiJ7Wb6Y+xJkw7TcXdj7Ir6Z+k7pCPtMovBo2Wgs+u8ip2p4V0j0otEKoFh3NPYM3681yngU+GYNDXXMGPj7yqXu+APZxPsDuaA3tgKI+HtcOTDRq0D48reRMFhT5PleiX\\u002fAQfyA\\u002foK3\\u002fZBOwQj+sSlrq0jpiP39MKgs3oH4\\u002fywKun\\u002fkmlj9nbOBVU5irP4fcHMuwmb0\\u002fnVRgg1NXyz8Ii7zhGL\\u002fVP0ITswPJyd0\\u002fjPwsxGuR4T\\u002fjkPf0\\u002ftfhP13E9mtyNt8\\u002fQn2+hNOB1z+vxRIjVX3OP8Xx2V7LBsE\\u002fCayoHAhgsD+yfRbHTB+bPz\\u002fZHKhtV4M\\u002f9K8gtQvBZz\\u002fMlrnGAh9JP39sc65v4CY\\u002fBBmMX2rwAT9HsXcebTrYPlThD9fFU6w+TuTWGXEqhD5OgmBi1WiaPrx6EfROYcc+iiF\\u002ffHRW8j6Mg5rEd8cYP4cLOUEk1Tw\\u002fwEzEPZrjXD86dI0E0+x4Pxmrf1GZhJI\\u002fKw74Q5axpz\\u002fU8bMk6Rq6P77n+NBTxMg\\u002fHY\\u002fMc8Y71D9cWdBxv3fcP+t3\\u002fGWtPuE\\u002fW05S4p394T8ODZ0KbCngP5Na9z8bAdk\\u002fFFEsh92n0D\\u002f+HlD3axvDP0UnVhrs37I\\u002f\\u002f2dZICcOoD\\u002fMkKmGJYWHP5zLS75zq20\\u002fCRB9akIdUD9QXsvXPSUuP+wqaH7JRwg\\u002fWDLFkw3X4D5j8mvPXR20PpGbEfZbsIQ+P4R+IeFSUj5ScvGrE\\u002fMbPhPmbxvqWuI9ELyO54TCpD1gIxt\\u002f3zdkPWNpsLWq9CA9E0ykizR92DwsRpVO5XSOPHS1bVD6TkA8hAfBNikU7jsbvZi+m+KXOwnP8+4ZVUA7mQbA0L874zo\\u002fu4jT6oCDOpOyi2HLByE6qCObrFScuTkTNNAEA5VQOaov1cF5feI4g6vB4AHBcTgY6caTv1v9N7g6LRf65oQ3As7bZRuhCTewawondw+LNjkO50NSmgg2zqXSY\\u002fBCgzUiFgOhpvICNRNyuJ\\u002f2CHI1xMyGAER89zXYpi3M11V6NkZg8q3ebfk2\\u002f8F53cMkdTfdpbc72UbuN8MTMdCeqmI4i4x5ut3R0zjEXanHCx9COexKbJ+viKw5ZFtFnTFYEzrFn6n7+5V2OsWTZg4ftdY6fLOid6GoMztYTLs9gE+NOzZOi3HF0OI7ZkvHsSTNNDzZ700HcM2DPLmZGYesO9A8ZBmiTN7qFj0ss2gHN9xbPcciy\\u002fkhKp09p42KVBRK2j2E2jKy72cUPqTCFsxER0s+JNC+rnVmfz5wu63H1B+vPlAbCjvPkNo+3LpXF3CGAz\\u002fnZ0cw57YoPyfJGlIQ8Eo\\u002fBAsHX2NIaT8i5ISq9G6EPyIpm8rTcJw\\u002fnm2pWC8LsT+RkPGbFJfBP5TPnt3ZQ88\\u002fzaF3exPt1z8iSErVe4jfPxm74Jmj5OE\\u002fxCxTfmR84T83RsL8yW3dPz59oH0cU9U\\u002f56RSnJycyj8sTZ\\u002fCzJi8P1w9o6ktdqo\\u002fQULnl7AVlT8iqfhQAO98PzkHJdI6GGE\\u002fAy6FVeFkQT9MGl0XEHseP2twL74\\u002f\\u002f\\u002fY+b\\u002fvUa6zhzT4uUWgCibegPl0ZKAMxG3A+ZZVBI4m5Oj6HHT0unRcDPnKMIB1yfcc9xT1JE+\\u002fiiD0MGQcGJLRGPYDnXBzB1gE9GJFMd+KBuzziJmuvWxDWPMmmzUKoaR493Y3BSdk6Yj2dDKcpuNGiPaHwBiWmuuA9OEJ3HGucGT5vn1tFmOFQPnGkQbq9KYM+OHEBOlS7sj4dP6booojfPg1TXuQS2wY\\u002flJN1HqKHLD\\u002fAXH3Jd6pOP7r18o0qYmw\\u002f5P4WWzKfhj8yz41jCQ2fP3sZU1uvWbI\\u002fH2UR+zGtwj\\u002fDDrDCRV7QP9SoPdmStNg\\u002fYPdI7gMO4D+XimZ8zPfhP6RtfhDlUOE\\u002fDexMCFC93D+yzmRDcInUP9zKB\\u002fEeRsk\\u002fWl0KRoXIuj8efY1vvnCoP1nlv2RjNJM\\u002fFT3kziX9eT+yth992UheP2WgGoxyYz4\\u002fV\\u002fy8s9tBGj8Ws76ATYnzPncu3CqOCMk+zGBdliefmz4o6ymWhT5qPrDxtBTOeDU+LH1zvSdB\\u002fj3wHFx9plrCPYE+GzcSLYM9F2gUSIFAQT0I7SX26rr6PEWr60Hb1LE8hNeTYmd8ZDw\\u002f4SknOEQUPIvde6a1Q8E7LprppCNUaTvYmKteg\\u002f8PO+wFeRKHZ7E6avbfpKlNUDoEraw2KE3qOZOnt8q9RII58R2qoF7aFTna3dgphIKmOFDu0rs99zM4l2BSOrZ\\u002fvjdQ52vrCw9ENwIzXpRRuMY2CH56peYoRjZtlfWbepzCNfwau+1r6zo1I2aBnePEsDTt82r\\u002fiX2DNMMYBPpgLBA1F\\u002fNIlI1zlzUVzPo4AUgdNkTtNS1ve5826PeFzJslHTdZYbFnlTyXN7oUVL9J5w84RaIUqPrbgjj2g+dpJDPzOHNmRRrW1GA5Yl5470tpyTnL4iKem4QwOqZS0KPPfZI6t0i0EEnT8Tpv2YiByJdNO94DI\\u002f4GJ6U7zb+eMt8J+jvPVJUs4plLPKzLlu2LMZk8x\\u002fI\\u002fJkTN4zxgxOaw5c0qPX3MTktHPm89VBg\\u002fyeZbrz1czpAybBrrPcAVvbTWKyQ+Sin+BaDaWT49VGE+7oiMPs3lEw+HHrs+fPX2Np8x5j6vlXvGvkcPP3x6tRVG+zI\\u002f6Jqt0ETWUz+GGr3u99lxP81Mc6Oeqos\\u002fH8ZFfwt2oj9bu8WFEDe1P\\u002f1yToFX\\u002fsQ\\u002fvlYJAoLj0T\\u002fvxKP\\u002fZ0DaP30ZPLMmluA\\u002f5keSrGMM4j9cRXyyRengP9JTMgoYSts\\u002ffEgmQ7\\u002f10j844L5qr6\\u002fGPwMS0ODeX7c\\u002fYI3ingW9pD\\u002fge4UOCrCPP4asu5Gm2HQ\\u002fwYHfZVCeVz\\u002fvzpJN1Ao3P5heJoKTWxM\\u002fvUr1EccB7D4wdxUgOXLBPtMgod9at5I+CElAJC9KYT6kKY9MzYErPsY22lF91\\u002fI9u1S+4iA6tj3gUrnRG5R2PeqZEUv0vzM9VbZAHnfA7TwhCqQpAEyjPLJ8q6QGjlU88VkYfIu7BDxHaKS8\\u002fSuxOz7EsJeDflg7F8+NNfwV\\u002fjp8hm7eNNKfOlj74+VF+zw6K1GpbaC61jkMa0hY67JuOTRLecog2gE5Mi0Vv\\u002fXgkTiSJzx\\u002fN9YeOEBwNYA\\u002f5qY3+DIDYEJJLTf6DaBXOyCwNk9OihWWlS42zlAZy3j5qDUtw2A8mo8hNSKxbj8NRJU0Bel+h+EsBjS4bq3da+lzM8IGs8Wwyt4ylwar\\u002flWARDIUIn89\\u002f4GnMXg\\u002f8wsKNgcxEDnPkRq8YzCKCq2Mn+W8L1NN30TANxIv4bfyg6DHYy7x321H44eyLR8soAGsmtct6naakxediC6RjlxpSxs2LzCOwnmdGeEv7PupO8PIhjAnWlAiYCUqMeliQFha18kxa\\u002fJsFjL\\u002fZTLJ3CaWfCAAM72YUTPUXZQzhaJr9SYnJjRZn6\\u002fX+MC0NG1aN+IMv0A15w6yv+tGxzUcAIcEFN5LNuPX2cuFvMw29Vj+SfCFSTeC6jJOmobDN6EZ0WiXuzk4xYoAJfM1rThQs5\\u002f1uI8cOaznXsgGDog5cJwwt11z8Tki3vbvMs9VOmk42MN8erc6R339EJbFFTtk8ML3EGRxO+D+WvCo7sc7I5gO9qNeHDwXizj1IPhsPI8Mxvlqe7k81xci3gJPAz2eciI++DRJPTFt3fLrWIw9eqoHz0l2yz2FPFhOHusGPkqjO4MKekA+U21VzrxodD4kWrWYMcelPrtgLlEaBdQ+YI1nVKW1\\u002fz7ISOSKiaIlPy0gYFl5b0k\\u002fiUUwLy3EaT87Q0ufeH6GP27lOTK67aA\\u002fWIKmqZT6tT\\u002fu4EwZU6TIP1d6IyJx6Nc\\u002faYG7vZ8m5D+v0ssxBrftP9T440rDZPM\\u002fp93y4DrS9j\\u002f10iHe2sr4P7aAngm3b\\u002fk\\u002fZm1JDMvm+D\\u002feb96MpQ\\u002f3P+L\\u002fF8dRw\\u002fM\\u002fDi33m4WZ7j9CRLLI6\\u002f\\u002fkP962Sf+GPNk\\u002fLpRr6Uhcyj9wlPxKr9W3P5YhpbsUnaI\\u002fSrxStnsUiT++zu1DQSJtPzjrytXFKk0\\u002fYQHcSFopKT+kMDZFtbMCP6zfSknZ89c+DEA\\u002fw+Ntqj4G\\u002fywEnB95PlgeKEAUk0Q+1WBo6+oHDT6jghfN\\u002fKTRPbRHEjQZepI9lHuajRWrUD0ZpStpNugJPVYyt+gNWME8thNxeEMBdDy1tgSJhOAjPEbnOdljA9E7rtfgtpgWeTsUO84Vdt4fO0nUsbabb8E6svDOvURvYDoULwAI\\u002fK\\u002f6OSSS2w0tqpI5Sz47LBR9JjlRWEco71a3ON6n6Qpa3UQ45JrHAPEQ0Dc2tUK73E9VN6lKtYTCWdg2yL82VOv2VzavUDZwZFDUNZNIfcHIqU01kAiwBmynwjRWoz2AIDU0NIL2vniv2qIzAqKaM5NNDjMMgovOVvl0MqSRAF2gAdkxDnLYF5KtOTGwilz5rLWWMHqD92RJTPEvauo0OxiyRi8DB7FVY6WZLiVyEDZ39egtR\\u002fMRqWnrNC0UHXsdqjN+LJVdEHulxsIrXgWSnwsbBCvlH8fcqIpCKoKvaCTOc30p4YMv1iwltChhH36PxLvnJ0HCeOB4FBgnkyTX5FcKRSbFfGRHUapvJXZ8jn4vhZQkdOF9mWbntiPzDaiaBATWIg==\"},\"type\":\"scatter\"}],                        {\"template\":{\"data\":{\"scatter\":[{\"type\":\"scatter\"}]}},\"font\":{\"size\":20},\"xaxis\":{\"zeroline\":false,\"showline\":true,\"mirror\":true,\"ticks\":\"outside\",\"title\":{\"text\":\"E - E\\u003csub\\u003eF\\u003c\\u002fsub\\u003e [eV]\"}},\"yaxis\":{\"showline\":true,\"mirror\":true,\"ticks\":\"outside\",\"title\":{\"text\":\"DOS\"}},\"hoverlabel\":{\"bgcolor\":\"black\"},\"width\":800,\"height\":600},                        {\"responsive\": true}                    ).then(function(){\n",
       "                            \n",
       "var gd = document.getElementById('7b44fda0-fa73-4b50-a477-b5a72d5e2b02');\n",
       "var x = new MutationObserver(function (mutations, observer) {{\n",
       "        var display = window.getComputedStyle(gd).display;\n",
       "        if (!display || display === 'none') {{\n",
       "            console.log([gd, 'removed!']);\n",
       "            Plotly.purge(gd);\n",
       "            observer.disconnect();\n",
       "        }}\n",
       "}});\n",
       "\n",
       "// Listen for the removal of the full notebook cells\n",
       "var notebookContainer = gd.closest('#notebook-container');\n",
       "if (notebookContainer) {{\n",
       "    x.observe(notebookContainer, {childList: true});\n",
       "}}\n",
       "\n",
       "// Listen for the clearing of the current output cell\n",
       "var outputEl = gd.closest('.output');\n",
       "if (outputEl) {{\n",
       "    x.observe(outputEl, {childList: true});\n",
       "}}\n",
       "\n",
       "                        })                };            </script>        </div>"
      ]
     },
     "metadata": {},
     "output_type": "display_data"
    }
   ],
   "source": [
    "plot_dos(scf, spin=(0, 1))"
   ]
  },
  {
   "cell_type": "code",
   "execution_count": 9,
   "id": "2ee151f5-01fe-481a-a817-91a36392b9bd",
   "metadata": {},
   "outputs": [
    {
     "data": {
      "text/html": [
       "<div>            <script src=\"https://cdnjs.cloudflare.com/ajax/libs/mathjax/2.7.5/MathJax.js?config=TeX-AMS-MML_SVG\"></script><script type=\"text/javascript\">if (window.MathJax && window.MathJax.Hub && window.MathJax.Hub.Config) {window.MathJax.Hub.Config({SVG: {font: \"STIX-Web\"}});}</script>                <script type=\"text/javascript\">window.PlotlyConfig = {MathJaxConfig: 'local'};</script>\n",
       "        <script charset=\"utf-8\" src=\"https://cdn.plot.ly/plotly-3.0.1.min.js\"></script>                <div id=\"5e79af81-4c97-4132-8600-11c286eac7c2\" class=\"plotly-graph-div\" style=\"height:400px; width:600px;\"></div>            <script type=\"text/javascript\">                window.PLOTLYENV=window.PLOTLYENV || {};                                if (document.getElementById(\"5e79af81-4c97-4132-8600-11c286eac7c2\")) {                    Plotly.newPlot(                        \"5e79af81-4c97-4132-8600-11c286eac7c2\",                        [{\"mode\":\"lines+markers\",\"name\":\"Band 1\",\"x\":{\"dtype\":\"f8\",\"bdata\":\"AAAAAAAAAAAYj6jjl2nBPxiPqOOXadE\\u002fpNZ81WMe2j8Yj6jjl2nhP95YLsgHb+U\\u002fpCK0rHd06T9q7DmR53ntPxjb37qrv\\u002fA\\u002f+78irWPC8j8=\"},\"y\":{\"dtype\":\"f8\",\"bdata\":\"XqTV7Cy2I8AFUdwZfk4lwKSI+QUCSCfAtHvmhWOfKMC82bJ3RRYpwJzQLfoAryjAdem\\u002fbu52J8BqA9ix0polwJLkJaSxDCPAPJLKn\\u002fDBH8A=\"},\"type\":\"scatter\"},{\"mode\":\"lines+markers\",\"name\":\"Band 2\",\"x\":{\"dtype\":\"f8\",\"bdata\":\"AAAAAAAAAAAYj6jjl2nBPxiPqOOXadE\\u002fpNZ81WMe2j8Yj6jjl2nhP95YLsgHb+U\\u002fpCK0rHd06T9q7DmR53ntPxjb37qrv\\u002fA\\u002f+78irWPC8j8=\"},\"y\":{\"dtype\":\"f8\",\"bdata\":\"BPQ+mvyaHsDGTdh5980ZwNxrqMxxvxDAZLNqKbo\\u002f+r9AVKbE1+u0P6BegJLTX+e\\u002fOrbNlAwQA8BUPP4UIwARwKkVO5B4lxjAkW0JSdK0H8A=\"},\"type\":\"scatter\"},{\"mode\":\"lines+markers\",\"name\":\"Band 3\",\"x\":{\"dtype\":\"f8\",\"bdata\":\"AAAAAAAAAAAYj6jjl2nBPxiPqOOXadE\\u002fpNZ81WMe2j8Yj6jjl2nhP95YLsgHb+U\\u002fpCK0rHd06T9q7DmR53ntPxjb37qrv\\u002fA\\u002f+78irWPC8j8=\"},\"y\":{\"dtype\":\"f8\",\"bdata\":\"YL6lOIc49b\\u002fIF0G5hlTzvxDGruWMGOu\\u002fQOsbtF0i0r\\u002fAMPJMQRW3P6hucHwoSua\\u002fPHxQMxZ4\\u002fL8uUnIZrgYFwE5LLj5LOQnAhhOdV12XCsA=\"},\"type\":\"scatter\"},{\"mode\":\"lines+markers\",\"name\":\"Band 4\",\"x\":{\"dtype\":\"f8\",\"bdata\":\"AAAAAAAAAAAYj6jjl2nBPxiPqOOXadE\\u002fpNZ81WMe2j8Yj6jjl2nhP95YLsgHb+U\\u002fpCK0rHd06T9q7DmR53ntPxjb37qrv\\u002fA\\u002f+78irWPC8j8=\"},\"y\":{\"dtype\":\"f8\",\"bdata\":\"NA3asvEJ9b+0YjUprSTzvyhgsetrs+q\\u002fID+16TYr0L9AasXnZUG5P4Di5d2CZuW\\u002fGHZGj\\u002fD0+79U814BasMEwJJUQ0Zj9QjAotbolSpMCsA=\"},\"type\":\"scatter\"},{\"line\":{\"dash\":\"dash\"},\"mode\":\"lines+markers\",\"name\":\"Unocc. band 1\",\"x\":{\"dtype\":\"f8\",\"bdata\":\"AAAAAAAAAAAYj6jjl2nBPxiPqOOXadE\\u002fpNZ81WMe2j8Yj6jjl2nhP95YLsgHb+U\\u002fpCK0rHd06T9q7DmR53ntPxjb37qrv\\u002fA\\u002f+78irWPC8j8=\"},\"y\":{\"dtype\":\"f8\",\"bdata\":\"CK1r11Bh\\u002fz8I4f2IfUX+Pxg9XQZSagFAjB70O0HTA0C4mFkCfrcBQOi4Ooy0f\\u002fw\\u002f4GszyYhE7j8g0u4CjqLQP8BpxedlQbm\\u002fgDxctQgppb8=\"},\"type\":\"scatter\"},{\"line\":{\"dash\":\"dash\"},\"mode\":\"lines+markers\",\"name\":\"Unocc. band 2\",\"x\":{\"dtype\":\"f8\",\"bdata\":\"AAAAAAAAAAAYj6jjl2nBPxiPqOOXadE\\u002fpNZ81WMe2j8Yj6jjl2nhP95YLsgHb+U\\u002fpCK0rHd06T9q7DmR53ntPxjb37qrv\\u002fA\\u002f+78irWPC8j8=\"},\"y\":{\"dtype\":\"f8\",\"bdata\":\"NNhRRy+uBkDAmzrFTwwIQPwX6Xfv7glAnCFwzEDzBUC0Eys0l8sBQFDBaQ9IyglAfIbnWZosC0BIl2f0nFz6P7AYzGzNK+E\\u002fAJAsnjkrjD8=\"},\"type\":\"scatter\"},{\"line\":{\"dash\":\"dash\"},\"mode\":\"lines+markers\",\"name\":\"Unocc. band 3\",\"x\":{\"dtype\":\"f8\",\"bdata\":\"AAAAAAAAAAAYj6jjl2nBPxiPqOOXadE\\u002fpNZ81WMe2j8Yj6jjl2nhP95YLsgHb+U\\u002fpCK0rHd06T9q7DmR53ntPxjb37qrv\\u002fA\\u002f+78irWPC8j8=\"},\"y\":{\"dtype\":\"f8\",\"bdata\":\"fMO2+w3CBkBU+kH3ZSEIQAwc\\u002fsVpBQpAbBO3Efz\\u002fBUDwq9mfFdQBQFQ2RlvT+glAWgH2eq7nE0B2\\u002fwAG1qQbQPWNCXTyxiFAZ3kC4LARJUA=\"},\"type\":\"scatter\"},{\"line\":{\"dash\":\"dash\"},\"mode\":\"lines+markers\",\"name\":\"Unocc. band 4\",\"x\":{\"dtype\":\"f8\",\"bdata\":\"AAAAAAAAAAAYj6jjl2nBPxiPqOOXadE\\u002fpNZ81WMe2j8Yj6jjl2nhP95YLsgHb+U\\u002fpCK0rHd06T9q7DmR53ntPxjb37qrv\\u002fA\\u002f+78irWPC8j8=\"},\"y\":{\"dtype\":\"f8\",\"bdata\":\"zhGaiay2GkCKABtgEbsbQM5KwXZh6htAaLwO9A8yFkDGxw84dkESQEqe\\u002fdyWARRATgc1x40AFED2WzkwKgEcQK3KKJ+uzyFAiR6P3xQaJUA=\"},\"type\":\"scatter\"}],                        {\"template\":{\"data\":{\"scatter\":[{\"type\":\"scatter\"}]}},\"font\":{\"size\":20},\"xaxis\":{\"zeroline\":false,\"showline\":true,\"mirror\":true,\"ticks\":\"outside\",\"tickmode\":\"array\",\"tickvals\":{\"dtype\":\"f8\",\"bdata\":\"AAAAAAAAAAAYj6jjl2nhP\\u002fu\\u002fIq1jwvI\\u002f\"},\"ticktext\":[\"L\",\"Γ\",\"X\"],\"gridcolor\":\"grey\",\"gridwidth\":2,\"range\":[0,1.1724583399882238],\"title\":{\"text\":\"k-path\"}},\"yaxis\":{\"zeroline\":false,\"showline\":true,\"mirror\":true,\"ticks\":\"outside\",\"showgrid\":false,\"title\":{\"text\":\"E - E\\u003csub\\u003eF\\u003c\\u002fsub\\u003e [eV]\"}},\"hoverlabel\":{\"bgcolor\":\"black\"},\"width\":600,\"height\":400,\"showlegend\":false},                        {\"responsive\": true}                    ).then(function(){\n",
       "                            \n",
       "var gd = document.getElementById('5e79af81-4c97-4132-8600-11c286eac7c2');\n",
       "var x = new MutationObserver(function (mutations, observer) {{\n",
       "        var display = window.getComputedStyle(gd).display;\n",
       "        if (!display || display === 'none') {{\n",
       "            console.log([gd, 'removed!']);\n",
       "            Plotly.purge(gd);\n",
       "            observer.disconnect();\n",
       "        }}\n",
       "}});\n",
       "\n",
       "// Listen for the removal of the full notebook cells\n",
       "var notebookContainer = gd.closest('#notebook-container');\n",
       "if (notebookContainer) {{\n",
       "    x.observe(notebookContainer, {childList: true});\n",
       "}}\n",
       "\n",
       "// Listen for the clearing of the current output cell\n",
       "var outputEl = gd.closest('.output');\n",
       "if (outputEl) {{\n",
       "    x.observe(outputEl, {childList: true});\n",
       "}}\n",
       "\n",
       "                        })                };            </script>        </div>"
      ]
     },
     "metadata": {},
     "output_type": "display_data"
    }
   ],
   "source": [
    "# Test custom sizes\n",
    "plot_bandstructure(scf, size=(600, 400))"
   ]
  },
  {
   "cell_type": "code",
   "execution_count": 10,
   "id": "6f80d3a1-af0f-4771-97d2-c86c8d1db221",
   "metadata": {},
   "outputs": [
    {
     "data": {
      "text/html": [
       "<div>            <script src=\"https://cdnjs.cloudflare.com/ajax/libs/mathjax/2.7.5/MathJax.js?config=TeX-AMS-MML_SVG\"></script><script type=\"text/javascript\">if (window.MathJax && window.MathJax.Hub && window.MathJax.Hub.Config) {window.MathJax.Hub.Config({SVG: {font: \"STIX-Web\"}});}</script>                <script type=\"text/javascript\">window.PlotlyConfig = {MathJaxConfig: 'local'};</script>\n",
       "        <script charset=\"utf-8\" src=\"https://cdn.plot.ly/plotly-3.0.1.min.js\"></script>                <div id=\"1361bafb-5cb7-4fa3-93b5-f9096cea72bd\" class=\"plotly-graph-div\" style=\"height:400px; width:600px;\"></div>            <script type=\"text/javascript\">                window.PLOTLYENV=window.PLOTLYENV || {};                                if (document.getElementById(\"1361bafb-5cb7-4fa3-93b5-f9096cea72bd\")) {                    Plotly.newPlot(                        \"1361bafb-5cb7-4fa3-93b5-f9096cea72bd\",                        [{\"marker\":{\"color\":\"blue\"},\"mode\":\"lines+markers\",\"name\":\"Spin 1\",\"x\":{\"dtype\":\"f8\",\"bdata\":\"vNmyd0UWKsAgoqAXRggqwIRqjrdG+inA6TJ8V0fsKcBN+2n3R94pwLLDV5dI0CnAFoxFN0nCKcB6VDPXSbQpwN4cIXdKpinAQuUOF0uYKcCmrfy2S4opwAt26lZMfCnAbz7Y9kxuKcDUBsaWTWApwDjPszZOUinAnJeh1k5EKcAAYI92TzYpwGQofRZQKCnAyPBqtlAaKcAtuVhWUQwpwJGBRvZR\\u002fijA9kk0llLwKMBaEiI2U+IowL7aD9ZT1CjAIqP9dVTGKMCGa+sVVbgowOsz2bVVqijAT\\u002fzGVVacKMC0xLT1Vo4owBiNopVXgCjAfFWQNVhyKMDgHX7VWGQowETma3VZVijAqK5ZFVpIKMANd0e1WjoowHE\\u002fNVVbLCjA1gcj9VseKMA60BCVXBAowJ6Y\\u002fjRdAijAAmHs1F30J8BmKdp0XuYnwMrxxxRf2CfAL7q1tF\\u002fKJ8CTgqNUYLwnwPhKkfRgrifAXBN\\u002flGGgJ8DA22w0YpInwCSkWtRihCfAiGxIdGN2J8DtNDYUZGgnwFH9I7RkWifAtcURVGVMJ8Aajv\\u002fzZT4nwH5W7ZNmMCfA4h7bM2ciJ8BG58jTZxQnwKuvtnNoBifAD3ikE2n4JsBzQJKzaeomwNgIgFNq3CbAPNFt82rOJsCgmVuTa8AmwARiSTNssibAaCo302ykJsDN8iRzbZYmwDG7EhNuiCbAlYMAs256JsD6S+5Sb2wmwF4U3PJvXibAwtzJknBQJsAmpbcycUImwIptpdJxNCbA7zWTcnImJsBT\\u002foAScxgmwLfGbrJzCibAHI9cUnT8JcCAV0rydO4lwOQfOJJ14CXASOglMnbSJcCtsBPSdsQlwBF5AXJ3tiXAdUHvEXioJcDaCd2xeJolwD7SylF5jCXAopq48Xl+JcAGY6aRenAlwGorlDF7YiXAz\\u002fOB0XtUJcAzvG9xfEYlwJeEXRF9OCXA\\u002fExLsX0qJcBgFTlRfhwlwMTdJvF+DiXAKKYUkX8AJcCMbgIxgPIkwPE28NCA5CTAVf\\u002fdcIHWJMC6x8sQgsgkwB6QubCCuiTAglinUIOsJMDmIJXwg54kwErpgpCEkCTAr7FwMIWCJMATel7QhXQkwHdCTHCGZiTA3Ao6EIdYJMBA0yewh0okwKSbFVCIPCTACGQD8IguJMBsLPGPiSAkwNH03i+KEiTANb3Mz4oEJMCZhbpvi\\u002fYjwP5NqA+M6CPAYhaWr4zaI8DG3oNPjcwjwCqnce+NviPAj29fj46wI8DzN00vj6IjwFcAO8+PlCPAu8gob5CGI8AgkRYPkXgjwIRZBK+RaiPA6CHyTpJcI8BM6t\\u002fukk4jwLGyzY6TQCPAFXu7LpQyI8B5Q6nOlCQjwN4Ll26VFiPAQtSEDpYII8CmnHKulvoiwAplYE6X7CLAbi1O7pfeIsDT9TuOmNAiwDe+KS6ZwiLAm4YXzpm0IsAATwVumqYiwGQX8w2bmCLAyN\\u002fgrZuKIsAsqM5NnHwiwJFwvO2cbiLA9TiqjZ1gIsBZAZgtnlIiwL3Jhc2eRCLAIpJzbZ82IsCGWmENoCgiwOoiT62gGiLATus8TaEMIsCzsyrtof4hwBd8GI2i8CHAe0QGLaPiIcDgDPTMo9QhwETV4WykxiHAqJ3PDKW4IcAMZr2spaohwHEuq0ymnCHA1faY7KaOIcA5v4aMp4AhwJ2HdCyociHAAlBizKhkIcBmGFBsqVYhwMrgPQyqSCHALqkrrKo6IcCTcRlMqywhwPc5B+yrHiHAWwL1i6wQIcC\\u002fyuIrrQIhwCST0Mut9CDAiFu+a67mIMDsI6wLr9ggwFDsmauvyiDAtbSHS7C8IMAZfXXrsK4gwH1FY4uxoCDA4g1RK7KSIMBG1j7LsoQgwKqeLGuzdiDADmcaC7RoIMBzLwirtFogwNf39Uq1TCDAO8Dj6rU+IMCfiNGKtjAgwARRvyq3IiDAaBmtyrcUIMDM4ZpquAYgwGFUERVy8R\\u002fAKeXsVHPVH8DydciUdLkfwLoGpNR1nR\\u002fAg5d\\u002fFHeBH8BLKFtUeGUfwBS5NpR5SR\\u002fA3EkS1HotH8Cl2u0TfBEfwG5ryVN99R7ANvykk37ZHsD\\u002fjIDTf70ewMcdXBOBoR7AkK43U4KFHsBYPxOTg2kewCHQ7tKETR7A6WDKEoYxHsCy8aVShxUewHqCgZKI+R3AQxNd0ondHcALpDgSi8EdwNQ0FFKMpR3AnMXvkY2JHcBlVsvRjm0dwC3nphGQUR3A9neCUZE1HcC+CF6RkhkdwIeZOdGT\\u002fRzAUCoVEZXhHMAYu\\u002fBQlsUcwOBLzJCXqRzAqdyn0JiNHMBybYMQmnEcwDr+XlCbVRzAA486kJw5HMDLHxbQnR0cwJSw8Q+fARzAXEHNT6DlG8Al0qiPockbwO1ihM+irRvAtvNfD6SRG8B+hDtPpXUbwEcVF4+mWRvAD6byzqc9G8DYNs4OqSEbwKDHqU6qBRvAaViFjqvpGsAy6WDOrM0awPp5PA6usRrAwgoYTq+VGsCLm\\u002fONsHkawFQsz82xXRrAHL2qDbNBGsDkTYZNtCUawK3eYY21CRrAdm89zbbtGcA+ABkNuNEZwAeR9Ey5tRnAzyHQjLqZGcCYsqvMu30ZwGBDhwy9YRnAKdRiTL5FGcDxZD6MvykZwLr1GczADRnAgob1C8LxGMBMF9FLw9UYwBSorIvEuRjA3TiIy8WdGMClyWMLx4EYwG5aP0vIZRjANusai8lJGMD\\u002fe\\u002fbKyi0YwMcM0grMERjAkJ2tSs31F8BYLomKztkXwCG\\u002fZMrPvRfA6k9ACtGhF8Cy4BtK0oUXwHpx94nTaRfAQwLTydRNF8AMk64J1jEXwNQjiknXFRfAnLRlidj5FsBlRUHJ2d0WwC7WHAnbwRbA9mb4SNylFsC+99OI3YkWwIeIr8jebRbAUBmLCOBRFsAYqmZI4TUWwOE6QojiGRbAqssdyOP9FcByXPkH5eEVwDrt1EfmxRXAA36wh+epFcDMDozH6I0VwJSfZwfqcRXAXDBDR+tVFcAlwR6H7DkVwO5R+sbtHRXAtuLVBu8BFcB+c7FG8OUUwEcEjYbxyRTAEJVoxvKtFMDYJUQG9JEUwKC2H0b1dRTAaUf7hfZZFMAy2NbF9z0UwPposgX5IRTAwvmNRfoFFMCLimmF++kTwFQbRcX8zRPAHKwgBf6xE8DlPPxE\\u002f5UTwK7N14QAehPAdl6zxAFeE8A+744EA0ITwAeAakQEJhPA0BBGhAUKE8CYoSHEBu4SwGAy\\u002fQMI0hLAKcPYQwm2EsDyU7SDCpoSwLrkj8MLfhLAgnVrAw1iEsBLBkdDDkYSwBSXIoMPKhLA3Cf+whAOEsCkuNkCEvIRwG1JtUIT1hHANtqQghS6EcD+amzCFZ4RwMb7RwIXghHAkIwjQhhmEcBYHf+BGUoRwCCu2sEaLhHA6T62ARwSEcCyz5FBHfYQwHpgbYEe2hDAQvFIwR++EMALgiQBIaIQwNQSAEEihhDAnKPbgCNqEMBkNLfAJE4QwC3FkgAmMhDA9lVuQCcWEMB8zZMAUfQPwA3vSoBTvA\\u002fAnhACAFaED8AvMrl\\u002fWEwPwMBTcP9aFA\\u002fAUnUnf13cDsDilt7+X6QOwHS4lX5ibA7ABNpM\\u002fmQ0DsCW+wN+Z\\u002fwNwCYdu\\u002f1pxA3AuD5yfWyMDcBIYCn9blQNwNqB4HxxHA3AaqOX\\u002fHPkDMD8xE58dqwMwIzmBfx4dAzAHgi9e3s8DMCuKXT7fQQMwEBLK3uAzAvA0mzi+oKUC8Bijpl6hVwLwPSvUPqHJAvAhNEHeorsCsAW8775jLQKwKYUdnmPfArAODYt+ZFECsDIV+R4lAwKwFp5m\\u002fiW1AnA6ppSeJmcCcB8vAn4m2QJwAzewHeeLAnAnv9396D0CMAuIS93o7wIwMBC5valhAjAUGSddqhMCMDihVT2qhQIwHKnC3at3AfABMnC9a+kB8CU6nl1smwHwCYMMfW0NAfAuC3odLf8BsBIT5\\u002f0ucQGwNpwVnS8jAbAapIN9L5UBsD8s8RzwRwGwIzVe\\u002fPD5AXAHvcyc8asBcCuGOryyHQFwEA6oXLLPAXA0FtY8s0EBcBifQ9y0MwEwPKexvHSlATAhMB9cdVcBMAU4jTx1yQEwKYD7HDa7APANiWj8Ny0A8DIRlpw33wDwFhoEfDhRAPA6onIb+QMA8B6q3\\u002fv5tQCwAzNNm\\u002fpnALAnu7t7utkAsAuEKVu7iwCwMAxXO7w9AHAUFMTbvO8AcDidMrt9YQBwHKWgW34TAHABLg47foUAcCU2e9s\\u002fdwAwCb7puz\\u002fpADAthxebAJtAMBIPhXsBDUAwLC\\u002fmNcO+v+\\u002f1AIH1xOK\\u002f7\\u002f0RXXWGBr\\u002fvxiJ49Udqv6\\u002fOMxR1SI6\\u002fr9cD8DUJ8r9v3xSLtQsWv2\\u002foJWc0zHq\\u002fL\\u002fA2ArTNnr8v+QbedI7Cvy\\u002fCF\\u002fn0UCa+78oolXRRSr7v0zlw9BKuvq\\u002fbCgy0E9K+r+Qa6DPVNr5v7CuDs9Zavm\\u002f1PF8zl76+L\\u002f0NOvNY4r4vxh4Wc1oGvi\\u002fOLvHzG2q979c\\u002fjXMcjr3v3xBpMt3yva\\u002foIQSy3xa9r\\u002fAx4DKger1v+QK78mGevW\\u002fBE5dyYsK9b8okcvIkJr0v0jUOciVKvS\\u002fbBeox5q687+MWhbHn0rzv7CdhMak2vK\\u002f0ODyxalq8r\\u002f0I2HFrvrxvxhnz8SzivG\\u002fOKo9xLga8b9c7avDvarwv3wwGsPCOvC\\u002fQOcQhY+V77+Abe2DmbXuv8jzyYKj1e2\\u002fCHqmga317L9QAIOAtxXsv5CGX3\\u002fBNeu\\u002f2Aw8fstV6r8Ykxh91XXpv2AZ9Xvflei\\u002foJ\\u002fReum157\\u002foJa5589Xmvyisinj99eW\\u002fcDJndwcW5b+wuEN2ETbkv\\u002fg+IHUbVuO\\u002fOMX8cyV24r+AS9lyL5bhv8jRtXE5tuC\\u002fELAk4Yas37+gvN3emuzdvyDJltyuLNy\\u002fsNVP2sJs2r8w4gjY1qzYv8DuwdXq7Na\\u002fQPt60\\u002f4s1b\\u002fQBzTREm3Tv1AU7c4mrdG\\u002fwEFMmXXaz7\\u002fAWr6UnVrMv+BzMJDF2si\\u002f4Iyii+1axb8AphSHFdvBvwB+DQV7try\\u002fQLDx+8q2tb+AxKvlNW6tvwBS6Kar3Z6\\u002fANDIE1z3Zr8AHfah1B+ZPwCqMmNKj6o\\u002fACO1OlVHtD\\u002fA8NBDBUe7P0BfdqZaI8E\\u002fQEYEqzKjxD9ALZKvCiPIP0AUILTioss\\u002fAPutuLoizz8A8Z1eSVHRP4Dk5GA1EdM\\u002fANgrYyHR1D9gy3JlDZHWP+C+uWf5UNg\\u002fYLIAauUQ2j\\u002fgpUds0dDbP0CZjm69kN0\\u002fwIzVcKlQ3z8gQI65SojgP+C5sbpAaOE\\u002fkDPVuzZI4j9Qrfi8LCjjPw==\"},\"y\":{\"dtype\":\"f8\",\"bdata\":\"yc0CuboHIy6sENBDWH3SLp9ElcGw8H4vBLU5+\\u002f9KJjDVf2XqG6rLMLBDUgtIkG0xN7Rq99k0CzLzi1ONlY+lMmygNCG+bT0zN0b9HpFL0TOzTIXUj4FhNFBs4F2+hO40LABFjHTodjWX1f5QnZ39NXOJhJNSfIA23aZsBEGc\\u002fzaEjJ4nBxl6N5IGZHkJjvI3ljHjKny4Zjg8XdHEcPXXONCh83alwUU5dz3M\\u002fW0DsTla0qLDB+oWOqDpJpmUk3o6ekIR8VSL2jrMkmljuNQ2O22dKEsX6ZA7zzmjqYyS5Tvc3Tap1rI3PGSQvPJha4Y8AkZGg7ZD0jwlfhN1jaAZPdxUqfoS9149kYHrkSgcoD2SWyX0597cPZcUohkWRxY+Z8NsU1qbTT6gme3aJfGAPg1DK1eCsrA+EpsHXq5X3D5amk4S+7YEP4pEnOVQEyo\\u002fvdyINBVETD+6IfJf12JqP9FYU\\u002fcVNoU\\u002fVWUb1RlenT9yIb9034GxP1lhQBG6+cE\\u002f2OnaB4XJzz\\u002fVE\\u002f+CBjTYPyfnxgFkvd8\\u002fNPsA7wTs4T9GxJ2r3G3hP3AuJcVgMd0\\u002faCCpC70N1T8tAcZDqCbKP5WNAPjr+Ls\\u002f9wxMJCLEqT+APlkzRHCUP7fZcOhB7Hs\\u002fF6D9PPJsYD\\u002fbZ+fNNKRAP2hxICTMCR0\\u002fE90l1DnR9T4ezuNiYDvMPnq4u1zLdZ8+yFJESJcwbj5U6vnkxPI4PgdsjZrWwwE+6QcpgH6zyD0TUhw6UCnWPVqDoYK\\u002f1RA+j1l+SaXBRj75uB8TXn56PraZ\\u002fWbXj6o+9Wr588ju1j6f9TNO5AwBP\\u002fzpbaRX1SU\\u002fEbPXqoETSD+D4MOX89xmP57jPXJSsoI\\u002fCud1mjlVmj8tslEsR\\u002fCvP8+o0znyrcA\\u002fAuLFKzMBzj8tFEUxkj3XPxJ\\u002fCUTsAN8\\u002f28XhUP3O4T+n+TTqMJ7hP5dMB5\\u002fGBN4\\u002f+d6sfOYF1j+XO9ZI1NPLPyiBxkCRR74\\u002f6uY6AX5frD\\u002fXFhY+IeWWPwkvEQqt0X8\\u002fa6cwNWsKYz9DCxdSwZ9DPxnWSF7CaiE\\u002fKetSp7Kf+j4clbAdpYbRPst4taeCGqQ+IIkHs0DYgj5ezAne7BKjPsFuH4Smq9A+Idi7JL1s+T4CuVlg67IgP5XHLTPR40I\\u002fSfdqscRmYj99KA8Ak99+P2dpEiSYTZY\\u002fTQILk+a\\u002fqz8S5JrWd7u9P2rheo\\u002f0bss\\u002fMPeiPjjM1T8cLN0heNTdP3cyqfOzk+E\\u002fE15GIITW4T+EyChRti3fP1SyBvb9dtc\\u002f8r3YQz5qzj8qMEssl\\u002fnAP2rFeB8lUbA\\u002fSkX2R3IDmz9QrzMUl0GDP1e48z8spGc\\u002f1xSiN7P+SD+dgYLlwMEmP42FSTal1wE\\u002fF85gdfkX2D71A\\u002ff0iASsPhXJNPCdDnw+BhwCUQUySD62xACC1vcRPmnuy2NR+9Y9wDAD0hpQmT2soThvaQJYPYyCU\\u002fJunBM9BI0c27KWyzxemNVsF7aAPIf0Od0gbzE8Px+L71ZT3zuSoVFkOjyIOydvEkl9JTA7vfaChgeH0jqsWpQdyE5yOnTSC4pWKA86SUQQYPjUpjk\\u002fgues2dA8OfRqismCUc84zMV39OpPXTg6slzPEKDnN2eE73vUZXA3NuN42iSa8zbV09cd2C10Nt4jB6WD4\\u002fE1O9glmzVQazUia9jpiOMANX+kpEdpZII1Qm6l2hh+Bzb1v+odRNeJNgbgs7Yyegg3bkReV2n3gzfMdNrUCg38NzIq6Tzx93A4J3En7r+t4TiYZkCp87hPOTxaWk1qgrg5335hAKVOIDo\\u002fBCVF1K+COqDSFRLCcOI6zyGsF2NXPzuahvHuj++WO5eeFTl56Ow7nZzBIWZgPzzlk2YXxVONPI8b9RwOm9c8pqbcK7pcID04o5INjIhjPfmYJ2PTFKQ9a6P3NznH4T1ACWIzlRsbPkmNYtAMzFE+fGI4MrwfhD6Q1pQdeZizPsnNfiSGbuA+PDYxkSq7Bz89+isbq4MtP9z625c3nE8\\u002ffNdvCH4nbT8Slt9i1yeHP+Vgb77hrJ8\\u002fa4O25h6osj9tYz9uEO3CP9cbqsmQiNA\\u002fbJfVPzfg2D+ZwpebjB3gPyt88PAn++E\\u002fJ0tJsuxG4T+t49XzXJfcP2SVvWdkX9Q\\u002fnin2b3MAyT9oIMXVKWy6P7n28RT8C6g\\u002ffTyqZ5jYkj+QT5vrS3B5PwiZGAXakV0\\u002fqh4Ln2eZPT+gMhhMz4MZP8ml74228PI+F6TmPRw3yD51uwxAJqmaPs\\u002fkokgNR2k+4oC183KjND7YjX\\u002fyrQX9PZbVZtKMksE9PjEr\\u002fjVTgj2wFzNt3XRAPWLeafK8dvk8My7IbZoJtjy97aLBiTbgPGkvNaQDCyY9XfezWOjtaT16IsYwGUSqPZ3bic+o6eY9hvOxCls2IT4T6zHHA0VWPiCxMljqz4g+6NIet3zOtz636k6glKvjPpeX3xDr\\u002fQs\\u002fB0OZ4M0mMT8omQ6OrhlSP1sKrYYHc3A\\u002fMj1LuyK\\u002fiT8IVQdtCVqhP7BogTwDJLQ\\u002fmxAVMMchxD\\u002fHQjCQQ1TRPxK3q4ndsNk\\u002fqkirV0Vm4D90Pb+xowfiP3KiKNLqEeE\\u002fGlBQVqbV2z9S4gmz8YrTP18rvZa9occ\\u002f5g5AjNCbuD+bRlldWhGmPy41uFekCpE\\u002f3ADNlW+qdj\\u002f4\\u002f4Wc2\\u002fVZP4VJkgb8mjk\\u002f5i2bUqe\\u002fFT+CHGuN19DvPt0StahNCsQ+k4R8Cp69lT54l\\u002fsRhk9kPj+eZ2UOVzA+FtHmYxKk9j2ir8Lp+gO7Pa3qwBh3wns9aJ7Ni02QOD0LoIJLvbfyPAu\\u002fYYO6kKg8v0r0ZG3DWzzqAg54YgULPIhZTS6kpbY7ujBf4HhYYDuYcjzDolEEOyyVRElBwKU68ORnCBUNRDotoewjztXfOX8Q32hsw3U5kDeF692fCTk0wwYVQvuZOIENnDyLryY4+9T0LscOsTdcl3R8Fxc2N9nOqBmkorg28iXTt7SoNzZyjZoVC5GzNQMwUNfR3is1rvVLcxMdoTTejfjJKiuUNMCkawximSA1DwjtDZecpzUkLZApXewsNgySf9usgq429RQXyUa3KzffdlgTea6lN28YhJ1CNh04Pv2LolDykDi4s17un+4AOcUnVGkxI205fgu8CuiW1TlfHyH2Io07OkcSuUkVR546Ws7vbWCn\\u002fDp2glu+FlpXOzW0mU18Y7A7fH8gAjfPAzzeTUXRop5UPOd+odmie6I80Fn4x9eI7Dw34ZWGy\\u002fcyPUQ7Z4tLt3U9oF\\u002fqgf1otT2r7Qj8ey3yPZC1FdSslCo+mhbtbl28YD6oZJOx9SWSPu\\u002fMVSGM8sA+ZWPk6d9B6z7lZE8pR+ASP4RT3YOOgzY\\u002f8EVeMNQfVz\\u002fi50G+GHR0PwAm0WqRKI8\\u002f\\u002fadnnBRwpD8QxtVOwBa3P+AflgNOdsY\\u002fl23iKXjR0j8Au9C4JyfbP2pnXY6e3uA\\u002fN8OGkxIN4j+1nUVuJaLgP4+xd3zYZdo\\u002f3zZYH+oJ0j80qj9n7DrFPyjDo4lXhLU\\u002f3718c5nHoj+6bgzTyjqMP1P1pz19RXI\\u002foHeZHTpeVD99wzmdfo0zP2tfvx\\u002fwKRA\\u002f7puPV5ED5z78Ao6nqje8PrClOw0wy40+0GHd7BIXWz5yuvcfOTYlPvXiTTAWm+w9p5n6h0ScsD1s3Eafn5xwPeceGNnsnCw9Z5u52H445TwV\\u002f74dIxubPPhZgQjv0E080l3Ni1E+\\u002fDtJJard+gmnO\\u002fpl9ociL1A7jt86r56U8zpS0FX5hWaUOpsr1DO3TTI6TFHuvrZIzDmYqby3qtFiOYay1fXMkPU4i9z0syBIhTjcXtOc6BUSONL13iCIeJo3q\\u002f+6kaKuIDeJBD7IZhuiNi+p8Ee87CA2TFCXFws\\u002fmzWvrMmC1eISNcl\\u002f5Wb\\u002fi4Y0vsXj2Qou9zPQMg2Xk4VkMySyayWuSs8yUUH6gl6LNDKgQqGwIjuXMTJvgo8cn\\u002fYwB42+cDH4UjBYFxQElWWrL1TgwoR6CQEvF7WmJUw\\u002fUi4+eI9S0xShLUhBdcJO9\\u002fIt243CrhBAoy4JLuAfG9RQL8VNcrh5V\\u002fkvqVHYyydvoDBRkzPK51tCMdX\\u002fcNw4quExB9J1a7BHfTLYuzAQu+YUM2GTVnzvs6kzXsV7Ja05OzTR11+9CtfING5TFlWjhVM19cBrD5Bu2jWAg0M21tNeNoz6A72w+N42Bw\\u002fNr+nNWjeukMzg1fvTNwzLzsZTq0k4n9fyvaRnvDjrG6x\\u002fEhQrORhWNF0nPZY5\\u002fzF\\u002flWR4\\u002fzkjmZPbDi9jOoR6TWyFJsQ6UC1Lqmw8IjtkkgVET3B8OwplR0ktG9M7ylpR28oeJjzfbh4yIRF2PHGlFnr498I8qxWSI7sZDD3D4AAQn+9RPZCoDQoNu5M9iP8cxky00j2rAnDWkY8OPlpr+a8chEU+0tccWCIcej49ggjNk06rPtNynI4hndg+ia9\\u002fgUMfAz+q0XmD8ZspP1+pklg9kE0\\u002f6mk+jt5rbT+MOSjnHj+JPwCTgIG1r6I\\u002fq94ByfXftz9pLxWdGlzKP7zb6EaoNNk\\u002fh2cnkrv15D9cJdiLKYnuP013+ejNufM\\u002f2c2FMSwH9z\\u002fNIRmqi+D4Pyj02W1Fa\\u002fk\\u002fWZ3WedLH+D8QWSfIz9H2P9mCGdv+aPM\\u002fxU\\u002f+uNnJ7T80zq2pnD\\u002fkP3bwjTcPGdg\\u002f+mOkZWPuyD\\u002fBnl7Mw1W2P+TBgxcdSqE\\u002f7Nxx0U4ahz+wDIbHraBqP+YqaD6cdko\\u002fHI8lDGmsJj\\u002fONoGa8b4AP4bw2KxDUtU+Dv48wwZmpz69KkKduCF2PmbmFOi2CkI+yquOOABaCT6+x2FsUbPOPQc3Aa8ZBZA90CfT7tbQTD3KVc8fVlUGPVo3su7x1L08weu+cy8rcTy6jsSLSQchPHhBeqEoG807wI3YBPVudTtAnu633jIbO68oroj2vL065sy6BqEDXDoHs7bgo7z2OYDS7QApzI85pqxFpNMnIzkgYslHH+KzOKiRhs6yx0E49q7OEdFkyzcjofB05i1SN3YiViYTydQ26sOO5Nl4VDZzDigcfV7RNYVmTi9UY0k1tjaRrh\\u002f3vzTXjfsLcVUxNMFHDwBeMaAzpj1P1zQPCjNAc0eItw9yMqGuCKF\\u002fkNUxcj6bAictNjF\\u002fV+4fjqSTMHO1BQeW+O0vGn0ZVIaxQy+oTvlhXUqWLon1TuLkuuUt2g9jUrM+Mi3QKlV0EWN6LNcSrz0Ub8ArQQZLL0ahASv9MU7y8ElAKsCZuTs\\u002f7HkpumoexNvDsShvLAQIWfjkJzBohjV4URUnzpQ78h2qQiYAUVVtgyVsJY8ynykCR5IkXuEiSl9xtCN+y96p\\u002f7DTIg==\"},\"type\":\"scatter\"}],                        {\"template\":{\"data\":{\"scatter\":[{\"type\":\"scatter\"}]}},\"font\":{\"size\":20},\"xaxis\":{\"zeroline\":false,\"showline\":true,\"mirror\":true,\"ticks\":\"outside\",\"title\":{\"text\":\"E - E\\u003csub\\u003eF\\u003c\\u002fsub\\u003e [eV]\"}},\"yaxis\":{\"showline\":true,\"mirror\":true,\"ticks\":\"outside\",\"title\":{\"text\":\"DOS\"}},\"hoverlabel\":{\"bgcolor\":\"black\"},\"width\":600,\"height\":400},                        {\"responsive\": true}                    ).then(function(){\n",
       "                            \n",
       "var gd = document.getElementById('1361bafb-5cb7-4fa3-93b5-f9096cea72bd');\n",
       "var x = new MutationObserver(function (mutations, observer) {{\n",
       "        var display = window.getComputedStyle(gd).display;\n",
       "        if (!display || display === 'none') {{\n",
       "            console.log([gd, 'removed!']);\n",
       "            Plotly.purge(gd);\n",
       "            observer.disconnect();\n",
       "        }}\n",
       "}});\n",
       "\n",
       "// Listen for the removal of the full notebook cells\n",
       "var notebookContainer = gd.closest('#notebook-container');\n",
       "if (notebookContainer) {{\n",
       "    x.observe(notebookContainer, {childList: true});\n",
       "}}\n",
       "\n",
       "// Listen for the clearing of the current output cell\n",
       "var outputEl = gd.closest('.output');\n",
       "if (outputEl) {{\n",
       "    x.observe(outputEl, {childList: true});\n",
       "}}\n",
       "\n",
       "                        })                };            </script>        </div>"
      ]
     },
     "metadata": {},
     "output_type": "display_data"
    }
   ],
   "source": [
    "plot_dos(scf, size=(600, 400))"
   ]
  },
  {
   "cell_type": "code",
   "execution_count": 11,
   "id": "73883fcd-fa02-4f60-8c4e-2c1237d6696e",
   "metadata": {},
   "outputs": [
    {
     "name": "stdout",
     "output_type": "stream",
     "text": [
      "WARNING: The SCF object has no unoccupied energies, return the maximum energy instead.\n"
     ]
    },
    {
     "data": {
      "text/html": [
       "<div>            <script src=\"https://cdnjs.cloudflare.com/ajax/libs/mathjax/2.7.5/MathJax.js?config=TeX-AMS-MML_SVG\"></script><script type=\"text/javascript\">if (window.MathJax && window.MathJax.Hub && window.MathJax.Hub.Config) {window.MathJax.Hub.Config({SVG: {font: \"STIX-Web\"}});}</script>                <script type=\"text/javascript\">window.PlotlyConfig = {MathJaxConfig: 'local'};</script>\n",
       "        <script charset=\"utf-8\" src=\"https://cdn.plot.ly/plotly-3.0.1.min.js\"></script>                <div id=\"1f2a0b93-4adc-48a9-acdd-c9ace3bcb654\" class=\"plotly-graph-div\" style=\"height:600px; width:800px;\"></div>            <script type=\"text/javascript\">                window.PLOTLYENV=window.PLOTLYENV || {};                                if (document.getElementById(\"1f2a0b93-4adc-48a9-acdd-c9ace3bcb654\")) {                    Plotly.newPlot(                        \"1f2a0b93-4adc-48a9-acdd-c9ace3bcb654\",                        [{\"mode\":\"lines+markers\",\"name\":\"Band 1\",\"x\":{\"dtype\":\"f8\",\"bdata\":\"AAAAAAAAAAAYj6jjl2nBPxiPqOOXadE\\u002fpNZ81WMe2j8Yj6jjl2nhP95YLsgHb+U\\u002fpCK0rHd06T9q7DmR53ntPxjb37qrv\\u002fA\\u002f+78irWPC8j8=\"},\"y\":{\"dtype\":\"f8\",\"bdata\":\"Mi+luK\\u002foI8Da26vlAIElwHgTydGEeifAiAa2UebRKMCQZIJDyEgpwHBb\\u002fcWD4SjASnSPOnGpJ8A\\u002fjqd9Vc0lwGdv9W80PyPA8tO0G3sTIMA=\"},\"type\":\"scatter\"},{\"mode\":\"lines+markers\",\"name\":\"Band 2\",\"x\":{\"dtype\":\"f8\",\"bdata\":\"AAAAAAAAAAAYj6jjl2nBPxiPqOOXadE\\u002fpNZ81WMe2j8Yj6jjl2nhP95YLsgHb+U\\u002fpCK0rHd06T9q7DmR53ntPxjb37qrv\\u002fA\\u002f+78irWPC8j8=\"},\"y\":{\"dtype\":\"f8\",\"bdata\":\"rQneMQIAH8BuY3cR\\u002fTIawIWBR2R3JBHACArnh9DT+78AWHyMOFaRv+gLeU8AiOq\\u002fjOELxBfaA8D+UZ2sKGURwFIr2id+\\u002fBjAnUFU8OsMIMA=\"},\"type\":\"scatter\"},{\"mode\":\"lines+markers\",\"name\":\"Band 3\",\"x\":{\"dtype\":\"f8\",\"bdata\":\"AAAAAAAAAAAYj6jjl2nBPxiPqOOXadE\\u002fpNZ81WMe2j8Yj6jjl2nhP95YLsgHb+U\\u002fpCK0rHd06T9q7DmR53ntPxjb37qrv\\u002fA\\u002f+78irWPC8j8=\"},\"y\":{\"dtype\":\"f8\",\"bdata\":\"BBUil53M9r9sbr0Xnej0v1hzp6K5QO6\\u002f0EUNLrdy2L8AzJnWJGGBv\\u002fAbaTlVcum\\u002f4NLMkSwM\\u002fr+AfbBIudAFwKB2bG1WAwrA2D7bhmhhC8A=\"},\"type\":\"scatter\"},{\"mode\":\"lines+markers\",\"name\":\"Band 4\",\"x\":{\"dtype\":\"f8\",\"bdata\":\"AAAAAAAAAAAYj6jjl2nBPxiPqOOXadE\\u002fpNZ81WMe2j8Yj6jjl2nhP95YLsgHb+U\\u002fpCK0rHd06T9q7DmR53ntPxjb37qrv\\u002fA\\u002f+78irWPC8j8=\"},\"y\":{\"dtype\":\"f8\",\"bdata\":\"2GNWEQie9r9YubGHw7j0v3ANqqiY2+2\\u002fsJmmY5B71r8AAAAAAAAAAMiP3pqvjui\\u002fvMzC7QaJ\\u002fb+mHp0wdY0FwOR\\u002fgXVuvwnA9AEnxTUWC8A=\"},\"type\":\"scatter\"}],                        {\"template\":{\"data\":{\"scatter\":[{\"type\":\"scatter\"}]}},\"font\":{\"size\":20},\"xaxis\":{\"zeroline\":false,\"showline\":true,\"mirror\":true,\"ticks\":\"outside\",\"tickmode\":\"array\",\"tickvals\":{\"dtype\":\"f8\",\"bdata\":\"AAAAAAAAAAAYj6jjl2nhP\\u002fu\\u002fIq1jwvI\\u002f\"},\"ticktext\":[\"L\",\"Γ\",\"X\"],\"gridcolor\":\"grey\",\"gridwidth\":2,\"range\":[0,1.1724583399882238],\"title\":{\"text\":\"k-path\"}},\"yaxis\":{\"zeroline\":false,\"showline\":true,\"mirror\":true,\"ticks\":\"outside\",\"showgrid\":false,\"title\":{\"text\":\"E - E\\u003csub\\u003eF\\u003c\\u002fsub\\u003e [eV]\"}},\"hoverlabel\":{\"bgcolor\":\"black\"},\"width\":800,\"height\":600,\"showlegend\":false},                        {\"responsive\": true}                    ).then(function(){\n",
       "                            \n",
       "var gd = document.getElementById('1f2a0b93-4adc-48a9-acdd-c9ace3bcb654');\n",
       "var x = new MutationObserver(function (mutations, observer) {{\n",
       "        var display = window.getComputedStyle(gd).display;\n",
       "        if (!display || display === 'none') {{\n",
       "            console.log([gd, 'removed!']);\n",
       "            Plotly.purge(gd);\n",
       "            observer.disconnect();\n",
       "        }}\n",
       "}});\n",
       "\n",
       "// Listen for the removal of the full notebook cells\n",
       "var notebookContainer = gd.closest('#notebook-container');\n",
       "if (notebookContainer) {{\n",
       "    x.observe(notebookContainer, {childList: true});\n",
       "}}\n",
       "\n",
       "// Listen for the clearing of the current output cell\n",
       "var outputEl = gd.closest('.output');\n",
       "if (outputEl) {{\n",
       "    x.observe(outputEl, {childList: true});\n",
       "}}\n",
       "\n",
       "                        })                };            </script>        </div>"
      ]
     },
     "metadata": {},
     "output_type": "display_data"
    }
   ],
   "source": [
    "# Test scf object without unoccupied states\n",
    "scf.Z = None\n",
    "scf.atoms.occ.bands = 4\n",
    "plot_bandstructure(scf)"
   ]
  },
  {
   "cell_type": "code",
   "execution_count": 12,
   "id": "f202e906-9a9a-48e0-97d0-1fb0e8b31a69",
   "metadata": {},
   "outputs": [
    {
     "name": "stdout",
     "output_type": "stream",
     "text": [
      "WARNING: The SCF object has no unoccupied energies, return the maximum energy instead.\n"
     ]
    },
    {
     "data": {
      "text/html": [
       "<div>            <script src=\"https://cdnjs.cloudflare.com/ajax/libs/mathjax/2.7.5/MathJax.js?config=TeX-AMS-MML_SVG\"></script><script type=\"text/javascript\">if (window.MathJax && window.MathJax.Hub && window.MathJax.Hub.Config) {window.MathJax.Hub.Config({SVG: {font: \"STIX-Web\"}});}</script>                <script type=\"text/javascript\">window.PlotlyConfig = {MathJaxConfig: 'local'};</script>\n",
       "        <script charset=\"utf-8\" src=\"https://cdn.plot.ly/plotly-3.0.1.min.js\"></script>                <div id=\"5654fa44-f15a-4288-921d-99fd59cae233\" class=\"plotly-graph-div\" style=\"height:600px; width:800px;\"></div>            <script type=\"text/javascript\">                window.PLOTLYENV=window.PLOTLYENV || {};                                if (document.getElementById(\"5654fa44-f15a-4288-921d-99fd59cae233\")) {                    Plotly.newPlot(                        \"5654fa44-f15a-4288-921d-99fd59cae233\",                        [{\"marker\":{\"color\":\"blue\"},\"mode\":\"lines+markers\",\"name\":\"Spin 1\",\"x\":{\"dtype\":\"f8\",\"bdata\":\"kGSCQ8hILsAo0B7Eiu0twL47u0RNki3AVqdXxQ83LcDtEvRF0tsswIR+kMaUgCzAG+osR1clLMCyVcnHGcorwErBZUjcbivA4CwCyZ4TK8B4mJ5JYbgqwA4EO8ojXSrApm\\u002fXSuYBKsA923PLqKYpwNRGEExrSynAa7KszC3wKMACHklN8JQowJqJ5c2yOSjAMPWBTnXeJ8DIYB7PN4MnwF\\u002fMuk\\u002f6JyfA9jdX0LzMJsCNo\\u002fNQf3EmwCQPkNFBFibAu3osUgS7JcBS5sjSxl8lwOlRZVOJBCXAgL0B1EupJMAYKZ5UDk4kwK+UOtXQ8iPARgDXVZOXI8Dda3PWVTwjwHTXD1cY4SLAC0Os19qFIsCirkhYnSoiwDka5dhfzyHA0IWBWSJ0IcBo8R3a5BghwP9culqnvSDAlshW22liIMAtNPNbLAcgwIg\\u002fH7ndVx\\u002fAthZYumKhHsDk7ZC75+odwBPFybxsNB3AQZwCvvF9HMBvczu\\u002fdscbwJ1KdMD7EBvAzCGtwYBaGsD6+OXCBaQZwCbQHsSK7RjAVKdXxQ83GMCCfpDGlIAXwLFVyccZyhbA3ywCyZ4TFsAOBDvKI10VwDzbc8uophTAarKszC3wE8CYieXNsjkTwMZgHs83gxLA9DdX0LzMEcAiD5DRQRYRwFHmyNLGXxDA\\u002fnoDqJdSD8BaKXWqoeUNwLjX5qyreAzAFIZYr7ULC8BwNMqxv54JwMziO7TJMQjAKJGtttPEBsCGPx+53VcFwOLtkLvn6gPAPpwCvvF9AsCaSnTA+xABwPDxy4ULSP+\\u002fqE6vih9u\\u002fL9gq5KPM5T5vxgIdpRHuva\\u002f0GRZmVvg87+MwTyebwbxv4g8QEYHWey\\u002f+PUGUC+l5r9or81ZV\\u002fHgv7DRKMf+eta\\u002fQIlstZ0mxr8AIBJvRBh1PyCrXfwheMc\\u002fsGKh6sAj1z\\u002fo94lruEXhP3g+w2GQ+eY\\u002fCIX8V2it7D\\u002fM5RonoDDxPxSJNyKMCvQ\\u002fXCxUHXjk9j+kz3AYZL75P+RyjRNQmPw\\u002fLBaqDjxy\\u002fz+6XOMEFCYBQF6ucQIKkwJAAgAAAAAABEA=\"},\"y\":{\"dtype\":\"f8\",\"bdata\":\"GMGSVMJVkDvlNKV70L\\u002f8OwJzinyOn2M8EXMx\\u002fkXHxDyKY3f\\u002fxhAhPYNmqIREvnU92HnR8Ol8xT2PloHmsXgQPjr8dFdAllM+v3QPAPIQkj7PHgoFptnJPoD1Tn2WsPw+Gr9jDqKyKD+UgvzLyH1QPxNmUNkmFXE\\u002foGtKspJziz9+enrybhyhP8uNrH9DjrA\\u002fPeq0ICPpuD\\u002fBJ5NmQV29P2eauTBS67s\\u002fExpEs5Wdtz\\u002fyHXqlueO1P25nMWyM+rg\\u002fXlABWtHYvT8Qud1w5A\\u002fAP+0ExMkyUr8\\u002f8nE\\u002fGtacvj82D0M6T46\\u002fP7dXDBNqab8\\u002fobAqEd3fuj9BGq3E\\u002fIayP2+W1uBSEqQ\\u002feapTJdPykD9c3jFDvpN2P7jD5GDJel8\\u002fFwnhLl+QZj95eziQ4huCP4lrN50KyZg\\u002fzhxaRFttqj9Tahl7J921P+KGZaZHFrw\\u002fJgZ5VTYhvD8K0cR5c3a2P+svGhBT2a8\\u002fkiL0usKCqz\\u002fU6h2JrKKxP72ejLUSirg\\u002fIkzEk4PYvD9i4Tz35b26P69DxwLBSbM\\u002fxr7hbwKYpT8Z3svc9MGSPzkaUkmmbHk\\u002fwg2fWsKaXj+ds11eLNVaP10omvg8gXU\\u002fypmaIwlhkD8osrf\\u002fUYejP8vxC3MNEbI\\u002fv3j9vNDtuT8b0xuYQN28P+b1IcBR7Lg\\u002fMqq7Zi2xsD+B0XVpuVehP8S20+fK84s\\u002fxU0AjwZ5cT+o1bbgv\\u002fRQPxFxecB\\u002fryo\\u002fjZmYMmniHD+YO6Elks1CP0c0KM4Qamk\\u002fLwQt+JLvij9mKws22UamP7RHUtDXwrw\\u002f4CwgrXL+zD8o2xEABdTWP9f1tHCkFNw\\u002fBOsTjRz82j8My3+uHULUPw3W9BJpwsc\\u002fS4JJ7BXDtT+kaWAB0B+fPze+y6rqXoE\\u002f\\u002fKoQjtlAXj889dvENIs0P9TJH+REvwU\\u002fKwdWq3Lv0T7R43aqoAmXPizGzg2xCFc+xA1OVmjrET6RbbhTpa\\u002fFPZ7WsZDiZ3Q9GHhiT4PZHT2gveNVGffAPKoPwrrF9l08Ntvok4+N9Ds6HsI3YeWFOwla8n21HBI7uoXpezhDlzo=\"},\"type\":\"scatter\"}],                        {\"template\":{\"data\":{\"scatter\":[{\"type\":\"scatter\"}]}},\"font\":{\"size\":20},\"xaxis\":{\"zeroline\":false,\"showline\":true,\"mirror\":true,\"ticks\":\"outside\",\"title\":{\"text\":\"E - E\\u003csub\\u003eF\\u003c\\u002fsub\\u003e [eV]\"}},\"yaxis\":{\"showline\":true,\"mirror\":true,\"ticks\":\"outside\",\"title\":{\"text\":\"DOS\"}},\"hoverlabel\":{\"bgcolor\":\"black\"},\"width\":800,\"height\":600},                        {\"responsive\": true}                    ).then(function(){\n",
       "                            \n",
       "var gd = document.getElementById('5654fa44-f15a-4288-921d-99fd59cae233');\n",
       "var x = new MutationObserver(function (mutations, observer) {{\n",
       "        var display = window.getComputedStyle(gd).display;\n",
       "        if (!display || display === 'none') {{\n",
       "            console.log([gd, 'removed!']);\n",
       "            Plotly.purge(gd);\n",
       "            observer.disconnect();\n",
       "        }}\n",
       "}});\n",
       "\n",
       "// Listen for the removal of the full notebook cells\n",
       "var notebookContainer = gd.closest('#notebook-container');\n",
       "if (notebookContainer) {{\n",
       "    x.observe(notebookContainer, {childList: true});\n",
       "}}\n",
       "\n",
       "// Listen for the clearing of the current output cell\n",
       "var outputEl = gd.closest('.output');\n",
       "if (outputEl) {{\n",
       "    x.observe(outputEl, {childList: true});\n",
       "}}\n",
       "\n",
       "                        })                };            </script>        </div>"
      ]
     },
     "metadata": {},
     "output_type": "display_data"
    }
   ],
   "source": [
    "# Test pass-through arguments\n",
    "plot_dos(scf, npts=100, width=0.5)"
   ]
  }
 ],
 "metadata": {
  "kernelspec": {
   "display_name": "Python 3 (ipykernel)",
   "language": "python",
   "name": "python3"
  },
  "language_info": {
   "codemirror_mode": {
    "name": "ipython",
    "version": 3
   },
   "file_extension": ".py",
   "mimetype": "text/x-python",
   "name": "python",
   "nbconvert_exporter": "python",
   "pygments_lexer": "ipython3",
   "version": "3.12.3"
  }
 },
 "nbformat": 4,
 "nbformat_minor": 5
}
