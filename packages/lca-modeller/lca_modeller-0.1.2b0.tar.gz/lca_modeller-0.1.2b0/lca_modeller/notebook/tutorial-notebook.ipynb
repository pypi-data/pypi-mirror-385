{
 "cells": [
  {
   "cell_type": "markdown",
   "id": "54b17849-e49c-46e6-b938-a88029a4e8f3",
   "metadata": {},
   "source": [
    "# Tutorial notebook for LCA-Modeller\n",
    "\n",
    "Welcome to the *LCA-Modeller* library tutorial! *LCA-Modeller* offers a streamlined interface designed to facilitate the creation of **parametric LCA models** with **prospective capabilities**. It builds on the open-source libraries [*lca-algebraic*](https://lca-algebraic.readthedocs.io/) and [*premise*](https://premise.readthedocs.io/), so having a basic understanding of these tools, while not essential, is recommended.\n",
    "\n",
    "The core functionality of *LCA-Modeller* revolves around reading a user-provided configuration file that defines the LCA model. From this configuration, *LCA-Modeller* generates a parametric LCA model, which can be evaluated for any parameter values using *lca-algebraic*'s built-in functions.\n",
    "If prospective scenarios are provided, *premise* is used to adapt the EcoInvent database to future conditions. The parametric LCA model then selects the appropriate prospective databases based on the user-specified evaluation year."
   ]
  },
  {
   "cell_type": "code",
   "execution_count": 1,
   "id": "d899accf-092e-4a6c-bef2-626114ae040d",
   "metadata": {
    "tags": []
   },
   "outputs": [],
   "source": [
    "# Import libraries\n",
    "from lca_modeller.io.configuration import LCAProblemConfigurator\n",
    "import lca_algebraic as agb\n",
    "import brightway2 as bw\n",
    "import numpy as np\n",
    "\n",
    "# Add data folder to path\n",
    "import sys\n",
    "import os.path as pth\n",
    "sys.path.insert(0, '../..')\n",
    "DATA_FOLDER = './data'"
   ]
  },
  {
   "cell_type": "markdown",
   "id": "4f1206b6-444c-412d-ac0d-8bde355e5573",
   "metadata": {},
   "source": [
    "## 1. A basic example"
   ]
  },
  {
   "cell_type": "code",
   "execution_count": 2,
   "id": "34230586-ccc1-4336-8935-786bb845b5ff",
   "metadata": {
    "tags": []
   },
   "outputs": [
    {
     "name": "stdout",
     "output_type": "stream",
     "text": [
      "Initial setup of EcoInvent already done, skipping. To reset the project use option `reset_project=True` in configuration file.\n",
      "Building LCA model from configuration file\n",
      "LCA model successfully created\n"
     ]
    }
   ],
   "source": [
    "# Provide the configuration file where the ecoinvent database, system model and impact categories are defined\n",
    "configuration_file = pth.join(DATA_FOLDER, 'basic_example.yaml')\n",
    "project, model, methods = LCAProblemConfigurator(configuration_file).generate()"
   ]
  },
  {
   "cell_type": "code",
   "execution_count": 3,
   "id": "209474c6-61d1-4001-9a02-907da64b613c",
   "metadata": {
    "tags": []
   },
   "outputs": [
    {
     "data": {
      "text/html": [
       "<div>\n",
       "<style scoped>\n",
       "    .dataframe tbody tr th:only-of-type {\n",
       "        vertical-align: middle;\n",
       "    }\n",
       "\n",
       "    .dataframe tbody tr th {\n",
       "        vertical-align: top;\n",
       "    }\n",
       "\n",
       "    .dataframe thead th {\n",
       "        text-align: right;\n",
       "    }\n",
       "</style>\n",
       "<table border=\"1\" class=\"dataframe\">\n",
       "  <thead>\n",
       "    <tr style=\"text-align: right;\">\n",
       "      <th></th>\n",
       "      <th>climate change - global warming potential (GWP100)[kg CO2-Eq]</th>\n",
       "      <th>total: ecosystem quality - ecosystem quality[species.yr]</th>\n",
       "      <th>total: human health - human health[DALYs]</th>\n",
       "      <th>total: natural resources - natural resources[USD 2013]</th>\n",
       "    </tr>\n",
       "  </thead>\n",
       "  <tbody>\n",
       "    <tr>\n",
       "      <th>model</th>\n",
       "      <td>89.6781</td>\n",
       "      <td>4.08824e-06</td>\n",
       "      <td>0.000217808</td>\n",
       "      <td>3.95525</td>\n",
       "    </tr>\n",
       "  </tbody>\n",
       "</table>\n",
       "</div>"
      ],
      "text/plain": [
       "       climate change - global warming potential (GWP100)[kg CO2-Eq]  \\\n",
       "model                                            89.6781               \n",
       "\n",
       "       total: ecosystem quality - ecosystem quality[species.yr]  \\\n",
       "model                                        4.08824e-06          \n",
       "\n",
       "       total: human health - human health[DALYs]  \\\n",
       "model                                0.000217808   \n",
       "\n",
       "       total: natural resources - natural resources[USD 2013]  \n",
       "model                                            3.95525       "
      ]
     },
     "execution_count": 3,
     "metadata": {},
     "output_type": "execute_result"
    }
   ],
   "source": [
    "# Provide values for parameters\n",
    "parameters = {\n",
    "    'a': 1.0,\n",
    "    'b': 0.7,\n",
    "    'c': 1.2,\n",
    "    'd': 10.0,\n",
    "}\n",
    "\n",
    "# Compute impacts. The first call takes some time (compilation of the LCA functions) but next ones are much faster.\n",
    "df = agb.compute_impacts(\n",
    "    model,\n",
    "    methods,\n",
    "    **parameters\n",
    ")\n",
    "df"
   ]
  },
  {
   "cell_type": "code",
   "execution_count": 4,
   "id": "5ff0d9e1-7efc-44d3-a69d-183013062d26",
   "metadata": {
    "tags": []
   },
   "outputs": [
    {
     "data": {
      "text/html": [
       "<div>\n",
       "<style scoped>\n",
       "    .dataframe tbody tr th:only-of-type {\n",
       "        vertical-align: middle;\n",
       "    }\n",
       "\n",
       "    .dataframe tbody tr th {\n",
       "        vertical-align: top;\n",
       "    }\n",
       "\n",
       "    .dataframe thead th {\n",
       "        text-align: right;\n",
       "    }\n",
       "</style>\n",
       "<table border=\"1\" class=\"dataframe\">\n",
       "  <thead>\n",
       "    <tr style=\"text-align: right;\">\n",
       "      <th></th>\n",
       "      <th></th>\n",
       "      <th>climate change - global warming potential (GWP100)[kg CO2-Eq]</th>\n",
       "      <th>total: ecosystem quality - ecosystem quality[species.yr]</th>\n",
       "      <th>total: human health - human health[DALYs]</th>\n",
       "      <th>total: natural resources - natural resources[USD 2013]</th>\n",
       "    </tr>\n",
       "    <tr>\n",
       "      <th>a</th>\n",
       "      <th>b</th>\n",
       "      <th></th>\n",
       "      <th></th>\n",
       "      <th></th>\n",
       "      <th></th>\n",
       "    </tr>\n",
       "  </thead>\n",
       "  <tbody>\n",
       "    <tr>\n",
       "      <th>1</th>\n",
       "      <th>0.7</th>\n",
       "      <td>89.6781</td>\n",
       "      <td>4.08824e-06</td>\n",
       "      <td>0.000217808</td>\n",
       "      <td>3.95525</td>\n",
       "    </tr>\n",
       "    <tr>\n",
       "      <th>1.2</th>\n",
       "      <th>0.5</th>\n",
       "      <td>87.7572</td>\n",
       "      <td>4.00675e-06</td>\n",
       "      <td>0.000213212</td>\n",
       "      <td>3.86261</td>\n",
       "    </tr>\n",
       "    <tr>\n",
       "      <th>1.4</th>\n",
       "      <th>0.2</th>\n",
       "      <td>68.5128</td>\n",
       "      <td>3.12332e-06</td>\n",
       "      <td>0.000166465</td>\n",
       "      <td>3.02178</td>\n",
       "    </tr>\n",
       "  </tbody>\n",
       "</table>\n",
       "</div>"
      ],
      "text/plain": [
       "         climate change - global warming potential (GWP100)[kg CO2-Eq]  \\\n",
       "a   b                                                                    \n",
       "1   0.7                                            89.6781               \n",
       "1.2 0.5                                            87.7572               \n",
       "1.4 0.2                                            68.5128               \n",
       "\n",
       "         total: ecosystem quality - ecosystem quality[species.yr]  \\\n",
       "a   b                                                               \n",
       "1   0.7                                        4.08824e-06          \n",
       "1.2 0.5                                        4.00675e-06          \n",
       "1.4 0.2                                        3.12332e-06          \n",
       "\n",
       "         total: human health - human health[DALYs]  \\\n",
       "a   b                                                \n",
       "1   0.7                                0.000217808   \n",
       "1.2 0.5                                0.000213212   \n",
       "1.4 0.2                                0.000166465   \n",
       "\n",
       "         total: natural resources - natural resources[USD 2013]  \n",
       "a   b                                                            \n",
       "1   0.7                                            3.95525       \n",
       "1.2 0.5                                            3.86261       \n",
       "1.4 0.2                                            3.02178       "
      ]
     },
     "execution_count": 4,
     "metadata": {},
     "output_type": "execute_result"
    }
   ],
   "source": [
    "# Compute impacts for several values at once\n",
    "parameters = {\n",
    "    'a': [1.0, 1.2, 1.4],  # list of values\n",
    "    'b': [0.7, 0.5, 0.2],  # all lists must be of the same size\n",
    "    'c': 1.2,  # constant value\n",
    "    'd': 10.0,\n",
    "}\n",
    "agb.compute_impacts(\n",
    "    model,\n",
    "    methods,\n",
    "    **parameters\n",
    ")"
   ]
  },
  {
   "cell_type": "code",
   "execution_count": 8,
   "id": "26ca1293-f3ed-4f68-8824-586a555cf68c",
   "metadata": {
    "tags": []
   },
   "outputs": [
    {
     "data": {
      "text/html": [
       "<div>\n",
       "<style scoped>\n",
       "    .dataframe tbody tr th:only-of-type {\n",
       "        vertical-align: middle;\n",
       "    }\n",
       "\n",
       "    .dataframe tbody tr th {\n",
       "        vertical-align: top;\n",
       "    }\n",
       "\n",
       "    .dataframe thead th {\n",
       "        text-align: right;\n",
       "    }\n",
       "</style>\n",
       "<table border=\"1\" class=\"dataframe\">\n",
       "  <thead>\n",
       "    <tr style=\"text-align: right;\">\n",
       "      <th></th>\n",
       "      <th>climate change - global warming potential (GWP100)[kg CO2-Eq]</th>\n",
       "      <th>total: ecosystem quality - ecosystem quality[species.yr]</th>\n",
       "      <th>total: human health - human health[DALYs]</th>\n",
       "      <th>total: natural resources - natural resources[USD 2013]</th>\n",
       "    </tr>\n",
       "  </thead>\n",
       "  <tbody>\n",
       "    <tr>\n",
       "      <th>model</th>\n",
       "      <td>89.6781</td>\n",
       "      <td>4.08824e-06</td>\n",
       "      <td>0.000217808</td>\n",
       "      <td>3.95525</td>\n",
       "    </tr>\n",
       "    <tr>\n",
       "      <th>1</th>\n",
       "      <td>92.311</td>\n",
       "      <td>4.21413e-06</td>\n",
       "      <td>0.000224257</td>\n",
       "      <td>4.06375</td>\n",
       "    </tr>\n",
       "    <tr>\n",
       "      <th>2</th>\n",
       "      <td>93.6146</td>\n",
       "      <td>4.27782e-06</td>\n",
       "      <td>0.000227465</td>\n",
       "      <td>4.1157</td>\n",
       "    </tr>\n",
       "    <tr>\n",
       "      <th>3</th>\n",
       "      <td>93.5787</td>\n",
       "      <td>4.27905e-06</td>\n",
       "      <td>0.000227411</td>\n",
       "      <td>4.11038</td>\n",
       "    </tr>\n",
       "    <tr>\n",
       "      <th>4</th>\n",
       "      <td>92.1966</td>\n",
       "      <td>4.21765e-06</td>\n",
       "      <td>0.000224079</td>\n",
       "      <td>4.04732</td>\n",
       "    </tr>\n",
       "    <tr>\n",
       "      <th>5</th>\n",
       "      <td>89.4633</td>\n",
       "      <td>4.0935e-06</td>\n",
       "      <td>0.000217458</td>\n",
       "      <td>3.92618</td>\n",
       "    </tr>\n",
       "    <tr>\n",
       "      <th>6</th>\n",
       "      <td>85.3753</td>\n",
       "      <td>3.9065e-06</td>\n",
       "      <td>0.00020754</td>\n",
       "      <td>3.7467</td>\n",
       "    </tr>\n",
       "    <tr>\n",
       "      <th>7</th>\n",
       "      <td>79.9297</td>\n",
       "      <td>3.65658e-06</td>\n",
       "      <td>0.000194318</td>\n",
       "      <td>3.50868</td>\n",
       "    </tr>\n",
       "    <tr>\n",
       "      <th>8</th>\n",
       "      <td>73.1247</td>\n",
       "      <td>3.3437e-06</td>\n",
       "      <td>0.000177788</td>\n",
       "      <td>3.21199</td>\n",
       "    </tr>\n",
       "    <tr>\n",
       "      <th>9</th>\n",
       "      <td>64.9585</td>\n",
       "      <td>2.96782e-06</td>\n",
       "      <td>0.000157947</td>\n",
       "      <td>2.8565</td>\n",
       "    </tr>\n",
       "  </tbody>\n",
       "</table>\n",
       "</div>"
      ],
      "text/plain": [
       "       climate change - global warming potential (GWP100)[kg CO2-Eq]  \\\n",
       "model                                            89.6781               \n",
       "1                                                 92.311               \n",
       "2                                                93.6146               \n",
       "3                                                93.5787               \n",
       "4                                                92.1966               \n",
       "5                                                89.4633               \n",
       "6                                                85.3753               \n",
       "7                                                79.9297               \n",
       "8                                                73.1247               \n",
       "9                                                64.9585               \n",
       "\n",
       "       total: ecosystem quality - ecosystem quality[species.yr]  \\\n",
       "model                                        4.08824e-06          \n",
       "1                                            4.21413e-06          \n",
       "2                                            4.27782e-06          \n",
       "3                                            4.27905e-06          \n",
       "4                                            4.21765e-06          \n",
       "5                                             4.0935e-06          \n",
       "6                                             3.9065e-06          \n",
       "7                                            3.65658e-06          \n",
       "8                                             3.3437e-06          \n",
       "9                                            2.96782e-06          \n",
       "\n",
       "       total: human health - human health[DALYs]  \\\n",
       "model                                0.000217808   \n",
       "1                                    0.000224257   \n",
       "2                                    0.000227465   \n",
       "3                                    0.000227411   \n",
       "4                                    0.000224079   \n",
       "5                                    0.000217458   \n",
       "6                                     0.00020754   \n",
       "7                                    0.000194318   \n",
       "8                                    0.000177788   \n",
       "9                                    0.000157947   \n",
       "\n",
       "       total: natural resources - natural resources[USD 2013]  \n",
       "model                                            3.95525       \n",
       "1                                                4.06375       \n",
       "2                                                 4.1157       \n",
       "3                                                4.11038       \n",
       "4                                                4.04732       \n",
       "5                                                3.92618       \n",
       "6                                                 3.7467       \n",
       "7                                                3.50868       \n",
       "8                                                3.21199       \n",
       "9                                                 2.8565       "
      ]
     },
     "execution_count": 8,
     "metadata": {},
     "output_type": "execute_result"
    }
   ],
   "source": [
    "# Another example\n",
    "parameters = {\n",
    "    'a': np.linspace(1.0, 2.0, 10),\n",
    "    'b': np.linspace(0.7, 0.0, 10),\n",
    "    'c': 1.2,\n",
    "    'd': 10.0,\n",
    "}\n",
    "agb.compute_impacts(\n",
    "    model,\n",
    "    methods,\n",
    "    **parameters\n",
    ")"
   ]
  },
  {
   "cell_type": "markdown",
   "id": "df21058c-8cc6-4dff-bbc8-b66b1a2af233",
   "metadata": {},
   "source": [
    "## 2. Get impacts by phase or subsystem"
   ]
  },
  {
   "cell_type": "code",
   "execution_count": 14,
   "id": "050fee02-5b4b-453b-9523-757bc11c1e8f",
   "metadata": {
    "tags": []
   },
   "outputs": [
    {
     "name": "stdout",
     "output_type": "stream",
     "text": [
      "Initial setup of EcoInvent already done, skipping. To reset the project use option `reset_project=True` in configuration file.\n",
      "Building LCA model from configuration file\n",
      "LCA model successfully created\n"
     ]
    }
   ],
   "source": [
    "# Provide the configuration file where the ecoinvent database, system model and impact categories are defined\n",
    "configuration_file = pth.join(DATA_FOLDER, 'basic_example_split_impacts.yaml')\n",
    "project, model, methods = LCAProblemConfigurator(configuration_file).generate()"
   ]
  },
  {
   "cell_type": "code",
   "execution_count": 16,
   "id": "f9c78980-80e1-45b0-9167-96618207b979",
   "metadata": {},
   "outputs": [
    {
     "data": {
      "text/html": [
       "<div>\n",
       "<style scoped>\n",
       "    .dataframe tbody tr th:only-of-type {\n",
       "        vertical-align: middle;\n",
       "    }\n",
       "\n",
       "    .dataframe tbody tr th {\n",
       "        vertical-align: top;\n",
       "    }\n",
       "\n",
       "    .dataframe thead th {\n",
       "        text-align: right;\n",
       "    }\n",
       "</style>\n",
       "<table border=\"1\" class=\"dataframe\">\n",
       "  <thead>\n",
       "    <tr style=\"text-align: right;\">\n",
       "      <th></th>\n",
       "      <th>climate change - global warming potential (GWP100)[kg CO2-Eq]</th>\n",
       "      <th>total: ecosystem quality - ecosystem quality[species.yr]</th>\n",
       "      <th>total: human health - human health[DALYs]</th>\n",
       "      <th>total: natural resources - natural resources[USD 2013]</th>\n",
       "    </tr>\n",
       "    <tr>\n",
       "      <th>subsystem</th>\n",
       "      <th></th>\n",
       "      <th></th>\n",
       "      <th></th>\n",
       "      <th></th>\n",
       "    </tr>\n",
       "  </thead>\n",
       "  <tbody>\n",
       "    <tr>\n",
       "      <th>_other_</th>\n",
       "      <td>3.6e-05</td>\n",
       "      <td>1.01003e-13</td>\n",
       "      <td>3.34e-11</td>\n",
       "      <td>0</td>\n",
       "    </tr>\n",
       "    <tr>\n",
       "      <th>drink</th>\n",
       "      <td>2.40278</td>\n",
       "      <td>6.09026e-08</td>\n",
       "      <td>5.45695e-06</td>\n",
       "      <td>0.169253</td>\n",
       "    </tr>\n",
       "    <tr>\n",
       "      <th>food</th>\n",
       "      <td>87.2753</td>\n",
       "      <td>4.02734e-06</td>\n",
       "      <td>0.000212351</td>\n",
       "      <td>3.786</td>\n",
       "    </tr>\n",
       "    <tr>\n",
       "      <th>*sum*</th>\n",
       "      <td>89.6781</td>\n",
       "      <td>4.08824e-06</td>\n",
       "      <td>0.000217808</td>\n",
       "      <td>3.95525</td>\n",
       "    </tr>\n",
       "  </tbody>\n",
       "</table>\n",
       "</div>"
      ],
      "text/plain": [
       "           climate change - global warming potential (GWP100)[kg CO2-Eq]  \\\n",
       "subsystem                                                                  \n",
       "_other_                                              3.6e-05               \n",
       "drink                                                2.40278               \n",
       "food                                                 87.2753               \n",
       "*sum*                                                89.6781               \n",
       "\n",
       "           total: ecosystem quality - ecosystem quality[species.yr]  \\\n",
       "subsystem                                                             \n",
       "_other_                                          1.01003e-13          \n",
       "drink                                            6.09026e-08          \n",
       "food                                             4.02734e-06          \n",
       "*sum*                                            4.08824e-06          \n",
       "\n",
       "           total: human health - human health[DALYs]  \\\n",
       "subsystem                                              \n",
       "_other_                                     3.34e-11   \n",
       "drink                                    5.45695e-06   \n",
       "food                                     0.000212351   \n",
       "*sum*                                    0.000217808   \n",
       "\n",
       "           total: natural resources - natural resources[USD 2013]  \n",
       "subsystem                                                          \n",
       "_other_                                                    0       \n",
       "drink                                               0.169253       \n",
       "food                                                   3.786       \n",
       "*sum*                                                3.95525       "
      ]
     },
     "execution_count": 16,
     "metadata": {},
     "output_type": "execute_result"
    }
   ],
   "source": [
    "# Provide values for parameters\n",
    "parameters = {\n",
    "    'a': 1.0,\n",
    "    'b': 0.7,\n",
    "    'c': 1.2,\n",
    "    'd': 10.0,\n",
    "}\n",
    "\n",
    "# Compute impacts and provide results by subsystem \n",
    "agb.compute_impacts(\n",
    "    model,\n",
    "    methods,\n",
    "    axis='subsystem',\n",
    "    **parameters\n",
    ")"
   ]
  },
  {
   "cell_type": "code",
   "execution_count": 17,
   "id": "81c066c8-8dd6-4911-9122-2c496c9614c3",
   "metadata": {},
   "outputs": [
    {
     "data": {
      "text/html": [
       "<div>\n",
       "<style scoped>\n",
       "    .dataframe tbody tr th:only-of-type {\n",
       "        vertical-align: middle;\n",
       "    }\n",
       "\n",
       "    .dataframe tbody tr th {\n",
       "        vertical-align: top;\n",
       "    }\n",
       "\n",
       "    .dataframe thead th {\n",
       "        text-align: right;\n",
       "    }\n",
       "</style>\n",
       "<table border=\"1\" class=\"dataframe\">\n",
       "  <thead>\n",
       "    <tr style=\"text-align: right;\">\n",
       "      <th></th>\n",
       "      <th>climate change - global warming potential (GWP100)[kg CO2-Eq]</th>\n",
       "      <th>total: ecosystem quality - ecosystem quality[species.yr]</th>\n",
       "      <th>total: human health - human health[DALYs]</th>\n",
       "      <th>total: natural resources - natural resources[USD 2013]</th>\n",
       "    </tr>\n",
       "    <tr>\n",
       "      <th>foodtype</th>\n",
       "      <th></th>\n",
       "      <th></th>\n",
       "      <th></th>\n",
       "      <th></th>\n",
       "    </tr>\n",
       "  </thead>\n",
       "  <tbody>\n",
       "    <tr>\n",
       "      <th>_other_</th>\n",
       "      <td>3.6e-05</td>\n",
       "      <td>1.01003e-13</td>\n",
       "      <td>3.34e-11</td>\n",
       "      <td>0</td>\n",
       "    </tr>\n",
       "    <tr>\n",
       "      <th>carrots</th>\n",
       "      <td>0.137479</td>\n",
       "      <td>4.41999e-09</td>\n",
       "      <td>4.18723e-07</td>\n",
       "      <td>0.00843005</td>\n",
       "    </tr>\n",
       "    <tr>\n",
       "      <th>cheese</th>\n",
       "      <td>87.1378</td>\n",
       "      <td>4.02292e-06</td>\n",
       "      <td>0.000211932</td>\n",
       "      <td>3.77757</td>\n",
       "    </tr>\n",
       "    <tr>\n",
       "      <th>soybean</th>\n",
       "      <td>2.40278</td>\n",
       "      <td>6.09026e-08</td>\n",
       "      <td>5.45695e-06</td>\n",
       "      <td>0.169253</td>\n",
       "    </tr>\n",
       "    <tr>\n",
       "      <th>*sum*</th>\n",
       "      <td>89.6781</td>\n",
       "      <td>4.08824e-06</td>\n",
       "      <td>0.000217808</td>\n",
       "      <td>3.95525</td>\n",
       "    </tr>\n",
       "  </tbody>\n",
       "</table>\n",
       "</div>"
      ],
      "text/plain": [
       "          climate change - global warming potential (GWP100)[kg CO2-Eq]  \\\n",
       "foodtype                                                                  \n",
       "_other_                                             3.6e-05               \n",
       "carrots                                            0.137479               \n",
       "cheese                                              87.1378               \n",
       "soybean                                             2.40278               \n",
       "*sum*                                               89.6781               \n",
       "\n",
       "          total: ecosystem quality - ecosystem quality[species.yr]  \\\n",
       "foodtype                                                             \n",
       "_other_                                         1.01003e-13          \n",
       "carrots                                         4.41999e-09          \n",
       "cheese                                          4.02292e-06          \n",
       "soybean                                         6.09026e-08          \n",
       "*sum*                                           4.08824e-06          \n",
       "\n",
       "          total: human health - human health[DALYs]  \\\n",
       "foodtype                                              \n",
       "_other_                                    3.34e-11   \n",
       "carrots                                 4.18723e-07   \n",
       "cheese                                  0.000211932   \n",
       "soybean                                 5.45695e-06   \n",
       "*sum*                                   0.000217808   \n",
       "\n",
       "          total: natural resources - natural resources[USD 2013]  \n",
       "foodtype                                                          \n",
       "_other_                                                   0       \n",
       "carrots                                          0.00843005       \n",
       "cheese                                              3.77757       \n",
       "soybean                                            0.169253       \n",
       "*sum*                                               3.95525       "
      ]
     },
     "execution_count": 17,
     "metadata": {},
     "output_type": "execute_result"
    }
   ],
   "source": [
    "# Compute impacts and provide results by food type \n",
    "agb.compute_impacts(\n",
    "    model,\n",
    "    methods,\n",
    "    axis='foodtype',\n",
    "    **parameters\n",
    ")"
   ]
  },
  {
   "cell_type": "markdown",
   "id": "a992509d-723b-4902-9545-20e87cf6addb",
   "metadata": {},
   "source": [
    "## 3. Prospective LCA\n",
    "\n",
    "Warning: depending on the IAM, the locations might be changed compared to the original ecoinvent database."
   ]
  },
  {
   "cell_type": "code",
   "execution_count": 8,
   "id": "4923a683-46b0-4ccc-933a-3b82a0e54921",
   "metadata": {
    "tags": []
   },
   "outputs": [
    {
     "name": "stdout",
     "output_type": "stream",
     "text": [
      "Initial setup of EcoInvent already done, skipping. To reset the project use option `reset_project=True` in configuration file.\n",
      "Building LCA model from configuration file\n",
      "LCA model successfully created\n"
     ]
    }
   ],
   "source": [
    "# Provide the configuration file where the ecoinvent database, system model and impact categories are defined\n",
    "configuration_file = pth.join(DATA_FOLDER, 'prospective_lca.yaml')\n",
    "project, model, methods = LCAProblemConfigurator(configuration_file).generate()"
   ]
  },
  {
   "cell_type": "code",
   "execution_count": 9,
   "id": "1b9da3b2-2bfd-4546-8887-3c67da47d779",
   "metadata": {},
   "outputs": [
    {
     "data": {
      "text/plain": [
       "Databases dictionary with 8 object(s):\n",
       "\tForeground DB\n",
       "\tMyForeground\n",
       "\tbiosphere3\n",
       "\tbiosphere_user\n",
       "\tecoinvent-3.10-cutoff\n",
       "\tecoinvent_cutoff_3.10_remind_SSP2-Base_2020\n",
       "\tecoinvent_cutoff_3.10_remind_SSP2-Base_2030\n",
       "\tecoinvent_cutoff_3.10_remind_SSP2-Base_2040"
      ]
     },
     "execution_count": 9,
     "metadata": {},
     "output_type": "execute_result"
    }
   ],
   "source": [
    "# List databases installed in the project\n",
    "bw.databases"
   ]
  },
  {
   "cell_type": "code",
   "execution_count": 10,
   "id": "43b01a5d-f781-40fa-96c1-2a31cd94814b",
   "metadata": {
    "tags": []
   },
   "outputs": [
    {
     "data": {
      "text/html": [
       "<div>\n",
       "<style scoped>\n",
       "    .dataframe tbody tr th:only-of-type {\n",
       "        vertical-align: middle;\n",
       "    }\n",
       "\n",
       "    .dataframe tbody tr th {\n",
       "        vertical-align: top;\n",
       "    }\n",
       "\n",
       "    .dataframe thead th {\n",
       "        text-align: right;\n",
       "    }\n",
       "</style>\n",
       "<table border=\"1\" class=\"dataframe\">\n",
       "  <thead>\n",
       "    <tr style=\"text-align: right;\">\n",
       "      <th></th>\n",
       "      <th></th>\n",
       "      <th></th>\n",
       "      <th>climate change - global warming potential (GWP100)[kg CO2-Eq]</th>\n",
       "      <th>total: ecosystem quality - ecosystem quality[species.yr]</th>\n",
       "      <th>total: human health - human health[DALYs]</th>\n",
       "      <th>total: natural resources - natural resources[USD 2013]</th>\n",
       "    </tr>\n",
       "    <tr>\n",
       "      <th>year</th>\n",
       "      <th>a</th>\n",
       "      <th>b</th>\n",
       "      <th></th>\n",
       "      <th></th>\n",
       "      <th></th>\n",
       "      <th></th>\n",
       "    </tr>\n",
       "  </thead>\n",
       "  <tbody>\n",
       "    <tr>\n",
       "      <th>2020</th>\n",
       "      <th>1</th>\n",
       "      <th>0.7</th>\n",
       "      <td>88.2462</td>\n",
       "      <td>4.07912e-06</td>\n",
       "      <td>0.000204248</td>\n",
       "      <td>3.74304</td>\n",
       "    </tr>\n",
       "    <tr>\n",
       "      <th>2025</th>\n",
       "      <th>1.2</th>\n",
       "      <th>0.5</th>\n",
       "      <td>87.058</td>\n",
       "      <td>4.0023e-06</td>\n",
       "      <td>0.000206581</td>\n",
       "      <td>3.75886</td>\n",
       "    </tr>\n",
       "    <tr>\n",
       "      <th>2030</th>\n",
       "      <th>1.4</th>\n",
       "      <th>0.2</th>\n",
       "      <td>68.5128</td>\n",
       "      <td>3.12332e-06</td>\n",
       "      <td>0.000166465</td>\n",
       "      <td>3.02178</td>\n",
       "    </tr>\n",
       "    <tr>\n",
       "      <th>2035</th>\n",
       "      <th>1.6</th>\n",
       "      <th>0.1</th>\n",
       "      <td>65.1766</td>\n",
       "      <td>2.97297e-06</td>\n",
       "      <td>0.000158399</td>\n",
       "      <td>2.87236</td>\n",
       "    </tr>\n",
       "    <tr>\n",
       "      <th>2040</th>\n",
       "      <th>1.8</th>\n",
       "      <th>0</th>\n",
       "      <td>58.7151</td>\n",
       "      <td>2.67743e-06</td>\n",
       "      <td>0.000142725</td>\n",
       "      <td>2.58863</td>\n",
       "    </tr>\n",
       "  </tbody>\n",
       "</table>\n",
       "</div>"
      ],
      "text/plain": [
       "              climate change - global warming potential (GWP100)[kg CO2-Eq]  \\\n",
       "year a   b                                                                    \n",
       "2020 1   0.7                                            88.2462               \n",
       "2025 1.2 0.5                                             87.058               \n",
       "2030 1.4 0.2                                            68.5128               \n",
       "2035 1.6 0.1                                            65.1766               \n",
       "2040 1.8 0                                              58.7151               \n",
       "\n",
       "              total: ecosystem quality - ecosystem quality[species.yr]  \\\n",
       "year a   b                                                               \n",
       "2020 1   0.7                                        4.07912e-06          \n",
       "2025 1.2 0.5                                         4.0023e-06          \n",
       "2030 1.4 0.2                                        3.12332e-06          \n",
       "2035 1.6 0.1                                        2.97297e-06          \n",
       "2040 1.8 0                                          2.67743e-06          \n",
       "\n",
       "              total: human health - human health[DALYs]  \\\n",
       "year a   b                                                \n",
       "2020 1   0.7                                0.000204248   \n",
       "2025 1.2 0.5                                0.000206581   \n",
       "2030 1.4 0.2                                0.000166465   \n",
       "2035 1.6 0.1                                0.000158399   \n",
       "2040 1.8 0                                  0.000142725   \n",
       "\n",
       "              total: natural resources - natural resources[USD 2013]  \n",
       "year a   b                                                            \n",
       "2020 1   0.7                                            3.74304       \n",
       "2025 1.2 0.5                                            3.75886       \n",
       "2030 1.4 0.2                                            3.02178       \n",
       "2035 1.6 0.1                                            2.87236       \n",
       "2040 1.8 0                                              2.58863       "
      ]
     },
     "execution_count": 10,
     "metadata": {},
     "output_type": "execute_result"
    }
   ],
   "source": [
    "# Running a project with premise will automatically add the parameter 'year' to the model to enable the user to select the year of evaluation.\n",
    "parameters = {\n",
    "    'year': [2020, 2025, 2030, 2035, 2040],  # if the year falls between two ecoinvent datasets (e.g. 2020 and 2030), the result will be a linear interpolation of the two\n",
    "    'a': [1.0, 1.2, 1.4, 1.6, 1.8],\n",
    "    'b': [0.7, 0.5, 0.2, 0.1, 0.0],\n",
    "    'c': 1.2,\n",
    "    'd': 10.0,\n",
    "}\n",
    "agb.compute_impacts(\n",
    "    model,\n",
    "    methods,\n",
    "    **parameters\n",
    ")"
   ]
  },
  {
   "cell_type": "markdown",
   "id": "c94fd188-5e8c-49ab-bd3e-2c9b06c180b2",
   "metadata": {},
   "source": [
    "## 4. Advanced examples"
   ]
  },
  {
   "cell_type": "markdown",
   "id": "578063dd-3c15-45d8-b135-6e56916c00b9",
   "metadata": {},
   "source": [
    "### Reference a previously defined activity and modify existing activities"
   ]
  },
  {
   "cell_type": "code",
   "execution_count": 11,
   "id": "65a6f663-c947-4825-a75e-e0e37d796824",
   "metadata": {
    "tags": []
   },
   "outputs": [
    {
     "name": "stdout",
     "output_type": "stream",
     "text": [
      "Initial setup of EcoInvent already done, skipping. To reset the project use option `reset_project=True` in configuration file.\n",
      "Building LCA model from configuration file\n",
      "LCA model successfully created\n"
     ]
    }
   ],
   "source": [
    "# Provide the configuration file where the ecoinvent database, system model and impact categories are defined\n",
    "configuration_file = pth.join(DATA_FOLDER, 'advanced_example.yaml')\n",
    "project, model, methods = LCAProblemConfigurator(configuration_file).generate()"
   ]
  },
  {
   "cell_type": "code",
   "execution_count": 12,
   "id": "80d39dcb-3600-40f8-b684-045457bd8a7a",
   "metadata": {
    "tags": []
   },
   "outputs": [
    {
     "data": {
      "text/html": [
       "<div>\n",
       "<style scoped>\n",
       "    .dataframe tbody tr th:only-of-type {\n",
       "        vertical-align: middle;\n",
       "    }\n",
       "\n",
       "    .dataframe tbody tr th {\n",
       "        vertical-align: top;\n",
       "    }\n",
       "\n",
       "    .dataframe thead th {\n",
       "        text-align: right;\n",
       "    }\n",
       "</style>\n",
       "<table border=\"1\" class=\"dataframe\">\n",
       "  <thead>\n",
       "    <tr style=\"text-align: right;\">\n",
       "      <th></th>\n",
       "      <th></th>\n",
       "      <th></th>\n",
       "      <th></th>\n",
       "      <th>climate change - global warming potential (GWP100)[kg CO2-Eq]</th>\n",
       "      <th>total: ecosystem quality - ecosystem quality[species.yr]</th>\n",
       "      <th>total: human health - human health[DALYs]</th>\n",
       "      <th>total: natural resources - natural resources[USD 2013]</th>\n",
       "    </tr>\n",
       "    <tr>\n",
       "      <th>year</th>\n",
       "      <th>a</th>\n",
       "      <th>b</th>\n",
       "      <th>p</th>\n",
       "      <th></th>\n",
       "      <th></th>\n",
       "      <th></th>\n",
       "      <th></th>\n",
       "    </tr>\n",
       "  </thead>\n",
       "  <tbody>\n",
       "    <tr>\n",
       "      <th>2020</th>\n",
       "      <th>1</th>\n",
       "      <th>0.7</th>\n",
       "      <th>0.3</th>\n",
       "      <td>431.872</td>\n",
       "      <td>2.01535e-05</td>\n",
       "      <td>0.00100108</td>\n",
       "      <td>18.0676</td>\n",
       "    </tr>\n",
       "    <tr>\n",
       "      <th>2025</th>\n",
       "      <th>1.2</th>\n",
       "      <th>0.5</th>\n",
       "      <th>0.2</th>\n",
       "      <td>356.375</td>\n",
       "      <td>1.65131e-05</td>\n",
       "      <td>0.000846659</td>\n",
       "      <td>15.2176</td>\n",
       "    </tr>\n",
       "    <tr>\n",
       "      <th>2030</th>\n",
       "      <th>1.4</th>\n",
       "      <th>0.2</th>\n",
       "      <th>0.15</th>\n",
       "      <td>240.121</td>\n",
       "      <td>1.10388e-05</td>\n",
       "      <td>0.000584144</td>\n",
       "      <td>10.4708</td>\n",
       "    </tr>\n",
       "    <tr>\n",
       "      <th>2035</th>\n",
       "      <th>1.6</th>\n",
       "      <th>0.1</th>\n",
       "      <th>0.12</th>\n",
       "      <td>200.318</td>\n",
       "      <td>9.20526e-06</td>\n",
       "      <td>0.000487368</td>\n",
       "      <td>8.73998</td>\n",
       "    </tr>\n",
       "    <tr>\n",
       "      <th>2040</th>\n",
       "      <th>1.8</th>\n",
       "      <th>0</th>\n",
       "      <th>0.08</th>\n",
       "      <td>160.558</td>\n",
       "      <td>7.37282e-06</td>\n",
       "      <td>0.000390691</td>\n",
       "      <td>7.01224</td>\n",
       "    </tr>\n",
       "  </tbody>\n",
       "</table>\n",
       "</div>"
      ],
      "text/plain": [
       "                   climate change - global warming potential (GWP100)[kg CO2-Eq]  \\\n",
       "year a   b   p                                                                     \n",
       "2020 1   0.7 0.3                                             431.872               \n",
       "2025 1.2 0.5 0.2                                             356.375               \n",
       "2030 1.4 0.2 0.15                                            240.121               \n",
       "2035 1.6 0.1 0.12                                            200.318               \n",
       "2040 1.8 0   0.08                                            160.558               \n",
       "\n",
       "                   total: ecosystem quality - ecosystem quality[species.yr]  \\\n",
       "year a   b   p                                                                \n",
       "2020 1   0.7 0.3                                         2.01535e-05          \n",
       "2025 1.2 0.5 0.2                                         1.65131e-05          \n",
       "2030 1.4 0.2 0.15                                        1.10388e-05          \n",
       "2035 1.6 0.1 0.12                                        9.20526e-06          \n",
       "2040 1.8 0   0.08                                        7.37282e-06          \n",
       "\n",
       "                   total: human health - human health[DALYs]  \\\n",
       "year a   b   p                                                 \n",
       "2020 1   0.7 0.3                                  0.00100108   \n",
       "2025 1.2 0.5 0.2                                 0.000846659   \n",
       "2030 1.4 0.2 0.15                                0.000584144   \n",
       "2035 1.6 0.1 0.12                                0.000487368   \n",
       "2040 1.8 0   0.08                                0.000390691   \n",
       "\n",
       "                   total: natural resources - natural resources[USD 2013]  \n",
       "year a   b   p                                                             \n",
       "2020 1   0.7 0.3                                             18.0676       \n",
       "2025 1.2 0.5 0.2                                             15.2176       \n",
       "2030 1.4 0.2 0.15                                            10.4708       \n",
       "2035 1.6 0.1 0.12                                            8.73998       \n",
       "2040 1.8 0   0.08                                            7.01224       "
      ]
     },
     "execution_count": 12,
     "metadata": {},
     "output_type": "execute_result"
    }
   ],
   "source": [
    "# Running a project with premise will automatically add the parameter 'year' to the model to enable the user to select the year of evaluation.\n",
    "parameters = {\n",
    "    'year': [2020, 2025, 2030, 2035, 2040],  # if the year falls between two ecoinvent datasets (e.g. 2020 and 2030), the result will be a linear interpolation of the two\n",
    "    'a': [1.0, 1.2, 1.4, 1.6, 1.8],\n",
    "    'b': [0.7, 0.5, 0.2, 0.1, 0.0],\n",
    "    'c': 1.2,\n",
    "    'd': 10.0,\n",
    "    'p': [0.3, 0.2, 0.15, 0.12, 0.08]\n",
    "}\n",
    "agb.compute_impacts(\n",
    "    model,\n",
    "    methods,\n",
    "    **parameters\n",
    ")"
   ]
  },
  {
   "cell_type": "markdown",
   "id": "d16e9ce9-19ff-4133-a873-aabfe47a6f62",
   "metadata": {},
   "source": [
    "## 5. Define your own LCIA methods"
   ]
  },
  {
   "cell_type": "code",
   "execution_count": 13,
   "id": "dc12c9c2-417b-43aa-a820-235a4b91ac81",
   "metadata": {
    "tags": []
   },
   "outputs": [
    {
     "name": "stderr",
     "output_type": "stream",
     "text": [
      "Writing activities to SQLite3 database:\n"
     ]
    },
    {
     "name": "stdout",
     "output_type": "stream",
     "text": [
      "Initial setup of EcoInvent already done, skipping. To reset the project use option `reset_project=True` in configuration file.\n",
      "Creating custom LCIA method  ('Custom methods', 'climate change', 'GWP100 (updated)')\n"
     ]
    },
    {
     "name": "stderr",
     "output_type": "stream",
     "text": [
      "0% [#] 100% | ETA: 00:00:00\n",
      "Total time elapsed: 00:00:00\n"
     ]
    },
    {
     "name": "stdout",
     "output_type": "stream",
     "text": [
      "Title: Writing activities to SQLite3 database:\n",
      "  Started: 10/21/2025 14:33:28\n",
      "  Finished: 10/21/2025 14:33:28\n",
      "  Total time elapsed: 00:00:00\n",
      "  CPU %: 2.50\n",
      "  Memory %: 5.90\n",
      "Added 1 new biosphere flows\n",
      "1 methods\n",
      "130 cfs\n",
      "0 unlinked cfs\n",
      "Wrote 1 LCIA methods with 130 characterization factors\n",
      "Wrote matching file to:\n",
      "/Users/f.pollet/POSTDOC/5 - Tools/LCA-Modeller/lca_modeller/notebook/data/lcia_gwp100_custom_updated.xlsx\n",
      "Building LCA model from configuration file\n",
      "LCA model successfully created\n"
     ]
    }
   ],
   "source": [
    "# Provide the configuration file where the ecoinvent database, system model and impact categories are defined\n",
    "configuration_file = pth.join(DATA_FOLDER, 'custom_lcia_methods.yaml')\n",
    "project, model, methods = LCAProblemConfigurator(configuration_file).generate()"
   ]
  },
  {
   "cell_type": "code",
   "execution_count": 14,
   "id": "7640b77f-dec8-4e4d-846d-d4bef141d74d",
   "metadata": {
    "tags": []
   },
   "outputs": [
    {
     "data": {
      "text/plain": [
       "[('ReCiPe 2016 v1.03, midpoint (H)',\n",
       "  'climate change',\n",
       "  'global warming potential (GWP100)'),\n",
       " ('Custom methods', 'climate change', 'GWP100 (updated)')]"
      ]
     },
     "execution_count": 14,
     "metadata": {},
     "output_type": "execute_result"
    }
   ],
   "source": [
    "# The custom method is automatically added to the list\n",
    "methods"
   ]
  },
  {
   "cell_type": "code",
   "execution_count": 15,
   "id": "035e3d4f-3890-4a93-97a2-53f3e103791f",
   "metadata": {
    "tags": []
   },
   "outputs": [
    {
     "data": {
      "text/html": [
       "<div>\n",
       "<style scoped>\n",
       "    .dataframe tbody tr th:only-of-type {\n",
       "        vertical-align: middle;\n",
       "    }\n",
       "\n",
       "    .dataframe tbody tr th {\n",
       "        vertical-align: top;\n",
       "    }\n",
       "\n",
       "    .dataframe thead th {\n",
       "        text-align: right;\n",
       "    }\n",
       "</style>\n",
       "<table border=\"1\" class=\"dataframe\">\n",
       "  <thead>\n",
       "    <tr style=\"text-align: right;\">\n",
       "      <th></th>\n",
       "      <th></th>\n",
       "      <th>climate change - global warming potential (GWP100)[kg CO2-Eq]</th>\n",
       "      <th>climate change - GWP100 (updated)[kg CO2-Eq]</th>\n",
       "    </tr>\n",
       "    <tr>\n",
       "      <th>a</th>\n",
       "      <th>b</th>\n",
       "      <th></th>\n",
       "      <th></th>\n",
       "    </tr>\n",
       "  </thead>\n",
       "  <tbody>\n",
       "    <tr>\n",
       "      <th>1</th>\n",
       "      <th>0.7</th>\n",
       "      <td>89.6781</td>\n",
       "      <td>123.057</td>\n",
       "    </tr>\n",
       "    <tr>\n",
       "      <th>1.2</th>\n",
       "      <th>0.5</th>\n",
       "      <td>87.7572</td>\n",
       "      <td>121.124</td>\n",
       "    </tr>\n",
       "    <tr>\n",
       "      <th>1.4</th>\n",
       "      <th>0.2</th>\n",
       "      <td>68.5128</td>\n",
       "      <td>101.802</td>\n",
       "    </tr>\n",
       "    <tr>\n",
       "      <th>1.6</th>\n",
       "      <th>0.1</th>\n",
       "      <td>65.1766</td>\n",
       "      <td>98.4502</td>\n",
       "    </tr>\n",
       "    <tr>\n",
       "      <th>1.8</th>\n",
       "      <th>0</th>\n",
       "      <td>58.7151</td>\n",
       "      <td>91.9618</td>\n",
       "    </tr>\n",
       "  </tbody>\n",
       "</table>\n",
       "</div>"
      ],
      "text/plain": [
       "         climate change - global warming potential (GWP100)[kg CO2-Eq]  \\\n",
       "a   b                                                                    \n",
       "1   0.7                                            89.6781               \n",
       "1.2 0.5                                            87.7572               \n",
       "1.4 0.2                                            68.5128               \n",
       "1.6 0.1                                            65.1766               \n",
       "1.8 0                                              58.7151               \n",
       "\n",
       "         climate change - GWP100 (updated)[kg CO2-Eq]  \n",
       "a   b                                                  \n",
       "1   0.7                                       123.057  \n",
       "1.2 0.5                                       121.124  \n",
       "1.4 0.2                                       101.802  \n",
       "1.6 0.1                                       98.4502  \n",
       "1.8 0                                         91.9618  "
      ]
     },
     "execution_count": 15,
     "metadata": {},
     "output_type": "execute_result"
    }
   ],
   "source": [
    "# Compute impacts with new method\n",
    "parameters = {\n",
    "    'a': [1.0, 1.2, 1.4, 1.6, 1.8],\n",
    "    'b': [0.7, 0.5, 0.2, 0.1, 0.0],\n",
    "    'c': 1.2,\n",
    "    'd': 10.0,\n",
    "}\n",
    "\n",
    "agb.compute_impacts(\n",
    "    model,\n",
    "    methods,\n",
    "    **parameters\n",
    ")"
   ]
  },
  {
   "cell_type": "markdown",
   "id": "d64c82be-f38d-488e-84b9-4719e1fce41d",
   "metadata": {},
   "source": [
    "# 6. Declare metadata for parameters\n",
    "For example, declare min/max values and distribution type for each parameter to run a Monte Carlo using lca-algebraic's capabilities"
   ]
  },
  {
   "cell_type": "code",
   "execution_count": 20,
   "id": "d2975d72-9d4c-4808-862e-e8ac980cc8d3",
   "metadata": {},
   "outputs": [
    {
     "name": "stdout",
     "output_type": "stream",
     "text": [
      "Initial setup of EcoInvent already done, skipping. To reset the project use option `reset_project=True` in configuration file.\n",
      "Building LCA model from configuration file\n",
      "LCA model successfully created\n"
     ]
    }
   ],
   "source": [
    "# Provide the configuration file where the ecoinvent database, system model and impact categories are defined\n",
    "configuration_file = pth.join(DATA_FOLDER, 'metadata_example.yaml')\n",
    "project, model, methods = LCAProblemConfigurator(configuration_file).generate()"
   ]
  },
  {
   "cell_type": "code",
   "execution_count": 21,
   "id": "c0abb724-0de2-4487-ab25-6465345c5c77",
   "metadata": {},
   "outputs": [
    {
     "data": {
      "text/html": [
       "<table>\n",
       "<thead>\n",
       "<tr><th>group  </th><th>name  </th><th>label  </th><th style=\"text-align: right;\">  default</th><th style=\"text-align: right;\">  min</th><th style=\"text-align: right;\">  max</th><th>std  </th><th>distrib  </th><th>unit  </th><th>db           </th></tr>\n",
       "</thead>\n",
       "<tbody>\n",
       "<tr><td>       </td><td>a     </td><td>a      </td><td style=\"text-align: right;\">      2  </td><td style=\"text-align: right;\">    1</td><td style=\"text-align: right;\">    3</td><td>     </td><td>linear   </td><td>m     </td><td>Foreground DB</td></tr>\n",
       "<tr><td>       </td><td>b     </td><td>b      </td><td style=\"text-align: right;\">      2  </td><td style=\"text-align: right;\">    1</td><td style=\"text-align: right;\">    3</td><td>     </td><td>triangle </td><td>kg    </td><td>Foreground DB</td></tr>\n",
       "<tr><td>       </td><td>c     </td><td>c      </td><td style=\"text-align: right;\">      0.1</td><td style=\"text-align: right;\">    0</td><td style=\"text-align: right;\">    1</td><td>     </td><td>fixed    </td><td>kg    </td><td>Foreground DB</td></tr>\n",
       "<tr><td>       </td><td>d     </td><td>d      </td><td style=\"text-align: right;\">     13.2</td><td style=\"text-align: right;\">    0</td><td style=\"text-align: right;\">    1</td><td>     </td><td>fixed    </td><td>      </td><td>Foreground DB</td></tr>\n",
       "</tbody>\n",
       "</table>"
      ],
      "text/plain": [
       "<IPython.core.display.HTML object>"
      ]
     },
     "execution_count": 21,
     "metadata": {},
     "output_type": "execute_result"
    }
   ],
   "source": [
    "agb.list_parameters()"
   ]
  },
  {
   "cell_type": "code",
   "execution_count": 22,
   "id": "104d6a22-9933-4385-9fb9-5e024e17f053",
   "metadata": {},
   "outputs": [
    {
     "data": {
      "text/html": [
       "<div>\n",
       "<style scoped>\n",
       "    .dataframe tbody tr th:only-of-type {\n",
       "        vertical-align: middle;\n",
       "    }\n",
       "\n",
       "    .dataframe tbody tr th {\n",
       "        vertical-align: top;\n",
       "    }\n",
       "\n",
       "    .dataframe thead th {\n",
       "        text-align: right;\n",
       "    }\n",
       "</style>\n",
       "<table border=\"1\" class=\"dataframe\">\n",
       "  <thead>\n",
       "    <tr style=\"text-align: right;\">\n",
       "      <th></th>\n",
       "      <th>climate change - global warming potential (GWP100)[kg CO2-Eq]</th>\n",
       "      <th>total: ecosystem quality - ecosystem quality[species.yr]</th>\n",
       "      <th>total: human health - human health[DALYs]</th>\n",
       "      <th>total: natural resources - natural resources[USD 2013]</th>\n",
       "    </tr>\n",
       "  </thead>\n",
       "  <tbody>\n",
       "    <tr>\n",
       "      <th>model</th>\n",
       "      <td>324.081</td>\n",
       "      <td>1.49235e-05</td>\n",
       "      <td>0.000788116</td>\n",
       "      <td>14.0994</td>\n",
       "    </tr>\n",
       "  </tbody>\n",
       "</table>\n",
       "</div>"
      ],
      "text/plain": [
       "       climate change - global warming potential (GWP100)[kg CO2-Eq]  \\\n",
       "model                                            324.081               \n",
       "\n",
       "       total: ecosystem quality - ecosystem quality[species.yr]  \\\n",
       "model                                        1.49235e-05          \n",
       "\n",
       "       total: human health - human health[DALYs]  \\\n",
       "model                                0.000788116   \n",
       "\n",
       "       total: natural resources - natural resources[USD 2013]  \n",
       "model                                            14.0994       "
      ]
     },
     "execution_count": 22,
     "metadata": {},
     "output_type": "execute_result"
    }
   ],
   "source": [
    "agb.compute_impacts(model, methods)"
   ]
  },
  {
   "cell_type": "code",
   "execution_count": 19,
   "id": "a6939d8a-8bc9-4cbc-8e03-1709c5f16835",
   "metadata": {},
   "outputs": [
    {
     "name": "stdout",
     "output_type": "stream",
     "text": [
      "Generating samples ...\n",
      "Transforming samples ...\n",
      "Processing Sobol indices ...\n",
      "Processing sobol for ('ReCiPe 2016 v1.03, midpoint (H)', 'climate change', 'global warming potential (GWP100)')\n",
      "Processing sobol for ('ReCiPe 2016 v1.03, endpoint (H)', 'total: ecosystem quality', 'ecosystem quality')\n",
      "Processing sobol for ('ReCiPe 2016 v1.03, endpoint (H)', 'total: human health', 'human health')\n",
      "Processing sobol for ('ReCiPe 2016 v1.03, endpoint (H)', 'total: natural resources', 'natural resources')\n"
     ]
    },
    {
     "name": "stderr",
     "output_type": "stream",
     "text": [
      "/opt/miniconda3/envs/lca-modeller/lib/python3.11/site-packages/SALib/util/__init__.py:274: FutureWarning: unique with argument that is not not a Series, Index, ExtensionArray, or np.ndarray is deprecated and will raise in a future version.\n",
      "  names = list(pd.unique(groups))\n"
     ]
    },
    {
     "data": {
      "application/vnd.jupyter.widget-view+json": {
       "model_id": "8b91fb0a8e4c41df9bd981bd97a222b8",
       "version_major": 2,
       "version_minor": 0
      },
      "text/plain": [
       "Tab(children=(Output(outputs=({'output_type': 'display_data', 'data': {'text/plain': '<Figure size 1500x1500 w…"
      ]
     },
     "metadata": {},
     "output_type": "display_data"
    }
   ],
   "source": [
    "agb.incer_stochastic_dashboard(model, methods, n=1024)"
   ]
  }
 ],
 "metadata": {
  "kernelspec": {
   "display_name": "Python 3 (ipykernel)",
   "language": "python",
   "name": "python3"
  },
  "language_info": {
   "codemirror_mode": {
    "name": "ipython",
    "version": 3
   },
   "file_extension": ".py",
   "mimetype": "text/x-python",
   "name": "python",
   "nbconvert_exporter": "python",
   "pygments_lexer": "ipython3",
   "version": "3.11.13"
  }
 },
 "nbformat": 4,
 "nbformat_minor": 5
}
