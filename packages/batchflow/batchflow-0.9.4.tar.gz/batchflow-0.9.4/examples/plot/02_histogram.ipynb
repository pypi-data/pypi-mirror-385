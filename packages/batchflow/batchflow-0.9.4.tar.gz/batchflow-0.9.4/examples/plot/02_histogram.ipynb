{
 "cells": [
  {
   "cell_type": "code",
   "execution_count": null,
   "metadata": {
    "tags": []
   },
   "outputs": [],
   "source": [
    "%load_ext autoreload\n",
    "%autoreload 2"
   ]
  },
  {
   "cell_type": "markdown",
   "metadata": {},
   "source": [
    "## This is a tutorial on `histogram` mode scenario of `Plot` class."
   ]
  },
  {
   "cell_type": "code",
   "execution_count": null,
   "metadata": {
    "tags": []
   },
   "outputs": [],
   "source": [
    "# Necessary imports\n",
    "import sys\n",
    "import numpy as np\n",
    "from skimage.io import imread\n",
    "from skimage.exposure import equalize_hist\n",
    "\n",
    "sys.path.insert(0, '../..')\n",
    "from batchflow import plot"
   ]
  },
  {
   "cell_type": "code",
   "execution_count": null,
   "metadata": {
    "tags": []
   },
   "outputs": [],
   "source": [
    "# Load sample data\n",
    "original_image = imread('data/image.png') / 255\n",
    "equalized_image = equalize_hist(original_image, mask=original_image < 0.99)"
   ]
  },
  {
   "cell_type": "markdown",
   "metadata": {},
   "source": [
    "This is the usual way to display several images."
   ]
  },
  {
   "cell_type": "markdown",
   "metadata": {},
   "source": [
    "To make make histogram plot of them, simply specify the mode of the same name."
   ]
  },
  {
   "cell_type": "code",
   "execution_count": null,
   "metadata": {
    "tags": []
   },
   "outputs": [],
   "source": [
    "plot(\n",
    "    data=[original_image, equalized_image],\n",
    "    cmap='batchflow',\n",
    "    combine='separate',\n",
    "    colorbar=True,\n",
    "    title=['Original image', 'Equalized image'],\n",
    ")"
   ]
  },
  {
   "cell_type": "code",
   "execution_count": null,
   "metadata": {
    "tags": []
   },
   "outputs": [],
   "source": [
    "plot(\n",
    "    data=[original_image, equalized_image],\n",
    "    mode='histogram', # new parameter\n",
    "    title='Images histograms' # parameter changed\n",
    ")"
   ]
  },
  {
   "cell_type": "markdown",
   "metadata": {},
   "source": [
    "We have obvious outlier in our data, so it might be a good idea to log histogram bins values in order to make plots more informative.\n",
    "\n",
    "Parameter `log` is your best buddy here."
   ]
  },
  {
   "cell_type": "code",
   "execution_count": null,
   "metadata": {
    "scrolled": false
   },
   "outputs": [],
   "source": [
    "plot(\n",
    "    data=[original_image, equalized_image],\n",
    "    mode='histogram',\n",
    "    title='Images histograms',\n",
    "    log=True, # new parameter\n",
    ")"
   ]
  },
  {
   "cell_type": "markdown",
   "metadata": {},
   "source": [
    "Specify legend labels via `label` parameter."
   ]
  },
  {
   "cell_type": "code",
   "execution_count": null,
   "metadata": {
    "tags": []
   },
   "outputs": [],
   "source": [
    "plot(\n",
    "    data=[original_image, equalized_image],\n",
    "    mode='histogram',\n",
    "    title='Images histograms',\n",
    "    log=True,\n",
    "    label=['Original image', 'Equalized image'] # new parameter\n",
    ")"
   ]
  },
  {
   "cell_type": "markdown",
   "metadata": {},
   "source": [
    "Parameter `bins`, `color` and `alpha` are hard-coded and automatically parsed from provided keyword arguments.\n",
    "\n",
    "However, `plt.hist` except much more parameters, and naturally, one might have an intention to use them.\n",
    "\n",
    "To do so, add prefix `'histogram_'` to a parameter name, so that the plotter knows, where to redirect this parameter to.\n",
    "\n",
    "Example below shows, how to specify `histype` parameter in such a way."
   ]
  },
  {
   "cell_type": "code",
   "execution_count": null,
   "metadata": {
    "tags": []
   },
   "outputs": [],
   "source": [
    "plot(\n",
    "    data=[original_image, equalized_image],\n",
    "    mode='histogram',\n",
    "    title='Images histograms',\n",
    "    log=True,\n",
    "    label=['Original image', 'Equalized image'],\n",
    "    histogram_histtype='step' # new parameter\n",
    ")"
   ]
  },
  {
   "cell_type": "markdown",
   "metadata": {},
   "source": [
    "To display histograms separately use `combine='separate'`."
   ]
  },
  {
   "cell_type": "code",
   "execution_count": null,
   "metadata": {
    "tags": []
   },
   "outputs": [],
   "source": [
    "plot(\n",
    "    data=[original_image, equalized_image],\n",
    "    mode='histogram',\n",
    "    title=['Original image histogram', 'Equalized image histogram'], # parameter changed\n",
    "    log=True,\n",
    "    label=['Original image', 'Equalized image'],\n",
    "    combine='separate' # new parameter\n",
    ")"
   ]
  },
  {
   "cell_type": "markdown",
   "metadata": {},
   "source": [
    "You might notice, that the color is the same on both subplots below.\n",
    "\n",
    "That happens, because separate subplots have separate default colors generators. To use different colors, provide them explicitly.\n",
    "\n",
    "Also maximum bin value differs between subplots, which might be undesirable for histograms visual comparison. To use same y-axis user `sharey`."
   ]
  },
  {
   "cell_type": "code",
   "execution_count": null,
   "metadata": {},
   "outputs": [],
   "source": [
    "plot(\n",
    "    data=[original_image, equalized_image],\n",
    "    mode='histogram',\n",
    "    title=['Original image histogram', 'Equalized image histogram'],\n",
    "    log=True,\n",
    "    label=['Original image', 'Equalized image'],\n",
    "    combine='separate',\n",
    "    color=['mediumseagreen', 'thistle'], # new parameter\n",
    "    sharey=True # new parameter\n",
    ")"
   ]
  },
  {
   "cell_type": "markdown",
   "metadata": {},
   "source": [
    "To display histograms in 'mixed' manner, i.e. with some histograms overlaid and some displayed separately, use nested lists of histograms arrays.\n",
    "\n",
    "If list has level 2 nestedness, outer level defines subplots order while inner one defines layers order.\n",
    "\n",
    "Note, that parameters should have same nestedness level."
   ]
  },
  {
   "cell_type": "code",
   "execution_count": null,
   "metadata": {
    "tags": []
   },
   "outputs": [],
   "source": [
    "plot(\n",
    "    data=[original_image, [original_image, equalized_image], equalized_image], # parameter changed\n",
    "    mode='histogram',\n",
    "    title=['Original image histogram', 'Images histogram', 'Equalized image histogram'], # parameter changed\n",
    "    log=True,\n",
    "    color=['mediumseagreen', ['mediumseagreen', 'thistle'], 'thistle'], # parameter changed\n",
    ")"
   ]
  },
  {
   "cell_type": "markdown",
   "metadata": {},
   "source": [
    "To create plots with mixed-type visualizations one can use `positions` keyword combined with explicitly provided `ncols`, `nrows`.\n",
    "Parameter `positions` specifies subplots indices to put data on."
   ]
  },
  {
   "cell_type": "code",
   "execution_count": null,
   "metadata": {
    "tags": []
   },
   "outputs": [],
   "source": [
    "plotter = plot(\n",
    "    data=[original_image, equalized_image],\n",
    "    positions=[0, 2],\n",
    "    ncols=2,\n",
    "    nrows=2,\n",
    "    mode='image',\n",
    "    cmap='batchflow',\n",
    "    combine='separate',\n",
    "    colorbar=True,\n",
    "    title=['Original image', 'Equalized image'],\n",
    ")\n",
    "\n",
    "plotter.plot(\n",
    "    data=[original_image, equalized_image],\n",
    "    positions=[1, 3],\n",
    "    mode='histogram',\n",
    "    combine='separate',\n",
    "    title=['Histogram of original image', 'Histogram of equalized image'],\n",
    "    log=True,\n",
    "    color=['mediumseagreen', 'thistle']\n",
    ")"
   ]
  }
 ],
 "metadata": {
  "kernelspec": {
   "display_name": "Python 3 (ipykernel)",
   "language": "python",
   "name": "python3"
  },
  "language_info": {
   "codemirror_mode": {
    "name": "ipython",
    "version": 3
   },
   "file_extension": ".py",
   "mimetype": "text/x-python",
   "name": "python",
   "nbconvert_exporter": "python",
   "pygments_lexer": "ipython3",
   "version": "3.9.10"
  },
  "widgets": {
   "application/vnd.jupyter.widget-state+json": {
    "state": {},
    "version_major": 2,
    "version_minor": 0
   }
  }
 },
 "nbformat": 4,
 "nbformat_minor": 4
}
