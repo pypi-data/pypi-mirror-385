{
 "cells": [
  {
   "cell_type": "markdown",
   "id": "e17e2bb7",
   "metadata": {},
   "source": [
    "# lib_log_rich Quickstart\n",
    "\n",
    "Install the package (from PyPI or GitHub), then try the CLI and API examples below."
   ]
  },
  {
   "cell_type": "code",
   "execution_count": null,
   "id": "a0ab8f8e",
   "metadata": {},
   "outputs": [],
   "source": [
    "# update pip and setuptools\n",
    "import sys\n",
    "\n",
    "!{sys.executable} -m pip install --upgrade pip\n",
    "!{sys.executable} -m pip install --upgrade setuptools\n",
    "\n",
    "# install lib_log_rich from GitHub (default)\n",
    "!{sys.executable} -m pip install --upgrade git+https://github.com/bitranox/lib_log_rich.git"
   ]
  },
  {
   "cell_type": "markdown",
   "id": "93858ea2",
   "metadata": {},
   "source": [
    "## Or: Install from PyPI (alternative)\n",
    "Uncomment and run the cell below if you prefer the PyPI release."
   ]
  },
  {
   "cell_type": "code",
   "execution_count": null,
   "id": "b2a1b685",
   "metadata": {},
   "outputs": [],
   "source": [
    "# !{sys.executable} -m pip install --upgrade lib_log_rich"
   ]
  },
  {
   "cell_type": "markdown",
   "id": "3d168c08",
   "metadata": {},
   "source": [
    "## 2) CLI: version and help"
   ]
  },
  {
   "cell_type": "code",
   "execution_count": null,
   "id": "4fea2bef",
   "metadata": {},
   "outputs": [],
   "source": [
    "# Version!lib_log_rich --version\n",
    "!lib_log_rich --help\n",
    "!lib_log_rich info\n",
    "!lib_log_rich hello\n",
    "!lib_log_rich fail\n",
    "!lib_log_rich logdemo\n",
    "!lib_log_rich logdemo --console-format-preset short\n",
    "!lib_log_rich logdemo --dump-format-template \"{hh}:{mm}:{ss} {message}\""
   ]
  },
  {
   "cell_type": "markdown",
   "id": "1cd218b1",
   "metadata": {},
   "source": [
    "## 3) CLI fail with traceback (default)"
   ]
  },
  {
   "cell_type": "code",
   "execution_count": null,
   "id": "ab663353",
   "metadata": {},
   "outputs": [],
   "source": [
    "!lib_log_rich fail"
   ]
  },
  {
   "cell_type": "markdown",
   "id": "f1baab7e",
   "metadata": {},
   "source": [
    "## 4) CLI fail without traceback"
   ]
  },
  {
   "cell_type": "code",
   "execution_count": null,
   "id": "9f64c179",
   "metadata": {},
   "outputs": [],
   "source": [
    "!lib_log_rich --no-traceback fail"
   ]
  },
  {
   "cell_type": "markdown",
   "id": "3d397a89",
   "metadata": {},
   "source": [
    "## 5) script fail with traceback (default)"
   ]
  },
  {
   "cell_type": "code",
   "execution_count": null,
   "id": "3d6d156d",
   "metadata": {},
   "outputs": [],
   "source": [
    "!{sys.executable} -m lib_log_rich fail"
   ]
  },
  {
   "cell_type": "markdown",
   "id": "7b93490e",
   "metadata": {},
   "source": [
    "## 6) script fail without traceback"
   ]
  },
  {
   "cell_type": "code",
   "execution_count": null,
   "id": "aebc4e20",
   "metadata": {},
   "outputs": [],
   "source": [
    "!{sys.executable} -m lib_log_rich --no-traceback fail"
   ]
  }
 ],
 "metadata": {
  "kernelspec": {
   "display_name": "Python 3",
   "language": "python",
   "name": "python3"
  },
  "language_info": {
   "codemirror_mode": {
    "name": "ipython",
    "version": 3
   },
   "file_extension": ".py",
   "mimetype": "text/x-python",
   "name": "python",
   "nbconvert_exporter": "python",
   "pygments_lexer": "ipython3",
   "version": "3.13.7"
  }
 },
 "nbformat": 4,
 "nbformat_minor": 5
}