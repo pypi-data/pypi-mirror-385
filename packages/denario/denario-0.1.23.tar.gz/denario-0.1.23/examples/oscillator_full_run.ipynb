{
 "cells": [
  {
   "cell_type": "markdown",
   "id": "977f68cb-d4b0-4251-ae4f-d5f80ec89f9c",
   "metadata": {},
   "source": [
    "# Denario full run example\n",
    "\n",
    "Through this notebook we guide the user in the full process of the automated research and scientific writing using AutoPilot."
   ]
  },
  {
   "cell_type": "markdown",
   "id": "71f2c2f0-e37c-42b5-93e1-35969c3cdacf",
   "metadata": {},
   "source": [
    "## Import and instantiate the Denario class\n",
    "\n",
    "Initialize a `Denario` instance. All research assistance is performed through this object."
   ]
  },
  {
   "cell_type": "code",
   "execution_count": null,
   "id": "00215356-44a0-4c36-824f-b221ca52f7f2",
   "metadata": {},
   "outputs": [],
   "source": [
    "from denario import Denario\n",
    "\n",
    "den = Denario()"
   ]
  },
  {
   "cell_type": "markdown",
   "id": "daa9838f-8d78-4167-a26f-fd5dbc53f81d",
   "metadata": {},
   "source": [
    "## Set the data and tools description\n",
    "\n",
    "Describe the topic of the research. Specify the data and tools to be employed."
   ]
  },
  {
   "cell_type": "code",
   "execution_count": null,
   "id": "fe1a445c-6e18-4c81-8d06-e8f055f24677",
   "metadata": {},
   "outputs": [],
   "source": [
    "data_description = r\"\"\"\n",
    "Generate your own data for studying harmonic oscillators\n",
    "Constraints: \n",
    "- We are running only computational experiments in Python on a laptop. \n",
    "- The data should not take more than 3 minutes to generate. \n",
    "- The research project should not be on the data generation itself, but on some harmonic oscillator physics.  \n",
    "\"\"\"\n",
    "\n",
    "den.set_data_description(data_description = data_description)\n",
    "den.show_data_description()"
   ]
  },
  {
   "cell_type": "markdown",
   "id": "882c6e68-771c-4c4b-871b-12d729a97b38",
   "metadata": {},
   "source": [
    "## Get Idea\n",
    "\n",
    "Generate a research idea from that data specification."
   ]
  },
  {
   "cell_type": "code",
   "execution_count": null,
   "id": "49257cfe-3b85-47cd-960b-236478a69995",
   "metadata": {
    "scrolled": true
   },
   "outputs": [],
   "source": [
    "den.get_idea()\n",
    "den.show_idea()"
   ]
  },
  {
   "cell_type": "markdown",
   "id": "b8ef6583-b2d2-4fc0-ab18-bceaa25fe6bc",
   "metadata": {},
   "source": [
    "## Get method\n",
    "\n",
    "Generate the methodology required for working on that idea."
   ]
  },
  {
   "cell_type": "code",
   "execution_count": null,
   "id": "2c581eb8-67e1-4813-a194-3a8765175b88",
   "metadata": {
    "scrolled": true
   },
   "outputs": [],
   "source": [
    "den.get_method()\n",
    "den.show_method()"
   ]
  },
  {
   "cell_type": "markdown",
   "id": "1f344e2f-ae8a-48f5-8422-05fc5adbdbd8",
   "metadata": {},
   "source": [
    "## Get results\n",
    "\n",
    "Once the methodology is defined, perform the required computations and get the plots and results. The agents will write and run the required code to access the data and carry out the methodology to compute results."
   ]
  },
  {
   "cell_type": "code",
   "execution_count": null,
   "id": "3214be7a-2835-4beb-ba7c-c15bee07e5f1",
   "metadata": {
    "scrolled": true
   },
   "outputs": [],
   "source": [
    "den.get_results()\n",
    "den.show_results()"
   ]
  },
  {
   "cell_type": "markdown",
   "id": "aa42c826-5ed0-42e1-89c3-f60fcd07fdf4",
   "metadata": {},
   "source": [
    "## Get Paper\n",
    "\n",
    "Finally, generate a latex article with the results. You can specify the journal style, in this example we choose the [APS (Physical Review Journals)](https://journals.aps.org/) style."
   ]
  },
  {
   "cell_type": "code",
   "execution_count": null,
   "id": "ee554264-714a-4adf-afab-e3bfe24c1772",
   "metadata": {},
   "outputs": [],
   "source": [
    "from denario import Journal\n",
    "\n",
    "den.get_paper(journal=Journal.APS)"
   ]
  }
 ],
 "metadata": {
  "kernelspec": {
   "display_name": "Python (venv_class_sz)",
   "language": "python",
   "name": "venv_class_sz312"
  },
  "language_info": {
   "codemirror_mode": {
    "name": "ipython",
    "version": 3
   },
   "file_extension": ".py",
   "mimetype": "text/x-python",
   "name": "python",
   "nbconvert_exporter": "python",
   "pygments_lexer": "ipython3",
   "version": "3.12.9"
  }
 },
 "nbformat": 4,
 "nbformat_minor": 5
}
