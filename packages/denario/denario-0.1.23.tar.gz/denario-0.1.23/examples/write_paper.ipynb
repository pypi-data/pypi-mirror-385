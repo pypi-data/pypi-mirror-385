{
 "cells": [
  {
   "cell_type": "markdown",
   "id": "f6b0bad8-2a7a-4e2c-ab3a-ec604fe3e3c6",
   "metadata": {},
   "source": [
    "## Write a paper\n",
    "\n",
    "Suppose you have a folder called Project2 that contains:\n",
    "- A file called idea.md that contains a description of the idea\n",
    "- A file called methods.md that contains a description of the methods used and the general plan (e.g. read data, analyze with random forest...)\n",
    "- A file called results.md that contains the results of the analysis performed\n",
    "- A folder called plots that contain all the paper plots\n",
    "\n",
    "With this, denario can write a paper about it using this:"
   ]
  },
  {
   "cell_type": "code",
   "execution_count": 2,
   "id": "12d9e908-238c-42d2-bcbf-5dc2fa84463e",
   "metadata": {},
   "outputs": [
    {
     "name": "stdout",
     "output_type": "stream",
     "text": [
      "Finding keywords.................0 1 2 Failed to get the keywords ✅ |  done 55566 11719 [0m 57s]\n",
      "Writing Abstract.................0 ✅✅ |  done 80496 16001 [1m 19s]\n",
      "Writing Introduction.............0 ✅ |  done 106322 31194 [2m 32s]\n",
      "Writing Methods..................0 ✅ |  done 118165 46748 [3m 41s]\n",
      "Writing Results..................0 ✅ |  done 132317 61494 [4m 45s]\n",
      "Writing Conclusions..............0 ✅ |  done 142268 65870 [5m 8s]\n"
     ]
    },
    {
     "name": "stderr",
     "output_type": "stream",
     "text": [
      "Processing figures 1-7: 100%|█████████████████████| 7/7 [01:48<00:00, 15.46s/it]"
     ]
    },
    {
     "name": "stdout",
     "output_type": "stream",
     "text": [
      "   Inserting figures 1-7.........0 "
     ]
    },
    {
     "name": "stderr",
     "output_type": "stream",
     "text": [
      "\n"
     ]
    },
    {
     "name": "stdout",
     "output_type": "stream",
     "text": [
      "✅ |  done 193826 97616 [8m 26s]\n"
     ]
    },
    {
     "name": "stderr",
     "output_type": "stream",
     "text": [
      "Processing figures 8-10: 100%|████████████████████| 3/3 [00:44<00:00, 14.84s/it]"
     ]
    },
    {
     "name": "stdout",
     "output_type": "stream",
     "text": [
      "   Inserting figures 8-10........0 "
     ]
    },
    {
     "name": "stderr",
     "output_type": "stream",
     "text": [
      "\n"
     ]
    },
    {
     "name": "stdout",
     "output_type": "stream",
     "text": [
      "✅ |  done 228649 130389 [11m 23s]\n",
      "Compiling text+figures...........✅ |  done 228649 130389 [11m 51s]\n",
      "Compiling paper_v1_preliminary...✅✅\n",
      "Refining results.................0 ✅ |  done 246841 160080 [14m 40s]\n",
      "Compiling paper_v2_no_citations..✅✅\n",
      "Paper written in 15 min 8 sec.\n"
     ]
    }
   ],
   "source": [
    "# add these two lines if you are working on a python notebook\n",
    "# these are just required to deal with async calls\n",
    "import nest_asyncio\n",
    "nest_asyncio.apply()\n",
    "\n",
    "from denario import Denario, Journal\n",
    "\n",
    "# set Denario; the project folder is Project2 and inside it there are the files idea.md, methods.md, results.md, and a \n",
    "# folder called plots with all the plots\n",
    "folder = \"Project2\"\n",
    "astro_pilot = Denario(project_dir=folder)\n",
    "\n",
    "# Write the paper; using the AAS format and without adding citations\n",
    "astro_pilot.get_paper(journal=Journal.AAS, llm='gemini-2.5-flash', add_citations=False)"
   ]
  },
  {
   "cell_type": "markdown",
   "id": "335d5061-2def-4d49-828b-b3bac1e170b6",
   "metadata": {},
   "source": [
    "## Lets visualize the paper"
   ]
  },
  {
   "cell_type": "code",
   "execution_count": 3,
   "id": "0d1518b4-f1b3-47f7-a308-47709d125605",
   "metadata": {},
   "outputs": [
    {
     "data": {
      "text/html": [
       "\n",
       "        <iframe\n",
       "            width=\"800\"\n",
       "            height=\"600\"\n",
       "            src=\"Project2/paper/paper_v2_no_citations.pdf\"\n",
       "            frameborder=\"0\"\n",
       "            allowfullscreen\n",
       "            \n",
       "        ></iframe>\n",
       "        "
      ],
      "text/plain": [
       "<IPython.lib.display.IFrame at 0x1257b9580>"
      ]
     },
     "execution_count": 3,
     "metadata": {},
     "output_type": "execute_result"
    }
   ],
   "source": [
    "from IPython.display import IFrame\n",
    "\n",
    "# show PDF in a scrollable frame (width, height in pixels)\n",
    "IFrame(\"Project2/paper/paper_v2_no_citations.pdf\", width=800, height=600)"
   ]
  },
  {
   "cell_type": "code",
   "execution_count": null,
   "id": "7354f9ec-8ab0-43ee-9526-9e69758b8ff6",
   "metadata": {},
   "outputs": [],
   "source": []
  }
 ],
 "metadata": {
  "kernelspec": {
   "display_name": "Python 3 (ipykernel)",
   "language": "python",
   "name": "python3"
  },
  "language_info": {
   "codemirror_mode": {
    "name": "ipython",
    "version": 3
   },
   "file_extension": ".py",
   "mimetype": "text/x-python",
   "name": "python",
   "nbconvert_exporter": "python",
   "pygments_lexer": "ipython3",
   "version": "3.12.10"
  }
 },
 "nbformat": 4,
 "nbformat_minor": 5
}
