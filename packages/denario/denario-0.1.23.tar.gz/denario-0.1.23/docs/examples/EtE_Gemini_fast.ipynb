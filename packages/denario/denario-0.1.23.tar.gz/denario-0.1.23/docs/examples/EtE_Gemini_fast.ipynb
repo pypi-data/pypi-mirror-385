{
 "cells": [
  {
   "cell_type": "markdown",
   "id": "244e0f5a-76c7-4c19-bcc2-765dcdb400ff",
   "metadata": {},
   "source": [
    "# End-to-end with Gemini; fast mode\n",
    "\n",
    "Here we show how to use denario to perform end-to-end scientific research using Gemini and the different fast modes.\n",
    "Note that the analysis module (CMBAgent) still requires an OpenAI API key\n",
    "\n",
    "To execute the script, you will need:\n",
    "- GOOGLE_API_KEY (to generate and check idea, generate methods, and write paper)\n",
    "- OPENAI_API_KEY (needed for the analysis module)\n",
    "- gemini.json file (needed for the analysis module)"
   ]
  },
  {
   "cell_type": "code",
   "execution_count": null,
   "id": "f2620d34-ac6e-4024-b4d2-6e012ffbf6b9",
   "metadata": {},
   "outputs": [],
   "source": [
    "# add these two lines if you are working on a python notebook\n",
    "# these are just required to deal with async calls\n",
    "import nest_asyncio\n",
    "nest_asyncio.apply()\n",
    "\n",
    "from denario import Denario, Journal\n",
    "\n",
    "# set Denario and project folder\n",
    "folder = 'Project3'\n",
    "den = Denario(project_dir=folder)\n",
    "\n",
    "# set data description. The file Project3/input.md contains the data description\n",
    "den.set_data_description(f\"{folder}/input.md\")\n",
    "\n",
    "# Generate a research idea from the input text\n",
    "den.get_idea_fast(llm='gemini-2.5-flash', verbose=False)\n",
    "\n",
    "# Check if idea is novel or not\n",
    "den.check_idea(llm='gemini-2.5-flash')\n",
    "\n",
    "# Generate a research plan to carry out the idea\n",
    "den.get_method_fast(llm=\"gemini-2.5-pro\", verbose=False)\n",
    "\n",
    "# Follow the research plan, write and execute code, make plots, and summarize the results\n",
    "den.get_results(engineer_model='gemini-2.5-pro', researcher_model='gemini-2.5-pro')\n",
    "\n",
    "# Write a paper with [APS (Physical Review Journals)](https://journals.aps.org/) style\n",
    "den.get_paper(journal=Journal.AAS, llm='gemini-2.5-flash', add_citations=False)"
   ]
  }
 ],
 "metadata": {
  "kernelspec": {
   "display_name": "Python 3 (ipykernel)",
   "language": "python",
   "name": "python3"
  },
  "language_info": {
   "codemirror_mode": {
    "name": "ipython",
    "version": 3
   },
   "file_extension": ".py",
   "mimetype": "text/x-python",
   "name": "python",
   "nbconvert_exporter": "python",
   "pygments_lexer": "ipython3",
   "version": "3.12.10"
  }
 },
 "nbformat": 4,
 "nbformat_minor": 5
}
