{
 "cells": [
  {
   "cell_type": "markdown",
   "id": "2242dd13-f045-48bc-812a-69c923cb76fc",
   "metadata": {},
   "source": [
    "# Check idea with FurtureHouse"
   ]
  },
  {
   "cell_type": "code",
   "execution_count": 1,
   "id": "726e140f-9c62-489f-91e0-2dea08dbfe2e",
   "metadata": {},
   "outputs": [],
   "source": [
    "from denario import Denario\n",
    "\n",
    "project_dir = \"/path/to/project/folder\" # replace with the path to your project folder\n",
    "den = Denario(project_dir=project_dir)\n"
   ]
  },
  {
   "cell_type": "code",
   "execution_count": 2,
   "id": "ed8e4f02-8c00-4442-bdce-74ccebdae801",
   "metadata": {},
   "outputs": [],
   "source": [
    "# den.set_idea(project_dir+\"/input_files/idea.md\")"
   ]
  },
  {
   "cell_type": "code",
   "execution_count": 3,
   "id": "c70a6945-c4e7-4642-aea8-234ca699c2bc",
   "metadata": {},
   "outputs": [],
   "source": [
    "den.set_idea()"
   ]
  },
  {
   "cell_type": "code",
   "execution_count": 4,
   "id": "34512cf0-43a4-4316-9348-52388a2797cf",
   "metadata": {},
   "outputs": [],
   "source": [
    "idea = den.research.idea"
   ]
  },
  {
   "cell_type": "code",
   "execution_count": 5,
   "id": "aae90aaa-85b3-41ec-87eb-f53b3f0a57f8",
   "metadata": {},
   "outputs": [
    {
     "name": "stdout",
     "output_type": "stream",
     "text": [
      "\n",
      "Project Idea:\n",
      "\t* Mapping Star Formation Quenching Efficiency Across Feedback and Cosmological Parameter Space with CAMELS Simulations\n",
      "\t\t- This study systematically quantifies how the efficiency and prevalence of star formation quenching in galaxies at z=0 depend on supernova/AGN feedback and cosmological parameters.\n",
      "\t\t- Utilizes the CAMELS simulation suite to disentangle the physical drivers of quenching.\n",
      "\t\t- Provides predictive insights for galaxy evolution models and future observational surveys.\n",
      "\n",
      "        \n"
     ]
    }
   ],
   "source": [
    "print(idea)"
   ]
  },
  {
   "cell_type": "code",
   "execution_count": 6,
   "id": "8b1f5b77-6c5b-438f-99d4-6e2a2f0c46a1",
   "metadata": {},
   "outputs": [
    {
     "name": "stdout",
     "output_type": "stream",
     "text": [
      "CPU times: user 2.53 s, sys: 518 ms, total: 3.05 s\n",
      "Wall time: 4min 29s\n"
     ]
    }
   ],
   "source": [
    "%%time\n",
    "answer = den.check_idea(mode='futurehouse')"
   ]
  },
  {
   "cell_type": "code",
   "execution_count": 7,
   "id": "619fc97d-01eb-4bfb-95b1-b33c36f0aa79",
   "metadata": {},
   "outputs": [
    {
     "name": "stdout",
     "output_type": "stream",
     "text": [
      "Has anyone worked on or explored the following idea?\n",
      "\n",
      "            \n",
      "\n",
      "Answer: Yes\n",
      "\n",
      "Related previous work: Multiple studies using the CAMELS simulation suite have explicitly explored the mapping of star formation quenching efficiency as a function of both stellar/AGN feedback and cosmological parameters in z=0 galaxies. For example, the paper “How does feedback affect the star formation histories of galaxies?” (iyer2025howdoesfeedback pages 1-2) directly examines how variations in feedback mechanisms and cosmology modulate galaxy SFHs and quenching, establishing parametric relations that capture this dependence. Similarly, the work described in (iyer2025howdoesfeedback pages 38-39) employs a double power-law parametrization of SFHs to correlate key galaxy properties with feedback parameters, thereby providing a framework to map quenching efficiency in relation to both feedback and cosmological settings.\n",
      "\n",
      "Additional studies, such as those referenced in (iyer2025howdoesfeedback pages 32-35) and (iyer2025howdoesfeedback pages 5-6), demonstrate a proof-of-concept via simulation-based inference techniques that recover feedback and cosmological parameters from average SFHs of galaxies. These analyses confirm that star formation quenching efficiency is sensitive to both supernova and AGN feedback, and they underscore that the systematic variation afforded by the CAMELS suite enables direct exploration of this mapping at z=0. Moreover, (mcgibbon2023multiepochmachinelearning pages 3-4) and (medlock2025quantifyingbaryonicfeedback pages 2-3) highlight the capability of CAMELS to support such studies by showing that its simulation framework is purpose-built to explore the complex interdependencies between feedback processes and galaxy quenching.\n",
      "\n",
      "Collectively, the literature shows that researchers have utilized CAMELS to disentangle the physical drivers of quenching and to map how the efficiency and prevalence of star formation suppression depend on astrophysical and cosmological parameters at present-day epochs (iyer2025howdoesfeedback pages 1-2, iyer2025howdoesfeedback pages 38-39, iyer2025howdoesfeedback pages 32-35, iyer2025howdoesfeedback pages 5-6, mcgibbon2023multiepochmachinelearning pages 3-4, medlock2025quantifyingbaryonicfeedback pages 2-3).\n",
      "\n",
      "References\n",
      "\n",
      "1. (iyer2025howdoesfeedback pages 1-2): Kartheik G. Iyer, T. Starkenburg, Greg L. Bryan, R. Somerville, Juan Pablo Alfonzo, Daniel Angl'es-Alc'azar, Suchetha Cooray, R. Dav'e, Austen Gabrielpillai, S. Genel, Sultan Hassan, L. Hernquist, C. K. Jespersen, Christopher C. Lovell, Boon Kiat Oh, C. Pacifici, Lucia A. Perez, L. Sommovigo, J. Speagle, S. Tacchella, M. Tillman, F. Villaescusa-Navarro, and John F. Wu. How does feedback affect the star formation histories of galaxies? ArXiv, Aug 2025. URL: https://doi.org/10.48550/arxiv.2508.21152, doi:10.48550/arxiv.2508.21152. This article has 0 citations.\n",
      "\n",
      "2. (iyer2025howdoesfeedback pages 38-39): Kartheik G. Iyer, T. Starkenburg, Greg L. Bryan, R. Somerville, Juan Pablo Alfonzo, Daniel Angl'es-Alc'azar, Suchetha Cooray, R. Dav'e, Austen Gabrielpillai, S. Genel, Sultan Hassan, L. Hernquist, C. K. Jespersen, Christopher C. Lovell, Boon Kiat Oh, C. Pacifici, Lucia A. Perez, L. Sommovigo, J. Speagle, S. Tacchella, M. Tillman, F. Villaescusa-Navarro, and John F. Wu. How does feedback affect the star formation histories of galaxies? ArXiv, Aug 2025. URL: https://doi.org/10.48550/arxiv.2508.21152, doi:10.48550/arxiv.2508.21152. This article has 0 citations.\n",
      "\n",
      "3. (iyer2025howdoesfeedback pages 32-35): Kartheik G. Iyer, T. Starkenburg, Greg L. Bryan, R. Somerville, Juan Pablo Alfonzo, Daniel Angl'es-Alc'azar, Suchetha Cooray, R. Dav'e, Austen Gabrielpillai, S. Genel, Sultan Hassan, L. Hernquist, C. K. Jespersen, Christopher C. Lovell, Boon Kiat Oh, C. Pacifici, Lucia A. Perez, L. Sommovigo, J. Speagle, S. Tacchella, M. Tillman, F. Villaescusa-Navarro, and John F. Wu. How does feedback affect the star formation histories of galaxies? ArXiv, Aug 2025. URL: https://doi.org/10.48550/arxiv.2508.21152, doi:10.48550/arxiv.2508.21152. This article has 0 citations.\n",
      "\n",
      "4. (iyer2025howdoesfeedback pages 5-6): Kartheik G. Iyer, T. Starkenburg, Greg L. Bryan, R. Somerville, Juan Pablo Alfonzo, Daniel Angl'es-Alc'azar, Suchetha Cooray, R. Dav'e, Austen Gabrielpillai, S. Genel, Sultan Hassan, L. Hernquist, C. K. Jespersen, Christopher C. Lovell, Boon Kiat Oh, C. Pacifici, Lucia A. Perez, L. Sommovigo, J. Speagle, S. Tacchella, M. Tillman, F. Villaescusa-Navarro, and John F. Wu. How does feedback affect the star formation histories of galaxies? ArXiv, Aug 2025. URL: https://doi.org/10.48550/arxiv.2508.21152, doi:10.48550/arxiv.2508.21152. This article has 0 citations.\n",
      "\n",
      "5. (mcgibbon2023multiepochmachinelearning pages 3-4): Robert J McGibbon and Sadegh Khochfar. Multi-epoch machine learning 2: identifying physical drivers of galaxy properties in simulations. Monthly Notices of the Royal Astronomical Society, 523:5583-5597, Jun 2023. URL: https://doi.org/10.1093/mnras/stad1811, doi:10.1093/mnras/stad1811. This article has 8 citations and is from a domain leading peer-reviewed journal.\n",
      "\n",
      "6. (medlock2025quantifyingbaryonicfeedback pages 2-3): Isabel Medlock, Chloe Neufeld, Daisuke Nagai, Daniel Anglés-Alcázar, Shy Genel, Benjamin D. Oppenheimer, Xavier Sims, Priyanka Singh, and Francisco Villaescusa-Navarro. Quantifying baryonic feedback on the warm–hot circumgalactic medium in camels simulations. The Astrophysical Journal, 980:61, Feb 2025. URL: https://doi.org/10.3847/1538-4357/ada442, doi:10.3847/1538-4357/ada442. This article has 13 citations.\n",
      "\n"
     ]
    }
   ],
   "source": [
    "print(answer)"
   ]
  },
  {
   "cell_type": "markdown",
   "id": "08f5e536-a186-496c-b8f8-8a46a30cbf38",
   "metadata": {},
   "source": [
    "# Check idea with semantic scholar"
   ]
  },
  {
   "cell_type": "code",
   "execution_count": 5,
   "id": "79e14321-3bb8-4129-9605-1ce1b747d5f6",
   "metadata": {},
   "outputs": [],
   "source": [
    "from denario import Denario\n",
    "\n",
    "# set Denario telling it where the project folder is\n",
    "folder = \"Project1\" #Project folder\n",
    "\n",
    "den = Denario(project_dir=folder)\n",
    "\n",
    "# set data description. This file contains the description of the data\n",
    "den.set_data_description(f\"{folder}/input.md\")\n",
    "\n",
    "# show the content of the data description file\n",
    "print(den.research.data_description)"
   ]
  },
  {
   "cell_type": "code",
   "execution_count": 4,
   "id": "196b5832-7345-4cb6-868d-dae8448a8c61",
   "metadata": {},
   "outputs": [
    {
     "name": "stderr",
     "output_type": "stream",
     "text": [
      "WARNING: All log messages before absl::InitializeLog() is called are written to STDERR\n",
      "E0000 00:00:1758990951.795471 53440736 alts_credentials.cc:93] ALTS creds ignored. Not running on GCP and untrusted ALTS is not enabled.\n"
     ]
    },
    {
     "name": "stdout",
     "output_type": "stream",
     "text": [
      "\n",
      "Addressing idea novelty: round 0\n"
     ]
    },
    {
     "name": "stderr",
     "output_type": "stream",
     "text": [
      "Analyzing novelty:   0%|                                                                                                                                                                               | 0/5 [00:05<?, ?try/s]\n"
     ]
    },
    {
     "name": "stdout",
     "output_type": "stream",
     "text": [
      "Decision made: query\n",
      "Query: star formation quenching CAMELS simulations feedback cosmological parameters galaxy evolution\n"
     ]
    },
    {
     "name": "stderr",
     "output_type": "stream",
     "text": [
      "Calling Semantic Scholar:   1%|█▌                                                                                                                                                            | 2/200 [00:02<04:38,  1.40s/try]\n"
     ]
    },
    {
     "name": "stdout",
     "output_type": "stream",
     "text": [
      "Found 258 potentially relevant papers\n",
      "Total papers analyzed 10\n",
      "\n",
      "Addressing idea novelty: round 1\n"
     ]
    },
    {
     "name": "stderr",
     "output_type": "stream",
     "text": [
      "Analyzing novelty:   0%|                                                                                                                                                                               | 0/5 [00:24<?, ?try/s]\n"
     ]
    },
    {
     "name": "stdout",
     "output_type": "stream",
     "text": [
      "Decision made: query\n",
      "Query: star formation quenching efficiency CAMELS simulations feedback cosmological parameter space\n"
     ]
    },
    {
     "name": "stderr",
     "output_type": "stream",
     "text": [
      "Calling Semantic Scholar:   1%|█▌                                                                                                                                                            | 2/200 [00:03<05:37,  1.70s/try]\n"
     ]
    },
    {
     "name": "stdout",
     "output_type": "stream",
     "text": [
      "Found 25 potentially relevant papers\n",
      "Total papers analyzed 20\n",
      "\n",
      "Addressing idea novelty: round 2\n"
     ]
    },
    {
     "name": "stderr",
     "output_type": "stream",
     "text": [
      "Analyzing novelty:   0%|                                                                                                                                                                               | 0/5 [00:34<?, ?try/s]\n"
     ]
    },
    {
     "name": "stdout",
     "output_type": "stream",
     "text": [
      "Decision made: not novel\n",
      "The proposed idea, \"Mapping Star Formation Quenching Efficiency Across Feedback and Cosmological Parameter Space with CAMELS Simulations,\" cannot be considered novel. The literature search reveals significant overlap with existing research that systematically investigates the relationship between star formation quenching, feedback mechanisms (supernova/AGN), cosmological parameters, and the CAMELS simulation suite.\n",
      "\n",
      "The most similar and relevant papers are:\n",
      "\n",
      "1.  **\"How does feedback affect the star formation histories of galaxies?\"** (https://www.semanticscholar.org/paper/a04b6f5db26a67cba32c6d030e49b7f43c19d805)\n",
      "    *   **Similar:** This paper directly explores how varying feedback and cosmological parameters, utilizing the CAMELS suite, impact the star formation histories of galaxies, explicitly addressing the regulation of galaxy growth and quenching. This aligns almost perfectly with the proposed idea's goal of understanding the influence of these parameters on quenching.\n",
      "    *   **Different:** While the proposed idea focuses specifically on \"quenching efficiency and prevalence,\" this paper examines \"star formation histories,\" which is a broader scope but inherently includes quenching as a critical component. The fundamental aim of mapping the influence of parameters on star formation/quenching is highly similar.\n",
      "\n",
      "2.  **\"CASCO: Cosmological and AStrophysical parameters from Cosmological simulations and Observations. III. The physics behind the emergence of the golden mass scale\"** (https://www.semanticscholar.org/paper/b63e0ef7ddcd5a40b7cb1696f66d74563220f45e)\n",
      "    *   **Similar:** This study also uses CAMELS simulations to investigate how supernova and AGN feedback strengths, alongside cosmological parameters, affect star formation and the quenching of massive galaxies. This directly corresponds to the proposed idea's methodology and focus on the combined parameter space for quenching.\n",
      "    *   **Different:** This paper specifically targets \"massive galaxies\" and the \"golden mass scale,\" whereas the proposed idea is stated more generally for \"galaxies at z=0.\" However, the core investigation into the interplay of feedback, cosmology, and quenching mechanisms using CAMELS is highly overlapping.\n",
      "\n",
      "3.  **\"Zooming by in the CARPoolGP Lane: New CAMELS-TNG Simulations of Zoomed-in Massive Halos\"** (https://www.semanticscholar.org/paper/fadbbd2f4d8f8cad8f07036c337536ef174be075)\n",
      "    *   **Similar:** This work explores parameter trends and \"quenched fractions\" of satellite galaxies, investigating the interplay between supernova and active galactic nuclei feedback using an extended CAMELS-TNG suite. The concept of \"quenched fractions\" is a direct measure of \"quenching efficiency and prevalence,\" which is central to the proposed idea.\n",
      "    *   **Different:** This paper focuses on \"satellite galaxies\" within \"zoomed-in massive halos\" using an \"extended CAMELS-TNG\" suite, which is a more specific subset than the broad \"galaxies at z=0\" in the proposed idea. Nevertheless, the core objective of quantifying quenching based on feedback parameters within CAMELS-like simulations is strongly present.\n",
      "\n",
      "In summary, these existing papers collectively cover the key elements of the proposed idea: using CAMELS simulations to systematically quantify the impact of feedback and cosmological parameters on galaxy quenching and star formation histories. While there might be minor differences in the specific populations of galaxies studied (e.g., massive galaxies, satellite galaxies) or the precise phrasing of the outcome (star formation histories vs. quenching efficiency), the fundamental research question and methodology are already addressed in the literature.\n",
      "done 14051 9888\n",
      "Literature checked in 1 min 35 sec.\n"
     ]
    },
    {
     "data": {
      "text/plain": [
       "'Idea not novel\\n\\nThe proposed idea, \"Mapping Star Formation Quenching Efficiency Across Feedback and Cosmological Parameter Space with CAMELS Simulations,\" cannot be considered novel. The literature search reveals significant overlap with existing research that systematically investigates the relationship between star formation quenching, feedback mechanisms (supernova/AGN), cosmological parameters, and the CAMELS simulation suite.\\n\\nThe most similar and relevant papers are:\\n\\n1.  **\"How does feedback affect the star formation histories of galaxies?\"** (https://www.semanticscholar.org/paper/a04b6f5db26a67cba32c6d030e49b7f43c19d805)\\n    *   **Similar:** This paper directly explores how varying feedback and cosmological parameters, utilizing the CAMELS suite, impact the star formation histories of galaxies, explicitly addressing the regulation of galaxy growth and quenching. This aligns almost perfectly with the proposed idea\\'s goal of understanding the influence of these parameters on quenching.\\n    *   **Different:** While the proposed idea focuses specifically on \"quenching efficiency and prevalence,\" this paper examines \"star formation histories,\" which is a broader scope but inherently includes quenching as a critical component. The fundamental aim of mapping the influence of parameters on star formation/quenching is highly similar.\\n\\n2.  **\"CASCO: Cosmological and AStrophysical parameters from Cosmological simulations and Observations. III. The physics behind the emergence of the golden mass scale\"** (https://www.semanticscholar.org/paper/b63e0ef7ddcd5a40b7cb1696f66d74563220f45e)\\n    *   **Similar:** This study also uses CAMELS simulations to investigate how supernova and AGN feedback strengths, alongside cosmological parameters, affect star formation and the quenching of massive galaxies. This directly corresponds to the proposed idea\\'s methodology and focus on the combined parameter space for quenching.\\n    *   **Different:** This paper specifically targets \"massive galaxies\" and the \"golden mass scale,\" whereas the proposed idea is stated more generally for \"galaxies at z=0.\" However, the core investigation into the interplay of feedback, cosmology, and quenching mechanisms using CAMELS is highly overlapping.\\n\\n3.  **\"Zooming by in the CARPoolGP Lane: New CAMELS-TNG Simulations of Zoomed-in Massive Halos\"** (https://www.semanticscholar.org/paper/fadbbd2f4d8f8cad8f07036c337536ef174be075)\\n    *   **Similar:** This work explores parameter trends and \"quenched fractions\" of satellite galaxies, investigating the interplay between supernova and active galactic nuclei feedback using an extended CAMELS-TNG suite. The concept of \"quenched fractions\" is a direct measure of \"quenching efficiency and prevalence,\" which is central to the proposed idea.\\n    *   **Different:** This paper focuses on \"satellite galaxies\" within \"zoomed-in massive halos\" using an \"extended CAMELS-TNG\" suite, which is a more specific subset than the broad \"galaxies at z=0\" in the proposed idea. Nevertheless, the core objective of quantifying quenching based on feedback parameters within CAMELS-like simulations is strongly present.\\n\\nIn summary, these existing papers collectively cover the key elements of the proposed idea: using CAMELS simulations to systematically quantify the impact of feedback and cosmological parameters on galaxy quenching and star formation histories. While there might be minor differences in the specific populations of galaxies studied (e.g., massive galaxies, satellite galaxies) or the precise phrasing of the outcome (star formation histories vs. quenching efficiency), the fundamental research question and methodology are already addressed in the literature.'"
      ]
     },
     "execution_count": 4,
     "metadata": {},
     "output_type": "execute_result"
    }
   ],
   "source": [
    "# beyond the Project1/input.md file, the module requires a file called Project1/idea.md, that contains the actual idea to check\n",
    "\n",
    "# run the agentic module (it will go through a maximum of 7 iterations to find relevant papers)\n",
    "den.check_idea(mode = 'semantic_scholar', llm='gemini-2.5-flash', max_iterations=7)"
   ]
  }
 ],
 "metadata": {
  "kernelspec": {
   "display_name": "Python (denenv)",
   "language": "python",
   "name": "denenv"
  },
  "language_info": {
   "codemirror_mode": {
    "name": "ipython",
    "version": 3
   },
   "file_extension": ".py",
   "mimetype": "text/x-python",
   "name": "python",
   "nbconvert_exporter": "python",
   "pygments_lexer": "ipython3",
   "version": "3.12.8"
  }
 },
 "nbformat": 4,
 "nbformat_minor": 5
}
