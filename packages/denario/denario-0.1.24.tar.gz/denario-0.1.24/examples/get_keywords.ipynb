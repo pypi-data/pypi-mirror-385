{
 "cells": [
  {
   "cell_type": "markdown",
   "id": "977f68cb-d4b0-4251-ae4f-d5f80ec89f9c",
   "metadata": {},
   "source": [
    "# Get AAS keywords\n",
    "\n",
    "Example showing the feature to get keywords given a prompt."
   ]
  },
  {
   "cell_type": "code",
   "execution_count": 1,
   "id": "7ddff9c2-1801-43ca-90ee-f7e220b77fb3",
   "metadata": {},
   "outputs": [],
   "source": [
    "from denario import Denario\n",
    "\n",
    "den = Denario()"
   ]
  },
  {
   "cell_type": "markdown",
   "id": "f8489b48-d7bc-4880-ba8a-21a31816b052",
   "metadata": {},
   "source": [
    "Indicate the prompt with topic description."
   ]
  },
  {
   "cell_type": "code",
   "execution_count": 2,
   "id": "6fcf3fa0-263d-4077-821e-19b5332a1d87",
   "metadata": {},
   "outputs": [],
   "source": [
    "text = r\"\"\"\n",
    "Multi-agent systems (MAS) utilizing multiple Large Language Model agents with Retrieval Augmented Generation and that can execute code locally may become beneficial in cosmological data analysis.\n",
    "Here, we illustrate a first small step towards AI-assisted analyses and a glimpse of the potential of MAS to automate and optimize scientific workflows in Cosmology.\n",
    "The system architecture of our example package, that builds upon the autogen/ag2 framework, can be applied to MAS in any area of quantitative scientific research.\n",
    "The particular task we apply our methods to is the cosmological parameter analysis of the Atacama Cosmology Telescope lensing power spectrum likelihood using Monte Carlo Markov Chains.\n",
    "Our work-in-progress code is open source and available at this https URL.\n",
    "\"\"\""
   ]
  },
  {
   "cell_type": "markdown",
   "id": "68e4e974-52a3-42d4-bd30-d0cdd83d136c",
   "metadata": {},
   "source": [
    "Get the keywords:"
   ]
  },
  {
   "cell_type": "code",
   "execution_count": 3,
   "id": "49257cfe-3b85-47cd-960b-236478a69995",
   "metadata": {},
   "outputs": [
    {
     "name": "stdout",
     "output_type": "stream",
     "text": [
      "Find the relevant AAS keywords\n",
      "\n",
      "--------------------------------------------------------------------------------\n",
      "\u001b[32m\n",
      "Calling aas_keyword_finder...\n",
      "\u001b[0m\n",
      "             Model              agent    Cost  Prompt Tokens  Completion Tokens  Total Tokens\n",
      "o3-mini-2025-01-31 aas_keyword_finder 0.02037          10551               1991         12542\n",
      "\n",
      "--------------------------------------------------------------------------------\n",
      "\n",
      "**AAS keywords**:\n",
      "\n",
      "- [Cosmology](http://astrothesaurus.org/uat/343)\n",
      "- [Gravitational lensing](http://astrothesaurus.org/uat/670)\n",
      "- [Astronomy data analysis](http://astrothesaurus.org/uat/1858)\n",
      "- [Cosmological models](http://astrothesaurus.org/uat/337)\n",
      "- [Computational methods](http://astrothesaurus.org/uat/1965)\n",
      "- [Open source software](http://astrothesaurus.org/uat/1866)\n",
      "- [Distributed computing](http://astrothesaurus.org/uat/1971)\n",
      "- [Astronomy software](http://astrothesaurus.org/uat/1855)\n",
      "\n",
      "\n",
      "--------------------------------------------------------------------------------\n",
      "\u001b[32m\n",
      "Calling control...\n",
      "\u001b[0m\n",
      "             Model   agent    Cost  Prompt Tokens  Completion Tokens  Total Tokens\n",
      "gpt-4.1-2025-04-14 control 0.00209            883                 41           924\n",
      "\n",
      "--------------------------------------------------------------------------------\n",
      "\n",
      "**Step number:** 1 out of 1.\n",
      " \n",
      "**Sub-task:** solve the main task.\n",
      " \n",
      "**Agent in charge of sub-task:** `aas_keyword_finder`\n",
      " \n",
      "**Instructions:**\n",
      " \n",
      "solve the main task.\n",
      " \n",
      "**Status:** completed ✅\n",
      "        \n",
      "\n",
      "--------------------------------------------------------------------------------\n",
      "Terminating...\n",
      "\n",
      "             Model      agent    Cost  Prompt Tokens  Completion Tokens  Total Tokens\n",
      "gpt-4.1-2025-04-14 terminator 0.00084            416                  1           417\n",
      "\n",
      "--------------------------------------------------------------------------------\n",
      "Session terminated.\n",
      "\n",
      "--------------------------------------------------------------------------------\n",
      "\n",
      "Displaying cost…\n",
      "\n",
      "| Agent              | Cost ($)    | Prompt Tokens | Completion Tokens | Total Tokens | Model              |\n",
      "|:-------------------|------------:|--------------:|------------------:|-------------:|-------------------:|\n",
      "| terminator         | $0.00084000 |           416 |                 1 |          417 | gpt-4.1-2025-04-14 |\n",
      "| aas keyword finder | $0.02036650 |         10551 |              1991 |        12542 | o3-mini-2025-01-31 |\n",
      "| control            | $0.00209400 |           883 |                41 |          924 | gpt-4.1-2025-04-14 |\n",
      "|--------------------|-------------|---------------|-------------------|--------------|--------------------|\n",
      "| Total              | $0.02330050 |         11850 |              2033 |        13883 |                    |\n",
      "\n",
      "Cost report data saved to: /Users/boris/CMBAgents/cmbagent/output/cost/cost_report_20250928_233827.json\n",
      "\n",
      "aas_keywords:  {'Cosmology': 'http://astrothesaurus.org/uat/343', 'Gravitational lensing': 'http://astrothesaurus.org/uat/670', 'Astronomy data analysis': 'http://astrothesaurus.org/uat/1858', 'Cosmological models': 'http://astrothesaurus.org/uat/337', 'Computational methods': 'http://astrothesaurus.org/uat/1965', 'Open source software': 'http://astrothesaurus.org/uat/1866', 'Distributed computing': 'http://astrothesaurus.org/uat/1971', 'Astronomy software': 'http://astrothesaurus.org/uat/1855'}\n",
      "keywords:  {'Cosmology': 'http://astrothesaurus.org/uat/343', 'Gravitational lensing': 'http://astrothesaurus.org/uat/670', 'Astronomy data analysis': 'http://astrothesaurus.org/uat/1858', 'Cosmological models': 'http://astrothesaurus.org/uat/337', 'Computational methods': 'http://astrothesaurus.org/uat/1965', 'Open source software': 'http://astrothesaurus.org/uat/1866', 'Distributed computing': 'http://astrothesaurus.org/uat/1971', 'Astronomy software': 'http://astrothesaurus.org/uat/1855'}\n"
     ]
    }
   ],
   "source": [
    "den.get_keywords(input_text=text, n_keywords=8, kw_type = 'aas')"
   ]
  },
  {
   "cell_type": "markdown",
   "id": "51d68f9c",
   "metadata": {},
   "source": [
    "Acces the keywords through the `denario.research` object or via the `show_keywords()` method."
   ]
  },
  {
   "cell_type": "code",
   "execution_count": 4,
   "id": "c241a614-b8d3-4ffc-b824-34964abffec7",
   "metadata": {},
   "outputs": [
    {
     "data": {
      "text/plain": [
       "{'Cosmology': 'http://astrothesaurus.org/uat/343',\n",
       " 'Gravitational lensing': 'http://astrothesaurus.org/uat/670',\n",
       " 'Astronomy data analysis': 'http://astrothesaurus.org/uat/1858',\n",
       " 'Cosmological models': 'http://astrothesaurus.org/uat/337',\n",
       " 'Computational methods': 'http://astrothesaurus.org/uat/1965',\n",
       " 'Open source software': 'http://astrothesaurus.org/uat/1866',\n",
       " 'Distributed computing': 'http://astrothesaurus.org/uat/1971',\n",
       " 'Astronomy software': 'http://astrothesaurus.org/uat/1855'}"
      ]
     },
     "execution_count": 4,
     "metadata": {},
     "output_type": "execute_result"
    }
   ],
   "source": [
    "den.research.keywords"
   ]
  },
  {
   "cell_type": "code",
   "execution_count": 5,
   "id": "ba5195eb-74d1-49da-97bb-cac1bfd5c461",
   "metadata": {},
   "outputs": [
    {
     "name": "stdout",
     "output_type": "stream",
     "text": [
      "{'Cosmology': 'http://astrothesaurus.org/uat/343', 'Gravitational lensing': 'http://astrothesaurus.org/uat/670', 'Astronomy data analysis': 'http://astrothesaurus.org/uat/1858', 'Cosmological models': 'http://astrothesaurus.org/uat/337', 'Computational methods': 'http://astrothesaurus.org/uat/1965', 'Open source software': 'http://astrothesaurus.org/uat/1866', 'Distributed computing': 'http://astrothesaurus.org/uat/1971', 'Astronomy software': 'http://astrothesaurus.org/uat/1855'}\n",
      "- [Cosmology](http://astrothesaurus.org/uat/343)\n",
      "- [Gravitational lensing](http://astrothesaurus.org/uat/670)\n",
      "- [Astronomy data analysis](http://astrothesaurus.org/uat/1858)\n",
      "- [Cosmological models](http://astrothesaurus.org/uat/337)\n",
      "- [Computational methods](http://astrothesaurus.org/uat/1965)\n",
      "- [Open source software](http://astrothesaurus.org/uat/1866)\n",
      "- [Distributed computing](http://astrothesaurus.org/uat/1971)\n",
      "- [Astronomy software](http://astrothesaurus.org/uat/1855)\n"
     ]
    }
   ],
   "source": [
    "den.show_keywords()"
   ]
  },
  {
   "cell_type": "markdown",
   "id": "6e1fc58a-5aa2-4776-ba43-6e52d364e0d6",
   "metadata": {},
   "source": [
    "# Get UNESCO keywords"
   ]
  },
  {
   "cell_type": "code",
   "execution_count": 7,
   "id": "596c4619-0c45-4d40-8d9d-b86bd4ec9c3f",
   "metadata": {},
   "outputs": [
    {
     "name": "stdout",
     "output_type": "stream",
     "text": [
      "Find the relevant keywords in the provided list\n",
      "\n",
      "--------------------------------------------------------------------------------\n",
      "\u001b[32m\n",
      "Calling list_keywords_finder...\n",
      "\u001b[0m\n",
      "             Model                agent    Cost  Prompt Tokens  Completion Tokens  Total Tokens\n",
      "gpt-4.1-2025-04-14 list_keywords_finder 0.00147            626                 27           653\n",
      "Keywords:\n",
      "-ASTRONOMY & ASTROPHYSICS\n",
      "-MATHEMATICS\n",
      "-TECHNOLOGICAL SCIENCES\n",
      "\n",
      "\n",
      "--------------------------------------------------------------------------------\n",
      "\n",
      "Displaying cost…\n",
      "\n",
      "| Agent                | Cost ($)    | Prompt Tokens | Completion Tokens | Total Tokens | Model              |\n",
      "|:---------------------|------------:|--------------:|------------------:|-------------:|-------------------:|\n",
      "| list keywords finder | $0.00146800 |           626 |                27 |          653 | gpt-4.1-2025-04-14 |\n",
      "|----------------------|-------------|---------------|-------------------|--------------|--------------------|\n",
      "| Total                | $0.00146800 |           626 |                27 |          653 |                    |\n",
      "\n",
      "Cost report data saved to: /Users/boris/CMBAgents/cmbagent/output/cost/cost_report_20250928_233921.json\n",
      "\n",
      "domains:\n",
      "['ASTRONOMY & ASTROPHYSICS', 'MATHEMATICS', 'TECHNOLOGICAL SCIENCES']\n",
      "inside domain:  ASTRONOMY & ASTROPHYSICS\n",
      "Find the relevant keywords in the provided list\n",
      "\n",
      "--------------------------------------------------------------------------------\n",
      "\u001b[32m\n",
      "Calling list_keywords_finder...\n",
      "\u001b[0m\n",
      "             Model                agent    Cost  Prompt Tokens  Completion Tokens  Total Tokens\n",
      "gpt-4.1-2025-04-14 list_keywords_finder 0.00115            529                 12           541\n",
      "Keywords:\n",
      "-Cosmology and cosmogony\n",
      "\n",
      "\n",
      "--------------------------------------------------------------------------------\n",
      "\n",
      "Displaying cost…\n",
      "\n",
      "| Agent                | Cost ($)    | Prompt Tokens | Completion Tokens | Total Tokens | Model              |\n",
      "|:---------------------|------------:|--------------:|------------------:|-------------:|-------------------:|\n",
      "| list keywords finder | $0.00115400 |           529 |                12 |          541 | gpt-4.1-2025-04-14 |\n",
      "|----------------------|-------------|---------------|-------------------|--------------|--------------------|\n",
      "| Total                | $0.00115400 |           529 |                12 |          541 |                    |\n",
      "\n",
      "Cost report data saved to: /Users/boris/CMBAgents/cmbagent/output/cost/cost_report_20250928_233924.json\n",
      "\n",
      "sub_fields:\n",
      "['Cosmology and cosmogony']\n",
      "inside sub_field:  Cosmology and cosmogony\n",
      "Find the relevant keywords in the provided list\n",
      "\n",
      "--------------------------------------------------------------------------------\n",
      "\u001b[32m\n",
      "Calling list_keywords_finder...\n",
      "\u001b[0m\n",
      "             Model                agent    Cost  Prompt Tokens  Completion Tokens  Total Tokens\n",
      "gpt-4.1-2025-04-14 list_keywords_finder 0.00114            553                  4           557\n",
      "Keywords:\n",
      "\n",
      "\n",
      "\n",
      "--------------------------------------------------------------------------------\n",
      "\n",
      "Displaying cost…\n",
      "\n",
      "| Agent                | Cost ($)    | Prompt Tokens | Completion Tokens | Total Tokens | Model              |\n",
      "|:---------------------|------------:|--------------:|------------------:|-------------:|-------------------:|\n",
      "| list keywords finder | $0.00113800 |           553 |                 4 |          557 | gpt-4.1-2025-04-14 |\n",
      "|----------------------|-------------|---------------|-------------------|--------------|--------------------|\n",
      "| Total                | $0.00113800 |           553 |                 4 |          557 |                    |\n",
      "\n",
      "Cost report data saved to: /Users/boris/CMBAgents/cmbagent/output/cost/cost_report_20250928_233925.json\n",
      "\n",
      "specific_areas:\n",
      "[]\n",
      "inside domain:  MATHEMATICS\n",
      "Find the relevant keywords in the provided list\n",
      "\n",
      "--------------------------------------------------------------------------------\n",
      "\u001b[32m\n",
      "Calling list_keywords_finder...\n",
      "\u001b[0m\n",
      "             Model                agent    Cost  Prompt Tokens  Completion Tokens  Total Tokens\n",
      "gpt-4.1-2025-04-14 list_keywords_finder 0.00113            531                  9           540\n",
      "Keywords:\n",
      "-Computer Sciences\n",
      "-Statistics\n",
      "\n",
      "\n",
      "--------------------------------------------------------------------------------\n",
      "\n",
      "Displaying cost…\n",
      "\n",
      "| Agent                | Cost ($)    | Prompt Tokens | Completion Tokens | Total Tokens | Model              |\n",
      "|:---------------------|------------:|--------------:|------------------:|-------------:|-------------------:|\n",
      "| list keywords finder | $0.00113400 |           531 |                 9 |          540 | gpt-4.1-2025-04-14 |\n",
      "|----------------------|-------------|---------------|-------------------|--------------|--------------------|\n",
      "| Total                | $0.00113400 |           531 |                 9 |          540 |                    |\n",
      "\n",
      "Cost report data saved to: /Users/boris/CMBAgents/cmbagent/output/cost/cost_report_20250928_233927.json\n",
      "\n",
      "sub_fields:\n",
      "['Computer Sciences', 'Statistics']\n",
      "inside sub_field:  Computer Sciences\n",
      "Find the relevant keywords in the provided list\n",
      "\n",
      "--------------------------------------------------------------------------------\n",
      "\u001b[32m\n",
      "Calling list_keywords_finder...\n",
      "\u001b[0m\n",
      "             Model                agent    Cost  Prompt Tokens  Completion Tokens  Total Tokens\n",
      "gpt-4.1-2025-04-14 list_keywords_finder 0.00129            596                 12           608\n",
      "Keywords:\n",
      "-Artificial intelligence\n",
      "-Computer software\n",
      "-Simulation\n",
      "\n",
      "\n",
      "--------------------------------------------------------------------------------\n",
      "\n",
      "Displaying cost…\n",
      "\n",
      "| Agent                | Cost ($)    | Prompt Tokens | Completion Tokens | Total Tokens | Model              |\n",
      "|:---------------------|------------:|--------------:|------------------:|-------------:|-------------------:|\n",
      "| list keywords finder | $0.00128800 |           596 |                12 |          608 | gpt-4.1-2025-04-14 |\n",
      "|----------------------|-------------|---------------|-------------------|--------------|--------------------|\n",
      "| Total                | $0.00128800 |           596 |                12 |          608 |                    |\n",
      "\n",
      "Cost report data saved to: /Users/boris/CMBAgents/cmbagent/output/cost/cost_report_20250928_233928.json\n",
      "\n",
      "specific_areas:\n",
      "['Artificial intelligence', 'Computer software', 'Simulation']\n",
      "inside sub_field:  Statistics\n",
      "Find the relevant keywords in the provided list\n",
      "\n",
      "--------------------------------------------------------------------------------\n",
      "\u001b[32m\n",
      "Calling list_keywords_finder...\n",
      "\u001b[0m\n",
      "             Model                agent    Cost  Prompt Tokens  Completion Tokens  Total Tokens\n",
      "gpt-4.1-2025-04-14 list_keywords_finder 0.00124            574                 11           585\n",
      "Keywords:\n",
      "-Data analysis\n",
      "-Analytical statistics\n",
      "\n",
      "\n",
      "--------------------------------------------------------------------------------\n",
      "\n",
      "Displaying cost…\n",
      "\n",
      "| Agent                | Cost ($)    | Prompt Tokens | Completion Tokens | Total Tokens | Model              |\n",
      "|:---------------------|------------:|--------------:|------------------:|-------------:|-------------------:|\n",
      "| list keywords finder | $0.00123600 |           574 |                11 |          585 | gpt-4.1-2025-04-14 |\n",
      "|----------------------|-------------|---------------|-------------------|--------------|--------------------|\n",
      "| Total                | $0.00123600 |           574 |                11 |          585 |                    |\n",
      "\n",
      "Cost report data saved to: /Users/boris/CMBAgents/cmbagent/output/cost/cost_report_20250928_233930.json\n",
      "\n",
      "specific_areas:\n",
      "['Data analysis', 'Analytical statistics']\n",
      "inside domain:  TECHNOLOGICAL SCIENCES\n",
      "Find the relevant keywords in the provided list\n",
      "\n",
      "--------------------------------------------------------------------------------\n",
      "\u001b[32m\n",
      "Calling list_keywords_finder...\n",
      "\u001b[0m\n",
      "             Model                agent    Cost  Prompt Tokens  Completion Tokens  Total Tokens\n",
      "gpt-4.1-2025-04-14 list_keywords_finder 0.00128            611                  7           618\n",
      "Keywords:\n",
      "-Computer technology\n",
      "\n",
      "\n",
      "--------------------------------------------------------------------------------\n",
      "\n",
      "Displaying cost…\n",
      "\n",
      "| Agent                | Cost ($)    | Prompt Tokens | Completion Tokens | Total Tokens | Model              |\n",
      "|:---------------------|------------:|--------------:|------------------:|-------------:|-------------------:|\n",
      "| list keywords finder | $0.00127800 |           611 |                 7 |          618 | gpt-4.1-2025-04-14 |\n",
      "|----------------------|-------------|---------------|-------------------|--------------|--------------------|\n",
      "| Total                | $0.00127800 |           611 |                 7 |          618 |                    |\n",
      "\n",
      "Cost report data saved to: /Users/boris/CMBAgents/cmbagent/output/cost/cost_report_20250928_233933.json\n",
      "\n",
      "sub_fields:\n",
      "['Computer technology']\n",
      "inside sub_field:  Computer technology\n",
      "Find the relevant keywords in the provided list\n",
      "\n",
      "--------------------------------------------------------------------------------\n",
      "\u001b[32m\n",
      "Calling list_keywords_finder...\n",
      "\u001b[0m\n",
      "             Model                agent    Cost  Prompt Tokens  Completion Tokens  Total Tokens\n",
      "gpt-4.1-2025-04-14 list_keywords_finder 0.00124            572                 12           584\n",
      "Keywords:\n",
      "-Computing systems design\n",
      "-Computer architecture\n",
      "\n",
      "\n",
      "--------------------------------------------------------------------------------\n",
      "\n",
      "Displaying cost…\n",
      "\n",
      "| Agent                | Cost ($)    | Prompt Tokens | Completion Tokens | Total Tokens | Model              |\n",
      "|:---------------------|------------:|--------------:|------------------:|-------------:|-------------------:|\n",
      "| list keywords finder | $0.00124000 |           572 |                12 |          584 | gpt-4.1-2025-04-14 |\n",
      "|----------------------|-------------|---------------|-------------------|--------------|--------------------|\n",
      "| Total                | $0.00124000 |           572 |                12 |          584 |                    |\n",
      "\n",
      "Cost report data saved to: /Users/boris/CMBAgents/cmbagent/output/cost/cost_report_20250928_233935.json\n",
      "\n",
      "specific_areas:\n",
      "['Computing systems design', 'Computer architecture']\n",
      "Find the relevant keywords in the provided list\n",
      "\n",
      "--------------------------------------------------------------------------------\n",
      "\u001b[32m\n",
      "Calling list_keywords_finder...\n",
      "\u001b[0m\n",
      "             Model                agent    Cost  Prompt Tokens  Completion Tokens  Total Tokens\n",
      "gpt-4.1-2025-04-14 list_keywords_finder 0.00128            554                 21           575\n",
      "Keywords:\n",
      "-Cosmology and cosmogony\n",
      "-Data analysis\n",
      "-Artificial intelligence\n",
      "-Computer architecture\n",
      "\n",
      "\n",
      "--------------------------------------------------------------------------------\n",
      "\n",
      "Displaying cost…\n",
      "\n",
      "| Agent                | Cost ($)    | Prompt Tokens | Completion Tokens | Total Tokens | Model              |\n",
      "|:---------------------|------------:|--------------:|------------------:|-------------:|-------------------:|\n",
      "| list keywords finder | $0.00127600 |           554 |                21 |          575 | gpt-4.1-2025-04-14 |\n",
      "|----------------------|-------------|---------------|-------------------|--------------|--------------------|\n",
      "| Total                | $0.00127600 |           554 |                21 |          575 |                    |\n",
      "\n",
      "Cost report data saved to: /Users/boris/CMBAgents/cmbagent/output/cost/cost_report_20250928_233937.json\n",
      "\n",
      "keywords in unesco:\n",
      "['Cosmology and cosmogony', 'Data analysis', 'Artificial intelligence', 'Computer architecture']\n",
      "keywords:  ['Cosmology and cosmogony', 'Data analysis', 'Artificial intelligence', 'Computer architecture']\n"
     ]
    }
   ],
   "source": [
    "den.get_keywords(input_text=text, n_keywords=8, kw_type = 'unesco')"
   ]
  },
  {
   "cell_type": "code",
   "execution_count": 8,
   "id": "82fd2dff-2d29-4113-aeca-301eee1724ac",
   "metadata": {},
   "outputs": [
    {
     "name": "stdout",
     "output_type": "stream",
     "text": [
      "['Cosmology and cosmogony', 'Data analysis', 'Artificial intelligence', 'Computer architecture']\n",
      "- Cosmology and cosmogony\n",
      "- Data analysis\n",
      "- Artificial intelligence\n",
      "- Computer architecture\n"
     ]
    }
   ],
   "source": [
    "den.show_keywords()"
   ]
  },
  {
   "cell_type": "markdown",
   "id": "c8d04d75-6513-418a-ab86-e59c7110d32b",
   "metadata": {},
   "source": [
    "Note that the agents may report less keywords than requested if not enough keywords are found to be a good match."
   ]
  },
  {
   "cell_type": "markdown",
   "id": "8de9b6c3-7442-415b-9655-1f867b12b565",
   "metadata": {},
   "source": [
    "# Get AAAI keywords"
   ]
  },
  {
   "cell_type": "code",
   "execution_count": 9,
   "id": "13a4f591-487a-4525-83f9-8b3ce096810c",
   "metadata": {},
   "outputs": [
    {
     "name": "stdout",
     "output_type": "stream",
     "text": [
      "Find the relevant keywords in the provided list\n",
      "\n",
      "--------------------------------------------------------------------------------\n",
      "\u001b[32m\n",
      "Calling aaai_keywords_finder...\n",
      "\u001b[0m\n",
      "             Model                agent    Cost  Prompt Tokens  Completion Tokens  Total Tokens\n",
      "gpt-4.1-2025-04-14 aaai_keywords_finder 0.00869           4113                 58          4171\n",
      "Keywords:\n",
      "-MAS: Applications\n",
      "-MAS: Multiagent Systems under Uncertainty\n",
      "-MAS: Multiagent Learning\n",
      "-ML: Applications\n",
      "-ML: Deep Neural Architectures and Foundation Models\n",
      "-PRS: Applications\n",
      "\n",
      "\n",
      "--------------------------------------------------------------------------------\n",
      "\n",
      "Displaying cost…\n",
      "\n",
      "| Agent                | Cost ($)    | Prompt Tokens | Completion Tokens | Total Tokens | Model              |\n",
      "|:---------------------|------------:|--------------:|------------------:|-------------:|-------------------:|\n",
      "| aaai keywords finder | $0.00869000 |          4113 |                58 |         4171 | gpt-4.1-2025-04-14 |\n",
      "|----------------------|-------------|---------------|-------------------|--------------|--------------------|\n",
      "| Total                | $0.00869000 |          4113 |                58 |         4171 |                    |\n",
      "\n",
      "Cost report data saved to: /Users/boris/CMBAgents/cmbagent/output/cost/cost_report_20250928_234306.json\n",
      "\n",
      "keywords:  ['MAS: Applications', 'MAS: Multiagent Systems under Uncertainty', 'MAS: Multiagent Learning', 'ML: Applications', 'ML: Deep Neural Architectures and Foundation Models', 'PRS: Applications']\n"
     ]
    }
   ],
   "source": [
    "den.get_keywords(input_text=text, n_keywords=8, kw_type = 'aaai')"
   ]
  },
  {
   "cell_type": "code",
   "execution_count": 10,
   "id": "c0303d45-85ce-43d3-9124-cf2ad1a26227",
   "metadata": {},
   "outputs": [
    {
     "name": "stdout",
     "output_type": "stream",
     "text": [
      "['MAS: Applications', 'MAS: Multiagent Systems under Uncertainty', 'MAS: Multiagent Learning', 'ML: Applications', 'ML: Deep Neural Architectures and Foundation Models', 'PRS: Applications']\n",
      "- MAS: Applications\n",
      "- MAS: Multiagent Systems under Uncertainty\n",
      "- MAS: Multiagent Learning\n",
      "- ML: Applications\n",
      "- ML: Deep Neural Architectures and Foundation Models\n",
      "- PRS: Applications\n"
     ]
    }
   ],
   "source": [
    "den.show_keywords()"
   ]
  },
  {
   "cell_type": "markdown",
   "id": "618110d0-7cd5-4653-9d77-fddeebbccd1d",
   "metadata": {},
   "source": [
    "Note that the agents may report less keywords than requested if not enough keywords are found to be a good match."
   ]
  }
 ],
 "metadata": {
  "kernelspec": {
   "display_name": "Python 3 (ipykernel)",
   "language": "python",
   "name": "python3"
  },
  "language_info": {
   "codemirror_mode": {
    "name": "ipython",
    "version": 3
   },
   "file_extension": ".py",
   "mimetype": "text/x-python",
   "name": "python",
   "nbconvert_exporter": "python",
   "pygments_lexer": "ipython3",
   "version": "3.12.9"
  }
 },
 "nbformat": 4,
 "nbformat_minor": 5
}
