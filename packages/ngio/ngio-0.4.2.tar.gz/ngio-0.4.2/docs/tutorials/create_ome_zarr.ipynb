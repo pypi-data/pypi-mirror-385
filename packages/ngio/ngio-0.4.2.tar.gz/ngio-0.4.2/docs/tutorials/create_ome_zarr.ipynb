{
 "cells": [
  {
   "cell_type": "markdown",
   "id": "0",
   "metadata": {},
   "source": [
    "# OME-Zarr Creation\n",
    "\n",
    "This is a minimal example of how to create an OME-Zarr image using `ngio`.\n",
    "\n",
    "This example is just a simple demonstration but for more complex conversion tasks please refer \n",
    "to the converter tooling library [ome-zarr-converters-tools](https://github.com/BioVisionCenter/ome-zarr-converters-tools).\n",
    "\n",
    "Let's start by converting a sample image from `skimage` to OME-Zarr format."
   ]
  },
  {
   "cell_type": "code",
   "execution_count": null,
   "id": "1",
   "metadata": {},
   "outputs": [],
   "source": [
    "import skimage\n",
    "from matplotlib import pyplot as plt\n",
    "\n",
    "plt.imshow(skimage.data.human_mitosis(), cmap=\"gray\")\n",
    "plt.axis(\"off\")\n",
    "plt.show()"
   ]
  },
  {
   "cell_type": "code",
   "execution_count": null,
   "id": "2",
   "metadata": {},
   "outputs": [],
   "source": [
    "from ngio import create_ome_zarr_from_array\n",
    "\n",
    "ome_zarr = create_ome_zarr_from_array(\n",
    "    store=\"./data/human_mitosis.zarr\",\n",
    "    array=skimage.data.human_mitosis(),\n",
    "    xy_pixelsize=0.1,  # Just a guess\n",
    ")\n",
    "ome_zarr"
   ]
  },
  {
   "cell_type": "markdown",
   "id": "3",
   "metadata": {},
   "source": [
    "## Adding a ROI table to an OME-Zarr image\n",
    "\n",
    "Often, is useful to add ROIs to OME-Zarr images to be able to retrieve them later.  \n",
    "This can be done using the `ngio` library as follows."
   ]
  },
  {
   "cell_type": "code",
   "execution_count": null,
   "id": "4",
   "metadata": {},
   "outputs": [],
   "source": [
    "# create a roi for the whole image\n",
    "roi_table = ome_zarr.build_image_roi_table(name=\"image_roi\")\n",
    "ome_zarr.add_table(\"image_roi_table\", roi_table)"
   ]
  },
  {
   "cell_type": "markdown",
   "id": "5",
   "metadata": {},
   "source": []
  }
 ],
 "metadata": {
  "kernelspec": {
   "display_name": "dev",
   "language": "python",
   "name": "python3"
  },
  "language_info": {
   "codemirror_mode": {
    "name": "ipython",
    "version": 3
   },
   "file_extension": ".py",
   "mimetype": "text/x-python",
   "name": "python",
   "nbconvert_exporter": "python",
   "pygments_lexer": "ipython3",
   "version": "3.11.13"
  }
 },
 "nbformat": 4,
 "nbformat_minor": 5
}
