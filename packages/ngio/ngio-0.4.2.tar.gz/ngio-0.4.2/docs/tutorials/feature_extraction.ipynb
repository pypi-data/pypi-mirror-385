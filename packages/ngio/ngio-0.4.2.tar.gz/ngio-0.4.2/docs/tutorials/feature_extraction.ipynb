{
 "cells": [
  {
   "cell_type": "markdown",
   "metadata": {},
   "source": [
    "# Feature Extraction\n",
    "\n",
    "This sections will cover how to extract regionprops features from an image using `ngio`, `skimage`. Moreover we will also write the features to a table in the ome-zarr container.\n",
    "\n",
    "# Step 1: Open the OME-Zarr Container"
   ]
  },
  {
   "cell_type": "code",
   "execution_count": null,
   "metadata": {},
   "outputs": [],
   "source": [
    "import numpy as np\n",
    "import pandas as pd\n",
    "from skimage import measure\n",
    "\n",
    "\n",
    "def extract_features(image: np.ndarray, label: np.ndarray) -> pd.DataFrame:\n",
    "    \"\"\"Basic feature extraction using skimage.measure.regionprops_table.\"\"\"\n",
    "    label = label.squeeze(-1)  # Remove the channel axis if present\n",
    "    roi_feat_table = measure.regionprops_table(\n",
    "        label_image=label,\n",
    "        intensity_image=image,\n",
    "        properties=[\n",
    "            \"label\",\n",
    "            \"area\",\n",
    "            \"mean_intensity\",\n",
    "            \"max_intensity\",\n",
    "            \"min_intensity\",\n",
    "        ],\n",
    "    )\n",
    "    return pd.DataFrame(roi_feat_table)"
   ]
  },
  {
   "cell_type": "code",
   "execution_count": null,
   "metadata": {},
   "outputs": [],
   "source": [
    "from pathlib import Path\n",
    "\n",
    "from ngio import open_ome_zarr_container\n",
    "from ngio.utils import download_ome_zarr_dataset\n",
    "\n",
    "# Download the dataset\n",
    "download_dir = Path(\".\").absolute().parent.parent / \"data\"\n",
    "hcs_path = download_ome_zarr_dataset(\"CardiomyocyteTinyMip\", download_dir=download_dir)\n",
    "image_path = hcs_path / \"B\" / \"03\" / \"0\"\n",
    "\n",
    "# Open the ome-zarr container\n",
    "ome_zarr = open_ome_zarr_container(image_path)"
   ]
  },
  {
   "cell_type": "markdown",
   "metadata": {},
   "source": [
    "## Step 2: Setup the inputs"
   ]
  },
  {
   "cell_type": "code",
   "execution_count": null,
   "metadata": {},
   "outputs": [],
   "source": [
    "from ngio.transforms import ZoomTransform\n",
    "\n",
    "# First we will need the image object and the FOVs table\n",
    "image = ome_zarr.get_image()\n",
    "\n",
    "# Get the nuclei label\n",
    "nuclei = ome_zarr.get_label(\"nuclei\")\n",
    "\n",
    "# In this example we the image is available at an higher resolution than the nuclei\n",
    "print(f\"Image dimensions: {image.dimensions}, pixel size: {image.pixel_size}\")\n",
    "print(f\"Nuclei dimensions: {nuclei.dimensions}, pixel size: {nuclei.pixel_size}\")\n",
    "\n",
    "# We need to setup a transform to resample the nuclei to the image resolution\n",
    "zoom_transform = ZoomTransform(\n",
    "    input_image=nuclei,\n",
    "    target_image=image,\n",
    "    order=\"nearest\",  # Nearest neighbor interpolation for labels\n",
    ")"
   ]
  },
  {
   "cell_type": "markdown",
   "metadata": {},
   "source": [
    "## Step 3: Use the FeatureExtractorIterator to create a feature table"
   ]
  },
  {
   "cell_type": "code",
   "execution_count": null,
   "metadata": {},
   "outputs": [],
   "source": [
    "from ngio.experimental.iterators import FeatureExtractorIterator\n",
    "from ngio.tables import FeatureTable\n",
    "\n",
    "iterator = FeatureExtractorIterator(\n",
    "    input_image=image,\n",
    "    input_label=nuclei,\n",
    "    label_transforms=[zoom_transform],\n",
    "    axes_order=[\"y\", \"x\", \"c\"],\n",
    ")\n",
    "\n",
    "feat_table = []\n",
    "for image_data, label_data, roi in iterator.iter_as_numpy():\n",
    "    print(f\"Processing ROI: {roi}\")\n",
    "    roi_feat_table = extract_features(image=image_data, label=label_data)\n",
    "    feat_table.append(roi_feat_table)\n",
    "\n",
    "# Concatenate all the dataframes into a single one\n",
    "feat_table = pd.concat(feat_table)\n",
    "feat_table = FeatureTable(table_data=feat_table, reference_label=\"nuclei\")\n",
    "ome_zarr.add_table(\"nuclei_regionprops\", feat_table)"
   ]
  },
  {
   "cell_type": "markdown",
   "metadata": {},
   "source": [
    "### Sanity Check: Read the Table back"
   ]
  },
  {
   "cell_type": "code",
   "execution_count": null,
   "metadata": {},
   "outputs": [],
   "source": [
    "ome_zarr.get_table(\"nuclei_regionprops\").lazy_frame.collect()"
   ]
  }
 ],
 "metadata": {
  "kernelspec": {
   "display_name": "dev",
   "language": "python",
   "name": "python3"
  },
  "language_info": {
   "codemirror_mode": {
    "name": "ipython",
    "version": 3
   },
   "file_extension": ".py",
   "mimetype": "text/x-python",
   "name": "python",
   "nbconvert_exporter": "python",
   "pygments_lexer": "ipython3",
   "version": "3.11.13"
  }
 },
 "nbformat": 4,
 "nbformat_minor": 2
}
