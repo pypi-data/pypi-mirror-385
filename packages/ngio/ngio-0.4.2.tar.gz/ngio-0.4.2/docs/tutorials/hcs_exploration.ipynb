{
 "cells": [
  {
   "cell_type": "markdown",
   "metadata": {},
   "source": [
    "# HCS Plates\n",
    "\n",
    "This is a minimal example of how to work with OME-Zarr Plates using `ngio`.\n",
    "\n",
    "## Show what's in the plate"
   ]
  },
  {
   "cell_type": "code",
   "execution_count": null,
   "metadata": {},
   "outputs": [],
   "source": [
    "from pathlib import Path\n",
    "\n",
    "from ngio import open_ome_zarr_plate\n",
    "from ngio.utils import download_ome_zarr_dataset\n",
    "\n",
    "# Download the dataset\n",
    "download_dir = Path(\".\").absolute().parent.parent / \"data\"\n",
    "\n",
    "hcs_path = download_ome_zarr_dataset(\"CardiomyocyteTinyMip\", download_dir=download_dir)\n",
    "hcs_zarr = open_ome_zarr_plate(hcs_path)\n",
    "print(hcs_zarr)\n",
    "print(f\"Rows: {hcs_zarr.rows}, Columns: {hcs_zarr.columns}\")\n",
    "\n",
    "# Get all the images in the plate\n",
    "hcs_zarr.get_images()"
   ]
  },
  {
   "cell_type": "markdown",
   "metadata": {},
   "source": [
    "## Aggregate tables across all images"
   ]
  },
  {
   "cell_type": "code",
   "execution_count": null,
   "metadata": {},
   "outputs": [],
   "source": [
    "# Aggregate all table across all images\n",
    "\n",
    "table = hcs_zarr.concatenate_image_tables(name=\"nuclei\")\n",
    "table.dataframe"
   ]
  },
  {
   "cell_type": "markdown",
   "metadata": {},
   "source": [
    "## Save the table in the HCS plate"
   ]
  },
  {
   "cell_type": "code",
   "execution_count": null,
   "metadata": {},
   "outputs": [],
   "source": [
    "# Save the tabvle in the HCS plate\n",
    "hcs_zarr.add_table(name=\"nuclei\", table=table)\n",
    "\n",
    "# Read the table back for sanity check\n",
    "hcs_zarr.get_table(\"nuclei\").dataframe"
   ]
  },
  {
   "cell_type": "markdown",
   "metadata": {},
   "source": [
    "## Create a new empty Plate"
   ]
  },
  {
   "cell_type": "code",
   "execution_count": null,
   "metadata": {},
   "outputs": [],
   "source": [
    "from ngio import ImageInWellPath, create_empty_plate\n",
    "\n",
    "test_plate = create_empty_plate(\n",
    "    store=\"./data/empty_plate.zarr\",\n",
    "    name=\"Test Plate\",\n",
    "    images=[\n",
    "        ImageInWellPath(row=\"A\", column=\"01\", path=\"0\"),\n",
    "        ImageInWellPath(row=\"A\", column=\"02\", path=\"0\"),\n",
    "        ImageInWellPath(row=\"A\", column=\"02\", path=\"1\", acquisition_id=1),\n",
    "    ],\n",
    "    overwrite=True,\n",
    ")\n",
    "\n",
    "print(test_plate)\n",
    "print(f\"Rows: {test_plate.rows}, Columns: {test_plate.columns}\")"
   ]
  }
 ],
 "metadata": {
  "kernelspec": {
   "display_name": "dev",
   "language": "python",
   "name": "python3"
  },
  "language_info": {
   "codemirror_mode": {
    "name": "ipython",
    "version": 3
   },
   "file_extension": ".py",
   "mimetype": "text/x-python",
   "name": "python",
   "nbconvert_exporter": "python",
   "pygments_lexer": "ipython3",
   "version": "3.11.13"
  }
 },
 "nbformat": 4,
 "nbformat_minor": 2
}
