{
 "cells": [
  {
   "cell_type": "markdown",
   "metadata": {},
   "source": [
    "# Image Segmentation\n",
    "\n",
    "This is a minimal tutorial on how to use ngio for image segmentation.\n",
    "\n",
    "## Step 1: Setup\n",
    "\n",
    "We will first implement a very simple function to segment an image. We will use skimage to do this. \n"
   ]
  },
  {
   "cell_type": "code",
   "execution_count": null,
   "metadata": {},
   "outputs": [],
   "source": [
    "# Setup a simple segmentation function\n",
    "import numpy as np\n",
    "import skimage\n",
    "\n",
    "\n",
    "def otsu_threshold_segmentation(image: np.ndarray, max_label: int) -> np.ndarray:\n",
    "    \"\"\"Simple segmentation using Otsu thresholding.\"\"\"\n",
    "    threshold = skimage.filters.threshold_otsu(image)\n",
    "    binary = image > threshold\n",
    "    label_image = skimage.measure.label(binary)\n",
    "    label_image += max_label\n",
    "    label_image = np.where(binary, label_image, 0)\n",
    "    return label_image.astype(np.uint32)"
   ]
  },
  {
   "cell_type": "markdown",
   "metadata": {},
   "source": [
    "## Step 2: Open the OmeZarr container"
   ]
  },
  {
   "cell_type": "code",
   "execution_count": null,
   "metadata": {},
   "outputs": [],
   "source": [
    "from pathlib import Path\n",
    "\n",
    "from ngio import open_ome_zarr_container\n",
    "from ngio.utils import download_ome_zarr_dataset\n",
    "\n",
    "# Download the dataset\n",
    "download_dir = Path(\".\").absolute().parent.parent / \"data\"\n",
    "hcs_path = download_ome_zarr_dataset(\"CardiomyocyteTiny\", download_dir=download_dir)\n",
    "image_path = hcs_path / \"B\" / \"03\" / \"0\"\n",
    "\n",
    "# Open the ome-zarr container\n",
    "ome_zarr = open_ome_zarr_container(image_path)"
   ]
  },
  {
   "cell_type": "markdown",
   "metadata": {},
   "source": [
    "## Step 3: Segment the image\n",
    "\n",
    "For this example, we will not segment the image all at once. Instead we will iterate over the image FOVs and segment them one by one."
   ]
  },
  {
   "cell_type": "code",
   "execution_count": null,
   "metadata": {},
   "outputs": [],
   "source": [
    "from ngio.experimental.iterators import SegmentationIterator\n",
    "\n",
    "# First we will need the image object and the FOVs table\n",
    "image = ome_zarr.get_image()\n",
    "roi_table = ome_zarr.get_roi_table(\"FOV_ROI_table\")\n",
    "\n",
    "# Second we need to derive a new label image to use as target for the segmentation\n",
    "\n",
    "label = ome_zarr.derive_label(\"new_label\", overwrite=True)\n",
    "\n",
    "# Setup the segmentation iterator\n",
    "seg_iterator = SegmentationIterator(\n",
    "    input_image=image,\n",
    "    output_label=label,\n",
    "    channel_selection=\"DAPI\",\n",
    "    axes_order=[\"z\", \"y\", \"x\"],\n",
    ")\n",
    "seg_iterator = seg_iterator.product(roi_table)\n",
    "\n",
    "# Make sure that if other axes are present they are iterated over\n",
    "seg_iterator = seg_iterator.by_zyx()\n",
    "\n",
    "max_label = 0  # We will use this to avoid label collisions\n",
    "for image_data, label_writer in seg_iterator.iter_as_numpy():\n",
    "    roi_segmentation = otsu_threshold_segmentation(\n",
    "        image_data, max_label\n",
    "    )  # Segment the image\n",
    "\n",
    "    max_label = roi_segmentation.max()  # Get the max label for the next iteration\n",
    "\n",
    "    label_writer(patch=roi_segmentation)  # Write the segmentation back to the label\n",
    "\n",
    "# No need to consolidate, the iterator does it automatically after the last write"
   ]
  },
  {
   "cell_type": "markdown",
   "metadata": {},
   "source": [
    "### Plot the segmentation"
   ]
  },
  {
   "cell_type": "code",
   "execution_count": null,
   "metadata": {},
   "outputs": [],
   "source": [
    "import matplotlib.pyplot as plt\n",
    "import numpy as np\n",
    "from matplotlib.colors import ListedColormap\n",
    "\n",
    "rand_cmap = np.random.rand(1000, 3)\n",
    "rand_cmap[0] = 0\n",
    "rand_cmap = ListedColormap(rand_cmap)\n",
    "\n",
    "fig, axs = plt.subplots(2, 1, figsize=(8, 4))\n",
    "axs[0].set_title(\"Original image\")\n",
    "axs[0].imshow(image.get_as_numpy(c=0, z=1, axes_order=[\"y\", \"x\"]), cmap=\"gray\")\n",
    "axs[1].set_title(\"Final segmentation\")\n",
    "axs[1].imshow(label.get_as_numpy(z=1, axes_order=[\"y\", \"x\"]), cmap=rand_cmap)\n",
    "for ax in axs:\n",
    "    ax.axis(\"off\")\n",
    "plt.tight_layout()\n",
    "plt.show()"
   ]
  },
  {
   "cell_type": "markdown",
   "metadata": {},
   "source": [
    "## Step 4: Masked image segmentation\n",
    "\n",
    "In this example we will use a mask to restrict the segmentation to certain areas of the image.\n",
    "In this case we will create a simple mask for illustration purposes, but in a real case scenario the mask could come\n",
    "from another segmentation mask."
   ]
  },
  {
   "cell_type": "code",
   "execution_count": null,
   "metadata": {},
   "outputs": [],
   "source": [
    "# Create a basic mask for illustration purposes\n",
    "mask = ome_zarr.derive_label(\"mask\", overwrite=True)\n",
    "mask_data = mask.get_as_numpy(axes_order=[\"z\", \"y\", \"x\"])\n",
    "mask_data[:, 200:-200, 500:2000] = 1\n",
    "mask_data[:, 200:-200, 3000:-500] = 2\n",
    "mask_data[:, 600:-600, 1200:-1000] = 0\n",
    "mask_data[:, 700:-700, 1600:-1500] = 3\n",
    "mask.set_array(mask_data, axes_order=[\"z\", \"y\", \"x\"])\n",
    "mask.consolidate()\n",
    "\n",
    "fig, axs = plt.subplots(2, 1, figsize=(8, 4))\n",
    "axs[0].set_title(\"Original image\")\n",
    "axs[0].imshow(image.get_as_numpy(c=0, z=1, axes_order=[\"y\", \"x\"]), cmap=\"gray\")\n",
    "axs[1].set_title(\"Mask\")\n",
    "axs[1].imshow(mask.get_as_numpy(z=1, axes_order=[\"y\", \"x\"]), cmap=rand_cmap)\n",
    "for ax in axs:\n",
    "    ax.axis(\"off\")\n",
    "plt.tight_layout()\n",
    "plt.show()"
   ]
  },
  {
   "cell_type": "code",
   "execution_count": null,
   "metadata": {},
   "outputs": [],
   "source": [
    "from ngio.experimental.iterators import MaskedSegmentationIterator\n",
    "\n",
    "# First we will need the masked image object\n",
    "# (that contains the masking table information inside)\n",
    "image = ome_zarr.get_masked_image(masking_label_name=\"mask\")\n",
    "\n",
    "# Second we need to derive a new label image to use as target for the segmentation\n",
    "label = ome_zarr.derive_label(\"masked_new_label\", overwrite=True)\n",
    "\n",
    "# Setup the masked segmentation iterator\n",
    "seg_iterator = MaskedSegmentationIterator(\n",
    "    input_image=image,\n",
    "    output_label=label,\n",
    "    channel_selection=\"DAPI\",\n",
    "    axes_order=[\"z\", \"y\", \"x\"],\n",
    ")\n",
    "\n",
    "# Make sure that if other axes are present they are iterated over\n",
    "seg_iterator = seg_iterator.by_zyx()\n",
    "\n",
    "max_label = 0  # We will use this to avoid label collisions\n",
    "for image_data, label_writer in seg_iterator.iter_as_numpy():\n",
    "    roi_segmentation = otsu_threshold_segmentation(\n",
    "        image_data, max_label\n",
    "    )  # Segment the image\n",
    "\n",
    "    max_label = roi_segmentation.max()  # Get the max label for the next iteration\n",
    "\n",
    "    label_writer(patch=roi_segmentation)  # Write the segmentation back to the label\n",
    "\n",
    "# No need to consolidate, the iterator does it automatically after the last write"
   ]
  },
  {
   "cell_type": "code",
   "execution_count": null,
   "metadata": {},
   "outputs": [],
   "source": [
    "import matplotlib.pyplot as plt\n",
    "import numpy as np\n",
    "from matplotlib.colors import ListedColormap\n",
    "\n",
    "fig, axs = plt.subplots(2, 1, figsize=(8, 4))\n",
    "axs[0].set_title(\"Original image\")\n",
    "axs[0].imshow(image.get_as_numpy(c=0, z=1, axes_order=[\"y\", \"x\"]), cmap=\"gray\")\n",
    "axs[1].set_title(\"Final segmentation\")\n",
    "axs[1].imshow(label.get_as_numpy(z=1, axes_order=[\"y\", \"x\"]), cmap=rand_cmap)\n",
    "for ax in axs:\n",
    "    ax.axis(\"off\")\n",
    "plt.tight_layout()\n",
    "plt.show()"
   ]
  },
  {
   "cell_type": "code",
   "execution_count": null,
   "metadata": {},
   "outputs": [],
   "source": []
  }
 ],
 "metadata": {
  "kernelspec": {
   "display_name": "dev",
   "language": "python",
   "name": "python3"
  },
  "language_info": {
   "codemirror_mode": {
    "name": "ipython",
    "version": 3
   },
   "file_extension": ".py",
   "mimetype": "text/x-python",
   "name": "python",
   "nbconvert_exporter": "python",
   "pygments_lexer": "ipython3",
   "version": "3.11.13"
  }
 },
 "nbformat": 4,
 "nbformat_minor": 2
}
