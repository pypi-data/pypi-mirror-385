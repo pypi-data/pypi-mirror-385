{
 "cells": [
  {
   "cell_type": "markdown",
   "id": "18d65107-94fa-4b5d-b7b7-6488c7984f2d",
   "metadata": {},
   "source": [
    "# 曲线格式介绍"
   ]
  },
  {
   "cell_type": "markdown",
   "id": "e7435ea3-e23a-4abb-8a63-64cb6c9d8e68",
   "metadata": {},
   "source": [
    "我们使用zarr格式存储能量迹曲线（参见https://zarr.readthedocs.io/en/stable/tutorial.html）"
   ]
  },
  {
   "cell_type": "code",
   "execution_count": 3,
   "id": "63ba9469-a5db-4d72-8b19-87dadc23f79a",
   "metadata": {},
   "outputs": [],
   "source": [
    "import zarr"
   ]
  },
  {
   "cell_type": "markdown",
   "id": "bacc93c1-cd74-4c24-80ec-1155522fb3f4",
   "metadata": {},
   "source": [
    "dataset//20241020094826.zarr中存储着AES的能量迹曲线，下面我们演示如何进行文件的打开，读取曲线等操作"
   ]
  },
  {
   "cell_type": "code",
   "execution_count": 4,
   "id": "da27960e-b08f-490f-b9ec-270aae24d9d3",
   "metadata": {},
   "outputs": [],
   "source": [
    "dataset_name = 'dataset//20250127200239.zarr'\n",
    "dataset = zarr.open(dataset_name, \"r\")"
   ]
  },
  {
   "cell_type": "markdown",
   "id": "c185d00e-d282-4516-9aac-9f26c0fad096",
   "metadata": {},
   "source": [
    "查看文件信息："
   ]
  },
  {
   "cell_type": "code",
   "execution_count": 5,
   "id": "0cb17f7f-0550-4b88-9c51-033707f900ce",
   "metadata": {},
   "outputs": [
    {
     "data": {
      "text/html": [
       "<table class=\"zarr-info\"><tbody><tr><th style=\"text-align: left\">Name</th><td style=\"text-align: left\">/</td></tr><tr><th style=\"text-align: left\">Type</th><td style=\"text-align: left\">zarr.hierarchy.Group</td></tr><tr><th style=\"text-align: left\">Read-only</th><td style=\"text-align: left\">True</td></tr><tr><th style=\"text-align: left\">Store type</th><td style=\"text-align: left\">zarr.storage.DirectoryStore</td></tr><tr><th style=\"text-align: left\">No. members</th><td style=\"text-align: left\">1</td></tr><tr><th style=\"text-align: left\">No. arrays</th><td style=\"text-align: left\">0</td></tr><tr><th style=\"text-align: left\">No. groups</th><td style=\"text-align: left\">1</td></tr><tr><th style=\"text-align: left\">Groups</th><td style=\"text-align: left\">0</td></tr></tbody></table>"
      ],
      "text/plain": [
       "Name        : /\n",
       "Type        : zarr.hierarchy.Group\n",
       "Read-only   : True\n",
       "Store type  : zarr.storage.DirectoryStore\n",
       "No. members : 1\n",
       "No. arrays  : 0\n",
       "No. groups  : 1\n",
       "Groups      : 0"
      ]
     },
     "execution_count": 5,
     "metadata": {},
     "output_type": "execute_result"
    }
   ],
   "source": [
    "dataset.info"
   ]
  },
  {
   "cell_type": "markdown",
   "id": "6d4ff798-8f4a-4a0a-91fa-8e2956b31686",
   "metadata": {},
   "source": [
    "文件包含的数据及格式如下：  \n",
    "其中traces是能量迹，plaintext是明文数据"
   ]
  },
  {
   "cell_type": "code",
   "execution_count": null,
   "id": "1adb4508-be50-4180-9f2e-708092a991ba",
   "metadata": {},
   "outputs": [],
   "source": [
    "dataset.tree()"
   ]
  },
  {
   "cell_type": "markdown",
   "id": "25e6c70f-4727-4325-bab5-a28e639c38a0",
   "metadata": {},
   "source": [
    "本教程部分代码基于scarr库（https://github.com/decryptofy/scarr.git）而用来进行分析。\n",
    "\n",
    "This Source Code Form is subject to the terms of the Mozilla Public\n",
    "License, v. 2.0. If a copy of the MPL was not distributed with this\n",
    "file, You can obtain one at https://mozilla.org/MPL/2.0/.\n",
    "\n",
    "This Source Code Form is \"Incompatible With Secondary Licenses\", as\n",
    "defined by the Mozilla Public License, v. 2.0.\n"
   ]
  }
 ],
 "metadata": {
  "kernelspec": {
   "display_name": "Python 3 (ipykernel)",
   "language": "python",
   "name": "python3"
  },
  "language_info": {
   "codemirror_mode": {
    "name": "ipython",
    "version": 3
   },
   "file_extension": ".py",
   "mimetype": "text/x-python",
   "name": "python",
   "nbconvert_exporter": "python",
   "pygments_lexer": "ipython3",
   "version": "3.12.5"
  }
 },
 "nbformat": 4,
 "nbformat_minor": 5
}
