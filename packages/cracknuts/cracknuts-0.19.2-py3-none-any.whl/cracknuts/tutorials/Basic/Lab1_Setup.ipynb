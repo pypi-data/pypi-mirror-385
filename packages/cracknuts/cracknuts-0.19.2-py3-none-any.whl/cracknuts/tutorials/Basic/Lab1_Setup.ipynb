{
 "cells": [
  {
   "cell_type": "markdown",
   "id": "6b92c8cd",
   "metadata": {},
   "source": [
    "# Setup\n",
    "\n",
    "本实验用于演示：    \n",
    "1. 建立`CrackerS1`测试设备和`Nut`待测芯片的连接；\n",
    "2. 为`CrackerS1`供电；\n",
    "3. 建立`CrackerS1`同`CrackNuts`控制分析软件的连接。\n",
    "\n",
    "\n",
    "\n",
    "\n",
    "## 准备工作\n",
    "\n",
    "硬件：\n",
    "1. `CrackerS1`侧信道分析设备；\n",
    "2. `Nut_stm32f103c8`测试对象；\n",
    "3. CAT6网线2~3条；\n",
    "4. POE交换机、POE电源适配器或12V直流适配器；\n",
    "5. 无线路由器（可选）。\n",
    "\n",
    "软件：\n",
    "1. 安装最新[`CrackNuts`](https://cracknuts.cn/docs/doc/getting-started/host_sdk_installation)控制分析软件；\n",
    "2. 安装[STM32 ST-LINK utility](https://www.st.com/en/development-tools/stsw-link004.html#get-software)固件下载程序。\n",
    "\n",
    "\n",
    "\n"
   ]
  },
  {
   "cell_type": "markdown",
   "id": "dde34b10",
   "metadata": {},
   "source": []
  },
  {
   "cell_type": "markdown",
   "id": "21887396",
   "metadata": {},
   "source": [
    "## 供电方式\n",
    "`Cracker`系列测试设备支持**12V直流供电**和**PoE供电**两种电源方式，电源接口如下图红色方框所示。\n",
    "\n",
    "![CrackerXX-CrackerXX-Power](attatchments/CrackerXX-Power.svg)\n",
    "\n",
    "### 直流供电\n",
    "使用12V直流适配器为`Cracker`系列测试设备供电，连接关系如下图所示。\n",
    "\n",
    "![CrackerXX-DC-Adapter](attatchments/CrackerXX-DC-Adapter.svg)\n",
    "\n",
    "> **注意：**\n",
    ">\n",
    "> 供电选择开关应调整到`DC 12V`\n",
    "\n",
    "\n",
    "### POE供电（推荐）\n",
    "使用PoE方式为`Cracker`系列测试设备供电，可使用带有PoE功能的网络设备，连接关系如下图所示。\n",
    "\n",
    "![CrackerXX-PoE-Switch](attatchments/CrackerXX-PoE-Switch.svg)\n",
    "\n",
    "或者使用PoE适配器，连接关系如下图所示。\n",
    "\n",
    "![CrackerXX-PoE-Adapter](attatchments/CrackerXX-PoE-Adapter.svg)\n",
    "\n",
    "\n",
    "> **注意：**\n",
    ">\n",
    "> 供电选择开关应调整到`POE`\n",
    "\n"
   ]
  },
  {
   "cell_type": "markdown",
   "id": "41bdad38",
   "metadata": {},
   "source": [
    "## 部署方式\n",
    "\n",
    "得益于`Cracker`设备采用网络协议，同时支持`PoE`供电，搭配交换机、路由器等网络设备可实现灵活的部署。\n",
    "\n",
    "\n",
    "### PoE交换机部署（推荐）\n",
    "\n",
    "此种方式，`Cracker`设备由PoE交换机供电，可方便地接入电脑所在网络，实现控制和通信功能。\n",
    "![CrackerXX-PoE-Switch-Connect](./attatchments/CrackerXX-PoE-Switch-Connect.svg)\n",
    "\n",
    "\n",
    "### WiFi部署\n",
    "\n",
    "此种方式，电脑可通过无线网络（WiFi）连接`Cracker`设备，实现控制和通信功能。\n",
    "![CrackerXX-PoE-Adapter-Wireless-Connect](./attatchments/CrackerXX-PoE-Adapter-Wireless-Connect.svg)\n",
    "\n",
    "\n",
    "### PoE适配器连接\n",
    "\n",
    "此种方式，电脑通过PoE适配器连接`Cracker`设备，实现控制和通信功能。\n",
    "![CrackerXX-PoE-Adapter-Direct-Connect](./attatchments/CrackerXX-PoE-Adapter-Direct-Connect.svg)\n",
    "\n",
    "### 直连\n",
    "\n",
    "此种方式，`Cracker`设备由直流适配器供电，电脑通过网线直连`Cracker`设备，实现控制和通信功能。\n",
    "![CrackerXX-DC-Adapter-Direct-Connect](./attatchments/CrackerXX-DC-Adapter-Direct-Connect.svg)"
   ]
  },
  {
   "cell_type": "markdown",
   "id": "5e010e47",
   "metadata": {},
   "source": [
    "## 设备连接\n",
    "\n",
    "### 设备上电\n",
    "\n",
    "`Cracker`设备上电后，设备内部Linux系统启动，OLED屏幕显示如下信息：\n",
    "\n",
    "> Booting...\n",
    "\n",
    "启动完成后，OLED屏幕会显示等待网络连接信息：\n",
    "\n",
    "> Waiting for ETH...\n",
    "\n",
    "当接入测试网络并识别后，OLED屏幕会显示设备IP地址信息：\n",
    "\n",
    "> 192.168.0.XX    S-1\n",
    "\n",
    "注：默认IP地址为`192.168.0.10`，可更改。\n",
    "\n",
    "> 注意：\n",
    ">\n",
    "> 此时设备内部尚未加载配置文件，无法直接使用`Cracker`设备。\n",
    "\n",
    "### 电脑连接设备\n",
    "\n",
    "电脑接入测试网络后，需配置为与设备相同的网段，才能访问设备，如配置为`192.168.0.30`。\n",
    "\n",
    "接入后可通过`ping`命令检查设备是否连接成功：\n",
    "\n",
    "```bash\n",
    "ping 192.168.0.10 -t\n",
    "\n",
    "正在 Ping 192.168.0.10 具有 32 字节的数据:\n",
    "来自 192.168.0.10 的回复: 字节=32 时间=4ms TTL=64\n",
    "来自 192.168.0.10 的回复: 字节=32 时间=1ms TTL=64\n",
    "来自 192.168.0.10 的回复: 字节=32 时间=1ms TTL=64\n",
    "来自 192.168.0.10 的回复: 字节=32 时间=1ms TTL=64\n",
    "```"
   ]
  },
  {
   "cell_type": "markdown",
   "id": "0a4c4202",
   "metadata": {},
   "source": [
    "在Jupyter等开发环境中执行如下代码："
   ]
  },
  {
   "cell_type": "code",
   "execution_count": 1,
   "id": "19a2ef4c",
   "metadata": {},
   "outputs": [],
   "source": [
    "# 导入CrackNuts库\n",
    "import cracknuts as cn\n",
    "from cracknuts.cracker.cracker_s1 import CrackerS1"
   ]
  },
  {
   "cell_type": "code",
   "execution_count": null,
   "id": "edc92dac",
   "metadata": {},
   "outputs": [],
   "source": [
    "# 连接Cracker设备\n",
    "s1 = CrackerS1(address='192.168.0.10') # 根据OLED显示IP更改\n",
    "s1.connect()"
   ]
  },
  {
   "cell_type": "markdown",
   "id": "74c9b4a0",
   "metadata": {},
   "source": [
    "连接成功后，OLED显示屏会显示设备当前配置信息：\n",
    "\n",
    "|   OLED |\n",
    "| - |\n",
    "| 192.168.0.XX    S-1 |\n",
    "| Nut: N 3.3V  N 8M |\n",
    "| |\n",
    "| OSC: 48M 0   N 50  Y 50 |\n",
    "|    1k      0 |\n",
    "|    E   N   U   1|\n",
    "\n",
    "表示连接成功。\n"
   ]
  },
  {
   "cell_type": "markdown",
   "id": "7cc9f82e",
   "metadata": {},
   "source": [
    "### 更改Cracker默认IP\n",
    "\n",
    "用户可根据需要更改Cracker的默认IP，默认IP为192.168.0.10，更改后需要重启Cracker。\n",
    "更改默认IP代码如下："
   ]
  },
  {
   "cell_type": "code",
   "execution_count": null,
   "id": "5ab6f09a",
   "metadata": {},
   "outputs": [
    {
     "data": {
      "text/plain": [
       "True"
      ]
     },
     "execution_count": 5,
     "metadata": {},
     "output_type": "execute_result"
    }
   ],
   "source": [
    "s1.change_ip('192.168.0.20', '255.255.255.0', '192.168.0.1')"
   ]
  },
  {
   "cell_type": "markdown",
   "id": "28f65f75",
   "metadata": {},
   "source": [
    "执行成功后，OLED屏幕IP会更新为设置的IP，更新后需重新上电。"
   ]
  }
 ],
 "metadata": {
  "kernelspec": {
   "display_name": "Python 3 (ipykernel)",
   "language": "python",
   "name": "python3"
  },
  "language_info": {
   "codemirror_mode": {
    "name": "ipython",
    "version": 3
   },
   "file_extension": ".py",
   "mimetype": "text/x-python",
   "name": "python",
   "nbconvert_exporter": "python",
   "pygments_lexer": "ipython3",
   "version": "3.12.5"
  }
 },
 "nbformat": 4,
 "nbformat_minor": 5
}
