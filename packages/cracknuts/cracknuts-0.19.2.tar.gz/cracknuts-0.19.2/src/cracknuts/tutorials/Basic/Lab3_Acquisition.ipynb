{
 "cells": [
  {
   "cell_type": "markdown",
   "id": "cfcb8e8e",
   "metadata": {},
   "source": [
    "# Lab3 Acquisition\n",
    "\n",
    "本实验用于演示：\n",
    "1. 建立`CrackerS1`测试设备采集`Nut_stm32f103c8`的功耗信号；\n",
    "2. 为`CrackerS1`供电；\n",
    "3. 建立`CrackerS1`同`CrackNuts`控制分析软件的连接。\n",
    "\n",
    "## 准备工作\n",
    "\n",
    "硬件：\n",
    "1. `CrackerS1`侧信道分析设备；\n",
    "2. `Nut_stm32f103c8`测试对象；\n",
    "3. CAT6网线2~3条；\n",
    "4. POE交换机、POE电源适配器或12V直流适配器；\n",
    "5. 无线路由器（可选）。\n",
    "\n",
    "软件：\n",
    "1. 安装最新[`CrackNuts`](https://cracknuts.cn/docs/doc/getting-started/host_sdk_installation)控制分析软件；\n",
    "2. `Nut_stm32f103c8`Golden固件程序；\n",
    "3. 安装[STM32 ST-LINK utility](https://www.st.com/en/development-tools/stsw-link004.html#get-software)固件下载程序。\n",
    "\n",
    "## 实验步骤\n",
    "\n",
    "1. 在`Nut_stm32f103c8`测试板中下载Golden固件程序。\n",
    "2. 将`Nut_stm32f103c8`测试板插入`CrackerS1`的Nut Socket中。\n",
    "3. 电脑连接`CrackerS1`测试设备，参考[Lab1_Setup](Lab1_Setup.ipynb)。\n",
    "4. 调整采样参数。\n",
    "5. 开始采集。"
   ]
  },
  {
   "cell_type": "markdown",
   "id": "afc9a023",
   "metadata": {},
   "source": [
    "### 引入依赖包"
   ]
  },
  {
   "cell_type": "code",
   "execution_count": 7,
   "id": "3a68c2d6",
   "metadata": {},
   "outputs": [],
   "source": [
    "import cracknuts as cn  # 导入cracknuts包\n",
    "from cracknuts.cracker import serial  # 串行协议参数\n",
    "from cracknuts.cracker.cracker_s1 import CrackerS1  # 导入Cracker-S1\n",
    "\n",
    "s1 = CrackerS1(address='192.168.0.10')  # 具体地址根据OLED显示IP修改\n",
    "s1.connect()"
   ]
  },
  {
   "cell_type": "markdown",
   "id": "28af997e",
   "metadata": {},
   "source": [
    "### 接口配置"
   ]
  },
  {
   "cell_type": "code",
   "execution_count": 8,
   "id": "614dac6b",
   "metadata": {},
   "outputs": [],
   "source": [
    "from enum import Enum\n",
    "\n",
    "class AlgType(Enum):  # Algrithom type\n",
    "    AES_ENC = 1\n",
    "    AES_DEC = 2\n",
    "    DES_ENC = 3\n",
    "    DES_DEC = 4\n",
    "\n",
    "class IntfType(Enum):  # interface type\n",
    "    UART = 1\n",
    "    SPI = 2 # 完善中\n",
    "    I2C = 3 # 完善中\n",
    "    CAN = 4 # 完善中"
   ]
  },
  {
   "cell_type": "code",
   "execution_count": 9,
   "id": "16e4593d",
   "metadata": {},
   "outputs": [],
   "source": [
    "# Algorithm select\n",
    "alg = AlgType.AES_ENC # 修改这个值改变算法\n",
    "# alg = AlgType.AES_DEC # 修改这个值改变算法\n",
    "# alg = AlgType.DES_ENC # 修改这个值改变算法\n",
    "# alg = AlgType.DES_DEC # 修改这个值改变算法\n",
    "\n",
    "# data random\n",
    "# fix_data = True\n",
    "fix_data = False\n",
    "\n",
    "# interface\n",
    "intf = IntfType.UART\n",
    "# intf = IntfType.SPI\n",
    "# intf = IntfType.I2C\n",
    "# intf = IntfType.CAN"
   ]
  },
  {
   "cell_type": "markdown",
   "id": "5e0f8259",
   "metadata": {},
   "source": [
    "### Nut 命令"
   ]
  },
  {
   "cell_type": "code",
   "execution_count": 10,
   "id": "30de2ea7",
   "metadata": {},
   "outputs": [],
   "source": [
    "# AES Command\n",
    "cmd_set_aes_enc_key = \"01 00 00 00 00 00 00 10\"\n",
    "cmd_set_aes_dec_key = \"01 01 00 00 00 00 00 10\"\n",
    "cmd_aes_enc = \"01 02 00 00 00 00 00 10\"\n",
    "cmd_aes_dec = \"01 03 00 00 00 00 00 10\"\n",
    "aes_key = \"11 22 33 44 55 66 77 88 99 00 aa bb cc dd ee ff\"\n",
    "aes_data_len = 16\n",
    "\n",
    "# DES Command\n",
    "cmd_set_des_enc_key = \"02 00 00 00 00 00 00 08\"\n",
    "cmd_set_des_dec_key = \"02 01 00 00 00 00 00 08\"\n",
    "cmd_des_enc = \"02 02 00 00 00 00 00 08\"\n",
    "cmd_des_dec = \"02 03 00 00 00 00 00 08\"\n",
    "des_key = \"12 34 56 78 90 ab cd ef\"\n",
    "des_data_len = 8"
   ]
  },
  {
   "cell_type": "markdown",
   "id": "bfa7d3d6",
   "metadata": {},
   "source": [
    "### 核心采集流程"
   ]
  },
  {
   "cell_type": "code",
   "execution_count": 11,
   "id": "dca321a0",
   "metadata": {},
   "outputs": [],
   "source": [
    "import random\n",
    "import time\n",
    "\n",
    "def init(c):        \n",
    "    if intf is IntfType.UART:\n",
    "        s1.uart_enable()\n",
    "    elif intf is IntfType.SPI:\n",
    "        s1.spi_enable()\n",
    "        s1.spi_config(speed=1000, cpol=serial.SpiCpol.SPI_CPOL_LOW, cpha=serial.SpiCpha.SPI_CPHA_LOW)\n",
    "    \n",
    "    if alg is AlgType.AES_ENC:\n",
    "        cmd = cmd_set_aes_enc_key + aes_key\n",
    "    elif alg is AlgType.AES_DEC:\n",
    "        cmd = cmd_set_aes_dec_key + aes_key\n",
    "    elif alg is AlgType.DES_ENC:\n",
    "        cmd = cmd_set_des_enc_key + des_key\n",
    "    else:\n",
    "        cmd = cmd_set_des_dec_key + des_key\n",
    "\n",
    "    if intf is IntfType.UART:\n",
    "        status, ret = s1.uart_transmit_receive(cmd, timeout=1000, rx_count=6)\n",
    "    elif intf is IntfType.SPI:\n",
    "        status, ret = s1.spi_transmit(tx_data=cmd_set_aes_enc_key, is_trigger=False)\n",
    "        status, ret = s1.spi_transmit(tx_data=aes_key, is_trigger=False)\n",
    "        # time.sleep(0.5)\n",
    "        status, ret = s1.spi_receive(rx_count=6)\n",
    "\n",
    "def do(c):\n",
    "    \n",
    "    if alg is AlgType.AES_ENC:\n",
    "        cmd = cmd_aes_enc\n",
    "        data_len = aes_data_len\n",
    "    elif alg is AlgType.AES_DEC:\n",
    "        cmd = cmd_aes_dec\n",
    "        data_len = aes_data_len\n",
    "    elif alg is AlgType.DES_ENC:\n",
    "        cmd = cmd_des_enc\n",
    "        data_len = des_data_len\n",
    "    else:\n",
    "        cmd = cmd_des_dec\n",
    "        data_len = des_data_len\n",
    "\n",
    "    # convert cmd to bytes\n",
    "    cmd = cmd.replace(' ', '')\n",
    "    cmd = bytes.fromhex(cmd)\n",
    "\n",
    "    # concate payload\n",
    "    if fix_data: ## fix data\n",
    "        data = bytes(data_len)\n",
    "    else:  # random data\n",
    "        if alg is AlgType.AES_ENC or alg is AlgType.AES_DEC:\n",
    "            data = random.randbytes(aes_data_len)\n",
    "        else:\n",
    "            data = random.randbytes(des_data_len)\n",
    "    \n",
    "    d = cmd + data\n",
    "    # print(d.hex())\n",
    "\n",
    "    if alg is AlgType.AES_ENC or alg is AlgType.AES_DEC:\n",
    "        if intf is IntfType.UART:\n",
    "            # print(d)\n",
    "            status, ret = s1.uart_transmit_receive(d, rx_count= 6 + aes_data_len, is_trigger=True)\n",
    "            # print(ret)\n",
    "        elif intf is IntfType.SPI:\n",
    "            status, ret = s1.spi_transmit(tx_data=cmd, is_trigger=False)\n",
    "            status, ret = s1.spi_transmit(tx_data=data, is_trigger=True)\n",
    "            time.sleep(0.5)\n",
    "            status, ret = s1.spi_receive(rx_count=6 + aes_data_len)\n",
    "        # ret = cracker.spi_receive(12 + aes_data_len)\n",
    "        return {'plaintext': data, 'ciphertext': ret[-aes_data_len:]}\n",
    "    else:\n",
    "        # _, ret = cracker.cracker_serial_data(6 + des_data_len, d)\n",
    "        if intf is IntfType.UART:\n",
    "            status, ret = s1.uart_transmit_receive(d, rx_count=6 + des_data_len, is_trigger=True)\n",
    "            # print(ret)\n",
    "        elif intf is IntfType.SPI:\n",
    "            status, ret = s1.spi_transmit(tx_data=cmd, is_trigger=False)\n",
    "            status, ret = s1.spi_transmit(tx_data=data, is_trigger=True)\n",
    "            time.sleep(0.1)\n",
    "            status, ret = s1.spi_receive(rx_count=6 + des_data_len)\n",
    "        # cracker.spi_transmit(d)\n",
    "        # ret = cracker.spi_receive(6 + des_data_len)\n",
    "        # print(len(ret))\n",
    "        # print(ret.hex())\n",
    "        # print(ret[-des_data_len:].hex())\n",
    "        return {'plaintext': data, 'ciphertext': ret[-des_data_len:]}\n",
    "\n",
    "saveDataLength = 2*aes_data_len if alg is AlgType.AES_ENC or alg is AlgType.AES_DEC else 2*des_data_len\n",
    "acq = cn.new_acquisition(s1, do=do, init= init)"
   ]
  },
  {
   "cell_type": "markdown",
   "id": "4c2deb38",
   "metadata": {},
   "source": [
    "### 采集界面"
   ]
  },
  {
   "cell_type": "code",
   "execution_count": 12,
   "id": "a4c5d5e6",
   "metadata": {},
   "outputs": [
    {
     "name": "stderr",
     "output_type": "stream",
     "text": [
      "[WARNING] 2025-05-21 14:15:26,325 cracknuts_panel.__init__:62 The configuration item osc_channel_0_gain differs between the configuration file (80) and the cracker (10).\n"
     ]
    },
    {
     "data": {
      "application/vnd.jupyter.widget-view+json": {
       "model_id": "bf552a0ad9e6432581eea7ddcb0120eb",
       "version_major": 2,
       "version_minor": 1
      },
      "text/plain": [
       "CracknutsPanelWidget(acq_run_progress={'finished': 0, 'total': -1}, connect_status=True, custom_y_range={'0': …"
      ]
     },
     "execution_count": 12,
     "metadata": {},
     "output_type": "execute_result"
    }
   ],
   "source": [
    "cn.panel(acq)"
   ]
  },
  {
   "cell_type": "markdown",
   "id": "dfa09c89-d6e0-4bbf-ace4-2990542cffec",
   "metadata": {},
   "source": [
    "以上展示`Cracker`的面板后，可以使用测试模式调节Nut、SCOPE采样等参数达到合适的效果，然后使用运行开始正式采集。"
   ]
  }
 ],
 "metadata": {
  "kernelspec": {
   "display_name": "Python 3 (ipykernel)",
   "language": "python",
   "name": "python3"
  },
  "language_info": {
   "codemirror_mode": {
    "name": "ipython",
    "version": 3
   },
   "file_extension": ".py",
   "mimetype": "text/x-python",
   "name": "python",
   "nbconvert_exporter": "python",
   "pygments_lexer": "ipython3",
   "version": "3.12.5"
  }
 },
 "nbformat": 4,
 "nbformat_minor": 5
}
