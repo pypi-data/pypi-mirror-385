{
 "cells": [
  {
   "cell_type": "markdown",
   "metadata": {},
   "source": [
    "## Create SpotMAX model description and package it"
   ]
  },
  {
   "cell_type": "markdown",
   "metadata": {},
   "source": [
    "### Links\n",
    "\n",
    "[Create model from scratch](https://github.com/bioimage-io/core-bioimage-io-python/blob/main/presentations/create_ambitious_sloth.ipynb)\n",
    "\n",
    "[Inspect and package model](https://github.com/bioimage-io/spec-bioimage-io/blob/main/example/load_model_and_create_your_own.ipynb)\n",
    "\n",
    "[Additional discussion](https://github.com/bioimage-io/collection/issues/104)\n",
    "\n",
    "[Model usage](https://github.com/bioimage-io/core-bioimage-io-python/blob/main/example/model_usage.ipynb)"
   ]
  },
  {
   "cell_type": "code",
   "execution_count": 1,
   "metadata": {},
   "outputs": [],
   "source": [
    "%load_ext autoreload\n",
    "%autoreload 2"
   ]
  },
  {
   "cell_type": "code",
   "execution_count": 2,
   "metadata": {},
   "outputs": [],
   "source": [
    "from pathlib import Path\n",
    "\n",
    "from bioimageio.spec.model.v0_5 import (\n",
    "    Author,\n",
    "    Maintainer,\n",
    "    AxisId,\n",
    "    BatchAxis,\n",
    "    ChannelAxis,\n",
    "    CiteEntry,\n",
    "    EnvironmentFileDescr,\n",
    "    DatasetId,\n",
    "    Doi,\n",
    "    FileDescr,\n",
    "    HttpUrl,\n",
    "    Identifier,\n",
    "    InputTensorDescr,\n",
    "    IntervalOrRatioDataDescr,\n",
    "    LicenseId,\n",
    "    LinkedDataset,\n",
    "    ModelDescr,\n",
    "    OrcidId,\n",
    "    ParameterizedSize,\n",
    "    PytorchStateDictWeightsDescr,\n",
    "    ScaleRangeDescr,\n",
    "    ScaleRangeKwargs,\n",
    "    SpaceInputAxis,\n",
    "    TensorId,\n",
    "    TorchscriptWeightsDescr,\n",
    "    WeightsDescr,\n",
    ")\n",
    "from bioimageio.spec.pretty_validation_errors import (\n",
    "    enable_pretty_validation_errors_in_ipynb,\n",
    ")\n",
    "\n",
    "from spotmax import spotmax_path"
   ]
  },
  {
   "cell_type": "markdown",
   "metadata": {},
   "source": [
    "### Model Input"
   ]
  },
  {
   "cell_type": "code",
   "execution_count": 3,
   "metadata": {},
   "outputs": [
    {
     "data": {
      "text/plain": [
       "(43, 123, 167, dtype('uint8'))"
      ]
     },
     "execution_count": 3,
     "metadata": {},
     "output_type": "execute_result"
    }
   ],
   "source": [
    "import numpy as np\n",
    "\n",
    "model_folder_root = Path(spotmax_path) / 'BioImageIO' / 'SpotMAX_UNet_3D'\n",
    "input_sample_path = model_folder_root / 'input_sample.npy'\n",
    "input_sample = np.load(str(input_sample_path))\n",
    "Z, Y, X = input_sample.shape[-3:]\n",
    "Z, Y, X, input_sample.dtype\n"
   ]
  },
  {
   "cell_type": "code",
   "execution_count": 4,
   "metadata": {},
   "outputs": [
    {
     "name": "stderr",
     "output_type": "stream",
     "text": [
      "computing SHA256 of input_sample.npy (result: b3ebf3e5ef1f0547c2bfc70d2a4e80d23a2d3676c984752d49cdbe3d2525f161): 100%|██████████| 883391/883391 [00:00<00:00, 295330017.92it/s]\n"
     ]
    }
   ],
   "source": [
    "input_descr = InputTensorDescr(\n",
    "    id=TensorId('spots_ch'),\n",
    "    axes=[\n",
    "        BatchAxis(),\n",
    "        SpaceInputAxis(\n",
    "            id=AxisId('z'),\n",
    "            size=43,\n",
    "            concatenable=False\n",
    "        ),\n",
    "        SpaceInputAxis(\n",
    "            id=AxisId('y'),\n",
    "            size=123,\n",
    "            concatenable=False\n",
    "        ),\n",
    "        SpaceInputAxis(\n",
    "            id=AxisId('x'),\n",
    "            size=167,\n",
    "            concatenable=False),\n",
    "    ],\n",
    "    test_tensor=FileDescr(source=input_sample_path),\n",
    "    # sample_tensor=FileDescr(source=input_sample_path),\n",
    "    data=IntervalOrRatioDataDescr(type='float32'),\n",
    ")"
   ]
  },
  {
   "cell_type": "markdown",
   "metadata": {},
   "source": [
    "### Model Output"
   ]
  },
  {
   "cell_type": "code",
   "execution_count": 5,
   "metadata": {},
   "outputs": [
    {
     "data": {
      "text/plain": [
       "(43, 123, 167, dtype('uint8'))"
      ]
     },
     "execution_count": 5,
     "metadata": {},
     "output_type": "execute_result"
    }
   ],
   "source": [
    "output_sample_path = model_folder_root / 'output_sample_mask.npy'\n",
    "output_sample = np.load(str(output_sample_path))\n",
    "Z, Y, X = output_sample.shape[-3:]\n",
    "Z, Y, X, output_sample.dtype"
   ]
  },
  {
   "cell_type": "code",
   "execution_count": 6,
   "metadata": {},
   "outputs": [
    {
     "name": "stderr",
     "output_type": "stream",
     "text": [
      "computing SHA256 of output_sample_mask.npy (result: 6cb2e7854eb5e2b87a3980b5033943e8a554a104c2b492fc02d83fee449af5ee): 100%|██████████| 883391/883391 [00:00<00:00, 295330017.92it/s]\n"
     ]
    }
   ],
   "source": [
    "from bioimageio.spec.model.v0_5 import (\n",
    "    OutputTensorDescr, SizeReference, SpaceOutputAxis\n",
    ")\n",
    "\n",
    "output_descr = OutputTensorDescr(\n",
    "    id=TensorId('spots_mask'),\n",
    "    description='predicted mask of spot areas',\n",
    "    axes=[\n",
    "        BatchAxis(),\n",
    "        # ChannelAxis(channel_names=[Identifier('prediction')]),\n",
    "        SpaceOutputAxis(id=AxisId('z'), size=43),\n",
    "        SpaceOutputAxis(id=AxisId('y'), size=123),\n",
    "        SpaceOutputAxis(id=AxisId('x'), size=167),\n",
    "    ],\n",
    "    test_tensor=FileDescr(source=output_sample_path),\n",
    "    data=IntervalOrRatioDataDescr(type='uint8'),\n",
    ")"
   ]
  },
  {
   "cell_type": "markdown",
   "metadata": {},
   "source": [
    "### Model Architecture"
   ]
  },
  {
   "cell_type": "code",
   "execution_count": 7,
   "metadata": {},
   "outputs": [
    {
     "name": "stderr",
     "output_type": "stream",
     "text": [
      "computing SHA256 of model.py (result: e2e51a57fe9c7bd826d99277016551ee56008390ac9881c1a37e2308390932a1): 100%|██████████| 16693/16693 [00:00<00:00, 16718127.19it/s]\n"
     ]
    },
    {
     "data": {
      "text/plain": [
       "WindowsPath('D:/OneDrive/01_Postdoc_HMGU/GitHub/spotMAX_v2/spotmax/nnet/model.py')"
      ]
     },
     "execution_count": 7,
     "metadata": {},
     "output_type": "execute_result"
    }
   ],
   "source": [
    "import torch\n",
    "\n",
    "from bioimageio.spec.model.v0_5 import (\n",
    "    ArchitectureFromFileDescr,\n",
    "    Version,\n",
    ")\n",
    "\n",
    "model_py_path = Path(spotmax_path) / 'nnet' / 'model.py'\n",
    "\n",
    "pytorch_version = Version(torch.__version__)\n",
    "\n",
    "pytorch_architecture = ArchitectureFromFileDescr(\n",
    "    source=model_py_path,\n",
    "    callable=Identifier('Model'),\n",
    "    kwargs=dict(\n",
    "        model_type='3D', \n",
    "        preprocess_across_experiment=False,\n",
    "        preprocess_across_timepoints=False,\n",
    "        gaussian_filter_sigma=0,\n",
    "        remove_hot_pixels=False,\n",
    "        config_yaml_filepath='./config.yaml', \n",
    "        PhysicalSizeX=0.06725,\n",
    "        resolution_multiplier_yx=1, \n",
    "        use_gpu=True, \n",
    "        save_prediction_map=False, \n",
    "        verbose=False,\n",
    "    )\n",
    ")\n",
    "model_py_path"
   ]
  },
  {
   "cell_type": "markdown",
   "metadata": {},
   "source": [
    "### Create model description"
   ]
  },
  {
   "cell_type": "code",
   "execution_count": 8,
   "metadata": {},
   "outputs": [
    {
     "name": "stderr",
     "output_type": "stream",
     "text": [
      "computing SHA256 of environment.yml (result: ca547f1f74e3fc927983e2102472096e1b7d14dd3d815bced378123d3b881b01): 100%|██████████| 213/213 [00:00<?, ?it/s]\n",
      "computing SHA256 of best_checkpoint.pytorch (result: d64bad76d40bf11a21a35dcda68f44f04bfa38dccc4cbba0127c1b0e1be55814): 100%|██████████| 49045797/49045797 [00:00<00:00, 358957818.64it/s]\n",
      "computing SHA256 of model_usage.py (result: df12c8b65c9707f54819da14317a710b8412294b6d7b9a6d036170c5920ceee8): 100%|██████████| 1972/1972 [00:00<00:00, 1978274.93it/s]\n",
      "\u001b[32m2024-12-13 09:26:42.386\u001b[0m | Level 30\u001b[0m | \u001b[36mbioimageio.spec.model.v0_5\u001b[0m:\u001b[36m_validate_documentation\u001b[0m:\u001b[36m2106\u001b[0m - documentation: No '# Validation' (sub)section found in D:\\OneDrive\\01_Postdoc_HMGU\\GitHub\\spotMAX_v2\\spotmax\\BioImageIO\\SpotMAX_UNet_3D\\README.md.\u001b[0m\n"
     ]
    }
   ],
   "source": [
    "model_descr = ModelDescr(\n",
    "  name='SpotMAX-AI 3D',\n",
    "  description=(\n",
    "    'SpotMAX - 3D fluorescence spot segmentation'\n",
    "  ),\n",
    "  covers=[model_folder_root / 'cover.png'],\n",
    "  authors=[\n",
    "    Author(\n",
    "      name='Francesco Padovani',\n",
    "      affiliation='Helmholtz Munich',\n",
    "      email='padovaf@tcd.ie',\n",
    "      github_user='ElpadoCan',\n",
    "      orcid=OrcidId('0000-0003-2540-8240')\n",
    "    )\n",
    "  ],\n",
    "  maintainers=[\n",
    "    Maintainer(\n",
    "      name='Francesco Padovani',\n",
    "      affiliation='Helmholtz Munich',\n",
    "      email='padovaf@tcd.ie',\n",
    "      github_user='ElpadoCan',\n",
    "      orcid=OrcidId('0000-0003-2540-8240')\n",
    "    )\n",
    "  ],\n",
    "  cite=[\n",
    "    CiteEntry(\n",
    "      text=(\n",
    "        'Padovani, F., Čavka, I., Neves, A. R. R., López, C. P., Al-Refaie, N., '\n",
    "        'Bolcato, L., Chatzitheodoridou, D., Chadha, Y., Su, X.A., Lengefeld, J., '\n",
    "        'Cabianca D. S., Köhler, S., Schmoller, K. M. SpotMAX: a generalist '\n",
    "        'framework for multi-dimensional automatic spot detection and quantification, '\n",
    "        'bioRxiv (2024) DOI: 10.1101/2024.10.22.619610'\n",
    "      ),\n",
    "      doi=Doi('10.1101/2024.10.22.619610'),\n",
    "    )\n",
    "  ],\n",
    "  license=LicenseId('GPL-3.0-only'),\n",
    "  documentation=model_folder_root / 'README.md',\n",
    "  git_repo=HttpUrl('https://github.com/ElpadoCan/SpotMAX'),\n",
    "  links=[\n",
    "    HttpUrl('https://spotmax.readthedocs.io/en/latest/')\n",
    "  ],\n",
    "  tags=[\n",
    "      'spot-detection',\n",
    "      'diffraction-limited-spots',\n",
    "      'pytorch',\n",
    "      'fluorescence-light-microscopy',\n",
    "      'spotmax',\n",
    "  ],\n",
    "  # training_data=LinkedDataset(id=DatasetId('uplifting-ice-cream')),\n",
    "  inputs=[input_descr],\n",
    "  outputs=[output_descr],\n",
    "  weights=WeightsDescr(\n",
    "      pytorch_state_dict=PytorchStateDictWeightsDescr(\n",
    "          source=model_folder_root / 'best_checkpoint.pytorch',\n",
    "          architecture=pytorch_architecture,\n",
    "          pytorch_version=pytorch_version,\n",
    "          dependencies=EnvironmentFileDescr(\n",
    "            source=model_folder_root / 'environment.yml'\n",
    "          )\n",
    "      ),\n",
    "  ),\n",
    "  attachments=[\n",
    "    FileDescr(source=model_folder_root / 'model_usage.py'),\n",
    "    FileDescr(source=model_folder_root / 'config.yaml'),\n",
    "  ],\n",
    ")"
   ]
  },
  {
   "cell_type": "markdown",
   "metadata": {},
   "source": [
    "### Test the model"
   ]
  },
  {
   "cell_type": "code",
   "execution_count": 9,
   "metadata": {},
   "outputs": [
    {
     "name": "stderr",
     "output_type": "stream",
     "text": [
      "\u001b[32m2024-12-13 09:27:20.859\u001b[0m | \u001b[34m\u001b[1mDEBUG   \u001b[0m | \u001b[36mbioimageio.core._resource_tests\u001b[0m:\u001b[36menable_determinism\u001b[0m:\u001b[36m93\u001b[0m - \u001b[34m\u001b[1mmodule 'tensorflow._api.v2.random' has no attribute 'seed'\u001b[0m\n",
      "\u001b[32m2024-12-13 09:27:20.860\u001b[0m | \u001b[1mINFO    \u001b[0m | \u001b[36mbioimageio.core._resource_tests\u001b[0m:\u001b[36m_test_model_inference\u001b[0m:\u001b[36m226\u001b[0m - \u001b[1mstarting 'Reproduce test outputs from test inputs (pytorch_state_dict)'\u001b[0m\n",
      "\u001b[32m2024-12-13 09:29:47.992\u001b[0m | \u001b[1mINFO    \u001b[0m | \u001b[36mbioimageio.core._resource_tests\u001b[0m:\u001b[36m_test_model_inference_parametrized\u001b[0m:\u001b[36m317\u001b[0m - \u001b[1mTesting inference with 2 different input tensor sizes\u001b[0m\n",
      "                                                                                                    \r"
     ]
    }
   ],
   "source": [
    "from bioimageio.core import test_model\n",
    "\n",
    "validation_summary = test_model(model_descr)"
   ]
  },
  {
   "cell_type": "code",
   "execution_count": 10,
   "metadata": {},
   "outputs": [
    {
     "data": {
      "text/markdown": [
       "\n",
       "|        ✔️       | bioimageio format validation passed |\n",
       "|       ---       |                 ---                 |\n",
       "| source          | in-memory                           |\n",
       "| format version  | model 0.5.3                         |\n",
       "| bioimageio.spec | 0.5.3.5                             |\n",
       "| bioimageio.core | 0.7.0                               |\n",
       "\n",
       "|  ❓  |           location           |                                                                                                                                                                                                detail                                                                                                                                                                                               |\n",
       "| --- |             ---              |                                                                                                                                                                                                 ---                                                                                                                                                                                                 |\n",
       "| ✔️  | `.`                          | initialized ModelDescr to describe model 0.5.3                                                                                                                                                                                                                                                                                                                                                      |\n",
       "| ✔️  | `type`                       | Has expected resource type                                                                                                                                                                                                                                                                                                                                                                          |\n",
       "| ✔️  | `weights.pytorch_state_dict` | Reproduce test outputs from test inputs (pytorch_state_dict)                                                                                                                                                                                                                                                                                                                                        |\n",
       "| 🐍   | `weights.pytorch_state_dict` | recommended conda env (Reproduce test outputs from test inputs (pytorch_state_dict))<br><pre><code>channels: [conda-forge, fastai, nodefaults]</code><br><code>dependencies:</code><br><code>- pip</code><br><code>- python=3.11</code><br><code>- pip: [cellacdc, opencv-python-headless, pytorch3dunet-spotmax, pyyaml, spotmax]</code><br><code>name: spotmax_biio</code><br><code></code></pre> |\n",
       "| 🐍   | `weights.pytorch_state_dict` | conda compare ({d.name}):<br>python found but mismatch. Specification pkg: python=3.11, Running pkg: python==3.10.14=h4de0772_0_cpython<br>pytorch3dunet-spotmax not found<br>                                                                                                                                                                                                                      |\n",
       "| ✔️  | `weights.pytorch_state_dict` | Run pytorch_state_dict inference for inputs with batch_size: 1 and size parameter n: 0                                                                                                                                                                                                                                                                                                              |\n",
       "| ✔️  | `weights.pytorch_state_dict` | Run pytorch_state_dict inference for inputs with batch_size: 2 and size parameter n: 0                                                                                                                                                                                                                                                                                                              |\n"
      ],
      "text/plain": [
       "<IPython.core.display.Markdown object>"
      ]
     },
     "metadata": {},
     "output_type": "display_data"
    }
   ],
   "source": [
    "validation_summary.display()"
   ]
  },
  {
   "cell_type": "markdown",
   "metadata": {},
   "source": [
    "### Package the model\n",
    "\n",
    "Save all the model files to a zip file that can be uploaded to BioImage.IO"
   ]
  },
  {
   "cell_type": "code",
   "execution_count": 11,
   "metadata": {},
   "outputs": [
    {
     "name": "stderr",
     "output_type": "stream",
     "text": [
      "computing SHA256 of model_usage.py (result: df12c8b65c9707f54819da14317a710b8412294b6d7b9a6d036170c5920ceee8):   0%|          | 0/1972 [00:00<?, ?it/s]\n",
      "computing SHA256 of input_sample.npy (result: b3ebf3e5ef1f0547c2bfc70d2a4e80d23a2d3676c984752d49cdbe3d2525f161):   0%|          | 0/883391 [00:00<?, ?it/s]\n",
      "computing SHA256 of output_sample_mask.npy (result: 6cb2e7854eb5e2b87a3980b5033943e8a554a104c2b492fc02d83fee449af5ee):   0%|          | 0/883391 [00:00<?, ?it/s]\n",
      "computing SHA256 of model.py (result: e2e51a57fe9c7bd826d99277016551ee56008390ac9881c1a37e2308390932a1):   0%|          | 0/16693 [00:00<?, ?it/s]\n",
      "computing SHA256 of environment.yml (result: ca547f1f74e3fc927983e2102472096e1b7d14dd3d815bced378123d3b881b01):   0%|          | 0/213 [00:00<?, ?it/s]\n",
      "computing SHA256 of best_checkpoint.pytorch (result: d64bad76d40bf11a21a35dcda68f44f04bfa38dccc4cbba0127c1b0e1be55814):   0%|          | 0/49045797 [00:00<?, ?it/s]"
     ]
    },
    {
     "name": "stdout",
     "output_type": "stream",
     "text": [
      "Package path: D:\\OneDrive\\01_Postdoc_HMGU\\GitHub\\spotMAX_v2\\spotmax\\BioImageIO\\SpotMAX_UNet_3D\\SpotMAX_AI_2D.zip\n"
     ]
    },
    {
     "name": "stderr",
     "output_type": "stream",
     "text": [
      "\n"
     ]
    }
   ],
   "source": [
    "from pathlib import Path\n",
    "\n",
    "from bioimageio.spec import save_bioimageio_package\n",
    "\n",
    "print(\n",
    "    'Package path:',\n",
    "    save_bioimageio_package(\n",
    "        model_descr, \n",
    "        output_path=model_folder_root / 'SpotMAX_AI_3D.zip'\n",
    "    ),\n",
    ")"
   ]
  }
 ],
 "metadata": {
  "kernelspec": {
   "display_name": "base",
   "language": "python",
   "name": "python3"
  },
  "language_info": {
   "codemirror_mode": {
    "name": "ipython",
    "version": 3
   },
   "file_extension": ".py",
   "mimetype": "text/x-python",
   "name": "python",
   "nbconvert_exporter": "python",
   "pygments_lexer": "ipython3",
   "version": "3.10.15"
  }
 },
 "nbformat": 4,
 "nbformat_minor": 2
}
