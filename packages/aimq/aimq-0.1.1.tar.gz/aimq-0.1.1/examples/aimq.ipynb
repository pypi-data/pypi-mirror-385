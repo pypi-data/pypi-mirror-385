{
 "cells": [
  {
   "cell_type": "code",
   "execution_count": 1,
   "metadata": {},
   "outputs": [],
   "source": [
    "from rich import print\n",
    "from pydantic import BaseModel, Field\n",
    "\n",
    "from aimq.worker import Worker\n",
    "from aimq.helpers import assign, const, pick, orig, echo, select\n",
    "from aimq.tools.supabase import WriteRecord, ReadRecord, ReadFile, WriteFile, Enqueue\n",
    "from aimq.tools.pdf import PageSplitter\n",
    "\n",
    "from aimq.clients.supabase import supabase\n",
    "from aimq.clients.mistral import mistral\n",
    "\n"
   ]
  },
  {
   "cell_type": "code",
   "execution_count": 2,
   "metadata": {},
   "outputs": [],
   "source": [
    "worker = Worker()\n",
    "\n",
    "\"\"\"Attachment details.\"\"\"\n",
    "class AttachmentDetails(BaseModel):\n",
    "    summary: str = Field(..., description=\"Summary of the attachment\")\n",
    "    sentiment: str = Field(..., description=\"Sentiment of the attachment as a range from -1.00 to 1.00\")"
   ]
  },
  {
   "cell_type": "code",
   "execution_count": 3,
   "metadata": {},
   "outputs": [
    {
     "data": {
      "text/plain": [
       "61"
      ]
     },
     "execution_count": 3,
     "metadata": {},
     "output_type": "execute_result"
    }
   ],
   "source": [
    "@worker.task()\n",
    "def example(data: dict):\n",
    "    path = data.get(\"storagePath\")\n",
    "    attachment_id = data.get(\"attachmentId\")\n",
    "    supabase.client.table(\"attachments\").update({\"status\": \"processing\"}).eq(\"id\", attachment_id).execute()\n",
    "\n",
    "    file_data = supabase.client.storage.from_(\"attachments\").download(path)\n",
    "    uploaded_file = mistral.client.files.upload(file={\"file_name\": path, \"content\": file_data}, purpose=\"ocr\")\n",
    "    signed_url = mistral.client.files.get_signed_url(file_id=uploaded_file.id)\n",
    "    ocr_result = mistral.client.ocr.process(\n",
    "        model=\"mistral-ocr-latest\",\n",
    "        document={\"type\": \"document_url\", \"document_url\": signed_url.url}\n",
    "    )\n",
    "    # serialize ocr_result\n",
    "    ocr_result = ocr_result.model_dump()\n",
    "    # combine all pages into one string\n",
    "    ocr_content = \"\\n\".join([page[\"markdown\"] for page in ocr_result[\"pages\"]])\n",
    "\n",
    "    print(ocr_content)\n",
    "    \n",
    "    details = mistral.client.chat.parse(\n",
    "        messages=[\n",
    "            {\"role\": \"system\", \"content\": \"You are a summarizer. Given some markdown, summarize it and analyze the sentiment. sentiment is on a scale of -1.00 to 1.00 where -1.00 is very negative and 1.00 is very positive. 0 is neutral but should be avoided.\"},\n",
    "            {\"role\": \"user\", \"content\": ocr_content}\n",
    "        ],\n",
    "        model=\"mistral-large-latest\",\n",
    "        response_format=AttachmentDetails,\n",
    "        temperature=0.0\n",
    "    )\n",
    "    supabase.client.table(\"attachments\").update({\"content\": ocr_result, \"status\": \"processed\"}).eq(\"id\", attachment_id).execute()\n",
    "    return {\n",
    "        \"signed_url\": signed_url.url,\n",
    "        \"file_id\": uploaded_file.id,\n",
    "        \"attachment_id\": attachment_id,\n",
    "        \"details\": details.model_dump() \n",
    "    }\n",
    "\n",
    "worker.send(\"example\", {\n",
    "  \"fileSize\": 38366,\n",
    "  \"metadata\": {\n",
    "    \"eTag\": \"\\\"ab6bb464d6d465973193aec6160da55b\\\"\",\n",
    "    \"size\": 38366,\n",
    "    \"mimetype\": \"application/pdf\",\n",
    "    \"cacheControl\": \"no-cache\",\n",
    "    \"lastModified\": \"2025-09-16T14:09:39.369Z\",\n",
    "    \"contentLength\": 38366,\n",
    "    \"httpStatusCode\": 200\n",
    "  },\n",
    "  \"mimeType\": \"application/pdf\",\n",
    "  \"queuedAt\": \"2025-09-16T14:09:39.400713+00:00\",\n",
    "  \"channelId\": \"8ed1a67c-763e-4ada-a492-2fc16694d989\",\n",
    "  \"messageId\": \"4ccdcf31-c397-44e3-9036-08ea404c133a\",\n",
    "  \"storagePath\": \"de7d6ea0-5a28-49ad-a44c-29df0153d973/original.pdf\",\n",
    "  \"workspaceId\": \"dcec4c63-047e-45e9-bd13-6870c21a45b3\",\n",
    "  \"attachmentId\": \"de7d6ea0-5a28-49ad-a44c-29df0153d973\"\n",
    "})\n"
   ]
  },
  {
   "cell_type": "code",
   "execution_count": 4,
   "metadata": {},
   "outputs": [],
   "source": [
    "worker.start(block=False)"
   ]
  },
  {
   "cell_type": "code",
   "execution_count": null,
   "metadata": {},
   "outputs": [],
   "source": [
    "worker.log(block=False)\n",
    "worker.stop()"
   ]
  }
 ],
 "metadata": {
  "kernelspec": {
   "display_name": ".venv",
   "language": "python",
   "name": "python3"
  },
  "language_info": {
   "codemirror_mode": {
    "name": "ipython",
    "version": 3
   },
   "file_extension": ".py",
   "mimetype": "text/x-python",
   "name": "python",
   "nbconvert_exporter": "python",
   "pygments_lexer": "ipython3",
   "version": "3.12.10"
  }
 },
 "nbformat": 4,
 "nbformat_minor": 2
}
