{
 "cells": [
  {
   "cell_type": "markdown",
   "metadata": {},
   "source": [
    "Run Rag-KMK in a terminal:"
   ]
  },
  {
   "cell_type": "code",
   "execution_count": null,
   "metadata": {},
   "outputs": [],
   "source": [
    "#pip install rag-kmk\n",
    "from rag_kmk.knowledge_base import build_knowledge_base  \n",
    "from rag_kmk.vector_db import summarize_collection \n",
    "from rag_kmk.chat_flow import RAG_LLM, run_rag_pipeline    \n",
    "\n",
    "def main():\n",
    "    knowledge_base= build_knowledge_base(r'.\\files') \n",
    "    if knowledge_base is None:\n",
    "        print('No knowledge base created. Exiting')\n",
    "        return \n",
    "    summarize_collection(knowledge_base) \n",
    "    run_rag_pipeline(RAG_LLM,knowledge_base)\n",
    "\n",
    "if __name__ == \"__main__\":\n",
    "    main()"
   ]
  },
  {
   "cell_type": "markdown",
   "metadata": {},
   "source": [
    "If you want to have an interface, use the below code:"
   ]
  },
  {
   "cell_type": "markdown",
   "metadata": {},
   "source": [
    "```python\n",
    "#pip install rag-kmk\n",
    "#pip install streamlit\n",
    "#streamlit run test.py\n",
    "from rag_kmk.knowledge_base import build_knowledge_base  \n",
    "from rag_kmk.vector_db import summarize_collection \n",
    "from rag_kmk.chat_flow import RAG_LLM, generateAnswer\n",
    "import streamlit as st\n",
    "\n",
    "def main_interface():\n",
    "    st.title(\"🦜 RAG KMK\")\n",
    "\n",
    "\n",
    "    # Load knowledge base\n",
    "    if \"knowledge_base\" not in st.session_state :\n",
    "        with st.status(\"Wait: Loading knowledge base...\") as status:\n",
    "            knowledge_base= build_knowledge_base(r'.\\files') \n",
    "            if knowledge_base: \n",
    "                summarize_collection(knowledge_base) \n",
    "                st.session_state.knowledge_base = knowledge_base\n",
    "                status.update(label=\"Knowledge Base is ready!\", state=\"complete\")\n",
    "            else:\n",
    "                status.update(label=\"No documents loaded.\", state=\"error\")\n",
    "    \n",
    "\n",
    "    # Initialize chat history\n",
    "    if \"messages\" not in st.session_state:\n",
    "        st.session_state.messages = []\n",
    "\n",
    "    # Display chat messages from history on app rerun\n",
    "    for message in st.session_state.messages:\n",
    "        with st.chat_message(message[\"role\"]):\n",
    "            st.markdown(message[\"content\"])\n",
    "\n",
    "    # React to user input\n",
    "    if prompt := st.chat_input(\"Write your query here...\"):\n",
    "        # Display user message in chat message container\n",
    "        st.chat_message(\"user\").markdown(prompt)\n",
    "        # Add user message to chat history\n",
    "        st.session_state.messages.append({\"role\": \"user\", \"content\": prompt})\n",
    "\n",
    "        response = generateAnswer(RAG_LLM, st.session_state.knowledge_base, prompt)\n",
    "\n",
    "        # Display assistant response in chat message container\n",
    "        with st.chat_message(\"assistant\"):\n",
    "            st.markdown(response)\n",
    "        # Add assistant response to chat history\n",
    "        st.session_state.messages.append({\"role\": \"assistant\", \"content\": response})\n",
    "\n",
    "\n",
    "if __name__ == \"__main__\":\n",
    "    main_interface()\n",
    "```\n",
    "```"
   ]
  },
  {
   "cell_type": "code",
   "execution_count": null,
   "metadata": {},
   "outputs": [],
   "source": []
  }
 ],
 "metadata": {
  "language_info": {
   "name": "python"
  },
  "orig_nbformat": 4
 },
 "nbformat": 4,
 "nbformat_minor": 2
}
