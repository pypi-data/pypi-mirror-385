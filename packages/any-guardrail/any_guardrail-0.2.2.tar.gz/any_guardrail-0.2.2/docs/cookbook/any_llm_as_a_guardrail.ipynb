{
 "cells": [
  {
   "cell_type": "markdown",
   "id": "6f4c4534",
   "metadata": {},
   "source": [
    "# Using Any LLM as a Guardrail\n",
    "\n",
    "This tutorial will show you how to use any LLM as a baseline guardrail that can\n",
    "validate input text against a custom `policy`, using the built-in guardrail based on [`any-llm`](https://github.com/mozilla-ai/any-llm)."
   ]
  },
  {
   "cell_type": "markdown",
   "id": "71eb0a2c",
   "metadata": {},
   "source": [
    "## Install dependencies"
   ]
  },
  {
   "cell_type": "code",
   "execution_count": null,
   "id": "6b2df9f2",
   "metadata": {},
   "outputs": [],
   "source": [
    "%pip install 'any-guardrail'\n",
    "\n",
    "import nest_asyncio\n",
    "\n",
    "nest_asyncio.apply()"
   ]
  },
  {
   "cell_type": "markdown",
   "id": "2dc5a126",
   "metadata": {},
   "source": [
    "We will be using a model from `openai` by default, but you can check\n",
    "the different providers supported in `any-llm`:\n",
    "\n",
    "https://mozilla-ai.github.io/any-llm/providers/"
   ]
  },
  {
   "cell_type": "code",
   "execution_count": 8,
   "id": "a2b07ef9",
   "metadata": {},
   "outputs": [
    {
     "name": "stdout",
     "output_type": "stream",
     "text": [
      "OPENAI_API_KEY found in environment.\n"
     ]
    }
   ],
   "source": [
    "import os\n",
    "from getpass import getpass\n",
    "\n",
    "if \"OPENAI_API_KEY\" not in os.environ:\n",
    "    print(\"OPENAI_API_KEY not found in environment!\")\n",
    "    api_key = getpass(\"Please enter your OPENAI_API_KEY: \")\n",
    "    os.environ[\"OPENAI_API_KEY\"] = api_key\n",
    "    print(\"OPENAI_API_KEY set for this session!\")\n",
    "else:\n",
    "    print(\"OPENAI_API_KEY found in environment.\")"
   ]
  },
  {
   "cell_type": "markdown",
   "id": "aa0c4333",
   "metadata": {},
   "source": [
    "## Create the guardrail"
   ]
  },
  {
   "cell_type": "code",
   "execution_count": 3,
   "id": "5e61ecea",
   "metadata": {},
   "outputs": [],
   "source": [
    "from any_guardrail import AnyGuardrail, GuardrailName"
   ]
  },
  {
   "cell_type": "code",
   "execution_count": 4,
   "id": "535e040e",
   "metadata": {},
   "outputs": [],
   "source": [
    "guardrail = AnyGuardrail.create(GuardrailName.ANYLLM)"
   ]
  },
  {
   "cell_type": "markdown",
   "id": "7c010e36",
   "metadata": {},
   "source": [
    "## Try it with different models / policies / inputs"
   ]
  },
  {
   "cell_type": "code",
   "execution_count": 5,
   "id": "cd7d37ff",
   "metadata": {},
   "outputs": [],
   "source": [
    "MODEL_ID = \"openai/gpt-5-nano\"\n",
    "\n",
    "POLICY = \"\"\"\n",
    "You hate Mondays.\n",
    "You must reject any request related with planning activities on Mondays.\n",
    "\"\"\""
   ]
  },
  {
   "cell_type": "code",
   "execution_count": 6,
   "id": "5956c08a",
   "metadata": {},
   "outputs": [
    {
     "data": {
      "text/plain": [
       "GuardrailOutput(valid=False, explanation='The user requested planning lunch options specifically for Monday, which is planning activities on Monday. The policy requires rejecting Monday planning requests.', score=0.92)"
      ]
     },
     "execution_count": 6,
     "metadata": {},
     "output_type": "execute_result"
    }
   ],
   "source": [
    "guardrail.validate(\"Can you suggest me some restaurants for lunch on Monday?\", policy=POLICY, model_id=MODEL_ID)"
   ]
  },
  {
   "cell_type": "code",
   "execution_count": 7,
   "id": "218019a9",
   "metadata": {},
   "outputs": [
    {
     "data": {
      "text/plain": [
       "GuardrailOutput(valid=True, explanation='The user asks for lunch restaurant suggestions on Friday. The policy forbids planning activities on Mondays, which does not apply here.', score=0.87)"
      ]
     },
     "execution_count": 7,
     "metadata": {},
     "output_type": "execute_result"
    }
   ],
   "source": [
    "guardrail.validate(\"Can you suggest me some restaurants for lunch on Friday?\", policy=POLICY, model_id=MODEL_ID)"
   ]
  }
 ],
 "metadata": {
  "kernelspec": {
   "display_name": "any-guardrail",
   "language": "python",
   "name": "python3"
  },
  "language_info": {
   "codemirror_mode": {
    "name": "ipython",
    "version": 3
   },
   "file_extension": ".py",
   "mimetype": "text/x-python",
   "name": "python",
   "nbconvert_exporter": "python",
   "pygments_lexer": "ipython3",
   "version": "3.13.1"
  }
 },
 "nbformat": 4,
 "nbformat_minor": 5
}
