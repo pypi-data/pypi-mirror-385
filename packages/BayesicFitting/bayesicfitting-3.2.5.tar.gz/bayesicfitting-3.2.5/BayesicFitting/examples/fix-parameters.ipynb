{
 "cells": [
  {
   "cell_type": "markdown",
   "metadata": {},
   "source": [
    "## Purpose: Fixed parameters in fitting\n",
    "\n",
    "Learn the difference between the 3 options.\n",
    "\n",
    "Demonstration: \n",
    "1. Parameter fit with fixed parameters\n",
    "2. Fitter with fixed parameters\n",
    "3. Model with fixed parameters\n",
    "\n",
    "Author: Do Kester\n"
   ]
  },
  {
   "cell_type": "markdown",
   "metadata": {},
   "source": [
    "import classes"
   ]
  },
  {
   "cell_type": "code",
   "execution_count": 1,
   "metadata": {
    "execution": {
     "iopub.execute_input": "2023-07-04T22:38:18.838304Z",
     "iopub.status.busy": "2023-07-04T22:38:18.837657Z",
     "iopub.status.idle": "2023-07-04T22:38:19.656069Z",
     "shell.execute_reply": "2023-07-04T22:38:19.656221Z"
    }
   },
   "outputs": [],
   "source": [
    "import numpy as numpy\n",
    "import math\n",
    "\n",
    "from BayesicFitting import PolynomialModel\n",
    "from BayesicFitting import Fitter\n",
    "from BayesicFitting import formatter as fmt\n",
    "from BayesicFitting import plotFit\n",
    "import matplotlib.pyplot as plt"
   ]
  },
  {
   "cell_type": "markdown",
   "metadata": {},
   "source": [
    "define some constants"
   ]
  },
  {
   "cell_type": "code",
   "execution_count": 2,
   "metadata": {
    "execution": {
     "iopub.execute_input": "2023-07-04T22:38:19.657910Z",
     "iopub.status.busy": "2023-07-04T22:38:19.657643Z",
     "iopub.status.idle": "2023-07-04T22:38:19.658977Z",
     "shell.execute_reply": "2023-07-04T22:38:19.659113Z"
    }
   },
   "outputs": [],
   "source": [
    "N = 21\n",
    "sig = 0.1"
   ]
  },
  {
   "cell_type": "markdown",
   "metadata": {},
   "source": [
    "make a 3-degree polynomial"
   ]
  },
  {
   "cell_type": "code",
   "execution_count": 3,
   "metadata": {
    "execution": {
     "iopub.execute_input": "2023-07-04T22:38:19.661460Z",
     "iopub.status.busy": "2023-07-04T22:38:19.661192Z",
     "iopub.status.idle": "2023-07-04T22:38:19.662580Z",
     "shell.execute_reply": "2023-07-04T22:38:19.662741Z"
    }
   },
   "outputs": [],
   "source": [
    "x = numpy.linspace( -2.0, 3.0, N, dtype=float )\n",
    "ym = 1.2 + 0.5 * x + 0.33 * x * x + 0.27 * x * x * x\n",
    "\n",
    "numpy.random.seed( 9876 )\n",
    "y = ym + sig * numpy.random.randn( N )\n"
   ]
  },
  {
   "cell_type": "markdown",
   "metadata": {},
   "source": [
    "Define the fitter: Fitter.<br>\n",
    "First run the fit without any kept parameters; then with p_1 = 1.8. Note the larger stdevs."
   ]
  },
  {
   "cell_type": "code",
   "execution_count": 4,
   "metadata": {
    "execution": {
     "iopub.execute_input": "2023-07-04T22:38:19.666389Z",
     "iopub.status.busy": "2023-07-04T22:38:19.665711Z",
     "iopub.status.idle": "2023-07-04T22:38:19.714693Z",
     "shell.execute_reply": "2023-07-04T22:38:19.714869Z"
    }
   },
   "outputs": [
    {
     "name": "stdout",
     "output_type": "stream",
     "text": [
      "par0   [    1.165    0.504    0.341    0.271] \n",
      "stdv   [    0.022    0.020    0.010    0.005]\n",
      "par1   [    0.803    1.800    0.606    0.002] \n",
      "stdv   [    0.314    0.290    0.144    0.072]\n"
     ]
    },
    {
     "data": {
      "image/png": "[encoded data removed]",
      "text/plain": [
       "<Figure size 504x360 with 1 Axes>"
      ]
     },
     "metadata": {
      "needs_background": "light"
     },
     "output_type": "display_data"
    }
   ],
   "source": [
    "poly = PolynomialModel( 3 )\n",
    "fitter = Fitter( x, poly )\n",
    "par0 = fitter.fit( y )\n",
    "stdv0 = fitter.stdevs\n",
    "print( \"par0  \", fmt( par0 ), \"\\nstdv  \", fmt( stdv0 ) )\n",
    "plotFit( x, y, model=poly, show=False )\n",
    "# plot the \"thruth\" as blue crosses\n",
    "plt.plot( x, ym, 'b+' )\n",
    "par1 = fitter.fit( y, keep={1:1.8} )\n",
    "stdv1 = fitter.stdevs\n",
    "print( \"par1  \", fmt( par1 ), \"\\nstdv  \", fmt( stdv1 ) )\n",
    "plotFit( x, model=poly )\n"
   ]
  },
  {
   "cell_type": "markdown",
   "metadata": {},
   "source": [
    "Now set p_1 = 1.8, in the fitter itself. The fitter will know that it is excluded, when fitting but also for the stdevs. It returns 0.0 for all parameters that are kept."
   ]
  },
  {
   "cell_type": "code",
   "execution_count": 5,
   "metadata": {
    "execution": {
     "iopub.execute_input": "2023-07-04T22:38:19.722323Z",
     "iopub.status.busy": "2023-07-04T22:38:19.721582Z",
     "iopub.status.idle": "2023-07-04T22:38:19.756874Z",
     "shell.execute_reply": "2023-07-04T22:38:19.757097Z"
    }
   },
   "outputs": [
    {
     "name": "stdout",
     "output_type": "stream",
     "text": [
      "par0   [    0.803    1.800    0.606    0.002] \n",
      "stdv   [    0.320    0.000    0.138    0.042]\n"
     ]
    },
    {
     "data": {
      "image/png": "[encoded data removed]",
      "text/plain": [
       "<Figure size 504x360 with 1 Axes>"
      ]
     },
     "metadata": {
      "needs_background": "light"
     },
     "output_type": "display_data"
    }
   ],
   "source": [
    "poly = PolynomialModel( 3 )\n",
    "fitter = Fitter( x, poly, keep={1:1.8} )\n",
    "par0 = fitter.fit( y )\n",
    "stdv0 = fitter.stdevs\n",
    "print( \"par0  \", fmt( par0 ), \"\\nstdv  \", fmt( stdv0 ) )\n",
    "plotFit( x, y, model=poly )\n",
    "\n"
   ]
  },
  {
   "cell_type": "markdown",
   "metadata": {},
   "source": [
    "Now fix a parameter directly in the model. The effect is that the parameter disappears from the parameter list."
   ]
  },
  {
   "cell_type": "code",
   "execution_count": 6,
   "metadata": {
    "execution": {
     "iopub.execute_input": "2023-07-04T22:38:19.771896Z",
     "iopub.status.busy": "2023-07-04T22:38:19.771201Z",
     "iopub.status.idle": "2023-07-04T22:38:19.799310Z",
     "shell.execute_reply": "2023-07-04T22:38:19.799484Z"
    }
   },
   "outputs": [
    {
     "name": "stdout",
     "output_type": "stream",
     "text": [
      "par0   [    0.803    0.606    0.002] \n",
      "stdv   [    0.320    0.138    0.042]\n"
     ]
    },
    {
     "data": {
      "image/png": "[encoded data removed]",
      "text/plain": [
       "<Figure size 504x360 with 1 Axes>"
      ]
     },
     "metadata": {
      "needs_background": "light"
     },
     "output_type": "display_data"
    }
   ],
   "source": [
    "poly = PolynomialModel( 3, fixed={1:1.8} )\n",
    "fitter = Fitter( x, poly )\n",
    "par0 = fitter.fit( y )\n",
    "stdv0 = fitter.stdevs\n",
    "print( \"par0  \", fmt( par0 ), \"\\nstdv  \", fmt( stdv0 ) )\n",
    "plotFit( x, y, model=poly )\n"
   ]
  },
  {
   "cell_type": "code",
   "execution_count": null,
   "metadata": {},
   "outputs": [],
   "source": []
  }
 ],
 "metadata": {
  "anaconda-cloud": {},
  "kernelspec": {
   "display_name": "Python 3 (ipykernel)",
   "language": "python",
   "name": "python3"
  },
  "language_info": {
   "codemirror_mode": {
    "name": "ipython",
    "version": 3
   },
   "file_extension": ".py",
   "mimetype": "text/x-python",
   "name": "python",
   "nbconvert_exporter": "python",
   "pygments_lexer": "ipython3",
   "version": "3.8.12"
  }
 },
 "nbformat": 4,
 "nbformat_minor": 1
}
