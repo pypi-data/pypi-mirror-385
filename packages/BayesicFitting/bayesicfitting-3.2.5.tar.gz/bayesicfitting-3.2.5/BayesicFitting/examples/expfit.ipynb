{
 "cells": [
  {
   "cell_type": "markdown",
   "metadata": {},
   "source": [
    "## Exponential decay process \n",
    "\n",
    "Demonstration: \n",
    "1. Counting data from a exponentially decaying process\n",
    "2. Exponential model\n",
    "3. Maximum likelihood \n",
    "4. Poisson error distribution.\n",
    "5. AmoebaFitter with several other error distributions.\n",
    "\n",
    "Author: Do Kester\n"
   ]
  },
  {
   "cell_type": "markdown",
   "metadata": {},
   "source": [
    "import classes"
   ]
  },
  {
   "cell_type": "code",
   "execution_count": 1,
   "metadata": {
    "execution": {
     "iopub.execute_input": "2023-07-04T22:38:16.855062Z",
     "iopub.status.busy": "2023-07-04T22:38:16.854418Z",
     "iopub.status.idle": "2023-07-04T22:38:17.676462Z",
     "shell.execute_reply": "2023-07-04T22:38:17.676626Z"
    }
   },
   "outputs": [],
   "source": [
    "import numpy as numpy\n",
    "import math\n",
    "\n",
    "from BayesicFitting import ExpModel\n",
    "from BayesicFitting import PolynomialModel\n",
    "from BayesicFitting import PoissonErrorDistribution\n",
    "from BayesicFitting import AmoebaFitter\n",
    "from BayesicFitting import formatter as fmt\n",
    "from BayesicFitting import plotFit\n",
    "from BayesicFitting import printclass\n",
    "import matplotlib.pyplot as plt\n"
   ]
  },
  {
   "cell_type": "markdown",
   "metadata": {},
   "source": [
    "define some constants"
   ]
  },
  {
   "cell_type": "code",
   "execution_count": 2,
   "metadata": {
    "execution": {
     "iopub.execute_input": "2023-07-04T22:38:17.678362Z",
     "iopub.status.busy": "2023-07-04T22:38:17.678087Z",
     "iopub.status.idle": "2023-07-04T22:38:17.679498Z",
     "shell.execute_reply": "2023-07-04T22:38:17.679671Z"
    }
   },
   "outputs": [],
   "source": [
    "N = 201\n",
    "a = 17.8\n",
    "b = -0.2"
   ]
  },
  {
   "cell_type": "markdown",
   "metadata": {},
   "source": [
    "make a 3-degree polynomial"
   ]
  },
  {
   "cell_type": "code",
   "execution_count": 3,
   "metadata": {
    "execution": {
     "iopub.execute_input": "2023-07-04T22:38:17.685690Z",
     "iopub.status.busy": "2023-07-04T22:38:17.685394Z",
     "iopub.status.idle": "2023-07-04T22:38:17.728183Z",
     "shell.execute_reply": "2023-07-04T22:38:17.728353Z"
    }
   },
   "outputs": [
    {
     "data": {
      "image/png": "[encoded data removed]",
      "text/plain": [
       "<Figure size 504x360 with 1 Axes>"
      ]
     },
     "metadata": {
      "needs_background": "light"
     },
     "output_type": "display_data"
    }
   ],
   "source": [
    "x = numpy.linspace( 0.0, 20.0, N, dtype=float )\n",
    "ym = a * numpy.exp( b * x )\n",
    "\n",
    "numpy.random.seed( 3456 )\n",
    "#y = ym + numpy.random.lognormal( ym, numpy.sqrt( ym ), N )\n",
    "#y = numpy.asarray( y, dtype=int )\n",
    "y = numpy.random.poisson( ym )\n",
    "# plot the data along with the \"truth\"\n",
    "plotFit( x, y, show=False )\n",
    "plt.plot( x, ym, 'b+')\n",
    "plt.show()"
   ]
  },
  {
   "cell_type": "markdown",
   "metadata": {},
   "source": [
    "Define the model"
   ]
  },
  {
   "cell_type": "code",
   "execution_count": 4,
   "metadata": {
    "execution": {
     "iopub.execute_input": "2023-07-04T22:38:17.730159Z",
     "iopub.status.busy": "2023-07-04T22:38:17.729893Z",
     "iopub.status.idle": "2023-07-04T22:38:17.731320Z",
     "shell.execute_reply": "2023-07-04T22:38:17.731501Z"
    }
   },
   "outputs": [
    {
     "name": "stdout",
     "output_type": "stream",
     "text": [
      "Exp: f( x:p ) = p_0 * exp( p_1 * x )\n"
     ]
    }
   ],
   "source": [
    "mdl = ExpModel( )\n",
    "print( mdl )\n"
   ]
  },
  {
   "cell_type": "markdown",
   "metadata": {},
   "source": [
    "define the fitter: AmoebaFitter with error distribution"
   ]
  },
  {
   "cell_type": "code",
   "execution_count": 5,
   "metadata": {
    "execution": {
     "iopub.execute_input": "2023-07-04T22:38:17.737010Z",
     "iopub.status.busy": "2023-07-04T22:38:17.736701Z",
     "iopub.status.idle": "2023-07-04T22:38:17.738551Z",
     "shell.execute_reply": "2023-07-04T22:38:17.738718Z"
    }
   },
   "outputs": [
    {
     "name": "stdout",
     "output_type": "stream",
     "text": [
      "+++++++++++++++++++++++++++++++++++++++++++++++++++++++\n",
      "AmoebaFitter\n",
      "+++++++++++++++++++++++++++++++++++++++++++++++++++++++\n",
      "accuracy        None\n",
      "chisq           702.0609092696214\n",
      "errdis          poisson\n",
      "fitIndex        None\n",
      "fitWgts         1.0\n",
      "fixedScale      None\n",
      "imageAssistant  None\n",
      "isChisq         False\n",
      "iter            34\n",
      "keep            None\n",
      "landscape       _LogL\n",
      "logLikelihood   -347.1246286740039\n",
      "maxIter         2000\n",
      "model           Exp\n",
      "ndim            1\n",
      "npfit           2\n",
      "ntrans          68\n",
      "nxdata          201\n",
      "plotfreq        0\n",
      "plotter         IterationPlotter\n",
      "power           2.0\n",
      "simplex         [  ]\n",
      "sumwgt          201\n",
      "tolerance       0.0001\n",
      "tooLarge        100\n",
      "values          [347.125 347.125 347.125]\n",
      "verbose         1\n",
      "weights         None\n",
      "xdata           [ 0.   0.1  0.2  0.3 ... 19.7 19.8 19.9 20. ] 201\n"
     ]
    }
   ],
   "source": [
    "fitter = AmoebaFitter( x, mdl, errdis=\"poisson\" )\n",
    " \n",
    "# find the parameters\n",
    "param = fitter.fit( y )\n",
    "\n",
    "# show all attributes of the fitter class \n",
    "printclass( fitter )"
   ]
  },
  {
   "cell_type": "code",
   "execution_count": 6,
   "metadata": {
    "execution": {
     "iopub.execute_input": "2023-07-04T22:38:17.741377Z",
     "iopub.status.busy": "2023-07-04T22:38:17.741100Z",
     "iopub.status.idle": "2023-07-04T22:38:17.742326Z",
     "shell.execute_reply": "2023-07-04T22:38:17.742551Z"
    },
    "scrolled": true
   },
   "outputs": [
    {
     "name": "stdout",
     "output_type": "stream",
     "text": [
      "Parameters : [   17.114   -0.194]\n",
      "StDevs     : [    7.279    0.119]\n",
      "Chisq      :   702.061\n",
      "Scale      :    26.496\n",
      "Evidence   :  -157.616\n"
     ]
    }
   ],
   "source": [
    "print( \"Parameters :\", fmt( param ) )\n",
    "print( \"StDevs     :\", fmt( fitter.stdevs ) )\n",
    "print( \"Chisq      :\", fmt( fitter.chisq ) )\n",
    "print( \"Scale      :\", fmt( fitter.scale ) )\n",
    "print( \"Evidence   :\", fmt( fitter.getEvidence( limits=[-100,100] ) ) )"
   ]
  },
  {
   "cell_type": "code",
   "execution_count": 7,
   "metadata": {
    "execution": {
     "iopub.execute_input": "2023-07-04T22:38:17.749623Z",
     "iopub.status.busy": "2023-07-04T22:38:17.749307Z",
     "iopub.status.idle": "2023-07-04T22:38:17.791607Z",
     "shell.execute_reply": "2023-07-04T22:38:17.791832Z"
    }
   },
   "outputs": [
    {
     "data": {
      "image/png": "[encoded data removed]",
      "text/plain": [
       "<Figure size 504x360 with 1 Axes>"
      ]
     },
     "metadata": {
      "needs_background": "light"
     },
     "output_type": "display_data"
    }
   ],
   "source": [
    "plotFit( x, data=y, model=mdl, fitter=fitter )"
   ]
  },
  {
   "cell_type": "code",
   "execution_count": 8,
   "metadata": {
    "execution": {
     "iopub.execute_input": "2023-07-04T22:38:17.795284Z",
     "iopub.status.busy": "2023-07-04T22:38:17.794993Z",
     "iopub.status.idle": "2023-07-04T22:38:17.796482Z",
     "shell.execute_reply": "2023-07-04T22:38:17.796698Z"
    }
   },
   "outputs": [
    {
     "name": "stdout",
     "output_type": "stream",
     "text": [
      "[   16.705   -0.187]   699.308        27\n"
     ]
    }
   ],
   "source": [
    "fitter = AmoebaFitter( x, mdl )\n",
    "param = fitter.fit( y )\n",
    "print( fmt( param), fmt( fitter.chisq ), fmt( fitter.iter ) )"
   ]
  },
  {
   "cell_type": "code",
   "execution_count": 9,
   "metadata": {
    "execution": {
     "iopub.execute_input": "2023-07-04T22:38:17.800784Z",
     "iopub.status.busy": "2023-07-04T22:38:17.800502Z",
     "iopub.status.idle": "2023-07-04T22:38:17.801837Z",
     "shell.execute_reply": "2023-07-04T22:38:17.802012Z"
    }
   },
   "outputs": [
    {
     "name": "stdout",
     "output_type": "stream",
     "text": [
      "[   16.705   -0.187]   699.308        26\n"
     ]
    }
   ],
   "source": [
    "fitter = AmoebaFitter( x, mdl, errdis=\"gauss\" )\n",
    "param = fitter.fit( y )\n",
    "print( fmt( param), fmt( fitter.chisq ), fmt( fitter.iter ) )"
   ]
  },
  {
   "cell_type": "code",
   "execution_count": 10,
   "metadata": {
    "execution": {
     "iopub.execute_input": "2023-07-04T22:38:17.805728Z",
     "iopub.status.busy": "2023-07-04T22:38:17.805454Z",
     "iopub.status.idle": "2023-07-04T22:38:17.807813Z",
     "shell.execute_reply": "2023-07-04T22:38:17.808023Z"
    }
   },
   "outputs": [
    {
     "name": "stdout",
     "output_type": "stream",
     "text": [
      "[   17.026   -0.196]   702.887        38\n"
     ]
    }
   ],
   "source": [
    "fitter = AmoebaFitter( x, mdl, errdis=\"laplace\" )\n",
    "param = fitter.fit( y )\n",
    "print( fmt( param), fmt( fitter.chisq ), fmt( fitter.iter ) )"
   ]
  },
  {
   "cell_type": "code",
   "execution_count": 11,
   "metadata": {
    "execution": {
     "iopub.execute_input": "2023-07-04T22:38:17.811745Z",
     "iopub.status.busy": "2023-07-04T22:38:17.811010Z",
     "iopub.status.idle": "2023-07-04T22:38:17.812937Z",
     "shell.execute_reply": "2023-07-04T22:38:17.813156Z"
    }
   },
   "outputs": [
    {
     "name": "stdout",
     "output_type": "stream",
     "text": [
      "[   16.906   -0.196]   703.205        26\n"
     ]
    }
   ],
   "source": [
    "fitter = AmoebaFitter( x, mdl, errdis=\"cauchy\" )\n",
    "param = fitter.fit( y )\n",
    "print( fmt( param), fmt( fitter.chisq ), fmt( fitter.iter ) )"
   ]
  },
  {
   "cell_type": "code",
   "execution_count": 12,
   "metadata": {
    "execution": {
     "iopub.execute_input": "2023-07-04T22:38:17.817658Z",
     "iopub.status.busy": "2023-07-04T22:38:17.817369Z",
     "iopub.status.idle": "2023-07-04T22:38:17.818669Z",
     "shell.execute_reply": "2023-07-04T22:38:17.818878Z"
    }
   },
   "outputs": [
    {
     "name": "stdout",
     "output_type": "stream",
     "text": [
      "[   17.110   -0.194]   701.990        22\n"
     ]
    }
   ],
   "source": [
    "fitter = AmoebaFitter( x, mdl, errdis=\"poisson\" )\n",
    "param = fitter.fit( y )\n",
    "print( fmt( param), fmt( fitter.chisq ), fmt( fitter.iter ))"
   ]
  },
  {
   "cell_type": "code",
   "execution_count": null,
   "metadata": {},
   "outputs": [],
   "source": []
  }
 ],
 "metadata": {
  "anaconda-cloud": {},
  "kernelspec": {
   "display_name": "Python 3 (ipykernel)",
   "language": "python",
   "name": "python3"
  },
  "language_info": {
   "codemirror_mode": {
    "name": "ipython",
    "version": 3
   },
   "file_extension": ".py",
   "mimetype": "text/x-python",
   "name": "python",
   "nbconvert_exporter": "python",
   "pygments_lexer": "ipython3",
   "version": "3.8.12"
  }
 },
 "nbformat": 4,
 "nbformat_minor": 1
}
