{
 "cells": [
  {
   "cell_type": "markdown",
   "metadata": {},
   "source": [
    "## Purpose: simple problem with errors in both x and y.\n",
    "\n",
    "In problems with errors in xdata and ydata the positions of all the xdata need to be optimized too. So we have an extra set of parameters that not actually are part of the model to be fitted. These kind of parameters are called nuisance parameters. \n",
    "\n",
    "These kind of problems can be solved with NestedSampler using the ErrorsInXandYProblem in stead of the default ClassicProblem.\n",
    "\n",
    "Gull (1989) proved that for linear models the optimal solution is found by minimizing the perpendicular distances of the datapoints to the line.\n",
    "\n",
    "Demonstration: \n",
    "1. Linear Model of artificial data\n",
    "2. Parameter fit with errors in x and y\n",
    "\n",
    "Author: Do Kester\n"
   ]
  },
  {
   "cell_type": "markdown",
   "metadata": {},
   "source": [
    "Import classes"
   ]
  },
  {
   "cell_type": "code",
   "execution_count": 1,
   "metadata": {
    "execution": {
     "iopub.execute_input": "2023-07-04T21:36:35.549104Z",
     "iopub.status.busy": "2023-07-04T21:36:35.548352Z",
     "iopub.status.idle": "2023-07-04T21:36:36.366364Z",
     "shell.execute_reply": "2023-07-04T21:36:36.366523Z"
    }
   },
   "outputs": [],
   "source": [
    "import numpy as numpy\n",
    "import math\n",
    "\n",
    "from BayesicFitting import PolynomialModel\n",
    "\n",
    "from BayesicFitting import NestedSampler\n",
    "from BayesicFitting import ErrorsInXandYProblem\n",
    "from BayesicFitting import GaussPrior\n",
    "from BayesicFitting import UniformPrior\n",
    "from BayesicFitting import LaplacePrior\n",
    "from BayesicFitting import Tools\n",
    "from BayesicFitting import formatter as fmt\n",
    "from BayesicFitting import plotFit\n",
    "import matplotlib.pyplot as plt\n",
    "import matplotlib.gridspec as gridspec\n",
    "\n",
    "#%matplotlib osx"
   ]
  },
  {
   "cell_type": "markdown",
   "metadata": {},
   "source": [
    "Define the constants of the linear relation. "
   ]
  },
  {
   "cell_type": "code",
   "execution_count": 2,
   "metadata": {
    "execution": {
     "iopub.execute_input": "2023-07-04T21:36:36.368304Z",
     "iopub.status.busy": "2023-07-04T21:36:36.368049Z",
     "iopub.status.idle": "2023-07-04T21:36:36.369546Z",
     "shell.execute_reply": "2023-07-04T21:36:36.369691Z"
    }
   },
   "outputs": [],
   "source": [
    "# define some constants\n",
    "N = 41\n",
    "b0 = 0.2            # offset of background\n",
    "b1 = 0.5            # slope of background\n",
    "\n",
    "sig = 0.5"
   ]
  },
  {
   "cell_type": "markdown",
   "metadata": {},
   "source": [
    "Make a 1st-degree polynomial"
   ]
  },
  {
   "cell_type": "code",
   "execution_count": 3,
   "metadata": {
    "execution": {
     "iopub.execute_input": "2023-07-04T21:36:36.371790Z",
     "iopub.status.busy": "2023-07-04T21:36:36.371539Z",
     "iopub.status.idle": "2023-07-04T21:36:36.372593Z",
     "shell.execute_reply": "2023-07-04T21:36:36.372733Z"
    }
   },
   "outputs": [],
   "source": [
    "xm = numpy.linspace( -2.0, 5.0, N, dtype=float )\n",
    "ym = b0 + b1 * xm\n",
    "\n",
    "numpy.random.seed( 1308 )\n",
    "y = ym + sig * numpy.random.randn( N )\n",
    "x = xm + sig * numpy.random.randn( N )"
   ]
  },
  {
   "cell_type": "markdown",
   "metadata": {},
   "source": [
    "Define the model and define the limits on the model parameters"
   ]
  },
  {
   "cell_type": "code",
   "execution_count": 4,
   "metadata": {
    "execution": {
     "iopub.execute_input": "2023-07-04T21:36:36.374490Z",
     "iopub.status.busy": "2023-07-04T21:36:36.374192Z",
     "iopub.status.idle": "2023-07-04T21:36:36.375606Z",
     "shell.execute_reply": "2023-07-04T21:36:36.375750Z"
    }
   },
   "outputs": [],
   "source": [
    "mdl = PolynomialModel( 2 )\n",
    "mdl.setLimits( -10, 10 )\n"
   ]
  },
  {
   "cell_type": "markdown",
   "metadata": {},
   "source": [
    "We need to set a specific Problem in this case: ErrorsInXandYProblem. It adds N extra parameters to the list, one for each datapoint present. These extra (nuisance) parameters need Priors. The same Prior for all, but centered on each of the x-points. \n",
    "[Gull (1989)](https://bayes.wustl.edu/sfg/line.pdf) argues for a Gaussian prior with a sigma about the same size as in the error distribution. \n",
    "\n",
    "\n",
    "The ErrorsInXandYProblem automatically enlists both the GalileanEngine and the GibbsEngine. The latter might be more efficient in moving the extra parameters around. They are all independent of each other and GibbsEngine tries to move the parameters one at a time."
   ]
  },
  {
   "cell_type": "code",
   "execution_count": 5,
   "metadata": {
    "execution": {
     "iopub.execute_input": "2023-07-04T21:36:36.377521Z",
     "iopub.status.busy": "2023-07-04T21:36:36.377265Z",
     "iopub.status.idle": "2023-07-04T21:36:36.378594Z",
     "shell.execute_reply": "2023-07-04T21:36:36.378735Z"
    }
   },
   "outputs": [],
   "source": [
    "#prior = LaplacePrior(  )\n",
    "prior = UniformPrior( limits=[-3,3] )\n",
    "problem = ErrorsInXandYProblem( mdl, x, y, prior=prior )"
   ]
  },
  {
   "cell_type": "markdown",
   "metadata": {},
   "source": [
    "Invoke the NestedSampler with the problem just instantiated. The limits in the initialisation of NS are passed to the (Jeffreys)Prior of the scale hyperparameter in the (Gauss)Errordistribution. \n",
    "We want to do an extra long run as at the default end (=2.0) the information, H, is not yet completely stabilised."
   ]
  },
  {
   "cell_type": "code",
   "execution_count": 6,
   "metadata": {
    "execution": {
     "iopub.execute_input": "2023-07-04T21:36:36.394172Z",
     "iopub.status.busy": "2023-07-04T21:36:36.393838Z",
     "iopub.status.idle": "2023-07-04T21:45:45.650212Z",
     "shell.execute_reply": "2023-07-04T21:45:45.650438Z"
    },
    "scrolled": true
   },
   "outputs": [
    {
     "name": "stdout",
     "output_type": "stream",
     "text": [
      "Fit all parameters of\n",
      "  Polynomial: f( x:p ) = p_0 + p_1 * x + p_2 * x^2\n",
      "Using a Gauss2d error distribution with unknown scale\n",
      "Moving the walkers with   GalileanEngine  GibbsEngine  ChordEngine\n",
      ">"
     ]
    },
    {
     "name": "stdout",
     "output_type": "stream",
     "text": [
      ">"
     ]
    },
    {
     "name": "stdout",
     "output_type": "stream",
     "text": [
      ">"
     ]
    },
    {
     "name": "stdout",
     "output_type": "stream",
     "text": [
      ">"
     ]
    },
    {
     "name": "stdout",
     "output_type": "stream",
     "text": [
      ">"
     ]
    },
    {
     "name": "stdout",
     "output_type": "stream",
     "text": [
      ">"
     ]
    },
    {
     "name": "stdout",
     "output_type": "stream",
     "text": [
      ">"
     ]
    },
    {
     "name": "stdout",
     "output_type": "stream",
     "text": [
      ">"
     ]
    },
    {
     "name": "stdout",
     "output_type": "stream",
     "text": [
      ">"
     ]
    },
    {
     "name": "stdout",
     "output_type": "stream",
     "text": [
      ">"
     ]
    },
    {
     "name": "stdout",
     "output_type": "stream",
     "text": [
      ">"
     ]
    },
    {
     "name": "stdout",
     "output_type": "stream",
     "text": [
      ">"
     ]
    },
    {
     "name": "stdout",
     "output_type": "stream",
     "text": [
      ">"
     ]
    },
    {
     "name": "stdout",
     "output_type": "stream",
     "text": [
      ">"
     ]
    },
    {
     "name": "stdout",
     "output_type": "stream",
     "text": [
      ">"
     ]
    },
    {
     "name": "stdout",
     "output_type": "stream",
     "text": [
      ">"
     ]
    },
    {
     "name": "stdout",
     "output_type": "stream",
     "text": [
      ">"
     ]
    },
    {
     "name": "stdout",
     "output_type": "stream",
     "text": [
      ">"
     ]
    },
    {
     "name": "stdout",
     "output_type": "stream",
     "text": [
      ">"
     ]
    },
    {
     "name": "stdout",
     "output_type": "stream",
     "text": [
      ">"
     ]
    },
    {
     "name": "stdout",
     "output_type": "stream",
     "text": [
      ">"
     ]
    },
    {
     "name": "stdout",
     "output_type": "stream",
     "text": [
      ">"
     ]
    },
    {
     "name": "stdout",
     "output_type": "stream",
     "text": [
      ">"
     ]
    },
    {
     "name": "stdout",
     "output_type": "stream",
     "text": [
      ">"
     ]
    },
    {
     "name": "stdout",
     "output_type": "stream",
     "text": [
      ">"
     ]
    },
    {
     "name": "stdout",
     "output_type": "stream",
     "text": [
      ">"
     ]
    },
    {
     "name": "stdout",
     "output_type": "stream",
     "text": [
      ">"
     ]
    },
    {
     "name": "stdout",
     "output_type": "stream",
     "text": [
      ">"
     ]
    },
    {
     "name": "stdout",
     "output_type": "stream",
     "text": [
      ">"
     ]
    },
    {
     "name": "stdout",
     "output_type": "stream",
     "text": [
      ">"
     ]
    },
    {
     "name": "stdout",
     "output_type": "stream",
     "text": [
      ">"
     ]
    },
    {
     "name": "stdout",
     "output_type": "stream",
     "text": [
      ">"
     ]
    },
    {
     "name": "stdout",
     "output_type": "stream",
     "text": [
      ">"
     ]
    },
    {
     "name": "stdout",
     "output_type": "stream",
     "text": [
      ">"
     ]
    },
    {
     "name": "stdout",
     "output_type": "stream",
     "text": [
      ">"
     ]
    },
    {
     "name": "stdout",
     "output_type": "stream",
     "text": [
      ">"
     ]
    },
    {
     "name": "stdout",
     "output_type": "stream",
     "text": [
      ">"
     ]
    },
    {
     "name": "stdout",
     "output_type": "stream",
     "text": [
      ">"
     ]
    },
    {
     "name": "stdout",
     "output_type": "stream",
     "text": [
      ">"
     ]
    },
    {
     "name": "stdout",
     "output_type": "stream",
     "text": [
      ">"
     ]
    },
    {
     "name": "stdout",
     "output_type": "stream",
     "text": [
      ">"
     ]
    },
    {
     "name": "stdout",
     "output_type": "stream",
     "text": [
      ">"
     ]
    },
    {
     "name": "stdout",
     "output_type": "stream",
     "text": [
      ">"
     ]
    },
    {
     "name": "stdout",
     "output_type": "stream",
     "text": [
      ">"
     ]
    },
    {
     "name": "stdout",
     "output_type": "stream",
     "text": [
      ">"
     ]
    },
    {
     "name": "stdout",
     "output_type": "stream",
     "text": [
      ">"
     ]
    },
    {
     "name": "stdout",
     "output_type": "stream",
     "text": [
      ">"
     ]
    },
    {
     "name": "stdout",
     "output_type": "stream",
     "text": [
      ">"
     ]
    },
    {
     "name": "stdout",
     "output_type": "stream",
     "text": [
      ">"
     ]
    },
    {
     "name": "stdout",
     "output_type": "stream",
     "text": [
      ">\n"
     ]
    },
    {
     "name": "stdout",
     "output_type": "stream",
     "text": [
      ">"
     ]
    },
    {
     "name": "stdout",
     "output_type": "stream",
     "text": [
      ">"
     ]
    },
    {
     "name": "stdout",
     "output_type": "stream",
     "text": [
      ">"
     ]
    },
    {
     "name": "stdout",
     "output_type": "stream",
     "text": [
      ">"
     ]
    },
    {
     "name": "stdout",
     "output_type": "stream",
     "text": [
      ">"
     ]
    },
    {
     "name": "stdout",
     "output_type": "stream",
     "text": [
      ">"
     ]
    },
    {
     "name": "stdout",
     "output_type": "stream",
     "text": [
      ">"
     ]
    },
    {
     "name": "stdout",
     "output_type": "stream",
     "text": [
      ">"
     ]
    },
    {
     "name": "stdout",
     "output_type": "stream",
     "text": [
      ">"
     ]
    },
    {
     "name": "stdout",
     "output_type": "stream",
     "text": [
      ">"
     ]
    },
    {
     "name": "stdout",
     "output_type": "stream",
     "text": [
      ">"
     ]
    },
    {
     "name": "stdout",
     "output_type": "stream",
     "text": [
      ">"
     ]
    },
    {
     "name": "stdout",
     "output_type": "stream",
     "text": [
      ">"
     ]
    },
    {
     "name": "stdout",
     "output_type": "stream",
     "text": [
      ">"
     ]
    },
    {
     "name": "stdout",
     "output_type": "stream",
     "text": [
      ">"
     ]
    },
    {
     "name": "stdout",
     "output_type": "stream",
     "text": [
      ">"
     ]
    },
    {
     "name": "stdout",
     "output_type": "stream",
     "text": [
      ">"
     ]
    },
    {
     "name": "stdout",
     "output_type": "stream",
     "text": [
      ">"
     ]
    },
    {
     "name": "stdout",
     "output_type": "stream",
     "text": [
      ">"
     ]
    },
    {
     "name": "stdout",
     "output_type": "stream",
     "text": [
      ">"
     ]
    },
    {
     "name": "stdout",
     "output_type": "stream",
     "text": [
      ">"
     ]
    },
    {
     "name": "stdout",
     "output_type": "stream",
     "text": [
      ">"
     ]
    },
    {
     "name": "stdout",
     "output_type": "stream",
     "text": [
      ">"
     ]
    },
    {
     "name": "stdout",
     "output_type": "stream",
     "text": [
      ">"
     ]
    },
    {
     "name": "stdout",
     "output_type": "stream",
     "text": [
      ">"
     ]
    },
    {
     "name": "stdout",
     "output_type": "stream",
     "text": [
      ">"
     ]
    },
    {
     "name": "stdout",
     "output_type": "stream",
     "text": [
      ">"
     ]
    },
    {
     "name": "stdout",
     "output_type": "stream",
     "text": [
      ">"
     ]
    },
    {
     "name": "stdout",
     "output_type": "stream",
     "text": [
      ">"
     ]
    },
    {
     "name": "stdout",
     "output_type": "stream",
     "text": [
      ">"
     ]
    },
    {
     "name": "stdout",
     "output_type": "stream",
     "text": [
      ">"
     ]
    },
    {
     "name": "stdout",
     "output_type": "stream",
     "text": [
      ">"
     ]
    },
    {
     "name": "stdout",
     "output_type": "stream",
     "text": [
      ">"
     ]
    },
    {
     "name": "stdout",
     "output_type": "stream",
     "text": [
      ">"
     ]
    },
    {
     "name": "stdout",
     "output_type": "stream",
     "text": [
      ">"
     ]
    },
    {
     "name": "stdout",
     "output_type": "stream",
     "text": [
      ">"
     ]
    },
    {
     "name": "stdout",
     "output_type": "stream",
     "text": [
      ">"
     ]
    },
    {
     "name": "stdout",
     "output_type": "stream",
     "text": [
      ">"
     ]
    },
    {
     "name": "stdout",
     "output_type": "stream",
     "text": [
      ">"
     ]
    },
    {
     "name": "stdout",
     "output_type": "stream",
     "text": [
      ">"
     ]
    },
    {
     "name": "stdout",
     "output_type": "stream",
     "text": [
      ">"
     ]
    },
    {
     "name": "stdout",
     "output_type": "stream",
     "text": [
      ">"
     ]
    },
    {
     "name": "stdout",
     "output_type": "stream",
     "text": [
      ">"
     ]
    },
    {
     "name": "stdout",
     "output_type": "stream",
     "text": [
      ">"
     ]
    },
    {
     "name": "stdout",
     "output_type": "stream",
     "text": [
      "\n",
      "Iteration     logZ        H       LowL     npar\n",
      "    9326      -83.4     67.3       2.41     45 \n",
      "Parameters   [    0.215    0.517   -0.019   -2.135   -1.679   -1.430   -1.448   -0.830    0.266   -1.280   -0.656\n",
      "                 -1.171    0.048    0.086   -0.622   -0.391   -0.042   -0.044    0.281    0.891    0.920    1.279\n",
      "                  0.341    1.634    1.367    1.907    1.483    2.306    2.803    3.534    2.124    2.275    4.129\n",
      "                  2.902    3.499    4.385    4.195    4.133    4.037    4.962    3.972    4.463    5.556    4.678\n",
      "                  0.337]\n",
      "Engines              success     reject     failed       best      calls\n",
      "GalileanEngine         83693      22999      22376          0       9326\n",
      "GibbsEngine           760827     957955      78513          0       9326\n",
      "ChordEngine            65347     327427          0          0       9326\n",
      "Calls to LogL        2342136   to dLogL      22999\n",
      "Samples        9426\n",
      "Evidence       -36.242 +-      0.356\n"
     ]
    }
   ],
   "source": [
    "ns = NestedSampler( problem=problem, limits=[0.1,1] )\n",
    "\n",
    "# extra long run.\n",
    "ns.end = 3.0\n",
    "\n",
    "# find the solution\n",
    "evid = ns.sample( )\n"
   ]
  },
  {
   "cell_type": "code",
   "execution_count": 7,
   "metadata": {
    "execution": {
     "iopub.execute_input": "2023-07-04T21:45:45.692813Z",
     "iopub.status.busy": "2023-07-04T21:45:45.692522Z",
     "iopub.status.idle": "2023-07-04T21:45:45.711294Z",
     "shell.execute_reply": "2023-07-04T21:45:45.711511Z"
    },
    "scrolled": true
   },
   "outputs": [
    {
     "name": "stdout",
     "output_type": "stream",
     "text": [
      "Parameters : [    0.201    0.429    0.001]\n",
      "StDevs     : [    0.102    0.066    0.017]\n",
      "xdata      : [   -1.953   -1.940   -1.452   -1.827   -0.923   -0.399   -1.018   -0.677   -0.680   -0.118 ...]\n",
      "Nuisance   : [   -1.895   -2.035   -1.509   -1.658   -0.733   -0.320   -1.056   -0.947   -0.854   -0.145 ...]\n",
      "StdevNuis  : [    0.438    0.444    0.447    0.448    0.462    0.450    0.444    0.443    0.447    0.453 ...]\n",
      "Scale      :     0.469\n"
     ]
    }
   ],
   "source": [
    "pars = ns.parameters\n",
    "print( \"Parameters :\", fmt( pars, max=None ) )\n",
    "print( \"StDevs     :\", fmt( ns.stdevs, max=10 ) )\n",
    "xopt = ns.samples.nuisance\n",
    "print( \"xdata      :\", fmt( x, max=10))\n",
    "print( \"Nuisance   :\", fmt( xopt, max=10 ) )\n",
    "print( \"StdevNuis  :\", fmt( ns.samples.stdevNuis, max=10 ))\n",
    "print( \"Scale      :\", fmt( ns.scale ) )\n"
   ]
  },
  {
   "cell_type": "markdown",
   "metadata": {},
   "source": [
    "Plot the line and the connections of the datapoints to their targets.\n",
    "Note that the axes are scaled to the same size to show that the distances are perpendicular (more or less)."
   ]
  },
  {
   "cell_type": "code",
   "execution_count": 8,
   "metadata": {
    "execution": {
     "iopub.execute_input": "2023-07-04T21:45:45.717013Z",
     "iopub.status.busy": "2023-07-04T21:45:45.716731Z",
     "iopub.status.idle": "2023-07-04T21:45:45.770586Z",
     "shell.execute_reply": "2023-07-04T21:45:45.770827Z"
    }
   },
   "outputs": [
    {
     "data": {
      "image/png": "[encoded data removed]",
      "text/plain": [
       "<Figure size 432x432 with 1 Axes>"
      ]
     },
     "metadata": {
      "needs_background": "light"
     },
     "output_type": "display_data"
    }
   ],
   "source": [
    "xx = numpy.linspace( min(xopt), max(xopt), 101 )\n",
    "\n",
    "yfit = mdl.result( xx, pars )\n",
    "plt.figure( \"Errors in X and Y\", figsize=(6,6) )\n",
    "\n",
    "plt.plot( xx, yfit, 'k-' )\n",
    "yopt = mdl.result( xopt, pars )\n",
    "#plt.plot( xopt, yopt, 'k-' )\n",
    "for k in range( N ):\n",
    "    plt.plot( [x[k],xopt[k]], [y[k],yopt[k]], 'g-')\n",
    "plt.axis( [-3.0, 7.0, -3.0, 7.0] )\n",
    "    \n",
    "plt.show()"
   ]
  },
  {
   "cell_type": "code",
   "execution_count": null,
   "metadata": {},
   "outputs": [],
   "source": []
  }
 ],
 "metadata": {
  "anaconda-cloud": {},
  "kernelspec": {
   "display_name": "Python 3 (ipykernel)",
   "language": "python",
   "name": "python3"
  },
  "language_info": {
   "codemirror_mode": {
    "name": "ipython",
    "version": 3
   },
   "file_extension": ".py",
   "mimetype": "text/x-python",
   "name": "python",
   "nbconvert_exporter": "python",
   "pygments_lexer": "ipython3",
   "version": "3.8.12"
  }
 },
 "nbformat": 4,
 "nbformat_minor": 1
}
