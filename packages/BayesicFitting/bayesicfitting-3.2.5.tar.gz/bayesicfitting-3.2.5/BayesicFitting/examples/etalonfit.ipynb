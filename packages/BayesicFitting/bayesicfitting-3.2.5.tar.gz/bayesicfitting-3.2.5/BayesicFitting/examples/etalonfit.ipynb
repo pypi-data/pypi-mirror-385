{
 "cells": [
  {
   "cell_type": "markdown",
   "metadata": {},
   "source": [
    "## Purpose: Etalon fitting example\n",
    "\n",
    "Demonstration: \n",
    "1. Etalon Model\n",
    "2. Unsuccesfull parameter fit when starting from bad initial params\n",
    "3. Better starting point finds global minimum.\n",
    "\n",
    "Author: Do Kester\n"
   ]
  },
  {
   "cell_type": "markdown",
   "metadata": {},
   "source": [
    "import classes"
   ]
  },
  {
   "cell_type": "code",
   "execution_count": 1,
   "metadata": {
    "execution": {
     "iopub.execute_input": "2023-07-04T22:38:14.952132Z",
     "iopub.status.busy": "2023-07-04T22:38:14.951489Z",
     "iopub.status.idle": "2023-07-04T22:38:15.775457Z",
     "shell.execute_reply": "2023-07-04T22:38:15.775607Z"
    }
   },
   "outputs": [],
   "source": [
    "import numpy as numpy\n",
    "import math\n",
    "\n",
    "from BayesicFitting import EtalonModel\n",
    "from BayesicFitting import LevenbergMarquardtFitter\n",
    "from BayesicFitting import formatter as fmt\n",
    "from BayesicFitting import plotFit\n",
    "import matplotlib.pyplot as plt"
   ]
  },
  {
   "cell_type": "markdown",
   "metadata": {},
   "source": [
    "define some constants"
   ]
  },
  {
   "cell_type": "code",
   "execution_count": 2,
   "metadata": {
    "execution": {
     "iopub.execute_input": "2023-07-04T22:38:15.777304Z",
     "iopub.status.busy": "2023-07-04T22:38:15.777020Z",
     "iopub.status.idle": "2023-07-04T22:38:15.778436Z",
     "shell.execute_reply": "2023-07-04T22:38:15.778647Z"
    }
   },
   "outputs": [],
   "source": [
    "N = 101\n",
    "sig = 0.1"
   ]
  },
  {
   "cell_type": "markdown",
   "metadata": {},
   "source": [
    "make a 3-degree polynomial"
   ]
  },
  {
   "cell_type": "code",
   "execution_count": 3,
   "metadata": {
    "execution": {
     "iopub.execute_input": "2023-07-04T22:38:15.780975Z",
     "iopub.status.busy": "2023-07-04T22:38:15.780712Z",
     "iopub.status.idle": "2023-07-04T22:38:15.782039Z",
     "shell.execute_reply": "2023-07-04T22:38:15.782201Z"
    }
   },
   "outputs": [],
   "source": [
    "x = numpy.linspace( -2.0, 2.0, N, dtype=float )\n",
    "sx = numpy.sin( 6 * x )\n",
    "ym = 1.3 / ( 1.0 + 0.3 * sx * sx )\n",
    "numpy.random.seed( 12345 )\n",
    "y = ym + sig * numpy.random.randn( N )\n"
   ]
  },
  {
   "cell_type": "markdown",
   "metadata": {},
   "source": [
    "Define the model"
   ]
  },
  {
   "cell_type": "code",
   "execution_count": 4,
   "metadata": {
    "execution": {
     "iopub.execute_input": "2023-07-04T22:38:15.783927Z",
     "iopub.status.busy": "2023-07-04T22:38:15.783624Z",
     "iopub.status.idle": "2023-07-04T22:38:15.784877Z",
     "shell.execute_reply": "2023-07-04T22:38:15.785041Z"
    }
   },
   "outputs": [
    {
     "name": "stdout",
     "output_type": "stream",
     "text": [
      "Etalon: f( x:p ) = p_0 / ( 1 + p_1 * sin^2( PI * x * p_2 + p_3 ) )\n",
      "[    1.000    1.000    1.000    0.000]\n"
     ]
    }
   ],
   "source": [
    "mdl = EtalonModel()\n",
    "\n",
    "print( mdl )\n",
    "print( fmt( mdl.parameters ) ) "
   ]
  },
  {
   "cell_type": "markdown",
   "metadata": {},
   "source": [
    "define the fitter: Fitter"
   ]
  },
  {
   "cell_type": "code",
   "execution_count": 5,
   "metadata": {
    "execution": {
     "iopub.execute_input": "2023-07-04T22:38:15.787522Z",
     "iopub.status.busy": "2023-07-04T22:38:15.787268Z",
     "iopub.status.idle": "2023-07-04T22:38:15.788264Z",
     "shell.execute_reply": "2023-07-04T22:38:15.788418Z"
    }
   },
   "outputs": [],
   "source": [
    "fitter = LevenbergMarquardtFitter( x, mdl )\n",
    " \n",
    "# find the parameters\n",
    "param = fitter.fit( y )\n",
    "\n",
    "  "
   ]
  },
  {
   "cell_type": "code",
   "execution_count": 6,
   "metadata": {
    "execution": {
     "iopub.execute_input": "2023-07-04T22:38:15.791400Z",
     "iopub.status.busy": "2023-07-04T22:38:15.790939Z",
     "iopub.status.idle": "2023-07-04T22:38:15.792638Z",
     "shell.execute_reply": "2023-07-04T22:38:15.792939Z"
    },
    "scrolled": true
   },
   "outputs": [
    {
     "name": "stdout",
     "output_type": "stream",
     "text": [
      "Parameters : [    1.141    0.023   -0.247   -5.357]\n",
      "StDevs     : [    0.027    0.041    0.230    0.855]\n",
      "Chisq      :     2.405\n",
      "Scale      :     0.157\n",
      "Evidence   :   -49.133\n",
      "Covar matrix :\n",
      "[[    0.001    0.001   -0.000   -0.000]\n",
      " [    0.001    0.002   -0.002   -0.001]\n",
      " [   -0.000   -0.002    0.053    0.026]\n",
      " [   -0.000   -0.001    0.026    0.730]]\n"
     ]
    }
   ],
   "source": [
    "print( \"Parameters :\", fmt( param ) )\n",
    "print( \"StDevs     :\", fmt( fitter.stdevs ) )\n",
    "print( \"Chisq      :\", fmt( fitter.chisq ) )\n",
    "print( \"Scale      :\", fmt( fitter.scale ) )\n",
    "print( \"Evidence   :\", fmt( fitter.getEvidence( limits=[-100,100] ) ) )\n",
    "print( \"Covar matrix :\" )\n",
    "print( fmt( fitter.covariance))"
   ]
  },
  {
   "cell_type": "code",
   "execution_count": 7,
   "metadata": {
    "execution": {
     "iopub.execute_input": "2023-07-04T22:38:15.798622Z",
     "iopub.status.busy": "2023-07-04T22:38:15.797850Z",
     "iopub.status.idle": "2023-07-04T22:38:15.848124Z",
     "shell.execute_reply": "2023-07-04T22:38:15.848281Z"
    }
   },
   "outputs": [
    {
     "data": {
      "image/png": "[encoded data removed]",
      "text/plain": [
       "<Figure size 504x360 with 1 Axes>"
      ]
     },
     "metadata": {
      "needs_background": "light"
     },
     "output_type": "display_data"
    }
   ],
   "source": [
    "plotFit( x, data=y, model=mdl, fitter=fitter )"
   ]
  },
  {
   "cell_type": "markdown",
   "metadata": {},
   "source": [
    "That was not very successful. The initial parameters and in particular parameter 2 (the frequency) is not close enough to the real value. The fitter ended in a local minimum.\n",
    "\n",
    "Try it again starting with an initial frequency of 2. "
   ]
  },
  {
   "cell_type": "code",
   "execution_count": 8,
   "metadata": {
    "execution": {
     "iopub.execute_input": "2023-07-04T22:38:15.856566Z",
     "iopub.status.busy": "2023-07-04T22:38:15.855852Z",
     "iopub.status.idle": "2023-07-04T22:38:15.916910Z",
     "shell.execute_reply": "2023-07-04T22:38:15.917081Z"
    }
   },
   "outputs": [
    {
     "data": {
      "image/png": "[encoded data removed]",
      "text/plain": [
       "<Figure size 504x360 with 2 Axes>"
      ]
     },
     "metadata": {
      "needs_background": "light"
     },
     "output_type": "display_data"
    }
   ],
   "source": [
    "mdl.parameters = [1.0, 1.0, 2.0, 0.0]\n",
    "param = fitter.fit( y, plot=True )"
   ]
  },
  {
   "cell_type": "code",
   "execution_count": 9,
   "metadata": {
    "execution": {
     "iopub.execute_input": "2023-07-04T22:38:15.920283Z",
     "iopub.status.busy": "2023-07-04T22:38:15.919885Z",
     "iopub.status.idle": "2023-07-04T22:38:15.921511Z",
     "shell.execute_reply": "2023-07-04T22:38:15.921712Z"
    }
   },
   "outputs": [
    {
     "name": "stdout",
     "output_type": "stream",
     "text": [
      "Parameters : [    1.318    0.331    1.902    0.036]\n",
      "StDevs     : [    0.021    0.035    0.012    0.045]\n",
      "Chisq      :     1.077\n",
      "Scale      :     0.105\n",
      "Evidence   :   -50.880\n",
      "Covar matrix :\n",
      "[[    0.000    0.001   -0.000   -0.000]\n",
      " [    0.001    0.001    0.000   -0.000]\n",
      " [   -0.000    0.000    0.000   -0.000]\n",
      " [   -0.000   -0.000   -0.000    0.002]]\n"
     ]
    }
   ],
   "source": [
    "print( \"Parameters :\", fmt( param ) )\n",
    "print( \"StDevs     :\", fmt( fitter.stdevs ) )\n",
    "print( \"Chisq      :\", fmt( fitter.chisq ) )\n",
    "print( \"Scale      :\", fmt( fitter.scale ) )\n",
    "print( \"Evidence   :\", fmt( fitter.getEvidence( limits=[-100,100] ) ) )\n",
    "print( \"Covar matrix :\" )\n",
    "print( fmt( fitter.covariance))"
   ]
  },
  {
   "cell_type": "code",
   "execution_count": null,
   "metadata": {},
   "outputs": [],
   "source": []
  }
 ],
 "metadata": {
  "anaconda-cloud": {},
  "kernelspec": {
   "display_name": "Python 3 (ipykernel)",
   "language": "python",
   "name": "python3"
  },
  "language_info": {
   "codemirror_mode": {
    "name": "ipython",
    "version": 3
   },
   "file_extension": ".py",
   "mimetype": "text/x-python",
   "name": "python",
   "nbconvert_exporter": "python",
   "pygments_lexer": "ipython3",
   "version": "3.8.12"
  }
 },
 "nbformat": 4,
 "nbformat_minor": 1
}
