{
 "cells": [
  {
   "cell_type": "markdown",
   "metadata": {},
   "source": [
    "## Eleven Cities Skating Tour\n",
    "\n",
    "The datafile contains the average temperature over the coldest period of 15 days. The ringed data points are the years that a skating tour was held. \n",
    "\n",
    "Demonstration: \n",
    "1. Linear Model\n",
    "2. Parameter fit\n",
    "3. Evidence to find the best model.\n",
    "4. Confidence region for the fit\n",
    "\n",
    "Author: Do Kester\n"
   ]
  },
  {
   "cell_type": "markdown",
   "metadata": {},
   "source": [
    "import classes"
   ]
  },
  {
   "cell_type": "code",
   "execution_count": 1,
   "metadata": {
    "execution": {
     "iopub.execute_input": "2023-07-04T22:38:05.379120Z",
     "iopub.status.busy": "2023-07-04T22:38:05.378463Z",
     "iopub.status.idle": "2023-07-04T22:38:06.249696Z",
     "shell.execute_reply": "2023-07-04T22:38:06.249856Z"
    }
   },
   "outputs": [],
   "source": [
    "import numpy as numpy\n",
    "import math\n",
    "\n",
    "from astropy.io import ascii\n",
    "from BayesicFitting import PolynomialModel\n",
    "from BayesicFitting import ExpModel\n",
    "from BayesicFitting import SplinesModel\n",
    "\n",
    "from BayesicFitting import Fitter\n",
    "from BayesicFitting import LevenbergMarquardtFitter\n",
    "from BayesicFitting import AmoebaFitter\n",
    "from BayesicFitting import formatter as fmt\n",
    "from BayesicFitting import plotFit\n",
    "\n",
    "import matplotlib.pyplot as plt\n"
   ]
  },
  {
   "cell_type": "markdown",
   "metadata": {},
   "source": [
    "Read the data. We rescale the data to get \"nice\" numbers, i.e. the year in year-since-2000.\n"
   ]
  },
  {
   "cell_type": "code",
   "execution_count": 2,
   "metadata": {
    "execution": {
     "iopub.execute_input": "2023-07-04T22:38:06.252136Z",
     "iopub.status.busy": "2023-07-04T22:38:06.251809Z",
     "iopub.status.idle": "2023-07-04T22:38:06.258752Z",
     "shell.execute_reply": "2023-07-04T22:38:06.258923Z"
    }
   },
   "outputs": [],
   "source": [
    "tbl = ascii.read( \"data/ElfStedenIJs.csv\" )\n",
    "year = tbl['col1'].data\n",
    "temp = tbl['col2'].data\n",
    "tour = tbl['col4'].data\n",
    "year -= 2000\n",
    "#print( temp )\n",
    "#print( tour )\n"
   ]
  },
  {
   "cell_type": "markdown",
   "metadata": {},
   "source": [
    "Define the model"
   ]
  },
  {
   "cell_type": "code",
   "execution_count": 3,
   "metadata": {
    "execution": {
     "iopub.execute_input": "2023-07-04T22:38:06.260548Z",
     "iopub.status.busy": "2023-07-04T22:38:06.260280Z",
     "iopub.status.idle": "2023-07-04T22:38:06.261746Z",
     "shell.execute_reply": "2023-07-04T22:38:06.261913Z"
    }
   },
   "outputs": [
    {
     "name": "stdout",
     "output_type": "stream",
     "text": [
      "Polynomial: f( x:p ) = p_0\n"
     ]
    }
   ],
   "source": [
    "mdl = PolynomialModel( 0 )\n",
    "print( mdl )\n"
   ]
  },
  {
   "cell_type": "markdown",
   "metadata": {},
   "source": [
    "define the fitter: Fitter"
   ]
  },
  {
   "cell_type": "code",
   "execution_count": 4,
   "metadata": {
    "execution": {
     "iopub.execute_input": "2023-07-04T22:38:06.263698Z",
     "iopub.status.busy": "2023-07-04T22:38:06.263445Z",
     "iopub.status.idle": "2023-07-04T22:38:06.264661Z",
     "shell.execute_reply": "2023-07-04T22:38:06.264833Z"
    }
   },
   "outputs": [],
   "source": [
    "fitter = Fitter( year, mdl )\n",
    " \n",
    "# find the parameters\n",
    "param = fitter.fit( temp )\n",
    "  "
   ]
  },
  {
   "cell_type": "code",
   "execution_count": 5,
   "metadata": {
    "execution": {
     "iopub.execute_input": "2023-07-04T22:38:06.267079Z",
     "iopub.status.busy": "2023-07-04T22:38:06.266808Z",
     "iopub.status.idle": "2023-07-04T22:38:06.268019Z",
     "shell.execute_reply": "2023-07-04T22:38:06.268232Z"
    },
    "scrolled": true
   },
   "outputs": [
    {
     "name": "stdout",
     "output_type": "stream",
     "text": [
      "Parameters :    -1.954\n",
      "StDevs     :     0.255\n",
      "Scale      :     2.720\n",
      "Evidence   :  -123.637\n",
      "Covar matrix :\n",
      "    0.065\n"
     ]
    }
   ],
   "source": [
    "print( \"Parameters :\", fmt( param, max=None ) )\n",
    "print( \"StDevs     :\", fmt( fitter.stdevs, max=None ) )\n",
    "print( \"Scale      :\", fmt( fitter.scale ) )\n",
    "print( \"Evidence   :\", fmt( fitter.getEvidence( limits=[-10,10], noiseLimits=[0.01,10] ) ) )\n",
    "print( \"Covar matrix :\" )\n",
    "print( fmt( fitter.covariance))"
   ]
  },
  {
   "cell_type": "code",
   "execution_count": 6,
   "metadata": {
    "execution": {
     "iopub.execute_input": "2023-07-04T22:38:06.276120Z",
     "iopub.status.busy": "2023-07-04T22:38:06.275165Z",
     "iopub.status.idle": "2023-07-04T22:38:06.318168Z",
     "shell.execute_reply": "2023-07-04T22:38:06.318404Z"
    }
   },
   "outputs": [
    {
     "data": {
      "image/png": "[encoded data removed]",
      "text/plain": [
       "<Figure size 504x360 with 1 Axes>"
      ]
     },
     "metadata": {
      "needs_background": "light"
     },
     "output_type": "display_data"
    }
   ],
   "source": [
    "plotFit( year, data=temp, model=mdl, fitter=fitter, show=False )\n",
    "plt.plot( year, tour, 'yo')\n",
    "plt.plot( year, temp, 'k.')\n",
    "plt.show()\n"
   ]
  },
  {
   "cell_type": "code",
   "execution_count": 7,
   "metadata": {
    "execution": {
     "iopub.execute_input": "2023-07-04T22:38:06.335955Z",
     "iopub.status.busy": "2023-07-04T22:38:06.334147Z",
     "iopub.status.idle": "2023-07-04T22:38:06.366900Z",
     "shell.execute_reply": "2023-07-04T22:38:06.367200Z"
    }
   },
   "outputs": [
    {
     "data": {
      "image/png": "[encoded data removed]",
      "text/plain": [
       "<Figure size 432x288 with 1 Axes>"
      ]
     },
     "metadata": {
      "needs_background": "light"
     },
     "output_type": "display_data"
    }
   ],
   "source": [
    "x = numpy.linspace( -11, 4, 141, dtype=float )\n",
    "plt.hist( temp, 15, (-11,4))\n",
    "xp = ( x - param[0] ) / fitter.scale\n",
    "y = numpy.exp( -0.5 * xp * xp )\n",
    "y *= 20 / numpy.max( y )\n",
    "plt.plot( x, y, 'r-' )\n",
    "plt.show()"
   ]
  },
  {
   "cell_type": "markdown",
   "metadata": {
    "collapsed": true
   },
   "source": [
    "Try a constant and an exponential."
   ]
  },
  {
   "cell_type": "code",
   "execution_count": 8,
   "metadata": {
    "execution": {
     "iopub.execute_input": "2023-07-04T22:38:06.374589Z",
     "iopub.status.busy": "2023-07-04T22:38:06.370391Z",
     "iopub.status.idle": "2023-07-04T22:38:06.414500Z",
     "shell.execute_reply": "2023-07-04T22:38:06.414680Z"
    }
   },
   "outputs": [
    {
     "name": "stdout",
     "output_type": "stream",
     "text": [
      "Parameters : [   -2.295    0.946    0.050]\n",
      "StDevs     : [    0.440    0.761    0.062]\n",
      "Scale      :     2.703\n",
      "Evidence   :  -126.207\n",
      "Covar matrix :\n",
      "[[    0.194   -0.269    0.019]\n",
      " [   -0.269    0.579   -0.035]\n",
      " [    0.019   -0.035    0.004]]\n"
     ]
    },
    {
     "data": {
      "image/png": "[encoded data removed]",
      "text/plain": [
       "<Figure size 504x360 with 1 Axes>"
      ]
     },
     "metadata": {
      "needs_background": "light"
     },
     "output_type": "display_data"
    }
   ],
   "source": [
    "mdl = PolynomialModel( 0 )\n",
    "mdl += ExpModel()\n",
    "mdl.parameters = [-2.0, 1.0, 1.0]\n",
    "\n",
    "fitter = AmoebaFitter( year, mdl )\n",
    "param = fitter.fit( temp )\n",
    "\n",
    "print( \"Parameters :\", fmt( param, max=None ) )\n",
    "print( \"StDevs     :\", fmt( fitter.stdevs, max=None ) )\n",
    "print( \"Scale      :\", fmt( fitter.scale ) )\n",
    "print( \"Evidence   :\", fmt( fitter.getEvidence( limits=[-10,10], noiseLimits=[0.01,10] ) ) )\n",
    "print( \"Covar matrix :\" )\n",
    "print( fmt( fitter.covariance))\n",
    "\n",
    "plotFit( year, data=temp, model=mdl )\n"
   ]
  },
  {
   "cell_type": "markdown",
   "metadata": {},
   "source": [
    "The logEvidence went down. It is not better that a constant.\n"
   ]
  },
  {
   "cell_type": "code",
   "execution_count": 9,
   "metadata": {
    "execution": {
     "iopub.execute_input": "2023-07-04T22:38:06.417501Z",
     "iopub.status.busy": "2023-07-04T22:38:06.417173Z",
     "iopub.status.idle": "2023-07-04T22:38:06.457569Z",
     "shell.execute_reply": "2023-07-04T22:38:06.457742Z"
    }
   },
   "outputs": [
    {
     "name": "stdout",
     "output_type": "stream",
     "text": [
      "Parameters : [   -1.571    0.009]\n",
      "StDevs     : [    0.415    0.008]\n",
      "Scale      :     2.716\n",
      "Evidence   :  -126.356\n",
      "Covar matrix :\n",
      "[[    0.173    0.003]\n",
      " [    0.003    0.000]]\n"
     ]
    },
    {
     "data": {
      "image/png": "[encoded data removed]",
      "text/plain": [
       "<Figure size 504x360 with 1 Axes>"
      ]
     },
     "metadata": {
      "needs_background": "light"
     },
     "output_type": "display_data"
    }
   ],
   "source": [
    "mdl = PolynomialModel( 1 )\n",
    "\n",
    "fitter = Fitter( year, mdl )\n",
    "param = fitter.fit( temp )\n",
    "\n",
    "print( \"Parameters :\", fmt( param, max=None ) )\n",
    "print( \"StDevs     :\", fmt( fitter.stdevs, max=None ) )\n",
    "print( \"Scale      :\", fmt( fitter.scale ) )\n",
    "print( \"Evidence   :\", fmt( fitter.getEvidence( limits=[-10,10], noiseLimits=[0.01,10] ) ) )\n",
    "print( \"Covar matrix :\" )\n",
    "print( fmt( fitter.covariance))\n",
    "\n",
    "plotFit( year, data=temp, model=mdl, fitter=fitter )"
   ]
  },
  {
   "cell_type": "markdown",
   "metadata": {},
   "source": [
    "The logEvidence has gone down; this model is not better either.\n",
    "\n",
    "It seems that a constant model is the best model for this dataset. Mostly this is due to the large scale of the noise."
   ]
  },
  {
   "cell_type": "code",
   "execution_count": null,
   "metadata": {},
   "outputs": [],
   "source": []
  }
 ],
 "metadata": {
  "anaconda-cloud": {},
  "kernelspec": {
   "display_name": "Python 3 (ipykernel)",
   "language": "python",
   "name": "python3"
  },
  "language_info": {
   "codemirror_mode": {
    "name": "ipython",
    "version": 3
   },
   "file_extension": ".py",
   "mimetype": "text/x-python",
   "name": "python",
   "nbconvert_exporter": "python",
   "pygments_lexer": "ipython3",
   "version": "3.8.12"
  }
 },
 "nbformat": 4,
 "nbformat_minor": 1
}
