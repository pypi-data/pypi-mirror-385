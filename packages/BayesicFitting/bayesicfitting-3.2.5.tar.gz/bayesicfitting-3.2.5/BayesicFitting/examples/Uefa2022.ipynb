{
 "cells": [
  {
   "cell_type": "markdown",
   "metadata": {},
   "source": [
    "## UEFA 2022\n",
    "\n",
    "The data can be found on the UEFA website, not in an easy accessable file. They need to be copied and subsequently edited to get them in a usable format.\n",
    "\n",
    "Demonstration:\n",
    "1. FootballModel\n",
    "2. NestedSampler\n",
    "3. Evidence\n",
    "\n",
    "Author: Do Kester\n"
   ]
  },
  {
   "cell_type": "markdown",
   "metadata": {},
   "source": [
    "We need to import some classes"
   ]
  },
  {
   "cell_type": "code",
   "execution_count": 1,
   "metadata": {
    "execution": {
     "iopub.execute_input": "2023-07-04T21:36:32.648212Z",
     "iopub.status.busy": "2023-07-04T21:36:32.647528Z",
     "iopub.status.idle": "2023-07-04T21:36:33.532377Z",
     "shell.execute_reply": "2023-07-04T21:36:33.532567Z"
    }
   },
   "outputs": [],
   "source": [
    "import numpy as numpy\n",
    "import math\n",
    "\n",
    "from astropy.io import ascii\n",
    "from BayesicFitting import FootballModel\n",
    "from BayesicFitting import ExponentialPrior\n",
    "from BayesicFitting import UniformPrior\n",
    "from BayesicFitting import PoissonErrorDistribution\n",
    "from BayesicFitting import MultipleOutputProblem\n",
    "\n",
    "from BayesicFitting import NestedSampler\n",
    "from BayesicFitting import formatter as fmt\n",
    "from BayesicFitting import plotFit\n",
    "from BayesicFitting import Tools\n",
    "import matplotlib.pyplot as plt\n",
    "import matplotlib.gridspec as gridspec\n"
   ]
  },
  {
   "cell_type": "code",
   "execution_count": 2,
   "metadata": {
    "execution": {
     "iopub.execute_input": "2023-07-04T21:36:33.534275Z",
     "iopub.status.busy": "2023-07-04T21:36:33.534008Z",
     "iopub.status.idle": "2023-07-04T21:36:33.535303Z",
     "shell.execute_reply": "2023-07-04T21:36:33.535466Z"
    }
   },
   "outputs": [],
   "source": [
    "#%matplotlib osx"
   ]
  },
  {
   "cell_type": "markdown",
   "metadata": {},
   "source": [
    "Read the data"
   ]
  },
  {
   "cell_type": "code",
   "execution_count": 3,
   "metadata": {
    "execution": {
     "iopub.execute_input": "2023-07-04T21:36:33.538239Z",
     "iopub.status.busy": "2023-07-04T21:36:33.537933Z",
     "iopub.status.idle": "2023-07-04T21:36:33.543848Z",
     "shell.execute_reply": "2023-07-04T21:36:33.544015Z"
    },
    "scrolled": false
   },
   "outputs": [],
   "source": [
    "tbl = ascii.read( \"data/NationsLeague-2022.txt\" )\n",
    "#print( tbl )\n",
    "homen = tbl['home'].data\n",
    "hs = numpy.asarray( tbl['hs'].data, dtype=int )\n",
    "ws = numpy.asarray( tbl['as'].data, dtype=int )\n",
    "awayn = tbl['away'].data\n",
    "#print( hs )\n",
    "#print( ws )\n",
    "scoren = numpy.append( hs, ws ).reshape( (2,-1) ).transpose()\n",
    "#print( scoren )"
   ]
  },
  {
   "cell_type": "code",
   "execution_count": 4,
   "metadata": {
    "execution": {
     "iopub.execute_input": "2023-07-04T21:36:33.546083Z",
     "iopub.status.busy": "2023-07-04T21:36:33.545807Z",
     "iopub.status.idle": "2023-07-04T21:36:33.553282Z",
     "shell.execute_reply": "2023-07-04T21:36:33.553451Z"
    },
    "scrolled": false
   },
   "outputs": [],
   "source": [
    "tbl = ascii.read( \"data/Qualifiers-2022.txt\" )\n",
    "#print( tbl )\n",
    "homeq = tbl['home'].data\n",
    "hs = numpy.asarray( tbl['hs'].data, dtype=int )\n",
    "ws = numpy.asarray( tbl['as'].data, dtype=int )\n",
    "awayq = tbl['away'].data\n",
    "#print( hs )\n",
    "#print( ws )\n",
    "scoreq = numpy.append( hs, ws ).reshape( (2,-1) ).transpose()\n",
    "#print( scoreq )\n"
   ]
  },
  {
   "cell_type": "markdown",
   "metadata": {},
   "source": [
    "In 'home' we have the names of the teams playing a their home field.\n",
    "\n",
    "In 'away' we have the names of the visiting teams.\n",
    "\n",
    "In 'score' we have the scores of the matches."
   ]
  },
  {
   "cell_type": "code",
   "execution_count": 5,
   "metadata": {
    "execution": {
     "iopub.execute_input": "2023-07-04T21:36:33.555039Z",
     "iopub.status.busy": "2023-07-04T21:36:33.554774Z",
     "iopub.status.idle": "2023-07-04T21:36:33.556147Z",
     "shell.execute_reply": "2023-07-04T21:36:33.556308Z"
    }
   },
   "outputs": [],
   "source": [
    "home = numpy.append( homen, homeq )\n",
    "away = numpy.append( awayn, awayq )\n",
    "score = numpy.append( scoren, scoreq, axis=0 )\n"
   ]
  },
  {
   "cell_type": "code",
   "execution_count": 6,
   "metadata": {
    "execution": {
     "iopub.execute_input": "2023-07-04T21:36:33.559133Z",
     "iopub.status.busy": "2023-07-04T21:36:33.558845Z",
     "iopub.status.idle": "2023-07-04T21:36:33.560324Z",
     "shell.execute_reply": "2023-07-04T21:36:33.560560Z"
    }
   },
   "outputs": [
    {
     "name": "stdout",
     "output_type": "stream",
     "text": [
      "56\n",
      "[[        0       23]\n",
      " [       21       38]\n",
      " [       28       10]\n",
      " [       39       47]\n",
      " [       41       50]\n",
      "  ...\n",
      " [       24       42]\n",
      " [       47       42]\n",
      " [        4       42]]\n"
     ]
    }
   ],
   "source": [
    "names = numpy.unique( home )\n",
    "print( len( names ) )\n",
    "namdic = {}\n",
    "for k, name in enumerate( names ) :\n",
    "    namdic[name] = k\n",
    "xdata = numpy.zeros( (338,2), dtype=int )\n",
    "k = 0\n",
    "for h,a in zip( home, away ):\n",
    "    xdata[k,:] = [namdic[h], namdic[a]]\n",
    "    k += 1\n",
    "print( fmt( xdata, tail=3 ) )"
   ]
  },
  {
   "cell_type": "markdown",
   "metadata": {},
   "source": [
    "We have 56 teams playing in the european leagues for nations."
   ]
  },
  {
   "cell_type": "code",
   "execution_count": 7,
   "metadata": {
    "execution": {
     "iopub.execute_input": "2023-07-04T21:36:33.563061Z",
     "iopub.status.busy": "2023-07-04T21:36:33.562796Z",
     "iopub.status.idle": "2023-07-04T21:36:33.564044Z",
     "shell.execute_reply": "2023-07-04T21:36:33.564252Z"
    }
   },
   "outputs": [],
   "source": [
    "fm = FootballModel( 56 )\n",
    "## keep away from the edges.\n",
    "eps = 0.01\n",
    "fm.setPrior( 0, ExponentialPrior() )\n",
    "fm.setPrior( 1, UniformPrior(), limits=[eps,1-eps] )\n",
    "fm.setPrior( 2, UniformPrior(), limits=[eps,2-eps] )\n",
    "fm.setPrior( 3, UniformPrior(), limits=[eps,2-eps] )\n",
    "fm.setPrior( 4, UniformPrior(), limits=[eps,2-eps] )\n",
    "\n"
   ]
  },
  {
   "cell_type": "code",
   "execution_count": 8,
   "metadata": {
    "execution": {
     "iopub.execute_input": "2023-07-04T21:36:33.565834Z",
     "iopub.status.busy": "2023-07-04T21:36:33.565548Z",
     "iopub.status.idle": "2023-07-04T21:36:33.566984Z",
     "shell.execute_reply": "2023-07-04T21:36:33.566759Z"
    }
   },
   "outputs": [],
   "source": [
    "problem = MultipleOutputProblem( model=fm, xdata=xdata, ydata=score )\n"
   ]
  },
  {
   "cell_type": "code",
   "execution_count": 9,
   "metadata": {
    "execution": {
     "iopub.execute_input": "2023-07-04T21:36:33.571323Z",
     "iopub.status.busy": "2023-07-04T21:36:33.571063Z",
     "iopub.status.idle": "2023-07-04T21:36:33.593691Z",
     "shell.execute_reply": "2023-07-04T21:36:33.593389Z"
    },
    "scrolled": false
   },
   "outputs": [
    {
     "name": "stdout",
     "output_type": "stream",
     "text": [
      "Fit all parameters of\n",
      "  Foolball\n",
      "Using a Poisson error distribution\n",
      "Moving the walkers with   GalileanEngine  ChordEngine\n",
      "Iteration     logZ        H       LowL     npar parameters\n",
      "       0  -4.23e+03      4.6  -4.23e+03    280  [    0.444    0.067    0.132    1.248 ...]\n",
      "     100  -3.38e+03      5.2  -3.38e+03    280  [    0.282    0.457    1.047    1.046 ...]\n",
      "     200  -3.17e+03      5.8  -3.16e+03    280  [    0.248    0.334    0.218    0.470 ...]\n",
      "     300  -3.04e+03      6.3  -3.03e+03    280  [    1.132    0.860    0.732    1.388 ...]\n",
      "     400  -2.91e+03      7.7  -2.91e+03    280  [    1.332    0.313    1.835    0.880 ...]\n",
      "     500  -2.81e+03      8.3  -2.80e+03    280  [    0.500    0.845    1.482    1.588 ...]\n",
      "     600  -2.72e+03      9.1  -2.71e+03    280  [    1.667    0.452    1.666    0.913 ...]\n",
      "     700  -2.62e+03     10.5  -2.61e+03    280  [    0.960    0.860    0.663    1.833 ...]\n",
      "     800  -2.54e+03     11.4  -2.53e+03    280  [    0.114    0.732    0.874    1.516 ...]\n",
      "     900  -2.46e+03     12.5  -2.45e+03    280  [    0.494    0.441    0.807    1.038 ...]\n",
      "    1000  -2.39e+03     12.7  -2.38e+03    280  [    1.613    0.289    1.505    0.295 ...]\n",
      "    1100  -2.32e+03     13.9  -2.31e+03    280  [    0.504    0.470    1.015    1.019 ...]\n",
      "    1200  -2.24e+03     14.8  -2.23e+03    280  [    0.532    0.561    1.181    0.838 ...]\n",
      "    1300  -2.17e+03     15.4  -2.15e+03    280  [    0.595    0.279    1.886    0.215 ...]\n",
      "    1400  -2.09e+03     17.6  -2.07e+03    280  [    0.314    0.647    0.576    0.605 ...]\n",
      "    1500  -2.02e+03     17.9  -2.00e+03    280  [    2.955    0.417    1.930    0.955 ...]\n",
      "    1600  -1.95e+03     19.5  -1.93e+03    280  [    0.607    0.472    0.896    0.683 ...]\n",
      "    1700  -1.88e+03     19.8  -1.86e+03    280  [    1.012    0.800    1.101    1.541 ...]\n",
      "    1800  -1.82e+03     20.6  -1.79e+03    280  [    2.144    0.224    0.387    0.898 ...]\n",
      "    1900  -1.77e+03     21.9  -1.74e+03    280  [    1.756    0.362    1.843    1.253 ...]\n",
      "    2000  -1.71e+03     23.7  -1.68e+03    280  [    1.740    0.047    1.565    1.461 ...]\n",
      "    2100  -1.65e+03     24.0  -1.63e+03    280  [    0.214    0.105    1.330    1.782 ...]\n",
      "    2200  -1.60e+03     25.3  -1.58e+03    280  [    0.413    0.556    0.605    1.839 ...]\n",
      "    2300  -1.55e+03     25.5  -1.53e+03    280  [    1.165    0.561    0.746    0.399 ...]\n",
      "    2400  -1.51e+03     26.8  -1.48e+03    280  [    0.699    0.112    0.986    1.702 ...]\n",
      "    2500  -1.47e+03     27.3  -1.44e+03    280  [    1.191    0.321    0.300    1.504 ...]\n",
      "    2600  -1.43e+03     28.7  -1.40e+03    280  [    0.829    0.179    1.130    1.390 ...]\n",
      "    2700  -1.39e+03     29.7  -1.36e+03    280  [    1.415    0.100    0.731    1.853 ...]\n",
      "    2800  -1.35e+03     30.4  -1.32e+03    280  [    1.084    0.429    1.335    1.571 ...]\n",
      "    2900  -1.32e+03     31.5  -1.29e+03    280  [    0.441    0.264    1.656    0.652 ...]\n",
      "    3000  -1.29e+03     32.5  -1.26e+03    280  [    2.150    0.080    1.002    0.566 ...]\n",
      "    3100  -1.26e+03     33.6  -1.22e+03    280  [    2.964    0.782    0.593    1.480 ...]\n",
      "    3200  -1.22e+03     34.2  -1.18e+03    280  [    1.475    0.713    0.998    0.494 ...]\n",
      "    3300  -1.20e+03     35.1  -1.16e+03    280  [    2.020    0.545    0.959    1.652 ...]\n",
      "    3400  -1.17e+03     36.3  -1.13e+03    280  [    0.584    0.250    0.914    0.843 ...]\n",
      "    3500  -1.15e+03     36.6  -1.11e+03    280  [    1.204    0.109    0.670    1.155 ...]\n",
      "    3600  -1.12e+03     38.0  -1.09e+03    280  [    0.411    0.388    1.825    0.812 ...]\n",
      "    3700  -1.10e+03     38.6  -1.06e+03    280  [    1.547    0.098    1.509    1.169 ...]\n",
      "    3800  -1.08e+03     39.5  -1.04e+03    280  [    1.064    0.258    0.797    1.274 ...]\n",
      "    3900  -1.06e+03     40.8  -1.02e+03    280  [    1.900    0.329    1.110    0.891 ...]\n",
      "    4000  -1.05e+03     41.9  -1.00e+03    280  [    0.946    0.049    1.843    1.365 ...]\n",
      "    4100  -1.03e+03     42.9      -987.    280  [    1.450    0.023    1.851    1.407 ...]\n",
      "    4200  -1.02e+03     43.6      -971.    280  [    3.602    0.106    1.165    1.238 ...]\n",
      "    4300  -1.00e+03     44.5      -958.    280  [    0.869    0.091    0.981    1.824 ...]\n",
      "    4400      -992.     45.9      -944.    280  [    0.556    0.345    1.365    1.367 ...]\n",
      "    4500      -980.     46.1      -933.    280  [    0.953    0.141    1.361    1.415 ...]\n",
      "    4600      -972.     47.0      -924.    280  [    0.887    0.603    0.964    1.677 ...]\n",
      "    4700      -965.     47.8      -916.    280  [    2.068    0.623    0.534    1.495 ...]\n",
      "    4800      -960.     48.3      -910.    280  [    0.777    0.203    1.125    1.782 ...]\n",
      "    4900      -954.     49.6      -904.    280  [    1.187    0.678    0.627    1.818 ...]\n",
      "    5000      -949.     50.6      -897.    280  [    0.592    0.320    1.681    1.174 ...]\n",
      "    5100      -944.     51.1      -892.    280  [    3.067    0.335    0.466    1.741 ...]\n",
      "    5200      -940.     52.1      -887.    280  [    1.208    0.606    1.028    1.945 ...]\n",
      "    5300      -937.     53.1      -882.    280  [    1.260    0.321    1.051    1.312 ...]\n",
      "    5400      -934.     53.7      -879.    280  [    0.895    0.219    1.053    1.969 ...]\n",
      "    5500      -932.     54.2      -876.    280  [    0.598    0.337    1.374    1.628 ...]\n",
      "    5600      -930.     54.9      -874.    280  [    0.971    0.393    0.740    1.773 ...]\n",
      "    5700      -929.     55.5      -872.    280  [    1.360    0.527    0.681    1.968 ...]\n",
      "    5800      -928.     56.2      -870.    280  [    1.234    0.344    0.823    1.930 ...]\n",
      "    5900      -927.     56.9      -868.    280  [    1.713    0.528    0.725    1.835 ...]\n",
      "    6000      -926.     57.6      -867.    280  [    2.262    0.328    0.674    1.881 ...]\n",
      "    6100      -926.     58.2      -865.    280  [    0.906    0.419    1.008    1.708 ...]\n",
      "    6200      -925.     58.8      -864.    280  [    1.094    0.144    1.005    1.975 ...]\n",
      "    6300      -925.     59.3      -863.    280  [    0.967    0.294    1.030    1.727 ...]\n",
      "    6400      -924.     59.9      -862.    280  [    0.872    0.492    0.941    1.715 ...]\n",
      "    6500      -924.     60.3      -861.    280  [    0.807    0.230    1.110    1.980 ...]\n",
      "    6600      -924.     60.6      -860.    280  [    1.098    0.746    0.740    1.899 ...]\n",
      "    6700      -924.     60.8      -860.    280  [    1.072    0.676    0.686    1.863 ...]\n",
      "    6800      -924.     61.0      -859.    280  [    0.964    0.366    0.835    1.869 ...]\n",
      "    6900      -924.     61.2      -858.    280  [    0.851    0.459    0.802    1.740 ...]\n",
      "    7000      -924.     61.3      -858.    280  [    0.972    0.775    0.461    1.882 ...]\n",
      "    7100      -924.     61.4      -857.    280  [    0.948    0.492    0.956    1.945 ...]\n",
      "    7200      -924.     61.5      -856.    280  [    0.998    0.157    1.260    1.976 ...]\n",
      "    7300      -924.     61.6      -856.    280  [    1.169    0.130    0.733    1.923 ...]\n",
      "    7400      -924.     61.6      -855.    280  [    1.357    0.248    0.888    1.879 ...]\n",
      "    7500      -924.     61.6      -855.    280  [    1.248    0.858    0.435    1.984 ...]\n",
      "    7600      -924.     61.6      -854.    280  [    1.139    0.476    0.763    1.960 ...]\n",
      "    7700      -924.     61.6      -854.    280  [    1.530    0.168    0.725    1.949 ...]\n",
      "    7767      -924.     61.6      -854.    280 \n",
      "Parameters   [    0.858    0.797    0.576    1.927    1.908    1.275    0.639    0.510    0.978    1.674    1.765\n",
      "                  0.022    1.114    0.542    0.579    1.780    0.039    1.973    0.974    1.351    2.291    0.569\n",
      "                  1.356    0.747    1.371    4.337    0.785    0.357    1.828    1.159    2.736    0.631    1.233\n",
      "                  1.852    1.152    1.956    0.140    1.608    0.800    0.645    2.001    0.628    0.790    1.226\n",
      "                  1.479    1.835    0.840    1.374    1.056    1.924    0.508    0.015    0.880    1.990    1.685\n",
      "                  5.821    0.689    0.853    0.668    0.656    2.071    0.805    1.488    1.984    1.405    2.690\n",
      "                  0.601    1.619    0.684    1.369    1.450    0.100    1.196    1.112    1.736    1.004    0.319\n",
      "                  1.373    0.970    1.947    2.116    0.590    1.295    0.719    1.641    2.653    0.875    1.021\n",
      "                  1.164    1.300    0.518    0.074    1.810    1.989    1.700    1.819    0.105    1.940    1.374\n",
      "                  1.768    2.600    0.279    0.366    0.958    1.915    0.803    0.318    1.827    1.400    1.941\n",
      "                  1.481    0.550    1.923    0.385    1.242    1.059    0.010    0.897    1.989    1.609    2.643\n",
      "                  0.746    1.462    0.912    1.521    2.996    0.410    1.082    0.877    1.905    5.839    0.745\n",
      "                  0.820    1.058    0.591    1.831    0.045    0.826    1.828    0.823    4.441    0.245    0.840\n",
      "                  0.711    0.758    3.912    0.439    0.722    0.624    0.435    0.388    0.114    0.300    1.687\n",
      "                  1.948    0.644    0.011    1.303    1.571    1.696    1.191    0.251    1.965    0.906    1.639\n",
      "                  2.988    0.075    0.730    0.532    1.009    1.960    0.523    0.703    0.911    1.135    1.424\n",
      "                  0.568    1.149    0.920    1.658    6.051    0.425    0.835    1.976    0.460    4.230    0.836\n",
      "                  0.652    0.487    0.711    3.272    0.757    0.533    1.801    0.995    1.941    0.810    0.958\n",
      "                  0.749    1.282    1.512    0.010    1.750    1.075    1.349    2.897    0.762    1.720    0.899\n",
      "                  1.304    0.852    0.024    1.946    1.799    1.304    0.643    0.020    1.954    1.833    1.723\n",
      "                  2.686    0.537    1.047    1.833    0.722    0.753    0.498    0.206    0.966    1.351    1.574\n",
      "                  0.397    1.772    1.500    1.069    4.237    0.347    1.709    1.211    0.641    2.071    0.276\n",
      "                  1.814    0.646    0.809    1.212    0.038    1.913    1.658    0.911    2.331    0.619    1.536\n",
      "                  0.805    0.993    0.957    0.475    1.459    1.989    1.515    3.933    0.524    1.585    1.051\n",
      "                  0.501    2.444    0.032    1.628    1.232    0.872    2.423    0.336    1.610    0.872    0.708\n",
      "                  1.570    0.191    1.979    1.293    1.028]\n",
      "Engines              success     reject     failed       best      calls\n",
      "GalileanEngine         70500      44584      48957          0       7867\n",
      "ChordEngine            55038      12024          0          0       7867\n",
      "Calls to LogL       25242727   to dLogL      44584\n",
      "Samples        7867\n",
      "Evidence      -401.210 +-      0.341\n"
     ]
    }
   ],
   "source": [
    "# define NestedSampler\n",
    "ed = PoissonErrorDistribution()\n",
    "ns = NestedSampler( problem=problem, distribution=ed, seed=1301 )\n",
    "ns.verbose = 2\n",
    "# run NestedSampler\n",
    "evi = ns.sample( )\n"
   ]
  },
  {
   "cell_type": "code",
   "execution_count": 10,
   "metadata": {},
   "outputs": [],
   "source": [
    "sl = ns.samples\n",
    "pars = sl.parameters\n",
    "trial = pars[0:280:5]\n",
    "defen = pars[1:280:5]\n",
    "midf = pars[2:280:5]\n",
    "homad = pars[3:280:5]\n",
    "strat = pars[4:280:5]\n"
   ]
  },
  {
   "cell_type": "code",
   "execution_count": 11,
   "metadata": {},
   "outputs": [],
   "source": [
    "ks = numpy.argsort( trial )\n",
    "ks = numpy.flip( ks )"
   ]
  },
  {
   "cell_type": "code",
   "execution_count": 12,
   "metadata": {},
   "outputs": [
    {
     "data": {
      "image/png": "[encoded data removed]",
      "text/plain": [
       "<Figure size 864x720 with 5 Axes>"
      ]
     },
     "metadata": {
      "needs_background": "light"
     },
     "output_type": "display_data"
    }
   ],
   "source": [
    "plt.figure( 1, figsize=(12,10) )\n",
    "plt.subplots_adjust( hspace=0.001 )\n",
    "gs = gridspec.GridSpec( 5, 1, height_ratios=[4,1,2,2,2])\n",
    "\n",
    "ax0 = plt.subplot( gs[0] )\n",
    "ax0.step( trial[ks], 'k-', where='mid' )\n",
    "plt.yticks( [0,1,2,3,4] )\n",
    "plt.text( 50, 3.5, \"trials\" )\n",
    "ax1 = plt.subplot( gs[1] )\n",
    "plt.step( defen[ks], 'r-', where='mid' )\n",
    "plt.yticks( [0,1] )\n",
    "plt.text( 50, 0.5, \"defense\" )\n",
    "ax2 = plt.subplot( gs[2] )\n",
    "plt.step( midf[ks], 'g-', where='mid' )\n",
    "plt.yticks( [0,1,2] )\n",
    "plt.text( 50, 1.5, \"midfield\" )\n",
    "ax3 = plt.subplot( gs[3] )\n",
    "plt.step( homad[ks], 'b-', where='mid' )\n",
    "plt.yticks( [0,1,2] )\n",
    "plt.text( 50, 1.5, \"home advantage\" )\n",
    "ax4 = plt.subplot( gs[4] )\n",
    "plt.step( strat[ks], 'c-', where='mid' )\n",
    "plt.yticks( [0,1,2] )\n",
    "plt.text( 50, 1.5, \"strategy\" )\n",
    "plt.show()\n"
   ]
  },
  {
   "cell_type": "code",
   "execution_count": 13,
   "metadata": {},
   "outputs": [
    {
     "name": "stdout",
     "output_type": "stream",
     "text": [
      "  0 Belgium                 3.77    0.52    1.19    1.79    0.83\n",
      "  1 Kosovo                  3.44    0.36    0.86    0.63    1.33\n",
      "  2 Gibraltar               3.26    0.17    0.27    0.99    1.53\n",
      "  3 Israel                  3.21    0.16    1.14    0.98    1.36\n",
      "  4 Portugal                3.20    0.70    1.67    0.88    1.17\n",
      "  5 Switzerland             3.15    0.72    1.39    0.96    1.04\n",
      "  6 England                 3.06    0.54    1.69    0.68    1.21\n",
      "  7 Malta                   2.91    0.33    0.65    0.52    1.41\n",
      "  8 France                  2.88    0.75    1.16    1.31    1.06\n",
      "  9 NorthMacedonia          2.86    0.66    1.07    0.50    1.15\n",
      " 10 CzechRepublic           2.85    0.52    1.26    0.85    1.17\n",
      " 11 Netherlands             2.78    0.46    1.15    1.90    1.14\n",
      " 12 Serbia                  2.75    0.47    1.81    1.25    1.38\n",
      " 13 Ireland                 2.46    0.49    1.64    0.89    1.04\n",
      " 14 Turkey                  2.39    0.14    1.28    1.29    1.24\n",
      " 15 Spain                   2.33    0.61    1.60    0.96    1.20\n",
      " 16 Belarus                 2.31    0.45    0.55    1.82    1.16\n",
      " 17 Hungary                 2.28    0.51    1.74    0.35    0.99\n",
      " 18 Denmark                 2.26    0.75    1.53    1.89    1.29\n",
      " 19 Italy                   2.26    0.70    1.23    1.32    1.23\n",
      " 20 Russia                  2.26    0.58    1.13    1.74    1.10\n",
      " 21 Germany                 2.21    0.22    1.75    1.44    1.41\n",
      " 22 Ukraine                 2.17    0.40    1.70    0.80    0.99\n",
      " 23 Austria                 2.15    0.10    1.60    0.93    1.26\n",
      " 24 Croatia                 2.14    0.69    1.58    1.15    1.27\n",
      " 25 BosniaHerzeg            2.03    0.32    1.38    0.82    1.36\n",
      " 26 Scotland                1.97    0.30    1.68    1.54    0.87\n",
      " 27 Armenia                 1.93    0.22    0.83    0.74    1.10\n",
      " 28 Finland                 1.92    0.42    1.47    0.74    1.28\n",
      " 29 Moldova                 1.89    0.35    0.71    0.94    1.07\n",
      " 30 Kazakhstan              1.88    0.34    0.62    1.74    1.33\n",
      " 31 NorthernIreland         1.83    0.56    0.86    1.74    1.09\n",
      " 32 Sweden                  1.81    0.45    1.19    1.97    0.93\n",
      " 33 Norway                  1.79    0.54    1.34    0.76    1.02\n",
      " 34 Wales                   1.74    0.29    1.83    1.24    1.06\n",
      " 35 Poland                  1.73    0.07    1.61    1.27    1.41\n",
      " 36 Estonia                 1.56    0.11    1.28    1.07    1.47\n",
      " 37 Bulgaria                1.54    0.16    1.20    1.25    1.27\n",
      " 38 Montenegro              1.54    0.39    1.21    0.87    1.31\n",
      " 39 Azerbaijan              1.51    0.43    1.51    0.76    1.47\n",
      " 40 Slovakia                1.49    0.22    1.86    0.74    1.31\n",
      " 41 Qatar                   1.49    0.28    1.05    1.76    1.32\n",
      " 42 Luxembourg              1.45    0.25    1.57    0.94    1.49\n",
      " 43 Andorra                 1.37    0.28    0.64    1.10    1.36\n",
      " 44 Slovenia                1.29    0.16    1.67    1.42    1.18\n",
      " 45 Latvia                  1.23    0.24    1.40    0.66    1.14\n",
      " 46 Albania                 1.14    0.50    0.87    1.86    1.30\n",
      " 47 FaroeIslands            1.13    0.12    1.36    1.04    1.30\n",
      " 48 Lithuania               1.09    0.19    0.96    1.11    1.36\n",
      " 49 Iceland                 1.07    0.02    1.06    1.54    1.50\n",
      " 50 Greece                  1.01    0.24    1.63    1.45    1.42\n",
      " 51 Georgia                 0.89    0.15    1.49    1.87    1.32\n",
      " 52 Romania                 0.87    0.07    1.74    1.59    1.35\n",
      " 53 Cyprus                  0.71    0.03    0.73    1.95    1.45\n",
      " 54 SanMarino               0.67    0.23    0.23    1.08    1.30\n",
      " 55 Liechtenstein           0.65    0.19    0.28    1.56    1.00\n"
     ]
    }
   ],
   "source": [
    "for i, k in enumerate( ks ):\n",
    "    print( \"%3d %-20.20s  %6.2f  %6.2f  %6.2f  %6.2f  %6.2f\" % ( i, names[k], trial[k], defen[k], midf[k], homad[k], strat[k] ))"
   ]
  },
  {
   "cell_type": "code",
   "execution_count": null,
   "metadata": {},
   "outputs": [],
   "source": []
  }
 ],
 "metadata": {
  "anaconda-cloud": {},
  "kernelspec": {
   "display_name": "Python 3 (ipykernel)",
   "language": "python",
   "name": "python3"
  },
  "language_info": {
   "codemirror_mode": {
    "name": "ipython",
    "version": 3
   },
   "file_extension": ".py",
   "mimetype": "text/x-python",
   "name": "python",
   "nbconvert_exporter": "python",
   "pygments_lexer": "ipython3",
   "version": "3.8.12"
  }
 },
 "nbformat": 4,
 "nbformat_minor": 1
}
