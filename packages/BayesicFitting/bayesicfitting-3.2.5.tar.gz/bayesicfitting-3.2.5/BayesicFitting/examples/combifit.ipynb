{
 "cells": [
  {
   "cell_type": "markdown",
   "metadata": {},
   "source": [
    "## Purpose: CombiModel example\n",
    "\n",
    "Use Case:\n",
    "Fit a line multiplet in spectral data.\n",
    "\n",
    "Demonstration: \n",
    "1. CombiModel\n",
    "2. Parameter fit using LevenbergMarquardtFitter\n",
    "3. Parameter fit using (Annealing) AmoebaFitter\n",
    "\n",
    "Author: Do Kester\n"
   ]
  },
  {
   "cell_type": "markdown",
   "metadata": {},
   "source": [
    "import classes"
   ]
  },
  {
   "cell_type": "code",
   "execution_count": 1,
   "metadata": {
    "execution": {
     "iopub.execute_input": "2023-07-04T22:38:08.422102Z",
     "iopub.status.busy": "2023-07-04T22:38:08.421472Z",
     "iopub.status.idle": "2023-07-04T22:38:09.230921Z",
     "shell.execute_reply": "2023-07-04T22:38:09.231075Z"
    }
   },
   "outputs": [],
   "source": [
    "import numpy as numpy\n",
    "import math\n",
    "\n",
    "from BayesicFitting import GaussModel\n",
    "from BayesicFitting import CombiModel\n",
    "from BayesicFitting import PolynomialModel\n",
    "from BayesicFitting import LevenbergMarquardtFitter\n",
    "from BayesicFitting import AmoebaFitter\n",
    "from BayesicFitting import formatter as fmt\n",
    "from BayesicFitting import formatter_init as init\n",
    "import matplotlib.pyplot as plt\n",
    "\n",
    "\n",
    "# inititialise the formatter to get a nicer layout\n",
    "init( linelength=60, indent=13 )"
   ]
  },
  {
   "cell_type": "markdown",
   "metadata": {},
   "source": [
    "define some constants"
   ]
  },
  {
   "cell_type": "code",
   "execution_count": 2,
   "metadata": {
    "execution": {
     "iopub.execute_input": "2023-07-04T22:38:09.233323Z",
     "iopub.status.busy": "2023-07-04T22:38:09.233035Z",
     "iopub.status.idle": "2023-07-04T22:38:09.234440Z",
     "shell.execute_reply": "2023-07-04T22:38:09.234588Z"
    }
   },
   "outputs": [],
   "source": [
    "N = 201\n",
    "x0 = 0.1            # x position of gaussian\n",
    "a0 = 10.0           # amplitude of gaussian\n",
    "s0 = 0.1            # width   \n",
    "b0 = 1.0            # offset of background\n",
    "b1 = 0.2            # slope of background\n",
    "   \n",
    "a1 = 0.7 * a0       \n",
    "a2 = 1.2 * a0\n",
    "a3 = 0.4 * a0\n",
    "x1 = x0 + 1.4\n",
    "x2 = x0 + 2.7   \n",
    "x3 = x0 + 3.3\n",
    "\n",
    "sig = 0.2"
   ]
  },
  {
   "cell_type": "markdown",
   "metadata": {},
   "source": [
    "make a 3-degree polynomial"
   ]
  },
  {
   "cell_type": "code",
   "execution_count": 3,
   "metadata": {
    "execution": {
     "iopub.execute_input": "2023-07-04T22:38:09.237552Z",
     "iopub.status.busy": "2023-07-04T22:38:09.237283Z",
     "iopub.status.idle": "2023-07-04T22:38:09.238556Z",
     "shell.execute_reply": "2023-07-04T22:38:09.238715Z"
    }
   },
   "outputs": [],
   "source": [
    "x = numpy.linspace( -2.0, 5.0, N, dtype=float )\n",
    "ym = a0 * numpy.exp( -0.5 * numpy.square( (x - x0) / s0 ) )\n",
    "ym += a1 * numpy.exp( -0.5 * numpy.square( (x - x1) / s0 ) )\n",
    "ym += a2 * numpy.exp( -0.5 * numpy.square( (x - x2) / s0 ) )\n",
    "ym += a3 * numpy.exp( -0.5 * numpy.square( (x - x3) / s0 ) )\n",
    "ym += b0 + b1 * x\n",
    "\n",
    "numpy.random.seed( 1308 )\n",
    "y = ym + sig * numpy.random.randn( N )\n"
   ]
  },
  {
   "cell_type": "markdown",
   "metadata": {},
   "source": [
    "Define the model as a combination of 4 GaussModels, of which the centers are connected additively:\n",
    "    * center_0 = param_1\n",
    "    * center_1 = param_1 + 1.4 \n",
    "    * center_2 = param_1 + 2.7\n",
    "    * center_3 = param_1 + 3.3\n",
    "The widths are connected multiplicatively\n",
    "    * width_[:] = param_2 * 1\n",
    "All lines have the same width. Alternatively, the same could be achieved with an additive connection: addCombi={2,[0,0,0,0]}."
   ]
  },
  {
   "cell_type": "code",
   "execution_count": 4,
   "metadata": {
    "execution": {
     "iopub.execute_input": "2023-07-04T22:38:09.241103Z",
     "iopub.status.busy": "2023-07-04T22:38:09.240757Z",
     "iopub.status.idle": "2023-07-04T22:38:09.242379Z",
     "shell.execute_reply": "2023-07-04T22:38:09.242543Z"
    }
   },
   "outputs": [
    {
     "name": "stdout",
     "output_type": "stream",
     "text": [
      "Combi of 4 times Gauss +\n",
      "Polynomial: f( x:p ) = p_6 + p_7 * x\n",
      "[1. 0. 1. 1. 1. 1. 0. 0.]\n"
     ]
    }
   ],
   "source": [
    "gm = GaussModel()\n",
    "com = CombiModel( gm, 4, addCombi={1:[0,1.4,2.7,3.3]}, \n",
    "                  mulCombi={2:[1,1,1,1]} )\n",
    "com.addModel( PolynomialModel( 1 ) )\n",
    "\n",
    "print( com )\n",
    "print( com.parameters )"
   ]
  },
  {
   "cell_type": "markdown",
   "metadata": {},
   "source": [
    "define a fitter: LevenbergMarquardtFitter"
   ]
  },
  {
   "cell_type": "code",
   "execution_count": 5,
   "metadata": {
    "execution": {
     "iopub.execute_input": "2023-07-04T22:38:09.244913Z",
     "iopub.status.busy": "2023-07-04T22:38:09.244598Z",
     "iopub.status.idle": "2023-07-04T22:38:09.326913Z",
     "shell.execute_reply": "2023-07-04T22:38:09.326329Z"
    }
   },
   "outputs": [
    {
     "data": {
      "image/png": "[encoded data removed]",
      "text/plain": [
       "<Figure size 504x360 with 2 Axes>"
      ]
     },
     "metadata": {
      "needs_background": "light"
     },
     "output_type": "display_data"
    },
    {
     "name": "stdout",
     "output_type": "stream",
     "text": [
      "Parameters : [    9.789    0.100    0.101    7.133   11.924\n",
      "                  3.984    0.991    0.194]\n",
      "StDevs     : [    0.089    0.001    0.001    0.086    0.091\n",
      "                  0.086    0.018    0.007]\n",
      "Chisq      :     6.503\n",
      "Scale      :     0.184\n",
      "Evidence   :  -105.659\n"
     ]
    }
   ],
   "source": [
    "fitter = LevenbergMarquardtFitter( x, com )\n",
    " \n",
    "# find the parameters\n",
    "param = fitter.fit( y, plot=True )\n",
    "\n",
    "print( \"Parameters :\", fmt( param, max=None ) )\n",
    "print( \"StDevs     :\", fmt( fitter.stdevs, max=None ) )\n",
    "print( \"Chisq      :\", fmt( fitter.chisq ) )\n",
    "print( \"Scale      :\", fmt( fitter.scale ) )\n",
    "print( \"Evidence   :\", fmt( fitter.getEvidence( limits=[-100,100] ) ) )\n"
   ]
  },
  {
   "cell_type": "markdown",
   "metadata": {},
   "source": [
    "Try the AmoebaFitter with a temperature setting to use the annealing feature."
   ]
  },
  {
   "cell_type": "code",
   "execution_count": 6,
   "metadata": {
    "execution": {
     "iopub.execute_input": "2023-07-04T22:38:09.350336Z",
     "iopub.status.busy": "2023-07-04T22:38:09.349572Z",
     "iopub.status.idle": "2023-07-04T22:38:10.205340Z",
     "shell.execute_reply": "2023-07-04T22:38:10.204617Z"
    }
   },
   "outputs": [
    {
     "data": {
      "image/png": "[encoded data removed]",
      "text/plain": [
       "<Figure size 504x360 with 2 Axes>"
      ]
     },
     "metadata": {
      "needs_background": "light"
     },
     "output_type": "display_data"
    },
    {
     "name": "stdout",
     "output_type": "stream",
     "text": [
      "Parameters : [    9.789    0.100    0.101    7.133   11.924\n",
      "                  3.984    0.991    0.194]\n",
      "StDevs     : [    0.089    0.001    0.001    0.086    0.091\n",
      "                  0.086    0.018    0.007]\n",
      "Chisq      :     6.503\n",
      "Scale      :     0.184\n",
      "Evidence   :  -105.659\n"
     ]
    }
   ],
   "source": [
    "ftr = AmoebaFitter( x, com )\n",
    "param = ftr.fit( y, temp=2.0, tolerance=0.01, plot=True )\n",
    "\n",
    "print( \"Parameters :\", fmt( param, max=None ) )\n",
    "print( \"StDevs     :\", fmt( fitter.stdevs, max=None ) )\n",
    "print( \"Chisq      :\", fmt( fitter.chisq ) )\n",
    "print( \"Scale      :\", fmt( fitter.scale ) )\n",
    "print( \"Evidence   :\", fmt( fitter.getEvidence( limits=[-100,100] ) ) )\n"
   ]
  },
  {
   "cell_type": "markdown",
   "metadata": {},
   "source": [
    "Exercise: Change the initial parameter of the model until the fitters fail to give the right answer."
   ]
  }
 ],
 "metadata": {
  "anaconda-cloud": {},
  "kernelspec": {
   "display_name": "Python 3 (ipykernel)",
   "language": "python",
   "name": "python3"
  },
  "language_info": {
   "codemirror_mode": {
    "name": "ipython",
    "version": 3
   },
   "file_extension": ".py",
   "mimetype": "text/x-python",
   "name": "python",
   "nbconvert_exporter": "python",
   "pygments_lexer": "ipython3",
   "version": "3.8.12"
  }
 },
 "nbformat": 4,
 "nbformat_minor": 1
}
