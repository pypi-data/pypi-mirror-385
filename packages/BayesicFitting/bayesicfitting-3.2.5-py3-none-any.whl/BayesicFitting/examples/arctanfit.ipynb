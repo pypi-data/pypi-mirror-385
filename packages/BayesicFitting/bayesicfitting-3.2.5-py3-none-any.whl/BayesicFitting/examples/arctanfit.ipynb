{
 "cells": [
  {
   "cell_type": "markdown",
   "metadata": {},
   "source": [
    "## Purpose: Non-linear fit\n",
    "\n",
    " Demonstration: \n",
    " 1. Arctan Model\n",
    " 2. LevenbergMarquardtFitter\n",
    " \n",
    " Author: Do Kester\n"
   ]
  },
  {
   "cell_type": "markdown",
   "metadata": {},
   "source": [
    "import stuff"
   ]
  },
  {
   "cell_type": "code",
   "execution_count": 1,
   "metadata": {
    "execution": {
     "iopub.execute_input": "2023-07-04T21:52:24.591326Z",
     "iopub.status.busy": "2023-07-04T21:52:24.590642Z",
     "iopub.status.idle": "2023-07-04T21:52:25.440592Z",
     "shell.execute_reply": "2023-07-04T21:52:25.440773Z"
    }
   },
   "outputs": [],
   "source": [
    "import numpy as numpy\n",
    "import math\n",
    "\n",
    "from BayesicFitting import ArctanModel\n",
    "from BayesicFitting import PolynomialModel\n",
    "from BayesicFitting import LevenbergMarquardtFitter\n",
    "from BayesicFitting import formatter as fmt\n",
    "from BayesicFitting import plotFit\n",
    "import matplotlib.pyplot as plt"
   ]
  },
  {
   "cell_type": "markdown",
   "metadata": {},
   "source": [
    "define some constants"
   ]
  },
  {
   "cell_type": "code",
   "execution_count": 2,
   "metadata": {
    "execution": {
     "iopub.execute_input": "2023-07-04T21:52:25.442549Z",
     "iopub.status.busy": "2023-07-04T21:52:25.442287Z",
     "iopub.status.idle": "2023-07-04T21:52:25.443317Z",
     "shell.execute_reply": "2023-07-04T21:52:25.443494Z"
    }
   },
   "outputs": [],
   "source": [
    "N = 101\n",
    "x0 = 60             # x position of arctanian\n",
    "seed = 3456\n"
   ]
  },
  {
   "cell_type": "markdown",
   "metadata": {},
   "source": [
    "make data as a set of +1 or -1 values."
   ]
  },
  {
   "cell_type": "code",
   "execution_count": 3,
   "metadata": {
    "execution": {
     "iopub.execute_input": "2023-07-04T21:52:25.445476Z",
     "iopub.status.busy": "2023-07-04T21:52:25.445201Z",
     "iopub.status.idle": "2023-07-04T21:52:25.446465Z",
     "shell.execute_reply": "2023-07-04T21:52:25.446630Z"
    }
   },
   "outputs": [],
   "source": [
    "x = numpy.linspace( 20.0, 100.0, N, dtype=float )\n",
    "numpy.random.seed( seed )\n",
    "y = numpy.where( ( x + 10 * numpy.random.randn( N ) ) > x0, 1.0, 0.0 )\n",
    "#x += x0\n"
   ]
  },
  {
   "cell_type": "markdown",
   "metadata": {},
   "source": [
    "Define the model"
   ]
  },
  {
   "cell_type": "code",
   "execution_count": 4,
   "metadata": {
    "execution": {
     "iopub.execute_input": "2023-07-04T21:52:25.449023Z",
     "iopub.status.busy": "2023-07-04T21:52:25.448714Z",
     "iopub.status.idle": "2023-07-04T21:52:25.449954Z",
     "shell.execute_reply": "2023-07-04T21:52:25.450116Z"
    }
   },
   "outputs": [
    {
     "name": "stdout",
     "output_type": "stream",
     "text": [
      "Arctan: f( x:p ) = p_0 * arctan( p_2 * ( x - p_1 ) ) +\n",
      "Polynomial: f( x:p ) = p_3\n"
     ]
    }
   ],
   "source": [
    "arctan = ArctanModel()\n",
    "arctan += PolynomialModel(0)\n",
    "print( arctan )\n",
    "initial = [0.5,50,1,-0.5]\n",
    "arctan.parameters = initial\n"
   ]
  },
  {
   "cell_type": "markdown",
   "metadata": {},
   "source": [
    "define the fitter: LevenbergMarquart"
   ]
  },
  {
   "cell_type": "code",
   "execution_count": 5,
   "metadata": {
    "execution": {
     "iopub.execute_input": "2023-07-04T21:52:25.452720Z",
     "iopub.status.busy": "2023-07-04T21:52:25.452440Z",
     "iopub.status.idle": "2023-07-04T21:52:25.522118Z",
     "shell.execute_reply": "2023-07-04T21:52:25.522305Z"
    }
   },
   "outputs": [
    {
     "data": {
      "image/png": "[encoded data removed]",
      "text/plain": [
       "<Figure size 504x360 with 2 Axes>"
      ]
     },
     "metadata": {
      "needs_background": "light"
     },
     "output_type": "display_data"
    }
   ],
   "source": [
    "fitter = LevenbergMarquardtFitter( x, arctan )\n",
    " \n",
    "# find the parameters\n",
    "param = fitter.fit( y, plot=True )\n",
    "\n",
    "  "
   ]
  },
  {
   "cell_type": "code",
   "execution_count": 6,
   "metadata": {
    "execution": {
     "iopub.execute_input": "2023-07-04T21:52:25.525378Z",
     "iopub.status.busy": "2023-07-04T21:52:25.525022Z",
     "iopub.status.idle": "2023-07-04T21:52:25.526744Z",
     "shell.execute_reply": "2023-07-04T21:52:25.527067Z"
    }
   },
   "outputs": [
    {
     "name": "stdout",
     "output_type": "stream",
     "text": [
      "Parameters : [    0.394   56.645    0.110    0.480]\n",
      "StDevs     : [    0.058    2.236    0.048    0.041]\n",
      "Chisq      :     7.534\n",
      "Scale      :     0.279\n",
      "Covar matrix :\n",
      "[[    0.003   -0.015   -0.002   -0.000]\n",
      " [   -0.015    4.999    0.009    0.067]\n",
      " [   -0.002    0.009    0.002    0.000]\n",
      " [   -0.000    0.067    0.000    0.002]]\n"
     ]
    }
   ],
   "source": [
    "print( \"Parameters :\", fmt( param ) )\n",
    "print( \"StDevs     :\", fmt( fitter.stdevs ) )\n",
    "print( \"Chisq      :\", fmt( fitter.chisq ) )\n",
    "print( \"Scale      :\", fmt( fitter.scale ) )\n",
    "print( \"Covar matrix :\" )\n",
    "print( fmt( fitter.covariance))"
   ]
  },
  {
   "cell_type": "code",
   "execution_count": null,
   "metadata": {},
   "outputs": [],
   "source": []
  }
 ],
 "metadata": {
  "anaconda-cloud": {},
  "kernelspec": {
   "display_name": "Python 3 (ipykernel)",
   "language": "python",
   "name": "python3"
  },
  "language_info": {
   "codemirror_mode": {
    "name": "ipython",
    "version": 3
   },
   "file_extension": ".py",
   "mimetype": "text/x-python",
   "name": "python",
   "nbconvert_exporter": "python",
   "pygments_lexer": "ipython3",
   "version": "3.8.12"
  }
 },
 "nbformat": 4,
 "nbformat_minor": 1
}
