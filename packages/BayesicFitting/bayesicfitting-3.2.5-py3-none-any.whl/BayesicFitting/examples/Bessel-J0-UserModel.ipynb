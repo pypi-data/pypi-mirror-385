{
 "cells": [
  {
   "cell_type": "markdown",
   "metadata": {},
   "source": [
    "## Bessel J0 UserModel.\n",
    "\n",
    "We construct a UserModel implementing the Bessel function of the first kind, order 0: scipy.special.j0()\n",
    "\n",
    "Demonstration:\n",
    "1. UserModel\n",
    "2. NestedSampler\n"
   ]
  },
  {
   "cell_type": "code",
   "execution_count": 1,
   "metadata": {
    "execution": {
     "iopub.execute_input": "2023-07-04T19:51:52.925445Z",
     "iopub.status.busy": "2023-07-04T19:51:52.924711Z",
     "iopub.status.idle": "2023-07-04T19:51:53.839467Z",
     "shell.execute_reply": "2023-07-04T19:51:53.839653Z"
    }
   },
   "outputs": [],
   "source": [
    "import numpy as numpy\n",
    "from scipy.special import j0\n",
    "import math\n",
    "\n",
    "from astropy.io import ascii\n",
    "\n",
    "from BayesicFitting import UserModel\n",
    "from BayesicFitting import NestedSampler\n",
    "from BayesicFitting import formatter as fmt\n",
    "from BayesicFitting import Tools\n",
    "import matplotlib.pyplot as plt\n"
   ]
  },
  {
   "cell_type": "code",
   "execution_count": 2,
   "metadata": {
    "execution": {
     "iopub.execute_input": "2023-07-04T19:51:53.841985Z",
     "iopub.status.busy": "2023-07-04T19:51:53.841709Z",
     "iopub.status.idle": "2023-07-04T19:51:53.842866Z",
     "shell.execute_reply": "2023-07-04T19:51:53.843050Z"
    }
   },
   "outputs": [],
   "source": [
    "#%matplotlib osx\n",
    "%matplotlib inline"
   ]
  },
  {
   "cell_type": "code",
   "execution_count": 3,
   "metadata": {
    "execution": {
     "iopub.execute_input": "2023-07-04T19:51:53.847804Z",
     "iopub.status.busy": "2023-07-04T19:51:53.844959Z",
     "iopub.status.idle": "2023-07-04T19:51:53.893425Z",
     "shell.execute_reply": "2023-07-04T19:51:53.893610Z"
    }
   },
   "outputs": [
    {
     "data": {
      "image/png": "[encoded data removed]",
      "text/plain": [
       "<Figure size 432x288 with 1 Axes>"
      ]
     },
     "metadata": {
      "needs_background": "light"
     },
     "output_type": "display_data"
    }
   ],
   "source": [
    "## Make some data. It looks like a Bessel function, but it is not.\n",
    "\n",
    "npt = 401\n",
    "t = numpy.linspace( 0, 100, npt, dtype=float )\n",
    "ym = 2 * numpy.sin( 2 * math.pi * ( t / 30 ) + 1 ) * numpy.exp( -0.02 * t )\n",
    "y = numpy.random.seed( 12345 )\n",
    "y = ym + numpy.random.randn( npt ) * 0.2\n",
    "plt.plot( t, y, 'k.' )\n",
    "plt.show()"
   ]
  },
  {
   "cell_type": "code",
   "execution_count": 4,
   "metadata": {
    "execution": {
     "iopub.execute_input": "2023-07-04T19:51:53.896067Z",
     "iopub.status.busy": "2023-07-04T19:51:53.895744Z",
     "iopub.status.idle": "2023-07-04T19:51:53.897508Z",
     "shell.execute_reply": "2023-07-04T19:51:53.897731Z"
    }
   },
   "outputs": [
    {
     "name": "stderr",
     "output_type": "stream",
     "text": [
      "/Users/do/PYTHON/Master/BayesicFitting/BayesicFitting/source/UserModel.py:143: UserWarning: Using numeric approximations for userPartial\n",
      "  warnings.warn( \"Using numeric approximations for %s\" % name )\n",
      "/Users/do/PYTHON/Master/BayesicFitting/BayesicFitting/source/UserModel.py:143: UserWarning: Using numeric approximations for userDerivative\n",
      "  warnings.warn( \"Using numeric approximations for %s\" % name )\n"
     ]
    }
   ],
   "source": [
    "## Define a parameterized version of the Bessel function j0.\n",
    "def bessel_result( x, p ):\n",
    "    xx = ( x - p[1] ) / p[2]\n",
    "    return p[0] * j0( xx )\n",
    "\n",
    "## We do not have partials or derivatives; so we get warnings.\n",
    "model = UserModel( 3, bessel_result, userName=\"Bessel J0\" )\n",
    "model.setLimits( [-10, -2, 0], [10,10,10] ) "
   ]
  },
  {
   "cell_type": "code",
   "execution_count": 5,
   "metadata": {
    "execution": {
     "iopub.execute_input": "2023-07-04T19:51:53.907132Z",
     "iopub.status.busy": "2023-07-04T19:51:53.899318Z",
     "iopub.status.idle": "2023-07-04T19:51:59.888619Z",
     "shell.execute_reply": "2023-07-04T19:51:59.888793Z"
    }
   },
   "outputs": [
    {
     "name": "stdout",
     "output_type": "stream",
     "text": [
      "Fit all parameters of\n",
      "  UserModel( Bessel J0 )\n",
      "Using a Gauss error distribution with unknown scale\n",
      "Moving the walkers with   ChordEngine  StepEngine\n",
      "Iteration     logZ        H       LowL     npar parameters                   scale\n",
      "       0  -1.93e+07      4.6  -1.93e+07      4  [   -9.593    2.653    6.077    0.012]\n"
     ]
    },
    {
     "name": "stdout",
     "output_type": "stream",
     "text": [
      "     100  -1.84e+04      5.6  -1.84e+04      4  [    7.557   -0.240    5.592    0.209]\n",
      "     200  -1.76e+03      6.6  -1.75e+03      4  [   -2.408    2.833    3.651    0.473]\n"
     ]
    },
    {
     "name": "stdout",
     "output_type": "stream",
     "text": [
      "     300      -726.      7.0      -719.      4  [    4.239    1.439    5.191    0.662]\n"
     ]
    },
    {
     "name": "stdout",
     "output_type": "stream",
     "text": [
      "     400      -503.      7.5      -495.      4  [   -0.456    8.738    3.998    0.879]\n"
     ]
    },
    {
     "name": "stdout",
     "output_type": "stream",
     "text": [
      "     500      -454.      7.9      -446.      4  [    2.358    5.428    2.562    0.579]\n"
     ]
    },
    {
     "name": "stdout",
     "output_type": "stream",
     "text": [
      "     600      -404.      9.4      -394.      4  [    1.101    5.614    3.045    0.708]\n"
     ]
    },
    {
     "name": "stdout",
     "output_type": "stream",
     "text": [
      "     700      -317.     10.0      -307.      4  [    1.581    1.693    4.175    0.675]\n",
      "     800      -232.     11.4      -220.      4  [    2.435   -1.566    4.482    0.404]\n"
     ]
    },
    {
     "name": "stdout",
     "output_type": "stream",
     "text": [
      "     900      -167.     12.7      -154.      4  [    2.299   -1.661    4.618    0.281]\n"
     ]
    },
    {
     "name": "stdout",
     "output_type": "stream",
     "text": [
      "    1000      -126.     12.4      -112.      4  [    1.951    0.221    4.611    0.317]\n"
     ]
    },
    {
     "name": "stdout",
     "output_type": "stream",
     "text": [
      "    1100      -95.1     13.0      -81.5      4  [    2.514   -0.298    4.592    0.328]\n"
     ]
    },
    {
     "name": "stdout",
     "output_type": "stream",
     "text": [
      "    1200      -74.7     13.7      -60.1      4  [    2.876   -1.234    4.698    0.271]\n"
     ]
    },
    {
     "name": "stdout",
     "output_type": "stream",
     "text": [
      "    1300      -59.0     14.3      -43.8      4  [    2.576   -1.128    4.845    0.288]\n"
     ]
    },
    {
     "name": "stdout",
     "output_type": "stream",
     "text": [
      "    1400      -50.0     14.7      -34.3      4  [    2.540   -1.485    4.855    0.287]\n"
     ]
    },
    {
     "name": "stdout",
     "output_type": "stream",
     "text": [
      "    1500      -45.5     15.2      -29.2      4  [    2.556   -1.262    4.782    0.238]\n"
     ]
    },
    {
     "name": "stdout",
     "output_type": "stream",
     "text": [
      "    1600      -43.1     15.3      -26.7      4  [    2.718   -1.658    4.790    0.258]\n"
     ]
    },
    {
     "name": "stdout",
     "output_type": "stream",
     "text": [
      "    1700      -42.0     15.5      -25.2      4  [    2.649   -1.810    4.818    0.256]\n"
     ]
    },
    {
     "name": "stdout",
     "output_type": "stream",
     "text": [
      "    1800      -41.4     15.7      -24.3      4  [    2.719   -1.841    4.854    0.252]\n"
     ]
    },
    {
     "name": "stdout",
     "output_type": "stream",
     "text": [
      "    1900      -41.1     15.8      -23.8      4  [    2.661   -1.716    4.825    0.267]\n"
     ]
    },
    {
     "name": "stdout",
     "output_type": "stream",
     "text": [
      "    2000      -41.0     15.9      -23.5      4  [    2.695   -1.754    4.830    0.262]\n"
     ]
    },
    {
     "name": "stdout",
     "output_type": "stream",
     "text": [
      "    2100      -40.9     15.9      -23.2      4  [    2.694   -1.696    4.828    0.252]\n"
     ]
    },
    {
     "name": "stdout",
     "output_type": "stream",
     "text": [
      "    2200      -40.9     16.0      -23.1      4  [    2.693   -1.707    4.831    0.257]\n"
     ]
    },
    {
     "name": "stdout",
     "output_type": "stream",
     "text": [
      "    2300      -40.9     16.0      -23.0      4  [    2.653   -1.662    4.827    0.254]\n"
     ]
    },
    {
     "name": "stdout",
     "output_type": "stream",
     "text": [
      "    2400      -40.9     16.0      -23.0      4  [    2.675   -1.699    4.827    0.257]\n"
     ]
    },
    {
     "name": "stdout",
     "output_type": "stream",
     "text": [
      "    2500      -40.9     16.0      -23.0      4  [    2.667   -1.674    4.829    0.257]\n",
      "    2534      -40.9     16.0      -23.0      4 \n",
      "Parameters   [    2.666   -1.645    4.823    0.257]\n",
      "Engines              success     reject     failed       best      calls\n",
      "ChordEngine            18397      22178          0          0       2634\n",
      "StepEngine             12869      22548         97          0       2634\n",
      "Calls to LogL          76089\n",
      "Samples        2634\n",
      "Evidence       -17.765 +-      0.174\n"
     ]
    },
    {
     "data": {
      "image/png": "[encoded data removed]",
      "text/plain": [
       "<Figure size 864x576 with 2 Axes>"
      ]
     },
     "metadata": {
      "needs_background": "light"
     },
     "output_type": "display_data"
    }
   ],
   "source": [
    "## Use engines that do not use partial derivatives.\n",
    "engs = [\"chord\", \"step\"]\n",
    "ns = NestedSampler( t, model, y, engines=engs )\n",
    "ns.distribution.setLimits( [0.01, 1] )\n",
    "ns.verbose = 2\n",
    "evi = ns.sample( plot=True )"
   ]
  },
  {
   "cell_type": "code",
   "execution_count": 6,
   "metadata": {
    "execution": {
     "iopub.execute_input": "2023-07-04T19:51:59.891371Z",
     "iopub.status.busy": "2023-07-04T19:51:59.891094Z",
     "iopub.status.idle": "2023-07-04T19:51:59.892198Z",
     "shell.execute_reply": "2023-07-04T19:51:59.892403Z"
    }
   },
   "outputs": [
    {
     "name": "stdout",
     "output_type": "stream",
     "text": [
      "[    2.665   -1.630    4.821]\n",
      "[    2.665   -1.630    4.821]\n"
     ]
    }
   ],
   "source": [
    "sl = ns.samples\n",
    "kmed = sl.getMedianIndex()\n",
    "smpl = sl[kmed]\n",
    "print( fmt( smpl.model.parameters, max=None ) )\n",
    "print( fmt( sl[-1].model.parameters, max=None ) )"
   ]
  },
  {
   "cell_type": "code",
   "execution_count": null,
   "metadata": {},
   "outputs": [],
   "source": []
  }
 ],
 "metadata": {
  "kernelspec": {
   "display_name": "Python 3 (ipykernel)",
   "language": "python",
   "name": "python3"
  },
  "language_info": {
   "codemirror_mode": {
    "name": "ipython",
    "version": 3
   },
   "file_extension": ".py",
   "mimetype": "text/x-python",
   "name": "python",
   "nbconvert_exporter": "python",
   "pygments_lexer": "ipython3",
   "version": "3.8.12"
  }
 },
 "nbformat": 4,
 "nbformat_minor": 2
}
