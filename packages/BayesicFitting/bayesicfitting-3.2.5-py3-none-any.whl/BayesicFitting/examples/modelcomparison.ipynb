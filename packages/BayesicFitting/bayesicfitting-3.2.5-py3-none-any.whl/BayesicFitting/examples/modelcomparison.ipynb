{
 "cells": [
  {
   "cell_type": "markdown",
   "metadata": {},
   "source": [
    "## Purpose: Model Comparison\n",
    "\n",
    "Demonstration: \n",
    "1. Parameter fit\n",
    "2. Use of Evidence\n",
    "\n",
    "Author: Do Kester\n"
   ]
  },
  {
   "cell_type": "markdown",
   "metadata": {},
   "source": [
    "import classes"
   ]
  },
  {
   "cell_type": "code",
   "execution_count": 1,
   "metadata": {
    "execution": {
     "iopub.execute_input": "2023-07-04T22:38:26.158281Z",
     "iopub.status.busy": "2023-07-04T22:38:26.157655Z",
     "iopub.status.idle": "2023-07-04T22:38:26.970915Z",
     "shell.execute_reply": "2023-07-04T22:38:26.971083Z"
    }
   },
   "outputs": [],
   "source": [
    "import numpy as numpy\n",
    "import math\n",
    "\n",
    "from BayesicFitting import PolynomialModel\n",
    "from BayesicFitting import Fitter\n",
    "from BayesicFitting import formatter as fmt\n",
    "from BayesicFitting import plotFit\n",
    "import matplotlib.pyplot as plt"
   ]
  },
  {
   "cell_type": "markdown",
   "metadata": {},
   "source": [
    "define some constants"
   ]
  },
  {
   "cell_type": "code",
   "execution_count": 2,
   "metadata": {
    "execution": {
     "iopub.execute_input": "2023-07-04T22:38:26.972790Z",
     "iopub.status.busy": "2023-07-04T22:38:26.972527Z",
     "iopub.status.idle": "2023-07-04T22:38:26.973914Z",
     "shell.execute_reply": "2023-07-04T22:38:26.974087Z"
    }
   },
   "outputs": [],
   "source": [
    "N = 21\n",
    "sig = 0.1"
   ]
  },
  {
   "cell_type": "markdown",
   "metadata": {},
   "source": [
    "make a 3-degree polynomial"
   ]
  },
  {
   "cell_type": "code",
   "execution_count": 3,
   "metadata": {
    "execution": {
     "iopub.execute_input": "2023-07-04T22:38:26.976483Z",
     "iopub.status.busy": "2023-07-04T22:38:26.976217Z",
     "iopub.status.idle": "2023-07-04T22:38:26.977515Z",
     "shell.execute_reply": "2023-07-04T22:38:26.977669Z"
    }
   },
   "outputs": [],
   "source": [
    "x = numpy.linspace( -2.0, 3.0, N, dtype=float )\n",
    "ym = 1.2 + 0.5 * x + 0.33 * x * x + 0.27 * x * x * x\n",
    "\n",
    "numpy.random.seed( 864 )\n",
    "y = ym + sig * numpy.random.randn( N )\n"
   ]
  },
  {
   "cell_type": "markdown",
   "metadata": {},
   "source": [
    "Fit polynomial models of increasing degree. Calculate the evidence to see which one is the best model."
   ]
  },
  {
   "cell_type": "code",
   "execution_count": 4,
   "metadata": {
    "execution": {
     "iopub.execute_input": "2023-07-04T22:38:26.983388Z",
     "iopub.status.busy": "2023-07-04T22:38:26.983091Z",
     "iopub.status.idle": "2023-07-04T22:38:27.095725Z",
     "shell.execute_reply": "2023-07-04T22:38:27.095228Z"
    }
   },
   "outputs": [
    {
     "name": "stdout",
     "output_type": "stream",
     "text": [
      "Polynomial degree  0   blue\n",
      "Fit params           3.209\n",
      "    stdev            0.815\n",
      "    chisq          278.719\n",
      "    evidence       -29.669\n",
      "Polynomial degree  1   green\n",
      "Fit params       [    2.140    2.139]\n",
      "    stdev        [    0.404    0.253]\n",
      "    chisq           58.619\n",
      "    evidence       -25.412\n",
      "Polynomial degree  2   red\n",
      "Fit params       [    0.630    1.399    0.739]\n",
      "    stdev        [    0.244    0.138    0.082]\n",
      "    chisq           10.701\n",
      "    evidence       -21.400\n",
      "Polynomial degree  3   mint\n",
      "Fit params       [    1.140    0.512    0.344    0.264]\n",
      "    stdev        [    0.029    0.027    0.013    0.007]\n",
      "    chisq            0.116\n",
      "    evidence        -7.825\n",
      "Polynomial degree  4   magenta\n",
      "Fit params       [    1.139    0.510    0.346    0.265   -0.000]\n",
      "    stdev        [    0.033    0.040    0.027    0.013    0.005]\n",
      "    chisq            0.116\n",
      "    evidence       -12.019\n",
      "Polynomial degree  5   yellow\n",
      "Fit params       [    1.151    0.495    0.318    0.278    0.006   -0.003]\n",
      "    stdev        [    0.039    0.047    0.051    0.025    0.012    0.004]\n",
      "    chisq            0.113\n",
      "    evidence       -16.220\n",
      "Polynomial degree  6   black\n",
      "Fit params       [    1.160    0.568    0.283    0.206    0.031    0.011   -0.005]\n",
      "    stdev        [    0.038    0.069    0.055    0.057    0.021    0.011    0.003]\n",
      "    chisq            0.099\n",
      "    evidence       -20.202\n"
     ]
    },
    {
     "data": {
      "image/png": "[encoded data removed]",
      "text/plain": [
       "<Figure size 504x360 with 1 Axes>"
      ]
     },
     "metadata": {
      "needs_background": "light"
     },
     "output_type": "display_data"
    }
   ],
   "source": [
    "plotFit( x, y, show=False )\n",
    "yy = numpy.zeros( 7, dtype=float )\n",
    "xi = numpy.linspace( -2.0, 3.0, 201, dtype=float )\n",
    "col = [\"blue\", \"green\", \"red\", \"mint\", \"magenta\", \"yellow\", \"black\"]\n",
    "for deg in range( 7 ) :\n",
    "    poly = PolynomialModel( deg )\n",
    "    np = poly.getNumberOfParameters()\n",
    "    fitter = Fitter( x, poly )\n",
    "    param = fitter.fit( y )\n",
    "    plt.plot( xi, poly( xi ) )\n",
    "\n",
    "    chisq = fitter.chisq\n",
    "    stdev = fitter.stdevs\n",
    "    logpr = fitter.getEvidence( limits=[-100,100], noiseLimits=[0.01,10] )\n",
    "    print( \"Polynomial degree  %d  \" % (np-1), col[deg] )\n",
    "    print( \"Fit params      \", fmt( param, max=None ) )\n",
    "    print( \"    stdev       \", fmt( stdev, max=None ) ) \n",
    "    print( \"    chisq       \", fmt( chisq ) )\n",
    "    print( \"    evidence    \", fmt( logpr ) )\n",
    "    yy[deg] = logpr\n",
    "plt.show()"
   ]
  },
  {
   "cell_type": "markdown",
   "metadata": {},
   "source": [
    "Plot the evidence as function of the polynomial degree. The plot peaks at 3. Before that point the fit really improves. Afterwards the fit stays more or less the same, but the penalty for introducing an extra parameter make the evidence turn downward."
   ]
  },
  {
   "cell_type": "code",
   "execution_count": 5,
   "metadata": {
    "execution": {
     "iopub.execute_input": "2023-07-04T22:38:27.129940Z",
     "iopub.status.busy": "2023-07-04T22:38:27.129331Z",
     "iopub.status.idle": "2023-07-04T22:38:27.168761Z",
     "shell.execute_reply": "2023-07-04T22:38:27.169297Z"
    }
   },
   "outputs": [
    {
     "data": {
      "image/png": "[encoded data removed]",
      "text/plain": [
       "<Figure size 432x288 with 1 Axes>"
      ]
     },
     "metadata": {
      "needs_background": "light"
     },
     "output_type": "display_data"
    }
   ],
   "source": [
    "plt.plot( yy, 'k-+' )\n",
    "plt.xlabel( \"degree\" )\n",
    "plt.ylabel( \"evidence\" )\n",
    "plt.show()"
   ]
  }
 ],
 "metadata": {
  "anaconda-cloud": {},
  "kernelspec": {
   "display_name": "Python 3 (ipykernel)",
   "language": "python",
   "name": "python3"
  },
  "language_info": {
   "codemirror_mode": {
    "name": "ipython",
    "version": 3
   },
   "file_extension": ".py",
   "mimetype": "text/x-python",
   "name": "python",
   "nbconvert_exporter": "python",
   "pygments_lexer": "ipython3",
   "version": "3.8.12"
  }
 },
 "nbformat": 4,
 "nbformat_minor": 1
}
