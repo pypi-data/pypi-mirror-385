{
 "cells": [
  {
   "cell_type": "markdown",
   "metadata": {},
   "source": [
    "## Rain fall\n",
    "\n",
    "The datafile contains the amount of rainfall measured in mm per year in de Bilt in the Netherlands.\n",
    "\n",
    "We try polynomial models of increasing degree.\n",
    "\n",
    "Demonstration: \n",
    "1. Linear Model\n",
    "2. Parameter fit\n",
    "3. Evidence to find the best model. \n",
    "4. Confidence region for the fit\n",
    "\n",
    "Author: Do Kester\n"
   ]
  },
  {
   "cell_type": "markdown",
   "metadata": {},
   "source": [
    "import classes"
   ]
  },
  {
   "cell_type": "code",
   "execution_count": 1,
   "metadata": {
    "execution": {
     "iopub.execute_input": "2023-07-05T00:47:09.031717Z",
     "iopub.status.busy": "2023-07-05T00:47:09.031109Z",
     "iopub.status.idle": "2023-07-05T00:47:09.921449Z",
     "shell.execute_reply": "2023-07-05T00:47:09.921634Z"
    }
   },
   "outputs": [],
   "source": [
    "import numpy as numpy\n",
    "import math\n",
    "\n",
    "from astropy.io import ascii\n",
    "from BayesicFitting import PolynomialModel\n",
    "\n",
    "from BayesicFitting import Fitter\n",
    "from BayesicFitting import formatter as fmt\n",
    "from BayesicFitting import plotFit\n",
    "import matplotlib.pyplot as plt"
   ]
  },
  {
   "cell_type": "markdown",
   "metadata": {},
   "source": [
    "Read the data. We rescale the data to get \"nice\" numbers, i.e. the rain into meters, and the year in year-since-2000."
   ]
  },
  {
   "cell_type": "code",
   "execution_count": 2,
   "metadata": {
    "execution": {
     "iopub.execute_input": "2023-07-05T00:47:09.924056Z",
     "iopub.status.busy": "2023-07-05T00:47:09.923626Z",
     "iopub.status.idle": "2023-07-05T00:47:09.930048Z",
     "shell.execute_reply": "2023-07-05T00:47:09.930219Z"
    }
   },
   "outputs": [],
   "source": [
    "tbl = ascii.read( \"data/neerslag.csv\" )\n",
    "year = tbl['col1'].data\n",
    "rain = tbl['col2'].data\n",
    "year -= 2000\n",
    "rain = rain / 1000"
   ]
  },
  {
   "cell_type": "markdown",
   "metadata": {},
   "source": [
    "Define the model"
   ]
  },
  {
   "cell_type": "code",
   "execution_count": 3,
   "metadata": {
    "execution": {
     "iopub.execute_input": "2023-07-05T00:47:09.931923Z",
     "iopub.status.busy": "2023-07-05T00:47:09.931600Z",
     "iopub.status.idle": "2023-07-05T00:47:09.932886Z",
     "shell.execute_reply": "2023-07-05T00:47:09.933040Z"
    }
   },
   "outputs": [
    {
     "name": "stdout",
     "output_type": "stream",
     "text": [
      "Polynomial: f( x:p ) = p_0\n"
     ]
    }
   ],
   "source": [
    "mdl = PolynomialModel( 0 )\n",
    "print( mdl )\n"
   ]
  },
  {
   "cell_type": "markdown",
   "metadata": {},
   "source": [
    "define the fitter: Fitter"
   ]
  },
  {
   "cell_type": "code",
   "execution_count": 4,
   "metadata": {
    "execution": {
     "iopub.execute_input": "2023-07-05T00:47:09.934846Z",
     "iopub.status.busy": "2023-07-05T00:47:09.934593Z",
     "iopub.status.idle": "2023-07-05T00:47:09.935750Z",
     "shell.execute_reply": "2023-07-05T00:47:09.935948Z"
    }
   },
   "outputs": [],
   "source": [
    "fitter = Fitter( year, mdl )\n",
    " \n",
    "# find the parameters\n",
    "param = fitter.fit( rain )\n",
    "\n",
    "  "
   ]
  },
  {
   "cell_type": "code",
   "execution_count": 5,
   "metadata": {
    "execution": {
     "iopub.execute_input": "2023-07-05T00:47:09.938124Z",
     "iopub.status.busy": "2023-07-05T00:47:09.937825Z",
     "iopub.status.idle": "2023-07-05T00:47:09.939161Z",
     "shell.execute_reply": "2023-07-05T00:47:09.939380Z"
    },
    "scrolled": true
   },
   "outputs": [
    {
     "name": "stdout",
     "output_type": "stream",
     "text": [
      "Parameters :     0.781\n",
      "StDevs     :     0.012\n",
      "Scale      :     0.121\n",
      "Evidence   :    26.872\n"
     ]
    }
   ],
   "source": [
    "print( \"Parameters :\", fmt( param, max=None ) )\n",
    "print( \"StDevs     :\", fmt( fitter.stdevs, max=None ) )\n",
    "print( \"Scale      :\", fmt( fitter.scale ) )\n",
    "print( \"Evidence   :\", fmt( fitter.getEvidence( limits=[-10,10], noiseLimits=[0.01,10] ) ) )\n"
   ]
  },
  {
   "cell_type": "code",
   "execution_count": 6,
   "metadata": {
    "execution": {
     "iopub.execute_input": "2023-07-05T00:47:09.943767Z",
     "iopub.status.busy": "2023-07-05T00:47:09.943490Z",
     "iopub.status.idle": "2023-07-05T00:47:09.986448Z",
     "shell.execute_reply": "2023-07-05T00:47:09.986633Z"
    }
   },
   "outputs": [
    {
     "data": {
      "image/png": "[encoded data removed]",
      "text/plain": [
       "<Figure size 504x360 with 1 Axes>"
      ]
     },
     "metadata": {
      "needs_background": "light"
     },
     "output_type": "display_data"
    }
   ],
   "source": [
    "plotFit( year, data=rain, model=mdl, fitter=fitter )"
   ]
  },
  {
   "cell_type": "markdown",
   "metadata": {
    "collapsed": true
   },
   "source": [
    "Try higher order polynomials to see which one is best."
   ]
  },
  {
   "cell_type": "code",
   "execution_count": 7,
   "metadata": {
    "execution": {
     "iopub.execute_input": "2023-07-05T00:47:09.994816Z",
     "iopub.status.busy": "2023-07-05T00:47:09.994502Z",
     "iopub.status.idle": "2023-07-05T00:47:10.029717Z",
     "shell.execute_reply": "2023-07-05T00:47:10.029898Z"
    }
   },
   "outputs": [
    {
     "name": "stdout",
     "output_type": "stream",
     "text": [
      "Parameters : [    0.847    0.002]\n",
      "StDevs     : [    0.017    0.000]\n",
      "Scale      :     0.108\n",
      "Evidence   :    27.670\n"
     ]
    },
    {
     "data": {
      "image/png": "[encoded data removed]",
      "text/plain": [
       "<Figure size 504x360 with 1 Axes>"
      ]
     },
     "metadata": {
      "needs_background": "light"
     },
     "output_type": "display_data"
    }
   ],
   "source": [
    "mdl = PolynomialModel( 1 )\n",
    "\n",
    "fitter = Fitter( year, mdl )\n",
    "param = fitter.fit( rain )\n",
    "\n",
    "print( \"Parameters :\", fmt( param, max=None ) )\n",
    "print( \"StDevs     :\", fmt( fitter.stdevs, max=None ) )\n",
    "print( \"Scale      :\", fmt( fitter.scale ) )\n",
    "print( \"Evidence   :\", fmt( fitter.getEvidence( limits=[-10,10], noiseLimits=[0.01,10] ) ) )\n",
    "\n",
    "plotFit( year, rain, model=mdl, fitter=fitter )"
   ]
  },
  {
   "cell_type": "markdown",
   "metadata": {},
   "source": [
    "The logEvidence increased by 0.8 (=27.67-26.87). So the linear model is bettter by a factor 10^0.8 = 6.31.  "
   ]
  },
  {
   "cell_type": "code",
   "execution_count": 8,
   "metadata": {
    "execution": {
     "iopub.execute_input": "2023-07-05T00:47:10.032774Z",
     "iopub.status.busy": "2023-07-05T00:47:10.032482Z",
     "iopub.status.idle": "2023-07-05T00:47:10.072897Z",
     "shell.execute_reply": "2023-07-05T00:47:10.073128Z"
    }
   },
   "outputs": [
    {
     "name": "stdout",
     "output_type": "stream",
     "text": [
      "Parameters : [    0.855    0.003    0.000]\n",
      "StDevs     : [    0.018    0.001    0.000]\n",
      "Scale      :     0.108\n",
      "Evidence   :    22.221\n"
     ]
    },
    {
     "data": {
      "image/png": "[encoded data removed]",
      "text/plain": [
       "<Figure size 504x360 with 1 Axes>"
      ]
     },
     "metadata": {
      "needs_background": "light"
     },
     "output_type": "display_data"
    }
   ],
   "source": [
    "mdl = PolynomialModel( 2 )\n",
    "\n",
    "fitter = Fitter( year, mdl )\n",
    "param = fitter.fit( rain )\n",
    "\n",
    "print( \"Parameters :\", fmt( param, max=None ) )\n",
    "print( \"StDevs     :\", fmt( fitter.stdevs, max=None ) )\n",
    "print( \"Scale      :\", fmt( fitter.scale ) )\n",
    "print( \"Evidence   :\", fmt( fitter.getEvidence( limits=[-10,10], noiseLimits=[0.01,10] ) ) )\n",
    "\n",
    "plotFit( year, rain, model=mdl, fitter=fitter )"
   ]
  },
  {
   "cell_type": "markdown",
   "metadata": {},
   "source": [
    "The logEvidence has gone down again. So this quadratic model is not better than the linear one. The amount of noise in the data prevent us to find better models."
   ]
  },
  {
   "cell_type": "code",
   "execution_count": null,
   "metadata": {},
   "outputs": [],
   "source": []
  }
 ],
 "metadata": {
  "anaconda-cloud": {},
  "kernelspec": {
   "display_name": "Python 3 (ipykernel)",
   "language": "python",
   "name": "python3"
  },
  "language_info": {
   "codemirror_mode": {
    "name": "ipython",
    "version": 3
   },
   "file_extension": ".py",
   "mimetype": "text/x-python",
   "name": "python",
   "nbconvert_exporter": "python",
   "pygments_lexer": "ipython3",
   "version": "3.8.12"
  }
 },
 "nbformat": 4,
 "nbformat_minor": 1
}
