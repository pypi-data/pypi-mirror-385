{
 "cells": [
  {
   "cell_type": "markdown",
   "metadata": {},
   "source": [
    "## Pulsars\n",
    "\n",
    "\n",
    "\n",
    "The data is taken from HTRU2, a data set which describes a sample of pulsar candidates collected during the\n",
    "High Time Resolution Universe Survey (South).\n",
    "\n",
    "Author: Rob Lyon, School of Computer Science & Jodrell Bank Centre for Astrophysics,\n",
    "                University of Manchester, Kilburn Building, Oxford Road, Manchester M13 9PL.\n",
    "\n",
    "Contact:        rob@scienceguyrob.com or robert.lyon@.manchester.ac.uk\n",
    "Web:            http://www.scienceguyrob.com or http://www.cs.manchester.ac.uk\n",
    "                        or alternatively http://www.jb.man.ac.uk\n",
    "\n",
    "\n",
    "The text below is copied from the Readme.txt file:\n",
    "\n",
    "Pulsars are a rare type of Neutron star that produce radio emission detectable here on\n",
    "Earth. They are of considerable scientific interest as probes of space-time, the inter-\n",
    "stellar medium, and states of matter.\n",
    "        \n",
    "As pulsars rotate, their emission beam sweeps across the sky, and when this crosses\n",
    "our line of sight, produces a detectable pattern of broadband radio emission. As pulsars\n",
    "rotate rapidly, this pattern repeats periodically. Thus pulsar search involves looking\n",
    "for periodic radio signals with large radio telescopes.\n",
    "        \n",
    "Each pulsar produces a slightly different emission pattern, which varies slightly with each\n",
    "rotation (see [2] for an introduction to pulsar astrophysics to find out why). Thus a \n",
    "potential signal detection known as a 'candidate', is averaged over many rotations of the\n",
    "pulsar, as determined by the length of an observation. In the absence of additional info,\n",
    "each candidate could potentially describe a real pulsar. However in practice almost all\n",
    "detections are caused by radio frequency interference (RFI) and noise, making legitimate\n",
    "signals hard to find.\n",
    "        \n",
    "Machine learning tools are now being used to automatically label pulsar candidates to\n",
    "facilitate rapid analysis. Classification systems in particular are being widely adopted,\n",
    "(see [4,5,6,7,8,9]) which treat the candidate data sets  as binary classification problems.\n",
    "Here the legitimate pulsar examples are a minority positive class, and spurious examples\n",
    "the majority negative class. At present multi-class labels are unavailable, given the\n",
    "costs associated with data annotation.\n",
    "        \n",
    "The data set shared here contains 16,259 spurious examples caused by RFI/noise, and 1,639\n",
    "real pulsar examples. These examples have all been checked by human annotators. Each\n",
    "candidate is described by 8 continuous variables. The first four are simple statistics\n",
    "obtained from the integrated pulse profile (folded profile). This is an array of continuous\n",
    "variables that describe a longitude-resolved version of the signal that has been averaged\n",
    "in both time and frequency (see [3] for more details). The remaining four variables are\n",
    "similarly obtained from the DM-SNR curve (again see [3] for more details). These are \n",
    "summarised below:\n",
    "        \n",
    "1. Mean of the integrated profile.\n",
    "2. Standard deviation of the integrated profile.\n",
    "3. Excess kurtosis of the integrated profile.\n",
    "4. Skewness of the integrated profile.\n",
    "5. Mean of the DM-SNR curve.\n",
    "6. Standard deviation of the DM-SNR curve.\n",
    "7. Excess kurtosis of the DM-SNR curve.\n",
    "8. Skewness of the DM-SNR curve.\n",
    "\n",
    "9. 0 : noise\n",
    "   1 : pulsar\n",
    "   \n",
    "Demonstration:\n",
    "1. SoftMaxModel\n",
    "2. Multiple input and output\n",
    "3. Bernoulli ErrorDistribution\n",
    "4. NestedSampler"
   ]
  },
  {
   "cell_type": "code",
   "execution_count": 1,
   "metadata": {
    "execution": {
     "iopub.execute_input": "2023-07-04T23:19:19.434381Z",
     "iopub.status.busy": "2023-07-04T23:19:19.433630Z",
     "iopub.status.idle": "2023-07-04T23:19:20.274934Z",
     "shell.execute_reply": "2023-07-04T23:19:20.275089Z"
    }
   },
   "outputs": [],
   "source": [
    "import numpy as numpy\n",
    "import math\n",
    "\n",
    "from astropy.io import ascii\n",
    "from BayesicFitting import SoftMaxModel\n",
    "from BayesicFitting import BernoulliErrorDistribution\n",
    "from BayesicFitting import LaplacePrior\n",
    "from BayesicFitting import CauchyPrior\n",
    "\n",
    "from BayesicFitting import ClassicProblem\n",
    "from BayesicFitting import MultipleOutputProblem\n",
    "from BayesicFitting import NestedSampler\n",
    "from BayesicFitting import formatter as fmt\n",
    "from BayesicFitting import plotFit\n",
    "from BayesicFitting import Tools\n",
    "import matplotlib.pyplot as plt\n",
    "\n"
   ]
  },
  {
   "cell_type": "code",
   "execution_count": 2,
   "metadata": {
    "execution": {
     "iopub.execute_input": "2023-07-04T23:19:20.276776Z",
     "iopub.status.busy": "2023-07-04T23:19:20.276501Z",
     "iopub.status.idle": "2023-07-04T23:19:20.277957Z",
     "shell.execute_reply": "2023-07-04T23:19:20.278098Z"
    }
   },
   "outputs": [],
   "source": [
    "#%matplotlib osx"
   ]
  },
  {
   "cell_type": "code",
   "execution_count": 3,
   "metadata": {
    "execution": {
     "iopub.execute_input": "2023-07-04T23:19:20.279756Z",
     "iopub.status.busy": "2023-07-04T23:19:20.279505Z",
     "iopub.status.idle": "2023-07-04T23:19:20.500983Z",
     "shell.execute_reply": "2023-07-04T23:19:20.501163Z"
    }
   },
   "outputs": [],
   "source": [
    "tbl = ascii.read( \"data/HTRU.csv\" )\n"
   ]
  },
  {
   "cell_type": "code",
   "execution_count": 4,
   "metadata": {
    "execution": {
     "iopub.execute_input": "2023-07-04T23:19:20.503340Z",
     "iopub.status.busy": "2023-07-04T23:19:20.503029Z",
     "iopub.status.idle": "2023-07-04T23:19:20.504698Z",
     "shell.execute_reply": "2023-07-04T23:19:20.504868Z"
    }
   },
   "outputs": [
    {
     "name": "stdout",
     "output_type": "stream",
     "text": [
      "[[  140.562  102.508  103.016  136.750   88.727 ...  119.336  114.508   57.062]\n",
      " [   55.684   58.882   39.342   57.178   40.672 ...   59.936   53.902   85.797]\n",
      " [   -0.235    0.465    0.323   -0.068    0.601 ...    0.159    0.201    1.406]\n",
      " [   -0.700   -0.515    1.051   -0.636    1.123 ...   -0.743   -0.025    0.090]\n",
      " [    3.200    1.677    3.121    3.643    1.179 ...   21.431    1.946  188.306]\n",
      " [   19.110   14.860   21.745   20.959   11.469 ...   58.872   13.382   64.713]\n",
      " [    7.976   10.576    7.736    6.896   14.270 ...    2.500   10.008   -1.598]\n",
      " [   74.242  127.394   63.172   53.594  252.567 ...    4.595  134.239    1.429]]\n"
     ]
    }
   ],
   "source": [
    "xall = numpy.zeros( (8,17898), dtype=float )\n",
    "for k in range( 8 ) :\n",
    "    key = 'col%d' % (k+1)\n",
    "    xall[k,:] = tbl[key].data\n",
    "\n",
    "y = tbl[\"col9\"].data\n",
    "\n",
    "print( fmt( xall, tail=3 ) )\n",
    "\n",
    "#w = numpy.ones_like( y )\n",
    "#wgt = numpy.where( y == 0, w, 10 * w )"
   ]
  },
  {
   "cell_type": "markdown",
   "metadata": {},
   "source": [
    "Rescale the data"
   ]
  },
  {
   "cell_type": "code",
   "execution_count": 5,
   "metadata": {
    "execution": {
     "iopub.execute_input": "2023-07-04T23:19:20.506785Z",
     "iopub.status.busy": "2023-07-04T23:19:20.506503Z",
     "iopub.status.idle": "2023-07-04T23:19:20.508347Z",
     "shell.execute_reply": "2023-07-04T23:19:20.508515Z"
    }
   },
   "outputs": [
    {
     "name": "stdout",
     "output_type": "stream",
     "text": [
      "[  111.080   46.550    0.478    1.770   12.614   26.327    8.304  104.858]\n",
      "[[    1.406    5.568   -0.235   -0.700    0.320    1.911    7.976    7.424]\n",
      " [    1.025    5.888    0.465   -0.515    0.168    1.486   10.576   12.739]\n",
      " [    1.030    3.934    0.323    1.051    0.312    2.174    7.736    6.317]\n",
      " [    1.367    5.718   -0.068   -0.636    0.364    2.096    6.896    5.359]\n",
      " [    0.887    4.067    0.601    1.123    0.118    1.147   14.270   25.257]\n",
      "  ...\n",
      " [    1.193    5.994    0.159   -0.743    2.143    5.887    2.500    0.460]\n",
      " [    1.145    5.390    0.201   -0.025    0.195    1.338   10.008   13.424]\n",
      " [    0.571    8.580    1.406    0.090   18.831    6.471   -1.598    0.143]]\n"
     ]
    }
   ],
   "source": [
    "xdata = xall.T\n",
    "xm = numpy.mean( xdata, 0 )\n",
    "print( fmt( xm, max=None ) )\n",
    "\n",
    "xmm = [100, 10, 1, 1, 10, 10, 1, 10]\n",
    "xdat = xdata / xmm\n",
    "print( fmt( xdat, tail=3 ) )\n"
   ]
  },
  {
   "cell_type": "markdown",
   "metadata": {},
   "source": [
    "Start a SoftMaxModel (logistic) with 8 inputs and 2 outputs"
   ]
  },
  {
   "cell_type": "code",
   "execution_count": 6,
   "metadata": {
    "execution": {
     "iopub.execute_input": "2023-07-04T23:19:20.510393Z",
     "iopub.status.busy": "2023-07-04T23:19:20.510118Z",
     "iopub.status.idle": "2023-07-04T23:19:20.511536Z",
     "shell.execute_reply": "2023-07-04T23:19:20.511682Z"
    }
   },
   "outputs": [],
   "source": [
    "mdl = SoftMaxModel( ndim=8, ndout=2, offset=True )\n",
    "mdl.setPrior( 0, CauchyPrior( ) )\n",
    "\n",
    "#Tools.printclass( mdl )\n",
    "\n",
    "problem = ClassicProblem( model=mdl, xdata=xdat, ydata=y )    #, weights=wgt )"
   ]
  },
  {
   "cell_type": "markdown",
   "metadata": {},
   "source": [
    "Use NestedSampler with a BernoulliErrdorDistribution, for categorials.\n",
    "\n",
    "Due to the wide range of the CauchyPrior, some sets of parameters produce overflow in the exp. Later in the algoritm more errors (infinties or NaNs) are made. However the process overcomes, i.e. neglects, these problems and yields a valid end result."
   ]
  },
  {
   "cell_type": "code",
   "execution_count": 7,
   "metadata": {
    "execution": {
     "iopub.execute_input": "2023-07-04T23:19:20.518732Z",
     "iopub.status.busy": "2023-07-04T23:19:20.518002Z",
     "iopub.status.idle": "2023-07-05T00:47:07.785849Z",
     "shell.execute_reply": "2023-07-05T00:47:07.786585Z"
    },
    "scrolled": false
   },
   "outputs": [
    {
     "name": "stdout",
     "output_type": "stream",
     "text": [
      "Fit all parameters of\n",
      "  SoftMax: f_n( x:p ) = exp( sum_i( x_i * p_in ) + q_n)/ sum_n )\n",
      "Using a Bernoulli error distribution\n",
      "Moving the walkers with   GalileanEngine  ChordEngine\n",
      "Iteration     logZ        H       LowL     npar parameters\n"
     ]
    },
    {
     "name": "stderr",
     "output_type": "stream",
     "text": [
      "/Users/do/PYTHON/Master/BayesicFitting/BayesicFitting/source/NeuralNetUtilities.py:287: RuntimeWarning: overflow encountered in exp\n",
      "  res = numpy.exp( xdata )\n",
      "/Users/do/PYTHON/Master/BayesicFitting/BayesicFitting/source/NeuralNetUtilities.py:289: RuntimeWarning: invalid value encountered in true_divide\n",
      "  return ( res.T / sum ).T\n",
      "/Users/do/PYTHON/Master/BayesicFitting/BayesicFitting/source/BernoulliErrorDistribution.py:156: RuntimeWarning: divide by zero encountered in log\n",
      "  return numpy.log( lld )\n",
      "/Users/do/PYTHON/Master/BayesicFitting/BayesicFitting/source/GalileanEngine.py:255: RuntimeWarning: invalid value encountered in double_scalars\n",
      "  b = 4 * Lm - L1 - 3 * L0\n",
      "/Users/do/PYTHON/Master/BayesicFitting/BayesicFitting/source/GalileanEngine.py:256: RuntimeWarning: invalid value encountered in double_scalars\n",
      "  a = 2 * L0 - 4 * Lm  + 2 * L1\n",
      "/Users/do/PYTHON/Master/BayesicFitting/BayesicFitting/source/GalileanEngine.py:264: RuntimeWarning: invalid value encountered in double_scalars\n",
      "  x1 = ( - b - det ) / ( 2 * a )\n",
      "/Users/do/PYTHON/Master/BayesicFitting/BayesicFitting/source/GalileanEngine.py:265: RuntimeWarning: invalid value encountered in double_scalars\n",
      "  x2 = ( - b + det ) / ( 2 * a )\n"
     ]
    },
    {
     "name": "stdout",
     "output_type": "stream",
     "text": [
      "       0  -2.80e+06      4.6  -2.80e+06     18  [    0.529  -19.301    0.658   -0.096 ...]\n"
     ]
    },
    {
     "name": "stderr",
     "output_type": "stream",
     "text": [
      "/Users/do/PYTHON/Master/BayesicFitting/BayesicFitting/source/GalileanEngine.py:261: RuntimeWarning: invalid value encountered in double_scalars\n",
      "  det = b * b - 4 * a * ( c - lowL )\n",
      "/Users/do/PYTHON/Master/BayesicFitting/BayesicFitting/source/NeuralNetUtilities.py:303: RuntimeWarning: invalid value encountered in true_divide\n",
      "  dfdx[k,:,n] = - ( f[:,k] * f[:,n] / n2 )\n",
      "/Users/do/PYTHON/Master/BayesicFitting/BayesicFitting/source/NeuralNetUtilities.py:304: RuntimeWarning: invalid value encountered in true_divide\n",
      "  dfdx[n,:,n] = ( ( norm - f[:,n]  ) * f[:,n] / n2 ).T\n",
      "/Users/do/PYTHON/Master/BayesicFitting/BayesicFitting/source/NeuralNetUtilities.py:296: RuntimeWarning: overflow encountered in multiply\n",
      "  n2 = norm * norm\n",
      "/Users/do/PYTHON/Master/BayesicFitting/BayesicFitting/source/NeuralNetUtilities.py:303: RuntimeWarning: overflow encountered in multiply\n",
      "  dfdx[k,:,n] = - ( f[:,k] * f[:,n] / n2 )\n"
     ]
    },
    {
     "name": "stdout",
     "output_type": "stream",
     "text": [
      "     100  -1.59e+05      5.6  -1.59e+05     18  [    2.718    1.169    1.863    2.162 ...]\n"
     ]
    },
    {
     "name": "stderr",
     "output_type": "stream",
     "text": [
      "/Users/do/PYTHON/Master/BayesicFitting/BayesicFitting/source/BernoulliErrorDistribution.py:223: RuntimeWarning: divide by zero encountered in true_divide\n",
      "  dLdM[q,k] = 1.0 / mock[q,k]\n",
      "/Users/do/PYTHON/Master/BayesicFitting/BayesicFitting/source/BernoulliErrorDistribution.py:223: RuntimeWarning: overflow encountered in true_divide\n",
      "  dLdM[q,k] = 1.0 / mock[q,k]\n",
      "/Users/do/PYTHON/Master/BayesicFitting/BayesicFitting/source/NeuralNetUtilities.py:292: RuntimeWarning: overflow encountered in exp\n",
      "  f = numpy.exp( xdata )\n",
      "/Users/do/PYTHON/Master/BayesicFitting/BayesicFitting/source/NeuralNetUtilities.py:304: RuntimeWarning: overflow encountered in multiply\n",
      "  dfdx[n,:,n] = ( ( norm - f[:,n]  ) * f[:,n] / n2 ).T\n",
      "/Users/do/PYTHON/Master/BayesicFitting/BayesicFitting/source/NeuralNetUtilities.py:304: RuntimeWarning: invalid value encountered in subtract\n",
      "  dfdx[n,:,n] = ( ( norm - f[:,n]  ) * f[:,n] / n2 ).T\n"
     ]
    },
    {
     "name": "stdout",
     "output_type": "stream",
     "text": [
      "     200  -6.34e+04      6.6  -6.34e+04     18  [   -0.551   -0.066   -0.450    0.137 ...]\n",
      "     300  -3.17e+04      7.6  -3.17e+04     18  [   -1.696   -0.068    0.151   -0.242 ...]\n",
      "     400  -1.65e+04      8.6  -1.65e+04     18  [   -1.203    0.010   -0.607   -0.189 ...]\n",
      "     500  -1.01e+04      9.6  -1.01e+04     18  [   -0.339    0.838   -0.792   -1.361 ...]\n",
      "     600  -7.39e+03      9.9  -7.38e+03     18  [    1.442    2.603    3.543   -0.433 ...]\n",
      "     700  -5.32e+03     11.6  -5.31e+03     18  [   -2.211   -0.323   -1.348   -1.139 ...]\n",
      "     800  -4.14e+03     12.5  -4.13e+03     18  [   -0.586    0.078  -22.753    0.575 ...]\n",
      "     900  -3.46e+03     13.5  -3.44e+03     18  [   -1.148   -0.033   -1.406   -0.210 ...]\n",
      "    1000  -2.92e+03     14.6  -2.90e+03     18  [    0.702   -0.663    0.594   -0.628 ...]\n",
      "    1100  -2.53e+03     14.7  -2.52e+03     18  [   -1.532    0.621   -1.132    0.174 ...]\n",
      "    1200  -2.23e+03     15.8  -2.21e+03     18  [   -1.930    0.313  -10.033    0.937 ...]\n",
      "    1300  -2.00e+03     16.2  -1.98e+03     18  [   -2.190    0.711   -9.617    0.922 ...]\n",
      "    1400  -1.85e+03     17.6  -1.83e+03     18  [   -2.252    0.221   -9.981    0.925 ...]\n",
      "    1500  -1.74e+03     17.9  -1.72e+03     18  [   -1.134   -0.134   -7.527    0.382 ...]\n",
      "    1600  -1.67e+03     19.0  -1.65e+03     18  [   -0.551    0.540   -1.826    0.674 ...]\n",
      "    1700  -1.62e+03     20.0  -1.60e+03     18  [   -0.128    0.726   -1.316    0.848 ...]\n",
      "    1800  -1.56e+03     21.1  -1.54e+03     18  [   -3.949    0.381   -8.084    0.701 ...]\n",
      "    1900  -1.51e+03     21.8  -1.49e+03     18  [    0.158    0.721   -3.035   -0.033 ...]\n",
      "    2000  -1.49e+03     22.2  -1.46e+03     18  [   -3.521    0.002   -7.241    0.402 ...]\n",
      "    2100  -1.46e+03     23.2  -1.44e+03     18  [   -3.245    0.064   -6.576    0.333 ...]\n",
      "    2200  -1.44e+03     23.6  -1.42e+03     18  [   -0.611    0.188   -1.587    0.342 ...]\n",
      "    2300  -1.42e+03     24.6  -1.40e+03     18  [   -1.534   -0.058   -4.894    0.341 ...]\n",
      "    2400  -1.41e+03     25.8  -1.38e+03     18  [   -0.400    0.242   -2.921    0.200 ...]\n",
      "    2500  -1.40e+03     26.3  -1.37e+03     18  [   -0.362    0.380   -3.429    0.203 ...]\n",
      "    2600  -1.38e+03     26.8  -1.36e+03     18  [   -1.107    0.306   -3.678    0.274 ...]\n",
      "    2700  -1.38e+03     28.2  -1.35e+03     18  [   -0.816    0.356   -4.879    0.487 ...]\n",
      "    2800  -1.37e+03     28.5  -1.34e+03     18  [   -0.367    0.419   -3.586    0.304 ...]\n",
      "    2900  -1.36e+03     29.4  -1.33e+03     18  [   -0.449    0.148   -2.887    0.359 ...]\n",
      "    3000  -1.36e+03     30.2  -1.33e+03     18  [   -0.767    0.103   -3.032    0.318 ...]\n",
      "    3100  -1.36e+03     30.7  -1.33e+03     18  [   -0.425    0.500   -3.926    0.225 ...]\n",
      "    3200  -1.35e+03     31.2  -1.32e+03     18  [   -0.743    0.537   -2.644    0.406 ...]\n",
      "    3300  -1.35e+03     31.8  -1.32e+03     18  [   -0.952    0.703   -2.500    0.432 ...]\n",
      "    3400  -1.35e+03     32.5  -1.32e+03     18  [   -0.570    0.653   -4.017    0.263 ...]\n",
      "    3500  -1.35e+03     33.2  -1.32e+03     18  [   -0.741    0.578   -2.543    0.412 ...]\n",
      "    3600  -1.35e+03     33.8  -1.31e+03     18  [   -0.759    0.256   -2.454    0.550 ...]\n",
      "    3700  -1.35e+03     34.2  -1.31e+03     18  [   -0.649    0.585   -3.742    0.284 ...]\n",
      "    3800  -1.35e+03     34.5  -1.31e+03     18  [   -0.376    0.188   -3.756    0.463 ...]\n",
      "    3900  -1.35e+03     34.8  -1.31e+03     18  [   -0.767    0.341   -4.684    0.244 ...]\n",
      "    4000  -1.35e+03     35.0  -1.31e+03     18  [   -0.393    0.349   -3.571    0.477 ...]\n",
      "    4100  -1.35e+03     35.1  -1.31e+03     18  [   -0.530   -0.064   -2.957    0.317 ...]\n",
      "    4200  -1.35e+03     35.2  -1.31e+03     18  [   -1.025    0.345   -4.500    0.245 ...]\n",
      "    4300  -1.35e+03     35.2  -1.31e+03     18  [   -0.433    0.166   -3.422    0.495 ...]\n",
      "    4400  -1.35e+03     35.2  -1.31e+03     18  [   -0.672    0.535   -3.947    0.191 ...]\n",
      "    4500  -1.35e+03     35.2  -1.31e+03     18  [   -0.436    0.447   -3.481    0.563 ...]\n",
      "    4600  -1.35e+03     35.3  -1.31e+03     18  [   -0.462    0.297   -3.627    0.516 ...]\n",
      "    4669  -1.35e+03     35.3  -1.31e+03     18 \n",
      "Parameters   [   -0.477    0.276   -3.674    0.473    0.171    0.737    0.225    0.186    1.723   -0.035    2.578\n",
      "                 -0.112   -0.129    1.267    0.248    0.142   -0.726   -8.781]\n",
      "Engines              success     reject     failed       best      calls\n",
      "GalileanEngine         35541      10904      14659          0       4769\n",
      "ChordEngine            33394     154654          0          0       4769\n",
      "Calls to LogL         260056   to dLogL      10904\n",
      "Samples        4769\n",
      "Evidence      -585.948 +-      0.258\n"
     ]
    }
   ],
   "source": [
    "ns = NestedSampler( problem=problem, distribution=\"bernoulli\", verbose=2 )\n",
    "\n",
    "loge = ns.sample()"
   ]
  },
  {
   "cell_type": "code",
   "execution_count": 8,
   "metadata": {
    "execution": {
     "iopub.execute_input": "2023-07-05T00:47:07.794258Z",
     "iopub.status.busy": "2023-07-05T00:47:07.792860Z",
     "iopub.status.idle": "2023-07-05T00:47:07.798113Z",
     "shell.execute_reply": "2023-07-05T00:47:07.797347Z"
    }
   },
   "outputs": [
    {
     "name": "stdout",
     "output_type": "stream",
     "text": [
      "(17898, 2)\n"
     ]
    }
   ],
   "source": [
    "sl = ns.samples\n",
    "pars = sl[-1].parameters\n",
    "yfit = mdl.result( xdat, pars )\n",
    "print( yfit.shape )\n",
    "yfit = yfit[:,1]"
   ]
  },
  {
   "cell_type": "markdown",
   "metadata": {},
   "source": [
    "As there are only 2 outputs yfit1 is the reverse of yfit2 (= 1 - yfit1 )"
   ]
  },
  {
   "cell_type": "code",
   "execution_count": 9,
   "metadata": {
    "execution": {
     "iopub.execute_input": "2023-07-05T00:47:07.826186Z",
     "iopub.status.busy": "2023-07-05T00:47:07.815038Z",
     "iopub.status.idle": "2023-07-05T00:47:07.912080Z",
     "shell.execute_reply": "2023-07-05T00:47:07.912648Z"
    }
   },
   "outputs": [
    {
     "name": "stdout",
     "output_type": "stream",
     "text": [
      "[12186 14049 13504 ...  4422   537  9937]\n"
     ]
    },
    {
     "data": {
      "image/png": "[encoded data removed]",
      "text/plain": [
       "<Figure size 864x576 with 1 Axes>"
      ]
     },
     "metadata": {
      "needs_background": "light"
     },
     "output_type": "display_data"
    }
   ],
   "source": [
    "\n",
    "#yfit = ns.yfit\n",
    "kst = numpy.argsort( yfit )\n",
    "yf = yfit[kst]\n",
    "yy = y[kst]\n",
    "\n",
    "print( kst )\n",
    "q = numpy.where( ( yy == 0 ) & ( yf > 0.6 ) )\n",
    "\n",
    "xx = numpy.arange( len( y ) )\n",
    "plt.figure( 1, figsize=[12,8] )\n",
    "col = ['k.','r.','g.','b.','c.','m.','y.'] \n",
    "plt.plot( xx, yf, 'g-' )\n",
    "plt.plot( xx, yy, 'k,')\n",
    "plt.plot( q[0], yy[q], 'r,' )\n",
    "plt.plot( q[0], yf[q], 'r.' )\n",
    "plt.show()\n"
   ]
  },
  {
   "cell_type": "markdown",
   "metadata": {},
   "source": [
    "The separation between pulsars and noise is not perfect, based on the data at hand.\n",
    "\n",
    "One might surmise that the red dots might be pulsars too, in stead of noise. "
   ]
  }
 ],
 "metadata": {
  "kernelspec": {
   "display_name": "Python 3 (ipykernel)",
   "language": "python",
   "name": "python3"
  },
  "language_info": {
   "codemirror_mode": {
    "name": "ipython",
    "version": 3
   },
   "file_extension": ".py",
   "mimetype": "text/x-python",
   "name": "python",
   "nbconvert_exporter": "python",
   "pygments_lexer": "ipython3",
   "version": "3.8.12"
  }
 },
 "nbformat": 4,
 "nbformat_minor": 2
}
