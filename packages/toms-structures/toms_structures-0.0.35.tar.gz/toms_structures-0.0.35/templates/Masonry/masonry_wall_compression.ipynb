{
 "cells": [
  {
   "cell_type": "markdown",
   "id": "4bd27469",
   "metadata": {},
   "source": [
    "## Compressive Capacity of Masonry Wall"
   ]
  },
  {
   "cell_type": "code",
   "execution_count": null,
   "id": "cb7227f6",
   "metadata": {},
   "outputs": [],
   "source": [
    "import structures.Masonry.unreinforced_masonry as masonry\n",
    "import structures.util as util\n",
    "util.job_number()"
   ]
  },
  {
   "cell_type": "markdown",
   "id": "9d5809df",
   "metadata": {},
   "source": [
    "[Image]"
   ]
  },
  {
   "cell_type": "markdown",
   "id": "237e7dae",
   "metadata": {},
   "source": [
    "Design Notes"
   ]
  },
  {
   "cell_type": "code",
   "execution_count": null,
   "id": "1b500ec9",
   "metadata": {},
   "outputs": [],
   "source": [
    "fuc = None\n",
    "mortar_class = None\n",
    "height = None\n",
    "length = None\n",
    "thickness = None\n",
    "wall = masonry.Clay(fuc=fuc, length=length,thickness=thickness,height=height,bedding_type=True,mortar_class=mortar_class)"
   ]
  },
  {
   "cell_type": "code",
   "execution_count": null,
   "id": "2b144c4f",
   "metadata": {},
   "outputs": [],
   "source": [
    "wall.compression_capacity()"
   ]
  },
  {
   "cell_type": "code",
   "execution_count": null,
   "id": "d4c63b2e",
   "metadata": {},
   "outputs": [],
   "source": [
    "wall.refined_compression()"
   ]
  },
  {
   "cell_type": "code",
   "execution_count": null,
   "id": "0b62b3ff",
   "metadata": {},
   "outputs": [],
   "source": [
    "util.export_calc()"
   ]
  }
 ],
 "metadata": {
  "kernelspec": {
   "display_name": ".venv",
   "language": "python",
   "name": "python3"
  },
  "language_info": {
   "name": "python",
   "version": "3.13.8"
  }
 },
 "nbformat": 4,
 "nbformat_minor": 5
}
