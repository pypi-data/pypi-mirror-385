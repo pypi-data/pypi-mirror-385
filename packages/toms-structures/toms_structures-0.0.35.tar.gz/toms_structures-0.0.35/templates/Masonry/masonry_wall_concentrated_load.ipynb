{
 "cells": [
  {
   "cell_type": "markdown",
   "id": "4bd27469",
   "metadata": {},
   "source": [
    "## Compressive Capacity of Masonry Wall"
   ]
  },
  {
   "cell_type": "code",
   "execution_count": 1,
   "id": "cb7227f6",
   "metadata": {},
   "outputs": [
    {
     "ename": "TypeError",
     "evalue": "job_number() missing 1 required positional argument: 'job_id'",
     "output_type": "error",
     "traceback": [
      "\u001b[31m---------------------------------------------------------------------------\u001b[39m",
      "\u001b[31mTypeError\u001b[39m                                 Traceback (most recent call last)",
      "\u001b[36mCell\u001b[39m\u001b[36m \u001b[39m\u001b[32mIn[1]\u001b[39m\u001b[32m, line 3\u001b[39m\n\u001b[32m      1\u001b[39m \u001b[38;5;28;01mimport\u001b[39;00m\u001b[38;5;250m \u001b[39m\u001b[34;01mstructures\u001b[39;00m\u001b[34;01m.\u001b[39;00m\u001b[34;01mMasonry\u001b[39;00m\u001b[34;01m.\u001b[39;00m\u001b[34;01munreinforced_masonry\u001b[39;00m\u001b[38;5;250m \u001b[39m\u001b[38;5;28;01mas\u001b[39;00m\u001b[38;5;250m \u001b[39m\u001b[34;01mmasonry\u001b[39;00m\n\u001b[32m      2\u001b[39m \u001b[38;5;28;01mimport\u001b[39;00m\u001b[38;5;250m \u001b[39m\u001b[34;01mstructures\u001b[39;00m\u001b[34;01m.\u001b[39;00m\u001b[34;01mutil\u001b[39;00m\u001b[38;5;250m \u001b[39m\u001b[38;5;28;01mas\u001b[39;00m\u001b[38;5;250m \u001b[39m\u001b[34;01mutil\u001b[39;00m\n\u001b[32m----> \u001b[39m\u001b[32m3\u001b[39m \u001b[43mutil\u001b[49m\u001b[43m.\u001b[49m\u001b[43mjob_number\u001b[49m\u001b[43m(\u001b[49m\u001b[43m)\u001b[49m\n",
      "\u001b[31mTypeError\u001b[39m: job_number() missing 1 required positional argument: 'job_id'"
     ]
    }
   ],
   "source": [
    "import structures.Masonry.unreinforced_masonry as masonry\n",
    "import structures.util as util\n",
    "util.job_number()"
   ]
  },
  {
   "cell_type": "markdown",
   "id": "9d5809df",
   "metadata": {},
   "source": [
    "[Insert Image of wall location]"
   ]
  },
  {
   "cell_type": "markdown",
   "id": "237e7dae",
   "metadata": {},
   "source": [
    "[insert Design Notes]"
   ]
  },
  {
   "cell_type": "code",
   "execution_count": null,
   "id": "1b500ec9",
   "metadata": {},
   "outputs": [],
   "source": [
    "fuc = None\n",
    "mortar_class = None\n",
    "height = None\n",
    "length = None\n",
    "thickness = None\n",
    "wall = masonry.Clay(fuc=fuc, length=length,thickness=thickness,height=height,bedding_type=True,mortar_class=mortar_class)"
   ]
  },
  {
   "cell_type": "code",
   "execution_count": null,
   "id": "d4c63b2e",
   "metadata": {},
   "outputs": [],
   "source": [
    "wall.concentrated_load()"
   ]
  },
  {
   "cell_type": "code",
   "execution_count": null,
   "id": "c6e5d11b",
   "metadata": {},
   "outputs": [],
   "source": [
    "wall.refined_concentrated_load()"
   ]
  },
  {
   "cell_type": "code",
   "execution_count": null,
   "id": "0b62b3ff",
   "metadata": {},
   "outputs": [],
   "source": [
    "util.export_calc()"
   ]
  }
 ],
 "metadata": {
  "kernelspec": {
   "display_name": ".venv (3.12.10)",
   "language": "python",
   "name": "python3"
  },
  "language_info": {
   "codemirror_mode": {
    "name": "ipython",
    "version": 3
   },
   "file_extension": ".py",
   "mimetype": "text/x-python",
   "name": "python",
   "nbconvert_exporter": "python",
   "pygments_lexer": "ipython3",
   "version": "3.12.10"
  }
 },
 "nbformat": 4,
 "nbformat_minor": 5
}
