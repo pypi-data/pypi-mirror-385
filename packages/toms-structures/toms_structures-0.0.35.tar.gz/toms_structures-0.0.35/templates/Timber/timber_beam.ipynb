{
 "cells": [
  {
   "cell_type": "markdown",
   "id": "6c79d8d2",
   "metadata": {},
   "source": [
    "# Timber Beam Design"
   ]
  },
  {
   "cell_type": "markdown",
   "id": "75db04cf",
   "metadata": {},
   "source": [
    "[Screenshot showing Location of Beam]"
   ]
  },
  {
   "cell_type": "code",
   "execution_count": null,
   "id": "36e24735",
   "metadata": {},
   "outputs": [],
   "source": [
    "from structures.Timber.timber import Beam"
   ]
  },
  {
   "cell_type": "code",
   "execution_count": null,
   "id": "577698a0",
   "metadata": {},
   "outputs": [],
   "source": [
    "beam = Beam()"
   ]
  }
 ],
 "metadata": {
  "kernelspec": {
   "display_name": ".venv",
   "language": "python",
   "name": "python3"
  },
  "language_info": {
   "name": "python",
   "version": "3.13.8"
  }
 },
 "nbformat": 4,
 "nbformat_minor": 5
}
