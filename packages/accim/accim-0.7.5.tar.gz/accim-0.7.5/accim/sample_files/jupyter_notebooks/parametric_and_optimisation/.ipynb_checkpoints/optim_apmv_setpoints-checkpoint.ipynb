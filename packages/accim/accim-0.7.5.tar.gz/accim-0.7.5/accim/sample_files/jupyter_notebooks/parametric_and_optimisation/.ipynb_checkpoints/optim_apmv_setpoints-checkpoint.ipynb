{
 "cells": [
  {
   "cell_type": "markdown",
   "id": "2cf45ee0-4144-4034-99a9-311270c74d30",
   "metadata": {},
   "source": [
    "# Optimisation using apmv setpoints"
   ]
  },
  {
   "cell_type": "code",
   "execution_count": 1,
   "id": "f71c6322-10f1-4fde-bc8d-358163b8619b",
   "metadata": {},
   "outputs": [],
   "source": [
    "#todo import qgrid to manually change output dfs"
   ]
  },
  {
   "cell_type": "code",
   "execution_count": 2,
   "id": "a8361222-b96d-4121-9560-1480e3ee4f44",
   "metadata": {},
   "outputs": [],
   "source": [
    "import accim\n",
    "import accim.parametric_and_optimisation.funcs_for_besos.param_accis as bf\n",
    "from accim.parametric_and_optimisation.objectives import average_results\n",
    "from accim.parametric_and_optimisation.utils import make_all_combinations\n",
    "from besos import eppy_funcs as ef\n",
    "import matplotlib.pyplot as plt\n",
    "import seaborn as sns\n",
    "from accim.utils import print_available_outputs_mod, get_accim_args\n",
    "from accim.parametric_and_optimisation.main import OptimParamSimulation, get_rdd_file_as_df, get_mdd_file_as_df, parse_mtd_file\n",
    "from os import listdir\n"
   ]
  },
  {
   "cell_type": "markdown",
   "id": "c699ceba-f765-47c5-b5fd-b0cee5522b3a",
   "metadata": {},
   "source": [
    "Let's have a look at the files we currently have in the path:"
   ]
  },
  {
   "cell_type": "code",
   "execution_count": 3,
   "id": "233674c3-f15d-4917-aa47-430ae91486d6",
   "metadata": {},
   "outputs": [
    {
     "data": {
      "text/plain": [
       "['.ipynb_checkpoints',\n",
       " 'optim_accim_custom_model.ipynb',\n",
       " 'optim_apmv_setpoints.ipynb',\n",
       " 'param_sim_accim_custom_model.ipynb',\n",
       " 'param_sim_accim_predefined_model.ipynb',\n",
       " 'param_sim_apmv_setpoint.ipynb',\n",
       " 'Seville.epw',\n",
       " 'Sydney.epw',\n",
       " 'TestModel.idf',\n",
       " 'TestModel_aPMV.idf',\n",
       " '__init__.py']"
      ]
     },
     "execution_count": 3,
     "metadata": {},
     "output_type": "execute_result"
    }
   ],
   "source": [
    "original_files = [i for i in listdir()]\n",
    "original_files"
   ]
  },
  {
   "cell_type": "markdown",
   "id": "16e31d87-3a87-40c1-aeef-d6ea1171291a",
   "metadata": {},
   "source": [
    "Firstly, the IDF must be read using besos's `get_building` function."
   ]
  },
  {
   "cell_type": "code",
   "execution_count": 4,
   "id": "7d6e13f6-7466-4e96-a559-8c771895c1ac",
   "metadata": {},
   "outputs": [],
   "source": [
    "building = ef.get_building('TestModel_aPMV.idf')"
   ]
  },
  {
   "cell_type": "markdown",
   "id": "affcedd2-3206-4178-bb93-3ae151e04301",
   "metadata": {},
   "source": [
    "For this analysis, we want to use the HVAC system in all hours of the year, so that temperature is always comfortable. Therefore, we are going to set the occupancy to always on by means of the function `accim.utils.set_occupancy_to_always`, in which we input the IDF class instance we read in the previous cell."
   ]
  },
  {
   "cell_type": "code",
   "execution_count": 5,
   "id": "f5c2feb1-ca1e-4b8a-bc50-1f116cca9fa4",
   "metadata": {},
   "outputs": [
    {
     "name": "stdout",
     "output_type": "stream",
     "text": [
      "On 24/7 Schedule:Compact object was already in the model.\n",
      "People PlantaX08:Office Number of People Schedule Name has been set to always occupied.\n"
     ]
    }
   ],
   "source": [
    "accim.utils.set_occupancy_to_always(idf_object=building)"
   ]
  },
  {
   "cell_type": "markdown",
   "id": "29827b0f-9086-4e26-873b-db2f7818a18a",
   "metadata": {},
   "source": [
    "Now, let's start with the settings for the parametric analysis. First, let's instantiate the class `OptimParamSimulation`, and let's pass the IDF instance in the argument `building`. Argument `parameters_type` can take 3 different strings:\n",
    "- \"accim predefined model\", in which models are those previously defined in accim (ComfStand=0 to ComfStand=22);\n",
    "- \"accim custom model\", in which key parameters of the adaptive comfort model are defined in the relevant arguments;\n",
    "- \"apmv setpoints\", in which setpoints are based on the aPMV (Adaptive Predicted Mean Vote) instead of the PMV index;\n",
    "\n",
    "In this case, we're going to use the 'apmv setpoints' type, in which we can define the adaptive comfort model."
   ]
  },
  {
   "cell_type": "code",
   "execution_count": 6,
   "id": "2a5fa261-bfee-4b08-a8fe-c62f46a481eb",
   "metadata": {},
   "outputs": [
    {
     "name": "stdout",
     "output_type": "stream",
     "text": [
      "PMV_H_SP_PlantaX08_Office Schedule has been added\n",
      "PMV_C_SP_PlantaX08_Office Schedule has been added\n",
      "Added - PMV_PlantaX08_Office Sensor\n",
      "Added - People_Occupant_Count_PlantaX08_Office Sensor\n",
      "Added - PMV_H_SP_act_PlantaX08_Office Actuator\n",
      "Added - PMV_C_SP_act_PlantaX08_Office Actuator\n",
      "Added - CoolingSeason GlobalVariable object\n",
      "Added - CoolSeasonEnd GlobalVariable object\n",
      "Added - CoolSeasonStart GlobalVariable object\n",
      "Added - tolerance_cooling_sp_PlantaX08_Office GlobalVariable object\n",
      "Added - tolerance_cooling_sp_cooling_season_PlantaX08_Office GlobalVariable object\n",
      "Added - tolerance_cooling_sp_heating_season_PlantaX08_Office GlobalVariable object\n",
      "Added - tolerance_heating_sp_PlantaX08_Office GlobalVariable object\n",
      "Added - tolerance_heating_sp_cooling_season_PlantaX08_Office GlobalVariable object\n",
      "Added - tolerance_heating_sp_heating_season_PlantaX08_Office GlobalVariable object\n",
      "Added - adap_coeff_PlantaX08_Office GlobalVariable object\n",
      "Added - adap_coeff_heating_PlantaX08_Office GlobalVariable object\n",
      "Added - adap_coeff_cooling_PlantaX08_Office GlobalVariable object\n",
      "Added - pmv_heating_sp_PlantaX08_Office GlobalVariable object\n",
      "Added - pmv_cooling_sp_PlantaX08_Office GlobalVariable object\n",
      "Added - aPMV_PlantaX08_Office GlobalVariable object\n",
      "Added - comfhour_PlantaX08_Office GlobalVariable object\n",
      "Added - discomfhour_PlantaX08_Office GlobalVariable object\n",
      "Added - discomfhour_heat_PlantaX08_Office GlobalVariable object\n",
      "Added - discomfhour_cold_PlantaX08_Office GlobalVariable object\n",
      "Added - occupied_hour_PlantaX08_Office GlobalVariable object\n",
      "Added - aPMV_H_SP_PlantaX08_Office GlobalVariable object\n",
      "Added - aPMV_C_SP_PlantaX08_Office GlobalVariable object\n",
      "Added - aPMV_H_SP_noTol_PlantaX08_Office GlobalVariable object\n",
      "Added - aPMV_C_SP_noTol_PlantaX08_Office GlobalVariable object\n",
      "Added - set_cooling_season_input_data Program\n",
      "Added - set_cooling_season Program\n",
      "Added - set_zone_input_data_PlantaX08_Office Program\n",
      "Added - apply_aPMV_PlantaX08_Office Program\n",
      "Added - monitor_aPMV_PlantaX08_Office Program\n",
      "Added - count_aPMV_comfort_hours_PlantaX08_Office Program\n",
      "Added - set_cooling_season_input_data Program Calling Manager\n",
      "Added - set_cooling_season Program Calling Manager\n",
      "Added - set_zone_input_data_PlantaX08_Office Program Calling Manager\n",
      "Added - apply_aPMV_PlantaX08_Office Program Calling Manager\n",
      "Added - monitor_aPMV_PlantaX08_Office Program Calling Manager\n",
      "Added - count_aPMV_comfort_hours_PlantaX08_Office Program Calling Manager\n",
      "Added - Adaptive Coefficient_PlantaX08_Office Output Variable\n",
      "Added - aPMV_PlantaX08_Office Output Variable\n",
      "Added - aPMV Heating Setpoint_PlantaX08_Office Output Variable\n",
      "Added - aPMV Cooling Setpoint_PlantaX08_Office Output Variable\n",
      "Added - aPMV Heating Setpoint No Tolerance_PlantaX08_Office Output Variable\n",
      "Added - aPMV Cooling Setpoint No Tolerance_PlantaX08_Office Output Variable\n",
      "Added - Comfortable Hours_PlantaX08_Office Output Variable\n",
      "Added - Discomfortable Hot Hours_PlantaX08_Office Output Variable\n",
      "Added - Discomfortable Cold Hours_PlantaX08_Office Output Variable\n",
      "Added - Discomfortable Total Hours_PlantaX08_Office Output Variable\n",
      "Added - Occupied hours_PlantaX08_Office Output Variable\n",
      "Added - Adaptive Coefficient_PlantaX08_Office Reporting Frequency Hourly Output:Variable data\n",
      "Added - aPMV_PlantaX08_Office Reporting Frequency Hourly Output:Variable data\n",
      "Added - aPMV Heating Setpoint_PlantaX08_Office Reporting Frequency Hourly Output:Variable data\n",
      "Added - aPMV Cooling Setpoint_PlantaX08_Office Reporting Frequency Hourly Output:Variable data\n",
      "Added - aPMV Heating Setpoint No Tolerance_PlantaX08_Office Reporting Frequency Hourly Output:Variable data\n",
      "Added - aPMV Cooling Setpoint No Tolerance_PlantaX08_Office Reporting Frequency Hourly Output:Variable data\n",
      "Added - Comfortable Hours_PlantaX08_Office Reporting Frequency Hourly Output:Variable data\n",
      "Added - Discomfortable Hot Hours_PlantaX08_Office Reporting Frequency Hourly Output:Variable data\n",
      "Added - Discomfortable Cold Hours_PlantaX08_Office Reporting Frequency Hourly Output:Variable data\n",
      "Added - Discomfortable Total Hours_PlantaX08_Office Reporting Frequency Hourly Output:Variable data\n",
      "Added - Occupied hours_PlantaX08_Office Reporting Frequency Hourly Output:Variable data\n",
      "Added - Zone Operative Temperature Reporting Frequency Hourly Output:Variable data\n",
      "Added - Zone Thermal Comfort Clothing Surface Temperature Reporting Frequency Hourly Output:Variable data\n",
      "Added - Zone Thermal Comfort Clothing Value Reporting Frequency Hourly Output:Variable data\n",
      "Added - Zone Thermal Comfort Control Fanger High Setpoint PMV Reporting Frequency Hourly Output:Variable data\n",
      "Added - Zone Thermal Comfort Control Fanger Low Setpoint PMV Reporting Frequency Hourly Output:Variable data\n",
      "Added - Zone Thermal Comfort Fanger Model PMV Reporting Frequency Hourly Output:Variable data\n",
      "Added - Zone Thermal Comfort Fanger Model PPD Reporting Frequency Hourly Output:Variable data\n",
      "Added - Zone Thermal Comfort Mean Radiant Temperature Reporting Frequency Hourly Output:Variable data\n",
      "Added - Zone Air Relative Humidity Reporting Frequency Hourly Output:Variable data\n",
      "Added - Zone Mean Air Temperature Reporting Frequency Hourly Output:Variable data\n",
      "Added - Cooling Coil Total Cooling Rate Reporting Frequency Hourly Output:Variable data\n",
      "Added - Heating Coil Heating Rate Reporting Frequency Hourly Output:Variable data\n",
      "Added - Facility Total HVAC Electric Demand Power Reporting Frequency Hourly Output:Variable data\n",
      "Added - Facility Total HVAC Electricity Demand Rate Reporting Frequency Hourly Output:Variable data\n",
      "Added - AFN Surface Venting Window or Door Opening Factor Reporting Frequency Hourly Output:Variable data\n",
      "Added - AFN Zone Infiltration Air Change Rate Reporting Frequency Hourly Output:Variable data\n",
      "Added - AFN Zone Infiltration Volume Reporting Frequency Hourly Output:Variable data\n",
      "Added - AFN Zone Ventilation Air Change Rate Reporting Frequency Hourly Output:Variable data\n",
      "Added - AFN Zone Ventilation Volume Reporting Frequency Hourly Output:Variable data\n",
      "Added - PMV_H_SP_PlantaX08_Office Reporting Frequency Hourly Output:Variable data\n",
      "Added - PMV_C_SP_PlantaX08_Office Reporting Frequency Hourly Output:Variable data\n",
      "Added - Default Air Velocity for Comfort Calculations Reporting Frequency Hourly Output:Variable data\n",
      "Not added - OutputControl:Files object - Output CSV, MTR and ESO fields set to Yes\n",
      "Arguments output_type, output_keep_existing, ScriptType, and SupplyAirTempInputMethod are only used in accim predefined and custom models, therefore these will not have any effect in this case.\n"
     ]
    }
   ],
   "source": [
    "parametric = OptimParamSimulation(\n",
    "    building=building,\n",
    "    parameters_type='apmv setpoints',\n",
    "    #output_type='standard', #\n",
    "    #output_keep_existing=False, #\n",
    "    #output_freqs=['hourly'], #\n",
    "    #ScriptType='vrf_mm', #\n",
    "    #SupplyAirTempInputMethod='temperature difference', #\n",
    "    #debugging=True, #\n",
    "    #verbosemode=False #\n",
    ")"
   ]
  },
  {
   "cell_type": "markdown",
   "id": "51eed0eb-7b3a-4428-8952-070a650acf61",
   "metadata": {},
   "source": [
    "An initial and generic version of the Adaptive-Comfort-Control-Implementation Script (ACCIS) has been added to the idf instance `building`. For instance, you can take a look at the parameter values accis currently has:"
   ]
  },
  {
   "cell_type": "code",
   "execution_count": 7,
   "id": "ad387b77-4998-4e51-979a-928fa52e551d",
   "metadata": {},
   "outputs": [
    {
     "data": {
      "text/plain": [
       "[\n",
       " ENERGYMANAGEMENTSYSTEM:PROGRAM,\n",
       "     set_zone_input_data_PlantaX08_Office,    !- Name\n",
       "     set adap_coeff_cooling_PlantaX08_Office = 0.293,    !- Program Line 1\n",
       "     set adap_coeff_heating_PlantaX08_Office = -0.293,    !- Program Line 2\n",
       "     set pmv_cooling_sp_PlantaX08_Office = -0.5,    !- Program Line 3\n",
       "     set pmv_heating_sp_PlantaX08_Office = 0.5,    !- Program Line 4\n",
       "     set tolerance_cooling_sp_cooling_season_PlantaX08_Office = -0.1,    !- Program Line 5\n",
       "     set tolerance_cooling_sp_heating_season_PlantaX08_Office = -0.1,    !- Program Line 6\n",
       "     set tolerance_heating_sp_cooling_season_PlantaX08_Office = 0.1,    !- Program Line 7\n",
       "     set tolerance_heating_sp_heating_season_PlantaX08_Office = 0.1;    !- Program Line 8]"
      ]
     },
     "execution_count": 7,
     "metadata": {},
     "output_type": "execute_result"
    }
   ],
   "source": [
    "[i for i in building.idfobjects['energymanagementsystem:program'] if 'set_zone_input_data' in i.Name.lower()]"
   ]
  },
  {
   "cell_type": "markdown",
   "id": "99605e82-4d01-4aee-835c-ab9c6c66faa4",
   "metadata": {},
   "source": [
    "## Setting the outputs"
   ]
  },
  {
   "cell_type": "markdown",
   "id": "8d3f905b-543d-4f32-b0dd-67ed99f77780",
   "metadata": {},
   "source": [
    "**If you have already read any of the other parametric simulation examples, you can skip this entire outputs section, since it is exactly the same.**"
   ]
  },
  {
   "cell_type": "markdown",
   "id": "bc714539-79c3-46e9-9caa-44a21fc413cb",
   "metadata": {},
   "source": [
    "### Outputs for the idf (i.e. the outputs for each simulation run)"
   ]
  },
  {
   "cell_type": "markdown",
   "id": "764b7626-0e63-4317-8bbf-28ac2fe68f68",
   "metadata": {},
   "source": [
    "First of all, we are going to set the outputs of the simulations that are going to be performed. This is an important step, especially if you are going to run hundreds or thousands of simulations."
   ]
  },
  {
   "cell_type": "markdown",
   "id": "b2f1d34a-dc0a-4aac-b01f-a7425b95090f",
   "metadata": {},
   "source": [
    "Let's take a look at the Output:Variable objects we currently have in the idf. The method `get_output_var_df_from_idf()` returns a pandas DataFrame which contains the information of the existing Output:Variable objects in the idf:"
   ]
  },
  {
   "cell_type": "code",
   "execution_count": 8,
   "id": "12ee78ba-c60b-4ef1-a6fb-51086a8a53fa",
   "metadata": {},
   "outputs": [
    {
     "data": {
      "text/html": [
       "<div>\n",
       "<style scoped>\n",
       "    .dataframe tbody tr th:only-of-type {\n",
       "        vertical-align: middle;\n",
       "    }\n",
       "\n",
       "    .dataframe tbody tr th {\n",
       "        vertical-align: top;\n",
       "    }\n",
       "\n",
       "    .dataframe thead th {\n",
       "        text-align: right;\n",
       "    }\n",
       "</style>\n",
       "<table border=\"1\" class=\"dataframe\">\n",
       "  <thead>\n",
       "    <tr style=\"text-align: right;\">\n",
       "      <th></th>\n",
       "      <th>key_value</th>\n",
       "      <th>variable_name</th>\n",
       "      <th>frequency</th>\n",
       "      <th>schedule_name</th>\n",
       "    </tr>\n",
       "  </thead>\n",
       "  <tbody>\n",
       "    <tr>\n",
       "      <th>0</th>\n",
       "      <td>People PlantaX08:Office</td>\n",
       "      <td>Zone Thermal Comfort Fanger Model PMV</td>\n",
       "      <td>hourly</td>\n",
       "      <td>On 24/7</td>\n",
       "    </tr>\n",
       "    <tr>\n",
       "      <th>1</th>\n",
       "      <td>People PlantaX08:Office</td>\n",
       "      <td>Zone Thermal Comfort Fanger Model PPD</td>\n",
       "      <td>hourly</td>\n",
       "      <td>On 24/7</td>\n",
       "    </tr>\n",
       "    <tr>\n",
       "      <th>2</th>\n",
       "      <td>People PlantaX08:Office</td>\n",
       "      <td>Zone Thermal Comfort Mean Radiant Temperature</td>\n",
       "      <td>hourly</td>\n",
       "      <td>On 24/7</td>\n",
       "    </tr>\n",
       "    <tr>\n",
       "      <th>3</th>\n",
       "      <td>People PlantaX08:Office</td>\n",
       "      <td>Zone Thermal Comfort Operative Temperature</td>\n",
       "      <td>hourly</td>\n",
       "      <td>On 24/7</td>\n",
       "    </tr>\n",
       "    <tr>\n",
       "      <th>4</th>\n",
       "      <td>*</td>\n",
       "      <td>Site Outdoor Air Drybulb Temperature</td>\n",
       "      <td>hourly</td>\n",
       "      <td></td>\n",
       "    </tr>\n",
       "    <tr>\n",
       "      <th>5</th>\n",
       "      <td>*</td>\n",
       "      <td>Site Outdoor Air Dewpoint Temperature</td>\n",
       "      <td>hourly</td>\n",
       "      <td></td>\n",
       "    </tr>\n",
       "    <tr>\n",
       "      <th>6</th>\n",
       "      <td>*</td>\n",
       "      <td>Site Wind Speed</td>\n",
       "      <td>hourly</td>\n",
       "      <td></td>\n",
       "    </tr>\n",
       "    <tr>\n",
       "      <th>7</th>\n",
       "      <td>*</td>\n",
       "      <td>Site Wind Direction</td>\n",
       "      <td>hourly</td>\n",
       "      <td></td>\n",
       "    </tr>\n",
       "    <tr>\n",
       "      <th>8</th>\n",
       "      <td>*</td>\n",
       "      <td>Site Direct Solar Radiation Rate per Area</td>\n",
       "      <td>hourly</td>\n",
       "      <td></td>\n",
       "    </tr>\n",
       "    <tr>\n",
       "      <th>9</th>\n",
       "      <td>*</td>\n",
       "      <td>Site Diffuse Solar Radiation Rate per Area</td>\n",
       "      <td>hourly</td>\n",
       "      <td></td>\n",
       "    </tr>\n",
       "    <tr>\n",
       "      <th>10</th>\n",
       "      <td>*</td>\n",
       "      <td>Site Solar Azimuth Angle</td>\n",
       "      <td>hourly</td>\n",
       "      <td></td>\n",
       "    </tr>\n",
       "    <tr>\n",
       "      <th>11</th>\n",
       "      <td>*</td>\n",
       "      <td>Site Solar Altitude Angle</td>\n",
       "      <td>hourly</td>\n",
       "      <td></td>\n",
       "    </tr>\n",
       "    <tr>\n",
       "      <th>12</th>\n",
       "      <td>*</td>\n",
       "      <td>Site Outdoor Air Barometric Pressure</td>\n",
       "      <td>hourly</td>\n",
       "      <td></td>\n",
       "    </tr>\n",
       "    <tr>\n",
       "      <th>13</th>\n",
       "      <td>*</td>\n",
       "      <td>Adaptive Coefficient_PlantaX08_Office</td>\n",
       "      <td>Hourly</td>\n",
       "      <td></td>\n",
       "    </tr>\n",
       "    <tr>\n",
       "      <th>14</th>\n",
       "      <td>*</td>\n",
       "      <td>aPMV_PlantaX08_Office</td>\n",
       "      <td>Hourly</td>\n",
       "      <td></td>\n",
       "    </tr>\n",
       "    <tr>\n",
       "      <th>15</th>\n",
       "      <td>*</td>\n",
       "      <td>aPMV Heating Setpoint_PlantaX08_Office</td>\n",
       "      <td>Hourly</td>\n",
       "      <td></td>\n",
       "    </tr>\n",
       "    <tr>\n",
       "      <th>16</th>\n",
       "      <td>*</td>\n",
       "      <td>aPMV Cooling Setpoint_PlantaX08_Office</td>\n",
       "      <td>Hourly</td>\n",
       "      <td></td>\n",
       "    </tr>\n",
       "    <tr>\n",
       "      <th>17</th>\n",
       "      <td>*</td>\n",
       "      <td>aPMV Heating Setpoint No Tolerance_PlantaX08_O...</td>\n",
       "      <td>Hourly</td>\n",
       "      <td></td>\n",
       "    </tr>\n",
       "    <tr>\n",
       "      <th>18</th>\n",
       "      <td>*</td>\n",
       "      <td>aPMV Cooling Setpoint No Tolerance_PlantaX08_O...</td>\n",
       "      <td>Hourly</td>\n",
       "      <td></td>\n",
       "    </tr>\n",
       "    <tr>\n",
       "      <th>19</th>\n",
       "      <td>*</td>\n",
       "      <td>Comfortable Hours_PlantaX08_Office</td>\n",
       "      <td>Hourly</td>\n",
       "      <td></td>\n",
       "    </tr>\n",
       "    <tr>\n",
       "      <th>20</th>\n",
       "      <td>*</td>\n",
       "      <td>Discomfortable Hot Hours_PlantaX08_Office</td>\n",
       "      <td>Hourly</td>\n",
       "      <td></td>\n",
       "    </tr>\n",
       "    <tr>\n",
       "      <th>21</th>\n",
       "      <td>*</td>\n",
       "      <td>Discomfortable Cold Hours_PlantaX08_Office</td>\n",
       "      <td>Hourly</td>\n",
       "      <td></td>\n",
       "    </tr>\n",
       "    <tr>\n",
       "      <th>22</th>\n",
       "      <td>*</td>\n",
       "      <td>Discomfortable Total Hours_PlantaX08_Office</td>\n",
       "      <td>Hourly</td>\n",
       "      <td></td>\n",
       "    </tr>\n",
       "    <tr>\n",
       "      <th>23</th>\n",
       "      <td>*</td>\n",
       "      <td>Occupied hours_PlantaX08_Office</td>\n",
       "      <td>Hourly</td>\n",
       "      <td></td>\n",
       "    </tr>\n",
       "    <tr>\n",
       "      <th>24</th>\n",
       "      <td>*</td>\n",
       "      <td>Zone Operative Temperature</td>\n",
       "      <td>Hourly</td>\n",
       "      <td></td>\n",
       "    </tr>\n",
       "    <tr>\n",
       "      <th>25</th>\n",
       "      <td>*</td>\n",
       "      <td>Zone Thermal Comfort Clothing Surface Temperature</td>\n",
       "      <td>Hourly</td>\n",
       "      <td></td>\n",
       "    </tr>\n",
       "    <tr>\n",
       "      <th>26</th>\n",
       "      <td>*</td>\n",
       "      <td>Zone Thermal Comfort Clothing Value</td>\n",
       "      <td>Hourly</td>\n",
       "      <td></td>\n",
       "    </tr>\n",
       "    <tr>\n",
       "      <th>27</th>\n",
       "      <td>*</td>\n",
       "      <td>Zone Thermal Comfort Control Fanger High Setpo...</td>\n",
       "      <td>Hourly</td>\n",
       "      <td></td>\n",
       "    </tr>\n",
       "    <tr>\n",
       "      <th>28</th>\n",
       "      <td>*</td>\n",
       "      <td>Zone Thermal Comfort Control Fanger Low Setpoi...</td>\n",
       "      <td>Hourly</td>\n",
       "      <td></td>\n",
       "    </tr>\n",
       "    <tr>\n",
       "      <th>29</th>\n",
       "      <td>*</td>\n",
       "      <td>Zone Thermal Comfort Fanger Model PMV</td>\n",
       "      <td>Hourly</td>\n",
       "      <td></td>\n",
       "    </tr>\n",
       "    <tr>\n",
       "      <th>30</th>\n",
       "      <td>*</td>\n",
       "      <td>Zone Thermal Comfort Fanger Model PPD</td>\n",
       "      <td>Hourly</td>\n",
       "      <td></td>\n",
       "    </tr>\n",
       "    <tr>\n",
       "      <th>31</th>\n",
       "      <td>*</td>\n",
       "      <td>Zone Thermal Comfort Mean Radiant Temperature</td>\n",
       "      <td>Hourly</td>\n",
       "      <td></td>\n",
       "    </tr>\n",
       "    <tr>\n",
       "      <th>32</th>\n",
       "      <td>*</td>\n",
       "      <td>Zone Air Relative Humidity</td>\n",
       "      <td>Hourly</td>\n",
       "      <td></td>\n",
       "    </tr>\n",
       "    <tr>\n",
       "      <th>33</th>\n",
       "      <td>*</td>\n",
       "      <td>Zone Mean Air Temperature</td>\n",
       "      <td>Hourly</td>\n",
       "      <td></td>\n",
       "    </tr>\n",
       "    <tr>\n",
       "      <th>34</th>\n",
       "      <td>*</td>\n",
       "      <td>Cooling Coil Total Cooling Rate</td>\n",
       "      <td>Hourly</td>\n",
       "      <td></td>\n",
       "    </tr>\n",
       "    <tr>\n",
       "      <th>35</th>\n",
       "      <td>*</td>\n",
       "      <td>Heating Coil Heating Rate</td>\n",
       "      <td>Hourly</td>\n",
       "      <td></td>\n",
       "    </tr>\n",
       "    <tr>\n",
       "      <th>36</th>\n",
       "      <td>*</td>\n",
       "      <td>Facility Total HVAC Electric Demand Power</td>\n",
       "      <td>Hourly</td>\n",
       "      <td></td>\n",
       "    </tr>\n",
       "    <tr>\n",
       "      <th>37</th>\n",
       "      <td>*</td>\n",
       "      <td>Facility Total HVAC Electricity Demand Rate</td>\n",
       "      <td>Hourly</td>\n",
       "      <td></td>\n",
       "    </tr>\n",
       "    <tr>\n",
       "      <th>38</th>\n",
       "      <td>*</td>\n",
       "      <td>AFN Surface Venting Window or Door Opening Factor</td>\n",
       "      <td>Hourly</td>\n",
       "      <td></td>\n",
       "    </tr>\n",
       "    <tr>\n",
       "      <th>39</th>\n",
       "      <td>*</td>\n",
       "      <td>AFN Zone Infiltration Air Change Rate</td>\n",
       "      <td>Hourly</td>\n",
       "      <td></td>\n",
       "    </tr>\n",
       "    <tr>\n",
       "      <th>40</th>\n",
       "      <td>*</td>\n",
       "      <td>AFN Zone Infiltration Volume</td>\n",
       "      <td>Hourly</td>\n",
       "      <td></td>\n",
       "    </tr>\n",
       "    <tr>\n",
       "      <th>41</th>\n",
       "      <td>*</td>\n",
       "      <td>AFN Zone Ventilation Air Change Rate</td>\n",
       "      <td>Hourly</td>\n",
       "      <td></td>\n",
       "    </tr>\n",
       "    <tr>\n",
       "      <th>42</th>\n",
       "      <td>*</td>\n",
       "      <td>AFN Zone Ventilation Volume</td>\n",
       "      <td>Hourly</td>\n",
       "      <td></td>\n",
       "    </tr>\n",
       "    <tr>\n",
       "      <th>43</th>\n",
       "      <td>PMV_H_SP_PlantaX08_Office</td>\n",
       "      <td>Schedule Value</td>\n",
       "      <td>Hourly</td>\n",
       "      <td></td>\n",
       "    </tr>\n",
       "    <tr>\n",
       "      <th>44</th>\n",
       "      <td>PMV_C_SP_PlantaX08_Office</td>\n",
       "      <td>Schedule Value</td>\n",
       "      <td>Hourly</td>\n",
       "      <td></td>\n",
       "    </tr>\n",
       "    <tr>\n",
       "      <th>45</th>\n",
       "      <td>Default Air Velocity for Comfort Calculations</td>\n",
       "      <td>Schedule Value</td>\n",
       "      <td>Hourly</td>\n",
       "      <td></td>\n",
       "    </tr>\n",
       "  </tbody>\n",
       "</table>\n",
       "</div>"
      ],
      "text/plain": [
       "                                        key_value  \\\n",
       "0                         People PlantaX08:Office   \n",
       "1                         People PlantaX08:Office   \n",
       "2                         People PlantaX08:Office   \n",
       "3                         People PlantaX08:Office   \n",
       "4                                               *   \n",
       "5                                               *   \n",
       "6                                               *   \n",
       "7                                               *   \n",
       "8                                               *   \n",
       "9                                               *   \n",
       "10                                              *   \n",
       "11                                              *   \n",
       "12                                              *   \n",
       "13                                              *   \n",
       "14                                              *   \n",
       "15                                              *   \n",
       "16                                              *   \n",
       "17                                              *   \n",
       "18                                              *   \n",
       "19                                              *   \n",
       "20                                              *   \n",
       "21                                              *   \n",
       "22                                              *   \n",
       "23                                              *   \n",
       "24                                              *   \n",
       "25                                              *   \n",
       "26                                              *   \n",
       "27                                              *   \n",
       "28                                              *   \n",
       "29                                              *   \n",
       "30                                              *   \n",
       "31                                              *   \n",
       "32                                              *   \n",
       "33                                              *   \n",
       "34                                              *   \n",
       "35                                              *   \n",
       "36                                              *   \n",
       "37                                              *   \n",
       "38                                              *   \n",
       "39                                              *   \n",
       "40                                              *   \n",
       "41                                              *   \n",
       "42                                              *   \n",
       "43                      PMV_H_SP_PlantaX08_Office   \n",
       "44                      PMV_C_SP_PlantaX08_Office   \n",
       "45  Default Air Velocity for Comfort Calculations   \n",
       "\n",
       "                                        variable_name frequency schedule_name  \n",
       "0               Zone Thermal Comfort Fanger Model PMV    hourly       On 24/7  \n",
       "1               Zone Thermal Comfort Fanger Model PPD    hourly       On 24/7  \n",
       "2       Zone Thermal Comfort Mean Radiant Temperature    hourly       On 24/7  \n",
       "3          Zone Thermal Comfort Operative Temperature    hourly       On 24/7  \n",
       "4                Site Outdoor Air Drybulb Temperature    hourly                \n",
       "5               Site Outdoor Air Dewpoint Temperature    hourly                \n",
       "6                                     Site Wind Speed    hourly                \n",
       "7                                 Site Wind Direction    hourly                \n",
       "8           Site Direct Solar Radiation Rate per Area    hourly                \n",
       "9          Site Diffuse Solar Radiation Rate per Area    hourly                \n",
       "10                           Site Solar Azimuth Angle    hourly                \n",
       "11                          Site Solar Altitude Angle    hourly                \n",
       "12               Site Outdoor Air Barometric Pressure    hourly                \n",
       "13              Adaptive Coefficient_PlantaX08_Office    Hourly                \n",
       "14                              aPMV_PlantaX08_Office    Hourly                \n",
       "15             aPMV Heating Setpoint_PlantaX08_Office    Hourly                \n",
       "16             aPMV Cooling Setpoint_PlantaX08_Office    Hourly                \n",
       "17  aPMV Heating Setpoint No Tolerance_PlantaX08_O...    Hourly                \n",
       "18  aPMV Cooling Setpoint No Tolerance_PlantaX08_O...    Hourly                \n",
       "19                 Comfortable Hours_PlantaX08_Office    Hourly                \n",
       "20          Discomfortable Hot Hours_PlantaX08_Office    Hourly                \n",
       "21         Discomfortable Cold Hours_PlantaX08_Office    Hourly                \n",
       "22        Discomfortable Total Hours_PlantaX08_Office    Hourly                \n",
       "23                    Occupied hours_PlantaX08_Office    Hourly                \n",
       "24                         Zone Operative Temperature    Hourly                \n",
       "25  Zone Thermal Comfort Clothing Surface Temperature    Hourly                \n",
       "26                Zone Thermal Comfort Clothing Value    Hourly                \n",
       "27  Zone Thermal Comfort Control Fanger High Setpo...    Hourly                \n",
       "28  Zone Thermal Comfort Control Fanger Low Setpoi...    Hourly                \n",
       "29              Zone Thermal Comfort Fanger Model PMV    Hourly                \n",
       "30              Zone Thermal Comfort Fanger Model PPD    Hourly                \n",
       "31      Zone Thermal Comfort Mean Radiant Temperature    Hourly                \n",
       "32                         Zone Air Relative Humidity    Hourly                \n",
       "33                          Zone Mean Air Temperature    Hourly                \n",
       "34                    Cooling Coil Total Cooling Rate    Hourly                \n",
       "35                          Heating Coil Heating Rate    Hourly                \n",
       "36          Facility Total HVAC Electric Demand Power    Hourly                \n",
       "37        Facility Total HVAC Electricity Demand Rate    Hourly                \n",
       "38  AFN Surface Venting Window or Door Opening Factor    Hourly                \n",
       "39              AFN Zone Infiltration Air Change Rate    Hourly                \n",
       "40                       AFN Zone Infiltration Volume    Hourly                \n",
       "41               AFN Zone Ventilation Air Change Rate    Hourly                \n",
       "42                        AFN Zone Ventilation Volume    Hourly                \n",
       "43                                     Schedule Value    Hourly                \n",
       "44                                     Schedule Value    Hourly                \n",
       "45                                     Schedule Value    Hourly                "
      ]
     },
     "execution_count": 8,
     "metadata": {},
     "output_type": "execute_result"
    }
   ],
   "source": [
    "df_output_variables_idf = parametric.get_output_var_df_from_idf()\n",
    "df_output_variables_idf"
   ]
  },
  {
   "cell_type": "markdown",
   "id": "ab1e81e8-c2f0-40c0-b868-0cf7ddb9954f",
   "metadata": {},
   "source": [
    "now, let's see the Output:Meter objects:"
   ]
  },
  {
   "cell_type": "code",
   "execution_count": 9,
   "id": "94c9844b-aacf-41fa-b1d4-ac7b491aa14e",
   "metadata": {},
   "outputs": [
    {
     "data": {
      "text/html": [
       "<div>\n",
       "<style scoped>\n",
       "    .dataframe tbody tr th:only-of-type {\n",
       "        vertical-align: middle;\n",
       "    }\n",
       "\n",
       "    .dataframe tbody tr th {\n",
       "        vertical-align: top;\n",
       "    }\n",
       "\n",
       "    .dataframe thead th {\n",
       "        text-align: right;\n",
       "    }\n",
       "</style>\n",
       "<table border=\"1\" class=\"dataframe\">\n",
       "  <thead>\n",
       "    <tr style=\"text-align: right;\">\n",
       "      <th></th>\n",
       "      <th>key_name</th>\n",
       "      <th>frequency</th>\n",
       "    </tr>\n",
       "  </thead>\n",
       "  <tbody>\n",
       "  </tbody>\n",
       "</table>\n",
       "</div>"
      ],
      "text/plain": [
       "Empty DataFrame\n",
       "Columns: [key_name, frequency]\n",
       "Index: []"
      ]
     },
     "execution_count": 9,
     "metadata": {},
     "output_type": "execute_result"
    }
   ],
   "source": [
    "df_output_meters_idf = parametric.get_output_meter_df_from_idf()\n",
    "df_output_meters_idf.head()"
   ]
  },
  {
   "cell_type": "markdown",
   "id": "093bdcab-a1aa-492a-8864-d2e4e1a0b72c",
   "metadata": {},
   "source": [
    "In this case, we can see there is no Output:Meter. However, there is a large number of Output:Variable objects which might result in heavy simulation outputs. So, let's get rid of some of them. We can drop the rows we want, and then input the modified DataFrame in the method `set_output_var_df_to_idf(outputs_df)`."
   ]
  },
  {
   "cell_type": "code",
   "execution_count": 10,
   "id": "9ccc7b08-119c-4f4c-bb45-9aac8201fe7e",
   "metadata": {},
   "outputs": [
    {
     "data": {
      "text/html": [
       "<div>\n",
       "<style scoped>\n",
       "    .dataframe tbody tr th:only-of-type {\n",
       "        vertical-align: middle;\n",
       "    }\n",
       "\n",
       "    .dataframe tbody tr th {\n",
       "        vertical-align: top;\n",
       "    }\n",
       "\n",
       "    .dataframe thead th {\n",
       "        text-align: right;\n",
       "    }\n",
       "</style>\n",
       "<table border=\"1\" class=\"dataframe\">\n",
       "  <thead>\n",
       "    <tr style=\"text-align: right;\">\n",
       "      <th></th>\n",
       "      <th>key_value</th>\n",
       "      <th>variable_name</th>\n",
       "      <th>frequency</th>\n",
       "      <th>schedule_name</th>\n",
       "    </tr>\n",
       "  </thead>\n",
       "  <tbody>\n",
       "    <tr>\n",
       "      <th>14</th>\n",
       "      <td>*</td>\n",
       "      <td>aPMV_PlantaX08_Office</td>\n",
       "      <td>Hourly</td>\n",
       "      <td></td>\n",
       "    </tr>\n",
       "    <tr>\n",
       "      <th>15</th>\n",
       "      <td>*</td>\n",
       "      <td>aPMV Heating Setpoint_PlantaX08_Office</td>\n",
       "      <td>Hourly</td>\n",
       "      <td></td>\n",
       "    </tr>\n",
       "    <tr>\n",
       "      <th>16</th>\n",
       "      <td>*</td>\n",
       "      <td>aPMV Cooling Setpoint_PlantaX08_Office</td>\n",
       "      <td>Hourly</td>\n",
       "      <td></td>\n",
       "    </tr>\n",
       "    <tr>\n",
       "      <th>17</th>\n",
       "      <td>*</td>\n",
       "      <td>aPMV Heating Setpoint No Tolerance_PlantaX08_O...</td>\n",
       "      <td>Hourly</td>\n",
       "      <td></td>\n",
       "    </tr>\n",
       "    <tr>\n",
       "      <th>18</th>\n",
       "      <td>*</td>\n",
       "      <td>aPMV Cooling Setpoint No Tolerance_PlantaX08_O...</td>\n",
       "      <td>Hourly</td>\n",
       "      <td></td>\n",
       "    </tr>\n",
       "  </tbody>\n",
       "</table>\n",
       "</div>"
      ],
      "text/plain": [
       "   key_value                                      variable_name frequency  \\\n",
       "14         *                              aPMV_PlantaX08_Office    Hourly   \n",
       "15         *             aPMV Heating Setpoint_PlantaX08_Office    Hourly   \n",
       "16         *             aPMV Cooling Setpoint_PlantaX08_Office    Hourly   \n",
       "17         *  aPMV Heating Setpoint No Tolerance_PlantaX08_O...    Hourly   \n",
       "18         *  aPMV Cooling Setpoint No Tolerance_PlantaX08_O...    Hourly   \n",
       "\n",
       "   schedule_name  \n",
       "14                \n",
       "15                \n",
       "16                \n",
       "17                \n",
       "18                "
      ]
     },
     "execution_count": 10,
     "metadata": {},
     "output_type": "execute_result"
    }
   ],
   "source": [
    "df_output_variables_idf = df_output_variables_idf[\n",
    "        df_output_variables_idf['variable_name'].str.contains('aPMV')\n",
    "]\n",
    "df_output_variables_idf"
   ]
  },
  {
   "cell_type": "markdown",
   "id": "643151b4-a20d-4d00-a1c9-5a78a56be916",
   "metadata": {},
   "source": [
    "Let's keep only the Output:Variable objects we have filtered using the `set_output_var_df_to_idf(outputs_df)`:"
   ]
  },
  {
   "cell_type": "code",
   "execution_count": 11,
   "id": "8958bc66-f42d-4fc0-9622-f2b3ffb03852",
   "metadata": {},
   "outputs": [],
   "source": [
    "parametric.set_output_var_df_to_idf(outputs_df=df_output_variables_idf)"
   ]
  },
  {
   "cell_type": "markdown",
   "id": "eacd9d6d-7fa1-4e6d-8bab-edbfa322140b",
   "metadata": {},
   "source": [
    "We have removed all rows except the adaptive heating and cooling setpoints, the operative temperature and the running mean outdoor temperature. Next optional step is adding Output:Meter objects. We can do that using the method `set_output_met_objects_to_idf(output_meters)`, where `output_meters` is a list of Output:Meter key names."
   ]
  },
  {
   "cell_type": "code",
   "execution_count": 12,
   "id": "addf36d3-b7c2-4254-bec5-322850a464d1",
   "metadata": {},
   "outputs": [],
   "source": [
    "output_meters = [\n",
    "    'Heating:Electricity',\n",
    "    'Cooling:Electricity',\n",
    "    #'Electricity:HVAC',\n",
    "]\n",
    "parametric.set_output_met_objects_to_idf(output_meters=output_meters)"
   ]
  },
  {
   "cell_type": "markdown",
   "id": "fa66a111-e72e-4ebd-8110-8222191d6c5d",
   "metadata": {},
   "source": [
    "Let's see Output:Meter objects we currently have after adding these:"
   ]
  },
  {
   "cell_type": "code",
   "execution_count": 13,
   "id": "41878d11-6dcc-4158-9ec4-a74aa9d2dafc",
   "metadata": {},
   "outputs": [
    {
     "data": {
      "text/html": [
       "<div>\n",
       "<style scoped>\n",
       "    .dataframe tbody tr th:only-of-type {\n",
       "        vertical-align: middle;\n",
       "    }\n",
       "\n",
       "    .dataframe tbody tr th {\n",
       "        vertical-align: top;\n",
       "    }\n",
       "\n",
       "    .dataframe thead th {\n",
       "        text-align: right;\n",
       "    }\n",
       "</style>\n",
       "<table border=\"1\" class=\"dataframe\">\n",
       "  <thead>\n",
       "    <tr style=\"text-align: right;\">\n",
       "      <th></th>\n",
       "      <th>key_name</th>\n",
       "      <th>frequency</th>\n",
       "    </tr>\n",
       "  </thead>\n",
       "  <tbody>\n",
       "    <tr>\n",
       "      <th>0</th>\n",
       "      <td>Heating:Electricity</td>\n",
       "      <td>hourly</td>\n",
       "    </tr>\n",
       "    <tr>\n",
       "      <th>1</th>\n",
       "      <td>Cooling:Electricity</td>\n",
       "      <td>hourly</td>\n",
       "    </tr>\n",
       "  </tbody>\n",
       "</table>\n",
       "</div>"
      ],
      "text/plain": [
       "              key_name frequency\n",
       "0  Heating:Electricity    hourly\n",
       "1  Cooling:Electricity    hourly"
      ]
     },
     "execution_count": 13,
     "metadata": {},
     "output_type": "execute_result"
    }
   ],
   "source": [
    "df_output_meters_idf = parametric.get_output_meter_df_from_idf()\n",
    "df_output_meters_idf.head()"
   ]
  },
  {
   "cell_type": "markdown",
   "id": "90fd8d9b-ecd8-4c79-9f37-775f2c2921ed",
   "metadata": {},
   "source": [
    "### Outputs to be read and shown in the parametric simulation or optimisation"
   ]
  },
  {
   "cell_type": "markdown",
   "id": "bb18fd43-e07e-42f1-ac75-020bcbe96d9a",
   "metadata": {},
   "source": [
    "To successfully run the parametric simulation or optimisation, it is advisable running a test simulation to know the outputs that each simulation will have. We can do that with the method `get_outputs_df_from_testsim()`, which returns a tuple containing 2 DataFrames containing respectively the Output:Meter and Output:Variable objects from the simulation. In this case, you won't find wildcards such as \"*\"."
   ]
  },
  {
   "cell_type": "code",
   "execution_count": 14,
   "id": "ff6093e9-840d-4142-ad79-98d78f4f13d1",
   "metadata": {},
   "outputs": [],
   "source": [
    "df_output_meters_testsim, df_output_variables_testsim = parametric.get_outputs_df_from_testsim()"
   ]
  },
  {
   "cell_type": "code",
   "execution_count": 15,
   "id": "61a88134-7997-42ce-88b0-ef4606cdfe61",
   "metadata": {},
   "outputs": [
    {
     "data": {
      "text/html": [
       "<div>\n",
       "<style scoped>\n",
       "    .dataframe tbody tr th:only-of-type {\n",
       "        vertical-align: middle;\n",
       "    }\n",
       "\n",
       "    .dataframe tbody tr th {\n",
       "        vertical-align: top;\n",
       "    }\n",
       "\n",
       "    .dataframe thead th {\n",
       "        text-align: right;\n",
       "    }\n",
       "</style>\n",
       "<table border=\"1\" class=\"dataframe\">\n",
       "  <thead>\n",
       "    <tr style=\"text-align: right;\">\n",
       "      <th></th>\n",
       "      <th>key_name</th>\n",
       "      <th>frequency</th>\n",
       "    </tr>\n",
       "  </thead>\n",
       "  <tbody>\n",
       "    <tr>\n",
       "      <th>0</th>\n",
       "      <td>Heating:Electricity</td>\n",
       "      <td>Hourly</td>\n",
       "    </tr>\n",
       "    <tr>\n",
       "      <th>1</th>\n",
       "      <td>Cooling:Electricity</td>\n",
       "      <td>Hourly</td>\n",
       "    </tr>\n",
       "  </tbody>\n",
       "</table>\n",
       "</div>"
      ],
      "text/plain": [
       "              key_name frequency\n",
       "0  Heating:Electricity    Hourly\n",
       "1  Cooling:Electricity    Hourly"
      ]
     },
     "execution_count": 15,
     "metadata": {},
     "output_type": "execute_result"
    }
   ],
   "source": [
    "df_output_meters_testsim"
   ]
  },
  {
   "cell_type": "code",
   "execution_count": 16,
   "id": "9dd7f778-e7b7-4474-ae02-fd6a8f154c1f",
   "metadata": {},
   "outputs": [
    {
     "data": {
      "text/html": [
       "<div>\n",
       "<style scoped>\n",
       "    .dataframe tbody tr th:only-of-type {\n",
       "        vertical-align: middle;\n",
       "    }\n",
       "\n",
       "    .dataframe tbody tr th {\n",
       "        vertical-align: top;\n",
       "    }\n",
       "\n",
       "    .dataframe thead th {\n",
       "        text-align: right;\n",
       "    }\n",
       "</style>\n",
       "<table border=\"1\" class=\"dataframe\">\n",
       "  <thead>\n",
       "    <tr style=\"text-align: right;\">\n",
       "      <th></th>\n",
       "      <th>key_value</th>\n",
       "      <th>variable_name</th>\n",
       "      <th>frequency</th>\n",
       "    </tr>\n",
       "  </thead>\n",
       "  <tbody>\n",
       "    <tr>\n",
       "      <th>0</th>\n",
       "      <td>EMS</td>\n",
       "      <td>aPMV_PlantaX08_Office</td>\n",
       "      <td>Hourly</td>\n",
       "    </tr>\n",
       "    <tr>\n",
       "      <th>1</th>\n",
       "      <td>EMS</td>\n",
       "      <td>aPMV Heating Setpoint_PlantaX08_Office</td>\n",
       "      <td>Hourly</td>\n",
       "    </tr>\n",
       "    <tr>\n",
       "      <th>2</th>\n",
       "      <td>EMS</td>\n",
       "      <td>aPMV Cooling Setpoint_PlantaX08_Office</td>\n",
       "      <td>Hourly</td>\n",
       "    </tr>\n",
       "    <tr>\n",
       "      <th>3</th>\n",
       "      <td>EMS</td>\n",
       "      <td>aPMV Heating Setpoint No Tolerance_PlantaX08_O...</td>\n",
       "      <td>Hourly</td>\n",
       "    </tr>\n",
       "    <tr>\n",
       "      <th>4</th>\n",
       "      <td>EMS</td>\n",
       "      <td>aPMV Cooling Setpoint No Tolerance_PlantaX08_O...</td>\n",
       "      <td>Hourly</td>\n",
       "    </tr>\n",
       "  </tbody>\n",
       "</table>\n",
       "</div>"
      ],
      "text/plain": [
       "  key_value                                      variable_name frequency\n",
       "0       EMS                              aPMV_PlantaX08_Office    Hourly\n",
       "1       EMS             aPMV Heating Setpoint_PlantaX08_Office    Hourly\n",
       "2       EMS             aPMV Cooling Setpoint_PlantaX08_Office    Hourly\n",
       "3       EMS  aPMV Heating Setpoint No Tolerance_PlantaX08_O...    Hourly\n",
       "4       EMS  aPMV Cooling Setpoint No Tolerance_PlantaX08_O...    Hourly"
      ]
     },
     "execution_count": 16,
     "metadata": {},
     "output_type": "execute_result"
    }
   ],
   "source": [
    "df_output_variables_testsim"
   ]
  },
  {
   "cell_type": "markdown",
   "id": "b0ed4500-6054-4a00-ae63-54412bf70944",
   "metadata": {},
   "source": [
    "We can get DataFrames from the .rdd and .mdd files generated from the test simulation using the functions `get_rdd_file_as_df()` and `get_mdd_file_as_df()`. "
   ]
  },
  {
   "cell_type": "code",
   "execution_count": 17,
   "id": "e28454a5-8de7-4551-bf9b-4db3fa8f124f",
   "metadata": {},
   "outputs": [
    {
     "data": {
      "text/html": [
       "<div>\n",
       "<style scoped>\n",
       "    .dataframe tbody tr th:only-of-type {\n",
       "        vertical-align: middle;\n",
       "    }\n",
       "\n",
       "    .dataframe tbody tr th {\n",
       "        vertical-align: top;\n",
       "    }\n",
       "\n",
       "    .dataframe thead th {\n",
       "        text-align: right;\n",
       "    }\n",
       "</style>\n",
       "<table border=\"1\" class=\"dataframe\">\n",
       "  <thead>\n",
       "    <tr style=\"text-align: right;\">\n",
       "      <th></th>\n",
       "      <th>object</th>\n",
       "      <th>key_value</th>\n",
       "      <th>variable_name</th>\n",
       "      <th>frequency</th>\n",
       "      <th>units</th>\n",
       "    </tr>\n",
       "  </thead>\n",
       "  <tbody>\n",
       "    <tr>\n",
       "      <th>0</th>\n",
       "      <td>Output:Variable</td>\n",
       "      <td>*</td>\n",
       "      <td>Site Outdoor Air Drybulb Temperature</td>\n",
       "      <td>hourly</td>\n",
       "      <td>!- Zone Average [C]</td>\n",
       "    </tr>\n",
       "    <tr>\n",
       "      <th>1</th>\n",
       "      <td>Output:Variable</td>\n",
       "      <td>*</td>\n",
       "      <td>Site Outdoor Air Dewpoint Temperature</td>\n",
       "      <td>hourly</td>\n",
       "      <td>!- Zone Average [C]</td>\n",
       "    </tr>\n",
       "    <tr>\n",
       "      <th>2</th>\n",
       "      <td>Output:Variable</td>\n",
       "      <td>*</td>\n",
       "      <td>Site Outdoor Air Wetbulb Temperature</td>\n",
       "      <td>hourly</td>\n",
       "      <td>!- Zone Average [C]</td>\n",
       "    </tr>\n",
       "    <tr>\n",
       "      <th>3</th>\n",
       "      <td>Output:Variable</td>\n",
       "      <td>*</td>\n",
       "      <td>Site Outdoor Air Humidity Ratio</td>\n",
       "      <td>hourly</td>\n",
       "      <td>!- Zone Average [kgWater/kgDryAir]</td>\n",
       "    </tr>\n",
       "    <tr>\n",
       "      <th>4</th>\n",
       "      <td>Output:Variable</td>\n",
       "      <td>*</td>\n",
       "      <td>Site Outdoor Air Relative Humidity</td>\n",
       "      <td>hourly</td>\n",
       "      <td>!- Zone Average [%]</td>\n",
       "    </tr>\n",
       "    <tr>\n",
       "      <th>...</th>\n",
       "      <td>...</td>\n",
       "      <td>...</td>\n",
       "      <td>...</td>\n",
       "      <td>...</td>\n",
       "      <td>...</td>\n",
       "    </tr>\n",
       "    <tr>\n",
       "      <th>502</th>\n",
       "      <td>Output:Variable</td>\n",
       "      <td>*</td>\n",
       "      <td>Zone Mechanical Ventilation Standard Density V...</td>\n",
       "      <td>hourly</td>\n",
       "      <td>!- HVAC Average [m3/s]</td>\n",
       "    </tr>\n",
       "    <tr>\n",
       "      <th>503</th>\n",
       "      <td>Output:Variable</td>\n",
       "      <td>*</td>\n",
       "      <td>Zone Mechanical Ventilation Standard Density V...</td>\n",
       "      <td>hourly</td>\n",
       "      <td>!- HVAC Sum [m3]</td>\n",
       "    </tr>\n",
       "    <tr>\n",
       "      <th>504</th>\n",
       "      <td>Output:Variable</td>\n",
       "      <td>*</td>\n",
       "      <td>Zone Mechanical Ventilation Current Density Vo...</td>\n",
       "      <td>hourly</td>\n",
       "      <td>!- HVAC Average [m3/s]</td>\n",
       "    </tr>\n",
       "    <tr>\n",
       "      <th>505</th>\n",
       "      <td>Output:Variable</td>\n",
       "      <td>*</td>\n",
       "      <td>Zone Mechanical Ventilation Current Density Vo...</td>\n",
       "      <td>hourly</td>\n",
       "      <td>!- HVAC Sum [m3]</td>\n",
       "    </tr>\n",
       "    <tr>\n",
       "      <th>506</th>\n",
       "      <td>Output:Variable</td>\n",
       "      <td>*</td>\n",
       "      <td>Zone Mechanical Ventilation Air Changes per Hour</td>\n",
       "      <td>hourly</td>\n",
       "      <td>!- HVAC Average [ach]</td>\n",
       "    </tr>\n",
       "  </tbody>\n",
       "</table>\n",
       "<p>507 rows × 5 columns</p>\n",
       "</div>"
      ],
      "text/plain": [
       "              object key_value  \\\n",
       "0    Output:Variable         *   \n",
       "1    Output:Variable         *   \n",
       "2    Output:Variable         *   \n",
       "3    Output:Variable         *   \n",
       "4    Output:Variable         *   \n",
       "..               ...       ...   \n",
       "502  Output:Variable         *   \n",
       "503  Output:Variable         *   \n",
       "504  Output:Variable         *   \n",
       "505  Output:Variable         *   \n",
       "506  Output:Variable         *   \n",
       "\n",
       "                                         variable_name frequency  \\\n",
       "0                 Site Outdoor Air Drybulb Temperature    hourly   \n",
       "1                Site Outdoor Air Dewpoint Temperature    hourly   \n",
       "2                 Site Outdoor Air Wetbulb Temperature    hourly   \n",
       "3                      Site Outdoor Air Humidity Ratio    hourly   \n",
       "4                   Site Outdoor Air Relative Humidity    hourly   \n",
       "..                                                 ...       ...   \n",
       "502  Zone Mechanical Ventilation Standard Density V...    hourly   \n",
       "503  Zone Mechanical Ventilation Standard Density V...    hourly   \n",
       "504  Zone Mechanical Ventilation Current Density Vo...    hourly   \n",
       "505  Zone Mechanical Ventilation Current Density Vo...    hourly   \n",
       "506   Zone Mechanical Ventilation Air Changes per Hour    hourly   \n",
       "\n",
       "                                   units  \n",
       "0                    !- Zone Average [C]  \n",
       "1                    !- Zone Average [C]  \n",
       "2                    !- Zone Average [C]  \n",
       "3     !- Zone Average [kgWater/kgDryAir]  \n",
       "4                    !- Zone Average [%]  \n",
       "..                                   ...  \n",
       "502               !- HVAC Average [m3/s]  \n",
       "503                     !- HVAC Sum [m3]  \n",
       "504               !- HVAC Average [m3/s]  \n",
       "505                     !- HVAC Sum [m3]  \n",
       "506                !- HVAC Average [ach]  \n",
       "\n",
       "[507 rows x 5 columns]"
      ]
     },
     "execution_count": 17,
     "metadata": {},
     "output_type": "execute_result"
    }
   ],
   "source": [
    "df_rdd = get_rdd_file_as_df()\n",
    "df_rdd"
   ]
  },
  {
   "cell_type": "code",
   "execution_count": 18,
   "id": "58649f6e-f08c-49e5-823a-376ff26eb83a",
   "metadata": {},
   "outputs": [
    {
     "data": {
      "text/html": [
       "<div>\n",
       "<style scoped>\n",
       "    .dataframe tbody tr th:only-of-type {\n",
       "        vertical-align: middle;\n",
       "    }\n",
       "\n",
       "    .dataframe tbody tr th {\n",
       "        vertical-align: top;\n",
       "    }\n",
       "\n",
       "    .dataframe thead th {\n",
       "        text-align: right;\n",
       "    }\n",
       "</style>\n",
       "<table border=\"1\" class=\"dataframe\">\n",
       "  <thead>\n",
       "    <tr style=\"text-align: right;\">\n",
       "      <th></th>\n",
       "      <th>object</th>\n",
       "      <th>meter_name</th>\n",
       "      <th>frequency</th>\n",
       "      <th>units</th>\n",
       "    </tr>\n",
       "  </thead>\n",
       "  <tbody>\n",
       "    <tr>\n",
       "      <th>0</th>\n",
       "      <td>Output:Meter</td>\n",
       "      <td>Electricity:Facility</td>\n",
       "      <td>hourly</td>\n",
       "      <td>!- [J]</td>\n",
       "    </tr>\n",
       "    <tr>\n",
       "      <th>1</th>\n",
       "      <td>Output:Meter:Cumulative</td>\n",
       "      <td>Electricity:Facility</td>\n",
       "      <td>hourly</td>\n",
       "      <td>!- [J]</td>\n",
       "    </tr>\n",
       "    <tr>\n",
       "      <th>2</th>\n",
       "      <td>Output:Meter</td>\n",
       "      <td>Electricity:Building</td>\n",
       "      <td>hourly</td>\n",
       "      <td>!- [J]</td>\n",
       "    </tr>\n",
       "    <tr>\n",
       "      <th>3</th>\n",
       "      <td>Output:Meter:Cumulative</td>\n",
       "      <td>Electricity:Building</td>\n",
       "      <td>hourly</td>\n",
       "      <td>!- [J]</td>\n",
       "    </tr>\n",
       "    <tr>\n",
       "      <th>4</th>\n",
       "      <td>Output:Meter</td>\n",
       "      <td>Electricity:Zone:PLANTAX08:OFFICE</td>\n",
       "      <td>hourly</td>\n",
       "      <td>!- [J]</td>\n",
       "    </tr>\n",
       "    <tr>\n",
       "      <th>...</th>\n",
       "      <td>...</td>\n",
       "      <td>...</td>\n",
       "      <td>...</td>\n",
       "      <td>...</td>\n",
       "    </tr>\n",
       "    <tr>\n",
       "      <th>73</th>\n",
       "      <td>Output:Meter:Cumulative</td>\n",
       "      <td>General:Heating:Electricity</td>\n",
       "      <td>hourly</td>\n",
       "      <td>!- [J]</td>\n",
       "    </tr>\n",
       "    <tr>\n",
       "      <th>74</th>\n",
       "      <td>Output:Meter</td>\n",
       "      <td>Carbon Equivalent:Facility</td>\n",
       "      <td>hourly</td>\n",
       "      <td>!- [kg]</td>\n",
       "    </tr>\n",
       "    <tr>\n",
       "      <th>75</th>\n",
       "      <td>Output:Meter:Cumulative</td>\n",
       "      <td>Carbon Equivalent:Facility</td>\n",
       "      <td>hourly</td>\n",
       "      <td>!- [kg]</td>\n",
       "    </tr>\n",
       "    <tr>\n",
       "      <th>76</th>\n",
       "      <td>Output:Meter</td>\n",
       "      <td>CarbonEquivalentEmissions:Carbon Equivalent</td>\n",
       "      <td>hourly</td>\n",
       "      <td>!- [kg]</td>\n",
       "    </tr>\n",
       "    <tr>\n",
       "      <th>77</th>\n",
       "      <td>Output:Meter:Cumulative</td>\n",
       "      <td>CarbonEquivalentEmissions:Carbon Equivalent</td>\n",
       "      <td>hourly</td>\n",
       "      <td>!- [kg]</td>\n",
       "    </tr>\n",
       "  </tbody>\n",
       "</table>\n",
       "<p>78 rows × 4 columns</p>\n",
       "</div>"
      ],
      "text/plain": [
       "                     object                                   meter_name  \\\n",
       "0              Output:Meter                         Electricity:Facility   \n",
       "1   Output:Meter:Cumulative                         Electricity:Facility   \n",
       "2              Output:Meter                         Electricity:Building   \n",
       "3   Output:Meter:Cumulative                         Electricity:Building   \n",
       "4              Output:Meter            Electricity:Zone:PLANTAX08:OFFICE   \n",
       "..                      ...                                          ...   \n",
       "73  Output:Meter:Cumulative                  General:Heating:Electricity   \n",
       "74             Output:Meter                   Carbon Equivalent:Facility   \n",
       "75  Output:Meter:Cumulative                   Carbon Equivalent:Facility   \n",
       "76             Output:Meter  CarbonEquivalentEmissions:Carbon Equivalent   \n",
       "77  Output:Meter:Cumulative  CarbonEquivalentEmissions:Carbon Equivalent   \n",
       "\n",
       "   frequency     units  \n",
       "0     hourly    !- [J]  \n",
       "1     hourly    !- [J]  \n",
       "2     hourly    !- [J]  \n",
       "3     hourly    !- [J]  \n",
       "4     hourly    !- [J]  \n",
       "..       ...       ...  \n",
       "73    hourly    !- [J]  \n",
       "74    hourly   !- [kg]  \n",
       "75    hourly   !- [kg]  \n",
       "76    hourly   !- [kg]  \n",
       "77    hourly   !- [kg]  \n",
       "\n",
       "[78 rows x 4 columns]"
      ]
     },
     "execution_count": 18,
     "metadata": {},
     "output_type": "execute_result"
    }
   ],
   "source": [
    "df_mdd = get_mdd_file_as_df()\n",
    "df_mdd"
   ]
  },
  {
   "cell_type": "markdown",
   "id": "a84943b5-db09-4f19-95bb-f9583711d0a7",
   "metadata": {},
   "source": [
    "Also, we can parse the .mtd files as a list using the function `parse_mtd_file()`."
   ]
  },
  {
   "cell_type": "code",
   "execution_count": 19,
   "id": "df4da1a7-fcb2-4c59-b790-1bc9e3b128f3",
   "metadata": {},
   "outputs": [
    {
     "data": {
      "text/plain": [
       "[{'meter_id': '8',\n",
       "  'description': 'PLANTAX08:OFFICE GENERAL LIGHTING:Lights Electricity Energy [J]',\n",
       "  'on_meters': ['Electricity:Facility [J]',\n",
       "   'Electricity:Building [J]',\n",
       "   'Electricity:Zone:PLANTAX08:OFFICE [J]',\n",
       "   'InteriorLights:Electricity [J]',\n",
       "   'InteriorLights:Electricity:Zone:PLANTAX08:OFFICE [J]',\n",
       "   'ELECTRIC EQUIPMENT#PlantaX08:Office#GeneralLights:InteriorLights:Electricity [J]']},\n",
       " {'meter_id': '92',\n",
       "  'description': 'PLANTAX08:OFFICE:Zone Air System Sensible Heating Energy [J]',\n",
       "  'on_meters': ['EnergyTransfer:Facility [J]',\n",
       "   'EnergyTransfer:Building [J]',\n",
       "   'EnergyTransfer:Zone:PLANTAX08:OFFICE [J]',\n",
       "   'Heating:EnergyTransfer [J]',\n",
       "   'Heating:EnergyTransfer:Zone:PLANTAX08:OFFICE [J]',\n",
       "   'General:Heating:EnergyTransfer [J]']}]"
      ]
     },
     "execution_count": 19,
     "metadata": {},
     "output_type": "execute_result"
    }
   ],
   "source": [
    "mtd_list = parse_mtd_file()\n",
    "mtd_list[0:2]"
   ]
  },
  {
   "cell_type": "markdown",
   "id": "76fa398d-15a0-4504-9f11-468bfd7c094f",
   "metadata": {},
   "source": [
    "Therefore, we have 2 DataFrames, one for the Output:Meter and another for the Output:Variable objects. Next step is setting the outputs for the parametric simulation. To do so, we'll need to pass the DataFrames into the method `set_outputs_for_simulation(df_output_meter, df_output_variable)`. If you have some knowledge about the python package besos, you might think of these dataframes as if each row was a `MeterReader` or `VariableReader` instances respectively for the Output:Meter and Output:Variable dataframes, and the arguments in these were the specified in the columns. The `MeterReader` class takes the arguments `key_name`, `frequency`, `name` and `func`, while `VariableReader` class takes the arguments  `key_value`, `variable_name`, `frequency`, `name` and `func`."
   ]
  },
  {
   "cell_type": "code",
   "execution_count": 20,
   "id": "2b133883-a0be-42a9-bc04-0e6054337b9b",
   "metadata": {},
   "outputs": [
    {
     "data": {
      "text/plain": [
       "['key_name', 'frequency']"
      ]
     },
     "execution_count": 20,
     "metadata": {},
     "output_type": "execute_result"
    }
   ],
   "source": [
    "[i for i in df_output_meters_testsim.columns]"
   ]
  },
  {
   "cell_type": "code",
   "execution_count": 21,
   "id": "c43b0496-1d36-4a0e-b2dc-9f77e41627ff",
   "metadata": {},
   "outputs": [
    {
     "data": {
      "text/plain": [
       "['key_value', 'variable_name', 'frequency']"
      ]
     },
     "execution_count": 21,
     "metadata": {},
     "output_type": "execute_result"
    }
   ],
   "source": [
    "[i for i in df_output_variables_testsim.columns]"
   ]
  },
  {
   "cell_type": "markdown",
   "id": "a03bd526-8bdf-4cce-af62-73ac36e9d0c3",
   "metadata": {},
   "source": [
    "If you take a look at the columns of the dataframes above, you can see the names are the arguments in the `MeterReader` and `VariableReader` classes, and only `name` and `func` are missing. That means, you can add these columns to input the `name` and `func` arguments as desired. **The only limitation is that you cannot return time series in optimisation**. In case of the Output:Meter dataframe, we won't add the `name` and `func` columns, which means the name will be the `key_name` and hourly results will be aggregated using the pd.Series.sum() function. However, in case of the Output:Variable dataframe, we will specify these: we want the average rather than the sum, therefore we will pass the name bound to the function `average_results`, and we will add '_average' as a suffix to the `variable_name` column. We will also remove the outputs for BLOCK1:ZONE2, which are the rows 2 and 4."
   ]
  },
  {
   "cell_type": "code",
   "execution_count": 22,
   "id": "0e8fecdc-4625-4d95-a87d-67071884963b",
   "metadata": {},
   "outputs": [
    {
     "data": {
      "text/html": [
       "<div>\n",
       "<style scoped>\n",
       "    .dataframe tbody tr th:only-of-type {\n",
       "        vertical-align: middle;\n",
       "    }\n",
       "\n",
       "    .dataframe tbody tr th {\n",
       "        vertical-align: top;\n",
       "    }\n",
       "\n",
       "    .dataframe thead th {\n",
       "        text-align: right;\n",
       "    }\n",
       "</style>\n",
       "<table border=\"1\" class=\"dataframe\">\n",
       "  <thead>\n",
       "    <tr style=\"text-align: right;\">\n",
       "      <th></th>\n",
       "      <th>key_value</th>\n",
       "      <th>variable_name</th>\n",
       "      <th>frequency</th>\n",
       "      <th>func</th>\n",
       "      <th>name</th>\n",
       "    </tr>\n",
       "  </thead>\n",
       "  <tbody>\n",
       "    <tr>\n",
       "      <th>0</th>\n",
       "      <td>EMS</td>\n",
       "      <td>aPMV_PlantaX08_Office</td>\n",
       "      <td>Hourly</td>\n",
       "      <td>&lt;function average_results at 0x000002A8476F4C10&gt;</td>\n",
       "      <td>aPMV_PlantaX08_Office_average</td>\n",
       "    </tr>\n",
       "    <tr>\n",
       "      <th>1</th>\n",
       "      <td>EMS</td>\n",
       "      <td>aPMV Heating Setpoint_PlantaX08_Office</td>\n",
       "      <td>Hourly</td>\n",
       "      <td>&lt;function average_results at 0x000002A8476F4C10&gt;</td>\n",
       "      <td>aPMV Heating Setpoint_PlantaX08_Office_average</td>\n",
       "    </tr>\n",
       "    <tr>\n",
       "      <th>3</th>\n",
       "      <td>EMS</td>\n",
       "      <td>aPMV Heating Setpoint No Tolerance_PlantaX08_O...</td>\n",
       "      <td>Hourly</td>\n",
       "      <td>&lt;function average_results at 0x000002A8476F4C10&gt;</td>\n",
       "      <td>aPMV Heating Setpoint No Tolerance_PlantaX08_O...</td>\n",
       "    </tr>\n",
       "  </tbody>\n",
       "</table>\n",
       "</div>"
      ],
      "text/plain": [
       "  key_value                                      variable_name frequency  \\\n",
       "0       EMS                              aPMV_PlantaX08_Office    Hourly   \n",
       "1       EMS             aPMV Heating Setpoint_PlantaX08_Office    Hourly   \n",
       "3       EMS  aPMV Heating Setpoint No Tolerance_PlantaX08_O...    Hourly   \n",
       "\n",
       "                                               func  \\\n",
       "0  <function average_results at 0x000002A8476F4C10>   \n",
       "1  <function average_results at 0x000002A8476F4C10>   \n",
       "3  <function average_results at 0x000002A8476F4C10>   \n",
       "\n",
       "                                                name  \n",
       "0                      aPMV_PlantaX08_Office_average  \n",
       "1     aPMV Heating Setpoint_PlantaX08_Office_average  \n",
       "3  aPMV Heating Setpoint No Tolerance_PlantaX08_O...  "
      ]
     },
     "execution_count": 22,
     "metadata": {},
     "output_type": "execute_result"
    }
   ],
   "source": [
    "df_output_variables_testsim['func'] = average_results\n",
    "df_output_variables_testsim['name'] = df_output_variables_testsim['variable_name'] + '_average'\n",
    "df_output_variables_testsim = df_output_variables_testsim.drop(index=[2, 4])\n",
    "df_output_variables_testsim"
   ]
  },
  {
   "cell_type": "markdown",
   "id": "cec83d60-60bb-4a48-928f-336500ad45e4",
   "metadata": {},
   "source": [
    "Finally, let's set the outputs for parametric simulation and optimisation:"
   ]
  },
  {
   "cell_type": "code",
   "execution_count": 23,
   "id": "9000c1d4-5d65-405b-a139-3be098103846",
   "metadata": {},
   "outputs": [],
   "source": [
    "parametric.set_outputs_for_simulation(\n",
    "    df_output_meter=df_output_meters_testsim,\n",
    "    #df_output_variable=df_output_variables_testsim,\n",
    ")"
   ]
  },
  {
   "cell_type": "markdown",
   "id": "ce76ee7a-3816-4a54-a588-8df3fe0cd6a6",
   "metadata": {},
   "source": [
    "If you want to inspect the `VariableReader` and `MeterReader` objects, you can see the internal variable `sim_outputs`:"
   ]
  },
  {
   "cell_type": "code",
   "execution_count": 24,
   "id": "9f4abcee-ae3a-4c41-a338-2ada4419da15",
   "metadata": {},
   "outputs": [
    {
     "data": {
      "text/plain": [
       "[MeterReader(name='Heating:Electricity', class_name='Output:Meter', frequency='Hourly', func=<function sum_values at 0x000002A8485E4310>, key_name='Heating:Electricity'),\n",
       " MeterReader(name='Cooling:Electricity', class_name='Output:Meter', frequency='Hourly', func=<function sum_values at 0x000002A8485E4310>, key_name='Cooling:Electricity')]"
      ]
     },
     "execution_count": 24,
     "metadata": {},
     "output_type": "execute_result"
    }
   ],
   "source": [
    "parametric.sim_outputs"
   ]
  },
  {
   "cell_type": "markdown",
   "id": "b5dd98bb-6b1d-4b3c-b762-3c9a0c015f63",
   "metadata": {},
   "source": [
    "## Setting the parameters"
   ]
  },
  {
   "cell_type": "markdown",
   "id": "4804beed-52e5-432a-a999-685c222d668d",
   "metadata": {},
   "source": [
    "At the top of the script, when you instantiated the class `OptimParamSimulation`, you already specified which type of parameters you were going to use. Now, the parameters we're about to set, must match the `parameters_type` argument. At this point, you may not know which parameters you can use, so you can call the method `get_available_parameters()`, which will return a list of available parameters:"
   ]
  },
  {
   "cell_type": "code",
   "execution_count": 25,
   "id": "004029fa-ff72-4f43-a9c3-e004757463e4",
   "metadata": {},
   "outputs": [
    {
     "data": {
      "text/plain": [
       "['Adaptive coefficient',\n",
       " 'Adaptive cooling coefficient',\n",
       " 'Adaptive heating coefficient',\n",
       " 'PMV setpoint',\n",
       " 'PMV cooling setpoint',\n",
       " 'PMV heating setpoint']"
      ]
     },
     "execution_count": 25,
     "metadata": {},
     "output_type": "execute_result"
    }
   ],
   "source": [
    "available_parameters = parametric.get_available_parameters()\n",
    "available_parameters"
   ]
  },
  {
   "cell_type": "markdown",
   "id": "612a4d67",
   "metadata": {},
   "source": [
    "If you don't know what are these, please refer to the [documentation](https://accim.readthedocs.io/en/master/4_detailed%20use.html)."
   ]
  },
  {
   "cell_type": "markdown",
   "id": "45886126-30b8-4e53-b8c0-06135e6a3c38",
   "metadata": {},
   "source": [
    "Using the 'apmv setpoints' type, the values can be either a list of options or a range of values. Now, let's set the parameters using the method `set_parameters(accis_params_dict, additional_params)`. In this method, we set the parameters related to accim using the argument `accis_params_dict`, which takes a dictionary following the pattern {'parameter name': [1, 2, 3, etc]} in case of list of options, or {'parameter name': (min_value, max_value)} in case of the range of values. We can also add some other parameters not related to accim in the argument `additional_params`, which takes a list of parameters as if these were input straight to the besos EPProblem class."
   ]
  },
  {
   "cell_type": "markdown",
   "id": "4c40cf7e",
   "metadata": {},
   "source": [
    "An example using ranges, could be:"
   ]
  },
  {
   "cell_type": "code",
   "execution_count": 26,
   "id": "8741dd19",
   "metadata": {},
   "outputs": [
    {
     "name": "stderr",
     "output_type": "stream",
     "text": [
      "C:\\Users\\usuario\\AppData\\Local\\Programs\\Python\\Python39\\lib\\site-packages\\besos\\parameters.py:441: UserWarning: This parameter's descriptor is already named Adaptive coefficient.The name used as an input (Adaptive coefficient) will be discarded.\n",
      "  warnings.warn(\n",
      "C:\\Users\\usuario\\AppData\\Local\\Programs\\Python\\Python39\\lib\\site-packages\\besos\\parameters.py:441: UserWarning: This parameter's descriptor is already named PMV setpoint.The name used as an input (PMV setpoint) will be discarded.\n",
      "  warnings.warn(\n"
     ]
    }
   ],
   "source": [
    "accis_parameters = {\n",
    "    'Adaptive coefficient': (0.01, 0.99),\n",
    "    'PMV setpoint': (0.2, 0.7),\n",
    "}\n",
    "parametric.set_parameters(accis_params_dict=accis_parameters)"
   ]
  },
  {
   "cell_type": "markdown",
   "id": "d5ecdd37",
   "metadata": {},
   "source": [
    "Let's take a look at the values that the arguments currently have:"
   ]
  },
  {
   "cell_type": "code",
   "execution_count": 27,
   "id": "c4e8c450",
   "metadata": {},
   "outputs": [
    {
     "data": {
      "text/plain": [
       "{'set_zone_input_data_PlantaX08_Office': {'adap_coeff_cooling_PlantaX08_Office': 0.293,\n",
       "  'adap_coeff_heating_PlantaX08_Office': -0.293,\n",
       "  'pmv_cooling_sp_PlantaX08_Office': -0.5,\n",
       "  'pmv_heating_sp_PlantaX08_Office': 0.5,\n",
       "  'tolerance_cooling_sp_cooling_season_PlantaX08_Office': -0.1,\n",
       "  'tolerance_cooling_sp_heating_season_PlantaX08_Office': -0.1,\n",
       "  'tolerance_heating_sp_cooling_season_PlantaX08_Office': 0.1,\n",
       "  'tolerance_heating_sp_heating_season_PlantaX08_Office': 0.1}}"
      ]
     },
     "execution_count": 27,
     "metadata": {},
     "output_type": "execute_result"
    }
   ],
   "source": [
    "args = get_accim_args(building)\n",
    "args"
   ]
  },
  {
   "cell_type": "markdown",
   "id": "b2e1e8a5-4af9-4d23-82b9-af45b49ba26d",
   "metadata": {},
   "source": [
    "If you want to inspect the `Parameter` objects, you can see the internal variable `parameters_list`:"
   ]
  },
  {
   "cell_type": "code",
   "execution_count": 28,
   "id": "4b72a5b5-417f-410b-b30a-bf6550dbb364",
   "metadata": {},
   "outputs": [
    {
     "data": {
      "text/plain": [
       "[Parameter(selector=GenericSelector(set=<function change_adaptive_coeff_all_zones at 0x000002A85B575550>), value_descriptors=[RangeParameter(name='Adaptive coefficient', min=0.01, max=0.99)]),\n",
       " Parameter(selector=GenericSelector(set=<function change_pmv_setpoint_all_zones at 0x000002A85B575700>), value_descriptors=[RangeParameter(name='PMV setpoint', min=0.2, max=0.7)])]"
      ]
     },
     "execution_count": 28,
     "metadata": {},
     "output_type": "execute_result"
    }
   ],
   "source": [
    "parametric.parameters_list"
   ]
  },
  {
   "cell_type": "markdown",
   "id": "16b3b170-683d-49b3-9d6b-4d3772245647",
   "metadata": {},
   "source": [
    "## Running the optimisation"
   ]
  },
  {
   "cell_type": "markdown",
   "id": "e36956e3-781b-4fe1-980f-ad9fbca21fba",
   "metadata": {},
   "source": [
    "### Setting the problem"
   ]
  },
  {
   "cell_type": "markdown",
   "id": "60150ec0-8c63-4097-bd4f-c8263dc22d47",
   "metadata": {},
   "source": [
    "First, let's set the problem. To do so, use the `set_problem()` method. In case of the parametric simulation you don't need to input any argument. However, in case of the optimisation, you must input the arguments `minimize_outputs`, `constraints` and `constraint_bounds`, similarly as you would do in the besos `EPProblem` class."
   ]
  },
  {
   "cell_type": "code",
   "execution_count": 29,
   "id": "cd2c3ebc-99ea-46a2-94cf-37b3ddd77630",
   "metadata": {},
   "outputs": [],
   "source": [
    "parametric.set_problem(\n",
    "    minimize_outputs=[True, True] # Means minimise Heating:Electricity and Cooling:Electricity\n",
    ")"
   ]
  },
  {
   "cell_type": "markdown",
   "id": "cc1eac32-9784-441f-98e3-0382053ba14d",
   "metadata": {},
   "source": [
    "Again, you can inspect the `EPProblem` class instance in the internal variable `problem`:"
   ]
  },
  {
   "cell_type": "code",
   "execution_count": 30,
   "id": "a4f80f41-febc-47e0-b610-8c07893a5c20",
   "metadata": {},
   "outputs": [
    {
     "data": {
      "text/plain": [
       "EPProblem(inputs=[Parameter(selector=GenericSelector(set=<function change_adaptive_coeff_all_zones at 0x000002A85B575550>), value_descriptors=[RangeParameter(name='Adaptive coefficient', min=0.01, max=0.99)]), Parameter(selector=GenericSelector(set=<function change_pmv_setpoint_all_zones at 0x000002A85B575700>), value_descriptors=[RangeParameter(name='PMV setpoint', min=0.2, max=0.7)])], outputs=[MeterReader(name='Heating:Electricity', class_name='Output:Meter', frequency='Hourly', func=<function sum_values at 0x000002A8485E4310>, key_name='Heating:Electricity'), MeterReader(name='Cooling:Electricity', class_name='Output:Meter', frequency='Hourly', func=<function sum_values at 0x000002A8485E4310>, key_name='Cooling:Electricity')], minimize_outputs=[True, True], converters={'outputs': <class 'besos.objectives.MeterReader'>, 'constraints': <class 'besos.objectives.MeterReader'>})"
      ]
     },
     "execution_count": 30,
     "metadata": {},
     "output_type": "execute_result"
    }
   ],
   "source": [
    "parametric.problem"
   ]
  },
  {
   "cell_type": "markdown",
   "id": "c0c976c6-eed1-4727-a274-975585466130",
   "metadata": {},
   "source": [
    "### Running the simulations"
   ]
  },
  {
   "cell_type": "markdown",
   "id": "302f66b3-55ba-468b-91bb-d0c7a53f4387",
   "metadata": {},
   "source": [
    "Now, we're ready to run the simulations, by means of the `run_optimisation(algorithm, epw, out_dir, evaluations, population_size)` method. After calling the method, the outputs (a DataFrame) is saved in the internal variable `outputs_optimisation`. We want to run the parametric simulations with both Sydney and Seville climate files, therefore the filenames are input in a list in the `epws` argument. The simulation outputs will be saved in a directory named 'notebook_temp_dir'."
   ]
  },
  {
   "cell_type": "code",
   "execution_count": 31,
   "id": "5e5a19ab-d2a3-44ac-9d2d-01672ac8db08",
   "metadata": {},
   "outputs": [
    {
     "name": "stdout",
     "output_type": "stream",
     "text": [
      "Running EnergyPlus with stdout output suppressed...\n",
      "Running EnergyPlus with stdout output suppressed...\n",
      "Running EnergyPlus with stdout output suppressed...\n",
      "Running EnergyPlus with stdout output suppressed...\n",
      "Running EnergyPlus with stdout output suppressed...\n",
      "Running EnergyPlus with stdout output suppressed...\n",
      "Running EnergyPlus with stdout output suppressed...\n",
      "Running EnergyPlus with stdout output suppressed...\n",
      "Running EnergyPlus with stdout output suppressed...\n",
      "Running EnergyPlus with stdout output suppressed...\n",
      "Running EnergyPlus with stdout output suppressed...\n",
      "Running EnergyPlus with stdout output suppressed...\n",
      "Running EnergyPlus with stdout output suppressed...\n",
      "Running EnergyPlus with stdout output suppressed...\n",
      "Running EnergyPlus with stdout output suppressed...\n",
      "Running EnergyPlus with stdout output suppressed...\n",
      "Running EnergyPlus with stdout output suppressed...\n",
      "Running EnergyPlus with stdout output suppressed...\n",
      "Running EnergyPlus with stdout output suppressed...\n",
      "Running EnergyPlus with stdout output suppressed...\n"
     ]
    }
   ],
   "source": [
    "parametric.run_optimisation(\n",
    "    algorithm='NSGAII',\n",
    "    epws=['Seville.epw', 'Sydney.epw'],\n",
    "    out_dir='notebook_temp_dir',\n",
    "    evaluations=5,\n",
    "    population_size=10,\n",
    "    #keep_input=True, # To keep the input values of parameters, as entered in df argument. Default is True.\n",
    ")"
   ]
  },
  {
   "cell_type": "markdown",
   "id": "8f768acb-e813-4d4d-91d7-7b96a98ecaad",
   "metadata": {},
   "source": [
    "Let's take a look at the simulation results"
   ]
  },
  {
   "cell_type": "code",
   "execution_count": 32,
   "id": "9461f205-acd1-4532-b691-9dd7d9778873",
   "metadata": {},
   "outputs": [
    {
     "data": {
      "text/html": [
       "<div>\n",
       "<style scoped>\n",
       "    .dataframe tbody tr th:only-of-type {\n",
       "        vertical-align: middle;\n",
       "    }\n",
       "\n",
       "    .dataframe tbody tr th {\n",
       "        vertical-align: top;\n",
       "    }\n",
       "\n",
       "    .dataframe thead th {\n",
       "        text-align: right;\n",
       "    }\n",
       "</style>\n",
       "<table border=\"1\" class=\"dataframe\">\n",
       "  <thead>\n",
       "    <tr style=\"text-align: right;\">\n",
       "      <th></th>\n",
       "      <th>index</th>\n",
       "      <th>Adaptive coefficient</th>\n",
       "      <th>PMV setpoint</th>\n",
       "      <th>Heating:Electricity</th>\n",
       "      <th>Cooling:Electricity</th>\n",
       "      <th>violation</th>\n",
       "      <th>pareto-optimal</th>\n",
       "      <th>epw</th>\n",
       "    </tr>\n",
       "  </thead>\n",
       "  <tbody>\n",
       "    <tr>\n",
       "      <th>0</th>\n",
       "      <td>0</td>\n",
       "      <td>0.134728</td>\n",
       "      <td>0.599750</td>\n",
       "      <td>5.917408e+08</td>\n",
       "      <td>4.218545e+10</td>\n",
       "      <td>0</td>\n",
       "      <td>True</td>\n",
       "      <td>Seville</td>\n",
       "    </tr>\n",
       "    <tr>\n",
       "      <th>1</th>\n",
       "      <td>1</td>\n",
       "      <td>0.145534</td>\n",
       "      <td>0.373316</td>\n",
       "      <td>2.209249e+09</td>\n",
       "      <td>4.728216e+10</td>\n",
       "      <td>0</td>\n",
       "      <td>False</td>\n",
       "      <td>Seville</td>\n",
       "    </tr>\n",
       "    <tr>\n",
       "      <th>2</th>\n",
       "      <td>2</td>\n",
       "      <td>0.448822</td>\n",
       "      <td>0.470331</td>\n",
       "      <td>9.100940e+08</td>\n",
       "      <td>4.611559e+10</td>\n",
       "      <td>0</td>\n",
       "      <td>False</td>\n",
       "      <td>Seville</td>\n",
       "    </tr>\n",
       "    <tr>\n",
       "      <th>3</th>\n",
       "      <td>3</td>\n",
       "      <td>0.467964</td>\n",
       "      <td>0.367750</td>\n",
       "      <td>1.935335e+09</td>\n",
       "      <td>4.824537e+10</td>\n",
       "      <td>0</td>\n",
       "      <td>False</td>\n",
       "      <td>Seville</td>\n",
       "    </tr>\n",
       "    <tr>\n",
       "      <th>4</th>\n",
       "      <td>4</td>\n",
       "      <td>0.474519</td>\n",
       "      <td>0.517508</td>\n",
       "      <td>5.602473e+08</td>\n",
       "      <td>4.539787e+10</td>\n",
       "      <td>0</td>\n",
       "      <td>False</td>\n",
       "      <td>Seville</td>\n",
       "    </tr>\n",
       "    <tr>\n",
       "      <th>5</th>\n",
       "      <td>5</td>\n",
       "      <td>0.569743</td>\n",
       "      <td>0.432222</td>\n",
       "      <td>1.063746e+09</td>\n",
       "      <td>4.718522e+10</td>\n",
       "      <td>0</td>\n",
       "      <td>False</td>\n",
       "      <td>Seville</td>\n",
       "    </tr>\n",
       "    <tr>\n",
       "      <th>6</th>\n",
       "      <td>6</td>\n",
       "      <td>0.624340</td>\n",
       "      <td>0.679429</td>\n",
       "      <td>3.283728e+06</td>\n",
       "      <td>4.396041e+10</td>\n",
       "      <td>0</td>\n",
       "      <td>True</td>\n",
       "      <td>Seville</td>\n",
       "    </tr>\n",
       "    <tr>\n",
       "      <th>7</th>\n",
       "      <td>7</td>\n",
       "      <td>0.712116</td>\n",
       "      <td>0.652445</td>\n",
       "      <td>1.629606e+06</td>\n",
       "      <td>4.469954e+10</td>\n",
       "      <td>0</td>\n",
       "      <td>True</td>\n",
       "      <td>Seville</td>\n",
       "    </tr>\n",
       "    <tr>\n",
       "      <th>8</th>\n",
       "      <td>8</td>\n",
       "      <td>0.856717</td>\n",
       "      <td>0.570547</td>\n",
       "      <td>1.834441e+07</td>\n",
       "      <td>4.616780e+10</td>\n",
       "      <td>0</td>\n",
       "      <td>False</td>\n",
       "      <td>Seville</td>\n",
       "    </tr>\n",
       "    <tr>\n",
       "      <th>9</th>\n",
       "      <td>9</td>\n",
       "      <td>0.986433</td>\n",
       "      <td>0.254709</td>\n",
       "      <td>3.174493e+09</td>\n",
       "      <td>5.169598e+10</td>\n",
       "      <td>0</td>\n",
       "      <td>False</td>\n",
       "      <td>Seville</td>\n",
       "    </tr>\n",
       "    <tr>\n",
       "      <th>10</th>\n",
       "      <td>0</td>\n",
       "      <td>0.225584</td>\n",
       "      <td>0.644958</td>\n",
       "      <td>8.279898e+08</td>\n",
       "      <td>4.383655e+10</td>\n",
       "      <td>0</td>\n",
       "      <td>True</td>\n",
       "      <td>Sydney</td>\n",
       "    </tr>\n",
       "    <tr>\n",
       "      <th>11</th>\n",
       "      <td>1</td>\n",
       "      <td>0.269844</td>\n",
       "      <td>0.492210</td>\n",
       "      <td>1.578373e+09</td>\n",
       "      <td>4.740122e+10</td>\n",
       "      <td>0</td>\n",
       "      <td>False</td>\n",
       "      <td>Sydney</td>\n",
       "    </tr>\n",
       "    <tr>\n",
       "      <th>12</th>\n",
       "      <td>2</td>\n",
       "      <td>0.414961</td>\n",
       "      <td>0.442177</td>\n",
       "      <td>1.789552e+09</td>\n",
       "      <td>4.911790e+10</td>\n",
       "      <td>0</td>\n",
       "      <td>False</td>\n",
       "      <td>Sydney</td>\n",
       "    </tr>\n",
       "    <tr>\n",
       "      <th>13</th>\n",
       "      <td>3</td>\n",
       "      <td>0.487122</td>\n",
       "      <td>0.699315</td>\n",
       "      <td>2.506245e+08</td>\n",
       "      <td>4.474578e+10</td>\n",
       "      <td>0</td>\n",
       "      <td>True</td>\n",
       "      <td>Sydney</td>\n",
       "    </tr>\n",
       "    <tr>\n",
       "      <th>14</th>\n",
       "      <td>4</td>\n",
       "      <td>0.564690</td>\n",
       "      <td>0.514223</td>\n",
       "      <td>1.022190e+09</td>\n",
       "      <td>4.810785e+10</td>\n",
       "      <td>0</td>\n",
       "      <td>False</td>\n",
       "      <td>Sydney</td>\n",
       "    </tr>\n",
       "    <tr>\n",
       "      <th>15</th>\n",
       "      <td>5</td>\n",
       "      <td>0.599624</td>\n",
       "      <td>0.474497</td>\n",
       "      <td>1.273789e+09</td>\n",
       "      <td>4.899773e+10</td>\n",
       "      <td>0</td>\n",
       "      <td>False</td>\n",
       "      <td>Sydney</td>\n",
       "    </tr>\n",
       "    <tr>\n",
       "      <th>16</th>\n",
       "      <td>6</td>\n",
       "      <td>0.630153</td>\n",
       "      <td>0.373010</td>\n",
       "      <td>2.194744e+09</td>\n",
       "      <td>5.126096e+10</td>\n",
       "      <td>0</td>\n",
       "      <td>False</td>\n",
       "      <td>Sydney</td>\n",
       "    </tr>\n",
       "    <tr>\n",
       "      <th>17</th>\n",
       "      <td>7</td>\n",
       "      <td>0.644907</td>\n",
       "      <td>0.256161</td>\n",
       "      <td>3.542487e+09</td>\n",
       "      <td>5.435011e+10</td>\n",
       "      <td>0</td>\n",
       "      <td>False</td>\n",
       "      <td>Sydney</td>\n",
       "    </tr>\n",
       "    <tr>\n",
       "      <th>18</th>\n",
       "      <td>8</td>\n",
       "      <td>0.692639</td>\n",
       "      <td>0.298381</td>\n",
       "      <td>2.987987e+09</td>\n",
       "      <td>5.324822e+10</td>\n",
       "      <td>0</td>\n",
       "      <td>False</td>\n",
       "      <td>Sydney</td>\n",
       "    </tr>\n",
       "    <tr>\n",
       "      <th>19</th>\n",
       "      <td>9</td>\n",
       "      <td>0.845224</td>\n",
       "      <td>0.601877</td>\n",
       "      <td>1.002691e+08</td>\n",
       "      <td>4.784269e+10</td>\n",
       "      <td>0</td>\n",
       "      <td>True</td>\n",
       "      <td>Sydney</td>\n",
       "    </tr>\n",
       "  </tbody>\n",
       "</table>\n",
       "</div>"
      ],
      "text/plain": [
       "    index  Adaptive coefficient  PMV setpoint  Heating:Electricity  \\\n",
       "0       0              0.134728      0.599750         5.917408e+08   \n",
       "1       1              0.145534      0.373316         2.209249e+09   \n",
       "2       2              0.448822      0.470331         9.100940e+08   \n",
       "3       3              0.467964      0.367750         1.935335e+09   \n",
       "4       4              0.474519      0.517508         5.602473e+08   \n",
       "5       5              0.569743      0.432222         1.063746e+09   \n",
       "6       6              0.624340      0.679429         3.283728e+06   \n",
       "7       7              0.712116      0.652445         1.629606e+06   \n",
       "8       8              0.856717      0.570547         1.834441e+07   \n",
       "9       9              0.986433      0.254709         3.174493e+09   \n",
       "10      0              0.225584      0.644958         8.279898e+08   \n",
       "11      1              0.269844      0.492210         1.578373e+09   \n",
       "12      2              0.414961      0.442177         1.789552e+09   \n",
       "13      3              0.487122      0.699315         2.506245e+08   \n",
       "14      4              0.564690      0.514223         1.022190e+09   \n",
       "15      5              0.599624      0.474497         1.273789e+09   \n",
       "16      6              0.630153      0.373010         2.194744e+09   \n",
       "17      7              0.644907      0.256161         3.542487e+09   \n",
       "18      8              0.692639      0.298381         2.987987e+09   \n",
       "19      9              0.845224      0.601877         1.002691e+08   \n",
       "\n",
       "    Cooling:Electricity  violation  pareto-optimal      epw  \n",
       "0          4.218545e+10          0            True  Seville  \n",
       "1          4.728216e+10          0           False  Seville  \n",
       "2          4.611559e+10          0           False  Seville  \n",
       "3          4.824537e+10          0           False  Seville  \n",
       "4          4.539787e+10          0           False  Seville  \n",
       "5          4.718522e+10          0           False  Seville  \n",
       "6          4.396041e+10          0            True  Seville  \n",
       "7          4.469954e+10          0            True  Seville  \n",
       "8          4.616780e+10          0           False  Seville  \n",
       "9          5.169598e+10          0           False  Seville  \n",
       "10         4.383655e+10          0            True   Sydney  \n",
       "11         4.740122e+10          0           False   Sydney  \n",
       "12         4.911790e+10          0           False   Sydney  \n",
       "13         4.474578e+10          0            True   Sydney  \n",
       "14         4.810785e+10          0           False   Sydney  \n",
       "15         4.899773e+10          0           False   Sydney  \n",
       "16         5.126096e+10          0           False   Sydney  \n",
       "17         5.435011e+10          0           False   Sydney  \n",
       "18         5.324822e+10          0           False   Sydney  \n",
       "19         4.784269e+10          0            True   Sydney  "
      ]
     },
     "execution_count": 32,
     "metadata": {},
     "output_type": "execute_result"
    }
   ],
   "source": [
    "parametric.outputs_optimisation"
   ]
  },
  {
   "cell_type": "markdown",
   "id": "efa37b3d-45f9-4bbd-b2c2-3f36b743ee0b",
   "metadata": {},
   "source": [
    "We can see the columns are the following:"
   ]
  },
  {
   "cell_type": "markdown",
   "id": "907ca41e-e151-4e90-a37b-ed0b596e1852",
   "metadata": {},
   "source": [
    "- the parameters, which are:"
   ]
  },
  {
   "cell_type": "code",
   "execution_count": 33,
   "id": "c733f7a2-fd24-4b14-9ab1-98075d261401",
   "metadata": {},
   "outputs": [
    {
     "data": {
      "text/plain": [
       "['Adaptive coefficient', 'PMV setpoint']"
      ]
     },
     "execution_count": 33,
     "metadata": {},
     "output_type": "execute_result"
    }
   ],
   "source": [
    "[i.value_descriptors[0].name for i in parametric.parameters_list]"
   ]
  },
  {
   "cell_type": "markdown",
   "id": "c30f391f-08a0-488e-8dd3-67aa9189790c",
   "metadata": {},
   "source": [
    "- the outputs, which are:"
   ]
  },
  {
   "cell_type": "code",
   "execution_count": 34,
   "id": "405d7408-599d-4493-a497-5bfe686db381",
   "metadata": {},
   "outputs": [
    {
     "data": {
      "text/plain": [
       "['Heating:Electricity', 'Cooling:Electricity']"
      ]
     },
     "execution_count": 34,
     "metadata": {},
     "output_type": "execute_result"
    }
   ],
   "source": [
    "[i.name for i in parametric.sim_outputs]"
   ]
  },
  {
   "cell_type": "markdown",
   "id": "cf172d66-6883-481c-9779-a3382616924e",
   "metadata": {},
   "source": [
    "- the violation column, for those simulations in which constraints have been exceeded\n",
    "- the pareto-optimal column, which shows True for the optimal values\n",
    "- the epw for each simulation, in the column 'epw'"
   ]
  },
  {
   "cell_type": "markdown",
   "id": "e2f6302e-8105-482b-a984-c4bc03ac8086",
   "metadata": {},
   "source": [
    "### Visualising the results"
   ]
  },
  {
   "cell_type": "markdown",
   "id": "d7b2ad11-4f2b-46d0-8a59-3e7e842b2ae9",
   "metadata": {},
   "source": [
    "At this point, if you have some knowledge of pandas and some package to plot the data (e.g. matplotlib or seaborn), you can carry out your own analysis and visualization. We're going to do some example below."
   ]
  },
  {
   "cell_type": "code",
   "execution_count": 35,
   "id": "3b08c431-5c10-47bc-b8d9-bbed174fb35c",
   "metadata": {},
   "outputs": [
    {
     "data": {
      "text/plain": [
       "<seaborn.axisgrid.FacetGrid at 0x2a85e318340>"
      ]
     },
     "execution_count": 35,
     "metadata": {},
     "output_type": "execute_result"
    },
    {
     "data": {
      "image/png": "[encoded data removed]",
      "text/plain": [
       "<Figure size 684.875x300 with 2 Axes>"
      ]
     },
     "metadata": {},
     "output_type": "display_data"
    }
   ],
   "source": [
    "g = sns.FacetGrid(\n",
    "    data=parametric.outputs_optimisation,\n",
    "    col='epw'\n",
    ")\n",
    "\n",
    "g.map_dataframe(\n",
    "    sns.scatterplot,\n",
    "    x='Heating:Electricity',\n",
    "    y='Cooling:Electricity',\n",
    "    hue='pareto-optimal',\n",
    ")\n",
    "g.add_legend(title='Pareto')"
   ]
  },
  {
   "cell_type": "markdown",
   "id": "e0b253ef-b8ee-402b-a741-b4b89181e589",
   "metadata": {},
   "source": [
    "We're done with the example, so let's remove all new files, so that we can re-run it again."
   ]
  },
  {
   "cell_type": "code",
   "execution_count": 36,
   "id": "abefda96-72f4-4e8a-8d2a-5337647c480b",
   "metadata": {},
   "outputs": [
    {
     "data": {
      "text/plain": [
       "{'available_outputs', 'notebook_temp_dir'}"
      ]
     },
     "execution_count": 36,
     "metadata": {},
     "output_type": "execute_result"
    }
   ],
   "source": [
    "current_files = [i for i in listdir()]\n",
    "new_files = set(current_files) - set(original_files)\n",
    "new_files"
   ]
  },
  {
   "cell_type": "code",
   "execution_count": 37,
   "id": "f9dbc462-7f2b-40e2-b7b0-41e9243b3b59",
   "metadata": {},
   "outputs": [],
   "source": [
    "import os\n",
    "import shutil\n",
    "for item in new_files:\n",
    "    item_path = os.path.join(os.getcwd(), item)\n",
    "    if os.path.isfile(item_path):\n",
    "        os.remove(item_path)\n",
    "    elif os.path.isdir(item_path):\n",
    "        shutil.rmtree(item_path)"
   ]
  }
 ],
 "metadata": {
  "kernelspec": {
   "display_name": "Python 3 (ipykernel)",
   "language": "python",
   "name": "python3"
  },
  "language_info": {
   "codemirror_mode": {
    "name": "ipython",
    "version": 3
   },
   "file_extension": ".py",
   "mimetype": "text/x-python",
   "name": "python",
   "nbconvert_exporter": "python",
   "pygments_lexer": "ipython3",
   "version": "3.9.13"
  }
 },
 "nbformat": 4,
 "nbformat_minor": 5
}
