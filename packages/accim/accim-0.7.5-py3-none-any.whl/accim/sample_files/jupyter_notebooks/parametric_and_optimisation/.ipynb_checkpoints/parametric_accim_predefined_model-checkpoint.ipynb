{
 "cells": [
  {
   "cell_type": "code",
   "execution_count": null,
   "id": "f71c6322-10f1-4fde-bc8d-358163b8619b",
   "metadata": {},
   "outputs": [],
   "source": [
    "#todo import qgrid to manually change output dfs"
   ]
  },
  {
   "cell_type": "code",
   "execution_count": 1,
   "id": "a8361222-b96d-4121-9560-1480e3ee4f44",
   "metadata": {},
   "outputs": [
    {
     "name": "stderr",
     "output_type": "stream",
     "text": [
      "C:\\Users\\usuario\\AppData\\Local\\Programs\\Python\\Python39\\lib\\site-packages\\tqdm\\auto.py:21: TqdmWarning: IProgress not found. Please update jupyter and ipywidgets. See https://ipywidgets.readthedocs.io/en/stable/user_install.html\n",
      "  from .autonotebook import tqdm as notebook_tqdm\n"
     ]
    }
   ],
   "source": [
    "import accim\n",
    "from besos import eppy_funcs as ef\n",
    "from matplotlib import pyplot as plt\n",
    "from accim.utils import print_available_outputs_mod\n",
    "from accim.parametric_and_optimisation.main import OptimParamSimulation\n",
    "from os import listdir"
   ]
  },
  {
   "cell_type": "markdown",
   "id": "c699ceba-f765-47c5-b5fd-b0cee5522b3a",
   "metadata": {},
   "source": [
    "Let's have a look at the files we currently have in the path:"
   ]
  },
  {
   "cell_type": "code",
   "execution_count": 2,
   "id": "233674c3-f15d-4917-aa47-430ae91486d6",
   "metadata": {},
   "outputs": [
    {
     "data": {
      "text/plain": [
       "['.ipynb_checkpoints',\n",
       " 'parametric_accim_predefined_model.ipynb',\n",
       " 'Seville.epw',\n",
       " 'Sydney.epw',\n",
       " 'TestModel.idf',\n",
       " '__init__.py']"
      ]
     },
     "execution_count": 2,
     "metadata": {},
     "output_type": "execute_result"
    }
   ],
   "source": [
    "original_files = [i for i in listdir()]\n",
    "original_files"
   ]
  },
  {
   "cell_type": "markdown",
   "id": "16e31d87-3a87-40c1-aeef-d6ea1171291a",
   "metadata": {},
   "source": [
    "Firstly, the IDF must be read using besos's `get_building` function."
   ]
  },
  {
   "cell_type": "code",
   "execution_count": null,
   "id": "7d6e13f6-7466-4e96-a559-8c771895c1ac",
   "metadata": {},
   "outputs": [],
   "source": [
    "building = ef.get_building('TestModel.idf')"
   ]
  },
  {
   "cell_type": "markdown",
   "id": "affcedd2-3206-4178-bb93-3ae151e04301",
   "metadata": {},
   "source": [
    "For this analysis, we want to use the HVAC system in all hours of the year, so that temperature is always comfortable. Therefore, we are going to set the occupancy to always on by means of the function `accim.utils.set_occupancy_to_always`, in which we input the IDF class instance we read in the previous cell."
   ]
  },
  {
   "cell_type": "code",
   "execution_count": null,
   "id": "f5c2feb1-ca1e-4b8a-bc50-1f116cca9fa4",
   "metadata": {},
   "outputs": [],
   "source": [
    "accim.utils.set_occupancy_to_always(idf_object=building)"
   ]
  },
  {
   "cell_type": "markdown",
   "id": "29827b0f-9086-4e26-873b-db2f7818a18a",
   "metadata": {},
   "source": [
    "Now, let's start with the settings for the parametric analysis. First, let's instantiate the class `OptimParamSimulation`, and let's pass the IDF instance in the argument `building`. Argument `parameters_type` can take 3 different strings:\n",
    "- \"accim predefined model\", in which models are those previously defined in accim (ComfStand=0 to ComfStand=22);\n",
    "- \"accim custom model\", in which key parameters of the adaptive comfort model are defined in the relevant arguments;\n",
    "- \"apmv setpoints\", in which setpoints are based on the aPMV (Adaptive Predicted Mean Vote) instead of the PMV index;\n"
   ]
  },
  {
   "cell_type": "code",
   "execution_count": null,
   "id": "2a5fa261-bfee-4b08-a8fe-c62f46a481eb",
   "metadata": {},
   "outputs": [],
   "source": [
    "test_class_instance = OptimParamSimulation(\n",
    "    building=building,\n",
    "    parameters_type='accim predefined model'\n",
    "    # output_keep_existing=False,\n",
    "    # debugging=True\n",
    ")\n"
   ]
  },
  {
   "cell_type": "code",
   "execution_count": null,
   "id": "418238a3-407d-45d2-a231-cc810d7a2486",
   "metadata": {},
   "outputs": [],
   "source": []
  },
  {
   "cell_type": "code",
   "execution_count": null,
   "id": "ad387b77-4998-4e51-979a-928fa52e551d",
   "metadata": {},
   "outputs": [],
   "source": []
  },
  {
   "cell_type": "code",
   "execution_count": null,
   "id": "608edb69-eb57-4263-87a8-2b4fdb29f227",
   "metadata": {},
   "outputs": [],
   "source": []
  },
  {
   "cell_type": "code",
   "execution_count": null,
   "id": "3328b861-cfc1-4385-a1fe-f4304cda09a4",
   "metadata": {},
   "outputs": [],
   "source": []
  },
  {
   "cell_type": "code",
   "execution_count": null,
   "id": "12ee78ba-c60b-4ef1-a6fb-51086a8a53fa",
   "metadata": {},
   "outputs": [],
   "source": []
  },
  {
   "cell_type": "code",
   "execution_count": null,
   "id": "766e681b-1888-4dea-a7e1-9bc63a1e82e8",
   "metadata": {},
   "outputs": [],
   "source": []
  },
  {
   "cell_type": "code",
   "execution_count": null,
   "id": "94c9844b-aacf-41fa-b1d4-ac7b491aa14e",
   "metadata": {},
   "outputs": [],
   "source": []
  },
  {
   "cell_type": "code",
   "execution_count": null,
   "id": "42903baa-8d9d-463f-86bc-3c6ad5144753",
   "metadata": {},
   "outputs": [],
   "source": []
  },
  {
   "cell_type": "code",
   "execution_count": null,
   "id": "9ccc7b08-119c-4f4c-bb45-9aac8201fe7e",
   "metadata": {},
   "outputs": [],
   "source": []
  }
 ],
 "metadata": {
  "kernelspec": {
   "display_name": "Python 3 (ipykernel)",
   "language": "python",
   "name": "python3"
  },
  "language_info": {
   "codemirror_mode": {
    "name": "ipython",
    "version": 3
   },
   "file_extension": ".py",
   "mimetype": "text/x-python",
   "name": "python",
   "nbconvert_exporter": "python",
   "pygments_lexer": "ipython3",
   "version": "3.9.13"
  }
 },
 "nbformat": 4,
 "nbformat_minor": 5
}
