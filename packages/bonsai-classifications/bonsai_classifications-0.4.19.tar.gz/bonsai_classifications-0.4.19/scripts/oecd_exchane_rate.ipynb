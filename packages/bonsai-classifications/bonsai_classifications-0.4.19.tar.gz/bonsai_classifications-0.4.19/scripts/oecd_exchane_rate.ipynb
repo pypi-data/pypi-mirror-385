{
 "cells": [
  {
   "cell_type": "code",
   "execution_count": null,
   "id": "61e1cc70",
   "metadata": {},
   "outputs": [],
   "source": [
    "import pandas as pd\n",
    "\n",
    "df = pd.read_csv('/Users/TN76JP/Desktop/OECD.SDD.NAD,DSD_NAAG@DF_NAAG_IX,+all.csv')\n",
    "\n",
    "df"
   ]
  },
  {
   "cell_type": "code",
   "execution_count": null,
   "id": "02ce1a9b",
   "metadata": {},
   "outputs": [],
   "source": [
    "df_clean=df[[\"REF_AREA\",\"TIME_PERIOD\",\"OBS_VALUE\",\"CURRENCY\",\"UNIT_MEASURE\",\"Measure\"]]\n",
    "\n",
    "df_clean=df_clean[df_clean[\"Measure\"].isin([\"Exchange rates, annual average\"])]\n",
    "\n",
    "df_clean=df_clean[df_clean[\"TIME_PERIOD\"].isin([2011,2012,2013,2014,2015,2016,2017,2018,2019,2020,2021,2022,2023,2024])]\n",
    "\n",
    "df_clean"
   ]
  },
  {
   "cell_type": "code",
   "execution_count": null,
   "id": "5c3c57a3",
   "metadata": {},
   "outputs": [],
   "source": [
    "import classifications\n",
    "\n",
    "iso3=classifications.location.datapackage.tree_iso_3166_1_alpha3.copy()\n",
    "df_clean=df_clean[df_clean[\"REF_AREA\"].isin(iso3[\"code\"])]\n",
    "df_clean"
   ]
  },
  {
   "cell_type": "code",
   "execution_count": null,
   "id": "a43fa1c6",
   "metadata": {},
   "outputs": [],
   "source": [
    "curr=classifications.unit_monetary.datapackage.bonsai_currency_to_location.copy()\n",
    "df_clean=df_clean[df_clean[\"CURRENCY\"].isin(curr[\"currency\"])]\n",
    "df_clean"
   ]
  },
  {
   "cell_type": "code",
   "execution_count": null,
   "id": "1ffc9eb9",
   "metadata": {},
   "outputs": [],
   "source": [
    "df_clean[\"unit\"] = df_clean.apply(\n",
    "    lambda row: row[\"UNIT_MEASURE\"].replace(\"XDC_\", row[\"CURRENCY\"] + \"/\")\n",
    "    if \"XDC_\" in row[\"UNIT_MEASURE\"] else row[\"UNIT_MEASURE\"],\n",
    "    axis=1\n",
    ")\n",
    "df_clean"
   ]
  },
  {
   "cell_type": "code",
   "execution_count": null,
   "id": "05d2fabe",
   "metadata": {},
   "outputs": [],
   "source": [
    "df_clean=df_clean.rename(columns={\"REF_AREA\":\"location\", \"TIME_PERIOD\":\"time\",\"OBS_VALUE\":\"value\"})\n",
    "df_clean"
   ]
  },
  {
   "cell_type": "code",
   "execution_count": null,
   "id": "30af997c",
   "metadata": {},
   "outputs": [],
   "source": [
    "df_clean=df_clean[[\"location\",\"time\",\"value\",\"unit\"]]\n",
    "df_clean"
   ]
  },
  {
   "cell_type": "code",
   "execution_count": null,
   "id": "b4e693af",
   "metadata": {},
   "outputs": [],
   "source": [
    "# Filter rows with unit == \"EUR/USD\"\n",
    "eur_usd_rows = df_clean[df_clean[\"unit\"] == \"EUR/USD\"].copy()\n",
    "\n",
    "# Create new rows\n",
    "new_rows = eur_usd_rows.copy()\n",
    "new_rows[\"value\"] = new_rows[\"value\"] / 1_000_000\n",
    "new_rows[\"unit\"] = \"Meuro/USD\"\n",
    "\n",
    "# Combine original df and new rows\n",
    "df_extended = pd.concat([df_clean, new_rows], ignore_index=True)\n",
    "df_extended"
   ]
  },
  {
   "cell_type": "code",
   "execution_count": null,
   "id": "8d797525",
   "metadata": {},
   "outputs": [],
   "source": [
    "df_extended.to_csv(\"/Users/TN76JP/Documents/bonsai/lookup/src/classifications/data/unit/monetary/fact_currency_per_usd.csv\",index=False)"
   ]
  }
 ],
 "metadata": {
  "kernelspec": {
   "display_name": "lookup",
   "language": "python",
   "name": "python3"
  },
  "language_info": {
   "codemirror_mode": {
    "name": "ipython",
    "version": 3
   },
   "file_extension": ".py",
   "mimetype": "text/x-python",
   "name": "python",
   "nbconvert_exporter": "python",
   "pygments_lexer": "ipython3",
   "version": "3.12.0"
  }
 },
 "nbformat": 4,
 "nbformat_minor": 5
}
