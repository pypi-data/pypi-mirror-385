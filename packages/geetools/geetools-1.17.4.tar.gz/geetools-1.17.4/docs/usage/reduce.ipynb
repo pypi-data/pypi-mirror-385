{
 "cells": [
  {
   "cell_type": "markdown",
   "metadata": {},
   "source": [
    "# Reduce ImageCollection"
   ]
  },
  {
   "cell_type": "code",
   "execution_count": null,
   "metadata": {
    "tags": [
     "remove-cell"
    ]
   },
   "outputs": [],
   "source": [
    "import ee, geetools\n",
    "from geetools.utils import initialize_documentation\n",
    "\n",
    "initialize_documentation()"
   ]
  },
  {
   "cell_type": "markdown",
   "metadata": {},
   "source": [
    "[![github](https://img.shields.io/badge/-see%20sources-white?logo=github&labelColor=555)](https://github.com/gee-community/geetools/blob/main/docs/usage/reduce.ipynb)\n",
    "[![colab](https://img.shields.io/badge/-open%20in%20colab-blue?logo=googlecolab&labelColor=555)](https://colab.research.google.com/github/gee-community/geetools/blob/main/docs/usage/reduce.ipynb)"
   ]
  },
  {
   "cell_type": "markdown",
   "metadata": {},
   "source": [
    "THe Earth Engine API provides 2 ways to reduce images: `reduceRegion` and `reduceRegions`. `geetools` is making these methods also available for `ee.ImageCollection` objects."
   ]
  },
  {
   "cell_type": "markdown",
   "metadata": {},
   "source": [
    "## Set up environment\n",
    "\n",
    "Install all the required libs if necessary and perform the import statements upstream."
   ]
  },
  {
   "cell_type": "code",
   "execution_count": null,
   "metadata": {},
   "outputs": [],
   "source": [
    "# uncomment if installation of libs is necessary\n",
    "# !pip install earthengine-api geetools"
   ]
  },
  {
   "cell_type": "code",
   "execution_count": null,
   "metadata": {},
   "outputs": [],
   "source": [
    "import ee\n",
    "import geetools #noqa: F401\n",
    "import geopandas as gpd\n",
    "from matplotlib import pyplot as plt\n",
    "import pandas as pd"
   ]
  },
  {
   "cell_type": "code",
   "execution_count": null,
   "metadata": {},
   "outputs": [],
   "source": [
    "# uncomment if initialization is required\n",
    "# ee.Initialize()"
   ]
  },
  {
   "cell_type": "markdown",
   "metadata": {},
   "source": [
    "## Example data \n",
    "\n",
    "The following examples rely on a `ee.FeatureCollection` composed of three ecoregion features that define regions by which to reduce image data. The ImageCollection data loads the modis vegetation indicies and subset the 2010 2020 decade of images."
   ]
  },
  {
   "cell_type": "code",
   "execution_count": null,
   "metadata": {},
   "outputs": [],
   "source": [
    "## Import the example feature collection and drop the data property.\n",
    "ecoregions = (\n",
    "    ee.FeatureCollection(\"projects/google/charts_feature_example\")\n",
    "    .select([\"label\", \"value\", \"warm\"])\n",
    ")\n",
    "\n",
    "\n",
    "## Load MODIS vegetation indices data and subset of 4 images.\n",
    "vegIndices = (\n",
    "    ee.ImageCollection(\"MODIS/061/MOD13A1\")\n",
    "    .filter(ee.Filter.date(\"2010-01-01\", \"2010-02-28\"))\n",
    "    .select([\"NDVI\", \"EVI\"])\n",
    ")"
   ]
  },
  {
   "cell_type": "markdown",
   "metadata": {},
   "source": [
    "## Reduce over single region\n",
    "\n",
    "Using `reduceRegion` you can reduce an `ee.ImageCollection` over a single region. \n",
    "The function will return a `ee.Dictionary` with the reduced values of each band grouped under each image Id as key.\n",
    "\n",
    "It will return a `ee.Dictionary` with the following shape: \n",
    "\n",
    "```\n",
    "{\n",
    "    \"image1\": {\"band1\": value1, \"band2\": value2, ...},\n",
    "    \"image2\": {\"band1\": value1, \"band2\": value2, ...},\n",
    "}\n",
    "```\n",
    "\n",
    "where `image*`is the id of the image as per specified property (casted to string) and `band*` is the name of the band."
   ]
  },
  {
   "cell_type": "code",
   "execution_count": null,
   "metadata": {},
   "outputs": [],
   "source": [
    "result = vegIndices.geetools.reduceRegion(\n",
    "    reducer = ee.Reducer.mean(),\n",
    "    idProperty = \"system:time_start\",\n",
    "    idType = ee.Date,\n",
    "    geometry = ecoregions.filter(ee.Filter.eq(\"label\", \"Forest\")).geometry(),\n",
    "    scale = 500\n",
    ")\n",
    "result.getInfo()"
   ]
  },
  {
   "cell_type": "markdown",
   "metadata": {},
   "source": [
    "Then a user can easily transform this data into a dataframe and use any tools from the Python ecosystem:"
   ]
  },
  {
   "cell_type": "code",
   "execution_count": null,
   "metadata": {},
   "outputs": [],
   "source": [
    "df = pd.DataFrame(result.getInfo()).transpose()\n",
    "df.head(15)"
   ]
  },
  {
   "cell_type": "markdown",
   "metadata": {},
   "source": [
    "## Reduce over muliple regions\n",
    "\n",
    "Using `reduceRegions` you can reduce an `ee.ImageCollection` over multiple regions.\n",
    "The result will be shaped as a `ee.FeatureCollection` with 2 primary keys.\n",
    "- The `idProperty` as key for images stored in final feature as `image_id`\n",
    "- The id of the feature stored in the final features as `feature_id`.\n",
    "\n",
    "Each feature will have the same properties as the original feature collection + the reduced value of the corresponding image over the feature geometry.\n",
    "The user can specify all the parameter of the reduction and specify which image property will be used as the id of the image."
   ]
  },
  {
   "cell_type": "code",
   "execution_count": null,
   "metadata": {},
   "outputs": [],
   "source": [
    "result = vegIndices.geetools.reduceRegions(\n",
    "    reducer = ee.Reducer.mean(),\n",
    "    idProperty = \"system:time_start\",\n",
    "    idType = ee.Date,\n",
    "    collection = ecoregions,\n",
    "    scale = 500\n",
    ")\n",
    "\n",
    "# we can display the result as a table using geopandas\n",
    "gdf = gpd.GeoDataFrame.from_features(result.getInfo()[\"features\"])\n",
    "gdf.head(15)"
   ]
  },
  {
   "cell_type": "markdown",
   "metadata": {},
   "source": [
    "From this you can easily create chrono mapping of the regions or more custom figures that are not covered by the `plot_*` methods:"
   ]
  },
  {
   "cell_type": "code",
   "execution_count": null,
   "metadata": {},
   "outputs": [],
   "source": [
    "# Create a figure with 2 rows and 3 columns\n",
    "fig, axes = plt.subplots(nrows=1, ncols=3, figsize=(10, 6))  # Adjust figsize as needed\n",
    "\n",
    "# Flatten the 2D array of axes for easier access, if needed\n",
    "axes_flat = axes.flatten()\n",
    "\n",
    "# get a list of all the available dates\n",
    "dates = vegIndices.aggregate_array(\"system:time_start\").distinct()\n",
    "\n",
    "# Plot the data\n",
    "for i in range(3):\n",
    "    ax = axes_flat[i]\n",
    "    image_id = ee.Date(dates.get(i)).format(\"YYYY-MM-dd'T'HH-mm-ss\")\n",
    "    fc = result.filter(ee.Filter.eq(\"image_id\", image_id))\n",
    "    fc.geetools.plot(ax=ax, cmap=\"viridis\", property=\"NDVI\")\n",
    "    ax.set_title(image_id.getInfo())"
   ]
  },
  {
   "cell_type": "code",
   "execution_count": null,
   "metadata": {},
   "outputs": [],
   "source": []
  }
 ],
 "metadata": {
  "kernelspec": {
   "display_name": "geetools",
   "language": "python",
   "name": "python3"
  },
  "language_info": {
   "codemirror_mode": {
    "name": "ipython",
    "version": 3
   },
   "file_extension": ".py",
   "mimetype": "text/x-python",
   "name": "python",
   "nbconvert_exporter": "python",
   "pygments_lexer": "ipython3",
   "version": "3.10.15"
  }
 },
 "nbformat": 4,
 "nbformat_minor": 2
}
