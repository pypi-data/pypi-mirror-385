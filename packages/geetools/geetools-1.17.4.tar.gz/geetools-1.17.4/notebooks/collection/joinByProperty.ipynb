{
 "cells": [
  {
   "cell_type": "markdown",
   "metadata": {},
   "source": [
    "Join the data of two collections that share a common property, commonly an id property"
   ]
  },
  {
   "cell_type": "code",
   "execution_count": null,
   "metadata": {},
   "outputs": [],
   "source": [
    "import ee\n",
    "ee.Initialize()\n",
    "import geetools"
   ]
  },
  {
   "cell_type": "code",
   "execution_count": null,
   "metadata": {},
   "outputs": [],
   "source": [
    "nullGeom = ee.Geometry.Point([0, 0])"
   ]
  },
  {
   "cell_type": "code",
   "execution_count": null,
   "metadata": {},
   "outputs": [],
   "source": [
    "col1 = ee.FeatureCollection([\n",
    "    ee.Feature(nullGeom, {'fid': 1, 'a': 10, 'b': 20}),\n",
    "    ee.Feature(nullGeom, {'fid': 2, 'a': 20, 'b': 10}),\n",
    "    ee.Feature(nullGeom, {'fid': 3, 'a': 5, 'b': 5}),\n",
    "    ee.Feature(nullGeom, {'fid': 4, 'a': 30, 'b': 40})\n",
    "])"
   ]
  },
  {
   "cell_type": "code",
   "execution_count": null,
   "metadata": {},
   "outputs": [],
   "source": [
    "col2 = ee.FeatureCollection([\n",
    "    ee.Feature(nullGeom, {'fid': 2, 'c': 1000, 'd': 2000}),\n",
    "    ee.Feature(nullGeom, {'fid': 3, 'c': 3000, 'd': 4000}),\n",
    "    ee.Feature(nullGeom, {'fid': 5, 'c': 5000, 'd': 6000})\n",
    "])"
   ]
  },
  {
   "cell_type": "code",
   "execution_count": null,
   "metadata": {},
   "outputs": [],
   "source": [
    "joined = geetools.tools.collection.joinByProperty(col1, col2, 'fid')"
   ]
  },
  {
   "cell_type": "code",
   "execution_count": null,
   "metadata": {},
   "outputs": [],
   "source": [
    "joined.toDictionary().getInfo()"
   ]
  },
  {
   "cell_type": "code",
   "execution_count": null,
   "metadata": {},
   "outputs": [],
   "source": []
  }
 ],
 "metadata": {
  "kernelspec": {
   "display_name": "Python 3",
   "language": "python",
   "name": "python3"
  },
  "language_info": {
   "codemirror_mode": {
    "name": "ipython",
    "version": 3
   },
   "file_extension": ".py",
   "mimetype": "text/x-python",
   "name": "python",
   "nbconvert_exporter": "python",
   "pygments_lexer": "ipython3",
   "version": "3.7.6"
  }
 },
 "nbformat": 4,
 "nbformat_minor": 4
}
