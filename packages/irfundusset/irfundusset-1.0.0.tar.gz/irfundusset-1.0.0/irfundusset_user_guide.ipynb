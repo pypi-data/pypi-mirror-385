{
 "cells": [
  {
   "cell_type": "markdown",
   "metadata": {},
   "source": [
    "# Integrated Fundus Set (IRFundusSet) User Guide\n",
    "How to use the IRFunduSet package and dataset \n",
    "- How to setup and generate your IRFundusSet\n",
    "- How to use it in a ML/AI data pipeline \n"
   ]
  },
  {
   "cell_type": "code",
   "execution_count": null,
   "metadata": {},
   "outputs": [],
   "source": [
    "from pathlib import Path \n",
    "import configparser\n",
    "import pandas as pd\n",
    "import matplotlib.pyplot as plt "
   ]
  },
  {
   "cell_type": "markdown",
   "metadata": {},
   "source": [
    "### Helpers  "
   ]
  },
  {
   "cell_type": "code",
   "execution_count": null,
   "metadata": {},
   "outputs": [],
   "source": [
    "def get_ini_file(fp):\n",
    "    c = configparser.ConfigParser() \n",
    "    c.read_file(open(fp, 'r')) \n",
    "    return c \n",
    "\n"
   ]
  },
  {
   "cell_type": "markdown",
   "metadata": {},
   "source": [
    "# 1. Setup your local directory of source datasets\n",
    "**Steps:**\n",
    "1. Obtain the source datasets (cohorts) from their download links, and unzip them to your local directory \n",
    "2. Make a copy of the template `templet_set_cohorts.ini` file and update it with the local directories of the cohorts\n",
    "3. Decide on the desired output image size width\n",
    "4. Decide on the desired output location/directory for the unified `IRFundusSet`"
   ]
  },
  {
   "cell_type": "markdown",
   "metadata": {},
   "source": [
    "# 2. Get dataset object \n",
    "Expected activity\n",
    "- Parse `local directories` and index the images \n",
    "- Harmonize and generate consolidated `IRFundusSet` \n",
    "- Retrieve `Dataset` object in line with standard ML/AI data pipelines "
   ]
  },
  {
   "cell_type": "code",
   "execution_count": null,
   "metadata": {},
   "outputs": [],
   "source": [
    "import numpy as np\n",
    "import matplotlib.pyplot as plt\n",
    "\n",
    "from irfundusset import IRFundusSet "
   ]
  },
  {
   "cell_type": "markdown",
   "metadata": {},
   "source": [
    "## 2.1. Generate Only\n",
    "Returns a status message and a list of cohorts included "
   ]
  },
  {
   "cell_type": "code",
   "execution_count": null,
   "metadata": {},
   "outputs": [],
   "source": [
    "hstatus, hcollection = IRFundusSet(out_dir=\"../output_irfundus_set\",\n",
    "                        out_img_w_size=256,\n",
    "                        in_cohorts_config=\"../cohorts.ini\", \n",
    "                        harmonize_method=None,\n",
    "                        generate_only=True ) "
   ]
  },
  {
   "cell_type": "markdown",
   "metadata": {},
   "source": [
    "## 2.2. Dataset Object\n",
    "Returns a Dataset Object "
   ]
  },
  {
   "cell_type": "code",
   "execution_count": null,
   "metadata": {},
   "outputs": [],
   "source": [
    "irf_dataset = IRFundusSet(out_dir=\"../output_irfundus_set\",\n",
    "                        out_img_w_size=256,\n",
    "                        in_cohorts_config=\"../cohorts.ini\", \n",
    "                        harmonize_method=None,\n",
    "                        generate_only=False,\n",
    "                        target_col=None,        #can opt for source condition labels\n",
    "                        xtransform=None, \n",
    "                        ytransform=None,)"
   ]
  },
  {
   "cell_type": "markdown",
   "metadata": {},
   "source": [
    "# 3. Sample records in the dataset object \n",
    "Returns a data observation dict with keys []"
   ]
  },
  {
   "cell_type": "code",
   "execution_count": null,
   "metadata": {},
   "outputs": [],
   "source": [
    "def pretty_format(v):\n",
    "    return (v.shape if isinstance(v, (np.ndarray, )) \\\n",
    "                else str(v)[35:] if (':\\\\' in str(v)) \\\n",
    "                else v)"
   ]
  },
  {
   "cell_type": "code",
   "execution_count": null,
   "metadata": {},
   "outputs": [],
   "source": [
    "idx = np.random.randint(len(irf_dataset)) \n",
    "sample_record = irf_dataset[idx] \n",
    "print(\"Record at index \", idx )\n",
    "_ = [print(f\">> {k:30s}:\\t\", pretty_format(v) ) for k,v in sample_record.items() ]\n",
    "plt.imshow(sample_record['image'])"
   ]
  },
  {
   "cell_type": "markdown",
   "metadata": {},
   "source": []
  }
 ],
 "metadata": {
  "kernelspec": {
   "display_name": "base",
   "language": "python",
   "name": "python3"
  },
  "language_info": {
   "codemirror_mode": {
    "name": "ipython",
    "version": 3
   },
   "file_extension": ".py",
   "mimetype": "text/x-python",
   "name": "python",
   "nbconvert_exporter": "python",
   "pygments_lexer": "ipython3",
   "version": "3.10.9"
  }
 },
 "nbformat": 4,
 "nbformat_minor": 2
}
