{
 "cells": [
  {
   "cell_type": "markdown",
   "metadata": {},
   "source": [
    "# Getting started"
   ]
  },
  {
   "cell_type": "markdown",
   "metadata": {},
   "source": [
    "## Modules "
   ]
  },
  {
   "cell_type": "code",
   "execution_count": 1,
   "metadata": {},
   "outputs": [],
   "source": [
    "import os\n",
    "from pyfileindex import PyFileIndex"
   ]
  },
  {
   "cell_type": "markdown",
   "metadata": {},
   "source": [
    "## User defined functions "
   ]
  },
  {
   "cell_type": "code",
   "execution_count": 2,
   "metadata": {
    "ExecuteTime": {
     "end_time": "2019-07-16T07:48:30.811724Z",
     "start_time": "2019-07-16T07:48:30.802997Z"
    }
   },
   "outputs": [],
   "source": [
    "def touch(fname, times=None):\n",
    "    with open(fname, \"a\"):\n",
    "        os.utime(fname, times)"
   ]
  },
  {
   "cell_type": "code",
   "execution_count": 3,
   "metadata": {
    "ExecuteTime": {
     "end_time": "2019-07-16T07:48:30.817677Z",
     "start_time": "2019-07-16T07:48:30.814717Z"
    }
   },
   "outputs": [],
   "source": [
    "def filter_function(file_name):\n",
    "    return \".txt\" in file_name"
   ]
  },
  {
   "cell_type": "markdown",
   "metadata": {},
   "source": [
    "# Demonstrate PyFileIndex"
   ]
  },
  {
   "cell_type": "markdown",
   "metadata": {},
   "source": [
    "## Initialise PyFileIndex"
   ]
  },
  {
   "cell_type": "code",
   "execution_count": 4,
   "metadata": {
    "ExecuteTime": {
     "end_time": "2019-07-16T07:48:30.876397Z",
     "start_time": "2019-07-16T07:48:30.821033Z"
    }
   },
   "outputs": [
    {
     "data": {
      "text/html": [
       "<div>\n",
       "<style scoped>\n",
       "    .dataframe tbody tr th:only-of-type {\n",
       "        vertical-align: middle;\n",
       "    }\n",
       "\n",
       "    .dataframe tbody tr th {\n",
       "        vertical-align: top;\n",
       "    }\n",
       "\n",
       "    .dataframe thead th {\n",
       "        text-align: right;\n",
       "    }\n",
       "</style>\n",
       "<table border=\"1\" class=\"dataframe\">\n",
       "  <thead>\n",
       "    <tr style=\"text-align: right;\">\n",
       "      <th></th>\n",
       "      <th>basename</th>\n",
       "      <th>path</th>\n",
       "      <th>dirname</th>\n",
       "      <th>is_directory</th>\n",
       "      <th>mtime</th>\n",
       "      <th>nlink</th>\n",
       "    </tr>\n",
       "  </thead>\n",
       "  <tbody>\n",
       "    <tr>\n",
       "      <th>0</th>\n",
       "      <td>notebooks</td>\n",
       "      <td>/home/jovyan/notebooks</td>\n",
       "      <td>/home/jovyan</td>\n",
       "      <td>True</td>\n",
       "      <td>1.563533e+09</td>\n",
       "      <td>1</td>\n",
       "    </tr>\n",
       "    <tr>\n",
       "      <th>1</th>\n",
       "      <td>.ipynb_checkpoints</td>\n",
       "      <td>/home/jovyan/notebooks/.ipynb_checkpoints</td>\n",
       "      <td>/home/jovyan/notebooks</td>\n",
       "      <td>True</td>\n",
       "      <td>1.563532e+09</td>\n",
       "      <td>2</td>\n",
       "    </tr>\n",
       "  </tbody>\n",
       "</table>\n",
       "</div>"
      ],
      "text/plain": [
       "<pyfileindex.pyfileindex.PyFileIndex at 0x7f1837265908>"
      ]
     },
     "execution_count": 4,
     "metadata": {},
     "output_type": "execute_result"
    }
   ],
   "source": [
    "pfi = PyFileIndex(path=\".\", filter_function=filter_function, debug=True)\n",
    "pfi"
   ]
  },
  {
   "cell_type": "markdown",
   "metadata": {},
   "source": [
    "## Update PyFileIndex"
   ]
  },
  {
   "cell_type": "code",
   "execution_count": 5,
   "metadata": {
    "ExecuteTime": {
     "end_time": "2019-07-16T07:48:30.904862Z",
     "start_time": "2019-07-16T07:48:30.881680Z"
    }
   },
   "outputs": [
    {
     "name": "stdout",
     "output_type": "stream",
     "text": [
      "Changes:  [] [] []\n"
     ]
    },
    {
     "data": {
      "text/html": [
       "<div>\n",
       "<style scoped>\n",
       "    .dataframe tbody tr th:only-of-type {\n",
       "        vertical-align: middle;\n",
       "    }\n",
       "\n",
       "    .dataframe tbody tr th {\n",
       "        vertical-align: top;\n",
       "    }\n",
       "\n",
       "    .dataframe thead th {\n",
       "        text-align: right;\n",
       "    }\n",
       "</style>\n",
       "<table border=\"1\" class=\"dataframe\">\n",
       "  <thead>\n",
       "    <tr style=\"text-align: right;\">\n",
       "      <th></th>\n",
       "      <th>basename</th>\n",
       "      <th>path</th>\n",
       "      <th>dirname</th>\n",
       "      <th>is_directory</th>\n",
       "      <th>mtime</th>\n",
       "      <th>nlink</th>\n",
       "    </tr>\n",
       "  </thead>\n",
       "  <tbody>\n",
       "    <tr>\n",
       "      <th>0</th>\n",
       "      <td>notebooks</td>\n",
       "      <td>/home/jovyan/notebooks</td>\n",
       "      <td>/home/jovyan</td>\n",
       "      <td>True</td>\n",
       "      <td>1.563533e+09</td>\n",
       "      <td>1</td>\n",
       "    </tr>\n",
       "    <tr>\n",
       "      <th>1</th>\n",
       "      <td>.ipynb_checkpoints</td>\n",
       "      <td>/home/jovyan/notebooks/.ipynb_checkpoints</td>\n",
       "      <td>/home/jovyan/notebooks</td>\n",
       "      <td>True</td>\n",
       "      <td>1.563532e+09</td>\n",
       "      <td>2</td>\n",
       "    </tr>\n",
       "  </tbody>\n",
       "</table>\n",
       "</div>"
      ],
      "text/plain": [
       "<pyfileindex.pyfileindex.PyFileIndex at 0x7f1837265908>"
      ]
     },
     "execution_count": 5,
     "metadata": {},
     "output_type": "execute_result"
    }
   ],
   "source": [
    "pfi.update()\n",
    "pfi"
   ]
  },
  {
   "cell_type": "markdown",
   "metadata": {},
   "source": [
    "## New directory "
   ]
  },
  {
   "cell_type": "code",
   "execution_count": 6,
   "metadata": {
    "ExecuteTime": {
     "end_time": "2019-07-16T07:48:30.916877Z",
     "start_time": "2019-07-16T07:48:30.910805Z"
    }
   },
   "outputs": [],
   "source": [
    "os.makedirs(\"bla\")"
   ]
  },
  {
   "cell_type": "code",
   "execution_count": 7,
   "metadata": {
    "ExecuteTime": {
     "end_time": "2019-07-16T07:48:30.960025Z",
     "start_time": "2019-07-16T07:48:30.921287Z"
    }
   },
   "outputs": [
    {
     "name": "stdout",
     "output_type": "stream",
     "text": [
      "Changes:  ['/home/jovyan/notebooks/bla'] ['/home/jovyan/notebooks'] []\n"
     ]
    },
    {
     "data": {
      "text/html": [
       "<div>\n",
       "<style scoped>\n",
       "    .dataframe tbody tr th:only-of-type {\n",
       "        vertical-align: middle;\n",
       "    }\n",
       "\n",
       "    .dataframe tbody tr th {\n",
       "        vertical-align: top;\n",
       "    }\n",
       "\n",
       "    .dataframe thead th {\n",
       "        text-align: right;\n",
       "    }\n",
       "</style>\n",
       "<table border=\"1\" class=\"dataframe\">\n",
       "  <thead>\n",
       "    <tr style=\"text-align: right;\">\n",
       "      <th></th>\n",
       "      <th>basename</th>\n",
       "      <th>path</th>\n",
       "      <th>dirname</th>\n",
       "      <th>is_directory</th>\n",
       "      <th>mtime</th>\n",
       "      <th>nlink</th>\n",
       "    </tr>\n",
       "  </thead>\n",
       "  <tbody>\n",
       "    <tr>\n",
       "      <th>0</th>\n",
       "      <td>.ipynb_checkpoints</td>\n",
       "      <td>/home/jovyan/notebooks/.ipynb_checkpoints</td>\n",
       "      <td>/home/jovyan/notebooks</td>\n",
       "      <td>True</td>\n",
       "      <td>1.563532e+09</td>\n",
       "      <td>2</td>\n",
       "    </tr>\n",
       "    <tr>\n",
       "      <th>1</th>\n",
       "      <td>notebooks</td>\n",
       "      <td>/home/jovyan/notebooks</td>\n",
       "      <td>/home/jovyan</td>\n",
       "      <td>True</td>\n",
       "      <td>1.563533e+09</td>\n",
       "      <td>1</td>\n",
       "    </tr>\n",
       "    <tr>\n",
       "      <th>2</th>\n",
       "      <td>bla</td>\n",
       "      <td>/home/jovyan/notebooks/bla</td>\n",
       "      <td>/home/jovyan/notebooks</td>\n",
       "      <td>True</td>\n",
       "      <td>1.563533e+09</td>\n",
       "      <td>2</td>\n",
       "    </tr>\n",
       "  </tbody>\n",
       "</table>\n",
       "</div>"
      ],
      "text/plain": [
       "<pyfileindex.pyfileindex.PyFileIndex at 0x7f1837265908>"
      ]
     },
     "execution_count": 7,
     "metadata": {},
     "output_type": "execute_result"
    }
   ],
   "source": [
    "pfi.update()\n",
    "pfi"
   ]
  },
  {
   "cell_type": "markdown",
   "metadata": {},
   "source": [
    "## New sub directory "
   ]
  },
  {
   "cell_type": "code",
   "execution_count": 8,
   "metadata": {
    "ExecuteTime": {
     "end_time": "2019-07-16T07:48:30.984584Z",
     "start_time": "2019-07-16T07:48:30.977614Z"
    }
   },
   "outputs": [],
   "source": [
    "os.makedirs(\"bla/bla\")"
   ]
  },
  {
   "cell_type": "code",
   "execution_count": 9,
   "metadata": {
    "ExecuteTime": {
     "end_time": "2019-07-16T07:48:31.020002Z",
     "start_time": "2019-07-16T07:48:30.987530Z"
    }
   },
   "outputs": [
    {
     "name": "stdout",
     "output_type": "stream",
     "text": [
      "Changes:  ['/home/jovyan/notebooks/bla/bla'] ['/home/jovyan/notebooks/bla'] []\n"
     ]
    },
    {
     "data": {
      "text/html": [
       "<div>\n",
       "<style scoped>\n",
       "    .dataframe tbody tr th:only-of-type {\n",
       "        vertical-align: middle;\n",
       "    }\n",
       "\n",
       "    .dataframe tbody tr th {\n",
       "        vertical-align: top;\n",
       "    }\n",
       "\n",
       "    .dataframe thead th {\n",
       "        text-align: right;\n",
       "    }\n",
       "</style>\n",
       "<table border=\"1\" class=\"dataframe\">\n",
       "  <thead>\n",
       "    <tr style=\"text-align: right;\">\n",
       "      <th></th>\n",
       "      <th>basename</th>\n",
       "      <th>path</th>\n",
       "      <th>dirname</th>\n",
       "      <th>is_directory</th>\n",
       "      <th>mtime</th>\n",
       "      <th>nlink</th>\n",
       "    </tr>\n",
       "  </thead>\n",
       "  <tbody>\n",
       "    <tr>\n",
       "      <th>0</th>\n",
       "      <td>.ipynb_checkpoints</td>\n",
       "      <td>/home/jovyan/notebooks/.ipynb_checkpoints</td>\n",
       "      <td>/home/jovyan/notebooks</td>\n",
       "      <td>True</td>\n",
       "      <td>1.563532e+09</td>\n",
       "      <td>2</td>\n",
       "    </tr>\n",
       "    <tr>\n",
       "      <th>1</th>\n",
       "      <td>notebooks</td>\n",
       "      <td>/home/jovyan/notebooks</td>\n",
       "      <td>/home/jovyan</td>\n",
       "      <td>True</td>\n",
       "      <td>1.563533e+09</td>\n",
       "      <td>1</td>\n",
       "    </tr>\n",
       "    <tr>\n",
       "      <th>2</th>\n",
       "      <td>bla</td>\n",
       "      <td>/home/jovyan/notebooks/bla</td>\n",
       "      <td>/home/jovyan/notebooks</td>\n",
       "      <td>True</td>\n",
       "      <td>1.563533e+09</td>\n",
       "      <td>3</td>\n",
       "    </tr>\n",
       "    <tr>\n",
       "      <th>3</th>\n",
       "      <td>bla</td>\n",
       "      <td>/home/jovyan/notebooks/bla/bla</td>\n",
       "      <td>/home/jovyan/notebooks/bla</td>\n",
       "      <td>True</td>\n",
       "      <td>1.563533e+09</td>\n",
       "      <td>2</td>\n",
       "    </tr>\n",
       "  </tbody>\n",
       "</table>\n",
       "</div>"
      ],
      "text/plain": [
       "<pyfileindex.pyfileindex.PyFileIndex at 0x7f1837265908>"
      ]
     },
     "execution_count": 9,
     "metadata": {},
     "output_type": "execute_result"
    }
   ],
   "source": [
    "pfi.update()\n",
    "pfi"
   ]
  },
  {
   "cell_type": "markdown",
   "metadata": {},
   "source": [
    "## New file"
   ]
  },
  {
   "cell_type": "code",
   "execution_count": 10,
   "metadata": {
    "ExecuteTime": {
     "end_time": "2019-07-16T07:48:31.072509Z",
     "start_time": "2019-07-16T07:48:31.065381Z"
    }
   },
   "outputs": [],
   "source": [
    "touch(\"bla/bla/test.txt\")"
   ]
  },
  {
   "cell_type": "code",
   "execution_count": 11,
   "metadata": {
    "ExecuteTime": {
     "end_time": "2019-07-16T07:48:31.116132Z",
     "start_time": "2019-07-16T07:48:31.076421Z"
    }
   },
   "outputs": [
    {
     "name": "stdout",
     "output_type": "stream",
     "text": [
      "Changes:  ['/home/jovyan/notebooks/bla/bla/test.txt'] ['/home/jovyan/notebooks/bla/bla'] []\n"
     ]
    },
    {
     "data": {
      "text/html": [
       "<div>\n",
       "<style scoped>\n",
       "    .dataframe tbody tr th:only-of-type {\n",
       "        vertical-align: middle;\n",
       "    }\n",
       "\n",
       "    .dataframe tbody tr th {\n",
       "        vertical-align: top;\n",
       "    }\n",
       "\n",
       "    .dataframe thead th {\n",
       "        text-align: right;\n",
       "    }\n",
       "</style>\n",
       "<table border=\"1\" class=\"dataframe\">\n",
       "  <thead>\n",
       "    <tr style=\"text-align: right;\">\n",
       "      <th></th>\n",
       "      <th>basename</th>\n",
       "      <th>path</th>\n",
       "      <th>dirname</th>\n",
       "      <th>is_directory</th>\n",
       "      <th>mtime</th>\n",
       "      <th>nlink</th>\n",
       "    </tr>\n",
       "  </thead>\n",
       "  <tbody>\n",
       "    <tr>\n",
       "      <th>0</th>\n",
       "      <td>.ipynb_checkpoints</td>\n",
       "      <td>/home/jovyan/notebooks/.ipynb_checkpoints</td>\n",
       "      <td>/home/jovyan/notebooks</td>\n",
       "      <td>True</td>\n",
       "      <td>1.563532e+09</td>\n",
       "      <td>2</td>\n",
       "    </tr>\n",
       "    <tr>\n",
       "      <th>1</th>\n",
       "      <td>notebooks</td>\n",
       "      <td>/home/jovyan/notebooks</td>\n",
       "      <td>/home/jovyan</td>\n",
       "      <td>True</td>\n",
       "      <td>1.563533e+09</td>\n",
       "      <td>1</td>\n",
       "    </tr>\n",
       "    <tr>\n",
       "      <th>2</th>\n",
       "      <td>bla</td>\n",
       "      <td>/home/jovyan/notebooks/bla</td>\n",
       "      <td>/home/jovyan/notebooks</td>\n",
       "      <td>True</td>\n",
       "      <td>1.563533e+09</td>\n",
       "      <td>3</td>\n",
       "    </tr>\n",
       "    <tr>\n",
       "      <th>3</th>\n",
       "      <td>bla</td>\n",
       "      <td>/home/jovyan/notebooks/bla/bla</td>\n",
       "      <td>/home/jovyan/notebooks/bla</td>\n",
       "      <td>True</td>\n",
       "      <td>1.563533e+09</td>\n",
       "      <td>2</td>\n",
       "    </tr>\n",
       "    <tr>\n",
       "      <th>4</th>\n",
       "      <td>test.txt</td>\n",
       "      <td>/home/jovyan/notebooks/bla/bla/test.txt</td>\n",
       "      <td>/home/jovyan/notebooks/bla/bla</td>\n",
       "      <td>False</td>\n",
       "      <td>1.563533e+09</td>\n",
       "      <td>1</td>\n",
       "    </tr>\n",
       "  </tbody>\n",
       "</table>\n",
       "</div>"
      ],
      "text/plain": [
       "<pyfileindex.pyfileindex.PyFileIndex at 0x7f1837265908>"
      ]
     },
     "execution_count": 11,
     "metadata": {},
     "output_type": "execute_result"
    }
   ],
   "source": [
    "pfi.update()\n",
    "pfi"
   ]
  },
  {
   "cell_type": "markdown",
   "metadata": {},
   "source": [
    "## Another new file "
   ]
  },
  {
   "cell_type": "code",
   "execution_count": 12,
   "metadata": {
    "ExecuteTime": {
     "end_time": "2019-07-16T07:48:31.141975Z",
     "start_time": "2019-07-16T07:48:31.137624Z"
    }
   },
   "outputs": [],
   "source": [
    "touch(\"bla/test.txt\")"
   ]
  },
  {
   "cell_type": "code",
   "execution_count": 13,
   "metadata": {
    "ExecuteTime": {
     "end_time": "2019-07-16T07:48:31.185154Z",
     "start_time": "2019-07-16T07:48:31.144995Z"
    }
   },
   "outputs": [
    {
     "name": "stdout",
     "output_type": "stream",
     "text": [
      "Changes:  ['/home/jovyan/notebooks/bla/test.txt'] ['/home/jovyan/notebooks/bla'] []\n"
     ]
    },
    {
     "data": {
      "text/html": [
       "<div>\n",
       "<style scoped>\n",
       "    .dataframe tbody tr th:only-of-type {\n",
       "        vertical-align: middle;\n",
       "    }\n",
       "\n",
       "    .dataframe tbody tr th {\n",
       "        vertical-align: top;\n",
       "    }\n",
       "\n",
       "    .dataframe thead th {\n",
       "        text-align: right;\n",
       "    }\n",
       "</style>\n",
       "<table border=\"1\" class=\"dataframe\">\n",
       "  <thead>\n",
       "    <tr style=\"text-align: right;\">\n",
       "      <th></th>\n",
       "      <th>basename</th>\n",
       "      <th>path</th>\n",
       "      <th>dirname</th>\n",
       "      <th>is_directory</th>\n",
       "      <th>mtime</th>\n",
       "      <th>nlink</th>\n",
       "    </tr>\n",
       "  </thead>\n",
       "  <tbody>\n",
       "    <tr>\n",
       "      <th>0</th>\n",
       "      <td>.ipynb_checkpoints</td>\n",
       "      <td>/home/jovyan/notebooks/.ipynb_checkpoints</td>\n",
       "      <td>/home/jovyan/notebooks</td>\n",
       "      <td>True</td>\n",
       "      <td>1.563532e+09</td>\n",
       "      <td>2</td>\n",
       "    </tr>\n",
       "    <tr>\n",
       "      <th>1</th>\n",
       "      <td>notebooks</td>\n",
       "      <td>/home/jovyan/notebooks</td>\n",
       "      <td>/home/jovyan</td>\n",
       "      <td>True</td>\n",
       "      <td>1.563533e+09</td>\n",
       "      <td>1</td>\n",
       "    </tr>\n",
       "    <tr>\n",
       "      <th>2</th>\n",
       "      <td>bla</td>\n",
       "      <td>/home/jovyan/notebooks/bla/bla</td>\n",
       "      <td>/home/jovyan/notebooks/bla</td>\n",
       "      <td>True</td>\n",
       "      <td>1.563533e+09</td>\n",
       "      <td>2</td>\n",
       "    </tr>\n",
       "    <tr>\n",
       "      <th>3</th>\n",
       "      <td>test.txt</td>\n",
       "      <td>/home/jovyan/notebooks/bla/bla/test.txt</td>\n",
       "      <td>/home/jovyan/notebooks/bla/bla</td>\n",
       "      <td>False</td>\n",
       "      <td>1.563533e+09</td>\n",
       "      <td>1</td>\n",
       "    </tr>\n",
       "    <tr>\n",
       "      <th>4</th>\n",
       "      <td>bla</td>\n",
       "      <td>/home/jovyan/notebooks/bla</td>\n",
       "      <td>/home/jovyan/notebooks</td>\n",
       "      <td>True</td>\n",
       "      <td>1.563533e+09</td>\n",
       "      <td>3</td>\n",
       "    </tr>\n",
       "    <tr>\n",
       "      <th>5</th>\n",
       "      <td>test.txt</td>\n",
       "      <td>/home/jovyan/notebooks/bla/test.txt</td>\n",
       "      <td>/home/jovyan/notebooks/bla</td>\n",
       "      <td>False</td>\n",
       "      <td>1.563533e+09</td>\n",
       "      <td>1</td>\n",
       "    </tr>\n",
       "  </tbody>\n",
       "</table>\n",
       "</div>"
      ],
      "text/plain": [
       "<pyfileindex.pyfileindex.PyFileIndex at 0x7f1837265908>"
      ]
     },
     "execution_count": 13,
     "metadata": {},
     "output_type": "execute_result"
    }
   ],
   "source": [
    "pfi.update()\n",
    "pfi"
   ]
  },
  {
   "cell_type": "markdown",
   "metadata": {},
   "source": [
    "## Touch an existing file "
   ]
  },
  {
   "cell_type": "code",
   "execution_count": 14,
   "metadata": {
    "ExecuteTime": {
     "end_time": "2019-07-16T07:48:31.221088Z",
     "start_time": "2019-07-16T07:48:31.215250Z"
    }
   },
   "outputs": [],
   "source": [
    "touch(\"bla/bla/test.txt\", (1330712280, 1330712292))"
   ]
  },
  {
   "cell_type": "code",
   "execution_count": 15,
   "metadata": {
    "ExecuteTime": {
     "end_time": "2019-07-16T07:48:31.257159Z",
     "start_time": "2019-07-16T07:48:31.224285Z"
    }
   },
   "outputs": [
    {
     "name": "stdout",
     "output_type": "stream",
     "text": [
      "Changes:  [] ['/home/jovyan/notebooks/bla/bla/test.txt'] []\n"
     ]
    },
    {
     "data": {
      "text/html": [
       "<div>\n",
       "<style scoped>\n",
       "    .dataframe tbody tr th:only-of-type {\n",
       "        vertical-align: middle;\n",
       "    }\n",
       "\n",
       "    .dataframe tbody tr th {\n",
       "        vertical-align: top;\n",
       "    }\n",
       "\n",
       "    .dataframe thead th {\n",
       "        text-align: right;\n",
       "    }\n",
       "</style>\n",
       "<table border=\"1\" class=\"dataframe\">\n",
       "  <thead>\n",
       "    <tr style=\"text-align: right;\">\n",
       "      <th></th>\n",
       "      <th>basename</th>\n",
       "      <th>path</th>\n",
       "      <th>dirname</th>\n",
       "      <th>is_directory</th>\n",
       "      <th>mtime</th>\n",
       "      <th>nlink</th>\n",
       "    </tr>\n",
       "  </thead>\n",
       "  <tbody>\n",
       "    <tr>\n",
       "      <th>0</th>\n",
       "      <td>.ipynb_checkpoints</td>\n",
       "      <td>/home/jovyan/notebooks/.ipynb_checkpoints</td>\n",
       "      <td>/home/jovyan/notebooks</td>\n",
       "      <td>True</td>\n",
       "      <td>1.563532e+09</td>\n",
       "      <td>2</td>\n",
       "    </tr>\n",
       "    <tr>\n",
       "      <th>1</th>\n",
       "      <td>notebooks</td>\n",
       "      <td>/home/jovyan/notebooks</td>\n",
       "      <td>/home/jovyan</td>\n",
       "      <td>True</td>\n",
       "      <td>1.563533e+09</td>\n",
       "      <td>1</td>\n",
       "    </tr>\n",
       "    <tr>\n",
       "      <th>2</th>\n",
       "      <td>bla</td>\n",
       "      <td>/home/jovyan/notebooks/bla/bla</td>\n",
       "      <td>/home/jovyan/notebooks/bla</td>\n",
       "      <td>True</td>\n",
       "      <td>1.563533e+09</td>\n",
       "      <td>2</td>\n",
       "    </tr>\n",
       "    <tr>\n",
       "      <th>3</th>\n",
       "      <td>bla</td>\n",
       "      <td>/home/jovyan/notebooks/bla</td>\n",
       "      <td>/home/jovyan/notebooks</td>\n",
       "      <td>True</td>\n",
       "      <td>1.563533e+09</td>\n",
       "      <td>3</td>\n",
       "    </tr>\n",
       "    <tr>\n",
       "      <th>4</th>\n",
       "      <td>test.txt</td>\n",
       "      <td>/home/jovyan/notebooks/bla/test.txt</td>\n",
       "      <td>/home/jovyan/notebooks/bla</td>\n",
       "      <td>False</td>\n",
       "      <td>1.563533e+09</td>\n",
       "      <td>1</td>\n",
       "    </tr>\n",
       "    <tr>\n",
       "      <th>5</th>\n",
       "      <td>test.txt</td>\n",
       "      <td>/home/jovyan/notebooks/bla/bla/test.txt</td>\n",
       "      <td>/home/jovyan/notebooks/bla/bla</td>\n",
       "      <td>False</td>\n",
       "      <td>1.330712e+09</td>\n",
       "      <td>1</td>\n",
       "    </tr>\n",
       "  </tbody>\n",
       "</table>\n",
       "</div>"
      ],
      "text/plain": [
       "<pyfileindex.pyfileindex.PyFileIndex at 0x7f1837265908>"
      ]
     },
     "execution_count": 15,
     "metadata": {},
     "output_type": "execute_result"
    }
   ],
   "source": [
    "pfi.update()\n",
    "pfi"
   ]
  },
  {
   "cell_type": "markdown",
   "metadata": {},
   "source": [
    "## Remove a file "
   ]
  },
  {
   "cell_type": "code",
   "execution_count": 16,
   "metadata": {
    "ExecuteTime": {
     "end_time": "2019-07-16T07:48:31.279808Z",
     "start_time": "2019-07-16T07:48:31.273368Z"
    }
   },
   "outputs": [],
   "source": [
    "os.remove(\"bla/bla/test.txt\")"
   ]
  },
  {
   "cell_type": "code",
   "execution_count": 17,
   "metadata": {
    "ExecuteTime": {
     "end_time": "2019-07-16T07:48:31.318593Z",
     "start_time": "2019-07-16T07:48:31.282688Z"
    }
   },
   "outputs": [
    {
     "name": "stdout",
     "output_type": "stream",
     "text": [
      "Changes:  [] ['/home/jovyan/notebooks/bla/bla'] ['/home/jovyan/notebooks/bla/bla/test.txt']\n"
     ]
    },
    {
     "data": {
      "text/html": [
       "<div>\n",
       "<style scoped>\n",
       "    .dataframe tbody tr th:only-of-type {\n",
       "        vertical-align: middle;\n",
       "    }\n",
       "\n",
       "    .dataframe tbody tr th {\n",
       "        vertical-align: top;\n",
       "    }\n",
       "\n",
       "    .dataframe thead th {\n",
       "        text-align: right;\n",
       "    }\n",
       "</style>\n",
       "<table border=\"1\" class=\"dataframe\">\n",
       "  <thead>\n",
       "    <tr style=\"text-align: right;\">\n",
       "      <th></th>\n",
       "      <th>basename</th>\n",
       "      <th>path</th>\n",
       "      <th>dirname</th>\n",
       "      <th>is_directory</th>\n",
       "      <th>mtime</th>\n",
       "      <th>nlink</th>\n",
       "    </tr>\n",
       "  </thead>\n",
       "  <tbody>\n",
       "    <tr>\n",
       "      <th>0</th>\n",
       "      <td>.ipynb_checkpoints</td>\n",
       "      <td>/home/jovyan/notebooks/.ipynb_checkpoints</td>\n",
       "      <td>/home/jovyan/notebooks</td>\n",
       "      <td>True</td>\n",
       "      <td>1.563532e+09</td>\n",
       "      <td>2</td>\n",
       "    </tr>\n",
       "    <tr>\n",
       "      <th>1</th>\n",
       "      <td>notebooks</td>\n",
       "      <td>/home/jovyan/notebooks</td>\n",
       "      <td>/home/jovyan</td>\n",
       "      <td>True</td>\n",
       "      <td>1.563533e+09</td>\n",
       "      <td>1</td>\n",
       "    </tr>\n",
       "    <tr>\n",
       "      <th>2</th>\n",
       "      <td>bla</td>\n",
       "      <td>/home/jovyan/notebooks/bla</td>\n",
       "      <td>/home/jovyan/notebooks</td>\n",
       "      <td>True</td>\n",
       "      <td>1.563533e+09</td>\n",
       "      <td>3</td>\n",
       "    </tr>\n",
       "    <tr>\n",
       "      <th>3</th>\n",
       "      <td>test.txt</td>\n",
       "      <td>/home/jovyan/notebooks/bla/test.txt</td>\n",
       "      <td>/home/jovyan/notebooks/bla</td>\n",
       "      <td>False</td>\n",
       "      <td>1.563533e+09</td>\n",
       "      <td>1</td>\n",
       "    </tr>\n",
       "    <tr>\n",
       "      <th>4</th>\n",
       "      <td>bla</td>\n",
       "      <td>/home/jovyan/notebooks/bla/bla</td>\n",
       "      <td>/home/jovyan/notebooks/bla</td>\n",
       "      <td>True</td>\n",
       "      <td>1.563533e+09</td>\n",
       "      <td>2</td>\n",
       "    </tr>\n",
       "  </tbody>\n",
       "</table>\n",
       "</div>"
      ],
      "text/plain": [
       "<pyfileindex.pyfileindex.PyFileIndex at 0x7f1837265908>"
      ]
     },
     "execution_count": 17,
     "metadata": {},
     "output_type": "execute_result"
    }
   ],
   "source": [
    "pfi.update()\n",
    "pfi"
   ]
  },
  {
   "cell_type": "markdown",
   "metadata": {},
   "source": [
    "## Remove a directory"
   ]
  },
  {
   "cell_type": "code",
   "execution_count": 18,
   "metadata": {
    "ExecuteTime": {
     "end_time": "2019-07-16T07:48:31.353761Z",
     "start_time": "2019-07-16T07:48:31.345052Z"
    }
   },
   "outputs": [],
   "source": [
    "os.rmdir(\"bla/bla\")"
   ]
  },
  {
   "cell_type": "code",
   "execution_count": 19,
   "metadata": {
    "ExecuteTime": {
     "end_time": "2019-07-16T07:48:31.392887Z",
     "start_time": "2019-07-16T07:48:31.357111Z"
    }
   },
   "outputs": [
    {
     "name": "stdout",
     "output_type": "stream",
     "text": [
      "Changes:  [] ['/home/jovyan/notebooks/bla'] ['/home/jovyan/notebooks/bla/bla']\n"
     ]
    },
    {
     "data": {
      "text/html": [
       "<div>\n",
       "<style scoped>\n",
       "    .dataframe tbody tr th:only-of-type {\n",
       "        vertical-align: middle;\n",
       "    }\n",
       "\n",
       "    .dataframe tbody tr th {\n",
       "        vertical-align: top;\n",
       "    }\n",
       "\n",
       "    .dataframe thead th {\n",
       "        text-align: right;\n",
       "    }\n",
       "</style>\n",
       "<table border=\"1\" class=\"dataframe\">\n",
       "  <thead>\n",
       "    <tr style=\"text-align: right;\">\n",
       "      <th></th>\n",
       "      <th>basename</th>\n",
       "      <th>path</th>\n",
       "      <th>dirname</th>\n",
       "      <th>is_directory</th>\n",
       "      <th>mtime</th>\n",
       "      <th>nlink</th>\n",
       "    </tr>\n",
       "  </thead>\n",
       "  <tbody>\n",
       "    <tr>\n",
       "      <th>0</th>\n",
       "      <td>.ipynb_checkpoints</td>\n",
       "      <td>/home/jovyan/notebooks/.ipynb_checkpoints</td>\n",
       "      <td>/home/jovyan/notebooks</td>\n",
       "      <td>True</td>\n",
       "      <td>1.563532e+09</td>\n",
       "      <td>2</td>\n",
       "    </tr>\n",
       "    <tr>\n",
       "      <th>1</th>\n",
       "      <td>notebooks</td>\n",
       "      <td>/home/jovyan/notebooks</td>\n",
       "      <td>/home/jovyan</td>\n",
       "      <td>True</td>\n",
       "      <td>1.563533e+09</td>\n",
       "      <td>1</td>\n",
       "    </tr>\n",
       "    <tr>\n",
       "      <th>2</th>\n",
       "      <td>test.txt</td>\n",
       "      <td>/home/jovyan/notebooks/bla/test.txt</td>\n",
       "      <td>/home/jovyan/notebooks/bla</td>\n",
       "      <td>False</td>\n",
       "      <td>1.563533e+09</td>\n",
       "      <td>1</td>\n",
       "    </tr>\n",
       "    <tr>\n",
       "      <th>3</th>\n",
       "      <td>bla</td>\n",
       "      <td>/home/jovyan/notebooks/bla</td>\n",
       "      <td>/home/jovyan/notebooks</td>\n",
       "      <td>True</td>\n",
       "      <td>1.563533e+09</td>\n",
       "      <td>2</td>\n",
       "    </tr>\n",
       "  </tbody>\n",
       "</table>\n",
       "</div>"
      ],
      "text/plain": [
       "<pyfileindex.pyfileindex.PyFileIndex at 0x7f1837265908>"
      ]
     },
     "execution_count": 19,
     "metadata": {},
     "output_type": "execute_result"
    }
   ],
   "source": [
    "pfi.update()\n",
    "pfi"
   ]
  },
  {
   "cell_type": "markdown",
   "metadata": {},
   "source": [
    "## Clean up "
   ]
  },
  {
   "cell_type": "code",
   "execution_count": 20,
   "metadata": {
    "ExecuteTime": {
     "end_time": "2019-07-16T07:48:31.418962Z",
     "start_time": "2019-07-16T07:48:31.413161Z"
    }
   },
   "outputs": [],
   "source": [
    "os.remove(\"bla/test.txt\")"
   ]
  },
  {
   "cell_type": "code",
   "execution_count": 21,
   "metadata": {
    "ExecuteTime": {
     "end_time": "2019-07-16T07:48:31.483603Z",
     "start_time": "2019-07-16T07:48:31.477437Z"
    }
   },
   "outputs": [],
   "source": [
    "os.rmdir(\"bla\")"
   ]
  },
  {
   "cell_type": "code",
   "execution_count": 22,
   "metadata": {
    "ExecuteTime": {
     "end_time": "2019-07-16T07:48:31.451757Z",
     "start_time": "2019-07-16T07:48:31.421838Z"
    }
   },
   "outputs": [
    {
     "name": "stdout",
     "output_type": "stream",
     "text": [
      "Changes:  [] ['/home/jovyan/notebooks'] ['/home/jovyan/notebooks/bla/test.txt' '/home/jovyan/notebooks/bla']\n"
     ]
    },
    {
     "data": {
      "text/html": [
       "<div>\n",
       "<style scoped>\n",
       "    .dataframe tbody tr th:only-of-type {\n",
       "        vertical-align: middle;\n",
       "    }\n",
       "\n",
       "    .dataframe tbody tr th {\n",
       "        vertical-align: top;\n",
       "    }\n",
       "\n",
       "    .dataframe thead th {\n",
       "        text-align: right;\n",
       "    }\n",
       "</style>\n",
       "<table border=\"1\" class=\"dataframe\">\n",
       "  <thead>\n",
       "    <tr style=\"text-align: right;\">\n",
       "      <th></th>\n",
       "      <th>basename</th>\n",
       "      <th>path</th>\n",
       "      <th>dirname</th>\n",
       "      <th>is_directory</th>\n",
       "      <th>mtime</th>\n",
       "      <th>nlink</th>\n",
       "    </tr>\n",
       "  </thead>\n",
       "  <tbody>\n",
       "    <tr>\n",
       "      <th>0</th>\n",
       "      <td>.ipynb_checkpoints</td>\n",
       "      <td>/home/jovyan/notebooks/.ipynb_checkpoints</td>\n",
       "      <td>/home/jovyan/notebooks</td>\n",
       "      <td>True</td>\n",
       "      <td>1.563532e+09</td>\n",
       "      <td>2</td>\n",
       "    </tr>\n",
       "    <tr>\n",
       "      <th>1</th>\n",
       "      <td>notebooks</td>\n",
       "      <td>/home/jovyan/notebooks</td>\n",
       "      <td>/home/jovyan</td>\n",
       "      <td>True</td>\n",
       "      <td>1.563533e+09</td>\n",
       "      <td>1</td>\n",
       "    </tr>\n",
       "  </tbody>\n",
       "</table>\n",
       "</div>"
      ],
      "text/plain": [
       "<pyfileindex.pyfileindex.PyFileIndex at 0x7f1837265908>"
      ]
     },
     "execution_count": 22,
     "metadata": {},
     "output_type": "execute_result"
    }
   ],
   "source": [
    "pfi.update()\n",
    "pfi"
   ]
  },
  {
   "cell_type": "code",
   "execution_count": null,
   "metadata": {},
   "outputs": [],
   "source": []
  }
 ],
 "metadata": {
  "kernelspec": {
   "display_name": "Python 3",
   "language": "python",
   "name": "python3"
  },
  "language_info": {
   "codemirror_mode": {
    "name": "ipython",
    "version": 3
   },
   "file_extension": ".py",
   "mimetype": "text/x-python",
   "name": "python",
   "nbconvert_exporter": "python",
   "pygments_lexer": "ipython3",
   "version": "3.7.3"
  },
  "toc": {
   "base_numbering": 1,
   "nav_menu": {},
   "number_sections": true,
   "sideBar": true,
   "skip_h1_title": false,
   "title_cell": "Table of Contents",
   "title_sidebar": "Contents",
   "toc_cell": false,
   "toc_position": {},
   "toc_section_display": true,
   "toc_window_display": false
  }
 },
 "nbformat": 4,
 "nbformat_minor": 2
}
