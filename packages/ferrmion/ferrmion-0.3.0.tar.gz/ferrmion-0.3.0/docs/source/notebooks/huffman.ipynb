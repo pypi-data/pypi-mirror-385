{
 "cells": [
  {
   "cell_type": "markdown",
   "id": "fa67b0ba",
   "metadata": {},
   "source": [
    "# Huffman Ternary Tree"
   ]
  },
  {
   "cell_type": "markdown",
   "id": "af358b8b",
   "metadata": {},
   "source": [
    "This notebook shows how to generate a Huffman-code Ternary Tree as described by: \n",
    "\n",
    "[Li, Q. S., Liu, H. Y., Wang, Q., Wu, Y. C., & Guo, G. P. (2025). Huffman-Code-based Ternary Tree Transformation. Chinese Physics Letters.](http://iopscience.iop.org/article/10.1088/0256-307X/42/10/100001)"
   ]
  },
  {
   "cell_type": "code",
   "execution_count": 1,
   "id": "c4e61ec8",
   "metadata": {},
   "outputs": [],
   "source": [
    "import pickle\n",
    "from ferrmion.encode import TernaryTree\n",
    "from pathlib import Path\n",
    "from ferrmion.encode import TernaryTree\n",
    "from ferrmion.encode.ternary_tree_node import TTNode\n",
    "from pathlib import Path\n",
    "import numpy as np\n",
    "\n",
    "def water_integrals():\n",
    "    folder = Path.cwd().joinpath(Path(\"../../../python/tests/\"))\n",
    "    with open(folder.joinpath(\"./data/water_1e.pkl\"), 'rb') as file:\n",
    "        ones = pickle.load(file)\n",
    "\n",
    "    with open(folder.joinpath(\"./data/water_2e.pkl\"), 'rb') as file:\n",
    "        twos = pickle.load(file)\n",
    "    return (ones, twos)\n",
    "\n",
    "ones, twos = water_integrals()"
   ]
  },
  {
   "cell_type": "markdown",
   "id": "90cac5e7",
   "metadata": {},
   "source": [
    "## Majorana Frequency\n",
    "\n",
    "First we need to find the weighting of majorana operators, \"frequency\" in the language of huffman codes.\n",
    "\n",
    "For some hamiltonian $H= \\sum_l h_l$, such as the Molecular Structure Hamiltonian:\n",
    "$$H = \\sum_{i,j} h_{ij}a^{\\dagger}_i a_j + \\sum_{i,j,k,l} h_{ijkl}a^{\\dagger}_i a^{\\dagger}_j a_k a_l $$\n",
    "\n",
    "We define the frequency of a majorana operator as:\n",
    "\n",
    "$$F_j = \\sum_l I_l(j)|h_l|$$\n",
    "\n",
    "$I_l(j)=1$ iff $m_j \\in H_l$"
   ]
  },
  {
   "cell_type": "code",
   "execution_count": 2,
   "id": "47b365cc",
   "metadata": {},
   "outputs": [],
   "source": [
    "n_modes = ones.shape[0] \n",
    "majorana_freq = np.zeros(n_modes)\n",
    "\n",
    "for i in range(n_modes):\n",
    "    for j in range(n_modes):\n",
    "        val = np.abs(ones[i,j])\n",
    "        positions = {i,j}\n",
    "        for p in positions:\n",
    "            majorana_freq[p]+=val\n",
    "\n",
    "for i in range(n_modes):\n",
    "    for j in range(n_modes):\n",
    "        for k in range(n_modes):\n",
    "            for l in range(n_modes):        \n",
    "                val = np.abs(twos[i,j,k,l])\n",
    "                positions = {i,j,k,l}\n",
    "                for p in positions:\n",
    "                    majorana_freq[p]+=val\n",
    "majorana_freq = majorana_freq.repeat(2)"
   ]
  },
  {
   "cell_type": "markdown",
   "id": "524a5f4f",
   "metadata": {},
   "source": [
    "## Build the Tree\n",
    "\n",
    "Now we can build the tree, using the huffman compression algorithm."
   ]
  },
  {
   "cell_type": "code",
   "execution_count": 3,
   "id": "d76864ef",
   "metadata": {},
   "outputs": [],
   "source": [
    "nodes = {i: None for i in range(len(majorana_freq))}\n",
    "weights = {i: j for i, j in enumerate(majorana_freq)}\n",
    "n_ops = len(majorana_freq)\n",
    "for i in range(n_ops // 2):\n",
    "    parent_index = 2 * n_ops - 1 - i\n",
    "    mins = sorted(weights.items(), key=lambda kv: (kv[1], kv[0]))[:3]\n",
    "\n",
    "    parent = nodes.get(\n",
    "        parent_index, TTNode(parent=None, qubit_label=i)\n",
    "    )\n",
    "\n",
    "    for min, child_string in zip(mins, [\"x\", \"y\", \"z\"][: len(mins)]):\n",
    "        possible_child = nodes[min[0]]\n",
    "        if isinstance(possible_child, TTNode):\n",
    "            parent.add_child(which_child=child_string, child_node=possible_child)\n",
    "\n",
    "    new_weight = 0\n",
    "    for index, weight in mins:\n",
    "        new_weight += weight\n",
    "        weights.pop(index)\n",
    "        nodes.pop(index)\n",
    "\n",
    "    nodes[parent_index] = parent\n",
    "    weights[parent_index] = new_weight\n",
    "\n",
    "assert len(nodes) == 1\n",
    "root_node = [*nodes.values()][0]\n"
   ]
  },
  {
   "cell_type": "code",
   "execution_count": 4,
   "id": "24f8a0b7",
   "metadata": {},
   "outputs": [
    {
     "data": {
      "text/plain": [
       "{'': ('xzz', 'yzzz'),\n",
       " 'x': ('xxz', 'xyz'),\n",
       " 'y': ('yyzz', 'yxz'),\n",
       " 'xx': ('xxx', 'xxy'),\n",
       " 'xy': ('xyy', 'xyx'),\n",
       " 'xz': ('xzx', 'xzy'),\n",
       " 'yx': ('yxy', 'yxx'),\n",
       " 'yy': ('yyx', 'yyyz'),\n",
       " 'yz': ('yzyz', 'yzxz'),\n",
       " 'yyy': ('yyyy', 'yyyx'),\n",
       " 'yyz': ('yyzx', 'yyzy'),\n",
       " 'yzx': ('yzxy', 'yzxx'),\n",
       " 'yzy': ('yzyx', 'yzyy'),\n",
       " 'yzz': ('yzzy', 'yzzx')}"
      ]
     },
     "execution_count": 4,
     "metadata": {},
     "output_type": "execute_result"
    }
   ],
   "source": [
    "huffman_tree = TernaryTree(n_modes=n_modes, root_node=root_node)\n",
    "huffman_tree.enumeration_scheme = huffman_tree.default_enumeration_scheme()\n",
    "huffman_tree.string_pairs"
   ]
  },
  {
   "cell_type": "code",
   "execution_count": 5,
   "id": "86ef7da3",
   "metadata": {},
   "outputs": [
    {
     "data": {
      "text/plain": [
       "{'': (13, 13),\n",
       " 'x': (11, 11),\n",
       " 'y': (12, 12),\n",
       " 'xx': (5, 5),\n",
       " 'xy': (6, 6),\n",
       " 'xz': (7, 7),\n",
       " 'yx': (8, 8),\n",
       " 'yy': (9, 9),\n",
       " 'yz': (10, 10),\n",
       " 'yyy': (0, 0),\n",
       " 'yyz': (1, 1),\n",
       " 'yzx': (2, 2),\n",
       " 'yzy': (3, 3),\n",
       " 'yzz': (4, 4)}"
      ]
     },
     "execution_count": 5,
     "metadata": {},
     "output_type": "execute_result"
    }
   ],
   "source": [
    "huffman_tree.enumeration_scheme"
   ]
  },
  {
   "cell_type": "code",
   "execution_count": 6,
   "id": "385df9b3",
   "metadata": {},
   "outputs": [
    {
     "data": {
      "image/png": "[encoded data removed]",
      "text/plain": [
       "<Figure size 640x480 with 1 Axes>"
      ]
     },
     "metadata": {},
     "output_type": "display_data"
    }
   ],
   "source": [
    "from ferrmion.visualise import draw_tt\n",
    "draw_tt(root_node)"
   ]
  },
  {
   "cell_type": "markdown",
   "id": "1d5b78b2",
   "metadata": {},
   "source": [
    "## Redefining 2e frequency\n",
    "\n",
    "Now that we have a tree structure, we need to assign fermionic modes to pairs of Pauli-strings derived from the structure of the tree.\n",
    "\n",
    "We should account for how the operators interact, since we're aiming to find the minimal coefficient Pauli-weight.\n",
    "\n",
    "To do this, we redefine the two-electron term frequency."
   ]
  },
  {
   "cell_type": "markdown",
   "id": "d3effcb4",
   "metadata": {},
   "source": [
    "With a two electron term in the form $h_l = m_i m_j m_k m_l$\n",
    "\n",
    "$$F_{ij}=\\sum_l I_l(ij)|h_l|$$\n",
    "\n",
    "$I_l(ij) = 1$ if $m_i$ and $m_j$ are in positons $(0,1)$ or $(2,3)$.\n",
    "\n",
    "To simplify, we take the terms with $i<j$."
   ]
  },
  {
   "cell_type": "code",
   "execution_count": 7,
   "id": "897aeb7c",
   "metadata": {},
   "outputs": [
    {
     "name": "stdout",
     "output_type": "stream",
     "text": [
      "(14, 14)\n"
     ]
    }
   ],
   "source": [
    "n_modes = ones.shape[0] \n",
    "two_e_freq = np.zeros(ones.shape)\n",
    "print(two_e_freq.shape)\n",
    "for j in range(n_modes):\n",
    "    for i in range(n_modes):\n",
    "        for l in range(n_modes):        \n",
    "            for k in range(n_modes):\n",
    "                val = np.abs(twos[i,j,k,l])\n",
    "                two_e_freq[i,j]+=val\n",
    "                two_e_freq[k,l]+=val\n",
    "two_e_freq = np.kron(two_e_freq, np.array([[1,1],[1,1]]))\n",
    "two_e_freq = np.triu(two_e_freq, k=1)"
   ]
  },
  {
   "cell_type": "code",
   "execution_count": 8,
   "id": "8b317bb4",
   "metadata": {},
   "outputs": [
    {
     "data": {
      "text/plain": [
       "<matplotlib.image.AxesImage at 0x10ddfb770>"
      ]
     },
     "execution_count": 8,
     "metadata": {},
     "output_type": "execute_result"
    },
    {
     "data": {
      "image/png": "[encoded data removed]",
      "text/plain": [
       "<Figure size 480x480 with 1 Axes>"
      ]
     },
     "metadata": {},
     "output_type": "display_data"
    }
   ],
   "source": [
    "import matplotlib.pyplot as plt\n",
    "plt.matshow(two_e_freq)"
   ]
  },
  {
   "cell_type": "markdown",
   "id": "ffd6fe41",
   "metadata": {},
   "source": [
    "## Pairing Majorana operators to Pauli-strings"
   ]
  },
  {
   "cell_type": "markdown",
   "id": "b7808c6e",
   "metadata": {},
   "source": [
    "If we want to enforce vaccum state preservation (we do!), we require that we map majorana operators to paired strings.\n",
    "\n",
    "This means we only need to use the freqencies of $i\\in 0,2,4,6...N-1$ and let $j=i+1$"
   ]
  },
  {
   "cell_type": "markdown",
   "id": "70681360",
   "metadata": {},
   "source": [
    "### Sorting Modes"
   ]
  },
  {
   "cell_type": "code",
   "execution_count": 9,
   "id": "51418cb7",
   "metadata": {},
   "outputs": [
    {
     "data": {
      "image/png": "[encoded data removed]",
      "text/plain": [
       "<Figure size 1600x200 with 1 Axes>"
      ]
     },
     "metadata": {},
     "output_type": "display_data"
    }
   ],
   "source": [
    "vaccum_frequencies = np.diag(two_e_freq,k=1)\n",
    "plt.matshow([vaccum_frequencies])\n",
    "sorted_pairs = [(i,i+1) for i in np.argsort(vaccum_frequencies)[::-1] if i %2 ==0]\n",
    "sorted_modes = [i[0]//2 for i in sorted_pairs]"
   ]
  },
  {
   "cell_type": "markdown",
   "id": "c72a50d2",
   "metadata": {},
   "source": [
    "### Sorting Operators"
   ]
  },
  {
   "cell_type": "code",
   "execution_count": 10,
   "id": "9b57452f",
   "metadata": {},
   "outputs": [],
   "source": [
    "from ferrmion.utils import pauli_to_symplectic, symplectic_product, find_pauli_weight"
   ]
  },
  {
   "cell_type": "code",
   "execution_count": 11,
   "id": "57b06d91",
   "metadata": {},
   "outputs": [],
   "source": [
    "weights = {}\n",
    "for index, pair in enumerate(huffman_tree.string_pairs.values()):\n",
    "    left, right = pair\n",
    "    left = huffman_tree.branch_pauli_map[left]\n",
    "    right = huffman_tree.branch_pauli_map[right]\n",
    "\n",
    "    weights[index] = {}\n",
    "    left, _ = pauli_to_symplectic(left, 0)\n",
    "    right, _ = pauli_to_symplectic(right, 0)\n",
    "    pair_weight = find_pauli_weight(np.array([left])) + find_pauli_weight(\n",
    "        np.array([right])\n",
    "    )\n",
    "    _, product = symplectic_product(left, right)\n",
    "    product_weight = find_pauli_weight(np.array([product]))\n",
    "\n",
    "    weights[index][\"pair_weight\"] = pair_weight\n",
    "    weights[index][\"prod_weight\"] = product_weight\n",
    "\n",
    "    operator_order = sorted(\n",
    "        weights.items(), key=lambda kv: (kv[1][\"prod_weight\"], kv[1][\"pair_weight\"])\n",
    "    )\n",
    "\n",
    "    operator_order = [index for index, _ in operator_order]"
   ]
  },
  {
   "cell_type": "code",
   "execution_count": 12,
   "id": "f58fdc2b",
   "metadata": {},
   "outputs": [
    {
     "data": {
      "text/plain": [
       "{'': ('xzz', 'yzzz'),\n",
       " 'x': ('xxz', 'xyz'),\n",
       " 'y': ('yyzz', 'yxz'),\n",
       " 'xx': ('xxx', 'xxy'),\n",
       " 'xy': ('xyy', 'xyx'),\n",
       " 'xz': ('xzx', 'xzy'),\n",
       " 'yx': ('yxy', 'yxx'),\n",
       " 'yy': ('yyx', 'yyyz'),\n",
       " 'yz': ('yzyz', 'yzxz'),\n",
       " 'yyy': ('yyyy', 'yyyx'),\n",
       " 'yyz': ('yyzx', 'yyzy'),\n",
       " 'yzx': ('yzxy', 'yzxx'),\n",
       " 'yzy': ('yzyx', 'yzyy'),\n",
       " 'yzz': ('yzzy', 'yzzx')}"
      ]
     },
     "execution_count": 12,
     "metadata": {},
     "output_type": "execute_result"
    }
   ],
   "source": [
    "huffman_tree.string_pairs"
   ]
  },
  {
   "cell_type": "code",
   "execution_count": 13,
   "id": "9780891e",
   "metadata": {},
   "outputs": [
    {
     "data": {
      "text/plain": [
       "{'': (13, 13),\n",
       " 'x': (11, 11),\n",
       " 'y': (12, 12),\n",
       " 'xx': (5, 5),\n",
       " 'xy': (6, 6),\n",
       " 'xz': (7, 7),\n",
       " 'yx': (8, 8),\n",
       " 'yy': (9, 9),\n",
       " 'yz': (10, 10),\n",
       " 'yyy': (0, 0),\n",
       " 'yyz': (1, 1),\n",
       " 'yzx': (2, 2),\n",
       " 'yzy': (3, 3),\n",
       " 'yzz': (4, 4)}"
      ]
     },
     "execution_count": 13,
     "metadata": {},
     "output_type": "execute_result"
    }
   ],
   "source": [
    "huffman_tree.enumeration_scheme"
   ]
  },
  {
   "cell_type": "code",
   "execution_count": 14,
   "id": "0a8626bf",
   "metadata": {},
   "outputs": [],
   "source": [
    "operator_order = sorted(weights.items(), key= lambda kv: (kv[1][\"prod_weight\"], kv[1][\"pair_weight\"]))\n",
    "operator_order = [index for index, _ in operator_order]"
   ]
  },
  {
   "cell_type": "markdown",
   "id": "8356b796",
   "metadata": {},
   "source": [
    "### Assigning a mode-operator map"
   ]
  },
  {
   "cell_type": "code",
   "execution_count": 15,
   "id": "f5c8f51a",
   "metadata": {},
   "outputs": [
    {
     "name": "stdout",
     "output_type": "stream",
     "text": [
      "{'': (13, 13), 'x': (11, 11), 'y': (12, 12), 'xx': (5, 5), 'xy': (6, 6), 'xz': (7, 7), 'yx': (8, 8), 'yy': (9, 9), 'yz': (10, 10), 'yyy': (0, 0), 'yyz': (1, 1), 'yzx': (2, 2), 'yzy': (3, 3), 'yzz': (4, 4)}\n",
      "{'': (13, 13), 'x': (11, 11), 'y': (12, 12), 'xx': (5, 5), 'xy': (6, 6), 'xz': (7, 7), 'yx': (8, 8), 'yy': (9, 9), 'yz': (10, 10), 'yyy': (0, 0), 'yyz': (1, 1), 'yzx': (2, 2), 'yzy': (3, 3), 'yzz': (4, 4)}\n"
     ]
    }
   ],
   "source": [
    "mode_op_map = [0]* len(sorted_modes)\n",
    "for operator_index, mode_index in enumerate(sorted_modes):\n",
    "    mode_op_map[mode_index] = operator_order[operator_index]\n",
    "huffman_tree.default_mode_op_map = mode_op_map\n",
    "print(huffman_tree.enumeration_scheme)\n",
    "huffman_tree.enumeration_scheme = huffman_tree.default_enumeration_scheme()\n",
    "print(huffman_tree.enumeration_scheme)"
   ]
  },
  {
   "cell_type": "code",
   "execution_count": 16,
   "id": "15bebe4d",
   "metadata": {},
   "outputs": [
    {
     "data": {
      "text/plain": [
       "{'': (13, 13),\n",
       " 'x': (11, 11),\n",
       " 'y': (12, 12),\n",
       " 'xx': (5, 5),\n",
       " 'xy': (6, 6),\n",
       " 'xz': (7, 7),\n",
       " 'yx': (8, 8),\n",
       " 'yy': (9, 9),\n",
       " 'yz': (10, 10),\n",
       " 'yyy': (0, 0),\n",
       " 'yyz': (1, 1),\n",
       " 'yzx': (2, 2),\n",
       " 'yzy': (3, 3),\n",
       " 'yzz': (4, 4)}"
      ]
     },
     "execution_count": 16,
     "metadata": {},
     "output_type": "execute_result"
    }
   ],
   "source": [
    "huffman_tree.default_enumeration_scheme()"
   ]
  },
  {
   "cell_type": "markdown",
   "id": "21178068",
   "metadata": {},
   "source": [
    "## Coefficient Pauli Weight\n",
    "\n",
    "Now we can find out how well the Huffman-tree reduces the coefficient Pauli-weight. "
   ]
  },
  {
   "cell_type": "code",
   "execution_count": 17,
   "id": "8d5de0a9",
   "metadata": {},
   "outputs": [
    {
     "data": {
      "text/plain": [
       "[np.float64(336.4856982220406)]"
      ]
     },
     "execution_count": 17,
     "metadata": {},
     "output_type": "execute_result"
    }
   ],
   "source": [
    "from ferrmion.hamiltonians import molecular_hamiltonian, molecular_hamiltonian_template\n",
    "from ferrmion.optimize import coefficient_pauli_weight\n",
    "\n",
    "ham = molecular_hamiltonian(huffman_tree, ones, twos, constant_energy=0, physicist_notation=True)\n",
    "coefficient_pauli_weight(ham)"
   ]
  },
  {
   "cell_type": "code",
   "execution_count": 18,
   "id": "3293a3c3",
   "metadata": {},
   "outputs": [
    {
     "name": "stdout",
     "output_type": "stream",
     "text": [
      "JW [np.float64(272.4190655251233)]\n",
      "ParityEncoding [np.float64(354.2305634781459)]\n",
      "BK [np.float64(374.4751553959328)]\n",
      "JKMN [np.float64(356.94521298138443)]\n"
     ]
    }
   ],
   "source": [
    "from ferrmion.encode import JW, ParityEncoding, BK, JKMN\n",
    "encoding_funcs = [JW, ParityEncoding, BK, JKMN]\n",
    "for encoding in encoding_funcs:\n",
    "    ham = molecular_hamiltonian(encoding(n_modes=huffman_tree.n_modes), ones, twos, constant_energy=0, physicist_notation=True)\n",
    "    pw = coefficient_pauli_weight(ham)\n",
    "    print(encoding.__name__, pw)"
   ]
  },
  {
   "cell_type": "markdown",
   "id": "b78f6220",
   "metadata": {},
   "source": [
    "# Inbuilt Function\n",
    "\n",
    "`ferrmion` provides a method to generate vaccum-preserving Huffman-code trees by providing one and two electron coefficents."
   ]
  },
  {
   "cell_type": "code",
   "execution_count": 22,
   "id": "59763c91",
   "metadata": {},
   "outputs": [
    {
     "data": {
      "text/plain": [
       "[np.float64(336.4856982220406)]"
      ]
     },
     "execution_count": 22,
     "metadata": {},
     "output_type": "execute_result"
    },
    {
     "data": {
      "image/png": "[encoded data removed]",
      "text/plain": [
       "<Figure size 640x480 with 1 Axes>"
      ]
     },
     "metadata": {},
     "output_type": "display_data"
    }
   ],
   "source": [
    "from ferrmion.optimize.huffman import huffman_ternary_tree\n",
    "\n",
    "inbuilt_huffman = huffman_ternary_tree(ones, twos)\n",
    "draw_tt(inbuilt_huffman, inbuilt_huffman.enumeration_scheme)\n",
    "\n",
    "inbuilt_ham = molecular_hamiltonian(inbuilt_huffman, ones, twos, constant_energy=0, physicist_notation=True)\n",
    "coefficient_pauli_weight(inbuilt_ham)"
   ]
  },
  {
   "cell_type": "code",
   "execution_count": 23,
   "id": "d6f1f9e4",
   "metadata": {},
   "outputs": [
    {
     "data": {
      "text/plain": [
       "{'': (13, 13),\n",
       " 'x': (11, 11),\n",
       " 'y': (12, 12),\n",
       " 'xx': (5, 5),\n",
       " 'xy': (6, 6),\n",
       " 'xz': (7, 7),\n",
       " 'yx': (8, 8),\n",
       " 'yy': (9, 9),\n",
       " 'yz': (10, 10),\n",
       " 'yyy': (0, 0),\n",
       " 'yyz': (1, 1),\n",
       " 'yzx': (2, 2),\n",
       " 'yzy': (3, 3),\n",
       " 'yzz': (4, 4)}"
      ]
     },
     "execution_count": 23,
     "metadata": {},
     "output_type": "execute_result"
    }
   ],
   "source": [
    "inbuilt_huffman.default_enumeration_scheme()"
   ]
  },
  {
   "cell_type": "code",
   "execution_count": 24,
   "id": "75112e88",
   "metadata": {},
   "outputs": [
    {
     "data": {
      "text/plain": [
       "True"
      ]
     },
     "execution_count": 24,
     "metadata": {},
     "output_type": "execute_result"
    }
   ],
   "source": [
    "inbuilt_huffman.as_dict() == huffman_tree.as_dict()"
   ]
  }
 ],
 "metadata": {
  "kernelspec": {
   "display_name": ".venv",
   "language": "python",
   "name": "python3"
  },
  "language_info": {
   "codemirror_mode": {
    "name": "ipython",
    "version": 3
   },
   "file_extension": ".py",
   "mimetype": "text/x-python",
   "name": "python",
   "nbconvert_exporter": "python",
   "pygments_lexer": "ipython3",
   "version": "3.13.1"
  }
 },
 "nbformat": 4,
 "nbformat_minor": 5
}
