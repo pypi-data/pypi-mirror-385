{
 "cells": [
  {
   "cell_type": "markdown",
   "id": "27f2e1a4",
   "metadata": {},
   "source": [
    "# Encoding the Hubbard Hamiltonian "
   ]
  },
  {
   "cell_type": "markdown",
   "id": "a33c9c04",
   "metadata": {},
   "source": [
    "This notebook shows how to use a Fermion-Qubit encoding to encode the second quantised Hubbard hamiltonian."
   ]
  },
  {
   "cell_type": "markdown",
   "id": "7cd63aa8",
   "metadata": {},
   "source": [
    "$$H_{Hubbard} = -t \\sum_{\\langle i,j \\rangle,\\sigma}(a^{\\dagger}_{i,\\sigma} a_{j, \\sigma} + a^{\\dagger}_{j, \\sigma} a_{i,\\sigma}) + U \\sum_{i} \\hat{n}_i \\hat{n}_i$$"
   ]
  },
  {
   "cell_type": "markdown",
   "id": "56d0776a",
   "metadata": {},
   "source": [
    "## Simple Useage"
   ]
  },
  {
   "cell_type": "markdown",
   "id": "0691404b",
   "metadata": {},
   "source": [
    "The Hubbard Hamiltonian needs two scaler coefficients, the kinetic term $t$ and the onsite-term $U$. \n",
    "\n",
    "We can either define both $t$ and $U$, or use the default $t=1$ and scale $U$ around it."
   ]
  },
  {
   "cell_type": "code",
   "execution_count": 1,
   "id": "df5c8ffb",
   "metadata": {},
   "outputs": [],
   "source": [
    "onsite_term = 2.\n",
    "hopping_term = 0.5"
   ]
  },
  {
   "cell_type": "markdown",
   "id": "f26abf20",
   "metadata": {},
   "source": [
    "We can now make an encoding for the size of system we want to look at, let's say 12 modes."
   ]
  },
  {
   "cell_type": "code",
   "execution_count": 2,
   "id": "a783a96c",
   "metadata": {},
   "outputs": [],
   "source": [
    "from ferrmion import TernaryTree\n",
    "tt = TernaryTree(6)"
   ]
  },
  {
   "cell_type": "markdown",
   "id": "06f17af1",
   "metadata": {},
   "source": [
    "To encode a hamiltonian, we need both a mapping from fermonic operators to qubits, and an enumeration scheme which accounts for the degrees of freedom when labeling modes and qubits.\n",
    "\n",
    "For the mapping, we'll use JordanWigner and for the enumeration scheme, we can use the default one.\n",
    "\n",
    "Note we can [optimise our encoded hamiltonian](https://ferrmion.readthedocs.io/en/latest/notebooks/pauli_weight.html) by getting more clever with these."
   ]
  },
  {
   "cell_type": "code",
   "execution_count": 3,
   "id": "d1341f34",
   "metadata": {},
   "outputs": [
    {
     "data": {
      "text/plain": [
       "{'': (0, 0),\n",
       " 'z': (1, 1),\n",
       " 'zz': (2, 2),\n",
       " 'zzz': (3, 3),\n",
       " 'zzzz': (4, 4),\n",
       " 'zzzzz': (5, 5)}"
      ]
     },
     "execution_count": 3,
     "metadata": {},
     "output_type": "execute_result"
    }
   ],
   "source": [
    "jw = tt.JW()\n",
    "jw.enumeration_scheme = jw.default_enumeration_scheme()\n",
    "jw.enumeration_scheme"
   ]
  },
  {
   "cell_type": "code",
   "execution_count": 4,
   "id": "f1e58feb",
   "metadata": {},
   "outputs": [
    {
     "data": {
      "text/plain": [
       "{'IIYZYI': (0.25+0j),\n",
       " 'IYZYII': (0.25+0j),\n",
       " 'YZYIII': (0.25+0j),\n",
       " 'IIIXZX': (0.25+0j),\n",
       " 'IIZIII': (-1+0j),\n",
       " 'IIIIII': (6+0j),\n",
       " 'XZXIII': (0.25+0j),\n",
       " 'IZIIII': (-1+0j),\n",
       " 'IIIYZY': (0.25+0j),\n",
       " 'IIIIZI': (-1+0j),\n",
       " 'ZIIIII': (-1+0j),\n",
       " 'IIIIIZ': (-1+0j),\n",
       " 'IXZXII': (0.25+0j),\n",
       " 'IIXZXI': (0.25+0j),\n",
       " 'IIIZII': (-1+0j)}"
      ]
     },
     "execution_count": 4,
     "metadata": {},
     "output_type": "execute_result"
    }
   ],
   "source": [
    "from ferrmion.hamiltonians.hubbard import linear_adjacency_matrix\n",
    "from ferrmion.hamiltonians import hubbard_hamiltonian\n",
    "hamiltonian = hubbard_hamiltonian(encoding=jw,adjacency_matrix=linear_adjacency_matrix(jw.n_modes, periodic=False), onsite_term=onsite_term, hopping_term=hopping_term)\n",
    "hamiltonian"
   ]
  },
  {
   "cell_type": "markdown",
   "id": "acd2a07a",
   "metadata": {},
   "source": [
    "## Hamiltonian Templates"
   ]
  },
  {
   "cell_type": "markdown",
   "id": "c53f409e",
   "metadata": {},
   "source": [
    "Sometimes it can be useful to find out how an encoding behaves without providing coefficients. This lets us see which terms of the second quantised hamiltonian contribute to which pauli terms of the qubit Hamiltonian."
   ]
  },
  {
   "cell_type": "markdown",
   "id": "14e13897",
   "metadata": {},
   "source": [
    "### Creating a Template"
   ]
  },
  {
   "cell_type": "code",
   "execution_count": 5,
   "id": "2719eabf",
   "metadata": {},
   "outputs": [],
   "source": [
    "from ferrmion.hamiltonians import hubbard_hamiltonian_template"
   ]
  },
  {
   "cell_type": "markdown",
   "id": "481aa731",
   "metadata": {},
   "source": [
    "The only information we need to provide is a set of XZ-encoded vectors (this is how ferrmion manipulates encodings internally) and imaginary factors for these vectors. "
   ]
  },
  {
   "cell_type": "code",
   "execution_count": 6,
   "id": "c8f75e53",
   "metadata": {},
   "outputs": [],
   "source": [
    "ipowers, symplectics = jw._build_symplectic_matrix()"
   ]
  },
  {
   "cell_type": "code",
   "execution_count": 7,
   "id": "4f40403b",
   "metadata": {},
   "outputs": [
    {
     "data": {
      "text/plain": [
       "array([0, 1, 0, 1, 0, 1, 0, 1, 0, 1, 0, 1], dtype=uint8)"
      ]
     },
     "execution_count": 7,
     "metadata": {},
     "output_type": "execute_result"
    }
   ],
   "source": [
    "ipowers"
   ]
  },
  {
   "cell_type": "code",
   "execution_count": 8,
   "id": "8124bd1b",
   "metadata": {},
   "outputs": [
    {
     "data": {
      "text/plain": [
       "array([[1, 0, 0, 0, 0, 0, 0, 0, 0, 0, 0, 0],\n",
       "       [1, 0, 0, 0, 0, 0, 1, 0, 0, 0, 0, 0],\n",
       "       [0, 1, 0, 0, 0, 0, 1, 0, 0, 0, 0, 0],\n",
       "       [0, 1, 0, 0, 0, 0, 1, 1, 0, 0, 0, 0],\n",
       "       [0, 0, 1, 0, 0, 0, 1, 1, 0, 0, 0, 0],\n",
       "       [0, 0, 1, 0, 0, 0, 1, 1, 1, 0, 0, 0],\n",
       "       [0, 0, 0, 1, 0, 0, 1, 1, 1, 0, 0, 0],\n",
       "       [0, 0, 0, 1, 0, 0, 1, 1, 1, 1, 0, 0],\n",
       "       [0, 0, 0, 0, 1, 0, 1, 1, 1, 1, 0, 0],\n",
       "       [0, 0, 0, 0, 1, 0, 1, 1, 1, 1, 1, 0],\n",
       "       [0, 0, 0, 0, 0, 1, 1, 1, 1, 1, 1, 0],\n",
       "       [0, 0, 0, 0, 0, 1, 1, 1, 1, 1, 1, 1]])"
      ]
     },
     "execution_count": 8,
     "metadata": {},
     "output_type": "execute_result"
    }
   ],
   "source": [
    "import numpy as np\n",
    "np.array(symplectics, dtype=int)"
   ]
  },
  {
   "cell_type": "code",
   "execution_count": 9,
   "id": "3534d5c0",
   "metadata": {},
   "outputs": [
    {
     "data": {
      "text/plain": [
       "('XZZZZX', {(0, 5): (0.25+0j), (5, 0): (0.25+0j)})"
      ]
     },
     "execution_count": 9,
     "metadata": {},
     "output_type": "execute_result"
    }
   ],
   "source": [
    "template = hubbard_hamiltonian_template(ipowers, symplectics)\n",
    "first_key = [*template.keys()][0]\n",
    "first_key, template[first_key]"
   ]
  },
  {
   "cell_type": "markdown",
   "id": "4e855aa7",
   "metadata": {},
   "source": [
    "### Filling a Template"
   ]
  },
  {
   "cell_type": "markdown",
   "id": "7f3b3149",
   "metadata": {},
   "source": [
    "So we can now see which modes contribute to each Pauli operator.\n",
    "\n",
    "To fill a template, we need to provide the one and two electron coefficients for the Hamiltonian. For the Hubbard Hamiltonian, these follow from the onsite and hopping terms.\n",
    "\n",
    "We also provide a matrix describing which lattice sites are adjacent. For a linear system it, we need sites $(i,i+1)$ $\\forall i \\in 0,...,M-1 $ to be adjacent."
   ]
  },
  {
   "cell_type": "code",
   "execution_count": 10,
   "id": "a9ef69a6",
   "metadata": {},
   "outputs": [
    {
     "name": "stdout",
     "output_type": "stream",
     "text": [
      "[[0. 1. 0. 0. 0. 0.]\n",
      " [1. 0. 1. 0. 0. 0.]\n",
      " [0. 1. 0. 1. 0. 0.]\n",
      " [0. 0. 1. 0. 1. 0.]\n",
      " [0. 0. 0. 1. 0. 1.]\n",
      " [0. 0. 0. 0. 1. 0.]]\n"
     ]
    }
   ],
   "source": [
    "import matplotlib.pyplot as plt\n",
    "from ferrmion.hamiltonians.hubbard import hubbard_coefficients\n",
    "\n",
    "n_modes = jw.n_modes\n",
    "adjacency_matrix = np.eye(n_modes, k=1) + np.eye(n_modes, k=-1)\n",
    "print(adjacency_matrix)\n",
    "\n",
    "one_e_coeffs, two_e_coeffs = hubbard_coefficients(n_modes, adjacency_matrix, onsite_term, hopping_term)"
   ]
  },
  {
   "cell_type": "code",
   "execution_count": 11,
   "id": "9689029f",
   "metadata": {},
   "outputs": [
    {
     "data": {
      "image/png": "[encoded data removed]",
      "text/plain": [
       "<Figure size 640x480 with 3 Axes>"
      ]
     },
     "metadata": {},
     "output_type": "display_data"
    }
   ],
   "source": [
    "import matplotlib.pyplot as plt\n",
    "from matplotlib import colors\n",
    "fig, axs = plt.subplots(1, 2)\n",
    "fig.suptitle('Hubbard Hamiltonian Coefficients')\n",
    "# create a single norm to be shared across all images\n",
    "norm = colors.Normalize(vmin=np.min(0), vmax=np.max([onsite_term, hopping_term]))\n",
    "\n",
    "axs[0].set_title(\"$t$\")\n",
    "axs[1].set_title(\"$U$\")\n",
    "images = []\n",
    "images.append(axs[0].imshow(one_e_coeffs, norm=norm))\n",
    "# We use einsum to see the values for number operators\n",
    "images.append(axs[1].imshow(np.einsum(\"iijj->ij\", two_e_coeffs), norm=norm))\n",
    "fig.colorbar(images[0], ax=axs, orientation='horizontal', fraction=.1)\n",
    "plt.show()"
   ]
  },
  {
   "cell_type": "markdown",
   "id": "f7f61525",
   "metadata": {},
   "source": [
    "\n",
    "\n",
    "We also need to provide a mapping from fermionic modes to majorana operators. Again we can use the default."
   ]
  },
  {
   "cell_type": "code",
   "execution_count": 12,
   "id": "8ca7a466",
   "metadata": {},
   "outputs": [
    {
     "data": {
      "text/plain": [
       "array([0, 1, 2, 3, 4, 5], dtype=uint64)"
      ]
     },
     "execution_count": 12,
     "metadata": {},
     "output_type": "execute_result"
    }
   ],
   "source": [
    "jw.default_mode_op_map"
   ]
  },
  {
   "cell_type": "markdown",
   "id": "bad5ad29",
   "metadata": {},
   "source": [
    "For the Hubbard Hamiltonian, there is o constant energy term, so we can set this to 0."
   ]
  },
  {
   "cell_type": "code",
   "execution_count": 13,
   "id": "c2227f05",
   "metadata": {},
   "outputs": [
    {
     "data": {
      "text/plain": [
       "{'ZIIIII': (-1+0j),\n",
       " 'YZYIII': (0.25+0j),\n",
       " 'IIIXZX': (0.25+0j),\n",
       " 'IIXZXI': (0.25+0j),\n",
       " 'IIYZYI': (0.25+0j),\n",
       " 'IIIYZY': (0.25+0j),\n",
       " 'IZIIII': (-1+0j),\n",
       " 'IIIIII': (6+0j),\n",
       " 'IIZIII': (-1+0j),\n",
       " 'IIIIZI': (-1+0j),\n",
       " 'IYZYII': (0.25+0j),\n",
       " 'XZXIII': (0.25+0j),\n",
       " 'IIIIIZ': (-1+0j),\n",
       " 'IXZXII': (0.25+0j),\n",
       " 'IIIZII': (-1+0j)}"
      ]
     },
     "execution_count": 13,
     "metadata": {},
     "output_type": "execute_result"
    }
   ],
   "source": [
    "from ferrmion.hamiltonians import fill_template\n",
    "filled_template = fill_template(template,constant_energy=0, one_e_coeffs=one_e_coeffs, two_e_coeffs=two_e_coeffs, mode_op_map=jw.default_mode_op_map)\n",
    "filled_template"
   ]
  },
  {
   "cell_type": "markdown",
   "id": "87bce09a",
   "metadata": {},
   "source": [
    "Let' check to see that we have the same hamiltonian in each."
   ]
  },
  {
   "cell_type": "code",
   "execution_count": 14,
   "id": "c023d17c",
   "metadata": {},
   "outputs": [],
   "source": [
    "assert hamiltonian.keys() == filled_template.keys()\n",
    "for k in hamiltonian.keys():\n",
    "    # There is a little numerical instability so \n",
    "    # some values are different by 1e-18 or so!\n",
    "    assert np.isclose(hamiltonian[k], filled_template[k])"
   ]
  }
 ],
 "metadata": {
  "kernelspec": {
   "display_name": ".venv",
   "language": "python",
   "name": "python3"
  },
  "language_info": {
   "codemirror_mode": {
    "name": "ipython",
    "version": 3
   },
   "file_extension": ".py",
   "mimetype": "text/x-python",
   "name": "python",
   "nbconvert_exporter": "python",
   "pygments_lexer": "ipython3",
   "version": "3.13.1"
  }
 },
 "nbformat": 4,
 "nbformat_minor": 5
}
