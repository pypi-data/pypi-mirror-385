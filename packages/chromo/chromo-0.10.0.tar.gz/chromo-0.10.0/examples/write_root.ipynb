{
 "cells": [
  {
   "attachments": {},
   "cell_type": "markdown",
   "metadata": {},
   "source": [
    "# Write generated events as a ROOT file\n",
    "\n",
    "chromo comes with writers that write the event record in different formats. Two popular formats are HepMC3 and ROOT. ROOT output is similar but not identical to the CRMC ROOT output. CERN's ROOT framework is not required to write ROOT files, only the comparably small uproot Python library.\n",
    "\n",
    "Note: that you can also use the command-line interface to generate events in a specific format, so running the code in this notebook is not really needed. You could use this notebook as a template, however, if you want to apply some complex filtering before saving the event."
   ]
  },
  {
   "cell_type": "code",
   "execution_count": 1,
   "metadata": {},
   "outputs": [],
   "source": [
    "import uproot\n",
    "from chromo.models import Pythia8\n",
    "from chromo.writer import Root\n",
    "from chromo.kinematics import CenterOfMass\n",
    "from chromo.constants import GeV\n",
    "import numpy as np\n",
    "from particle import literals as lp"
   ]
  },
  {
   "cell_type": "code",
   "execution_count": 2,
   "metadata": {},
   "outputs": [
    {
     "name": "stdout",
     "output_type": "stream",
     "text": [
      "\n",
      " *------------------------------------------------------------------------------------* \n",
      " |                                                                                    | \n",
      " |  *------------------------------------------------------------------------------*  | \n",
      " |  |                                                                              |  | \n",
      " |  |                                                                              |  | \n",
      " |  |   PPP   Y   Y  TTTTT  H   H  III    A      Welcome to the Lund Monte Carlo!  |  | \n",
      " |  |   P  P   Y Y     T    H   H   I    A A     This is PYTHIA version 8.308      |  | \n",
      " |  |   PPP     Y      T    HHHHH   I   AAAAA    Last date of change: 16 Nov 2022  |  | \n",
      " |  |   P       Y      T    H   H   I   A   A                                      |  | \n",
      " |  |   P       Y      T    H   H  III  A   A    Now is 16 Jan 2023 at 19:30:19    |  | \n",
      " |  |                                                                              |  | \n",
      " |  |   Program documentation and an archive of historic versions is found on:     |  | \n",
      " |  |                                                                              |  | \n",
      " |  |                               https://pythia.org/                            |  | \n",
      " |  |                                                                              |  | \n",
      " |  |   PYTHIA is authored by a collaboration consisting of:                       |  | \n",
      " |  |                                                                              |  | \n",
      " |  |   Christian Bierlich, Nishita Desai, Leif Gellersen, Ilkka Helenius, Philip  |  | \n",
      " |  |   Ilten, Leif Lonnblad, Stephen Mrenna, Stefan Prestel, Christian Preuss,    |  | \n",
      " |  |   Torbjorn Sjostrand, Peter Skands, Marius Utheim and Rob Verheyen.          |  | \n",
      " |  |                                                                              |  | \n",
      " |  |   The complete list of authors, including contact information and            |  | \n",
      " |  |   affiliations, can be found on https://pythia.org/.                         |  | \n",
      " |  |   Problems or bugs should be reported on email at authors@pythia.org.        |  | \n",
      " |  |                                                                              |  | \n",
      " |  |   The main program reference is C. Bierlich et al,                           |  | \n",
      " |  |   'A comprehensive guide to the physics and usage of Pythia 8.3',            |  | \n",
      " |  |   SciPost Phys. Codebases 8-r8.3 (2022) [arXiv:2203.11601 [hep-ph]]          |  | \n",
      " |  |                                                                              |  | \n",
      " |  |   PYTHIA is released under the GNU General Public Licence version 2 or later.|  | \n",
      " |  |   Please respect the MCnet Guidelines for Event Generator Authors and Users. |  | \n",
      " |  |                                                                              |  | \n",
      " |  |   Disclaimer: this program comes without any guarantees.                     |  | \n",
      " |  |   Beware of errors and use common sense when interpreting results.           |  | \n",
      " |  |                                                                              |  | \n",
      " |  |   Copyright (C) 2022 Torbjorn Sjostrand                                      |  | \n",
      " |  |                                                                              |  | \n",
      " |  |                                                                              |  | \n",
      " |  *------------------------------------------------------------------------------*  | \n",
      " |                                                                                    | \n",
      " *------------------------------------------------------------------------------------* \n",
      "\n"
     ]
    }
   ],
   "source": [
    "kin = CenterOfMass(10 * GeV, \"proton\", \"proton\")\n",
    "model = Pythia8(kin, seed=2)"
   ]
  },
  {
   "cell_type": "code",
   "execution_count": 3,
   "metadata": {},
   "outputs": [],
   "source": [
    "nevents = 1000\n",
    "\n",
    "with Root(\"output.root\", model) as f:\n",
    "    for event in model(nevents):\n",
    "        event = event.without_parton_shower()\n",
    "        event = event[2:]  # cut away beam particles\n",
    "        f.write(event)"
   ]
  },
  {
   "attachments": {},
   "cell_type": "markdown",
   "metadata": {},
   "source": [
    "Now we are doing generating and saving. The code below demonstrates how to read the file back with uproot."
   ]
  },
  {
   "cell_type": "code",
   "execution_count": 4,
   "metadata": {},
   "outputs": [
    {
     "name": "stdout",
     "output_type": "stream",
     "text": [
      "all particles\n",
      "  pseudorapidity [0.362, 0.831, 0.536, -2.07, -1.14, ..., 0.535, 0.981, 1.02, 0.0995, 1.85]\n",
      "  pdgid [2112, 213, -211, 113, 211, 3112, 321, 211, ..., 22, 22, 22, 22, 22, 22, 22, 22]\n",
      "long-lived particles\n",
      "  pseudorapidity [0.362, 0.536, -1.14, 0.935, -0.462, ..., 0.535, 0.981, 1.02, 0.0995, 1.85]\n",
      "  pdgid [2112, -211, 211, 3112, 321, 211, 211, 211, ..., 22, 22, 22, 22, 22, 22, 22, 22]\n",
      "  photons from pi0 decay\n",
      "  pseudorapidity [0.361, 0.0498, 0.67, -0.644, 0.668, 0.535, 0.981, 1.02, 0.0995, 1.85]\n"
     ]
    }
   ],
   "source": [
    "import numba as nb\n",
    "\n",
    "\n",
    "def pt_eta(px, py, pz):\n",
    "    pt = np.sqrt(px ** 2 + py ** 2)\n",
    "    eta = np.arcsinh(pz / pt)\n",
    "    return pt, eta\n",
    "\n",
    "photon_pid = int(lp.photon.pdgid)\n",
    "pi0_pid = int(lp.pi_0.pdgid)\n",
    "\n",
    "\n",
    "@nb.njit\n",
    "def select_photons_from_pi0_decay(pid, par):\n",
    "    result = np.zeros(len(pid), dtype=\"bool\")\n",
    "    for i, pidi in enumerate(pid):\n",
    "        if pidi != photon_pid:\n",
    "            continue\n",
    "        if par[i] < 0:\n",
    "            continue\n",
    "        parent_pid = pid[par[i]]\n",
    "        if parent_pid != pi0_pid:\n",
    "            continue\n",
    "        result[i] = True\n",
    "    return result\n",
    "\n",
    "with uproot.open(\"output.root\") as f:\n",
    "    tree = f[\"event\"]\n",
    "    branches = [\"px\", \"py\", \"pz\", \"m\", \"pdgid\", \"status\", \"parent\"]\n",
    "    # loop over chunks in ROOT tree\n",
    "    for chunk in tree.iterate(branches):\n",
    "        # loop over individual events\n",
    "        for px, py, pz, m, pid, sta, par in zip(*(chunk[k] for k in branches)):\n",
    "            pt, eta = pt_eta(px, py, pz)\n",
    "\n",
    "            print(\"all particles\")\n",
    "            print(\"  pseudorapidity\", eta)\n",
    "            print(\"  pdgid\", pid)\n",
    "\n",
    "            # select only long-lived particles\n",
    "            mask = sta == 1\n",
    "            print(\"long-lived particles\")\n",
    "            print(\"  pseudorapidity\", eta[mask])\n",
    "            print(\"  pdgid\", pid[mask])\n",
    "\n",
    "            # select only photons from pi0 decays\n",
    "            mask = select_photons_from_pi0_decay(pid, par)\n",
    "            print(\"  photons from pi0 decay\")\n",
    "            print(\"  pseudorapidity\", eta[mask])\n",
    "\n",
    "            break  # remove to not stop after first event\n"
   ]
  },
  {
   "cell_type": "code",
   "execution_count": null,
   "metadata": {},
   "outputs": [],
   "source": []
  }
 ],
 "metadata": {
  "kernelspec": {
   "display_name": "base",
   "language": "python",
   "name": "python3"
  },
  "language_info": {
   "codemirror_mode": {
    "name": "ipython",
    "version": 3
   },
   "file_extension": ".py",
   "mimetype": "text/x-python",
   "name": "python",
   "nbconvert_exporter": "python",
   "pygments_lexer": "ipython3",
   "version": "3.9.12"
  },
  "orig_nbformat": 4,
  "vscode": {
   "interpreter": {
    "hash": "ae55b61107c3fcfcf14605feb0b7c84f0daf57a46dc940cb57df0b4280aac84d"
   }
  }
 },
 "nbformat": 4,
 "nbformat_minor": 2
}
