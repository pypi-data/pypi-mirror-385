{
 "cells": [
  {
   "cell_type": "code",
   "execution_count": 7,
   "id": "f5b32aa9",
   "metadata": {},
   "outputs": [],
   "source": [
    "import numpy as np"
   ]
  },
  {
   "cell_type": "markdown",
   "id": "18389f99",
   "metadata": {},
   "source": []
  },
  {
   "cell_type": "code",
   "execution_count": 15,
   "id": "3b75b36c",
   "metadata": {},
   "outputs": [
    {
     "name": "stdout",
     "output_type": "stream",
     "text": [
      "oi.shape (216, 24)\n",
      "oi[:5] [[2.10697066e+09 2.10979678e+09 2.14820026e+09 2.18972590e+09\n",
      "  2.17487138e+09 2.17448009e+09 2.01921976e+09 2.04158670e+09\n",
      "  2.05803061e+09 1.95709506e+09 1.92810012e+09 1.94302247e+09\n",
      "  1.96182018e+09 1.93993007e+09 1.91504942e+09 1.94993398e+09\n",
      "  1.97496236e+09 1.98752210e+09 1.99571259e+09 2.01767691e+09\n",
      "  2.02278091e+09 2.07383866e+09 2.06639348e+09 2.09274416e+09]\n",
      " [2.66433265e+08 2.68779864e+08 2.67539182e+08 2.67904539e+08\n",
      "  2.67708481e+08 2.66156881e+08 2.65654626e+08 2.51497615e+08\n",
      "  2.52658760e+08 2.46974773e+08 2.42996469e+08 2.40120155e+08\n",
      "  2.45682899e+08 2.43866813e+08 2.38954639e+08 2.37352806e+08\n",
      "  2.31864407e+08 2.28639789e+08 2.26227657e+08 2.25981412e+08\n",
      "  2.23776271e+08 2.24995584e+08 2.22814635e+08 2.21710331e+08]\n",
      " [1.51479189e+08 1.56067129e+08 1.54823318e+08 1.54494697e+08\n",
      "  1.52707928e+08 1.45695957e+08 1.47623420e+08 1.40933903e+08\n",
      "  1.41485192e+08 1.39101548e+08 1.37921804e+08 1.37698423e+08\n",
      "  1.38171630e+08 1.36675123e+08 1.37172112e+08 1.37718413e+08\n",
      "  1.37258553e+08 1.35088656e+08 1.34686638e+08 1.33640476e+08\n",
      "  1.32923018e+08 1.32937180e+08 1.32319577e+08 1.31363019e+08]\n",
      " [2.46870862e+10 2.48433882e+10 2.47985565e+10 2.48522755e+10\n",
      "  2.45805674e+10 2.48373240e+10 2.49339316e+10 2.31289150e+10\n",
      "  2.33444814e+10 2.35551262e+10 2.36370453e+10 2.35920308e+10\n",
      "  2.39690750e+10 2.37599689e+10 2.36409511e+10 2.34520575e+10\n",
      "  2.31566866e+10 2.28549417e+10 2.29293979e+10 2.35597899e+10\n",
      "  2.32147570e+10 2.31950196e+10 2.31505727e+10 2.31191687e+10]\n",
      " [1.27582536e+08 1.27092564e+08 1.26543273e+08 1.26295280e+08\n",
      "  1.25041739e+08 1.24392757e+08 1.25203140e+08 1.23354914e+08\n",
      "  1.25067475e+08 1.23594118e+08 1.25768434e+08 1.25689623e+08\n",
      "  1.26743908e+08 1.28727349e+08 1.28762150e+08 1.26438560e+08\n",
      "  1.27253510e+08 1.28748939e+08 1.30381128e+08 1.31506173e+08\n",
      "  1.31977146e+08 1.31543264e+08 1.32255989e+08 1.33217958e+08]]\n",
      "amt.shape (216, 24)\n",
      "amt[:5] [[2.21964097e+07 2.12770068e+07 1.20508552e+07 1.33753034e+07\n",
      "  2.29356906e+07 1.70009299e+07 1.64473480e+07 1.17772694e+07\n",
      "  1.63418157e+07 1.53003082e+07 1.35388134e+07 1.96320420e+07\n",
      "  3.45803245e+07 4.73295491e+07 5.23909721e+07 8.42957321e+07\n",
      "  4.56622527e+07 1.02710703e+08 5.25259614e+07 2.68039408e+07\n",
      "  4.61554444e+07 1.81441031e+07 1.63048583e+07 1.86467415e+07]\n",
      " [8.76316271e+06 5.65832270e+06 4.30665768e+06 3.99091834e+06\n",
      "  9.23298625e+06 4.94134799e+06 8.99636505e+06 5.04769204e+06\n",
      "  6.14517568e+06 5.67107471e+06 7.36635695e+06 5.52982837e+06\n",
      "  7.17011903e+06 1.89058383e+07 2.00354999e+07 3.82313770e+07\n",
      "  2.42334577e+07 4.33012473e+07 1.73449931e+07 1.10579012e+07\n",
      "  1.64226287e+07 7.04428558e+06 7.28370722e+06 5.57917182e+06]\n",
      " [2.06483904e+06 1.36439127e+06 1.30177081e+06 1.31820008e+06\n",
      "  1.22582383e+06 1.20904772e+06 1.61943104e+06 5.88074645e+06\n",
      "  3.90245618e+06 7.38806849e+06 5.39990216e+06 4.14619416e+06\n",
      "  3.32142118e+06 6.96616107e+06 5.88171820e+06 9.96449667e+06\n",
      "  5.66400169e+06 1.05135911e+07 3.48426177e+06 1.62861372e+06\n",
      "  4.54350127e+06 1.81370630e+06 1.82037701e+06 1.81616880e+06]\n",
      " [6.79052951e+07 4.90454267e+07 4.00960988e+07 4.34027122e+07\n",
      "  6.97643116e+07 3.86103198e+07 1.35341143e+08 7.28035455e+07\n",
      "  5.75664294e+07 5.33807305e+07 4.66973293e+07 4.06752495e+07\n",
      "  9.98204329e+07 1.77673378e+08 1.72573654e+08 3.27115491e+08\n",
      "  2.41125404e+08 3.46366564e+08 1.68688941e+08 1.17577371e+08\n",
      "  2.44084994e+08 9.24161361e+07 7.22186530e+07 6.81455723e+07]\n",
      " [6.57270470e+06 4.61249006e+06 2.91865851e+06 2.61537180e+06\n",
      "  3.18035352e+06 2.04100214e+06 2.95566988e+06 1.71751941e+06\n",
      "  1.84732686e+06 1.64508687e+06 1.39667815e+06 1.70585824e+06\n",
      "  2.22833572e+06 9.27135799e+06 1.06465313e+07 1.65126080e+07\n",
      "  9.27605044e+06 1.82108893e+07 7.37490479e+06 4.36244373e+06\n",
      "  7.55693109e+06 2.82878800e+06 2.76691032e+06 3.44208602e+06]]\n"
     ]
    }
   ],
   "source": [
    "oi = np.load(\"../data/exports/H1B/univ_1_1_1_r0.9_custom_2024-10-01_2024-10-31/oi/20241001.npy\")\n",
    "amt = np.load(\"../data/exports/H1B/univ_1_1_1_r0.9_custom_2024-10-01_2024-10-31/amt/20241001.npy\")\n",
    "print('oi.shape', oi.shape)\n",
    "print('oi[:5]', oi[:5])\n",
    "print('amt.shape', amt.shape)\n",
    "print('amt[:5]', amt[:5])\n"
   ]
  },
  {
   "cell_type": "code",
   "execution_count": 8,
   "id": "d4a79e9e",
   "metadata": {},
   "outputs": [
    {
     "name": "stdout",
     "output_type": "stream",
     "text": [
      "timestamp.shape (216, 96)\n",
      "1727740800000 1727740800000 1727740800000 1727740800000\n",
      "0 0 0 0\n",
      "1727744400000 1727744400000 1727744400000 1727740800000\n",
      "1 1 1 0\n",
      "1727748000000 1727748000000 1727748000000 1727740800000\n",
      "2 2 2 0\n",
      "1727751600000 1727751600000 1727751600000 1727740800000\n",
      "3 3 3 0\n",
      "1727755200000 1727755200000 1727755200000 1727755200000\n",
      "4 4 4 4\n",
      "1727758800000 1727758800000 1727758800000 1727755200000\n",
      "5 5 5 4\n",
      "1727762400000 1727762400000 1727762400000 1727755200000\n",
      "6 6 6 4\n",
      "1727766000000 1727766000000 1727766000000 1727755200000\n",
      "7 7 7 4\n",
      "1727769600000 1727769600000 1727769600000 1727769600000\n",
      "8 8 8 8\n",
      "1727773200000 1727773200000 1727773200000 1727769600000\n",
      "9 9 9 8\n",
      "1727776800000 1727776800000 1727776800000 1727769600000\n",
      "10 10 10 8\n",
      "1727780400000 1727780400000 1727780400000 1727769600000\n",
      "11 11 11 8\n",
      "1727784000000 1727784000000 1727784000000 1727784000000\n",
      "12 12 12 12\n",
      "1727787600000 1727787600000 1727787600000 1727784000000\n",
      "13 13 13 12\n",
      "1727791200000 1727791200000 1727791200000 1727784000000\n",
      "14 14 14 12\n",
      "1727794800000 1727794800000 1727794800000 1727784000000\n",
      "15 15 15 12\n",
      "1727798400000 1727798400000 1727798400000 1727798400000\n",
      "16 16 16 16\n",
      "1727802000000 1727802000000 1727802000000 1727798400000\n",
      "17 17 17 16\n",
      "1727805600000 1727805600000 1727805600000 1727798400000\n",
      "18 18 18 16\n",
      "1727809200000 1727809200000 1727809200000 1727798400000\n",
      "19 19 19 16\n",
      "1727812800000 1727812800000 1727812800000 1727812800000\n",
      "20 20 20 20\n",
      "1727816400000 1727816400000 1727816400000 1727812800000\n",
      "21 21 21 20\n",
      "1727820000000 1727820000000 1727820000000 1727812800000\n",
      "22 22 22 20\n",
      "1727823600000 1727823600000 1727823600000 1727812800000\n",
      "23 23 23 20\n"
     ]
    }
   ],
   "source": [
    "from datetime import UTC, datetime\n",
    "\n",
    "timestamp = np.load(\"../data/exports/H1B/univ_1_1_1_r0.9_custom_2024-10-01_2024-10-31/timestamp/20241001.npy\")\n",
    "print('timestamp.shape', timestamp.shape)\n",
    "# print('timestamp[0] \\n', timestamp[0][:24], timestamp[0][24:48], timestamp[0][48:72], timestamp[0][72:96])\n",
    "a, b, c, d = timestamp[0][:24], timestamp[0][24:48], timestamp[0][48:72], timestamp[0][72:96]\n",
    "def ts2time(ts):  # noqa: D103\n",
    "    return datetime.fromtimestamp(ts/1000, tz=UTC).hour\n",
    "for i in range(24):\n",
    "    print(a[i], b[i], c[i], d[i])\n",
    "    print(ts2time(a[i]), ts2time(b[i]), ts2time(c[i]), ts2time(d[i]))"
   ]
  },
  {
   "cell_type": "code",
   "execution_count": 43,
   "id": "1f4f80b2",
   "metadata": {},
   "outputs": [
    {
     "name": "stdout",
     "output_type": "stream",
     "text": [
      "2024-10-01 00:00:00+00:00\n",
      "2024-10-31 23:55:00+00:00\n"
     ]
    }
   ],
   "source": [
    "print(datetime.fromtimestamp(1727740800000/1000, tz=UTC))\n",
    "print(datetime.fromtimestamp(1730418900000/1000, tz=UTC))"
   ]
  },
  {
   "cell_type": "code",
   "execution_count": 4,
   "id": "9577819d",
   "metadata": {},
   "outputs": [
    {
     "data": {
      "text/html": [
       "<pre style=\"white-space:pre;overflow-x:auto;line-height:normal;font-family:Menlo,'DejaVu Sans Mono',consolas,'Courier New',monospace\"><span style=\"color: #7fbfbf; text-decoration-color: #7fbfbf\">[10/08/25 22:07:40] </span><span style=\"color: #000080; text-decoration-color: #000080\">INFO    </span> 初始化aiosqlitepool高性能连接池                                       <a href=\"file:///Users/min/Developer/Xdata/src/cryptoservice/storage/connection.py\" target=\"_blank\"><span style=\"color: #7f7f7f; text-decoration-color: #7f7f7f\">connection.py</span></a><span style=\"color: #7f7f7f; text-decoration-color: #7f7f7f\">:</span><a href=\"file:///Users/min/Developer/Xdata/src/cryptoservice/storage/connection.py#75\" target=\"_blank\"><span style=\"color: #7f7f7f; text-decoration-color: #7f7f7f\">75</span></a>\n",
       "</pre>\n"
      ],
      "text/plain": [
       "\u001b[2;36m[10/08/25 22:07:40]\u001b[0m\u001b[2;36m \u001b[0m\u001b[34mINFO    \u001b[0m 初始化aiosqlitepool高性能连接池                                       \u001b]8;id=130426;file:///Users/min/Developer/Xdata/src/cryptoservice/storage/connection.py\u001b\\\u001b[2mconnection.py\u001b[0m\u001b]8;;\u001b\\\u001b[2m:\u001b[0m\u001b]8;id=662963;file:///Users/min/Developer/Xdata/src/cryptoservice/storage/connection.py#75\u001b\\\u001b[2m75\u001b[0m\u001b]8;;\u001b\\\n"
      ]
     },
     "metadata": {},
     "output_type": "display_data"
    },
    {
     "data": {
      "text/html": [
       "<pre style=\"white-space:pre;overflow-x:auto;line-height:normal;font-family:Menlo,'DejaVu Sans Mono',consolas,'Courier New',monospace\"><span style=\"color: #7fbfbf; text-decoration-color: #7fbfbf\">                    </span><span style=\"color: #000080; text-decoration-color: #000080\">INFO    </span> 连接池初始化完成: ..<span style=\"color: #800080; text-decoration-color: #800080\">/data/database/</span><span style=\"color: #ff00ff; text-decoration-color: #ff00ff\">market.db</span>                          <a href=\"file:///Users/min/Developer/Xdata/src/cryptoservice/storage/connection.py\" target=\"_blank\"><span style=\"color: #7f7f7f; text-decoration-color: #7f7f7f\">connection.py</span></a><span style=\"color: #7f7f7f; text-decoration-color: #7f7f7f\">:</span><a href=\"file:///Users/min/Developer/Xdata/src/cryptoservice/storage/connection.py#79\" target=\"_blank\"><span style=\"color: #7f7f7f; text-decoration-color: #7f7f7f\">79</span></a>\n",
       "</pre>\n"
      ],
      "text/plain": [
       "\u001b[2;36m                   \u001b[0m\u001b[2;36m \u001b[0m\u001b[34mINFO    \u001b[0m 连接池初始化完成: ..\u001b[35m/data/database/\u001b[0m\u001b[95mmarket.db\u001b[0m                          \u001b]8;id=40221;file:///Users/min/Developer/Xdata/src/cryptoservice/storage/connection.py\u001b\\\u001b[2mconnection.py\u001b[0m\u001b]8;;\u001b\\\u001b[2m:\u001b[0m\u001b]8;id=887344;file:///Users/min/Developer/Xdata/src/cryptoservice/storage/connection.py#79\u001b\\\u001b[2m79\u001b[0m\u001b]8;;\u001b\\\n"
      ]
     },
     "metadata": {},
     "output_type": "display_data"
    },
    {
     "data": {
      "text/html": [
       "<pre style=\"white-space:pre;overflow-x:auto;line-height:normal;font-family:Menlo,'DejaVu Sans Mono',consolas,'Courier New',monospace\"><span style=\"color: #7fbfbf; text-decoration-color: #7fbfbf\">                    </span><span style=\"color: #000080; text-decoration-color: #000080\">INFO    </span> 开始创建数据库表结构                                                     <a href=\"file:///Users/min/Developer/Xdata/src/cryptoservice/storage/schema.py\" target=\"_blank\"><span style=\"color: #7f7f7f; text-decoration-color: #7f7f7f\">schema.py</span></a><span style=\"color: #7f7f7f; text-decoration-color: #7f7f7f\">:</span><a href=\"file:///Users/min/Developer/Xdata/src/cryptoservice/storage/schema.py#127\" target=\"_blank\"><span style=\"color: #7f7f7f; text-decoration-color: #7f7f7f\">127</span></a>\n",
       "</pre>\n"
      ],
      "text/plain": [
       "\u001b[2;36m                   \u001b[0m\u001b[2;36m \u001b[0m\u001b[34mINFO    \u001b[0m 开始创建数据库表结构                                                     \u001b]8;id=777240;file:///Users/min/Developer/Xdata/src/cryptoservice/storage/schema.py\u001b\\\u001b[2mschema.py\u001b[0m\u001b]8;;\u001b\\\u001b[2m:\u001b[0m\u001b]8;id=475302;file:///Users/min/Developer/Xdata/src/cryptoservice/storage/schema.py#127\u001b\\\u001b[2m127\u001b[0m\u001b]8;;\u001b\\\n"
      ]
     },
     "metadata": {},
     "output_type": "display_data"
    },
    {
     "data": {
      "text/html": [
       "<pre style=\"white-space:pre;overflow-x:auto;line-height:normal;font-family:Menlo,'DejaVu Sans Mono',consolas,'Courier New',monospace\"><span style=\"color: #7fbfbf; text-decoration-color: #7fbfbf\">[10/08/25 22:07:41] </span><span style=\"color: #000080; text-decoration-color: #000080\">INFO    </span> 数据库表结构创建完成                                                     <a href=\"file:///Users/min/Developer/Xdata/src/cryptoservice/storage/schema.py\" target=\"_blank\"><span style=\"color: #7f7f7f; text-decoration-color: #7f7f7f\">schema.py</span></a><span style=\"color: #7f7f7f; text-decoration-color: #7f7f7f\">:</span><a href=\"file:///Users/min/Developer/Xdata/src/cryptoservice/storage/schema.py#146\" target=\"_blank\"><span style=\"color: #7f7f7f; text-decoration-color: #7f7f7f\">146</span></a>\n",
       "</pre>\n"
      ],
      "text/plain": [
       "\u001b[2;36m[10/08/25 22:07:41]\u001b[0m\u001b[2;36m \u001b[0m\u001b[34mINFO    \u001b[0m 数据库表结构创建完成                                                     \u001b]8;id=551426;file:///Users/min/Developer/Xdata/src/cryptoservice/storage/schema.py\u001b\\\u001b[2mschema.py\u001b[0m\u001b]8;;\u001b\\\u001b[2m:\u001b[0m\u001b]8;id=312172;file:///Users/min/Developer/Xdata/src/cryptoservice/storage/schema.py#146\u001b\\\u001b[2m146\u001b[0m\u001b]8;;\u001b\\\n"
      ]
     },
     "metadata": {},
     "output_type": "display_data"
    },
    {
     "data": {
      "text/html": [
       "<pre style=\"white-space:pre;overflow-x:auto;line-height:normal;font-family:Menlo,'DejaVu Sans Mono',consolas,'Courier New',monospace\"><span style=\"color: #7fbfbf; text-decoration-color: #7fbfbf\">                    </span><span style=\"color: #000080; text-decoration-color: #000080\">INFO    </span> 数据库初始化完成: ..<span style=\"color: #800080; text-decoration-color: #800080\">/data/database/</span><span style=\"color: #ff00ff; text-decoration-color: #ff00ff\">market.db</span>                            <a href=\"file:///Users/min/Developer/Xdata/src/cryptoservice/storage/database.py\" target=\"_blank\"><span style=\"color: #7f7f7f; text-decoration-color: #7f7f7f\">database.py</span></a><span style=\"color: #7f7f7f; text-decoration-color: #7f7f7f\">:</span><a href=\"file:///Users/min/Developer/Xdata/src/cryptoservice/storage/database.py#74\" target=\"_blank\"><span style=\"color: #7f7f7f; text-decoration-color: #7f7f7f\">74</span></a>\n",
       "</pre>\n"
      ],
      "text/plain": [
       "\u001b[2;36m                   \u001b[0m\u001b[2;36m \u001b[0m\u001b[34mINFO    \u001b[0m 数据库初始化完成: ..\u001b[35m/data/database/\u001b[0m\u001b[95mmarket.db\u001b[0m                            \u001b]8;id=141818;file:///Users/min/Developer/Xdata/src/cryptoservice/storage/database.py\u001b\\\u001b[2mdatabase.py\u001b[0m\u001b]8;;\u001b\\\u001b[2m:\u001b[0m\u001b]8;id=426266;file:///Users/min/Developer/Xdata/src/cryptoservice/storage/database.py#74\u001b\\\u001b[2m74\u001b[0m\u001b]8;;\u001b\\\n"
      ]
     },
     "metadata": {},
     "output_type": "display_data"
    },
    {
     "name": "stdout",
     "output_type": "stream",
     "text": [
      "1000BONKUSDT\n",
      "1000FLOKIUSDT\n",
      "1000LUNCUSDT\n",
      "1000PEPEUSDT\n",
      "1000RATSUSDT\n",
      "1000SATSUSDT\n",
      "1000SHIBUSDT\n",
      "1INCHUSDT\n",
      "AAVEUSDT\n",
      "ACEUSDT\n",
      "ACHUSDT\n",
      "ADAUSDT\n",
      "AEVOUSDT\n",
      "AIUSDT\n",
      "ALGOUSDT\n",
      "ALICEUSDT\n",
      "ALTUSDT\n",
      "ANKRUSDT\n",
      "APEUSDT\n",
      "API3USDT\n",
      "APTUSDT\n",
      "ARBUSDT\n",
      "ARKMUSDT\n",
      "ARKUSDT\n",
      "ARPAUSDT\n",
      "ARUSDT\n",
      "ASTRUSDT\n",
      "ATAUSDT\n",
      "ATOMUSDT\n",
      "AUCTIONUSDT\n",
      "AVAXUSDT\n",
      "AXLUSDT\n",
      "AXSUSDT\n",
      "BANANAUSDT\n",
      "BANDUSDT\n",
      "BBUSDT\n",
      "BCHUSDT\n",
      "BEAMXUSDT\n",
      "BELUSDT\n",
      "BIGTIMEUSDT\n",
      "BLURUSDT\n",
      "BNBUSDT\n",
      "BOMEUSDT\n",
      "BRETTUSDT\n",
      "BSVUSDT\n",
      "BTCUSDT\n",
      "C98USDT\n",
      "CAKEUSDT\n",
      "CELOUSDT\n",
      "CFXUSDT\n",
      "CHRUSDT\n",
      "CHZUSDT\n",
      "CKBUSDT\n",
      "COMPUSDT\n",
      "COTIUSDT\n",
      "CRVUSDT\n",
      "CTSIUSDT\n",
      "CYBERUSDT\n",
      "DODOXUSDT\n",
      "DOGEUSDT\n",
      "DOTUSDT\n",
      "DUSKUSDT\n",
      "DYDXUSDT\n",
      "DYMUSDT\n",
      "EDUUSDT\n",
      "EGLDUSDT\n",
      "ENAUSDT\n",
      "ENJUSDT\n",
      "ENSUSDT\n",
      "ETCUSDT\n",
      "ETHFIUSDT\n",
      "ETHUSDT\n",
      "FETUSDT\n",
      "FILUSDT\n",
      "FLMUSDT\n",
      "FLOWUSDT\n",
      "GALAUSDT\n",
      "GASUSDT\n",
      "GLMUSDT\n",
      "GMTUSDT\n",
      "GMXUSDT\n",
      "GRTUSDT\n",
      "GTCUSDT\n",
      "GUSDT\n",
      "HBARUSDT\n",
      "HIGHUSDT\n",
      "HOOKUSDT\n",
      "HOTUSDT\n",
      "ICPUSDT\n",
      "IDUSDT\n",
      "ILVUSDT\n",
      "IMXUSDT\n",
      "INJUSDT\n",
      "IOSTUSDT\n",
      "IOTAUSDT\n",
      "IOTXUSDT\n",
      "IOUSDT\n",
      "JASMYUSDT\n",
      "JTOUSDT\n",
      "JUPUSDT\n",
      "KASUSDT\n",
      "KAVAUSDT\n",
      "KNCUSDT\n",
      "KSMUSDT\n",
      "LDOUSDT\n",
      "LINKUSDT\n",
      "LISTAUSDT\n",
      "LPTUSDT\n",
      "LQTYUSDT\n",
      "LRCUSDT\n",
      "LTCUSDT\n",
      "LUNA2USDT\n",
      "MAGICUSDT\n",
      "MANAUSDT\n",
      "MANTAUSDT\n",
      "MASKUSDT\n",
      "MAVUSDT\n",
      "MEMEUSDT\n",
      "METISUSDT\n",
      "MEWUSDT\n",
      "MINAUSDT\n",
      "MOVRUSDT\n",
      "MTLUSDT\n",
      "MYROUSDT\n",
      "NEARUSDT\n",
      "NEOUSDT\n",
      "NFPUSDT\n",
      "NKNUSDT\n",
      "NMRUSDT\n",
      "NOTUSDT\n",
      "NTRNUSDT\n",
      "OGNUSDT\n",
      "OMUSDT\n",
      "ONDOUSDT\n",
      "ONEUSDT\n",
      "ONGUSDT\n",
      "ONTUSDT\n",
      "OPUSDT\n",
      "ORDIUSDT\n",
      "PENDLEUSDT\n",
      "PEOPLEUSDT\n",
      "PHBUSDT\n",
      "PIXELUSDT\n",
      "POLYXUSDT\n",
      "POPCATUSDT\n",
      "PORTALUSDT\n",
      "POWRUSDT\n",
      "PYTHUSDT\n",
      "QNTUSDT\n",
      "RAREUSDT\n",
      "RDNTUSDT\n",
      "RENDERUSDT\n",
      "REZUSDT\n",
      "RIFUSDT\n",
      "RONINUSDT\n",
      "ROSEUSDT\n",
      "RSRUSDT\n",
      "RUNEUSDT\n",
      "RVNUSDT\n",
      "SAGAUSDT\n",
      "SANDUSDT\n",
      "SEIUSDT\n",
      "SFPUSDT\n",
      "SKLUSDT\n",
      "SNXUSDT\n",
      "SOLUSDT\n",
      "SPELLUSDT\n",
      "SSVUSDT\n",
      "STGUSDT\n",
      "STORJUSDT\n",
      "STRKUSDT\n",
      "STXUSDT\n",
      "SUIUSDT\n",
      "SUNUSDT\n",
      "SUPERUSDT\n",
      "SUSHIUSDT\n",
      "SXPUSDT\n",
      "SYNUSDT\n",
      "SYSUSDT\n",
      "TAOUSDT\n",
      "THETAUSDT\n",
      "TIAUSDT\n",
      "TLMUSDT\n",
      "TNSRUSDT\n",
      "TOKENUSDT\n",
      "TONUSDT\n",
      "TRBUSDT\n",
      "TRUUSDT\n",
      "TRXUSDT\n",
      "TURBOUSDT\n",
      "TUSDT\n",
      "TWTUSDT\n",
      "UMAUSDT\n",
      "UNIUSDT\n",
      "USTCUSDT\n",
      "VANRYUSDT\n",
      "VETUSDT\n",
      "VOXELUSDT\n",
      "WIFUSDT\n",
      "WLDUSDT\n",
      "WOOUSDT\n",
      "WUSDT\n",
      "XAIUSDT\n",
      "XLMUSDT\n",
      "XMRUSDT\n",
      "XRPUSDT\n",
      "XTZUSDT\n",
      "YFIUSDT\n",
      "YGGUSDT\n",
      "ZECUSDT\n",
      "ZENUSDT\n",
      "ZETAUSDT\n",
      "ZILUSDT\n",
      "ZKUSDT\n",
      "ZROUSDT\n",
      "ZRXUSDT\n",
      "1000BONKUSDT\n",
      "1000FLOKIUSDT\n",
      "1000LUNCUSDT\n",
      "1000PEPEUSDT\n",
      "1000RATSUSDT\n",
      "1000SATSUSDT\n",
      "1000SHIBUSDT\n",
      "1INCHUSDT\n",
      "AAVEUSDT\n",
      "ACEUSDT\n",
      "ACHUSDT\n",
      "ADAUSDT\n",
      "AEVOUSDT\n",
      "AIUSDT\n",
      "ALGOUSDT\n",
      "ALICEUSDT\n",
      "ALTUSDT\n",
      "ANKRUSDT\n",
      "APEUSDT\n",
      "API3USDT\n",
      "APTUSDT\n",
      "ARBUSDT\n",
      "ARKMUSDT\n",
      "ARKUSDT\n",
      "ARPAUSDT\n",
      "ARUSDT\n",
      "ASTRUSDT\n",
      "ATAUSDT\n",
      "ATOMUSDT\n",
      "AUCTIONUSDT\n",
      "AVAXUSDT\n",
      "AXLUSDT\n",
      "AXSUSDT\n",
      "BANANAUSDT\n",
      "BANDUSDT\n",
      "BBUSDT\n",
      "BCHUSDT\n",
      "BEAMXUSDT\n",
      "BELUSDT\n",
      "BIGTIMEUSDT\n",
      "BLURUSDT\n",
      "BNBUSDT\n",
      "BOMEUSDT\n",
      "BRETTUSDT\n",
      "BSVUSDT\n",
      "BTCUSDT\n",
      "C98USDT\n",
      "CAKEUSDT\n",
      "CELOUSDT\n",
      "CFXUSDT\n",
      "CHRUSDT\n",
      "CHZUSDT\n",
      "CKBUSDT\n",
      "COMPUSDT\n",
      "COTIUSDT\n",
      "CRVUSDT\n",
      "CTSIUSDT\n",
      "CYBERUSDT\n",
      "DODOXUSDT\n",
      "DOGEUSDT\n",
      "DOTUSDT\n",
      "DUSKUSDT\n",
      "DYDXUSDT\n",
      "DYMUSDT\n",
      "EDUUSDT\n",
      "EGLDUSDT\n",
      "ENAUSDT\n",
      "ENJUSDT\n",
      "ENSUSDT\n",
      "ETCUSDT\n",
      "ETHFIUSDT\n",
      "ETHUSDT\n",
      "FETUSDT\n",
      "FILUSDT\n",
      "FLMUSDT\n",
      "FLOWUSDT\n",
      "GALAUSDT\n",
      "GASUSDT\n",
      "GLMUSDT\n",
      "GMTUSDT\n",
      "GMXUSDT\n",
      "GRTUSDT\n",
      "GTCUSDT\n",
      "GUSDT\n",
      "HBARUSDT\n",
      "HIGHUSDT\n",
      "HOOKUSDT\n",
      "HOTUSDT\n",
      "ICPUSDT\n",
      "IDUSDT\n",
      "ILVUSDT\n",
      "IMXUSDT\n",
      "INJUSDT\n",
      "IOSTUSDT\n",
      "IOTAUSDT\n",
      "IOTXUSDT\n",
      "IOUSDT\n",
      "JASMYUSDT\n",
      "JTOUSDT\n",
      "JUPUSDT\n",
      "KASUSDT\n",
      "KAVAUSDT\n",
      "KNCUSDT\n",
      "KSMUSDT\n",
      "LDOUSDT\n",
      "LINKUSDT\n",
      "LISTAUSDT\n",
      "LPTUSDT\n",
      "LQTYUSDT\n",
      "LRCUSDT\n",
      "LTCUSDT\n",
      "LUNA2USDT\n",
      "MAGICUSDT\n",
      "MANAUSDT\n",
      "MANTAUSDT\n",
      "MASKUSDT\n",
      "MAVUSDT\n",
      "MEMEUSDT\n",
      "METISUSDT\n",
      "MEWUSDT\n",
      "MINAUSDT\n",
      "MOVRUSDT\n",
      "MTLUSDT\n",
      "MYROUSDT\n",
      "NEARUSDT\n",
      "NEOUSDT\n",
      "NFPUSDT\n",
      "NKNUSDT\n",
      "NMRUSDT\n",
      "NOTUSDT\n",
      "NTRNUSDT\n",
      "OGNUSDT\n",
      "OMUSDT\n",
      "ONDOUSDT\n",
      "ONEUSDT\n",
      "ONGUSDT\n",
      "ONTUSDT\n",
      "OPUSDT\n",
      "ORDIUSDT\n",
      "PENDLEUSDT\n",
      "PEOPLEUSDT\n",
      "PHBUSDT\n",
      "PIXELUSDT\n",
      "POLYXUSDT\n",
      "POPCATUSDT\n",
      "PORTALUSDT\n",
      "POWRUSDT\n",
      "PYTHUSDT\n",
      "QNTUSDT\n",
      "RAREUSDT\n",
      "RDNTUSDT\n",
      "RENDERUSDT\n",
      "REZUSDT\n",
      "RIFUSDT\n",
      "RONINUSDT\n",
      "ROSEUSDT\n",
      "RSRUSDT\n",
      "RUNEUSDT\n",
      "RVNUSDT\n",
      "SAGAUSDT\n",
      "SANDUSDT\n",
      "SEIUSDT\n",
      "SFPUSDT\n",
      "SKLUSDT\n",
      "SNXUSDT\n",
      "SOLUSDT\n",
      "SPELLUSDT\n",
      "SSVUSDT\n",
      "STGUSDT\n",
      "STORJUSDT\n",
      "STRKUSDT\n",
      "STXUSDT\n",
      "SUIUSDT\n",
      "SUNUSDT\n",
      "SUPERUSDT\n",
      "SUSHIUSDT\n",
      "SXPUSDT\n",
      "SYNUSDT\n",
      "SYSUSDT\n",
      "TAOUSDT\n",
      "THETAUSDT\n",
      "TIAUSDT\n",
      "TLMUSDT\n",
      "TNSRUSDT\n",
      "TOKENUSDT\n",
      "TONUSDT\n",
      "TRBUSDT\n",
      "TRUUSDT\n",
      "TRXUSDT\n",
      "TURBOUSDT\n",
      "TUSDT\n",
      "TWTUSDT\n",
      "UMAUSDT\n",
      "UNIUSDT\n",
      "USTCUSDT\n",
      "VANRYUSDT\n",
      "VETUSDT\n",
      "VOXELUSDT\n",
      "WIFUSDT\n",
      "WLDUSDT\n",
      "WOOUSDT\n",
      "WUSDT\n",
      "XAIUSDT\n",
      "XLMUSDT\n",
      "XMRUSDT\n",
      "XRPUSDT\n",
      "XTZUSDT\n",
      "YFIUSDT\n",
      "YGGUSDT\n",
      "ZECUSDT\n",
      "ZENUSDT\n",
      "ZETAUSDT\n",
      "ZILUSDT\n",
      "ZKUSDT\n",
      "ZROUSDT\n",
      "ZRXUSDT\n"
     ]
    }
   ],
   "source": [
    "from cryptoservice.models import Freq\n",
    "from cryptoservice.storage import Database\n",
    "\n",
    "# 示例1: 迭代所有符号\n",
    "db = Database('../data/database/market.db')\n",
    "\n",
    "# 方法1: 使用 iter_symbols 迭代器\n",
    "async for symbol in db.iter_symbols(freq=Freq.m5):\n",
    "    print(symbol)\n",
    "\n",
    "# 方法2: 如果只需要获取列表，直接使用 get_symbols\n",
    "symbols = await db.get_symbols(freq=Freq.m5)\n",
    "for symbol in symbols:\n",
    "    print(symbol)\n",
    "\n",
    "\n"
   ]
  },
  {
   "cell_type": "code",
   "execution_count": 1,
   "id": "986597ba",
   "metadata": {},
   "outputs": [
    {
     "data": {
      "text/html": [
       "<pre style=\"white-space:pre;overflow-x:auto;line-height:normal;font-family:Menlo,'DejaVu Sans Mono',consolas,'Courier New',monospace\"><span style=\"color: #7fbfbf; text-decoration-color: #7fbfbf\">[10/08/25 22:06:11] </span><span style=\"color: #000080; text-decoration-color: #000080\">INFO    </span> 日志系统初始化完成 <span style=\"font-weight: bold\">[</span>环境: development, 级别: INFO, Rich: <span style=\"color: #00ff00; text-decoration-color: #00ff00; font-style: italic\">True</span><span style=\"font-weight: bold\">]</span>    <a href=\"file:///Users/min/Developer/Xdata/src/cryptoservice/config/logging_config.py\" target=\"_blank\"><span style=\"color: #7f7f7f; text-decoration-color: #7f7f7f\">logging_config.py</span></a><span style=\"color: #7f7f7f; text-decoration-color: #7f7f7f\">:</span><a href=\"file:///Users/min/Developer/Xdata/src/cryptoservice/config/logging_config.py#92\" target=\"_blank\"><span style=\"color: #7f7f7f; text-decoration-color: #7f7f7f\">92</span></a>\n",
       "</pre>\n"
      ],
      "text/plain": [
       "\u001b[2;36m[10/08/25 22:06:11]\u001b[0m\u001b[2;36m \u001b[0m\u001b[34mINFO    \u001b[0m 日志系统初始化完成 \u001b[1m[\u001b[0m环境: development, 级别: INFO, Rich: \u001b[3;92mTrue\u001b[0m\u001b[1m]\u001b[0m    \u001b]8;id=875719;file:///Users/min/Developer/Xdata/src/cryptoservice/config/logging_config.py\u001b\\\u001b[2mlogging_config.py\u001b[0m\u001b]8;;\u001b\\\u001b[2m:\u001b[0m\u001b]8;id=862654;file:///Users/min/Developer/Xdata/src/cryptoservice/config/logging_config.py#92\u001b\\\u001b[2m92\u001b[0m\u001b]8;;\u001b\\\n"
      ]
     },
     "metadata": {},
     "output_type": "display_data"
    },
    {
     "data": {
      "text/html": [
       "<pre style=\"white-space:pre;overflow-x:auto;line-height:normal;font-family:Menlo,'DejaVu Sans Mono',consolas,'Courier New',monospace\"><span style=\"color: #7fbfbf; text-decoration-color: #7fbfbf\">                    </span><span style=\"color: #000080; text-decoration-color: #000080\">INFO    </span> 初始化aiosqlitepool高性能连接池                                       <a href=\"file:///Users/min/Developer/Xdata/src/cryptoservice/storage/connection.py\" target=\"_blank\"><span style=\"color: #7f7f7f; text-decoration-color: #7f7f7f\">connection.py</span></a><span style=\"color: #7f7f7f; text-decoration-color: #7f7f7f\">:</span><a href=\"file:///Users/min/Developer/Xdata/src/cryptoservice/storage/connection.py#75\" target=\"_blank\"><span style=\"color: #7f7f7f; text-decoration-color: #7f7f7f\">75</span></a>\n",
       "</pre>\n"
      ],
      "text/plain": [
       "\u001b[2;36m                   \u001b[0m\u001b[2;36m \u001b[0m\u001b[34mINFO    \u001b[0m 初始化aiosqlitepool高性能连接池                                       \u001b]8;id=527497;file:///Users/min/Developer/Xdata/src/cryptoservice/storage/connection.py\u001b\\\u001b[2mconnection.py\u001b[0m\u001b]8;;\u001b\\\u001b[2m:\u001b[0m\u001b]8;id=15166;file:///Users/min/Developer/Xdata/src/cryptoservice/storage/connection.py#75\u001b\\\u001b[2m75\u001b[0m\u001b]8;;\u001b\\\n"
      ]
     },
     "metadata": {},
     "output_type": "display_data"
    },
    {
     "data": {
      "text/html": [
       "<pre style=\"white-space:pre;overflow-x:auto;line-height:normal;font-family:Menlo,'DejaVu Sans Mono',consolas,'Courier New',monospace\"><span style=\"color: #7fbfbf; text-decoration-color: #7fbfbf\">                    </span><span style=\"color: #000080; text-decoration-color: #000080\">INFO    </span> 连接池初始化完成: ..<span style=\"color: #800080; text-decoration-color: #800080\">/data/database/</span><span style=\"color: #ff00ff; text-decoration-color: #ff00ff\">market.db</span>                          <a href=\"file:///Users/min/Developer/Xdata/src/cryptoservice/storage/connection.py\" target=\"_blank\"><span style=\"color: #7f7f7f; text-decoration-color: #7f7f7f\">connection.py</span></a><span style=\"color: #7f7f7f; text-decoration-color: #7f7f7f\">:</span><a href=\"file:///Users/min/Developer/Xdata/src/cryptoservice/storage/connection.py#79\" target=\"_blank\"><span style=\"color: #7f7f7f; text-decoration-color: #7f7f7f\">79</span></a>\n",
       "</pre>\n"
      ],
      "text/plain": [
       "\u001b[2;36m                   \u001b[0m\u001b[2;36m \u001b[0m\u001b[34mINFO    \u001b[0m 连接池初始化完成: ..\u001b[35m/data/database/\u001b[0m\u001b[95mmarket.db\u001b[0m                          \u001b]8;id=150906;file:///Users/min/Developer/Xdata/src/cryptoservice/storage/connection.py\u001b\\\u001b[2mconnection.py\u001b[0m\u001b]8;;\u001b\\\u001b[2m:\u001b[0m\u001b]8;id=435133;file:///Users/min/Developer/Xdata/src/cryptoservice/storage/connection.py#79\u001b\\\u001b[2m79\u001b[0m\u001b]8;;\u001b\\\n"
      ]
     },
     "metadata": {},
     "output_type": "display_data"
    },
    {
     "data": {
      "text/html": [
       "<pre style=\"white-space:pre;overflow-x:auto;line-height:normal;font-family:Menlo,'DejaVu Sans Mono',consolas,'Courier New',monospace\"><span style=\"color: #7fbfbf; text-decoration-color: #7fbfbf\">                    </span><span style=\"color: #000080; text-decoration-color: #000080\">INFO    </span> 开始创建数据库表结构                                                     <a href=\"file:///Users/min/Developer/Xdata/src/cryptoservice/storage/schema.py\" target=\"_blank\"><span style=\"color: #7f7f7f; text-decoration-color: #7f7f7f\">schema.py</span></a><span style=\"color: #7f7f7f; text-decoration-color: #7f7f7f\">:</span><a href=\"file:///Users/min/Developer/Xdata/src/cryptoservice/storage/schema.py#127\" target=\"_blank\"><span style=\"color: #7f7f7f; text-decoration-color: #7f7f7f\">127</span></a>\n",
       "</pre>\n"
      ],
      "text/plain": [
       "\u001b[2;36m                   \u001b[0m\u001b[2;36m \u001b[0m\u001b[34mINFO    \u001b[0m 开始创建数据库表结构                                                     \u001b]8;id=260703;file:///Users/min/Developer/Xdata/src/cryptoservice/storage/schema.py\u001b\\\u001b[2mschema.py\u001b[0m\u001b]8;;\u001b\\\u001b[2m:\u001b[0m\u001b]8;id=308015;file:///Users/min/Developer/Xdata/src/cryptoservice/storage/schema.py#127\u001b\\\u001b[2m127\u001b[0m\u001b]8;;\u001b\\\n"
      ]
     },
     "metadata": {},
     "output_type": "display_data"
    },
    {
     "data": {
      "text/html": [
       "<pre style=\"white-space:pre;overflow-x:auto;line-height:normal;font-family:Menlo,'DejaVu Sans Mono',consolas,'Courier New',monospace\"><span style=\"color: #7fbfbf; text-decoration-color: #7fbfbf\">                    </span><span style=\"color: #000080; text-decoration-color: #000080\">INFO    </span> 数据库表结构创建完成                                                     <a href=\"file:///Users/min/Developer/Xdata/src/cryptoservice/storage/schema.py\" target=\"_blank\"><span style=\"color: #7f7f7f; text-decoration-color: #7f7f7f\">schema.py</span></a><span style=\"color: #7f7f7f; text-decoration-color: #7f7f7f\">:</span><a href=\"file:///Users/min/Developer/Xdata/src/cryptoservice/storage/schema.py#146\" target=\"_blank\"><span style=\"color: #7f7f7f; text-decoration-color: #7f7f7f\">146</span></a>\n",
       "</pre>\n"
      ],
      "text/plain": [
       "\u001b[2;36m                   \u001b[0m\u001b[2;36m \u001b[0m\u001b[34mINFO    \u001b[0m 数据库表结构创建完成                                                     \u001b]8;id=77373;file:///Users/min/Developer/Xdata/src/cryptoservice/storage/schema.py\u001b\\\u001b[2mschema.py\u001b[0m\u001b]8;;\u001b\\\u001b[2m:\u001b[0m\u001b]8;id=344284;file:///Users/min/Developer/Xdata/src/cryptoservice/storage/schema.py#146\u001b\\\u001b[2m146\u001b[0m\u001b]8;;\u001b\\\n"
      ]
     },
     "metadata": {},
     "output_type": "display_data"
    },
    {
     "data": {
      "text/html": [
       "<pre style=\"white-space:pre;overflow-x:auto;line-height:normal;font-family:Menlo,'DejaVu Sans Mono',consolas,'Courier New',monospace\"><span style=\"color: #7fbfbf; text-decoration-color: #7fbfbf\">                    </span><span style=\"color: #000080; text-decoration-color: #000080\">INFO    </span> 数据库初始化完成: ..<span style=\"color: #800080; text-decoration-color: #800080\">/data/database/</span><span style=\"color: #ff00ff; text-decoration-color: #ff00ff\">market.db</span>                            <a href=\"file:///Users/min/Developer/Xdata/src/cryptoservice/storage/database.py\" target=\"_blank\"><span style=\"color: #7f7f7f; text-decoration-color: #7f7f7f\">database.py</span></a><span style=\"color: #7f7f7f; text-decoration-color: #7f7f7f\">:</span><a href=\"file:///Users/min/Developer/Xdata/src/cryptoservice/storage/database.py#74\" target=\"_blank\"><span style=\"color: #7f7f7f; text-decoration-color: #7f7f7f\">74</span></a>\n",
       "</pre>\n"
      ],
      "text/plain": [
       "\u001b[2;36m                   \u001b[0m\u001b[2;36m \u001b[0m\u001b[34mINFO    \u001b[0m 数据库初始化完成: ..\u001b[35m/data/database/\u001b[0m\u001b[95mmarket.db\u001b[0m                            \u001b]8;id=759723;file:///Users/min/Developer/Xdata/src/cryptoservice/storage/database.py\u001b\\\u001b[2mdatabase.py\u001b[0m\u001b]8;;\u001b\\\u001b[2m:\u001b[0m\u001b]8;id=957997;file:///Users/min/Developer/Xdata/src/cryptoservice/storage/database.py#74\u001b\\\u001b[2m74\u001b[0m\u001b]8;;\u001b\\\n"
      ]
     },
     "metadata": {},
     "output_type": "display_data"
    },
    {
     "name": "stdout",
     "output_type": "stream",
     "text": [
      "缺失 95 个时间戳\n"
     ]
    },
    {
     "ename": "NameError",
     "evalue": "name 'datetime' is not defined",
     "output_type": "error",
     "traceback": [
      "\u001b[31m---------------------------------------------------------------------------\u001b[39m",
      "\u001b[31mNameError\u001b[39m                                 Traceback (most recent call last)",
      "\u001b[36mCell\u001b[39m\u001b[36m \u001b[39m\u001b[32mIn[1]\u001b[39m\u001b[32m, line 24\u001b[39m\n\u001b[32m     22\u001b[39m \u001b[38;5;66;03m# 只显示前5个\u001b[39;00m\n\u001b[32m     23\u001b[39m \u001b[38;5;28;01mfor\u001b[39;00m i \u001b[38;5;129;01min\u001b[39;00m missing_timestamps[:\u001b[32m5\u001b[39m]:\n\u001b[32m---> \u001b[39m\u001b[32m24\u001b[39m     \u001b[38;5;28mprint\u001b[39m(i, \u001b[43mdatetime\u001b[49m.fromtimestamp(i/\u001b[32m1000\u001b[39m, tz=UTC))\n\u001b[32m     25\u001b[39m \u001b[38;5;28;01mif\u001b[39;00m \u001b[38;5;28mlen\u001b[39m(missing_timestamps) > \u001b[32m5\u001b[39m:\n\u001b[32m     26\u001b[39m     \u001b[38;5;28mprint\u001b[39m(\u001b[33mf\u001b[39m\u001b[33m\"\u001b[39m\u001b[33m... 还有 \u001b[39m\u001b[38;5;132;01m{\u001b[39;00m\u001b[38;5;28mlen\u001b[39m(missing_timestamps)\u001b[38;5;250m \u001b[39m-\u001b[38;5;250m \u001b[39m\u001b[32m5\u001b[39m\u001b[38;5;132;01m}\u001b[39;00m\u001b[33m 个\u001b[39m\u001b[33m\"\u001b[39m)\n",
      "\u001b[31mNameError\u001b[39m: name 'datetime' is not defined"
     ]
    }
   ],
   "source": [
    "import asyncio\n",
    "import os\n",
    "\n",
    "from binance import HistoricalKlinesType\n",
    "from dotenv import load_dotenv\n",
    "\n",
    "from cryptoservice import MarketDataService\n",
    "from cryptoservice.models import Freq\n",
    "from cryptoservice.storage import Database\n",
    "\n",
    "# 初始化数据库\n",
    "db = Database(\"../data/database/market.db\")\n",
    "\n",
    "# 获取符号列表\n",
    "symbols = await db.get_symbols(freq=Freq.m5)\n",
    "\n",
    "# 检查缺失的时间戳\n",
    "missing_timestamps = await db.kline_query.get_missing_timestamps(\n",
    "    symbols[0], 1727740800000, 1730418900000, Freq.m5\n",
    ")\n",
    "print(f\"缺失 {len(missing_timestamps)} 个时间戳\")\n",
    "# 只显示前5个\n",
    "for i in missing_timestamps[:5]:\n",
    "    print(i, datetime.fromtimestamp(i/1000, tz=UTC))\n",
    "if len(missing_timestamps) > 5:\n",
    "    print(f\"... 还有 {len(missing_timestamps) - 5} 个\")\n",
    "\n",
    "# 使用异步客户端获取历史数据\n",
    "# load_dotenv()\n",
    "# api_key = os.getenv(\"BINANCE_API_KEY\")\n",
    "# api_secret = os.getenv(\"BINANCE_API_SECRET\")\n",
    "\n",
    "\n",
    "# async with await MarketDataService.create(api_key=api_key, api_secret=api_secret) as service:\n",
    "#     # 获取历史K线数据\n",
    "#     print(service)\n",
    "#     klines = await service.get_historical_klines(\n",
    "#         symbol=\"BTCUSDT\",\n",
    "#         start_time=datetime.fromtimestamp(1730390400000 / 1000, tz=UTC),\n",
    "#         end_time=datetime.fromtimestamp(1730418600000 / 1000, tz=UTC),\n",
    "#         interval=Freq.m5,\n",
    "#         klines_type=HistoricalKlinesType.FUTURES,\n",
    "#     )\n",
    "#     print(f\"获取到 {len(klines)} 条K线数据\")\n",
    "#     if klines:\n",
    "#         print(f\"第一条: {klines[0]}\")\n",
    "#         print(f\"最后一条: {klines[-1]}\")\n",
    "\n",
    "\n",
    "# 记得关闭客户端"
   ]
  },
  {
   "cell_type": "code",
   "execution_count": 10,
   "id": "19297c2d",
   "metadata": {},
   "outputs": [
    {
     "data": {
      "text/html": [
       "<pre style=\"white-space:pre;overflow-x:auto;line-height:normal;font-family:Menlo,'DejaVu Sans Mono',consolas,'Courier New',monospace\"><span style=\"color: #7fbfbf; text-decoration-color: #7fbfbf\">[10/06/25 18:13:47] </span><span style=\"color: #000080; text-decoration-color: #000080\">INFO    </span> 初始化aiosqlitepool高性能连接池                                       <a href=\"file:///Users/min/Developer/Xdata/.venv/lib/python3.12/site-packages/cryptoservice/storage/connection.py\" target=\"_blank\"><span style=\"color: #7f7f7f; text-decoration-color: #7f7f7f\">connection.py</span></a><span style=\"color: #7f7f7f; text-decoration-color: #7f7f7f\">:</span><a href=\"file:///Users/min/Developer/Xdata/.venv/lib/python3.12/site-packages/cryptoservice/storage/connection.py#75\" target=\"_blank\"><span style=\"color: #7f7f7f; text-decoration-color: #7f7f7f\">75</span></a>\n",
       "</pre>\n"
      ],
      "text/plain": [
       "\u001b[2;36m[10/06/25 18:13:47]\u001b[0m\u001b[2;36m \u001b[0m\u001b[34mINFO    \u001b[0m 初始化aiosqlitepool高性能连接池                                       \u001b]8;id=284476;file:///Users/min/Developer/Xdata/.venv/lib/python3.12/site-packages/cryptoservice/storage/connection.py\u001b\\\u001b[2mconnection.py\u001b[0m\u001b]8;;\u001b\\\u001b[2m:\u001b[0m\u001b]8;id=226352;file:///Users/min/Developer/Xdata/.venv/lib/python3.12/site-packages/cryptoservice/storage/connection.py#75\u001b\\\u001b[2m75\u001b[0m\u001b]8;;\u001b\\\n"
      ]
     },
     "metadata": {},
     "output_type": "display_data"
    },
    {
     "data": {
      "text/html": [
       "<pre style=\"white-space:pre;overflow-x:auto;line-height:normal;font-family:Menlo,'DejaVu Sans Mono',consolas,'Courier New',monospace\"><span style=\"color: #7fbfbf; text-decoration-color: #7fbfbf\">                    </span><span style=\"color: #000080; text-decoration-color: #000080\">INFO    </span> 连接池初始化完成: ..<span style=\"color: #800080; text-decoration-color: #800080\">/data/database/</span><span style=\"color: #ff00ff; text-decoration-color: #ff00ff\">market.db</span>                          <a href=\"file:///Users/min/Developer/Xdata/.venv/lib/python3.12/site-packages/cryptoservice/storage/connection.py\" target=\"_blank\"><span style=\"color: #7f7f7f; text-decoration-color: #7f7f7f\">connection.py</span></a><span style=\"color: #7f7f7f; text-decoration-color: #7f7f7f\">:</span><a href=\"file:///Users/min/Developer/Xdata/.venv/lib/python3.12/site-packages/cryptoservice/storage/connection.py#79\" target=\"_blank\"><span style=\"color: #7f7f7f; text-decoration-color: #7f7f7f\">79</span></a>\n",
       "</pre>\n"
      ],
      "text/plain": [
       "\u001b[2;36m                   \u001b[0m\u001b[2;36m \u001b[0m\u001b[34mINFO    \u001b[0m 连接池初始化完成: ..\u001b[35m/data/database/\u001b[0m\u001b[95mmarket.db\u001b[0m                          \u001b]8;id=573628;file:///Users/min/Developer/Xdata/.venv/lib/python3.12/site-packages/cryptoservice/storage/connection.py\u001b\\\u001b[2mconnection.py\u001b[0m\u001b]8;;\u001b\\\u001b[2m:\u001b[0m\u001b]8;id=805636;file:///Users/min/Developer/Xdata/.venv/lib/python3.12/site-packages/cryptoservice/storage/connection.py#79\u001b\\\u001b[2m79\u001b[0m\u001b]8;;\u001b\\\n"
      ]
     },
     "metadata": {},
     "output_type": "display_data"
    },
    {
     "data": {
      "text/html": [
       "<pre style=\"white-space:pre;overflow-x:auto;line-height:normal;font-family:Menlo,'DejaVu Sans Mono',consolas,'Courier New',monospace\"><span style=\"color: #7fbfbf; text-decoration-color: #7fbfbf\">                    </span><span style=\"color: #000080; text-decoration-color: #000080\">INFO    </span> 开始创建数据库表结构                                                     <a href=\"file:///Users/min/Developer/Xdata/.venv/lib/python3.12/site-packages/cryptoservice/storage/schema.py\" target=\"_blank\"><span style=\"color: #7f7f7f; text-decoration-color: #7f7f7f\">schema.py</span></a><span style=\"color: #7f7f7f; text-decoration-color: #7f7f7f\">:</span><a href=\"file:///Users/min/Developer/Xdata/.venv/lib/python3.12/site-packages/cryptoservice/storage/schema.py#127\" target=\"_blank\"><span style=\"color: #7f7f7f; text-decoration-color: #7f7f7f\">127</span></a>\n",
       "</pre>\n"
      ],
      "text/plain": [
       "\u001b[2;36m                   \u001b[0m\u001b[2;36m \u001b[0m\u001b[34mINFO    \u001b[0m 开始创建数据库表结构                                                     \u001b]8;id=987653;file:///Users/min/Developer/Xdata/.venv/lib/python3.12/site-packages/cryptoservice/storage/schema.py\u001b\\\u001b[2mschema.py\u001b[0m\u001b]8;;\u001b\\\u001b[2m:\u001b[0m\u001b]8;id=171053;file:///Users/min/Developer/Xdata/.venv/lib/python3.12/site-packages/cryptoservice/storage/schema.py#127\u001b\\\u001b[2m127\u001b[0m\u001b]8;;\u001b\\\n"
      ]
     },
     "metadata": {},
     "output_type": "display_data"
    },
    {
     "data": {
      "text/html": [
       "<pre style=\"white-space:pre;overflow-x:auto;line-height:normal;font-family:Menlo,'DejaVu Sans Mono',consolas,'Courier New',monospace\"><span style=\"color: #7fbfbf; text-decoration-color: #7fbfbf\">                    </span><span style=\"color: #000080; text-decoration-color: #000080\">INFO    </span> 数据库表结构创建完成                                                     <a href=\"file:///Users/min/Developer/Xdata/.venv/lib/python3.12/site-packages/cryptoservice/storage/schema.py\" target=\"_blank\"><span style=\"color: #7f7f7f; text-decoration-color: #7f7f7f\">schema.py</span></a><span style=\"color: #7f7f7f; text-decoration-color: #7f7f7f\">:</span><a href=\"file:///Users/min/Developer/Xdata/.venv/lib/python3.12/site-packages/cryptoservice/storage/schema.py#146\" target=\"_blank\"><span style=\"color: #7f7f7f; text-decoration-color: #7f7f7f\">146</span></a>\n",
       "</pre>\n"
      ],
      "text/plain": [
       "\u001b[2;36m                   \u001b[0m\u001b[2;36m \u001b[0m\u001b[34mINFO    \u001b[0m 数据库表结构创建完成                                                     \u001b]8;id=654791;file:///Users/min/Developer/Xdata/.venv/lib/python3.12/site-packages/cryptoservice/storage/schema.py\u001b\\\u001b[2mschema.py\u001b[0m\u001b]8;;\u001b\\\u001b[2m:\u001b[0m\u001b]8;id=411232;file:///Users/min/Developer/Xdata/.venv/lib/python3.12/site-packages/cryptoservice/storage/schema.py#146\u001b\\\u001b[2m146\u001b[0m\u001b]8;;\u001b\\\n"
      ]
     },
     "metadata": {},
     "output_type": "display_data"
    },
    {
     "data": {
      "text/html": [
       "<pre style=\"white-space:pre;overflow-x:auto;line-height:normal;font-family:Menlo,'DejaVu Sans Mono',consolas,'Courier New',monospace\"><span style=\"color: #7fbfbf; text-decoration-color: #7fbfbf\">                    </span><span style=\"color: #000080; text-decoration-color: #000080\">INFO    </span> 数据库初始化完成: ..<span style=\"color: #800080; text-decoration-color: #800080\">/data/database/</span><span style=\"color: #ff00ff; text-decoration-color: #ff00ff\">market.db</span>                            <a href=\"file:///Users/min/Developer/Xdata/.venv/lib/python3.12/site-packages/cryptoservice/storage/database.py\" target=\"_blank\"><span style=\"color: #7f7f7f; text-decoration-color: #7f7f7f\">database.py</span></a><span style=\"color: #7f7f7f; text-decoration-color: #7f7f7f\">:</span><a href=\"file:///Users/min/Developer/Xdata/.venv/lib/python3.12/site-packages/cryptoservice/storage/database.py#74\" target=\"_blank\"><span style=\"color: #7f7f7f; text-decoration-color: #7f7f7f\">74</span></a>\n",
       "</pre>\n"
      ],
      "text/plain": [
       "\u001b[2;36m                   \u001b[0m\u001b[2;36m \u001b[0m\u001b[34mINFO    \u001b[0m 数据库初始化完成: ..\u001b[35m/data/database/\u001b[0m\u001b[95mmarket.db\u001b[0m                            \u001b]8;id=508907;file:///Users/min/Developer/Xdata/.venv/lib/python3.12/site-packages/cryptoservice/storage/database.py\u001b\\\u001b[2mdatabase.py\u001b[0m\u001b]8;;\u001b\\\u001b[2m:\u001b[0m\u001b]8;id=225908;file:///Users/min/Developer/Xdata/.venv/lib/python3.12/site-packages/cryptoservice/storage/database.py#74\u001b\\\u001b[2m74\u001b[0m\u001b]8;;\u001b\\\n"
      ]
     },
     "metadata": {},
     "output_type": "display_data"
    },
    {
     "data": {
      "text/html": [
       "<pre style=\"white-space:pre;overflow-x:auto;line-height:normal;font-family:Menlo,'DejaVu Sans Mono',consolas,'Courier New',monospace\"><span style=\"color: #7fbfbf; text-decoration-color: #7fbfbf\">                    </span><span style=\"color: #000080; text-decoration-color: #000080\">INFO    </span> 查询K线数据完成: <span style=\"color: #008080; text-decoration-color: #008080; font-weight: bold\">3680</span> 条记录                                        <a href=\"file:///Users/min/Developer/Xdata/.venv/lib/python3.12/site-packages/cryptoservice/storage/queries/kline_query.py\" target=\"_blank\"><span style=\"color: #7f7f7f; text-decoration-color: #7f7f7f\">kline_query.py</span></a><span style=\"color: #7f7f7f; text-decoration-color: #7f7f7f\">:</span><a href=\"file:///Users/min/Developer/Xdata/.venv/lib/python3.12/site-packages/cryptoservice/storage/queries/kline_query.py#101\" target=\"_blank\"><span style=\"color: #7f7f7f; text-decoration-color: #7f7f7f\">101</span></a>\n",
       "</pre>\n"
      ],
      "text/plain": [
       "\u001b[2;36m                   \u001b[0m\u001b[2;36m \u001b[0m\u001b[34mINFO    \u001b[0m 查询K线数据完成: \u001b[1;36m3680\u001b[0m 条记录                                        \u001b]8;id=371302;file:///Users/min/Developer/Xdata/.venv/lib/python3.12/site-packages/cryptoservice/storage/queries/kline_query.py\u001b\\\u001b[2mkline_query.py\u001b[0m\u001b]8;;\u001b\\\u001b[2m:\u001b[0m\u001b]8;id=793108;file:///Users/min/Developer/Xdata/.venv/lib/python3.12/site-packages/cryptoservice/storage/queries/kline_query.py#101\u001b\\\u001b[2m101\u001b[0m\u001b]8;;\u001b\\\n"
      ]
     },
     "metadata": {},
     "output_type": "display_data"
    },
    {
     "name": "stdout",
     "output_type": "stream",
     "text": [
      "处理第 1 块，包含 1000 行数据\n",
      "处理第 2 块，包含 1000 行数据\n",
      "处理第 3 块，包含 1000 行数据\n",
      "处理第 4 块，包含 680 行数据\n",
      "\n",
      "总共处理了 4 块数据，共 3680 行\n"
     ]
    }
   ],
   "source": [
    "# 示例3: 分块迭代K线数据（适用于大量数据）\n",
    "from cryptoservice.models import Freq\n",
    "from cryptoservice.storage import Database\n",
    "\n",
    "db = Database('../data/database/market.db')\n",
    "\n",
    "# 获取前5个符号\n",
    "symbols = await db.get_symbols(freq=Freq.h1)\n",
    "symbols = symbols[:5]\n",
    "\n",
    "# 分块处理数据，每次处理1000行\n",
    "chunk_num = 0\n",
    "total_rows = 0\n",
    "\n",
    "async for chunk_df in db.iter_klines_chunked(\n",
    "    symbols,\n",
    "    start_time=\"2024-10-01\",\n",
    "    end_time=\"2024-10-31\",\n",
    "    freq=Freq.h1,\n",
    "    chunk_size=1000\n",
    "):\n",
    "    chunk_num += 1\n",
    "    total_rows += len(chunk_df)\n",
    "    print(f\"处理第 {chunk_num} 块，包含 {len(chunk_df)} 行数据\")\n",
    "    \n",
    "print(f\"\\n总共处理了 {chunk_num} 块数据，共 {total_rows} 行\")\n"
   ]
  }
 ],
 "metadata": {
  "kernelspec": {
   "display_name": ".venv",
   "language": "python",
   "name": "python3"
  },
  "language_info": {
   "codemirror_mode": {
    "name": "ipython",
    "version": 3
   },
   "file_extension": ".py",
   "mimetype": "text/x-python",
   "name": "python",
   "nbconvert_exporter": "python",
   "pygments_lexer": "ipython3",
   "version": "3.12.11"
  }
 },
 "nbformat": 4,
 "nbformat_minor": 5
}
