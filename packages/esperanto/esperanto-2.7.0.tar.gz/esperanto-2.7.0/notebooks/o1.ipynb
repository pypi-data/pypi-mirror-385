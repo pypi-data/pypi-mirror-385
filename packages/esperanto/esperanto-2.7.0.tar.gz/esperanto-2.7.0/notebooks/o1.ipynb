{
 "cells": [
  {
   "cell_type": "code",
   "execution_count": 1,
   "metadata": {},
   "outputs": [
    {
     "name": "stdout",
     "output_type": "stream",
     "text": [
      "The capital of France is Paris.\n"
     ]
    }
   ],
   "source": [
    "from esperanto import AIFactory\n",
    "\n",
    "model = AIFactory.create_language(\"openai\", \"o3-mini\", config={\"temperature\": 1, \"top_p\": 1, \"max_tokens\": 3000})\n",
    "messages = [\n",
    "    {\"role\": \"user\", \"content\": \"You are a helpful assistant.\"},\n",
    "    {\"role\": \"user\", \"content\": \"What's the capital of France?\"},\n",
    "]\n",
    "response = model.chat_complete(messages)\n",
    "print(response.choices[0].message.content)"
   ]
  },
  {
   "cell_type": "code",
   "execution_count": 4,
   "metadata": {},
   "outputs": [
    {
     "name": "stdout",
     "output_type": "stream",
     "text": [
      "ChatCompletion(id='chatcmpl-AxH6H8eCZfRfRrfWQXaZmNp9KVuJd', choices=[ChatCompletionChoice(index=0, message=Message(content='The capital of France is Paris.', role='assistant', function_call=None, tool_calls=None), finish_reason='stop')], model='o3-mini-2025-01-31', provider='openai', created=1738690449, usage=Usage(prompt_tokens=22, completion_tokens=145, total_tokens=167), object='chat.completion')\n",
      "------------------\n",
      "content='The capital of France is Paris.' additional_kwargs={'refusal': None} response_metadata={'token_usage': {'completion_tokens': 145, 'prompt_tokens': 22, 'total_tokens': 167, 'completion_tokens_details': {'accepted_prediction_tokens': 0, 'audio_tokens': 0, 'reasoning_tokens': 128, 'rejected_prediction_tokens': 0}, 'prompt_tokens_details': {'audio_tokens': 0, 'cached_tokens': 0}}, 'model_name': 'o3-mini-2025-01-31', 'system_fingerprint': 'fp_8bcaa0ca21', 'finish_reason': 'stop', 'logprobs': None} id='run-f161c0d4-a198-48b8-bac0-520d78ed66ff-0' usage_metadata={'input_tokens': 22, 'output_tokens': 145, 'total_tokens': 167, 'input_token_details': {'audio': 0, 'cache_read': 0}, 'output_token_details': {'audio': 0, 'reasoning': 128}}\n"
     ]
    }
   ],
   "source": [
    "from pydantic import BaseModel\n",
    "\n",
    "from typing import Optional\n",
    "from esperanto import AIFactory\n",
    "\n",
    "class LLMConfig(BaseModel):\n",
    "    provider: Optional[str] = None\n",
    "    model_name: Optional[str] = None\n",
    "    config: Optional[dict]\n",
    "\n",
    "ANALYSIS_LLM_CONFIG = dict(\n",
    "    provider=\"openai\",\n",
    "    model_name=\"o3-mini\",\n",
    "    config={\"temperature\": 0.8, \"top_p\": 0.1, \"max_tokens\": 1500},\n",
    ")\n",
    "\n",
    "model = AIFactory.create_language(**ANALYSIS_LLM_CONFIG)\n",
    "\n",
    "messages = [\n",
    "    {\"role\": \"user\", \"content\": \"You are a helpful assistant.\"},\n",
    "    {\"role\": \"user\", \"content\": \"What's the capital of France?\"},\n",
    "]\n",
    "\n",
    "\n",
    "# no langchain\n",
    "response = model.chat_complete(messages)\n",
    "print(response)\n",
    "print(\"------------------\")\n",
    "langchain_model = model.to_langchain()\n",
    "response = langchain_model.invoke(messages)\n",
    "print(response)"
   ]
  }
 ],
 "metadata": {
  "kernelspec": {
   "display_name": ".venv",
   "language": "python",
   "name": "python3"
  },
  "language_info": {
   "codemirror_mode": {
    "name": "ipython",
    "version": 3
   },
   "file_extension": ".py",
   "mimetype": "text/x-python",
   "name": "python",
   "nbconvert_exporter": "python",
   "pygments_lexer": "ipython3",
   "version": "3.13.1"
  }
 },
 "nbformat": 4,
 "nbformat_minor": 2
}
