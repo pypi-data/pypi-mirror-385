{
 "cells": [
  {
   "cell_type": "code",
   "execution_count": 2,
   "metadata": {},
   "outputs": [
    {
     "name": "stdout",
     "output_type": "stream",
     "text": [
      "[]\n"
     ]
    }
   ],
   "source": [
    "from esperanto import AIFactory\n",
    "\n",
    "model = AIFactory.create_speech_to_text(\"groq\")\n",
    "print(model.models)\n"
   ]
  },
  {
   "cell_type": "code",
   "execution_count": 1,
   "metadata": {},
   "outputs": [
    {
     "name": "stdout",
     "output_type": "stream",
     "text": [
      " Bem-vindos ao Supernova Podcast, seu podcast pessoal de IA generativa. Hoje temos o prazer de receber Luiz Novo, o criador do Open Notebook, uma alternativa open source e focada em privacidade ao Notebook LM. Luiz, seja bem-vindo. Obrigado pelo convite. É um prazer estar aqui. Luiz, a sua história com a aprendizagem é fascinante. Começando como autodidata e evoluindo para fundador de uma empresa de educação. E agora, o Open Notebook. Conte-nos um pouco sobre essa jornada e o que te motivou a criar essa ferramenta. Desde jovem, sempre tive paixão por aprender. Apilhas de cadernos com anotações, rascunhos e ideias me levaram a descobrir que ensinar era a melhor forma de aprender. Aos 17, comecei a dar aulas de programação, o que me ajudou a superar a timidez e a expandir minhas habilidades. Fundei a SCORE, focada em tornar o aprendizado mais eficaz, mas sentia que faltava algo. Percebi que a curiosidade genuína é essencial, e muitos treinamentos corporativos careciam disso. Ap a Score busquei contribuir de forma mais significativa E da surgiu o Open Notebook Interessante Voc mencionou o Notebook LM do Google como inspira O que te levou a criar uma alternativa open source? O Notebook LM foi um ótimo primeiro passo, mas senti que faltavam elementos cruciais, como privacidade, abertura e customização real. Quis criar uma ferramenta que colocasse o poder de aprendizado nas mãos dos usuários, sem comprometer seus dados. Hoje, a autoaprendizagem não é mais um diferencial. É uma necessidade na era da transformação digital. Quero contribuir para que o máximo de pessoas possível tenham acesso a ferramentas poderosas de conhecimento, sem abrir mão da sua privacidade. Entendo. E como o Open Notebook se diferencia em termos de funcionalidades? O Open Notebook oferece suporte a múltiplos cadernos, integração com diversos tipos de conteúdo, desde links e PDFs até vídeos do YouTube. Permite criar notas com auxílio de IA, resumir documentos complexos e conta com mecanismos de busca integrados. O controle granular de contexto permite que o usuário decida quanta informação a IA pode acessar, priorizando privacidade e controle de custos. Falando em IA o Open Notebook compat com diferentes provedores certo Isso uma grande vantagem para os usu Exatamente Suportamos OpenAI, Anthropic, Vertex AI e outros, dando flexibilidade na escolha da IA que melhor se adapta às necessidades de cada um. A versão 0.0.3 trouxe novidades como as transformações que permitem extrair ainda mais valor do conteúdo, convertendo-o em análises detalhadas, resumos e até artigos. E como funciona a interface do usuário? É intuitiva? Sim. A página do notebook é dividida em três seções principais. Fontes, para gerenciar os materiais de pesquisa. Notas, para anotações pessoais ou geradas pela IA. E chat, para interagir diretamente com a IA usando o conteúdo como contexto. O usuário tem total controle sobre o contexto compartilhado com a IA, equilibrando eficiência e custo. Parece realmente promissor. Quais são os planos para o futuro do Open Notebook? Estamos trabalhando em recursos empolgantes, como um gerador de podcasts para transformar notas em episódios, melhorias nas citações e suporte a múltiplas sessões de chat. Queremos tornar a pesquisa mais acess informativa e eficiente para todos Luiz voc mencionou Richard Feynman e o m Zettelkasten como inspira Como essas filosofias influenciaram o desenvolvimento do Open Notebook? A ênfase de Feynman na curiosidade e na desconstrução de conceitos complexos e a abordagem estruturada do Zettelkasten para conectar ideias foram fundamentais para moldar a visão do Open Notebook. A ideia é empoderar o usuário a construir seu próprio conhecimento de forma organizada e significativa, com a ajuda da IA, mas sem depender de grandes corporações. É inspirador ver como a sua paixão pelo aprendizado se traduz em um projeto tão inovador. Parabéns pelo trabalho, Luiz! Algum último comentário para os nossos ouvintes? Gostaria de convidar a todos a explorarem o Open Notebook e a contribuírem para o projeto. Acredito que juntos podemos construir um futuro onde o aprendizado seja verdadeiramente acessível e empoderador. O projeto é open source e a contribuição de todos é bem-vinda. Um grande obrigado ao Luiz Novo por compartilhar conosco sua visão e seu trabalho com o Open Notebook. E a vocês, ouvintes, obrigado por nos acompanharem. Até o próximo episódio do Supernova Podcast. Love you all!\n"
     ]
    }
   ],
   "source": [
    "from esperanto import AIFactory\n",
    "\n",
    "model = AIFactory.create_speech_to_text(\"groq\", \"whisper-large-v3-turbo\")\n",
    "audio_file = open(\"podcast.mp3\", \"rb\")\n",
    "transcription = model.transcribe(audio_file)\n",
    "print(transcription.text)"
   ]
  },
  {
   "cell_type": "code",
   "execution_count": 1,
   "metadata": {},
   "outputs": [
    {
     "name": "stderr",
     "output_type": "stream",
     "text": [
      "/var/folders/cl/346yd2sd3vz399s0m2c_ynvr0000gn/T/ipykernel_27057/1002582597.py:3: DeprecationWarning: create_stt() is deprecated and will be removed in a future version. Use create_speech_to_text() instead.\n",
      "  model = AIFactory.create_stt(\"openai\", \"whisper-1\")\n"
     ]
    },
    {
     "name": "stdout",
     "output_type": "stream",
     "text": [
      "Bem-vindos ao Supernova Podcast, seu podcast pessoal de IA generativa. Hoje, temos o prazer de receber Luís Novo, o criador do Open Notebook, uma alternativa open source e focada em privacidade ao notebook LM. Luís, seja bem-vindo. Obrigado pelo convite. É um prazer estar aqui. Luís, a sua história com a aprendizagem é fascinante. Começando como autodidata e evoluindo para fundador de uma empresa de educação. E agora, o Open Notebook. Conte-nos um pouco sobre essa jornada e o que te motivou a criar essa ferramenta. Desde jovem, sempre tive paixão por aprender. Apilhas de cadernos com anotações, rascunhos e ideias me levaram a descobrir que ensinar era a melhor forma de aprender. Aos 17, comecei a dar aulas de programação, o que me ajudou a superar a timidez e a expandir minhas habilidades. Fundei a SCORE, focada em tornar o aprendizado mais eficaz, mas sentia que faltava algo. Percebi que a curiosidade genuína é essencial e muitos treinamentos corporativos careciam disso. Após a SCORE, busquei contribuir de forma mais significativa e daí surgiu o Open Notebook. Interessante! Você mencionou o Notebook LM do Google como inspiração, o que te levou a criar uma alternativa open source. O Notebook LM foi um ótimo primeiro passo, mas senti que faltavam elementos cruciais, como privacidade, abertura e customização real. Quis criar uma ferramenta que colocasse o poder de aprendizado nas mãos dos usuários, sem comprometer seus dados. Hoje, a autoaprendizagem não é mais um diferencial. É uma necessidade na era da transformação digital. Quero contribuir para que o máximo de pessoas possível tenham acesso a ferramentas poderosas de conhecimento, sem abrir mão da sua privacidade. Entendo. E como o Open Notebook se diferencia em termos de funcionalidades? O Open Notebook oferece suporte a múltiplos cadernos, integração com diversos tipos de conteúdo, desde links e PDFs até vídeos do YouTube. Permite criar notas com o auxílio de IA, resumir documentos complexos e conta com mecanismos de busca integrados. O controle granular de contexto permite que o usuário decida quanta informação a IA pode acessar, priorizando privacidade e controle de custos. Falando em IA, o Open Notebook é compatível com diferentes provedores, certo? Isso é uma grande vantagem para os usuários. Exatamente. Suportamos OpenAI, Antropic, Vertex AI e outros, dando flexibilidade na escolha da IA que melhor se adapta às necessidades de cada um. A versão 0.0.3 trouxe novidades como as transformações, que permitem extrair ainda mais valor do conteúdo, convertendo-o em análises detalhadas, resumos e até artigos. E como funciona a interface do usuário? É intuitiva? Sim. A página do notebook é dividida em três sessões principais. Fontes, para gerenciar os materiais de pesquisa. Notas, para anotações pessoais ou geradas pela IA. E chat, para interagir diretamente com a IA usando o conteúdo como contexto. O usuário tem total controle sobre o contexto compartilhado com a IA, equilibrando eficiência e custo. Parece realmente promissor. Quais são os planos para o futuro do Open Notebook? Estamos trabalhando em recursos empolgantes, como um gerador de podcasts para transformar notas em episódios, melhorias nas citações e suporte a múltiplas sessões de chat. Queremos tornar a pesquisa mais acessível, informativa e eficiente para todos. Luiz, você mencionou Richard Feynman e o método Zettelkasten como inspirações. Como essas filosofias influenciaram o desenvolvimento do Open Notebook? A ênfase de Feynman na curiosidade e na desconstrução de conceitos complexos e a abordagem estruturada do Zettelkasten para conectar ideias foram fundamentais para moldar a visão do Open Notebook. A ideia é empoderar o usuário a construir seu próprio conhecimento de forma organizada e significativa, com a ajuda da IA, mas sem depender de grandes corporações. É inspirador ver como a sua paixão pelo aprendizado se traduz em um projeto tão inovador. Parabéns pelo trabalho, Luiz! Algum último comentário para os nossos ouvintes? Gostaria de convidar a todos a explorarem o Open Notebook e a contribuírem para o projeto. Acredito que juntos podemos construir um futuro onde o aprendizado seja verdadeiramente acessível e empoderador. O projeto é open source e a contribuição de todos é bem-vinda. Um grande obrigado ao Luiz Novo por compartilhar conosco sua visão e seu trabalho com o Open Notebook. E a vocês, ouvintes, obrigado por nos acompanharem. Até o próximo episódio do Supernova Podcast! Love you all!\n"
     ]
    }
   ],
   "source": [
    "from esperanto import AIFactory\n",
    "\n",
    "model = AIFactory.create_speech_to_text(\"openai\", \"whisper-1\")\n",
    "audio_file = open(\"podcast.mp3\", \"rb\")\n",
    "transcription = await model.atranscribe(audio_file)\n",
    "print(transcription.text)"
   ]
  },
  {
   "cell_type": "code",
   "execution_count": 2,
   "metadata": {},
   "outputs": [
    {
     "name": "stdout",
     "output_type": "stream",
     "text": [
      "Bem-vindos ao Supernova Podcast, seu podcast pessoal de IA generativa. Hoje temos o prazer de receber Luiz Novo, o criador do Open Notebook, uma alternativa open source e focada em privacidade ao notebook LM. Luiz, seja bem-vindo! Obrigado pelo convite, é um prazer estar aqui. Luiz, a sua história com a aprendizagem é fascinante. Começando como autodidata e evoluindo para fundador de uma empresa de educação. E agora, o Open Notebook. Conte-nos um pouco sobre essa jornada e o que te motivou a criar essa ferramenta. Desde jovem, sempre tive paixão por aprender. Há pilhas de cadernos com anotações, rascunhos e ideias, me levaram a descobrir que ensinar era a melhor forma de aprender. Aos dezessete, comecei a dar aulas de programação, o que me ajudou a superar a timidez e a expandir minhas habilidades. Fundei a Score, focada em tornar o aprendizado mais eficaz, mas sentia que faltava algo. Percebi que a curiosidade genuína é essencial e muitos treinamentos corporativos careciam disso. Após a Score, busquei contribuir de forma mais significativa, e daí surgiu o Open Notebook. Interessante. Você mencionou o notebook LM, do Google, como inspiração. O que te levou a criar uma alternativa open source? O notebook LM foi um ótimo primeiro passo, mas senti que faltavam elementos cruciais, como privacidade, abertura e customização real. Quis criar uma ferramenta que colocasse o poder de aprendizado nas mãos dos usuários, sem comprometer seus dados. Hoje, a autoaprendizagem não é mais um diferencial. É uma necessidade na era da transformação digital. Quero contribuir para que o máximo de pessoas possível tenham acesso a ferramentas poderosas de conhecimento, sem abrir mão da sua privacidade. Entendo. E como o Open Notebook se diferencia em termos de funcionalidades? O Open Notebook oferece suporte a múltiplos cadernos, integração com diversos tipos de conteúdo, desde links e PDFs até vídeos do YouTube. Permite criar notas com auxílio de IA, resumir documentos complexos e conta com mecanismos de busca integrados. O controle granular de contexto permite que o usuário decida quanta informação a IA pode acessar, priorizando privacidade e controle de custos. Falando em IA, o Open Notebook é compatível com diferentes provedores, certo? Isso é uma grande vantagem para os usuários. Exatamente. Suportamos OpenAI, Anthropic, Vertex AI e outros, dando flexibilidade na escolha da IA que melhor se adapta às necessidades de cada um. A versão zero ponto zero ponto três trouxe novidades como as transformações, que permitem extrair ainda mais valor do conteúdo, convertendo-o em análises detalhadas, resumos e até artigos. E como funciona a interface do usuário? É intuitiva? Sim, a página do notebook é dividida em três seções principais: fontes, para gerenciar os materiais de pesquisa; notas, para anotações pessoais ou geradas pela IA; e chat, para interagir diretamente com a IA usando o conteúdo como contexto. O usuário tem total controle sobre o contexto compartilhado com a IA, equilibrando eficiência e custo. Parece realmente promissor. Quais são os planos para o futuro do Open Notebook? Estamos trabalhando em recursos empolgantes, como um gerador de podcasts para transformar notas em episódios, melhorias nas citações e suporte a múltiplas sessões de chat. Queremos tornar a pesquisa mais acessível, informativa e eficiente para todos. Luiz, você mencionou Richard Feynman e o método Zettelkasten como inspirações. Como essas filosofias influenciaram o desenvolvimento do Open Notebook? A ênfase de Feynman na curiosidade e na desconstrução de conceitos complexos e a abordagem estruturada do Zettelkasten para conectar ideias foram fundamentais para moldar a visão do Open Notebook. A ideia é empoderar o usuário a construir seu próprio conhecimento de forma organizada e significativa, com a ajuda da IA, mas sem depender de grandes corporações. É inspirador ver como a sua paixão pelo aprendizado se traduz em um projeto tão inovador. Parabéns pelo trabalho, Luiz. Algum último comentário para os nossos ouvintes? Gostaria de convidar a todos a explorarem o Open Notebook e a contribuírem para o projeto. Acredito que juntos podemos construir um futuro onde o aprendizado seja verdadeiramente acessível e empoderador. O projeto é open source e a contribuição de todos é bem-vinda. Um grande obrigado ao Luiz Novo por compartilhar conosco sua visão e seu trabalho com o Open Notebook. E a vocês, ouvintes, obrigado por nos acompanharem. Até o próximo episódio do Supernova Podcast. Love you all!\n"
     ]
    }
   ],
   "source": [
    "from esperanto import AIFactory\n",
    "\n",
    "model = AIFactory.create_speech_to_text(\"elevenlabs\", \"scribe_v1\")\n",
    "audio_file = open(\"podcast.mp3\", \"rb\")\n",
    "transcription = await model.atranscribe(audio_file)\n",
    "print(transcription.text)"
   ]
  },
  {
   "cell_type": "code",
   "execution_count": null,
   "metadata": {},
   "outputs": [],
   "source": [
    "# OpenAI-Compatible Speech-to-Text\n",
    "# This provider allows you to use any OpenAI-compatible STT endpoint\n",
    "from esperanto import AIFactory\n",
    "\n",
    "# Example with a local faster-whisper endpoint\n",
    "# Note: Increased timeout for large audio files\n",
    "model = AIFactory.create_speech_to_text(\n",
    "    \"openai-compatible\", \n",
    "    model_name=\"Systran/faster-distil-whisper-small.en\",\n",
    "    config={\n",
    "        \"base_url\": \"http://localhost:8000/v1/\",  # Your OpenAI-compatible endpoint\n",
    "        \"api_key\": \"your-api-key-if-required\",  # Optional, depends on your endpoint\n",
    "        \"timeout\": 600  # 10 minutes timeout for large files (default: 300 seconds)\n",
    "    }\n",
    ")\n",
    "\n",
    "audio_file = open(\"podcast.mp3\", \"rb\")\n",
    "transcription = model.transcribe(audio_file)\n",
    "print(\"OpenAI-Compatible Transcription:\")\n",
    "print(transcription.text)"
   ]
  }
 ],
 "metadata": {
  "kernelspec": {
   "display_name": ".venv",
   "language": "python",
   "name": "python3"
  },
  "language_info": {
   "codemirror_mode": {
    "name": "ipython",
    "version": 3
   },
   "file_extension": ".py",
   "mimetype": "text/x-python",
   "name": "python",
   "nbconvert_exporter": "python",
   "pygments_lexer": "ipython3",
   "version": "3.10.6"
  }
 },
 "nbformat": 4,
 "nbformat_minor": 2
}
