{
 "cells": [
  {
   "cell_type": "code",
   "execution_count": 7,
   "metadata": {},
   "outputs": [
    {
     "name": "stdout",
     "output_type": "stream",
     "text": [
      "response:\n",
      "GenerateContentResponse(\n",
      "    done=True,\n",
      "    iterator=None,\n",
      "    result=protos.GenerateContentResponse({\n",
      "      \"candidates\": [\n",
      "        {\n",
      "          \"content\": {\n",
      "            \"parts\": [\n",
      "              {\n",
      "                \"text\": \"cold\\n\"\n",
      "              }\n",
      "            ],\n",
      "            \"role\": \"model\"\n",
      "          },\n",
      "          \"finish_reason\": \"STOP\",\n",
      "          \"avg_logprobs\": -0.04747001826763153\n",
      "        }\n",
      "      ],\n",
      "      \"usage_metadata\": {\n",
      "        \"prompt_token_count\": 6,\n",
      "        \"candidates_token_count\": 2,\n",
      "        \"total_token_count\": 8\n",
      "      }\n",
      "    }),\n",
      ")\n"
     ]
    },
    {
     "ename": "NameError",
     "evalue": "name 'client' is not defined",
     "output_type": "error",
     "traceback": [
      "\u001b[0;31m---------------------------------------------------------------------------\u001b[0m",
      "\u001b[0;31mNameError\u001b[0m                                 Traceback (most recent call last)",
      "Cell \u001b[0;32mIn[7], line 16\u001b[0m\n\u001b[1;32m      9\u001b[0m   \u001b[38;5;28;01mfor\u001b[39;00m chunk \u001b[38;5;129;01min\u001b[39;00m client\u001b[38;5;241m.\u001b[39mmodels\u001b[38;5;241m.\u001b[39mgenerate_content_stream(\n\u001b[1;32m     10\u001b[0m     model \u001b[38;5;241m=\u001b[39m model,\n\u001b[1;32m     11\u001b[0m     contents \u001b[38;5;241m=\u001b[39m contents,\n\u001b[1;32m     12\u001b[0m     config \u001b[38;5;241m=\u001b[39m generate_content_config,\n\u001b[1;32m     13\u001b[0m     ):\n\u001b[1;32m     14\u001b[0m     \u001b[38;5;28mprint\u001b[39m(chunk\u001b[38;5;241m.\u001b[39mtext, end\u001b[38;5;241m=\u001b[39m\u001b[38;5;124m\"\u001b[39m\u001b[38;5;124m\"\u001b[39m)\n\u001b[0;32m---> 16\u001b[0m \u001b[43mgenerate\u001b[49m\u001b[43m(\u001b[49m\u001b[43m)\u001b[49m\n",
      "Cell \u001b[0;32mIn[7], line 9\u001b[0m, in \u001b[0;36mgenerate\u001b[0;34m()\u001b[0m\n\u001b[1;32m      6\u001b[0m response \u001b[38;5;241m=\u001b[39m model\u001b[38;5;241m.\u001b[39mgenerate_content(\u001b[38;5;124m\"\u001b[39m\u001b[38;5;124mThe opposite of hot is\u001b[39m\u001b[38;5;124m\"\u001b[39m)\n\u001b[1;32m      7\u001b[0m \u001b[38;5;28mprint\u001b[39m(response)\n\u001b[0;32m----> 9\u001b[0m \u001b[38;5;28;01mfor\u001b[39;00m chunk \u001b[38;5;129;01min\u001b[39;00m \u001b[43mclient\u001b[49m\u001b[38;5;241m.\u001b[39mmodels\u001b[38;5;241m.\u001b[39mgenerate_content_stream(\n\u001b[1;32m     10\u001b[0m   model \u001b[38;5;241m=\u001b[39m model,\n\u001b[1;32m     11\u001b[0m   contents \u001b[38;5;241m=\u001b[39m contents,\n\u001b[1;32m     12\u001b[0m   config \u001b[38;5;241m=\u001b[39m generate_content_config,\n\u001b[1;32m     13\u001b[0m   ):\n\u001b[1;32m     14\u001b[0m   \u001b[38;5;28mprint\u001b[39m(chunk\u001b[38;5;241m.\u001b[39mtext, end\u001b[38;5;241m=\u001b[39m\u001b[38;5;124m\"\u001b[39m\u001b[38;5;124m\"\u001b[39m)\n",
      "\u001b[0;31mNameError\u001b[0m: name 'client' is not defined"
     ]
    }
   ],
   "source": [
    "from google.genai import types, GenerativeModel\n",
    "import base64\n",
    "\n",
    "def generate():\n",
    "  model = GenerativeModel('gemini-1.5-flash')\n",
    "  response = model.generate_content(\"The opposite of hot is\")\n",
    "  print(response)\n",
    "  \n",
    "  for chunk in client.models.generate_content_stream(\n",
    "    model = model,\n",
    "    contents = contents,\n",
    "    config = generate_content_config,\n",
    "    ):\n",
    "    print(chunk.text, end=\"\")\n",
    "\n",
    "generate()"
   ]
  },
  {
   "cell_type": "code",
   "execution_count": 8,
   "metadata": {},
   "outputs": [
    {
     "data": {
      "text/plain": [
       "<vertexai.language_models.TextGenerationModel at 0x150d8bcb0>"
      ]
     },
     "execution_count": 8,
     "metadata": {},
     "output_type": "execute_result"
    }
   ],
   "source": [
    "from vertexai.language_models import TextGenerationModel\n",
    "TextGenerationModel(model_id=\"gemini-1.5-flash\")\n",
    "\n",
    "\n",
    "predict(\n",
    "    prompt: str,\n",
    "    *,\n",
    "    max_output_tokens: typing.Optional[int] = 128,\n",
    "    temperature: typing.Optional[float] = None,\n",
    "    top_k: typing.Optional[int] = None,\n",
    "    top_p: typing.Optional[float] = None,\n",
    "    stop_sequences: typing.Optional[typing.List[str]] = None,\n",
    "    candidate_count: typing.Optional[int] = None,\n",
    "    grounding_source: typing.Optional[\n",
    "        typing.Union[\n",
    "            vertexai.language_models._language_models.WebSearch,\n",
    "            vertexai.language_models._language_models.VertexAISearch,\n",
    "            vertexai.language_models._language_models.InlineContext,\n",
    "        ]\n",
    "    ] = None,\n",
    "    logprobs: typing.Optional[int] = None,\n",
    "    presence_penalty: typing.Optional[float] = None,\n",
    "    frequency_penalty: typing.Optional[float] = None,\n",
    "    logit_bias: typing.Optional[typing.Dict[str, float]] = None,\n",
    "    seed: typing.Optional[int] = None\n",
    ") -> vertexai.language_models.MultiCandidateTextGenerationResponse\n",
    "\n",
    "\n",
    "\n",
    "predict_async(\n",
    "    prompt: str,\n",
    "    *,\n",
    "    max_output_tokens: typing.Optional[int] = 128,\n",
    "    temperature: typing.Optional[float] = None,\n",
    "    top_k: typing.Optional[int] = None,\n",
    "    top_p: typing.Optional[float] = None,\n",
    "    stop_sequences: typing.Optional[typing.List[str]] = None,\n",
    "    candidate_count: typing.Optional[int] = None,\n",
    "    grounding_source: typing.Optional[\n",
    "        typing.Union[\n",
    "            vertexai.language_models._language_models.WebSearch,\n",
    "            vertexai.language_models._language_models.VertexAISearch,\n",
    "            vertexai.language_models._language_models.InlineContext,\n",
    "        ]\n",
    "    ] = None,\n",
    "    logprobs: typing.Optional[int] = None,\n",
    "    presence_penalty: typing.Optional[float] = None,\n",
    "    frequency_penalty: typing.Optional[float] = None,\n",
    "    logit_bias: typing.Optional[typing.Dict[str, float]] = None,\n",
    "    seed: typing.Optional[int] = None\n",
    ") -> vertexai.language_models.MultiCandidateTextGenerationResponse\n",
    "\n",
    "\n",
    "predict_streaming_async(\n",
    "    prompt: str,\n",
    "    *,\n",
    "    max_output_tokens: int = 128,\n",
    "    temperature: typing.Optional[float] = None,\n",
    "    top_k: typing.Optional[int] = None,\n",
    "    top_p: typing.Optional[float] = None,\n",
    "    stop_sequences: typing.Optional[typing.List[str]] = None,\n",
    "    logprobs: typing.Optional[int] = None,\n",
    "    presence_penalty: typing.Optional[float] = None,\n",
    "    frequency_penalty: typing.Optional[float] = None,\n",
    "    logit_bias: typing.Optional[typing.Dict[str, float]] = None,\n",
    "    seed: typing.Optional[int] = None\n",
    ") -> typing.AsyncIterator[vertexai.language_models.TextGenerationResponse]\n",
    "\n",
    "\n"
   ]
  }
 ],
 "metadata": {
  "kernelspec": {
   "display_name": ".venv",
   "language": "python",
   "name": "python3"
  },
  "language_info": {
   "codemirror_mode": {
    "name": "ipython",
    "version": 3
   },
   "file_extension": ".py",
   "mimetype": "text/x-python",
   "name": "python",
   "nbconvert_exporter": "python",
   "pygments_lexer": "ipython3",
   "version": "3.13.1"
  }
 },
 "nbformat": 4,
 "nbformat_minor": 2
}
