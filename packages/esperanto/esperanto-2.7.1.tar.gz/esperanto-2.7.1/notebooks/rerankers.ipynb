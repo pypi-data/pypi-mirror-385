{
 "cells": [
  {
   "cell_type": "code",
   "execution_count": null,
   "id": "62636470",
   "metadata": {},
   "outputs": [
    {
     "name": "stdout",
     "output_type": "stream",
     "text": [
      "-----------------------\n",
      "\n",
      "Results for jina jina-reranker-v2-base-multilingual:\n",
      "Score: 1.000 - Cuidado de la piel orgánico para piel sensible con aloe vera y manzanilla: Descubre el poder de la n...\n",
      "Score: 0.206 - Organic skincare for sensitive skin with aloe vera and chamomile: Imagine the soothing embrace of na...\n",
      "Score: 0.000 - Bio-Hautpflege für empfindliche Haut mit Aloe Vera und Kamille: Erleben Sie die wohltuende Wirkung u...\n"
     ]
    }
   ],
   "source": [
    "from esperanto import AIFactory\n",
    "\n",
    "reranker_models = [\n",
    "    (\"jina\", \"jina-reranker-v2-base-multilingual\"),\n",
    "    (\"voyage\", \"rerank-2\"),\n",
    "    (\"transformers\", \"Qwen/Qwen3-Reranker-0.6B\"),\n",
    "    (\"transformers\", \"cross-encoder/ms-marco-MiniLM-L-6-v2\"),\n",
    "    (\"transformers\", \"BAAI/bge-reranker-base\"),\n",
    "    (\"transformers\", \"jinaai/jina-reranker-v2-base-multilingual\"),\n",
    "    (\"transformers\", \"mixedbread-ai/mxbai-rerank-base-v2\"),\n",
    "]\n",
    "\n",
    "documents = [\n",
    "    \"Organic skincare for sensitive skin with aloe vera and chamomile: Imagine the soothing embrace of nature with our organic skincare range, crafted specifically for sensitive skin. Infused with the calming properties of aloe vera and chamomile, each product provides gentle nourishment and protection. Say goodbye to irritation and hello to a glowing, healthy complexion.\",\n",
    "    \"New makeup trends focus on bold colors and innovative techniques: Step into the world of cutting-edge beauty with this seasons makeup trends. Bold, vibrant colors and groundbreaking techniques are redefining the art of makeup. From neon eyeliners to holographic highlighters, unleash your creativity and make a statement with every look.\",\n",
    "    \"Bio-Hautpflege für empfindliche Haut mit Aloe Vera und Kamille: Erleben Sie die wohltuende Wirkung unserer Bio-Hautpflege, speziell für empfindliche Haut entwickelt. Mit den beruhigenden Eigenschaften von Aloe Vera und Kamille pflegen und schützen unsere Produkte Ihre Haut auf natürliche Weise. Verabschieden Sie sich von Hautirritationen und genießen Sie einen strahlenden Teint.\",\n",
    "    \"Eu passeio com meu cachorro todos os dias. \",\n",
    "    \"Cuidado de la piel orgánico para piel sensible con aloe vera y manzanilla: Descubre el poder de la naturaleza con nuestra línea de cuidado de la piel orgánico, diseñada especialmente para pieles sensibles. Enriquecidos con aloe vera y manzanilla, estos productos ofrecen una hidratación y protección suave. Despídete de las irritaciones y saluda a una piel radiante y saludable.\",\n",
    "]\n",
    "\n",
    "query = \"Beneficios do Aloe Vera para a pele\"\n",
    "top_k = 3\n",
    "\n",
    "for provider, model in reranker_models:\n",
    "    try:\n",
    "        print(\"-----------------------\")\n",
    "        print(f\"\\nResults for {provider} {model}:\")\n",
    "        reranker = AIFactory.create_reranker(provider, model)\n",
    "        results = reranker.rerank(query, documents, top_k)\n",
    "        for result in results.results:\n",
    "            print(f\"Score: {result.relevance_score:.3f} - {result.document[:100]}...\")\n",
    "    except Exception as e:\n",
    "        print(f\"Error with {provider} {model}: {str(e)}\")"
   ]
  },
  {
   "cell_type": "code",
   "execution_count": 2,
   "id": "ec234274",
   "metadata": {},
   "outputs": [
    {
     "name": "stdout",
     "output_type": "stream",
     "text": [
      "-----------------------\n",
      "\n",
      "Results for transformers Qwen/Qwen3-Reranker-0.6B:\n",
      "Score: 1.000 - Bio-Hautpflege für empfindliche Haut mit Aloe Vera und Kamille: Erleben Sie die wohltuende Wirkung u...\n",
      "Score: 0.999 - Cuidado de la piel orgánico para piel sensible con aloe vera y manzanilla: Descubre el poder de la n...\n",
      "Score: 0.987 - Organic skincare for sensitive skin with aloe vera and chamomile: Imagine the soothing embrace of na...\n",
      "-----------------------\n",
      "\n",
      "Results for transformers cross-encoder/ms-marco-MiniLM-L-6-v2:\n",
      "Score: 1.000 - Cuidado de la piel orgánico para piel sensible con aloe vera y manzanilla: Descubre el poder de la n...\n",
      "Score: 0.487 - Bio-Hautpflege für empfindliche Haut mit Aloe Vera und Kamille: Erleben Sie die wohltuende Wirkung u...\n",
      "Score: 0.436 - Organic skincare for sensitive skin with aloe vera and chamomile: Imagine the soothing embrace of na...\n",
      "-----------------------\n",
      "\n",
      "Results for transformers BAAI/bge-reranker-base:\n",
      "Score: 1.000 - Cuidado de la piel orgánico para piel sensible con aloe vera y manzanilla: Descubre el poder de la n...\n",
      "Score: 0.033 - Bio-Hautpflege für empfindliche Haut mit Aloe Vera und Kamille: Erleben Sie die wohltuende Wirkung u...\n",
      "Score: 0.010 - Organic skincare for sensitive skin with aloe vera and chamomile: Imagine the soothing embrace of na...\n",
      "-----------------------\n",
      "\n",
      "Results for transformers jinaai/jina-reranker-v2-base-multilingual:\n",
      "Score: 1.000 - Cuidado de la piel orgánico para piel sensible con aloe vera y manzanilla: Descubre el poder de la n...\n",
      "Score: 0.770 - Organic skincare for sensitive skin with aloe vera and chamomile: Imagine the soothing embrace of na...\n",
      "Score: 0.704 - Bio-Hautpflege für empfindliche Haut mit Aloe Vera und Kamille: Erleben Sie die wohltuende Wirkung u...\n",
      "-----------------------\n",
      "\n",
      "Results for transformers mixedbread-ai/mxbai-rerank-base-v2:\n",
      "Score: 1.000 - Organic skincare for sensitive skin with aloe vera and chamomile: Imagine the soothing embrace of na...\n",
      "Score: 0.942 - New makeup trends focus on bold colors and innovative techniques: Step into the world of cutting-edg...\n",
      "Score: 0.832 - Bio-Hautpflege für empfindliche Haut mit Aloe Vera und Kamille: Erleben Sie die wohltuende Wirkung u...\n"
     ]
    }
   ],
   "source": [
    "for provider, model in reranker_models:\n",
    "    try:\n",
    "        print(\"-----------------------\")\n",
    "    \n",
    "        print(f\"\\nResults for {provider} {model}:\")\n",
    "        reranker = AIFactory.create_reranker(provider, model)\n",
    "        results = await reranker.arerank(query, documents, top_k)\n",
    "        for result in results.results:\n",
    "            print(f\"Score: {result.relevance_score:.3f} - {result.document[:100]}...\")\n",
    "    except Exception as e:\n",
    "        print(f\"Error with {provider} {model}: {str(e)}\")"
   ]
  }
 ],
 "metadata": {
  "kernelspec": {
   "display_name": ".venv",
   "language": "python",
   "name": "python3"
  },
  "language_info": {
   "codemirror_mode": {
    "name": "ipython",
    "version": 3
   },
   "file_extension": ".py",
   "mimetype": "text/x-python",
   "name": "python",
   "nbconvert_exporter": "python",
   "pygments_lexer": "ipython3",
   "version": "3.10.6"
  }
 },
 "nbformat": 4,
 "nbformat_minor": 5
}
