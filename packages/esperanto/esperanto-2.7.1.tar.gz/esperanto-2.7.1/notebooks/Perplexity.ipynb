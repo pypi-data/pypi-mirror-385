{
 "cells": [
  {
   "cell_type": "code",
   "execution_count": 2,
   "id": "eba63360",
   "metadata": {},
   "outputs": [
    {
     "name": "stdout",
     "output_type": "stream",
     "text": [
      "Absolutely! Here’s a roundup of the latest AI news as of June 2025:\n",
      "\n",
      "---\n",
      "\n",
      "## Top AI Headlines (June 2025)\n",
      "\n",
      "### 1. **OpenAI Releases GPT-5**\n",
      "OpenAI has officially launched GPT-5, the next-generation language model. Early reports highlight significant improvements in reasoning, contextual understanding, and multimodal capabilities (handling both text and images). Developers are excited about its enhanced tools for enterprise use, including better security and customization.\n",
      "\n",
      "### 2. **Google Unveils Gemini Ultra**\n",
      "Google announced Gemini Ultra, an advanced AI model designed for enterprise and research applications. It surpasses previous benchmarks in code generation, scientific reasoning, and real-time translation, positioning it as a strong competitor to OpenAI's offerings.\n",
      "\n",
      "### 3. **AI Regulation Progresses Worldwide**\n",
      "The European Union’s AI Act went into effect this month, setting new standards for AI transparency, accountability, and safety. The US and several Asian countries are also drafting regulations to govern AI deployment, emphasizing ethical use and data privacy.\n",
      "\n",
      "### 4. **AI in Healthcare Breakthroughs**\n",
      "AI models are now being used to design personalized medicine regimens and predict patient outcomes more accurately than ever before. Several hospitals in the US and Europe have reported successful trials integrating AI assistants for diagnostics and administrative tasks.\n",
      "\n",
      "### 5. **Major Advances in AI Agents**\n",
      "Autonomous AI agents that can perform complex multi-step tasks (such as planning a vacation or handling customer service) are being piloted in real-world businesses. Companies are reporting increased productivity and efficiency, but experts warn about the need for robust oversight.\n",
      "\n",
      "### 6. **Creative AI: Art, Music, and Film**\n",
      "AI-generated music and visual art continue to make headlines. A feature-length film co-written by an AI model recently premiered at the Cannes Film Festival, sparking debate about copyright and creativity in the age of AI.\n",
      "\n",
      "### 7. **AI and Cybersecurity**\n",
      "AI-powered cybersecurity tools are now capable of detecting and responding to threats in real-time. However, there’s also concern about AI being used to create more sophisticated cyberattacks, prompting renewed investment in AI safety research.\n",
      "\n",
      "---\n",
      "\n",
      "## **Want More Details?**\n",
      "Let me know if you want in-depth coverage on any of these topics, or if you’re interested in a specific industry or region!\n"
     ]
    }
   ],
   "source": [
    "from esperanto.factory import AIFactory\n",
    "\n",
    "# Ensure PERPLEXITY_API_KEY environment variable is set\n",
    "\n",
    "model = AIFactory.create_language(\n",
    "    provider=\"perplexity\",\n",
    "    model_name=\"sonar-pro\", # Recommended default\n",
    "    config={\n",
    "        \"temperature\": 0.7,         # Optional\n",
    "        \"max_tokens\": 850,         # Optional\n",
    "        \"streaming\": False,        # Optional\n",
    "        \"top_p\": 0.9,             # Optional\n",
    "        \"structured\": {\"type\": \"json\"}, # Optional, for JSON output\n",
    "\n",
    "        # Perplexity-specific parameters\n",
    "        \"search_domain_filter\": [\"example.com\", \"-excluded.com\"], # Optional, limit search domains\n",
    "        \"return_images\": False,             # Optional, include images in search results\n",
    "        \"return_related_questions\": True,  # Optional, return related questions\n",
    "        \"search_recency_filter\": \"week\",    # Optional, filter search by time ('day', 'week', 'month', 'year')\n",
    "        \"web_search_options\": {\"search_context_size\": \"high\"} # Optional, control search context ('low', 'medium', 'high')\n",
    "    }\n",
    ")\n",
    "\n",
    "# Now you can use the model instance\n",
    "messages = [{\"role\": \"user\", \"content\": \"What are the latest AI news?\"}]\n",
    "response = model.chat_complete(messages)\n",
    "print(response.choices[0].message.content)"
   ]
  }
 ],
 "metadata": {
  "kernelspec": {
   "display_name": ".venv",
   "language": "python",
   "name": "python3"
  },
  "language_info": {
   "codemirror_mode": {
    "name": "ipython",
    "version": 3
   },
   "file_extension": ".py",
   "mimetype": "text/x-python",
   "name": "python",
   "nbconvert_exporter": "python",
   "pygments_lexer": "ipython3",
   "version": "3.10.6"
  }
 },
 "nbformat": 4,
 "nbformat_minor": 5
}
