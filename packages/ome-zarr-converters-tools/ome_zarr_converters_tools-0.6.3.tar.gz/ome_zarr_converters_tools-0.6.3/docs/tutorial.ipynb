{
 "cells": [
  {
   "cell_type": "markdown",
   "id": "0",
   "metadata": {},
   "source": [
    "# Tutorial\n",
    "\n",
    "In this tutorial, we will walk through the process of creating a simple OME-Zarr converter. \n",
    "For this example we will use this [hiPSC 3D Tiny](https://zenodo.org/records/8287221)."
   ]
  },
  {
   "cell_type": "markdown",
   "id": "1",
   "metadata": {},
   "source": [
    "## Step 0: Parse the necessary metadata from the raw data\n",
    "OME-Zarr Converters Tools does not provide any tooling for this step, since it is highly dependent on the raw data format, instrument, and other factors.\n",
    "\n",
    "In the example dataset we have a single well, with two fields of view and two z-slices. \n",
    "\n",
    "To simplify the tutorial we have already pre-parsed the metadata and saved in:\n",
    "- `metadata.json` file with the global metadata for the dataset, like (pixel size, channel names, etc.).\n",
    "- `data/` a directory with the raw data files, which in this case are 4 PNG images (2 fields of view, 2 z-slices).\n",
    "- `tiles.csv` file with the metadata for each of the png files.\n",
    "\n",
    "These files are just an example, can adapt them to whatever format you prefer, as long as you can parse the necessary metadata from the raw data."
   ]
  },
  {
   "cell_type": "code",
   "execution_count": null,
   "id": "2",
   "metadata": {},
   "outputs": [],
   "source": [
    "import pandas as pd\n",
    "\n",
    "tiles_meta = pd.read_csv(\"../tests/hiPSC_Tiny/tiles.csv\")\n",
    "tiles_meta"
   ]
  },
  {
   "cell_type": "code",
   "execution_count": null,
   "id": "3",
   "metadata": {},
   "outputs": [],
   "source": [
    "import json\n",
    "from pprint import pprint\n",
    "\n",
    "with open(\"../tests/hiPSC_Tiny/metadata.json\") as f:\n",
    "    metadata = json.load(f)\n",
    "\n",
    "pprint(metadata)"
   ]
  },
  {
   "cell_type": "markdown",
   "id": "4",
   "metadata": {},
   "source": [
    "## Step 1: Create the TiledImage object\n",
    "\n",
    "- Group together the metadata for each `TiledImage` object. In this case we have a single `TiledImage` object, so we can just use the global metadata.\n",
    "- Create a `TiledImage` object with the metadata and the path to the raw data files."
   ]
  },
  {
   "cell_type": "code",
   "execution_count": null,
   "id": "5",
   "metadata": {},
   "outputs": [],
   "source": [
    "from ome_zarr_converters_tools import PlatePathBuilder, TiledImage\n",
    "\n",
    "tiled_image = TiledImage(\n",
    "    name=f\"{metadata.get('plate_name')}_B3_0\",\n",
    "    path_builder=PlatePathBuilder(\n",
    "        plate_name=metadata.get(\"plate_name\"),\n",
    "        row=\"B\",\n",
    "        column=3,\n",
    "        acquisition_id=0,\n",
    "    ),  # you can also use the SimplePathBuilder if the data is not path of a plate\n",
    "    channel_names=metadata.get(\"channel_names\", []),\n",
    "    wavelength_ids=metadata.get(\"wavelength_ids\", []),\n",
    ")\n",
    "tiled_image"
   ]
  },
  {
   "cell_type": "markdown",
   "id": "6",
   "metadata": {},
   "source": [
    "# Step 2: Create the Loader object\n",
    "\n",
    "We need to create a `Loader` object to load the raw data files.\n",
    "the `Loader` object should implement the `TileLoader` protocol, which defines the interface for loading the tile data.\n",
    "```python\n",
    "class TileLoader(Protocol):\n",
    "    \"\"\"Tile loader interface.\"\"\"\n",
    "\n",
    "    def load(self) -> np.ndarray | Array:\n",
    "        \"\"\"Load the tile data into a numpy array in the format (t, c, z, y, x).\"\"\"\n",
    "        ...\n",
    "\n",
    "    @property\n",
    "        def dtype(self) -> str:\n",
    "            \"\"\"Return the dtype of the tile.\"\"\"\n",
    "            ...\n",
    "```"
   ]
  },
  {
   "cell_type": "code",
   "execution_count": null,
   "id": "7",
   "metadata": {},
   "outputs": [],
   "source": [
    "import numpy as np\n",
    "import PIL.Image\n",
    "\n",
    "\n",
    "class PngLoader:\n",
    "    \"\"\"Png loader for tiled images.\"\"\"\n",
    "\n",
    "    def __init__(self, dir: str, paths: list[str]):\n",
    "        \"\"\"Initialize the PngLoader.\n",
    "\n",
    "        Args:\n",
    "            dir (str): Directory where the PNG files are located.\n",
    "            paths (list[str]): List of PNG file paths relative to the directory.\n",
    "        \"\"\"\n",
    "        self.dir = dir\n",
    "        self.paths = paths\n",
    "\n",
    "    def load(self) -> np.ndarray:\n",
    "        \"\"\"Load the PNG files and stack them into a numpy array.\"\"\"\n",
    "        arrays = []\n",
    "        for path in self.paths:\n",
    "            full_path = f\"{self.dir}/{path}\"\n",
    "            img = PIL.Image.open(full_path)\n",
    "            arrays.append(np.array(img))\n",
    "        stacked_arrays = np.stack(arrays, axis=0)[None, None, :, :, :]\n",
    "        return stacked_arrays\n",
    "\n",
    "    @property\n",
    "    def dtype(self):\n",
    "        \"\"\"Return the data type of the loaded images.\"\"\"\n",
    "        return \"uint8\""
   ]
  },
  {
   "cell_type": "markdown",
   "id": "8",
   "metadata": {},
   "source": [
    "# Step 3: Add the tiles to the TiledImage object\n",
    "* Now we need to add `Tiles` to our `TiledImage` object."
   ]
  },
  {
   "cell_type": "code",
   "execution_count": null,
   "id": "9",
   "metadata": {},
   "outputs": [],
   "source": [
    "# Aggregate together the tiles metadata\n",
    "agg_tiles_meta = tiles_meta.groupby([\"row\", \"column\", \"acquisition_id\", \"fov\"]).agg(\n",
    "    list\n",
    ")\n",
    "agg_tiles_meta"
   ]
  },
  {
   "cell_type": "code",
   "execution_count": null,
   "id": "10",
   "metadata": {},
   "outputs": [],
   "source": [
    "from ngio import PixelSize\n",
    "\n",
    "from ome_zarr_converters_tools import OriginDict, Point, Tile\n",
    "\n",
    "px_size_meta = metadata.get(\"pixel_size\", {})\n",
    "pixel_size = PixelSize(\n",
    "    x=px_size_meta.get(\"x\", 1),\n",
    "    y=px_size_meta.get(\"y\", 1),\n",
    "    z=px_size_meta.get(\"z\", 1),  # Assuming a constant pixel size in z\n",
    "    t=px_size_meta.get(\"t\", 1),  # Assuming a constant pixel size in t\n",
    ")\n",
    "\n",
    "for tile in agg_tiles_meta.itertuples():\n",
    "    # All tiles should have the same pos_x and pos_y\n",
    "    # This is a sanity check\n",
    "    assert all(tile.pos_x[0] == x for x in tile.pos_x)\n",
    "    assert all(tile.pos_y[0] == y for y in tile.pos_y)\n",
    "    pos_x, pos_y = tile.pos_x[0], tile.pos_y[0]\n",
    "    size_x = tile.shape_x[0] * pixel_size.x\n",
    "    size_y = tile.shape_y[0] * pixel_size.y\n",
    "\n",
    "    # Find top-left corner of the tile\n",
    "    min_t, min_z, min_c = min(tile.t), min(tile.z), min(tile.channel)\n",
    "    top_left = Point(\n",
    "        x=pos_x,\n",
    "        y=pos_y,\n",
    "        z=min_z,\n",
    "        t=min_t,\n",
    "        c=min_c,\n",
    "    )\n",
    "    # Find bottom-right corner of the tile\n",
    "    max_t, max_z, max_c = max(tile.t), max(tile.z), max(tile.channel)\n",
    "    bottom_right = Point(\n",
    "        x=pos_x + size_x,\n",
    "        y=pos_y + size_y,\n",
    "        t=int(\n",
    "            (max_t + 1) * pixel_size.t\n",
    "        ),  # +1 because we want to include the last pixel\n",
    "        z=(max_z + 1) * pixel_size.z,  # +1 because we want to include the last pixel\n",
    "        c=max_c + 1,\n",
    "    )\n",
    "    # Origin in this case is basically the top-left corner of the tile\n",
    "    # But in more complex case can be different\n",
    "    # For example t and z should be integer in the Point Object\n",
    "    # But here ideally we would like to have the original microscope position\n",
    "    origin = OriginDict(\n",
    "        x_micrometer_original=pos_x,\n",
    "        y_micrometer_original=pos_y,\n",
    "        z_micrometer_original=0,\n",
    "    )\n",
    "\n",
    "    # Create a loader object for the tile\n",
    "    loader = PngLoader(\"../tests/hiPSC_Tiny/data/\", tile.path)\n",
    "\n",
    "    tile_obj = Tile.from_points(\n",
    "        top_l=top_left,\n",
    "        bot_r=bottom_right,\n",
    "        pixel_size=PixelSize(\n",
    "            x=pixel_size.x, y=pixel_size.y, z=pixel_size.z, t=pixel_size.t\n",
    "        ),\n",
    "        origin=origin,\n",
    "        data_loader=loader,\n",
    "    )\n",
    "    tiled_image.add_tile(tile_obj)"
   ]
  },
  {
   "cell_type": "markdown",
   "id": "11",
   "metadata": {},
   "source": [
    "## Step 2: Setup the fractal task\n",
    "\n",
    "* `Init` task"
   ]
  },
  {
   "cell_type": "code",
   "execution_count": null,
   "id": "12",
   "metadata": {},
   "outputs": [],
   "source": [
    "from ome_zarr_converters_tools import (\n",
    "    AdvancedComputeOptions,\n",
    "    build_parallelization_list,\n",
    "    initiate_ome_zarr_plates,\n",
    ")\n",
    "\n",
    "# Build parallelization list for the compute phase\n",
    "parallelization_list = build_parallelization_list(\n",
    "    zarr_dir=\"./test_zarr\",\n",
    "    tiled_images=[tiled_image],\n",
    "    overwrite=True,\n",
    "    advanced_compute_options=AdvancedComputeOptions(),\n",
    ")\n",
    "\n",
    "# Initiate the OME-Zarr plates with the tiled image\n",
    "initiate_ome_zarr_plates(\n",
    "    zarr_dir=\"./test_zarr\",\n",
    "    tiled_images=[tiled_image],\n",
    "    overwrite=True,\n",
    ")"
   ]
  },
  {
   "cell_type": "markdown",
   "id": "13",
   "metadata": {},
   "source": [
    "* `Compute` task"
   ]
  },
  {
   "cell_type": "code",
   "execution_count": null,
   "id": "14",
   "metadata": {},
   "outputs": [],
   "source": [
    "from ome_zarr_converters_tools import ConvertParallelInitArgs, generic_compute_task\n",
    "\n",
    "for task in parallelization_list:\n",
    "    print(f\"Running task: {task}\")\n",
    "    generic_compute_task(\n",
    "        zarr_url=task[\"zarr_url\"],\n",
    "        init_args=ConvertParallelInitArgs(**task[\"init_args\"]),\n",
    "    )"
   ]
  },
  {
   "cell_type": "markdown",
   "id": "15",
   "metadata": {},
   "source": [
    "# Check the results"
   ]
  },
  {
   "cell_type": "code",
   "execution_count": null,
   "id": "16",
   "metadata": {},
   "outputs": [],
   "source": [
    "from ngio import open_ome_zarr_plate\n",
    "\n",
    "plate = open_ome_zarr_plate(\"./test_zarr/hiPSC_Tiny.zarr\")\n",
    "plate"
   ]
  },
  {
   "cell_type": "code",
   "execution_count": null,
   "id": "17",
   "metadata": {},
   "outputs": [],
   "source": [
    "container = plate.get_image(row=\"B\", column=3, image_path=\"0\")\n",
    "container"
   ]
  },
  {
   "cell_type": "code",
   "execution_count": null,
   "id": "18",
   "metadata": {},
   "outputs": [],
   "source": []
  }
 ],
 "metadata": {
  "kernelspec": {
   "display_name": "dev",
   "language": "python",
   "name": "python3"
  },
  "language_info": {
   "codemirror_mode": {
    "name": "ipython",
    "version": 3
   },
   "file_extension": ".py",
   "mimetype": "text/x-python",
   "name": "python",
   "nbconvert_exporter": "python",
   "pygments_lexer": "ipython3",
   "version": "3.12.10"
  }
 },
 "nbformat": 4,
 "nbformat_minor": 5
}
