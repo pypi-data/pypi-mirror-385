{
 "cells": [
  {
   "cell_type": "markdown",
   "id": "89ba777b-4729-4030-a186-ac51220e2632",
   "metadata": {},
   "source": [
    "# Adding Relation Information to Member Ways\n",
    "\n",
    "How to transfer information from a relation to its members.\n",
    "\n",
    "## Task\n",
    "\n",
    "Take the name and reference from all cycling routes and add it to the member ways of the route relation. Write out a new file with the added way information.\n",
    "\n",
    "## Quick Solution"
   ]
  },
  {
   "cell_type": "code",
   "execution_count": 1,
   "id": "867f6858-7ee6-4815-a676-6e58e5d4cde5",
   "metadata": {},
   "outputs": [],
   "source": [
    "import osmium\n",
    "from collections import defaultdict"
   ]
  },
  {
   "cell_type": "code",
   "execution_count": 2,
   "id": "c1872db8-11c1-485d-bb9b-0051567099ac",
   "metadata": {},
   "outputs": [],
   "source": [
    "fp = osmium.FileProcessor('../data/liechtenstein.osm.pbf', osmium.osm.RELATION)\\\n",
    "           .with_filter(osmium.filter.TagFilter(('type', 'route')))\\\n",
    "           .with_filter(osmium.filter.TagFilter(('route', 'bicycle')))\n",
    "\n",
    "routes = {}\n",
    "members = defaultdict(list)\n",
    "for rel in fp:\n",
    "    routes[rel.id] = (rel.tags.get('name', ''), rel.tags.get('ref', ''))\n",
    "    \n",
    "    for member in rel.members:\n",
    "        if member.type == 'w':\n",
    "            members[member.ref].append(rel.id)\n",
    "\n",
    "with osmium.SimpleWriter('../data/out/cycling.osm.opl', overwrite=True) as writer:\n",
    "    fp = osmium.FileProcessor('../data/liechtenstein.osm.pbf')\\\n",
    "               .with_filter(osmium.filter.IdFilter(members.keys()).enable_for(osmium.osm.WAY))\\\n",
    "               .handler_for_filtered(writer)\n",
    "\n",
    "    for way in fp:\n",
    "        assert all(i in routes for i in members[way.id])\n",
    "        # To add tags, first convert the tags into a Python dictionary.\n",
    "        tags = dict(way.tags)\n",
    "        tags['cycle_route:name'] = '|'.join(routes[i][0] for i in members[way.id])[:255]\n",
    "        tags['cycle_route:ref'] = '|'.join(routes[i][1] for i in members[way.id])[:255]\n",
    "        writer.add(way.replace(tags=tags))"
   ]
  },
  {
   "cell_type": "markdown",
   "id": "efb7cc9f-76c9-428e-a196-fd0fba50301d",
   "metadata": {},
   "source": [
    "## Background\n",
    "\n",
    "The objects in an OSM file are usually order by their type: first come nodes, then ways and finally relations. Given that pyosmium always scans files sequentially, it will be necessary to read the OSM file twice when you want to transfer information from relations to ways.\n",
    "\n",
    "The first pass is all about getting the information from the relations. There are two pieces of information to collect: the information about the relation itself and the information which relations a way belongs to. Lets start with collection the relation information:"
   ]
  },
  {
   "cell_type": "code",
   "execution_count": 3,
   "id": "9c105332-3f78-4ac6-8aec-f4b5c84782a8",
   "metadata": {},
   "outputs": [
    {
     "data": {
      "text/plain": [
       "'Found 13 routes.'"
      ]
     },
     "execution_count": 3,
     "metadata": {},
     "output_type": "execute_result"
    }
   ],
   "source": [
    "fp = osmium.FileProcessor('../data/liechtenstein.osm.pbf', osmium.osm.RELATION)\\\n",
    "           .with_filter(osmium.filter.TagFilter(('type', 'route')))\\\n",
    "           .with_filter(osmium.filter.TagFilter(('route', 'bicycle')))\n",
    "\n",
    "routes = {}\n",
    "for rel in fp:\n",
    "    routes[rel.id] = (rel.tags.get('name', ''), rel.tags.get('ref', ''))\n",
    "\n",
    "f\"Found {len(routes)} routes.\""
   ]
  },
  {
   "cell_type": "markdown",
   "id": "16d01528-12f7-455e-97e3-a65d4fbe515b",
   "metadata": {},
   "source": [
    "It is safe to restrict the FileProcessor to the RELATION type because we are only interested in relations and don't need geometry information. A cycling route comes with two mandatory tags in OSM, `type=route` and `route=bicycle`. To filter for relations that have _both_ tags in them, simply chain two TagFilters. Don't just use a single filter with two tags like this: `osmium.filter.TagFilter(('type', 'route'), ('route', 'bicycle'))`.  This would filter for relation that have either the route tag or the type tag. Not exactly what we want.\n",
    "\n",
    "For each relation that goes through the filter, save the information needed. Resist the temptation to simply save the complete relation. For one thing, a single relation can become quite large. But more importantly, pyosmium will not allow you to access the object anymore once the end of the loop iteraton is reached. You only ever see a temporary view of an object within the processing loop. You need to make a full copy of what you want to keep.\n",
    "\n",
    "Next we need to save the way-relation membership. This can be done in a simple dictionary. Just keep in mind that a single way can be in multiple relations. The member lookup needs to point to a list:"
   ]
  },
  {
   "cell_type": "code",
   "execution_count": 4,
   "id": "cea978d9-fbf9-42a7-9159-85ef7031a187",
   "metadata": {},
   "outputs": [
    {
     "data": {
      "text/plain": [
       "'Found 1023 ways that are part of a cycling relation.'"
      ]
     },
     "execution_count": 4,
     "metadata": {},
     "output_type": "execute_result"
    }
   ],
   "source": [
    "members = defaultdict(list)\n",
    "for rel in fp:\n",
    "    for member in rel.members:\n",
    "        if member.type == 'w':\n",
    "            members[member.ref].append(rel.id)\n",
    "\n",
    "f\"Found {len(members)} ways that are part of a cycling relation.\""
   ]
  },
  {
   "cell_type": "markdown",
   "id": "ee67f100-3585-42c0-94bf-6b4a7608d5db",
   "metadata": {},
   "source": [
    "This is all the information needed to add the cycling information to the ways. Now we can write out the enhanced cycling info file. Only the ways with relations on them need to be modified. So we use an IdFilter to process only these ways and forward all other objects directly to the writer. This works just the same as in the [Enhance-Tags cookbook](../Enhance-Tags.md):"
   ]
  },
  {
   "cell_type": "code",
   "execution_count": 6,
   "id": "e0116080-f6e3-4911-9454-12159992a0d8",
   "metadata": {},
   "outputs": [],
   "source": [
    "with osmium.SimpleWriter('../data/out/cycling.osm.opl', overwrite=True) as writer:\n",
    "    fp = osmium.FileProcessor('../data/liechtenstein.osm.pbf')\\\n",
    "               .with_filter(osmium.filter.IdFilter(members.keys()).enable_for(osmium.osm.WAY))\\\n",
    "               .handler_for_filtered(writer)\n",
    "\n",
    "    for way in fp:\n",
    "        assert all(i in routes for i in members[way.id])\n",
    "        # To add tags, first convert the tags into a Python dictionary.\n",
    "        tags = dict(way.tags)\n",
    "        tags['cycle_route:name'] = '|'.join(routes[i][0] for i in members[way.id])[:255]\n",
    "        tags['cycle_route:ref'] = '|'.join(routes[i][1] for i in members[way.id])[:255]\n",
    "        writer.add(way.replace(tags=tags))"
   ]
  }
 ],
 "metadata": {
  "kernelspec": {
   "display_name": "Python 3 (ipykernel)",
   "language": "python",
   "name": "python3"
  },
  "language_info": {
   "codemirror_mode": {
    "name": "ipython",
    "version": 3
   },
   "file_extension": ".py",
   "mimetype": "text/x-python",
   "name": "python",
   "nbconvert_exporter": "python",
   "pygments_lexer": "ipython3",
   "version": "3.11.2"
  }
 },
 "nbformat": 4,
 "nbformat_minor": 5
}
