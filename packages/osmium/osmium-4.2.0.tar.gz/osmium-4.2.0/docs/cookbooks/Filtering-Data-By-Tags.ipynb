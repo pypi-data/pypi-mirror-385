{
 "cells": [
  {
   "cell_type": "markdown",
   "id": "de4a5409-76ba-4767-b151-ce13f6439669",
   "metadata": {},
   "source": [
    "# Filtering an OSM File By Tags\n",
    "\n",
    "How to create a thematic extract from an OSM file.\n",
    "\n",
    "## Task\n",
    "\n",
    "Given the country extract of Liechtenstein, create a fully usable OSM file that only contains all the schools in the file.\n",
    "\n",
    "## Quick Solution"
   ]
  },
  {
   "cell_type": "code",
   "execution_count": 1,
   "id": "77c434f2-83c3-4b9c-b090-a80cde5df080",
   "metadata": {},
   "outputs": [],
   "source": [
    "import osmium"
   ]
  },
  {
   "cell_type": "code",
   "execution_count": 2,
   "id": "a7baa48f-0cb8-4f9c-b716-cf1adaa59aee",
   "metadata": {},
   "outputs": [],
   "source": [
    "fp = osmium.FileProcessor('../data/liechtenstein.osm.pbf').with_filter(osmium.filter.KeyFilter('amenity'))\n",
    "\n",
    "with osmium.BackReferenceWriter(\"../data/out/schools_full.osm.pbf\", ref_src='../data/liechtenstein.osm.pbf', overwrite=True) as writer:\n",
    "    for obj in fp:\n",
    "         if obj.tags['amenity'] == 'school':\n",
    "             writer.add(obj)"
   ]
  },
  {
   "cell_type": "markdown",
   "id": "1426f67d-8c7c-480b-af3e-9384c5d5f81e",
   "metadata": {},
   "source": [
    "When filtering objects from a file, it is important, to include all objects that are referenced by the filtered objects. The `BackReferenceWriter` collects the references and writes out a complete file."
   ]
  },
  {
   "cell_type": "markdown",
   "id": "2ac5f104-24d2-4524-a49d-4e43dce58315",
   "metadata": {},
   "source": [
    "## Background\n",
    "\n",
    "Filtering school objects from a file is fairly easy. We need a file processor for the target file which returns all objects with an `amenity` key:"
   ]
  },
  {
   "cell_type": "code",
   "execution_count": 3,
   "id": "2a9a196b-e9ba-4c2d-b0db-0a07b89a4ba6",
   "metadata": {},
   "outputs": [],
   "source": [
    "fp = osmium.FileProcessor('../data/liechtenstein.osm.pbf').with_filter(osmium.filter.KeyFilter('amenity'))"
   ]
  },
  {
   "cell_type": "markdown",
   "id": "49c354af-5b08-4b11-9aa3-83b6ce3c924f",
   "metadata": {},
   "source": [
    "The additional filtering for the `school` value can then be done in the processing loop.\n",
    "\n",
    "Lets first check how many school objects are there:"
   ]
  },
  {
   "cell_type": "code",
   "execution_count": 4,
   "id": "825f6742-96dd-4555-ab02-50496df48a4a",
   "metadata": {},
   "outputs": [
    {
     "data": {
      "text/plain": [
       "'Nodes: 3   Ways: 19  Relations: 1'"
      ]
     },
     "execution_count": 4,
     "metadata": {},
     "output_type": "execute_result"
    }
   ],
   "source": [
    "from collections import Counter\n",
    "\n",
    "cnt = Counter()\n",
    "\n",
    "for obj in fp:\n",
    "    if obj.tags['amenity'] == 'school':\n",
    "        cnt.update([obj.type_str()])\n",
    "\n",
    "f\"Nodes: {cnt['n']}   Ways: {cnt['w']}  Relations: {cnt['r']}\""
   ]
  },
  {
   "cell_type": "markdown",
   "id": "d1639455-8923-4199-829e-d8ffadeff147",
   "metadata": {},
   "source": [
    "The counter distinguishes by OSM object types. As we can see, schools exist as nodes (point geometries), ways (polygon geometries) and relations (multipolygon geometries). All of them need to appear in the output file.\n",
    "\n",
    "The simple solution seems to be to write them all out into a file:"
   ]
  },
  {
   "cell_type": "code",
   "execution_count": 5,
   "id": "62cd2b0f-634c-4cbd-8060-2c12b1772827",
   "metadata": {},
   "outputs": [],
   "source": [
    "with osmium.SimpleWriter('../data/out/schools.opl', overwrite=True) as writer:\n",
    "    for obj in fp:\n",
    "        if obj.tags['amenity'] == 'school':\n",
    "            writer.add(obj)"
   ]
  },
  {
   "cell_type": "markdown",
   "id": "71608e44-0961-4995-8fac-19c3b7a4a8a2",
   "metadata": {},
   "source": [
    "However, if you try to use the resulting file in another program, you may find that it complains that the data is incomplete. The schools that are saved as ways in the file reference nodes which are now missing. The school relation references ways which are missing. And these again reference nodes, which need to appear in the output file as well. The file needs to be made _referentially complete_.\n",
    "\n",
    "### Finding backward references manually\n",
    "\n",
    "Lets try to collect the IDs of the missing nodes and relation manually first. This helps to understand how the process works. In a first pass, we can simply collect all the IDs we encounter when processing the schools:"
   ]
  },
  {
   "cell_type": "code",
   "execution_count": 6,
   "id": "caa2bf26-e86e-4461-873e-26ed9089d54a",
   "metadata": {},
   "outputs": [
    {
     "data": {
      "text/plain": [
       "'Nodes: 325   Ways: 3  Relations: 0'"
      ]
     },
     "execution_count": 6,
     "metadata": {},
     "output_type": "execute_result"
    }
   ],
   "source": [
    "references = {'n': set(), 'w': set(), 'r': set()} # save references by their object type\n",
    "\n",
    "for obj in fp:\n",
    "    if obj.tags['amenity'] == 'school':\n",
    "        if obj.is_way():\n",
    "            references['n'].update(n.ref for n in obj.nodes)\n",
    "        elif obj.is_relation():\n",
    "            for member in obj.members:\n",
    "                references[member.type].add(member.ref)\n",
    "\n",
    "f\"Nodes: {len(references['n'])}   Ways: {len(references['w'])}  Relations: {len(references['r'])}\""
   ]
  },
  {
   "cell_type": "markdown",
   "id": "3da84764-9e73-450a-baa3-5005a4bdbad7",
   "metadata": {},
   "source": [
    "This gives us a set of all the direct references: the nodes of the school ways and and the ways in the school relations. We are still missing the indirect references: the nodes from the ways of the school relations. It is not possible to collect those while scanning the file for the first time. By the time the relations are scanned and we know which additional ways are of interest, the ways have already been read. We could cache all the node locations when scanning the ways in the file for the first time but that can become quite a lot of data to remember. It is faster to simply scan the file again once we know which ways are of interest:"
   ]
  },
  {
   "cell_type": "code",
   "execution_count": 7,
   "id": "378a3df8-4af1-4cef-9e8d-51c4c6f6eae9",
   "metadata": {},
   "outputs": [
    {
     "data": {
      "text/plain": [
       "'Nodes: 395   Ways: 3  Relations: 0'"
      ]
     },
     "execution_count": 7,
     "metadata": {},
     "output_type": "execute_result"
    }
   ],
   "source": [
    "for obj in osmium.FileProcessor('../data/liechtenstein.osm.pbf', osmium.osm.WAY):\n",
    "    if obj.id in references['w']:\n",
    "        references['n'].update(n.ref for n in obj.nodes)\n",
    "\n",
    "f\"Nodes: {len(references['n'])}   Ways: {len(references['w'])}  Relations: {len(references['r'])}\""
   ]
  },
  {
   "cell_type": "markdown",
   "id": "9d2a7d4b-0d7a-43c7-8214-33d6658e35cd",
   "metadata": {},
   "source": [
    "This time it is not possible to use a key filter because the ways that are part of the relations are not necessarily tagged with `amenity=school`. They might not have any tags at all. However, we can use a different trick and tell the file processor to only scan the ways in the file. This is the second parameter in the `FileProcessor()` constructor.\n",
    "\n",
    "After this second scan of the file, we know the IDs of all the objects that need to go into the output file. The data we are interested in doesn't have nested relations. When relations contain other relations, then another scan of the file is required to collect the triple indirection. This part shall be left as an exercise to the reader for now.\n",
    "\n",
    "Once all the necessary ids are collected, the objects needs to be extracted from the original file. This can be done with the IdFilter. It gets a list of all object IDs it is supposed to let pass. Given that we need nodes and ways from the original file, two filters are necessary:"
   ]
  },
  {
   "cell_type": "code",
   "execution_count": 8,
   "id": "9b33d939-a2fc-43fd-bd85-b263b05aa05f",
   "metadata": {},
   "outputs": [],
   "source": [
    "ref_fp = osmium.FileProcessor('../data/liechtenstein.osm.pbf', osmium.osm.NODE | osmium.osm.WAY)\\\n",
    "               .with_filter(osmium.filter.IdFilter(references['n']).enable_for(osmium.osm.NODE))\\\n",
    "               .with_filter(osmium.filter.IdFilter(references['w']).enable_for(osmium.osm.WAY))               "
   ]
  },
  {
   "cell_type": "markdown",
   "id": "841e0bc5-dec9-4632-8989-0ed27b7328dd",
   "metadata": {},
   "source": [
    "The data from this FileProcessor needs to be merged with the filtered data originally written out. We cannot just concatenate the two files because the order of elements matters. Most applications that process OSM data expect the elements in a well defined order: first nodes, then ways, then relations, all sorted by ID. When the input files are ordered correctly already, then the `zip_processors()` function can be used to iterate over multiple FileProcessors in parallel and write out the data:"
   ]
  },
  {
   "cell_type": "code",
   "execution_count": 9,
   "id": "81fd1ee2-a1c9-4694-9c0f-65b274971a0d",
   "metadata": {},
   "outputs": [],
   "source": [
    "filtered_fp = osmium.FileProcessor('../data/out/schools.opl')\n",
    "\n",
    "with osmium.SimpleWriter(f'../data/out/schools_full.osm.pbf', overwrite=True) as writer:\n",
    "    for filtered_obj, ref_obj in osmium.zip_processors(filtered_fp, ref_fp):\n",
    "        if filtered_obj:\n",
    "            writer.add(filtered_obj)\n",
    "        else:\n",
    "            writer.add(ref_obj.replace(tags={}))"
   ]
  },
  {
   "cell_type": "markdown",
   "id": "e8780aee-3c2c-4913-a445-e1a328aef676",
   "metadata": {},
   "source": [
    "This writes the data from the filtered file, if any exists and otherwise takes the data from the original file. Objects from the original files have their tags removed. This avoids to have unwanted first-class objects in your file. All additionally added objects now exist for the sole purpose of completing the ones you have filtered."
   ]
  },
  {
   "cell_type": "markdown",
   "id": "b08aa3e9-a99e-4caf-b84a-5ce15faa34f3",
   "metadata": {},
   "source": [
    "### Finding backward references with the IDTracker\n",
    "\n",
    "The `IDTracker` class will track backward references for you just like described in the last paragraph."
   ]
  },
  {
   "cell_type": "code",
   "execution_count": 11,
   "id": "bbec92fe-8f4a-484c-859b-5d6a2d9add8c",
   "metadata": {},
   "outputs": [],
   "source": [
    "references = osmium.IdTracker()\n",
    "\n",
    "with osmium.SimpleWriter(f'../data/out/schools.opl', overwrite=True) as writer:\n",
    "    for obj in fp:\n",
    "        if obj.tags['amenity'] == 'school':\n",
    "            writer.add(obj)\n",
    "            references.add_references(obj)\n",
    "\n",
    "references.complete_backward_references('../data/liechtenstein.osm.pbf', relation_depth=10)"
   ]
  },
  {
   "cell_type": "markdown",
   "id": "e04c9ad7-87e9-4f04-9bd8-d68819e2c4ee",
   "metadata": {},
   "source": [
    "The function `complete_backward_references()` repeatedly reads from the file to collect all referenced objects. In contrast to the more simple solution above, it can also collect references in nested relations. The `relation_depth` parameter controls how far the nesting should be followed. In this case, we have set it to 10 which should be sufficient even for the most complex relations in OSM. It is a good idea to not set this parameter too high because every level of depth requires an additional scan of the relations in the reference file.\n",
    "\n",
    "With all the IDs collected, the final file can be written out as above. IdTracker can directly pose as a filter to a FileProcessor, so that the code can be slightly simplified:"
   ]
  },
  {
   "cell_type": "code",
   "execution_count": 12,
   "id": "fd30c9b4-b196-4031-8bba-7d53edd691fe",
   "metadata": {},
   "outputs": [],
   "source": [
    "fp1 = osmium.FileProcessor('../data/out/schools.opl')\n",
    "fp2 = osmium.FileProcessor('../data/liechtenstein.osm.pbf').with_filter(references.id_filter())\n",
    "\n",
    "with osmium.SimpleWriter('../data/out/schools_full.opl', overwrite=True) as writer:\n",
    "    for o1, o2 in osmium.zip_processors(fp1, fp2):\n",
    "        if o1:\n",
    "            writer.add(o1)\n",
    "        else:\n",
    "            writer.add(o2.replace(tags={}))        "
   ]
  },
  {
   "cell_type": "markdown",
   "id": "7ead3b93-a1e7-4a99-be9a-626cdc3a638d",
   "metadata": {},
   "source": [
    "### Using BackReferenceWriter to collect references\n",
    "\n",
    "The BackReferenceWriter encapsulates a SimpleWriter and IdTracker and writes out the referenced objects, when `close()` is called. This reduces the task of filtering schools to the simple solution shown in the beginning."
   ]
  }
 ],
 "metadata": {
  "kernelspec": {
   "display_name": "Python 3 (ipykernel)",
   "language": "python",
   "name": "python3"
  },
  "language_info": {
   "codemirror_mode": {
    "name": "ipython",
    "version": 3
   },
   "file_extension": ".py",
   "mimetype": "text/x-python",
   "name": "python",
   "nbconvert_exporter": "python",
   "pygments_lexer": "ipython3",
   "version": "3.11.2"
  }
 },
 "nbformat": 4,
 "nbformat_minor": 5
}
