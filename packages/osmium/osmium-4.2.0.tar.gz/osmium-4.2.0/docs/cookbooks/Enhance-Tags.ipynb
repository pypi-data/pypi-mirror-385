{
 "cells": [
  {
   "cell_type": "markdown",
   "id": "44ce734c-4cff-41f3-8010-689a0e751957",
   "metadata": {},
   "source": [
    "# Enhancing Tags in an OSM File\n",
    "\n",
    "How to modify selected objects in an OSM file.\n",
    "\n",
    "## Task\n",
    "\n",
    "Localise the OSM file for the French language: when a `name:fr` tag is available, replace the `name` tag with it and save the original name in `name:local`.\n",
    "\n",
    "## Quick solution"
   ]
  },
  {
   "cell_type": "code",
   "execution_count": 1,
   "id": "1ab0f3a3-d3af-465b-8721-0cb7227f8c8d",
   "metadata": {},
   "outputs": [],
   "source": [
    "import osmium"
   ]
  },
  {
   "cell_type": "code",
   "execution_count": 2,
   "id": "907f5fc8-d95a-455b-9dfb-0055b5415fa6",
   "metadata": {},
   "outputs": [],
   "source": [
    "with osmium.SimpleWriter('../data/out/renamed.pbf', overwrite=True) as writer:\n",
    "    fp = osmium.FileProcessor('../data/liechtenstein.osm.pbf')\\\n",
    "               .with_filter(osmium.filter.KeyFilter('name:fr'))\\\n",
    "               .handler_for_filtered(writer)\n",
    "\n",
    "    for obj in fp:\n",
    "        # start with a set of tags without name:fr\n",
    "        tags = {k: v for k, v in obj.tags if k != 'name:fr'}\n",
    "        # replace the name tag with the French version\n",
    "        tags['name'] = obj.tags['name:fr']\n",
    "        # Save the original if it exists.\n",
    "        if 'name' in obj.tags:\n",
    "            tags['name:local'] = obj.tags['name']\n",
    "        # Write back the object with the modified tags\n",
    "        writer.add(obj.replace(tags=tags))"
   ]
  },
  {
   "cell_type": "markdown",
   "id": "49a73c9f-facc-453c-8769-f92f70095399",
   "metadata": {},
   "source": [
    "## Background\n",
    "\n",
    "To change selected tags in a file, it is necessary to read the file object by object, make changes as necessary and write back the data into a new file. This could be done with a simple FileProcessor (for reading the input file) that is combined with a SimpleWriter (for writing the output file):"
   ]
  },
  {
   "cell_type": "code",
   "execution_count": 3,
   "id": "39cc90e3-cd69-4973-85e5-9ad130ba40a3",
   "metadata": {},
   "outputs": [],
   "source": [
    "with osmium.SimpleWriter('../data/out/ele.osm.opl', overwrite=True) as writer:\n",
    "    for obj in osmium.FileProcessor('../data/liechtenstein.osm.pbf'):\n",
    "        if 'name:fr' in obj.tags:\n",
    "            tags = {k: v for k, v in obj.tags if k != 'name:fr'}\n",
    "            # ... do more stuff here\n",
    "            writer.add(obj.replace(tags=tags))\n",
    "        else:\n",
    "            writer.add(obj)"
   ]
  },
  {
   "cell_type": "markdown",
   "id": "e9a76a09-3f27-464d-b823-0e2ce5fde83e",
   "metadata": {},
   "source": [
    "If you run this code snippet on a large OSM file, it will take a very long time to execute. Even though we only want to change a handful of objects (all objects that have a `name:fr` tag), the FileProcessor needs to present every single object to the Python code in the loop because every single objects needs to be written in the output file. We need a way to tell the FileProcessor to directly write out all the objects that we are not inspecting in the for loop. This can be done with the `handler_for_filtered()` function. It allows to define a handler for all the objects, the `with_filter()` handlers have rejected. The SimpleWriter class can itself function as a handler. By setting it as the handler for filtered objects, they will be directly passed to the writer.\n",
    "\n",
    "With the SimpleWriter as fallback in place, we can now create a FileProcessor that filters for objects with a `name:fr` tag:"
   ]
  },
  {
   "cell_type": "code",
   "execution_count": 4,
   "id": "c7c02ede-cb5f-42e0-8f4c-7b8ce9d9a4f1",
   "metadata": {},
   "outputs": [
    {
     "name": "stdout",
     "output_type": "stream",
     "text": [
      "1932181216 has the French name Vaduz.\n",
      "3696525426 has the French name Liechtenstein.\n",
      "9798887324 has the French name Schweizerisches Generalkonsulat.\n",
      "159018431 has the French name Rhein.\n",
      "424375869 has the French name Rhein.\n",
      "8497 has the French name Rhein-Route.\n",
      "12464 has the French name Seen-Route.\n",
      "16239 has the French name Österreich.\n",
      "19664 has the French name Seen-Route - Etappe 9.\n",
      "27939 has the French name Cycling in Switzerland.\n",
      "51701 has the French name Schweiz/Suisse/Svizzera/Svizra.\n",
      "74942 has the French name Vorarlberg.\n",
      "102638 has the French name Rhein-Route - Etappe 3.\n",
      "102666 has the French name Österreich - Schweiz.\n",
      "102877 has the French name Österreich — Liechtenstein.\n",
      "123924 has the French name Rhein.\n",
      "302442 has the French name Schweizer Hauptstrassen.\n",
      "1155955 has the French name Liechtenstein.\n",
      "1550322 has the French name Österreich — Schweiz / Suisse / Svizzera.\n",
      "1665395 has the French name Via Alpina Red.\n",
      "1686631 has the French name Graubünden/Grischun/Grigioni.\n",
      "1687006 has the French name Sankt Gallen.\n",
      "2128682 has the French name Rätikon.\n",
      "2171555 has the French name EuroVelo 15 - Rheinradweg.\n",
      "2668952 has the French name European Union / Union Européenne / Europäische Union.\n",
      "2698607 has the French name Alps.\n",
      "11342353 has the French name Appenzeller Alpen.\n",
      "12579662 has the French name Via Alpina Green.\n",
      "12729625 has the French name Eurozone.\n",
      "13376469 has the French name Member States of the European Union / États members de l'Union européenne / Mitgliedstaaten der Europäischen Union.\n"
     ]
    }
   ],
   "source": [
    "with osmium.SimpleWriter('../data/out/buildings.opl', overwrite=True) as writer:\n",
    "    fp = osmium.FileProcessor('../data/liechtenstein.osm.pbf')\\\n",
    "               .with_filter(osmium.filter.KeyFilter('name:fr'))\\\n",
    "               .handler_for_filtered(writer)\n",
    "\n",
    "    for obj in fp:\n",
    "        print(f\"{obj.id} has the French name {obj.tags['name']}.\")"
   ]
  },
  {
   "cell_type": "markdown",
   "id": "434eea63-8ddd-4c74-864e-908a2cf1fba2",
   "metadata": {},
   "source": [
    "If you run this piece of code, you will notice that suddenly all objects with a French name are missing from output file. This happens because once a file is presented to Python, the SimpleWriter object doesn't see it anymore. You have to explicitly call one of the 'add' functions of the SimpleWriter to write the modified object. So the full code is:"
   ]
  },
  {
   "cell_type": "code",
   "execution_count": 5,
   "id": "d9f2ddc7-814d-460e-ad6e-8d9fd42475d2",
   "metadata": {},
   "outputs": [],
   "source": [
    "with osmium.SimpleWriter('../data/out/buildings.opl', overwrite=True) as writer:\n",
    "    fp = osmium.FileProcessor('../data/liechtenstein.osm.pbf')\\\n",
    "               .with_filter(osmium.filter.KeyFilter('name:fr'))\\\n",
    "               .handler_for_filtered(writer)\n",
    "    for obj in fp:\n",
    "        tags = {k: v for k, v in obj.tags if k != 'name:fr'}\n",
    "        # ... do more stuff here\n",
    "        writer.add(obj.replace(tags=tags))"
   ]
  }
 ],
 "metadata": {
  "kernelspec": {
   "display_name": "Python 3 (ipykernel)",
   "language": "python",
   "name": "python3"
  },
  "language_info": {
   "codemirror_mode": {
    "name": "ipython",
    "version": 3
   },
   "file_extension": ".py",
   "mimetype": "text/x-python",
   "name": "python",
   "nbconvert_exporter": "python",
   "pygments_lexer": "ipython3",
   "version": "3.11.2"
  }
 },
 "nbformat": 4,
 "nbformat_minor": 5
}
