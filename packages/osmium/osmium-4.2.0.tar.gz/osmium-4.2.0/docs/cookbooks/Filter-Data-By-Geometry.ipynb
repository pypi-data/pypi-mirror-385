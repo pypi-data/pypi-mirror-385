{
 "cells": [
  {
   "cell_type": "markdown",
   "id": "7b67f84a-968e-409f-8583-e576ac9ed265",
   "metadata": {},
   "source": [
    "# Filtering by Geometry\n",
    "\n",
    "How to create geographic extracts from an OSM file.\n",
    "\n",
    "## Task\n",
    "\n",
    "Given the country extract of Liechtenstein, extract all data that is within 2km of the coordinates 47.13,9.52. All objects inside the geographic area should be complete, meaning that complete geometries can be created for them.\n",
    "\n",
    "## Quick solution"
   ]
  },
  {
   "cell_type": "code",
   "execution_count": 1,
   "id": "21fcac74-acf5-4d6d-bcf8-120c024d1a82",
   "metadata": {},
   "outputs": [],
   "source": [
    "import osmium"
   ]
  },
  {
   "cell_type": "code",
   "execution_count": 9,
   "id": "a80342da-0d78-4ca3-bf87-ed36f54f14e6",
   "metadata": {},
   "outputs": [],
   "source": [
    "with osmium.ForwardReferenceWriter('../data/out/centre.osm.pbf',\n",
    "                                   '../data/liechtenstein.osm.pbf', overwrite=True) as writer:\n",
    "    for obj in osmium.FileProcessor('../data/liechtenstein.osm.pbf', osmium.osm.NODE):\n",
    "        if osmium.geom.haversine_distance(osmium.osm.Location(9.52, 47.13), obj.location) < 2000:\n",
    "            writer.add_node(obj)"
   ]
  },
  {
   "cell_type": "markdown",
   "id": "d3a1c198-d00e-4479-8232-5ceee1545ff3",
   "metadata": {},
   "source": [
    "## Background\n",
    "\n",
    "OSM data is not a simple selection of geometries. In an OSM data file only the OSM nodes have a location. All other OSM object are made up of OSM nodes or other OSM objects. To find out where an OSM way or relation is located on the planet, it is necessary to go back to the nodes it references.\n",
    "\n",
    "For the task at hand this means that any filtering by geometry needs to start with the OSM nodes. Lets start with a simple script that writes out all the nodes within the circle defined in the task:"
   ]
  },
  {
   "cell_type": "code",
   "execution_count": 3,
   "id": "012b6ac6-0589-49b8-8410-531dbd4db749",
   "metadata": {},
   "outputs": [],
   "source": [
    "with osmium.SimpleWriter('../data/out/centre.opl', overwrite=True) as writer:\n",
    "    for obj in osmium.FileProcessor('../data/liechtenstein.osm.pbf', osmium.osm.NODE):\n",
    "        if osmium.geom.haversine_distance(osmium.osm.Location(9.52, 47.13), obj.location) < 2000:\n",
    "            writer.add_node(obj)"
   ]
  },
  {
   "cell_type": "markdown",
   "id": "12e5b7e0-1851-4a5b-b402-4302fac031aa",
   "metadata": {},
   "source": [
    "The FileProcessor reads the data and SimpleWriter writes the nodes out that we are interested in. Given that we are looking at nodes only, the FileProcessor can be restricted to that type. For one thing, this makes processing faster. For another it means, we don't have to explicitly check for the type of the object within the for loop. We can trust that only nodes will be returned. Checking if a node should be included in the output file is a simple matter of computing the distance between the target coordinates and the location of the node. pyosmium has a convenient function `haversine_distance()` for that. It computes the distance between two points in meters.\n",
    "\n",
    "This gives us a file with nodes. But what about the ways and relations? To find out which ones to include, we need to follow the _forward references_. Given the IDs of the nodes already included in the file, we need to find the ways which reference any of the nodes. And then we need to find relations which reference either nodes already included or one of the newly found ways. Luckily for us, OSM files are ordered by node, way and relations. So by the time the FileProcessor sees the first way, it will already have seen all the nodes and it can make an informed decision, if the way needs including or not. The same is true for relations. They are last in the file, so all the node and way members have been processed already. The situation is more complicated with relation members and nested relations. We leave those out for the moment.\n",
    "\n",
    "Given that nodes, ways and relations need to be handled differently and we need to carry quite a bit of state, it is easier to implement the forward referencing collector as a [handler class](../../user_manual/05-Working-with-Handlers.md):"
   ]
  },
  {
   "cell_type": "code",
   "execution_count": 6,
   "id": "fd22c7b7-6c1c-4ee5-b314-3ce7eeb1cc83",
   "metadata": {},
   "outputs": [],
   "source": [
    "class CoordHandler:\n",
    "    def __init__(self, coord, dist, writer):\n",
    "        self.center = osmium.osm.Location(*coord)\n",
    "        self.dist = dist\n",
    "        self.writer = writer\n",
    "        self.id_tracker = osmium.IdTracker()\n",
    "        \n",
    "    def node(self, n):\n",
    "        if osmium.geom.haversine_distance(self.center, n.location) <= self.dist:\n",
    "            self.writer.add_node(n)\n",
    "            self.id_tracker.add_node(n.id)\n",
    "\n",
    "    def way(self, w):\n",
    "        if self.id_tracker.contains_any_references(w):\n",
    "            self.writer.add_way(w)\n",
    "            self.id_tracker.add_way(w.id)\n",
    "\n",
    "    def relation(self, r):\n",
    "        if self.id_tracker.contains_any_references(r):\n",
    "            self.writer.add_relation(r)"
   ]
  },
  {
   "cell_type": "markdown",
   "id": "05315006-d70f-40aa-9cd7-502aec5ecd49",
   "metadata": {},
   "source": [
    "The `IdTracker` class helps to keep track of all the objects that appear in the file. Every time a node or way is written, its ID is recorded. Tracking relation IDs would only be necessary for nested relations. The IDTracker gives us also a convenient function `contains_any_reference()` which checks if any of the IDs it is tracking is needed by the given object. If that is the case, the object needs to be written out.\n",
    "\n",
    "This is almost it. To get a referentially complete output file, we also need to add the objects that are referenced by the ways and relations we have added. This can be easily achieved by using the `BackReferenceWriter` in place of the `SimpleWriter`:"
   ]
  },
  {
   "cell_type": "code",
   "execution_count": 7,
   "id": "626ee34e-2d85-420e-bbf6-e76b87ff5ba0",
   "metadata": {},
   "outputs": [],
   "source": [
    "with osmium.BackReferenceWriter('../data/out/centre.osm.pbf', ref_src='../data/liechtenstein.osm.pbf', overwrite=True) as writer:\n",
    "    osmium.apply('../data/liechtenstein.osm.pbf', CoordHandler((9.52, 47.13), 2000, writer))"
   ]
  },
  {
   "cell_type": "markdown",
   "id": "c5f95b13-c2b5-4419-8b40-05ad85ab80ce",
   "metadata": {},
   "source": [
    "To learn more about adding backward references, have a look at the cookbook on [Filtering By Tags](../Filtering-Data-By-Tags.ipynb).\n",
    "\n",
    "The `ForwardReferenceWriter` helps to automate most of what we have just done manually. It is a replacement for the `SimpleWriter` which collects the forward references under the hood. It will first collects the OSM data that should be written in a temporary file. When the writer is closed, it adds the forward references from a reference file. This means, the `ForwardReferenceWriter` needs two mandatory parameters to be instantiated: the name of the file to write to and the name of the file to copy the referenced data from:"
   ]
  },
  {
   "cell_type": "code",
   "execution_count": 8,
   "id": "553e9519-1699-41a8-8a8a-d8c3ab586922",
   "metadata": {},
   "outputs": [],
   "source": [
    "writer = osmium.ForwardReferenceWriter('../data/out/centre.osm.pbf', '../data/liechtenstein.osm.pbf', overwrite=True)"
   ]
  },
  {
   "cell_type": "markdown",
   "id": "08352ef4-34e7-4886-b2b8-187575b3d387",
   "metadata": {},
   "source": [
    "The writer will by default also add the necessary objects to make the file reference-complete. The writer can now replace the SimpleWriter in the code with the first attempt, resulting in the final solution shown in the Quick Solution."
   ]
  }
 ],
 "metadata": {
  "kernelspec": {
   "display_name": "Python 3 (ipykernel)",
   "language": "python",
   "name": "python3"
  },
  "language_info": {
   "codemirror_mode": {
    "name": "ipython",
    "version": 3
   },
   "file_extension": ".py",
   "mimetype": "text/x-python",
   "name": "python",
   "nbconvert_exporter": "python",
   "pygments_lexer": "ipython3",
   "version": "3.11.2"
  }
 },
 "nbformat": 4,
 "nbformat_minor": 5
}
